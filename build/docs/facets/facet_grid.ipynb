<!DOCTYPE html>
<html>
<head><meta charset="utf-8" />
<title>facet_grid</title>

<script src="https://cdnjs.cloudflare.com/ajax/libs/require.js/2.1.10/require.min.js"></script>
<script src="https://cdnjs.cloudflare.com/ajax/libs/jquery/2.0.3/jquery.min.js"></script>

<style type="text/css">
    /*!
*
* Twitter Bootstrap
*
*/
/*!
 * Bootstrap v3.3.6 (http://getbootstrap.com)
 * Copyright 2011-2015 Twitter, Inc.
 * Licensed under MIT (https://github.com/twbs/bootstrap/blob/master/LICENSE)
 */
/*! normalize.css v3.0.3 | MIT License | github.com/necolas/normalize.css */
html {
  font-family: sans-serif;
  -ms-text-size-adjust: 100%;
  -webkit-text-size-adjust: 100%;
}
body {
  margin: 0;
}
article,
aside,
details,
figcaption,
figure,
footer,
header,
hgroup,
main,
menu,
nav,
section,
summary {
  display: block;
}
audio,
canvas,
progress,
video {
  display: inline-block;
  vertical-align: baseline;
}
audio:not([controls]) {
  display: none;
  height: 0;
}
[hidden],
template {
  display: none;
}
a {
  background-color: transparent;
}
a:active,
a:hover {
  outline: 0;
}
abbr[title] {
  border-bottom: 1px dotted;
}
b,
strong {
  font-weight: bold;
}
dfn {
  font-style: italic;
}
h1 {
  font-size: 2em;
  margin: 0.67em 0;
}
mark {
  background: #ff0;
  color: #000;
}
small {
  font-size: 80%;
}
sub,
sup {
  font-size: 75%;
  line-height: 0;
  position: relative;
  vertical-align: baseline;
}
sup {
  top: -0.5em;
}
sub {
  bottom: -0.25em;
}
img {
  border: 0;
}
svg:not(:root) {
  overflow: hidden;
}
figure {
  margin: 1em 40px;
}
hr {
  box-sizing: content-box;
  height: 0;
}
pre {
  overflow: auto;
}
code,
kbd,
pre,
samp {
  font-family: monospace, monospace;
  font-size: 1em;
}
button,
input,
optgroup,
select,
textarea {
  color: inherit;
  font: inherit;
  margin: 0;
}
button {
  overflow: visible;
}
button,
select {
  text-transform: none;
}
button,
html input[type="button"],
input[type="reset"],
input[type="submit"] {
  -webkit-appearance: button;
  cursor: pointer;
}
button[disabled],
html input[disabled] {
  cursor: default;
}
button::-moz-focus-inner,
input::-moz-focus-inner {
  border: 0;
  padding: 0;
}
input {
  line-height: normal;
}
input[type="checkbox"],
input[type="radio"] {
  box-sizing: border-box;
  padding: 0;
}
input[type="number"]::-webkit-inner-spin-button,
input[type="number"]::-webkit-outer-spin-button {
  height: auto;
}
input[type="search"] {
  -webkit-appearance: textfield;
  box-sizing: content-box;
}
input[type="search"]::-webkit-search-cancel-button,
input[type="search"]::-webkit-search-decoration {
  -webkit-appearance: none;
}
fieldset {
  border: 1px solid #c0c0c0;
  margin: 0 2px;
  padding: 0.35em 0.625em 0.75em;
}
legend {
  border: 0;
  padding: 0;
}
textarea {
  overflow: auto;
}
optgroup {
  font-weight: bold;
}
table {
  border-collapse: collapse;
  border-spacing: 0;
}
td,
th {
  padding: 0;
}
/*! Source: https://github.com/h5bp/html5-boilerplate/blob/master/src/css/main.css */
@media print {
  *,
  *:before,
  *:after {
    background: transparent !important;
    color: #000 !important;
    box-shadow: none !important;
    text-shadow: none !important;
  }
  a,
  a:visited {
    text-decoration: underline;
  }
  a[href]:after {
    content: " (" attr(href) ")";
  }
  abbr[title]:after {
    content: " (" attr(title) ")";
  }
  a[href^="#"]:after,
  a[href^="javascript:"]:after {
    content: "";
  }
  pre,
  blockquote {
    border: 1px solid #999;
    page-break-inside: avoid;
  }
  thead {
    display: table-header-group;
  }
  tr,
  img {
    page-break-inside: avoid;
  }
  img {
    max-width: 100% !important;
  }
  p,
  h2,
  h3 {
    orphans: 3;
    widows: 3;
  }
  h2,
  h3 {
    page-break-after: avoid;
  }
  .navbar {
    display: none;
  }
  .btn > .caret,
  .dropup > .btn > .caret {
    border-top-color: #000 !important;
  }
  .label {
    border: 1px solid #000;
  }
  .table {
    border-collapse: collapse !important;
  }
  .table td,
  .table th {
    background-color: #fff !important;
  }
  .table-bordered th,
  .table-bordered td {
    border: 1px solid #ddd !important;
  }
}
@font-face {
  font-family: 'Glyphicons Halflings';
  src: url('../components/bootstrap/fonts/glyphicons-halflings-regular.eot');
  src: url('../components/bootstrap/fonts/glyphicons-halflings-regular.eot?#iefix') format('embedded-opentype'), url('../components/bootstrap/fonts/glyphicons-halflings-regular.woff2') format('woff2'), url('../components/bootstrap/fonts/glyphicons-halflings-regular.woff') format('woff'), url('../components/bootstrap/fonts/glyphicons-halflings-regular.ttf') format('truetype'), url('../components/bootstrap/fonts/glyphicons-halflings-regular.svg#glyphicons_halflingsregular') format('svg');
}
.glyphicon {
  position: relative;
  top: 1px;
  display: inline-block;
  font-family: 'Glyphicons Halflings';
  font-style: normal;
  font-weight: normal;
  line-height: 1;
  -webkit-font-smoothing: antialiased;
  -moz-osx-font-smoothing: grayscale;
}
.glyphicon-asterisk:before {
  content: "\002a";
}
.glyphicon-plus:before {
  content: "\002b";
}
.glyphicon-euro:before,
.glyphicon-eur:before {
  content: "\20ac";
}
.glyphicon-minus:before {
  content: "\2212";
}
.glyphicon-cloud:before {
  content: "\2601";
}
.glyphicon-envelope:before {
  content: "\2709";
}
.glyphicon-pencil:before {
  content: "\270f";
}
.glyphicon-glass:before {
  content: "\e001";
}
.glyphicon-music:before {
  content: "\e002";
}
.glyphicon-search:before {
  content: "\e003";
}
.glyphicon-heart:before {
  content: "\e005";
}
.glyphicon-star:before {
  content: "\e006";
}
.glyphicon-star-empty:before {
  content: "\e007";
}
.glyphicon-user:before {
  content: "\e008";
}
.glyphicon-film:before {
  content: "\e009";
}
.glyphicon-th-large:before {
  content: "\e010";
}
.glyphicon-th:before {
  content: "\e011";
}
.glyphicon-th-list:before {
  content: "\e012";
}
.glyphicon-ok:before {
  content: "\e013";
}
.glyphicon-remove:before {
  content: "\e014";
}
.glyphicon-zoom-in:before {
  content: "\e015";
}
.glyphicon-zoom-out:before {
  content: "\e016";
}
.glyphicon-off:before {
  content: "\e017";
}
.glyphicon-signal:before {
  content: "\e018";
}
.glyphicon-cog:before {
  content: "\e019";
}
.glyphicon-trash:before {
  content: "\e020";
}
.glyphicon-home:before {
  content: "\e021";
}
.glyphicon-file:before {
  content: "\e022";
}
.glyphicon-time:before {
  content: "\e023";
}
.glyphicon-road:before {
  content: "\e024";
}
.glyphicon-download-alt:before {
  content: "\e025";
}
.glyphicon-download:before {
  content: "\e026";
}
.glyphicon-upload:before {
  content: "\e027";
}
.glyphicon-inbox:before {
  content: "\e028";
}
.glyphicon-play-circle:before {
  content: "\e029";
}
.glyphicon-repeat:before {
  content: "\e030";
}
.glyphicon-refresh:before {
  content: "\e031";
}
.glyphicon-list-alt:before {
  content: "\e032";
}
.glyphicon-lock:before {
  content: "\e033";
}
.glyphicon-flag:before {
  content: "\e034";
}
.glyphicon-headphones:before {
  content: "\e035";
}
.glyphicon-volume-off:before {
  content: "\e036";
}
.glyphicon-volume-down:before {
  content: "\e037";
}
.glyphicon-volume-up:before {
  content: "\e038";
}
.glyphicon-qrcode:before {
  content: "\e039";
}
.glyphicon-barcode:before {
  content: "\e040";
}
.glyphicon-tag:before {
  content: "\e041";
}
.glyphicon-tags:before {
  content: "\e042";
}
.glyphicon-book:before {
  content: "\e043";
}
.glyphicon-bookmark:before {
  content: "\e044";
}
.glyphicon-print:before {
  content: "\e045";
}
.glyphicon-camera:before {
  content: "\e046";
}
.glyphicon-font:before {
  content: "\e047";
}
.glyphicon-bold:before {
  content: "\e048";
}
.glyphicon-italic:before {
  content: "\e049";
}
.glyphicon-text-height:before {
  content: "\e050";
}
.glyphicon-text-width:before {
  content: "\e051";
}
.glyphicon-align-left:before {
  content: "\e052";
}
.glyphicon-align-center:before {
  content: "\e053";
}
.glyphicon-align-right:before {
  content: "\e054";
}
.glyphicon-align-justify:before {
  content: "\e055";
}
.glyphicon-list:before {
  content: "\e056";
}
.glyphicon-indent-left:before {
  content: "\e057";
}
.glyphicon-indent-right:before {
  content: "\e058";
}
.glyphicon-facetime-video:before {
  content: "\e059";
}
.glyphicon-picture:before {
  content: "\e060";
}
.glyphicon-map-marker:before {
  content: "\e062";
}
.glyphicon-adjust:before {
  content: "\e063";
}
.glyphicon-tint:before {
  content: "\e064";
}
.glyphicon-edit:before {
  content: "\e065";
}
.glyphicon-share:before {
  content: "\e066";
}
.glyphicon-check:before {
  content: "\e067";
}
.glyphicon-move:before {
  content: "\e068";
}
.glyphicon-step-backward:before {
  content: "\e069";
}
.glyphicon-fast-backward:before {
  content: "\e070";
}
.glyphicon-backward:before {
  content: "\e071";
}
.glyphicon-play:before {
  content: "\e072";
}
.glyphicon-pause:before {
  content: "\e073";
}
.glyphicon-stop:before {
  content: "\e074";
}
.glyphicon-forward:before {
  content: "\e075";
}
.glyphicon-fast-forward:before {
  content: "\e076";
}
.glyphicon-step-forward:before {
  content: "\e077";
}
.glyphicon-eject:before {
  content: "\e078";
}
.glyphicon-chevron-left:before {
  content: "\e079";
}
.glyphicon-chevron-right:before {
  content: "\e080";
}
.glyphicon-plus-sign:before {
  content: "\e081";
}
.glyphicon-minus-sign:before {
  content: "\e082";
}
.glyphicon-remove-sign:before {
  content: "\e083";
}
.glyphicon-ok-sign:before {
  content: "\e084";
}
.glyphicon-question-sign:before {
  content: "\e085";
}
.glyphicon-info-sign:before {
  content: "\e086";
}
.glyphicon-screenshot:before {
  content: "\e087";
}
.glyphicon-remove-circle:before {
  content: "\e088";
}
.glyphicon-ok-circle:before {
  content: "\e089";
}
.glyphicon-ban-circle:before {
  content: "\e090";
}
.glyphicon-arrow-left:before {
  content: "\e091";
}
.glyphicon-arrow-right:before {
  content: "\e092";
}
.glyphicon-arrow-up:before {
  content: "\e093";
}
.glyphicon-arrow-down:before {
  content: "\e094";
}
.glyphicon-share-alt:before {
  content: "\e095";
}
.glyphicon-resize-full:before {
  content: "\e096";
}
.glyphicon-resize-small:before {
  content: "\e097";
}
.glyphicon-exclamation-sign:before {
  content: "\e101";
}
.glyphicon-gift:before {
  content: "\e102";
}
.glyphicon-leaf:before {
  content: "\e103";
}
.glyphicon-fire:before {
  content: "\e104";
}
.glyphicon-eye-open:before {
  content: "\e105";
}
.glyphicon-eye-close:before {
  content: "\e106";
}
.glyphicon-warning-sign:before {
  content: "\e107";
}
.glyphicon-plane:before {
  content: "\e108";
}
.glyphicon-calendar:before {
  content: "\e109";
}
.glyphicon-random:before {
  content: "\e110";
}
.glyphicon-comment:before {
  content: "\e111";
}
.glyphicon-magnet:before {
  content: "\e112";
}
.glyphicon-chevron-up:before {
  content: "\e113";
}
.glyphicon-chevron-down:before {
  content: "\e114";
}
.glyphicon-retweet:before {
  content: "\e115";
}
.glyphicon-shopping-cart:before {
  content: "\e116";
}
.glyphicon-folder-close:before {
  content: "\e117";
}
.glyphicon-folder-open:before {
  content: "\e118";
}
.glyphicon-resize-vertical:before {
  content: "\e119";
}
.glyphicon-resize-horizontal:before {
  content: "\e120";
}
.glyphicon-hdd:before {
  content: "\e121";
}
.glyphicon-bullhorn:before {
  content: "\e122";
}
.glyphicon-bell:before {
  content: "\e123";
}
.glyphicon-certificate:before {
  content: "\e124";
}
.glyphicon-thumbs-up:before {
  content: "\e125";
}
.glyphicon-thumbs-down:before {
  content: "\e126";
}
.glyphicon-hand-right:before {
  content: "\e127";
}
.glyphicon-hand-left:before {
  content: "\e128";
}
.glyphicon-hand-up:before {
  content: "\e129";
}
.glyphicon-hand-down:before {
  content: "\e130";
}
.glyphicon-circle-arrow-right:before {
  content: "\e131";
}
.glyphicon-circle-arrow-left:before {
  content: "\e132";
}
.glyphicon-circle-arrow-up:before {
  content: "\e133";
}
.glyphicon-circle-arrow-down:before {
  content: "\e134";
}
.glyphicon-globe:before {
  content: "\e135";
}
.glyphicon-wrench:before {
  content: "\e136";
}
.glyphicon-tasks:before {
  content: "\e137";
}
.glyphicon-filter:before {
  content: "\e138";
}
.glyphicon-briefcase:before {
  content: "\e139";
}
.glyphicon-fullscreen:before {
  content: "\e140";
}
.glyphicon-dashboard:before {
  content: "\e141";
}
.glyphicon-paperclip:before {
  content: "\e142";
}
.glyphicon-heart-empty:before {
  content: "\e143";
}
.glyphicon-link:before {
  content: "\e144";
}
.glyphicon-phone:before {
  content: "\e145";
}
.glyphicon-pushpin:before {
  content: "\e146";
}
.glyphicon-usd:before {
  content: "\e148";
}
.glyphicon-gbp:before {
  content: "\e149";
}
.glyphicon-sort:before {
  content: "\e150";
}
.glyphicon-sort-by-alphabet:before {
  content: "\e151";
}
.glyphicon-sort-by-alphabet-alt:before {
  content: "\e152";
}
.glyphicon-sort-by-order:before {
  content: "\e153";
}
.glyphicon-sort-by-order-alt:before {
  content: "\e154";
}
.glyphicon-sort-by-attributes:before {
  content: "\e155";
}
.glyphicon-sort-by-attributes-alt:before {
  content: "\e156";
}
.glyphicon-unchecked:before {
  content: "\e157";
}
.glyphicon-expand:before {
  content: "\e158";
}
.glyphicon-collapse-down:before {
  content: "\e159";
}
.glyphicon-collapse-up:before {
  content: "\e160";
}
.glyphicon-log-in:before {
  content: "\e161";
}
.glyphicon-flash:before {
  content: "\e162";
}
.glyphicon-log-out:before {
  content: "\e163";
}
.glyphicon-new-window:before {
  content: "\e164";
}
.glyphicon-record:before {
  content: "\e165";
}
.glyphicon-save:before {
  content: "\e166";
}
.glyphicon-open:before {
  content: "\e167";
}
.glyphicon-saved:before {
  content: "\e168";
}
.glyphicon-import:before {
  content: "\e169";
}
.glyphicon-export:before {
  content: "\e170";
}
.glyphicon-send:before {
  content: "\e171";
}
.glyphicon-floppy-disk:before {
  content: "\e172";
}
.glyphicon-floppy-saved:before {
  content: "\e173";
}
.glyphicon-floppy-remove:before {
  content: "\e174";
}
.glyphicon-floppy-save:before {
  content: "\e175";
}
.glyphicon-floppy-open:before {
  content: "\e176";
}
.glyphicon-credit-card:before {
  content: "\e177";
}
.glyphicon-transfer:before {
  content: "\e178";
}
.glyphicon-cutlery:before {
  content: "\e179";
}
.glyphicon-header:before {
  content: "\e180";
}
.glyphicon-compressed:before {
  content: "\e181";
}
.glyphicon-earphone:before {
  content: "\e182";
}
.glyphicon-phone-alt:before {
  content: "\e183";
}
.glyphicon-tower:before {
  content: "\e184";
}
.glyphicon-stats:before {
  content: "\e185";
}
.glyphicon-sd-video:before {
  content: "\e186";
}
.glyphicon-hd-video:before {
  content: "\e187";
}
.glyphicon-subtitles:before {
  content: "\e188";
}
.glyphicon-sound-stereo:before {
  content: "\e189";
}
.glyphicon-sound-dolby:before {
  content: "\e190";
}
.glyphicon-sound-5-1:before {
  content: "\e191";
}
.glyphicon-sound-6-1:before {
  content: "\e192";
}
.glyphicon-sound-7-1:before {
  content: "\e193";
}
.glyphicon-copyright-mark:before {
  content: "\e194";
}
.glyphicon-registration-mark:before {
  content: "\e195";
}
.glyphicon-cloud-download:before {
  content: "\e197";
}
.glyphicon-cloud-upload:before {
  content: "\e198";
}
.glyphicon-tree-conifer:before {
  content: "\e199";
}
.glyphicon-tree-deciduous:before {
  content: "\e200";
}
.glyphicon-cd:before {
  content: "\e201";
}
.glyphicon-save-file:before {
  content: "\e202";
}
.glyphicon-open-file:before {
  content: "\e203";
}
.glyphicon-level-up:before {
  content: "\e204";
}
.glyphicon-copy:before {
  content: "\e205";
}
.glyphicon-paste:before {
  content: "\e206";
}
.glyphicon-alert:before {
  content: "\e209";
}
.glyphicon-equalizer:before {
  content: "\e210";
}
.glyphicon-king:before {
  content: "\e211";
}
.glyphicon-queen:before {
  content: "\e212";
}
.glyphicon-pawn:before {
  content: "\e213";
}
.glyphicon-bishop:before {
  content: "\e214";
}
.glyphicon-knight:before {
  content: "\e215";
}
.glyphicon-baby-formula:before {
  content: "\e216";
}
.glyphicon-tent:before {
  content: "\26fa";
}
.glyphicon-blackboard:before {
  content: "\e218";
}
.glyphicon-bed:before {
  content: "\e219";
}
.glyphicon-apple:before {
  content: "\f8ff";
}
.glyphicon-erase:before {
  content: "\e221";
}
.glyphicon-hourglass:before {
  content: "\231b";
}
.glyphicon-lamp:before {
  content: "\e223";
}
.glyphicon-duplicate:before {
  content: "\e224";
}
.glyphicon-piggy-bank:before {
  content: "\e225";
}
.glyphicon-scissors:before {
  content: "\e226";
}
.glyphicon-bitcoin:before {
  content: "\e227";
}
.glyphicon-btc:before {
  content: "\e227";
}
.glyphicon-xbt:before {
  content: "\e227";
}
.glyphicon-yen:before {
  content: "\00a5";
}
.glyphicon-jpy:before {
  content: "\00a5";
}
.glyphicon-ruble:before {
  content: "\20bd";
}
.glyphicon-rub:before {
  content: "\20bd";
}
.glyphicon-scale:before {
  content: "\e230";
}
.glyphicon-ice-lolly:before {
  content: "\e231";
}
.glyphicon-ice-lolly-tasted:before {
  content: "\e232";
}
.glyphicon-education:before {
  content: "\e233";
}
.glyphicon-option-horizontal:before {
  content: "\e234";
}
.glyphicon-option-vertical:before {
  content: "\e235";
}
.glyphicon-menu-hamburger:before {
  content: "\e236";
}
.glyphicon-modal-window:before {
  content: "\e237";
}
.glyphicon-oil:before {
  content: "\e238";
}
.glyphicon-grain:before {
  content: "\e239";
}
.glyphicon-sunglasses:before {
  content: "\e240";
}
.glyphicon-text-size:before {
  content: "\e241";
}
.glyphicon-text-color:before {
  content: "\e242";
}
.glyphicon-text-background:before {
  content: "\e243";
}
.glyphicon-object-align-top:before {
  content: "\e244";
}
.glyphicon-object-align-bottom:before {
  content: "\e245";
}
.glyphicon-object-align-horizontal:before {
  content: "\e246";
}
.glyphicon-object-align-left:before {
  content: "\e247";
}
.glyphicon-object-align-vertical:before {
  content: "\e248";
}
.glyphicon-object-align-right:before {
  content: "\e249";
}
.glyphicon-triangle-right:before {
  content: "\e250";
}
.glyphicon-triangle-left:before {
  content: "\e251";
}
.glyphicon-triangle-bottom:before {
  content: "\e252";
}
.glyphicon-triangle-top:before {
  content: "\e253";
}
.glyphicon-console:before {
  content: "\e254";
}
.glyphicon-superscript:before {
  content: "\e255";
}
.glyphicon-subscript:before {
  content: "\e256";
}
.glyphicon-menu-left:before {
  content: "\e257";
}
.glyphicon-menu-right:before {
  content: "\e258";
}
.glyphicon-menu-down:before {
  content: "\e259";
}
.glyphicon-menu-up:before {
  content: "\e260";
}
* {
  -webkit-box-sizing: border-box;
  -moz-box-sizing: border-box;
  box-sizing: border-box;
}
*:before,
*:after {
  -webkit-box-sizing: border-box;
  -moz-box-sizing: border-box;
  box-sizing: border-box;
}
html {
  font-size: 10px;
  -webkit-tap-highlight-color: rgba(0, 0, 0, 0);
}
body {
  font-family: "Helvetica Neue", Helvetica, Arial, sans-serif;
  font-size: 13px;
  line-height: 1.42857143;
  color: #000;
  background-color: #fff;
}
input,
button,
select,
textarea {
  font-family: inherit;
  font-size: inherit;
  line-height: inherit;
}
a {
  color: #337ab7;
  text-decoration: none;
}
a:hover,
a:focus {
  color: #23527c;
  text-decoration: underline;
}
a:focus {
  outline: thin dotted;
  outline: 5px auto -webkit-focus-ring-color;
  outline-offset: -2px;
}
figure {
  margin: 0;
}
img {
  vertical-align: middle;
}
.img-responsive,
.thumbnail > img,
.thumbnail a > img,
.carousel-inner > .item > img,
.carousel-inner > .item > a > img {
  display: block;
  max-width: 100%;
  height: auto;
}
.img-rounded {
  border-radius: 3px;
}
.img-thumbnail {
  padding: 4px;
  line-height: 1.42857143;
  background-color: #fff;
  border: 1px solid #ddd;
  border-radius: 2px;
  -webkit-transition: all 0.2s ease-in-out;
  -o-transition: all 0.2s ease-in-out;
  transition: all 0.2s ease-in-out;
  display: inline-block;
  max-width: 100%;
  height: auto;
}
.img-circle {
  border-radius: 50%;
}
hr {
  margin-top: 18px;
  margin-bottom: 18px;
  border: 0;
  border-top: 1px solid #eeeeee;
}
.sr-only {
  position: absolute;
  width: 1px;
  height: 1px;
  margin: -1px;
  padding: 0;
  overflow: hidden;
  clip: rect(0, 0, 0, 0);
  border: 0;
}
.sr-only-focusable:active,
.sr-only-focusable:focus {
  position: static;
  width: auto;
  height: auto;
  margin: 0;
  overflow: visible;
  clip: auto;
}
[role="button"] {
  cursor: pointer;
}
h1,
h2,
h3,
h4,
h5,
h6,
.h1,
.h2,
.h3,
.h4,
.h5,
.h6 {
  font-family: inherit;
  font-weight: 500;
  line-height: 1.1;
  color: inherit;
}
h1 small,
h2 small,
h3 small,
h4 small,
h5 small,
h6 small,
.h1 small,
.h2 small,
.h3 small,
.h4 small,
.h5 small,
.h6 small,
h1 .small,
h2 .small,
h3 .small,
h4 .small,
h5 .small,
h6 .small,
.h1 .small,
.h2 .small,
.h3 .small,
.h4 .small,
.h5 .small,
.h6 .small {
  font-weight: normal;
  line-height: 1;
  color: #777777;
}
h1,
.h1,
h2,
.h2,
h3,
.h3 {
  margin-top: 18px;
  margin-bottom: 9px;
}
h1 small,
.h1 small,
h2 small,
.h2 small,
h3 small,
.h3 small,
h1 .small,
.h1 .small,
h2 .small,
.h2 .small,
h3 .small,
.h3 .small {
  font-size: 65%;
}
h4,
.h4,
h5,
.h5,
h6,
.h6 {
  margin-top: 9px;
  margin-bottom: 9px;
}
h4 small,
.h4 small,
h5 small,
.h5 small,
h6 small,
.h6 small,
h4 .small,
.h4 .small,
h5 .small,
.h5 .small,
h6 .small,
.h6 .small {
  font-size: 75%;
}
h1,
.h1 {
  font-size: 33px;
}
h2,
.h2 {
  font-size: 27px;
}
h3,
.h3 {
  font-size: 23px;
}
h4,
.h4 {
  font-size: 17px;
}
h5,
.h5 {
  font-size: 13px;
}
h6,
.h6 {
  font-size: 12px;
}
p {
  margin: 0 0 9px;
}
.lead {
  margin-bottom: 18px;
  font-size: 14px;
  font-weight: 300;
  line-height: 1.4;
}
@media (min-width: 768px) {
  .lead {
    font-size: 19.5px;
  }
}
small,
.small {
  font-size: 92%;
}
mark,
.mark {
  background-color: #fcf8e3;
  padding: .2em;
}
.text-left {
  text-align: left;
}
.text-right {
  text-align: right;
}
.text-center {
  text-align: center;
}
.text-justify {
  text-align: justify;
}
.text-nowrap {
  white-space: nowrap;
}
.text-lowercase {
  text-transform: lowercase;
}
.text-uppercase {
  text-transform: uppercase;
}
.text-capitalize {
  text-transform: capitalize;
}
.text-muted {
  color: #777777;
}
.text-primary {
  color: #337ab7;
}
a.text-primary:hover,
a.text-primary:focus {
  color: #286090;
}
.text-success {
  color: #3c763d;
}
a.text-success:hover,
a.text-success:focus {
  color: #2b542c;
}
.text-info {
  color: #31708f;
}
a.text-info:hover,
a.text-info:focus {
  color: #245269;
}
.text-warning {
  color: #8a6d3b;
}
a.text-warning:hover,
a.text-warning:focus {
  color: #66512c;
}
.text-danger {
  color: #a94442;
}
a.text-danger:hover,
a.text-danger:focus {
  color: #843534;
}
.bg-primary {
  color: #fff;
  background-color: #337ab7;
}
a.bg-primary:hover,
a.bg-primary:focus {
  background-color: #286090;
}
.bg-success {
  background-color: #dff0d8;
}
a.bg-success:hover,
a.bg-success:focus {
  background-color: #c1e2b3;
}
.bg-info {
  background-color: #d9edf7;
}
a.bg-info:hover,
a.bg-info:focus {
  background-color: #afd9ee;
}
.bg-warning {
  background-color: #fcf8e3;
}
a.bg-warning:hover,
a.bg-warning:focus {
  background-color: #f7ecb5;
}
.bg-danger {
  background-color: #f2dede;
}
a.bg-danger:hover,
a.bg-danger:focus {
  background-color: #e4b9b9;
}
.page-header {
  padding-bottom: 8px;
  margin: 36px 0 18px;
  border-bottom: 1px solid #eeeeee;
}
ul,
ol {
  margin-top: 0;
  margin-bottom: 9px;
}
ul ul,
ol ul,
ul ol,
ol ol {
  margin-bottom: 0;
}
.list-unstyled {
  padding-left: 0;
  list-style: none;
}
.list-inline {
  padding-left: 0;
  list-style: none;
  margin-left: -5px;
}
.list-inline > li {
  display: inline-block;
  padding-left: 5px;
  padding-right: 5px;
}
dl {
  margin-top: 0;
  margin-bottom: 18px;
}
dt,
dd {
  line-height: 1.42857143;
}
dt {
  font-weight: bold;
}
dd {
  margin-left: 0;
}
@media (min-width: 541px) {
  .dl-horizontal dt {
    float: left;
    width: 160px;
    clear: left;
    text-align: right;
    overflow: hidden;
    text-overflow: ellipsis;
    white-space: nowrap;
  }
  .dl-horizontal dd {
    margin-left: 180px;
  }
}
abbr[title],
abbr[data-original-title] {
  cursor: help;
  border-bottom: 1px dotted #777777;
}
.initialism {
  font-size: 90%;
  text-transform: uppercase;
}
blockquote {
  padding: 9px 18px;
  margin: 0 0 18px;
  font-size: inherit;
  border-left: 5px solid #eeeeee;
}
blockquote p:last-child,
blockquote ul:last-child,
blockquote ol:last-child {
  margin-bottom: 0;
}
blockquote footer,
blockquote small,
blockquote .small {
  display: block;
  font-size: 80%;
  line-height: 1.42857143;
  color: #777777;
}
blockquote footer:before,
blockquote small:before,
blockquote .small:before {
  content: '\2014 \00A0';
}
.blockquote-reverse,
blockquote.pull-right {
  padding-right: 15px;
  padding-left: 0;
  border-right: 5px solid #eeeeee;
  border-left: 0;
  text-align: right;
}
.blockquote-reverse footer:before,
blockquote.pull-right footer:before,
.blockquote-reverse small:before,
blockquote.pull-right small:before,
.blockquote-reverse .small:before,
blockquote.pull-right .small:before {
  content: '';
}
.blockquote-reverse footer:after,
blockquote.pull-right footer:after,
.blockquote-reverse small:after,
blockquote.pull-right small:after,
.blockquote-reverse .small:after,
blockquote.pull-right .small:after {
  content: '\00A0 \2014';
}
address {
  margin-bottom: 18px;
  font-style: normal;
  line-height: 1.42857143;
}
code,
kbd,
pre,
samp {
  font-family: monospace;
}
code {
  padding: 2px 4px;
  font-size: 90%;
  color: #c7254e;
  background-color: #f9f2f4;
  border-radius: 2px;
}
kbd {
  padding: 2px 4px;
  font-size: 90%;
  color: #888;
  background-color: transparent;
  border-radius: 1px;
  box-shadow: inset 0 -1px 0 rgba(0, 0, 0, 0.25);
}
kbd kbd {
  padding: 0;
  font-size: 100%;
  font-weight: bold;
  box-shadow: none;
}
pre {
  display: block;
  padding: 8.5px;
  margin: 0 0 9px;
  font-size: 12px;
  line-height: 1.42857143;
  word-break: break-all;
  word-wrap: break-word;
  color: #333333;
  background-color: #f5f5f5;
  border: 1px solid #ccc;
  border-radius: 2px;
}
pre code {
  padding: 0;
  font-size: inherit;
  color: inherit;
  white-space: pre-wrap;
  background-color: transparent;
  border-radius: 0;
}
.pre-scrollable {
  max-height: 340px;
  overflow-y: scroll;
}
.container {
  margin-right: auto;
  margin-left: auto;
  padding-left: 0px;
  padding-right: 0px;
}
@media (min-width: 768px) {
  .container {
    width: 768px;
  }
}
@media (min-width: 992px) {
  .container {
    width: 940px;
  }
}
@media (min-width: 1200px) {
  .container {
    width: 1140px;
  }
}
.container-fluid {
  margin-right: auto;
  margin-left: auto;
  padding-left: 0px;
  padding-right: 0px;
}
.row {
  margin-left: 0px;
  margin-right: 0px;
}
.col-xs-1, .col-sm-1, .col-md-1, .col-lg-1, .col-xs-2, .col-sm-2, .col-md-2, .col-lg-2, .col-xs-3, .col-sm-3, .col-md-3, .col-lg-3, .col-xs-4, .col-sm-4, .col-md-4, .col-lg-4, .col-xs-5, .col-sm-5, .col-md-5, .col-lg-5, .col-xs-6, .col-sm-6, .col-md-6, .col-lg-6, .col-xs-7, .col-sm-7, .col-md-7, .col-lg-7, .col-xs-8, .col-sm-8, .col-md-8, .col-lg-8, .col-xs-9, .col-sm-9, .col-md-9, .col-lg-9, .col-xs-10, .col-sm-10, .col-md-10, .col-lg-10, .col-xs-11, .col-sm-11, .col-md-11, .col-lg-11, .col-xs-12, .col-sm-12, .col-md-12, .col-lg-12 {
  position: relative;
  min-height: 1px;
  padding-left: 0px;
  padding-right: 0px;
}
.col-xs-1, .col-xs-2, .col-xs-3, .col-xs-4, .col-xs-5, .col-xs-6, .col-xs-7, .col-xs-8, .col-xs-9, .col-xs-10, .col-xs-11, .col-xs-12 {
  float: left;
}
.col-xs-12 {
  width: 100%;
}
.col-xs-11 {
  width: 91.66666667%;
}
.col-xs-10 {
  width: 83.33333333%;
}
.col-xs-9 {
  width: 75%;
}
.col-xs-8 {
  width: 66.66666667%;
}
.col-xs-7 {
  width: 58.33333333%;
}
.col-xs-6 {
  width: 50%;
}
.col-xs-5 {
  width: 41.66666667%;
}
.col-xs-4 {
  width: 33.33333333%;
}
.col-xs-3 {
  width: 25%;
}
.col-xs-2 {
  width: 16.66666667%;
}
.col-xs-1 {
  width: 8.33333333%;
}
.col-xs-pull-12 {
  right: 100%;
}
.col-xs-pull-11 {
  right: 91.66666667%;
}
.col-xs-pull-10 {
  right: 83.33333333%;
}
.col-xs-pull-9 {
  right: 75%;
}
.col-xs-pull-8 {
  right: 66.66666667%;
}
.col-xs-pull-7 {
  right: 58.33333333%;
}
.col-xs-pull-6 {
  right: 50%;
}
.col-xs-pull-5 {
  right: 41.66666667%;
}
.col-xs-pull-4 {
  right: 33.33333333%;
}
.col-xs-pull-3 {
  right: 25%;
}
.col-xs-pull-2 {
  right: 16.66666667%;
}
.col-xs-pull-1 {
  right: 8.33333333%;
}
.col-xs-pull-0 {
  right: auto;
}
.col-xs-push-12 {
  left: 100%;
}
.col-xs-push-11 {
  left: 91.66666667%;
}
.col-xs-push-10 {
  left: 83.33333333%;
}
.col-xs-push-9 {
  left: 75%;
}
.col-xs-push-8 {
  left: 66.66666667%;
}
.col-xs-push-7 {
  left: 58.33333333%;
}
.col-xs-push-6 {
  left: 50%;
}
.col-xs-push-5 {
  left: 41.66666667%;
}
.col-xs-push-4 {
  left: 33.33333333%;
}
.col-xs-push-3 {
  left: 25%;
}
.col-xs-push-2 {
  left: 16.66666667%;
}
.col-xs-push-1 {
  left: 8.33333333%;
}
.col-xs-push-0 {
  left: auto;
}
.col-xs-offset-12 {
  margin-left: 100%;
}
.col-xs-offset-11 {
  margin-left: 91.66666667%;
}
.col-xs-offset-10 {
  margin-left: 83.33333333%;
}
.col-xs-offset-9 {
  margin-left: 75%;
}
.col-xs-offset-8 {
  margin-left: 66.66666667%;
}
.col-xs-offset-7 {
  margin-left: 58.33333333%;
}
.col-xs-offset-6 {
  margin-left: 50%;
}
.col-xs-offset-5 {
  margin-left: 41.66666667%;
}
.col-xs-offset-4 {
  margin-left: 33.33333333%;
}
.col-xs-offset-3 {
  margin-left: 25%;
}
.col-xs-offset-2 {
  margin-left: 16.66666667%;
}
.col-xs-offset-1 {
  margin-left: 8.33333333%;
}
.col-xs-offset-0 {
  margin-left: 0%;
}
@media (min-width: 768px) {
  .col-sm-1, .col-sm-2, .col-sm-3, .col-sm-4, .col-sm-5, .col-sm-6, .col-sm-7, .col-sm-8, .col-sm-9, .col-sm-10, .col-sm-11, .col-sm-12 {
    float: left;
  }
  .col-sm-12 {
    width: 100%;
  }
  .col-sm-11 {
    width: 91.66666667%;
  }
  .col-sm-10 {
    width: 83.33333333%;
  }
  .col-sm-9 {
    width: 75%;
  }
  .col-sm-8 {
    width: 66.66666667%;
  }
  .col-sm-7 {
    width: 58.33333333%;
  }
  .col-sm-6 {
    width: 50%;
  }
  .col-sm-5 {
    width: 41.66666667%;
  }
  .col-sm-4 {
    width: 33.33333333%;
  }
  .col-sm-3 {
    width: 25%;
  }
  .col-sm-2 {
    width: 16.66666667%;
  }
  .col-sm-1 {
    width: 8.33333333%;
  }
  .col-sm-pull-12 {
    right: 100%;
  }
  .col-sm-pull-11 {
    right: 91.66666667%;
  }
  .col-sm-pull-10 {
    right: 83.33333333%;
  }
  .col-sm-pull-9 {
    right: 75%;
  }
  .col-sm-pull-8 {
    right: 66.66666667%;
  }
  .col-sm-pull-7 {
    right: 58.33333333%;
  }
  .col-sm-pull-6 {
    right: 50%;
  }
  .col-sm-pull-5 {
    right: 41.66666667%;
  }
  .col-sm-pull-4 {
    right: 33.33333333%;
  }
  .col-sm-pull-3 {
    right: 25%;
  }
  .col-sm-pull-2 {
    right: 16.66666667%;
  }
  .col-sm-pull-1 {
    right: 8.33333333%;
  }
  .col-sm-pull-0 {
    right: auto;
  }
  .col-sm-push-12 {
    left: 100%;
  }
  .col-sm-push-11 {
    left: 91.66666667%;
  }
  .col-sm-push-10 {
    left: 83.33333333%;
  }
  .col-sm-push-9 {
    left: 75%;
  }
  .col-sm-push-8 {
    left: 66.66666667%;
  }
  .col-sm-push-7 {
    left: 58.33333333%;
  }
  .col-sm-push-6 {
    left: 50%;
  }
  .col-sm-push-5 {
    left: 41.66666667%;
  }
  .col-sm-push-4 {
    left: 33.33333333%;
  }
  .col-sm-push-3 {
    left: 25%;
  }
  .col-sm-push-2 {
    left: 16.66666667%;
  }
  .col-sm-push-1 {
    left: 8.33333333%;
  }
  .col-sm-push-0 {
    left: auto;
  }
  .col-sm-offset-12 {
    margin-left: 100%;
  }
  .col-sm-offset-11 {
    margin-left: 91.66666667%;
  }
  .col-sm-offset-10 {
    margin-left: 83.33333333%;
  }
  .col-sm-offset-9 {
    margin-left: 75%;
  }
  .col-sm-offset-8 {
    margin-left: 66.66666667%;
  }
  .col-sm-offset-7 {
    margin-left: 58.33333333%;
  }
  .col-sm-offset-6 {
    margin-left: 50%;
  }
  .col-sm-offset-5 {
    margin-left: 41.66666667%;
  }
  .col-sm-offset-4 {
    margin-left: 33.33333333%;
  }
  .col-sm-offset-3 {
    margin-left: 25%;
  }
  .col-sm-offset-2 {
    margin-left: 16.66666667%;
  }
  .col-sm-offset-1 {
    margin-left: 8.33333333%;
  }
  .col-sm-offset-0 {
    margin-left: 0%;
  }
}
@media (min-width: 992px) {
  .col-md-1, .col-md-2, .col-md-3, .col-md-4, .col-md-5, .col-md-6, .col-md-7, .col-md-8, .col-md-9, .col-md-10, .col-md-11, .col-md-12 {
    float: left;
  }
  .col-md-12 {
    width: 100%;
  }
  .col-md-11 {
    width: 91.66666667%;
  }
  .col-md-10 {
    width: 83.33333333%;
  }
  .col-md-9 {
    width: 75%;
  }
  .col-md-8 {
    width: 66.66666667%;
  }
  .col-md-7 {
    width: 58.33333333%;
  }
  .col-md-6 {
    width: 50%;
  }
  .col-md-5 {
    width: 41.66666667%;
  }
  .col-md-4 {
    width: 33.33333333%;
  }
  .col-md-3 {
    width: 25%;
  }
  .col-md-2 {
    width: 16.66666667%;
  }
  .col-md-1 {
    width: 8.33333333%;
  }
  .col-md-pull-12 {
    right: 100%;
  }
  .col-md-pull-11 {
    right: 91.66666667%;
  }
  .col-md-pull-10 {
    right: 83.33333333%;
  }
  .col-md-pull-9 {
    right: 75%;
  }
  .col-md-pull-8 {
    right: 66.66666667%;
  }
  .col-md-pull-7 {
    right: 58.33333333%;
  }
  .col-md-pull-6 {
    right: 50%;
  }
  .col-md-pull-5 {
    right: 41.66666667%;
  }
  .col-md-pull-4 {
    right: 33.33333333%;
  }
  .col-md-pull-3 {
    right: 25%;
  }
  .col-md-pull-2 {
    right: 16.66666667%;
  }
  .col-md-pull-1 {
    right: 8.33333333%;
  }
  .col-md-pull-0 {
    right: auto;
  }
  .col-md-push-12 {
    left: 100%;
  }
  .col-md-push-11 {
    left: 91.66666667%;
  }
  .col-md-push-10 {
    left: 83.33333333%;
  }
  .col-md-push-9 {
    left: 75%;
  }
  .col-md-push-8 {
    left: 66.66666667%;
  }
  .col-md-push-7 {
    left: 58.33333333%;
  }
  .col-md-push-6 {
    left: 50%;
  }
  .col-md-push-5 {
    left: 41.66666667%;
  }
  .col-md-push-4 {
    left: 33.33333333%;
  }
  .col-md-push-3 {
    left: 25%;
  }
  .col-md-push-2 {
    left: 16.66666667%;
  }
  .col-md-push-1 {
    left: 8.33333333%;
  }
  .col-md-push-0 {
    left: auto;
  }
  .col-md-offset-12 {
    margin-left: 100%;
  }
  .col-md-offset-11 {
    margin-left: 91.66666667%;
  }
  .col-md-offset-10 {
    margin-left: 83.33333333%;
  }
  .col-md-offset-9 {
    margin-left: 75%;
  }
  .col-md-offset-8 {
    margin-left: 66.66666667%;
  }
  .col-md-offset-7 {
    margin-left: 58.33333333%;
  }
  .col-md-offset-6 {
    margin-left: 50%;
  }
  .col-md-offset-5 {
    margin-left: 41.66666667%;
  }
  .col-md-offset-4 {
    margin-left: 33.33333333%;
  }
  .col-md-offset-3 {
    margin-left: 25%;
  }
  .col-md-offset-2 {
    margin-left: 16.66666667%;
  }
  .col-md-offset-1 {
    margin-left: 8.33333333%;
  }
  .col-md-offset-0 {
    margin-left: 0%;
  }
}
@media (min-width: 1200px) {
  .col-lg-1, .col-lg-2, .col-lg-3, .col-lg-4, .col-lg-5, .col-lg-6, .col-lg-7, .col-lg-8, .col-lg-9, .col-lg-10, .col-lg-11, .col-lg-12 {
    float: left;
  }
  .col-lg-12 {
    width: 100%;
  }
  .col-lg-11 {
    width: 91.66666667%;
  }
  .col-lg-10 {
    width: 83.33333333%;
  }
  .col-lg-9 {
    width: 75%;
  }
  .col-lg-8 {
    width: 66.66666667%;
  }
  .col-lg-7 {
    width: 58.33333333%;
  }
  .col-lg-6 {
    width: 50%;
  }
  .col-lg-5 {
    width: 41.66666667%;
  }
  .col-lg-4 {
    width: 33.33333333%;
  }
  .col-lg-3 {
    width: 25%;
  }
  .col-lg-2 {
    width: 16.66666667%;
  }
  .col-lg-1 {
    width: 8.33333333%;
  }
  .col-lg-pull-12 {
    right: 100%;
  }
  .col-lg-pull-11 {
    right: 91.66666667%;
  }
  .col-lg-pull-10 {
    right: 83.33333333%;
  }
  .col-lg-pull-9 {
    right: 75%;
  }
  .col-lg-pull-8 {
    right: 66.66666667%;
  }
  .col-lg-pull-7 {
    right: 58.33333333%;
  }
  .col-lg-pull-6 {
    right: 50%;
  }
  .col-lg-pull-5 {
    right: 41.66666667%;
  }
  .col-lg-pull-4 {
    right: 33.33333333%;
  }
  .col-lg-pull-3 {
    right: 25%;
  }
  .col-lg-pull-2 {
    right: 16.66666667%;
  }
  .col-lg-pull-1 {
    right: 8.33333333%;
  }
  .col-lg-pull-0 {
    right: auto;
  }
  .col-lg-push-12 {
    left: 100%;
  }
  .col-lg-push-11 {
    left: 91.66666667%;
  }
  .col-lg-push-10 {
    left: 83.33333333%;
  }
  .col-lg-push-9 {
    left: 75%;
  }
  .col-lg-push-8 {
    left: 66.66666667%;
  }
  .col-lg-push-7 {
    left: 58.33333333%;
  }
  .col-lg-push-6 {
    left: 50%;
  }
  .col-lg-push-5 {
    left: 41.66666667%;
  }
  .col-lg-push-4 {
    left: 33.33333333%;
  }
  .col-lg-push-3 {
    left: 25%;
  }
  .col-lg-push-2 {
    left: 16.66666667%;
  }
  .col-lg-push-1 {
    left: 8.33333333%;
  }
  .col-lg-push-0 {
    left: auto;
  }
  .col-lg-offset-12 {
    margin-left: 100%;
  }
  .col-lg-offset-11 {
    margin-left: 91.66666667%;
  }
  .col-lg-offset-10 {
    margin-left: 83.33333333%;
  }
  .col-lg-offset-9 {
    margin-left: 75%;
  }
  .col-lg-offset-8 {
    margin-left: 66.66666667%;
  }
  .col-lg-offset-7 {
    margin-left: 58.33333333%;
  }
  .col-lg-offset-6 {
    margin-left: 50%;
  }
  .col-lg-offset-5 {
    margin-left: 41.66666667%;
  }
  .col-lg-offset-4 {
    margin-left: 33.33333333%;
  }
  .col-lg-offset-3 {
    margin-left: 25%;
  }
  .col-lg-offset-2 {
    margin-left: 16.66666667%;
  }
  .col-lg-offset-1 {
    margin-left: 8.33333333%;
  }
  .col-lg-offset-0 {
    margin-left: 0%;
  }
}
table {
  background-color: transparent;
}
caption {
  padding-top: 8px;
  padding-bottom: 8px;
  color: #777777;
  text-align: left;
}
th {
  text-align: left;
}
.table {
  width: 100%;
  max-width: 100%;
  margin-bottom: 18px;
}
.table > thead > tr > th,
.table > tbody > tr > th,
.table > tfoot > tr > th,
.table > thead > tr > td,
.table > tbody > tr > td,
.table > tfoot > tr > td {
  padding: 8px;
  line-height: 1.42857143;
  vertical-align: top;
  border-top: 1px solid #ddd;
}
.table > thead > tr > th {
  vertical-align: bottom;
  border-bottom: 2px solid #ddd;
}
.table > caption + thead > tr:first-child > th,
.table > colgroup + thead > tr:first-child > th,
.table > thead:first-child > tr:first-child > th,
.table > caption + thead > tr:first-child > td,
.table > colgroup + thead > tr:first-child > td,
.table > thead:first-child > tr:first-child > td {
  border-top: 0;
}
.table > tbody + tbody {
  border-top: 2px solid #ddd;
}
.table .table {
  background-color: #fff;
}
.table-condensed > thead > tr > th,
.table-condensed > tbody > tr > th,
.table-condensed > tfoot > tr > th,
.table-condensed > thead > tr > td,
.table-condensed > tbody > tr > td,
.table-condensed > tfoot > tr > td {
  padding: 5px;
}
.table-bordered {
  border: 1px solid #ddd;
}
.table-bordered > thead > tr > th,
.table-bordered > tbody > tr > th,
.table-bordered > tfoot > tr > th,
.table-bordered > thead > tr > td,
.table-bordered > tbody > tr > td,
.table-bordered > tfoot > tr > td {
  border: 1px solid #ddd;
}
.table-bordered > thead > tr > th,
.table-bordered > thead > tr > td {
  border-bottom-width: 2px;
}
.table-striped > tbody > tr:nth-of-type(odd) {
  background-color: #f9f9f9;
}
.table-hover > tbody > tr:hover {
  background-color: #f5f5f5;
}
table col[class*="col-"] {
  position: static;
  float: none;
  display: table-column;
}
table td[class*="col-"],
table th[class*="col-"] {
  position: static;
  float: none;
  display: table-cell;
}
.table > thead > tr > td.active,
.table > tbody > tr > td.active,
.table > tfoot > tr > td.active,
.table > thead > tr > th.active,
.table > tbody > tr > th.active,
.table > tfoot > tr > th.active,
.table > thead > tr.active > td,
.table > tbody > tr.active > td,
.table > tfoot > tr.active > td,
.table > thead > tr.active > th,
.table > tbody > tr.active > th,
.table > tfoot > tr.active > th {
  background-color: #f5f5f5;
}
.table-hover > tbody > tr > td.active:hover,
.table-hover > tbody > tr > th.active:hover,
.table-hover > tbody > tr.active:hover > td,
.table-hover > tbody > tr:hover > .active,
.table-hover > tbody > tr.active:hover > th {
  background-color: #e8e8e8;
}
.table > thead > tr > td.success,
.table > tbody > tr > td.success,
.table > tfoot > tr > td.success,
.table > thead > tr > th.success,
.table > tbody > tr > th.success,
.table > tfoot > tr > th.success,
.table > thead > tr.success > td,
.table > tbody > tr.success > td,
.table > tfoot > tr.success > td,
.table > thead > tr.success > th,
.table > tbody > tr.success > th,
.table > tfoot > tr.success > th {
  background-color: #dff0d8;
}
.table-hover > tbody > tr > td.success:hover,
.table-hover > tbody > tr > th.success:hover,
.table-hover > tbody > tr.success:hover > td,
.table-hover > tbody > tr:hover > .success,
.table-hover > tbody > tr.success:hover > th {
  background-color: #d0e9c6;
}
.table > thead > tr > td.info,
.table > tbody > tr > td.info,
.table > tfoot > tr > td.info,
.table > thead > tr > th.info,
.table > tbody > tr > th.info,
.table > tfoot > tr > th.info,
.table > thead > tr.info > td,
.table > tbody > tr.info > td,
.table > tfoot > tr.info > td,
.table > thead > tr.info > th,
.table > tbody > tr.info > th,
.table > tfoot > tr.info > th {
  background-color: #d9edf7;
}
.table-hover > tbody > tr > td.info:hover,
.table-hover > tbody > tr > th.info:hover,
.table-hover > tbody > tr.info:hover > td,
.table-hover > tbody > tr:hover > .info,
.table-hover > tbody > tr.info:hover > th {
  background-color: #c4e3f3;
}
.table > thead > tr > td.warning,
.table > tbody > tr > td.warning,
.table > tfoot > tr > td.warning,
.table > thead > tr > th.warning,
.table > tbody > tr > th.warning,
.table > tfoot > tr > th.warning,
.table > thead > tr.warning > td,
.table > tbody > tr.warning > td,
.table > tfoot > tr.warning > td,
.table > thead > tr.warning > th,
.table > tbody > tr.warning > th,
.table > tfoot > tr.warning > th {
  background-color: #fcf8e3;
}
.table-hover > tbody > tr > td.warning:hover,
.table-hover > tbody > tr > th.warning:hover,
.table-hover > tbody > tr.warning:hover > td,
.table-hover > tbody > tr:hover > .warning,
.table-hover > tbody > tr.warning:hover > th {
  background-color: #faf2cc;
}
.table > thead > tr > td.danger,
.table > tbody > tr > td.danger,
.table > tfoot > tr > td.danger,
.table > thead > tr > th.danger,
.table > tbody > tr > th.danger,
.table > tfoot > tr > th.danger,
.table > thead > tr.danger > td,
.table > tbody > tr.danger > td,
.table > tfoot > tr.danger > td,
.table > thead > tr.danger > th,
.table > tbody > tr.danger > th,
.table > tfoot > tr.danger > th {
  background-color: #f2dede;
}
.table-hover > tbody > tr > td.danger:hover,
.table-hover > tbody > tr > th.danger:hover,
.table-hover > tbody > tr.danger:hover > td,
.table-hover > tbody > tr:hover > .danger,
.table-hover > tbody > tr.danger:hover > th {
  background-color: #ebcccc;
}
.table-responsive {
  overflow-x: auto;
  min-height: 0.01%;
}
@media screen and (max-width: 767px) {
  .table-responsive {
    width: 100%;
    margin-bottom: 13.5px;
    overflow-y: hidden;
    -ms-overflow-style: -ms-autohiding-scrollbar;
    border: 1px solid #ddd;
  }
  .table-responsive > .table {
    margin-bottom: 0;
  }
  .table-responsive > .table > thead > tr > th,
  .table-responsive > .table > tbody > tr > th,
  .table-responsive > .table > tfoot > tr > th,
  .table-responsive > .table > thead > tr > td,
  .table-responsive > .table > tbody > tr > td,
  .table-responsive > .table > tfoot > tr > td {
    white-space: nowrap;
  }
  .table-responsive > .table-bordered {
    border: 0;
  }
  .table-responsive > .table-bordered > thead > tr > th:first-child,
  .table-responsive > .table-bordered > tbody > tr > th:first-child,
  .table-responsive > .table-bordered > tfoot > tr > th:first-child,
  .table-responsive > .table-bordered > thead > tr > td:first-child,
  .table-responsive > .table-bordered > tbody > tr > td:first-child,
  .table-responsive > .table-bordered > tfoot > tr > td:first-child {
    border-left: 0;
  }
  .table-responsive > .table-bordered > thead > tr > th:last-child,
  .table-responsive > .table-bordered > tbody > tr > th:last-child,
  .table-responsive > .table-bordered > tfoot > tr > th:last-child,
  .table-responsive > .table-bordered > thead > tr > td:last-child,
  .table-responsive > .table-bordered > tbody > tr > td:last-child,
  .table-responsive > .table-bordered > tfoot > tr > td:last-child {
    border-right: 0;
  }
  .table-responsive > .table-bordered > tbody > tr:last-child > th,
  .table-responsive > .table-bordered > tfoot > tr:last-child > th,
  .table-responsive > .table-bordered > tbody > tr:last-child > td,
  .table-responsive > .table-bordered > tfoot > tr:last-child > td {
    border-bottom: 0;
  }
}
fieldset {
  padding: 0;
  margin: 0;
  border: 0;
  min-width: 0;
}
legend {
  display: block;
  width: 100%;
  padding: 0;
  margin-bottom: 18px;
  font-size: 19.5px;
  line-height: inherit;
  color: #333333;
  border: 0;
  border-bottom: 1px solid #e5e5e5;
}
label {
  display: inline-block;
  max-width: 100%;
  margin-bottom: 5px;
  font-weight: bold;
}
input[type="search"] {
  -webkit-box-sizing: border-box;
  -moz-box-sizing: border-box;
  box-sizing: border-box;
}
input[type="radio"],
input[type="checkbox"] {
  margin: 4px 0 0;
  margin-top: 1px \9;
  line-height: normal;
}
input[type="file"] {
  display: block;
}
input[type="range"] {
  display: block;
  width: 100%;
}
select[multiple],
select[size] {
  height: auto;
}
input[type="file"]:focus,
input[type="radio"]:focus,
input[type="checkbox"]:focus {
  outline: thin dotted;
  outline: 5px auto -webkit-focus-ring-color;
  outline-offset: -2px;
}
output {
  display: block;
  padding-top: 7px;
  font-size: 13px;
  line-height: 1.42857143;
  color: #555555;
}
.form-control {
  display: block;
  width: 100%;
  height: 32px;
  padding: 6px 12px;
  font-size: 13px;
  line-height: 1.42857143;
  color: #555555;
  background-color: #fff;
  background-image: none;
  border: 1px solid #ccc;
  border-radius: 2px;
  -webkit-box-shadow: inset 0 1px 1px rgba(0, 0, 0, 0.075);
  box-shadow: inset 0 1px 1px rgba(0, 0, 0, 0.075);
  -webkit-transition: border-color ease-in-out .15s, box-shadow ease-in-out .15s;
  -o-transition: border-color ease-in-out .15s, box-shadow ease-in-out .15s;
  transition: border-color ease-in-out .15s, box-shadow ease-in-out .15s;
}
.form-control:focus {
  border-color: #66afe9;
  outline: 0;
  -webkit-box-shadow: inset 0 1px 1px rgba(0,0,0,.075), 0 0 8px rgba(102, 175, 233, 0.6);
  box-shadow: inset 0 1px 1px rgba(0,0,0,.075), 0 0 8px rgba(102, 175, 233, 0.6);
}
.form-control::-moz-placeholder {
  color: #999;
  opacity: 1;
}
.form-control:-ms-input-placeholder {
  color: #999;
}
.form-control::-webkit-input-placeholder {
  color: #999;
}
.form-control::-ms-expand {
  border: 0;
  background-color: transparent;
}
.form-control[disabled],
.form-control[readonly],
fieldset[disabled] .form-control {
  background-color: #eeeeee;
  opacity: 1;
}
.form-control[disabled],
fieldset[disabled] .form-control {
  cursor: not-allowed;
}
textarea.form-control {
  height: auto;
}
input[type="search"] {
  -webkit-appearance: none;
}
@media screen and (-webkit-min-device-pixel-ratio: 0) {
  input[type="date"].form-control,
  input[type="time"].form-control,
  input[type="datetime-local"].form-control,
  input[type="month"].form-control {
    line-height: 32px;
  }
  input[type="date"].input-sm,
  input[type="time"].input-sm,
  input[type="datetime-local"].input-sm,
  input[type="month"].input-sm,
  .input-group-sm input[type="date"],
  .input-group-sm input[type="time"],
  .input-group-sm input[type="datetime-local"],
  .input-group-sm input[type="month"] {
    line-height: 30px;
  }
  input[type="date"].input-lg,
  input[type="time"].input-lg,
  input[type="datetime-local"].input-lg,
  input[type="month"].input-lg,
  .input-group-lg input[type="date"],
  .input-group-lg input[type="time"],
  .input-group-lg input[type="datetime-local"],
  .input-group-lg input[type="month"] {
    line-height: 45px;
  }
}
.form-group {
  margin-bottom: 15px;
}
.radio,
.checkbox {
  position: relative;
  display: block;
  margin-top: 10px;
  margin-bottom: 10px;
}
.radio label,
.checkbox label {
  min-height: 18px;
  padding-left: 20px;
  margin-bottom: 0;
  font-weight: normal;
  cursor: pointer;
}
.radio input[type="radio"],
.radio-inline input[type="radio"],
.checkbox input[type="checkbox"],
.checkbox-inline input[type="checkbox"] {
  position: absolute;
  margin-left: -20px;
  margin-top: 4px \9;
}
.radio + .radio,
.checkbox + .checkbox {
  margin-top: -5px;
}
.radio-inline,
.checkbox-inline {
  position: relative;
  display: inline-block;
  padding-left: 20px;
  margin-bottom: 0;
  vertical-align: middle;
  font-weight: normal;
  cursor: pointer;
}
.radio-inline + .radio-inline,
.checkbox-inline + .checkbox-inline {
  margin-top: 0;
  margin-left: 10px;
}
input[type="radio"][disabled],
input[type="checkbox"][disabled],
input[type="radio"].disabled,
input[type="checkbox"].disabled,
fieldset[disabled] input[type="radio"],
fieldset[disabled] input[type="checkbox"] {
  cursor: not-allowed;
}
.radio-inline.disabled,
.checkbox-inline.disabled,
fieldset[disabled] .radio-inline,
fieldset[disabled] .checkbox-inline {
  cursor: not-allowed;
}
.radio.disabled label,
.checkbox.disabled label,
fieldset[disabled] .radio label,
fieldset[disabled] .checkbox label {
  cursor: not-allowed;
}
.form-control-static {
  padding-top: 7px;
  padding-bottom: 7px;
  margin-bottom: 0;
  min-height: 31px;
}
.form-control-static.input-lg,
.form-control-static.input-sm {
  padding-left: 0;
  padding-right: 0;
}
.input-sm {
  height: 30px;
  padding: 5px 10px;
  font-size: 12px;
  line-height: 1.5;
  border-radius: 1px;
}
select.input-sm {
  height: 30px;
  line-height: 30px;
}
textarea.input-sm,
select[multiple].input-sm {
  height: auto;
}
.form-group-sm .form-control {
  height: 30px;
  padding: 5px 10px;
  font-size: 12px;
  line-height: 1.5;
  border-radius: 1px;
}
.form-group-sm select.form-control {
  height: 30px;
  line-height: 30px;
}
.form-group-sm textarea.form-control,
.form-group-sm select[multiple].form-control {
  height: auto;
}
.form-group-sm .form-control-static {
  height: 30px;
  min-height: 30px;
  padding: 6px 10px;
  font-size: 12px;
  line-height: 1.5;
}
.input-lg {
  height: 45px;
  padding: 10px 16px;
  font-size: 17px;
  line-height: 1.3333333;
  border-radius: 3px;
}
select.input-lg {
  height: 45px;
  line-height: 45px;
}
textarea.input-lg,
select[multiple].input-lg {
  height: auto;
}
.form-group-lg .form-control {
  height: 45px;
  padding: 10px 16px;
  font-size: 17px;
  line-height: 1.3333333;
  border-radius: 3px;
}
.form-group-lg select.form-control {
  height: 45px;
  line-height: 45px;
}
.form-group-lg textarea.form-control,
.form-group-lg select[multiple].form-control {
  height: auto;
}
.form-group-lg .form-control-static {
  height: 45px;
  min-height: 35px;
  padding: 11px 16px;
  font-size: 17px;
  line-height: 1.3333333;
}
.has-feedback {
  position: relative;
}
.has-feedback .form-control {
  padding-right: 40px;
}
.form-control-feedback {
  position: absolute;
  top: 0;
  right: 0;
  z-index: 2;
  display: block;
  width: 32px;
  height: 32px;
  line-height: 32px;
  text-align: center;
  pointer-events: none;
}
.input-lg + .form-control-feedback,
.input-group-lg + .form-control-feedback,
.form-group-lg .form-control + .form-control-feedback {
  width: 45px;
  height: 45px;
  line-height: 45px;
}
.input-sm + .form-control-feedback,
.input-group-sm + .form-control-feedback,
.form-group-sm .form-control + .form-control-feedback {
  width: 30px;
  height: 30px;
  line-height: 30px;
}
.has-success .help-block,
.has-success .control-label,
.has-success .radio,
.has-success .checkbox,
.has-success .radio-inline,
.has-success .checkbox-inline,
.has-success.radio label,
.has-success.checkbox label,
.has-success.radio-inline label,
.has-success.checkbox-inline label {
  color: #3c763d;
}
.has-success .form-control {
  border-color: #3c763d;
  -webkit-box-shadow: inset 0 1px 1px rgba(0, 0, 0, 0.075);
  box-shadow: inset 0 1px 1px rgba(0, 0, 0, 0.075);
}
.has-success .form-control:focus {
  border-color: #2b542c;
  -webkit-box-shadow: inset 0 1px 1px rgba(0, 0, 0, 0.075), 0 0 6px #67b168;
  box-shadow: inset 0 1px 1px rgba(0, 0, 0, 0.075), 0 0 6px #67b168;
}
.has-success .input-group-addon {
  color: #3c763d;
  border-color: #3c763d;
  background-color: #dff0d8;
}
.has-success .form-control-feedback {
  color: #3c763d;
}
.has-warning .help-block,
.has-warning .control-label,
.has-warning .radio,
.has-warning .checkbox,
.has-warning .radio-inline,
.has-warning .checkbox-inline,
.has-warning.radio label,
.has-warning.checkbox label,
.has-warning.radio-inline label,
.has-warning.checkbox-inline label {
  color: #8a6d3b;
}
.has-warning .form-control {
  border-color: #8a6d3b;
  -webkit-box-shadow: inset 0 1px 1px rgba(0, 0, 0, 0.075);
  box-shadow: inset 0 1px 1px rgba(0, 0, 0, 0.075);
}
.has-warning .form-control:focus {
  border-color: #66512c;
  -webkit-box-shadow: inset 0 1px 1px rgba(0, 0, 0, 0.075), 0 0 6px #c0a16b;
  box-shadow: inset 0 1px 1px rgba(0, 0, 0, 0.075), 0 0 6px #c0a16b;
}
.has-warning .input-group-addon {
  color: #8a6d3b;
  border-color: #8a6d3b;
  background-color: #fcf8e3;
}
.has-warning .form-control-feedback {
  color: #8a6d3b;
}
.has-error .help-block,
.has-error .control-label,
.has-error .radio,
.has-error .checkbox,
.has-error .radio-inline,
.has-error .checkbox-inline,
.has-error.radio label,
.has-error.checkbox label,
.has-error.radio-inline label,
.has-error.checkbox-inline label {
  color: #a94442;
}
.has-error .form-control {
  border-color: #a94442;
  -webkit-box-shadow: inset 0 1px 1px rgba(0, 0, 0, 0.075);
  box-shadow: inset 0 1px 1px rgba(0, 0, 0, 0.075);
}
.has-error .form-control:focus {
  border-color: #843534;
  -webkit-box-shadow: inset 0 1px 1px rgba(0, 0, 0, 0.075), 0 0 6px #ce8483;
  box-shadow: inset 0 1px 1px rgba(0, 0, 0, 0.075), 0 0 6px #ce8483;
}
.has-error .input-group-addon {
  color: #a94442;
  border-color: #a94442;
  background-color: #f2dede;
}
.has-error .form-control-feedback {
  color: #a94442;
}
.has-feedback label ~ .form-control-feedback {
  top: 23px;
}
.has-feedback label.sr-only ~ .form-control-feedback {
  top: 0;
}
.help-block {
  display: block;
  margin-top: 5px;
  margin-bottom: 10px;
  color: #404040;
}
@media (min-width: 768px) {
  .form-inline .form-group {
    display: inline-block;
    margin-bottom: 0;
    vertical-align: middle;
  }
  .form-inline .form-control {
    display: inline-block;
    width: auto;
    vertical-align: middle;
  }
  .form-inline .form-control-static {
    display: inline-block;
  }
  .form-inline .input-group {
    display: inline-table;
    vertical-align: middle;
  }
  .form-inline .input-group .input-group-addon,
  .form-inline .input-group .input-group-btn,
  .form-inline .input-group .form-control {
    width: auto;
  }
  .form-inline .input-group > .form-control {
    width: 100%;
  }
  .form-inline .control-label {
    margin-bottom: 0;
    vertical-align: middle;
  }
  .form-inline .radio,
  .form-inline .checkbox {
    display: inline-block;
    margin-top: 0;
    margin-bottom: 0;
    vertical-align: middle;
  }
  .form-inline .radio label,
  .form-inline .checkbox label {
    padding-left: 0;
  }
  .form-inline .radio input[type="radio"],
  .form-inline .checkbox input[type="checkbox"] {
    position: relative;
    margin-left: 0;
  }
  .form-inline .has-feedback .form-control-feedback {
    top: 0;
  }
}
.form-horizontal .radio,
.form-horizontal .checkbox,
.form-horizontal .radio-inline,
.form-horizontal .checkbox-inline {
  margin-top: 0;
  margin-bottom: 0;
  padding-top: 7px;
}
.form-horizontal .radio,
.form-horizontal .checkbox {
  min-height: 25px;
}
.form-horizontal .form-group {
  margin-left: 0px;
  margin-right: 0px;
}
@media (min-width: 768px) {
  .form-horizontal .control-label {
    text-align: right;
    margin-bottom: 0;
    padding-top: 7px;
  }
}
.form-horizontal .has-feedback .form-control-feedback {
  right: 0px;
}
@media (min-width: 768px) {
  .form-horizontal .form-group-lg .control-label {
    padding-top: 11px;
    font-size: 17px;
  }
}
@media (min-width: 768px) {
  .form-horizontal .form-group-sm .control-label {
    padding-top: 6px;
    font-size: 12px;
  }
}
.btn {
  display: inline-block;
  margin-bottom: 0;
  font-weight: normal;
  text-align: center;
  vertical-align: middle;
  touch-action: manipulation;
  cursor: pointer;
  background-image: none;
  border: 1px solid transparent;
  white-space: nowrap;
  padding: 6px 12px;
  font-size: 13px;
  line-height: 1.42857143;
  border-radius: 2px;
  -webkit-user-select: none;
  -moz-user-select: none;
  -ms-user-select: none;
  user-select: none;
}
.btn:focus,
.btn:active:focus,
.btn.active:focus,
.btn.focus,
.btn:active.focus,
.btn.active.focus {
  outline: thin dotted;
  outline: 5px auto -webkit-focus-ring-color;
  outline-offset: -2px;
}
.btn:hover,
.btn:focus,
.btn.focus {
  color: #333;
  text-decoration: none;
}
.btn:active,
.btn.active {
  outline: 0;
  background-image: none;
  -webkit-box-shadow: inset 0 3px 5px rgba(0, 0, 0, 0.125);
  box-shadow: inset 0 3px 5px rgba(0, 0, 0, 0.125);
}
.btn.disabled,
.btn[disabled],
fieldset[disabled] .btn {
  cursor: not-allowed;
  opacity: 0.65;
  filter: alpha(opacity=65);
  -webkit-box-shadow: none;
  box-shadow: none;
}
a.btn.disabled,
fieldset[disabled] a.btn {
  pointer-events: none;
}
.btn-default {
  color: #333;
  background-color: #fff;
  border-color: #ccc;
}
.btn-default:focus,
.btn-default.focus {
  color: #333;
  background-color: #e6e6e6;
  border-color: #8c8c8c;
}
.btn-default:hover {
  color: #333;
  background-color: #e6e6e6;
  border-color: #adadad;
}
.btn-default:active,
.btn-default.active,
.open > .dropdown-toggle.btn-default {
  color: #333;
  background-color: #e6e6e6;
  border-color: #adadad;
}
.btn-default:active:hover,
.btn-default.active:hover,
.open > .dropdown-toggle.btn-default:hover,
.btn-default:active:focus,
.btn-default.active:focus,
.open > .dropdown-toggle.btn-default:focus,
.btn-default:active.focus,
.btn-default.active.focus,
.open > .dropdown-toggle.btn-default.focus {
  color: #333;
  background-color: #d4d4d4;
  border-color: #8c8c8c;
}
.btn-default:active,
.btn-default.active,
.open > .dropdown-toggle.btn-default {
  background-image: none;
}
.btn-default.disabled:hover,
.btn-default[disabled]:hover,
fieldset[disabled] .btn-default:hover,
.btn-default.disabled:focus,
.btn-default[disabled]:focus,
fieldset[disabled] .btn-default:focus,
.btn-default.disabled.focus,
.btn-default[disabled].focus,
fieldset[disabled] .btn-default.focus {
  background-color: #fff;
  border-color: #ccc;
}
.btn-default .badge {
  color: #fff;
  background-color: #333;
}
.btn-primary {
  color: #fff;
  background-color: #337ab7;
  border-color: #2e6da4;
}
.btn-primary:focus,
.btn-primary.focus {
  color: #fff;
  background-color: #286090;
  border-color: #122b40;
}
.btn-primary:hover {
  color: #fff;
  background-color: #286090;
  border-color: #204d74;
}
.btn-primary:active,
.btn-primary.active,
.open > .dropdown-toggle.btn-primary {
  color: #fff;
  background-color: #286090;
  border-color: #204d74;
}
.btn-primary:active:hover,
.btn-primary.active:hover,
.open > .dropdown-toggle.btn-primary:hover,
.btn-primary:active:focus,
.btn-primary.active:focus,
.open > .dropdown-toggle.btn-primary:focus,
.btn-primary:active.focus,
.btn-primary.active.focus,
.open > .dropdown-toggle.btn-primary.focus {
  color: #fff;
  background-color: #204d74;
  border-color: #122b40;
}
.btn-primary:active,
.btn-primary.active,
.open > .dropdown-toggle.btn-primary {
  background-image: none;
}
.btn-primary.disabled:hover,
.btn-primary[disabled]:hover,
fieldset[disabled] .btn-primary:hover,
.btn-primary.disabled:focus,
.btn-primary[disabled]:focus,
fieldset[disabled] .btn-primary:focus,
.btn-primary.disabled.focus,
.btn-primary[disabled].focus,
fieldset[disabled] .btn-primary.focus {
  background-color: #337ab7;
  border-color: #2e6da4;
}
.btn-primary .badge {
  color: #337ab7;
  background-color: #fff;
}
.btn-success {
  color: #fff;
  background-color: #5cb85c;
  border-color: #4cae4c;
}
.btn-success:focus,
.btn-success.focus {
  color: #fff;
  background-color: #449d44;
  border-color: #255625;
}
.btn-success:hover {
  color: #fff;
  background-color: #449d44;
  border-color: #398439;
}
.btn-success:active,
.btn-success.active,
.open > .dropdown-toggle.btn-success {
  color: #fff;
  background-color: #449d44;
  border-color: #398439;
}
.btn-success:active:hover,
.btn-success.active:hover,
.open > .dropdown-toggle.btn-success:hover,
.btn-success:active:focus,
.btn-success.active:focus,
.open > .dropdown-toggle.btn-success:focus,
.btn-success:active.focus,
.btn-success.active.focus,
.open > .dropdown-toggle.btn-success.focus {
  color: #fff;
  background-color: #398439;
  border-color: #255625;
}
.btn-success:active,
.btn-success.active,
.open > .dropdown-toggle.btn-success {
  background-image: none;
}
.btn-success.disabled:hover,
.btn-success[disabled]:hover,
fieldset[disabled] .btn-success:hover,
.btn-success.disabled:focus,
.btn-success[disabled]:focus,
fieldset[disabled] .btn-success:focus,
.btn-success.disabled.focus,
.btn-success[disabled].focus,
fieldset[disabled] .btn-success.focus {
  background-color: #5cb85c;
  border-color: #4cae4c;
}
.btn-success .badge {
  color: #5cb85c;
  background-color: #fff;
}
.btn-info {
  color: #fff;
  background-color: #5bc0de;
  border-color: #46b8da;
}
.btn-info:focus,
.btn-info.focus {
  color: #fff;
  background-color: #31b0d5;
  border-color: #1b6d85;
}
.btn-info:hover {
  color: #fff;
  background-color: #31b0d5;
  border-color: #269abc;
}
.btn-info:active,
.btn-info.active,
.open > .dropdown-toggle.btn-info {
  color: #fff;
  background-color: #31b0d5;
  border-color: #269abc;
}
.btn-info:active:hover,
.btn-info.active:hover,
.open > .dropdown-toggle.btn-info:hover,
.btn-info:active:focus,
.btn-info.active:focus,
.open > .dropdown-toggle.btn-info:focus,
.btn-info:active.focus,
.btn-info.active.focus,
.open > .dropdown-toggle.btn-info.focus {
  color: #fff;
  background-color: #269abc;
  border-color: #1b6d85;
}
.btn-info:active,
.btn-info.active,
.open > .dropdown-toggle.btn-info {
  background-image: none;
}
.btn-info.disabled:hover,
.btn-info[disabled]:hover,
fieldset[disabled] .btn-info:hover,
.btn-info.disabled:focus,
.btn-info[disabled]:focus,
fieldset[disabled] .btn-info:focus,
.btn-info.disabled.focus,
.btn-info[disabled].focus,
fieldset[disabled] .btn-info.focus {
  background-color: #5bc0de;
  border-color: #46b8da;
}
.btn-info .badge {
  color: #5bc0de;
  background-color: #fff;
}
.btn-warning {
  color: #fff;
  background-color: #f0ad4e;
  border-color: #eea236;
}
.btn-warning:focus,
.btn-warning.focus {
  color: #fff;
  background-color: #ec971f;
  border-color: #985f0d;
}
.btn-warning:hover {
  color: #fff;
  background-color: #ec971f;
  border-color: #d58512;
}
.btn-warning:active,
.btn-warning.active,
.open > .dropdown-toggle.btn-warning {
  color: #fff;
  background-color: #ec971f;
  border-color: #d58512;
}
.btn-warning:active:hover,
.btn-warning.active:hover,
.open > .dropdown-toggle.btn-warning:hover,
.btn-warning:active:focus,
.btn-warning.active:focus,
.open > .dropdown-toggle.btn-warning:focus,
.btn-warning:active.focus,
.btn-warning.active.focus,
.open > .dropdown-toggle.btn-warning.focus {
  color: #fff;
  background-color: #d58512;
  border-color: #985f0d;
}
.btn-warning:active,
.btn-warning.active,
.open > .dropdown-toggle.btn-warning {
  background-image: none;
}
.btn-warning.disabled:hover,
.btn-warning[disabled]:hover,
fieldset[disabled] .btn-warning:hover,
.btn-warning.disabled:focus,
.btn-warning[disabled]:focus,
fieldset[disabled] .btn-warning:focus,
.btn-warning.disabled.focus,
.btn-warning[disabled].focus,
fieldset[disabled] .btn-warning.focus {
  background-color: #f0ad4e;
  border-color: #eea236;
}
.btn-warning .badge {
  color: #f0ad4e;
  background-color: #fff;
}
.btn-danger {
  color: #fff;
  background-color: #d9534f;
  border-color: #d43f3a;
}
.btn-danger:focus,
.btn-danger.focus {
  color: #fff;
  background-color: #c9302c;
  border-color: #761c19;
}
.btn-danger:hover {
  color: #fff;
  background-color: #c9302c;
  border-color: #ac2925;
}
.btn-danger:active,
.btn-danger.active,
.open > .dropdown-toggle.btn-danger {
  color: #fff;
  background-color: #c9302c;
  border-color: #ac2925;
}
.btn-danger:active:hover,
.btn-danger.active:hover,
.open > .dropdown-toggle.btn-danger:hover,
.btn-danger:active:focus,
.btn-danger.active:focus,
.open > .dropdown-toggle.btn-danger:focus,
.btn-danger:active.focus,
.btn-danger.active.focus,
.open > .dropdown-toggle.btn-danger.focus {
  color: #fff;
  background-color: #ac2925;
  border-color: #761c19;
}
.btn-danger:active,
.btn-danger.active,
.open > .dropdown-toggle.btn-danger {
  background-image: none;
}
.btn-danger.disabled:hover,
.btn-danger[disabled]:hover,
fieldset[disabled] .btn-danger:hover,
.btn-danger.disabled:focus,
.btn-danger[disabled]:focus,
fieldset[disabled] .btn-danger:focus,
.btn-danger.disabled.focus,
.btn-danger[disabled].focus,
fieldset[disabled] .btn-danger.focus {
  background-color: #d9534f;
  border-color: #d43f3a;
}
.btn-danger .badge {
  color: #d9534f;
  background-color: #fff;
}
.btn-link {
  color: #337ab7;
  font-weight: normal;
  border-radius: 0;
}
.btn-link,
.btn-link:active,
.btn-link.active,
.btn-link[disabled],
fieldset[disabled] .btn-link {
  background-color: transparent;
  -webkit-box-shadow: none;
  box-shadow: none;
}
.btn-link,
.btn-link:hover,
.btn-link:focus,
.btn-link:active {
  border-color: transparent;
}
.btn-link:hover,
.btn-link:focus {
  color: #23527c;
  text-decoration: underline;
  background-color: transparent;
}
.btn-link[disabled]:hover,
fieldset[disabled] .btn-link:hover,
.btn-link[disabled]:focus,
fieldset[disabled] .btn-link:focus {
  color: #777777;
  text-decoration: none;
}
.btn-lg,
.btn-group-lg > .btn {
  padding: 10px 16px;
  font-size: 17px;
  line-height: 1.3333333;
  border-radius: 3px;
}
.btn-sm,
.btn-group-sm > .btn {
  padding: 5px 10px;
  font-size: 12px;
  line-height: 1.5;
  border-radius: 1px;
}
.btn-xs,
.btn-group-xs > .btn {
  padding: 1px 5px;
  font-size: 12px;
  line-height: 1.5;
  border-radius: 1px;
}
.btn-block {
  display: block;
  width: 100%;
}
.btn-block + .btn-block {
  margin-top: 5px;
}
input[type="submit"].btn-block,
input[type="reset"].btn-block,
input[type="button"].btn-block {
  width: 100%;
}
.fade {
  opacity: 0;
  -webkit-transition: opacity 0.15s linear;
  -o-transition: opacity 0.15s linear;
  transition: opacity 0.15s linear;
}
.fade.in {
  opacity: 1;
}
.collapse {
  display: none;
}
.collapse.in {
  display: block;
}
tr.collapse.in {
  display: table-row;
}
tbody.collapse.in {
  display: table-row-group;
}
.collapsing {
  position: relative;
  height: 0;
  overflow: hidden;
  -webkit-transition-property: height, visibility;
  transition-property: height, visibility;
  -webkit-transition-duration: 0.35s;
  transition-duration: 0.35s;
  -webkit-transition-timing-function: ease;
  transition-timing-function: ease;
}
.caret {
  display: inline-block;
  width: 0;
  height: 0;
  margin-left: 2px;
  vertical-align: middle;
  border-top: 4px dashed;
  border-top: 4px solid \9;
  border-right: 4px solid transparent;
  border-left: 4px solid transparent;
}
.dropup,
.dropdown {
  position: relative;
}
.dropdown-toggle:focus {
  outline: 0;
}
.dropdown-menu {
  position: absolute;
  top: 100%;
  left: 0;
  z-index: 1000;
  display: none;
  float: left;
  min-width: 160px;
  padding: 5px 0;
  margin: 2px 0 0;
  list-style: none;
  font-size: 13px;
  text-align: left;
  background-color: #fff;
  border: 1px solid #ccc;
  border: 1px solid rgba(0, 0, 0, 0.15);
  border-radius: 2px;
  -webkit-box-shadow: 0 6px 12px rgba(0, 0, 0, 0.175);
  box-shadow: 0 6px 12px rgba(0, 0, 0, 0.175);
  background-clip: padding-box;
}
.dropdown-menu.pull-right {
  right: 0;
  left: auto;
}
.dropdown-menu .divider {
  height: 1px;
  margin: 8px 0;
  overflow: hidden;
  background-color: #e5e5e5;
}
.dropdown-menu > li > a {
  display: block;
  padding: 3px 20px;
  clear: both;
  font-weight: normal;
  line-height: 1.42857143;
  color: #333333;
  white-space: nowrap;
}
.dropdown-menu > li > a:hover,
.dropdown-menu > li > a:focus {
  text-decoration: none;
  color: #262626;
  background-color: #f5f5f5;
}
.dropdown-menu > .active > a,
.dropdown-menu > .active > a:hover,
.dropdown-menu > .active > a:focus {
  color: #fff;
  text-decoration: none;
  outline: 0;
  background-color: #337ab7;
}
.dropdown-menu > .disabled > a,
.dropdown-menu > .disabled > a:hover,
.dropdown-menu > .disabled > a:focus {
  color: #777777;
}
.dropdown-menu > .disabled > a:hover,
.dropdown-menu > .disabled > a:focus {
  text-decoration: none;
  background-color: transparent;
  background-image: none;
  filter: progid:DXImageTransform.Microsoft.gradient(enabled = false);
  cursor: not-allowed;
}
.open > .dropdown-menu {
  display: block;
}
.open > a {
  outline: 0;
}
.dropdown-menu-right {
  left: auto;
  right: 0;
}
.dropdown-menu-left {
  left: 0;
  right: auto;
}
.dropdown-header {
  display: block;
  padding: 3px 20px;
  font-size: 12px;
  line-height: 1.42857143;
  color: #777777;
  white-space: nowrap;
}
.dropdown-backdrop {
  position: fixed;
  left: 0;
  right: 0;
  bottom: 0;
  top: 0;
  z-index: 990;
}
.pull-right > .dropdown-menu {
  right: 0;
  left: auto;
}
.dropup .caret,
.navbar-fixed-bottom .dropdown .caret {
  border-top: 0;
  border-bottom: 4px dashed;
  border-bottom: 4px solid \9;
  content: "";
}
.dropup .dropdown-menu,
.navbar-fixed-bottom .dropdown .dropdown-menu {
  top: auto;
  bottom: 100%;
  margin-bottom: 2px;
}
@media (min-width: 541px) {
  .navbar-right .dropdown-menu {
    left: auto;
    right: 0;
  }
  .navbar-right .dropdown-menu-left {
    left: 0;
    right: auto;
  }
}
.btn-group,
.btn-group-vertical {
  position: relative;
  display: inline-block;
  vertical-align: middle;
}
.btn-group > .btn,
.btn-group-vertical > .btn {
  position: relative;
  float: left;
}
.btn-group > .btn:hover,
.btn-group-vertical > .btn:hover,
.btn-group > .btn:focus,
.btn-group-vertical > .btn:focus,
.btn-group > .btn:active,
.btn-group-vertical > .btn:active,
.btn-group > .btn.active,
.btn-group-vertical > .btn.active {
  z-index: 2;
}
.btn-group .btn + .btn,
.btn-group .btn + .btn-group,
.btn-group .btn-group + .btn,
.btn-group .btn-group + .btn-group {
  margin-left: -1px;
}
.btn-toolbar {
  margin-left: -5px;
}
.btn-toolbar .btn,
.btn-toolbar .btn-group,
.btn-toolbar .input-group {
  float: left;
}
.btn-toolbar > .btn,
.btn-toolbar > .btn-group,
.btn-toolbar > .input-group {
  margin-left: 5px;
}
.btn-group > .btn:not(:first-child):not(:last-child):not(.dropdown-toggle) {
  border-radius: 0;
}
.btn-group > .btn:first-child {
  margin-left: 0;
}
.btn-group > .btn:first-child:not(:last-child):not(.dropdown-toggle) {
  border-bottom-right-radius: 0;
  border-top-right-radius: 0;
}
.btn-group > .btn:last-child:not(:first-child),
.btn-group > .dropdown-toggle:not(:first-child) {
  border-bottom-left-radius: 0;
  border-top-left-radius: 0;
}
.btn-group > .btn-group {
  float: left;
}
.btn-group > .btn-group:not(:first-child):not(:last-child) > .btn {
  border-radius: 0;
}
.btn-group > .btn-group:first-child:not(:last-child) > .btn:last-child,
.btn-group > .btn-group:first-child:not(:last-child) > .dropdown-toggle {
  border-bottom-right-radius: 0;
  border-top-right-radius: 0;
}
.btn-group > .btn-group:last-child:not(:first-child) > .btn:first-child {
  border-bottom-left-radius: 0;
  border-top-left-radius: 0;
}
.btn-group .dropdown-toggle:active,
.btn-group.open .dropdown-toggle {
  outline: 0;
}
.btn-group > .btn + .dropdown-toggle {
  padding-left: 8px;
  padding-right: 8px;
}
.btn-group > .btn-lg + .dropdown-toggle {
  padding-left: 12px;
  padding-right: 12px;
}
.btn-group.open .dropdown-toggle {
  -webkit-box-shadow: inset 0 3px 5px rgba(0, 0, 0, 0.125);
  box-shadow: inset 0 3px 5px rgba(0, 0, 0, 0.125);
}
.btn-group.open .dropdown-toggle.btn-link {
  -webkit-box-shadow: none;
  box-shadow: none;
}
.btn .caret {
  margin-left: 0;
}
.btn-lg .caret {
  border-width: 5px 5px 0;
  border-bottom-width: 0;
}
.dropup .btn-lg .caret {
  border-width: 0 5px 5px;
}
.btn-group-vertical > .btn,
.btn-group-vertical > .btn-group,
.btn-group-vertical > .btn-group > .btn {
  display: block;
  float: none;
  width: 100%;
  max-width: 100%;
}
.btn-group-vertical > .btn-group > .btn {
  float: none;
}
.btn-group-vertical > .btn + .btn,
.btn-group-vertical > .btn + .btn-group,
.btn-group-vertical > .btn-group + .btn,
.btn-group-vertical > .btn-group + .btn-group {
  margin-top: -1px;
  margin-left: 0;
}
.btn-group-vertical > .btn:not(:first-child):not(:last-child) {
  border-radius: 0;
}
.btn-group-vertical > .btn:first-child:not(:last-child) {
  border-top-right-radius: 2px;
  border-top-left-radius: 2px;
  border-bottom-right-radius: 0;
  border-bottom-left-radius: 0;
}
.btn-group-vertical > .btn:last-child:not(:first-child) {
  border-top-right-radius: 0;
  border-top-left-radius: 0;
  border-bottom-right-radius: 2px;
  border-bottom-left-radius: 2px;
}
.btn-group-vertical > .btn-group:not(:first-child):not(:last-child) > .btn {
  border-radius: 0;
}
.btn-group-vertical > .btn-group:first-child:not(:last-child) > .btn:last-child,
.btn-group-vertical > .btn-group:first-child:not(:last-child) > .dropdown-toggle {
  border-bottom-right-radius: 0;
  border-bottom-left-radius: 0;
}
.btn-group-vertical > .btn-group:last-child:not(:first-child) > .btn:first-child {
  border-top-right-radius: 0;
  border-top-left-radius: 0;
}
.btn-group-justified {
  display: table;
  width: 100%;
  table-layout: fixed;
  border-collapse: separate;
}
.btn-group-justified > .btn,
.btn-group-justified > .btn-group {
  float: none;
  display: table-cell;
  width: 1%;
}
.btn-group-justified > .btn-group .btn {
  width: 100%;
}
.btn-group-justified > .btn-group .dropdown-menu {
  left: auto;
}
[data-toggle="buttons"] > .btn input[type="radio"],
[data-toggle="buttons"] > .btn-group > .btn input[type="radio"],
[data-toggle="buttons"] > .btn input[type="checkbox"],
[data-toggle="buttons"] > .btn-group > .btn input[type="checkbox"] {
  position: absolute;
  clip: rect(0, 0, 0, 0);
  pointer-events: none;
}
.input-group {
  position: relative;
  display: table;
  border-collapse: separate;
}
.input-group[class*="col-"] {
  float: none;
  padding-left: 0;
  padding-right: 0;
}
.input-group .form-control {
  position: relative;
  z-index: 2;
  float: left;
  width: 100%;
  margin-bottom: 0;
}
.input-group .form-control:focus {
  z-index: 3;
}
.input-group-lg > .form-control,
.input-group-lg > .input-group-addon,
.input-group-lg > .input-group-btn > .btn {
  height: 45px;
  padding: 10px 16px;
  font-size: 17px;
  line-height: 1.3333333;
  border-radius: 3px;
}
select.input-group-lg > .form-control,
select.input-group-lg > .input-group-addon,
select.input-group-lg > .input-group-btn > .btn {
  height: 45px;
  line-height: 45px;
}
textarea.input-group-lg > .form-control,
textarea.input-group-lg > .input-group-addon,
textarea.input-group-lg > .input-group-btn > .btn,
select[multiple].input-group-lg > .form-control,
select[multiple].input-group-lg > .input-group-addon,
select[multiple].input-group-lg > .input-group-btn > .btn {
  height: auto;
}
.input-group-sm > .form-control,
.input-group-sm > .input-group-addon,
.input-group-sm > .input-group-btn > .btn {
  height: 30px;
  padding: 5px 10px;
  font-size: 12px;
  line-height: 1.5;
  border-radius: 1px;
}
select.input-group-sm > .form-control,
select.input-group-sm > .input-group-addon,
select.input-group-sm > .input-group-btn > .btn {
  height: 30px;
  line-height: 30px;
}
textarea.input-group-sm > .form-control,
textarea.input-group-sm > .input-group-addon,
textarea.input-group-sm > .input-group-btn > .btn,
select[multiple].input-group-sm > .form-control,
select[multiple].input-group-sm > .input-group-addon,
select[multiple].input-group-sm > .input-group-btn > .btn {
  height: auto;
}
.input-group-addon,
.input-group-btn,
.input-group .form-control {
  display: table-cell;
}
.input-group-addon:not(:first-child):not(:last-child),
.input-group-btn:not(:first-child):not(:last-child),
.input-group .form-control:not(:first-child):not(:last-child) {
  border-radius: 0;
}
.input-group-addon,
.input-group-btn {
  width: 1%;
  white-space: nowrap;
  vertical-align: middle;
}
.input-group-addon {
  padding: 6px 12px;
  font-size: 13px;
  font-weight: normal;
  line-height: 1;
  color: #555555;
  text-align: center;
  background-color: #eeeeee;
  border: 1px solid #ccc;
  border-radius: 2px;
}
.input-group-addon.input-sm {
  padding: 5px 10px;
  font-size: 12px;
  border-radius: 1px;
}
.input-group-addon.input-lg {
  padding: 10px 16px;
  font-size: 17px;
  border-radius: 3px;
}
.input-group-addon input[type="radio"],
.input-group-addon input[type="checkbox"] {
  margin-top: 0;
}
.input-group .form-control:first-child,
.input-group-addon:first-child,
.input-group-btn:first-child > .btn,
.input-group-btn:first-child > .btn-group > .btn,
.input-group-btn:first-child > .dropdown-toggle,
.input-group-btn:last-child > .btn:not(:last-child):not(.dropdown-toggle),
.input-group-btn:last-child > .btn-group:not(:last-child) > .btn {
  border-bottom-right-radius: 0;
  border-top-right-radius: 0;
}
.input-group-addon:first-child {
  border-right: 0;
}
.input-group .form-control:last-child,
.input-group-addon:last-child,
.input-group-btn:last-child > .btn,
.input-group-btn:last-child > .btn-group > .btn,
.input-group-btn:last-child > .dropdown-toggle,
.input-group-btn:first-child > .btn:not(:first-child),
.input-group-btn:first-child > .btn-group:not(:first-child) > .btn {
  border-bottom-left-radius: 0;
  border-top-left-radius: 0;
}
.input-group-addon:last-child {
  border-left: 0;
}
.input-group-btn {
  position: relative;
  font-size: 0;
  white-space: nowrap;
}
.input-group-btn > .btn {
  position: relative;
}
.input-group-btn > .btn + .btn {
  margin-left: -1px;
}
.input-group-btn > .btn:hover,
.input-group-btn > .btn:focus,
.input-group-btn > .btn:active {
  z-index: 2;
}
.input-group-btn:first-child > .btn,
.input-group-btn:first-child > .btn-group {
  margin-right: -1px;
}
.input-group-btn:last-child > .btn,
.input-group-btn:last-child > .btn-group {
  z-index: 2;
  margin-left: -1px;
}
.nav {
  margin-bottom: 0;
  padding-left: 0;
  list-style: none;
}
.nav > li {
  position: relative;
  display: block;
}
.nav > li > a {
  position: relative;
  display: block;
  padding: 10px 15px;
}
.nav > li > a:hover,
.nav > li > a:focus {
  text-decoration: none;
  background-color: #eeeeee;
}
.nav > li.disabled > a {
  color: #777777;
}
.nav > li.disabled > a:hover,
.nav > li.disabled > a:focus {
  color: #777777;
  text-decoration: none;
  background-color: transparent;
  cursor: not-allowed;
}
.nav .open > a,
.nav .open > a:hover,
.nav .open > a:focus {
  background-color: #eeeeee;
  border-color: #337ab7;
}
.nav .nav-divider {
  height: 1px;
  margin: 8px 0;
  overflow: hidden;
  background-color: #e5e5e5;
}
.nav > li > a > img {
  max-width: none;
}
.nav-tabs {
  border-bottom: 1px solid #ddd;
}
.nav-tabs > li {
  float: left;
  margin-bottom: -1px;
}
.nav-tabs > li > a {
  margin-right: 2px;
  line-height: 1.42857143;
  border: 1px solid transparent;
  border-radius: 2px 2px 0 0;
}
.nav-tabs > li > a:hover {
  border-color: #eeeeee #eeeeee #ddd;
}
.nav-tabs > li.active > a,
.nav-tabs > li.active > a:hover,
.nav-tabs > li.active > a:focus {
  color: #555555;
  background-color: #fff;
  border: 1px solid #ddd;
  border-bottom-color: transparent;
  cursor: default;
}
.nav-tabs.nav-justified {
  width: 100%;
  border-bottom: 0;
}
.nav-tabs.nav-justified > li {
  float: none;
}
.nav-tabs.nav-justified > li > a {
  text-align: center;
  margin-bottom: 5px;
}
.nav-tabs.nav-justified > .dropdown .dropdown-menu {
  top: auto;
  left: auto;
}
@media (min-width: 768px) {
  .nav-tabs.nav-justified > li {
    display: table-cell;
    width: 1%;
  }
  .nav-tabs.nav-justified > li > a {
    margin-bottom: 0;
  }
}
.nav-tabs.nav-justified > li > a {
  margin-right: 0;
  border-radius: 2px;
}
.nav-tabs.nav-justified > .active > a,
.nav-tabs.nav-justified > .active > a:hover,
.nav-tabs.nav-justified > .active > a:focus {
  border: 1px solid #ddd;
}
@media (min-width: 768px) {
  .nav-tabs.nav-justified > li > a {
    border-bottom: 1px solid #ddd;
    border-radius: 2px 2px 0 0;
  }
  .nav-tabs.nav-justified > .active > a,
  .nav-tabs.nav-justified > .active > a:hover,
  .nav-tabs.nav-justified > .active > a:focus {
    border-bottom-color: #fff;
  }
}
.nav-pills > li {
  float: left;
}
.nav-pills > li > a {
  border-radius: 2px;
}
.nav-pills > li + li {
  margin-left: 2px;
}
.nav-pills > li.active > a,
.nav-pills > li.active > a:hover,
.nav-pills > li.active > a:focus {
  color: #fff;
  background-color: #337ab7;
}
.nav-stacked > li {
  float: none;
}
.nav-stacked > li + li {
  margin-top: 2px;
  margin-left: 0;
}
.nav-justified {
  width: 100%;
}
.nav-justified > li {
  float: none;
}
.nav-justified > li > a {
  text-align: center;
  margin-bottom: 5px;
}
.nav-justified > .dropdown .dropdown-menu {
  top: auto;
  left: auto;
}
@media (min-width: 768px) {
  .nav-justified > li {
    display: table-cell;
    width: 1%;
  }
  .nav-justified > li > a {
    margin-bottom: 0;
  }
}
.nav-tabs-justified {
  border-bottom: 0;
}
.nav-tabs-justified > li > a {
  margin-right: 0;
  border-radius: 2px;
}
.nav-tabs-justified > .active > a,
.nav-tabs-justified > .active > a:hover,
.nav-tabs-justified > .active > a:focus {
  border: 1px solid #ddd;
}
@media (min-width: 768px) {
  .nav-tabs-justified > li > a {
    border-bottom: 1px solid #ddd;
    border-radius: 2px 2px 0 0;
  }
  .nav-tabs-justified > .active > a,
  .nav-tabs-justified > .active > a:hover,
  .nav-tabs-justified > .active > a:focus {
    border-bottom-color: #fff;
  }
}
.tab-content > .tab-pane {
  display: none;
}
.tab-content > .active {
  display: block;
}
.nav-tabs .dropdown-menu {
  margin-top: -1px;
  border-top-right-radius: 0;
  border-top-left-radius: 0;
}
.navbar {
  position: relative;
  min-height: 30px;
  margin-bottom: 18px;
  border: 1px solid transparent;
}
@media (min-width: 541px) {
  .navbar {
    border-radius: 2px;
  }
}
@media (min-width: 541px) {
  .navbar-header {
    float: left;
  }
}
.navbar-collapse {
  overflow-x: visible;
  padding-right: 0px;
  padding-left: 0px;
  border-top: 1px solid transparent;
  box-shadow: inset 0 1px 0 rgba(255, 255, 255, 0.1);
  -webkit-overflow-scrolling: touch;
}
.navbar-collapse.in {
  overflow-y: auto;
}
@media (min-width: 541px) {
  .navbar-collapse {
    width: auto;
    border-top: 0;
    box-shadow: none;
  }
  .navbar-collapse.collapse {
    display: block !important;
    height: auto !important;
    padding-bottom: 0;
    overflow: visible !important;
  }
  .navbar-collapse.in {
    overflow-y: visible;
  }
  .navbar-fixed-top .navbar-collapse,
  .navbar-static-top .navbar-collapse,
  .navbar-fixed-bottom .navbar-collapse {
    padding-left: 0;
    padding-right: 0;
  }
}
.navbar-fixed-top .navbar-collapse,
.navbar-fixed-bottom .navbar-collapse {
  max-height: 340px;
}
@media (max-device-width: 540px) and (orientation: landscape) {
  .navbar-fixed-top .navbar-collapse,
  .navbar-fixed-bottom .navbar-collapse {
    max-height: 200px;
  }
}
.container > .navbar-header,
.container-fluid > .navbar-header,
.container > .navbar-collapse,
.container-fluid > .navbar-collapse {
  margin-right: 0px;
  margin-left: 0px;
}
@media (min-width: 541px) {
  .container > .navbar-header,
  .container-fluid > .navbar-header,
  .container > .navbar-collapse,
  .container-fluid > .navbar-collapse {
    margin-right: 0;
    margin-left: 0;
  }
}
.navbar-static-top {
  z-index: 1000;
  border-width: 0 0 1px;
}
@media (min-width: 541px) {
  .navbar-static-top {
    border-radius: 0;
  }
}
.navbar-fixed-top,
.navbar-fixed-bottom {
  position: fixed;
  right: 0;
  left: 0;
  z-index: 1030;
}
@media (min-width: 541px) {
  .navbar-fixed-top,
  .navbar-fixed-bottom {
    border-radius: 0;
  }
}
.navbar-fixed-top {
  top: 0;
  border-width: 0 0 1px;
}
.navbar-fixed-bottom {
  bottom: 0;
  margin-bottom: 0;
  border-width: 1px 0 0;
}
.navbar-brand {
  float: left;
  padding: 6px 0px;
  font-size: 17px;
  line-height: 18px;
  height: 30px;
}
.navbar-brand:hover,
.navbar-brand:focus {
  text-decoration: none;
}
.navbar-brand > img {
  display: block;
}
@media (min-width: 541px) {
  .navbar > .container .navbar-brand,
  .navbar > .container-fluid .navbar-brand {
    margin-left: 0px;
  }
}
.navbar-toggle {
  position: relative;
  float: right;
  margin-right: 0px;
  padding: 9px 10px;
  margin-top: -2px;
  margin-bottom: -2px;
  background-color: transparent;
  background-image: none;
  border: 1px solid transparent;
  border-radius: 2px;
}
.navbar-toggle:focus {
  outline: 0;
}
.navbar-toggle .icon-bar {
  display: block;
  width: 22px;
  height: 2px;
  border-radius: 1px;
}
.navbar-toggle .icon-bar + .icon-bar {
  margin-top: 4px;
}
@media (min-width: 541px) {
  .navbar-toggle {
    display: none;
  }
}
.navbar-nav {
  margin: 3px 0px;
}
.navbar-nav > li > a {
  padding-top: 10px;
  padding-bottom: 10px;
  line-height: 18px;
}
@media (max-width: 540px) {
  .navbar-nav .open .dropdown-menu {
    position: static;
    float: none;
    width: auto;
    margin-top: 0;
    background-color: transparent;
    border: 0;
    box-shadow: none;
  }
  .navbar-nav .open .dropdown-menu > li > a,
  .navbar-nav .open .dropdown-menu .dropdown-header {
    padding: 5px 15px 5px 25px;
  }
  .navbar-nav .open .dropdown-menu > li > a {
    line-height: 18px;
  }
  .navbar-nav .open .dropdown-menu > li > a:hover,
  .navbar-nav .open .dropdown-menu > li > a:focus {
    background-image: none;
  }
}
@media (min-width: 541px) {
  .navbar-nav {
    float: left;
    margin: 0;
  }
  .navbar-nav > li {
    float: left;
  }
  .navbar-nav > li > a {
    padding-top: 6px;
    padding-bottom: 6px;
  }
}
.navbar-form {
  margin-left: 0px;
  margin-right: 0px;
  padding: 10px 0px;
  border-top: 1px solid transparent;
  border-bottom: 1px solid transparent;
  -webkit-box-shadow: inset 0 1px 0 rgba(255, 255, 255, 0.1), 0 1px 0 rgba(255, 255, 255, 0.1);
  box-shadow: inset 0 1px 0 rgba(255, 255, 255, 0.1), 0 1px 0 rgba(255, 255, 255, 0.1);
  margin-top: -1px;
  margin-bottom: -1px;
}
@media (min-width: 768px) {
  .navbar-form .form-group {
    display: inline-block;
    margin-bottom: 0;
    vertical-align: middle;
  }
  .navbar-form .form-control {
    display: inline-block;
    width: auto;
    vertical-align: middle;
  }
  .navbar-form .form-control-static {
    display: inline-block;
  }
  .navbar-form .input-group {
    display: inline-table;
    vertical-align: middle;
  }
  .navbar-form .input-group .input-group-addon,
  .navbar-form .input-group .input-group-btn,
  .navbar-form .input-group .form-control {
    width: auto;
  }
  .navbar-form .input-group > .form-control {
    width: 100%;
  }
  .navbar-form .control-label {
    margin-bottom: 0;
    vertical-align: middle;
  }
  .navbar-form .radio,
  .navbar-form .checkbox {
    display: inline-block;
    margin-top: 0;
    margin-bottom: 0;
    vertical-align: middle;
  }
  .navbar-form .radio label,
  .navbar-form .checkbox label {
    padding-left: 0;
  }
  .navbar-form .radio input[type="radio"],
  .navbar-form .checkbox input[type="checkbox"] {
    position: relative;
    margin-left: 0;
  }
  .navbar-form .has-feedback .form-control-feedback {
    top: 0;
  }
}
@media (max-width: 540px) {
  .navbar-form .form-group {
    margin-bottom: 5px;
  }
  .navbar-form .form-group:last-child {
    margin-bottom: 0;
  }
}
@media (min-width: 541px) {
  .navbar-form {
    width: auto;
    border: 0;
    margin-left: 0;
    margin-right: 0;
    padding-top: 0;
    padding-bottom: 0;
    -webkit-box-shadow: none;
    box-shadow: none;
  }
}
.navbar-nav > li > .dropdown-menu {
  margin-top: 0;
  border-top-right-radius: 0;
  border-top-left-radius: 0;
}
.navbar-fixed-bottom .navbar-nav > li > .dropdown-menu {
  margin-bottom: 0;
  border-top-right-radius: 2px;
  border-top-left-radius: 2px;
  border-bottom-right-radius: 0;
  border-bottom-left-radius: 0;
}
.navbar-btn {
  margin-top: -1px;
  margin-bottom: -1px;
}
.navbar-btn.btn-sm {
  margin-top: 0px;
  margin-bottom: 0px;
}
.navbar-btn.btn-xs {
  margin-top: 4px;
  margin-bottom: 4px;
}
.navbar-text {
  margin-top: 6px;
  margin-bottom: 6px;
}
@media (min-width: 541px) {
  .navbar-text {
    float: left;
    margin-left: 0px;
    margin-right: 0px;
  }
}
@media (min-width: 541px) {
  .navbar-left {
    float: left !important;
    float: left;
  }
  .navbar-right {
    float: right !important;
    float: right;
    margin-right: 0px;
  }
  .navbar-right ~ .navbar-right {
    margin-right: 0;
  }
}
.navbar-default {
  background-color: #f8f8f8;
  border-color: #e7e7e7;
}
.navbar-default .navbar-brand {
  color: #777;
}
.navbar-default .navbar-brand:hover,
.navbar-default .navbar-brand:focus {
  color: #5e5e5e;
  background-color: transparent;
}
.navbar-default .navbar-text {
  color: #777;
}
.navbar-default .navbar-nav > li > a {
  color: #777;
}
.navbar-default .navbar-nav > li > a:hover,
.navbar-default .navbar-nav > li > a:focus {
  color: #333;
  background-color: transparent;
}
.navbar-default .navbar-nav > .active > a,
.navbar-default .navbar-nav > .active > a:hover,
.navbar-default .navbar-nav > .active > a:focus {
  color: #555;
  background-color: #e7e7e7;
}
.navbar-default .navbar-nav > .disabled > a,
.navbar-default .navbar-nav > .disabled > a:hover,
.navbar-default .navbar-nav > .disabled > a:focus {
  color: #ccc;
  background-color: transparent;
}
.navbar-default .navbar-toggle {
  border-color: #ddd;
}
.navbar-default .navbar-toggle:hover,
.navbar-default .navbar-toggle:focus {
  background-color: #ddd;
}
.navbar-default .navbar-toggle .icon-bar {
  background-color: #888;
}
.navbar-default .navbar-collapse,
.navbar-default .navbar-form {
  border-color: #e7e7e7;
}
.navbar-default .navbar-nav > .open > a,
.navbar-default .navbar-nav > .open > a:hover,
.navbar-default .navbar-nav > .open > a:focus {
  background-color: #e7e7e7;
  color: #555;
}
@media (max-width: 540px) {
  .navbar-default .navbar-nav .open .dropdown-menu > li > a {
    color: #777;
  }
  .navbar-default .navbar-nav .open .dropdown-menu > li > a:hover,
  .navbar-default .navbar-nav .open .dropdown-menu > li > a:focus {
    color: #333;
    background-color: transparent;
  }
  .navbar-default .navbar-nav .open .dropdown-menu > .active > a,
  .navbar-default .navbar-nav .open .dropdown-menu > .active > a:hover,
  .navbar-default .navbar-nav .open .dropdown-menu > .active > a:focus {
    color: #555;
    background-color: #e7e7e7;
  }
  .navbar-default .navbar-nav .open .dropdown-menu > .disabled > a,
  .navbar-default .navbar-nav .open .dropdown-menu > .disabled > a:hover,
  .navbar-default .navbar-nav .open .dropdown-menu > .disabled > a:focus {
    color: #ccc;
    background-color: transparent;
  }
}
.navbar-default .navbar-link {
  color: #777;
}
.navbar-default .navbar-link:hover {
  color: #333;
}
.navbar-default .btn-link {
  color: #777;
}
.navbar-default .btn-link:hover,
.navbar-default .btn-link:focus {
  color: #333;
}
.navbar-default .btn-link[disabled]:hover,
fieldset[disabled] .navbar-default .btn-link:hover,
.navbar-default .btn-link[disabled]:focus,
fieldset[disabled] .navbar-default .btn-link:focus {
  color: #ccc;
}
.navbar-inverse {
  background-color: #222;
  border-color: #080808;
}
.navbar-inverse .navbar-brand {
  color: #9d9d9d;
}
.navbar-inverse .navbar-brand:hover,
.navbar-inverse .navbar-brand:focus {
  color: #fff;
  background-color: transparent;
}
.navbar-inverse .navbar-text {
  color: #9d9d9d;
}
.navbar-inverse .navbar-nav > li > a {
  color: #9d9d9d;
}
.navbar-inverse .navbar-nav > li > a:hover,
.navbar-inverse .navbar-nav > li > a:focus {
  color: #fff;
  background-color: transparent;
}
.navbar-inverse .navbar-nav > .active > a,
.navbar-inverse .navbar-nav > .active > a:hover,
.navbar-inverse .navbar-nav > .active > a:focus {
  color: #fff;
  background-color: #080808;
}
.navbar-inverse .navbar-nav > .disabled > a,
.navbar-inverse .navbar-nav > .disabled > a:hover,
.navbar-inverse .navbar-nav > .disabled > a:focus {
  color: #444;
  background-color: transparent;
}
.navbar-inverse .navbar-toggle {
  border-color: #333;
}
.navbar-inverse .navbar-toggle:hover,
.navbar-inverse .navbar-toggle:focus {
  background-color: #333;
}
.navbar-inverse .navbar-toggle .icon-bar {
  background-color: #fff;
}
.navbar-inverse .navbar-collapse,
.navbar-inverse .navbar-form {
  border-color: #101010;
}
.navbar-inverse .navbar-nav > .open > a,
.navbar-inverse .navbar-nav > .open > a:hover,
.navbar-inverse .navbar-nav > .open > a:focus {
  background-color: #080808;
  color: #fff;
}
@media (max-width: 540px) {
  .navbar-inverse .navbar-nav .open .dropdown-menu > .dropdown-header {
    border-color: #080808;
  }
  .navbar-inverse .navbar-nav .open .dropdown-menu .divider {
    background-color: #080808;
  }
  .navbar-inverse .navbar-nav .open .dropdown-menu > li > a {
    color: #9d9d9d;
  }
  .navbar-inverse .navbar-nav .open .dropdown-menu > li > a:hover,
  .navbar-inverse .navbar-nav .open .dropdown-menu > li > a:focus {
    color: #fff;
    background-color: transparent;
  }
  .navbar-inverse .navbar-nav .open .dropdown-menu > .active > a,
  .navbar-inverse .navbar-nav .open .dropdown-menu > .active > a:hover,
  .navbar-inverse .navbar-nav .open .dropdown-menu > .active > a:focus {
    color: #fff;
    background-color: #080808;
  }
  .navbar-inverse .navbar-nav .open .dropdown-menu > .disabled > a,
  .navbar-inverse .navbar-nav .open .dropdown-menu > .disabled > a:hover,
  .navbar-inverse .navbar-nav .open .dropdown-menu > .disabled > a:focus {
    color: #444;
    background-color: transparent;
  }
}
.navbar-inverse .navbar-link {
  color: #9d9d9d;
}
.navbar-inverse .navbar-link:hover {
  color: #fff;
}
.navbar-inverse .btn-link {
  color: #9d9d9d;
}
.navbar-inverse .btn-link:hover,
.navbar-inverse .btn-link:focus {
  color: #fff;
}
.navbar-inverse .btn-link[disabled]:hover,
fieldset[disabled] .navbar-inverse .btn-link:hover,
.navbar-inverse .btn-link[disabled]:focus,
fieldset[disabled] .navbar-inverse .btn-link:focus {
  color: #444;
}
.breadcrumb {
  padding: 8px 15px;
  margin-bottom: 18px;
  list-style: none;
  background-color: #f5f5f5;
  border-radius: 2px;
}
.breadcrumb > li {
  display: inline-block;
}
.breadcrumb > li + li:before {
  content: "/\00a0";
  padding: 0 5px;
  color: #5e5e5e;
}
.breadcrumb > .active {
  color: #777777;
}
.pagination {
  display: inline-block;
  padding-left: 0;
  margin: 18px 0;
  border-radius: 2px;
}
.pagination > li {
  display: inline;
}
.pagination > li > a,
.pagination > li > span {
  position: relative;
  float: left;
  padding: 6px 12px;
  line-height: 1.42857143;
  text-decoration: none;
  color: #337ab7;
  background-color: #fff;
  border: 1px solid #ddd;
  margin-left: -1px;
}
.pagination > li:first-child > a,
.pagination > li:first-child > span {
  margin-left: 0;
  border-bottom-left-radius: 2px;
  border-top-left-radius: 2px;
}
.pagination > li:last-child > a,
.pagination > li:last-child > span {
  border-bottom-right-radius: 2px;
  border-top-right-radius: 2px;
}
.pagination > li > a:hover,
.pagination > li > span:hover,
.pagination > li > a:focus,
.pagination > li > span:focus {
  z-index: 2;
  color: #23527c;
  background-color: #eeeeee;
  border-color: #ddd;
}
.pagination > .active > a,
.pagination > .active > span,
.pagination > .active > a:hover,
.pagination > .active > span:hover,
.pagination > .active > a:focus,
.pagination > .active > span:focus {
  z-index: 3;
  color: #fff;
  background-color: #337ab7;
  border-color: #337ab7;
  cursor: default;
}
.pagination > .disabled > span,
.pagination > .disabled > span:hover,
.pagination > .disabled > span:focus,
.pagination > .disabled > a,
.pagination > .disabled > a:hover,
.pagination > .disabled > a:focus {
  color: #777777;
  background-color: #fff;
  border-color: #ddd;
  cursor: not-allowed;
}
.pagination-lg > li > a,
.pagination-lg > li > span {
  padding: 10px 16px;
  font-size: 17px;
  line-height: 1.3333333;
}
.pagination-lg > li:first-child > a,
.pagination-lg > li:first-child > span {
  border-bottom-left-radius: 3px;
  border-top-left-radius: 3px;
}
.pagination-lg > li:last-child > a,
.pagination-lg > li:last-child > span {
  border-bottom-right-radius: 3px;
  border-top-right-radius: 3px;
}
.pagination-sm > li > a,
.pagination-sm > li > span {
  padding: 5px 10px;
  font-size: 12px;
  line-height: 1.5;
}
.pagination-sm > li:first-child > a,
.pagination-sm > li:first-child > span {
  border-bottom-left-radius: 1px;
  border-top-left-radius: 1px;
}
.pagination-sm > li:last-child > a,
.pagination-sm > li:last-child > span {
  border-bottom-right-radius: 1px;
  border-top-right-radius: 1px;
}
.pager {
  padding-left: 0;
  margin: 18px 0;
  list-style: none;
  text-align: center;
}
.pager li {
  display: inline;
}
.pager li > a,
.pager li > span {
  display: inline-block;
  padding: 5px 14px;
  background-color: #fff;
  border: 1px solid #ddd;
  border-radius: 15px;
}
.pager li > a:hover,
.pager li > a:focus {
  text-decoration: none;
  background-color: #eeeeee;
}
.pager .next > a,
.pager .next > span {
  float: right;
}
.pager .previous > a,
.pager .previous > span {
  float: left;
}
.pager .disabled > a,
.pager .disabled > a:hover,
.pager .disabled > a:focus,
.pager .disabled > span {
  color: #777777;
  background-color: #fff;
  cursor: not-allowed;
}
.label {
  display: inline;
  padding: .2em .6em .3em;
  font-size: 75%;
  font-weight: bold;
  line-height: 1;
  color: #fff;
  text-align: center;
  white-space: nowrap;
  vertical-align: baseline;
  border-radius: .25em;
}
a.label:hover,
a.label:focus {
  color: #fff;
  text-decoration: none;
  cursor: pointer;
}
.label:empty {
  display: none;
}
.btn .label {
  position: relative;
  top: -1px;
}
.label-default {
  background-color: #777777;
}
.label-default[href]:hover,
.label-default[href]:focus {
  background-color: #5e5e5e;
}
.label-primary {
  background-color: #337ab7;
}
.label-primary[href]:hover,
.label-primary[href]:focus {
  background-color: #286090;
}
.label-success {
  background-color: #5cb85c;
}
.label-success[href]:hover,
.label-success[href]:focus {
  background-color: #449d44;
}
.label-info {
  background-color: #5bc0de;
}
.label-info[href]:hover,
.label-info[href]:focus {
  background-color: #31b0d5;
}
.label-warning {
  background-color: #f0ad4e;
}
.label-warning[href]:hover,
.label-warning[href]:focus {
  background-color: #ec971f;
}
.label-danger {
  background-color: #d9534f;
}
.label-danger[href]:hover,
.label-danger[href]:focus {
  background-color: #c9302c;
}
.badge {
  display: inline-block;
  min-width: 10px;
  padding: 3px 7px;
  font-size: 12px;
  font-weight: bold;
  color: #fff;
  line-height: 1;
  vertical-align: middle;
  white-space: nowrap;
  text-align: center;
  background-color: #777777;
  border-radius: 10px;
}
.badge:empty {
  display: none;
}
.btn .badge {
  position: relative;
  top: -1px;
}
.btn-xs .badge,
.btn-group-xs > .btn .badge {
  top: 0;
  padding: 1px 5px;
}
a.badge:hover,
a.badge:focus {
  color: #fff;
  text-decoration: none;
  cursor: pointer;
}
.list-group-item.active > .badge,
.nav-pills > .active > a > .badge {
  color: #337ab7;
  background-color: #fff;
}
.list-group-item > .badge {
  float: right;
}
.list-group-item > .badge + .badge {
  margin-right: 5px;
}
.nav-pills > li > a > .badge {
  margin-left: 3px;
}
.jumbotron {
  padding-top: 30px;
  padding-bottom: 30px;
  margin-bottom: 30px;
  color: inherit;
  background-color: #eeeeee;
}
.jumbotron h1,
.jumbotron .h1 {
  color: inherit;
}
.jumbotron p {
  margin-bottom: 15px;
  font-size: 20px;
  font-weight: 200;
}
.jumbotron > hr {
  border-top-color: #d5d5d5;
}
.container .jumbotron,
.container-fluid .jumbotron {
  border-radius: 3px;
  padding-left: 0px;
  padding-right: 0px;
}
.jumbotron .container {
  max-width: 100%;
}
@media screen and (min-width: 768px) {
  .jumbotron {
    padding-top: 48px;
    padding-bottom: 48px;
  }
  .container .jumbotron,
  .container-fluid .jumbotron {
    padding-left: 60px;
    padding-right: 60px;
  }
  .jumbotron h1,
  .jumbotron .h1 {
    font-size: 59px;
  }
}
.thumbnail {
  display: block;
  padding: 4px;
  margin-bottom: 18px;
  line-height: 1.42857143;
  background-color: #fff;
  border: 1px solid #ddd;
  border-radius: 2px;
  -webkit-transition: border 0.2s ease-in-out;
  -o-transition: border 0.2s ease-in-out;
  transition: border 0.2s ease-in-out;
}
.thumbnail > img,
.thumbnail a > img {
  margin-left: auto;
  margin-right: auto;
}
a.thumbnail:hover,
a.thumbnail:focus,
a.thumbnail.active {
  border-color: #337ab7;
}
.thumbnail .caption {
  padding: 9px;
  color: #000;
}
.alert {
  padding: 15px;
  margin-bottom: 18px;
  border: 1px solid transparent;
  border-radius: 2px;
}
.alert h4 {
  margin-top: 0;
  color: inherit;
}
.alert .alert-link {
  font-weight: bold;
}
.alert > p,
.alert > ul {
  margin-bottom: 0;
}
.alert > p + p {
  margin-top: 5px;
}
.alert-dismissable,
.alert-dismissible {
  padding-right: 35px;
}
.alert-dismissable .close,
.alert-dismissible .close {
  position: relative;
  top: -2px;
  right: -21px;
  color: inherit;
}
.alert-success {
  background-color: #dff0d8;
  border-color: #d6e9c6;
  color: #3c763d;
}
.alert-success hr {
  border-top-color: #c9e2b3;
}
.alert-success .alert-link {
  color: #2b542c;
}
.alert-info {
  background-color: #d9edf7;
  border-color: #bce8f1;
  color: #31708f;
}
.alert-info hr {
  border-top-color: #a6e1ec;
}
.alert-info .alert-link {
  color: #245269;
}
.alert-warning {
  background-color: #fcf8e3;
  border-color: #faebcc;
  color: #8a6d3b;
}
.alert-warning hr {
  border-top-color: #f7e1b5;
}
.alert-warning .alert-link {
  color: #66512c;
}
.alert-danger {
  background-color: #f2dede;
  border-color: #ebccd1;
  color: #a94442;
}
.alert-danger hr {
  border-top-color: #e4b9c0;
}
.alert-danger .alert-link {
  color: #843534;
}
@-webkit-keyframes progress-bar-stripes {
  from {
    background-position: 40px 0;
  }
  to {
    background-position: 0 0;
  }
}
@keyframes progress-bar-stripes {
  from {
    background-position: 40px 0;
  }
  to {
    background-position: 0 0;
  }
}
.progress {
  overflow: hidden;
  height: 18px;
  margin-bottom: 18px;
  background-color: #f5f5f5;
  border-radius: 2px;
  -webkit-box-shadow: inset 0 1px 2px rgba(0, 0, 0, 0.1);
  box-shadow: inset 0 1px 2px rgba(0, 0, 0, 0.1);
}
.progress-bar {
  float: left;
  width: 0%;
  height: 100%;
  font-size: 12px;
  line-height: 18px;
  color: #fff;
  text-align: center;
  background-color: #337ab7;
  -webkit-box-shadow: inset 0 -1px 0 rgba(0, 0, 0, 0.15);
  box-shadow: inset 0 -1px 0 rgba(0, 0, 0, 0.15);
  -webkit-transition: width 0.6s ease;
  -o-transition: width 0.6s ease;
  transition: width 0.6s ease;
}
.progress-striped .progress-bar,
.progress-bar-striped {
  background-image: -webkit-linear-gradient(45deg, rgba(255, 255, 255, 0.15) 25%, transparent 25%, transparent 50%, rgba(255, 255, 255, 0.15) 50%, rgba(255, 255, 255, 0.15) 75%, transparent 75%, transparent);
  background-image: -o-linear-gradient(45deg, rgba(255, 255, 255, 0.15) 25%, transparent 25%, transparent 50%, rgba(255, 255, 255, 0.15) 50%, rgba(255, 255, 255, 0.15) 75%, transparent 75%, transparent);
  background-image: linear-gradient(45deg, rgba(255, 255, 255, 0.15) 25%, transparent 25%, transparent 50%, rgba(255, 255, 255, 0.15) 50%, rgba(255, 255, 255, 0.15) 75%, transparent 75%, transparent);
  background-size: 40px 40px;
}
.progress.active .progress-bar,
.progress-bar.active {
  -webkit-animation: progress-bar-stripes 2s linear infinite;
  -o-animation: progress-bar-stripes 2s linear infinite;
  animation: progress-bar-stripes 2s linear infinite;
}
.progress-bar-success {
  background-color: #5cb85c;
}
.progress-striped .progress-bar-success {
  background-image: -webkit-linear-gradient(45deg, rgba(255, 255, 255, 0.15) 25%, transparent 25%, transparent 50%, rgba(255, 255, 255, 0.15) 50%, rgba(255, 255, 255, 0.15) 75%, transparent 75%, transparent);
  background-image: -o-linear-gradient(45deg, rgba(255, 255, 255, 0.15) 25%, transparent 25%, transparent 50%, rgba(255, 255, 255, 0.15) 50%, rgba(255, 255, 255, 0.15) 75%, transparent 75%, transparent);
  background-image: linear-gradient(45deg, rgba(255, 255, 255, 0.15) 25%, transparent 25%, transparent 50%, rgba(255, 255, 255, 0.15) 50%, rgba(255, 255, 255, 0.15) 75%, transparent 75%, transparent);
}
.progress-bar-info {
  background-color: #5bc0de;
}
.progress-striped .progress-bar-info {
  background-image: -webkit-linear-gradient(45deg, rgba(255, 255, 255, 0.15) 25%, transparent 25%, transparent 50%, rgba(255, 255, 255, 0.15) 50%, rgba(255, 255, 255, 0.15) 75%, transparent 75%, transparent);
  background-image: -o-linear-gradient(45deg, rgba(255, 255, 255, 0.15) 25%, transparent 25%, transparent 50%, rgba(255, 255, 255, 0.15) 50%, rgba(255, 255, 255, 0.15) 75%, transparent 75%, transparent);
  background-image: linear-gradient(45deg, rgba(255, 255, 255, 0.15) 25%, transparent 25%, transparent 50%, rgba(255, 255, 255, 0.15) 50%, rgba(255, 255, 255, 0.15) 75%, transparent 75%, transparent);
}
.progress-bar-warning {
  background-color: #f0ad4e;
}
.progress-striped .progress-bar-warning {
  background-image: -webkit-linear-gradient(45deg, rgba(255, 255, 255, 0.15) 25%, transparent 25%, transparent 50%, rgba(255, 255, 255, 0.15) 50%, rgba(255, 255, 255, 0.15) 75%, transparent 75%, transparent);
  background-image: -o-linear-gradient(45deg, rgba(255, 255, 255, 0.15) 25%, transparent 25%, transparent 50%, rgba(255, 255, 255, 0.15) 50%, rgba(255, 255, 255, 0.15) 75%, transparent 75%, transparent);
  background-image: linear-gradient(45deg, rgba(255, 255, 255, 0.15) 25%, transparent 25%, transparent 50%, rgba(255, 255, 255, 0.15) 50%, rgba(255, 255, 255, 0.15) 75%, transparent 75%, transparent);
}
.progress-bar-danger {
  background-color: #d9534f;
}
.progress-striped .progress-bar-danger {
  background-image: -webkit-linear-gradient(45deg, rgba(255, 255, 255, 0.15) 25%, transparent 25%, transparent 50%, rgba(255, 255, 255, 0.15) 50%, rgba(255, 255, 255, 0.15) 75%, transparent 75%, transparent);
  background-image: -o-linear-gradient(45deg, rgba(255, 255, 255, 0.15) 25%, transparent 25%, transparent 50%, rgba(255, 255, 255, 0.15) 50%, rgba(255, 255, 255, 0.15) 75%, transparent 75%, transparent);
  background-image: linear-gradient(45deg, rgba(255, 255, 255, 0.15) 25%, transparent 25%, transparent 50%, rgba(255, 255, 255, 0.15) 50%, rgba(255, 255, 255, 0.15) 75%, transparent 75%, transparent);
}
.media {
  margin-top: 15px;
}
.media:first-child {
  margin-top: 0;
}
.media,
.media-body {
  zoom: 1;
  overflow: hidden;
}
.media-body {
  width: 10000px;
}
.media-object {
  display: block;
}
.media-object.img-thumbnail {
  max-width: none;
}
.media-right,
.media > .pull-right {
  padding-left: 10px;
}
.media-left,
.media > .pull-left {
  padding-right: 10px;
}
.media-left,
.media-right,
.media-body {
  display: table-cell;
  vertical-align: top;
}
.media-middle {
  vertical-align: middle;
}
.media-bottom {
  vertical-align: bottom;
}
.media-heading {
  margin-top: 0;
  margin-bottom: 5px;
}
.media-list {
  padding-left: 0;
  list-style: none;
}
.list-group {
  margin-bottom: 20px;
  padding-left: 0;
}
.list-group-item {
  position: relative;
  display: block;
  padding: 10px 15px;
  margin-bottom: -1px;
  background-color: #fff;
  border: 1px solid #ddd;
}
.list-group-item:first-child {
  border-top-right-radius: 2px;
  border-top-left-radius: 2px;
}
.list-group-item:last-child {
  margin-bottom: 0;
  border-bottom-right-radius: 2px;
  border-bottom-left-radius: 2px;
}
a.list-group-item,
button.list-group-item {
  color: #555;
}
a.list-group-item .list-group-item-heading,
button.list-group-item .list-group-item-heading {
  color: #333;
}
a.list-group-item:hover,
button.list-group-item:hover,
a.list-group-item:focus,
button.list-group-item:focus {
  text-decoration: none;
  color: #555;
  background-color: #f5f5f5;
}
button.list-group-item {
  width: 100%;
  text-align: left;
}
.list-group-item.disabled,
.list-group-item.disabled:hover,
.list-group-item.disabled:focus {
  background-color: #eeeeee;
  color: #777777;
  cursor: not-allowed;
}
.list-group-item.disabled .list-group-item-heading,
.list-group-item.disabled:hover .list-group-item-heading,
.list-group-item.disabled:focus .list-group-item-heading {
  color: inherit;
}
.list-group-item.disabled .list-group-item-text,
.list-group-item.disabled:hover .list-group-item-text,
.list-group-item.disabled:focus .list-group-item-text {
  color: #777777;
}
.list-group-item.active,
.list-group-item.active:hover,
.list-group-item.active:focus {
  z-index: 2;
  color: #fff;
  background-color: #337ab7;
  border-color: #337ab7;
}
.list-group-item.active .list-group-item-heading,
.list-group-item.active:hover .list-group-item-heading,
.list-group-item.active:focus .list-group-item-heading,
.list-group-item.active .list-group-item-heading > small,
.list-group-item.active:hover .list-group-item-heading > small,
.list-group-item.active:focus .list-group-item-heading > small,
.list-group-item.active .list-group-item-heading > .small,
.list-group-item.active:hover .list-group-item-heading > .small,
.list-group-item.active:focus .list-group-item-heading > .small {
  color: inherit;
}
.list-group-item.active .list-group-item-text,
.list-group-item.active:hover .list-group-item-text,
.list-group-item.active:focus .list-group-item-text {
  color: #c7ddef;
}
.list-group-item-success {
  color: #3c763d;
  background-color: #dff0d8;
}
a.list-group-item-success,
button.list-group-item-success {
  color: #3c763d;
}
a.list-group-item-success .list-group-item-heading,
button.list-group-item-success .list-group-item-heading {
  color: inherit;
}
a.list-group-item-success:hover,
button.list-group-item-success:hover,
a.list-group-item-success:focus,
button.list-group-item-success:focus {
  color: #3c763d;
  background-color: #d0e9c6;
}
a.list-group-item-success.active,
button.list-group-item-success.active,
a.list-group-item-success.active:hover,
button.list-group-item-success.active:hover,
a.list-group-item-success.active:focus,
button.list-group-item-success.active:focus {
  color: #fff;
  background-color: #3c763d;
  border-color: #3c763d;
}
.list-group-item-info {
  color: #31708f;
  background-color: #d9edf7;
}
a.list-group-item-info,
button.list-group-item-info {
  color: #31708f;
}
a.list-group-item-info .list-group-item-heading,
button.list-group-item-info .list-group-item-heading {
  color: inherit;
}
a.list-group-item-info:hover,
button.list-group-item-info:hover,
a.list-group-item-info:focus,
button.list-group-item-info:focus {
  color: #31708f;
  background-color: #c4e3f3;
}
a.list-group-item-info.active,
button.list-group-item-info.active,
a.list-group-item-info.active:hover,
button.list-group-item-info.active:hover,
a.list-group-item-info.active:focus,
button.list-group-item-info.active:focus {
  color: #fff;
  background-color: #31708f;
  border-color: #31708f;
}
.list-group-item-warning {
  color: #8a6d3b;
  background-color: #fcf8e3;
}
a.list-group-item-warning,
button.list-group-item-warning {
  color: #8a6d3b;
}
a.list-group-item-warning .list-group-item-heading,
button.list-group-item-warning .list-group-item-heading {
  color: inherit;
}
a.list-group-item-warning:hover,
button.list-group-item-warning:hover,
a.list-group-item-warning:focus,
button.list-group-item-warning:focus {
  color: #8a6d3b;
  background-color: #faf2cc;
}
a.list-group-item-warning.active,
button.list-group-item-warning.active,
a.list-group-item-warning.active:hover,
button.list-group-item-warning.active:hover,
a.list-group-item-warning.active:focus,
button.list-group-item-warning.active:focus {
  color: #fff;
  background-color: #8a6d3b;
  border-color: #8a6d3b;
}
.list-group-item-danger {
  color: #a94442;
  background-color: #f2dede;
}
a.list-group-item-danger,
button.list-group-item-danger {
  color: #a94442;
}
a.list-group-item-danger .list-group-item-heading,
button.list-group-item-danger .list-group-item-heading {
  color: inherit;
}
a.list-group-item-danger:hover,
button.list-group-item-danger:hover,
a.list-group-item-danger:focus,
button.list-group-item-danger:focus {
  color: #a94442;
  background-color: #ebcccc;
}
a.list-group-item-danger.active,
button.list-group-item-danger.active,
a.list-group-item-danger.active:hover,
button.list-group-item-danger.active:hover,
a.list-group-item-danger.active:focus,
button.list-group-item-danger.active:focus {
  color: #fff;
  background-color: #a94442;
  border-color: #a94442;
}
.list-group-item-heading {
  margin-top: 0;
  margin-bottom: 5px;
}
.list-group-item-text {
  margin-bottom: 0;
  line-height: 1.3;
}
.panel {
  margin-bottom: 18px;
  background-color: #fff;
  border: 1px solid transparent;
  border-radius: 2px;
  -webkit-box-shadow: 0 1px 1px rgba(0, 0, 0, 0.05);
  box-shadow: 0 1px 1px rgba(0, 0, 0, 0.05);
}
.panel-body {
  padding: 15px;
}
.panel-heading {
  padding: 10px 15px;
  border-bottom: 1px solid transparent;
  border-top-right-radius: 1px;
  border-top-left-radius: 1px;
}
.panel-heading > .dropdown .dropdown-toggle {
  color: inherit;
}
.panel-title {
  margin-top: 0;
  margin-bottom: 0;
  font-size: 15px;
  color: inherit;
}
.panel-title > a,
.panel-title > small,
.panel-title > .small,
.panel-title > small > a,
.panel-title > .small > a {
  color: inherit;
}
.panel-footer {
  padding: 10px 15px;
  background-color: #f5f5f5;
  border-top: 1px solid #ddd;
  border-bottom-right-radius: 1px;
  border-bottom-left-radius: 1px;
}
.panel > .list-group,
.panel > .panel-collapse > .list-group {
  margin-bottom: 0;
}
.panel > .list-group .list-group-item,
.panel > .panel-collapse > .list-group .list-group-item {
  border-width: 1px 0;
  border-radius: 0;
}
.panel > .list-group:first-child .list-group-item:first-child,
.panel > .panel-collapse > .list-group:first-child .list-group-item:first-child {
  border-top: 0;
  border-top-right-radius: 1px;
  border-top-left-radius: 1px;
}
.panel > .list-group:last-child .list-group-item:last-child,
.panel > .panel-collapse > .list-group:last-child .list-group-item:last-child {
  border-bottom: 0;
  border-bottom-right-radius: 1px;
  border-bottom-left-radius: 1px;
}
.panel > .panel-heading + .panel-collapse > .list-group .list-group-item:first-child {
  border-top-right-radius: 0;
  border-top-left-radius: 0;
}
.panel-heading + .list-group .list-group-item:first-child {
  border-top-width: 0;
}
.list-group + .panel-footer {
  border-top-width: 0;
}
.panel > .table,
.panel > .table-responsive > .table,
.panel > .panel-collapse > .table {
  margin-bottom: 0;
}
.panel > .table caption,
.panel > .table-responsive > .table caption,
.panel > .panel-collapse > .table caption {
  padding-left: 15px;
  padding-right: 15px;
}
.panel > .table:first-child,
.panel > .table-responsive:first-child > .table:first-child {
  border-top-right-radius: 1px;
  border-top-left-radius: 1px;
}
.panel > .table:first-child > thead:first-child > tr:first-child,
.panel > .table-responsive:first-child > .table:first-child > thead:first-child > tr:first-child,
.panel > .table:first-child > tbody:first-child > tr:first-child,
.panel > .table-responsive:first-child > .table:first-child > tbody:first-child > tr:first-child {
  border-top-left-radius: 1px;
  border-top-right-radius: 1px;
}
.panel > .table:first-child > thead:first-child > tr:first-child td:first-child,
.panel > .table-responsive:first-child > .table:first-child > thead:first-child > tr:first-child td:first-child,
.panel > .table:first-child > tbody:first-child > tr:first-child td:first-child,
.panel > .table-responsive:first-child > .table:first-child > tbody:first-child > tr:first-child td:first-child,
.panel > .table:first-child > thead:first-child > tr:first-child th:first-child,
.panel > .table-responsive:first-child > .table:first-child > thead:first-child > tr:first-child th:first-child,
.panel > .table:first-child > tbody:first-child > tr:first-child th:first-child,
.panel > .table-responsive:first-child > .table:first-child > tbody:first-child > tr:first-child th:first-child {
  border-top-left-radius: 1px;
}
.panel > .table:first-child > thead:first-child > tr:first-child td:last-child,
.panel > .table-responsive:first-child > .table:first-child > thead:first-child > tr:first-child td:last-child,
.panel > .table:first-child > tbody:first-child > tr:first-child td:last-child,
.panel > .table-responsive:first-child > .table:first-child > tbody:first-child > tr:first-child td:last-child,
.panel > .table:first-child > thead:first-child > tr:first-child th:last-child,
.panel > .table-responsive:first-child > .table:first-child > thead:first-child > tr:first-child th:last-child,
.panel > .table:first-child > tbody:first-child > tr:first-child th:last-child,
.panel > .table-responsive:first-child > .table:first-child > tbody:first-child > tr:first-child th:last-child {
  border-top-right-radius: 1px;
}
.panel > .table:last-child,
.panel > .table-responsive:last-child > .table:last-child {
  border-bottom-right-radius: 1px;
  border-bottom-left-radius: 1px;
}
.panel > .table:last-child > tbody:last-child > tr:last-child,
.panel > .table-responsive:last-child > .table:last-child > tbody:last-child > tr:last-child,
.panel > .table:last-child > tfoot:last-child > tr:last-child,
.panel > .table-responsive:last-child > .table:last-child > tfoot:last-child > tr:last-child {
  border-bottom-left-radius: 1px;
  border-bottom-right-radius: 1px;
}
.panel > .table:last-child > tbody:last-child > tr:last-child td:first-child,
.panel > .table-responsive:last-child > .table:last-child > tbody:last-child > tr:last-child td:first-child,
.panel > .table:last-child > tfoot:last-child > tr:last-child td:first-child,
.panel > .table-responsive:last-child > .table:last-child > tfoot:last-child > tr:last-child td:first-child,
.panel > .table:last-child > tbody:last-child > tr:last-child th:first-child,
.panel > .table-responsive:last-child > .table:last-child > tbody:last-child > tr:last-child th:first-child,
.panel > .table:last-child > tfoot:last-child > tr:last-child th:first-child,
.panel > .table-responsive:last-child > .table:last-child > tfoot:last-child > tr:last-child th:first-child {
  border-bottom-left-radius: 1px;
}
.panel > .table:last-child > tbody:last-child > tr:last-child td:last-child,
.panel > .table-responsive:last-child > .table:last-child > tbody:last-child > tr:last-child td:last-child,
.panel > .table:last-child > tfoot:last-child > tr:last-child td:last-child,
.panel > .table-responsive:last-child > .table:last-child > tfoot:last-child > tr:last-child td:last-child,
.panel > .table:last-child > tbody:last-child > tr:last-child th:last-child,
.panel > .table-responsive:last-child > .table:last-child > tbody:last-child > tr:last-child th:last-child,
.panel > .table:last-child > tfoot:last-child > tr:last-child th:last-child,
.panel > .table-responsive:last-child > .table:last-child > tfoot:last-child > tr:last-child th:last-child {
  border-bottom-right-radius: 1px;
}
.panel > .panel-body + .table,
.panel > .panel-body + .table-responsive,
.panel > .table + .panel-body,
.panel > .table-responsive + .panel-body {
  border-top: 1px solid #ddd;
}
.panel > .table > tbody:first-child > tr:first-child th,
.panel > .table > tbody:first-child > tr:first-child td {
  border-top: 0;
}
.panel > .table-bordered,
.panel > .table-responsive > .table-bordered {
  border: 0;
}
.panel > .table-bordered > thead > tr > th:first-child,
.panel > .table-responsive > .table-bordered > thead > tr > th:first-child,
.panel > .table-bordered > tbody > tr > th:first-child,
.panel > .table-responsive > .table-bordered > tbody > tr > th:first-child,
.panel > .table-bordered > tfoot > tr > th:first-child,
.panel > .table-responsive > .table-bordered > tfoot > tr > th:first-child,
.panel > .table-bordered > thead > tr > td:first-child,
.panel > .table-responsive > .table-bordered > thead > tr > td:first-child,
.panel > .table-bordered > tbody > tr > td:first-child,
.panel > .table-responsive > .table-bordered > tbody > tr > td:first-child,
.panel > .table-bordered > tfoot > tr > td:first-child,
.panel > .table-responsive > .table-bordered > tfoot > tr > td:first-child {
  border-left: 0;
}
.panel > .table-bordered > thead > tr > th:last-child,
.panel > .table-responsive > .table-bordered > thead > tr > th:last-child,
.panel > .table-bordered > tbody > tr > th:last-child,
.panel > .table-responsive > .table-bordered > tbody > tr > th:last-child,
.panel > .table-bordered > tfoot > tr > th:last-child,
.panel > .table-responsive > .table-bordered > tfoot > tr > th:last-child,
.panel > .table-bordered > thead > tr > td:last-child,
.panel > .table-responsive > .table-bordered > thead > tr > td:last-child,
.panel > .table-bordered > tbody > tr > td:last-child,
.panel > .table-responsive > .table-bordered > tbody > tr > td:last-child,
.panel > .table-bordered > tfoot > tr > td:last-child,
.panel > .table-responsive > .table-bordered > tfoot > tr > td:last-child {
  border-right: 0;
}
.panel > .table-bordered > thead > tr:first-child > td,
.panel > .table-responsive > .table-bordered > thead > tr:first-child > td,
.panel > .table-bordered > tbody > tr:first-child > td,
.panel > .table-responsive > .table-bordered > tbody > tr:first-child > td,
.panel > .table-bordered > thead > tr:first-child > th,
.panel > .table-responsive > .table-bordered > thead > tr:first-child > th,
.panel > .table-bordered > tbody > tr:first-child > th,
.panel > .table-responsive > .table-bordered > tbody > tr:first-child > th {
  border-bottom: 0;
}
.panel > .table-bordered > tbody > tr:last-child > td,
.panel > .table-responsive > .table-bordered > tbody > tr:last-child > td,
.panel > .table-bordered > tfoot > tr:last-child > td,
.panel > .table-responsive > .table-bordered > tfoot > tr:last-child > td,
.panel > .table-bordered > tbody > tr:last-child > th,
.panel > .table-responsive > .table-bordered > tbody > tr:last-child > th,
.panel > .table-bordered > tfoot > tr:last-child > th,
.panel > .table-responsive > .table-bordered > tfoot > tr:last-child > th {
  border-bottom: 0;
}
.panel > .table-responsive {
  border: 0;
  margin-bottom: 0;
}
.panel-group {
  margin-bottom: 18px;
}
.panel-group .panel {
  margin-bottom: 0;
  border-radius: 2px;
}
.panel-group .panel + .panel {
  margin-top: 5px;
}
.panel-group .panel-heading {
  border-bottom: 0;
}
.panel-group .panel-heading + .panel-collapse > .panel-body,
.panel-group .panel-heading + .panel-collapse > .list-group {
  border-top: 1px solid #ddd;
}
.panel-group .panel-footer {
  border-top: 0;
}
.panel-group .panel-footer + .panel-collapse .panel-body {
  border-bottom: 1px solid #ddd;
}
.panel-default {
  border-color: #ddd;
}
.panel-default > .panel-heading {
  color: #333333;
  background-color: #f5f5f5;
  border-color: #ddd;
}
.panel-default > .panel-heading + .panel-collapse > .panel-body {
  border-top-color: #ddd;
}
.panel-default > .panel-heading .badge {
  color: #f5f5f5;
  background-color: #333333;
}
.panel-default > .panel-footer + .panel-collapse > .panel-body {
  border-bottom-color: #ddd;
}
.panel-primary {
  border-color: #337ab7;
}
.panel-primary > .panel-heading {
  color: #fff;
  background-color: #337ab7;
  border-color: #337ab7;
}
.panel-primary > .panel-heading + .panel-collapse > .panel-body {
  border-top-color: #337ab7;
}
.panel-primary > .panel-heading .badge {
  color: #337ab7;
  background-color: #fff;
}
.panel-primary > .panel-footer + .panel-collapse > .panel-body {
  border-bottom-color: #337ab7;
}
.panel-success {
  border-color: #d6e9c6;
}
.panel-success > .panel-heading {
  color: #3c763d;
  background-color: #dff0d8;
  border-color: #d6e9c6;
}
.panel-success > .panel-heading + .panel-collapse > .panel-body {
  border-top-color: #d6e9c6;
}
.panel-success > .panel-heading .badge {
  color: #dff0d8;
  background-color: #3c763d;
}
.panel-success > .panel-footer + .panel-collapse > .panel-body {
  border-bottom-color: #d6e9c6;
}
.panel-info {
  border-color: #bce8f1;
}
.panel-info > .panel-heading {
  color: #31708f;
  background-color: #d9edf7;
  border-color: #bce8f1;
}
.panel-info > .panel-heading + .panel-collapse > .panel-body {
  border-top-color: #bce8f1;
}
.panel-info > .panel-heading .badge {
  color: #d9edf7;
  background-color: #31708f;
}
.panel-info > .panel-footer + .panel-collapse > .panel-body {
  border-bottom-color: #bce8f1;
}
.panel-warning {
  border-color: #faebcc;
}
.panel-warning > .panel-heading {
  color: #8a6d3b;
  background-color: #fcf8e3;
  border-color: #faebcc;
}
.panel-warning > .panel-heading + .panel-collapse > .panel-body {
  border-top-color: #faebcc;
}
.panel-warning > .panel-heading .badge {
  color: #fcf8e3;
  background-color: #8a6d3b;
}
.panel-warning > .panel-footer + .panel-collapse > .panel-body {
  border-bottom-color: #faebcc;
}
.panel-danger {
  border-color: #ebccd1;
}
.panel-danger > .panel-heading {
  color: #a94442;
  background-color: #f2dede;
  border-color: #ebccd1;
}
.panel-danger > .panel-heading + .panel-collapse > .panel-body {
  border-top-color: #ebccd1;
}
.panel-danger > .panel-heading .badge {
  color: #f2dede;
  background-color: #a94442;
}
.panel-danger > .panel-footer + .panel-collapse > .panel-body {
  border-bottom-color: #ebccd1;
}
.embed-responsive {
  position: relative;
  display: block;
  height: 0;
  padding: 0;
  overflow: hidden;
}
.embed-responsive .embed-responsive-item,
.embed-responsive iframe,
.embed-responsive embed,
.embed-responsive object,
.embed-responsive video {
  position: absolute;
  top: 0;
  left: 0;
  bottom: 0;
  height: 100%;
  width: 100%;
  border: 0;
}
.embed-responsive-16by9 {
  padding-bottom: 56.25%;
}
.embed-responsive-4by3 {
  padding-bottom: 75%;
}
.well {
  min-height: 20px;
  padding: 19px;
  margin-bottom: 20px;
  background-color: #f5f5f5;
  border: 1px solid #e3e3e3;
  border-radius: 2px;
  -webkit-box-shadow: inset 0 1px 1px rgba(0, 0, 0, 0.05);
  box-shadow: inset 0 1px 1px rgba(0, 0, 0, 0.05);
}
.well blockquote {
  border-color: #ddd;
  border-color: rgba(0, 0, 0, 0.15);
}
.well-lg {
  padding: 24px;
  border-radius: 3px;
}
.well-sm {
  padding: 9px;
  border-radius: 1px;
}
.close {
  float: right;
  font-size: 19.5px;
  font-weight: bold;
  line-height: 1;
  color: #000;
  text-shadow: 0 1px 0 #fff;
  opacity: 0.2;
  filter: alpha(opacity=20);
}
.close:hover,
.close:focus {
  color: #000;
  text-decoration: none;
  cursor: pointer;
  opacity: 0.5;
  filter: alpha(opacity=50);
}
button.close {
  padding: 0;
  cursor: pointer;
  background: transparent;
  border: 0;
  -webkit-appearance: none;
}
.modal-open {
  overflow: hidden;
}
.modal {
  display: none;
  overflow: hidden;
  position: fixed;
  top: 0;
  right: 0;
  bottom: 0;
  left: 0;
  z-index: 1050;
  -webkit-overflow-scrolling: touch;
  outline: 0;
}
.modal.fade .modal-dialog {
  -webkit-transform: translate(0, -25%);
  -ms-transform: translate(0, -25%);
  -o-transform: translate(0, -25%);
  transform: translate(0, -25%);
  -webkit-transition: -webkit-transform 0.3s ease-out;
  -moz-transition: -moz-transform 0.3s ease-out;
  -o-transition: -o-transform 0.3s ease-out;
  transition: transform 0.3s ease-out;
}
.modal.in .modal-dialog {
  -webkit-transform: translate(0, 0);
  -ms-transform: translate(0, 0);
  -o-transform: translate(0, 0);
  transform: translate(0, 0);
}
.modal-open .modal {
  overflow-x: hidden;
  overflow-y: auto;
}
.modal-dialog {
  position: relative;
  width: auto;
  margin: 10px;
}
.modal-content {
  position: relative;
  background-color: #fff;
  border: 1px solid #999;
  border: 1px solid rgba(0, 0, 0, 0.2);
  border-radius: 3px;
  -webkit-box-shadow: 0 3px 9px rgba(0, 0, 0, 0.5);
  box-shadow: 0 3px 9px rgba(0, 0, 0, 0.5);
  background-clip: padding-box;
  outline: 0;
}
.modal-backdrop {
  position: fixed;
  top: 0;
  right: 0;
  bottom: 0;
  left: 0;
  z-index: 1040;
  background-color: #000;
}
.modal-backdrop.fade {
  opacity: 0;
  filter: alpha(opacity=0);
}
.modal-backdrop.in {
  opacity: 0.5;
  filter: alpha(opacity=50);
}
.modal-header {
  padding: 15px;
  border-bottom: 1px solid #e5e5e5;
}
.modal-header .close {
  margin-top: -2px;
}
.modal-title {
  margin: 0;
  line-height: 1.42857143;
}
.modal-body {
  position: relative;
  padding: 15px;
}
.modal-footer {
  padding: 15px;
  text-align: right;
  border-top: 1px solid #e5e5e5;
}
.modal-footer .btn + .btn {
  margin-left: 5px;
  margin-bottom: 0;
}
.modal-footer .btn-group .btn + .btn {
  margin-left: -1px;
}
.modal-footer .btn-block + .btn-block {
  margin-left: 0;
}
.modal-scrollbar-measure {
  position: absolute;
  top: -9999px;
  width: 50px;
  height: 50px;
  overflow: scroll;
}
@media (min-width: 768px) {
  .modal-dialog {
    width: 600px;
    margin: 30px auto;
  }
  .modal-content {
    -webkit-box-shadow: 0 5px 15px rgba(0, 0, 0, 0.5);
    box-shadow: 0 5px 15px rgba(0, 0, 0, 0.5);
  }
  .modal-sm {
    width: 300px;
  }
}
@media (min-width: 992px) {
  .modal-lg {
    width: 900px;
  }
}
.tooltip {
  position: absolute;
  z-index: 1070;
  display: block;
  font-family: "Helvetica Neue", Helvetica, Arial, sans-serif;
  font-style: normal;
  font-weight: normal;
  letter-spacing: normal;
  line-break: auto;
  line-height: 1.42857143;
  text-align: left;
  text-align: start;
  text-decoration: none;
  text-shadow: none;
  text-transform: none;
  white-space: normal;
  word-break: normal;
  word-spacing: normal;
  word-wrap: normal;
  font-size: 12px;
  opacity: 0;
  filter: alpha(opacity=0);
}
.tooltip.in {
  opacity: 0.9;
  filter: alpha(opacity=90);
}
.tooltip.top {
  margin-top: -3px;
  padding: 5px 0;
}
.tooltip.right {
  margin-left: 3px;
  padding: 0 5px;
}
.tooltip.bottom {
  margin-top: 3px;
  padding: 5px 0;
}
.tooltip.left {
  margin-left: -3px;
  padding: 0 5px;
}
.tooltip-inner {
  max-width: 200px;
  padding: 3px 8px;
  color: #fff;
  text-align: center;
  background-color: #000;
  border-radius: 2px;
}
.tooltip-arrow {
  position: absolute;
  width: 0;
  height: 0;
  border-color: transparent;
  border-style: solid;
}
.tooltip.top .tooltip-arrow {
  bottom: 0;
  left: 50%;
  margin-left: -5px;
  border-width: 5px 5px 0;
  border-top-color: #000;
}
.tooltip.top-left .tooltip-arrow {
  bottom: 0;
  right: 5px;
  margin-bottom: -5px;
  border-width: 5px 5px 0;
  border-top-color: #000;
}
.tooltip.top-right .tooltip-arrow {
  bottom: 0;
  left: 5px;
  margin-bottom: -5px;
  border-width: 5px 5px 0;
  border-top-color: #000;
}
.tooltip.right .tooltip-arrow {
  top: 50%;
  left: 0;
  margin-top: -5px;
  border-width: 5px 5px 5px 0;
  border-right-color: #000;
}
.tooltip.left .tooltip-arrow {
  top: 50%;
  right: 0;
  margin-top: -5px;
  border-width: 5px 0 5px 5px;
  border-left-color: #000;
}
.tooltip.bottom .tooltip-arrow {
  top: 0;
  left: 50%;
  margin-left: -5px;
  border-width: 0 5px 5px;
  border-bottom-color: #000;
}
.tooltip.bottom-left .tooltip-arrow {
  top: 0;
  right: 5px;
  margin-top: -5px;
  border-width: 0 5px 5px;
  border-bottom-color: #000;
}
.tooltip.bottom-right .tooltip-arrow {
  top: 0;
  left: 5px;
  margin-top: -5px;
  border-width: 0 5px 5px;
  border-bottom-color: #000;
}
.popover {
  position: absolute;
  top: 0;
  left: 0;
  z-index: 1060;
  display: none;
  max-width: 276px;
  padding: 1px;
  font-family: "Helvetica Neue", Helvetica, Arial, sans-serif;
  font-style: normal;
  font-weight: normal;
  letter-spacing: normal;
  line-break: auto;
  line-height: 1.42857143;
  text-align: left;
  text-align: start;
  text-decoration: none;
  text-shadow: none;
  text-transform: none;
  white-space: normal;
  word-break: normal;
  word-spacing: normal;
  word-wrap: normal;
  font-size: 13px;
  background-color: #fff;
  background-clip: padding-box;
  border: 1px solid #ccc;
  border: 1px solid rgba(0, 0, 0, 0.2);
  border-radius: 3px;
  -webkit-box-shadow: 0 5px 10px rgba(0, 0, 0, 0.2);
  box-shadow: 0 5px 10px rgba(0, 0, 0, 0.2);
}
.popover.top {
  margin-top: -10px;
}
.popover.right {
  margin-left: 10px;
}
.popover.bottom {
  margin-top: 10px;
}
.popover.left {
  margin-left: -10px;
}
.popover-title {
  margin: 0;
  padding: 8px 14px;
  font-size: 13px;
  background-color: #f7f7f7;
  border-bottom: 1px solid #ebebeb;
  border-radius: 2px 2px 0 0;
}
.popover-content {
  padding: 9px 14px;
}
.popover > .arrow,
.popover > .arrow:after {
  position: absolute;
  display: block;
  width: 0;
  height: 0;
  border-color: transparent;
  border-style: solid;
}
.popover > .arrow {
  border-width: 11px;
}
.popover > .arrow:after {
  border-width: 10px;
  content: "";
}
.popover.top > .arrow {
  left: 50%;
  margin-left: -11px;
  border-bottom-width: 0;
  border-top-color: #999999;
  border-top-color: rgba(0, 0, 0, 0.25);
  bottom: -11px;
}
.popover.top > .arrow:after {
  content: " ";
  bottom: 1px;
  margin-left: -10px;
  border-bottom-width: 0;
  border-top-color: #fff;
}
.popover.right > .arrow {
  top: 50%;
  left: -11px;
  margin-top: -11px;
  border-left-width: 0;
  border-right-color: #999999;
  border-right-color: rgba(0, 0, 0, 0.25);
}
.popover.right > .arrow:after {
  content: " ";
  left: 1px;
  bottom: -10px;
  border-left-width: 0;
  border-right-color: #fff;
}
.popover.bottom > .arrow {
  left: 50%;
  margin-left: -11px;
  border-top-width: 0;
  border-bottom-color: #999999;
  border-bottom-color: rgba(0, 0, 0, 0.25);
  top: -11px;
}
.popover.bottom > .arrow:after {
  content: " ";
  top: 1px;
  margin-left: -10px;
  border-top-width: 0;
  border-bottom-color: #fff;
}
.popover.left > .arrow {
  top: 50%;
  right: -11px;
  margin-top: -11px;
  border-right-width: 0;
  border-left-color: #999999;
  border-left-color: rgba(0, 0, 0, 0.25);
}
.popover.left > .arrow:after {
  content: " ";
  right: 1px;
  border-right-width: 0;
  border-left-color: #fff;
  bottom: -10px;
}
.carousel {
  position: relative;
}
.carousel-inner {
  position: relative;
  overflow: hidden;
  width: 100%;
}
.carousel-inner > .item {
  display: none;
  position: relative;
  -webkit-transition: 0.6s ease-in-out left;
  -o-transition: 0.6s ease-in-out left;
  transition: 0.6s ease-in-out left;
}
.carousel-inner > .item > img,
.carousel-inner > .item > a > img {
  line-height: 1;
}
@media all and (transform-3d), (-webkit-transform-3d) {
  .carousel-inner > .item {
    -webkit-transition: -webkit-transform 0.6s ease-in-out;
    -moz-transition: -moz-transform 0.6s ease-in-out;
    -o-transition: -o-transform 0.6s ease-in-out;
    transition: transform 0.6s ease-in-out;
    -webkit-backface-visibility: hidden;
    -moz-backface-visibility: hidden;
    backface-visibility: hidden;
    -webkit-perspective: 1000px;
    -moz-perspective: 1000px;
    perspective: 1000px;
  }
  .carousel-inner > .item.next,
  .carousel-inner > .item.active.right {
    -webkit-transform: translate3d(100%, 0, 0);
    transform: translate3d(100%, 0, 0);
    left: 0;
  }
  .carousel-inner > .item.prev,
  .carousel-inner > .item.active.left {
    -webkit-transform: translate3d(-100%, 0, 0);
    transform: translate3d(-100%, 0, 0);
    left: 0;
  }
  .carousel-inner > .item.next.left,
  .carousel-inner > .item.prev.right,
  .carousel-inner > .item.active {
    -webkit-transform: translate3d(0, 0, 0);
    transform: translate3d(0, 0, 0);
    left: 0;
  }
}
.carousel-inner > .active,
.carousel-inner > .next,
.carousel-inner > .prev {
  display: block;
}
.carousel-inner > .active {
  left: 0;
}
.carousel-inner > .next,
.carousel-inner > .prev {
  position: absolute;
  top: 0;
  width: 100%;
}
.carousel-inner > .next {
  left: 100%;
}
.carousel-inner > .prev {
  left: -100%;
}
.carousel-inner > .next.left,
.carousel-inner > .prev.right {
  left: 0;
}
.carousel-inner > .active.left {
  left: -100%;
}
.carousel-inner > .active.right {
  left: 100%;
}
.carousel-control {
  position: absolute;
  top: 0;
  left: 0;
  bottom: 0;
  width: 15%;
  opacity: 0.5;
  filter: alpha(opacity=50);
  font-size: 20px;
  color: #fff;
  text-align: center;
  text-shadow: 0 1px 2px rgba(0, 0, 0, 0.6);
  background-color: rgba(0, 0, 0, 0);
}
.carousel-control.left {
  background-image: -webkit-linear-gradient(left, rgba(0, 0, 0, 0.5) 0%, rgba(0, 0, 0, 0.0001) 100%);
  background-image: -o-linear-gradient(left, rgba(0, 0, 0, 0.5) 0%, rgba(0, 0, 0, 0.0001) 100%);
  background-image: linear-gradient(to right, rgba(0, 0, 0, 0.5) 0%, rgba(0, 0, 0, 0.0001) 100%);
  background-repeat: repeat-x;
  filter: progid:DXImageTransform.Microsoft.gradient(startColorstr='#80000000', endColorstr='#00000000', GradientType=1);
}
.carousel-control.right {
  left: auto;
  right: 0;
  background-image: -webkit-linear-gradient(left, rgba(0, 0, 0, 0.0001) 0%, rgba(0, 0, 0, 0.5) 100%);
  background-image: -o-linear-gradient(left, rgba(0, 0, 0, 0.0001) 0%, rgba(0, 0, 0, 0.5) 100%);
  background-image: linear-gradient(to right, rgba(0, 0, 0, 0.0001) 0%, rgba(0, 0, 0, 0.5) 100%);
  background-repeat: repeat-x;
  filter: progid:DXImageTransform.Microsoft.gradient(startColorstr='#00000000', endColorstr='#80000000', GradientType=1);
}
.carousel-control:hover,
.carousel-control:focus {
  outline: 0;
  color: #fff;
  text-decoration: none;
  opacity: 0.9;
  filter: alpha(opacity=90);
}
.carousel-control .icon-prev,
.carousel-control .icon-next,
.carousel-control .glyphicon-chevron-left,
.carousel-control .glyphicon-chevron-right {
  position: absolute;
  top: 50%;
  margin-top: -10px;
  z-index: 5;
  display: inline-block;
}
.carousel-control .icon-prev,
.carousel-control .glyphicon-chevron-left {
  left: 50%;
  margin-left: -10px;
}
.carousel-control .icon-next,
.carousel-control .glyphicon-chevron-right {
  right: 50%;
  margin-right: -10px;
}
.carousel-control .icon-prev,
.carousel-control .icon-next {
  width: 20px;
  height: 20px;
  line-height: 1;
  font-family: serif;
}
.carousel-control .icon-prev:before {
  content: '\2039';
}
.carousel-control .icon-next:before {
  content: '\203a';
}
.carousel-indicators {
  position: absolute;
  bottom: 10px;
  left: 50%;
  z-index: 15;
  width: 60%;
  margin-left: -30%;
  padding-left: 0;
  list-style: none;
  text-align: center;
}
.carousel-indicators li {
  display: inline-block;
  width: 10px;
  height: 10px;
  margin: 1px;
  text-indent: -999px;
  border: 1px solid #fff;
  border-radius: 10px;
  cursor: pointer;
  background-color: #000 \9;
  background-color: rgba(0, 0, 0, 0);
}
.carousel-indicators .active {
  margin: 0;
  width: 12px;
  height: 12px;
  background-color: #fff;
}
.carousel-caption {
  position: absolute;
  left: 15%;
  right: 15%;
  bottom: 20px;
  z-index: 10;
  padding-top: 20px;
  padding-bottom: 20px;
  color: #fff;
  text-align: center;
  text-shadow: 0 1px 2px rgba(0, 0, 0, 0.6);
}
.carousel-caption .btn {
  text-shadow: none;
}
@media screen and (min-width: 768px) {
  .carousel-control .glyphicon-chevron-left,
  .carousel-control .glyphicon-chevron-right,
  .carousel-control .icon-prev,
  .carousel-control .icon-next {
    width: 30px;
    height: 30px;
    margin-top: -10px;
    font-size: 30px;
  }
  .carousel-control .glyphicon-chevron-left,
  .carousel-control .icon-prev {
    margin-left: -10px;
  }
  .carousel-control .glyphicon-chevron-right,
  .carousel-control .icon-next {
    margin-right: -10px;
  }
  .carousel-caption {
    left: 20%;
    right: 20%;
    padding-bottom: 30px;
  }
  .carousel-indicators {
    bottom: 20px;
  }
}
.clearfix:before,
.clearfix:after,
.dl-horizontal dd:before,
.dl-horizontal dd:after,
.container:before,
.container:after,
.container-fluid:before,
.container-fluid:after,
.row:before,
.row:after,
.form-horizontal .form-group:before,
.form-horizontal .form-group:after,
.btn-toolbar:before,
.btn-toolbar:after,
.btn-group-vertical > .btn-group:before,
.btn-group-vertical > .btn-group:after,
.nav:before,
.nav:after,
.navbar:before,
.navbar:after,
.navbar-header:before,
.navbar-header:after,
.navbar-collapse:before,
.navbar-collapse:after,
.pager:before,
.pager:after,
.panel-body:before,
.panel-body:after,
.modal-header:before,
.modal-header:after,
.modal-footer:before,
.modal-footer:after,
.item_buttons:before,
.item_buttons:after {
  content: " ";
  display: table;
}
.clearfix:after,
.dl-horizontal dd:after,
.container:after,
.container-fluid:after,
.row:after,
.form-horizontal .form-group:after,
.btn-toolbar:after,
.btn-group-vertical > .btn-group:after,
.nav:after,
.navbar:after,
.navbar-header:after,
.navbar-collapse:after,
.pager:after,
.panel-body:after,
.modal-header:after,
.modal-footer:after,
.item_buttons:after {
  clear: both;
}
.center-block {
  display: block;
  margin-left: auto;
  margin-right: auto;
}
.pull-right {
  float: right !important;
}
.pull-left {
  float: left !important;
}
.hide {
  display: none !important;
}
.show {
  display: block !important;
}
.invisible {
  visibility: hidden;
}
.text-hide {
  font: 0/0 a;
  color: transparent;
  text-shadow: none;
  background-color: transparent;
  border: 0;
}
.hidden {
  display: none !important;
}
.affix {
  position: fixed;
}
@-ms-viewport {
  width: device-width;
}
.visible-xs,
.visible-sm,
.visible-md,
.visible-lg {
  display: none !important;
}
.visible-xs-block,
.visible-xs-inline,
.visible-xs-inline-block,
.visible-sm-block,
.visible-sm-inline,
.visible-sm-inline-block,
.visible-md-block,
.visible-md-inline,
.visible-md-inline-block,
.visible-lg-block,
.visible-lg-inline,
.visible-lg-inline-block {
  display: none !important;
}
@media (max-width: 767px) {
  .visible-xs {
    display: block !important;
  }
  table.visible-xs {
    display: table !important;
  }
  tr.visible-xs {
    display: table-row !important;
  }
  th.visible-xs,
  td.visible-xs {
    display: table-cell !important;
  }
}
@media (max-width: 767px) {
  .visible-xs-block {
    display: block !important;
  }
}
@media (max-width: 767px) {
  .visible-xs-inline {
    display: inline !important;
  }
}
@media (max-width: 767px) {
  .visible-xs-inline-block {
    display: inline-block !important;
  }
}
@media (min-width: 768px) and (max-width: 991px) {
  .visible-sm {
    display: block !important;
  }
  table.visible-sm {
    display: table !important;
  }
  tr.visible-sm {
    display: table-row !important;
  }
  th.visible-sm,
  td.visible-sm {
    display: table-cell !important;
  }
}
@media (min-width: 768px) and (max-width: 991px) {
  .visible-sm-block {
    display: block !important;
  }
}
@media (min-width: 768px) and (max-width: 991px) {
  .visible-sm-inline {
    display: inline !important;
  }
}
@media (min-width: 768px) and (max-width: 991px) {
  .visible-sm-inline-block {
    display: inline-block !important;
  }
}
@media (min-width: 992px) and (max-width: 1199px) {
  .visible-md {
    display: block !important;
  }
  table.visible-md {
    display: table !important;
  }
  tr.visible-md {
    display: table-row !important;
  }
  th.visible-md,
  td.visible-md {
    display: table-cell !important;
  }
}
@media (min-width: 992px) and (max-width: 1199px) {
  .visible-md-block {
    display: block !important;
  }
}
@media (min-width: 992px) and (max-width: 1199px) {
  .visible-md-inline {
    display: inline !important;
  }
}
@media (min-width: 992px) and (max-width: 1199px) {
  .visible-md-inline-block {
    display: inline-block !important;
  }
}
@media (min-width: 1200px) {
  .visible-lg {
    display: block !important;
  }
  table.visible-lg {
    display: table !important;
  }
  tr.visible-lg {
    display: table-row !important;
  }
  th.visible-lg,
  td.visible-lg {
    display: table-cell !important;
  }
}
@media (min-width: 1200px) {
  .visible-lg-block {
    display: block !important;
  }
}
@media (min-width: 1200px) {
  .visible-lg-inline {
    display: inline !important;
  }
}
@media (min-width: 1200px) {
  .visible-lg-inline-block {
    display: inline-block !important;
  }
}
@media (max-width: 767px) {
  .hidden-xs {
    display: none !important;
  }
}
@media (min-width: 768px) and (max-width: 991px) {
  .hidden-sm {
    display: none !important;
  }
}
@media (min-width: 992px) and (max-width: 1199px) {
  .hidden-md {
    display: none !important;
  }
}
@media (min-width: 1200px) {
  .hidden-lg {
    display: none !important;
  }
}
.visible-print {
  display: none !important;
}
@media print {
  .visible-print {
    display: block !important;
  }
  table.visible-print {
    display: table !important;
  }
  tr.visible-print {
    display: table-row !important;
  }
  th.visible-print,
  td.visible-print {
    display: table-cell !important;
  }
}
.visible-print-block {
  display: none !important;
}
@media print {
  .visible-print-block {
    display: block !important;
  }
}
.visible-print-inline {
  display: none !important;
}
@media print {
  .visible-print-inline {
    display: inline !important;
  }
}
.visible-print-inline-block {
  display: none !important;
}
@media print {
  .visible-print-inline-block {
    display: inline-block !important;
  }
}
@media print {
  .hidden-print {
    display: none !important;
  }
}
/*!
*
* Font Awesome
*
*/
/*!
 *  Font Awesome 4.2.0 by @davegandy - http://fontawesome.io - @fontawesome
 *  License - http://fontawesome.io/license (Font: SIL OFL 1.1, CSS: MIT License)
 */
/* FONT PATH
 * -------------------------- */
@font-face {
  font-family: 'FontAwesome';
  src: url('../components/font-awesome/fonts/fontawesome-webfont.eot?v=4.2.0');
  src: url('../components/font-awesome/fonts/fontawesome-webfont.eot?#iefix&v=4.2.0') format('embedded-opentype'), url('../components/font-awesome/fonts/fontawesome-webfont.woff?v=4.2.0') format('woff'), url('../components/font-awesome/fonts/fontawesome-webfont.ttf?v=4.2.0') format('truetype'), url('../components/font-awesome/fonts/fontawesome-webfont.svg?v=4.2.0#fontawesomeregular') format('svg');
  font-weight: normal;
  font-style: normal;
}
.fa {
  display: inline-block;
  font: normal normal normal 14px/1 FontAwesome;
  font-size: inherit;
  text-rendering: auto;
  -webkit-font-smoothing: antialiased;
  -moz-osx-font-smoothing: grayscale;
}
/* makes the font 33% larger relative to the icon container */
.fa-lg {
  font-size: 1.33333333em;
  line-height: 0.75em;
  vertical-align: -15%;
}
.fa-2x {
  font-size: 2em;
}
.fa-3x {
  font-size: 3em;
}
.fa-4x {
  font-size: 4em;
}
.fa-5x {
  font-size: 5em;
}
.fa-fw {
  width: 1.28571429em;
  text-align: center;
}
.fa-ul {
  padding-left: 0;
  margin-left: 2.14285714em;
  list-style-type: none;
}
.fa-ul > li {
  position: relative;
}
.fa-li {
  position: absolute;
  left: -2.14285714em;
  width: 2.14285714em;
  top: 0.14285714em;
  text-align: center;
}
.fa-li.fa-lg {
  left: -1.85714286em;
}
.fa-border {
  padding: .2em .25em .15em;
  border: solid 0.08em #eee;
  border-radius: .1em;
}
.pull-right {
  float: right;
}
.pull-left {
  float: left;
}
.fa.pull-left {
  margin-right: .3em;
}
.fa.pull-right {
  margin-left: .3em;
}
.fa-spin {
  -webkit-animation: fa-spin 2s infinite linear;
  animation: fa-spin 2s infinite linear;
}
@-webkit-keyframes fa-spin {
  0% {
    -webkit-transform: rotate(0deg);
    transform: rotate(0deg);
  }
  100% {
    -webkit-transform: rotate(359deg);
    transform: rotate(359deg);
  }
}
@keyframes fa-spin {
  0% {
    -webkit-transform: rotate(0deg);
    transform: rotate(0deg);
  }
  100% {
    -webkit-transform: rotate(359deg);
    transform: rotate(359deg);
  }
}
.fa-rotate-90 {
  filter: progid:DXImageTransform.Microsoft.BasicImage(rotation=1);
  -webkit-transform: rotate(90deg);
  -ms-transform: rotate(90deg);
  transform: rotate(90deg);
}
.fa-rotate-180 {
  filter: progid:DXImageTransform.Microsoft.BasicImage(rotation=2);
  -webkit-transform: rotate(180deg);
  -ms-transform: rotate(180deg);
  transform: rotate(180deg);
}
.fa-rotate-270 {
  filter: progid:DXImageTransform.Microsoft.BasicImage(rotation=3);
  -webkit-transform: rotate(270deg);
  -ms-transform: rotate(270deg);
  transform: rotate(270deg);
}
.fa-flip-horizontal {
  filter: progid:DXImageTransform.Microsoft.BasicImage(rotation=0, mirror=1);
  -webkit-transform: scale(-1, 1);
  -ms-transform: scale(-1, 1);
  transform: scale(-1, 1);
}
.fa-flip-vertical {
  filter: progid:DXImageTransform.Microsoft.BasicImage(rotation=2, mirror=1);
  -webkit-transform: scale(1, -1);
  -ms-transform: scale(1, -1);
  transform: scale(1, -1);
}
:root .fa-rotate-90,
:root .fa-rotate-180,
:root .fa-rotate-270,
:root .fa-flip-horizontal,
:root .fa-flip-vertical {
  filter: none;
}
.fa-stack {
  position: relative;
  display: inline-block;
  width: 2em;
  height: 2em;
  line-height: 2em;
  vertical-align: middle;
}
.fa-stack-1x,
.fa-stack-2x {
  position: absolute;
  left: 0;
  width: 100%;
  text-align: center;
}
.fa-stack-1x {
  line-height: inherit;
}
.fa-stack-2x {
  font-size: 2em;
}
.fa-inverse {
  color: #fff;
}
/* Font Awesome uses the Unicode Private Use Area (PUA) to ensure screen
   readers do not read off random characters that represent icons */
.fa-glass:before {
  content: "\f000";
}
.fa-music:before {
  content: "\f001";
}
.fa-search:before {
  content: "\f002";
}
.fa-envelope-o:before {
  content: "\f003";
}
.fa-heart:before {
  content: "\f004";
}
.fa-star:before {
  content: "\f005";
}
.fa-star-o:before {
  content: "\f006";
}
.fa-user:before {
  content: "\f007";
}
.fa-film:before {
  content: "\f008";
}
.fa-th-large:before {
  content: "\f009";
}
.fa-th:before {
  content: "\f00a";
}
.fa-th-list:before {
  content: "\f00b";
}
.fa-check:before {
  content: "\f00c";
}
.fa-remove:before,
.fa-close:before,
.fa-times:before {
  content: "\f00d";
}
.fa-search-plus:before {
  content: "\f00e";
}
.fa-search-minus:before {
  content: "\f010";
}
.fa-power-off:before {
  content: "\f011";
}
.fa-signal:before {
  content: "\f012";
}
.fa-gear:before,
.fa-cog:before {
  content: "\f013";
}
.fa-trash-o:before {
  content: "\f014";
}
.fa-home:before {
  content: "\f015";
}
.fa-file-o:before {
  content: "\f016";
}
.fa-clock-o:before {
  content: "\f017";
}
.fa-road:before {
  content: "\f018";
}
.fa-download:before {
  content: "\f019";
}
.fa-arrow-circle-o-down:before {
  content: "\f01a";
}
.fa-arrow-circle-o-up:before {
  content: "\f01b";
}
.fa-inbox:before {
  content: "\f01c";
}
.fa-play-circle-o:before {
  content: "\f01d";
}
.fa-rotate-right:before,
.fa-repeat:before {
  content: "\f01e";
}
.fa-refresh:before {
  content: "\f021";
}
.fa-list-alt:before {
  content: "\f022";
}
.fa-lock:before {
  content: "\f023";
}
.fa-flag:before {
  content: "\f024";
}
.fa-headphones:before {
  content: "\f025";
}
.fa-volume-off:before {
  content: "\f026";
}
.fa-volume-down:before {
  content: "\f027";
}
.fa-volume-up:before {
  content: "\f028";
}
.fa-qrcode:before {
  content: "\f029";
}
.fa-barcode:before {
  content: "\f02a";
}
.fa-tag:before {
  content: "\f02b";
}
.fa-tags:before {
  content: "\f02c";
}
.fa-book:before {
  content: "\f02d";
}
.fa-bookmark:before {
  content: "\f02e";
}
.fa-print:before {
  content: "\f02f";
}
.fa-camera:before {
  content: "\f030";
}
.fa-font:before {
  content: "\f031";
}
.fa-bold:before {
  content: "\f032";
}
.fa-italic:before {
  content: "\f033";
}
.fa-text-height:before {
  content: "\f034";
}
.fa-text-width:before {
  content: "\f035";
}
.fa-align-left:before {
  content: "\f036";
}
.fa-align-center:before {
  content: "\f037";
}
.fa-align-right:before {
  content: "\f038";
}
.fa-align-justify:before {
  content: "\f039";
}
.fa-list:before {
  content: "\f03a";
}
.fa-dedent:before,
.fa-outdent:before {
  content: "\f03b";
}
.fa-indent:before {
  content: "\f03c";
}
.fa-video-camera:before {
  content: "\f03d";
}
.fa-photo:before,
.fa-image:before,
.fa-picture-o:before {
  content: "\f03e";
}
.fa-pencil:before {
  content: "\f040";
}
.fa-map-marker:before {
  content: "\f041";
}
.fa-adjust:before {
  content: "\f042";
}
.fa-tint:before {
  content: "\f043";
}
.fa-edit:before,
.fa-pencil-square-o:before {
  content: "\f044";
}
.fa-share-square-o:before {
  content: "\f045";
}
.fa-check-square-o:before {
  content: "\f046";
}
.fa-arrows:before {
  content: "\f047";
}
.fa-step-backward:before {
  content: "\f048";
}
.fa-fast-backward:before {
  content: "\f049";
}
.fa-backward:before {
  content: "\f04a";
}
.fa-play:before {
  content: "\f04b";
}
.fa-pause:before {
  content: "\f04c";
}
.fa-stop:before {
  content: "\f04d";
}
.fa-forward:before {
  content: "\f04e";
}
.fa-fast-forward:before {
  content: "\f050";
}
.fa-step-forward:before {
  content: "\f051";
}
.fa-eject:before {
  content: "\f052";
}
.fa-chevron-left:before {
  content: "\f053";
}
.fa-chevron-right:before {
  content: "\f054";
}
.fa-plus-circle:before {
  content: "\f055";
}
.fa-minus-circle:before {
  content: "\f056";
}
.fa-times-circle:before {
  content: "\f057";
}
.fa-check-circle:before {
  content: "\f058";
}
.fa-question-circle:before {
  content: "\f059";
}
.fa-info-circle:before {
  content: "\f05a";
}
.fa-crosshairs:before {
  content: "\f05b";
}
.fa-times-circle-o:before {
  content: "\f05c";
}
.fa-check-circle-o:before {
  content: "\f05d";
}
.fa-ban:before {
  content: "\f05e";
}
.fa-arrow-left:before {
  content: "\f060";
}
.fa-arrow-right:before {
  content: "\f061";
}
.fa-arrow-up:before {
  content: "\f062";
}
.fa-arrow-down:before {
  content: "\f063";
}
.fa-mail-forward:before,
.fa-share:before {
  content: "\f064";
}
.fa-expand:before {
  content: "\f065";
}
.fa-compress:before {
  content: "\f066";
}
.fa-plus:before {
  content: "\f067";
}
.fa-minus:before {
  content: "\f068";
}
.fa-asterisk:before {
  content: "\f069";
}
.fa-exclamation-circle:before {
  content: "\f06a";
}
.fa-gift:before {
  content: "\f06b";
}
.fa-leaf:before {
  content: "\f06c";
}
.fa-fire:before {
  content: "\f06d";
}
.fa-eye:before {
  content: "\f06e";
}
.fa-eye-slash:before {
  content: "\f070";
}
.fa-warning:before,
.fa-exclamation-triangle:before {
  content: "\f071";
}
.fa-plane:before {
  content: "\f072";
}
.fa-calendar:before {
  content: "\f073";
}
.fa-random:before {
  content: "\f074";
}
.fa-comment:before {
  content: "\f075";
}
.fa-magnet:before {
  content: "\f076";
}
.fa-chevron-up:before {
  content: "\f077";
}
.fa-chevron-down:before {
  content: "\f078";
}
.fa-retweet:before {
  content: "\f079";
}
.fa-shopping-cart:before {
  content: "\f07a";
}
.fa-folder:before {
  content: "\f07b";
}
.fa-folder-open:before {
  content: "\f07c";
}
.fa-arrows-v:before {
  content: "\f07d";
}
.fa-arrows-h:before {
  content: "\f07e";
}
.fa-bar-chart-o:before,
.fa-bar-chart:before {
  content: "\f080";
}
.fa-twitter-square:before {
  content: "\f081";
}
.fa-facebook-square:before {
  content: "\f082";
}
.fa-camera-retro:before {
  content: "\f083";
}
.fa-key:before {
  content: "\f084";
}
.fa-gears:before,
.fa-cogs:before {
  content: "\f085";
}
.fa-comments:before {
  content: "\f086";
}
.fa-thumbs-o-up:before {
  content: "\f087";
}
.fa-thumbs-o-down:before {
  content: "\f088";
}
.fa-star-half:before {
  content: "\f089";
}
.fa-heart-o:before {
  content: "\f08a";
}
.fa-sign-out:before {
  content: "\f08b";
}
.fa-linkedin-square:before {
  content: "\f08c";
}
.fa-thumb-tack:before {
  content: "\f08d";
}
.fa-external-link:before {
  content: "\f08e";
}
.fa-sign-in:before {
  content: "\f090";
}
.fa-trophy:before {
  content: "\f091";
}
.fa-github-square:before {
  content: "\f092";
}
.fa-upload:before {
  content: "\f093";
}
.fa-lemon-o:before {
  content: "\f094";
}
.fa-phone:before {
  content: "\f095";
}
.fa-square-o:before {
  content: "\f096";
}
.fa-bookmark-o:before {
  content: "\f097";
}
.fa-phone-square:before {
  content: "\f098";
}
.fa-twitter:before {
  content: "\f099";
}
.fa-facebook:before {
  content: "\f09a";
}
.fa-github:before {
  content: "\f09b";
}
.fa-unlock:before {
  content: "\f09c";
}
.fa-credit-card:before {
  content: "\f09d";
}
.fa-rss:before {
  content: "\f09e";
}
.fa-hdd-o:before {
  content: "\f0a0";
}
.fa-bullhorn:before {
  content: "\f0a1";
}
.fa-bell:before {
  content: "\f0f3";
}
.fa-certificate:before {
  content: "\f0a3";
}
.fa-hand-o-right:before {
  content: "\f0a4";
}
.fa-hand-o-left:before {
  content: "\f0a5";
}
.fa-hand-o-up:before {
  content: "\f0a6";
}
.fa-hand-o-down:before {
  content: "\f0a7";
}
.fa-arrow-circle-left:before {
  content: "\f0a8";
}
.fa-arrow-circle-right:before {
  content: "\f0a9";
}
.fa-arrow-circle-up:before {
  content: "\f0aa";
}
.fa-arrow-circle-down:before {
  content: "\f0ab";
}
.fa-globe:before {
  content: "\f0ac";
}
.fa-wrench:before {
  content: "\f0ad";
}
.fa-tasks:before {
  content: "\f0ae";
}
.fa-filter:before {
  content: "\f0b0";
}
.fa-briefcase:before {
  content: "\f0b1";
}
.fa-arrows-alt:before {
  content: "\f0b2";
}
.fa-group:before,
.fa-users:before {
  content: "\f0c0";
}
.fa-chain:before,
.fa-link:before {
  content: "\f0c1";
}
.fa-cloud:before {
  content: "\f0c2";
}
.fa-flask:before {
  content: "\f0c3";
}
.fa-cut:before,
.fa-scissors:before {
  content: "\f0c4";
}
.fa-copy:before,
.fa-files-o:before {
  content: "\f0c5";
}
.fa-paperclip:before {
  content: "\f0c6";
}
.fa-save:before,
.fa-floppy-o:before {
  content: "\f0c7";
}
.fa-square:before {
  content: "\f0c8";
}
.fa-navicon:before,
.fa-reorder:before,
.fa-bars:before {
  content: "\f0c9";
}
.fa-list-ul:before {
  content: "\f0ca";
}
.fa-list-ol:before {
  content: "\f0cb";
}
.fa-strikethrough:before {
  content: "\f0cc";
}
.fa-underline:before {
  content: "\f0cd";
}
.fa-table:before {
  content: "\f0ce";
}
.fa-magic:before {
  content: "\f0d0";
}
.fa-truck:before {
  content: "\f0d1";
}
.fa-pinterest:before {
  content: "\f0d2";
}
.fa-pinterest-square:before {
  content: "\f0d3";
}
.fa-google-plus-square:before {
  content: "\f0d4";
}
.fa-google-plus:before {
  content: "\f0d5";
}
.fa-money:before {
  content: "\f0d6";
}
.fa-caret-down:before {
  content: "\f0d7";
}
.fa-caret-up:before {
  content: "\f0d8";
}
.fa-caret-left:before {
  content: "\f0d9";
}
.fa-caret-right:before {
  content: "\f0da";
}
.fa-columns:before {
  content: "\f0db";
}
.fa-unsorted:before,
.fa-sort:before {
  content: "\f0dc";
}
.fa-sort-down:before,
.fa-sort-desc:before {
  content: "\f0dd";
}
.fa-sort-up:before,
.fa-sort-asc:before {
  content: "\f0de";
}
.fa-envelope:before {
  content: "\f0e0";
}
.fa-linkedin:before {
  content: "\f0e1";
}
.fa-rotate-left:before,
.fa-undo:before {
  content: "\f0e2";
}
.fa-legal:before,
.fa-gavel:before {
  content: "\f0e3";
}
.fa-dashboard:before,
.fa-tachometer:before {
  content: "\f0e4";
}
.fa-comment-o:before {
  content: "\f0e5";
}
.fa-comments-o:before {
  content: "\f0e6";
}
.fa-flash:before,
.fa-bolt:before {
  content: "\f0e7";
}
.fa-sitemap:before {
  content: "\f0e8";
}
.fa-umbrella:before {
  content: "\f0e9";
}
.fa-paste:before,
.fa-clipboard:before {
  content: "\f0ea";
}
.fa-lightbulb-o:before {
  content: "\f0eb";
}
.fa-exchange:before {
  content: "\f0ec";
}
.fa-cloud-download:before {
  content: "\f0ed";
}
.fa-cloud-upload:before {
  content: "\f0ee";
}
.fa-user-md:before {
  content: "\f0f0";
}
.fa-stethoscope:before {
  content: "\f0f1";
}
.fa-suitcase:before {
  content: "\f0f2";
}
.fa-bell-o:before {
  content: "\f0a2";
}
.fa-coffee:before {
  content: "\f0f4";
}
.fa-cutlery:before {
  content: "\f0f5";
}
.fa-file-text-o:before {
  content: "\f0f6";
}
.fa-building-o:before {
  content: "\f0f7";
}
.fa-hospital-o:before {
  content: "\f0f8";
}
.fa-ambulance:before {
  content: "\f0f9";
}
.fa-medkit:before {
  content: "\f0fa";
}
.fa-fighter-jet:before {
  content: "\f0fb";
}
.fa-beer:before {
  content: "\f0fc";
}
.fa-h-square:before {
  content: "\f0fd";
}
.fa-plus-square:before {
  content: "\f0fe";
}
.fa-angle-double-left:before {
  content: "\f100";
}
.fa-angle-double-right:before {
  content: "\f101";
}
.fa-angle-double-up:before {
  content: "\f102";
}
.fa-angle-double-down:before {
  content: "\f103";
}
.fa-angle-left:before {
  content: "\f104";
}
.fa-angle-right:before {
  content: "\f105";
}
.fa-angle-up:before {
  content: "\f106";
}
.fa-angle-down:before {
  content: "\f107";
}
.fa-desktop:before {
  content: "\f108";
}
.fa-laptop:before {
  content: "\f109";
}
.fa-tablet:before {
  content: "\f10a";
}
.fa-mobile-phone:before,
.fa-mobile:before {
  content: "\f10b";
}
.fa-circle-o:before {
  content: "\f10c";
}
.fa-quote-left:before {
  content: "\f10d";
}
.fa-quote-right:before {
  content: "\f10e";
}
.fa-spinner:before {
  content: "\f110";
}
.fa-circle:before {
  content: "\f111";
}
.fa-mail-reply:before,
.fa-reply:before {
  content: "\f112";
}
.fa-github-alt:before {
  content: "\f113";
}
.fa-folder-o:before {
  content: "\f114";
}
.fa-folder-open-o:before {
  content: "\f115";
}
.fa-smile-o:before {
  content: "\f118";
}
.fa-frown-o:before {
  content: "\f119";
}
.fa-meh-o:before {
  content: "\f11a";
}
.fa-gamepad:before {
  content: "\f11b";
}
.fa-keyboard-o:before {
  content: "\f11c";
}
.fa-flag-o:before {
  content: "\f11d";
}
.fa-flag-checkered:before {
  content: "\f11e";
}
.fa-terminal:before {
  content: "\f120";
}
.fa-code:before {
  content: "\f121";
}
.fa-mail-reply-all:before,
.fa-reply-all:before {
  content: "\f122";
}
.fa-star-half-empty:before,
.fa-star-half-full:before,
.fa-star-half-o:before {
  content: "\f123";
}
.fa-location-arrow:before {
  content: "\f124";
}
.fa-crop:before {
  content: "\f125";
}
.fa-code-fork:before {
  content: "\f126";
}
.fa-unlink:before,
.fa-chain-broken:before {
  content: "\f127";
}
.fa-question:before {
  content: "\f128";
}
.fa-info:before {
  content: "\f129";
}
.fa-exclamation:before {
  content: "\f12a";
}
.fa-superscript:before {
  content: "\f12b";
}
.fa-subscript:before {
  content: "\f12c";
}
.fa-eraser:before {
  content: "\f12d";
}
.fa-puzzle-piece:before {
  content: "\f12e";
}
.fa-microphone:before {
  content: "\f130";
}
.fa-microphone-slash:before {
  content: "\f131";
}
.fa-shield:before {
  content: "\f132";
}
.fa-calendar-o:before {
  content: "\f133";
}
.fa-fire-extinguisher:before {
  content: "\f134";
}
.fa-rocket:before {
  content: "\f135";
}
.fa-maxcdn:before {
  content: "\f136";
}
.fa-chevron-circle-left:before {
  content: "\f137";
}
.fa-chevron-circle-right:before {
  content: "\f138";
}
.fa-chevron-circle-up:before {
  content: "\f139";
}
.fa-chevron-circle-down:before {
  content: "\f13a";
}
.fa-html5:before {
  content: "\f13b";
}
.fa-css3:before {
  content: "\f13c";
}
.fa-anchor:before {
  content: "\f13d";
}
.fa-unlock-alt:before {
  content: "\f13e";
}
.fa-bullseye:before {
  content: "\f140";
}
.fa-ellipsis-h:before {
  content: "\f141";
}
.fa-ellipsis-v:before {
  content: "\f142";
}
.fa-rss-square:before {
  content: "\f143";
}
.fa-play-circle:before {
  content: "\f144";
}
.fa-ticket:before {
  content: "\f145";
}
.fa-minus-square:before {
  content: "\f146";
}
.fa-minus-square-o:before {
  content: "\f147";
}
.fa-level-up:before {
  content: "\f148";
}
.fa-level-down:before {
  content: "\f149";
}
.fa-check-square:before {
  content: "\f14a";
}
.fa-pencil-square:before {
  content: "\f14b";
}
.fa-external-link-square:before {
  content: "\f14c";
}
.fa-share-square:before {
  content: "\f14d";
}
.fa-compass:before {
  content: "\f14e";
}
.fa-toggle-down:before,
.fa-caret-square-o-down:before {
  content: "\f150";
}
.fa-toggle-up:before,
.fa-caret-square-o-up:before {
  content: "\f151";
}
.fa-toggle-right:before,
.fa-caret-square-o-right:before {
  content: "\f152";
}
.fa-euro:before,
.fa-eur:before {
  content: "\f153";
}
.fa-gbp:before {
  content: "\f154";
}
.fa-dollar:before,
.fa-usd:before {
  content: "\f155";
}
.fa-rupee:before,
.fa-inr:before {
  content: "\f156";
}
.fa-cny:before,
.fa-rmb:before,
.fa-yen:before,
.fa-jpy:before {
  content: "\f157";
}
.fa-ruble:before,
.fa-rouble:before,
.fa-rub:before {
  content: "\f158";
}
.fa-won:before,
.fa-krw:before {
  content: "\f159";
}
.fa-bitcoin:before,
.fa-btc:before {
  content: "\f15a";
}
.fa-file:before {
  content: "\f15b";
}
.fa-file-text:before {
  content: "\f15c";
}
.fa-sort-alpha-asc:before {
  content: "\f15d";
}
.fa-sort-alpha-desc:before {
  content: "\f15e";
}
.fa-sort-amount-asc:before {
  content: "\f160";
}
.fa-sort-amount-desc:before {
  content: "\f161";
}
.fa-sort-numeric-asc:before {
  content: "\f162";
}
.fa-sort-numeric-desc:before {
  content: "\f163";
}
.fa-thumbs-up:before {
  content: "\f164";
}
.fa-thumbs-down:before {
  content: "\f165";
}
.fa-youtube-square:before {
  content: "\f166";
}
.fa-youtube:before {
  content: "\f167";
}
.fa-xing:before {
  content: "\f168";
}
.fa-xing-square:before {
  content: "\f169";
}
.fa-youtube-play:before {
  content: "\f16a";
}
.fa-dropbox:before {
  content: "\f16b";
}
.fa-stack-overflow:before {
  content: "\f16c";
}
.fa-instagram:before {
  content: "\f16d";
}
.fa-flickr:before {
  content: "\f16e";
}
.fa-adn:before {
  content: "\f170";
}
.fa-bitbucket:before {
  content: "\f171";
}
.fa-bitbucket-square:before {
  content: "\f172";
}
.fa-tumblr:before {
  content: "\f173";
}
.fa-tumblr-square:before {
  content: "\f174";
}
.fa-long-arrow-down:before {
  content: "\f175";
}
.fa-long-arrow-up:before {
  content: "\f176";
}
.fa-long-arrow-left:before {
  content: "\f177";
}
.fa-long-arrow-right:before {
  content: "\f178";
}
.fa-apple:before {
  content: "\f179";
}
.fa-windows:before {
  content: "\f17a";
}
.fa-android:before {
  content: "\f17b";
}
.fa-linux:before {
  content: "\f17c";
}
.fa-dribbble:before {
  content: "\f17d";
}
.fa-skype:before {
  content: "\f17e";
}
.fa-foursquare:before {
  content: "\f180";
}
.fa-trello:before {
  content: "\f181";
}
.fa-female:before {
  content: "\f182";
}
.fa-male:before {
  content: "\f183";
}
.fa-gittip:before {
  content: "\f184";
}
.fa-sun-o:before {
  content: "\f185";
}
.fa-moon-o:before {
  content: "\f186";
}
.fa-archive:before {
  content: "\f187";
}
.fa-bug:before {
  content: "\f188";
}
.fa-vk:before {
  content: "\f189";
}
.fa-weibo:before {
  content: "\f18a";
}
.fa-renren:before {
  content: "\f18b";
}
.fa-pagelines:before {
  content: "\f18c";
}
.fa-stack-exchange:before {
  content: "\f18d";
}
.fa-arrow-circle-o-right:before {
  content: "\f18e";
}
.fa-arrow-circle-o-left:before {
  content: "\f190";
}
.fa-toggle-left:before,
.fa-caret-square-o-left:before {
  content: "\f191";
}
.fa-dot-circle-o:before {
  content: "\f192";
}
.fa-wheelchair:before {
  content: "\f193";
}
.fa-vimeo-square:before {
  content: "\f194";
}
.fa-turkish-lira:before,
.fa-try:before {
  content: "\f195";
}
.fa-plus-square-o:before {
  content: "\f196";
}
.fa-space-shuttle:before {
  content: "\f197";
}
.fa-slack:before {
  content: "\f198";
}
.fa-envelope-square:before {
  content: "\f199";
}
.fa-wordpress:before {
  content: "\f19a";
}
.fa-openid:before {
  content: "\f19b";
}
.fa-institution:before,
.fa-bank:before,
.fa-university:before {
  content: "\f19c";
}
.fa-mortar-board:before,
.fa-graduation-cap:before {
  content: "\f19d";
}
.fa-yahoo:before {
  content: "\f19e";
}
.fa-google:before {
  content: "\f1a0";
}
.fa-reddit:before {
  content: "\f1a1";
}
.fa-reddit-square:before {
  content: "\f1a2";
}
.fa-stumbleupon-circle:before {
  content: "\f1a3";
}
.fa-stumbleupon:before {
  content: "\f1a4";
}
.fa-delicious:before {
  content: "\f1a5";
}
.fa-digg:before {
  content: "\f1a6";
}
.fa-pied-piper:before {
  content: "\f1a7";
}
.fa-pied-piper-alt:before {
  content: "\f1a8";
}
.fa-drupal:before {
  content: "\f1a9";
}
.fa-joomla:before {
  content: "\f1aa";
}
.fa-language:before {
  content: "\f1ab";
}
.fa-fax:before {
  content: "\f1ac";
}
.fa-building:before {
  content: "\f1ad";
}
.fa-child:before {
  content: "\f1ae";
}
.fa-paw:before {
  content: "\f1b0";
}
.fa-spoon:before {
  content: "\f1b1";
}
.fa-cube:before {
  content: "\f1b2";
}
.fa-cubes:before {
  content: "\f1b3";
}
.fa-behance:before {
  content: "\f1b4";
}
.fa-behance-square:before {
  content: "\f1b5";
}
.fa-steam:before {
  content: "\f1b6";
}
.fa-steam-square:before {
  content: "\f1b7";
}
.fa-recycle:before {
  content: "\f1b8";
}
.fa-automobile:before,
.fa-car:before {
  content: "\f1b9";
}
.fa-cab:before,
.fa-taxi:before {
  content: "\f1ba";
}
.fa-tree:before {
  content: "\f1bb";
}
.fa-spotify:before {
  content: "\f1bc";
}
.fa-deviantart:before {
  content: "\f1bd";
}
.fa-soundcloud:before {
  content: "\f1be";
}
.fa-database:before {
  content: "\f1c0";
}
.fa-file-pdf-o:before {
  content: "\f1c1";
}
.fa-file-word-o:before {
  content: "\f1c2";
}
.fa-file-excel-o:before {
  content: "\f1c3";
}
.fa-file-powerpoint-o:before {
  content: "\f1c4";
}
.fa-file-photo-o:before,
.fa-file-picture-o:before,
.fa-file-image-o:before {
  content: "\f1c5";
}
.fa-file-zip-o:before,
.fa-file-archive-o:before {
  content: "\f1c6";
}
.fa-file-sound-o:before,
.fa-file-audio-o:before {
  content: "\f1c7";
}
.fa-file-movie-o:before,
.fa-file-video-o:before {
  content: "\f1c8";
}
.fa-file-code-o:before {
  content: "\f1c9";
}
.fa-vine:before {
  content: "\f1ca";
}
.fa-codepen:before {
  content: "\f1cb";
}
.fa-jsfiddle:before {
  content: "\f1cc";
}
.fa-life-bouy:before,
.fa-life-buoy:before,
.fa-life-saver:before,
.fa-support:before,
.fa-life-ring:before {
  content: "\f1cd";
}
.fa-circle-o-notch:before {
  content: "\f1ce";
}
.fa-ra:before,
.fa-rebel:before {
  content: "\f1d0";
}
.fa-ge:before,
.fa-empire:before {
  content: "\f1d1";
}
.fa-git-square:before {
  content: "\f1d2";
}
.fa-git:before {
  content: "\f1d3";
}
.fa-hacker-news:before {
  content: "\f1d4";
}
.fa-tencent-weibo:before {
  content: "\f1d5";
}
.fa-qq:before {
  content: "\f1d6";
}
.fa-wechat:before,
.fa-weixin:before {
  content: "\f1d7";
}
.fa-send:before,
.fa-paper-plane:before {
  content: "\f1d8";
}
.fa-send-o:before,
.fa-paper-plane-o:before {
  content: "\f1d9";
}
.fa-history:before {
  content: "\f1da";
}
.fa-circle-thin:before {
  content: "\f1db";
}
.fa-header:before {
  content: "\f1dc";
}
.fa-paragraph:before {
  content: "\f1dd";
}
.fa-sliders:before {
  content: "\f1de";
}
.fa-share-alt:before {
  content: "\f1e0";
}
.fa-share-alt-square:before {
  content: "\f1e1";
}
.fa-bomb:before {
  content: "\f1e2";
}
.fa-soccer-ball-o:before,
.fa-futbol-o:before {
  content: "\f1e3";
}
.fa-tty:before {
  content: "\f1e4";
}
.fa-binoculars:before {
  content: "\f1e5";
}
.fa-plug:before {
  content: "\f1e6";
}
.fa-slideshare:before {
  content: "\f1e7";
}
.fa-twitch:before {
  content: "\f1e8";
}
.fa-yelp:before {
  content: "\f1e9";
}
.fa-newspaper-o:before {
  content: "\f1ea";
}
.fa-wifi:before {
  content: "\f1eb";
}
.fa-calculator:before {
  content: "\f1ec";
}
.fa-paypal:before {
  content: "\f1ed";
}
.fa-google-wallet:before {
  content: "\f1ee";
}
.fa-cc-visa:before {
  content: "\f1f0";
}
.fa-cc-mastercard:before {
  content: "\f1f1";
}
.fa-cc-discover:before {
  content: "\f1f2";
}
.fa-cc-amex:before {
  content: "\f1f3";
}
.fa-cc-paypal:before {
  content: "\f1f4";
}
.fa-cc-stripe:before {
  content: "\f1f5";
}
.fa-bell-slash:before {
  content: "\f1f6";
}
.fa-bell-slash-o:before {
  content: "\f1f7";
}
.fa-trash:before {
  content: "\f1f8";
}
.fa-copyright:before {
  content: "\f1f9";
}
.fa-at:before {
  content: "\f1fa";
}
.fa-eyedropper:before {
  content: "\f1fb";
}
.fa-paint-brush:before {
  content: "\f1fc";
}
.fa-birthday-cake:before {
  content: "\f1fd";
}
.fa-area-chart:before {
  content: "\f1fe";
}
.fa-pie-chart:before {
  content: "\f200";
}
.fa-line-chart:before {
  content: "\f201";
}
.fa-lastfm:before {
  content: "\f202";
}
.fa-lastfm-square:before {
  content: "\f203";
}
.fa-toggle-off:before {
  content: "\f204";
}
.fa-toggle-on:before {
  content: "\f205";
}
.fa-bicycle:before {
  content: "\f206";
}
.fa-bus:before {
  content: "\f207";
}
.fa-ioxhost:before {
  content: "\f208";
}
.fa-angellist:before {
  content: "\f209";
}
.fa-cc:before {
  content: "\f20a";
}
.fa-shekel:before,
.fa-sheqel:before,
.fa-ils:before {
  content: "\f20b";
}
.fa-meanpath:before {
  content: "\f20c";
}
/*!
*
* IPython base
*
*/
.modal.fade .modal-dialog {
  -webkit-transform: translate(0, 0);
  -ms-transform: translate(0, 0);
  -o-transform: translate(0, 0);
  transform: translate(0, 0);
}
code {
  color: #000;
}
pre {
  font-size: inherit;
  line-height: inherit;
}
label {
  font-weight: normal;
}
/* Make the page background atleast 100% the height of the view port */
/* Make the page itself atleast 70% the height of the view port */
.border-box-sizing {
  box-sizing: border-box;
  -moz-box-sizing: border-box;
  -webkit-box-sizing: border-box;
}
.corner-all {
  border-radius: 2px;
}
.no-padding {
  padding: 0px;
}
/* Flexible box model classes */
/* Taken from Alex Russell http://infrequently.org/2009/08/css-3-progress/ */
/* This file is a compatability layer.  It allows the usage of flexible box 
model layouts accross multiple browsers, including older browsers.  The newest,
universal implementation of the flexible box model is used when available (see
`Modern browsers` comments below).  Browsers that are known to implement this 
new spec completely include:

    Firefox 28.0+
    Chrome 29.0+
    Internet Explorer 11+ 
    Opera 17.0+

Browsers not listed, including Safari, are supported via the styling under the
`Old browsers` comments below.
*/
.hbox {
  /* Old browsers */
  display: -webkit-box;
  -webkit-box-orient: horizontal;
  -webkit-box-align: stretch;
  display: -moz-box;
  -moz-box-orient: horizontal;
  -moz-box-align: stretch;
  display: box;
  box-orient: horizontal;
  box-align: stretch;
  /* Modern browsers */
  display: flex;
  flex-direction: row;
  align-items: stretch;
}
.hbox > * {
  /* Old browsers */
  -webkit-box-flex: 0;
  -moz-box-flex: 0;
  box-flex: 0;
  /* Modern browsers */
  flex: none;
}
.vbox {
  /* Old browsers */
  display: -webkit-box;
  -webkit-box-orient: vertical;
  -webkit-box-align: stretch;
  display: -moz-box;
  -moz-box-orient: vertical;
  -moz-box-align: stretch;
  display: box;
  box-orient: vertical;
  box-align: stretch;
  /* Modern browsers */
  display: flex;
  flex-direction: column;
  align-items: stretch;
}
.vbox > * {
  /* Old browsers */
  -webkit-box-flex: 0;
  -moz-box-flex: 0;
  box-flex: 0;
  /* Modern browsers */
  flex: none;
}
.hbox.reverse,
.vbox.reverse,
.reverse {
  /* Old browsers */
  -webkit-box-direction: reverse;
  -moz-box-direction: reverse;
  box-direction: reverse;
  /* Modern browsers */
  flex-direction: row-reverse;
}
.hbox.box-flex0,
.vbox.box-flex0,
.box-flex0 {
  /* Old browsers */
  -webkit-box-flex: 0;
  -moz-box-flex: 0;
  box-flex: 0;
  /* Modern browsers */
  flex: none;
  width: auto;
}
.hbox.box-flex1,
.vbox.box-flex1,
.box-flex1 {
  /* Old browsers */
  -webkit-box-flex: 1;
  -moz-box-flex: 1;
  box-flex: 1;
  /* Modern browsers */
  flex: 1;
}
.hbox.box-flex,
.vbox.box-flex,
.box-flex {
  /* Old browsers */
  /* Old browsers */
  -webkit-box-flex: 1;
  -moz-box-flex: 1;
  box-flex: 1;
  /* Modern browsers */
  flex: 1;
}
.hbox.box-flex2,
.vbox.box-flex2,
.box-flex2 {
  /* Old browsers */
  -webkit-box-flex: 2;
  -moz-box-flex: 2;
  box-flex: 2;
  /* Modern browsers */
  flex: 2;
}
.box-group1 {
  /*  Deprecated */
  -webkit-box-flex-group: 1;
  -moz-box-flex-group: 1;
  box-flex-group: 1;
}
.box-group2 {
  /* Deprecated */
  -webkit-box-flex-group: 2;
  -moz-box-flex-group: 2;
  box-flex-group: 2;
}
.hbox.start,
.vbox.start,
.start {
  /* Old browsers */
  -webkit-box-pack: start;
  -moz-box-pack: start;
  box-pack: start;
  /* Modern browsers */
  justify-content: flex-start;
}
.hbox.end,
.vbox.end,
.end {
  /* Old browsers */
  -webkit-box-pack: end;
  -moz-box-pack: end;
  box-pack: end;
  /* Modern browsers */
  justify-content: flex-end;
}
.hbox.center,
.vbox.center,
.center {
  /* Old browsers */
  -webkit-box-pack: center;
  -moz-box-pack: center;
  box-pack: center;
  /* Modern browsers */
  justify-content: center;
}
.hbox.baseline,
.vbox.baseline,
.baseline {
  /* Old browsers */
  -webkit-box-pack: baseline;
  -moz-box-pack: baseline;
  box-pack: baseline;
  /* Modern browsers */
  justify-content: baseline;
}
.hbox.stretch,
.vbox.stretch,
.stretch {
  /* Old browsers */
  -webkit-box-pack: stretch;
  -moz-box-pack: stretch;
  box-pack: stretch;
  /* Modern browsers */
  justify-content: stretch;
}
.hbox.align-start,
.vbox.align-start,
.align-start {
  /* Old browsers */
  -webkit-box-align: start;
  -moz-box-align: start;
  box-align: start;
  /* Modern browsers */
  align-items: flex-start;
}
.hbox.align-end,
.vbox.align-end,
.align-end {
  /* Old browsers */
  -webkit-box-align: end;
  -moz-box-align: end;
  box-align: end;
  /* Modern browsers */
  align-items: flex-end;
}
.hbox.align-center,
.vbox.align-center,
.align-center {
  /* Old browsers */
  -webkit-box-align: center;
  -moz-box-align: center;
  box-align: center;
  /* Modern browsers */
  align-items: center;
}
.hbox.align-baseline,
.vbox.align-baseline,
.align-baseline {
  /* Old browsers */
  -webkit-box-align: baseline;
  -moz-box-align: baseline;
  box-align: baseline;
  /* Modern browsers */
  align-items: baseline;
}
.hbox.align-stretch,
.vbox.align-stretch,
.align-stretch {
  /* Old browsers */
  -webkit-box-align: stretch;
  -moz-box-align: stretch;
  box-align: stretch;
  /* Modern browsers */
  align-items: stretch;
}
div.error {
  margin: 2em;
  text-align: center;
}
div.error > h1 {
  font-size: 500%;
  line-height: normal;
}
div.error > p {
  font-size: 200%;
  line-height: normal;
}
div.traceback-wrapper {
  text-align: left;
  max-width: 800px;
  margin: auto;
}
/**
 * Primary styles
 *
 * Author: Jupyter Development Team
 */
body {
  background-color: #fff;
  /* This makes sure that the body covers the entire window and needs to
       be in a different element than the display: box in wrapper below */
  position: absolute;
  left: 0px;
  right: 0px;
  top: 0px;
  bottom: 0px;
  overflow: visible;
}
body > #header {
  /* Initially hidden to prevent FLOUC */
  display: none;
  background-color: #fff;
  /* Display over codemirror */
  position: relative;
  z-index: 100;
}
body > #header #header-container {
  padding-bottom: 5px;
  padding-top: 5px;
  box-sizing: border-box;
  -moz-box-sizing: border-box;
  -webkit-box-sizing: border-box;
}
body > #header .header-bar {
  width: 100%;
  height: 1px;
  background: #e7e7e7;
  margin-bottom: -1px;
}
@media print {
  body > #header {
    display: none !important;
  }
}
#header-spacer {
  width: 100%;
  visibility: hidden;
}
@media print {
  #header-spacer {
    display: none;
  }
}
#ipython_notebook {
  padding-left: 0px;
  padding-top: 1px;
  padding-bottom: 1px;
}
@media (max-width: 991px) {
  #ipython_notebook {
    margin-left: 10px;
  }
}
#noscript {
  width: auto;
  padding-top: 16px;
  padding-bottom: 16px;
  text-align: center;
  font-size: 22px;
  color: red;
  font-weight: bold;
}
#ipython_notebook img {
  height: 28px;
}
#site {
  width: 100%;
  display: none;
  box-sizing: border-box;
  -moz-box-sizing: border-box;
  -webkit-box-sizing: border-box;
  overflow: auto;
}
@media print {
  #site {
    height: auto !important;
  }
}
/* Smaller buttons */
.ui-button .ui-button-text {
  padding: 0.2em 0.8em;
  font-size: 77%;
}
input.ui-button {
  padding: 0.3em 0.9em;
}
span#login_widget {
  float: right;
}
span#login_widget > .button,
#logout {
  color: #333;
  background-color: #fff;
  border-color: #ccc;
}
span#login_widget > .button:focus,
#logout:focus,
span#login_widget > .button.focus,
#logout.focus {
  color: #333;
  background-color: #e6e6e6;
  border-color: #8c8c8c;
}
span#login_widget > .button:hover,
#logout:hover {
  color: #333;
  background-color: #e6e6e6;
  border-color: #adadad;
}
span#login_widget > .button:active,
#logout:active,
span#login_widget > .button.active,
#logout.active,
.open > .dropdown-togglespan#login_widget > .button,
.open > .dropdown-toggle#logout {
  color: #333;
  background-color: #e6e6e6;
  border-color: #adadad;
}
span#login_widget > .button:active:hover,
#logout:active:hover,
span#login_widget > .button.active:hover,
#logout.active:hover,
.open > .dropdown-togglespan#login_widget > .button:hover,
.open > .dropdown-toggle#logout:hover,
span#login_widget > .button:active:focus,
#logout:active:focus,
span#login_widget > .button.active:focus,
#logout.active:focus,
.open > .dropdown-togglespan#login_widget > .button:focus,
.open > .dropdown-toggle#logout:focus,
span#login_widget > .button:active.focus,
#logout:active.focus,
span#login_widget > .button.active.focus,
#logout.active.focus,
.open > .dropdown-togglespan#login_widget > .button.focus,
.open > .dropdown-toggle#logout.focus {
  color: #333;
  background-color: #d4d4d4;
  border-color: #8c8c8c;
}
span#login_widget > .button:active,
#logout:active,
span#login_widget > .button.active,
#logout.active,
.open > .dropdown-togglespan#login_widget > .button,
.open > .dropdown-toggle#logout {
  background-image: none;
}
span#login_widget > .button.disabled:hover,
#logout.disabled:hover,
span#login_widget > .button[disabled]:hover,
#logout[disabled]:hover,
fieldset[disabled] span#login_widget > .button:hover,
fieldset[disabled] #logout:hover,
span#login_widget > .button.disabled:focus,
#logout.disabled:focus,
span#login_widget > .button[disabled]:focus,
#logout[disabled]:focus,
fieldset[disabled] span#login_widget > .button:focus,
fieldset[disabled] #logout:focus,
span#login_widget > .button.disabled.focus,
#logout.disabled.focus,
span#login_widget > .button[disabled].focus,
#logout[disabled].focus,
fieldset[disabled] span#login_widget > .button.focus,
fieldset[disabled] #logout.focus {
  background-color: #fff;
  border-color: #ccc;
}
span#login_widget > .button .badge,
#logout .badge {
  color: #fff;
  background-color: #333;
}
.nav-header {
  text-transform: none;
}
#header > span {
  margin-top: 10px;
}
.modal_stretch .modal-dialog {
  /* Old browsers */
  display: -webkit-box;
  -webkit-box-orient: vertical;
  -webkit-box-align: stretch;
  display: -moz-box;
  -moz-box-orient: vertical;
  -moz-box-align: stretch;
  display: box;
  box-orient: vertical;
  box-align: stretch;
  /* Modern browsers */
  display: flex;
  flex-direction: column;
  align-items: stretch;
  min-height: 80vh;
}
.modal_stretch .modal-dialog .modal-body {
  max-height: calc(100vh - 200px);
  overflow: auto;
  flex: 1;
}
@media (min-width: 768px) {
  .modal .modal-dialog {
    width: 700px;
  }
}
@media (min-width: 768px) {
  select.form-control {
    margin-left: 12px;
    margin-right: 12px;
  }
}
/*!
*
* IPython auth
*
*/
.center-nav {
  display: inline-block;
  margin-bottom: -4px;
}
/*!
*
* IPython tree view
*
*/
/* We need an invisible input field on top of the sentense*/
/* "Drag file onto the list ..." */
.alternate_upload {
  background-color: none;
  display: inline;
}
.alternate_upload.form {
  padding: 0;
  margin: 0;
}
.alternate_upload input.fileinput {
  text-align: center;
  vertical-align: middle;
  display: inline;
  opacity: 0;
  z-index: 2;
  width: 12ex;
  margin-right: -12ex;
}
.alternate_upload .btn-upload {
  height: 22px;
}
/**
 * Primary styles
 *
 * Author: Jupyter Development Team
 */
ul#tabs {
  margin-bottom: 4px;
}
ul#tabs a {
  padding-top: 6px;
  padding-bottom: 4px;
}
ul.breadcrumb a:focus,
ul.breadcrumb a:hover {
  text-decoration: none;
}
ul.breadcrumb i.icon-home {
  font-size: 16px;
  margin-right: 4px;
}
ul.breadcrumb span {
  color: #5e5e5e;
}
.list_toolbar {
  padding: 4px 0 4px 0;
  vertical-align: middle;
}
.list_toolbar .tree-buttons {
  padding-top: 1px;
}
.dynamic-buttons {
  padding-top: 3px;
  display: inline-block;
}
.list_toolbar [class*="span"] {
  min-height: 24px;
}
.list_header {
  font-weight: bold;
  background-color: #EEE;
}
.list_placeholder {
  font-weight: bold;
  padding-top: 4px;
  padding-bottom: 4px;
  padding-left: 7px;
  padding-right: 7px;
}
.list_container {
  margin-top: 4px;
  margin-bottom: 20px;
  border: 1px solid #ddd;
  border-radius: 2px;
}
.list_container > div {
  border-bottom: 1px solid #ddd;
}
.list_container > div:hover .list-item {
  background-color: red;
}
.list_container > div:last-child {
  border: none;
}
.list_item:hover .list_item {
  background-color: #ddd;
}
.list_item a {
  text-decoration: none;
}
.list_item:hover {
  background-color: #fafafa;
}
.list_header > div,
.list_item > div {
  padding-top: 4px;
  padding-bottom: 4px;
  padding-left: 7px;
  padding-right: 7px;
  line-height: 22px;
}
.list_header > div input,
.list_item > div input {
  margin-right: 7px;
  margin-left: 14px;
  vertical-align: baseline;
  line-height: 22px;
  position: relative;
  top: -1px;
}
.list_header > div .item_link,
.list_item > div .item_link {
  margin-left: -1px;
  vertical-align: baseline;
  line-height: 22px;
}
.new-file input[type=checkbox] {
  visibility: hidden;
}
.item_name {
  line-height: 22px;
  height: 24px;
}
.item_icon {
  font-size: 14px;
  color: #5e5e5e;
  margin-right: 7px;
  margin-left: 7px;
  line-height: 22px;
  vertical-align: baseline;
}
.item_buttons {
  line-height: 1em;
  margin-left: -5px;
}
.item_buttons .btn,
.item_buttons .btn-group,
.item_buttons .input-group {
  float: left;
}
.item_buttons > .btn,
.item_buttons > .btn-group,
.item_buttons > .input-group {
  margin-left: 5px;
}
.item_buttons .btn {
  min-width: 13ex;
}
.item_buttons .running-indicator {
  padding-top: 4px;
  color: #5cb85c;
}
.item_buttons .kernel-name {
  padding-top: 4px;
  color: #5bc0de;
  margin-right: 7px;
  float: left;
}
.toolbar_info {
  height: 24px;
  line-height: 24px;
}
.list_item input:not([type=checkbox]) {
  padding-top: 3px;
  padding-bottom: 3px;
  height: 22px;
  line-height: 14px;
  margin: 0px;
}
.highlight_text {
  color: blue;
}
#project_name {
  display: inline-block;
  padding-left: 7px;
  margin-left: -2px;
}
#project_name > .breadcrumb {
  padding: 0px;
  margin-bottom: 0px;
  background-color: transparent;
  font-weight: bold;
}
#tree-selector {
  padding-right: 0px;
}
#button-select-all {
  min-width: 50px;
}
#select-all {
  margin-left: 7px;
  margin-right: 2px;
}
.menu_icon {
  margin-right: 2px;
}
.tab-content .row {
  margin-left: 0px;
  margin-right: 0px;
}
.folder_icon:before {
  display: inline-block;
  font: normal normal normal 14px/1 FontAwesome;
  font-size: inherit;
  text-rendering: auto;
  -webkit-font-smoothing: antialiased;
  -moz-osx-font-smoothing: grayscale;
  content: "\f114";
}
.folder_icon:before.pull-left {
  margin-right: .3em;
}
.folder_icon:before.pull-right {
  margin-left: .3em;
}
.notebook_icon:before {
  display: inline-block;
  font: normal normal normal 14px/1 FontAwesome;
  font-size: inherit;
  text-rendering: auto;
  -webkit-font-smoothing: antialiased;
  -moz-osx-font-smoothing: grayscale;
  content: "\f02d";
  position: relative;
  top: -1px;
}
.notebook_icon:before.pull-left {
  margin-right: .3em;
}
.notebook_icon:before.pull-right {
  margin-left: .3em;
}
.running_notebook_icon:before {
  display: inline-block;
  font: normal normal normal 14px/1 FontAwesome;
  font-size: inherit;
  text-rendering: auto;
  -webkit-font-smoothing: antialiased;
  -moz-osx-font-smoothing: grayscale;
  content: "\f02d";
  position: relative;
  top: -1px;
  color: #5cb85c;
}
.running_notebook_icon:before.pull-left {
  margin-right: .3em;
}
.running_notebook_icon:before.pull-right {
  margin-left: .3em;
}
.file_icon:before {
  display: inline-block;
  font: normal normal normal 14px/1 FontAwesome;
  font-size: inherit;
  text-rendering: auto;
  -webkit-font-smoothing: antialiased;
  -moz-osx-font-smoothing: grayscale;
  content: "\f016";
  position: relative;
  top: -2px;
}
.file_icon:before.pull-left {
  margin-right: .3em;
}
.file_icon:before.pull-right {
  margin-left: .3em;
}
#notebook_toolbar .pull-right {
  padding-top: 0px;
  margin-right: -1px;
}
ul#new-menu {
  left: auto;
  right: 0;
}
.kernel-menu-icon {
  padding-right: 12px;
  width: 24px;
  content: "\f096";
}
.kernel-menu-icon:before {
  content: "\f096";
}
.kernel-menu-icon-current:before {
  content: "\f00c";
}
#tab_content {
  padding-top: 20px;
}
#running .panel-group .panel {
  margin-top: 3px;
  margin-bottom: 1em;
}
#running .panel-group .panel .panel-heading {
  background-color: #EEE;
  padding-top: 4px;
  padding-bottom: 4px;
  padding-left: 7px;
  padding-right: 7px;
  line-height: 22px;
}
#running .panel-group .panel .panel-heading a:focus,
#running .panel-group .panel .panel-heading a:hover {
  text-decoration: none;
}
#running .panel-group .panel .panel-body {
  padding: 0px;
}
#running .panel-group .panel .panel-body .list_container {
  margin-top: 0px;
  margin-bottom: 0px;
  border: 0px;
  border-radius: 0px;
}
#running .panel-group .panel .panel-body .list_container .list_item {
  border-bottom: 1px solid #ddd;
}
#running .panel-group .panel .panel-body .list_container .list_item:last-child {
  border-bottom: 0px;
}
.delete-button {
  display: none;
}
.duplicate-button {
  display: none;
}
.rename-button {
  display: none;
}
.shutdown-button {
  display: none;
}
.dynamic-instructions {
  display: inline-block;
  padding-top: 4px;
}
/*!
*
* IPython text editor webapp
*
*/
.selected-keymap i.fa {
  padding: 0px 5px;
}
.selected-keymap i.fa:before {
  content: "\f00c";
}
#mode-menu {
  overflow: auto;
  max-height: 20em;
}
.edit_app #header {
  -webkit-box-shadow: 0px 0px 12px 1px rgba(87, 87, 87, 0.2);
  box-shadow: 0px 0px 12px 1px rgba(87, 87, 87, 0.2);
}
.edit_app #menubar .navbar {
  /* Use a negative 1 bottom margin, so the border overlaps the border of the
    header */
  margin-bottom: -1px;
}
.dirty-indicator {
  display: inline-block;
  font: normal normal normal 14px/1 FontAwesome;
  font-size: inherit;
  text-rendering: auto;
  -webkit-font-smoothing: antialiased;
  -moz-osx-font-smoothing: grayscale;
  width: 20px;
}
.dirty-indicator.pull-left {
  margin-right: .3em;
}
.dirty-indicator.pull-right {
  margin-left: .3em;
}
.dirty-indicator-dirty {
  display: inline-block;
  font: normal normal normal 14px/1 FontAwesome;
  font-size: inherit;
  text-rendering: auto;
  -webkit-font-smoothing: antialiased;
  -moz-osx-font-smoothing: grayscale;
  width: 20px;
}
.dirty-indicator-dirty.pull-left {
  margin-right: .3em;
}
.dirty-indicator-dirty.pull-right {
  margin-left: .3em;
}
.dirty-indicator-clean {
  display: inline-block;
  font: normal normal normal 14px/1 FontAwesome;
  font-size: inherit;
  text-rendering: auto;
  -webkit-font-smoothing: antialiased;
  -moz-osx-font-smoothing: grayscale;
  width: 20px;
}
.dirty-indicator-clean.pull-left {
  margin-right: .3em;
}
.dirty-indicator-clean.pull-right {
  margin-left: .3em;
}
.dirty-indicator-clean:before {
  display: inline-block;
  font: normal normal normal 14px/1 FontAwesome;
  font-size: inherit;
  text-rendering: auto;
  -webkit-font-smoothing: antialiased;
  -moz-osx-font-smoothing: grayscale;
  content: "\f00c";
}
.dirty-indicator-clean:before.pull-left {
  margin-right: .3em;
}
.dirty-indicator-clean:before.pull-right {
  margin-left: .3em;
}
#filename {
  font-size: 16pt;
  display: table;
  padding: 0px 5px;
}
#current-mode {
  padding-left: 5px;
  padding-right: 5px;
}
#texteditor-backdrop {
  padding-top: 20px;
  padding-bottom: 20px;
}
@media not print {
  #texteditor-backdrop {
    background-color: #EEE;
  }
}
@media print {
  #texteditor-backdrop #texteditor-container .CodeMirror-gutter,
  #texteditor-backdrop #texteditor-container .CodeMirror-gutters {
    background-color: #fff;
  }
}
@media not print {
  #texteditor-backdrop #texteditor-container .CodeMirror-gutter,
  #texteditor-backdrop #texteditor-container .CodeMirror-gutters {
    background-color: #fff;
  }
}
@media not print {
  #texteditor-backdrop #texteditor-container {
    padding: 0px;
    background-color: #fff;
    -webkit-box-shadow: 0px 0px 12px 1px rgba(87, 87, 87, 0.2);
    box-shadow: 0px 0px 12px 1px rgba(87, 87, 87, 0.2);
  }
}
/*!
*
* IPython notebook
*
*/
/* CSS font colors for translated ANSI colors. */
.ansibold {
  font-weight: bold;
}
/* use dark versions for foreground, to improve visibility */
.ansiblack {
  color: black;
}
.ansired {
  color: darkred;
}
.ansigreen {
  color: darkgreen;
}
.ansiyellow {
  color: #c4a000;
}
.ansiblue {
  color: darkblue;
}
.ansipurple {
  color: darkviolet;
}
.ansicyan {
  color: steelblue;
}
.ansigray {
  color: gray;
}
/* and light for background, for the same reason */
.ansibgblack {
  background-color: black;
}
.ansibgred {
  background-color: red;
}
.ansibggreen {
  background-color: green;
}
.ansibgyellow {
  background-color: yellow;
}
.ansibgblue {
  background-color: blue;
}
.ansibgpurple {
  background-color: magenta;
}
.ansibgcyan {
  background-color: cyan;
}
.ansibggray {
  background-color: gray;
}
div.cell {
  /* Old browsers */
  display: -webkit-box;
  -webkit-box-orient: vertical;
  -webkit-box-align: stretch;
  display: -moz-box;
  -moz-box-orient: vertical;
  -moz-box-align: stretch;
  display: box;
  box-orient: vertical;
  box-align: stretch;
  /* Modern browsers */
  display: flex;
  flex-direction: column;
  align-items: stretch;
  border-radius: 2px;
  box-sizing: border-box;
  -moz-box-sizing: border-box;
  -webkit-box-sizing: border-box;
  border-width: 1px;
  border-style: solid;
  border-color: transparent;
  width: 100%;
  padding: 5px;
  /* This acts as a spacer between cells, that is outside the border */
  margin: 0px;
  outline: none;
  border-left-width: 1px;
  padding-left: 5px;
  background: linear-gradient(to right, transparent -40px, transparent 1px, transparent 1px, transparent 100%);
}
div.cell.jupyter-soft-selected {
  border-left-color: #90CAF9;
  border-left-color: #E3F2FD;
  border-left-width: 1px;
  padding-left: 5px;
  border-right-color: #E3F2FD;
  border-right-width: 1px;
  background: #E3F2FD;
}
@media print {
  div.cell.jupyter-soft-selected {
    border-color: transparent;
  }
}
div.cell.selected {
  border-color: #ababab;
  border-left-width: 0px;
  padding-left: 6px;
  background: linear-gradient(to right, #42A5F5 -40px, #42A5F5 5px, transparent 5px, transparent 100%);
}
@media print {
  div.cell.selected {
    border-color: transparent;
  }
}
div.cell.selected.jupyter-soft-selected {
  border-left-width: 0;
  padding-left: 6px;
  background: linear-gradient(to right, #42A5F5 -40px, #42A5F5 7px, #E3F2FD 7px, #E3F2FD 100%);
}
.edit_mode div.cell.selected {
  border-color: #66BB6A;
  border-left-width: 0px;
  padding-left: 6px;
  background: linear-gradient(to right, #66BB6A -40px, #66BB6A 5px, transparent 5px, transparent 100%);
}
@media print {
  .edit_mode div.cell.selected {
    border-color: transparent;
  }
}
.prompt {
  /* This needs to be wide enough for 3 digit prompt numbers: In[100]: */
  min-width: 14ex;
  /* This padding is tuned to match the padding on the CodeMirror editor. */
  padding: 0.4em;
  margin: 0px;
  font-family: monospace;
  text-align: right;
  /* This has to match that of the the CodeMirror class line-height below */
  line-height: 1.21429em;
  /* Don't highlight prompt number selection */
  -webkit-touch-callout: none;
  -webkit-user-select: none;
  -khtml-user-select: none;
  -moz-user-select: none;
  -ms-user-select: none;
  user-select: none;
  /* Use default cursor */
  cursor: default;
}
@media (max-width: 540px) {
  .prompt {
    text-align: left;
  }
}
div.inner_cell {
  /* Old browsers */
  display: -webkit-box;
  -webkit-box-orient: vertical;
  -webkit-box-align: stretch;
  display: -moz-box;
  -moz-box-orient: vertical;
  -moz-box-align: stretch;
  display: box;
  box-orient: vertical;
  box-align: stretch;
  /* Modern browsers */
  display: flex;
  flex-direction: column;
  align-items: stretch;
  /* Old browsers */
  -webkit-box-flex: 1;
  -moz-box-flex: 1;
  box-flex: 1;
  /* Modern browsers */
  flex: 1;
}
@-moz-document url-prefix() {
  div.inner_cell {
    overflow-x: hidden;
  }
}
/* input_area and input_prompt must match in top border and margin for alignment */
div.input_area {
  border: 1px solid #cfcfcf;
  border-radius: 2px;
  background: #f7f7f7;
  line-height: 1.21429em;
}
/* This is needed so that empty prompt areas can collapse to zero height when there
   is no content in the output_subarea and the prompt. The main purpose of this is
   to make sure that empty JavaScript output_subareas have no height. */
div.prompt:empty {
  padding-top: 0;
  padding-bottom: 0;
}
div.unrecognized_cell {
  padding: 5px 5px 5px 0px;
  /* Old browsers */
  display: -webkit-box;
  -webkit-box-orient: horizontal;
  -webkit-box-align: stretch;
  display: -moz-box;
  -moz-box-orient: horizontal;
  -moz-box-align: stretch;
  display: box;
  box-orient: horizontal;
  box-align: stretch;
  /* Modern browsers */
  display: flex;
  flex-direction: row;
  align-items: stretch;
}
div.unrecognized_cell .inner_cell {
  border-radius: 2px;
  padding: 5px;
  font-weight: bold;
  color: red;
  border: 1px solid #cfcfcf;
  background: #eaeaea;
}
div.unrecognized_cell .inner_cell a {
  color: inherit;
  text-decoration: none;
}
div.unrecognized_cell .inner_cell a:hover {
  color: inherit;
  text-decoration: none;
}
@media (max-width: 540px) {
  div.unrecognized_cell > div.prompt {
    display: none;
  }
}
div.code_cell {
  /* avoid page breaking on code cells when printing */
}
@media print {
  div.code_cell {
    page-break-inside: avoid;
  }
}
/* any special styling for code cells that are currently running goes here */
div.input {
  page-break-inside: avoid;
  /* Old browsers */
  display: -webkit-box;
  -webkit-box-orient: horizontal;
  -webkit-box-align: stretch;
  display: -moz-box;
  -moz-box-orient: horizontal;
  -moz-box-align: stretch;
  display: box;
  box-orient: horizontal;
  box-align: stretch;
  /* Modern browsers */
  display: flex;
  flex-direction: row;
  align-items: stretch;
}
@media (max-width: 540px) {
  div.input {
    /* Old browsers */
    display: -webkit-box;
    -webkit-box-orient: vertical;
    -webkit-box-align: stretch;
    display: -moz-box;
    -moz-box-orient: vertical;
    -moz-box-align: stretch;
    display: box;
    box-orient: vertical;
    box-align: stretch;
    /* Modern browsers */
    display: flex;
    flex-direction: column;
    align-items: stretch;
  }
}
/* input_area and input_prompt must match in top border and margin for alignment */
div.input_prompt {
  color: #303F9F;
  border-top: 1px solid transparent;
}
div.input_area > div.highlight {
  margin: 0.4em;
  border: none;
  padding: 0px;
  background-color: transparent;
}
div.input_area > div.highlight > pre {
  margin: 0px;
  border: none;
  padding: 0px;
  background-color: transparent;
}
/* The following gets added to the <head> if it is detected that the user has a
 * monospace font with inconsistent normal/bold/italic height.  See
 * notebookmain.js.  Such fonts will have keywords vertically offset with
 * respect to the rest of the text.  The user should select a better font.
 * See: https://github.com/ipython/ipython/issues/1503
 *
 * .CodeMirror span {
 *      vertical-align: bottom;
 * }
 */
.CodeMirror {
  line-height: 1.21429em;
  /* Changed from 1em to our global default */
  font-size: 14px;
  height: auto;
  /* Changed to auto to autogrow */
  background: none;
  /* Changed from white to allow our bg to show through */
}
.CodeMirror-scroll {
  /*  The CodeMirror docs are a bit fuzzy on if overflow-y should be hidden or visible.*/
  /*  We have found that if it is visible, vertical scrollbars appear with font size changes.*/
  overflow-y: hidden;
  overflow-x: auto;
}
.CodeMirror-lines {
  /* In CM2, this used to be 0.4em, but in CM3 it went to 4px. We need the em value because */
  /* we have set a different line-height and want this to scale with that. */
  padding: 0.4em;
}
.CodeMirror-linenumber {
  padding: 0 8px 0 4px;
}
.CodeMirror-gutters {
  border-bottom-left-radius: 2px;
  border-top-left-radius: 2px;
}
.CodeMirror pre {
  /* In CM3 this went to 4px from 0 in CM2. We need the 0 value because of how we size */
  /* .CodeMirror-lines */
  padding: 0;
  border: 0;
  border-radius: 0;
}
/*

Original style from softwaremaniacs.org (c) Ivan Sagalaev <Maniac@SoftwareManiacs.Org>
Adapted from GitHub theme

*/
.highlight-base {
  color: #000;
}
.highlight-variable {
  color: #000;
}
.highlight-variable-2 {
  color: #1a1a1a;
}
.highlight-variable-3 {
  color: #333333;
}
.highlight-string {
  color: #BA2121;
}
.highlight-comment {
  color: #408080;
  font-style: italic;
}
.highlight-number {
  color: #080;
}
.highlight-atom {
  color: #88F;
}
.highlight-keyword {
  color: #008000;
  font-weight: bold;
}
.highlight-builtin {
  color: #008000;
}
.highlight-error {
  color: #f00;
}
.highlight-operator {
  color: #AA22FF;
  font-weight: bold;
}
.highlight-meta {
  color: #AA22FF;
}
/* previously not defined, copying from default codemirror */
.highlight-def {
  color: #00f;
}
.highlight-string-2 {
  color: #f50;
}
.highlight-qualifier {
  color: #555;
}
.highlight-bracket {
  color: #997;
}
.highlight-tag {
  color: #170;
}
.highlight-attribute {
  color: #00c;
}
.highlight-header {
  color: blue;
}
.highlight-quote {
  color: #090;
}
.highlight-link {
  color: #00c;
}
/* apply the same style to codemirror */
.cm-s-ipython span.cm-keyword {
  color: #008000;
  font-weight: bold;
}
.cm-s-ipython span.cm-atom {
  color: #88F;
}
.cm-s-ipython span.cm-number {
  color: #080;
}
.cm-s-ipython span.cm-def {
  color: #00f;
}
.cm-s-ipython span.cm-variable {
  color: #000;
}
.cm-s-ipython span.cm-operator {
  color: #AA22FF;
  font-weight: bold;
}
.cm-s-ipython span.cm-variable-2 {
  color: #1a1a1a;
}
.cm-s-ipython span.cm-variable-3 {
  color: #333333;
}
.cm-s-ipython span.cm-comment {
  color: #408080;
  font-style: italic;
}
.cm-s-ipython span.cm-string {
  color: #BA2121;
}
.cm-s-ipython span.cm-string-2 {
  color: #f50;
}
.cm-s-ipython span.cm-meta {
  color: #AA22FF;
}
.cm-s-ipython span.cm-qualifier {
  color: #555;
}
.cm-s-ipython span.cm-builtin {
  color: #008000;
}
.cm-s-ipython span.cm-bracket {
  color: #997;
}
.cm-s-ipython span.cm-tag {
  color: #170;
}
.cm-s-ipython span.cm-attribute {
  color: #00c;
}
.cm-s-ipython span.cm-header {
  color: blue;
}
.cm-s-ipython span.cm-quote {
  color: #090;
}
.cm-s-ipython span.cm-link {
  color: #00c;
}
.cm-s-ipython span.cm-error {
  color: #f00;
}
.cm-s-ipython span.cm-tab {
  background: url(data:image/png;base64,iVBORw0KGgoAAAANSUhEUgAAADAAAAAMCAYAAAAkuj5RAAAAAXNSR0IArs4c6QAAAGFJREFUSMft1LsRQFAQheHPowAKoACx3IgEKtaEHujDjORSgWTH/ZOdnZOcM/sgk/kFFWY0qV8foQwS4MKBCS3qR6ixBJvElOobYAtivseIE120FaowJPN75GMu8j/LfMwNjh4HUpwg4LUAAAAASUVORK5CYII=);
  background-position: right;
  background-repeat: no-repeat;
}
div.output_wrapper {
  /* this position must be relative to enable descendents to be absolute within it */
  position: relative;
  /* Old browsers */
  display: -webkit-box;
  -webkit-box-orient: vertical;
  -webkit-box-align: stretch;
  display: -moz-box;
  -moz-box-orient: vertical;
  -moz-box-align: stretch;
  display: box;
  box-orient: vertical;
  box-align: stretch;
  /* Modern browsers */
  display: flex;
  flex-direction: column;
  align-items: stretch;
  z-index: 1;
}
/* class for the output area when it should be height-limited */
div.output_scroll {
  /* ideally, this would be max-height, but FF barfs all over that */
  height: 24em;
  /* FF needs this *and the wrapper* to specify full width, or it will shrinkwrap */
  width: 100%;
  overflow: auto;
  border-radius: 2px;
  -webkit-box-shadow: inset 0 2px 8px rgba(0, 0, 0, 0.8);
  box-shadow: inset 0 2px 8px rgba(0, 0, 0, 0.8);
  display: block;
}
/* output div while it is collapsed */
div.output_collapsed {
  margin: 0px;
  padding: 0px;
  /* Old browsers */
  display: -webkit-box;
  -webkit-box-orient: vertical;
  -webkit-box-align: stretch;
  display: -moz-box;
  -moz-box-orient: vertical;
  -moz-box-align: stretch;
  display: box;
  box-orient: vertical;
  box-align: stretch;
  /* Modern browsers */
  display: flex;
  flex-direction: column;
  align-items: stretch;
}
div.out_prompt_overlay {
  height: 100%;
  padding: 0px 0.4em;
  position: absolute;
  border-radius: 2px;
}
div.out_prompt_overlay:hover {
  /* use inner shadow to get border that is computed the same on WebKit/FF */
  -webkit-box-shadow: inset 0 0 1px #000;
  box-shadow: inset 0 0 1px #000;
  background: rgba(240, 240, 240, 0.5);
}
div.output_prompt {
  color: #D84315;
}
/* This class is the outer container of all output sections. */
div.output_area {
  padding: 0px;
  page-break-inside: avoid;
  /* Old browsers */
  display: -webkit-box;
  -webkit-box-orient: horizontal;
  -webkit-box-align: stretch;
  display: -moz-box;
  -moz-box-orient: horizontal;
  -moz-box-align: stretch;
  display: box;
  box-orient: horizontal;
  box-align: stretch;
  /* Modern browsers */
  display: flex;
  flex-direction: row;
  align-items: stretch;
}
div.output_area .MathJax_Display {
  text-align: left !important;
}
div.output_area .rendered_html table {
  margin-left: 0;
  margin-right: 0;
}
div.output_area .rendered_html img {
  margin-left: 0;
  margin-right: 0;
}
div.output_area img,
div.output_area svg {
  max-width: 100%;
  height: auto;
}
div.output_area img.unconfined,
div.output_area svg.unconfined {
  max-width: none;
}
/* This is needed to protect the pre formating from global settings such
   as that of bootstrap */
.output {
  /* Old browsers */
  display: -webkit-box;
  -webkit-box-orient: vertical;
  -webkit-box-align: stretch;
  display: -moz-box;
  -moz-box-orient: vertical;
  -moz-box-align: stretch;
  display: box;
  box-orient: vertical;
  box-align: stretch;
  /* Modern browsers */
  display: flex;
  flex-direction: column;
  align-items: stretch;
}
@media (max-width: 540px) {
  div.output_area {
    /* Old browsers */
    display: -webkit-box;
    -webkit-box-orient: vertical;
    -webkit-box-align: stretch;
    display: -moz-box;
    -moz-box-orient: vertical;
    -moz-box-align: stretch;
    display: box;
    box-orient: vertical;
    box-align: stretch;
    /* Modern browsers */
    display: flex;
    flex-direction: column;
    align-items: stretch;
  }
}
div.output_area pre {
  margin: 0;
  padding: 0;
  border: 0;
  vertical-align: baseline;
  color: black;
  background-color: transparent;
  border-radius: 0;
}
/* This class is for the output subarea inside the output_area and after
   the prompt div. */
div.output_subarea {
  overflow-x: auto;
  padding: 0.4em;
  /* Old browsers */
  -webkit-box-flex: 1;
  -moz-box-flex: 1;
  box-flex: 1;
  /* Modern browsers */
  flex: 1;
  max-width: calc(100% - 14ex);
}
div.output_scroll div.output_subarea {
  overflow-x: visible;
}
/* The rest of the output_* classes are for special styling of the different
   output types */
/* all text output has this class: */
div.output_text {
  text-align: left;
  color: #000;
  /* This has to match that of the the CodeMirror class line-height below */
  line-height: 1.21429em;
}
/* stdout/stderr are 'text' as well as 'stream', but execute_result/error are *not* streams */
div.output_stderr {
  background: #fdd;
  /* very light red background for stderr */
}
div.output_latex {
  text-align: left;
}
/* Empty output_javascript divs should have no height */
div.output_javascript:empty {
  padding: 0;
}
.js-error {
  color: darkred;
}
/* raw_input styles */
div.raw_input_container {
  line-height: 1.21429em;
  padding-top: 5px;
}
pre.raw_input_prompt {
  /* nothing needed here. */
}
input.raw_input {
  font-family: monospace;
  font-size: inherit;
  color: inherit;
  width: auto;
  /* make sure input baseline aligns with prompt */
  vertical-align: baseline;
  /* padding + margin = 0.5em between prompt and cursor */
  padding: 0em 0.25em;
  margin: 0em 0.25em;
}
input.raw_input:focus {
  box-shadow: none;
}
p.p-space {
  margin-bottom: 10px;
}
div.output_unrecognized {
  padding: 5px;
  font-weight: bold;
  color: red;
}
div.output_unrecognized a {
  color: inherit;
  text-decoration: none;
}
div.output_unrecognized a:hover {
  color: inherit;
  text-decoration: none;
}
.rendered_html {
  color: #000;
  /* any extras will just be numbers: */
}
.rendered_html em {
  font-style: italic;
}
.rendered_html strong {
  font-weight: bold;
}
.rendered_html u {
  text-decoration: underline;
}
.rendered_html :link {
  text-decoration: underline;
}
.rendered_html :visited {
  text-decoration: underline;
}
.rendered_html h1 {
  font-size: 185.7%;
  margin: 1.08em 0 0 0;
  font-weight: bold;
  line-height: 1.0;
}
.rendered_html h2 {
  font-size: 157.1%;
  margin: 1.27em 0 0 0;
  font-weight: bold;
  line-height: 1.0;
}
.rendered_html h3 {
  font-size: 128.6%;
  margin: 1.55em 0 0 0;
  font-weight: bold;
  line-height: 1.0;
}
.rendered_html h4 {
  font-size: 100%;
  margin: 2em 0 0 0;
  font-weight: bold;
  line-height: 1.0;
}
.rendered_html h5 {
  font-size: 100%;
  margin: 2em 0 0 0;
  font-weight: bold;
  line-height: 1.0;
  font-style: italic;
}
.rendered_html h6 {
  font-size: 100%;
  margin: 2em 0 0 0;
  font-weight: bold;
  line-height: 1.0;
  font-style: italic;
}
.rendered_html h1:first-child {
  margin-top: 0.538em;
}
.rendered_html h2:first-child {
  margin-top: 0.636em;
}
.rendered_html h3:first-child {
  margin-top: 0.777em;
}
.rendered_html h4:first-child {
  margin-top: 1em;
}
.rendered_html h5:first-child {
  margin-top: 1em;
}
.rendered_html h6:first-child {
  margin-top: 1em;
}
.rendered_html ul {
  list-style: disc;
  margin: 0em 2em;
  padding-left: 0px;
}
.rendered_html ul ul {
  list-style: square;
  margin: 0em 2em;
}
.rendered_html ul ul ul {
  list-style: circle;
  margin: 0em 2em;
}
.rendered_html ol {
  list-style: decimal;
  margin: 0em 2em;
  padding-left: 0px;
}
.rendered_html ol ol {
  list-style: upper-alpha;
  margin: 0em 2em;
}
.rendered_html ol ol ol {
  list-style: lower-alpha;
  margin: 0em 2em;
}
.rendered_html ol ol ol ol {
  list-style: lower-roman;
  margin: 0em 2em;
}
.rendered_html ol ol ol ol ol {
  list-style: decimal;
  margin: 0em 2em;
}
.rendered_html * + ul {
  margin-top: 1em;
}
.rendered_html * + ol {
  margin-top: 1em;
}
.rendered_html hr {
  color: black;
  background-color: black;
}
.rendered_html pre {
  margin: 1em 2em;
}
.rendered_html pre,
.rendered_html code {
  border: 0;
  background-color: #fff;
  color: #000;
  font-size: 100%;
  padding: 0px;
}
.rendered_html blockquote {
  margin: 1em 2em;
}
.rendered_html table {
  margin-left: auto;
  margin-right: auto;
  border: 1px solid black;
  border-collapse: collapse;
}
.rendered_html tr,
.rendered_html th,
.rendered_html td {
  border: 1px solid black;
  border-collapse: collapse;
  margin: 1em 2em;
}
.rendered_html td,
.rendered_html th {
  text-align: left;
  vertical-align: middle;
  padding: 4px;
}
.rendered_html th {
  font-weight: bold;
}
.rendered_html * + table {
  margin-top: 1em;
}
.rendered_html p {
  text-align: left;
}
.rendered_html * + p {
  margin-top: 1em;
}
.rendered_html img {
  display: block;
  margin-left: auto;
  margin-right: auto;
}
.rendered_html * + img {
  margin-top: 1em;
}
.rendered_html img,
.rendered_html svg {
  max-width: 100%;
  height: auto;
}
.rendered_html img.unconfined,
.rendered_html svg.unconfined {
  max-width: none;
}
div.text_cell {
  /* Old browsers */
  display: -webkit-box;
  -webkit-box-orient: horizontal;
  -webkit-box-align: stretch;
  display: -moz-box;
  -moz-box-orient: horizontal;
  -moz-box-align: stretch;
  display: box;
  box-orient: horizontal;
  box-align: stretch;
  /* Modern browsers */
  display: flex;
  flex-direction: row;
  align-items: stretch;
}
@media (max-width: 540px) {
  div.text_cell > div.prompt {
    display: none;
  }
}
div.text_cell_render {
  /*font-family: "Helvetica Neue", Arial, Helvetica, Geneva, sans-serif;*/
  outline: none;
  resize: none;
  width: inherit;
  border-style: none;
  padding: 0.5em 0.5em 0.5em 0.4em;
  color: #000;
  box-sizing: border-box;
  -moz-box-sizing: border-box;
  -webkit-box-sizing: border-box;
}
a.anchor-link:link {
  text-decoration: none;
  padding: 0px 20px;
  visibility: hidden;
}
h1:hover .anchor-link,
h2:hover .anchor-link,
h3:hover .anchor-link,
h4:hover .anchor-link,
h5:hover .anchor-link,
h6:hover .anchor-link {
  visibility: visible;
}
.text_cell.rendered .input_area {
  display: none;
}
.text_cell.rendered .rendered_html {
  overflow-x: auto;
  overflow-y: hidden;
}
.text_cell.unrendered .text_cell_render {
  display: none;
}
.cm-header-1,
.cm-header-2,
.cm-header-3,
.cm-header-4,
.cm-header-5,
.cm-header-6 {
  font-weight: bold;
  font-family: "Helvetica Neue", Helvetica, Arial, sans-serif;
}
.cm-header-1 {
  font-size: 185.7%;
}
.cm-header-2 {
  font-size: 157.1%;
}
.cm-header-3 {
  font-size: 128.6%;
}
.cm-header-4 {
  font-size: 110%;
}
.cm-header-5 {
  font-size: 100%;
  font-style: italic;
}
.cm-header-6 {
  font-size: 100%;
  font-style: italic;
}
/*!
*
* IPython notebook webapp
*
*/
@media (max-width: 767px) {
  .notebook_app {
    padding-left: 0px;
    padding-right: 0px;
  }
}
#ipython-main-app {
  box-sizing: border-box;
  -moz-box-sizing: border-box;
  -webkit-box-sizing: border-box;
  height: 100%;
}
div#notebook_panel {
  margin: 0px;
  padding: 0px;
  box-sizing: border-box;
  -moz-box-sizing: border-box;
  -webkit-box-sizing: border-box;
  height: 100%;
}
div#notebook {
  font-size: 14px;
  line-height: 20px;
  overflow-y: hidden;
  overflow-x: auto;
  width: 100%;
  /* This spaces the page away from the edge of the notebook area */
  padding-top: 20px;
  margin: 0px;
  outline: none;
  box-sizing: border-box;
  -moz-box-sizing: border-box;
  -webkit-box-sizing: border-box;
  min-height: 100%;
}
@media not print {
  #notebook-container {
    padding: 15px;
    background-color: #fff;
    min-height: 0;
    -webkit-box-shadow: 0px 0px 12px 1px rgba(87, 87, 87, 0.2);
    box-shadow: 0px 0px 12px 1px rgba(87, 87, 87, 0.2);
  }
}
@media print {
  #notebook-container {
    width: 100%;
  }
}
div.ui-widget-content {
  border: 1px solid #ababab;
  outline: none;
}
pre.dialog {
  background-color: #f7f7f7;
  border: 1px solid #ddd;
  border-radius: 2px;
  padding: 0.4em;
  padding-left: 2em;
}
p.dialog {
  padding: 0.2em;
}
/* Word-wrap output correctly.  This is the CSS3 spelling, though Firefox seems
   to not honor it correctly.  Webkit browsers (Chrome, rekonq, Safari) do.
 */
pre,
code,
kbd,
samp {
  white-space: pre-wrap;
}
#fonttest {
  font-family: monospace;
}
p {
  margin-bottom: 0;
}
.end_space {
  min-height: 100px;
  transition: height .2s ease;
}
.notebook_app > #header {
  -webkit-box-shadow: 0px 0px 12px 1px rgba(87, 87, 87, 0.2);
  box-shadow: 0px 0px 12px 1px rgba(87, 87, 87, 0.2);
}
@media not print {
  .notebook_app {
    background-color: #EEE;
  }
}
kbd {
  border-style: solid;
  border-width: 1px;
  box-shadow: none;
  margin: 2px;
  padding-left: 2px;
  padding-right: 2px;
  padding-top: 1px;
  padding-bottom: 1px;
}
/* CSS for the cell toolbar */
.celltoolbar {
  border: thin solid #CFCFCF;
  border-bottom: none;
  background: #EEE;
  border-radius: 2px 2px 0px 0px;
  width: 100%;
  height: 29px;
  padding-right: 4px;
  /* Old browsers */
  display: -webkit-box;
  -webkit-box-orient: horizontal;
  -webkit-box-align: stretch;
  display: -moz-box;
  -moz-box-orient: horizontal;
  -moz-box-align: stretch;
  display: box;
  box-orient: horizontal;
  box-align: stretch;
  /* Modern browsers */
  display: flex;
  flex-direction: row;
  align-items: stretch;
  /* Old browsers */
  -webkit-box-pack: end;
  -moz-box-pack: end;
  box-pack: end;
  /* Modern browsers */
  justify-content: flex-end;
  display: -webkit-flex;
}
@media print {
  .celltoolbar {
    display: none;
  }
}
.ctb_hideshow {
  display: none;
  vertical-align: bottom;
}
/* ctb_show is added to the ctb_hideshow div to show the cell toolbar.
   Cell toolbars are only shown when the ctb_global_show class is also set.
*/
.ctb_global_show .ctb_show.ctb_hideshow {
  display: block;
}
.ctb_global_show .ctb_show + .input_area,
.ctb_global_show .ctb_show + div.text_cell_input,
.ctb_global_show .ctb_show ~ div.text_cell_render {
  border-top-right-radius: 0px;
  border-top-left-radius: 0px;
}
.ctb_global_show .ctb_show ~ div.text_cell_render {
  border: 1px solid #cfcfcf;
}
.celltoolbar {
  font-size: 87%;
  padding-top: 3px;
}
.celltoolbar select {
  display: block;
  width: 100%;
  height: 32px;
  padding: 6px 12px;
  font-size: 13px;
  line-height: 1.42857143;
  color: #555555;
  background-color: #fff;
  background-image: none;
  border: 1px solid #ccc;
  border-radius: 2px;
  -webkit-box-shadow: inset 0 1px 1px rgba(0, 0, 0, 0.075);
  box-shadow: inset 0 1px 1px rgba(0, 0, 0, 0.075);
  -webkit-transition: border-color ease-in-out .15s, box-shadow ease-in-out .15s;
  -o-transition: border-color ease-in-out .15s, box-shadow ease-in-out .15s;
  transition: border-color ease-in-out .15s, box-shadow ease-in-out .15s;
  height: 30px;
  padding: 5px 10px;
  font-size: 12px;
  line-height: 1.5;
  border-radius: 1px;
  width: inherit;
  font-size: inherit;
  height: 22px;
  padding: 0px;
  display: inline-block;
}
.celltoolbar select:focus {
  border-color: #66afe9;
  outline: 0;
  -webkit-box-shadow: inset 0 1px 1px rgba(0,0,0,.075), 0 0 8px rgba(102, 175, 233, 0.6);
  box-shadow: inset 0 1px 1px rgba(0,0,0,.075), 0 0 8px rgba(102, 175, 233, 0.6);
}
.celltoolbar select::-moz-placeholder {
  color: #999;
  opacity: 1;
}
.celltoolbar select:-ms-input-placeholder {
  color: #999;
}
.celltoolbar select::-webkit-input-placeholder {
  color: #999;
}
.celltoolbar select::-ms-expand {
  border: 0;
  background-color: transparent;
}
.celltoolbar select[disabled],
.celltoolbar select[readonly],
fieldset[disabled] .celltoolbar select {
  background-color: #eeeeee;
  opacity: 1;
}
.celltoolbar select[disabled],
fieldset[disabled] .celltoolbar select {
  cursor: not-allowed;
}
textarea.celltoolbar select {
  height: auto;
}
select.celltoolbar select {
  height: 30px;
  line-height: 30px;
}
textarea.celltoolbar select,
select[multiple].celltoolbar select {
  height: auto;
}
.celltoolbar label {
  margin-left: 5px;
  margin-right: 5px;
}
.completions {
  position: absolute;
  z-index: 110;
  overflow: hidden;
  border: 1px solid #ababab;
  border-radius: 2px;
  -webkit-box-shadow: 0px 6px 10px -1px #adadad;
  box-shadow: 0px 6px 10px -1px #adadad;
  line-height: 1;
}
.completions select {
  background: white;
  outline: none;
  border: none;
  padding: 0px;
  margin: 0px;
  overflow: auto;
  font-family: monospace;
  font-size: 110%;
  color: #000;
  width: auto;
}
.completions select option.context {
  color: #286090;
}
#kernel_logo_widget {
  float: right !important;
  float: right;
}
#kernel_logo_widget .current_kernel_logo {
  display: none;
  margin-top: -1px;
  margin-bottom: -1px;
  width: 32px;
  height: 32px;
}
#menubar {
  box-sizing: border-box;
  -moz-box-sizing: border-box;
  -webkit-box-sizing: border-box;
  margin-top: 1px;
}
#menubar .navbar {
  border-top: 1px;
  border-radius: 0px 0px 2px 2px;
  margin-bottom: 0px;
}
#menubar .navbar-toggle {
  float: left;
  padding-top: 7px;
  padding-bottom: 7px;
  border: none;
}
#menubar .navbar-collapse {
  clear: left;
}
.nav-wrapper {
  border-bottom: 1px solid #e7e7e7;
}
i.menu-icon {
  padding-top: 4px;
}
ul#help_menu li a {
  overflow: hidden;
  padding-right: 2.2em;
}
ul#help_menu li a i {
  margin-right: -1.2em;
}
.dropdown-submenu {
  position: relative;
}
.dropdown-submenu > .dropdown-menu {
  top: 0;
  left: 100%;
  margin-top: -6px;
  margin-left: -1px;
}
.dropdown-submenu:hover > .dropdown-menu {
  display: block;
}
.dropdown-submenu > a:after {
  display: inline-block;
  font: normal normal normal 14px/1 FontAwesome;
  font-size: inherit;
  text-rendering: auto;
  -webkit-font-smoothing: antialiased;
  -moz-osx-font-smoothing: grayscale;
  display: block;
  content: "\f0da";
  float: right;
  color: #333333;
  margin-top: 2px;
  margin-right: -10px;
}
.dropdown-submenu > a:after.pull-left {
  margin-right: .3em;
}
.dropdown-submenu > a:after.pull-right {
  margin-left: .3em;
}
.dropdown-submenu:hover > a:after {
  color: #262626;
}
.dropdown-submenu.pull-left {
  float: none;
}
.dropdown-submenu.pull-left > .dropdown-menu {
  left: -100%;
  margin-left: 10px;
}
#notification_area {
  float: right !important;
  float: right;
  z-index: 10;
}
.indicator_area {
  float: right !important;
  float: right;
  color: #777;
  margin-left: 5px;
  margin-right: 5px;
  width: 11px;
  z-index: 10;
  text-align: center;
  width: auto;
}
#kernel_indicator {
  float: right !important;
  float: right;
  color: #777;
  margin-left: 5px;
  margin-right: 5px;
  width: 11px;
  z-index: 10;
  text-align: center;
  width: auto;
  border-left: 1px solid;
}
#kernel_indicator .kernel_indicator_name {
  padding-left: 5px;
  padding-right: 5px;
}
#modal_indicator {
  float: right !important;
  float: right;
  color: #777;
  margin-left: 5px;
  margin-right: 5px;
  width: 11px;
  z-index: 10;
  text-align: center;
  width: auto;
}
#readonly-indicator {
  float: right !important;
  float: right;
  color: #777;
  margin-left: 5px;
  margin-right: 5px;
  width: 11px;
  z-index: 10;
  text-align: center;
  width: auto;
  margin-top: 2px;
  margin-bottom: 0px;
  margin-left: 0px;
  margin-right: 0px;
  display: none;
}
.modal_indicator:before {
  width: 1.28571429em;
  text-align: center;
}
.edit_mode .modal_indicator:before {
  display: inline-block;
  font: normal normal normal 14px/1 FontAwesome;
  font-size: inherit;
  text-rendering: auto;
  -webkit-font-smoothing: antialiased;
  -moz-osx-font-smoothing: grayscale;
  content: "\f040";
}
.edit_mode .modal_indicator:before.pull-left {
  margin-right: .3em;
}
.edit_mode .modal_indicator:before.pull-right {
  margin-left: .3em;
}
.command_mode .modal_indicator:before {
  display: inline-block;
  font: normal normal normal 14px/1 FontAwesome;
  font-size: inherit;
  text-rendering: auto;
  -webkit-font-smoothing: antialiased;
  -moz-osx-font-smoothing: grayscale;
  content: ' ';
}
.command_mode .modal_indicator:before.pull-left {
  margin-right: .3em;
}
.command_mode .modal_indicator:before.pull-right {
  margin-left: .3em;
}
.kernel_idle_icon:before {
  display: inline-block;
  font: normal normal normal 14px/1 FontAwesome;
  font-size: inherit;
  text-rendering: auto;
  -webkit-font-smoothing: antialiased;
  -moz-osx-font-smoothing: grayscale;
  content: "\f10c";
}
.kernel_idle_icon:before.pull-left {
  margin-right: .3em;
}
.kernel_idle_icon:before.pull-right {
  margin-left: .3em;
}
.kernel_busy_icon:before {
  display: inline-block;
  font: normal normal normal 14px/1 FontAwesome;
  font-size: inherit;
  text-rendering: auto;
  -webkit-font-smoothing: antialiased;
  -moz-osx-font-smoothing: grayscale;
  content: "\f111";
}
.kernel_busy_icon:before.pull-left {
  margin-right: .3em;
}
.kernel_busy_icon:before.pull-right {
  margin-left: .3em;
}
.kernel_dead_icon:before {
  display: inline-block;
  font: normal normal normal 14px/1 FontAwesome;
  font-size: inherit;
  text-rendering: auto;
  -webkit-font-smoothing: antialiased;
  -moz-osx-font-smoothing: grayscale;
  content: "\f1e2";
}
.kernel_dead_icon:before.pull-left {
  margin-right: .3em;
}
.kernel_dead_icon:before.pull-right {
  margin-left: .3em;
}
.kernel_disconnected_icon:before {
  display: inline-block;
  font: normal normal normal 14px/1 FontAwesome;
  font-size: inherit;
  text-rendering: auto;
  -webkit-font-smoothing: antialiased;
  -moz-osx-font-smoothing: grayscale;
  content: "\f127";
}
.kernel_disconnected_icon:before.pull-left {
  margin-right: .3em;
}
.kernel_disconnected_icon:before.pull-right {
  margin-left: .3em;
}
.notification_widget {
  color: #777;
  z-index: 10;
  background: rgba(240, 240, 240, 0.5);
  margin-right: 4px;
  color: #333;
  background-color: #fff;
  border-color: #ccc;
}
.notification_widget:focus,
.notification_widget.focus {
  color: #333;
  background-color: #e6e6e6;
  border-color: #8c8c8c;
}
.notification_widget:hover {
  color: #333;
  background-color: #e6e6e6;
  border-color: #adadad;
}
.notification_widget:active,
.notification_widget.active,
.open > .dropdown-toggle.notification_widget {
  color: #333;
  background-color: #e6e6e6;
  border-color: #adadad;
}
.notification_widget:active:hover,
.notification_widget.active:hover,
.open > .dropdown-toggle.notification_widget:hover,
.notification_widget:active:focus,
.notification_widget.active:focus,
.open > .dropdown-toggle.notification_widget:focus,
.notification_widget:active.focus,
.notification_widget.active.focus,
.open > .dropdown-toggle.notification_widget.focus {
  color: #333;
  background-color: #d4d4d4;
  border-color: #8c8c8c;
}
.notification_widget:active,
.notification_widget.active,
.open > .dropdown-toggle.notification_widget {
  background-image: none;
}
.notification_widget.disabled:hover,
.notification_widget[disabled]:hover,
fieldset[disabled] .notification_widget:hover,
.notification_widget.disabled:focus,
.notification_widget[disabled]:focus,
fieldset[disabled] .notification_widget:focus,
.notification_widget.disabled.focus,
.notification_widget[disabled].focus,
fieldset[disabled] .notification_widget.focus {
  background-color: #fff;
  border-color: #ccc;
}
.notification_widget .badge {
  color: #fff;
  background-color: #333;
}
.notification_widget.warning {
  color: #fff;
  background-color: #f0ad4e;
  border-color: #eea236;
}
.notification_widget.warning:focus,
.notification_widget.warning.focus {
  color: #fff;
  background-color: #ec971f;
  border-color: #985f0d;
}
.notification_widget.warning:hover {
  color: #fff;
  background-color: #ec971f;
  border-color: #d58512;
}
.notification_widget.warning:active,
.notification_widget.warning.active,
.open > .dropdown-toggle.notification_widget.warning {
  color: #fff;
  background-color: #ec971f;
  border-color: #d58512;
}
.notification_widget.warning:active:hover,
.notification_widget.warning.active:hover,
.open > .dropdown-toggle.notification_widget.warning:hover,
.notification_widget.warning:active:focus,
.notification_widget.warning.active:focus,
.open > .dropdown-toggle.notification_widget.warning:focus,
.notification_widget.warning:active.focus,
.notification_widget.warning.active.focus,
.open > .dropdown-toggle.notification_widget.warning.focus {
  color: #fff;
  background-color: #d58512;
  border-color: #985f0d;
}
.notification_widget.warning:active,
.notification_widget.warning.active,
.open > .dropdown-toggle.notification_widget.warning {
  background-image: none;
}
.notification_widget.warning.disabled:hover,
.notification_widget.warning[disabled]:hover,
fieldset[disabled] .notification_widget.warning:hover,
.notification_widget.warning.disabled:focus,
.notification_widget.warning[disabled]:focus,
fieldset[disabled] .notification_widget.warning:focus,
.notification_widget.warning.disabled.focus,
.notification_widget.warning[disabled].focus,
fieldset[disabled] .notification_widget.warning.focus {
  background-color: #f0ad4e;
  border-color: #eea236;
}
.notification_widget.warning .badge {
  color: #f0ad4e;
  background-color: #fff;
}
.notification_widget.success {
  color: #fff;
  background-color: #5cb85c;
  border-color: #4cae4c;
}
.notification_widget.success:focus,
.notification_widget.success.focus {
  color: #fff;
  background-color: #449d44;
  border-color: #255625;
}
.notification_widget.success:hover {
  color: #fff;
  background-color: #449d44;
  border-color: #398439;
}
.notification_widget.success:active,
.notification_widget.success.active,
.open > .dropdown-toggle.notification_widget.success {
  color: #fff;
  background-color: #449d44;
  border-color: #398439;
}
.notification_widget.success:active:hover,
.notification_widget.success.active:hover,
.open > .dropdown-toggle.notification_widget.success:hover,
.notification_widget.success:active:focus,
.notification_widget.success.active:focus,
.open > .dropdown-toggle.notification_widget.success:focus,
.notification_widget.success:active.focus,
.notification_widget.success.active.focus,
.open > .dropdown-toggle.notification_widget.success.focus {
  color: #fff;
  background-color: #398439;
  border-color: #255625;
}
.notification_widget.success:active,
.notification_widget.success.active,
.open > .dropdown-toggle.notification_widget.success {
  background-image: none;
}
.notification_widget.success.disabled:hover,
.notification_widget.success[disabled]:hover,
fieldset[disabled] .notification_widget.success:hover,
.notification_widget.success.disabled:focus,
.notification_widget.success[disabled]:focus,
fieldset[disabled] .notification_widget.success:focus,
.notification_widget.success.disabled.focus,
.notification_widget.success[disabled].focus,
fieldset[disabled] .notification_widget.success.focus {
  background-color: #5cb85c;
  border-color: #4cae4c;
}
.notification_widget.success .badge {
  color: #5cb85c;
  background-color: #fff;
}
.notification_widget.info {
  color: #fff;
  background-color: #5bc0de;
  border-color: #46b8da;
}
.notification_widget.info:focus,
.notification_widget.info.focus {
  color: #fff;
  background-color: #31b0d5;
  border-color: #1b6d85;
}
.notification_widget.info:hover {
  color: #fff;
  background-color: #31b0d5;
  border-color: #269abc;
}
.notification_widget.info:active,
.notification_widget.info.active,
.open > .dropdown-toggle.notification_widget.info {
  color: #fff;
  background-color: #31b0d5;
  border-color: #269abc;
}
.notification_widget.info:active:hover,
.notification_widget.info.active:hover,
.open > .dropdown-toggle.notification_widget.info:hover,
.notification_widget.info:active:focus,
.notification_widget.info.active:focus,
.open > .dropdown-toggle.notification_widget.info:focus,
.notification_widget.info:active.focus,
.notification_widget.info.active.focus,
.open > .dropdown-toggle.notification_widget.info.focus {
  color: #fff;
  background-color: #269abc;
  border-color: #1b6d85;
}
.notification_widget.info:active,
.notification_widget.info.active,
.open > .dropdown-toggle.notification_widget.info {
  background-image: none;
}
.notification_widget.info.disabled:hover,
.notification_widget.info[disabled]:hover,
fieldset[disabled] .notification_widget.info:hover,
.notification_widget.info.disabled:focus,
.notification_widget.info[disabled]:focus,
fieldset[disabled] .notification_widget.info:focus,
.notification_widget.info.disabled.focus,
.notification_widget.info[disabled].focus,
fieldset[disabled] .notification_widget.info.focus {
  background-color: #5bc0de;
  border-color: #46b8da;
}
.notification_widget.info .badge {
  color: #5bc0de;
  background-color: #fff;
}
.notification_widget.danger {
  color: #fff;
  background-color: #d9534f;
  border-color: #d43f3a;
}
.notification_widget.danger:focus,
.notification_widget.danger.focus {
  color: #fff;
  background-color: #c9302c;
  border-color: #761c19;
}
.notification_widget.danger:hover {
  color: #fff;
  background-color: #c9302c;
  border-color: #ac2925;
}
.notification_widget.danger:active,
.notification_widget.danger.active,
.open > .dropdown-toggle.notification_widget.danger {
  color: #fff;
  background-color: #c9302c;
  border-color: #ac2925;
}
.notification_widget.danger:active:hover,
.notification_widget.danger.active:hover,
.open > .dropdown-toggle.notification_widget.danger:hover,
.notification_widget.danger:active:focus,
.notification_widget.danger.active:focus,
.open > .dropdown-toggle.notification_widget.danger:focus,
.notification_widget.danger:active.focus,
.notification_widget.danger.active.focus,
.open > .dropdown-toggle.notification_widget.danger.focus {
  color: #fff;
  background-color: #ac2925;
  border-color: #761c19;
}
.notification_widget.danger:active,
.notification_widget.danger.active,
.open > .dropdown-toggle.notification_widget.danger {
  background-image: none;
}
.notification_widget.danger.disabled:hover,
.notification_widget.danger[disabled]:hover,
fieldset[disabled] .notification_widget.danger:hover,
.notification_widget.danger.disabled:focus,
.notification_widget.danger[disabled]:focus,
fieldset[disabled] .notification_widget.danger:focus,
.notification_widget.danger.disabled.focus,
.notification_widget.danger[disabled].focus,
fieldset[disabled] .notification_widget.danger.focus {
  background-color: #d9534f;
  border-color: #d43f3a;
}
.notification_widget.danger .badge {
  color: #d9534f;
  background-color: #fff;
}
div#pager {
  background-color: #fff;
  font-size: 14px;
  line-height: 20px;
  overflow: hidden;
  display: none;
  position: fixed;
  bottom: 0px;
  width: 100%;
  max-height: 50%;
  padding-top: 8px;
  -webkit-box-shadow: 0px 0px 12px 1px rgba(87, 87, 87, 0.2);
  box-shadow: 0px 0px 12px 1px rgba(87, 87, 87, 0.2);
  /* Display over codemirror */
  z-index: 100;
  /* Hack which prevents jquery ui resizable from changing top. */
  top: auto !important;
}
div#pager pre {
  line-height: 1.21429em;
  color: #000;
  background-color: #f7f7f7;
  padding: 0.4em;
}
div#pager #pager-button-area {
  position: absolute;
  top: 8px;
  right: 20px;
}
div#pager #pager-contents {
  position: relative;
  overflow: auto;
  width: 100%;
  height: 100%;
}
div#pager #pager-contents #pager-container {
  position: relative;
  padding: 15px 0px;
  box-sizing: border-box;
  -moz-box-sizing: border-box;
  -webkit-box-sizing: border-box;
}
div#pager .ui-resizable-handle {
  top: 0px;
  height: 8px;
  background: #f7f7f7;
  border-top: 1px solid #cfcfcf;
  border-bottom: 1px solid #cfcfcf;
  /* This injects handle bars (a short, wide = symbol) for 
        the resize handle. */
}
div#pager .ui-resizable-handle::after {
  content: '';
  top: 2px;
  left: 50%;
  height: 3px;
  width: 30px;
  margin-left: -15px;
  position: absolute;
  border-top: 1px solid #cfcfcf;
}
.quickhelp {
  /* Old browsers */
  display: -webkit-box;
  -webkit-box-orient: horizontal;
  -webkit-box-align: stretch;
  display: -moz-box;
  -moz-box-orient: horizontal;
  -moz-box-align: stretch;
  display: box;
  box-orient: horizontal;
  box-align: stretch;
  /* Modern browsers */
  display: flex;
  flex-direction: row;
  align-items: stretch;
  line-height: 1.8em;
}
.shortcut_key {
  display: inline-block;
  width: 20ex;
  text-align: right;
  font-family: monospace;
}
.shortcut_descr {
  display: inline-block;
  /* Old browsers */
  -webkit-box-flex: 1;
  -moz-box-flex: 1;
  box-flex: 1;
  /* Modern browsers */
  flex: 1;
}
span.save_widget {
  margin-top: 6px;
}
span.save_widget span.filename {
  height: 1em;
  line-height: 1em;
  padding: 3px;
  margin-left: 16px;
  border: none;
  font-size: 146.5%;
  border-radius: 2px;
}
span.save_widget span.filename:hover {
  background-color: #e6e6e6;
}
span.checkpoint_status,
span.autosave_status {
  font-size: small;
}
@media (max-width: 767px) {
  span.save_widget {
    font-size: small;
  }
  span.checkpoint_status,
  span.autosave_status {
    display: none;
  }
}
@media (min-width: 768px) and (max-width: 991px) {
  span.checkpoint_status {
    display: none;
  }
  span.autosave_status {
    font-size: x-small;
  }
}
.toolbar {
  padding: 0px;
  margin-left: -5px;
  margin-top: 2px;
  margin-bottom: 5px;
  box-sizing: border-box;
  -moz-box-sizing: border-box;
  -webkit-box-sizing: border-box;
}
.toolbar select,
.toolbar label {
  width: auto;
  vertical-align: middle;
  margin-right: 2px;
  margin-bottom: 0px;
  display: inline;
  font-size: 92%;
  margin-left: 0.3em;
  margin-right: 0.3em;
  padding: 0px;
  padding-top: 3px;
}
.toolbar .btn {
  padding: 2px 8px;
}
.toolbar .btn-group {
  margin-top: 0px;
  margin-left: 5px;
}
#maintoolbar {
  margin-bottom: -3px;
  margin-top: -8px;
  border: 0px;
  min-height: 27px;
  margin-left: 0px;
  padding-top: 11px;
  padding-bottom: 3px;
}
#maintoolbar .navbar-text {
  float: none;
  vertical-align: middle;
  text-align: right;
  margin-left: 5px;
  margin-right: 0px;
  margin-top: 0px;
}
.select-xs {
  height: 24px;
}
.pulse,
.dropdown-menu > li > a.pulse,
li.pulse > a.dropdown-toggle,
li.pulse.open > a.dropdown-toggle {
  background-color: #F37626;
  color: white;
}
/**
 * Primary styles
 *
 * Author: Jupyter Development Team
 */
/** WARNING IF YOU ARE EDITTING THIS FILE, if this is a .css file, It has a lot
 * of chance of beeing generated from the ../less/[samename].less file, you can
 * try to get back the less file by reverting somme commit in history
 **/
/*
 * We'll try to get something pretty, so we
 * have some strange css to have the scroll bar on
 * the left with fix button on the top right of the tooltip
 */
@-moz-keyframes fadeOut {
  from {
    opacity: 1;
  }
  to {
    opacity: 0;
  }
}
@-webkit-keyframes fadeOut {
  from {
    opacity: 1;
  }
  to {
    opacity: 0;
  }
}
@-moz-keyframes fadeIn {
  from {
    opacity: 0;
  }
  to {
    opacity: 1;
  }
}
@-webkit-keyframes fadeIn {
  from {
    opacity: 0;
  }
  to {
    opacity: 1;
  }
}
/*properties of tooltip after "expand"*/
.bigtooltip {
  overflow: auto;
  height: 200px;
  -webkit-transition-property: height;
  -webkit-transition-duration: 500ms;
  -moz-transition-property: height;
  -moz-transition-duration: 500ms;
  transition-property: height;
  transition-duration: 500ms;
}
/*properties of tooltip before "expand"*/
.smalltooltip {
  -webkit-transition-property: height;
  -webkit-transition-duration: 500ms;
  -moz-transition-property: height;
  -moz-transition-duration: 500ms;
  transition-property: height;
  transition-duration: 500ms;
  text-overflow: ellipsis;
  overflow: hidden;
  height: 80px;
}
.tooltipbuttons {
  position: absolute;
  padding-right: 15px;
  top: 0px;
  right: 0px;
}
.tooltiptext {
  /*avoid the button to overlap on some docstring*/
  padding-right: 30px;
}
.ipython_tooltip {
  max-width: 700px;
  /*fade-in animation when inserted*/
  -webkit-animation: fadeOut 400ms;
  -moz-animation: fadeOut 400ms;
  animation: fadeOut 400ms;
  -webkit-animation: fadeIn 400ms;
  -moz-animation: fadeIn 400ms;
  animation: fadeIn 400ms;
  vertical-align: middle;
  background-color: #f7f7f7;
  overflow: visible;
  border: #ababab 1px solid;
  outline: none;
  padding: 3px;
  margin: 0px;
  padding-left: 7px;
  font-family: monospace;
  min-height: 50px;
  -moz-box-shadow: 0px 6px 10px -1px #adadad;
  -webkit-box-shadow: 0px 6px 10px -1px #adadad;
  box-shadow: 0px 6px 10px -1px #adadad;
  border-radius: 2px;
  position: absolute;
  z-index: 1000;
}
.ipython_tooltip a {
  float: right;
}
.ipython_tooltip .tooltiptext pre {
  border: 0;
  border-radius: 0;
  font-size: 100%;
  background-color: #f7f7f7;
}
.pretooltiparrow {
  left: 0px;
  margin: 0px;
  top: -16px;
  width: 40px;
  height: 16px;
  overflow: hidden;
  position: absolute;
}
.pretooltiparrow:before {
  background-color: #f7f7f7;
  border: 1px #ababab solid;
  z-index: 11;
  content: "";
  position: absolute;
  left: 15px;
  top: 10px;
  width: 25px;
  height: 25px;
  -webkit-transform: rotate(45deg);
  -moz-transform: rotate(45deg);
  -ms-transform: rotate(45deg);
  -o-transform: rotate(45deg);
}
ul.typeahead-list i {
  margin-left: -10px;
  width: 18px;
}
ul.typeahead-list {
  max-height: 80vh;
  overflow: auto;
}
ul.typeahead-list > li > a {
  /** Firefox bug **/
  /* see https://github.com/jupyter/notebook/issues/559 */
  white-space: normal;
}
.cmd-palette .modal-body {
  padding: 7px;
}
.cmd-palette form {
  background: white;
}
.cmd-palette input {
  outline: none;
}
.no-shortcut {
  display: none;
}
.command-shortcut:before {
  content: "(command)";
  padding-right: 3px;
  color: #777777;
}
.edit-shortcut:before {
  content: "(edit)";
  padding-right: 3px;
  color: #777777;
}
#find-and-replace #replace-preview .match,
#find-and-replace #replace-preview .insert {
  background-color: #BBDEFB;
  border-color: #90CAF9;
  border-style: solid;
  border-width: 1px;
  border-radius: 0px;
}
#find-and-replace #replace-preview .replace .match {
  background-color: #FFCDD2;
  border-color: #EF9A9A;
  border-radius: 0px;
}
#find-and-replace #replace-preview .replace .insert {
  background-color: #C8E6C9;
  border-color: #A5D6A7;
  border-radius: 0px;
}
#find-and-replace #replace-preview {
  max-height: 60vh;
  overflow: auto;
}
#find-and-replace #replace-preview pre {
  padding: 5px 10px;
}
.terminal-app {
  background: #EEE;
}
.terminal-app #header {
  background: #fff;
  -webkit-box-shadow: 0px 0px 12px 1px rgba(87, 87, 87, 0.2);
  box-shadow: 0px 0px 12px 1px rgba(87, 87, 87, 0.2);
}
.terminal-app .terminal {
  float: left;
  font-family: monospace;
  color: white;
  background: black;
  padding: 0.4em;
  border-radius: 2px;
  -webkit-box-shadow: 0px 0px 12px 1px rgba(87, 87, 87, 0.4);
  box-shadow: 0px 0px 12px 1px rgba(87, 87, 87, 0.4);
}
.terminal-app .terminal,
.terminal-app .terminal dummy-screen {
  line-height: 1em;
  font-size: 14px;
}
.terminal-app .terminal-cursor {
  color: black;
  background: white;
}
.terminal-app #terminado-container {
  margin-top: 20px;
}
/*# sourceMappingURL=style.min.css.map */
    </style>
<style type="text/css">
    .highlight .hll { background-color: #ffffcc }
.highlight  { background: #f8f8f8; }
.highlight .c { color: #408080; font-style: italic } /* Comment */
.highlight .err { border: 1px solid #FF0000 } /* Error */
.highlight .k { color: #008000; font-weight: bold } /* Keyword */
.highlight .o { color: #666666 } /* Operator */
.highlight .ch { color: #408080; font-style: italic } /* Comment.Hashbang */
.highlight .cm { color: #408080; font-style: italic } /* Comment.Multiline */
.highlight .cp { color: #BC7A00 } /* Comment.Preproc */
.highlight .cpf { color: #408080; font-style: italic } /* Comment.PreprocFile */
.highlight .c1 { color: #408080; font-style: italic } /* Comment.Single */
.highlight .cs { color: #408080; font-style: italic } /* Comment.Special */
.highlight .gd { color: #A00000 } /* Generic.Deleted */
.highlight .ge { font-style: italic } /* Generic.Emph */
.highlight .gr { color: #FF0000 } /* Generic.Error */
.highlight .gh { color: #000080; font-weight: bold } /* Generic.Heading */
.highlight .gi { color: #00A000 } /* Generic.Inserted */
.highlight .go { color: #888888 } /* Generic.Output */
.highlight .gp { color: #000080; font-weight: bold } /* Generic.Prompt */
.highlight .gs { font-weight: bold } /* Generic.Strong */
.highlight .gu { color: #800080; font-weight: bold } /* Generic.Subheading */
.highlight .gt { color: #0044DD } /* Generic.Traceback */
.highlight .kc { color: #008000; font-weight: bold } /* Keyword.Constant */
.highlight .kd { color: #008000; font-weight: bold } /* Keyword.Declaration */
.highlight .kn { color: #008000; font-weight: bold } /* Keyword.Namespace */
.highlight .kp { color: #008000 } /* Keyword.Pseudo */
.highlight .kr { color: #008000; font-weight: bold } /* Keyword.Reserved */
.highlight .kt { color: #B00040 } /* Keyword.Type */
.highlight .m { color: #666666 } /* Literal.Number */
.highlight .s { color: #BA2121 } /* Literal.String */
.highlight .na { color: #7D9029 } /* Name.Attribute */
.highlight .nb { color: #008000 } /* Name.Builtin */
.highlight .nc { color: #0000FF; font-weight: bold } /* Name.Class */
.highlight .no { color: #880000 } /* Name.Constant */
.highlight .nd { color: #AA22FF } /* Name.Decorator */
.highlight .ni { color: #999999; font-weight: bold } /* Name.Entity */
.highlight .ne { color: #D2413A; font-weight: bold } /* Name.Exception */
.highlight .nf { color: #0000FF } /* Name.Function */
.highlight .nl { color: #A0A000 } /* Name.Label */
.highlight .nn { color: #0000FF; font-weight: bold } /* Name.Namespace */
.highlight .nt { color: #008000; font-weight: bold } /* Name.Tag */
.highlight .nv { color: #19177C } /* Name.Variable */
.highlight .ow { color: #AA22FF; font-weight: bold } /* Operator.Word */
.highlight .w { color: #bbbbbb } /* Text.Whitespace */
.highlight .mb { color: #666666 } /* Literal.Number.Bin */
.highlight .mf { color: #666666 } /* Literal.Number.Float */
.highlight .mh { color: #666666 } /* Literal.Number.Hex */
.highlight .mi { color: #666666 } /* Literal.Number.Integer */
.highlight .mo { color: #666666 } /* Literal.Number.Oct */
.highlight .sb { color: #BA2121 } /* Literal.String.Backtick */
.highlight .sc { color: #BA2121 } /* Literal.String.Char */
.highlight .sd { color: #BA2121; font-style: italic } /* Literal.String.Doc */
.highlight .s2 { color: #BA2121 } /* Literal.String.Double */
.highlight .se { color: #BB6622; font-weight: bold } /* Literal.String.Escape */
.highlight .sh { color: #BA2121 } /* Literal.String.Heredoc */
.highlight .si { color: #BB6688; font-weight: bold } /* Literal.String.Interpol */
.highlight .sx { color: #008000 } /* Literal.String.Other */
.highlight .sr { color: #BB6688 } /* Literal.String.Regex */
.highlight .s1 { color: #BA2121 } /* Literal.String.Single */
.highlight .ss { color: #19177C } /* Literal.String.Symbol */
.highlight .bp { color: #008000 } /* Name.Builtin.Pseudo */
.highlight .vc { color: #19177C } /* Name.Variable.Class */
.highlight .vg { color: #19177C } /* Name.Variable.Global */
.highlight .vi { color: #19177C } /* Name.Variable.Instance */
.highlight .il { color: #666666 } /* Literal.Number.Integer.Long */
    </style>
<style type="text/css">
    
/* Temporary definitions which will become obsolete with Notebook release 5.0 */
.ansi-black-fg { color: #3E424D; }
.ansi-black-bg { background-color: #3E424D; }
.ansi-black-intense-fg { color: #282C36; }
.ansi-black-intense-bg { background-color: #282C36; }
.ansi-red-fg { color: #E75C58; }
.ansi-red-bg { background-color: #E75C58; }
.ansi-red-intense-fg { color: #B22B31; }
.ansi-red-intense-bg { background-color: #B22B31; }
.ansi-green-fg { color: #00A250; }
.ansi-green-bg { background-color: #00A250; }
.ansi-green-intense-fg { color: #007427; }
.ansi-green-intense-bg { background-color: #007427; }
.ansi-yellow-fg { color: #DDB62B; }
.ansi-yellow-bg { background-color: #DDB62B; }
.ansi-yellow-intense-fg { color: #B27D12; }
.ansi-yellow-intense-bg { background-color: #B27D12; }
.ansi-blue-fg { color: #208FFB; }
.ansi-blue-bg { background-color: #208FFB; }
.ansi-blue-intense-fg { color: #0065CA; }
.ansi-blue-intense-bg { background-color: #0065CA; }
.ansi-magenta-fg { color: #D160C4; }
.ansi-magenta-bg { background-color: #D160C4; }
.ansi-magenta-intense-fg { color: #A03196; }
.ansi-magenta-intense-bg { background-color: #A03196; }
.ansi-cyan-fg { color: #60C6C8; }
.ansi-cyan-bg { background-color: #60C6C8; }
.ansi-cyan-intense-fg { color: #258F8F; }
.ansi-cyan-intense-bg { background-color: #258F8F; }
.ansi-white-fg { color: #C5C1B4; }
.ansi-white-bg { background-color: #C5C1B4; }
.ansi-white-intense-fg { color: #A1A6B2; }
.ansi-white-intense-bg { background-color: #A1A6B2; }

.ansi-bold { font-weight: bold; }

    </style>
<style type="text/css">
    .highlight .hll {
  background-color: #ffffcc;
}
.highlight .c {
  color: #999988;
  font-style: italic;
}
/* Comment */
.highlight .err {
  color: #a61717;
  background-color: #e3d2d2;
}
/* Error */
.highlight .k {
  color: #000000;
  font-weight: bold;
}
/* Keyword */
.highlight .o {
  color: #000000;
  font-weight: bold;
}
/* Operator */
.highlight .cm {
  color: #999988;
  font-style: italic;
}
/* Comment.Multiline */
.highlight .cp {
  color: #999999;
  font-weight: bold;
  font-style: italic;
}
/* Comment.Preproc */
.highlight .c1 {
  color: #999988;
  font-style: italic;
}
/* Comment.Single */
.highlight .cs {
  color: #999999;
  font-weight: bold;
  font-style: italic;
}
/* Comment.Special */
.highlight .gd {
  color: #000000;
  background-color: #ffdddd;
}
/* Generic.Deleted */
.highlight .ge {
  color: #000000;
  font-style: italic;
}
/* Generic.Emph */
.highlight .gr {
  color: #aa0000;
}
/* Generic.Error */
.highlight .gh {
  color: #999999;
}
/* Generic.Heading */
.highlight .gi {
  color: #000000;
  background-color: #ddffdd;
}
/* Generic.Inserted */
.highlight .go {
  color: #888888;
}
/* Generic.Output */
.highlight .gp {
  color: #555555;
}
/* Generic.Prompt */
.highlight .gs {
  font-weight: bold;
}
/* Generic.Strong */
.highlight .gu {
  color: #aaaaaa;
}
/* Generic.Subheading */
.highlight .gt {
  color: #aa0000;
}
/* Generic.Traceback */
.highlight .kc {
  color: #000000;
  font-weight: bold;
}
/* Keyword.Constant */
.highlight .kd {
  color: #000000;
  font-weight: bold;
}
/* Keyword.Declaration */
.highlight .kn {
  color: #000000;
  font-weight: bold;
}
/* Keyword.Namespace */
.highlight .kp {
  color: #000000;
  font-weight: bold;
}
/* Keyword.Pseudo */
.highlight .kr {
  color: #000000;
  font-weight: bold;
}
/* Keyword.Reserved */
.highlight .kt {
  color: #445588;
  font-weight: bold;
}
/* Keyword.Type */
.highlight .m {
  color: #009999;
}
/* Literal.Number */
.highlight .s {
  color: #d01040;
}
/* Literal.String */
.highlight .na {
  color: #008080;
}
/* Name.Attribute */
.highlight .nb {
  color: #0086b3;
}
/* Name.Builtin */
.highlight .nc {
  color: #445588;
  font-weight: bold;
}
/* Name.Class */
.highlight .no {
  color: #008080;
}
/* Name.Constant */
.highlight .nd {
  color: #3c5d5d;
  font-weight: bold;
}
/* Name.Decorator */
.highlight .ni {
  color: #800080;
}
/* Name.Entity */
.highlight .ne {
  color: #990000;
  font-weight: bold;
}
/* Name.Exception */
.highlight .nf {
  color: #990000;
  font-weight: bold;
}
/* Name.Function */
.highlight .nl {
  color: #990000;
  font-weight: bold;
}
/* Name.Label */
.highlight .nn {
  color: black;
  font-weight: normal;
}
/* Name.Namespace */
.highlight .nt {
  color: #000080;
}
/* Name.Tag */
.highlight .nv {
  color: #008080;
}
/* Name.Variable */
.highlight .ow {
  color: #000000;
  font-weight: bold;
}
/* Operator.Word */
.highlight .w {
  color: #bbbbbb;
}
/* Text.Whitespace */
.highlight .mf {
  color: #009999;
}
/* Literal.Number.Float */
.highlight .mh {
  color: #009999;
}
/* Literal.Number.Hex */
.highlight .mi {
  color: #009999;
}
/* Literal.Number.Integer */
.highlight .mo {
  color: #009999;
}
/* Literal.Number.Oct */
.highlight .sb {
  color: #d01040;
}
/* Literal.String.Backtick */
.highlight .sc {
  color: #d01040;
}
/* Literal.String.Char */
.highlight .sd {
  color: #d01040;
}
/* Literal.String.Doc */
.highlight .s2 {
  color: #d01040;
}
/* Literal.String.Double */
.highlight .se {
  color: #d01040;
}
/* Literal.String.Escape */
.highlight .sh {
  color: #d01040;
}
/* Literal.String.Heredoc */
.highlight .si {
  color: #d01040;
}
/* Literal.String.Interpol */
.highlight .sx {
  color: #d01040;
}
/* Literal.String.Other */
.highlight .sr {
  color: #009926;
}
/* Literal.String.Regex */
.highlight .s1 {
  color: #d01040;
}
/* Literal.String.Single */
.highlight .ss {
  color: #990073;
}
/* Literal.String.Symbol */
.highlight .bp {
  color: #999999;
}
/* Name.Builtin.Pseudo */
.highlight .vc {
  color: #008080;
}
/* Name.Variable.Class */
.highlight .vg {
  color: #008080;
}
/* Name.Variable.Global */
.highlight .vi {
  color: #008080;
}
/* Name.Variable.Instance */
.highlight .il {
  color: #009999;
}
/* Literal.Number.Integer.Long */
div#maintoolbar {
  display: none !important;
}
body {
  font-family: "Open Sans", "Helvetica Neue", Helvetica, Arial, sans-serif;
  font-size: 16px;
  line-height: 1.42857143;
  color: #2c2c2c;
}
.rendered_html table,
.rendered_html th,
.rendered_html tr,
.rendered_html td {
  margin: 6px 0 13.5px;
  font-size: 15px;
  border-color: #ccc;
  max-width: 100%;
  text-align: left;
}
span.ansiblack {
  color: #2b303b;
}
span.ansiblue {
  color: #154ba1;
}
span.ansigray {
  color: #b4b7b4;
}
span.ansigreen {
  color: #2d6836;
}
span.ansipurple {
  color: #483d8b;
}
span.ansicyan {
  color: #1592a2;
}
span.ansiyellow {
  color: #92a215;
}
span.ansired {
  color: #b82a18;
}
div.output_html {
  color: #4c4c4c;
}
div.output_stderr {
  background-color: #DB797C;
}
div.output_stderr pre {
  color: #000000;
}
.cm-s-ipython.CodeMirror {
  background: #f6f6f6;
  color: #303030;
}
.cm-s-ipython div.CodeMirror-selected {
  background: #777777 !important;
}
.cm-s-ipython .CodeMirror-gutters {
  background: #cccccc;
  border: 0px;
  border-radius: 0px;
}
.cm-s-ipython .CodeMirror-linenumber {
  color: #666666 !important;
  font-size: 11pt;
}
.cm-s-ipython .CodeMirror-cursor {
  border-left: 2px solid #0095ff !important;
}
.cm-s-ipython span.cm-comment {
  color: #707070;
  font-style: italic !important;
}
.cm-s-ipython span.cm-atom {
  color: #F37F14;
}
.cm-s-ipython span.cm-number {
  color: #eb6a1a;
}
.cm-s-ipython span.cm-property {
  color: #de143d;
}
.cm-s-ipython span.cm-attribute {
  color: #de143d;
}
.cm-s-ipython span.cm-keyword {
  color: #F37F14;
  font-weight: normal;
}
.cm-s-ipython span.cm-string {
  color: #007f00;
  font-weight: normal;
}
.cm-s-ipython span.cm-operator {
  color: #055be0;
  font-weight: normal;
}
.cm-s-ipython span.cm-builtin {
  color: #de143d;
  font-weight: normal;
}
.cm-s-ipython span.cm-variable {
  color: #000000;
}
.cm-s-ipython span.cm-variable-2 {
  color: #de143d;
}
.cm-s-ipython span.cm-def {
  color: #055be0;
  font-weight: normal;
}
.cm-s-ipython span.cm-error {
  background: rgba(191, 97, 106, 0.3) !important;
}
.cm-s-ipython span.cm-tag {
  color: #F37F14;
}
.cm-s-ipython span.cm-link {
  color: #eb6a1a;
}
.cm-s-ipython span.cm-storage {
  color: #055be0;
}
.cm-s-ipython span.cm-entity {
  color: #de143d;
}
.cm-s-ipython span.cm-class {
  color: #e22978;
}
.cm-s-ipython span.cm-support {
  color: #de143d;
}
.cm-s-ipython span.cm-qualifier {
  color: #de143d;
}
/* Set CodeCell font-size*/
/*div.CodeMirror pre {font-size: 11pt !important;}*/
div.CodeMirror pre {
  line-height: 1.5 !important;
}
div.CodeMirror pre {
  font-family: 'Hack', monospace;
  font-size: 11pt;
}
div.CodeMirror span.CodeMirror-matchingbracket {
  color: #000000;
  background: rgba(53, 114, 198, 0.3) !important;
}
div.CodeMirror span.CodeMirror-nonmatchingbracket {
  color: #000000;
  background: rgba(191, 97, 106, 0.3) !important;
}
.cm-s-ipython .CodeMirror-matchingbracket {
  color: #000000;
  background: rgba(53, 114, 198, 0.3) !important;
}
.cm-s-ipython .CodeMirror-nonmatchingbracket {
  color: #000000;
  background: rgba(191, 97, 106, 0.3) !important;
}
/*Input and output cells formatting*/
div.prompt.input_prompt {
  font-family: 'Hack', monospace;
  border-right: 2px solid #428bca;
  font-weight: bold;
  font-size: 11pt;
  color: transparent;
  background-color: #ececed;
  width: 1em;
  padding-bottom: 0px;
  margin-bottom: 0px;
}
div.prompt.output_prompt {
  font-family: 'Hack', monospace;
  font-weight: bold;
  background-color: #ffffff;
  color: #ffffff;
  font-size: 9.5pt;
  width: 1em;
  margin-bottom: 8px;
  padding-top: 1em;
  padding-bottom: 1em;
}
div.out_prompt_overlay.prompt {
  font-family: 'Hack', monospace;
  font-weight: bold;
  font-size: 9.5pt;
  width: 1em;
  margin-bottom: 8px;
  background-color: #ffffff;
  border-radius: 4px;
  -webkit-border-radius: 4px;
  -moz-border-radius: 4px;
}
div.out_prompt_overlay.prompt:hover {
  font-family: 'Hack', monospace;
  font-weight: bold;
  font-size: 9.5pt;
  width: 1em;
  border-radius: 4px;
  margin-bottom: 8px;
  background-color: #ffffff;
  box-shadow: #e2e2e2 2px 2px 6px 4px inset;
  -webkit-border-radius: 4px;
  -moz-border-radius: 4px;
}
.prompt {
  min-width: 0px;
}
div.output_wrapper {
  background-color: #ffffff;
  margin-bottom: 0em;
  margin-top: 0em;
  border: 0px;
}
div.output_subarea.output_text.output_stream.output_stdout,
div.output_subarea.output_text {
  padding-top: 1em;
  margin-bottom: 8px;
  margin-top: 8px;
  margin-left: 8px;
  margin-right: 8px;
  background-color: #ffffff;
  color: #000000;
}
div.output_area pre {
  color: #000000;
  font-size: 10pt;
}
div.output_subarea {
  overflow-x: auto;
  padding: 1.0em;
  -webkit-box-flex: 1;
  -moz-box-flex: 1;
  box-flex: 1;
  flex: 1;
  max-width: calc(86%);
}
body {
  background-color: #f9f9f9;
}
a {
  color: #303030;
  font-family: 'Helvetica', sans-serif;
}
div#notebook,
div.CodeMirror,
div.output_area pre,
div.output_wrapper,
div.prompt,
div.CodeMirror pre {
  font-family: 'Hack', monospace;
  font-size: 11pt;
}
#notebook-container {
  padding: 0px;
  background-color: #f9f9f9;
  min-height: 0px;
  box-shadow: none;
}
.cell {
  padding: 0px;
}
.rendered_html pre,
.rendered_html code {
  color: #e54813;
  background-color: #f6f6f6;
  padding: 2px;
}

    </style>


<style type="text/css">
/* Overrides of notebook CSS for static HTML export */
body {
  overflow: visible;
  padding: 8px;
}

div#notebook {
  overflow: visible;
  border-top: none;
}

@media print {
  div.cell {
    display: block;
    page-break-inside: avoid;
  } 
  div.output_wrapper { 
    display: block;
    page-break-inside: avoid; 
  }
  div.output { 
    display: block;
    page-break-inside: avoid; 
  }
}
</style>

<!-- Custom stylesheet, it must be in the same directory as the html file -->
<link rel="stylesheet" href="custom.css">

<!-- Loading mathjax macro -->
<!-- Load mathjax -->
    <script src="https://cdn.mathjax.org/mathjax/latest/MathJax.js?config=TeX-AMS_HTML"></script>
    <!-- MathJax configuration -->
    <script type="text/x-mathjax-config">
    MathJax.Hub.Config({
        tex2jax: {
            inlineMath: [ ['$','$'], ["\\(","\\)"] ],
            displayMath: [ ['$$','$$'], ["\\[","\\]"] ],
            processEscapes: true,
            processEnvironments: true
        },
        // Center justify equations in code and markdown cells. Elsewhere
        // we use CSS to left justify single line equations in code cells.
        displayAlign: 'center',
        "HTML-CSS": {
            styles: {'.MathJax_Display': {"margin": 0}},
            linebreaks: { automatic: true }
        }
    });
    </script>
    <!-- End of mathjax configuration --></head>
<body>
  <div tabindex="-1" id="notebook" class="border-box-sizing">
    <div class="container" id="notebook-container">

<div class="cell border-box-sizing code_cell rendered">
<div class="input">
<div class="prompt input_prompt">In&nbsp;[1]:</div>
<div class="inner_cell">
    <div class="input_area">
<div class=" highlight hl-ipython2"><pre><span></span><span class="o">%</span><span class="k">matplotlib</span> inline
<span class="kn">from</span> <span class="nn">ggplot</span> <span class="kn">import</span> <span class="o">*</span>
<span class="kn">import</span> <span class="nn">pandas</span> <span class="kn">as</span> <span class="nn">pd</span>
</pre></div>

</div>
</div>
</div>

</div>
<div class="cell border-box-sizing text_cell rendered">
<div class="prompt input_prompt">
</div>
<div class="inner_cell">
<div class="text_cell_render border-box-sizing rendered_html">
<h3 id="facet_grid"><code>facet_grid</code><a class="anchor-link" href="#facet_grid">&#182;</a></h3><p>Parameters</p>
<ul>
<li><code>first facet</code></li>
<li><code>second facet</code> (optional)</li>
<li><code>scales</code> ("fixed" (default), "free", "free_x", "free_y")</li>
</ul>

</div>
</div>
</div>
<div class="cell border-box-sizing code_cell rendered">
<div class="input">
<div class="prompt input_prompt">In&nbsp;[2]:</div>
<div class="inner_cell">
    <div class="input_area">
<div class=" highlight hl-ipython2"><pre><span></span><span class="n">ggplot</span><span class="p">(</span><span class="n">diamonds</span><span class="p">,</span> <span class="n">aes</span><span class="p">(</span><span class="n">x</span><span class="o">=</span><span class="s1">&#39;price&#39;</span><span class="p">))</span> <span class="o">+</span> \
    <span class="n">geom_histogram</span><span class="p">()</span> <span class="o">+</span> \
    <span class="n">facet_grid</span><span class="p">(</span><span class="s2">&quot;cut&quot;</span><span class="p">)</span>
</pre></div>

</div>
</div>
</div>

<div class="output_wrapper">
<div class="output">


<div class="output_area"><div class="prompt"></div>


<div class="output_png output_subarea ">
<img src="data:image/png;base64,iVBORw0KGgoAAAANSUhEUgAAAsUAAAIACAYAAABq7hEfAAAABHNCSVQICAgIfAhkiAAAAAlwSFlz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=
"
>
</div>

</div>

<div class="output_area"><div class="prompt output_prompt">Out[2]:</div>


<div class="output_text output_subarea output_execute_result">
<pre>&lt;ggplot: (284492721)&gt;</pre>
</div>

</div>

</div>
</div>

</div>
<div class="cell border-box-sizing code_cell rendered">
<div class="input">
<div class="prompt input_prompt">In&nbsp;[3]:</div>
<div class="inner_cell">
    <div class="input_area">
<div class=" highlight hl-ipython2"><pre><span></span><span class="n">ggplot</span><span class="p">(</span><span class="n">diamonds</span><span class="p">,</span> <span class="n">aes</span><span class="p">(</span><span class="n">x</span><span class="o">=</span><span class="s1">&#39;price&#39;</span><span class="p">))</span> <span class="o">+</span> \
    <span class="n">geom_histogram</span><span class="p">()</span> <span class="o">+</span> \
    <span class="n">facet_grid</span><span class="p">(</span><span class="s2">&quot;cut&quot;</span><span class="p">,</span> <span class="s2">&quot;clarity&quot;</span><span class="p">)</span>
</pre></div>

</div>
</div>
</div>

<div class="output_wrapper">
<div class="output">


<div class="output_area"><div class="prompt"></div>


<div class="output_png output_subarea ">
<img src="data:image/png;base64,iVBORw0KGgoAAAANSUhEUgAAAqMAAAIICAYAAABaROdFAAAABHNCSVQICAgIfAhkiAAAAAlwSFlz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"
>
</div>

</div>

<div class="output_area"><div class="prompt output_prompt">Out[3]:</div>


<div class="output_text output_subarea output_execute_result">
<pre>&lt;ggplot: (285347789)&gt;</pre>
</div>

</div>

</div>
</div>

</div>
<div class="cell border-box-sizing code_cell rendered">
<div class="input">
<div class="prompt input_prompt">In&nbsp;[4]:</div>
<div class="inner_cell">
    <div class="input_area">
<div class=" highlight hl-ipython2"><pre><span></span><span class="n">chopsticks</span><span class="o">.</span><span class="n">head</span><span class="p">()</span>
</pre></div>

</div>
</div>
</div>

<div class="output_wrapper">
<div class="output">


<div class="output_area"><div class="prompt output_prompt">Out[4]:</div>

<div class="output_html rendered_html output_subarea output_execute_result">
<div>
<table border="1" class="dataframe">
  <thead>
    <tr style="text-align: right;">
      <th></th>
      <th>food_pinching_effeciency</th>
      <th>individual</th>
      <th>chopstick_length</th>
    </tr>
  </thead>
  <tbody>
    <tr>
      <th>0</th>
      <td>19.55</td>
      <td>1</td>
      <td>180</td>
    </tr>
    <tr>
      <th>1</th>
      <td>27.24</td>
      <td>2</td>
      <td>180</td>
    </tr>
    <tr>
      <th>2</th>
      <td>28.76</td>
      <td>3</td>
      <td>180</td>
    </tr>
    <tr>
      <th>3</th>
      <td>31.19</td>
      <td>4</td>
      <td>180</td>
    </tr>
    <tr>
      <th>4</th>
      <td>21.91</td>
      <td>5</td>
      <td>180</td>
    </tr>
  </tbody>
</table>
</div>
</div>

</div>

</div>
</div>

</div>
<div class="cell border-box-sizing code_cell rendered">
<div class="input">
<div class="prompt input_prompt">In&nbsp;[5]:</div>
<div class="inner_cell">
    <div class="input_area">
<div class=" highlight hl-ipython2"><pre><span></span><span class="n">ggplot</span><span class="p">(</span><span class="n">chopsticks</span><span class="p">,</span> <span class="n">aes</span><span class="p">(</span><span class="n">x</span><span class="o">=</span><span class="s1">&#39;chopstick_length&#39;</span><span class="p">,</span> <span class="n">y</span><span class="o">=</span><span class="s1">&#39;food_pinching_effeciency&#39;</span><span class="p">))</span> <span class="o">+</span> \
    <span class="n">geom_point</span><span class="p">()</span> <span class="o">+</span> \
    <span class="n">facet_grid</span><span class="p">(</span><span class="s2">&quot;individual&quot;</span><span class="p">)</span>
</pre></div>

</div>
</div>
</div>

<div class="output_wrapper">
<div class="output">


<div class="output_area"><div class="prompt"></div>


<div class="output_png output_subarea ">
<img src="data:image/png;base64,iVBORw0KGgoAAAANSUhEUgAAAtsAAAIACAYAAABTiaBEAAAABHNCSVQICAgIfAhkiAAAAAlwSFlz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"
>
</div>

</div>

<div class="output_area"><div class="prompt output_prompt">Out[5]:</div>


<div class="output_text output_subarea output_execute_result">
<pre>&lt;ggplot: (292115357)&gt;</pre>
</div>

</div>

</div>
</div>

</div>
<div class="cell border-box-sizing code_cell rendered">
<div class="input">
<div class="prompt input_prompt">In&nbsp;[6]:</div>
<div class="inner_cell">
    <div class="input_area">
<div class=" highlight hl-ipython2"><pre><span></span><span class="n">meat_lng</span> <span class="o">=</span> <span class="n">pd</span><span class="o">.</span><span class="n">melt</span><span class="p">(</span><span class="n">meat</span><span class="p">[[</span><span class="s1">&#39;date&#39;</span><span class="p">,</span> <span class="s1">&#39;beef&#39;</span><span class="p">,</span> <span class="s1">&#39;pork&#39;</span><span class="p">,</span> <span class="s1">&#39;veal&#39;</span><span class="p">]],</span> <span class="n">id_vars</span><span class="o">=</span><span class="p">[</span><span class="s1">&#39;date&#39;</span><span class="p">])</span>

<span class="n">ggplot</span><span class="p">(</span><span class="n">meat_lng</span><span class="p">,</span> <span class="n">aes</span><span class="p">(</span><span class="n">x</span><span class="o">=</span><span class="s1">&#39;value&#39;</span><span class="p">))</span> <span class="o">+</span> \
    <span class="n">geom_histogram</span><span class="p">()</span> <span class="o">+</span> \
    <span class="n">facet_grid</span><span class="p">(</span><span class="s2">&quot;variable&quot;</span><span class="p">)</span>
</pre></div>

</div>
</div>
</div>

<div class="output_wrapper">
<div class="output">


<div class="output_area"><div class="prompt"></div>


<div class="output_png output_subarea ">
<img src="data:image/png;base64,iVBORw0KGgoAAAANSUhEUgAAArkAAAIACAYAAACGm3QJAAAABHNCSVQICAgIfAhkiAAAAAlwSFlz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"
>
</div>

</div>

<div class="output_area"><div class="prompt output_prompt">Out[6]:</div>


<div class="output_text output_subarea output_execute_result">
<pre>&lt;ggplot: (299321897)&gt;</pre>
</div>

</div>

</div>
</div>

</div>
<div class="cell border-box-sizing code_cell rendered">
<div class="input">
<div class="prompt input_prompt">In&nbsp;[7]:</div>
<div class="inner_cell">
    <div class="input_area">
<div class=" highlight hl-ipython2"><pre><span></span><span class="n">ggplot</span><span class="p">(</span><span class="n">meat_lng</span><span class="p">,</span> <span class="n">aes</span><span class="p">(</span><span class="n">x</span><span class="o">=</span><span class="s1">&#39;value&#39;</span><span class="p">))</span> <span class="o">+</span> \
    <span class="n">geom_histogram</span><span class="p">()</span> <span class="o">+</span> \
    <span class="n">facet_grid</span><span class="p">(</span><span class="bp">None</span><span class="p">,</span> <span class="s2">&quot;variable&quot;</span><span class="p">)</span>
</pre></div>

</div>
</div>
</div>

<div class="output_wrapper">
<div class="output">


<div class="output_area"><div class="prompt"></div>


<div class="output_png output_subarea ">
<img src="data:image/png;base64,iVBORw0KGgoAAAANSUhEUgAAAqMAAAIICAYAAABaROdFAAAABHNCSVQICAgIfAhkiAAAAAlwSFlz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==
"
>
</div>

</div>

<div class="output_area"><div class="prompt output_prompt">Out[7]:</div>


<div class="output_text output_subarea output_execute_result">
<pre>&lt;ggplot: (298221653)&gt;</pre>
</div>

</div>

</div>
</div>

</div>
<div class="cell border-box-sizing code_cell rendered">
<div class="input">
<div class="prompt input_prompt">In&nbsp;[8]:</div>
<div class="inner_cell">
    <div class="input_area">
<div class=" highlight hl-ipython2"><pre><span></span><span class="n">ggplot</span><span class="p">(</span><span class="n">meat_lng</span><span class="p">,</span> <span class="n">aes</span><span class="p">(</span><span class="n">x</span><span class="o">=</span><span class="s1">&#39;value&#39;</span><span class="p">))</span> <span class="o">+</span> \
    <span class="n">geom_density</span><span class="p">()</span> <span class="o">+</span> \
    <span class="n">facet_grid</span><span class="p">(</span><span class="bp">None</span><span class="p">,</span> <span class="s2">&quot;variable&quot;</span><span class="p">)</span>
</pre></div>

</div>
</div>
</div>

<div class="output_wrapper">
<div class="output">


<div class="output_area"><div class="prompt"></div>


<div class="output_png output_subarea ">
<img src="data:image/png;base64,iVBORw0KGgoAAAANSUhEUgAAAqwAAAIICAYAAACrT7zIAAAABHNCSVQICAgIfAhkiAAAAAlwSFlz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"
>
</div>

</div>

<div class="output_area"><div class="prompt output_prompt">Out[8]:</div>


<div class="output_text output_subarea output_execute_result">
<pre>&lt;ggplot: (299999177)&gt;</pre>
</div>

</div>

</div>
</div>

</div>
<div class="cell border-box-sizing code_cell rendered">
<div class="input">
<div class="prompt input_prompt">In&nbsp;[9]:</div>
<div class="inner_cell">
    <div class="input_area">
<div class=" highlight hl-ipython2"><pre><span></span><span class="n">ggplot</span><span class="p">(</span><span class="n">meat_lng</span><span class="p">,</span> <span class="n">aes</span><span class="p">(</span><span class="n">x</span><span class="o">=</span><span class="s1">&#39;value&#39;</span><span class="p">))</span> <span class="o">+</span> \
    <span class="n">geom_density</span><span class="p">()</span> <span class="o">+</span> \
    <span class="n">facet_grid</span><span class="p">(</span><span class="s2">&quot;variable&quot;</span><span class="p">)</span>
</pre></div>

</div>
</div>
</div>

<div class="output_wrapper">
<div class="output">


<div class="output_area"><div class="prompt"></div>


<div class="output_png output_subarea ">
<img src="data:image/png;base64,iVBORw0KGgoAAAANSUhEUgAAAsIAAAIACAYAAACIMgpmAAAABHNCSVQICAgIfAhkiAAAAAlwSFlz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"
>
</div>

</div>

<div class="output_area"><div class="prompt output_prompt">Out[9]:</div>


<div class="output_text output_subarea output_execute_result">
<pre>&lt;ggplot: (300363609)&gt;</pre>
</div>

</div>

</div>
</div>

</div>
<div class="cell border-box-sizing code_cell rendered">
<div class="input">
<div class="prompt input_prompt">In&nbsp;[&nbsp;]:</div>
<div class="inner_cell">
    <div class="input_area">
<div class=" highlight hl-ipython2"><pre><span></span> 
</pre></div>

</div>
</div>
</div>

</div>
    </div>
  </div>
</body>
</html>
