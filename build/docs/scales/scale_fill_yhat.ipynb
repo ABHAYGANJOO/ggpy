<!DOCTYPE html>
<html>
<head><meta charset="utf-8" />
<title>scale_fill_yhat</title>

<script src="https://cdnjs.cloudflare.com/ajax/libs/require.js/2.1.10/require.min.js"></script>
<script src="https://cdnjs.cloudflare.com/ajax/libs/jquery/2.0.3/jquery.min.js"></script>

<style type="text/css">
    /*!
*
* Twitter Bootstrap
*
*/
/*!
 * Bootstrap v3.3.6 (http://getbootstrap.com)
 * Copyright 2011-2015 Twitter, Inc.
 * Licensed under MIT (https://github.com/twbs/bootstrap/blob/master/LICENSE)
 */
/*! normalize.css v3.0.3 | MIT License | github.com/necolas/normalize.css */
html {
  font-family: sans-serif;
  -ms-text-size-adjust: 100%;
  -webkit-text-size-adjust: 100%;
}
body {
  margin: 0;
}
article,
aside,
details,
figcaption,
figure,
footer,
header,
hgroup,
main,
menu,
nav,
section,
summary {
  display: block;
}
audio,
canvas,
progress,
video {
  display: inline-block;
  vertical-align: baseline;
}
audio:not([controls]) {
  display: none;
  height: 0;
}
[hidden],
template {
  display: none;
}
a {
  background-color: transparent;
}
a:active,
a:hover {
  outline: 0;
}
abbr[title] {
  border-bottom: 1px dotted;
}
b,
strong {
  font-weight: bold;
}
dfn {
  font-style: italic;
}
h1 {
  font-size: 2em;
  margin: 0.67em 0;
}
mark {
  background: #ff0;
  color: #000;
}
small {
  font-size: 80%;
}
sub,
sup {
  font-size: 75%;
  line-height: 0;
  position: relative;
  vertical-align: baseline;
}
sup {
  top: -0.5em;
}
sub {
  bottom: -0.25em;
}
img {
  border: 0;
}
svg:not(:root) {
  overflow: hidden;
}
figure {
  margin: 1em 40px;
}
hr {
  box-sizing: content-box;
  height: 0;
}
pre {
  overflow: auto;
}
code,
kbd,
pre,
samp {
  font-family: monospace, monospace;
  font-size: 1em;
}
button,
input,
optgroup,
select,
textarea {
  color: inherit;
  font: inherit;
  margin: 0;
}
button {
  overflow: visible;
}
button,
select {
  text-transform: none;
}
button,
html input[type="button"],
input[type="reset"],
input[type="submit"] {
  -webkit-appearance: button;
  cursor: pointer;
}
button[disabled],
html input[disabled] {
  cursor: default;
}
button::-moz-focus-inner,
input::-moz-focus-inner {
  border: 0;
  padding: 0;
}
input {
  line-height: normal;
}
input[type="checkbox"],
input[type="radio"] {
  box-sizing: border-box;
  padding: 0;
}
input[type="number"]::-webkit-inner-spin-button,
input[type="number"]::-webkit-outer-spin-button {
  height: auto;
}
input[type="search"] {
  -webkit-appearance: textfield;
  box-sizing: content-box;
}
input[type="search"]::-webkit-search-cancel-button,
input[type="search"]::-webkit-search-decoration {
  -webkit-appearance: none;
}
fieldset {
  border: 1px solid #c0c0c0;
  margin: 0 2px;
  padding: 0.35em 0.625em 0.75em;
}
legend {
  border: 0;
  padding: 0;
}
textarea {
  overflow: auto;
}
optgroup {
  font-weight: bold;
}
table {
  border-collapse: collapse;
  border-spacing: 0;
}
td,
th {
  padding: 0;
}
/*! Source: https://github.com/h5bp/html5-boilerplate/blob/master/src/css/main.css */
@media print {
  *,
  *:before,
  *:after {
    background: transparent !important;
    color: #000 !important;
    box-shadow: none !important;
    text-shadow: none !important;
  }
  a,
  a:visited {
    text-decoration: underline;
  }
  a[href]:after {
    content: " (" attr(href) ")";
  }
  abbr[title]:after {
    content: " (" attr(title) ")";
  }
  a[href^="#"]:after,
  a[href^="javascript:"]:after {
    content: "";
  }
  pre,
  blockquote {
    border: 1px solid #999;
    page-break-inside: avoid;
  }
  thead {
    display: table-header-group;
  }
  tr,
  img {
    page-break-inside: avoid;
  }
  img {
    max-width: 100% !important;
  }
  p,
  h2,
  h3 {
    orphans: 3;
    widows: 3;
  }
  h2,
  h3 {
    page-break-after: avoid;
  }
  .navbar {
    display: none;
  }
  .btn > .caret,
  .dropup > .btn > .caret {
    border-top-color: #000 !important;
  }
  .label {
    border: 1px solid #000;
  }
  .table {
    border-collapse: collapse !important;
  }
  .table td,
  .table th {
    background-color: #fff !important;
  }
  .table-bordered th,
  .table-bordered td {
    border: 1px solid #ddd !important;
  }
}
@font-face {
  font-family: 'Glyphicons Halflings';
  src: url('../components/bootstrap/fonts/glyphicons-halflings-regular.eot');
  src: url('../components/bootstrap/fonts/glyphicons-halflings-regular.eot?#iefix') format('embedded-opentype'), url('../components/bootstrap/fonts/glyphicons-halflings-regular.woff2') format('woff2'), url('../components/bootstrap/fonts/glyphicons-halflings-regular.woff') format('woff'), url('../components/bootstrap/fonts/glyphicons-halflings-regular.ttf') format('truetype'), url('../components/bootstrap/fonts/glyphicons-halflings-regular.svg#glyphicons_halflingsregular') format('svg');
}
.glyphicon {
  position: relative;
  top: 1px;
  display: inline-block;
  font-family: 'Glyphicons Halflings';
  font-style: normal;
  font-weight: normal;
  line-height: 1;
  -webkit-font-smoothing: antialiased;
  -moz-osx-font-smoothing: grayscale;
}
.glyphicon-asterisk:before {
  content: "\002a";
}
.glyphicon-plus:before {
  content: "\002b";
}
.glyphicon-euro:before,
.glyphicon-eur:before {
  content: "\20ac";
}
.glyphicon-minus:before {
  content: "\2212";
}
.glyphicon-cloud:before {
  content: "\2601";
}
.glyphicon-envelope:before {
  content: "\2709";
}
.glyphicon-pencil:before {
  content: "\270f";
}
.glyphicon-glass:before {
  content: "\e001";
}
.glyphicon-music:before {
  content: "\e002";
}
.glyphicon-search:before {
  content: "\e003";
}
.glyphicon-heart:before {
  content: "\e005";
}
.glyphicon-star:before {
  content: "\e006";
}
.glyphicon-star-empty:before {
  content: "\e007";
}
.glyphicon-user:before {
  content: "\e008";
}
.glyphicon-film:before {
  content: "\e009";
}
.glyphicon-th-large:before {
  content: "\e010";
}
.glyphicon-th:before {
  content: "\e011";
}
.glyphicon-th-list:before {
  content: "\e012";
}
.glyphicon-ok:before {
  content: "\e013";
}
.glyphicon-remove:before {
  content: "\e014";
}
.glyphicon-zoom-in:before {
  content: "\e015";
}
.glyphicon-zoom-out:before {
  content: "\e016";
}
.glyphicon-off:before {
  content: "\e017";
}
.glyphicon-signal:before {
  content: "\e018";
}
.glyphicon-cog:before {
  content: "\e019";
}
.glyphicon-trash:before {
  content: "\e020";
}
.glyphicon-home:before {
  content: "\e021";
}
.glyphicon-file:before {
  content: "\e022";
}
.glyphicon-time:before {
  content: "\e023";
}
.glyphicon-road:before {
  content: "\e024";
}
.glyphicon-download-alt:before {
  content: "\e025";
}
.glyphicon-download:before {
  content: "\e026";
}
.glyphicon-upload:before {
  content: "\e027";
}
.glyphicon-inbox:before {
  content: "\e028";
}
.glyphicon-play-circle:before {
  content: "\e029";
}
.glyphicon-repeat:before {
  content: "\e030";
}
.glyphicon-refresh:before {
  content: "\e031";
}
.glyphicon-list-alt:before {
  content: "\e032";
}
.glyphicon-lock:before {
  content: "\e033";
}
.glyphicon-flag:before {
  content: "\e034";
}
.glyphicon-headphones:before {
  content: "\e035";
}
.glyphicon-volume-off:before {
  content: "\e036";
}
.glyphicon-volume-down:before {
  content: "\e037";
}
.glyphicon-volume-up:before {
  content: "\e038";
}
.glyphicon-qrcode:before {
  content: "\e039";
}
.glyphicon-barcode:before {
  content: "\e040";
}
.glyphicon-tag:before {
  content: "\e041";
}
.glyphicon-tags:before {
  content: "\e042";
}
.glyphicon-book:before {
  content: "\e043";
}
.glyphicon-bookmark:before {
  content: "\e044";
}
.glyphicon-print:before {
  content: "\e045";
}
.glyphicon-camera:before {
  content: "\e046";
}
.glyphicon-font:before {
  content: "\e047";
}
.glyphicon-bold:before {
  content: "\e048";
}
.glyphicon-italic:before {
  content: "\e049";
}
.glyphicon-text-height:before {
  content: "\e050";
}
.glyphicon-text-width:before {
  content: "\e051";
}
.glyphicon-align-left:before {
  content: "\e052";
}
.glyphicon-align-center:before {
  content: "\e053";
}
.glyphicon-align-right:before {
  content: "\e054";
}
.glyphicon-align-justify:before {
  content: "\e055";
}
.glyphicon-list:before {
  content: "\e056";
}
.glyphicon-indent-left:before {
  content: "\e057";
}
.glyphicon-indent-right:before {
  content: "\e058";
}
.glyphicon-facetime-video:before {
  content: "\e059";
}
.glyphicon-picture:before {
  content: "\e060";
}
.glyphicon-map-marker:before {
  content: "\e062";
}
.glyphicon-adjust:before {
  content: "\e063";
}
.glyphicon-tint:before {
  content: "\e064";
}
.glyphicon-edit:before {
  content: "\e065";
}
.glyphicon-share:before {
  content: "\e066";
}
.glyphicon-check:before {
  content: "\e067";
}
.glyphicon-move:before {
  content: "\e068";
}
.glyphicon-step-backward:before {
  content: "\e069";
}
.glyphicon-fast-backward:before {
  content: "\e070";
}
.glyphicon-backward:before {
  content: "\e071";
}
.glyphicon-play:before {
  content: "\e072";
}
.glyphicon-pause:before {
  content: "\e073";
}
.glyphicon-stop:before {
  content: "\e074";
}
.glyphicon-forward:before {
  content: "\e075";
}
.glyphicon-fast-forward:before {
  content: "\e076";
}
.glyphicon-step-forward:before {
  content: "\e077";
}
.glyphicon-eject:before {
  content: "\e078";
}
.glyphicon-chevron-left:before {
  content: "\e079";
}
.glyphicon-chevron-right:before {
  content: "\e080";
}
.glyphicon-plus-sign:before {
  content: "\e081";
}
.glyphicon-minus-sign:before {
  content: "\e082";
}
.glyphicon-remove-sign:before {
  content: "\e083";
}
.glyphicon-ok-sign:before {
  content: "\e084";
}
.glyphicon-question-sign:before {
  content: "\e085";
}
.glyphicon-info-sign:before {
  content: "\e086";
}
.glyphicon-screenshot:before {
  content: "\e087";
}
.glyphicon-remove-circle:before {
  content: "\e088";
}
.glyphicon-ok-circle:before {
  content: "\e089";
}
.glyphicon-ban-circle:before {
  content: "\e090";
}
.glyphicon-arrow-left:before {
  content: "\e091";
}
.glyphicon-arrow-right:before {
  content: "\e092";
}
.glyphicon-arrow-up:before {
  content: "\e093";
}
.glyphicon-arrow-down:before {
  content: "\e094";
}
.glyphicon-share-alt:before {
  content: "\e095";
}
.glyphicon-resize-full:before {
  content: "\e096";
}
.glyphicon-resize-small:before {
  content: "\e097";
}
.glyphicon-exclamation-sign:before {
  content: "\e101";
}
.glyphicon-gift:before {
  content: "\e102";
}
.glyphicon-leaf:before {
  content: "\e103";
}
.glyphicon-fire:before {
  content: "\e104";
}
.glyphicon-eye-open:before {
  content: "\e105";
}
.glyphicon-eye-close:before {
  content: "\e106";
}
.glyphicon-warning-sign:before {
  content: "\e107";
}
.glyphicon-plane:before {
  content: "\e108";
}
.glyphicon-calendar:before {
  content: "\e109";
}
.glyphicon-random:before {
  content: "\e110";
}
.glyphicon-comment:before {
  content: "\e111";
}
.glyphicon-magnet:before {
  content: "\e112";
}
.glyphicon-chevron-up:before {
  content: "\e113";
}
.glyphicon-chevron-down:before {
  content: "\e114";
}
.glyphicon-retweet:before {
  content: "\e115";
}
.glyphicon-shopping-cart:before {
  content: "\e116";
}
.glyphicon-folder-close:before {
  content: "\e117";
}
.glyphicon-folder-open:before {
  content: "\e118";
}
.glyphicon-resize-vertical:before {
  content: "\e119";
}
.glyphicon-resize-horizontal:before {
  content: "\e120";
}
.glyphicon-hdd:before {
  content: "\e121";
}
.glyphicon-bullhorn:before {
  content: "\e122";
}
.glyphicon-bell:before {
  content: "\e123";
}
.glyphicon-certificate:before {
  content: "\e124";
}
.glyphicon-thumbs-up:before {
  content: "\e125";
}
.glyphicon-thumbs-down:before {
  content: "\e126";
}
.glyphicon-hand-right:before {
  content: "\e127";
}
.glyphicon-hand-left:before {
  content: "\e128";
}
.glyphicon-hand-up:before {
  content: "\e129";
}
.glyphicon-hand-down:before {
  content: "\e130";
}
.glyphicon-circle-arrow-right:before {
  content: "\e131";
}
.glyphicon-circle-arrow-left:before {
  content: "\e132";
}
.glyphicon-circle-arrow-up:before {
  content: "\e133";
}
.glyphicon-circle-arrow-down:before {
  content: "\e134";
}
.glyphicon-globe:before {
  content: "\e135";
}
.glyphicon-wrench:before {
  content: "\e136";
}
.glyphicon-tasks:before {
  content: "\e137";
}
.glyphicon-filter:before {
  content: "\e138";
}
.glyphicon-briefcase:before {
  content: "\e139";
}
.glyphicon-fullscreen:before {
  content: "\e140";
}
.glyphicon-dashboard:before {
  content: "\e141";
}
.glyphicon-paperclip:before {
  content: "\e142";
}
.glyphicon-heart-empty:before {
  content: "\e143";
}
.glyphicon-link:before {
  content: "\e144";
}
.glyphicon-phone:before {
  content: "\e145";
}
.glyphicon-pushpin:before {
  content: "\e146";
}
.glyphicon-usd:before {
  content: "\e148";
}
.glyphicon-gbp:before {
  content: "\e149";
}
.glyphicon-sort:before {
  content: "\e150";
}
.glyphicon-sort-by-alphabet:before {
  content: "\e151";
}
.glyphicon-sort-by-alphabet-alt:before {
  content: "\e152";
}
.glyphicon-sort-by-order:before {
  content: "\e153";
}
.glyphicon-sort-by-order-alt:before {
  content: "\e154";
}
.glyphicon-sort-by-attributes:before {
  content: "\e155";
}
.glyphicon-sort-by-attributes-alt:before {
  content: "\e156";
}
.glyphicon-unchecked:before {
  content: "\e157";
}
.glyphicon-expand:before {
  content: "\e158";
}
.glyphicon-collapse-down:before {
  content: "\e159";
}
.glyphicon-collapse-up:before {
  content: "\e160";
}
.glyphicon-log-in:before {
  content: "\e161";
}
.glyphicon-flash:before {
  content: "\e162";
}
.glyphicon-log-out:before {
  content: "\e163";
}
.glyphicon-new-window:before {
  content: "\e164";
}
.glyphicon-record:before {
  content: "\e165";
}
.glyphicon-save:before {
  content: "\e166";
}
.glyphicon-open:before {
  content: "\e167";
}
.glyphicon-saved:before {
  content: "\e168";
}
.glyphicon-import:before {
  content: "\e169";
}
.glyphicon-export:before {
  content: "\e170";
}
.glyphicon-send:before {
  content: "\e171";
}
.glyphicon-floppy-disk:before {
  content: "\e172";
}
.glyphicon-floppy-saved:before {
  content: "\e173";
}
.glyphicon-floppy-remove:before {
  content: "\e174";
}
.glyphicon-floppy-save:before {
  content: "\e175";
}
.glyphicon-floppy-open:before {
  content: "\e176";
}
.glyphicon-credit-card:before {
  content: "\e177";
}
.glyphicon-transfer:before {
  content: "\e178";
}
.glyphicon-cutlery:before {
  content: "\e179";
}
.glyphicon-header:before {
  content: "\e180";
}
.glyphicon-compressed:before {
  content: "\e181";
}
.glyphicon-earphone:before {
  content: "\e182";
}
.glyphicon-phone-alt:before {
  content: "\e183";
}
.glyphicon-tower:before {
  content: "\e184";
}
.glyphicon-stats:before {
  content: "\e185";
}
.glyphicon-sd-video:before {
  content: "\e186";
}
.glyphicon-hd-video:before {
  content: "\e187";
}
.glyphicon-subtitles:before {
  content: "\e188";
}
.glyphicon-sound-stereo:before {
  content: "\e189";
}
.glyphicon-sound-dolby:before {
  content: "\e190";
}
.glyphicon-sound-5-1:before {
  content: "\e191";
}
.glyphicon-sound-6-1:before {
  content: "\e192";
}
.glyphicon-sound-7-1:before {
  content: "\e193";
}
.glyphicon-copyright-mark:before {
  content: "\e194";
}
.glyphicon-registration-mark:before {
  content: "\e195";
}
.glyphicon-cloud-download:before {
  content: "\e197";
}
.glyphicon-cloud-upload:before {
  content: "\e198";
}
.glyphicon-tree-conifer:before {
  content: "\e199";
}
.glyphicon-tree-deciduous:before {
  content: "\e200";
}
.glyphicon-cd:before {
  content: "\e201";
}
.glyphicon-save-file:before {
  content: "\e202";
}
.glyphicon-open-file:before {
  content: "\e203";
}
.glyphicon-level-up:before {
  content: "\e204";
}
.glyphicon-copy:before {
  content: "\e205";
}
.glyphicon-paste:before {
  content: "\e206";
}
.glyphicon-alert:before {
  content: "\e209";
}
.glyphicon-equalizer:before {
  content: "\e210";
}
.glyphicon-king:before {
  content: "\e211";
}
.glyphicon-queen:before {
  content: "\e212";
}
.glyphicon-pawn:before {
  content: "\e213";
}
.glyphicon-bishop:before {
  content: "\e214";
}
.glyphicon-knight:before {
  content: "\e215";
}
.glyphicon-baby-formula:before {
  content: "\e216";
}
.glyphicon-tent:before {
  content: "\26fa";
}
.glyphicon-blackboard:before {
  content: "\e218";
}
.glyphicon-bed:before {
  content: "\e219";
}
.glyphicon-apple:before {
  content: "\f8ff";
}
.glyphicon-erase:before {
  content: "\e221";
}
.glyphicon-hourglass:before {
  content: "\231b";
}
.glyphicon-lamp:before {
  content: "\e223";
}
.glyphicon-duplicate:before {
  content: "\e224";
}
.glyphicon-piggy-bank:before {
  content: "\e225";
}
.glyphicon-scissors:before {
  content: "\e226";
}
.glyphicon-bitcoin:before {
  content: "\e227";
}
.glyphicon-btc:before {
  content: "\e227";
}
.glyphicon-xbt:before {
  content: "\e227";
}
.glyphicon-yen:before {
  content: "\00a5";
}
.glyphicon-jpy:before {
  content: "\00a5";
}
.glyphicon-ruble:before {
  content: "\20bd";
}
.glyphicon-rub:before {
  content: "\20bd";
}
.glyphicon-scale:before {
  content: "\e230";
}
.glyphicon-ice-lolly:before {
  content: "\e231";
}
.glyphicon-ice-lolly-tasted:before {
  content: "\e232";
}
.glyphicon-education:before {
  content: "\e233";
}
.glyphicon-option-horizontal:before {
  content: "\e234";
}
.glyphicon-option-vertical:before {
  content: "\e235";
}
.glyphicon-menu-hamburger:before {
  content: "\e236";
}
.glyphicon-modal-window:before {
  content: "\e237";
}
.glyphicon-oil:before {
  content: "\e238";
}
.glyphicon-grain:before {
  content: "\e239";
}
.glyphicon-sunglasses:before {
  content: "\e240";
}
.glyphicon-text-size:before {
  content: "\e241";
}
.glyphicon-text-color:before {
  content: "\e242";
}
.glyphicon-text-background:before {
  content: "\e243";
}
.glyphicon-object-align-top:before {
  content: "\e244";
}
.glyphicon-object-align-bottom:before {
  content: "\e245";
}
.glyphicon-object-align-horizontal:before {
  content: "\e246";
}
.glyphicon-object-align-left:before {
  content: "\e247";
}
.glyphicon-object-align-vertical:before {
  content: "\e248";
}
.glyphicon-object-align-right:before {
  content: "\e249";
}
.glyphicon-triangle-right:before {
  content: "\e250";
}
.glyphicon-triangle-left:before {
  content: "\e251";
}
.glyphicon-triangle-bottom:before {
  content: "\e252";
}
.glyphicon-triangle-top:before {
  content: "\e253";
}
.glyphicon-console:before {
  content: "\e254";
}
.glyphicon-superscript:before {
  content: "\e255";
}
.glyphicon-subscript:before {
  content: "\e256";
}
.glyphicon-menu-left:before {
  content: "\e257";
}
.glyphicon-menu-right:before {
  content: "\e258";
}
.glyphicon-menu-down:before {
  content: "\e259";
}
.glyphicon-menu-up:before {
  content: "\e260";
}
* {
  -webkit-box-sizing: border-box;
  -moz-box-sizing: border-box;
  box-sizing: border-box;
}
*:before,
*:after {
  -webkit-box-sizing: border-box;
  -moz-box-sizing: border-box;
  box-sizing: border-box;
}
html {
  font-size: 10px;
  -webkit-tap-highlight-color: rgba(0, 0, 0, 0);
}
body {
  font-family: "Helvetica Neue", Helvetica, Arial, sans-serif;
  font-size: 13px;
  line-height: 1.42857143;
  color: #000;
  background-color: #fff;
}
input,
button,
select,
textarea {
  font-family: inherit;
  font-size: inherit;
  line-height: inherit;
}
a {
  color: #337ab7;
  text-decoration: none;
}
a:hover,
a:focus {
  color: #23527c;
  text-decoration: underline;
}
a:focus {
  outline: thin dotted;
  outline: 5px auto -webkit-focus-ring-color;
  outline-offset: -2px;
}
figure {
  margin: 0;
}
img {
  vertical-align: middle;
}
.img-responsive,
.thumbnail > img,
.thumbnail a > img,
.carousel-inner > .item > img,
.carousel-inner > .item > a > img {
  display: block;
  max-width: 100%;
  height: auto;
}
.img-rounded {
  border-radius: 3px;
}
.img-thumbnail {
  padding: 4px;
  line-height: 1.42857143;
  background-color: #fff;
  border: 1px solid #ddd;
  border-radius: 2px;
  -webkit-transition: all 0.2s ease-in-out;
  -o-transition: all 0.2s ease-in-out;
  transition: all 0.2s ease-in-out;
  display: inline-block;
  max-width: 100%;
  height: auto;
}
.img-circle {
  border-radius: 50%;
}
hr {
  margin-top: 18px;
  margin-bottom: 18px;
  border: 0;
  border-top: 1px solid #eeeeee;
}
.sr-only {
  position: absolute;
  width: 1px;
  height: 1px;
  margin: -1px;
  padding: 0;
  overflow: hidden;
  clip: rect(0, 0, 0, 0);
  border: 0;
}
.sr-only-focusable:active,
.sr-only-focusable:focus {
  position: static;
  width: auto;
  height: auto;
  margin: 0;
  overflow: visible;
  clip: auto;
}
[role="button"] {
  cursor: pointer;
}
h1,
h2,
h3,
h4,
h5,
h6,
.h1,
.h2,
.h3,
.h4,
.h5,
.h6 {
  font-family: inherit;
  font-weight: 500;
  line-height: 1.1;
  color: inherit;
}
h1 small,
h2 small,
h3 small,
h4 small,
h5 small,
h6 small,
.h1 small,
.h2 small,
.h3 small,
.h4 small,
.h5 small,
.h6 small,
h1 .small,
h2 .small,
h3 .small,
h4 .small,
h5 .small,
h6 .small,
.h1 .small,
.h2 .small,
.h3 .small,
.h4 .small,
.h5 .small,
.h6 .small {
  font-weight: normal;
  line-height: 1;
  color: #777777;
}
h1,
.h1,
h2,
.h2,
h3,
.h3 {
  margin-top: 18px;
  margin-bottom: 9px;
}
h1 small,
.h1 small,
h2 small,
.h2 small,
h3 small,
.h3 small,
h1 .small,
.h1 .small,
h2 .small,
.h2 .small,
h3 .small,
.h3 .small {
  font-size: 65%;
}
h4,
.h4,
h5,
.h5,
h6,
.h6 {
  margin-top: 9px;
  margin-bottom: 9px;
}
h4 small,
.h4 small,
h5 small,
.h5 small,
h6 small,
.h6 small,
h4 .small,
.h4 .small,
h5 .small,
.h5 .small,
h6 .small,
.h6 .small {
  font-size: 75%;
}
h1,
.h1 {
  font-size: 33px;
}
h2,
.h2 {
  font-size: 27px;
}
h3,
.h3 {
  font-size: 23px;
}
h4,
.h4 {
  font-size: 17px;
}
h5,
.h5 {
  font-size: 13px;
}
h6,
.h6 {
  font-size: 12px;
}
p {
  margin: 0 0 9px;
}
.lead {
  margin-bottom: 18px;
  font-size: 14px;
  font-weight: 300;
  line-height: 1.4;
}
@media (min-width: 768px) {
  .lead {
    font-size: 19.5px;
  }
}
small,
.small {
  font-size: 92%;
}
mark,
.mark {
  background-color: #fcf8e3;
  padding: .2em;
}
.text-left {
  text-align: left;
}
.text-right {
  text-align: right;
}
.text-center {
  text-align: center;
}
.text-justify {
  text-align: justify;
}
.text-nowrap {
  white-space: nowrap;
}
.text-lowercase {
  text-transform: lowercase;
}
.text-uppercase {
  text-transform: uppercase;
}
.text-capitalize {
  text-transform: capitalize;
}
.text-muted {
  color: #777777;
}
.text-primary {
  color: #337ab7;
}
a.text-primary:hover,
a.text-primary:focus {
  color: #286090;
}
.text-success {
  color: #3c763d;
}
a.text-success:hover,
a.text-success:focus {
  color: #2b542c;
}
.text-info {
  color: #31708f;
}
a.text-info:hover,
a.text-info:focus {
  color: #245269;
}
.text-warning {
  color: #8a6d3b;
}
a.text-warning:hover,
a.text-warning:focus {
  color: #66512c;
}
.text-danger {
  color: #a94442;
}
a.text-danger:hover,
a.text-danger:focus {
  color: #843534;
}
.bg-primary {
  color: #fff;
  background-color: #337ab7;
}
a.bg-primary:hover,
a.bg-primary:focus {
  background-color: #286090;
}
.bg-success {
  background-color: #dff0d8;
}
a.bg-success:hover,
a.bg-success:focus {
  background-color: #c1e2b3;
}
.bg-info {
  background-color: #d9edf7;
}
a.bg-info:hover,
a.bg-info:focus {
  background-color: #afd9ee;
}
.bg-warning {
  background-color: #fcf8e3;
}
a.bg-warning:hover,
a.bg-warning:focus {
  background-color: #f7ecb5;
}
.bg-danger {
  background-color: #f2dede;
}
a.bg-danger:hover,
a.bg-danger:focus {
  background-color: #e4b9b9;
}
.page-header {
  padding-bottom: 8px;
  margin: 36px 0 18px;
  border-bottom: 1px solid #eeeeee;
}
ul,
ol {
  margin-top: 0;
  margin-bottom: 9px;
}
ul ul,
ol ul,
ul ol,
ol ol {
  margin-bottom: 0;
}
.list-unstyled {
  padding-left: 0;
  list-style: none;
}
.list-inline {
  padding-left: 0;
  list-style: none;
  margin-left: -5px;
}
.list-inline > li {
  display: inline-block;
  padding-left: 5px;
  padding-right: 5px;
}
dl {
  margin-top: 0;
  margin-bottom: 18px;
}
dt,
dd {
  line-height: 1.42857143;
}
dt {
  font-weight: bold;
}
dd {
  margin-left: 0;
}
@media (min-width: 541px) {
  .dl-horizontal dt {
    float: left;
    width: 160px;
    clear: left;
    text-align: right;
    overflow: hidden;
    text-overflow: ellipsis;
    white-space: nowrap;
  }
  .dl-horizontal dd {
    margin-left: 180px;
  }
}
abbr[title],
abbr[data-original-title] {
  cursor: help;
  border-bottom: 1px dotted #777777;
}
.initialism {
  font-size: 90%;
  text-transform: uppercase;
}
blockquote {
  padding: 9px 18px;
  margin: 0 0 18px;
  font-size: inherit;
  border-left: 5px solid #eeeeee;
}
blockquote p:last-child,
blockquote ul:last-child,
blockquote ol:last-child {
  margin-bottom: 0;
}
blockquote footer,
blockquote small,
blockquote .small {
  display: block;
  font-size: 80%;
  line-height: 1.42857143;
  color: #777777;
}
blockquote footer:before,
blockquote small:before,
blockquote .small:before {
  content: '\2014 \00A0';
}
.blockquote-reverse,
blockquote.pull-right {
  padding-right: 15px;
  padding-left: 0;
  border-right: 5px solid #eeeeee;
  border-left: 0;
  text-align: right;
}
.blockquote-reverse footer:before,
blockquote.pull-right footer:before,
.blockquote-reverse small:before,
blockquote.pull-right small:before,
.blockquote-reverse .small:before,
blockquote.pull-right .small:before {
  content: '';
}
.blockquote-reverse footer:after,
blockquote.pull-right footer:after,
.blockquote-reverse small:after,
blockquote.pull-right small:after,
.blockquote-reverse .small:after,
blockquote.pull-right .small:after {
  content: '\00A0 \2014';
}
address {
  margin-bottom: 18px;
  font-style: normal;
  line-height: 1.42857143;
}
code,
kbd,
pre,
samp {
  font-family: monospace;
}
code {
  padding: 2px 4px;
  font-size: 90%;
  color: #c7254e;
  background-color: #f9f2f4;
  border-radius: 2px;
}
kbd {
  padding: 2px 4px;
  font-size: 90%;
  color: #888;
  background-color: transparent;
  border-radius: 1px;
  box-shadow: inset 0 -1px 0 rgba(0, 0, 0, 0.25);
}
kbd kbd {
  padding: 0;
  font-size: 100%;
  font-weight: bold;
  box-shadow: none;
}
pre {
  display: block;
  padding: 8.5px;
  margin: 0 0 9px;
  font-size: 12px;
  line-height: 1.42857143;
  word-break: break-all;
  word-wrap: break-word;
  color: #333333;
  background-color: #f5f5f5;
  border: 1px solid #ccc;
  border-radius: 2px;
}
pre code {
  padding: 0;
  font-size: inherit;
  color: inherit;
  white-space: pre-wrap;
  background-color: transparent;
  border-radius: 0;
}
.pre-scrollable {
  max-height: 340px;
  overflow-y: scroll;
}
.container {
  margin-right: auto;
  margin-left: auto;
  padding-left: 0px;
  padding-right: 0px;
}
@media (min-width: 768px) {
  .container {
    width: 768px;
  }
}
@media (min-width: 992px) {
  .container {
    width: 940px;
  }
}
@media (min-width: 1200px) {
  .container {
    width: 1140px;
  }
}
.container-fluid {
  margin-right: auto;
  margin-left: auto;
  padding-left: 0px;
  padding-right: 0px;
}
.row {
  margin-left: 0px;
  margin-right: 0px;
}
.col-xs-1, .col-sm-1, .col-md-1, .col-lg-1, .col-xs-2, .col-sm-2, .col-md-2, .col-lg-2, .col-xs-3, .col-sm-3, .col-md-3, .col-lg-3, .col-xs-4, .col-sm-4, .col-md-4, .col-lg-4, .col-xs-5, .col-sm-5, .col-md-5, .col-lg-5, .col-xs-6, .col-sm-6, .col-md-6, .col-lg-6, .col-xs-7, .col-sm-7, .col-md-7, .col-lg-7, .col-xs-8, .col-sm-8, .col-md-8, .col-lg-8, .col-xs-9, .col-sm-9, .col-md-9, .col-lg-9, .col-xs-10, .col-sm-10, .col-md-10, .col-lg-10, .col-xs-11, .col-sm-11, .col-md-11, .col-lg-11, .col-xs-12, .col-sm-12, .col-md-12, .col-lg-12 {
  position: relative;
  min-height: 1px;
  padding-left: 0px;
  padding-right: 0px;
}
.col-xs-1, .col-xs-2, .col-xs-3, .col-xs-4, .col-xs-5, .col-xs-6, .col-xs-7, .col-xs-8, .col-xs-9, .col-xs-10, .col-xs-11, .col-xs-12 {
  float: left;
}
.col-xs-12 {
  width: 100%;
}
.col-xs-11 {
  width: 91.66666667%;
}
.col-xs-10 {
  width: 83.33333333%;
}
.col-xs-9 {
  width: 75%;
}
.col-xs-8 {
  width: 66.66666667%;
}
.col-xs-7 {
  width: 58.33333333%;
}
.col-xs-6 {
  width: 50%;
}
.col-xs-5 {
  width: 41.66666667%;
}
.col-xs-4 {
  width: 33.33333333%;
}
.col-xs-3 {
  width: 25%;
}
.col-xs-2 {
  width: 16.66666667%;
}
.col-xs-1 {
  width: 8.33333333%;
}
.col-xs-pull-12 {
  right: 100%;
}
.col-xs-pull-11 {
  right: 91.66666667%;
}
.col-xs-pull-10 {
  right: 83.33333333%;
}
.col-xs-pull-9 {
  right: 75%;
}
.col-xs-pull-8 {
  right: 66.66666667%;
}
.col-xs-pull-7 {
  right: 58.33333333%;
}
.col-xs-pull-6 {
  right: 50%;
}
.col-xs-pull-5 {
  right: 41.66666667%;
}
.col-xs-pull-4 {
  right: 33.33333333%;
}
.col-xs-pull-3 {
  right: 25%;
}
.col-xs-pull-2 {
  right: 16.66666667%;
}
.col-xs-pull-1 {
  right: 8.33333333%;
}
.col-xs-pull-0 {
  right: auto;
}
.col-xs-push-12 {
  left: 100%;
}
.col-xs-push-11 {
  left: 91.66666667%;
}
.col-xs-push-10 {
  left: 83.33333333%;
}
.col-xs-push-9 {
  left: 75%;
}
.col-xs-push-8 {
  left: 66.66666667%;
}
.col-xs-push-7 {
  left: 58.33333333%;
}
.col-xs-push-6 {
  left: 50%;
}
.col-xs-push-5 {
  left: 41.66666667%;
}
.col-xs-push-4 {
  left: 33.33333333%;
}
.col-xs-push-3 {
  left: 25%;
}
.col-xs-push-2 {
  left: 16.66666667%;
}
.col-xs-push-1 {
  left: 8.33333333%;
}
.col-xs-push-0 {
  left: auto;
}
.col-xs-offset-12 {
  margin-left: 100%;
}
.col-xs-offset-11 {
  margin-left: 91.66666667%;
}
.col-xs-offset-10 {
  margin-left: 83.33333333%;
}
.col-xs-offset-9 {
  margin-left: 75%;
}
.col-xs-offset-8 {
  margin-left: 66.66666667%;
}
.col-xs-offset-7 {
  margin-left: 58.33333333%;
}
.col-xs-offset-6 {
  margin-left: 50%;
}
.col-xs-offset-5 {
  margin-left: 41.66666667%;
}
.col-xs-offset-4 {
  margin-left: 33.33333333%;
}
.col-xs-offset-3 {
  margin-left: 25%;
}
.col-xs-offset-2 {
  margin-left: 16.66666667%;
}
.col-xs-offset-1 {
  margin-left: 8.33333333%;
}
.col-xs-offset-0 {
  margin-left: 0%;
}
@media (min-width: 768px) {
  .col-sm-1, .col-sm-2, .col-sm-3, .col-sm-4, .col-sm-5, .col-sm-6, .col-sm-7, .col-sm-8, .col-sm-9, .col-sm-10, .col-sm-11, .col-sm-12 {
    float: left;
  }
  .col-sm-12 {
    width: 100%;
  }
  .col-sm-11 {
    width: 91.66666667%;
  }
  .col-sm-10 {
    width: 83.33333333%;
  }
  .col-sm-9 {
    width: 75%;
  }
  .col-sm-8 {
    width: 66.66666667%;
  }
  .col-sm-7 {
    width: 58.33333333%;
  }
  .col-sm-6 {
    width: 50%;
  }
  .col-sm-5 {
    width: 41.66666667%;
  }
  .col-sm-4 {
    width: 33.33333333%;
  }
  .col-sm-3 {
    width: 25%;
  }
  .col-sm-2 {
    width: 16.66666667%;
  }
  .col-sm-1 {
    width: 8.33333333%;
  }
  .col-sm-pull-12 {
    right: 100%;
  }
  .col-sm-pull-11 {
    right: 91.66666667%;
  }
  .col-sm-pull-10 {
    right: 83.33333333%;
  }
  .col-sm-pull-9 {
    right: 75%;
  }
  .col-sm-pull-8 {
    right: 66.66666667%;
  }
  .col-sm-pull-7 {
    right: 58.33333333%;
  }
  .col-sm-pull-6 {
    right: 50%;
  }
  .col-sm-pull-5 {
    right: 41.66666667%;
  }
  .col-sm-pull-4 {
    right: 33.33333333%;
  }
  .col-sm-pull-3 {
    right: 25%;
  }
  .col-sm-pull-2 {
    right: 16.66666667%;
  }
  .col-sm-pull-1 {
    right: 8.33333333%;
  }
  .col-sm-pull-0 {
    right: auto;
  }
  .col-sm-push-12 {
    left: 100%;
  }
  .col-sm-push-11 {
    left: 91.66666667%;
  }
  .col-sm-push-10 {
    left: 83.33333333%;
  }
  .col-sm-push-9 {
    left: 75%;
  }
  .col-sm-push-8 {
    left: 66.66666667%;
  }
  .col-sm-push-7 {
    left: 58.33333333%;
  }
  .col-sm-push-6 {
    left: 50%;
  }
  .col-sm-push-5 {
    left: 41.66666667%;
  }
  .col-sm-push-4 {
    left: 33.33333333%;
  }
  .col-sm-push-3 {
    left: 25%;
  }
  .col-sm-push-2 {
    left: 16.66666667%;
  }
  .col-sm-push-1 {
    left: 8.33333333%;
  }
  .col-sm-push-0 {
    left: auto;
  }
  .col-sm-offset-12 {
    margin-left: 100%;
  }
  .col-sm-offset-11 {
    margin-left: 91.66666667%;
  }
  .col-sm-offset-10 {
    margin-left: 83.33333333%;
  }
  .col-sm-offset-9 {
    margin-left: 75%;
  }
  .col-sm-offset-8 {
    margin-left: 66.66666667%;
  }
  .col-sm-offset-7 {
    margin-left: 58.33333333%;
  }
  .col-sm-offset-6 {
    margin-left: 50%;
  }
  .col-sm-offset-5 {
    margin-left: 41.66666667%;
  }
  .col-sm-offset-4 {
    margin-left: 33.33333333%;
  }
  .col-sm-offset-3 {
    margin-left: 25%;
  }
  .col-sm-offset-2 {
    margin-left: 16.66666667%;
  }
  .col-sm-offset-1 {
    margin-left: 8.33333333%;
  }
  .col-sm-offset-0 {
    margin-left: 0%;
  }
}
@media (min-width: 992px) {
  .col-md-1, .col-md-2, .col-md-3, .col-md-4, .col-md-5, .col-md-6, .col-md-7, .col-md-8, .col-md-9, .col-md-10, .col-md-11, .col-md-12 {
    float: left;
  }
  .col-md-12 {
    width: 100%;
  }
  .col-md-11 {
    width: 91.66666667%;
  }
  .col-md-10 {
    width: 83.33333333%;
  }
  .col-md-9 {
    width: 75%;
  }
  .col-md-8 {
    width: 66.66666667%;
  }
  .col-md-7 {
    width: 58.33333333%;
  }
  .col-md-6 {
    width: 50%;
  }
  .col-md-5 {
    width: 41.66666667%;
  }
  .col-md-4 {
    width: 33.33333333%;
  }
  .col-md-3 {
    width: 25%;
  }
  .col-md-2 {
    width: 16.66666667%;
  }
  .col-md-1 {
    width: 8.33333333%;
  }
  .col-md-pull-12 {
    right: 100%;
  }
  .col-md-pull-11 {
    right: 91.66666667%;
  }
  .col-md-pull-10 {
    right: 83.33333333%;
  }
  .col-md-pull-9 {
    right: 75%;
  }
  .col-md-pull-8 {
    right: 66.66666667%;
  }
  .col-md-pull-7 {
    right: 58.33333333%;
  }
  .col-md-pull-6 {
    right: 50%;
  }
  .col-md-pull-5 {
    right: 41.66666667%;
  }
  .col-md-pull-4 {
    right: 33.33333333%;
  }
  .col-md-pull-3 {
    right: 25%;
  }
  .col-md-pull-2 {
    right: 16.66666667%;
  }
  .col-md-pull-1 {
    right: 8.33333333%;
  }
  .col-md-pull-0 {
    right: auto;
  }
  .col-md-push-12 {
    left: 100%;
  }
  .col-md-push-11 {
    left: 91.66666667%;
  }
  .col-md-push-10 {
    left: 83.33333333%;
  }
  .col-md-push-9 {
    left: 75%;
  }
  .col-md-push-8 {
    left: 66.66666667%;
  }
  .col-md-push-7 {
    left: 58.33333333%;
  }
  .col-md-push-6 {
    left: 50%;
  }
  .col-md-push-5 {
    left: 41.66666667%;
  }
  .col-md-push-4 {
    left: 33.33333333%;
  }
  .col-md-push-3 {
    left: 25%;
  }
  .col-md-push-2 {
    left: 16.66666667%;
  }
  .col-md-push-1 {
    left: 8.33333333%;
  }
  .col-md-push-0 {
    left: auto;
  }
  .col-md-offset-12 {
    margin-left: 100%;
  }
  .col-md-offset-11 {
    margin-left: 91.66666667%;
  }
  .col-md-offset-10 {
    margin-left: 83.33333333%;
  }
  .col-md-offset-9 {
    margin-left: 75%;
  }
  .col-md-offset-8 {
    margin-left: 66.66666667%;
  }
  .col-md-offset-7 {
    margin-left: 58.33333333%;
  }
  .col-md-offset-6 {
    margin-left: 50%;
  }
  .col-md-offset-5 {
    margin-left: 41.66666667%;
  }
  .col-md-offset-4 {
    margin-left: 33.33333333%;
  }
  .col-md-offset-3 {
    margin-left: 25%;
  }
  .col-md-offset-2 {
    margin-left: 16.66666667%;
  }
  .col-md-offset-1 {
    margin-left: 8.33333333%;
  }
  .col-md-offset-0 {
    margin-left: 0%;
  }
}
@media (min-width: 1200px) {
  .col-lg-1, .col-lg-2, .col-lg-3, .col-lg-4, .col-lg-5, .col-lg-6, .col-lg-7, .col-lg-8, .col-lg-9, .col-lg-10, .col-lg-11, .col-lg-12 {
    float: left;
  }
  .col-lg-12 {
    width: 100%;
  }
  .col-lg-11 {
    width: 91.66666667%;
  }
  .col-lg-10 {
    width: 83.33333333%;
  }
  .col-lg-9 {
    width: 75%;
  }
  .col-lg-8 {
    width: 66.66666667%;
  }
  .col-lg-7 {
    width: 58.33333333%;
  }
  .col-lg-6 {
    width: 50%;
  }
  .col-lg-5 {
    width: 41.66666667%;
  }
  .col-lg-4 {
    width: 33.33333333%;
  }
  .col-lg-3 {
    width: 25%;
  }
  .col-lg-2 {
    width: 16.66666667%;
  }
  .col-lg-1 {
    width: 8.33333333%;
  }
  .col-lg-pull-12 {
    right: 100%;
  }
  .col-lg-pull-11 {
    right: 91.66666667%;
  }
  .col-lg-pull-10 {
    right: 83.33333333%;
  }
  .col-lg-pull-9 {
    right: 75%;
  }
  .col-lg-pull-8 {
    right: 66.66666667%;
  }
  .col-lg-pull-7 {
    right: 58.33333333%;
  }
  .col-lg-pull-6 {
    right: 50%;
  }
  .col-lg-pull-5 {
    right: 41.66666667%;
  }
  .col-lg-pull-4 {
    right: 33.33333333%;
  }
  .col-lg-pull-3 {
    right: 25%;
  }
  .col-lg-pull-2 {
    right: 16.66666667%;
  }
  .col-lg-pull-1 {
    right: 8.33333333%;
  }
  .col-lg-pull-0 {
    right: auto;
  }
  .col-lg-push-12 {
    left: 100%;
  }
  .col-lg-push-11 {
    left: 91.66666667%;
  }
  .col-lg-push-10 {
    left: 83.33333333%;
  }
  .col-lg-push-9 {
    left: 75%;
  }
  .col-lg-push-8 {
    left: 66.66666667%;
  }
  .col-lg-push-7 {
    left: 58.33333333%;
  }
  .col-lg-push-6 {
    left: 50%;
  }
  .col-lg-push-5 {
    left: 41.66666667%;
  }
  .col-lg-push-4 {
    left: 33.33333333%;
  }
  .col-lg-push-3 {
    left: 25%;
  }
  .col-lg-push-2 {
    left: 16.66666667%;
  }
  .col-lg-push-1 {
    left: 8.33333333%;
  }
  .col-lg-push-0 {
    left: auto;
  }
  .col-lg-offset-12 {
    margin-left: 100%;
  }
  .col-lg-offset-11 {
    margin-left: 91.66666667%;
  }
  .col-lg-offset-10 {
    margin-left: 83.33333333%;
  }
  .col-lg-offset-9 {
    margin-left: 75%;
  }
  .col-lg-offset-8 {
    margin-left: 66.66666667%;
  }
  .col-lg-offset-7 {
    margin-left: 58.33333333%;
  }
  .col-lg-offset-6 {
    margin-left: 50%;
  }
  .col-lg-offset-5 {
    margin-left: 41.66666667%;
  }
  .col-lg-offset-4 {
    margin-left: 33.33333333%;
  }
  .col-lg-offset-3 {
    margin-left: 25%;
  }
  .col-lg-offset-2 {
    margin-left: 16.66666667%;
  }
  .col-lg-offset-1 {
    margin-left: 8.33333333%;
  }
  .col-lg-offset-0 {
    margin-left: 0%;
  }
}
table {
  background-color: transparent;
}
caption {
  padding-top: 8px;
  padding-bottom: 8px;
  color: #777777;
  text-align: left;
}
th {
  text-align: left;
}
.table {
  width: 100%;
  max-width: 100%;
  margin-bottom: 18px;
}
.table > thead > tr > th,
.table > tbody > tr > th,
.table > tfoot > tr > th,
.table > thead > tr > td,
.table > tbody > tr > td,
.table > tfoot > tr > td {
  padding: 8px;
  line-height: 1.42857143;
  vertical-align: top;
  border-top: 1px solid #ddd;
}
.table > thead > tr > th {
  vertical-align: bottom;
  border-bottom: 2px solid #ddd;
}
.table > caption + thead > tr:first-child > th,
.table > colgroup + thead > tr:first-child > th,
.table > thead:first-child > tr:first-child > th,
.table > caption + thead > tr:first-child > td,
.table > colgroup + thead > tr:first-child > td,
.table > thead:first-child > tr:first-child > td {
  border-top: 0;
}
.table > tbody + tbody {
  border-top: 2px solid #ddd;
}
.table .table {
  background-color: #fff;
}
.table-condensed > thead > tr > th,
.table-condensed > tbody > tr > th,
.table-condensed > tfoot > tr > th,
.table-condensed > thead > tr > td,
.table-condensed > tbody > tr > td,
.table-condensed > tfoot > tr > td {
  padding: 5px;
}
.table-bordered {
  border: 1px solid #ddd;
}
.table-bordered > thead > tr > th,
.table-bordered > tbody > tr > th,
.table-bordered > tfoot > tr > th,
.table-bordered > thead > tr > td,
.table-bordered > tbody > tr > td,
.table-bordered > tfoot > tr > td {
  border: 1px solid #ddd;
}
.table-bordered > thead > tr > th,
.table-bordered > thead > tr > td {
  border-bottom-width: 2px;
}
.table-striped > tbody > tr:nth-of-type(odd) {
  background-color: #f9f9f9;
}
.table-hover > tbody > tr:hover {
  background-color: #f5f5f5;
}
table col[class*="col-"] {
  position: static;
  float: none;
  display: table-column;
}
table td[class*="col-"],
table th[class*="col-"] {
  position: static;
  float: none;
  display: table-cell;
}
.table > thead > tr > td.active,
.table > tbody > tr > td.active,
.table > tfoot > tr > td.active,
.table > thead > tr > th.active,
.table > tbody > tr > th.active,
.table > tfoot > tr > th.active,
.table > thead > tr.active > td,
.table > tbody > tr.active > td,
.table > tfoot > tr.active > td,
.table > thead > tr.active > th,
.table > tbody > tr.active > th,
.table > tfoot > tr.active > th {
  background-color: #f5f5f5;
}
.table-hover > tbody > tr > td.active:hover,
.table-hover > tbody > tr > th.active:hover,
.table-hover > tbody > tr.active:hover > td,
.table-hover > tbody > tr:hover > .active,
.table-hover > tbody > tr.active:hover > th {
  background-color: #e8e8e8;
}
.table > thead > tr > td.success,
.table > tbody > tr > td.success,
.table > tfoot > tr > td.success,
.table > thead > tr > th.success,
.table > tbody > tr > th.success,
.table > tfoot > tr > th.success,
.table > thead > tr.success > td,
.table > tbody > tr.success > td,
.table > tfoot > tr.success > td,
.table > thead > tr.success > th,
.table > tbody > tr.success > th,
.table > tfoot > tr.success > th {
  background-color: #dff0d8;
}
.table-hover > tbody > tr > td.success:hover,
.table-hover > tbody > tr > th.success:hover,
.table-hover > tbody > tr.success:hover > td,
.table-hover > tbody > tr:hover > .success,
.table-hover > tbody > tr.success:hover > th {
  background-color: #d0e9c6;
}
.table > thead > tr > td.info,
.table > tbody > tr > td.info,
.table > tfoot > tr > td.info,
.table > thead > tr > th.info,
.table > tbody > tr > th.info,
.table > tfoot > tr > th.info,
.table > thead > tr.info > td,
.table > tbody > tr.info > td,
.table > tfoot > tr.info > td,
.table > thead > tr.info > th,
.table > tbody > tr.info > th,
.table > tfoot > tr.info > th {
  background-color: #d9edf7;
}
.table-hover > tbody > tr > td.info:hover,
.table-hover > tbody > tr > th.info:hover,
.table-hover > tbody > tr.info:hover > td,
.table-hover > tbody > tr:hover > .info,
.table-hover > tbody > tr.info:hover > th {
  background-color: #c4e3f3;
}
.table > thead > tr > td.warning,
.table > tbody > tr > td.warning,
.table > tfoot > tr > td.warning,
.table > thead > tr > th.warning,
.table > tbody > tr > th.warning,
.table > tfoot > tr > th.warning,
.table > thead > tr.warning > td,
.table > tbody > tr.warning > td,
.table > tfoot > tr.warning > td,
.table > thead > tr.warning > th,
.table > tbody > tr.warning > th,
.table > tfoot > tr.warning > th {
  background-color: #fcf8e3;
}
.table-hover > tbody > tr > td.warning:hover,
.table-hover > tbody > tr > th.warning:hover,
.table-hover > tbody > tr.warning:hover > td,
.table-hover > tbody > tr:hover > .warning,
.table-hover > tbody > tr.warning:hover > th {
  background-color: #faf2cc;
}
.table > thead > tr > td.danger,
.table > tbody > tr > td.danger,
.table > tfoot > tr > td.danger,
.table > thead > tr > th.danger,
.table > tbody > tr > th.danger,
.table > tfoot > tr > th.danger,
.table > thead > tr.danger > td,
.table > tbody > tr.danger > td,
.table > tfoot > tr.danger > td,
.table > thead > tr.danger > th,
.table > tbody > tr.danger > th,
.table > tfoot > tr.danger > th {
  background-color: #f2dede;
}
.table-hover > tbody > tr > td.danger:hover,
.table-hover > tbody > tr > th.danger:hover,
.table-hover > tbody > tr.danger:hover > td,
.table-hover > tbody > tr:hover > .danger,
.table-hover > tbody > tr.danger:hover > th {
  background-color: #ebcccc;
}
.table-responsive {
  overflow-x: auto;
  min-height: 0.01%;
}
@media screen and (max-width: 767px) {
  .table-responsive {
    width: 100%;
    margin-bottom: 13.5px;
    overflow-y: hidden;
    -ms-overflow-style: -ms-autohiding-scrollbar;
    border: 1px solid #ddd;
  }
  .table-responsive > .table {
    margin-bottom: 0;
  }
  .table-responsive > .table > thead > tr > th,
  .table-responsive > .table > tbody > tr > th,
  .table-responsive > .table > tfoot > tr > th,
  .table-responsive > .table > thead > tr > td,
  .table-responsive > .table > tbody > tr > td,
  .table-responsive > .table > tfoot > tr > td {
    white-space: nowrap;
  }
  .table-responsive > .table-bordered {
    border: 0;
  }
  .table-responsive > .table-bordered > thead > tr > th:first-child,
  .table-responsive > .table-bordered > tbody > tr > th:first-child,
  .table-responsive > .table-bordered > tfoot > tr > th:first-child,
  .table-responsive > .table-bordered > thead > tr > td:first-child,
  .table-responsive > .table-bordered > tbody > tr > td:first-child,
  .table-responsive > .table-bordered > tfoot > tr > td:first-child {
    border-left: 0;
  }
  .table-responsive > .table-bordered > thead > tr > th:last-child,
  .table-responsive > .table-bordered > tbody > tr > th:last-child,
  .table-responsive > .table-bordered > tfoot > tr > th:last-child,
  .table-responsive > .table-bordered > thead > tr > td:last-child,
  .table-responsive > .table-bordered > tbody > tr > td:last-child,
  .table-responsive > .table-bordered > tfoot > tr > td:last-child {
    border-right: 0;
  }
  .table-responsive > .table-bordered > tbody > tr:last-child > th,
  .table-responsive > .table-bordered > tfoot > tr:last-child > th,
  .table-responsive > .table-bordered > tbody > tr:last-child > td,
  .table-responsive > .table-bordered > tfoot > tr:last-child > td {
    border-bottom: 0;
  }
}
fieldset {
  padding: 0;
  margin: 0;
  border: 0;
  min-width: 0;
}
legend {
  display: block;
  width: 100%;
  padding: 0;
  margin-bottom: 18px;
  font-size: 19.5px;
  line-height: inherit;
  color: #333333;
  border: 0;
  border-bottom: 1px solid #e5e5e5;
}
label {
  display: inline-block;
  max-width: 100%;
  margin-bottom: 5px;
  font-weight: bold;
}
input[type="search"] {
  -webkit-box-sizing: border-box;
  -moz-box-sizing: border-box;
  box-sizing: border-box;
}
input[type="radio"],
input[type="checkbox"] {
  margin: 4px 0 0;
  margin-top: 1px \9;
  line-height: normal;
}
input[type="file"] {
  display: block;
}
input[type="range"] {
  display: block;
  width: 100%;
}
select[multiple],
select[size] {
  height: auto;
}
input[type="file"]:focus,
input[type="radio"]:focus,
input[type="checkbox"]:focus {
  outline: thin dotted;
  outline: 5px auto -webkit-focus-ring-color;
  outline-offset: -2px;
}
output {
  display: block;
  padding-top: 7px;
  font-size: 13px;
  line-height: 1.42857143;
  color: #555555;
}
.form-control {
  display: block;
  width: 100%;
  height: 32px;
  padding: 6px 12px;
  font-size: 13px;
  line-height: 1.42857143;
  color: #555555;
  background-color: #fff;
  background-image: none;
  border: 1px solid #ccc;
  border-radius: 2px;
  -webkit-box-shadow: inset 0 1px 1px rgba(0, 0, 0, 0.075);
  box-shadow: inset 0 1px 1px rgba(0, 0, 0, 0.075);
  -webkit-transition: border-color ease-in-out .15s, box-shadow ease-in-out .15s;
  -o-transition: border-color ease-in-out .15s, box-shadow ease-in-out .15s;
  transition: border-color ease-in-out .15s, box-shadow ease-in-out .15s;
}
.form-control:focus {
  border-color: #66afe9;
  outline: 0;
  -webkit-box-shadow: inset 0 1px 1px rgba(0,0,0,.075), 0 0 8px rgba(102, 175, 233, 0.6);
  box-shadow: inset 0 1px 1px rgba(0,0,0,.075), 0 0 8px rgba(102, 175, 233, 0.6);
}
.form-control::-moz-placeholder {
  color: #999;
  opacity: 1;
}
.form-control:-ms-input-placeholder {
  color: #999;
}
.form-control::-webkit-input-placeholder {
  color: #999;
}
.form-control::-ms-expand {
  border: 0;
  background-color: transparent;
}
.form-control[disabled],
.form-control[readonly],
fieldset[disabled] .form-control {
  background-color: #eeeeee;
  opacity: 1;
}
.form-control[disabled],
fieldset[disabled] .form-control {
  cursor: not-allowed;
}
textarea.form-control {
  height: auto;
}
input[type="search"] {
  -webkit-appearance: none;
}
@media screen and (-webkit-min-device-pixel-ratio: 0) {
  input[type="date"].form-control,
  input[type="time"].form-control,
  input[type="datetime-local"].form-control,
  input[type="month"].form-control {
    line-height: 32px;
  }
  input[type="date"].input-sm,
  input[type="time"].input-sm,
  input[type="datetime-local"].input-sm,
  input[type="month"].input-sm,
  .input-group-sm input[type="date"],
  .input-group-sm input[type="time"],
  .input-group-sm input[type="datetime-local"],
  .input-group-sm input[type="month"] {
    line-height: 30px;
  }
  input[type="date"].input-lg,
  input[type="time"].input-lg,
  input[type="datetime-local"].input-lg,
  input[type="month"].input-lg,
  .input-group-lg input[type="date"],
  .input-group-lg input[type="time"],
  .input-group-lg input[type="datetime-local"],
  .input-group-lg input[type="month"] {
    line-height: 45px;
  }
}
.form-group {
  margin-bottom: 15px;
}
.radio,
.checkbox {
  position: relative;
  display: block;
  margin-top: 10px;
  margin-bottom: 10px;
}
.radio label,
.checkbox label {
  min-height: 18px;
  padding-left: 20px;
  margin-bottom: 0;
  font-weight: normal;
  cursor: pointer;
}
.radio input[type="radio"],
.radio-inline input[type="radio"],
.checkbox input[type="checkbox"],
.checkbox-inline input[type="checkbox"] {
  position: absolute;
  margin-left: -20px;
  margin-top: 4px \9;
}
.radio + .radio,
.checkbox + .checkbox {
  margin-top: -5px;
}
.radio-inline,
.checkbox-inline {
  position: relative;
  display: inline-block;
  padding-left: 20px;
  margin-bottom: 0;
  vertical-align: middle;
  font-weight: normal;
  cursor: pointer;
}
.radio-inline + .radio-inline,
.checkbox-inline + .checkbox-inline {
  margin-top: 0;
  margin-left: 10px;
}
input[type="radio"][disabled],
input[type="checkbox"][disabled],
input[type="radio"].disabled,
input[type="checkbox"].disabled,
fieldset[disabled] input[type="radio"],
fieldset[disabled] input[type="checkbox"] {
  cursor: not-allowed;
}
.radio-inline.disabled,
.checkbox-inline.disabled,
fieldset[disabled] .radio-inline,
fieldset[disabled] .checkbox-inline {
  cursor: not-allowed;
}
.radio.disabled label,
.checkbox.disabled label,
fieldset[disabled] .radio label,
fieldset[disabled] .checkbox label {
  cursor: not-allowed;
}
.form-control-static {
  padding-top: 7px;
  padding-bottom: 7px;
  margin-bottom: 0;
  min-height: 31px;
}
.form-control-static.input-lg,
.form-control-static.input-sm {
  padding-left: 0;
  padding-right: 0;
}
.input-sm {
  height: 30px;
  padding: 5px 10px;
  font-size: 12px;
  line-height: 1.5;
  border-radius: 1px;
}
select.input-sm {
  height: 30px;
  line-height: 30px;
}
textarea.input-sm,
select[multiple].input-sm {
  height: auto;
}
.form-group-sm .form-control {
  height: 30px;
  padding: 5px 10px;
  font-size: 12px;
  line-height: 1.5;
  border-radius: 1px;
}
.form-group-sm select.form-control {
  height: 30px;
  line-height: 30px;
}
.form-group-sm textarea.form-control,
.form-group-sm select[multiple].form-control {
  height: auto;
}
.form-group-sm .form-control-static {
  height: 30px;
  min-height: 30px;
  padding: 6px 10px;
  font-size: 12px;
  line-height: 1.5;
}
.input-lg {
  height: 45px;
  padding: 10px 16px;
  font-size: 17px;
  line-height: 1.3333333;
  border-radius: 3px;
}
select.input-lg {
  height: 45px;
  line-height: 45px;
}
textarea.input-lg,
select[multiple].input-lg {
  height: auto;
}
.form-group-lg .form-control {
  height: 45px;
  padding: 10px 16px;
  font-size: 17px;
  line-height: 1.3333333;
  border-radius: 3px;
}
.form-group-lg select.form-control {
  height: 45px;
  line-height: 45px;
}
.form-group-lg textarea.form-control,
.form-group-lg select[multiple].form-control {
  height: auto;
}
.form-group-lg .form-control-static {
  height: 45px;
  min-height: 35px;
  padding: 11px 16px;
  font-size: 17px;
  line-height: 1.3333333;
}
.has-feedback {
  position: relative;
}
.has-feedback .form-control {
  padding-right: 40px;
}
.form-control-feedback {
  position: absolute;
  top: 0;
  right: 0;
  z-index: 2;
  display: block;
  width: 32px;
  height: 32px;
  line-height: 32px;
  text-align: center;
  pointer-events: none;
}
.input-lg + .form-control-feedback,
.input-group-lg + .form-control-feedback,
.form-group-lg .form-control + .form-control-feedback {
  width: 45px;
  height: 45px;
  line-height: 45px;
}
.input-sm + .form-control-feedback,
.input-group-sm + .form-control-feedback,
.form-group-sm .form-control + .form-control-feedback {
  width: 30px;
  height: 30px;
  line-height: 30px;
}
.has-success .help-block,
.has-success .control-label,
.has-success .radio,
.has-success .checkbox,
.has-success .radio-inline,
.has-success .checkbox-inline,
.has-success.radio label,
.has-success.checkbox label,
.has-success.radio-inline label,
.has-success.checkbox-inline label {
  color: #3c763d;
}
.has-success .form-control {
  border-color: #3c763d;
  -webkit-box-shadow: inset 0 1px 1px rgba(0, 0, 0, 0.075);
  box-shadow: inset 0 1px 1px rgba(0, 0, 0, 0.075);
}
.has-success .form-control:focus {
  border-color: #2b542c;
  -webkit-box-shadow: inset 0 1px 1px rgba(0, 0, 0, 0.075), 0 0 6px #67b168;
  box-shadow: inset 0 1px 1px rgba(0, 0, 0, 0.075), 0 0 6px #67b168;
}
.has-success .input-group-addon {
  color: #3c763d;
  border-color: #3c763d;
  background-color: #dff0d8;
}
.has-success .form-control-feedback {
  color: #3c763d;
}
.has-warning .help-block,
.has-warning .control-label,
.has-warning .radio,
.has-warning .checkbox,
.has-warning .radio-inline,
.has-warning .checkbox-inline,
.has-warning.radio label,
.has-warning.checkbox label,
.has-warning.radio-inline label,
.has-warning.checkbox-inline label {
  color: #8a6d3b;
}
.has-warning .form-control {
  border-color: #8a6d3b;
  -webkit-box-shadow: inset 0 1px 1px rgba(0, 0, 0, 0.075);
  box-shadow: inset 0 1px 1px rgba(0, 0, 0, 0.075);
}
.has-warning .form-control:focus {
  border-color: #66512c;
  -webkit-box-shadow: inset 0 1px 1px rgba(0, 0, 0, 0.075), 0 0 6px #c0a16b;
  box-shadow: inset 0 1px 1px rgba(0, 0, 0, 0.075), 0 0 6px #c0a16b;
}
.has-warning .input-group-addon {
  color: #8a6d3b;
  border-color: #8a6d3b;
  background-color: #fcf8e3;
}
.has-warning .form-control-feedback {
  color: #8a6d3b;
}
.has-error .help-block,
.has-error .control-label,
.has-error .radio,
.has-error .checkbox,
.has-error .radio-inline,
.has-error .checkbox-inline,
.has-error.radio label,
.has-error.checkbox label,
.has-error.radio-inline label,
.has-error.checkbox-inline label {
  color: #a94442;
}
.has-error .form-control {
  border-color: #a94442;
  -webkit-box-shadow: inset 0 1px 1px rgba(0, 0, 0, 0.075);
  box-shadow: inset 0 1px 1px rgba(0, 0, 0, 0.075);
}
.has-error .form-control:focus {
  border-color: #843534;
  -webkit-box-shadow: inset 0 1px 1px rgba(0, 0, 0, 0.075), 0 0 6px #ce8483;
  box-shadow: inset 0 1px 1px rgba(0, 0, 0, 0.075), 0 0 6px #ce8483;
}
.has-error .input-group-addon {
  color: #a94442;
  border-color: #a94442;
  background-color: #f2dede;
}
.has-error .form-control-feedback {
  color: #a94442;
}
.has-feedback label ~ .form-control-feedback {
  top: 23px;
}
.has-feedback label.sr-only ~ .form-control-feedback {
  top: 0;
}
.help-block {
  display: block;
  margin-top: 5px;
  margin-bottom: 10px;
  color: #404040;
}
@media (min-width: 768px) {
  .form-inline .form-group {
    display: inline-block;
    margin-bottom: 0;
    vertical-align: middle;
  }
  .form-inline .form-control {
    display: inline-block;
    width: auto;
    vertical-align: middle;
  }
  .form-inline .form-control-static {
    display: inline-block;
  }
  .form-inline .input-group {
    display: inline-table;
    vertical-align: middle;
  }
  .form-inline .input-group .input-group-addon,
  .form-inline .input-group .input-group-btn,
  .form-inline .input-group .form-control {
    width: auto;
  }
  .form-inline .input-group > .form-control {
    width: 100%;
  }
  .form-inline .control-label {
    margin-bottom: 0;
    vertical-align: middle;
  }
  .form-inline .radio,
  .form-inline .checkbox {
    display: inline-block;
    margin-top: 0;
    margin-bottom: 0;
    vertical-align: middle;
  }
  .form-inline .radio label,
  .form-inline .checkbox label {
    padding-left: 0;
  }
  .form-inline .radio input[type="radio"],
  .form-inline .checkbox input[type="checkbox"] {
    position: relative;
    margin-left: 0;
  }
  .form-inline .has-feedback .form-control-feedback {
    top: 0;
  }
}
.form-horizontal .radio,
.form-horizontal .checkbox,
.form-horizontal .radio-inline,
.form-horizontal .checkbox-inline {
  margin-top: 0;
  margin-bottom: 0;
  padding-top: 7px;
}
.form-horizontal .radio,
.form-horizontal .checkbox {
  min-height: 25px;
}
.form-horizontal .form-group {
  margin-left: 0px;
  margin-right: 0px;
}
@media (min-width: 768px) {
  .form-horizontal .control-label {
    text-align: right;
    margin-bottom: 0;
    padding-top: 7px;
  }
}
.form-horizontal .has-feedback .form-control-feedback {
  right: 0px;
}
@media (min-width: 768px) {
  .form-horizontal .form-group-lg .control-label {
    padding-top: 11px;
    font-size: 17px;
  }
}
@media (min-width: 768px) {
  .form-horizontal .form-group-sm .control-label {
    padding-top: 6px;
    font-size: 12px;
  }
}
.btn {
  display: inline-block;
  margin-bottom: 0;
  font-weight: normal;
  text-align: center;
  vertical-align: middle;
  touch-action: manipulation;
  cursor: pointer;
  background-image: none;
  border: 1px solid transparent;
  white-space: nowrap;
  padding: 6px 12px;
  font-size: 13px;
  line-height: 1.42857143;
  border-radius: 2px;
  -webkit-user-select: none;
  -moz-user-select: none;
  -ms-user-select: none;
  user-select: none;
}
.btn:focus,
.btn:active:focus,
.btn.active:focus,
.btn.focus,
.btn:active.focus,
.btn.active.focus {
  outline: thin dotted;
  outline: 5px auto -webkit-focus-ring-color;
  outline-offset: -2px;
}
.btn:hover,
.btn:focus,
.btn.focus {
  color: #333;
  text-decoration: none;
}
.btn:active,
.btn.active {
  outline: 0;
  background-image: none;
  -webkit-box-shadow: inset 0 3px 5px rgba(0, 0, 0, 0.125);
  box-shadow: inset 0 3px 5px rgba(0, 0, 0, 0.125);
}
.btn.disabled,
.btn[disabled],
fieldset[disabled] .btn {
  cursor: not-allowed;
  opacity: 0.65;
  filter: alpha(opacity=65);
  -webkit-box-shadow: none;
  box-shadow: none;
}
a.btn.disabled,
fieldset[disabled] a.btn {
  pointer-events: none;
}
.btn-default {
  color: #333;
  background-color: #fff;
  border-color: #ccc;
}
.btn-default:focus,
.btn-default.focus {
  color: #333;
  background-color: #e6e6e6;
  border-color: #8c8c8c;
}
.btn-default:hover {
  color: #333;
  background-color: #e6e6e6;
  border-color: #adadad;
}
.btn-default:active,
.btn-default.active,
.open > .dropdown-toggle.btn-default {
  color: #333;
  background-color: #e6e6e6;
  border-color: #adadad;
}
.btn-default:active:hover,
.btn-default.active:hover,
.open > .dropdown-toggle.btn-default:hover,
.btn-default:active:focus,
.btn-default.active:focus,
.open > .dropdown-toggle.btn-default:focus,
.btn-default:active.focus,
.btn-default.active.focus,
.open > .dropdown-toggle.btn-default.focus {
  color: #333;
  background-color: #d4d4d4;
  border-color: #8c8c8c;
}
.btn-default:active,
.btn-default.active,
.open > .dropdown-toggle.btn-default {
  background-image: none;
}
.btn-default.disabled:hover,
.btn-default[disabled]:hover,
fieldset[disabled] .btn-default:hover,
.btn-default.disabled:focus,
.btn-default[disabled]:focus,
fieldset[disabled] .btn-default:focus,
.btn-default.disabled.focus,
.btn-default[disabled].focus,
fieldset[disabled] .btn-default.focus {
  background-color: #fff;
  border-color: #ccc;
}
.btn-default .badge {
  color: #fff;
  background-color: #333;
}
.btn-primary {
  color: #fff;
  background-color: #337ab7;
  border-color: #2e6da4;
}
.btn-primary:focus,
.btn-primary.focus {
  color: #fff;
  background-color: #286090;
  border-color: #122b40;
}
.btn-primary:hover {
  color: #fff;
  background-color: #286090;
  border-color: #204d74;
}
.btn-primary:active,
.btn-primary.active,
.open > .dropdown-toggle.btn-primary {
  color: #fff;
  background-color: #286090;
  border-color: #204d74;
}
.btn-primary:active:hover,
.btn-primary.active:hover,
.open > .dropdown-toggle.btn-primary:hover,
.btn-primary:active:focus,
.btn-primary.active:focus,
.open > .dropdown-toggle.btn-primary:focus,
.btn-primary:active.focus,
.btn-primary.active.focus,
.open > .dropdown-toggle.btn-primary.focus {
  color: #fff;
  background-color: #204d74;
  border-color: #122b40;
}
.btn-primary:active,
.btn-primary.active,
.open > .dropdown-toggle.btn-primary {
  background-image: none;
}
.btn-primary.disabled:hover,
.btn-primary[disabled]:hover,
fieldset[disabled] .btn-primary:hover,
.btn-primary.disabled:focus,
.btn-primary[disabled]:focus,
fieldset[disabled] .btn-primary:focus,
.btn-primary.disabled.focus,
.btn-primary[disabled].focus,
fieldset[disabled] .btn-primary.focus {
  background-color: #337ab7;
  border-color: #2e6da4;
}
.btn-primary .badge {
  color: #337ab7;
  background-color: #fff;
}
.btn-success {
  color: #fff;
  background-color: #5cb85c;
  border-color: #4cae4c;
}
.btn-success:focus,
.btn-success.focus {
  color: #fff;
  background-color: #449d44;
  border-color: #255625;
}
.btn-success:hover {
  color: #fff;
  background-color: #449d44;
  border-color: #398439;
}
.btn-success:active,
.btn-success.active,
.open > .dropdown-toggle.btn-success {
  color: #fff;
  background-color: #449d44;
  border-color: #398439;
}
.btn-success:active:hover,
.btn-success.active:hover,
.open > .dropdown-toggle.btn-success:hover,
.btn-success:active:focus,
.btn-success.active:focus,
.open > .dropdown-toggle.btn-success:focus,
.btn-success:active.focus,
.btn-success.active.focus,
.open > .dropdown-toggle.btn-success.focus {
  color: #fff;
  background-color: #398439;
  border-color: #255625;
}
.btn-success:active,
.btn-success.active,
.open > .dropdown-toggle.btn-success {
  background-image: none;
}
.btn-success.disabled:hover,
.btn-success[disabled]:hover,
fieldset[disabled] .btn-success:hover,
.btn-success.disabled:focus,
.btn-success[disabled]:focus,
fieldset[disabled] .btn-success:focus,
.btn-success.disabled.focus,
.btn-success[disabled].focus,
fieldset[disabled] .btn-success.focus {
  background-color: #5cb85c;
  border-color: #4cae4c;
}
.btn-success .badge {
  color: #5cb85c;
  background-color: #fff;
}
.btn-info {
  color: #fff;
  background-color: #5bc0de;
  border-color: #46b8da;
}
.btn-info:focus,
.btn-info.focus {
  color: #fff;
  background-color: #31b0d5;
  border-color: #1b6d85;
}
.btn-info:hover {
  color: #fff;
  background-color: #31b0d5;
  border-color: #269abc;
}
.btn-info:active,
.btn-info.active,
.open > .dropdown-toggle.btn-info {
  color: #fff;
  background-color: #31b0d5;
  border-color: #269abc;
}
.btn-info:active:hover,
.btn-info.active:hover,
.open > .dropdown-toggle.btn-info:hover,
.btn-info:active:focus,
.btn-info.active:focus,
.open > .dropdown-toggle.btn-info:focus,
.btn-info:active.focus,
.btn-info.active.focus,
.open > .dropdown-toggle.btn-info.focus {
  color: #fff;
  background-color: #269abc;
  border-color: #1b6d85;
}
.btn-info:active,
.btn-info.active,
.open > .dropdown-toggle.btn-info {
  background-image: none;
}
.btn-info.disabled:hover,
.btn-info[disabled]:hover,
fieldset[disabled] .btn-info:hover,
.btn-info.disabled:focus,
.btn-info[disabled]:focus,
fieldset[disabled] .btn-info:focus,
.btn-info.disabled.focus,
.btn-info[disabled].focus,
fieldset[disabled] .btn-info.focus {
  background-color: #5bc0de;
  border-color: #46b8da;
}
.btn-info .badge {
  color: #5bc0de;
  background-color: #fff;
}
.btn-warning {
  color: #fff;
  background-color: #f0ad4e;
  border-color: #eea236;
}
.btn-warning:focus,
.btn-warning.focus {
  color: #fff;
  background-color: #ec971f;
  border-color: #985f0d;
}
.btn-warning:hover {
  color: #fff;
  background-color: #ec971f;
  border-color: #d58512;
}
.btn-warning:active,
.btn-warning.active,
.open > .dropdown-toggle.btn-warning {
  color: #fff;
  background-color: #ec971f;
  border-color: #d58512;
}
.btn-warning:active:hover,
.btn-warning.active:hover,
.open > .dropdown-toggle.btn-warning:hover,
.btn-warning:active:focus,
.btn-warning.active:focus,
.open > .dropdown-toggle.btn-warning:focus,
.btn-warning:active.focus,
.btn-warning.active.focus,
.open > .dropdown-toggle.btn-warning.focus {
  color: #fff;
  background-color: #d58512;
  border-color: #985f0d;
}
.btn-warning:active,
.btn-warning.active,
.open > .dropdown-toggle.btn-warning {
  background-image: none;
}
.btn-warning.disabled:hover,
.btn-warning[disabled]:hover,
fieldset[disabled] .btn-warning:hover,
.btn-warning.disabled:focus,
.btn-warning[disabled]:focus,
fieldset[disabled] .btn-warning:focus,
.btn-warning.disabled.focus,
.btn-warning[disabled].focus,
fieldset[disabled] .btn-warning.focus {
  background-color: #f0ad4e;
  border-color: #eea236;
}
.btn-warning .badge {
  color: #f0ad4e;
  background-color: #fff;
}
.btn-danger {
  color: #fff;
  background-color: #d9534f;
  border-color: #d43f3a;
}
.btn-danger:focus,
.btn-danger.focus {
  color: #fff;
  background-color: #c9302c;
  border-color: #761c19;
}
.btn-danger:hover {
  color: #fff;
  background-color: #c9302c;
  border-color: #ac2925;
}
.btn-danger:active,
.btn-danger.active,
.open > .dropdown-toggle.btn-danger {
  color: #fff;
  background-color: #c9302c;
  border-color: #ac2925;
}
.btn-danger:active:hover,
.btn-danger.active:hover,
.open > .dropdown-toggle.btn-danger:hover,
.btn-danger:active:focus,
.btn-danger.active:focus,
.open > .dropdown-toggle.btn-danger:focus,
.btn-danger:active.focus,
.btn-danger.active.focus,
.open > .dropdown-toggle.btn-danger.focus {
  color: #fff;
  background-color: #ac2925;
  border-color: #761c19;
}
.btn-danger:active,
.btn-danger.active,
.open > .dropdown-toggle.btn-danger {
  background-image: none;
}
.btn-danger.disabled:hover,
.btn-danger[disabled]:hover,
fieldset[disabled] .btn-danger:hover,
.btn-danger.disabled:focus,
.btn-danger[disabled]:focus,
fieldset[disabled] .btn-danger:focus,
.btn-danger.disabled.focus,
.btn-danger[disabled].focus,
fieldset[disabled] .btn-danger.focus {
  background-color: #d9534f;
  border-color: #d43f3a;
}
.btn-danger .badge {
  color: #d9534f;
  background-color: #fff;
}
.btn-link {
  color: #337ab7;
  font-weight: normal;
  border-radius: 0;
}
.btn-link,
.btn-link:active,
.btn-link.active,
.btn-link[disabled],
fieldset[disabled] .btn-link {
  background-color: transparent;
  -webkit-box-shadow: none;
  box-shadow: none;
}
.btn-link,
.btn-link:hover,
.btn-link:focus,
.btn-link:active {
  border-color: transparent;
}
.btn-link:hover,
.btn-link:focus {
  color: #23527c;
  text-decoration: underline;
  background-color: transparent;
}
.btn-link[disabled]:hover,
fieldset[disabled] .btn-link:hover,
.btn-link[disabled]:focus,
fieldset[disabled] .btn-link:focus {
  color: #777777;
  text-decoration: none;
}
.btn-lg,
.btn-group-lg > .btn {
  padding: 10px 16px;
  font-size: 17px;
  line-height: 1.3333333;
  border-radius: 3px;
}
.btn-sm,
.btn-group-sm > .btn {
  padding: 5px 10px;
  font-size: 12px;
  line-height: 1.5;
  border-radius: 1px;
}
.btn-xs,
.btn-group-xs > .btn {
  padding: 1px 5px;
  font-size: 12px;
  line-height: 1.5;
  border-radius: 1px;
}
.btn-block {
  display: block;
  width: 100%;
}
.btn-block + .btn-block {
  margin-top: 5px;
}
input[type="submit"].btn-block,
input[type="reset"].btn-block,
input[type="button"].btn-block {
  width: 100%;
}
.fade {
  opacity: 0;
  -webkit-transition: opacity 0.15s linear;
  -o-transition: opacity 0.15s linear;
  transition: opacity 0.15s linear;
}
.fade.in {
  opacity: 1;
}
.collapse {
  display: none;
}
.collapse.in {
  display: block;
}
tr.collapse.in {
  display: table-row;
}
tbody.collapse.in {
  display: table-row-group;
}
.collapsing {
  position: relative;
  height: 0;
  overflow: hidden;
  -webkit-transition-property: height, visibility;
  transition-property: height, visibility;
  -webkit-transition-duration: 0.35s;
  transition-duration: 0.35s;
  -webkit-transition-timing-function: ease;
  transition-timing-function: ease;
}
.caret {
  display: inline-block;
  width: 0;
  height: 0;
  margin-left: 2px;
  vertical-align: middle;
  border-top: 4px dashed;
  border-top: 4px solid \9;
  border-right: 4px solid transparent;
  border-left: 4px solid transparent;
}
.dropup,
.dropdown {
  position: relative;
}
.dropdown-toggle:focus {
  outline: 0;
}
.dropdown-menu {
  position: absolute;
  top: 100%;
  left: 0;
  z-index: 1000;
  display: none;
  float: left;
  min-width: 160px;
  padding: 5px 0;
  margin: 2px 0 0;
  list-style: none;
  font-size: 13px;
  text-align: left;
  background-color: #fff;
  border: 1px solid #ccc;
  border: 1px solid rgba(0, 0, 0, 0.15);
  border-radius: 2px;
  -webkit-box-shadow: 0 6px 12px rgba(0, 0, 0, 0.175);
  box-shadow: 0 6px 12px rgba(0, 0, 0, 0.175);
  background-clip: padding-box;
}
.dropdown-menu.pull-right {
  right: 0;
  left: auto;
}
.dropdown-menu .divider {
  height: 1px;
  margin: 8px 0;
  overflow: hidden;
  background-color: #e5e5e5;
}
.dropdown-menu > li > a {
  display: block;
  padding: 3px 20px;
  clear: both;
  font-weight: normal;
  line-height: 1.42857143;
  color: #333333;
  white-space: nowrap;
}
.dropdown-menu > li > a:hover,
.dropdown-menu > li > a:focus {
  text-decoration: none;
  color: #262626;
  background-color: #f5f5f5;
}
.dropdown-menu > .active > a,
.dropdown-menu > .active > a:hover,
.dropdown-menu > .active > a:focus {
  color: #fff;
  text-decoration: none;
  outline: 0;
  background-color: #337ab7;
}
.dropdown-menu > .disabled > a,
.dropdown-menu > .disabled > a:hover,
.dropdown-menu > .disabled > a:focus {
  color: #777777;
}
.dropdown-menu > .disabled > a:hover,
.dropdown-menu > .disabled > a:focus {
  text-decoration: none;
  background-color: transparent;
  background-image: none;
  filter: progid:DXImageTransform.Microsoft.gradient(enabled = false);
  cursor: not-allowed;
}
.open > .dropdown-menu {
  display: block;
}
.open > a {
  outline: 0;
}
.dropdown-menu-right {
  left: auto;
  right: 0;
}
.dropdown-menu-left {
  left: 0;
  right: auto;
}
.dropdown-header {
  display: block;
  padding: 3px 20px;
  font-size: 12px;
  line-height: 1.42857143;
  color: #777777;
  white-space: nowrap;
}
.dropdown-backdrop {
  position: fixed;
  left: 0;
  right: 0;
  bottom: 0;
  top: 0;
  z-index: 990;
}
.pull-right > .dropdown-menu {
  right: 0;
  left: auto;
}
.dropup .caret,
.navbar-fixed-bottom .dropdown .caret {
  border-top: 0;
  border-bottom: 4px dashed;
  border-bottom: 4px solid \9;
  content: "";
}
.dropup .dropdown-menu,
.navbar-fixed-bottom .dropdown .dropdown-menu {
  top: auto;
  bottom: 100%;
  margin-bottom: 2px;
}
@media (min-width: 541px) {
  .navbar-right .dropdown-menu {
    left: auto;
    right: 0;
  }
  .navbar-right .dropdown-menu-left {
    left: 0;
    right: auto;
  }
}
.btn-group,
.btn-group-vertical {
  position: relative;
  display: inline-block;
  vertical-align: middle;
}
.btn-group > .btn,
.btn-group-vertical > .btn {
  position: relative;
  float: left;
}
.btn-group > .btn:hover,
.btn-group-vertical > .btn:hover,
.btn-group > .btn:focus,
.btn-group-vertical > .btn:focus,
.btn-group > .btn:active,
.btn-group-vertical > .btn:active,
.btn-group > .btn.active,
.btn-group-vertical > .btn.active {
  z-index: 2;
}
.btn-group .btn + .btn,
.btn-group .btn + .btn-group,
.btn-group .btn-group + .btn,
.btn-group .btn-group + .btn-group {
  margin-left: -1px;
}
.btn-toolbar {
  margin-left: -5px;
}
.btn-toolbar .btn,
.btn-toolbar .btn-group,
.btn-toolbar .input-group {
  float: left;
}
.btn-toolbar > .btn,
.btn-toolbar > .btn-group,
.btn-toolbar > .input-group {
  margin-left: 5px;
}
.btn-group > .btn:not(:first-child):not(:last-child):not(.dropdown-toggle) {
  border-radius: 0;
}
.btn-group > .btn:first-child {
  margin-left: 0;
}
.btn-group > .btn:first-child:not(:last-child):not(.dropdown-toggle) {
  border-bottom-right-radius: 0;
  border-top-right-radius: 0;
}
.btn-group > .btn:last-child:not(:first-child),
.btn-group > .dropdown-toggle:not(:first-child) {
  border-bottom-left-radius: 0;
  border-top-left-radius: 0;
}
.btn-group > .btn-group {
  float: left;
}
.btn-group > .btn-group:not(:first-child):not(:last-child) > .btn {
  border-radius: 0;
}
.btn-group > .btn-group:first-child:not(:last-child) > .btn:last-child,
.btn-group > .btn-group:first-child:not(:last-child) > .dropdown-toggle {
  border-bottom-right-radius: 0;
  border-top-right-radius: 0;
}
.btn-group > .btn-group:last-child:not(:first-child) > .btn:first-child {
  border-bottom-left-radius: 0;
  border-top-left-radius: 0;
}
.btn-group .dropdown-toggle:active,
.btn-group.open .dropdown-toggle {
  outline: 0;
}
.btn-group > .btn + .dropdown-toggle {
  padding-left: 8px;
  padding-right: 8px;
}
.btn-group > .btn-lg + .dropdown-toggle {
  padding-left: 12px;
  padding-right: 12px;
}
.btn-group.open .dropdown-toggle {
  -webkit-box-shadow: inset 0 3px 5px rgba(0, 0, 0, 0.125);
  box-shadow: inset 0 3px 5px rgba(0, 0, 0, 0.125);
}
.btn-group.open .dropdown-toggle.btn-link {
  -webkit-box-shadow: none;
  box-shadow: none;
}
.btn .caret {
  margin-left: 0;
}
.btn-lg .caret {
  border-width: 5px 5px 0;
  border-bottom-width: 0;
}
.dropup .btn-lg .caret {
  border-width: 0 5px 5px;
}
.btn-group-vertical > .btn,
.btn-group-vertical > .btn-group,
.btn-group-vertical > .btn-group > .btn {
  display: block;
  float: none;
  width: 100%;
  max-width: 100%;
}
.btn-group-vertical > .btn-group > .btn {
  float: none;
}
.btn-group-vertical > .btn + .btn,
.btn-group-vertical > .btn + .btn-group,
.btn-group-vertical > .btn-group + .btn,
.btn-group-vertical > .btn-group + .btn-group {
  margin-top: -1px;
  margin-left: 0;
}
.btn-group-vertical > .btn:not(:first-child):not(:last-child) {
  border-radius: 0;
}
.btn-group-vertical > .btn:first-child:not(:last-child) {
  border-top-right-radius: 2px;
  border-top-left-radius: 2px;
  border-bottom-right-radius: 0;
  border-bottom-left-radius: 0;
}
.btn-group-vertical > .btn:last-child:not(:first-child) {
  border-top-right-radius: 0;
  border-top-left-radius: 0;
  border-bottom-right-radius: 2px;
  border-bottom-left-radius: 2px;
}
.btn-group-vertical > .btn-group:not(:first-child):not(:last-child) > .btn {
  border-radius: 0;
}
.btn-group-vertical > .btn-group:first-child:not(:last-child) > .btn:last-child,
.btn-group-vertical > .btn-group:first-child:not(:last-child) > .dropdown-toggle {
  border-bottom-right-radius: 0;
  border-bottom-left-radius: 0;
}
.btn-group-vertical > .btn-group:last-child:not(:first-child) > .btn:first-child {
  border-top-right-radius: 0;
  border-top-left-radius: 0;
}
.btn-group-justified {
  display: table;
  width: 100%;
  table-layout: fixed;
  border-collapse: separate;
}
.btn-group-justified > .btn,
.btn-group-justified > .btn-group {
  float: none;
  display: table-cell;
  width: 1%;
}
.btn-group-justified > .btn-group .btn {
  width: 100%;
}
.btn-group-justified > .btn-group .dropdown-menu {
  left: auto;
}
[data-toggle="buttons"] > .btn input[type="radio"],
[data-toggle="buttons"] > .btn-group > .btn input[type="radio"],
[data-toggle="buttons"] > .btn input[type="checkbox"],
[data-toggle="buttons"] > .btn-group > .btn input[type="checkbox"] {
  position: absolute;
  clip: rect(0, 0, 0, 0);
  pointer-events: none;
}
.input-group {
  position: relative;
  display: table;
  border-collapse: separate;
}
.input-group[class*="col-"] {
  float: none;
  padding-left: 0;
  padding-right: 0;
}
.input-group .form-control {
  position: relative;
  z-index: 2;
  float: left;
  width: 100%;
  margin-bottom: 0;
}
.input-group .form-control:focus {
  z-index: 3;
}
.input-group-lg > .form-control,
.input-group-lg > .input-group-addon,
.input-group-lg > .input-group-btn > .btn {
  height: 45px;
  padding: 10px 16px;
  font-size: 17px;
  line-height: 1.3333333;
  border-radius: 3px;
}
select.input-group-lg > .form-control,
select.input-group-lg > .input-group-addon,
select.input-group-lg > .input-group-btn > .btn {
  height: 45px;
  line-height: 45px;
}
textarea.input-group-lg > .form-control,
textarea.input-group-lg > .input-group-addon,
textarea.input-group-lg > .input-group-btn > .btn,
select[multiple].input-group-lg > .form-control,
select[multiple].input-group-lg > .input-group-addon,
select[multiple].input-group-lg > .input-group-btn > .btn {
  height: auto;
}
.input-group-sm > .form-control,
.input-group-sm > .input-group-addon,
.input-group-sm > .input-group-btn > .btn {
  height: 30px;
  padding: 5px 10px;
  font-size: 12px;
  line-height: 1.5;
  border-radius: 1px;
}
select.input-group-sm > .form-control,
select.input-group-sm > .input-group-addon,
select.input-group-sm > .input-group-btn > .btn {
  height: 30px;
  line-height: 30px;
}
textarea.input-group-sm > .form-control,
textarea.input-group-sm > .input-group-addon,
textarea.input-group-sm > .input-group-btn > .btn,
select[multiple].input-group-sm > .form-control,
select[multiple].input-group-sm > .input-group-addon,
select[multiple].input-group-sm > .input-group-btn > .btn {
  height: auto;
}
.input-group-addon,
.input-group-btn,
.input-group .form-control {
  display: table-cell;
}
.input-group-addon:not(:first-child):not(:last-child),
.input-group-btn:not(:first-child):not(:last-child),
.input-group .form-control:not(:first-child):not(:last-child) {
  border-radius: 0;
}
.input-group-addon,
.input-group-btn {
  width: 1%;
  white-space: nowrap;
  vertical-align: middle;
}
.input-group-addon {
  padding: 6px 12px;
  font-size: 13px;
  font-weight: normal;
  line-height: 1;
  color: #555555;
  text-align: center;
  background-color: #eeeeee;
  border: 1px solid #ccc;
  border-radius: 2px;
}
.input-group-addon.input-sm {
  padding: 5px 10px;
  font-size: 12px;
  border-radius: 1px;
}
.input-group-addon.input-lg {
  padding: 10px 16px;
  font-size: 17px;
  border-radius: 3px;
}
.input-group-addon input[type="radio"],
.input-group-addon input[type="checkbox"] {
  margin-top: 0;
}
.input-group .form-control:first-child,
.input-group-addon:first-child,
.input-group-btn:first-child > .btn,
.input-group-btn:first-child > .btn-group > .btn,
.input-group-btn:first-child > .dropdown-toggle,
.input-group-btn:last-child > .btn:not(:last-child):not(.dropdown-toggle),
.input-group-btn:last-child > .btn-group:not(:last-child) > .btn {
  border-bottom-right-radius: 0;
  border-top-right-radius: 0;
}
.input-group-addon:first-child {
  border-right: 0;
}
.input-group .form-control:last-child,
.input-group-addon:last-child,
.input-group-btn:last-child > .btn,
.input-group-btn:last-child > .btn-group > .btn,
.input-group-btn:last-child > .dropdown-toggle,
.input-group-btn:first-child > .btn:not(:first-child),
.input-group-btn:first-child > .btn-group:not(:first-child) > .btn {
  border-bottom-left-radius: 0;
  border-top-left-radius: 0;
}
.input-group-addon:last-child {
  border-left: 0;
}
.input-group-btn {
  position: relative;
  font-size: 0;
  white-space: nowrap;
}
.input-group-btn > .btn {
  position: relative;
}
.input-group-btn > .btn + .btn {
  margin-left: -1px;
}
.input-group-btn > .btn:hover,
.input-group-btn > .btn:focus,
.input-group-btn > .btn:active {
  z-index: 2;
}
.input-group-btn:first-child > .btn,
.input-group-btn:first-child > .btn-group {
  margin-right: -1px;
}
.input-group-btn:last-child > .btn,
.input-group-btn:last-child > .btn-group {
  z-index: 2;
  margin-left: -1px;
}
.nav {
  margin-bottom: 0;
  padding-left: 0;
  list-style: none;
}
.nav > li {
  position: relative;
  display: block;
}
.nav > li > a {
  position: relative;
  display: block;
  padding: 10px 15px;
}
.nav > li > a:hover,
.nav > li > a:focus {
  text-decoration: none;
  background-color: #eeeeee;
}
.nav > li.disabled > a {
  color: #777777;
}
.nav > li.disabled > a:hover,
.nav > li.disabled > a:focus {
  color: #777777;
  text-decoration: none;
  background-color: transparent;
  cursor: not-allowed;
}
.nav .open > a,
.nav .open > a:hover,
.nav .open > a:focus {
  background-color: #eeeeee;
  border-color: #337ab7;
}
.nav .nav-divider {
  height: 1px;
  margin: 8px 0;
  overflow: hidden;
  background-color: #e5e5e5;
}
.nav > li > a > img {
  max-width: none;
}
.nav-tabs {
  border-bottom: 1px solid #ddd;
}
.nav-tabs > li {
  float: left;
  margin-bottom: -1px;
}
.nav-tabs > li > a {
  margin-right: 2px;
  line-height: 1.42857143;
  border: 1px solid transparent;
  border-radius: 2px 2px 0 0;
}
.nav-tabs > li > a:hover {
  border-color: #eeeeee #eeeeee #ddd;
}
.nav-tabs > li.active > a,
.nav-tabs > li.active > a:hover,
.nav-tabs > li.active > a:focus {
  color: #555555;
  background-color: #fff;
  border: 1px solid #ddd;
  border-bottom-color: transparent;
  cursor: default;
}
.nav-tabs.nav-justified {
  width: 100%;
  border-bottom: 0;
}
.nav-tabs.nav-justified > li {
  float: none;
}
.nav-tabs.nav-justified > li > a {
  text-align: center;
  margin-bottom: 5px;
}
.nav-tabs.nav-justified > .dropdown .dropdown-menu {
  top: auto;
  left: auto;
}
@media (min-width: 768px) {
  .nav-tabs.nav-justified > li {
    display: table-cell;
    width: 1%;
  }
  .nav-tabs.nav-justified > li > a {
    margin-bottom: 0;
  }
}
.nav-tabs.nav-justified > li > a {
  margin-right: 0;
  border-radius: 2px;
}
.nav-tabs.nav-justified > .active > a,
.nav-tabs.nav-justified > .active > a:hover,
.nav-tabs.nav-justified > .active > a:focus {
  border: 1px solid #ddd;
}
@media (min-width: 768px) {
  .nav-tabs.nav-justified > li > a {
    border-bottom: 1px solid #ddd;
    border-radius: 2px 2px 0 0;
  }
  .nav-tabs.nav-justified > .active > a,
  .nav-tabs.nav-justified > .active > a:hover,
  .nav-tabs.nav-justified > .active > a:focus {
    border-bottom-color: #fff;
  }
}
.nav-pills > li {
  float: left;
}
.nav-pills > li > a {
  border-radius: 2px;
}
.nav-pills > li + li {
  margin-left: 2px;
}
.nav-pills > li.active > a,
.nav-pills > li.active > a:hover,
.nav-pills > li.active > a:focus {
  color: #fff;
  background-color: #337ab7;
}
.nav-stacked > li {
  float: none;
}
.nav-stacked > li + li {
  margin-top: 2px;
  margin-left: 0;
}
.nav-justified {
  width: 100%;
}
.nav-justified > li {
  float: none;
}
.nav-justified > li > a {
  text-align: center;
  margin-bottom: 5px;
}
.nav-justified > .dropdown .dropdown-menu {
  top: auto;
  left: auto;
}
@media (min-width: 768px) {
  .nav-justified > li {
    display: table-cell;
    width: 1%;
  }
  .nav-justified > li > a {
    margin-bottom: 0;
  }
}
.nav-tabs-justified {
  border-bottom: 0;
}
.nav-tabs-justified > li > a {
  margin-right: 0;
  border-radius: 2px;
}
.nav-tabs-justified > .active > a,
.nav-tabs-justified > .active > a:hover,
.nav-tabs-justified > .active > a:focus {
  border: 1px solid #ddd;
}
@media (min-width: 768px) {
  .nav-tabs-justified > li > a {
    border-bottom: 1px solid #ddd;
    border-radius: 2px 2px 0 0;
  }
  .nav-tabs-justified > .active > a,
  .nav-tabs-justified > .active > a:hover,
  .nav-tabs-justified > .active > a:focus {
    border-bottom-color: #fff;
  }
}
.tab-content > .tab-pane {
  display: none;
}
.tab-content > .active {
  display: block;
}
.nav-tabs .dropdown-menu {
  margin-top: -1px;
  border-top-right-radius: 0;
  border-top-left-radius: 0;
}
.navbar {
  position: relative;
  min-height: 30px;
  margin-bottom: 18px;
  border: 1px solid transparent;
}
@media (min-width: 541px) {
  .navbar {
    border-radius: 2px;
  }
}
@media (min-width: 541px) {
  .navbar-header {
    float: left;
  }
}
.navbar-collapse {
  overflow-x: visible;
  padding-right: 0px;
  padding-left: 0px;
  border-top: 1px solid transparent;
  box-shadow: inset 0 1px 0 rgba(255, 255, 255, 0.1);
  -webkit-overflow-scrolling: touch;
}
.navbar-collapse.in {
  overflow-y: auto;
}
@media (min-width: 541px) {
  .navbar-collapse {
    width: auto;
    border-top: 0;
    box-shadow: none;
  }
  .navbar-collapse.collapse {
    display: block !important;
    height: auto !important;
    padding-bottom: 0;
    overflow: visible !important;
  }
  .navbar-collapse.in {
    overflow-y: visible;
  }
  .navbar-fixed-top .navbar-collapse,
  .navbar-static-top .navbar-collapse,
  .navbar-fixed-bottom .navbar-collapse {
    padding-left: 0;
    padding-right: 0;
  }
}
.navbar-fixed-top .navbar-collapse,
.navbar-fixed-bottom .navbar-collapse {
  max-height: 340px;
}
@media (max-device-width: 540px) and (orientation: landscape) {
  .navbar-fixed-top .navbar-collapse,
  .navbar-fixed-bottom .navbar-collapse {
    max-height: 200px;
  }
}
.container > .navbar-header,
.container-fluid > .navbar-header,
.container > .navbar-collapse,
.container-fluid > .navbar-collapse {
  margin-right: 0px;
  margin-left: 0px;
}
@media (min-width: 541px) {
  .container > .navbar-header,
  .container-fluid > .navbar-header,
  .container > .navbar-collapse,
  .container-fluid > .navbar-collapse {
    margin-right: 0;
    margin-left: 0;
  }
}
.navbar-static-top {
  z-index: 1000;
  border-width: 0 0 1px;
}
@media (min-width: 541px) {
  .navbar-static-top {
    border-radius: 0;
  }
}
.navbar-fixed-top,
.navbar-fixed-bottom {
  position: fixed;
  right: 0;
  left: 0;
  z-index: 1030;
}
@media (min-width: 541px) {
  .navbar-fixed-top,
  .navbar-fixed-bottom {
    border-radius: 0;
  }
}
.navbar-fixed-top {
  top: 0;
  border-width: 0 0 1px;
}
.navbar-fixed-bottom {
  bottom: 0;
  margin-bottom: 0;
  border-width: 1px 0 0;
}
.navbar-brand {
  float: left;
  padding: 6px 0px;
  font-size: 17px;
  line-height: 18px;
  height: 30px;
}
.navbar-brand:hover,
.navbar-brand:focus {
  text-decoration: none;
}
.navbar-brand > img {
  display: block;
}
@media (min-width: 541px) {
  .navbar > .container .navbar-brand,
  .navbar > .container-fluid .navbar-brand {
    margin-left: 0px;
  }
}
.navbar-toggle {
  position: relative;
  float: right;
  margin-right: 0px;
  padding: 9px 10px;
  margin-top: -2px;
  margin-bottom: -2px;
  background-color: transparent;
  background-image: none;
  border: 1px solid transparent;
  border-radius: 2px;
}
.navbar-toggle:focus {
  outline: 0;
}
.navbar-toggle .icon-bar {
  display: block;
  width: 22px;
  height: 2px;
  border-radius: 1px;
}
.navbar-toggle .icon-bar + .icon-bar {
  margin-top: 4px;
}
@media (min-width: 541px) {
  .navbar-toggle {
    display: none;
  }
}
.navbar-nav {
  margin: 3px 0px;
}
.navbar-nav > li > a {
  padding-top: 10px;
  padding-bottom: 10px;
  line-height: 18px;
}
@media (max-width: 540px) {
  .navbar-nav .open .dropdown-menu {
    position: static;
    float: none;
    width: auto;
    margin-top: 0;
    background-color: transparent;
    border: 0;
    box-shadow: none;
  }
  .navbar-nav .open .dropdown-menu > li > a,
  .navbar-nav .open .dropdown-menu .dropdown-header {
    padding: 5px 15px 5px 25px;
  }
  .navbar-nav .open .dropdown-menu > li > a {
    line-height: 18px;
  }
  .navbar-nav .open .dropdown-menu > li > a:hover,
  .navbar-nav .open .dropdown-menu > li > a:focus {
    background-image: none;
  }
}
@media (min-width: 541px) {
  .navbar-nav {
    float: left;
    margin: 0;
  }
  .navbar-nav > li {
    float: left;
  }
  .navbar-nav > li > a {
    padding-top: 6px;
    padding-bottom: 6px;
  }
}
.navbar-form {
  margin-left: 0px;
  margin-right: 0px;
  padding: 10px 0px;
  border-top: 1px solid transparent;
  border-bottom: 1px solid transparent;
  -webkit-box-shadow: inset 0 1px 0 rgba(255, 255, 255, 0.1), 0 1px 0 rgba(255, 255, 255, 0.1);
  box-shadow: inset 0 1px 0 rgba(255, 255, 255, 0.1), 0 1px 0 rgba(255, 255, 255, 0.1);
  margin-top: -1px;
  margin-bottom: -1px;
}
@media (min-width: 768px) {
  .navbar-form .form-group {
    display: inline-block;
    margin-bottom: 0;
    vertical-align: middle;
  }
  .navbar-form .form-control {
    display: inline-block;
    width: auto;
    vertical-align: middle;
  }
  .navbar-form .form-control-static {
    display: inline-block;
  }
  .navbar-form .input-group {
    display: inline-table;
    vertical-align: middle;
  }
  .navbar-form .input-group .input-group-addon,
  .navbar-form .input-group .input-group-btn,
  .navbar-form .input-group .form-control {
    width: auto;
  }
  .navbar-form .input-group > .form-control {
    width: 100%;
  }
  .navbar-form .control-label {
    margin-bottom: 0;
    vertical-align: middle;
  }
  .navbar-form .radio,
  .navbar-form .checkbox {
    display: inline-block;
    margin-top: 0;
    margin-bottom: 0;
    vertical-align: middle;
  }
  .navbar-form .radio label,
  .navbar-form .checkbox label {
    padding-left: 0;
  }
  .navbar-form .radio input[type="radio"],
  .navbar-form .checkbox input[type="checkbox"] {
    position: relative;
    margin-left: 0;
  }
  .navbar-form .has-feedback .form-control-feedback {
    top: 0;
  }
}
@media (max-width: 540px) {
  .navbar-form .form-group {
    margin-bottom: 5px;
  }
  .navbar-form .form-group:last-child {
    margin-bottom: 0;
  }
}
@media (min-width: 541px) {
  .navbar-form {
    width: auto;
    border: 0;
    margin-left: 0;
    margin-right: 0;
    padding-top: 0;
    padding-bottom: 0;
    -webkit-box-shadow: none;
    box-shadow: none;
  }
}
.navbar-nav > li > .dropdown-menu {
  margin-top: 0;
  border-top-right-radius: 0;
  border-top-left-radius: 0;
}
.navbar-fixed-bottom .navbar-nav > li > .dropdown-menu {
  margin-bottom: 0;
  border-top-right-radius: 2px;
  border-top-left-radius: 2px;
  border-bottom-right-radius: 0;
  border-bottom-left-radius: 0;
}
.navbar-btn {
  margin-top: -1px;
  margin-bottom: -1px;
}
.navbar-btn.btn-sm {
  margin-top: 0px;
  margin-bottom: 0px;
}
.navbar-btn.btn-xs {
  margin-top: 4px;
  margin-bottom: 4px;
}
.navbar-text {
  margin-top: 6px;
  margin-bottom: 6px;
}
@media (min-width: 541px) {
  .navbar-text {
    float: left;
    margin-left: 0px;
    margin-right: 0px;
  }
}
@media (min-width: 541px) {
  .navbar-left {
    float: left !important;
    float: left;
  }
  .navbar-right {
    float: right !important;
    float: right;
    margin-right: 0px;
  }
  .navbar-right ~ .navbar-right {
    margin-right: 0;
  }
}
.navbar-default {
  background-color: #f8f8f8;
  border-color: #e7e7e7;
}
.navbar-default .navbar-brand {
  color: #777;
}
.navbar-default .navbar-brand:hover,
.navbar-default .navbar-brand:focus {
  color: #5e5e5e;
  background-color: transparent;
}
.navbar-default .navbar-text {
  color: #777;
}
.navbar-default .navbar-nav > li > a {
  color: #777;
}
.navbar-default .navbar-nav > li > a:hover,
.navbar-default .navbar-nav > li > a:focus {
  color: #333;
  background-color: transparent;
}
.navbar-default .navbar-nav > .active > a,
.navbar-default .navbar-nav > .active > a:hover,
.navbar-default .navbar-nav > .active > a:focus {
  color: #555;
  background-color: #e7e7e7;
}
.navbar-default .navbar-nav > .disabled > a,
.navbar-default .navbar-nav > .disabled > a:hover,
.navbar-default .navbar-nav > .disabled > a:focus {
  color: #ccc;
  background-color: transparent;
}
.navbar-default .navbar-toggle {
  border-color: #ddd;
}
.navbar-default .navbar-toggle:hover,
.navbar-default .navbar-toggle:focus {
  background-color: #ddd;
}
.navbar-default .navbar-toggle .icon-bar {
  background-color: #888;
}
.navbar-default .navbar-collapse,
.navbar-default .navbar-form {
  border-color: #e7e7e7;
}
.navbar-default .navbar-nav > .open > a,
.navbar-default .navbar-nav > .open > a:hover,
.navbar-default .navbar-nav > .open > a:focus {
  background-color: #e7e7e7;
  color: #555;
}
@media (max-width: 540px) {
  .navbar-default .navbar-nav .open .dropdown-menu > li > a {
    color: #777;
  }
  .navbar-default .navbar-nav .open .dropdown-menu > li > a:hover,
  .navbar-default .navbar-nav .open .dropdown-menu > li > a:focus {
    color: #333;
    background-color: transparent;
  }
  .navbar-default .navbar-nav .open .dropdown-menu > .active > a,
  .navbar-default .navbar-nav .open .dropdown-menu > .active > a:hover,
  .navbar-default .navbar-nav .open .dropdown-menu > .active > a:focus {
    color: #555;
    background-color: #e7e7e7;
  }
  .navbar-default .navbar-nav .open .dropdown-menu > .disabled > a,
  .navbar-default .navbar-nav .open .dropdown-menu > .disabled > a:hover,
  .navbar-default .navbar-nav .open .dropdown-menu > .disabled > a:focus {
    color: #ccc;
    background-color: transparent;
  }
}
.navbar-default .navbar-link {
  color: #777;
}
.navbar-default .navbar-link:hover {
  color: #333;
}
.navbar-default .btn-link {
  color: #777;
}
.navbar-default .btn-link:hover,
.navbar-default .btn-link:focus {
  color: #333;
}
.navbar-default .btn-link[disabled]:hover,
fieldset[disabled] .navbar-default .btn-link:hover,
.navbar-default .btn-link[disabled]:focus,
fieldset[disabled] .navbar-default .btn-link:focus {
  color: #ccc;
}
.navbar-inverse {
  background-color: #222;
  border-color: #080808;
}
.navbar-inverse .navbar-brand {
  color: #9d9d9d;
}
.navbar-inverse .navbar-brand:hover,
.navbar-inverse .navbar-brand:focus {
  color: #fff;
  background-color: transparent;
}
.navbar-inverse .navbar-text {
  color: #9d9d9d;
}
.navbar-inverse .navbar-nav > li > a {
  color: #9d9d9d;
}
.navbar-inverse .navbar-nav > li > a:hover,
.navbar-inverse .navbar-nav > li > a:focus {
  color: #fff;
  background-color: transparent;
}
.navbar-inverse .navbar-nav > .active > a,
.navbar-inverse .navbar-nav > .active > a:hover,
.navbar-inverse .navbar-nav > .active > a:focus {
  color: #fff;
  background-color: #080808;
}
.navbar-inverse .navbar-nav > .disabled > a,
.navbar-inverse .navbar-nav > .disabled > a:hover,
.navbar-inverse .navbar-nav > .disabled > a:focus {
  color: #444;
  background-color: transparent;
}
.navbar-inverse .navbar-toggle {
  border-color: #333;
}
.navbar-inverse .navbar-toggle:hover,
.navbar-inverse .navbar-toggle:focus {
  background-color: #333;
}
.navbar-inverse .navbar-toggle .icon-bar {
  background-color: #fff;
}
.navbar-inverse .navbar-collapse,
.navbar-inverse .navbar-form {
  border-color: #101010;
}
.navbar-inverse .navbar-nav > .open > a,
.navbar-inverse .navbar-nav > .open > a:hover,
.navbar-inverse .navbar-nav > .open > a:focus {
  background-color: #080808;
  color: #fff;
}
@media (max-width: 540px) {
  .navbar-inverse .navbar-nav .open .dropdown-menu > .dropdown-header {
    border-color: #080808;
  }
  .navbar-inverse .navbar-nav .open .dropdown-menu .divider {
    background-color: #080808;
  }
  .navbar-inverse .navbar-nav .open .dropdown-menu > li > a {
    color: #9d9d9d;
  }
  .navbar-inverse .navbar-nav .open .dropdown-menu > li > a:hover,
  .navbar-inverse .navbar-nav .open .dropdown-menu > li > a:focus {
    color: #fff;
    background-color: transparent;
  }
  .navbar-inverse .navbar-nav .open .dropdown-menu > .active > a,
  .navbar-inverse .navbar-nav .open .dropdown-menu > .active > a:hover,
  .navbar-inverse .navbar-nav .open .dropdown-menu > .active > a:focus {
    color: #fff;
    background-color: #080808;
  }
  .navbar-inverse .navbar-nav .open .dropdown-menu > .disabled > a,
  .navbar-inverse .navbar-nav .open .dropdown-menu > .disabled > a:hover,
  .navbar-inverse .navbar-nav .open .dropdown-menu > .disabled > a:focus {
    color: #444;
    background-color: transparent;
  }
}
.navbar-inverse .navbar-link {
  color: #9d9d9d;
}
.navbar-inverse .navbar-link:hover {
  color: #fff;
}
.navbar-inverse .btn-link {
  color: #9d9d9d;
}
.navbar-inverse .btn-link:hover,
.navbar-inverse .btn-link:focus {
  color: #fff;
}
.navbar-inverse .btn-link[disabled]:hover,
fieldset[disabled] .navbar-inverse .btn-link:hover,
.navbar-inverse .btn-link[disabled]:focus,
fieldset[disabled] .navbar-inverse .btn-link:focus {
  color: #444;
}
.breadcrumb {
  padding: 8px 15px;
  margin-bottom: 18px;
  list-style: none;
  background-color: #f5f5f5;
  border-radius: 2px;
}
.breadcrumb > li {
  display: inline-block;
}
.breadcrumb > li + li:before {
  content: "/\00a0";
  padding: 0 5px;
  color: #5e5e5e;
}
.breadcrumb > .active {
  color: #777777;
}
.pagination {
  display: inline-block;
  padding-left: 0;
  margin: 18px 0;
  border-radius: 2px;
}
.pagination > li {
  display: inline;
}
.pagination > li > a,
.pagination > li > span {
  position: relative;
  float: left;
  padding: 6px 12px;
  line-height: 1.42857143;
  text-decoration: none;
  color: #337ab7;
  background-color: #fff;
  border: 1px solid #ddd;
  margin-left: -1px;
}
.pagination > li:first-child > a,
.pagination > li:first-child > span {
  margin-left: 0;
  border-bottom-left-radius: 2px;
  border-top-left-radius: 2px;
}
.pagination > li:last-child > a,
.pagination > li:last-child > span {
  border-bottom-right-radius: 2px;
  border-top-right-radius: 2px;
}
.pagination > li > a:hover,
.pagination > li > span:hover,
.pagination > li > a:focus,
.pagination > li > span:focus {
  z-index: 2;
  color: #23527c;
  background-color: #eeeeee;
  border-color: #ddd;
}
.pagination > .active > a,
.pagination > .active > span,
.pagination > .active > a:hover,
.pagination > .active > span:hover,
.pagination > .active > a:focus,
.pagination > .active > span:focus {
  z-index: 3;
  color: #fff;
  background-color: #337ab7;
  border-color: #337ab7;
  cursor: default;
}
.pagination > .disabled > span,
.pagination > .disabled > span:hover,
.pagination > .disabled > span:focus,
.pagination > .disabled > a,
.pagination > .disabled > a:hover,
.pagination > .disabled > a:focus {
  color: #777777;
  background-color: #fff;
  border-color: #ddd;
  cursor: not-allowed;
}
.pagination-lg > li > a,
.pagination-lg > li > span {
  padding: 10px 16px;
  font-size: 17px;
  line-height: 1.3333333;
}
.pagination-lg > li:first-child > a,
.pagination-lg > li:first-child > span {
  border-bottom-left-radius: 3px;
  border-top-left-radius: 3px;
}
.pagination-lg > li:last-child > a,
.pagination-lg > li:last-child > span {
  border-bottom-right-radius: 3px;
  border-top-right-radius: 3px;
}
.pagination-sm > li > a,
.pagination-sm > li > span {
  padding: 5px 10px;
  font-size: 12px;
  line-height: 1.5;
}
.pagination-sm > li:first-child > a,
.pagination-sm > li:first-child > span {
  border-bottom-left-radius: 1px;
  border-top-left-radius: 1px;
}
.pagination-sm > li:last-child > a,
.pagination-sm > li:last-child > span {
  border-bottom-right-radius: 1px;
  border-top-right-radius: 1px;
}
.pager {
  padding-left: 0;
  margin: 18px 0;
  list-style: none;
  text-align: center;
}
.pager li {
  display: inline;
}
.pager li > a,
.pager li > span {
  display: inline-block;
  padding: 5px 14px;
  background-color: #fff;
  border: 1px solid #ddd;
  border-radius: 15px;
}
.pager li > a:hover,
.pager li > a:focus {
  text-decoration: none;
  background-color: #eeeeee;
}
.pager .next > a,
.pager .next > span {
  float: right;
}
.pager .previous > a,
.pager .previous > span {
  float: left;
}
.pager .disabled > a,
.pager .disabled > a:hover,
.pager .disabled > a:focus,
.pager .disabled > span {
  color: #777777;
  background-color: #fff;
  cursor: not-allowed;
}
.label {
  display: inline;
  padding: .2em .6em .3em;
  font-size: 75%;
  font-weight: bold;
  line-height: 1;
  color: #fff;
  text-align: center;
  white-space: nowrap;
  vertical-align: baseline;
  border-radius: .25em;
}
a.label:hover,
a.label:focus {
  color: #fff;
  text-decoration: none;
  cursor: pointer;
}
.label:empty {
  display: none;
}
.btn .label {
  position: relative;
  top: -1px;
}
.label-default {
  background-color: #777777;
}
.label-default[href]:hover,
.label-default[href]:focus {
  background-color: #5e5e5e;
}
.label-primary {
  background-color: #337ab7;
}
.label-primary[href]:hover,
.label-primary[href]:focus {
  background-color: #286090;
}
.label-success {
  background-color: #5cb85c;
}
.label-success[href]:hover,
.label-success[href]:focus {
  background-color: #449d44;
}
.label-info {
  background-color: #5bc0de;
}
.label-info[href]:hover,
.label-info[href]:focus {
  background-color: #31b0d5;
}
.label-warning {
  background-color: #f0ad4e;
}
.label-warning[href]:hover,
.label-warning[href]:focus {
  background-color: #ec971f;
}
.label-danger {
  background-color: #d9534f;
}
.label-danger[href]:hover,
.label-danger[href]:focus {
  background-color: #c9302c;
}
.badge {
  display: inline-block;
  min-width: 10px;
  padding: 3px 7px;
  font-size: 12px;
  font-weight: bold;
  color: #fff;
  line-height: 1;
  vertical-align: middle;
  white-space: nowrap;
  text-align: center;
  background-color: #777777;
  border-radius: 10px;
}
.badge:empty {
  display: none;
}
.btn .badge {
  position: relative;
  top: -1px;
}
.btn-xs .badge,
.btn-group-xs > .btn .badge {
  top: 0;
  padding: 1px 5px;
}
a.badge:hover,
a.badge:focus {
  color: #fff;
  text-decoration: none;
  cursor: pointer;
}
.list-group-item.active > .badge,
.nav-pills > .active > a > .badge {
  color: #337ab7;
  background-color: #fff;
}
.list-group-item > .badge {
  float: right;
}
.list-group-item > .badge + .badge {
  margin-right: 5px;
}
.nav-pills > li > a > .badge {
  margin-left: 3px;
}
.jumbotron {
  padding-top: 30px;
  padding-bottom: 30px;
  margin-bottom: 30px;
  color: inherit;
  background-color: #eeeeee;
}
.jumbotron h1,
.jumbotron .h1 {
  color: inherit;
}
.jumbotron p {
  margin-bottom: 15px;
  font-size: 20px;
  font-weight: 200;
}
.jumbotron > hr {
  border-top-color: #d5d5d5;
}
.container .jumbotron,
.container-fluid .jumbotron {
  border-radius: 3px;
  padding-left: 0px;
  padding-right: 0px;
}
.jumbotron .container {
  max-width: 100%;
}
@media screen and (min-width: 768px) {
  .jumbotron {
    padding-top: 48px;
    padding-bottom: 48px;
  }
  .container .jumbotron,
  .container-fluid .jumbotron {
    padding-left: 60px;
    padding-right: 60px;
  }
  .jumbotron h1,
  .jumbotron .h1 {
    font-size: 59px;
  }
}
.thumbnail {
  display: block;
  padding: 4px;
  margin-bottom: 18px;
  line-height: 1.42857143;
  background-color: #fff;
  border: 1px solid #ddd;
  border-radius: 2px;
  -webkit-transition: border 0.2s ease-in-out;
  -o-transition: border 0.2s ease-in-out;
  transition: border 0.2s ease-in-out;
}
.thumbnail > img,
.thumbnail a > img {
  margin-left: auto;
  margin-right: auto;
}
a.thumbnail:hover,
a.thumbnail:focus,
a.thumbnail.active {
  border-color: #337ab7;
}
.thumbnail .caption {
  padding: 9px;
  color: #000;
}
.alert {
  padding: 15px;
  margin-bottom: 18px;
  border: 1px solid transparent;
  border-radius: 2px;
}
.alert h4 {
  margin-top: 0;
  color: inherit;
}
.alert .alert-link {
  font-weight: bold;
}
.alert > p,
.alert > ul {
  margin-bottom: 0;
}
.alert > p + p {
  margin-top: 5px;
}
.alert-dismissable,
.alert-dismissible {
  padding-right: 35px;
}
.alert-dismissable .close,
.alert-dismissible .close {
  position: relative;
  top: -2px;
  right: -21px;
  color: inherit;
}
.alert-success {
  background-color: #dff0d8;
  border-color: #d6e9c6;
  color: #3c763d;
}
.alert-success hr {
  border-top-color: #c9e2b3;
}
.alert-success .alert-link {
  color: #2b542c;
}
.alert-info {
  background-color: #d9edf7;
  border-color: #bce8f1;
  color: #31708f;
}
.alert-info hr {
  border-top-color: #a6e1ec;
}
.alert-info .alert-link {
  color: #245269;
}
.alert-warning {
  background-color: #fcf8e3;
  border-color: #faebcc;
  color: #8a6d3b;
}
.alert-warning hr {
  border-top-color: #f7e1b5;
}
.alert-warning .alert-link {
  color: #66512c;
}
.alert-danger {
  background-color: #f2dede;
  border-color: #ebccd1;
  color: #a94442;
}
.alert-danger hr {
  border-top-color: #e4b9c0;
}
.alert-danger .alert-link {
  color: #843534;
}
@-webkit-keyframes progress-bar-stripes {
  from {
    background-position: 40px 0;
  }
  to {
    background-position: 0 0;
  }
}
@keyframes progress-bar-stripes {
  from {
    background-position: 40px 0;
  }
  to {
    background-position: 0 0;
  }
}
.progress {
  overflow: hidden;
  height: 18px;
  margin-bottom: 18px;
  background-color: #f5f5f5;
  border-radius: 2px;
  -webkit-box-shadow: inset 0 1px 2px rgba(0, 0, 0, 0.1);
  box-shadow: inset 0 1px 2px rgba(0, 0, 0, 0.1);
}
.progress-bar {
  float: left;
  width: 0%;
  height: 100%;
  font-size: 12px;
  line-height: 18px;
  color: #fff;
  text-align: center;
  background-color: #337ab7;
  -webkit-box-shadow: inset 0 -1px 0 rgba(0, 0, 0, 0.15);
  box-shadow: inset 0 -1px 0 rgba(0, 0, 0, 0.15);
  -webkit-transition: width 0.6s ease;
  -o-transition: width 0.6s ease;
  transition: width 0.6s ease;
}
.progress-striped .progress-bar,
.progress-bar-striped {
  background-image: -webkit-linear-gradient(45deg, rgba(255, 255, 255, 0.15) 25%, transparent 25%, transparent 50%, rgba(255, 255, 255, 0.15) 50%, rgba(255, 255, 255, 0.15) 75%, transparent 75%, transparent);
  background-image: -o-linear-gradient(45deg, rgba(255, 255, 255, 0.15) 25%, transparent 25%, transparent 50%, rgba(255, 255, 255, 0.15) 50%, rgba(255, 255, 255, 0.15) 75%, transparent 75%, transparent);
  background-image: linear-gradient(45deg, rgba(255, 255, 255, 0.15) 25%, transparent 25%, transparent 50%, rgba(255, 255, 255, 0.15) 50%, rgba(255, 255, 255, 0.15) 75%, transparent 75%, transparent);
  background-size: 40px 40px;
}
.progress.active .progress-bar,
.progress-bar.active {
  -webkit-animation: progress-bar-stripes 2s linear infinite;
  -o-animation: progress-bar-stripes 2s linear infinite;
  animation: progress-bar-stripes 2s linear infinite;
}
.progress-bar-success {
  background-color: #5cb85c;
}
.progress-striped .progress-bar-success {
  background-image: -webkit-linear-gradient(45deg, rgba(255, 255, 255, 0.15) 25%, transparent 25%, transparent 50%, rgba(255, 255, 255, 0.15) 50%, rgba(255, 255, 255, 0.15) 75%, transparent 75%, transparent);
  background-image: -o-linear-gradient(45deg, rgba(255, 255, 255, 0.15) 25%, transparent 25%, transparent 50%, rgba(255, 255, 255, 0.15) 50%, rgba(255, 255, 255, 0.15) 75%, transparent 75%, transparent);
  background-image: linear-gradient(45deg, rgba(255, 255, 255, 0.15) 25%, transparent 25%, transparent 50%, rgba(255, 255, 255, 0.15) 50%, rgba(255, 255, 255, 0.15) 75%, transparent 75%, transparent);
}
.progress-bar-info {
  background-color: #5bc0de;
}
.progress-striped .progress-bar-info {
  background-image: -webkit-linear-gradient(45deg, rgba(255, 255, 255, 0.15) 25%, transparent 25%, transparent 50%, rgba(255, 255, 255, 0.15) 50%, rgba(255, 255, 255, 0.15) 75%, transparent 75%, transparent);
  background-image: -o-linear-gradient(45deg, rgba(255, 255, 255, 0.15) 25%, transparent 25%, transparent 50%, rgba(255, 255, 255, 0.15) 50%, rgba(255, 255, 255, 0.15) 75%, transparent 75%, transparent);
  background-image: linear-gradient(45deg, rgba(255, 255, 255, 0.15) 25%, transparent 25%, transparent 50%, rgba(255, 255, 255, 0.15) 50%, rgba(255, 255, 255, 0.15) 75%, transparent 75%, transparent);
}
.progress-bar-warning {
  background-color: #f0ad4e;
}
.progress-striped .progress-bar-warning {
  background-image: -webkit-linear-gradient(45deg, rgba(255, 255, 255, 0.15) 25%, transparent 25%, transparent 50%, rgba(255, 255, 255, 0.15) 50%, rgba(255, 255, 255, 0.15) 75%, transparent 75%, transparent);
  background-image: -o-linear-gradient(45deg, rgba(255, 255, 255, 0.15) 25%, transparent 25%, transparent 50%, rgba(255, 255, 255, 0.15) 50%, rgba(255, 255, 255, 0.15) 75%, transparent 75%, transparent);
  background-image: linear-gradient(45deg, rgba(255, 255, 255, 0.15) 25%, transparent 25%, transparent 50%, rgba(255, 255, 255, 0.15) 50%, rgba(255, 255, 255, 0.15) 75%, transparent 75%, transparent);
}
.progress-bar-danger {
  background-color: #d9534f;
}
.progress-striped .progress-bar-danger {
  background-image: -webkit-linear-gradient(45deg, rgba(255, 255, 255, 0.15) 25%, transparent 25%, transparent 50%, rgba(255, 255, 255, 0.15) 50%, rgba(255, 255, 255, 0.15) 75%, transparent 75%, transparent);
  background-image: -o-linear-gradient(45deg, rgba(255, 255, 255, 0.15) 25%, transparent 25%, transparent 50%, rgba(255, 255, 255, 0.15) 50%, rgba(255, 255, 255, 0.15) 75%, transparent 75%, transparent);
  background-image: linear-gradient(45deg, rgba(255, 255, 255, 0.15) 25%, transparent 25%, transparent 50%, rgba(255, 255, 255, 0.15) 50%, rgba(255, 255, 255, 0.15) 75%, transparent 75%, transparent);
}
.media {
  margin-top: 15px;
}
.media:first-child {
  margin-top: 0;
}
.media,
.media-body {
  zoom: 1;
  overflow: hidden;
}
.media-body {
  width: 10000px;
}
.media-object {
  display: block;
}
.media-object.img-thumbnail {
  max-width: none;
}
.media-right,
.media > .pull-right {
  padding-left: 10px;
}
.media-left,
.media > .pull-left {
  padding-right: 10px;
}
.media-left,
.media-right,
.media-body {
  display: table-cell;
  vertical-align: top;
}
.media-middle {
  vertical-align: middle;
}
.media-bottom {
  vertical-align: bottom;
}
.media-heading {
  margin-top: 0;
  margin-bottom: 5px;
}
.media-list {
  padding-left: 0;
  list-style: none;
}
.list-group {
  margin-bottom: 20px;
  padding-left: 0;
}
.list-group-item {
  position: relative;
  display: block;
  padding: 10px 15px;
  margin-bottom: -1px;
  background-color: #fff;
  border: 1px solid #ddd;
}
.list-group-item:first-child {
  border-top-right-radius: 2px;
  border-top-left-radius: 2px;
}
.list-group-item:last-child {
  margin-bottom: 0;
  border-bottom-right-radius: 2px;
  border-bottom-left-radius: 2px;
}
a.list-group-item,
button.list-group-item {
  color: #555;
}
a.list-group-item .list-group-item-heading,
button.list-group-item .list-group-item-heading {
  color: #333;
}
a.list-group-item:hover,
button.list-group-item:hover,
a.list-group-item:focus,
button.list-group-item:focus {
  text-decoration: none;
  color: #555;
  background-color: #f5f5f5;
}
button.list-group-item {
  width: 100%;
  text-align: left;
}
.list-group-item.disabled,
.list-group-item.disabled:hover,
.list-group-item.disabled:focus {
  background-color: #eeeeee;
  color: #777777;
  cursor: not-allowed;
}
.list-group-item.disabled .list-group-item-heading,
.list-group-item.disabled:hover .list-group-item-heading,
.list-group-item.disabled:focus .list-group-item-heading {
  color: inherit;
}
.list-group-item.disabled .list-group-item-text,
.list-group-item.disabled:hover .list-group-item-text,
.list-group-item.disabled:focus .list-group-item-text {
  color: #777777;
}
.list-group-item.active,
.list-group-item.active:hover,
.list-group-item.active:focus {
  z-index: 2;
  color: #fff;
  background-color: #337ab7;
  border-color: #337ab7;
}
.list-group-item.active .list-group-item-heading,
.list-group-item.active:hover .list-group-item-heading,
.list-group-item.active:focus .list-group-item-heading,
.list-group-item.active .list-group-item-heading > small,
.list-group-item.active:hover .list-group-item-heading > small,
.list-group-item.active:focus .list-group-item-heading > small,
.list-group-item.active .list-group-item-heading > .small,
.list-group-item.active:hover .list-group-item-heading > .small,
.list-group-item.active:focus .list-group-item-heading > .small {
  color: inherit;
}
.list-group-item.active .list-group-item-text,
.list-group-item.active:hover .list-group-item-text,
.list-group-item.active:focus .list-group-item-text {
  color: #c7ddef;
}
.list-group-item-success {
  color: #3c763d;
  background-color: #dff0d8;
}
a.list-group-item-success,
button.list-group-item-success {
  color: #3c763d;
}
a.list-group-item-success .list-group-item-heading,
button.list-group-item-success .list-group-item-heading {
  color: inherit;
}
a.list-group-item-success:hover,
button.list-group-item-success:hover,
a.list-group-item-success:focus,
button.list-group-item-success:focus {
  color: #3c763d;
  background-color: #d0e9c6;
}
a.list-group-item-success.active,
button.list-group-item-success.active,
a.list-group-item-success.active:hover,
button.list-group-item-success.active:hover,
a.list-group-item-success.active:focus,
button.list-group-item-success.active:focus {
  color: #fff;
  background-color: #3c763d;
  border-color: #3c763d;
}
.list-group-item-info {
  color: #31708f;
  background-color: #d9edf7;
}
a.list-group-item-info,
button.list-group-item-info {
  color: #31708f;
}
a.list-group-item-info .list-group-item-heading,
button.list-group-item-info .list-group-item-heading {
  color: inherit;
}
a.list-group-item-info:hover,
button.list-group-item-info:hover,
a.list-group-item-info:focus,
button.list-group-item-info:focus {
  color: #31708f;
  background-color: #c4e3f3;
}
a.list-group-item-info.active,
button.list-group-item-info.active,
a.list-group-item-info.active:hover,
button.list-group-item-info.active:hover,
a.list-group-item-info.active:focus,
button.list-group-item-info.active:focus {
  color: #fff;
  background-color: #31708f;
  border-color: #31708f;
}
.list-group-item-warning {
  color: #8a6d3b;
  background-color: #fcf8e3;
}
a.list-group-item-warning,
button.list-group-item-warning {
  color: #8a6d3b;
}
a.list-group-item-warning .list-group-item-heading,
button.list-group-item-warning .list-group-item-heading {
  color: inherit;
}
a.list-group-item-warning:hover,
button.list-group-item-warning:hover,
a.list-group-item-warning:focus,
button.list-group-item-warning:focus {
  color: #8a6d3b;
  background-color: #faf2cc;
}
a.list-group-item-warning.active,
button.list-group-item-warning.active,
a.list-group-item-warning.active:hover,
button.list-group-item-warning.active:hover,
a.list-group-item-warning.active:focus,
button.list-group-item-warning.active:focus {
  color: #fff;
  background-color: #8a6d3b;
  border-color: #8a6d3b;
}
.list-group-item-danger {
  color: #a94442;
  background-color: #f2dede;
}
a.list-group-item-danger,
button.list-group-item-danger {
  color: #a94442;
}
a.list-group-item-danger .list-group-item-heading,
button.list-group-item-danger .list-group-item-heading {
  color: inherit;
}
a.list-group-item-danger:hover,
button.list-group-item-danger:hover,
a.list-group-item-danger:focus,
button.list-group-item-danger:focus {
  color: #a94442;
  background-color: #ebcccc;
}
a.list-group-item-danger.active,
button.list-group-item-danger.active,
a.list-group-item-danger.active:hover,
button.list-group-item-danger.active:hover,
a.list-group-item-danger.active:focus,
button.list-group-item-danger.active:focus {
  color: #fff;
  background-color: #a94442;
  border-color: #a94442;
}
.list-group-item-heading {
  margin-top: 0;
  margin-bottom: 5px;
}
.list-group-item-text {
  margin-bottom: 0;
  line-height: 1.3;
}
.panel {
  margin-bottom: 18px;
  background-color: #fff;
  border: 1px solid transparent;
  border-radius: 2px;
  -webkit-box-shadow: 0 1px 1px rgba(0, 0, 0, 0.05);
  box-shadow: 0 1px 1px rgba(0, 0, 0, 0.05);
}
.panel-body {
  padding: 15px;
}
.panel-heading {
  padding: 10px 15px;
  border-bottom: 1px solid transparent;
  border-top-right-radius: 1px;
  border-top-left-radius: 1px;
}
.panel-heading > .dropdown .dropdown-toggle {
  color: inherit;
}
.panel-title {
  margin-top: 0;
  margin-bottom: 0;
  font-size: 15px;
  color: inherit;
}
.panel-title > a,
.panel-title > small,
.panel-title > .small,
.panel-title > small > a,
.panel-title > .small > a {
  color: inherit;
}
.panel-footer {
  padding: 10px 15px;
  background-color: #f5f5f5;
  border-top: 1px solid #ddd;
  border-bottom-right-radius: 1px;
  border-bottom-left-radius: 1px;
}
.panel > .list-group,
.panel > .panel-collapse > .list-group {
  margin-bottom: 0;
}
.panel > .list-group .list-group-item,
.panel > .panel-collapse > .list-group .list-group-item {
  border-width: 1px 0;
  border-radius: 0;
}
.panel > .list-group:first-child .list-group-item:first-child,
.panel > .panel-collapse > .list-group:first-child .list-group-item:first-child {
  border-top: 0;
  border-top-right-radius: 1px;
  border-top-left-radius: 1px;
}
.panel > .list-group:last-child .list-group-item:last-child,
.panel > .panel-collapse > .list-group:last-child .list-group-item:last-child {
  border-bottom: 0;
  border-bottom-right-radius: 1px;
  border-bottom-left-radius: 1px;
}
.panel > .panel-heading + .panel-collapse > .list-group .list-group-item:first-child {
  border-top-right-radius: 0;
  border-top-left-radius: 0;
}
.panel-heading + .list-group .list-group-item:first-child {
  border-top-width: 0;
}
.list-group + .panel-footer {
  border-top-width: 0;
}
.panel > .table,
.panel > .table-responsive > .table,
.panel > .panel-collapse > .table {
  margin-bottom: 0;
}
.panel > .table caption,
.panel > .table-responsive > .table caption,
.panel > .panel-collapse > .table caption {
  padding-left: 15px;
  padding-right: 15px;
}
.panel > .table:first-child,
.panel > .table-responsive:first-child > .table:first-child {
  border-top-right-radius: 1px;
  border-top-left-radius: 1px;
}
.panel > .table:first-child > thead:first-child > tr:first-child,
.panel > .table-responsive:first-child > .table:first-child > thead:first-child > tr:first-child,
.panel > .table:first-child > tbody:first-child > tr:first-child,
.panel > .table-responsive:first-child > .table:first-child > tbody:first-child > tr:first-child {
  border-top-left-radius: 1px;
  border-top-right-radius: 1px;
}
.panel > .table:first-child > thead:first-child > tr:first-child td:first-child,
.panel > .table-responsive:first-child > .table:first-child > thead:first-child > tr:first-child td:first-child,
.panel > .table:first-child > tbody:first-child > tr:first-child td:first-child,
.panel > .table-responsive:first-child > .table:first-child > tbody:first-child > tr:first-child td:first-child,
.panel > .table:first-child > thead:first-child > tr:first-child th:first-child,
.panel > .table-responsive:first-child > .table:first-child > thead:first-child > tr:first-child th:first-child,
.panel > .table:first-child > tbody:first-child > tr:first-child th:first-child,
.panel > .table-responsive:first-child > .table:first-child > tbody:first-child > tr:first-child th:first-child {
  border-top-left-radius: 1px;
}
.panel > .table:first-child > thead:first-child > tr:first-child td:last-child,
.panel > .table-responsive:first-child > .table:first-child > thead:first-child > tr:first-child td:last-child,
.panel > .table:first-child > tbody:first-child > tr:first-child td:last-child,
.panel > .table-responsive:first-child > .table:first-child > tbody:first-child > tr:first-child td:last-child,
.panel > .table:first-child > thead:first-child > tr:first-child th:last-child,
.panel > .table-responsive:first-child > .table:first-child > thead:first-child > tr:first-child th:last-child,
.panel > .table:first-child > tbody:first-child > tr:first-child th:last-child,
.panel > .table-responsive:first-child > .table:first-child > tbody:first-child > tr:first-child th:last-child {
  border-top-right-radius: 1px;
}
.panel > .table:last-child,
.panel > .table-responsive:last-child > .table:last-child {
  border-bottom-right-radius: 1px;
  border-bottom-left-radius: 1px;
}
.panel > .table:last-child > tbody:last-child > tr:last-child,
.panel > .table-responsive:last-child > .table:last-child > tbody:last-child > tr:last-child,
.panel > .table:last-child > tfoot:last-child > tr:last-child,
.panel > .table-responsive:last-child > .table:last-child > tfoot:last-child > tr:last-child {
  border-bottom-left-radius: 1px;
  border-bottom-right-radius: 1px;
}
.panel > .table:last-child > tbody:last-child > tr:last-child td:first-child,
.panel > .table-responsive:last-child > .table:last-child > tbody:last-child > tr:last-child td:first-child,
.panel > .table:last-child > tfoot:last-child > tr:last-child td:first-child,
.panel > .table-responsive:last-child > .table:last-child > tfoot:last-child > tr:last-child td:first-child,
.panel > .table:last-child > tbody:last-child > tr:last-child th:first-child,
.panel > .table-responsive:last-child > .table:last-child > tbody:last-child > tr:last-child th:first-child,
.panel > .table:last-child > tfoot:last-child > tr:last-child th:first-child,
.panel > .table-responsive:last-child > .table:last-child > tfoot:last-child > tr:last-child th:first-child {
  border-bottom-left-radius: 1px;
}
.panel > .table:last-child > tbody:last-child > tr:last-child td:last-child,
.panel > .table-responsive:last-child > .table:last-child > tbody:last-child > tr:last-child td:last-child,
.panel > .table:last-child > tfoot:last-child > tr:last-child td:last-child,
.panel > .table-responsive:last-child > .table:last-child > tfoot:last-child > tr:last-child td:last-child,
.panel > .table:last-child > tbody:last-child > tr:last-child th:last-child,
.panel > .table-responsive:last-child > .table:last-child > tbody:last-child > tr:last-child th:last-child,
.panel > .table:last-child > tfoot:last-child > tr:last-child th:last-child,
.panel > .table-responsive:last-child > .table:last-child > tfoot:last-child > tr:last-child th:last-child {
  border-bottom-right-radius: 1px;
}
.panel > .panel-body + .table,
.panel > .panel-body + .table-responsive,
.panel > .table + .panel-body,
.panel > .table-responsive + .panel-body {
  border-top: 1px solid #ddd;
}
.panel > .table > tbody:first-child > tr:first-child th,
.panel > .table > tbody:first-child > tr:first-child td {
  border-top: 0;
}
.panel > .table-bordered,
.panel > .table-responsive > .table-bordered {
  border: 0;
}
.panel > .table-bordered > thead > tr > th:first-child,
.panel > .table-responsive > .table-bordered > thead > tr > th:first-child,
.panel > .table-bordered > tbody > tr > th:first-child,
.panel > .table-responsive > .table-bordered > tbody > tr > th:first-child,
.panel > .table-bordered > tfoot > tr > th:first-child,
.panel > .table-responsive > .table-bordered > tfoot > tr > th:first-child,
.panel > .table-bordered > thead > tr > td:first-child,
.panel > .table-responsive > .table-bordered > thead > tr > td:first-child,
.panel > .table-bordered > tbody > tr > td:first-child,
.panel > .table-responsive > .table-bordered > tbody > tr > td:first-child,
.panel > .table-bordered > tfoot > tr > td:first-child,
.panel > .table-responsive > .table-bordered > tfoot > tr > td:first-child {
  border-left: 0;
}
.panel > .table-bordered > thead > tr > th:last-child,
.panel > .table-responsive > .table-bordered > thead > tr > th:last-child,
.panel > .table-bordered > tbody > tr > th:last-child,
.panel > .table-responsive > .table-bordered > tbody > tr > th:last-child,
.panel > .table-bordered > tfoot > tr > th:last-child,
.panel > .table-responsive > .table-bordered > tfoot > tr > th:last-child,
.panel > .table-bordered > thead > tr > td:last-child,
.panel > .table-responsive > .table-bordered > thead > tr > td:last-child,
.panel > .table-bordered > tbody > tr > td:last-child,
.panel > .table-responsive > .table-bordered > tbody > tr > td:last-child,
.panel > .table-bordered > tfoot > tr > td:last-child,
.panel > .table-responsive > .table-bordered > tfoot > tr > td:last-child {
  border-right: 0;
}
.panel > .table-bordered > thead > tr:first-child > td,
.panel > .table-responsive > .table-bordered > thead > tr:first-child > td,
.panel > .table-bordered > tbody > tr:first-child > td,
.panel > .table-responsive > .table-bordered > tbody > tr:first-child > td,
.panel > .table-bordered > thead > tr:first-child > th,
.panel > .table-responsive > .table-bordered > thead > tr:first-child > th,
.panel > .table-bordered > tbody > tr:first-child > th,
.panel > .table-responsive > .table-bordered > tbody > tr:first-child > th {
  border-bottom: 0;
}
.panel > .table-bordered > tbody > tr:last-child > td,
.panel > .table-responsive > .table-bordered > tbody > tr:last-child > td,
.panel > .table-bordered > tfoot > tr:last-child > td,
.panel > .table-responsive > .table-bordered > tfoot > tr:last-child > td,
.panel > .table-bordered > tbody > tr:last-child > th,
.panel > .table-responsive > .table-bordered > tbody > tr:last-child > th,
.panel > .table-bordered > tfoot > tr:last-child > th,
.panel > .table-responsive > .table-bordered > tfoot > tr:last-child > th {
  border-bottom: 0;
}
.panel > .table-responsive {
  border: 0;
  margin-bottom: 0;
}
.panel-group {
  margin-bottom: 18px;
}
.panel-group .panel {
  margin-bottom: 0;
  border-radius: 2px;
}
.panel-group .panel + .panel {
  margin-top: 5px;
}
.panel-group .panel-heading {
  border-bottom: 0;
}
.panel-group .panel-heading + .panel-collapse > .panel-body,
.panel-group .panel-heading + .panel-collapse > .list-group {
  border-top: 1px solid #ddd;
}
.panel-group .panel-footer {
  border-top: 0;
}
.panel-group .panel-footer + .panel-collapse .panel-body {
  border-bottom: 1px solid #ddd;
}
.panel-default {
  border-color: #ddd;
}
.panel-default > .panel-heading {
  color: #333333;
  background-color: #f5f5f5;
  border-color: #ddd;
}
.panel-default > .panel-heading + .panel-collapse > .panel-body {
  border-top-color: #ddd;
}
.panel-default > .panel-heading .badge {
  color: #f5f5f5;
  background-color: #333333;
}
.panel-default > .panel-footer + .panel-collapse > .panel-body {
  border-bottom-color: #ddd;
}
.panel-primary {
  border-color: #337ab7;
}
.panel-primary > .panel-heading {
  color: #fff;
  background-color: #337ab7;
  border-color: #337ab7;
}
.panel-primary > .panel-heading + .panel-collapse > .panel-body {
  border-top-color: #337ab7;
}
.panel-primary > .panel-heading .badge {
  color: #337ab7;
  background-color: #fff;
}
.panel-primary > .panel-footer + .panel-collapse > .panel-body {
  border-bottom-color: #337ab7;
}
.panel-success {
  border-color: #d6e9c6;
}
.panel-success > .panel-heading {
  color: #3c763d;
  background-color: #dff0d8;
  border-color: #d6e9c6;
}
.panel-success > .panel-heading + .panel-collapse > .panel-body {
  border-top-color: #d6e9c6;
}
.panel-success > .panel-heading .badge {
  color: #dff0d8;
  background-color: #3c763d;
}
.panel-success > .panel-footer + .panel-collapse > .panel-body {
  border-bottom-color: #d6e9c6;
}
.panel-info {
  border-color: #bce8f1;
}
.panel-info > .panel-heading {
  color: #31708f;
  background-color: #d9edf7;
  border-color: #bce8f1;
}
.panel-info > .panel-heading + .panel-collapse > .panel-body {
  border-top-color: #bce8f1;
}
.panel-info > .panel-heading .badge {
  color: #d9edf7;
  background-color: #31708f;
}
.panel-info > .panel-footer + .panel-collapse > .panel-body {
  border-bottom-color: #bce8f1;
}
.panel-warning {
  border-color: #faebcc;
}
.panel-warning > .panel-heading {
  color: #8a6d3b;
  background-color: #fcf8e3;
  border-color: #faebcc;
}
.panel-warning > .panel-heading + .panel-collapse > .panel-body {
  border-top-color: #faebcc;
}
.panel-warning > .panel-heading .badge {
  color: #fcf8e3;
  background-color: #8a6d3b;
}
.panel-warning > .panel-footer + .panel-collapse > .panel-body {
  border-bottom-color: #faebcc;
}
.panel-danger {
  border-color: #ebccd1;
}
.panel-danger > .panel-heading {
  color: #a94442;
  background-color: #f2dede;
  border-color: #ebccd1;
}
.panel-danger > .panel-heading + .panel-collapse > .panel-body {
  border-top-color: #ebccd1;
}
.panel-danger > .panel-heading .badge {
  color: #f2dede;
  background-color: #a94442;
}
.panel-danger > .panel-footer + .panel-collapse > .panel-body {
  border-bottom-color: #ebccd1;
}
.embed-responsive {
  position: relative;
  display: block;
  height: 0;
  padding: 0;
  overflow: hidden;
}
.embed-responsive .embed-responsive-item,
.embed-responsive iframe,
.embed-responsive embed,
.embed-responsive object,
.embed-responsive video {
  position: absolute;
  top: 0;
  left: 0;
  bottom: 0;
  height: 100%;
  width: 100%;
  border: 0;
}
.embed-responsive-16by9 {
  padding-bottom: 56.25%;
}
.embed-responsive-4by3 {
  padding-bottom: 75%;
}
.well {
  min-height: 20px;
  padding: 19px;
  margin-bottom: 20px;
  background-color: #f5f5f5;
  border: 1px solid #e3e3e3;
  border-radius: 2px;
  -webkit-box-shadow: inset 0 1px 1px rgba(0, 0, 0, 0.05);
  box-shadow: inset 0 1px 1px rgba(0, 0, 0, 0.05);
}
.well blockquote {
  border-color: #ddd;
  border-color: rgba(0, 0, 0, 0.15);
}
.well-lg {
  padding: 24px;
  border-radius: 3px;
}
.well-sm {
  padding: 9px;
  border-radius: 1px;
}
.close {
  float: right;
  font-size: 19.5px;
  font-weight: bold;
  line-height: 1;
  color: #000;
  text-shadow: 0 1px 0 #fff;
  opacity: 0.2;
  filter: alpha(opacity=20);
}
.close:hover,
.close:focus {
  color: #000;
  text-decoration: none;
  cursor: pointer;
  opacity: 0.5;
  filter: alpha(opacity=50);
}
button.close {
  padding: 0;
  cursor: pointer;
  background: transparent;
  border: 0;
  -webkit-appearance: none;
}
.modal-open {
  overflow: hidden;
}
.modal {
  display: none;
  overflow: hidden;
  position: fixed;
  top: 0;
  right: 0;
  bottom: 0;
  left: 0;
  z-index: 1050;
  -webkit-overflow-scrolling: touch;
  outline: 0;
}
.modal.fade .modal-dialog {
  -webkit-transform: translate(0, -25%);
  -ms-transform: translate(0, -25%);
  -o-transform: translate(0, -25%);
  transform: translate(0, -25%);
  -webkit-transition: -webkit-transform 0.3s ease-out;
  -moz-transition: -moz-transform 0.3s ease-out;
  -o-transition: -o-transform 0.3s ease-out;
  transition: transform 0.3s ease-out;
}
.modal.in .modal-dialog {
  -webkit-transform: translate(0, 0);
  -ms-transform: translate(0, 0);
  -o-transform: translate(0, 0);
  transform: translate(0, 0);
}
.modal-open .modal {
  overflow-x: hidden;
  overflow-y: auto;
}
.modal-dialog {
  position: relative;
  width: auto;
  margin: 10px;
}
.modal-content {
  position: relative;
  background-color: #fff;
  border: 1px solid #999;
  border: 1px solid rgba(0, 0, 0, 0.2);
  border-radius: 3px;
  -webkit-box-shadow: 0 3px 9px rgba(0, 0, 0, 0.5);
  box-shadow: 0 3px 9px rgba(0, 0, 0, 0.5);
  background-clip: padding-box;
  outline: 0;
}
.modal-backdrop {
  position: fixed;
  top: 0;
  right: 0;
  bottom: 0;
  left: 0;
  z-index: 1040;
  background-color: #000;
}
.modal-backdrop.fade {
  opacity: 0;
  filter: alpha(opacity=0);
}
.modal-backdrop.in {
  opacity: 0.5;
  filter: alpha(opacity=50);
}
.modal-header {
  padding: 15px;
  border-bottom: 1px solid #e5e5e5;
}
.modal-header .close {
  margin-top: -2px;
}
.modal-title {
  margin: 0;
  line-height: 1.42857143;
}
.modal-body {
  position: relative;
  padding: 15px;
}
.modal-footer {
  padding: 15px;
  text-align: right;
  border-top: 1px solid #e5e5e5;
}
.modal-footer .btn + .btn {
  margin-left: 5px;
  margin-bottom: 0;
}
.modal-footer .btn-group .btn + .btn {
  margin-left: -1px;
}
.modal-footer .btn-block + .btn-block {
  margin-left: 0;
}
.modal-scrollbar-measure {
  position: absolute;
  top: -9999px;
  width: 50px;
  height: 50px;
  overflow: scroll;
}
@media (min-width: 768px) {
  .modal-dialog {
    width: 600px;
    margin: 30px auto;
  }
  .modal-content {
    -webkit-box-shadow: 0 5px 15px rgba(0, 0, 0, 0.5);
    box-shadow: 0 5px 15px rgba(0, 0, 0, 0.5);
  }
  .modal-sm {
    width: 300px;
  }
}
@media (min-width: 992px) {
  .modal-lg {
    width: 900px;
  }
}
.tooltip {
  position: absolute;
  z-index: 1070;
  display: block;
  font-family: "Helvetica Neue", Helvetica, Arial, sans-serif;
  font-style: normal;
  font-weight: normal;
  letter-spacing: normal;
  line-break: auto;
  line-height: 1.42857143;
  text-align: left;
  text-align: start;
  text-decoration: none;
  text-shadow: none;
  text-transform: none;
  white-space: normal;
  word-break: normal;
  word-spacing: normal;
  word-wrap: normal;
  font-size: 12px;
  opacity: 0;
  filter: alpha(opacity=0);
}
.tooltip.in {
  opacity: 0.9;
  filter: alpha(opacity=90);
}
.tooltip.top {
  margin-top: -3px;
  padding: 5px 0;
}
.tooltip.right {
  margin-left: 3px;
  padding: 0 5px;
}
.tooltip.bottom {
  margin-top: 3px;
  padding: 5px 0;
}
.tooltip.left {
  margin-left: -3px;
  padding: 0 5px;
}
.tooltip-inner {
  max-width: 200px;
  padding: 3px 8px;
  color: #fff;
  text-align: center;
  background-color: #000;
  border-radius: 2px;
}
.tooltip-arrow {
  position: absolute;
  width: 0;
  height: 0;
  border-color: transparent;
  border-style: solid;
}
.tooltip.top .tooltip-arrow {
  bottom: 0;
  left: 50%;
  margin-left: -5px;
  border-width: 5px 5px 0;
  border-top-color: #000;
}
.tooltip.top-left .tooltip-arrow {
  bottom: 0;
  right: 5px;
  margin-bottom: -5px;
  border-width: 5px 5px 0;
  border-top-color: #000;
}
.tooltip.top-right .tooltip-arrow {
  bottom: 0;
  left: 5px;
  margin-bottom: -5px;
  border-width: 5px 5px 0;
  border-top-color: #000;
}
.tooltip.right .tooltip-arrow {
  top: 50%;
  left: 0;
  margin-top: -5px;
  border-width: 5px 5px 5px 0;
  border-right-color: #000;
}
.tooltip.left .tooltip-arrow {
  top: 50%;
  right: 0;
  margin-top: -5px;
  border-width: 5px 0 5px 5px;
  border-left-color: #000;
}
.tooltip.bottom .tooltip-arrow {
  top: 0;
  left: 50%;
  margin-left: -5px;
  border-width: 0 5px 5px;
  border-bottom-color: #000;
}
.tooltip.bottom-left .tooltip-arrow {
  top: 0;
  right: 5px;
  margin-top: -5px;
  border-width: 0 5px 5px;
  border-bottom-color: #000;
}
.tooltip.bottom-right .tooltip-arrow {
  top: 0;
  left: 5px;
  margin-top: -5px;
  border-width: 0 5px 5px;
  border-bottom-color: #000;
}
.popover {
  position: absolute;
  top: 0;
  left: 0;
  z-index: 1060;
  display: none;
  max-width: 276px;
  padding: 1px;
  font-family: "Helvetica Neue", Helvetica, Arial, sans-serif;
  font-style: normal;
  font-weight: normal;
  letter-spacing: normal;
  line-break: auto;
  line-height: 1.42857143;
  text-align: left;
  text-align: start;
  text-decoration: none;
  text-shadow: none;
  text-transform: none;
  white-space: normal;
  word-break: normal;
  word-spacing: normal;
  word-wrap: normal;
  font-size: 13px;
  background-color: #fff;
  background-clip: padding-box;
  border: 1px solid #ccc;
  border: 1px solid rgba(0, 0, 0, 0.2);
  border-radius: 3px;
  -webkit-box-shadow: 0 5px 10px rgba(0, 0, 0, 0.2);
  box-shadow: 0 5px 10px rgba(0, 0, 0, 0.2);
}
.popover.top {
  margin-top: -10px;
}
.popover.right {
  margin-left: 10px;
}
.popover.bottom {
  margin-top: 10px;
}
.popover.left {
  margin-left: -10px;
}
.popover-title {
  margin: 0;
  padding: 8px 14px;
  font-size: 13px;
  background-color: #f7f7f7;
  border-bottom: 1px solid #ebebeb;
  border-radius: 2px 2px 0 0;
}
.popover-content {
  padding: 9px 14px;
}
.popover > .arrow,
.popover > .arrow:after {
  position: absolute;
  display: block;
  width: 0;
  height: 0;
  border-color: transparent;
  border-style: solid;
}
.popover > .arrow {
  border-width: 11px;
}
.popover > .arrow:after {
  border-width: 10px;
  content: "";
}
.popover.top > .arrow {
  left: 50%;
  margin-left: -11px;
  border-bottom-width: 0;
  border-top-color: #999999;
  border-top-color: rgba(0, 0, 0, 0.25);
  bottom: -11px;
}
.popover.top > .arrow:after {
  content: " ";
  bottom: 1px;
  margin-left: -10px;
  border-bottom-width: 0;
  border-top-color: #fff;
}
.popover.right > .arrow {
  top: 50%;
  left: -11px;
  margin-top: -11px;
  border-left-width: 0;
  border-right-color: #999999;
  border-right-color: rgba(0, 0, 0, 0.25);
}
.popover.right > .arrow:after {
  content: " ";
  left: 1px;
  bottom: -10px;
  border-left-width: 0;
  border-right-color: #fff;
}
.popover.bottom > .arrow {
  left: 50%;
  margin-left: -11px;
  border-top-width: 0;
  border-bottom-color: #999999;
  border-bottom-color: rgba(0, 0, 0, 0.25);
  top: -11px;
}
.popover.bottom > .arrow:after {
  content: " ";
  top: 1px;
  margin-left: -10px;
  border-top-width: 0;
  border-bottom-color: #fff;
}
.popover.left > .arrow {
  top: 50%;
  right: -11px;
  margin-top: -11px;
  border-right-width: 0;
  border-left-color: #999999;
  border-left-color: rgba(0, 0, 0, 0.25);
}
.popover.left > .arrow:after {
  content: " ";
  right: 1px;
  border-right-width: 0;
  border-left-color: #fff;
  bottom: -10px;
}
.carousel {
  position: relative;
}
.carousel-inner {
  position: relative;
  overflow: hidden;
  width: 100%;
}
.carousel-inner > .item {
  display: none;
  position: relative;
  -webkit-transition: 0.6s ease-in-out left;
  -o-transition: 0.6s ease-in-out left;
  transition: 0.6s ease-in-out left;
}
.carousel-inner > .item > img,
.carousel-inner > .item > a > img {
  line-height: 1;
}
@media all and (transform-3d), (-webkit-transform-3d) {
  .carousel-inner > .item {
    -webkit-transition: -webkit-transform 0.6s ease-in-out;
    -moz-transition: -moz-transform 0.6s ease-in-out;
    -o-transition: -o-transform 0.6s ease-in-out;
    transition: transform 0.6s ease-in-out;
    -webkit-backface-visibility: hidden;
    -moz-backface-visibility: hidden;
    backface-visibility: hidden;
    -webkit-perspective: 1000px;
    -moz-perspective: 1000px;
    perspective: 1000px;
  }
  .carousel-inner > .item.next,
  .carousel-inner > .item.active.right {
    -webkit-transform: translate3d(100%, 0, 0);
    transform: translate3d(100%, 0, 0);
    left: 0;
  }
  .carousel-inner > .item.prev,
  .carousel-inner > .item.active.left {
    -webkit-transform: translate3d(-100%, 0, 0);
    transform: translate3d(-100%, 0, 0);
    left: 0;
  }
  .carousel-inner > .item.next.left,
  .carousel-inner > .item.prev.right,
  .carousel-inner > .item.active {
    -webkit-transform: translate3d(0, 0, 0);
    transform: translate3d(0, 0, 0);
    left: 0;
  }
}
.carousel-inner > .active,
.carousel-inner > .next,
.carousel-inner > .prev {
  display: block;
}
.carousel-inner > .active {
  left: 0;
}
.carousel-inner > .next,
.carousel-inner > .prev {
  position: absolute;
  top: 0;
  width: 100%;
}
.carousel-inner > .next {
  left: 100%;
}
.carousel-inner > .prev {
  left: -100%;
}
.carousel-inner > .next.left,
.carousel-inner > .prev.right {
  left: 0;
}
.carousel-inner > .active.left {
  left: -100%;
}
.carousel-inner > .active.right {
  left: 100%;
}
.carousel-control {
  position: absolute;
  top: 0;
  left: 0;
  bottom: 0;
  width: 15%;
  opacity: 0.5;
  filter: alpha(opacity=50);
  font-size: 20px;
  color: #fff;
  text-align: center;
  text-shadow: 0 1px 2px rgba(0, 0, 0, 0.6);
  background-color: rgba(0, 0, 0, 0);
}
.carousel-control.left {
  background-image: -webkit-linear-gradient(left, rgba(0, 0, 0, 0.5) 0%, rgba(0, 0, 0, 0.0001) 100%);
  background-image: -o-linear-gradient(left, rgba(0, 0, 0, 0.5) 0%, rgba(0, 0, 0, 0.0001) 100%);
  background-image: linear-gradient(to right, rgba(0, 0, 0, 0.5) 0%, rgba(0, 0, 0, 0.0001) 100%);
  background-repeat: repeat-x;
  filter: progid:DXImageTransform.Microsoft.gradient(startColorstr='#80000000', endColorstr='#00000000', GradientType=1);
}
.carousel-control.right {
  left: auto;
  right: 0;
  background-image: -webkit-linear-gradient(left, rgba(0, 0, 0, 0.0001) 0%, rgba(0, 0, 0, 0.5) 100%);
  background-image: -o-linear-gradient(left, rgba(0, 0, 0, 0.0001) 0%, rgba(0, 0, 0, 0.5) 100%);
  background-image: linear-gradient(to right, rgba(0, 0, 0, 0.0001) 0%, rgba(0, 0, 0, 0.5) 100%);
  background-repeat: repeat-x;
  filter: progid:DXImageTransform.Microsoft.gradient(startColorstr='#00000000', endColorstr='#80000000', GradientType=1);
}
.carousel-control:hover,
.carousel-control:focus {
  outline: 0;
  color: #fff;
  text-decoration: none;
  opacity: 0.9;
  filter: alpha(opacity=90);
}
.carousel-control .icon-prev,
.carousel-control .icon-next,
.carousel-control .glyphicon-chevron-left,
.carousel-control .glyphicon-chevron-right {
  position: absolute;
  top: 50%;
  margin-top: -10px;
  z-index: 5;
  display: inline-block;
}
.carousel-control .icon-prev,
.carousel-control .glyphicon-chevron-left {
  left: 50%;
  margin-left: -10px;
}
.carousel-control .icon-next,
.carousel-control .glyphicon-chevron-right {
  right: 50%;
  margin-right: -10px;
}
.carousel-control .icon-prev,
.carousel-control .icon-next {
  width: 20px;
  height: 20px;
  line-height: 1;
  font-family: serif;
}
.carousel-control .icon-prev:before {
  content: '\2039';
}
.carousel-control .icon-next:before {
  content: '\203a';
}
.carousel-indicators {
  position: absolute;
  bottom: 10px;
  left: 50%;
  z-index: 15;
  width: 60%;
  margin-left: -30%;
  padding-left: 0;
  list-style: none;
  text-align: center;
}
.carousel-indicators li {
  display: inline-block;
  width: 10px;
  height: 10px;
  margin: 1px;
  text-indent: -999px;
  border: 1px solid #fff;
  border-radius: 10px;
  cursor: pointer;
  background-color: #000 \9;
  background-color: rgba(0, 0, 0, 0);
}
.carousel-indicators .active {
  margin: 0;
  width: 12px;
  height: 12px;
  background-color: #fff;
}
.carousel-caption {
  position: absolute;
  left: 15%;
  right: 15%;
  bottom: 20px;
  z-index: 10;
  padding-top: 20px;
  padding-bottom: 20px;
  color: #fff;
  text-align: center;
  text-shadow: 0 1px 2px rgba(0, 0, 0, 0.6);
}
.carousel-caption .btn {
  text-shadow: none;
}
@media screen and (min-width: 768px) {
  .carousel-control .glyphicon-chevron-left,
  .carousel-control .glyphicon-chevron-right,
  .carousel-control .icon-prev,
  .carousel-control .icon-next {
    width: 30px;
    height: 30px;
    margin-top: -10px;
    font-size: 30px;
  }
  .carousel-control .glyphicon-chevron-left,
  .carousel-control .icon-prev {
    margin-left: -10px;
  }
  .carousel-control .glyphicon-chevron-right,
  .carousel-control .icon-next {
    margin-right: -10px;
  }
  .carousel-caption {
    left: 20%;
    right: 20%;
    padding-bottom: 30px;
  }
  .carousel-indicators {
    bottom: 20px;
  }
}
.clearfix:before,
.clearfix:after,
.dl-horizontal dd:before,
.dl-horizontal dd:after,
.container:before,
.container:after,
.container-fluid:before,
.container-fluid:after,
.row:before,
.row:after,
.form-horizontal .form-group:before,
.form-horizontal .form-group:after,
.btn-toolbar:before,
.btn-toolbar:after,
.btn-group-vertical > .btn-group:before,
.btn-group-vertical > .btn-group:after,
.nav:before,
.nav:after,
.navbar:before,
.navbar:after,
.navbar-header:before,
.navbar-header:after,
.navbar-collapse:before,
.navbar-collapse:after,
.pager:before,
.pager:after,
.panel-body:before,
.panel-body:after,
.modal-header:before,
.modal-header:after,
.modal-footer:before,
.modal-footer:after,
.item_buttons:before,
.item_buttons:after {
  content: " ";
  display: table;
}
.clearfix:after,
.dl-horizontal dd:after,
.container:after,
.container-fluid:after,
.row:after,
.form-horizontal .form-group:after,
.btn-toolbar:after,
.btn-group-vertical > .btn-group:after,
.nav:after,
.navbar:after,
.navbar-header:after,
.navbar-collapse:after,
.pager:after,
.panel-body:after,
.modal-header:after,
.modal-footer:after,
.item_buttons:after {
  clear: both;
}
.center-block {
  display: block;
  margin-left: auto;
  margin-right: auto;
}
.pull-right {
  float: right !important;
}
.pull-left {
  float: left !important;
}
.hide {
  display: none !important;
}
.show {
  display: block !important;
}
.invisible {
  visibility: hidden;
}
.text-hide {
  font: 0/0 a;
  color: transparent;
  text-shadow: none;
  background-color: transparent;
  border: 0;
}
.hidden {
  display: none !important;
}
.affix {
  position: fixed;
}
@-ms-viewport {
  width: device-width;
}
.visible-xs,
.visible-sm,
.visible-md,
.visible-lg {
  display: none !important;
}
.visible-xs-block,
.visible-xs-inline,
.visible-xs-inline-block,
.visible-sm-block,
.visible-sm-inline,
.visible-sm-inline-block,
.visible-md-block,
.visible-md-inline,
.visible-md-inline-block,
.visible-lg-block,
.visible-lg-inline,
.visible-lg-inline-block {
  display: none !important;
}
@media (max-width: 767px) {
  .visible-xs {
    display: block !important;
  }
  table.visible-xs {
    display: table !important;
  }
  tr.visible-xs {
    display: table-row !important;
  }
  th.visible-xs,
  td.visible-xs {
    display: table-cell !important;
  }
}
@media (max-width: 767px) {
  .visible-xs-block {
    display: block !important;
  }
}
@media (max-width: 767px) {
  .visible-xs-inline {
    display: inline !important;
  }
}
@media (max-width: 767px) {
  .visible-xs-inline-block {
    display: inline-block !important;
  }
}
@media (min-width: 768px) and (max-width: 991px) {
  .visible-sm {
    display: block !important;
  }
  table.visible-sm {
    display: table !important;
  }
  tr.visible-sm {
    display: table-row !important;
  }
  th.visible-sm,
  td.visible-sm {
    display: table-cell !important;
  }
}
@media (min-width: 768px) and (max-width: 991px) {
  .visible-sm-block {
    display: block !important;
  }
}
@media (min-width: 768px) and (max-width: 991px) {
  .visible-sm-inline {
    display: inline !important;
  }
}
@media (min-width: 768px) and (max-width: 991px) {
  .visible-sm-inline-block {
    display: inline-block !important;
  }
}
@media (min-width: 992px) and (max-width: 1199px) {
  .visible-md {
    display: block !important;
  }
  table.visible-md {
    display: table !important;
  }
  tr.visible-md {
    display: table-row !important;
  }
  th.visible-md,
  td.visible-md {
    display: table-cell !important;
  }
}
@media (min-width: 992px) and (max-width: 1199px) {
  .visible-md-block {
    display: block !important;
  }
}
@media (min-width: 992px) and (max-width: 1199px) {
  .visible-md-inline {
    display: inline !important;
  }
}
@media (min-width: 992px) and (max-width: 1199px) {
  .visible-md-inline-block {
    display: inline-block !important;
  }
}
@media (min-width: 1200px) {
  .visible-lg {
    display: block !important;
  }
  table.visible-lg {
    display: table !important;
  }
  tr.visible-lg {
    display: table-row !important;
  }
  th.visible-lg,
  td.visible-lg {
    display: table-cell !important;
  }
}
@media (min-width: 1200px) {
  .visible-lg-block {
    display: block !important;
  }
}
@media (min-width: 1200px) {
  .visible-lg-inline {
    display: inline !important;
  }
}
@media (min-width: 1200px) {
  .visible-lg-inline-block {
    display: inline-block !important;
  }
}
@media (max-width: 767px) {
  .hidden-xs {
    display: none !important;
  }
}
@media (min-width: 768px) and (max-width: 991px) {
  .hidden-sm {
    display: none !important;
  }
}
@media (min-width: 992px) and (max-width: 1199px) {
  .hidden-md {
    display: none !important;
  }
}
@media (min-width: 1200px) {
  .hidden-lg {
    display: none !important;
  }
}
.visible-print {
  display: none !important;
}
@media print {
  .visible-print {
    display: block !important;
  }
  table.visible-print {
    display: table !important;
  }
  tr.visible-print {
    display: table-row !important;
  }
  th.visible-print,
  td.visible-print {
    display: table-cell !important;
  }
}
.visible-print-block {
  display: none !important;
}
@media print {
  .visible-print-block {
    display: block !important;
  }
}
.visible-print-inline {
  display: none !important;
}
@media print {
  .visible-print-inline {
    display: inline !important;
  }
}
.visible-print-inline-block {
  display: none !important;
}
@media print {
  .visible-print-inline-block {
    display: inline-block !important;
  }
}
@media print {
  .hidden-print {
    display: none !important;
  }
}
/*!
*
* Font Awesome
*
*/
/*!
 *  Font Awesome 4.2.0 by @davegandy - http://fontawesome.io - @fontawesome
 *  License - http://fontawesome.io/license (Font: SIL OFL 1.1, CSS: MIT License)
 */
/* FONT PATH
 * -------------------------- */
@font-face {
  font-family: 'FontAwesome';
  src: url('../components/font-awesome/fonts/fontawesome-webfont.eot?v=4.2.0');
  src: url('../components/font-awesome/fonts/fontawesome-webfont.eot?#iefix&v=4.2.0') format('embedded-opentype'), url('../components/font-awesome/fonts/fontawesome-webfont.woff?v=4.2.0') format('woff'), url('../components/font-awesome/fonts/fontawesome-webfont.ttf?v=4.2.0') format('truetype'), url('../components/font-awesome/fonts/fontawesome-webfont.svg?v=4.2.0#fontawesomeregular') format('svg');
  font-weight: normal;
  font-style: normal;
}
.fa {
  display: inline-block;
  font: normal normal normal 14px/1 FontAwesome;
  font-size: inherit;
  text-rendering: auto;
  -webkit-font-smoothing: antialiased;
  -moz-osx-font-smoothing: grayscale;
}
/* makes the font 33% larger relative to the icon container */
.fa-lg {
  font-size: 1.33333333em;
  line-height: 0.75em;
  vertical-align: -15%;
}
.fa-2x {
  font-size: 2em;
}
.fa-3x {
  font-size: 3em;
}
.fa-4x {
  font-size: 4em;
}
.fa-5x {
  font-size: 5em;
}
.fa-fw {
  width: 1.28571429em;
  text-align: center;
}
.fa-ul {
  padding-left: 0;
  margin-left: 2.14285714em;
  list-style-type: none;
}
.fa-ul > li {
  position: relative;
}
.fa-li {
  position: absolute;
  left: -2.14285714em;
  width: 2.14285714em;
  top: 0.14285714em;
  text-align: center;
}
.fa-li.fa-lg {
  left: -1.85714286em;
}
.fa-border {
  padding: .2em .25em .15em;
  border: solid 0.08em #eee;
  border-radius: .1em;
}
.pull-right {
  float: right;
}
.pull-left {
  float: left;
}
.fa.pull-left {
  margin-right: .3em;
}
.fa.pull-right {
  margin-left: .3em;
}
.fa-spin {
  -webkit-animation: fa-spin 2s infinite linear;
  animation: fa-spin 2s infinite linear;
}
@-webkit-keyframes fa-spin {
  0% {
    -webkit-transform: rotate(0deg);
    transform: rotate(0deg);
  }
  100% {
    -webkit-transform: rotate(359deg);
    transform: rotate(359deg);
  }
}
@keyframes fa-spin {
  0% {
    -webkit-transform: rotate(0deg);
    transform: rotate(0deg);
  }
  100% {
    -webkit-transform: rotate(359deg);
    transform: rotate(359deg);
  }
}
.fa-rotate-90 {
  filter: progid:DXImageTransform.Microsoft.BasicImage(rotation=1);
  -webkit-transform: rotate(90deg);
  -ms-transform: rotate(90deg);
  transform: rotate(90deg);
}
.fa-rotate-180 {
  filter: progid:DXImageTransform.Microsoft.BasicImage(rotation=2);
  -webkit-transform: rotate(180deg);
  -ms-transform: rotate(180deg);
  transform: rotate(180deg);
}
.fa-rotate-270 {
  filter: progid:DXImageTransform.Microsoft.BasicImage(rotation=3);
  -webkit-transform: rotate(270deg);
  -ms-transform: rotate(270deg);
  transform: rotate(270deg);
}
.fa-flip-horizontal {
  filter: progid:DXImageTransform.Microsoft.BasicImage(rotation=0, mirror=1);
  -webkit-transform: scale(-1, 1);
  -ms-transform: scale(-1, 1);
  transform: scale(-1, 1);
}
.fa-flip-vertical {
  filter: progid:DXImageTransform.Microsoft.BasicImage(rotation=2, mirror=1);
  -webkit-transform: scale(1, -1);
  -ms-transform: scale(1, -1);
  transform: scale(1, -1);
}
:root .fa-rotate-90,
:root .fa-rotate-180,
:root .fa-rotate-270,
:root .fa-flip-horizontal,
:root .fa-flip-vertical {
  filter: none;
}
.fa-stack {
  position: relative;
  display: inline-block;
  width: 2em;
  height: 2em;
  line-height: 2em;
  vertical-align: middle;
}
.fa-stack-1x,
.fa-stack-2x {
  position: absolute;
  left: 0;
  width: 100%;
  text-align: center;
}
.fa-stack-1x {
  line-height: inherit;
}
.fa-stack-2x {
  font-size: 2em;
}
.fa-inverse {
  color: #fff;
}
/* Font Awesome uses the Unicode Private Use Area (PUA) to ensure screen
   readers do not read off random characters that represent icons */
.fa-glass:before {
  content: "\f000";
}
.fa-music:before {
  content: "\f001";
}
.fa-search:before {
  content: "\f002";
}
.fa-envelope-o:before {
  content: "\f003";
}
.fa-heart:before {
  content: "\f004";
}
.fa-star:before {
  content: "\f005";
}
.fa-star-o:before {
  content: "\f006";
}
.fa-user:before {
  content: "\f007";
}
.fa-film:before {
  content: "\f008";
}
.fa-th-large:before {
  content: "\f009";
}
.fa-th:before {
  content: "\f00a";
}
.fa-th-list:before {
  content: "\f00b";
}
.fa-check:before {
  content: "\f00c";
}
.fa-remove:before,
.fa-close:before,
.fa-times:before {
  content: "\f00d";
}
.fa-search-plus:before {
  content: "\f00e";
}
.fa-search-minus:before {
  content: "\f010";
}
.fa-power-off:before {
  content: "\f011";
}
.fa-signal:before {
  content: "\f012";
}
.fa-gear:before,
.fa-cog:before {
  content: "\f013";
}
.fa-trash-o:before {
  content: "\f014";
}
.fa-home:before {
  content: "\f015";
}
.fa-file-o:before {
  content: "\f016";
}
.fa-clock-o:before {
  content: "\f017";
}
.fa-road:before {
  content: "\f018";
}
.fa-download:before {
  content: "\f019";
}
.fa-arrow-circle-o-down:before {
  content: "\f01a";
}
.fa-arrow-circle-o-up:before {
  content: "\f01b";
}
.fa-inbox:before {
  content: "\f01c";
}
.fa-play-circle-o:before {
  content: "\f01d";
}
.fa-rotate-right:before,
.fa-repeat:before {
  content: "\f01e";
}
.fa-refresh:before {
  content: "\f021";
}
.fa-list-alt:before {
  content: "\f022";
}
.fa-lock:before {
  content: "\f023";
}
.fa-flag:before {
  content: "\f024";
}
.fa-headphones:before {
  content: "\f025";
}
.fa-volume-off:before {
  content: "\f026";
}
.fa-volume-down:before {
  content: "\f027";
}
.fa-volume-up:before {
  content: "\f028";
}
.fa-qrcode:before {
  content: "\f029";
}
.fa-barcode:before {
  content: "\f02a";
}
.fa-tag:before {
  content: "\f02b";
}
.fa-tags:before {
  content: "\f02c";
}
.fa-book:before {
  content: "\f02d";
}
.fa-bookmark:before {
  content: "\f02e";
}
.fa-print:before {
  content: "\f02f";
}
.fa-camera:before {
  content: "\f030";
}
.fa-font:before {
  content: "\f031";
}
.fa-bold:before {
  content: "\f032";
}
.fa-italic:before {
  content: "\f033";
}
.fa-text-height:before {
  content: "\f034";
}
.fa-text-width:before {
  content: "\f035";
}
.fa-align-left:before {
  content: "\f036";
}
.fa-align-center:before {
  content: "\f037";
}
.fa-align-right:before {
  content: "\f038";
}
.fa-align-justify:before {
  content: "\f039";
}
.fa-list:before {
  content: "\f03a";
}
.fa-dedent:before,
.fa-outdent:before {
  content: "\f03b";
}
.fa-indent:before {
  content: "\f03c";
}
.fa-video-camera:before {
  content: "\f03d";
}
.fa-photo:before,
.fa-image:before,
.fa-picture-o:before {
  content: "\f03e";
}
.fa-pencil:before {
  content: "\f040";
}
.fa-map-marker:before {
  content: "\f041";
}
.fa-adjust:before {
  content: "\f042";
}
.fa-tint:before {
  content: "\f043";
}
.fa-edit:before,
.fa-pencil-square-o:before {
  content: "\f044";
}
.fa-share-square-o:before {
  content: "\f045";
}
.fa-check-square-o:before {
  content: "\f046";
}
.fa-arrows:before {
  content: "\f047";
}
.fa-step-backward:before {
  content: "\f048";
}
.fa-fast-backward:before {
  content: "\f049";
}
.fa-backward:before {
  content: "\f04a";
}
.fa-play:before {
  content: "\f04b";
}
.fa-pause:before {
  content: "\f04c";
}
.fa-stop:before {
  content: "\f04d";
}
.fa-forward:before {
  content: "\f04e";
}
.fa-fast-forward:before {
  content: "\f050";
}
.fa-step-forward:before {
  content: "\f051";
}
.fa-eject:before {
  content: "\f052";
}
.fa-chevron-left:before {
  content: "\f053";
}
.fa-chevron-right:before {
  content: "\f054";
}
.fa-plus-circle:before {
  content: "\f055";
}
.fa-minus-circle:before {
  content: "\f056";
}
.fa-times-circle:before {
  content: "\f057";
}
.fa-check-circle:before {
  content: "\f058";
}
.fa-question-circle:before {
  content: "\f059";
}
.fa-info-circle:before {
  content: "\f05a";
}
.fa-crosshairs:before {
  content: "\f05b";
}
.fa-times-circle-o:before {
  content: "\f05c";
}
.fa-check-circle-o:before {
  content: "\f05d";
}
.fa-ban:before {
  content: "\f05e";
}
.fa-arrow-left:before {
  content: "\f060";
}
.fa-arrow-right:before {
  content: "\f061";
}
.fa-arrow-up:before {
  content: "\f062";
}
.fa-arrow-down:before {
  content: "\f063";
}
.fa-mail-forward:before,
.fa-share:before {
  content: "\f064";
}
.fa-expand:before {
  content: "\f065";
}
.fa-compress:before {
  content: "\f066";
}
.fa-plus:before {
  content: "\f067";
}
.fa-minus:before {
  content: "\f068";
}
.fa-asterisk:before {
  content: "\f069";
}
.fa-exclamation-circle:before {
  content: "\f06a";
}
.fa-gift:before {
  content: "\f06b";
}
.fa-leaf:before {
  content: "\f06c";
}
.fa-fire:before {
  content: "\f06d";
}
.fa-eye:before {
  content: "\f06e";
}
.fa-eye-slash:before {
  content: "\f070";
}
.fa-warning:before,
.fa-exclamation-triangle:before {
  content: "\f071";
}
.fa-plane:before {
  content: "\f072";
}
.fa-calendar:before {
  content: "\f073";
}
.fa-random:before {
  content: "\f074";
}
.fa-comment:before {
  content: "\f075";
}
.fa-magnet:before {
  content: "\f076";
}
.fa-chevron-up:before {
  content: "\f077";
}
.fa-chevron-down:before {
  content: "\f078";
}
.fa-retweet:before {
  content: "\f079";
}
.fa-shopping-cart:before {
  content: "\f07a";
}
.fa-folder:before {
  content: "\f07b";
}
.fa-folder-open:before {
  content: "\f07c";
}
.fa-arrows-v:before {
  content: "\f07d";
}
.fa-arrows-h:before {
  content: "\f07e";
}
.fa-bar-chart-o:before,
.fa-bar-chart:before {
  content: "\f080";
}
.fa-twitter-square:before {
  content: "\f081";
}
.fa-facebook-square:before {
  content: "\f082";
}
.fa-camera-retro:before {
  content: "\f083";
}
.fa-key:before {
  content: "\f084";
}
.fa-gears:before,
.fa-cogs:before {
  content: "\f085";
}
.fa-comments:before {
  content: "\f086";
}
.fa-thumbs-o-up:before {
  content: "\f087";
}
.fa-thumbs-o-down:before {
  content: "\f088";
}
.fa-star-half:before {
  content: "\f089";
}
.fa-heart-o:before {
  content: "\f08a";
}
.fa-sign-out:before {
  content: "\f08b";
}
.fa-linkedin-square:before {
  content: "\f08c";
}
.fa-thumb-tack:before {
  content: "\f08d";
}
.fa-external-link:before {
  content: "\f08e";
}
.fa-sign-in:before {
  content: "\f090";
}
.fa-trophy:before {
  content: "\f091";
}
.fa-github-square:before {
  content: "\f092";
}
.fa-upload:before {
  content: "\f093";
}
.fa-lemon-o:before {
  content: "\f094";
}
.fa-phone:before {
  content: "\f095";
}
.fa-square-o:before {
  content: "\f096";
}
.fa-bookmark-o:before {
  content: "\f097";
}
.fa-phone-square:before {
  content: "\f098";
}
.fa-twitter:before {
  content: "\f099";
}
.fa-facebook:before {
  content: "\f09a";
}
.fa-github:before {
  content: "\f09b";
}
.fa-unlock:before {
  content: "\f09c";
}
.fa-credit-card:before {
  content: "\f09d";
}
.fa-rss:before {
  content: "\f09e";
}
.fa-hdd-o:before {
  content: "\f0a0";
}
.fa-bullhorn:before {
  content: "\f0a1";
}
.fa-bell:before {
  content: "\f0f3";
}
.fa-certificate:before {
  content: "\f0a3";
}
.fa-hand-o-right:before {
  content: "\f0a4";
}
.fa-hand-o-left:before {
  content: "\f0a5";
}
.fa-hand-o-up:before {
  content: "\f0a6";
}
.fa-hand-o-down:before {
  content: "\f0a7";
}
.fa-arrow-circle-left:before {
  content: "\f0a8";
}
.fa-arrow-circle-right:before {
  content: "\f0a9";
}
.fa-arrow-circle-up:before {
  content: "\f0aa";
}
.fa-arrow-circle-down:before {
  content: "\f0ab";
}
.fa-globe:before {
  content: "\f0ac";
}
.fa-wrench:before {
  content: "\f0ad";
}
.fa-tasks:before {
  content: "\f0ae";
}
.fa-filter:before {
  content: "\f0b0";
}
.fa-briefcase:before {
  content: "\f0b1";
}
.fa-arrows-alt:before {
  content: "\f0b2";
}
.fa-group:before,
.fa-users:before {
  content: "\f0c0";
}
.fa-chain:before,
.fa-link:before {
  content: "\f0c1";
}
.fa-cloud:before {
  content: "\f0c2";
}
.fa-flask:before {
  content: "\f0c3";
}
.fa-cut:before,
.fa-scissors:before {
  content: "\f0c4";
}
.fa-copy:before,
.fa-files-o:before {
  content: "\f0c5";
}
.fa-paperclip:before {
  content: "\f0c6";
}
.fa-save:before,
.fa-floppy-o:before {
  content: "\f0c7";
}
.fa-square:before {
  content: "\f0c8";
}
.fa-navicon:before,
.fa-reorder:before,
.fa-bars:before {
  content: "\f0c9";
}
.fa-list-ul:before {
  content: "\f0ca";
}
.fa-list-ol:before {
  content: "\f0cb";
}
.fa-strikethrough:before {
  content: "\f0cc";
}
.fa-underline:before {
  content: "\f0cd";
}
.fa-table:before {
  content: "\f0ce";
}
.fa-magic:before {
  content: "\f0d0";
}
.fa-truck:before {
  content: "\f0d1";
}
.fa-pinterest:before {
  content: "\f0d2";
}
.fa-pinterest-square:before {
  content: "\f0d3";
}
.fa-google-plus-square:before {
  content: "\f0d4";
}
.fa-google-plus:before {
  content: "\f0d5";
}
.fa-money:before {
  content: "\f0d6";
}
.fa-caret-down:before {
  content: "\f0d7";
}
.fa-caret-up:before {
  content: "\f0d8";
}
.fa-caret-left:before {
  content: "\f0d9";
}
.fa-caret-right:before {
  content: "\f0da";
}
.fa-columns:before {
  content: "\f0db";
}
.fa-unsorted:before,
.fa-sort:before {
  content: "\f0dc";
}
.fa-sort-down:before,
.fa-sort-desc:before {
  content: "\f0dd";
}
.fa-sort-up:before,
.fa-sort-asc:before {
  content: "\f0de";
}
.fa-envelope:before {
  content: "\f0e0";
}
.fa-linkedin:before {
  content: "\f0e1";
}
.fa-rotate-left:before,
.fa-undo:before {
  content: "\f0e2";
}
.fa-legal:before,
.fa-gavel:before {
  content: "\f0e3";
}
.fa-dashboard:before,
.fa-tachometer:before {
  content: "\f0e4";
}
.fa-comment-o:before {
  content: "\f0e5";
}
.fa-comments-o:before {
  content: "\f0e6";
}
.fa-flash:before,
.fa-bolt:before {
  content: "\f0e7";
}
.fa-sitemap:before {
  content: "\f0e8";
}
.fa-umbrella:before {
  content: "\f0e9";
}
.fa-paste:before,
.fa-clipboard:before {
  content: "\f0ea";
}
.fa-lightbulb-o:before {
  content: "\f0eb";
}
.fa-exchange:before {
  content: "\f0ec";
}
.fa-cloud-download:before {
  content: "\f0ed";
}
.fa-cloud-upload:before {
  content: "\f0ee";
}
.fa-user-md:before {
  content: "\f0f0";
}
.fa-stethoscope:before {
  content: "\f0f1";
}
.fa-suitcase:before {
  content: "\f0f2";
}
.fa-bell-o:before {
  content: "\f0a2";
}
.fa-coffee:before {
  content: "\f0f4";
}
.fa-cutlery:before {
  content: "\f0f5";
}
.fa-file-text-o:before {
  content: "\f0f6";
}
.fa-building-o:before {
  content: "\f0f7";
}
.fa-hospital-o:before {
  content: "\f0f8";
}
.fa-ambulance:before {
  content: "\f0f9";
}
.fa-medkit:before {
  content: "\f0fa";
}
.fa-fighter-jet:before {
  content: "\f0fb";
}
.fa-beer:before {
  content: "\f0fc";
}
.fa-h-square:before {
  content: "\f0fd";
}
.fa-plus-square:before {
  content: "\f0fe";
}
.fa-angle-double-left:before {
  content: "\f100";
}
.fa-angle-double-right:before {
  content: "\f101";
}
.fa-angle-double-up:before {
  content: "\f102";
}
.fa-angle-double-down:before {
  content: "\f103";
}
.fa-angle-left:before {
  content: "\f104";
}
.fa-angle-right:before {
  content: "\f105";
}
.fa-angle-up:before {
  content: "\f106";
}
.fa-angle-down:before {
  content: "\f107";
}
.fa-desktop:before {
  content: "\f108";
}
.fa-laptop:before {
  content: "\f109";
}
.fa-tablet:before {
  content: "\f10a";
}
.fa-mobile-phone:before,
.fa-mobile:before {
  content: "\f10b";
}
.fa-circle-o:before {
  content: "\f10c";
}
.fa-quote-left:before {
  content: "\f10d";
}
.fa-quote-right:before {
  content: "\f10e";
}
.fa-spinner:before {
  content: "\f110";
}
.fa-circle:before {
  content: "\f111";
}
.fa-mail-reply:before,
.fa-reply:before {
  content: "\f112";
}
.fa-github-alt:before {
  content: "\f113";
}
.fa-folder-o:before {
  content: "\f114";
}
.fa-folder-open-o:before {
  content: "\f115";
}
.fa-smile-o:before {
  content: "\f118";
}
.fa-frown-o:before {
  content: "\f119";
}
.fa-meh-o:before {
  content: "\f11a";
}
.fa-gamepad:before {
  content: "\f11b";
}
.fa-keyboard-o:before {
  content: "\f11c";
}
.fa-flag-o:before {
  content: "\f11d";
}
.fa-flag-checkered:before {
  content: "\f11e";
}
.fa-terminal:before {
  content: "\f120";
}
.fa-code:before {
  content: "\f121";
}
.fa-mail-reply-all:before,
.fa-reply-all:before {
  content: "\f122";
}
.fa-star-half-empty:before,
.fa-star-half-full:before,
.fa-star-half-o:before {
  content: "\f123";
}
.fa-location-arrow:before {
  content: "\f124";
}
.fa-crop:before {
  content: "\f125";
}
.fa-code-fork:before {
  content: "\f126";
}
.fa-unlink:before,
.fa-chain-broken:before {
  content: "\f127";
}
.fa-question:before {
  content: "\f128";
}
.fa-info:before {
  content: "\f129";
}
.fa-exclamation:before {
  content: "\f12a";
}
.fa-superscript:before {
  content: "\f12b";
}
.fa-subscript:before {
  content: "\f12c";
}
.fa-eraser:before {
  content: "\f12d";
}
.fa-puzzle-piece:before {
  content: "\f12e";
}
.fa-microphone:before {
  content: "\f130";
}
.fa-microphone-slash:before {
  content: "\f131";
}
.fa-shield:before {
  content: "\f132";
}
.fa-calendar-o:before {
  content: "\f133";
}
.fa-fire-extinguisher:before {
  content: "\f134";
}
.fa-rocket:before {
  content: "\f135";
}
.fa-maxcdn:before {
  content: "\f136";
}
.fa-chevron-circle-left:before {
  content: "\f137";
}
.fa-chevron-circle-right:before {
  content: "\f138";
}
.fa-chevron-circle-up:before {
  content: "\f139";
}
.fa-chevron-circle-down:before {
  content: "\f13a";
}
.fa-html5:before {
  content: "\f13b";
}
.fa-css3:before {
  content: "\f13c";
}
.fa-anchor:before {
  content: "\f13d";
}
.fa-unlock-alt:before {
  content: "\f13e";
}
.fa-bullseye:before {
  content: "\f140";
}
.fa-ellipsis-h:before {
  content: "\f141";
}
.fa-ellipsis-v:before {
  content: "\f142";
}
.fa-rss-square:before {
  content: "\f143";
}
.fa-play-circle:before {
  content: "\f144";
}
.fa-ticket:before {
  content: "\f145";
}
.fa-minus-square:before {
  content: "\f146";
}
.fa-minus-square-o:before {
  content: "\f147";
}
.fa-level-up:before {
  content: "\f148";
}
.fa-level-down:before {
  content: "\f149";
}
.fa-check-square:before {
  content: "\f14a";
}
.fa-pencil-square:before {
  content: "\f14b";
}
.fa-external-link-square:before {
  content: "\f14c";
}
.fa-share-square:before {
  content: "\f14d";
}
.fa-compass:before {
  content: "\f14e";
}
.fa-toggle-down:before,
.fa-caret-square-o-down:before {
  content: "\f150";
}
.fa-toggle-up:before,
.fa-caret-square-o-up:before {
  content: "\f151";
}
.fa-toggle-right:before,
.fa-caret-square-o-right:before {
  content: "\f152";
}
.fa-euro:before,
.fa-eur:before {
  content: "\f153";
}
.fa-gbp:before {
  content: "\f154";
}
.fa-dollar:before,
.fa-usd:before {
  content: "\f155";
}
.fa-rupee:before,
.fa-inr:before {
  content: "\f156";
}
.fa-cny:before,
.fa-rmb:before,
.fa-yen:before,
.fa-jpy:before {
  content: "\f157";
}
.fa-ruble:before,
.fa-rouble:before,
.fa-rub:before {
  content: "\f158";
}
.fa-won:before,
.fa-krw:before {
  content: "\f159";
}
.fa-bitcoin:before,
.fa-btc:before {
  content: "\f15a";
}
.fa-file:before {
  content: "\f15b";
}
.fa-file-text:before {
  content: "\f15c";
}
.fa-sort-alpha-asc:before {
  content: "\f15d";
}
.fa-sort-alpha-desc:before {
  content: "\f15e";
}
.fa-sort-amount-asc:before {
  content: "\f160";
}
.fa-sort-amount-desc:before {
  content: "\f161";
}
.fa-sort-numeric-asc:before {
  content: "\f162";
}
.fa-sort-numeric-desc:before {
  content: "\f163";
}
.fa-thumbs-up:before {
  content: "\f164";
}
.fa-thumbs-down:before {
  content: "\f165";
}
.fa-youtube-square:before {
  content: "\f166";
}
.fa-youtube:before {
  content: "\f167";
}
.fa-xing:before {
  content: "\f168";
}
.fa-xing-square:before {
  content: "\f169";
}
.fa-youtube-play:before {
  content: "\f16a";
}
.fa-dropbox:before {
  content: "\f16b";
}
.fa-stack-overflow:before {
  content: "\f16c";
}
.fa-instagram:before {
  content: "\f16d";
}
.fa-flickr:before {
  content: "\f16e";
}
.fa-adn:before {
  content: "\f170";
}
.fa-bitbucket:before {
  content: "\f171";
}
.fa-bitbucket-square:before {
  content: "\f172";
}
.fa-tumblr:before {
  content: "\f173";
}
.fa-tumblr-square:before {
  content: "\f174";
}
.fa-long-arrow-down:before {
  content: "\f175";
}
.fa-long-arrow-up:before {
  content: "\f176";
}
.fa-long-arrow-left:before {
  content: "\f177";
}
.fa-long-arrow-right:before {
  content: "\f178";
}
.fa-apple:before {
  content: "\f179";
}
.fa-windows:before {
  content: "\f17a";
}
.fa-android:before {
  content: "\f17b";
}
.fa-linux:before {
  content: "\f17c";
}
.fa-dribbble:before {
  content: "\f17d";
}
.fa-skype:before {
  content: "\f17e";
}
.fa-foursquare:before {
  content: "\f180";
}
.fa-trello:before {
  content: "\f181";
}
.fa-female:before {
  content: "\f182";
}
.fa-male:before {
  content: "\f183";
}
.fa-gittip:before {
  content: "\f184";
}
.fa-sun-o:before {
  content: "\f185";
}
.fa-moon-o:before {
  content: "\f186";
}
.fa-archive:before {
  content: "\f187";
}
.fa-bug:before {
  content: "\f188";
}
.fa-vk:before {
  content: "\f189";
}
.fa-weibo:before {
  content: "\f18a";
}
.fa-renren:before {
  content: "\f18b";
}
.fa-pagelines:before {
  content: "\f18c";
}
.fa-stack-exchange:before {
  content: "\f18d";
}
.fa-arrow-circle-o-right:before {
  content: "\f18e";
}
.fa-arrow-circle-o-left:before {
  content: "\f190";
}
.fa-toggle-left:before,
.fa-caret-square-o-left:before {
  content: "\f191";
}
.fa-dot-circle-o:before {
  content: "\f192";
}
.fa-wheelchair:before {
  content: "\f193";
}
.fa-vimeo-square:before {
  content: "\f194";
}
.fa-turkish-lira:before,
.fa-try:before {
  content: "\f195";
}
.fa-plus-square-o:before {
  content: "\f196";
}
.fa-space-shuttle:before {
  content: "\f197";
}
.fa-slack:before {
  content: "\f198";
}
.fa-envelope-square:before {
  content: "\f199";
}
.fa-wordpress:before {
  content: "\f19a";
}
.fa-openid:before {
  content: "\f19b";
}
.fa-institution:before,
.fa-bank:before,
.fa-university:before {
  content: "\f19c";
}
.fa-mortar-board:before,
.fa-graduation-cap:before {
  content: "\f19d";
}
.fa-yahoo:before {
  content: "\f19e";
}
.fa-google:before {
  content: "\f1a0";
}
.fa-reddit:before {
  content: "\f1a1";
}
.fa-reddit-square:before {
  content: "\f1a2";
}
.fa-stumbleupon-circle:before {
  content: "\f1a3";
}
.fa-stumbleupon:before {
  content: "\f1a4";
}
.fa-delicious:before {
  content: "\f1a5";
}
.fa-digg:before {
  content: "\f1a6";
}
.fa-pied-piper:before {
  content: "\f1a7";
}
.fa-pied-piper-alt:before {
  content: "\f1a8";
}
.fa-drupal:before {
  content: "\f1a9";
}
.fa-joomla:before {
  content: "\f1aa";
}
.fa-language:before {
  content: "\f1ab";
}
.fa-fax:before {
  content: "\f1ac";
}
.fa-building:before {
  content: "\f1ad";
}
.fa-child:before {
  content: "\f1ae";
}
.fa-paw:before {
  content: "\f1b0";
}
.fa-spoon:before {
  content: "\f1b1";
}
.fa-cube:before {
  content: "\f1b2";
}
.fa-cubes:before {
  content: "\f1b3";
}
.fa-behance:before {
  content: "\f1b4";
}
.fa-behance-square:before {
  content: "\f1b5";
}
.fa-steam:before {
  content: "\f1b6";
}
.fa-steam-square:before {
  content: "\f1b7";
}
.fa-recycle:before {
  content: "\f1b8";
}
.fa-automobile:before,
.fa-car:before {
  content: "\f1b9";
}
.fa-cab:before,
.fa-taxi:before {
  content: "\f1ba";
}
.fa-tree:before {
  content: "\f1bb";
}
.fa-spotify:before {
  content: "\f1bc";
}
.fa-deviantart:before {
  content: "\f1bd";
}
.fa-soundcloud:before {
  content: "\f1be";
}
.fa-database:before {
  content: "\f1c0";
}
.fa-file-pdf-o:before {
  content: "\f1c1";
}
.fa-file-word-o:before {
  content: "\f1c2";
}
.fa-file-excel-o:before {
  content: "\f1c3";
}
.fa-file-powerpoint-o:before {
  content: "\f1c4";
}
.fa-file-photo-o:before,
.fa-file-picture-o:before,
.fa-file-image-o:before {
  content: "\f1c5";
}
.fa-file-zip-o:before,
.fa-file-archive-o:before {
  content: "\f1c6";
}
.fa-file-sound-o:before,
.fa-file-audio-o:before {
  content: "\f1c7";
}
.fa-file-movie-o:before,
.fa-file-video-o:before {
  content: "\f1c8";
}
.fa-file-code-o:before {
  content: "\f1c9";
}
.fa-vine:before {
  content: "\f1ca";
}
.fa-codepen:before {
  content: "\f1cb";
}
.fa-jsfiddle:before {
  content: "\f1cc";
}
.fa-life-bouy:before,
.fa-life-buoy:before,
.fa-life-saver:before,
.fa-support:before,
.fa-life-ring:before {
  content: "\f1cd";
}
.fa-circle-o-notch:before {
  content: "\f1ce";
}
.fa-ra:before,
.fa-rebel:before {
  content: "\f1d0";
}
.fa-ge:before,
.fa-empire:before {
  content: "\f1d1";
}
.fa-git-square:before {
  content: "\f1d2";
}
.fa-git:before {
  content: "\f1d3";
}
.fa-hacker-news:before {
  content: "\f1d4";
}
.fa-tencent-weibo:before {
  content: "\f1d5";
}
.fa-qq:before {
  content: "\f1d6";
}
.fa-wechat:before,
.fa-weixin:before {
  content: "\f1d7";
}
.fa-send:before,
.fa-paper-plane:before {
  content: "\f1d8";
}
.fa-send-o:before,
.fa-paper-plane-o:before {
  content: "\f1d9";
}
.fa-history:before {
  content: "\f1da";
}
.fa-circle-thin:before {
  content: "\f1db";
}
.fa-header:before {
  content: "\f1dc";
}
.fa-paragraph:before {
  content: "\f1dd";
}
.fa-sliders:before {
  content: "\f1de";
}
.fa-share-alt:before {
  content: "\f1e0";
}
.fa-share-alt-square:before {
  content: "\f1e1";
}
.fa-bomb:before {
  content: "\f1e2";
}
.fa-soccer-ball-o:before,
.fa-futbol-o:before {
  content: "\f1e3";
}
.fa-tty:before {
  content: "\f1e4";
}
.fa-binoculars:before {
  content: "\f1e5";
}
.fa-plug:before {
  content: "\f1e6";
}
.fa-slideshare:before {
  content: "\f1e7";
}
.fa-twitch:before {
  content: "\f1e8";
}
.fa-yelp:before {
  content: "\f1e9";
}
.fa-newspaper-o:before {
  content: "\f1ea";
}
.fa-wifi:before {
  content: "\f1eb";
}
.fa-calculator:before {
  content: "\f1ec";
}
.fa-paypal:before {
  content: "\f1ed";
}
.fa-google-wallet:before {
  content: "\f1ee";
}
.fa-cc-visa:before {
  content: "\f1f0";
}
.fa-cc-mastercard:before {
  content: "\f1f1";
}
.fa-cc-discover:before {
  content: "\f1f2";
}
.fa-cc-amex:before {
  content: "\f1f3";
}
.fa-cc-paypal:before {
  content: "\f1f4";
}
.fa-cc-stripe:before {
  content: "\f1f5";
}
.fa-bell-slash:before {
  content: "\f1f6";
}
.fa-bell-slash-o:before {
  content: "\f1f7";
}
.fa-trash:before {
  content: "\f1f8";
}
.fa-copyright:before {
  content: "\f1f9";
}
.fa-at:before {
  content: "\f1fa";
}
.fa-eyedropper:before {
  content: "\f1fb";
}
.fa-paint-brush:before {
  content: "\f1fc";
}
.fa-birthday-cake:before {
  content: "\f1fd";
}
.fa-area-chart:before {
  content: "\f1fe";
}
.fa-pie-chart:before {
  content: "\f200";
}
.fa-line-chart:before {
  content: "\f201";
}
.fa-lastfm:before {
  content: "\f202";
}
.fa-lastfm-square:before {
  content: "\f203";
}
.fa-toggle-off:before {
  content: "\f204";
}
.fa-toggle-on:before {
  content: "\f205";
}
.fa-bicycle:before {
  content: "\f206";
}
.fa-bus:before {
  content: "\f207";
}
.fa-ioxhost:before {
  content: "\f208";
}
.fa-angellist:before {
  content: "\f209";
}
.fa-cc:before {
  content: "\f20a";
}
.fa-shekel:before,
.fa-sheqel:before,
.fa-ils:before {
  content: "\f20b";
}
.fa-meanpath:before {
  content: "\f20c";
}
/*!
*
* IPython base
*
*/
.modal.fade .modal-dialog {
  -webkit-transform: translate(0, 0);
  -ms-transform: translate(0, 0);
  -o-transform: translate(0, 0);
  transform: translate(0, 0);
}
code {
  color: #000;
}
pre {
  font-size: inherit;
  line-height: inherit;
}
label {
  font-weight: normal;
}
/* Make the page background atleast 100% the height of the view port */
/* Make the page itself atleast 70% the height of the view port */
.border-box-sizing {
  box-sizing: border-box;
  -moz-box-sizing: border-box;
  -webkit-box-sizing: border-box;
}
.corner-all {
  border-radius: 2px;
}
.no-padding {
  padding: 0px;
}
/* Flexible box model classes */
/* Taken from Alex Russell http://infrequently.org/2009/08/css-3-progress/ */
/* This file is a compatability layer.  It allows the usage of flexible box 
model layouts accross multiple browsers, including older browsers.  The newest,
universal implementation of the flexible box model is used when available (see
`Modern browsers` comments below).  Browsers that are known to implement this 
new spec completely include:

    Firefox 28.0+
    Chrome 29.0+
    Internet Explorer 11+ 
    Opera 17.0+

Browsers not listed, including Safari, are supported via the styling under the
`Old browsers` comments below.
*/
.hbox {
  /* Old browsers */
  display: -webkit-box;
  -webkit-box-orient: horizontal;
  -webkit-box-align: stretch;
  display: -moz-box;
  -moz-box-orient: horizontal;
  -moz-box-align: stretch;
  display: box;
  box-orient: horizontal;
  box-align: stretch;
  /* Modern browsers */
  display: flex;
  flex-direction: row;
  align-items: stretch;
}
.hbox > * {
  /* Old browsers */
  -webkit-box-flex: 0;
  -moz-box-flex: 0;
  box-flex: 0;
  /* Modern browsers */
  flex: none;
}
.vbox {
  /* Old browsers */
  display: -webkit-box;
  -webkit-box-orient: vertical;
  -webkit-box-align: stretch;
  display: -moz-box;
  -moz-box-orient: vertical;
  -moz-box-align: stretch;
  display: box;
  box-orient: vertical;
  box-align: stretch;
  /* Modern browsers */
  display: flex;
  flex-direction: column;
  align-items: stretch;
}
.vbox > * {
  /* Old browsers */
  -webkit-box-flex: 0;
  -moz-box-flex: 0;
  box-flex: 0;
  /* Modern browsers */
  flex: none;
}
.hbox.reverse,
.vbox.reverse,
.reverse {
  /* Old browsers */
  -webkit-box-direction: reverse;
  -moz-box-direction: reverse;
  box-direction: reverse;
  /* Modern browsers */
  flex-direction: row-reverse;
}
.hbox.box-flex0,
.vbox.box-flex0,
.box-flex0 {
  /* Old browsers */
  -webkit-box-flex: 0;
  -moz-box-flex: 0;
  box-flex: 0;
  /* Modern browsers */
  flex: none;
  width: auto;
}
.hbox.box-flex1,
.vbox.box-flex1,
.box-flex1 {
  /* Old browsers */
  -webkit-box-flex: 1;
  -moz-box-flex: 1;
  box-flex: 1;
  /* Modern browsers */
  flex: 1;
}
.hbox.box-flex,
.vbox.box-flex,
.box-flex {
  /* Old browsers */
  /* Old browsers */
  -webkit-box-flex: 1;
  -moz-box-flex: 1;
  box-flex: 1;
  /* Modern browsers */
  flex: 1;
}
.hbox.box-flex2,
.vbox.box-flex2,
.box-flex2 {
  /* Old browsers */
  -webkit-box-flex: 2;
  -moz-box-flex: 2;
  box-flex: 2;
  /* Modern browsers */
  flex: 2;
}
.box-group1 {
  /*  Deprecated */
  -webkit-box-flex-group: 1;
  -moz-box-flex-group: 1;
  box-flex-group: 1;
}
.box-group2 {
  /* Deprecated */
  -webkit-box-flex-group: 2;
  -moz-box-flex-group: 2;
  box-flex-group: 2;
}
.hbox.start,
.vbox.start,
.start {
  /* Old browsers */
  -webkit-box-pack: start;
  -moz-box-pack: start;
  box-pack: start;
  /* Modern browsers */
  justify-content: flex-start;
}
.hbox.end,
.vbox.end,
.end {
  /* Old browsers */
  -webkit-box-pack: end;
  -moz-box-pack: end;
  box-pack: end;
  /* Modern browsers */
  justify-content: flex-end;
}
.hbox.center,
.vbox.center,
.center {
  /* Old browsers */
  -webkit-box-pack: center;
  -moz-box-pack: center;
  box-pack: center;
  /* Modern browsers */
  justify-content: center;
}
.hbox.baseline,
.vbox.baseline,
.baseline {
  /* Old browsers */
  -webkit-box-pack: baseline;
  -moz-box-pack: baseline;
  box-pack: baseline;
  /* Modern browsers */
  justify-content: baseline;
}
.hbox.stretch,
.vbox.stretch,
.stretch {
  /* Old browsers */
  -webkit-box-pack: stretch;
  -moz-box-pack: stretch;
  box-pack: stretch;
  /* Modern browsers */
  justify-content: stretch;
}
.hbox.align-start,
.vbox.align-start,
.align-start {
  /* Old browsers */
  -webkit-box-align: start;
  -moz-box-align: start;
  box-align: start;
  /* Modern browsers */
  align-items: flex-start;
}
.hbox.align-end,
.vbox.align-end,
.align-end {
  /* Old browsers */
  -webkit-box-align: end;
  -moz-box-align: end;
  box-align: end;
  /* Modern browsers */
  align-items: flex-end;
}
.hbox.align-center,
.vbox.align-center,
.align-center {
  /* Old browsers */
  -webkit-box-align: center;
  -moz-box-align: center;
  box-align: center;
  /* Modern browsers */
  align-items: center;
}
.hbox.align-baseline,
.vbox.align-baseline,
.align-baseline {
  /* Old browsers */
  -webkit-box-align: baseline;
  -moz-box-align: baseline;
  box-align: baseline;
  /* Modern browsers */
  align-items: baseline;
}
.hbox.align-stretch,
.vbox.align-stretch,
.align-stretch {
  /* Old browsers */
  -webkit-box-align: stretch;
  -moz-box-align: stretch;
  box-align: stretch;
  /* Modern browsers */
  align-items: stretch;
}
div.error {
  margin: 2em;
  text-align: center;
}
div.error > h1 {
  font-size: 500%;
  line-height: normal;
}
div.error > p {
  font-size: 200%;
  line-height: normal;
}
div.traceback-wrapper {
  text-align: left;
  max-width: 800px;
  margin: auto;
}
/**
 * Primary styles
 *
 * Author: Jupyter Development Team
 */
body {
  background-color: #fff;
  /* This makes sure that the body covers the entire window and needs to
       be in a different element than the display: box in wrapper below */
  position: absolute;
  left: 0px;
  right: 0px;
  top: 0px;
  bottom: 0px;
  overflow: visible;
}
body > #header {
  /* Initially hidden to prevent FLOUC */
  display: none;
  background-color: #fff;
  /* Display over codemirror */
  position: relative;
  z-index: 100;
}
body > #header #header-container {
  padding-bottom: 5px;
  padding-top: 5px;
  box-sizing: border-box;
  -moz-box-sizing: border-box;
  -webkit-box-sizing: border-box;
}
body > #header .header-bar {
  width: 100%;
  height: 1px;
  background: #e7e7e7;
  margin-bottom: -1px;
}
@media print {
  body > #header {
    display: none !important;
  }
}
#header-spacer {
  width: 100%;
  visibility: hidden;
}
@media print {
  #header-spacer {
    display: none;
  }
}
#ipython_notebook {
  padding-left: 0px;
  padding-top: 1px;
  padding-bottom: 1px;
}
@media (max-width: 991px) {
  #ipython_notebook {
    margin-left: 10px;
  }
}
#noscript {
  width: auto;
  padding-top: 16px;
  padding-bottom: 16px;
  text-align: center;
  font-size: 22px;
  color: red;
  font-weight: bold;
}
#ipython_notebook img {
  height: 28px;
}
#site {
  width: 100%;
  display: none;
  box-sizing: border-box;
  -moz-box-sizing: border-box;
  -webkit-box-sizing: border-box;
  overflow: auto;
}
@media print {
  #site {
    height: auto !important;
  }
}
/* Smaller buttons */
.ui-button .ui-button-text {
  padding: 0.2em 0.8em;
  font-size: 77%;
}
input.ui-button {
  padding: 0.3em 0.9em;
}
span#login_widget {
  float: right;
}
span#login_widget > .button,
#logout {
  color: #333;
  background-color: #fff;
  border-color: #ccc;
}
span#login_widget > .button:focus,
#logout:focus,
span#login_widget > .button.focus,
#logout.focus {
  color: #333;
  background-color: #e6e6e6;
  border-color: #8c8c8c;
}
span#login_widget > .button:hover,
#logout:hover {
  color: #333;
  background-color: #e6e6e6;
  border-color: #adadad;
}
span#login_widget > .button:active,
#logout:active,
span#login_widget > .button.active,
#logout.active,
.open > .dropdown-togglespan#login_widget > .button,
.open > .dropdown-toggle#logout {
  color: #333;
  background-color: #e6e6e6;
  border-color: #adadad;
}
span#login_widget > .button:active:hover,
#logout:active:hover,
span#login_widget > .button.active:hover,
#logout.active:hover,
.open > .dropdown-togglespan#login_widget > .button:hover,
.open > .dropdown-toggle#logout:hover,
span#login_widget > .button:active:focus,
#logout:active:focus,
span#login_widget > .button.active:focus,
#logout.active:focus,
.open > .dropdown-togglespan#login_widget > .button:focus,
.open > .dropdown-toggle#logout:focus,
span#login_widget > .button:active.focus,
#logout:active.focus,
span#login_widget > .button.active.focus,
#logout.active.focus,
.open > .dropdown-togglespan#login_widget > .button.focus,
.open > .dropdown-toggle#logout.focus {
  color: #333;
  background-color: #d4d4d4;
  border-color: #8c8c8c;
}
span#login_widget > .button:active,
#logout:active,
span#login_widget > .button.active,
#logout.active,
.open > .dropdown-togglespan#login_widget > .button,
.open > .dropdown-toggle#logout {
  background-image: none;
}
span#login_widget > .button.disabled:hover,
#logout.disabled:hover,
span#login_widget > .button[disabled]:hover,
#logout[disabled]:hover,
fieldset[disabled] span#login_widget > .button:hover,
fieldset[disabled] #logout:hover,
span#login_widget > .button.disabled:focus,
#logout.disabled:focus,
span#login_widget > .button[disabled]:focus,
#logout[disabled]:focus,
fieldset[disabled] span#login_widget > .button:focus,
fieldset[disabled] #logout:focus,
span#login_widget > .button.disabled.focus,
#logout.disabled.focus,
span#login_widget > .button[disabled].focus,
#logout[disabled].focus,
fieldset[disabled] span#login_widget > .button.focus,
fieldset[disabled] #logout.focus {
  background-color: #fff;
  border-color: #ccc;
}
span#login_widget > .button .badge,
#logout .badge {
  color: #fff;
  background-color: #333;
}
.nav-header {
  text-transform: none;
}
#header > span {
  margin-top: 10px;
}
.modal_stretch .modal-dialog {
  /* Old browsers */
  display: -webkit-box;
  -webkit-box-orient: vertical;
  -webkit-box-align: stretch;
  display: -moz-box;
  -moz-box-orient: vertical;
  -moz-box-align: stretch;
  display: box;
  box-orient: vertical;
  box-align: stretch;
  /* Modern browsers */
  display: flex;
  flex-direction: column;
  align-items: stretch;
  min-height: 80vh;
}
.modal_stretch .modal-dialog .modal-body {
  max-height: calc(100vh - 200px);
  overflow: auto;
  flex: 1;
}
@media (min-width: 768px) {
  .modal .modal-dialog {
    width: 700px;
  }
}
@media (min-width: 768px) {
  select.form-control {
    margin-left: 12px;
    margin-right: 12px;
  }
}
/*!
*
* IPython auth
*
*/
.center-nav {
  display: inline-block;
  margin-bottom: -4px;
}
/*!
*
* IPython tree view
*
*/
/* We need an invisible input field on top of the sentense*/
/* "Drag file onto the list ..." */
.alternate_upload {
  background-color: none;
  display: inline;
}
.alternate_upload.form {
  padding: 0;
  margin: 0;
}
.alternate_upload input.fileinput {
  text-align: center;
  vertical-align: middle;
  display: inline;
  opacity: 0;
  z-index: 2;
  width: 12ex;
  margin-right: -12ex;
}
.alternate_upload .btn-upload {
  height: 22px;
}
/**
 * Primary styles
 *
 * Author: Jupyter Development Team
 */
ul#tabs {
  margin-bottom: 4px;
}
ul#tabs a {
  padding-top: 6px;
  padding-bottom: 4px;
}
ul.breadcrumb a:focus,
ul.breadcrumb a:hover {
  text-decoration: none;
}
ul.breadcrumb i.icon-home {
  font-size: 16px;
  margin-right: 4px;
}
ul.breadcrumb span {
  color: #5e5e5e;
}
.list_toolbar {
  padding: 4px 0 4px 0;
  vertical-align: middle;
}
.list_toolbar .tree-buttons {
  padding-top: 1px;
}
.dynamic-buttons {
  padding-top: 3px;
  display: inline-block;
}
.list_toolbar [class*="span"] {
  min-height: 24px;
}
.list_header {
  font-weight: bold;
  background-color: #EEE;
}
.list_placeholder {
  font-weight: bold;
  padding-top: 4px;
  padding-bottom: 4px;
  padding-left: 7px;
  padding-right: 7px;
}
.list_container {
  margin-top: 4px;
  margin-bottom: 20px;
  border: 1px solid #ddd;
  border-radius: 2px;
}
.list_container > div {
  border-bottom: 1px solid #ddd;
}
.list_container > div:hover .list-item {
  background-color: red;
}
.list_container > div:last-child {
  border: none;
}
.list_item:hover .list_item {
  background-color: #ddd;
}
.list_item a {
  text-decoration: none;
}
.list_item:hover {
  background-color: #fafafa;
}
.list_header > div,
.list_item > div {
  padding-top: 4px;
  padding-bottom: 4px;
  padding-left: 7px;
  padding-right: 7px;
  line-height: 22px;
}
.list_header > div input,
.list_item > div input {
  margin-right: 7px;
  margin-left: 14px;
  vertical-align: baseline;
  line-height: 22px;
  position: relative;
  top: -1px;
}
.list_header > div .item_link,
.list_item > div .item_link {
  margin-left: -1px;
  vertical-align: baseline;
  line-height: 22px;
}
.new-file input[type=checkbox] {
  visibility: hidden;
}
.item_name {
  line-height: 22px;
  height: 24px;
}
.item_icon {
  font-size: 14px;
  color: #5e5e5e;
  margin-right: 7px;
  margin-left: 7px;
  line-height: 22px;
  vertical-align: baseline;
}
.item_buttons {
  line-height: 1em;
  margin-left: -5px;
}
.item_buttons .btn,
.item_buttons .btn-group,
.item_buttons .input-group {
  float: left;
}
.item_buttons > .btn,
.item_buttons > .btn-group,
.item_buttons > .input-group {
  margin-left: 5px;
}
.item_buttons .btn {
  min-width: 13ex;
}
.item_buttons .running-indicator {
  padding-top: 4px;
  color: #5cb85c;
}
.item_buttons .kernel-name {
  padding-top: 4px;
  color: #5bc0de;
  margin-right: 7px;
  float: left;
}
.toolbar_info {
  height: 24px;
  line-height: 24px;
}
.list_item input:not([type=checkbox]) {
  padding-top: 3px;
  padding-bottom: 3px;
  height: 22px;
  line-height: 14px;
  margin: 0px;
}
.highlight_text {
  color: blue;
}
#project_name {
  display: inline-block;
  padding-left: 7px;
  margin-left: -2px;
}
#project_name > .breadcrumb {
  padding: 0px;
  margin-bottom: 0px;
  background-color: transparent;
  font-weight: bold;
}
#tree-selector {
  padding-right: 0px;
}
#button-select-all {
  min-width: 50px;
}
#select-all {
  margin-left: 7px;
  margin-right: 2px;
}
.menu_icon {
  margin-right: 2px;
}
.tab-content .row {
  margin-left: 0px;
  margin-right: 0px;
}
.folder_icon:before {
  display: inline-block;
  font: normal normal normal 14px/1 FontAwesome;
  font-size: inherit;
  text-rendering: auto;
  -webkit-font-smoothing: antialiased;
  -moz-osx-font-smoothing: grayscale;
  content: "\f114";
}
.folder_icon:before.pull-left {
  margin-right: .3em;
}
.folder_icon:before.pull-right {
  margin-left: .3em;
}
.notebook_icon:before {
  display: inline-block;
  font: normal normal normal 14px/1 FontAwesome;
  font-size: inherit;
  text-rendering: auto;
  -webkit-font-smoothing: antialiased;
  -moz-osx-font-smoothing: grayscale;
  content: "\f02d";
  position: relative;
  top: -1px;
}
.notebook_icon:before.pull-left {
  margin-right: .3em;
}
.notebook_icon:before.pull-right {
  margin-left: .3em;
}
.running_notebook_icon:before {
  display: inline-block;
  font: normal normal normal 14px/1 FontAwesome;
  font-size: inherit;
  text-rendering: auto;
  -webkit-font-smoothing: antialiased;
  -moz-osx-font-smoothing: grayscale;
  content: "\f02d";
  position: relative;
  top: -1px;
  color: #5cb85c;
}
.running_notebook_icon:before.pull-left {
  margin-right: .3em;
}
.running_notebook_icon:before.pull-right {
  margin-left: .3em;
}
.file_icon:before {
  display: inline-block;
  font: normal normal normal 14px/1 FontAwesome;
  font-size: inherit;
  text-rendering: auto;
  -webkit-font-smoothing: antialiased;
  -moz-osx-font-smoothing: grayscale;
  content: "\f016";
  position: relative;
  top: -2px;
}
.file_icon:before.pull-left {
  margin-right: .3em;
}
.file_icon:before.pull-right {
  margin-left: .3em;
}
#notebook_toolbar .pull-right {
  padding-top: 0px;
  margin-right: -1px;
}
ul#new-menu {
  left: auto;
  right: 0;
}
.kernel-menu-icon {
  padding-right: 12px;
  width: 24px;
  content: "\f096";
}
.kernel-menu-icon:before {
  content: "\f096";
}
.kernel-menu-icon-current:before {
  content: "\f00c";
}
#tab_content {
  padding-top: 20px;
}
#running .panel-group .panel {
  margin-top: 3px;
  margin-bottom: 1em;
}
#running .panel-group .panel .panel-heading {
  background-color: #EEE;
  padding-top: 4px;
  padding-bottom: 4px;
  padding-left: 7px;
  padding-right: 7px;
  line-height: 22px;
}
#running .panel-group .panel .panel-heading a:focus,
#running .panel-group .panel .panel-heading a:hover {
  text-decoration: none;
}
#running .panel-group .panel .panel-body {
  padding: 0px;
}
#running .panel-group .panel .panel-body .list_container {
  margin-top: 0px;
  margin-bottom: 0px;
  border: 0px;
  border-radius: 0px;
}
#running .panel-group .panel .panel-body .list_container .list_item {
  border-bottom: 1px solid #ddd;
}
#running .panel-group .panel .panel-body .list_container .list_item:last-child {
  border-bottom: 0px;
}
.delete-button {
  display: none;
}
.duplicate-button {
  display: none;
}
.rename-button {
  display: none;
}
.shutdown-button {
  display: none;
}
.dynamic-instructions {
  display: inline-block;
  padding-top: 4px;
}
/*!
*
* IPython text editor webapp
*
*/
.selected-keymap i.fa {
  padding: 0px 5px;
}
.selected-keymap i.fa:before {
  content: "\f00c";
}
#mode-menu {
  overflow: auto;
  max-height: 20em;
}
.edit_app #header {
  -webkit-box-shadow: 0px 0px 12px 1px rgba(87, 87, 87, 0.2);
  box-shadow: 0px 0px 12px 1px rgba(87, 87, 87, 0.2);
}
.edit_app #menubar .navbar {
  /* Use a negative 1 bottom margin, so the border overlaps the border of the
    header */
  margin-bottom: -1px;
}
.dirty-indicator {
  display: inline-block;
  font: normal normal normal 14px/1 FontAwesome;
  font-size: inherit;
  text-rendering: auto;
  -webkit-font-smoothing: antialiased;
  -moz-osx-font-smoothing: grayscale;
  width: 20px;
}
.dirty-indicator.pull-left {
  margin-right: .3em;
}
.dirty-indicator.pull-right {
  margin-left: .3em;
}
.dirty-indicator-dirty {
  display: inline-block;
  font: normal normal normal 14px/1 FontAwesome;
  font-size: inherit;
  text-rendering: auto;
  -webkit-font-smoothing: antialiased;
  -moz-osx-font-smoothing: grayscale;
  width: 20px;
}
.dirty-indicator-dirty.pull-left {
  margin-right: .3em;
}
.dirty-indicator-dirty.pull-right {
  margin-left: .3em;
}
.dirty-indicator-clean {
  display: inline-block;
  font: normal normal normal 14px/1 FontAwesome;
  font-size: inherit;
  text-rendering: auto;
  -webkit-font-smoothing: antialiased;
  -moz-osx-font-smoothing: grayscale;
  width: 20px;
}
.dirty-indicator-clean.pull-left {
  margin-right: .3em;
}
.dirty-indicator-clean.pull-right {
  margin-left: .3em;
}
.dirty-indicator-clean:before {
  display: inline-block;
  font: normal normal normal 14px/1 FontAwesome;
  font-size: inherit;
  text-rendering: auto;
  -webkit-font-smoothing: antialiased;
  -moz-osx-font-smoothing: grayscale;
  content: "\f00c";
}
.dirty-indicator-clean:before.pull-left {
  margin-right: .3em;
}
.dirty-indicator-clean:before.pull-right {
  margin-left: .3em;
}
#filename {
  font-size: 16pt;
  display: table;
  padding: 0px 5px;
}
#current-mode {
  padding-left: 5px;
  padding-right: 5px;
}
#texteditor-backdrop {
  padding-top: 20px;
  padding-bottom: 20px;
}
@media not print {
  #texteditor-backdrop {
    background-color: #EEE;
  }
}
@media print {
  #texteditor-backdrop #texteditor-container .CodeMirror-gutter,
  #texteditor-backdrop #texteditor-container .CodeMirror-gutters {
    background-color: #fff;
  }
}
@media not print {
  #texteditor-backdrop #texteditor-container .CodeMirror-gutter,
  #texteditor-backdrop #texteditor-container .CodeMirror-gutters {
    background-color: #fff;
  }
}
@media not print {
  #texteditor-backdrop #texteditor-container {
    padding: 0px;
    background-color: #fff;
    -webkit-box-shadow: 0px 0px 12px 1px rgba(87, 87, 87, 0.2);
    box-shadow: 0px 0px 12px 1px rgba(87, 87, 87, 0.2);
  }
}
/*!
*
* IPython notebook
*
*/
/* CSS font colors for translated ANSI colors. */
.ansibold {
  font-weight: bold;
}
/* use dark versions for foreground, to improve visibility */
.ansiblack {
  color: black;
}
.ansired {
  color: darkred;
}
.ansigreen {
  color: darkgreen;
}
.ansiyellow {
  color: #c4a000;
}
.ansiblue {
  color: darkblue;
}
.ansipurple {
  color: darkviolet;
}
.ansicyan {
  color: steelblue;
}
.ansigray {
  color: gray;
}
/* and light for background, for the same reason */
.ansibgblack {
  background-color: black;
}
.ansibgred {
  background-color: red;
}
.ansibggreen {
  background-color: green;
}
.ansibgyellow {
  background-color: yellow;
}
.ansibgblue {
  background-color: blue;
}
.ansibgpurple {
  background-color: magenta;
}
.ansibgcyan {
  background-color: cyan;
}
.ansibggray {
  background-color: gray;
}
div.cell {
  /* Old browsers */
  display: -webkit-box;
  -webkit-box-orient: vertical;
  -webkit-box-align: stretch;
  display: -moz-box;
  -moz-box-orient: vertical;
  -moz-box-align: stretch;
  display: box;
  box-orient: vertical;
  box-align: stretch;
  /* Modern browsers */
  display: flex;
  flex-direction: column;
  align-items: stretch;
  border-radius: 2px;
  box-sizing: border-box;
  -moz-box-sizing: border-box;
  -webkit-box-sizing: border-box;
  border-width: 1px;
  border-style: solid;
  border-color: transparent;
  width: 100%;
  padding: 5px;
  /* This acts as a spacer between cells, that is outside the border */
  margin: 0px;
  outline: none;
  border-left-width: 1px;
  padding-left: 5px;
  background: linear-gradient(to right, transparent -40px, transparent 1px, transparent 1px, transparent 100%);
}
div.cell.jupyter-soft-selected {
  border-left-color: #90CAF9;
  border-left-color: #E3F2FD;
  border-left-width: 1px;
  padding-left: 5px;
  border-right-color: #E3F2FD;
  border-right-width: 1px;
  background: #E3F2FD;
}
@media print {
  div.cell.jupyter-soft-selected {
    border-color: transparent;
  }
}
div.cell.selected {
  border-color: #ababab;
  border-left-width: 0px;
  padding-left: 6px;
  background: linear-gradient(to right, #42A5F5 -40px, #42A5F5 5px, transparent 5px, transparent 100%);
}
@media print {
  div.cell.selected {
    border-color: transparent;
  }
}
div.cell.selected.jupyter-soft-selected {
  border-left-width: 0;
  padding-left: 6px;
  background: linear-gradient(to right, #42A5F5 -40px, #42A5F5 7px, #E3F2FD 7px, #E3F2FD 100%);
}
.edit_mode div.cell.selected {
  border-color: #66BB6A;
  border-left-width: 0px;
  padding-left: 6px;
  background: linear-gradient(to right, #66BB6A -40px, #66BB6A 5px, transparent 5px, transparent 100%);
}
@media print {
  .edit_mode div.cell.selected {
    border-color: transparent;
  }
}
.prompt {
  /* This needs to be wide enough for 3 digit prompt numbers: In[100]: */
  min-width: 14ex;
  /* This padding is tuned to match the padding on the CodeMirror editor. */
  padding: 0.4em;
  margin: 0px;
  font-family: monospace;
  text-align: right;
  /* This has to match that of the the CodeMirror class line-height below */
  line-height: 1.21429em;
  /* Don't highlight prompt number selection */
  -webkit-touch-callout: none;
  -webkit-user-select: none;
  -khtml-user-select: none;
  -moz-user-select: none;
  -ms-user-select: none;
  user-select: none;
  /* Use default cursor */
  cursor: default;
}
@media (max-width: 540px) {
  .prompt {
    text-align: left;
  }
}
div.inner_cell {
  /* Old browsers */
  display: -webkit-box;
  -webkit-box-orient: vertical;
  -webkit-box-align: stretch;
  display: -moz-box;
  -moz-box-orient: vertical;
  -moz-box-align: stretch;
  display: box;
  box-orient: vertical;
  box-align: stretch;
  /* Modern browsers */
  display: flex;
  flex-direction: column;
  align-items: stretch;
  /* Old browsers */
  -webkit-box-flex: 1;
  -moz-box-flex: 1;
  box-flex: 1;
  /* Modern browsers */
  flex: 1;
}
@-moz-document url-prefix() {
  div.inner_cell {
    overflow-x: hidden;
  }
}
/* input_area and input_prompt must match in top border and margin for alignment */
div.input_area {
  border: 1px solid #cfcfcf;
  border-radius: 2px;
  background: #f7f7f7;
  line-height: 1.21429em;
}
/* This is needed so that empty prompt areas can collapse to zero height when there
   is no content in the output_subarea and the prompt. The main purpose of this is
   to make sure that empty JavaScript output_subareas have no height. */
div.prompt:empty {
  padding-top: 0;
  padding-bottom: 0;
}
div.unrecognized_cell {
  padding: 5px 5px 5px 0px;
  /* Old browsers */
  display: -webkit-box;
  -webkit-box-orient: horizontal;
  -webkit-box-align: stretch;
  display: -moz-box;
  -moz-box-orient: horizontal;
  -moz-box-align: stretch;
  display: box;
  box-orient: horizontal;
  box-align: stretch;
  /* Modern browsers */
  display: flex;
  flex-direction: row;
  align-items: stretch;
}
div.unrecognized_cell .inner_cell {
  border-radius: 2px;
  padding: 5px;
  font-weight: bold;
  color: red;
  border: 1px solid #cfcfcf;
  background: #eaeaea;
}
div.unrecognized_cell .inner_cell a {
  color: inherit;
  text-decoration: none;
}
div.unrecognized_cell .inner_cell a:hover {
  color: inherit;
  text-decoration: none;
}
@media (max-width: 540px) {
  div.unrecognized_cell > div.prompt {
    display: none;
  }
}
div.code_cell {
  /* avoid page breaking on code cells when printing */
}
@media print {
  div.code_cell {
    page-break-inside: avoid;
  }
}
/* any special styling for code cells that are currently running goes here */
div.input {
  page-break-inside: avoid;
  /* Old browsers */
  display: -webkit-box;
  -webkit-box-orient: horizontal;
  -webkit-box-align: stretch;
  display: -moz-box;
  -moz-box-orient: horizontal;
  -moz-box-align: stretch;
  display: box;
  box-orient: horizontal;
  box-align: stretch;
  /* Modern browsers */
  display: flex;
  flex-direction: row;
  align-items: stretch;
}
@media (max-width: 540px) {
  div.input {
    /* Old browsers */
    display: -webkit-box;
    -webkit-box-orient: vertical;
    -webkit-box-align: stretch;
    display: -moz-box;
    -moz-box-orient: vertical;
    -moz-box-align: stretch;
    display: box;
    box-orient: vertical;
    box-align: stretch;
    /* Modern browsers */
    display: flex;
    flex-direction: column;
    align-items: stretch;
  }
}
/* input_area and input_prompt must match in top border and margin for alignment */
div.input_prompt {
  color: #303F9F;
  border-top: 1px solid transparent;
}
div.input_area > div.highlight {
  margin: 0.4em;
  border: none;
  padding: 0px;
  background-color: transparent;
}
div.input_area > div.highlight > pre {
  margin: 0px;
  border: none;
  padding: 0px;
  background-color: transparent;
}
/* The following gets added to the <head> if it is detected that the user has a
 * monospace font with inconsistent normal/bold/italic height.  See
 * notebookmain.js.  Such fonts will have keywords vertically offset with
 * respect to the rest of the text.  The user should select a better font.
 * See: https://github.com/ipython/ipython/issues/1503
 *
 * .CodeMirror span {
 *      vertical-align: bottom;
 * }
 */
.CodeMirror {
  line-height: 1.21429em;
  /* Changed from 1em to our global default */
  font-size: 14px;
  height: auto;
  /* Changed to auto to autogrow */
  background: none;
  /* Changed from white to allow our bg to show through */
}
.CodeMirror-scroll {
  /*  The CodeMirror docs are a bit fuzzy on if overflow-y should be hidden or visible.*/
  /*  We have found that if it is visible, vertical scrollbars appear with font size changes.*/
  overflow-y: hidden;
  overflow-x: auto;
}
.CodeMirror-lines {
  /* In CM2, this used to be 0.4em, but in CM3 it went to 4px. We need the em value because */
  /* we have set a different line-height and want this to scale with that. */
  padding: 0.4em;
}
.CodeMirror-linenumber {
  padding: 0 8px 0 4px;
}
.CodeMirror-gutters {
  border-bottom-left-radius: 2px;
  border-top-left-radius: 2px;
}
.CodeMirror pre {
  /* In CM3 this went to 4px from 0 in CM2. We need the 0 value because of how we size */
  /* .CodeMirror-lines */
  padding: 0;
  border: 0;
  border-radius: 0;
}
/*

Original style from softwaremaniacs.org (c) Ivan Sagalaev <Maniac@SoftwareManiacs.Org>
Adapted from GitHub theme

*/
.highlight-base {
  color: #000;
}
.highlight-variable {
  color: #000;
}
.highlight-variable-2 {
  color: #1a1a1a;
}
.highlight-variable-3 {
  color: #333333;
}
.highlight-string {
  color: #BA2121;
}
.highlight-comment {
  color: #408080;
  font-style: italic;
}
.highlight-number {
  color: #080;
}
.highlight-atom {
  color: #88F;
}
.highlight-keyword {
  color: #008000;
  font-weight: bold;
}
.highlight-builtin {
  color: #008000;
}
.highlight-error {
  color: #f00;
}
.highlight-operator {
  color: #AA22FF;
  font-weight: bold;
}
.highlight-meta {
  color: #AA22FF;
}
/* previously not defined, copying from default codemirror */
.highlight-def {
  color: #00f;
}
.highlight-string-2 {
  color: #f50;
}
.highlight-qualifier {
  color: #555;
}
.highlight-bracket {
  color: #997;
}
.highlight-tag {
  color: #170;
}
.highlight-attribute {
  color: #00c;
}
.highlight-header {
  color: blue;
}
.highlight-quote {
  color: #090;
}
.highlight-link {
  color: #00c;
}
/* apply the same style to codemirror */
.cm-s-ipython span.cm-keyword {
  color: #008000;
  font-weight: bold;
}
.cm-s-ipython span.cm-atom {
  color: #88F;
}
.cm-s-ipython span.cm-number {
  color: #080;
}
.cm-s-ipython span.cm-def {
  color: #00f;
}
.cm-s-ipython span.cm-variable {
  color: #000;
}
.cm-s-ipython span.cm-operator {
  color: #AA22FF;
  font-weight: bold;
}
.cm-s-ipython span.cm-variable-2 {
  color: #1a1a1a;
}
.cm-s-ipython span.cm-variable-3 {
  color: #333333;
}
.cm-s-ipython span.cm-comment {
  color: #408080;
  font-style: italic;
}
.cm-s-ipython span.cm-string {
  color: #BA2121;
}
.cm-s-ipython span.cm-string-2 {
  color: #f50;
}
.cm-s-ipython span.cm-meta {
  color: #AA22FF;
}
.cm-s-ipython span.cm-qualifier {
  color: #555;
}
.cm-s-ipython span.cm-builtin {
  color: #008000;
}
.cm-s-ipython span.cm-bracket {
  color: #997;
}
.cm-s-ipython span.cm-tag {
  color: #170;
}
.cm-s-ipython span.cm-attribute {
  color: #00c;
}
.cm-s-ipython span.cm-header {
  color: blue;
}
.cm-s-ipython span.cm-quote {
  color: #090;
}
.cm-s-ipython span.cm-link {
  color: #00c;
}
.cm-s-ipython span.cm-error {
  color: #f00;
}
.cm-s-ipython span.cm-tab {
  background: url(data:image/png;base64,iVBORw0KGgoAAAANSUhEUgAAADAAAAAMCAYAAAAkuj5RAAAAAXNSR0IArs4c6QAAAGFJREFUSMft1LsRQFAQheHPowAKoACx3IgEKtaEHujDjORSgWTH/ZOdnZOcM/sgk/kFFWY0qV8foQwS4MKBCS3qR6ixBJvElOobYAtivseIE120FaowJPN75GMu8j/LfMwNjh4HUpwg4LUAAAAASUVORK5CYII=);
  background-position: right;
  background-repeat: no-repeat;
}
div.output_wrapper {
  /* this position must be relative to enable descendents to be absolute within it */
  position: relative;
  /* Old browsers */
  display: -webkit-box;
  -webkit-box-orient: vertical;
  -webkit-box-align: stretch;
  display: -moz-box;
  -moz-box-orient: vertical;
  -moz-box-align: stretch;
  display: box;
  box-orient: vertical;
  box-align: stretch;
  /* Modern browsers */
  display: flex;
  flex-direction: column;
  align-items: stretch;
  z-index: 1;
}
/* class for the output area when it should be height-limited */
div.output_scroll {
  /* ideally, this would be max-height, but FF barfs all over that */
  height: 24em;
  /* FF needs this *and the wrapper* to specify full width, or it will shrinkwrap */
  width: 100%;
  overflow: auto;
  border-radius: 2px;
  -webkit-box-shadow: inset 0 2px 8px rgba(0, 0, 0, 0.8);
  box-shadow: inset 0 2px 8px rgba(0, 0, 0, 0.8);
  display: block;
}
/* output div while it is collapsed */
div.output_collapsed {
  margin: 0px;
  padding: 0px;
  /* Old browsers */
  display: -webkit-box;
  -webkit-box-orient: vertical;
  -webkit-box-align: stretch;
  display: -moz-box;
  -moz-box-orient: vertical;
  -moz-box-align: stretch;
  display: box;
  box-orient: vertical;
  box-align: stretch;
  /* Modern browsers */
  display: flex;
  flex-direction: column;
  align-items: stretch;
}
div.out_prompt_overlay {
  height: 100%;
  padding: 0px 0.4em;
  position: absolute;
  border-radius: 2px;
}
div.out_prompt_overlay:hover {
  /* use inner shadow to get border that is computed the same on WebKit/FF */
  -webkit-box-shadow: inset 0 0 1px #000;
  box-shadow: inset 0 0 1px #000;
  background: rgba(240, 240, 240, 0.5);
}
div.output_prompt {
  color: #D84315;
}
/* This class is the outer container of all output sections. */
div.output_area {
  padding: 0px;
  page-break-inside: avoid;
  /* Old browsers */
  display: -webkit-box;
  -webkit-box-orient: horizontal;
  -webkit-box-align: stretch;
  display: -moz-box;
  -moz-box-orient: horizontal;
  -moz-box-align: stretch;
  display: box;
  box-orient: horizontal;
  box-align: stretch;
  /* Modern browsers */
  display: flex;
  flex-direction: row;
  align-items: stretch;
}
div.output_area .MathJax_Display {
  text-align: left !important;
}
div.output_area .rendered_html table {
  margin-left: 0;
  margin-right: 0;
}
div.output_area .rendered_html img {
  margin-left: 0;
  margin-right: 0;
}
div.output_area img,
div.output_area svg {
  max-width: 100%;
  height: auto;
}
div.output_area img.unconfined,
div.output_area svg.unconfined {
  max-width: none;
}
/* This is needed to protect the pre formating from global settings such
   as that of bootstrap */
.output {
  /* Old browsers */
  display: -webkit-box;
  -webkit-box-orient: vertical;
  -webkit-box-align: stretch;
  display: -moz-box;
  -moz-box-orient: vertical;
  -moz-box-align: stretch;
  display: box;
  box-orient: vertical;
  box-align: stretch;
  /* Modern browsers */
  display: flex;
  flex-direction: column;
  align-items: stretch;
}
@media (max-width: 540px) {
  div.output_area {
    /* Old browsers */
    display: -webkit-box;
    -webkit-box-orient: vertical;
    -webkit-box-align: stretch;
    display: -moz-box;
    -moz-box-orient: vertical;
    -moz-box-align: stretch;
    display: box;
    box-orient: vertical;
    box-align: stretch;
    /* Modern browsers */
    display: flex;
    flex-direction: column;
    align-items: stretch;
  }
}
div.output_area pre {
  margin: 0;
  padding: 0;
  border: 0;
  vertical-align: baseline;
  color: black;
  background-color: transparent;
  border-radius: 0;
}
/* This class is for the output subarea inside the output_area and after
   the prompt div. */
div.output_subarea {
  overflow-x: auto;
  padding: 0.4em;
  /* Old browsers */
  -webkit-box-flex: 1;
  -moz-box-flex: 1;
  box-flex: 1;
  /* Modern browsers */
  flex: 1;
  max-width: calc(100% - 14ex);
}
div.output_scroll div.output_subarea {
  overflow-x: visible;
}
/* The rest of the output_* classes are for special styling of the different
   output types */
/* all text output has this class: */
div.output_text {
  text-align: left;
  color: #000;
  /* This has to match that of the the CodeMirror class line-height below */
  line-height: 1.21429em;
}
/* stdout/stderr are 'text' as well as 'stream', but execute_result/error are *not* streams */
div.output_stderr {
  background: #fdd;
  /* very light red background for stderr */
}
div.output_latex {
  text-align: left;
}
/* Empty output_javascript divs should have no height */
div.output_javascript:empty {
  padding: 0;
}
.js-error {
  color: darkred;
}
/* raw_input styles */
div.raw_input_container {
  line-height: 1.21429em;
  padding-top: 5px;
}
pre.raw_input_prompt {
  /* nothing needed here. */
}
input.raw_input {
  font-family: monospace;
  font-size: inherit;
  color: inherit;
  width: auto;
  /* make sure input baseline aligns with prompt */
  vertical-align: baseline;
  /* padding + margin = 0.5em between prompt and cursor */
  padding: 0em 0.25em;
  margin: 0em 0.25em;
}
input.raw_input:focus {
  box-shadow: none;
}
p.p-space {
  margin-bottom: 10px;
}
div.output_unrecognized {
  padding: 5px;
  font-weight: bold;
  color: red;
}
div.output_unrecognized a {
  color: inherit;
  text-decoration: none;
}
div.output_unrecognized a:hover {
  color: inherit;
  text-decoration: none;
}
.rendered_html {
  color: #000;
  /* any extras will just be numbers: */
}
.rendered_html em {
  font-style: italic;
}
.rendered_html strong {
  font-weight: bold;
}
.rendered_html u {
  text-decoration: underline;
}
.rendered_html :link {
  text-decoration: underline;
}
.rendered_html :visited {
  text-decoration: underline;
}
.rendered_html h1 {
  font-size: 185.7%;
  margin: 1.08em 0 0 0;
  font-weight: bold;
  line-height: 1.0;
}
.rendered_html h2 {
  font-size: 157.1%;
  margin: 1.27em 0 0 0;
  font-weight: bold;
  line-height: 1.0;
}
.rendered_html h3 {
  font-size: 128.6%;
  margin: 1.55em 0 0 0;
  font-weight: bold;
  line-height: 1.0;
}
.rendered_html h4 {
  font-size: 100%;
  margin: 2em 0 0 0;
  font-weight: bold;
  line-height: 1.0;
}
.rendered_html h5 {
  font-size: 100%;
  margin: 2em 0 0 0;
  font-weight: bold;
  line-height: 1.0;
  font-style: italic;
}
.rendered_html h6 {
  font-size: 100%;
  margin: 2em 0 0 0;
  font-weight: bold;
  line-height: 1.0;
  font-style: italic;
}
.rendered_html h1:first-child {
  margin-top: 0.538em;
}
.rendered_html h2:first-child {
  margin-top: 0.636em;
}
.rendered_html h3:first-child {
  margin-top: 0.777em;
}
.rendered_html h4:first-child {
  margin-top: 1em;
}
.rendered_html h5:first-child {
  margin-top: 1em;
}
.rendered_html h6:first-child {
  margin-top: 1em;
}
.rendered_html ul {
  list-style: disc;
  margin: 0em 2em;
  padding-left: 0px;
}
.rendered_html ul ul {
  list-style: square;
  margin: 0em 2em;
}
.rendered_html ul ul ul {
  list-style: circle;
  margin: 0em 2em;
}
.rendered_html ol {
  list-style: decimal;
  margin: 0em 2em;
  padding-left: 0px;
}
.rendered_html ol ol {
  list-style: upper-alpha;
  margin: 0em 2em;
}
.rendered_html ol ol ol {
  list-style: lower-alpha;
  margin: 0em 2em;
}
.rendered_html ol ol ol ol {
  list-style: lower-roman;
  margin: 0em 2em;
}
.rendered_html ol ol ol ol ol {
  list-style: decimal;
  margin: 0em 2em;
}
.rendered_html * + ul {
  margin-top: 1em;
}
.rendered_html * + ol {
  margin-top: 1em;
}
.rendered_html hr {
  color: black;
  background-color: black;
}
.rendered_html pre {
  margin: 1em 2em;
}
.rendered_html pre,
.rendered_html code {
  border: 0;
  background-color: #fff;
  color: #000;
  font-size: 100%;
  padding: 0px;
}
.rendered_html blockquote {
  margin: 1em 2em;
}
.rendered_html table {
  margin-left: auto;
  margin-right: auto;
  border: 1px solid black;
  border-collapse: collapse;
}
.rendered_html tr,
.rendered_html th,
.rendered_html td {
  border: 1px solid black;
  border-collapse: collapse;
  margin: 1em 2em;
}
.rendered_html td,
.rendered_html th {
  text-align: left;
  vertical-align: middle;
  padding: 4px;
}
.rendered_html th {
  font-weight: bold;
}
.rendered_html * + table {
  margin-top: 1em;
}
.rendered_html p {
  text-align: left;
}
.rendered_html * + p {
  margin-top: 1em;
}
.rendered_html img {
  display: block;
  margin-left: auto;
  margin-right: auto;
}
.rendered_html * + img {
  margin-top: 1em;
}
.rendered_html img,
.rendered_html svg {
  max-width: 100%;
  height: auto;
}
.rendered_html img.unconfined,
.rendered_html svg.unconfined {
  max-width: none;
}
div.text_cell {
  /* Old browsers */
  display: -webkit-box;
  -webkit-box-orient: horizontal;
  -webkit-box-align: stretch;
  display: -moz-box;
  -moz-box-orient: horizontal;
  -moz-box-align: stretch;
  display: box;
  box-orient: horizontal;
  box-align: stretch;
  /* Modern browsers */
  display: flex;
  flex-direction: row;
  align-items: stretch;
}
@media (max-width: 540px) {
  div.text_cell > div.prompt {
    display: none;
  }
}
div.text_cell_render {
  /*font-family: "Helvetica Neue", Arial, Helvetica, Geneva, sans-serif;*/
  outline: none;
  resize: none;
  width: inherit;
  border-style: none;
  padding: 0.5em 0.5em 0.5em 0.4em;
  color: #000;
  box-sizing: border-box;
  -moz-box-sizing: border-box;
  -webkit-box-sizing: border-box;
}
a.anchor-link:link {
  text-decoration: none;
  padding: 0px 20px;
  visibility: hidden;
}
h1:hover .anchor-link,
h2:hover .anchor-link,
h3:hover .anchor-link,
h4:hover .anchor-link,
h5:hover .anchor-link,
h6:hover .anchor-link {
  visibility: visible;
}
.text_cell.rendered .input_area {
  display: none;
}
.text_cell.rendered .rendered_html {
  overflow-x: auto;
  overflow-y: hidden;
}
.text_cell.unrendered .text_cell_render {
  display: none;
}
.cm-header-1,
.cm-header-2,
.cm-header-3,
.cm-header-4,
.cm-header-5,
.cm-header-6 {
  font-weight: bold;
  font-family: "Helvetica Neue", Helvetica, Arial, sans-serif;
}
.cm-header-1 {
  font-size: 185.7%;
}
.cm-header-2 {
  font-size: 157.1%;
}
.cm-header-3 {
  font-size: 128.6%;
}
.cm-header-4 {
  font-size: 110%;
}
.cm-header-5 {
  font-size: 100%;
  font-style: italic;
}
.cm-header-6 {
  font-size: 100%;
  font-style: italic;
}
/*!
*
* IPython notebook webapp
*
*/
@media (max-width: 767px) {
  .notebook_app {
    padding-left: 0px;
    padding-right: 0px;
  }
}
#ipython-main-app {
  box-sizing: border-box;
  -moz-box-sizing: border-box;
  -webkit-box-sizing: border-box;
  height: 100%;
}
div#notebook_panel {
  margin: 0px;
  padding: 0px;
  box-sizing: border-box;
  -moz-box-sizing: border-box;
  -webkit-box-sizing: border-box;
  height: 100%;
}
div#notebook {
  font-size: 14px;
  line-height: 20px;
  overflow-y: hidden;
  overflow-x: auto;
  width: 100%;
  /* This spaces the page away from the edge of the notebook area */
  padding-top: 20px;
  margin: 0px;
  outline: none;
  box-sizing: border-box;
  -moz-box-sizing: border-box;
  -webkit-box-sizing: border-box;
  min-height: 100%;
}
@media not print {
  #notebook-container {
    padding: 15px;
    background-color: #fff;
    min-height: 0;
    -webkit-box-shadow: 0px 0px 12px 1px rgba(87, 87, 87, 0.2);
    box-shadow: 0px 0px 12px 1px rgba(87, 87, 87, 0.2);
  }
}
@media print {
  #notebook-container {
    width: 100%;
  }
}
div.ui-widget-content {
  border: 1px solid #ababab;
  outline: none;
}
pre.dialog {
  background-color: #f7f7f7;
  border: 1px solid #ddd;
  border-radius: 2px;
  padding: 0.4em;
  padding-left: 2em;
}
p.dialog {
  padding: 0.2em;
}
/* Word-wrap output correctly.  This is the CSS3 spelling, though Firefox seems
   to not honor it correctly.  Webkit browsers (Chrome, rekonq, Safari) do.
 */
pre,
code,
kbd,
samp {
  white-space: pre-wrap;
}
#fonttest {
  font-family: monospace;
}
p {
  margin-bottom: 0;
}
.end_space {
  min-height: 100px;
  transition: height .2s ease;
}
.notebook_app > #header {
  -webkit-box-shadow: 0px 0px 12px 1px rgba(87, 87, 87, 0.2);
  box-shadow: 0px 0px 12px 1px rgba(87, 87, 87, 0.2);
}
@media not print {
  .notebook_app {
    background-color: #EEE;
  }
}
kbd {
  border-style: solid;
  border-width: 1px;
  box-shadow: none;
  margin: 2px;
  padding-left: 2px;
  padding-right: 2px;
  padding-top: 1px;
  padding-bottom: 1px;
}
/* CSS for the cell toolbar */
.celltoolbar {
  border: thin solid #CFCFCF;
  border-bottom: none;
  background: #EEE;
  border-radius: 2px 2px 0px 0px;
  width: 100%;
  height: 29px;
  padding-right: 4px;
  /* Old browsers */
  display: -webkit-box;
  -webkit-box-orient: horizontal;
  -webkit-box-align: stretch;
  display: -moz-box;
  -moz-box-orient: horizontal;
  -moz-box-align: stretch;
  display: box;
  box-orient: horizontal;
  box-align: stretch;
  /* Modern browsers */
  display: flex;
  flex-direction: row;
  align-items: stretch;
  /* Old browsers */
  -webkit-box-pack: end;
  -moz-box-pack: end;
  box-pack: end;
  /* Modern browsers */
  justify-content: flex-end;
  display: -webkit-flex;
}
@media print {
  .celltoolbar {
    display: none;
  }
}
.ctb_hideshow {
  display: none;
  vertical-align: bottom;
}
/* ctb_show is added to the ctb_hideshow div to show the cell toolbar.
   Cell toolbars are only shown when the ctb_global_show class is also set.
*/
.ctb_global_show .ctb_show.ctb_hideshow {
  display: block;
}
.ctb_global_show .ctb_show + .input_area,
.ctb_global_show .ctb_show + div.text_cell_input,
.ctb_global_show .ctb_show ~ div.text_cell_render {
  border-top-right-radius: 0px;
  border-top-left-radius: 0px;
}
.ctb_global_show .ctb_show ~ div.text_cell_render {
  border: 1px solid #cfcfcf;
}
.celltoolbar {
  font-size: 87%;
  padding-top: 3px;
}
.celltoolbar select {
  display: block;
  width: 100%;
  height: 32px;
  padding: 6px 12px;
  font-size: 13px;
  line-height: 1.42857143;
  color: #555555;
  background-color: #fff;
  background-image: none;
  border: 1px solid #ccc;
  border-radius: 2px;
  -webkit-box-shadow: inset 0 1px 1px rgba(0, 0, 0, 0.075);
  box-shadow: inset 0 1px 1px rgba(0, 0, 0, 0.075);
  -webkit-transition: border-color ease-in-out .15s, box-shadow ease-in-out .15s;
  -o-transition: border-color ease-in-out .15s, box-shadow ease-in-out .15s;
  transition: border-color ease-in-out .15s, box-shadow ease-in-out .15s;
  height: 30px;
  padding: 5px 10px;
  font-size: 12px;
  line-height: 1.5;
  border-radius: 1px;
  width: inherit;
  font-size: inherit;
  height: 22px;
  padding: 0px;
  display: inline-block;
}
.celltoolbar select:focus {
  border-color: #66afe9;
  outline: 0;
  -webkit-box-shadow: inset 0 1px 1px rgba(0,0,0,.075), 0 0 8px rgba(102, 175, 233, 0.6);
  box-shadow: inset 0 1px 1px rgba(0,0,0,.075), 0 0 8px rgba(102, 175, 233, 0.6);
}
.celltoolbar select::-moz-placeholder {
  color: #999;
  opacity: 1;
}
.celltoolbar select:-ms-input-placeholder {
  color: #999;
}
.celltoolbar select::-webkit-input-placeholder {
  color: #999;
}
.celltoolbar select::-ms-expand {
  border: 0;
  background-color: transparent;
}
.celltoolbar select[disabled],
.celltoolbar select[readonly],
fieldset[disabled] .celltoolbar select {
  background-color: #eeeeee;
  opacity: 1;
}
.celltoolbar select[disabled],
fieldset[disabled] .celltoolbar select {
  cursor: not-allowed;
}
textarea.celltoolbar select {
  height: auto;
}
select.celltoolbar select {
  height: 30px;
  line-height: 30px;
}
textarea.celltoolbar select,
select[multiple].celltoolbar select {
  height: auto;
}
.celltoolbar label {
  margin-left: 5px;
  margin-right: 5px;
}
.completions {
  position: absolute;
  z-index: 110;
  overflow: hidden;
  border: 1px solid #ababab;
  border-radius: 2px;
  -webkit-box-shadow: 0px 6px 10px -1px #adadad;
  box-shadow: 0px 6px 10px -1px #adadad;
  line-height: 1;
}
.completions select {
  background: white;
  outline: none;
  border: none;
  padding: 0px;
  margin: 0px;
  overflow: auto;
  font-family: monospace;
  font-size: 110%;
  color: #000;
  width: auto;
}
.completions select option.context {
  color: #286090;
}
#kernel_logo_widget {
  float: right !important;
  float: right;
}
#kernel_logo_widget .current_kernel_logo {
  display: none;
  margin-top: -1px;
  margin-bottom: -1px;
  width: 32px;
  height: 32px;
}
#menubar {
  box-sizing: border-box;
  -moz-box-sizing: border-box;
  -webkit-box-sizing: border-box;
  margin-top: 1px;
}
#menubar .navbar {
  border-top: 1px;
  border-radius: 0px 0px 2px 2px;
  margin-bottom: 0px;
}
#menubar .navbar-toggle {
  float: left;
  padding-top: 7px;
  padding-bottom: 7px;
  border: none;
}
#menubar .navbar-collapse {
  clear: left;
}
.nav-wrapper {
  border-bottom: 1px solid #e7e7e7;
}
i.menu-icon {
  padding-top: 4px;
}
ul#help_menu li a {
  overflow: hidden;
  padding-right: 2.2em;
}
ul#help_menu li a i {
  margin-right: -1.2em;
}
.dropdown-submenu {
  position: relative;
}
.dropdown-submenu > .dropdown-menu {
  top: 0;
  left: 100%;
  margin-top: -6px;
  margin-left: -1px;
}
.dropdown-submenu:hover > .dropdown-menu {
  display: block;
}
.dropdown-submenu > a:after {
  display: inline-block;
  font: normal normal normal 14px/1 FontAwesome;
  font-size: inherit;
  text-rendering: auto;
  -webkit-font-smoothing: antialiased;
  -moz-osx-font-smoothing: grayscale;
  display: block;
  content: "\f0da";
  float: right;
  color: #333333;
  margin-top: 2px;
  margin-right: -10px;
}
.dropdown-submenu > a:after.pull-left {
  margin-right: .3em;
}
.dropdown-submenu > a:after.pull-right {
  margin-left: .3em;
}
.dropdown-submenu:hover > a:after {
  color: #262626;
}
.dropdown-submenu.pull-left {
  float: none;
}
.dropdown-submenu.pull-left > .dropdown-menu {
  left: -100%;
  margin-left: 10px;
}
#notification_area {
  float: right !important;
  float: right;
  z-index: 10;
}
.indicator_area {
  float: right !important;
  float: right;
  color: #777;
  margin-left: 5px;
  margin-right: 5px;
  width: 11px;
  z-index: 10;
  text-align: center;
  width: auto;
}
#kernel_indicator {
  float: right !important;
  float: right;
  color: #777;
  margin-left: 5px;
  margin-right: 5px;
  width: 11px;
  z-index: 10;
  text-align: center;
  width: auto;
  border-left: 1px solid;
}
#kernel_indicator .kernel_indicator_name {
  padding-left: 5px;
  padding-right: 5px;
}
#modal_indicator {
  float: right !important;
  float: right;
  color: #777;
  margin-left: 5px;
  margin-right: 5px;
  width: 11px;
  z-index: 10;
  text-align: center;
  width: auto;
}
#readonly-indicator {
  float: right !important;
  float: right;
  color: #777;
  margin-left: 5px;
  margin-right: 5px;
  width: 11px;
  z-index: 10;
  text-align: center;
  width: auto;
  margin-top: 2px;
  margin-bottom: 0px;
  margin-left: 0px;
  margin-right: 0px;
  display: none;
}
.modal_indicator:before {
  width: 1.28571429em;
  text-align: center;
}
.edit_mode .modal_indicator:before {
  display: inline-block;
  font: normal normal normal 14px/1 FontAwesome;
  font-size: inherit;
  text-rendering: auto;
  -webkit-font-smoothing: antialiased;
  -moz-osx-font-smoothing: grayscale;
  content: "\f040";
}
.edit_mode .modal_indicator:before.pull-left {
  margin-right: .3em;
}
.edit_mode .modal_indicator:before.pull-right {
  margin-left: .3em;
}
.command_mode .modal_indicator:before {
  display: inline-block;
  font: normal normal normal 14px/1 FontAwesome;
  font-size: inherit;
  text-rendering: auto;
  -webkit-font-smoothing: antialiased;
  -moz-osx-font-smoothing: grayscale;
  content: ' ';
}
.command_mode .modal_indicator:before.pull-left {
  margin-right: .3em;
}
.command_mode .modal_indicator:before.pull-right {
  margin-left: .3em;
}
.kernel_idle_icon:before {
  display: inline-block;
  font: normal normal normal 14px/1 FontAwesome;
  font-size: inherit;
  text-rendering: auto;
  -webkit-font-smoothing: antialiased;
  -moz-osx-font-smoothing: grayscale;
  content: "\f10c";
}
.kernel_idle_icon:before.pull-left {
  margin-right: .3em;
}
.kernel_idle_icon:before.pull-right {
  margin-left: .3em;
}
.kernel_busy_icon:before {
  display: inline-block;
  font: normal normal normal 14px/1 FontAwesome;
  font-size: inherit;
  text-rendering: auto;
  -webkit-font-smoothing: antialiased;
  -moz-osx-font-smoothing: grayscale;
  content: "\f111";
}
.kernel_busy_icon:before.pull-left {
  margin-right: .3em;
}
.kernel_busy_icon:before.pull-right {
  margin-left: .3em;
}
.kernel_dead_icon:before {
  display: inline-block;
  font: normal normal normal 14px/1 FontAwesome;
  font-size: inherit;
  text-rendering: auto;
  -webkit-font-smoothing: antialiased;
  -moz-osx-font-smoothing: grayscale;
  content: "\f1e2";
}
.kernel_dead_icon:before.pull-left {
  margin-right: .3em;
}
.kernel_dead_icon:before.pull-right {
  margin-left: .3em;
}
.kernel_disconnected_icon:before {
  display: inline-block;
  font: normal normal normal 14px/1 FontAwesome;
  font-size: inherit;
  text-rendering: auto;
  -webkit-font-smoothing: antialiased;
  -moz-osx-font-smoothing: grayscale;
  content: "\f127";
}
.kernel_disconnected_icon:before.pull-left {
  margin-right: .3em;
}
.kernel_disconnected_icon:before.pull-right {
  margin-left: .3em;
}
.notification_widget {
  color: #777;
  z-index: 10;
  background: rgba(240, 240, 240, 0.5);
  margin-right: 4px;
  color: #333;
  background-color: #fff;
  border-color: #ccc;
}
.notification_widget:focus,
.notification_widget.focus {
  color: #333;
  background-color: #e6e6e6;
  border-color: #8c8c8c;
}
.notification_widget:hover {
  color: #333;
  background-color: #e6e6e6;
  border-color: #adadad;
}
.notification_widget:active,
.notification_widget.active,
.open > .dropdown-toggle.notification_widget {
  color: #333;
  background-color: #e6e6e6;
  border-color: #adadad;
}
.notification_widget:active:hover,
.notification_widget.active:hover,
.open > .dropdown-toggle.notification_widget:hover,
.notification_widget:active:focus,
.notification_widget.active:focus,
.open > .dropdown-toggle.notification_widget:focus,
.notification_widget:active.focus,
.notification_widget.active.focus,
.open > .dropdown-toggle.notification_widget.focus {
  color: #333;
  background-color: #d4d4d4;
  border-color: #8c8c8c;
}
.notification_widget:active,
.notification_widget.active,
.open > .dropdown-toggle.notification_widget {
  background-image: none;
}
.notification_widget.disabled:hover,
.notification_widget[disabled]:hover,
fieldset[disabled] .notification_widget:hover,
.notification_widget.disabled:focus,
.notification_widget[disabled]:focus,
fieldset[disabled] .notification_widget:focus,
.notification_widget.disabled.focus,
.notification_widget[disabled].focus,
fieldset[disabled] .notification_widget.focus {
  background-color: #fff;
  border-color: #ccc;
}
.notification_widget .badge {
  color: #fff;
  background-color: #333;
}
.notification_widget.warning {
  color: #fff;
  background-color: #f0ad4e;
  border-color: #eea236;
}
.notification_widget.warning:focus,
.notification_widget.warning.focus {
  color: #fff;
  background-color: #ec971f;
  border-color: #985f0d;
}
.notification_widget.warning:hover {
  color: #fff;
  background-color: #ec971f;
  border-color: #d58512;
}
.notification_widget.warning:active,
.notification_widget.warning.active,
.open > .dropdown-toggle.notification_widget.warning {
  color: #fff;
  background-color: #ec971f;
  border-color: #d58512;
}
.notification_widget.warning:active:hover,
.notification_widget.warning.active:hover,
.open > .dropdown-toggle.notification_widget.warning:hover,
.notification_widget.warning:active:focus,
.notification_widget.warning.active:focus,
.open > .dropdown-toggle.notification_widget.warning:focus,
.notification_widget.warning:active.focus,
.notification_widget.warning.active.focus,
.open > .dropdown-toggle.notification_widget.warning.focus {
  color: #fff;
  background-color: #d58512;
  border-color: #985f0d;
}
.notification_widget.warning:active,
.notification_widget.warning.active,
.open > .dropdown-toggle.notification_widget.warning {
  background-image: none;
}
.notification_widget.warning.disabled:hover,
.notification_widget.warning[disabled]:hover,
fieldset[disabled] .notification_widget.warning:hover,
.notification_widget.warning.disabled:focus,
.notification_widget.warning[disabled]:focus,
fieldset[disabled] .notification_widget.warning:focus,
.notification_widget.warning.disabled.focus,
.notification_widget.warning[disabled].focus,
fieldset[disabled] .notification_widget.warning.focus {
  background-color: #f0ad4e;
  border-color: #eea236;
}
.notification_widget.warning .badge {
  color: #f0ad4e;
  background-color: #fff;
}
.notification_widget.success {
  color: #fff;
  background-color: #5cb85c;
  border-color: #4cae4c;
}
.notification_widget.success:focus,
.notification_widget.success.focus {
  color: #fff;
  background-color: #449d44;
  border-color: #255625;
}
.notification_widget.success:hover {
  color: #fff;
  background-color: #449d44;
  border-color: #398439;
}
.notification_widget.success:active,
.notification_widget.success.active,
.open > .dropdown-toggle.notification_widget.success {
  color: #fff;
  background-color: #449d44;
  border-color: #398439;
}
.notification_widget.success:active:hover,
.notification_widget.success.active:hover,
.open > .dropdown-toggle.notification_widget.success:hover,
.notification_widget.success:active:focus,
.notification_widget.success.active:focus,
.open > .dropdown-toggle.notification_widget.success:focus,
.notification_widget.success:active.focus,
.notification_widget.success.active.focus,
.open > .dropdown-toggle.notification_widget.success.focus {
  color: #fff;
  background-color: #398439;
  border-color: #255625;
}
.notification_widget.success:active,
.notification_widget.success.active,
.open > .dropdown-toggle.notification_widget.success {
  background-image: none;
}
.notification_widget.success.disabled:hover,
.notification_widget.success[disabled]:hover,
fieldset[disabled] .notification_widget.success:hover,
.notification_widget.success.disabled:focus,
.notification_widget.success[disabled]:focus,
fieldset[disabled] .notification_widget.success:focus,
.notification_widget.success.disabled.focus,
.notification_widget.success[disabled].focus,
fieldset[disabled] .notification_widget.success.focus {
  background-color: #5cb85c;
  border-color: #4cae4c;
}
.notification_widget.success .badge {
  color: #5cb85c;
  background-color: #fff;
}
.notification_widget.info {
  color: #fff;
  background-color: #5bc0de;
  border-color: #46b8da;
}
.notification_widget.info:focus,
.notification_widget.info.focus {
  color: #fff;
  background-color: #31b0d5;
  border-color: #1b6d85;
}
.notification_widget.info:hover {
  color: #fff;
  background-color: #31b0d5;
  border-color: #269abc;
}
.notification_widget.info:active,
.notification_widget.info.active,
.open > .dropdown-toggle.notification_widget.info {
  color: #fff;
  background-color: #31b0d5;
  border-color: #269abc;
}
.notification_widget.info:active:hover,
.notification_widget.info.active:hover,
.open > .dropdown-toggle.notification_widget.info:hover,
.notification_widget.info:active:focus,
.notification_widget.info.active:focus,
.open > .dropdown-toggle.notification_widget.info:focus,
.notification_widget.info:active.focus,
.notification_widget.info.active.focus,
.open > .dropdown-toggle.notification_widget.info.focus {
  color: #fff;
  background-color: #269abc;
  border-color: #1b6d85;
}
.notification_widget.info:active,
.notification_widget.info.active,
.open > .dropdown-toggle.notification_widget.info {
  background-image: none;
}
.notification_widget.info.disabled:hover,
.notification_widget.info[disabled]:hover,
fieldset[disabled] .notification_widget.info:hover,
.notification_widget.info.disabled:focus,
.notification_widget.info[disabled]:focus,
fieldset[disabled] .notification_widget.info:focus,
.notification_widget.info.disabled.focus,
.notification_widget.info[disabled].focus,
fieldset[disabled] .notification_widget.info.focus {
  background-color: #5bc0de;
  border-color: #46b8da;
}
.notification_widget.info .badge {
  color: #5bc0de;
  background-color: #fff;
}
.notification_widget.danger {
  color: #fff;
  background-color: #d9534f;
  border-color: #d43f3a;
}
.notification_widget.danger:focus,
.notification_widget.danger.focus {
  color: #fff;
  background-color: #c9302c;
  border-color: #761c19;
}
.notification_widget.danger:hover {
  color: #fff;
  background-color: #c9302c;
  border-color: #ac2925;
}
.notification_widget.danger:active,
.notification_widget.danger.active,
.open > .dropdown-toggle.notification_widget.danger {
  color: #fff;
  background-color: #c9302c;
  border-color: #ac2925;
}
.notification_widget.danger:active:hover,
.notification_widget.danger.active:hover,
.open > .dropdown-toggle.notification_widget.danger:hover,
.notification_widget.danger:active:focus,
.notification_widget.danger.active:focus,
.open > .dropdown-toggle.notification_widget.danger:focus,
.notification_widget.danger:active.focus,
.notification_widget.danger.active.focus,
.open > .dropdown-toggle.notification_widget.danger.focus {
  color: #fff;
  background-color: #ac2925;
  border-color: #761c19;
}
.notification_widget.danger:active,
.notification_widget.danger.active,
.open > .dropdown-toggle.notification_widget.danger {
  background-image: none;
}
.notification_widget.danger.disabled:hover,
.notification_widget.danger[disabled]:hover,
fieldset[disabled] .notification_widget.danger:hover,
.notification_widget.danger.disabled:focus,
.notification_widget.danger[disabled]:focus,
fieldset[disabled] .notification_widget.danger:focus,
.notification_widget.danger.disabled.focus,
.notification_widget.danger[disabled].focus,
fieldset[disabled] .notification_widget.danger.focus {
  background-color: #d9534f;
  border-color: #d43f3a;
}
.notification_widget.danger .badge {
  color: #d9534f;
  background-color: #fff;
}
div#pager {
  background-color: #fff;
  font-size: 14px;
  line-height: 20px;
  overflow: hidden;
  display: none;
  position: fixed;
  bottom: 0px;
  width: 100%;
  max-height: 50%;
  padding-top: 8px;
  -webkit-box-shadow: 0px 0px 12px 1px rgba(87, 87, 87, 0.2);
  box-shadow: 0px 0px 12px 1px rgba(87, 87, 87, 0.2);
  /* Display over codemirror */
  z-index: 100;
  /* Hack which prevents jquery ui resizable from changing top. */
  top: auto !important;
}
div#pager pre {
  line-height: 1.21429em;
  color: #000;
  background-color: #f7f7f7;
  padding: 0.4em;
}
div#pager #pager-button-area {
  position: absolute;
  top: 8px;
  right: 20px;
}
div#pager #pager-contents {
  position: relative;
  overflow: auto;
  width: 100%;
  height: 100%;
}
div#pager #pager-contents #pager-container {
  position: relative;
  padding: 15px 0px;
  box-sizing: border-box;
  -moz-box-sizing: border-box;
  -webkit-box-sizing: border-box;
}
div#pager .ui-resizable-handle {
  top: 0px;
  height: 8px;
  background: #f7f7f7;
  border-top: 1px solid #cfcfcf;
  border-bottom: 1px solid #cfcfcf;
  /* This injects handle bars (a short, wide = symbol) for 
        the resize handle. */
}
div#pager .ui-resizable-handle::after {
  content: '';
  top: 2px;
  left: 50%;
  height: 3px;
  width: 30px;
  margin-left: -15px;
  position: absolute;
  border-top: 1px solid #cfcfcf;
}
.quickhelp {
  /* Old browsers */
  display: -webkit-box;
  -webkit-box-orient: horizontal;
  -webkit-box-align: stretch;
  display: -moz-box;
  -moz-box-orient: horizontal;
  -moz-box-align: stretch;
  display: box;
  box-orient: horizontal;
  box-align: stretch;
  /* Modern browsers */
  display: flex;
  flex-direction: row;
  align-items: stretch;
  line-height: 1.8em;
}
.shortcut_key {
  display: inline-block;
  width: 20ex;
  text-align: right;
  font-family: monospace;
}
.shortcut_descr {
  display: inline-block;
  /* Old browsers */
  -webkit-box-flex: 1;
  -moz-box-flex: 1;
  box-flex: 1;
  /* Modern browsers */
  flex: 1;
}
span.save_widget {
  margin-top: 6px;
}
span.save_widget span.filename {
  height: 1em;
  line-height: 1em;
  padding: 3px;
  margin-left: 16px;
  border: none;
  font-size: 146.5%;
  border-radius: 2px;
}
span.save_widget span.filename:hover {
  background-color: #e6e6e6;
}
span.checkpoint_status,
span.autosave_status {
  font-size: small;
}
@media (max-width: 767px) {
  span.save_widget {
    font-size: small;
  }
  span.checkpoint_status,
  span.autosave_status {
    display: none;
  }
}
@media (min-width: 768px) and (max-width: 991px) {
  span.checkpoint_status {
    display: none;
  }
  span.autosave_status {
    font-size: x-small;
  }
}
.toolbar {
  padding: 0px;
  margin-left: -5px;
  margin-top: 2px;
  margin-bottom: 5px;
  box-sizing: border-box;
  -moz-box-sizing: border-box;
  -webkit-box-sizing: border-box;
}
.toolbar select,
.toolbar label {
  width: auto;
  vertical-align: middle;
  margin-right: 2px;
  margin-bottom: 0px;
  display: inline;
  font-size: 92%;
  margin-left: 0.3em;
  margin-right: 0.3em;
  padding: 0px;
  padding-top: 3px;
}
.toolbar .btn {
  padding: 2px 8px;
}
.toolbar .btn-group {
  margin-top: 0px;
  margin-left: 5px;
}
#maintoolbar {
  margin-bottom: -3px;
  margin-top: -8px;
  border: 0px;
  min-height: 27px;
  margin-left: 0px;
  padding-top: 11px;
  padding-bottom: 3px;
}
#maintoolbar .navbar-text {
  float: none;
  vertical-align: middle;
  text-align: right;
  margin-left: 5px;
  margin-right: 0px;
  margin-top: 0px;
}
.select-xs {
  height: 24px;
}
.pulse,
.dropdown-menu > li > a.pulse,
li.pulse > a.dropdown-toggle,
li.pulse.open > a.dropdown-toggle {
  background-color: #F37626;
  color: white;
}
/**
 * Primary styles
 *
 * Author: Jupyter Development Team
 */
/** WARNING IF YOU ARE EDITTING THIS FILE, if this is a .css file, It has a lot
 * of chance of beeing generated from the ../less/[samename].less file, you can
 * try to get back the less file by reverting somme commit in history
 **/
/*
 * We'll try to get something pretty, so we
 * have some strange css to have the scroll bar on
 * the left with fix button on the top right of the tooltip
 */
@-moz-keyframes fadeOut {
  from {
    opacity: 1;
  }
  to {
    opacity: 0;
  }
}
@-webkit-keyframes fadeOut {
  from {
    opacity: 1;
  }
  to {
    opacity: 0;
  }
}
@-moz-keyframes fadeIn {
  from {
    opacity: 0;
  }
  to {
    opacity: 1;
  }
}
@-webkit-keyframes fadeIn {
  from {
    opacity: 0;
  }
  to {
    opacity: 1;
  }
}
/*properties of tooltip after "expand"*/
.bigtooltip {
  overflow: auto;
  height: 200px;
  -webkit-transition-property: height;
  -webkit-transition-duration: 500ms;
  -moz-transition-property: height;
  -moz-transition-duration: 500ms;
  transition-property: height;
  transition-duration: 500ms;
}
/*properties of tooltip before "expand"*/
.smalltooltip {
  -webkit-transition-property: height;
  -webkit-transition-duration: 500ms;
  -moz-transition-property: height;
  -moz-transition-duration: 500ms;
  transition-property: height;
  transition-duration: 500ms;
  text-overflow: ellipsis;
  overflow: hidden;
  height: 80px;
}
.tooltipbuttons {
  position: absolute;
  padding-right: 15px;
  top: 0px;
  right: 0px;
}
.tooltiptext {
  /*avoid the button to overlap on some docstring*/
  padding-right: 30px;
}
.ipython_tooltip {
  max-width: 700px;
  /*fade-in animation when inserted*/
  -webkit-animation: fadeOut 400ms;
  -moz-animation: fadeOut 400ms;
  animation: fadeOut 400ms;
  -webkit-animation: fadeIn 400ms;
  -moz-animation: fadeIn 400ms;
  animation: fadeIn 400ms;
  vertical-align: middle;
  background-color: #f7f7f7;
  overflow: visible;
  border: #ababab 1px solid;
  outline: none;
  padding: 3px;
  margin: 0px;
  padding-left: 7px;
  font-family: monospace;
  min-height: 50px;
  -moz-box-shadow: 0px 6px 10px -1px #adadad;
  -webkit-box-shadow: 0px 6px 10px -1px #adadad;
  box-shadow: 0px 6px 10px -1px #adadad;
  border-radius: 2px;
  position: absolute;
  z-index: 1000;
}
.ipython_tooltip a {
  float: right;
}
.ipython_tooltip .tooltiptext pre {
  border: 0;
  border-radius: 0;
  font-size: 100%;
  background-color: #f7f7f7;
}
.pretooltiparrow {
  left: 0px;
  margin: 0px;
  top: -16px;
  width: 40px;
  height: 16px;
  overflow: hidden;
  position: absolute;
}
.pretooltiparrow:before {
  background-color: #f7f7f7;
  border: 1px #ababab solid;
  z-index: 11;
  content: "";
  position: absolute;
  left: 15px;
  top: 10px;
  width: 25px;
  height: 25px;
  -webkit-transform: rotate(45deg);
  -moz-transform: rotate(45deg);
  -ms-transform: rotate(45deg);
  -o-transform: rotate(45deg);
}
ul.typeahead-list i {
  margin-left: -10px;
  width: 18px;
}
ul.typeahead-list {
  max-height: 80vh;
  overflow: auto;
}
ul.typeahead-list > li > a {
  /** Firefox bug **/
  /* see https://github.com/jupyter/notebook/issues/559 */
  white-space: normal;
}
.cmd-palette .modal-body {
  padding: 7px;
}
.cmd-palette form {
  background: white;
}
.cmd-palette input {
  outline: none;
}
.no-shortcut {
  display: none;
}
.command-shortcut:before {
  content: "(command)";
  padding-right: 3px;
  color: #777777;
}
.edit-shortcut:before {
  content: "(edit)";
  padding-right: 3px;
  color: #777777;
}
#find-and-replace #replace-preview .match,
#find-and-replace #replace-preview .insert {
  background-color: #BBDEFB;
  border-color: #90CAF9;
  border-style: solid;
  border-width: 1px;
  border-radius: 0px;
}
#find-and-replace #replace-preview .replace .match {
  background-color: #FFCDD2;
  border-color: #EF9A9A;
  border-radius: 0px;
}
#find-and-replace #replace-preview .replace .insert {
  background-color: #C8E6C9;
  border-color: #A5D6A7;
  border-radius: 0px;
}
#find-and-replace #replace-preview {
  max-height: 60vh;
  overflow: auto;
}
#find-and-replace #replace-preview pre {
  padding: 5px 10px;
}
.terminal-app {
  background: #EEE;
}
.terminal-app #header {
  background: #fff;
  -webkit-box-shadow: 0px 0px 12px 1px rgba(87, 87, 87, 0.2);
  box-shadow: 0px 0px 12px 1px rgba(87, 87, 87, 0.2);
}
.terminal-app .terminal {
  float: left;
  font-family: monospace;
  color: white;
  background: black;
  padding: 0.4em;
  border-radius: 2px;
  -webkit-box-shadow: 0px 0px 12px 1px rgba(87, 87, 87, 0.4);
  box-shadow: 0px 0px 12px 1px rgba(87, 87, 87, 0.4);
}
.terminal-app .terminal,
.terminal-app .terminal dummy-screen {
  line-height: 1em;
  font-size: 14px;
}
.terminal-app .terminal-cursor {
  color: black;
  background: white;
}
.terminal-app #terminado-container {
  margin-top: 20px;
}
/*# sourceMappingURL=style.min.css.map */
    </style>
<style type="text/css">
    .highlight .hll { background-color: #ffffcc }
.highlight  { background: #f8f8f8; }
.highlight .c { color: #408080; font-style: italic } /* Comment */
.highlight .err { border: 1px solid #FF0000 } /* Error */
.highlight .k { color: #008000; font-weight: bold } /* Keyword */
.highlight .o { color: #666666 } /* Operator */
.highlight .ch { color: #408080; font-style: italic } /* Comment.Hashbang */
.highlight .cm { color: #408080; font-style: italic } /* Comment.Multiline */
.highlight .cp { color: #BC7A00 } /* Comment.Preproc */
.highlight .cpf { color: #408080; font-style: italic } /* Comment.PreprocFile */
.highlight .c1 { color: #408080; font-style: italic } /* Comment.Single */
.highlight .cs { color: #408080; font-style: italic } /* Comment.Special */
.highlight .gd { color: #A00000 } /* Generic.Deleted */
.highlight .ge { font-style: italic } /* Generic.Emph */
.highlight .gr { color: #FF0000 } /* Generic.Error */
.highlight .gh { color: #000080; font-weight: bold } /* Generic.Heading */
.highlight .gi { color: #00A000 } /* Generic.Inserted */
.highlight .go { color: #888888 } /* Generic.Output */
.highlight .gp { color: #000080; font-weight: bold } /* Generic.Prompt */
.highlight .gs { font-weight: bold } /* Generic.Strong */
.highlight .gu { color: #800080; font-weight: bold } /* Generic.Subheading */
.highlight .gt { color: #0044DD } /* Generic.Traceback */
.highlight .kc { color: #008000; font-weight: bold } /* Keyword.Constant */
.highlight .kd { color: #008000; font-weight: bold } /* Keyword.Declaration */
.highlight .kn { color: #008000; font-weight: bold } /* Keyword.Namespace */
.highlight .kp { color: #008000 } /* Keyword.Pseudo */
.highlight .kr { color: #008000; font-weight: bold } /* Keyword.Reserved */
.highlight .kt { color: #B00040 } /* Keyword.Type */
.highlight .m { color: #666666 } /* Literal.Number */
.highlight .s { color: #BA2121 } /* Literal.String */
.highlight .na { color: #7D9029 } /* Name.Attribute */
.highlight .nb { color: #008000 } /* Name.Builtin */
.highlight .nc { color: #0000FF; font-weight: bold } /* Name.Class */
.highlight .no { color: #880000 } /* Name.Constant */
.highlight .nd { color: #AA22FF } /* Name.Decorator */
.highlight .ni { color: #999999; font-weight: bold } /* Name.Entity */
.highlight .ne { color: #D2413A; font-weight: bold } /* Name.Exception */
.highlight .nf { color: #0000FF } /* Name.Function */
.highlight .nl { color: #A0A000 } /* Name.Label */
.highlight .nn { color: #0000FF; font-weight: bold } /* Name.Namespace */
.highlight .nt { color: #008000; font-weight: bold } /* Name.Tag */
.highlight .nv { color: #19177C } /* Name.Variable */
.highlight .ow { color: #AA22FF; font-weight: bold } /* Operator.Word */
.highlight .w { color: #bbbbbb } /* Text.Whitespace */
.highlight .mb { color: #666666 } /* Literal.Number.Bin */
.highlight .mf { color: #666666 } /* Literal.Number.Float */
.highlight .mh { color: #666666 } /* Literal.Number.Hex */
.highlight .mi { color: #666666 } /* Literal.Number.Integer */
.highlight .mo { color: #666666 } /* Literal.Number.Oct */
.highlight .sb { color: #BA2121 } /* Literal.String.Backtick */
.highlight .sc { color: #BA2121 } /* Literal.String.Char */
.highlight .sd { color: #BA2121; font-style: italic } /* Literal.String.Doc */
.highlight .s2 { color: #BA2121 } /* Literal.String.Double */
.highlight .se { color: #BB6622; font-weight: bold } /* Literal.String.Escape */
.highlight .sh { color: #BA2121 } /* Literal.String.Heredoc */
.highlight .si { color: #BB6688; font-weight: bold } /* Literal.String.Interpol */
.highlight .sx { color: #008000 } /* Literal.String.Other */
.highlight .sr { color: #BB6688 } /* Literal.String.Regex */
.highlight .s1 { color: #BA2121 } /* Literal.String.Single */
.highlight .ss { color: #19177C } /* Literal.String.Symbol */
.highlight .bp { color: #008000 } /* Name.Builtin.Pseudo */
.highlight .vc { color: #19177C } /* Name.Variable.Class */
.highlight .vg { color: #19177C } /* Name.Variable.Global */
.highlight .vi { color: #19177C } /* Name.Variable.Instance */
.highlight .il { color: #666666 } /* Literal.Number.Integer.Long */
    </style>
<style type="text/css">
    
/* Temporary definitions which will become obsolete with Notebook release 5.0 */
.ansi-black-fg { color: #3E424D; }
.ansi-black-bg { background-color: #3E424D; }
.ansi-black-intense-fg { color: #282C36; }
.ansi-black-intense-bg { background-color: #282C36; }
.ansi-red-fg { color: #E75C58; }
.ansi-red-bg { background-color: #E75C58; }
.ansi-red-intense-fg { color: #B22B31; }
.ansi-red-intense-bg { background-color: #B22B31; }
.ansi-green-fg { color: #00A250; }
.ansi-green-bg { background-color: #00A250; }
.ansi-green-intense-fg { color: #007427; }
.ansi-green-intense-bg { background-color: #007427; }
.ansi-yellow-fg { color: #DDB62B; }
.ansi-yellow-bg { background-color: #DDB62B; }
.ansi-yellow-intense-fg { color: #B27D12; }
.ansi-yellow-intense-bg { background-color: #B27D12; }
.ansi-blue-fg { color: #208FFB; }
.ansi-blue-bg { background-color: #208FFB; }
.ansi-blue-intense-fg { color: #0065CA; }
.ansi-blue-intense-bg { background-color: #0065CA; }
.ansi-magenta-fg { color: #D160C4; }
.ansi-magenta-bg { background-color: #D160C4; }
.ansi-magenta-intense-fg { color: #A03196; }
.ansi-magenta-intense-bg { background-color: #A03196; }
.ansi-cyan-fg { color: #60C6C8; }
.ansi-cyan-bg { background-color: #60C6C8; }
.ansi-cyan-intense-fg { color: #258F8F; }
.ansi-cyan-intense-bg { background-color: #258F8F; }
.ansi-white-fg { color: #C5C1B4; }
.ansi-white-bg { background-color: #C5C1B4; }
.ansi-white-intense-fg { color: #A1A6B2; }
.ansi-white-intense-bg { background-color: #A1A6B2; }

.ansi-bold { font-weight: bold; }

    </style>
<style type="text/css">
    .highlight .hll {
  background-color: #ffffcc;
}
.highlight .c {
  color: #999988;
  font-style: italic;
}
/* Comment */
.highlight .err {
  color: #a61717;
  background-color: #e3d2d2;
}
/* Error */
.highlight .k {
  color: #000000;
  font-weight: bold;
}
/* Keyword */
.highlight .o {
  color: #000000;
  font-weight: bold;
}
/* Operator */
.highlight .cm {
  color: #999988;
  font-style: italic;
}
/* Comment.Multiline */
.highlight .cp {
  color: #999999;
  font-weight: bold;
  font-style: italic;
}
/* Comment.Preproc */
.highlight .c1 {
  color: #999988;
  font-style: italic;
}
/* Comment.Single */
.highlight .cs {
  color: #999999;
  font-weight: bold;
  font-style: italic;
}
/* Comment.Special */
.highlight .gd {
  color: #000000;
  background-color: #ffdddd;
}
/* Generic.Deleted */
.highlight .ge {
  color: #000000;
  font-style: italic;
}
/* Generic.Emph */
.highlight .gr {
  color: #aa0000;
}
/* Generic.Error */
.highlight .gh {
  color: #999999;
}
/* Generic.Heading */
.highlight .gi {
  color: #000000;
  background-color: #ddffdd;
}
/* Generic.Inserted */
.highlight .go {
  color: #888888;
}
/* Generic.Output */
.highlight .gp {
  color: #555555;
}
/* Generic.Prompt */
.highlight .gs {
  font-weight: bold;
}
/* Generic.Strong */
.highlight .gu {
  color: #aaaaaa;
}
/* Generic.Subheading */
.highlight .gt {
  color: #aa0000;
}
/* Generic.Traceback */
.highlight .kc {
  color: #000000;
  font-weight: bold;
}
/* Keyword.Constant */
.highlight .kd {
  color: #000000;
  font-weight: bold;
}
/* Keyword.Declaration */
.highlight .kn {
  color: #000000;
  font-weight: bold;
}
/* Keyword.Namespace */
.highlight .kp {
  color: #000000;
  font-weight: bold;
}
/* Keyword.Pseudo */
.highlight .kr {
  color: #000000;
  font-weight: bold;
}
/* Keyword.Reserved */
.highlight .kt {
  color: #445588;
  font-weight: bold;
}
/* Keyword.Type */
.highlight .m {
  color: #009999;
}
/* Literal.Number */
.highlight .s {
  color: #d01040;
}
/* Literal.String */
.highlight .na {
  color: #008080;
}
/* Name.Attribute */
.highlight .nb {
  color: #0086b3;
}
/* Name.Builtin */
.highlight .nc {
  color: #445588;
  font-weight: bold;
}
/* Name.Class */
.highlight .no {
  color: #008080;
}
/* Name.Constant */
.highlight .nd {
  color: #3c5d5d;
  font-weight: bold;
}
/* Name.Decorator */
.highlight .ni {
  color: #800080;
}
/* Name.Entity */
.highlight .ne {
  color: #990000;
  font-weight: bold;
}
/* Name.Exception */
.highlight .nf {
  color: #990000;
  font-weight: bold;
}
/* Name.Function */
.highlight .nl {
  color: #990000;
  font-weight: bold;
}
/* Name.Label */
.highlight .nn {
  color: black;
  font-weight: normal;
}
/* Name.Namespace */
.highlight .nt {
  color: #000080;
}
/* Name.Tag */
.highlight .nv {
  color: #008080;
}
/* Name.Variable */
.highlight .ow {
  color: #000000;
  font-weight: bold;
}
/* Operator.Word */
.highlight .w {
  color: #bbbbbb;
}
/* Text.Whitespace */
.highlight .mf {
  color: #009999;
}
/* Literal.Number.Float */
.highlight .mh {
  color: #009999;
}
/* Literal.Number.Hex */
.highlight .mi {
  color: #009999;
}
/* Literal.Number.Integer */
.highlight .mo {
  color: #009999;
}
/* Literal.Number.Oct */
.highlight .sb {
  color: #d01040;
}
/* Literal.String.Backtick */
.highlight .sc {
  color: #d01040;
}
/* Literal.String.Char */
.highlight .sd {
  color: #d01040;
}
/* Literal.String.Doc */
.highlight .s2 {
  color: #d01040;
}
/* Literal.String.Double */
.highlight .se {
  color: #d01040;
}
/* Literal.String.Escape */
.highlight .sh {
  color: #d01040;
}
/* Literal.String.Heredoc */
.highlight .si {
  color: #d01040;
}
/* Literal.String.Interpol */
.highlight .sx {
  color: #d01040;
}
/* Literal.String.Other */
.highlight .sr {
  color: #009926;
}
/* Literal.String.Regex */
.highlight .s1 {
  color: #d01040;
}
/* Literal.String.Single */
.highlight .ss {
  color: #990073;
}
/* Literal.String.Symbol */
.highlight .bp {
  color: #999999;
}
/* Name.Builtin.Pseudo */
.highlight .vc {
  color: #008080;
}
/* Name.Variable.Class */
.highlight .vg {
  color: #008080;
}
/* Name.Variable.Global */
.highlight .vi {
  color: #008080;
}
/* Name.Variable.Instance */
.highlight .il {
  color: #009999;
}
/* Literal.Number.Integer.Long */
div#maintoolbar {
  display: none !important;
}
body {
  font-family: "Open Sans", "Helvetica Neue", Helvetica, Arial, sans-serif;
  font-size: 16px;
  line-height: 1.42857143;
  color: #2c2c2c;
}
.rendered_html table,
.rendered_html th,
.rendered_html tr,
.rendered_html td {
  margin: 6px 0 13.5px;
  font-size: 15px;
  border-color: #ccc;
  max-width: 100%;
  text-align: left;
}
span.ansiblack {
  color: #2b303b;
}
span.ansiblue {
  color: #154ba1;
}
span.ansigray {
  color: #b4b7b4;
}
span.ansigreen {
  color: #2d6836;
}
span.ansipurple {
  color: #483d8b;
}
span.ansicyan {
  color: #1592a2;
}
span.ansiyellow {
  color: #92a215;
}
span.ansired {
  color: #b82a18;
}
div.output_html {
  color: #4c4c4c;
}
div.output_stderr {
  background-color: #DB797C;
}
div.output_stderr pre {
  color: #000000;
}
.cm-s-ipython.CodeMirror {
  background: #f6f6f6;
  color: #303030;
}
.cm-s-ipython div.CodeMirror-selected {
  background: #777777 !important;
}
.cm-s-ipython .CodeMirror-gutters {
  background: #cccccc;
  border: 0px;
  border-radius: 0px;
}
.cm-s-ipython .CodeMirror-linenumber {
  color: #666666 !important;
  font-size: 11pt;
}
.cm-s-ipython .CodeMirror-cursor {
  border-left: 2px solid #0095ff !important;
}
.cm-s-ipython span.cm-comment {
  color: #707070;
  font-style: italic !important;
}
.cm-s-ipython span.cm-atom {
  color: #F37F14;
}
.cm-s-ipython span.cm-number {
  color: #eb6a1a;
}
.cm-s-ipython span.cm-property {
  color: #de143d;
}
.cm-s-ipython span.cm-attribute {
  color: #de143d;
}
.cm-s-ipython span.cm-keyword {
  color: #F37F14;
  font-weight: normal;
}
.cm-s-ipython span.cm-string {
  color: #007f00;
  font-weight: normal;
}
.cm-s-ipython span.cm-operator {
  color: #055be0;
  font-weight: normal;
}
.cm-s-ipython span.cm-builtin {
  color: #de143d;
  font-weight: normal;
}
.cm-s-ipython span.cm-variable {
  color: #000000;
}
.cm-s-ipython span.cm-variable-2 {
  color: #de143d;
}
.cm-s-ipython span.cm-def {
  color: #055be0;
  font-weight: normal;
}
.cm-s-ipython span.cm-error {
  background: rgba(191, 97, 106, 0.3) !important;
}
.cm-s-ipython span.cm-tag {
  color: #F37F14;
}
.cm-s-ipython span.cm-link {
  color: #eb6a1a;
}
.cm-s-ipython span.cm-storage {
  color: #055be0;
}
.cm-s-ipython span.cm-entity {
  color: #de143d;
}
.cm-s-ipython span.cm-class {
  color: #e22978;
}
.cm-s-ipython span.cm-support {
  color: #de143d;
}
.cm-s-ipython span.cm-qualifier {
  color: #de143d;
}
/* Set CodeCell font-size*/
/*div.CodeMirror pre {font-size: 11pt !important;}*/
div.CodeMirror pre {
  line-height: 1.5 !important;
}
div.CodeMirror pre {
  font-family: 'Hack', monospace;
  font-size: 11pt;
}
div.CodeMirror span.CodeMirror-matchingbracket {
  color: #000000;
  background: rgba(53, 114, 198, 0.3) !important;
}
div.CodeMirror span.CodeMirror-nonmatchingbracket {
  color: #000000;
  background: rgba(191, 97, 106, 0.3) !important;
}
.cm-s-ipython .CodeMirror-matchingbracket {
  color: #000000;
  background: rgba(53, 114, 198, 0.3) !important;
}
.cm-s-ipython .CodeMirror-nonmatchingbracket {
  color: #000000;
  background: rgba(191, 97, 106, 0.3) !important;
}
/*Input and output cells formatting*/
div.prompt.input_prompt {
  font-family: 'Hack', monospace;
  border-right: 2px solid #428bca;
  font-weight: bold;
  font-size: 11pt;
  color: transparent;
  background-color: #ececed;
  width: 1em;
  padding-bottom: 0px;
  margin-bottom: 0px;
}
div.prompt.output_prompt {
  font-family: 'Hack', monospace;
  font-weight: bold;
  background-color: #ffffff;
  color: #ffffff;
  font-size: 9.5pt;
  width: 1em;
  margin-bottom: 8px;
  padding-top: 1em;
  padding-bottom: 1em;
}
div.out_prompt_overlay.prompt {
  font-family: 'Hack', monospace;
  font-weight: bold;
  font-size: 9.5pt;
  width: 1em;
  margin-bottom: 8px;
  background-color: #ffffff;
  border-radius: 4px;
  -webkit-border-radius: 4px;
  -moz-border-radius: 4px;
}
div.out_prompt_overlay.prompt:hover {
  font-family: 'Hack', monospace;
  font-weight: bold;
  font-size: 9.5pt;
  width: 1em;
  border-radius: 4px;
  margin-bottom: 8px;
  background-color: #ffffff;
  box-shadow: #e2e2e2 2px 2px 6px 4px inset;
  -webkit-border-radius: 4px;
  -moz-border-radius: 4px;
}
.prompt {
  min-width: 0px;
}
div.output_wrapper {
  background-color: #ffffff;
  margin-bottom: 0em;
  margin-top: 0em;
  border: 0px;
}
div.output_subarea.output_text.output_stream.output_stdout,
div.output_subarea.output_text {
  padding-top: 1em;
  margin-bottom: 8px;
  margin-top: 8px;
  margin-left: 8px;
  margin-right: 8px;
  background-color: #ffffff;
  color: #000000;
}
div.output_area pre {
  color: #000000;
  font-size: 10pt;
}
div.output_subarea {
  overflow-x: auto;
  padding: 1.0em;
  -webkit-box-flex: 1;
  -moz-box-flex: 1;
  box-flex: 1;
  flex: 1;
  max-width: calc(86%);
}
body {
  background-color: #f9f9f9;
}
a {
  color: #303030;
  font-family: 'Helvetica', sans-serif;
}
div#notebook,
div.CodeMirror,
div.output_area pre,
div.output_wrapper,
div.prompt,
div.CodeMirror pre {
  font-family: 'Hack', monospace;
  font-size: 11pt;
}
#notebook-container {
  padding: 0px;
  background-color: #f9f9f9;
  min-height: 0px;
  box-shadow: none;
}
.cell {
  padding: 0px;
}
.rendered_html pre,
.rendered_html code {
  color: #e54813;
  background-color: #f6f6f6;
  padding: 2px;
}

    </style>


<style type="text/css">
/* Overrides of notebook CSS for static HTML export */
body {
  overflow: visible;
  padding: 8px;
}

div#notebook {
  overflow: visible;
  border-top: none;
}

@media print {
  div.cell {
    display: block;
    page-break-inside: avoid;
  } 
  div.output_wrapper { 
    display: block;
    page-break-inside: avoid; 
  }
  div.output { 
    display: block;
    page-break-inside: avoid; 
  }
}
</style>

<!-- Custom stylesheet, it must be in the same directory as the html file -->
<link rel="stylesheet" href="custom.css">

<!-- Loading mathjax macro -->
<!-- Load mathjax -->
    <script src="https://cdn.mathjax.org/mathjax/latest/MathJax.js?config=TeX-AMS_HTML"></script>
    <!-- MathJax configuration -->
    <script type="text/x-mathjax-config">
    MathJax.Hub.Config({
        tex2jax: {
            inlineMath: [ ['$','$'], ["\\(","\\)"] ],
            displayMath: [ ['$$','$$'], ["\\[","\\]"] ],
            processEscapes: true,
            processEnvironments: true
        },
        // Center justify equations in code and markdown cells. Elsewhere
        // we use CSS to left justify single line equations in code cells.
        displayAlign: 'center',
        "HTML-CSS": {
            styles: {'.MathJax_Display': {"margin": 0}},
            linebreaks: { automatic: true }
        }
    });
    </script>
    <!-- End of mathjax configuration --></head>
<body>
  <div tabindex="-1" id="notebook" class="border-box-sizing">
    <div class="container" id="notebook-container">

<div class="cell border-box-sizing code_cell rendered">
<div class="input">
<div class="prompt input_prompt">In&nbsp;[1]:</div>
<div class="inner_cell">
    <div class="input_area">
<div class=" highlight hl-ipython2"><pre><span></span><span class="o">%</span><span class="k">matplotlib</span> inline
<span class="kn">from</span> <span class="nn">ggplot</span> <span class="kn">import</span> <span class="o">*</span>
<span class="kn">import</span> <span class="nn">pandas</span> <span class="kn">as</span> <span class="nn">pd</span>
</pre></div>

</div>
</div>
</div>

</div>
<div class="cell border-box-sizing text_cell rendered">
<div class="prompt input_prompt">
</div>
<div class="inner_cell">
<div class="text_cell_render border-box-sizing rendered_html">
<h3 id="scale_fill_yhat"><code>scale_fill_yhat</code><a class="anchor-link" href="#scale_fill_yhat">&#182;</a></h3>
</div>
</div>
</div>
<div class="cell border-box-sizing code_cell rendered">
<div class="input">
<div class="prompt input_prompt">In&nbsp;[2]:</div>
<div class="inner_cell">
    <div class="input_area">
<div class=" highlight hl-ipython2"><pre><span></span><span class="n">ggplot</span><span class="p">(</span><span class="n">mtcars</span><span class="p">,</span> <span class="n">aes</span><span class="p">(</span><span class="n">x</span><span class="o">=</span><span class="s1">&#39;factor(cyl)&#39;</span><span class="p">,</span> <span class="n">fill</span><span class="o">=</span><span class="s1">&#39;factor(vs)&#39;</span><span class="p">))</span> <span class="o">+</span> <span class="n">geom_bar</span><span class="p">()</span> <span class="o">+</span> <span class="n">scale_fill_yhat</span><span class="p">()</span>
</pre></div>

</div>
</div>
</div>

<div class="output_wrapper">
<div class="output">


<div class="output_area"><div class="prompt output_prompt">Out[2]:</div>


<div class="output_text output_subarea output_execute_result">
<pre>&lt;ggplot: (284480929)&gt;</pre>
</div>

</div>

<div class="output_area"><div class="prompt"></div>


<div class="output_png output_subarea ">
<img src="data:image/png;base64,iVBORw0KGgoAAAANSUhEUgAAArgAAAIACAYAAABpWR83AAAABHNCSVQICAgIfAhkiAAAAAlwSFlz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=
"
>
</div>

</div>

</div>
</div>

</div>
<div class="cell border-box-sizing code_cell rendered">
<div class="input">
<div class="prompt input_prompt">In&nbsp;[3]:</div>
<div class="inner_cell">
    <div class="input_area">
<div class=" highlight hl-ipython2"><pre><span></span><span class="n">ggplot</span><span class="p">(</span><span class="n">mtcars</span><span class="p">,</span> <span class="n">aes</span><span class="p">(</span><span class="n">x</span><span class="o">=</span><span class="s1">&#39;factor(cyl)&#39;</span><span class="p">,</span> <span class="n">fill</span><span class="o">=</span><span class="s1">&#39;factor(gear)&#39;</span><span class="p">))</span> <span class="o">+</span> <span class="n">geom_bar</span><span class="p">()</span> <span class="o">+</span> <span class="n">scale_fill_yhat</span><span class="p">()</span>
</pre></div>

</div>
</div>
</div>

<div class="output_wrapper">
<div class="output">


<div class="output_area"><div class="prompt output_prompt">Out[3]:</div>


<div class="output_text output_subarea output_execute_result">
<pre>&lt;ggplot: (285321285)&gt;</pre>
</div>

</div>

<div class="output_area"><div class="prompt"></div>


<div class="output_png output_subarea ">
<img src="data:image/png;base64,iVBORw0KGgoAAAANSUhEUgAAAsIAAAIACAYAAACIMgpmAAAABHNCSVQICAgIfAhkiAAAAAlwSFlz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=
"
>
</div>

</div>

</div>
</div>

</div>
<div class="cell border-box-sizing code_cell rendered">
<div class="input">
<div class="prompt input_prompt">In&nbsp;[5]:</div>
<div class="inner_cell">
    <div class="input_area">
<div class=" highlight hl-ipython2"><pre><span></span><span class="n">ggplot</span><span class="p">(</span><span class="n">diamonds</span><span class="p">,</span> <span class="n">aes</span><span class="p">(</span><span class="n">x</span><span class="o">=</span><span class="s1">&#39;clarity&#39;</span><span class="p">,</span> <span class="n">fill</span><span class="o">=</span><span class="s1">&#39;cut&#39;</span><span class="p">))</span> <span class="o">+</span> <span class="n">geom_bar</span><span class="p">()</span> <span class="o">+</span> <span class="n">scale_fill_yhat</span><span class="p">()</span>
</pre></div>

</div>
</div>
</div>

<div class="output_wrapper">
<div class="output">


<div class="output_area"><div class="prompt output_prompt">Out[5]:</div>


<div class="output_text output_subarea output_execute_result">
<pre>&lt;ggplot: (284886673)&gt;</pre>
</div>

</div>

<div class="output_area"><div class="prompt"></div>


<div class="output_png output_subarea ">
<img src="data:image/png;base64,iVBORw0KGgoAAAANSUhEUgAAAskAAAIACAYAAABw0vGRAAAABHNCSVQICAgIfAhkiAAAAAlwSFlz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"
>
</div>

</div>

</div>
</div>

</div>
<div class="cell border-box-sizing code_cell rendered">
<div class="input">
<div class="prompt input_prompt">In&nbsp;[6]:</div>
<div class="inner_cell">
    <div class="input_area">
<div class=" highlight hl-ipython2"><pre><span></span><span class="n">ggplot</span><span class="p">(</span><span class="n">diamonds</span><span class="p">,</span> <span class="n">aes</span><span class="p">(</span><span class="n">x</span><span class="o">=</span><span class="s1">&#39;pd.cut(price, nbins=10)&#39;</span><span class="p">,</span> <span class="n">fill</span><span class="o">=</span><span class="s1">&#39;cut&#39;</span><span class="p">))</span> <span class="o">+</span> <span class="n">geom_bar</span><span class="p">()</span> <span class="o">+</span> <span class="n">scale_fill_yhat</span><span class="p">()</span>
</pre></div>

</div>
</div>
</div>

<div class="output_wrapper">
<div class="output">


<div class="output_area"><div class="prompt output_prompt">Out[6]:</div>


<div class="output_text output_subarea output_execute_result">
<pre>&lt;ggplot: (285929557)&gt;</pre>
</div>

</div>

<div class="output_area"><div class="prompt"></div>


<div class="output_png output_subarea ">
<img src="data:image/png;base64,iVBORw0KGgoAAAANSUhEUgAAAs8AAAIACAYAAAB9zIHWAAAABHNCSVQICAgIfAhkiAAAAAlwSFlz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"
>
</div>

</div>

</div>
</div>

</div>
<div class="cell border-box-sizing code_cell rendered">
<div class="input">
<div class="prompt input_prompt">In&nbsp;[&nbsp;]:</div>
<div class="inner_cell">
    <div class="input_area">
<div class=" highlight hl-ipython2"><pre><span></span> 
</pre></div>

</div>
</div>
</div>

</div>
    </div>
  </div>
</body>
</html>
