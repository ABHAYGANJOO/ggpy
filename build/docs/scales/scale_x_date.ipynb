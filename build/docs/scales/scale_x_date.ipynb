<!DOCTYPE html>
<html>
<head><meta charset="utf-8" />
<title>scale_x_date</title>

<script src="https://cdnjs.cloudflare.com/ajax/libs/require.js/2.1.10/require.min.js"></script>
<script src="https://cdnjs.cloudflare.com/ajax/libs/jquery/2.0.3/jquery.min.js"></script>

<style type="text/css">
    /*!
*
* Twitter Bootstrap
*
*/
/*!
 * Bootstrap v3.3.6 (http://getbootstrap.com)
 * Copyright 2011-2015 Twitter, Inc.
 * Licensed under MIT (https://github.com/twbs/bootstrap/blob/master/LICENSE)
 */
/*! normalize.css v3.0.3 | MIT License | github.com/necolas/normalize.css */
html {
  font-family: sans-serif;
  -ms-text-size-adjust: 100%;
  -webkit-text-size-adjust: 100%;
}
body {
  margin: 0;
}
article,
aside,
details,
figcaption,
figure,
footer,
header,
hgroup,
main,
menu,
nav,
section,
summary {
  display: block;
}
audio,
canvas,
progress,
video {
  display: inline-block;
  vertical-align: baseline;
}
audio:not([controls]) {
  display: none;
  height: 0;
}
[hidden],
template {
  display: none;
}
a {
  background-color: transparent;
}
a:active,
a:hover {
  outline: 0;
}
abbr[title] {
  border-bottom: 1px dotted;
}
b,
strong {
  font-weight: bold;
}
dfn {
  font-style: italic;
}
h1 {
  font-size: 2em;
  margin: 0.67em 0;
}
mark {
  background: #ff0;
  color: #000;
}
small {
  font-size: 80%;
}
sub,
sup {
  font-size: 75%;
  line-height: 0;
  position: relative;
  vertical-align: baseline;
}
sup {
  top: -0.5em;
}
sub {
  bottom: -0.25em;
}
img {
  border: 0;
}
svg:not(:root) {
  overflow: hidden;
}
figure {
  margin: 1em 40px;
}
hr {
  box-sizing: content-box;
  height: 0;
}
pre {
  overflow: auto;
}
code,
kbd,
pre,
samp {
  font-family: monospace, monospace;
  font-size: 1em;
}
button,
input,
optgroup,
select,
textarea {
  color: inherit;
  font: inherit;
  margin: 0;
}
button {
  overflow: visible;
}
button,
select {
  text-transform: none;
}
button,
html input[type="button"],
input[type="reset"],
input[type="submit"] {
  -webkit-appearance: button;
  cursor: pointer;
}
button[disabled],
html input[disabled] {
  cursor: default;
}
button::-moz-focus-inner,
input::-moz-focus-inner {
  border: 0;
  padding: 0;
}
input {
  line-height: normal;
}
input[type="checkbox"],
input[type="radio"] {
  box-sizing: border-box;
  padding: 0;
}
input[type="number"]::-webkit-inner-spin-button,
input[type="number"]::-webkit-outer-spin-button {
  height: auto;
}
input[type="search"] {
  -webkit-appearance: textfield;
  box-sizing: content-box;
}
input[type="search"]::-webkit-search-cancel-button,
input[type="search"]::-webkit-search-decoration {
  -webkit-appearance: none;
}
fieldset {
  border: 1px solid #c0c0c0;
  margin: 0 2px;
  padding: 0.35em 0.625em 0.75em;
}
legend {
  border: 0;
  padding: 0;
}
textarea {
  overflow: auto;
}
optgroup {
  font-weight: bold;
}
table {
  border-collapse: collapse;
  border-spacing: 0;
}
td,
th {
  padding: 0;
}
/*! Source: https://github.com/h5bp/html5-boilerplate/blob/master/src/css/main.css */
@media print {
  *,
  *:before,
  *:after {
    background: transparent !important;
    color: #000 !important;
    box-shadow: none !important;
    text-shadow: none !important;
  }
  a,
  a:visited {
    text-decoration: underline;
  }
  a[href]:after {
    content: " (" attr(href) ")";
  }
  abbr[title]:after {
    content: " (" attr(title) ")";
  }
  a[href^="#"]:after,
  a[href^="javascript:"]:after {
    content: "";
  }
  pre,
  blockquote {
    border: 1px solid #999;
    page-break-inside: avoid;
  }
  thead {
    display: table-header-group;
  }
  tr,
  img {
    page-break-inside: avoid;
  }
  img {
    max-width: 100% !important;
  }
  p,
  h2,
  h3 {
    orphans: 3;
    widows: 3;
  }
  h2,
  h3 {
    page-break-after: avoid;
  }
  .navbar {
    display: none;
  }
  .btn > .caret,
  .dropup > .btn > .caret {
    border-top-color: #000 !important;
  }
  .label {
    border: 1px solid #000;
  }
  .table {
    border-collapse: collapse !important;
  }
  .table td,
  .table th {
    background-color: #fff !important;
  }
  .table-bordered th,
  .table-bordered td {
    border: 1px solid #ddd !important;
  }
}
@font-face {
  font-family: 'Glyphicons Halflings';
  src: url('../components/bootstrap/fonts/glyphicons-halflings-regular.eot');
  src: url('../components/bootstrap/fonts/glyphicons-halflings-regular.eot?#iefix') format('embedded-opentype'), url('../components/bootstrap/fonts/glyphicons-halflings-regular.woff2') format('woff2'), url('../components/bootstrap/fonts/glyphicons-halflings-regular.woff') format('woff'), url('../components/bootstrap/fonts/glyphicons-halflings-regular.ttf') format('truetype'), url('../components/bootstrap/fonts/glyphicons-halflings-regular.svg#glyphicons_halflingsregular') format('svg');
}
.glyphicon {
  position: relative;
  top: 1px;
  display: inline-block;
  font-family: 'Glyphicons Halflings';
  font-style: normal;
  font-weight: normal;
  line-height: 1;
  -webkit-font-smoothing: antialiased;
  -moz-osx-font-smoothing: grayscale;
}
.glyphicon-asterisk:before {
  content: "\002a";
}
.glyphicon-plus:before {
  content: "\002b";
}
.glyphicon-euro:before,
.glyphicon-eur:before {
  content: "\20ac";
}
.glyphicon-minus:before {
  content: "\2212";
}
.glyphicon-cloud:before {
  content: "\2601";
}
.glyphicon-envelope:before {
  content: "\2709";
}
.glyphicon-pencil:before {
  content: "\270f";
}
.glyphicon-glass:before {
  content: "\e001";
}
.glyphicon-music:before {
  content: "\e002";
}
.glyphicon-search:before {
  content: "\e003";
}
.glyphicon-heart:before {
  content: "\e005";
}
.glyphicon-star:before {
  content: "\e006";
}
.glyphicon-star-empty:before {
  content: "\e007";
}
.glyphicon-user:before {
  content: "\e008";
}
.glyphicon-film:before {
  content: "\e009";
}
.glyphicon-th-large:before {
  content: "\e010";
}
.glyphicon-th:before {
  content: "\e011";
}
.glyphicon-th-list:before {
  content: "\e012";
}
.glyphicon-ok:before {
  content: "\e013";
}
.glyphicon-remove:before {
  content: "\e014";
}
.glyphicon-zoom-in:before {
  content: "\e015";
}
.glyphicon-zoom-out:before {
  content: "\e016";
}
.glyphicon-off:before {
  content: "\e017";
}
.glyphicon-signal:before {
  content: "\e018";
}
.glyphicon-cog:before {
  content: "\e019";
}
.glyphicon-trash:before {
  content: "\e020";
}
.glyphicon-home:before {
  content: "\e021";
}
.glyphicon-file:before {
  content: "\e022";
}
.glyphicon-time:before {
  content: "\e023";
}
.glyphicon-road:before {
  content: "\e024";
}
.glyphicon-download-alt:before {
  content: "\e025";
}
.glyphicon-download:before {
  content: "\e026";
}
.glyphicon-upload:before {
  content: "\e027";
}
.glyphicon-inbox:before {
  content: "\e028";
}
.glyphicon-play-circle:before {
  content: "\e029";
}
.glyphicon-repeat:before {
  content: "\e030";
}
.glyphicon-refresh:before {
  content: "\e031";
}
.glyphicon-list-alt:before {
  content: "\e032";
}
.glyphicon-lock:before {
  content: "\e033";
}
.glyphicon-flag:before {
  content: "\e034";
}
.glyphicon-headphones:before {
  content: "\e035";
}
.glyphicon-volume-off:before {
  content: "\e036";
}
.glyphicon-volume-down:before {
  content: "\e037";
}
.glyphicon-volume-up:before {
  content: "\e038";
}
.glyphicon-qrcode:before {
  content: "\e039";
}
.glyphicon-barcode:before {
  content: "\e040";
}
.glyphicon-tag:before {
  content: "\e041";
}
.glyphicon-tags:before {
  content: "\e042";
}
.glyphicon-book:before {
  content: "\e043";
}
.glyphicon-bookmark:before {
  content: "\e044";
}
.glyphicon-print:before {
  content: "\e045";
}
.glyphicon-camera:before {
  content: "\e046";
}
.glyphicon-font:before {
  content: "\e047";
}
.glyphicon-bold:before {
  content: "\e048";
}
.glyphicon-italic:before {
  content: "\e049";
}
.glyphicon-text-height:before {
  content: "\e050";
}
.glyphicon-text-width:before {
  content: "\e051";
}
.glyphicon-align-left:before {
  content: "\e052";
}
.glyphicon-align-center:before {
  content: "\e053";
}
.glyphicon-align-right:before {
  content: "\e054";
}
.glyphicon-align-justify:before {
  content: "\e055";
}
.glyphicon-list:before {
  content: "\e056";
}
.glyphicon-indent-left:before {
  content: "\e057";
}
.glyphicon-indent-right:before {
  content: "\e058";
}
.glyphicon-facetime-video:before {
  content: "\e059";
}
.glyphicon-picture:before {
  content: "\e060";
}
.glyphicon-map-marker:before {
  content: "\e062";
}
.glyphicon-adjust:before {
  content: "\e063";
}
.glyphicon-tint:before {
  content: "\e064";
}
.glyphicon-edit:before {
  content: "\e065";
}
.glyphicon-share:before {
  content: "\e066";
}
.glyphicon-check:before {
  content: "\e067";
}
.glyphicon-move:before {
  content: "\e068";
}
.glyphicon-step-backward:before {
  content: "\e069";
}
.glyphicon-fast-backward:before {
  content: "\e070";
}
.glyphicon-backward:before {
  content: "\e071";
}
.glyphicon-play:before {
  content: "\e072";
}
.glyphicon-pause:before {
  content: "\e073";
}
.glyphicon-stop:before {
  content: "\e074";
}
.glyphicon-forward:before {
  content: "\e075";
}
.glyphicon-fast-forward:before {
  content: "\e076";
}
.glyphicon-step-forward:before {
  content: "\e077";
}
.glyphicon-eject:before {
  content: "\e078";
}
.glyphicon-chevron-left:before {
  content: "\e079";
}
.glyphicon-chevron-right:before {
  content: "\e080";
}
.glyphicon-plus-sign:before {
  content: "\e081";
}
.glyphicon-minus-sign:before {
  content: "\e082";
}
.glyphicon-remove-sign:before {
  content: "\e083";
}
.glyphicon-ok-sign:before {
  content: "\e084";
}
.glyphicon-question-sign:before {
  content: "\e085";
}
.glyphicon-info-sign:before {
  content: "\e086";
}
.glyphicon-screenshot:before {
  content: "\e087";
}
.glyphicon-remove-circle:before {
  content: "\e088";
}
.glyphicon-ok-circle:before {
  content: "\e089";
}
.glyphicon-ban-circle:before {
  content: "\e090";
}
.glyphicon-arrow-left:before {
  content: "\e091";
}
.glyphicon-arrow-right:before {
  content: "\e092";
}
.glyphicon-arrow-up:before {
  content: "\e093";
}
.glyphicon-arrow-down:before {
  content: "\e094";
}
.glyphicon-share-alt:before {
  content: "\e095";
}
.glyphicon-resize-full:before {
  content: "\e096";
}
.glyphicon-resize-small:before {
  content: "\e097";
}
.glyphicon-exclamation-sign:before {
  content: "\e101";
}
.glyphicon-gift:before {
  content: "\e102";
}
.glyphicon-leaf:before {
  content: "\e103";
}
.glyphicon-fire:before {
  content: "\e104";
}
.glyphicon-eye-open:before {
  content: "\e105";
}
.glyphicon-eye-close:before {
  content: "\e106";
}
.glyphicon-warning-sign:before {
  content: "\e107";
}
.glyphicon-plane:before {
  content: "\e108";
}
.glyphicon-calendar:before {
  content: "\e109";
}
.glyphicon-random:before {
  content: "\e110";
}
.glyphicon-comment:before {
  content: "\e111";
}
.glyphicon-magnet:before {
  content: "\e112";
}
.glyphicon-chevron-up:before {
  content: "\e113";
}
.glyphicon-chevron-down:before {
  content: "\e114";
}
.glyphicon-retweet:before {
  content: "\e115";
}
.glyphicon-shopping-cart:before {
  content: "\e116";
}
.glyphicon-folder-close:before {
  content: "\e117";
}
.glyphicon-folder-open:before {
  content: "\e118";
}
.glyphicon-resize-vertical:before {
  content: "\e119";
}
.glyphicon-resize-horizontal:before {
  content: "\e120";
}
.glyphicon-hdd:before {
  content: "\e121";
}
.glyphicon-bullhorn:before {
  content: "\e122";
}
.glyphicon-bell:before {
  content: "\e123";
}
.glyphicon-certificate:before {
  content: "\e124";
}
.glyphicon-thumbs-up:before {
  content: "\e125";
}
.glyphicon-thumbs-down:before {
  content: "\e126";
}
.glyphicon-hand-right:before {
  content: "\e127";
}
.glyphicon-hand-left:before {
  content: "\e128";
}
.glyphicon-hand-up:before {
  content: "\e129";
}
.glyphicon-hand-down:before {
  content: "\e130";
}
.glyphicon-circle-arrow-right:before {
  content: "\e131";
}
.glyphicon-circle-arrow-left:before {
  content: "\e132";
}
.glyphicon-circle-arrow-up:before {
  content: "\e133";
}
.glyphicon-circle-arrow-down:before {
  content: "\e134";
}
.glyphicon-globe:before {
  content: "\e135";
}
.glyphicon-wrench:before {
  content: "\e136";
}
.glyphicon-tasks:before {
  content: "\e137";
}
.glyphicon-filter:before {
  content: "\e138";
}
.glyphicon-briefcase:before {
  content: "\e139";
}
.glyphicon-fullscreen:before {
  content: "\e140";
}
.glyphicon-dashboard:before {
  content: "\e141";
}
.glyphicon-paperclip:before {
  content: "\e142";
}
.glyphicon-heart-empty:before {
  content: "\e143";
}
.glyphicon-link:before {
  content: "\e144";
}
.glyphicon-phone:before {
  content: "\e145";
}
.glyphicon-pushpin:before {
  content: "\e146";
}
.glyphicon-usd:before {
  content: "\e148";
}
.glyphicon-gbp:before {
  content: "\e149";
}
.glyphicon-sort:before {
  content: "\e150";
}
.glyphicon-sort-by-alphabet:before {
  content: "\e151";
}
.glyphicon-sort-by-alphabet-alt:before {
  content: "\e152";
}
.glyphicon-sort-by-order:before {
  content: "\e153";
}
.glyphicon-sort-by-order-alt:before {
  content: "\e154";
}
.glyphicon-sort-by-attributes:before {
  content: "\e155";
}
.glyphicon-sort-by-attributes-alt:before {
  content: "\e156";
}
.glyphicon-unchecked:before {
  content: "\e157";
}
.glyphicon-expand:before {
  content: "\e158";
}
.glyphicon-collapse-down:before {
  content: "\e159";
}
.glyphicon-collapse-up:before {
  content: "\e160";
}
.glyphicon-log-in:before {
  content: "\e161";
}
.glyphicon-flash:before {
  content: "\e162";
}
.glyphicon-log-out:before {
  content: "\e163";
}
.glyphicon-new-window:before {
  content: "\e164";
}
.glyphicon-record:before {
  content: "\e165";
}
.glyphicon-save:before {
  content: "\e166";
}
.glyphicon-open:before {
  content: "\e167";
}
.glyphicon-saved:before {
  content: "\e168";
}
.glyphicon-import:before {
  content: "\e169";
}
.glyphicon-export:before {
  content: "\e170";
}
.glyphicon-send:before {
  content: "\e171";
}
.glyphicon-floppy-disk:before {
  content: "\e172";
}
.glyphicon-floppy-saved:before {
  content: "\e173";
}
.glyphicon-floppy-remove:before {
  content: "\e174";
}
.glyphicon-floppy-save:before {
  content: "\e175";
}
.glyphicon-floppy-open:before {
  content: "\e176";
}
.glyphicon-credit-card:before {
  content: "\e177";
}
.glyphicon-transfer:before {
  content: "\e178";
}
.glyphicon-cutlery:before {
  content: "\e179";
}
.glyphicon-header:before {
  content: "\e180";
}
.glyphicon-compressed:before {
  content: "\e181";
}
.glyphicon-earphone:before {
  content: "\e182";
}
.glyphicon-phone-alt:before {
  content: "\e183";
}
.glyphicon-tower:before {
  content: "\e184";
}
.glyphicon-stats:before {
  content: "\e185";
}
.glyphicon-sd-video:before {
  content: "\e186";
}
.glyphicon-hd-video:before {
  content: "\e187";
}
.glyphicon-subtitles:before {
  content: "\e188";
}
.glyphicon-sound-stereo:before {
  content: "\e189";
}
.glyphicon-sound-dolby:before {
  content: "\e190";
}
.glyphicon-sound-5-1:before {
  content: "\e191";
}
.glyphicon-sound-6-1:before {
  content: "\e192";
}
.glyphicon-sound-7-1:before {
  content: "\e193";
}
.glyphicon-copyright-mark:before {
  content: "\e194";
}
.glyphicon-registration-mark:before {
  content: "\e195";
}
.glyphicon-cloud-download:before {
  content: "\e197";
}
.glyphicon-cloud-upload:before {
  content: "\e198";
}
.glyphicon-tree-conifer:before {
  content: "\e199";
}
.glyphicon-tree-deciduous:before {
  content: "\e200";
}
.glyphicon-cd:before {
  content: "\e201";
}
.glyphicon-save-file:before {
  content: "\e202";
}
.glyphicon-open-file:before {
  content: "\e203";
}
.glyphicon-level-up:before {
  content: "\e204";
}
.glyphicon-copy:before {
  content: "\e205";
}
.glyphicon-paste:before {
  content: "\e206";
}
.glyphicon-alert:before {
  content: "\e209";
}
.glyphicon-equalizer:before {
  content: "\e210";
}
.glyphicon-king:before {
  content: "\e211";
}
.glyphicon-queen:before {
  content: "\e212";
}
.glyphicon-pawn:before {
  content: "\e213";
}
.glyphicon-bishop:before {
  content: "\e214";
}
.glyphicon-knight:before {
  content: "\e215";
}
.glyphicon-baby-formula:before {
  content: "\e216";
}
.glyphicon-tent:before {
  content: "\26fa";
}
.glyphicon-blackboard:before {
  content: "\e218";
}
.glyphicon-bed:before {
  content: "\e219";
}
.glyphicon-apple:before {
  content: "\f8ff";
}
.glyphicon-erase:before {
  content: "\e221";
}
.glyphicon-hourglass:before {
  content: "\231b";
}
.glyphicon-lamp:before {
  content: "\e223";
}
.glyphicon-duplicate:before {
  content: "\e224";
}
.glyphicon-piggy-bank:before {
  content: "\e225";
}
.glyphicon-scissors:before {
  content: "\e226";
}
.glyphicon-bitcoin:before {
  content: "\e227";
}
.glyphicon-btc:before {
  content: "\e227";
}
.glyphicon-xbt:before {
  content: "\e227";
}
.glyphicon-yen:before {
  content: "\00a5";
}
.glyphicon-jpy:before {
  content: "\00a5";
}
.glyphicon-ruble:before {
  content: "\20bd";
}
.glyphicon-rub:before {
  content: "\20bd";
}
.glyphicon-scale:before {
  content: "\e230";
}
.glyphicon-ice-lolly:before {
  content: "\e231";
}
.glyphicon-ice-lolly-tasted:before {
  content: "\e232";
}
.glyphicon-education:before {
  content: "\e233";
}
.glyphicon-option-horizontal:before {
  content: "\e234";
}
.glyphicon-option-vertical:before {
  content: "\e235";
}
.glyphicon-menu-hamburger:before {
  content: "\e236";
}
.glyphicon-modal-window:before {
  content: "\e237";
}
.glyphicon-oil:before {
  content: "\e238";
}
.glyphicon-grain:before {
  content: "\e239";
}
.glyphicon-sunglasses:before {
  content: "\e240";
}
.glyphicon-text-size:before {
  content: "\e241";
}
.glyphicon-text-color:before {
  content: "\e242";
}
.glyphicon-text-background:before {
  content: "\e243";
}
.glyphicon-object-align-top:before {
  content: "\e244";
}
.glyphicon-object-align-bottom:before {
  content: "\e245";
}
.glyphicon-object-align-horizontal:before {
  content: "\e246";
}
.glyphicon-object-align-left:before {
  content: "\e247";
}
.glyphicon-object-align-vertical:before {
  content: "\e248";
}
.glyphicon-object-align-right:before {
  content: "\e249";
}
.glyphicon-triangle-right:before {
  content: "\e250";
}
.glyphicon-triangle-left:before {
  content: "\e251";
}
.glyphicon-triangle-bottom:before {
  content: "\e252";
}
.glyphicon-triangle-top:before {
  content: "\e253";
}
.glyphicon-console:before {
  content: "\e254";
}
.glyphicon-superscript:before {
  content: "\e255";
}
.glyphicon-subscript:before {
  content: "\e256";
}
.glyphicon-menu-left:before {
  content: "\e257";
}
.glyphicon-menu-right:before {
  content: "\e258";
}
.glyphicon-menu-down:before {
  content: "\e259";
}
.glyphicon-menu-up:before {
  content: "\e260";
}
* {
  -webkit-box-sizing: border-box;
  -moz-box-sizing: border-box;
  box-sizing: border-box;
}
*:before,
*:after {
  -webkit-box-sizing: border-box;
  -moz-box-sizing: border-box;
  box-sizing: border-box;
}
html {
  font-size: 10px;
  -webkit-tap-highlight-color: rgba(0, 0, 0, 0);
}
body {
  font-family: "Helvetica Neue", Helvetica, Arial, sans-serif;
  font-size: 13px;
  line-height: 1.42857143;
  color: #000;
  background-color: #fff;
}
input,
button,
select,
textarea {
  font-family: inherit;
  font-size: inherit;
  line-height: inherit;
}
a {
  color: #337ab7;
  text-decoration: none;
}
a:hover,
a:focus {
  color: #23527c;
  text-decoration: underline;
}
a:focus {
  outline: thin dotted;
  outline: 5px auto -webkit-focus-ring-color;
  outline-offset: -2px;
}
figure {
  margin: 0;
}
img {
  vertical-align: middle;
}
.img-responsive,
.thumbnail > img,
.thumbnail a > img,
.carousel-inner > .item > img,
.carousel-inner > .item > a > img {
  display: block;
  max-width: 100%;
  height: auto;
}
.img-rounded {
  border-radius: 3px;
}
.img-thumbnail {
  padding: 4px;
  line-height: 1.42857143;
  background-color: #fff;
  border: 1px solid #ddd;
  border-radius: 2px;
  -webkit-transition: all 0.2s ease-in-out;
  -o-transition: all 0.2s ease-in-out;
  transition: all 0.2s ease-in-out;
  display: inline-block;
  max-width: 100%;
  height: auto;
}
.img-circle {
  border-radius: 50%;
}
hr {
  margin-top: 18px;
  margin-bottom: 18px;
  border: 0;
  border-top: 1px solid #eeeeee;
}
.sr-only {
  position: absolute;
  width: 1px;
  height: 1px;
  margin: -1px;
  padding: 0;
  overflow: hidden;
  clip: rect(0, 0, 0, 0);
  border: 0;
}
.sr-only-focusable:active,
.sr-only-focusable:focus {
  position: static;
  width: auto;
  height: auto;
  margin: 0;
  overflow: visible;
  clip: auto;
}
[role="button"] {
  cursor: pointer;
}
h1,
h2,
h3,
h4,
h5,
h6,
.h1,
.h2,
.h3,
.h4,
.h5,
.h6 {
  font-family: inherit;
  font-weight: 500;
  line-height: 1.1;
  color: inherit;
}
h1 small,
h2 small,
h3 small,
h4 small,
h5 small,
h6 small,
.h1 small,
.h2 small,
.h3 small,
.h4 small,
.h5 small,
.h6 small,
h1 .small,
h2 .small,
h3 .small,
h4 .small,
h5 .small,
h6 .small,
.h1 .small,
.h2 .small,
.h3 .small,
.h4 .small,
.h5 .small,
.h6 .small {
  font-weight: normal;
  line-height: 1;
  color: #777777;
}
h1,
.h1,
h2,
.h2,
h3,
.h3 {
  margin-top: 18px;
  margin-bottom: 9px;
}
h1 small,
.h1 small,
h2 small,
.h2 small,
h3 small,
.h3 small,
h1 .small,
.h1 .small,
h2 .small,
.h2 .small,
h3 .small,
.h3 .small {
  font-size: 65%;
}
h4,
.h4,
h5,
.h5,
h6,
.h6 {
  margin-top: 9px;
  margin-bottom: 9px;
}
h4 small,
.h4 small,
h5 small,
.h5 small,
h6 small,
.h6 small,
h4 .small,
.h4 .small,
h5 .small,
.h5 .small,
h6 .small,
.h6 .small {
  font-size: 75%;
}
h1,
.h1 {
  font-size: 33px;
}
h2,
.h2 {
  font-size: 27px;
}
h3,
.h3 {
  font-size: 23px;
}
h4,
.h4 {
  font-size: 17px;
}
h5,
.h5 {
  font-size: 13px;
}
h6,
.h6 {
  font-size: 12px;
}
p {
  margin: 0 0 9px;
}
.lead {
  margin-bottom: 18px;
  font-size: 14px;
  font-weight: 300;
  line-height: 1.4;
}
@media (min-width: 768px) {
  .lead {
    font-size: 19.5px;
  }
}
small,
.small {
  font-size: 92%;
}
mark,
.mark {
  background-color: #fcf8e3;
  padding: .2em;
}
.text-left {
  text-align: left;
}
.text-right {
  text-align: right;
}
.text-center {
  text-align: center;
}
.text-justify {
  text-align: justify;
}
.text-nowrap {
  white-space: nowrap;
}
.text-lowercase {
  text-transform: lowercase;
}
.text-uppercase {
  text-transform: uppercase;
}
.text-capitalize {
  text-transform: capitalize;
}
.text-muted {
  color: #777777;
}
.text-primary {
  color: #337ab7;
}
a.text-primary:hover,
a.text-primary:focus {
  color: #286090;
}
.text-success {
  color: #3c763d;
}
a.text-success:hover,
a.text-success:focus {
  color: #2b542c;
}
.text-info {
  color: #31708f;
}
a.text-info:hover,
a.text-info:focus {
  color: #245269;
}
.text-warning {
  color: #8a6d3b;
}
a.text-warning:hover,
a.text-warning:focus {
  color: #66512c;
}
.text-danger {
  color: #a94442;
}
a.text-danger:hover,
a.text-danger:focus {
  color: #843534;
}
.bg-primary {
  color: #fff;
  background-color: #337ab7;
}
a.bg-primary:hover,
a.bg-primary:focus {
  background-color: #286090;
}
.bg-success {
  background-color: #dff0d8;
}
a.bg-success:hover,
a.bg-success:focus {
  background-color: #c1e2b3;
}
.bg-info {
  background-color: #d9edf7;
}
a.bg-info:hover,
a.bg-info:focus {
  background-color: #afd9ee;
}
.bg-warning {
  background-color: #fcf8e3;
}
a.bg-warning:hover,
a.bg-warning:focus {
  background-color: #f7ecb5;
}
.bg-danger {
  background-color: #f2dede;
}
a.bg-danger:hover,
a.bg-danger:focus {
  background-color: #e4b9b9;
}
.page-header {
  padding-bottom: 8px;
  margin: 36px 0 18px;
  border-bottom: 1px solid #eeeeee;
}
ul,
ol {
  margin-top: 0;
  margin-bottom: 9px;
}
ul ul,
ol ul,
ul ol,
ol ol {
  margin-bottom: 0;
}
.list-unstyled {
  padding-left: 0;
  list-style: none;
}
.list-inline {
  padding-left: 0;
  list-style: none;
  margin-left: -5px;
}
.list-inline > li {
  display: inline-block;
  padding-left: 5px;
  padding-right: 5px;
}
dl {
  margin-top: 0;
  margin-bottom: 18px;
}
dt,
dd {
  line-height: 1.42857143;
}
dt {
  font-weight: bold;
}
dd {
  margin-left: 0;
}
@media (min-width: 541px) {
  .dl-horizontal dt {
    float: left;
    width: 160px;
    clear: left;
    text-align: right;
    overflow: hidden;
    text-overflow: ellipsis;
    white-space: nowrap;
  }
  .dl-horizontal dd {
    margin-left: 180px;
  }
}
abbr[title],
abbr[data-original-title] {
  cursor: help;
  border-bottom: 1px dotted #777777;
}
.initialism {
  font-size: 90%;
  text-transform: uppercase;
}
blockquote {
  padding: 9px 18px;
  margin: 0 0 18px;
  font-size: inherit;
  border-left: 5px solid #eeeeee;
}
blockquote p:last-child,
blockquote ul:last-child,
blockquote ol:last-child {
  margin-bottom: 0;
}
blockquote footer,
blockquote small,
blockquote .small {
  display: block;
  font-size: 80%;
  line-height: 1.42857143;
  color: #777777;
}
blockquote footer:before,
blockquote small:before,
blockquote .small:before {
  content: '\2014 \00A0';
}
.blockquote-reverse,
blockquote.pull-right {
  padding-right: 15px;
  padding-left: 0;
  border-right: 5px solid #eeeeee;
  border-left: 0;
  text-align: right;
}
.blockquote-reverse footer:before,
blockquote.pull-right footer:before,
.blockquote-reverse small:before,
blockquote.pull-right small:before,
.blockquote-reverse .small:before,
blockquote.pull-right .small:before {
  content: '';
}
.blockquote-reverse footer:after,
blockquote.pull-right footer:after,
.blockquote-reverse small:after,
blockquote.pull-right small:after,
.blockquote-reverse .small:after,
blockquote.pull-right .small:after {
  content: '\00A0 \2014';
}
address {
  margin-bottom: 18px;
  font-style: normal;
  line-height: 1.42857143;
}
code,
kbd,
pre,
samp {
  font-family: monospace;
}
code {
  padding: 2px 4px;
  font-size: 90%;
  color: #c7254e;
  background-color: #f9f2f4;
  border-radius: 2px;
}
kbd {
  padding: 2px 4px;
  font-size: 90%;
  color: #888;
  background-color: transparent;
  border-radius: 1px;
  box-shadow: inset 0 -1px 0 rgba(0, 0, 0, 0.25);
}
kbd kbd {
  padding: 0;
  font-size: 100%;
  font-weight: bold;
  box-shadow: none;
}
pre {
  display: block;
  padding: 8.5px;
  margin: 0 0 9px;
  font-size: 12px;
  line-height: 1.42857143;
  word-break: break-all;
  word-wrap: break-word;
  color: #333333;
  background-color: #f5f5f5;
  border: 1px solid #ccc;
  border-radius: 2px;
}
pre code {
  padding: 0;
  font-size: inherit;
  color: inherit;
  white-space: pre-wrap;
  background-color: transparent;
  border-radius: 0;
}
.pre-scrollable {
  max-height: 340px;
  overflow-y: scroll;
}
.container {
  margin-right: auto;
  margin-left: auto;
  padding-left: 0px;
  padding-right: 0px;
}
@media (min-width: 768px) {
  .container {
    width: 768px;
  }
}
@media (min-width: 992px) {
  .container {
    width: 940px;
  }
}
@media (min-width: 1200px) {
  .container {
    width: 1140px;
  }
}
.container-fluid {
  margin-right: auto;
  margin-left: auto;
  padding-left: 0px;
  padding-right: 0px;
}
.row {
  margin-left: 0px;
  margin-right: 0px;
}
.col-xs-1, .col-sm-1, .col-md-1, .col-lg-1, .col-xs-2, .col-sm-2, .col-md-2, .col-lg-2, .col-xs-3, .col-sm-3, .col-md-3, .col-lg-3, .col-xs-4, .col-sm-4, .col-md-4, .col-lg-4, .col-xs-5, .col-sm-5, .col-md-5, .col-lg-5, .col-xs-6, .col-sm-6, .col-md-6, .col-lg-6, .col-xs-7, .col-sm-7, .col-md-7, .col-lg-7, .col-xs-8, .col-sm-8, .col-md-8, .col-lg-8, .col-xs-9, .col-sm-9, .col-md-9, .col-lg-9, .col-xs-10, .col-sm-10, .col-md-10, .col-lg-10, .col-xs-11, .col-sm-11, .col-md-11, .col-lg-11, .col-xs-12, .col-sm-12, .col-md-12, .col-lg-12 {
  position: relative;
  min-height: 1px;
  padding-left: 0px;
  padding-right: 0px;
}
.col-xs-1, .col-xs-2, .col-xs-3, .col-xs-4, .col-xs-5, .col-xs-6, .col-xs-7, .col-xs-8, .col-xs-9, .col-xs-10, .col-xs-11, .col-xs-12 {
  float: left;
}
.col-xs-12 {
  width: 100%;
}
.col-xs-11 {
  width: 91.66666667%;
}
.col-xs-10 {
  width: 83.33333333%;
}
.col-xs-9 {
  width: 75%;
}
.col-xs-8 {
  width: 66.66666667%;
}
.col-xs-7 {
  width: 58.33333333%;
}
.col-xs-6 {
  width: 50%;
}
.col-xs-5 {
  width: 41.66666667%;
}
.col-xs-4 {
  width: 33.33333333%;
}
.col-xs-3 {
  width: 25%;
}
.col-xs-2 {
  width: 16.66666667%;
}
.col-xs-1 {
  width: 8.33333333%;
}
.col-xs-pull-12 {
  right: 100%;
}
.col-xs-pull-11 {
  right: 91.66666667%;
}
.col-xs-pull-10 {
  right: 83.33333333%;
}
.col-xs-pull-9 {
  right: 75%;
}
.col-xs-pull-8 {
  right: 66.66666667%;
}
.col-xs-pull-7 {
  right: 58.33333333%;
}
.col-xs-pull-6 {
  right: 50%;
}
.col-xs-pull-5 {
  right: 41.66666667%;
}
.col-xs-pull-4 {
  right: 33.33333333%;
}
.col-xs-pull-3 {
  right: 25%;
}
.col-xs-pull-2 {
  right: 16.66666667%;
}
.col-xs-pull-1 {
  right: 8.33333333%;
}
.col-xs-pull-0 {
  right: auto;
}
.col-xs-push-12 {
  left: 100%;
}
.col-xs-push-11 {
  left: 91.66666667%;
}
.col-xs-push-10 {
  left: 83.33333333%;
}
.col-xs-push-9 {
  left: 75%;
}
.col-xs-push-8 {
  left: 66.66666667%;
}
.col-xs-push-7 {
  left: 58.33333333%;
}
.col-xs-push-6 {
  left: 50%;
}
.col-xs-push-5 {
  left: 41.66666667%;
}
.col-xs-push-4 {
  left: 33.33333333%;
}
.col-xs-push-3 {
  left: 25%;
}
.col-xs-push-2 {
  left: 16.66666667%;
}
.col-xs-push-1 {
  left: 8.33333333%;
}
.col-xs-push-0 {
  left: auto;
}
.col-xs-offset-12 {
  margin-left: 100%;
}
.col-xs-offset-11 {
  margin-left: 91.66666667%;
}
.col-xs-offset-10 {
  margin-left: 83.33333333%;
}
.col-xs-offset-9 {
  margin-left: 75%;
}
.col-xs-offset-8 {
  margin-left: 66.66666667%;
}
.col-xs-offset-7 {
  margin-left: 58.33333333%;
}
.col-xs-offset-6 {
  margin-left: 50%;
}
.col-xs-offset-5 {
  margin-left: 41.66666667%;
}
.col-xs-offset-4 {
  margin-left: 33.33333333%;
}
.col-xs-offset-3 {
  margin-left: 25%;
}
.col-xs-offset-2 {
  margin-left: 16.66666667%;
}
.col-xs-offset-1 {
  margin-left: 8.33333333%;
}
.col-xs-offset-0 {
  margin-left: 0%;
}
@media (min-width: 768px) {
  .col-sm-1, .col-sm-2, .col-sm-3, .col-sm-4, .col-sm-5, .col-sm-6, .col-sm-7, .col-sm-8, .col-sm-9, .col-sm-10, .col-sm-11, .col-sm-12 {
    float: left;
  }
  .col-sm-12 {
    width: 100%;
  }
  .col-sm-11 {
    width: 91.66666667%;
  }
  .col-sm-10 {
    width: 83.33333333%;
  }
  .col-sm-9 {
    width: 75%;
  }
  .col-sm-8 {
    width: 66.66666667%;
  }
  .col-sm-7 {
    width: 58.33333333%;
  }
  .col-sm-6 {
    width: 50%;
  }
  .col-sm-5 {
    width: 41.66666667%;
  }
  .col-sm-4 {
    width: 33.33333333%;
  }
  .col-sm-3 {
    width: 25%;
  }
  .col-sm-2 {
    width: 16.66666667%;
  }
  .col-sm-1 {
    width: 8.33333333%;
  }
  .col-sm-pull-12 {
    right: 100%;
  }
  .col-sm-pull-11 {
    right: 91.66666667%;
  }
  .col-sm-pull-10 {
    right: 83.33333333%;
  }
  .col-sm-pull-9 {
    right: 75%;
  }
  .col-sm-pull-8 {
    right: 66.66666667%;
  }
  .col-sm-pull-7 {
    right: 58.33333333%;
  }
  .col-sm-pull-6 {
    right: 50%;
  }
  .col-sm-pull-5 {
    right: 41.66666667%;
  }
  .col-sm-pull-4 {
    right: 33.33333333%;
  }
  .col-sm-pull-3 {
    right: 25%;
  }
  .col-sm-pull-2 {
    right: 16.66666667%;
  }
  .col-sm-pull-1 {
    right: 8.33333333%;
  }
  .col-sm-pull-0 {
    right: auto;
  }
  .col-sm-push-12 {
    left: 100%;
  }
  .col-sm-push-11 {
    left: 91.66666667%;
  }
  .col-sm-push-10 {
    left: 83.33333333%;
  }
  .col-sm-push-9 {
    left: 75%;
  }
  .col-sm-push-8 {
    left: 66.66666667%;
  }
  .col-sm-push-7 {
    left: 58.33333333%;
  }
  .col-sm-push-6 {
    left: 50%;
  }
  .col-sm-push-5 {
    left: 41.66666667%;
  }
  .col-sm-push-4 {
    left: 33.33333333%;
  }
  .col-sm-push-3 {
    left: 25%;
  }
  .col-sm-push-2 {
    left: 16.66666667%;
  }
  .col-sm-push-1 {
    left: 8.33333333%;
  }
  .col-sm-push-0 {
    left: auto;
  }
  .col-sm-offset-12 {
    margin-left: 100%;
  }
  .col-sm-offset-11 {
    margin-left: 91.66666667%;
  }
  .col-sm-offset-10 {
    margin-left: 83.33333333%;
  }
  .col-sm-offset-9 {
    margin-left: 75%;
  }
  .col-sm-offset-8 {
    margin-left: 66.66666667%;
  }
  .col-sm-offset-7 {
    margin-left: 58.33333333%;
  }
  .col-sm-offset-6 {
    margin-left: 50%;
  }
  .col-sm-offset-5 {
    margin-left: 41.66666667%;
  }
  .col-sm-offset-4 {
    margin-left: 33.33333333%;
  }
  .col-sm-offset-3 {
    margin-left: 25%;
  }
  .col-sm-offset-2 {
    margin-left: 16.66666667%;
  }
  .col-sm-offset-1 {
    margin-left: 8.33333333%;
  }
  .col-sm-offset-0 {
    margin-left: 0%;
  }
}
@media (min-width: 992px) {
  .col-md-1, .col-md-2, .col-md-3, .col-md-4, .col-md-5, .col-md-6, .col-md-7, .col-md-8, .col-md-9, .col-md-10, .col-md-11, .col-md-12 {
    float: left;
  }
  .col-md-12 {
    width: 100%;
  }
  .col-md-11 {
    width: 91.66666667%;
  }
  .col-md-10 {
    width: 83.33333333%;
  }
  .col-md-9 {
    width: 75%;
  }
  .col-md-8 {
    width: 66.66666667%;
  }
  .col-md-7 {
    width: 58.33333333%;
  }
  .col-md-6 {
    width: 50%;
  }
  .col-md-5 {
    width: 41.66666667%;
  }
  .col-md-4 {
    width: 33.33333333%;
  }
  .col-md-3 {
    width: 25%;
  }
  .col-md-2 {
    width: 16.66666667%;
  }
  .col-md-1 {
    width: 8.33333333%;
  }
  .col-md-pull-12 {
    right: 100%;
  }
  .col-md-pull-11 {
    right: 91.66666667%;
  }
  .col-md-pull-10 {
    right: 83.33333333%;
  }
  .col-md-pull-9 {
    right: 75%;
  }
  .col-md-pull-8 {
    right: 66.66666667%;
  }
  .col-md-pull-7 {
    right: 58.33333333%;
  }
  .col-md-pull-6 {
    right: 50%;
  }
  .col-md-pull-5 {
    right: 41.66666667%;
  }
  .col-md-pull-4 {
    right: 33.33333333%;
  }
  .col-md-pull-3 {
    right: 25%;
  }
  .col-md-pull-2 {
    right: 16.66666667%;
  }
  .col-md-pull-1 {
    right: 8.33333333%;
  }
  .col-md-pull-0 {
    right: auto;
  }
  .col-md-push-12 {
    left: 100%;
  }
  .col-md-push-11 {
    left: 91.66666667%;
  }
  .col-md-push-10 {
    left: 83.33333333%;
  }
  .col-md-push-9 {
    left: 75%;
  }
  .col-md-push-8 {
    left: 66.66666667%;
  }
  .col-md-push-7 {
    left: 58.33333333%;
  }
  .col-md-push-6 {
    left: 50%;
  }
  .col-md-push-5 {
    left: 41.66666667%;
  }
  .col-md-push-4 {
    left: 33.33333333%;
  }
  .col-md-push-3 {
    left: 25%;
  }
  .col-md-push-2 {
    left: 16.66666667%;
  }
  .col-md-push-1 {
    left: 8.33333333%;
  }
  .col-md-push-0 {
    left: auto;
  }
  .col-md-offset-12 {
    margin-left: 100%;
  }
  .col-md-offset-11 {
    margin-left: 91.66666667%;
  }
  .col-md-offset-10 {
    margin-left: 83.33333333%;
  }
  .col-md-offset-9 {
    margin-left: 75%;
  }
  .col-md-offset-8 {
    margin-left: 66.66666667%;
  }
  .col-md-offset-7 {
    margin-left: 58.33333333%;
  }
  .col-md-offset-6 {
    margin-left: 50%;
  }
  .col-md-offset-5 {
    margin-left: 41.66666667%;
  }
  .col-md-offset-4 {
    margin-left: 33.33333333%;
  }
  .col-md-offset-3 {
    margin-left: 25%;
  }
  .col-md-offset-2 {
    margin-left: 16.66666667%;
  }
  .col-md-offset-1 {
    margin-left: 8.33333333%;
  }
  .col-md-offset-0 {
    margin-left: 0%;
  }
}
@media (min-width: 1200px) {
  .col-lg-1, .col-lg-2, .col-lg-3, .col-lg-4, .col-lg-5, .col-lg-6, .col-lg-7, .col-lg-8, .col-lg-9, .col-lg-10, .col-lg-11, .col-lg-12 {
    float: left;
  }
  .col-lg-12 {
    width: 100%;
  }
  .col-lg-11 {
    width: 91.66666667%;
  }
  .col-lg-10 {
    width: 83.33333333%;
  }
  .col-lg-9 {
    width: 75%;
  }
  .col-lg-8 {
    width: 66.66666667%;
  }
  .col-lg-7 {
    width: 58.33333333%;
  }
  .col-lg-6 {
    width: 50%;
  }
  .col-lg-5 {
    width: 41.66666667%;
  }
  .col-lg-4 {
    width: 33.33333333%;
  }
  .col-lg-3 {
    width: 25%;
  }
  .col-lg-2 {
    width: 16.66666667%;
  }
  .col-lg-1 {
    width: 8.33333333%;
  }
  .col-lg-pull-12 {
    right: 100%;
  }
  .col-lg-pull-11 {
    right: 91.66666667%;
  }
  .col-lg-pull-10 {
    right: 83.33333333%;
  }
  .col-lg-pull-9 {
    right: 75%;
  }
  .col-lg-pull-8 {
    right: 66.66666667%;
  }
  .col-lg-pull-7 {
    right: 58.33333333%;
  }
  .col-lg-pull-6 {
    right: 50%;
  }
  .col-lg-pull-5 {
    right: 41.66666667%;
  }
  .col-lg-pull-4 {
    right: 33.33333333%;
  }
  .col-lg-pull-3 {
    right: 25%;
  }
  .col-lg-pull-2 {
    right: 16.66666667%;
  }
  .col-lg-pull-1 {
    right: 8.33333333%;
  }
  .col-lg-pull-0 {
    right: auto;
  }
  .col-lg-push-12 {
    left: 100%;
  }
  .col-lg-push-11 {
    left: 91.66666667%;
  }
  .col-lg-push-10 {
    left: 83.33333333%;
  }
  .col-lg-push-9 {
    left: 75%;
  }
  .col-lg-push-8 {
    left: 66.66666667%;
  }
  .col-lg-push-7 {
    left: 58.33333333%;
  }
  .col-lg-push-6 {
    left: 50%;
  }
  .col-lg-push-5 {
    left: 41.66666667%;
  }
  .col-lg-push-4 {
    left: 33.33333333%;
  }
  .col-lg-push-3 {
    left: 25%;
  }
  .col-lg-push-2 {
    left: 16.66666667%;
  }
  .col-lg-push-1 {
    left: 8.33333333%;
  }
  .col-lg-push-0 {
    left: auto;
  }
  .col-lg-offset-12 {
    margin-left: 100%;
  }
  .col-lg-offset-11 {
    margin-left: 91.66666667%;
  }
  .col-lg-offset-10 {
    margin-left: 83.33333333%;
  }
  .col-lg-offset-9 {
    margin-left: 75%;
  }
  .col-lg-offset-8 {
    margin-left: 66.66666667%;
  }
  .col-lg-offset-7 {
    margin-left: 58.33333333%;
  }
  .col-lg-offset-6 {
    margin-left: 50%;
  }
  .col-lg-offset-5 {
    margin-left: 41.66666667%;
  }
  .col-lg-offset-4 {
    margin-left: 33.33333333%;
  }
  .col-lg-offset-3 {
    margin-left: 25%;
  }
  .col-lg-offset-2 {
    margin-left: 16.66666667%;
  }
  .col-lg-offset-1 {
    margin-left: 8.33333333%;
  }
  .col-lg-offset-0 {
    margin-left: 0%;
  }
}
table {
  background-color: transparent;
}
caption {
  padding-top: 8px;
  padding-bottom: 8px;
  color: #777777;
  text-align: left;
}
th {
  text-align: left;
}
.table {
  width: 100%;
  max-width: 100%;
  margin-bottom: 18px;
}
.table > thead > tr > th,
.table > tbody > tr > th,
.table > tfoot > tr > th,
.table > thead > tr > td,
.table > tbody > tr > td,
.table > tfoot > tr > td {
  padding: 8px;
  line-height: 1.42857143;
  vertical-align: top;
  border-top: 1px solid #ddd;
}
.table > thead > tr > th {
  vertical-align: bottom;
  border-bottom: 2px solid #ddd;
}
.table > caption + thead > tr:first-child > th,
.table > colgroup + thead > tr:first-child > th,
.table > thead:first-child > tr:first-child > th,
.table > caption + thead > tr:first-child > td,
.table > colgroup + thead > tr:first-child > td,
.table > thead:first-child > tr:first-child > td {
  border-top: 0;
}
.table > tbody + tbody {
  border-top: 2px solid #ddd;
}
.table .table {
  background-color: #fff;
}
.table-condensed > thead > tr > th,
.table-condensed > tbody > tr > th,
.table-condensed > tfoot > tr > th,
.table-condensed > thead > tr > td,
.table-condensed > tbody > tr > td,
.table-condensed > tfoot > tr > td {
  padding: 5px;
}
.table-bordered {
  border: 1px solid #ddd;
}
.table-bordered > thead > tr > th,
.table-bordered > tbody > tr > th,
.table-bordered > tfoot > tr > th,
.table-bordered > thead > tr > td,
.table-bordered > tbody > tr > td,
.table-bordered > tfoot > tr > td {
  border: 1px solid #ddd;
}
.table-bordered > thead > tr > th,
.table-bordered > thead > tr > td {
  border-bottom-width: 2px;
}
.table-striped > tbody > tr:nth-of-type(odd) {
  background-color: #f9f9f9;
}
.table-hover > tbody > tr:hover {
  background-color: #f5f5f5;
}
table col[class*="col-"] {
  position: static;
  float: none;
  display: table-column;
}
table td[class*="col-"],
table th[class*="col-"] {
  position: static;
  float: none;
  display: table-cell;
}
.table > thead > tr > td.active,
.table > tbody > tr > td.active,
.table > tfoot > tr > td.active,
.table > thead > tr > th.active,
.table > tbody > tr > th.active,
.table > tfoot > tr > th.active,
.table > thead > tr.active > td,
.table > tbody > tr.active > td,
.table > tfoot > tr.active > td,
.table > thead > tr.active > th,
.table > tbody > tr.active > th,
.table > tfoot > tr.active > th {
  background-color: #f5f5f5;
}
.table-hover > tbody > tr > td.active:hover,
.table-hover > tbody > tr > th.active:hover,
.table-hover > tbody > tr.active:hover > td,
.table-hover > tbody > tr:hover > .active,
.table-hover > tbody > tr.active:hover > th {
  background-color: #e8e8e8;
}
.table > thead > tr > td.success,
.table > tbody > tr > td.success,
.table > tfoot > tr > td.success,
.table > thead > tr > th.success,
.table > tbody > tr > th.success,
.table > tfoot > tr > th.success,
.table > thead > tr.success > td,
.table > tbody > tr.success > td,
.table > tfoot > tr.success > td,
.table > thead > tr.success > th,
.table > tbody > tr.success > th,
.table > tfoot > tr.success > th {
  background-color: #dff0d8;
}
.table-hover > tbody > tr > td.success:hover,
.table-hover > tbody > tr > th.success:hover,
.table-hover > tbody > tr.success:hover > td,
.table-hover > tbody > tr:hover > .success,
.table-hover > tbody > tr.success:hover > th {
  background-color: #d0e9c6;
}
.table > thead > tr > td.info,
.table > tbody > tr > td.info,
.table > tfoot > tr > td.info,
.table > thead > tr > th.info,
.table > tbody > tr > th.info,
.table > tfoot > tr > th.info,
.table > thead > tr.info > td,
.table > tbody > tr.info > td,
.table > tfoot > tr.info > td,
.table > thead > tr.info > th,
.table > tbody > tr.info > th,
.table > tfoot > tr.info > th {
  background-color: #d9edf7;
}
.table-hover > tbody > tr > td.info:hover,
.table-hover > tbody > tr > th.info:hover,
.table-hover > tbody > tr.info:hover > td,
.table-hover > tbody > tr:hover > .info,
.table-hover > tbody > tr.info:hover > th {
  background-color: #c4e3f3;
}
.table > thead > tr > td.warning,
.table > tbody > tr > td.warning,
.table > tfoot > tr > td.warning,
.table > thead > tr > th.warning,
.table > tbody > tr > th.warning,
.table > tfoot > tr > th.warning,
.table > thead > tr.warning > td,
.table > tbody > tr.warning > td,
.table > tfoot > tr.warning > td,
.table > thead > tr.warning > th,
.table > tbody > tr.warning > th,
.table > tfoot > tr.warning > th {
  background-color: #fcf8e3;
}
.table-hover > tbody > tr > td.warning:hover,
.table-hover > tbody > tr > th.warning:hover,
.table-hover > tbody > tr.warning:hover > td,
.table-hover > tbody > tr:hover > .warning,
.table-hover > tbody > tr.warning:hover > th {
  background-color: #faf2cc;
}
.table > thead > tr > td.danger,
.table > tbody > tr > td.danger,
.table > tfoot > tr > td.danger,
.table > thead > tr > th.danger,
.table > tbody > tr > th.danger,
.table > tfoot > tr > th.danger,
.table > thead > tr.danger > td,
.table > tbody > tr.danger > td,
.table > tfoot > tr.danger > td,
.table > thead > tr.danger > th,
.table > tbody > tr.danger > th,
.table > tfoot > tr.danger > th {
  background-color: #f2dede;
}
.table-hover > tbody > tr > td.danger:hover,
.table-hover > tbody > tr > th.danger:hover,
.table-hover > tbody > tr.danger:hover > td,
.table-hover > tbody > tr:hover > .danger,
.table-hover > tbody > tr.danger:hover > th {
  background-color: #ebcccc;
}
.table-responsive {
  overflow-x: auto;
  min-height: 0.01%;
}
@media screen and (max-width: 767px) {
  .table-responsive {
    width: 100%;
    margin-bottom: 13.5px;
    overflow-y: hidden;
    -ms-overflow-style: -ms-autohiding-scrollbar;
    border: 1px solid #ddd;
  }
  .table-responsive > .table {
    margin-bottom: 0;
  }
  .table-responsive > .table > thead > tr > th,
  .table-responsive > .table > tbody > tr > th,
  .table-responsive > .table > tfoot > tr > th,
  .table-responsive > .table > thead > tr > td,
  .table-responsive > .table > tbody > tr > td,
  .table-responsive > .table > tfoot > tr > td {
    white-space: nowrap;
  }
  .table-responsive > .table-bordered {
    border: 0;
  }
  .table-responsive > .table-bordered > thead > tr > th:first-child,
  .table-responsive > .table-bordered > tbody > tr > th:first-child,
  .table-responsive > .table-bordered > tfoot > tr > th:first-child,
  .table-responsive > .table-bordered > thead > tr > td:first-child,
  .table-responsive > .table-bordered > tbody > tr > td:first-child,
  .table-responsive > .table-bordered > tfoot > tr > td:first-child {
    border-left: 0;
  }
  .table-responsive > .table-bordered > thead > tr > th:last-child,
  .table-responsive > .table-bordered > tbody > tr > th:last-child,
  .table-responsive > .table-bordered > tfoot > tr > th:last-child,
  .table-responsive > .table-bordered > thead > tr > td:last-child,
  .table-responsive > .table-bordered > tbody > tr > td:last-child,
  .table-responsive > .table-bordered > tfoot > tr > td:last-child {
    border-right: 0;
  }
  .table-responsive > .table-bordered > tbody > tr:last-child > th,
  .table-responsive > .table-bordered > tfoot > tr:last-child > th,
  .table-responsive > .table-bordered > tbody > tr:last-child > td,
  .table-responsive > .table-bordered > tfoot > tr:last-child > td {
    border-bottom: 0;
  }
}
fieldset {
  padding: 0;
  margin: 0;
  border: 0;
  min-width: 0;
}
legend {
  display: block;
  width: 100%;
  padding: 0;
  margin-bottom: 18px;
  font-size: 19.5px;
  line-height: inherit;
  color: #333333;
  border: 0;
  border-bottom: 1px solid #e5e5e5;
}
label {
  display: inline-block;
  max-width: 100%;
  margin-bottom: 5px;
  font-weight: bold;
}
input[type="search"] {
  -webkit-box-sizing: border-box;
  -moz-box-sizing: border-box;
  box-sizing: border-box;
}
input[type="radio"],
input[type="checkbox"] {
  margin: 4px 0 0;
  margin-top: 1px \9;
  line-height: normal;
}
input[type="file"] {
  display: block;
}
input[type="range"] {
  display: block;
  width: 100%;
}
select[multiple],
select[size] {
  height: auto;
}
input[type="file"]:focus,
input[type="radio"]:focus,
input[type="checkbox"]:focus {
  outline: thin dotted;
  outline: 5px auto -webkit-focus-ring-color;
  outline-offset: -2px;
}
output {
  display: block;
  padding-top: 7px;
  font-size: 13px;
  line-height: 1.42857143;
  color: #555555;
}
.form-control {
  display: block;
  width: 100%;
  height: 32px;
  padding: 6px 12px;
  font-size: 13px;
  line-height: 1.42857143;
  color: #555555;
  background-color: #fff;
  background-image: none;
  border: 1px solid #ccc;
  border-radius: 2px;
  -webkit-box-shadow: inset 0 1px 1px rgba(0, 0, 0, 0.075);
  box-shadow: inset 0 1px 1px rgba(0, 0, 0, 0.075);
  -webkit-transition: border-color ease-in-out .15s, box-shadow ease-in-out .15s;
  -o-transition: border-color ease-in-out .15s, box-shadow ease-in-out .15s;
  transition: border-color ease-in-out .15s, box-shadow ease-in-out .15s;
}
.form-control:focus {
  border-color: #66afe9;
  outline: 0;
  -webkit-box-shadow: inset 0 1px 1px rgba(0,0,0,.075), 0 0 8px rgba(102, 175, 233, 0.6);
  box-shadow: inset 0 1px 1px rgba(0,0,0,.075), 0 0 8px rgba(102, 175, 233, 0.6);
}
.form-control::-moz-placeholder {
  color: #999;
  opacity: 1;
}
.form-control:-ms-input-placeholder {
  color: #999;
}
.form-control::-webkit-input-placeholder {
  color: #999;
}
.form-control::-ms-expand {
  border: 0;
  background-color: transparent;
}
.form-control[disabled],
.form-control[readonly],
fieldset[disabled] .form-control {
  background-color: #eeeeee;
  opacity: 1;
}
.form-control[disabled],
fieldset[disabled] .form-control {
  cursor: not-allowed;
}
textarea.form-control {
  height: auto;
}
input[type="search"] {
  -webkit-appearance: none;
}
@media screen and (-webkit-min-device-pixel-ratio: 0) {
  input[type="date"].form-control,
  input[type="time"].form-control,
  input[type="datetime-local"].form-control,
  input[type="month"].form-control {
    line-height: 32px;
  }
  input[type="date"].input-sm,
  input[type="time"].input-sm,
  input[type="datetime-local"].input-sm,
  input[type="month"].input-sm,
  .input-group-sm input[type="date"],
  .input-group-sm input[type="time"],
  .input-group-sm input[type="datetime-local"],
  .input-group-sm input[type="month"] {
    line-height: 30px;
  }
  input[type="date"].input-lg,
  input[type="time"].input-lg,
  input[type="datetime-local"].input-lg,
  input[type="month"].input-lg,
  .input-group-lg input[type="date"],
  .input-group-lg input[type="time"],
  .input-group-lg input[type="datetime-local"],
  .input-group-lg input[type="month"] {
    line-height: 45px;
  }
}
.form-group {
  margin-bottom: 15px;
}
.radio,
.checkbox {
  position: relative;
  display: block;
  margin-top: 10px;
  margin-bottom: 10px;
}
.radio label,
.checkbox label {
  min-height: 18px;
  padding-left: 20px;
  margin-bottom: 0;
  font-weight: normal;
  cursor: pointer;
}
.radio input[type="radio"],
.radio-inline input[type="radio"],
.checkbox input[type="checkbox"],
.checkbox-inline input[type="checkbox"] {
  position: absolute;
  margin-left: -20px;
  margin-top: 4px \9;
}
.radio + .radio,
.checkbox + .checkbox {
  margin-top: -5px;
}
.radio-inline,
.checkbox-inline {
  position: relative;
  display: inline-block;
  padding-left: 20px;
  margin-bottom: 0;
  vertical-align: middle;
  font-weight: normal;
  cursor: pointer;
}
.radio-inline + .radio-inline,
.checkbox-inline + .checkbox-inline {
  margin-top: 0;
  margin-left: 10px;
}
input[type="radio"][disabled],
input[type="checkbox"][disabled],
input[type="radio"].disabled,
input[type="checkbox"].disabled,
fieldset[disabled] input[type="radio"],
fieldset[disabled] input[type="checkbox"] {
  cursor: not-allowed;
}
.radio-inline.disabled,
.checkbox-inline.disabled,
fieldset[disabled] .radio-inline,
fieldset[disabled] .checkbox-inline {
  cursor: not-allowed;
}
.radio.disabled label,
.checkbox.disabled label,
fieldset[disabled] .radio label,
fieldset[disabled] .checkbox label {
  cursor: not-allowed;
}
.form-control-static {
  padding-top: 7px;
  padding-bottom: 7px;
  margin-bottom: 0;
  min-height: 31px;
}
.form-control-static.input-lg,
.form-control-static.input-sm {
  padding-left: 0;
  padding-right: 0;
}
.input-sm {
  height: 30px;
  padding: 5px 10px;
  font-size: 12px;
  line-height: 1.5;
  border-radius: 1px;
}
select.input-sm {
  height: 30px;
  line-height: 30px;
}
textarea.input-sm,
select[multiple].input-sm {
  height: auto;
}
.form-group-sm .form-control {
  height: 30px;
  padding: 5px 10px;
  font-size: 12px;
  line-height: 1.5;
  border-radius: 1px;
}
.form-group-sm select.form-control {
  height: 30px;
  line-height: 30px;
}
.form-group-sm textarea.form-control,
.form-group-sm select[multiple].form-control {
  height: auto;
}
.form-group-sm .form-control-static {
  height: 30px;
  min-height: 30px;
  padding: 6px 10px;
  font-size: 12px;
  line-height: 1.5;
}
.input-lg {
  height: 45px;
  padding: 10px 16px;
  font-size: 17px;
  line-height: 1.3333333;
  border-radius: 3px;
}
select.input-lg {
  height: 45px;
  line-height: 45px;
}
textarea.input-lg,
select[multiple].input-lg {
  height: auto;
}
.form-group-lg .form-control {
  height: 45px;
  padding: 10px 16px;
  font-size: 17px;
  line-height: 1.3333333;
  border-radius: 3px;
}
.form-group-lg select.form-control {
  height: 45px;
  line-height: 45px;
}
.form-group-lg textarea.form-control,
.form-group-lg select[multiple].form-control {
  height: auto;
}
.form-group-lg .form-control-static {
  height: 45px;
  min-height: 35px;
  padding: 11px 16px;
  font-size: 17px;
  line-height: 1.3333333;
}
.has-feedback {
  position: relative;
}
.has-feedback .form-control {
  padding-right: 40px;
}
.form-control-feedback {
  position: absolute;
  top: 0;
  right: 0;
  z-index: 2;
  display: block;
  width: 32px;
  height: 32px;
  line-height: 32px;
  text-align: center;
  pointer-events: none;
}
.input-lg + .form-control-feedback,
.input-group-lg + .form-control-feedback,
.form-group-lg .form-control + .form-control-feedback {
  width: 45px;
  height: 45px;
  line-height: 45px;
}
.input-sm + .form-control-feedback,
.input-group-sm + .form-control-feedback,
.form-group-sm .form-control + .form-control-feedback {
  width: 30px;
  height: 30px;
  line-height: 30px;
}
.has-success .help-block,
.has-success .control-label,
.has-success .radio,
.has-success .checkbox,
.has-success .radio-inline,
.has-success .checkbox-inline,
.has-success.radio label,
.has-success.checkbox label,
.has-success.radio-inline label,
.has-success.checkbox-inline label {
  color: #3c763d;
}
.has-success .form-control {
  border-color: #3c763d;
  -webkit-box-shadow: inset 0 1px 1px rgba(0, 0, 0, 0.075);
  box-shadow: inset 0 1px 1px rgba(0, 0, 0, 0.075);
}
.has-success .form-control:focus {
  border-color: #2b542c;
  -webkit-box-shadow: inset 0 1px 1px rgba(0, 0, 0, 0.075), 0 0 6px #67b168;
  box-shadow: inset 0 1px 1px rgba(0, 0, 0, 0.075), 0 0 6px #67b168;
}
.has-success .input-group-addon {
  color: #3c763d;
  border-color: #3c763d;
  background-color: #dff0d8;
}
.has-success .form-control-feedback {
  color: #3c763d;
}
.has-warning .help-block,
.has-warning .control-label,
.has-warning .radio,
.has-warning .checkbox,
.has-warning .radio-inline,
.has-warning .checkbox-inline,
.has-warning.radio label,
.has-warning.checkbox label,
.has-warning.radio-inline label,
.has-warning.checkbox-inline label {
  color: #8a6d3b;
}
.has-warning .form-control {
  border-color: #8a6d3b;
  -webkit-box-shadow: inset 0 1px 1px rgba(0, 0, 0, 0.075);
  box-shadow: inset 0 1px 1px rgba(0, 0, 0, 0.075);
}
.has-warning .form-control:focus {
  border-color: #66512c;
  -webkit-box-shadow: inset 0 1px 1px rgba(0, 0, 0, 0.075), 0 0 6px #c0a16b;
  box-shadow: inset 0 1px 1px rgba(0, 0, 0, 0.075), 0 0 6px #c0a16b;
}
.has-warning .input-group-addon {
  color: #8a6d3b;
  border-color: #8a6d3b;
  background-color: #fcf8e3;
}
.has-warning .form-control-feedback {
  color: #8a6d3b;
}
.has-error .help-block,
.has-error .control-label,
.has-error .radio,
.has-error .checkbox,
.has-error .radio-inline,
.has-error .checkbox-inline,
.has-error.radio label,
.has-error.checkbox label,
.has-error.radio-inline label,
.has-error.checkbox-inline label {
  color: #a94442;
}
.has-error .form-control {
  border-color: #a94442;
  -webkit-box-shadow: inset 0 1px 1px rgba(0, 0, 0, 0.075);
  box-shadow: inset 0 1px 1px rgba(0, 0, 0, 0.075);
}
.has-error .form-control:focus {
  border-color: #843534;
  -webkit-box-shadow: inset 0 1px 1px rgba(0, 0, 0, 0.075), 0 0 6px #ce8483;
  box-shadow: inset 0 1px 1px rgba(0, 0, 0, 0.075), 0 0 6px #ce8483;
}
.has-error .input-group-addon {
  color: #a94442;
  border-color: #a94442;
  background-color: #f2dede;
}
.has-error .form-control-feedback {
  color: #a94442;
}
.has-feedback label ~ .form-control-feedback {
  top: 23px;
}
.has-feedback label.sr-only ~ .form-control-feedback {
  top: 0;
}
.help-block {
  display: block;
  margin-top: 5px;
  margin-bottom: 10px;
  color: #404040;
}
@media (min-width: 768px) {
  .form-inline .form-group {
    display: inline-block;
    margin-bottom: 0;
    vertical-align: middle;
  }
  .form-inline .form-control {
    display: inline-block;
    width: auto;
    vertical-align: middle;
  }
  .form-inline .form-control-static {
    display: inline-block;
  }
  .form-inline .input-group {
    display: inline-table;
    vertical-align: middle;
  }
  .form-inline .input-group .input-group-addon,
  .form-inline .input-group .input-group-btn,
  .form-inline .input-group .form-control {
    width: auto;
  }
  .form-inline .input-group > .form-control {
    width: 100%;
  }
  .form-inline .control-label {
    margin-bottom: 0;
    vertical-align: middle;
  }
  .form-inline .radio,
  .form-inline .checkbox {
    display: inline-block;
    margin-top: 0;
    margin-bottom: 0;
    vertical-align: middle;
  }
  .form-inline .radio label,
  .form-inline .checkbox label {
    padding-left: 0;
  }
  .form-inline .radio input[type="radio"],
  .form-inline .checkbox input[type="checkbox"] {
    position: relative;
    margin-left: 0;
  }
  .form-inline .has-feedback .form-control-feedback {
    top: 0;
  }
}
.form-horizontal .radio,
.form-horizontal .checkbox,
.form-horizontal .radio-inline,
.form-horizontal .checkbox-inline {
  margin-top: 0;
  margin-bottom: 0;
  padding-top: 7px;
}
.form-horizontal .radio,
.form-horizontal .checkbox {
  min-height: 25px;
}
.form-horizontal .form-group {
  margin-left: 0px;
  margin-right: 0px;
}
@media (min-width: 768px) {
  .form-horizontal .control-label {
    text-align: right;
    margin-bottom: 0;
    padding-top: 7px;
  }
}
.form-horizontal .has-feedback .form-control-feedback {
  right: 0px;
}
@media (min-width: 768px) {
  .form-horizontal .form-group-lg .control-label {
    padding-top: 11px;
    font-size: 17px;
  }
}
@media (min-width: 768px) {
  .form-horizontal .form-group-sm .control-label {
    padding-top: 6px;
    font-size: 12px;
  }
}
.btn {
  display: inline-block;
  margin-bottom: 0;
  font-weight: normal;
  text-align: center;
  vertical-align: middle;
  touch-action: manipulation;
  cursor: pointer;
  background-image: none;
  border: 1px solid transparent;
  white-space: nowrap;
  padding: 6px 12px;
  font-size: 13px;
  line-height: 1.42857143;
  border-radius: 2px;
  -webkit-user-select: none;
  -moz-user-select: none;
  -ms-user-select: none;
  user-select: none;
}
.btn:focus,
.btn:active:focus,
.btn.active:focus,
.btn.focus,
.btn:active.focus,
.btn.active.focus {
  outline: thin dotted;
  outline: 5px auto -webkit-focus-ring-color;
  outline-offset: -2px;
}
.btn:hover,
.btn:focus,
.btn.focus {
  color: #333;
  text-decoration: none;
}
.btn:active,
.btn.active {
  outline: 0;
  background-image: none;
  -webkit-box-shadow: inset 0 3px 5px rgba(0, 0, 0, 0.125);
  box-shadow: inset 0 3px 5px rgba(0, 0, 0, 0.125);
}
.btn.disabled,
.btn[disabled],
fieldset[disabled] .btn {
  cursor: not-allowed;
  opacity: 0.65;
  filter: alpha(opacity=65);
  -webkit-box-shadow: none;
  box-shadow: none;
}
a.btn.disabled,
fieldset[disabled] a.btn {
  pointer-events: none;
}
.btn-default {
  color: #333;
  background-color: #fff;
  border-color: #ccc;
}
.btn-default:focus,
.btn-default.focus {
  color: #333;
  background-color: #e6e6e6;
  border-color: #8c8c8c;
}
.btn-default:hover {
  color: #333;
  background-color: #e6e6e6;
  border-color: #adadad;
}
.btn-default:active,
.btn-default.active,
.open > .dropdown-toggle.btn-default {
  color: #333;
  background-color: #e6e6e6;
  border-color: #adadad;
}
.btn-default:active:hover,
.btn-default.active:hover,
.open > .dropdown-toggle.btn-default:hover,
.btn-default:active:focus,
.btn-default.active:focus,
.open > .dropdown-toggle.btn-default:focus,
.btn-default:active.focus,
.btn-default.active.focus,
.open > .dropdown-toggle.btn-default.focus {
  color: #333;
  background-color: #d4d4d4;
  border-color: #8c8c8c;
}
.btn-default:active,
.btn-default.active,
.open > .dropdown-toggle.btn-default {
  background-image: none;
}
.btn-default.disabled:hover,
.btn-default[disabled]:hover,
fieldset[disabled] .btn-default:hover,
.btn-default.disabled:focus,
.btn-default[disabled]:focus,
fieldset[disabled] .btn-default:focus,
.btn-default.disabled.focus,
.btn-default[disabled].focus,
fieldset[disabled] .btn-default.focus {
  background-color: #fff;
  border-color: #ccc;
}
.btn-default .badge {
  color: #fff;
  background-color: #333;
}
.btn-primary {
  color: #fff;
  background-color: #337ab7;
  border-color: #2e6da4;
}
.btn-primary:focus,
.btn-primary.focus {
  color: #fff;
  background-color: #286090;
  border-color: #122b40;
}
.btn-primary:hover {
  color: #fff;
  background-color: #286090;
  border-color: #204d74;
}
.btn-primary:active,
.btn-primary.active,
.open > .dropdown-toggle.btn-primary {
  color: #fff;
  background-color: #286090;
  border-color: #204d74;
}
.btn-primary:active:hover,
.btn-primary.active:hover,
.open > .dropdown-toggle.btn-primary:hover,
.btn-primary:active:focus,
.btn-primary.active:focus,
.open > .dropdown-toggle.btn-primary:focus,
.btn-primary:active.focus,
.btn-primary.active.focus,
.open > .dropdown-toggle.btn-primary.focus {
  color: #fff;
  background-color: #204d74;
  border-color: #122b40;
}
.btn-primary:active,
.btn-primary.active,
.open > .dropdown-toggle.btn-primary {
  background-image: none;
}
.btn-primary.disabled:hover,
.btn-primary[disabled]:hover,
fieldset[disabled] .btn-primary:hover,
.btn-primary.disabled:focus,
.btn-primary[disabled]:focus,
fieldset[disabled] .btn-primary:focus,
.btn-primary.disabled.focus,
.btn-primary[disabled].focus,
fieldset[disabled] .btn-primary.focus {
  background-color: #337ab7;
  border-color: #2e6da4;
}
.btn-primary .badge {
  color: #337ab7;
  background-color: #fff;
}
.btn-success {
  color: #fff;
  background-color: #5cb85c;
  border-color: #4cae4c;
}
.btn-success:focus,
.btn-success.focus {
  color: #fff;
  background-color: #449d44;
  border-color: #255625;
}
.btn-success:hover {
  color: #fff;
  background-color: #449d44;
  border-color: #398439;
}
.btn-success:active,
.btn-success.active,
.open > .dropdown-toggle.btn-success {
  color: #fff;
  background-color: #449d44;
  border-color: #398439;
}
.btn-success:active:hover,
.btn-success.active:hover,
.open > .dropdown-toggle.btn-success:hover,
.btn-success:active:focus,
.btn-success.active:focus,
.open > .dropdown-toggle.btn-success:focus,
.btn-success:active.focus,
.btn-success.active.focus,
.open > .dropdown-toggle.btn-success.focus {
  color: #fff;
  background-color: #398439;
  border-color: #255625;
}
.btn-success:active,
.btn-success.active,
.open > .dropdown-toggle.btn-success {
  background-image: none;
}
.btn-success.disabled:hover,
.btn-success[disabled]:hover,
fieldset[disabled] .btn-success:hover,
.btn-success.disabled:focus,
.btn-success[disabled]:focus,
fieldset[disabled] .btn-success:focus,
.btn-success.disabled.focus,
.btn-success[disabled].focus,
fieldset[disabled] .btn-success.focus {
  background-color: #5cb85c;
  border-color: #4cae4c;
}
.btn-success .badge {
  color: #5cb85c;
  background-color: #fff;
}
.btn-info {
  color: #fff;
  background-color: #5bc0de;
  border-color: #46b8da;
}
.btn-info:focus,
.btn-info.focus {
  color: #fff;
  background-color: #31b0d5;
  border-color: #1b6d85;
}
.btn-info:hover {
  color: #fff;
  background-color: #31b0d5;
  border-color: #269abc;
}
.btn-info:active,
.btn-info.active,
.open > .dropdown-toggle.btn-info {
  color: #fff;
  background-color: #31b0d5;
  border-color: #269abc;
}
.btn-info:active:hover,
.btn-info.active:hover,
.open > .dropdown-toggle.btn-info:hover,
.btn-info:active:focus,
.btn-info.active:focus,
.open > .dropdown-toggle.btn-info:focus,
.btn-info:active.focus,
.btn-info.active.focus,
.open > .dropdown-toggle.btn-info.focus {
  color: #fff;
  background-color: #269abc;
  border-color: #1b6d85;
}
.btn-info:active,
.btn-info.active,
.open > .dropdown-toggle.btn-info {
  background-image: none;
}
.btn-info.disabled:hover,
.btn-info[disabled]:hover,
fieldset[disabled] .btn-info:hover,
.btn-info.disabled:focus,
.btn-info[disabled]:focus,
fieldset[disabled] .btn-info:focus,
.btn-info.disabled.focus,
.btn-info[disabled].focus,
fieldset[disabled] .btn-info.focus {
  background-color: #5bc0de;
  border-color: #46b8da;
}
.btn-info .badge {
  color: #5bc0de;
  background-color: #fff;
}
.btn-warning {
  color: #fff;
  background-color: #f0ad4e;
  border-color: #eea236;
}
.btn-warning:focus,
.btn-warning.focus {
  color: #fff;
  background-color: #ec971f;
  border-color: #985f0d;
}
.btn-warning:hover {
  color: #fff;
  background-color: #ec971f;
  border-color: #d58512;
}
.btn-warning:active,
.btn-warning.active,
.open > .dropdown-toggle.btn-warning {
  color: #fff;
  background-color: #ec971f;
  border-color: #d58512;
}
.btn-warning:active:hover,
.btn-warning.active:hover,
.open > .dropdown-toggle.btn-warning:hover,
.btn-warning:active:focus,
.btn-warning.active:focus,
.open > .dropdown-toggle.btn-warning:focus,
.btn-warning:active.focus,
.btn-warning.active.focus,
.open > .dropdown-toggle.btn-warning.focus {
  color: #fff;
  background-color: #d58512;
  border-color: #985f0d;
}
.btn-warning:active,
.btn-warning.active,
.open > .dropdown-toggle.btn-warning {
  background-image: none;
}
.btn-warning.disabled:hover,
.btn-warning[disabled]:hover,
fieldset[disabled] .btn-warning:hover,
.btn-warning.disabled:focus,
.btn-warning[disabled]:focus,
fieldset[disabled] .btn-warning:focus,
.btn-warning.disabled.focus,
.btn-warning[disabled].focus,
fieldset[disabled] .btn-warning.focus {
  background-color: #f0ad4e;
  border-color: #eea236;
}
.btn-warning .badge {
  color: #f0ad4e;
  background-color: #fff;
}
.btn-danger {
  color: #fff;
  background-color: #d9534f;
  border-color: #d43f3a;
}
.btn-danger:focus,
.btn-danger.focus {
  color: #fff;
  background-color: #c9302c;
  border-color: #761c19;
}
.btn-danger:hover {
  color: #fff;
  background-color: #c9302c;
  border-color: #ac2925;
}
.btn-danger:active,
.btn-danger.active,
.open > .dropdown-toggle.btn-danger {
  color: #fff;
  background-color: #c9302c;
  border-color: #ac2925;
}
.btn-danger:active:hover,
.btn-danger.active:hover,
.open > .dropdown-toggle.btn-danger:hover,
.btn-danger:active:focus,
.btn-danger.active:focus,
.open > .dropdown-toggle.btn-danger:focus,
.btn-danger:active.focus,
.btn-danger.active.focus,
.open > .dropdown-toggle.btn-danger.focus {
  color: #fff;
  background-color: #ac2925;
  border-color: #761c19;
}
.btn-danger:active,
.btn-danger.active,
.open > .dropdown-toggle.btn-danger {
  background-image: none;
}
.btn-danger.disabled:hover,
.btn-danger[disabled]:hover,
fieldset[disabled] .btn-danger:hover,
.btn-danger.disabled:focus,
.btn-danger[disabled]:focus,
fieldset[disabled] .btn-danger:focus,
.btn-danger.disabled.focus,
.btn-danger[disabled].focus,
fieldset[disabled] .btn-danger.focus {
  background-color: #d9534f;
  border-color: #d43f3a;
}
.btn-danger .badge {
  color: #d9534f;
  background-color: #fff;
}
.btn-link {
  color: #337ab7;
  font-weight: normal;
  border-radius: 0;
}
.btn-link,
.btn-link:active,
.btn-link.active,
.btn-link[disabled],
fieldset[disabled] .btn-link {
  background-color: transparent;
  -webkit-box-shadow: none;
  box-shadow: none;
}
.btn-link,
.btn-link:hover,
.btn-link:focus,
.btn-link:active {
  border-color: transparent;
}
.btn-link:hover,
.btn-link:focus {
  color: #23527c;
  text-decoration: underline;
  background-color: transparent;
}
.btn-link[disabled]:hover,
fieldset[disabled] .btn-link:hover,
.btn-link[disabled]:focus,
fieldset[disabled] .btn-link:focus {
  color: #777777;
  text-decoration: none;
}
.btn-lg,
.btn-group-lg > .btn {
  padding: 10px 16px;
  font-size: 17px;
  line-height: 1.3333333;
  border-radius: 3px;
}
.btn-sm,
.btn-group-sm > .btn {
  padding: 5px 10px;
  font-size: 12px;
  line-height: 1.5;
  border-radius: 1px;
}
.btn-xs,
.btn-group-xs > .btn {
  padding: 1px 5px;
  font-size: 12px;
  line-height: 1.5;
  border-radius: 1px;
}
.btn-block {
  display: block;
  width: 100%;
}
.btn-block + .btn-block {
  margin-top: 5px;
}
input[type="submit"].btn-block,
input[type="reset"].btn-block,
input[type="button"].btn-block {
  width: 100%;
}
.fade {
  opacity: 0;
  -webkit-transition: opacity 0.15s linear;
  -o-transition: opacity 0.15s linear;
  transition: opacity 0.15s linear;
}
.fade.in {
  opacity: 1;
}
.collapse {
  display: none;
}
.collapse.in {
  display: block;
}
tr.collapse.in {
  display: table-row;
}
tbody.collapse.in {
  display: table-row-group;
}
.collapsing {
  position: relative;
  height: 0;
  overflow: hidden;
  -webkit-transition-property: height, visibility;
  transition-property: height, visibility;
  -webkit-transition-duration: 0.35s;
  transition-duration: 0.35s;
  -webkit-transition-timing-function: ease;
  transition-timing-function: ease;
}
.caret {
  display: inline-block;
  width: 0;
  height: 0;
  margin-left: 2px;
  vertical-align: middle;
  border-top: 4px dashed;
  border-top: 4px solid \9;
  border-right: 4px solid transparent;
  border-left: 4px solid transparent;
}
.dropup,
.dropdown {
  position: relative;
}
.dropdown-toggle:focus {
  outline: 0;
}
.dropdown-menu {
  position: absolute;
  top: 100%;
  left: 0;
  z-index: 1000;
  display: none;
  float: left;
  min-width: 160px;
  padding: 5px 0;
  margin: 2px 0 0;
  list-style: none;
  font-size: 13px;
  text-align: left;
  background-color: #fff;
  border: 1px solid #ccc;
  border: 1px solid rgba(0, 0, 0, 0.15);
  border-radius: 2px;
  -webkit-box-shadow: 0 6px 12px rgba(0, 0, 0, 0.175);
  box-shadow: 0 6px 12px rgba(0, 0, 0, 0.175);
  background-clip: padding-box;
}
.dropdown-menu.pull-right {
  right: 0;
  left: auto;
}
.dropdown-menu .divider {
  height: 1px;
  margin: 8px 0;
  overflow: hidden;
  background-color: #e5e5e5;
}
.dropdown-menu > li > a {
  display: block;
  padding: 3px 20px;
  clear: both;
  font-weight: normal;
  line-height: 1.42857143;
  color: #333333;
  white-space: nowrap;
}
.dropdown-menu > li > a:hover,
.dropdown-menu > li > a:focus {
  text-decoration: none;
  color: #262626;
  background-color: #f5f5f5;
}
.dropdown-menu > .active > a,
.dropdown-menu > .active > a:hover,
.dropdown-menu > .active > a:focus {
  color: #fff;
  text-decoration: none;
  outline: 0;
  background-color: #337ab7;
}
.dropdown-menu > .disabled > a,
.dropdown-menu > .disabled > a:hover,
.dropdown-menu > .disabled > a:focus {
  color: #777777;
}
.dropdown-menu > .disabled > a:hover,
.dropdown-menu > .disabled > a:focus {
  text-decoration: none;
  background-color: transparent;
  background-image: none;
  filter: progid:DXImageTransform.Microsoft.gradient(enabled = false);
  cursor: not-allowed;
}
.open > .dropdown-menu {
  display: block;
}
.open > a {
  outline: 0;
}
.dropdown-menu-right {
  left: auto;
  right: 0;
}
.dropdown-menu-left {
  left: 0;
  right: auto;
}
.dropdown-header {
  display: block;
  padding: 3px 20px;
  font-size: 12px;
  line-height: 1.42857143;
  color: #777777;
  white-space: nowrap;
}
.dropdown-backdrop {
  position: fixed;
  left: 0;
  right: 0;
  bottom: 0;
  top: 0;
  z-index: 990;
}
.pull-right > .dropdown-menu {
  right: 0;
  left: auto;
}
.dropup .caret,
.navbar-fixed-bottom .dropdown .caret {
  border-top: 0;
  border-bottom: 4px dashed;
  border-bottom: 4px solid \9;
  content: "";
}
.dropup .dropdown-menu,
.navbar-fixed-bottom .dropdown .dropdown-menu {
  top: auto;
  bottom: 100%;
  margin-bottom: 2px;
}
@media (min-width: 541px) {
  .navbar-right .dropdown-menu {
    left: auto;
    right: 0;
  }
  .navbar-right .dropdown-menu-left {
    left: 0;
    right: auto;
  }
}
.btn-group,
.btn-group-vertical {
  position: relative;
  display: inline-block;
  vertical-align: middle;
}
.btn-group > .btn,
.btn-group-vertical > .btn {
  position: relative;
  float: left;
}
.btn-group > .btn:hover,
.btn-group-vertical > .btn:hover,
.btn-group > .btn:focus,
.btn-group-vertical > .btn:focus,
.btn-group > .btn:active,
.btn-group-vertical > .btn:active,
.btn-group > .btn.active,
.btn-group-vertical > .btn.active {
  z-index: 2;
}
.btn-group .btn + .btn,
.btn-group .btn + .btn-group,
.btn-group .btn-group + .btn,
.btn-group .btn-group + .btn-group {
  margin-left: -1px;
}
.btn-toolbar {
  margin-left: -5px;
}
.btn-toolbar .btn,
.btn-toolbar .btn-group,
.btn-toolbar .input-group {
  float: left;
}
.btn-toolbar > .btn,
.btn-toolbar > .btn-group,
.btn-toolbar > .input-group {
  margin-left: 5px;
}
.btn-group > .btn:not(:first-child):not(:last-child):not(.dropdown-toggle) {
  border-radius: 0;
}
.btn-group > .btn:first-child {
  margin-left: 0;
}
.btn-group > .btn:first-child:not(:last-child):not(.dropdown-toggle) {
  border-bottom-right-radius: 0;
  border-top-right-radius: 0;
}
.btn-group > .btn:last-child:not(:first-child),
.btn-group > .dropdown-toggle:not(:first-child) {
  border-bottom-left-radius: 0;
  border-top-left-radius: 0;
}
.btn-group > .btn-group {
  float: left;
}
.btn-group > .btn-group:not(:first-child):not(:last-child) > .btn {
  border-radius: 0;
}
.btn-group > .btn-group:first-child:not(:last-child) > .btn:last-child,
.btn-group > .btn-group:first-child:not(:last-child) > .dropdown-toggle {
  border-bottom-right-radius: 0;
  border-top-right-radius: 0;
}
.btn-group > .btn-group:last-child:not(:first-child) > .btn:first-child {
  border-bottom-left-radius: 0;
  border-top-left-radius: 0;
}
.btn-group .dropdown-toggle:active,
.btn-group.open .dropdown-toggle {
  outline: 0;
}
.btn-group > .btn + .dropdown-toggle {
  padding-left: 8px;
  padding-right: 8px;
}
.btn-group > .btn-lg + .dropdown-toggle {
  padding-left: 12px;
  padding-right: 12px;
}
.btn-group.open .dropdown-toggle {
  -webkit-box-shadow: inset 0 3px 5px rgba(0, 0, 0, 0.125);
  box-shadow: inset 0 3px 5px rgba(0, 0, 0, 0.125);
}
.btn-group.open .dropdown-toggle.btn-link {
  -webkit-box-shadow: none;
  box-shadow: none;
}
.btn .caret {
  margin-left: 0;
}
.btn-lg .caret {
  border-width: 5px 5px 0;
  border-bottom-width: 0;
}
.dropup .btn-lg .caret {
  border-width: 0 5px 5px;
}
.btn-group-vertical > .btn,
.btn-group-vertical > .btn-group,
.btn-group-vertical > .btn-group > .btn {
  display: block;
  float: none;
  width: 100%;
  max-width: 100%;
}
.btn-group-vertical > .btn-group > .btn {
  float: none;
}
.btn-group-vertical > .btn + .btn,
.btn-group-vertical > .btn + .btn-group,
.btn-group-vertical > .btn-group + .btn,
.btn-group-vertical > .btn-group + .btn-group {
  margin-top: -1px;
  margin-left: 0;
}
.btn-group-vertical > .btn:not(:first-child):not(:last-child) {
  border-radius: 0;
}
.btn-group-vertical > .btn:first-child:not(:last-child) {
  border-top-right-radius: 2px;
  border-top-left-radius: 2px;
  border-bottom-right-radius: 0;
  border-bottom-left-radius: 0;
}
.btn-group-vertical > .btn:last-child:not(:first-child) {
  border-top-right-radius: 0;
  border-top-left-radius: 0;
  border-bottom-right-radius: 2px;
  border-bottom-left-radius: 2px;
}
.btn-group-vertical > .btn-group:not(:first-child):not(:last-child) > .btn {
  border-radius: 0;
}
.btn-group-vertical > .btn-group:first-child:not(:last-child) > .btn:last-child,
.btn-group-vertical > .btn-group:first-child:not(:last-child) > .dropdown-toggle {
  border-bottom-right-radius: 0;
  border-bottom-left-radius: 0;
}
.btn-group-vertical > .btn-group:last-child:not(:first-child) > .btn:first-child {
  border-top-right-radius: 0;
  border-top-left-radius: 0;
}
.btn-group-justified {
  display: table;
  width: 100%;
  table-layout: fixed;
  border-collapse: separate;
}
.btn-group-justified > .btn,
.btn-group-justified > .btn-group {
  float: none;
  display: table-cell;
  width: 1%;
}
.btn-group-justified > .btn-group .btn {
  width: 100%;
}
.btn-group-justified > .btn-group .dropdown-menu {
  left: auto;
}
[data-toggle="buttons"] > .btn input[type="radio"],
[data-toggle="buttons"] > .btn-group > .btn input[type="radio"],
[data-toggle="buttons"] > .btn input[type="checkbox"],
[data-toggle="buttons"] > .btn-group > .btn input[type="checkbox"] {
  position: absolute;
  clip: rect(0, 0, 0, 0);
  pointer-events: none;
}
.input-group {
  position: relative;
  display: table;
  border-collapse: separate;
}
.input-group[class*="col-"] {
  float: none;
  padding-left: 0;
  padding-right: 0;
}
.input-group .form-control {
  position: relative;
  z-index: 2;
  float: left;
  width: 100%;
  margin-bottom: 0;
}
.input-group .form-control:focus {
  z-index: 3;
}
.input-group-lg > .form-control,
.input-group-lg > .input-group-addon,
.input-group-lg > .input-group-btn > .btn {
  height: 45px;
  padding: 10px 16px;
  font-size: 17px;
  line-height: 1.3333333;
  border-radius: 3px;
}
select.input-group-lg > .form-control,
select.input-group-lg > .input-group-addon,
select.input-group-lg > .input-group-btn > .btn {
  height: 45px;
  line-height: 45px;
}
textarea.input-group-lg > .form-control,
textarea.input-group-lg > .input-group-addon,
textarea.input-group-lg > .input-group-btn > .btn,
select[multiple].input-group-lg > .form-control,
select[multiple].input-group-lg > .input-group-addon,
select[multiple].input-group-lg > .input-group-btn > .btn {
  height: auto;
}
.input-group-sm > .form-control,
.input-group-sm > .input-group-addon,
.input-group-sm > .input-group-btn > .btn {
  height: 30px;
  padding: 5px 10px;
  font-size: 12px;
  line-height: 1.5;
  border-radius: 1px;
}
select.input-group-sm > .form-control,
select.input-group-sm > .input-group-addon,
select.input-group-sm > .input-group-btn > .btn {
  height: 30px;
  line-height: 30px;
}
textarea.input-group-sm > .form-control,
textarea.input-group-sm > .input-group-addon,
textarea.input-group-sm > .input-group-btn > .btn,
select[multiple].input-group-sm > .form-control,
select[multiple].input-group-sm > .input-group-addon,
select[multiple].input-group-sm > .input-group-btn > .btn {
  height: auto;
}
.input-group-addon,
.input-group-btn,
.input-group .form-control {
  display: table-cell;
}
.input-group-addon:not(:first-child):not(:last-child),
.input-group-btn:not(:first-child):not(:last-child),
.input-group .form-control:not(:first-child):not(:last-child) {
  border-radius: 0;
}
.input-group-addon,
.input-group-btn {
  width: 1%;
  white-space: nowrap;
  vertical-align: middle;
}
.input-group-addon {
  padding: 6px 12px;
  font-size: 13px;
  font-weight: normal;
  line-height: 1;
  color: #555555;
  text-align: center;
  background-color: #eeeeee;
  border: 1px solid #ccc;
  border-radius: 2px;
}
.input-group-addon.input-sm {
  padding: 5px 10px;
  font-size: 12px;
  border-radius: 1px;
}
.input-group-addon.input-lg {
  padding: 10px 16px;
  font-size: 17px;
  border-radius: 3px;
}
.input-group-addon input[type="radio"],
.input-group-addon input[type="checkbox"] {
  margin-top: 0;
}
.input-group .form-control:first-child,
.input-group-addon:first-child,
.input-group-btn:first-child > .btn,
.input-group-btn:first-child > .btn-group > .btn,
.input-group-btn:first-child > .dropdown-toggle,
.input-group-btn:last-child > .btn:not(:last-child):not(.dropdown-toggle),
.input-group-btn:last-child > .btn-group:not(:last-child) > .btn {
  border-bottom-right-radius: 0;
  border-top-right-radius: 0;
}
.input-group-addon:first-child {
  border-right: 0;
}
.input-group .form-control:last-child,
.input-group-addon:last-child,
.input-group-btn:last-child > .btn,
.input-group-btn:last-child > .btn-group > .btn,
.input-group-btn:last-child > .dropdown-toggle,
.input-group-btn:first-child > .btn:not(:first-child),
.input-group-btn:first-child > .btn-group:not(:first-child) > .btn {
  border-bottom-left-radius: 0;
  border-top-left-radius: 0;
}
.input-group-addon:last-child {
  border-left: 0;
}
.input-group-btn {
  position: relative;
  font-size: 0;
  white-space: nowrap;
}
.input-group-btn > .btn {
  position: relative;
}
.input-group-btn > .btn + .btn {
  margin-left: -1px;
}
.input-group-btn > .btn:hover,
.input-group-btn > .btn:focus,
.input-group-btn > .btn:active {
  z-index: 2;
}
.input-group-btn:first-child > .btn,
.input-group-btn:first-child > .btn-group {
  margin-right: -1px;
}
.input-group-btn:last-child > .btn,
.input-group-btn:last-child > .btn-group {
  z-index: 2;
  margin-left: -1px;
}
.nav {
  margin-bottom: 0;
  padding-left: 0;
  list-style: none;
}
.nav > li {
  position: relative;
  display: block;
}
.nav > li > a {
  position: relative;
  display: block;
  padding: 10px 15px;
}
.nav > li > a:hover,
.nav > li > a:focus {
  text-decoration: none;
  background-color: #eeeeee;
}
.nav > li.disabled > a {
  color: #777777;
}
.nav > li.disabled > a:hover,
.nav > li.disabled > a:focus {
  color: #777777;
  text-decoration: none;
  background-color: transparent;
  cursor: not-allowed;
}
.nav .open > a,
.nav .open > a:hover,
.nav .open > a:focus {
  background-color: #eeeeee;
  border-color: #337ab7;
}
.nav .nav-divider {
  height: 1px;
  margin: 8px 0;
  overflow: hidden;
  background-color: #e5e5e5;
}
.nav > li > a > img {
  max-width: none;
}
.nav-tabs {
  border-bottom: 1px solid #ddd;
}
.nav-tabs > li {
  float: left;
  margin-bottom: -1px;
}
.nav-tabs > li > a {
  margin-right: 2px;
  line-height: 1.42857143;
  border: 1px solid transparent;
  border-radius: 2px 2px 0 0;
}
.nav-tabs > li > a:hover {
  border-color: #eeeeee #eeeeee #ddd;
}
.nav-tabs > li.active > a,
.nav-tabs > li.active > a:hover,
.nav-tabs > li.active > a:focus {
  color: #555555;
  background-color: #fff;
  border: 1px solid #ddd;
  border-bottom-color: transparent;
  cursor: default;
}
.nav-tabs.nav-justified {
  width: 100%;
  border-bottom: 0;
}
.nav-tabs.nav-justified > li {
  float: none;
}
.nav-tabs.nav-justified > li > a {
  text-align: center;
  margin-bottom: 5px;
}
.nav-tabs.nav-justified > .dropdown .dropdown-menu {
  top: auto;
  left: auto;
}
@media (min-width: 768px) {
  .nav-tabs.nav-justified > li {
    display: table-cell;
    width: 1%;
  }
  .nav-tabs.nav-justified > li > a {
    margin-bottom: 0;
  }
}
.nav-tabs.nav-justified > li > a {
  margin-right: 0;
  border-radius: 2px;
}
.nav-tabs.nav-justified > .active > a,
.nav-tabs.nav-justified > .active > a:hover,
.nav-tabs.nav-justified > .active > a:focus {
  border: 1px solid #ddd;
}
@media (min-width: 768px) {
  .nav-tabs.nav-justified > li > a {
    border-bottom: 1px solid #ddd;
    border-radius: 2px 2px 0 0;
  }
  .nav-tabs.nav-justified > .active > a,
  .nav-tabs.nav-justified > .active > a:hover,
  .nav-tabs.nav-justified > .active > a:focus {
    border-bottom-color: #fff;
  }
}
.nav-pills > li {
  float: left;
}
.nav-pills > li > a {
  border-radius: 2px;
}
.nav-pills > li + li {
  margin-left: 2px;
}
.nav-pills > li.active > a,
.nav-pills > li.active > a:hover,
.nav-pills > li.active > a:focus {
  color: #fff;
  background-color: #337ab7;
}
.nav-stacked > li {
  float: none;
}
.nav-stacked > li + li {
  margin-top: 2px;
  margin-left: 0;
}
.nav-justified {
  width: 100%;
}
.nav-justified > li {
  float: none;
}
.nav-justified > li > a {
  text-align: center;
  margin-bottom: 5px;
}
.nav-justified > .dropdown .dropdown-menu {
  top: auto;
  left: auto;
}
@media (min-width: 768px) {
  .nav-justified > li {
    display: table-cell;
    width: 1%;
  }
  .nav-justified > li > a {
    margin-bottom: 0;
  }
}
.nav-tabs-justified {
  border-bottom: 0;
}
.nav-tabs-justified > li > a {
  margin-right: 0;
  border-radius: 2px;
}
.nav-tabs-justified > .active > a,
.nav-tabs-justified > .active > a:hover,
.nav-tabs-justified > .active > a:focus {
  border: 1px solid #ddd;
}
@media (min-width: 768px) {
  .nav-tabs-justified > li > a {
    border-bottom: 1px solid #ddd;
    border-radius: 2px 2px 0 0;
  }
  .nav-tabs-justified > .active > a,
  .nav-tabs-justified > .active > a:hover,
  .nav-tabs-justified > .active > a:focus {
    border-bottom-color: #fff;
  }
}
.tab-content > .tab-pane {
  display: none;
}
.tab-content > .active {
  display: block;
}
.nav-tabs .dropdown-menu {
  margin-top: -1px;
  border-top-right-radius: 0;
  border-top-left-radius: 0;
}
.navbar {
  position: relative;
  min-height: 30px;
  margin-bottom: 18px;
  border: 1px solid transparent;
}
@media (min-width: 541px) {
  .navbar {
    border-radius: 2px;
  }
}
@media (min-width: 541px) {
  .navbar-header {
    float: left;
  }
}
.navbar-collapse {
  overflow-x: visible;
  padding-right: 0px;
  padding-left: 0px;
  border-top: 1px solid transparent;
  box-shadow: inset 0 1px 0 rgba(255, 255, 255, 0.1);
  -webkit-overflow-scrolling: touch;
}
.navbar-collapse.in {
  overflow-y: auto;
}
@media (min-width: 541px) {
  .navbar-collapse {
    width: auto;
    border-top: 0;
    box-shadow: none;
  }
  .navbar-collapse.collapse {
    display: block !important;
    height: auto !important;
    padding-bottom: 0;
    overflow: visible !important;
  }
  .navbar-collapse.in {
    overflow-y: visible;
  }
  .navbar-fixed-top .navbar-collapse,
  .navbar-static-top .navbar-collapse,
  .navbar-fixed-bottom .navbar-collapse {
    padding-left: 0;
    padding-right: 0;
  }
}
.navbar-fixed-top .navbar-collapse,
.navbar-fixed-bottom .navbar-collapse {
  max-height: 340px;
}
@media (max-device-width: 540px) and (orientation: landscape) {
  .navbar-fixed-top .navbar-collapse,
  .navbar-fixed-bottom .navbar-collapse {
    max-height: 200px;
  }
}
.container > .navbar-header,
.container-fluid > .navbar-header,
.container > .navbar-collapse,
.container-fluid > .navbar-collapse {
  margin-right: 0px;
  margin-left: 0px;
}
@media (min-width: 541px) {
  .container > .navbar-header,
  .container-fluid > .navbar-header,
  .container > .navbar-collapse,
  .container-fluid > .navbar-collapse {
    margin-right: 0;
    margin-left: 0;
  }
}
.navbar-static-top {
  z-index: 1000;
  border-width: 0 0 1px;
}
@media (min-width: 541px) {
  .navbar-static-top {
    border-radius: 0;
  }
}
.navbar-fixed-top,
.navbar-fixed-bottom {
  position: fixed;
  right: 0;
  left: 0;
  z-index: 1030;
}
@media (min-width: 541px) {
  .navbar-fixed-top,
  .navbar-fixed-bottom {
    border-radius: 0;
  }
}
.navbar-fixed-top {
  top: 0;
  border-width: 0 0 1px;
}
.navbar-fixed-bottom {
  bottom: 0;
  margin-bottom: 0;
  border-width: 1px 0 0;
}
.navbar-brand {
  float: left;
  padding: 6px 0px;
  font-size: 17px;
  line-height: 18px;
  height: 30px;
}
.navbar-brand:hover,
.navbar-brand:focus {
  text-decoration: none;
}
.navbar-brand > img {
  display: block;
}
@media (min-width: 541px) {
  .navbar > .container .navbar-brand,
  .navbar > .container-fluid .navbar-brand {
    margin-left: 0px;
  }
}
.navbar-toggle {
  position: relative;
  float: right;
  margin-right: 0px;
  padding: 9px 10px;
  margin-top: -2px;
  margin-bottom: -2px;
  background-color: transparent;
  background-image: none;
  border: 1px solid transparent;
  border-radius: 2px;
}
.navbar-toggle:focus {
  outline: 0;
}
.navbar-toggle .icon-bar {
  display: block;
  width: 22px;
  height: 2px;
  border-radius: 1px;
}
.navbar-toggle .icon-bar + .icon-bar {
  margin-top: 4px;
}
@media (min-width: 541px) {
  .navbar-toggle {
    display: none;
  }
}
.navbar-nav {
  margin: 3px 0px;
}
.navbar-nav > li > a {
  padding-top: 10px;
  padding-bottom: 10px;
  line-height: 18px;
}
@media (max-width: 540px) {
  .navbar-nav .open .dropdown-menu {
    position: static;
    float: none;
    width: auto;
    margin-top: 0;
    background-color: transparent;
    border: 0;
    box-shadow: none;
  }
  .navbar-nav .open .dropdown-menu > li > a,
  .navbar-nav .open .dropdown-menu .dropdown-header {
    padding: 5px 15px 5px 25px;
  }
  .navbar-nav .open .dropdown-menu > li > a {
    line-height: 18px;
  }
  .navbar-nav .open .dropdown-menu > li > a:hover,
  .navbar-nav .open .dropdown-menu > li > a:focus {
    background-image: none;
  }
}
@media (min-width: 541px) {
  .navbar-nav {
    float: left;
    margin: 0;
  }
  .navbar-nav > li {
    float: left;
  }
  .navbar-nav > li > a {
    padding-top: 6px;
    padding-bottom: 6px;
  }
}
.navbar-form {
  margin-left: 0px;
  margin-right: 0px;
  padding: 10px 0px;
  border-top: 1px solid transparent;
  border-bottom: 1px solid transparent;
  -webkit-box-shadow: inset 0 1px 0 rgba(255, 255, 255, 0.1), 0 1px 0 rgba(255, 255, 255, 0.1);
  box-shadow: inset 0 1px 0 rgba(255, 255, 255, 0.1), 0 1px 0 rgba(255, 255, 255, 0.1);
  margin-top: -1px;
  margin-bottom: -1px;
}
@media (min-width: 768px) {
  .navbar-form .form-group {
    display: inline-block;
    margin-bottom: 0;
    vertical-align: middle;
  }
  .navbar-form .form-control {
    display: inline-block;
    width: auto;
    vertical-align: middle;
  }
  .navbar-form .form-control-static {
    display: inline-block;
  }
  .navbar-form .input-group {
    display: inline-table;
    vertical-align: middle;
  }
  .navbar-form .input-group .input-group-addon,
  .navbar-form .input-group .input-group-btn,
  .navbar-form .input-group .form-control {
    width: auto;
  }
  .navbar-form .input-group > .form-control {
    width: 100%;
  }
  .navbar-form .control-label {
    margin-bottom: 0;
    vertical-align: middle;
  }
  .navbar-form .radio,
  .navbar-form .checkbox {
    display: inline-block;
    margin-top: 0;
    margin-bottom: 0;
    vertical-align: middle;
  }
  .navbar-form .radio label,
  .navbar-form .checkbox label {
    padding-left: 0;
  }
  .navbar-form .radio input[type="radio"],
  .navbar-form .checkbox input[type="checkbox"] {
    position: relative;
    margin-left: 0;
  }
  .navbar-form .has-feedback .form-control-feedback {
    top: 0;
  }
}
@media (max-width: 540px) {
  .navbar-form .form-group {
    margin-bottom: 5px;
  }
  .navbar-form .form-group:last-child {
    margin-bottom: 0;
  }
}
@media (min-width: 541px) {
  .navbar-form {
    width: auto;
    border: 0;
    margin-left: 0;
    margin-right: 0;
    padding-top: 0;
    padding-bottom: 0;
    -webkit-box-shadow: none;
    box-shadow: none;
  }
}
.navbar-nav > li > .dropdown-menu {
  margin-top: 0;
  border-top-right-radius: 0;
  border-top-left-radius: 0;
}
.navbar-fixed-bottom .navbar-nav > li > .dropdown-menu {
  margin-bottom: 0;
  border-top-right-radius: 2px;
  border-top-left-radius: 2px;
  border-bottom-right-radius: 0;
  border-bottom-left-radius: 0;
}
.navbar-btn {
  margin-top: -1px;
  margin-bottom: -1px;
}
.navbar-btn.btn-sm {
  margin-top: 0px;
  margin-bottom: 0px;
}
.navbar-btn.btn-xs {
  margin-top: 4px;
  margin-bottom: 4px;
}
.navbar-text {
  margin-top: 6px;
  margin-bottom: 6px;
}
@media (min-width: 541px) {
  .navbar-text {
    float: left;
    margin-left: 0px;
    margin-right: 0px;
  }
}
@media (min-width: 541px) {
  .navbar-left {
    float: left !important;
    float: left;
  }
  .navbar-right {
    float: right !important;
    float: right;
    margin-right: 0px;
  }
  .navbar-right ~ .navbar-right {
    margin-right: 0;
  }
}
.navbar-default {
  background-color: #f8f8f8;
  border-color: #e7e7e7;
}
.navbar-default .navbar-brand {
  color: #777;
}
.navbar-default .navbar-brand:hover,
.navbar-default .navbar-brand:focus {
  color: #5e5e5e;
  background-color: transparent;
}
.navbar-default .navbar-text {
  color: #777;
}
.navbar-default .navbar-nav > li > a {
  color: #777;
}
.navbar-default .navbar-nav > li > a:hover,
.navbar-default .navbar-nav > li > a:focus {
  color: #333;
  background-color: transparent;
}
.navbar-default .navbar-nav > .active > a,
.navbar-default .navbar-nav > .active > a:hover,
.navbar-default .navbar-nav > .active > a:focus {
  color: #555;
  background-color: #e7e7e7;
}
.navbar-default .navbar-nav > .disabled > a,
.navbar-default .navbar-nav > .disabled > a:hover,
.navbar-default .navbar-nav > .disabled > a:focus {
  color: #ccc;
  background-color: transparent;
}
.navbar-default .navbar-toggle {
  border-color: #ddd;
}
.navbar-default .navbar-toggle:hover,
.navbar-default .navbar-toggle:focus {
  background-color: #ddd;
}
.navbar-default .navbar-toggle .icon-bar {
  background-color: #888;
}
.navbar-default .navbar-collapse,
.navbar-default .navbar-form {
  border-color: #e7e7e7;
}
.navbar-default .navbar-nav > .open > a,
.navbar-default .navbar-nav > .open > a:hover,
.navbar-default .navbar-nav > .open > a:focus {
  background-color: #e7e7e7;
  color: #555;
}
@media (max-width: 540px) {
  .navbar-default .navbar-nav .open .dropdown-menu > li > a {
    color: #777;
  }
  .navbar-default .navbar-nav .open .dropdown-menu > li > a:hover,
  .navbar-default .navbar-nav .open .dropdown-menu > li > a:focus {
    color: #333;
    background-color: transparent;
  }
  .navbar-default .navbar-nav .open .dropdown-menu > .active > a,
  .navbar-default .navbar-nav .open .dropdown-menu > .active > a:hover,
  .navbar-default .navbar-nav .open .dropdown-menu > .active > a:focus {
    color: #555;
    background-color: #e7e7e7;
  }
  .navbar-default .navbar-nav .open .dropdown-menu > .disabled > a,
  .navbar-default .navbar-nav .open .dropdown-menu > .disabled > a:hover,
  .navbar-default .navbar-nav .open .dropdown-menu > .disabled > a:focus {
    color: #ccc;
    background-color: transparent;
  }
}
.navbar-default .navbar-link {
  color: #777;
}
.navbar-default .navbar-link:hover {
  color: #333;
}
.navbar-default .btn-link {
  color: #777;
}
.navbar-default .btn-link:hover,
.navbar-default .btn-link:focus {
  color: #333;
}
.navbar-default .btn-link[disabled]:hover,
fieldset[disabled] .navbar-default .btn-link:hover,
.navbar-default .btn-link[disabled]:focus,
fieldset[disabled] .navbar-default .btn-link:focus {
  color: #ccc;
}
.navbar-inverse {
  background-color: #222;
  border-color: #080808;
}
.navbar-inverse .navbar-brand {
  color: #9d9d9d;
}
.navbar-inverse .navbar-brand:hover,
.navbar-inverse .navbar-brand:focus {
  color: #fff;
  background-color: transparent;
}
.navbar-inverse .navbar-text {
  color: #9d9d9d;
}
.navbar-inverse .navbar-nav > li > a {
  color: #9d9d9d;
}
.navbar-inverse .navbar-nav > li > a:hover,
.navbar-inverse .navbar-nav > li > a:focus {
  color: #fff;
  background-color: transparent;
}
.navbar-inverse .navbar-nav > .active > a,
.navbar-inverse .navbar-nav > .active > a:hover,
.navbar-inverse .navbar-nav > .active > a:focus {
  color: #fff;
  background-color: #080808;
}
.navbar-inverse .navbar-nav > .disabled > a,
.navbar-inverse .navbar-nav > .disabled > a:hover,
.navbar-inverse .navbar-nav > .disabled > a:focus {
  color: #444;
  background-color: transparent;
}
.navbar-inverse .navbar-toggle {
  border-color: #333;
}
.navbar-inverse .navbar-toggle:hover,
.navbar-inverse .navbar-toggle:focus {
  background-color: #333;
}
.navbar-inverse .navbar-toggle .icon-bar {
  background-color: #fff;
}
.navbar-inverse .navbar-collapse,
.navbar-inverse .navbar-form {
  border-color: #101010;
}
.navbar-inverse .navbar-nav > .open > a,
.navbar-inverse .navbar-nav > .open > a:hover,
.navbar-inverse .navbar-nav > .open > a:focus {
  background-color: #080808;
  color: #fff;
}
@media (max-width: 540px) {
  .navbar-inverse .navbar-nav .open .dropdown-menu > .dropdown-header {
    border-color: #080808;
  }
  .navbar-inverse .navbar-nav .open .dropdown-menu .divider {
    background-color: #080808;
  }
  .navbar-inverse .navbar-nav .open .dropdown-menu > li > a {
    color: #9d9d9d;
  }
  .navbar-inverse .navbar-nav .open .dropdown-menu > li > a:hover,
  .navbar-inverse .navbar-nav .open .dropdown-menu > li > a:focus {
    color: #fff;
    background-color: transparent;
  }
  .navbar-inverse .navbar-nav .open .dropdown-menu > .active > a,
  .navbar-inverse .navbar-nav .open .dropdown-menu > .active > a:hover,
  .navbar-inverse .navbar-nav .open .dropdown-menu > .active > a:focus {
    color: #fff;
    background-color: #080808;
  }
  .navbar-inverse .navbar-nav .open .dropdown-menu > .disabled > a,
  .navbar-inverse .navbar-nav .open .dropdown-menu > .disabled > a:hover,
  .navbar-inverse .navbar-nav .open .dropdown-menu > .disabled > a:focus {
    color: #444;
    background-color: transparent;
  }
}
.navbar-inverse .navbar-link {
  color: #9d9d9d;
}
.navbar-inverse .navbar-link:hover {
  color: #fff;
}
.navbar-inverse .btn-link {
  color: #9d9d9d;
}
.navbar-inverse .btn-link:hover,
.navbar-inverse .btn-link:focus {
  color: #fff;
}
.navbar-inverse .btn-link[disabled]:hover,
fieldset[disabled] .navbar-inverse .btn-link:hover,
.navbar-inverse .btn-link[disabled]:focus,
fieldset[disabled] .navbar-inverse .btn-link:focus {
  color: #444;
}
.breadcrumb {
  padding: 8px 15px;
  margin-bottom: 18px;
  list-style: none;
  background-color: #f5f5f5;
  border-radius: 2px;
}
.breadcrumb > li {
  display: inline-block;
}
.breadcrumb > li + li:before {
  content: "/\00a0";
  padding: 0 5px;
  color: #5e5e5e;
}
.breadcrumb > .active {
  color: #777777;
}
.pagination {
  display: inline-block;
  padding-left: 0;
  margin: 18px 0;
  border-radius: 2px;
}
.pagination > li {
  display: inline;
}
.pagination > li > a,
.pagination > li > span {
  position: relative;
  float: left;
  padding: 6px 12px;
  line-height: 1.42857143;
  text-decoration: none;
  color: #337ab7;
  background-color: #fff;
  border: 1px solid #ddd;
  margin-left: -1px;
}
.pagination > li:first-child > a,
.pagination > li:first-child > span {
  margin-left: 0;
  border-bottom-left-radius: 2px;
  border-top-left-radius: 2px;
}
.pagination > li:last-child > a,
.pagination > li:last-child > span {
  border-bottom-right-radius: 2px;
  border-top-right-radius: 2px;
}
.pagination > li > a:hover,
.pagination > li > span:hover,
.pagination > li > a:focus,
.pagination > li > span:focus {
  z-index: 2;
  color: #23527c;
  background-color: #eeeeee;
  border-color: #ddd;
}
.pagination > .active > a,
.pagination > .active > span,
.pagination > .active > a:hover,
.pagination > .active > span:hover,
.pagination > .active > a:focus,
.pagination > .active > span:focus {
  z-index: 3;
  color: #fff;
  background-color: #337ab7;
  border-color: #337ab7;
  cursor: default;
}
.pagination > .disabled > span,
.pagination > .disabled > span:hover,
.pagination > .disabled > span:focus,
.pagination > .disabled > a,
.pagination > .disabled > a:hover,
.pagination > .disabled > a:focus {
  color: #777777;
  background-color: #fff;
  border-color: #ddd;
  cursor: not-allowed;
}
.pagination-lg > li > a,
.pagination-lg > li > span {
  padding: 10px 16px;
  font-size: 17px;
  line-height: 1.3333333;
}
.pagination-lg > li:first-child > a,
.pagination-lg > li:first-child > span {
  border-bottom-left-radius: 3px;
  border-top-left-radius: 3px;
}
.pagination-lg > li:last-child > a,
.pagination-lg > li:last-child > span {
  border-bottom-right-radius: 3px;
  border-top-right-radius: 3px;
}
.pagination-sm > li > a,
.pagination-sm > li > span {
  padding: 5px 10px;
  font-size: 12px;
  line-height: 1.5;
}
.pagination-sm > li:first-child > a,
.pagination-sm > li:first-child > span {
  border-bottom-left-radius: 1px;
  border-top-left-radius: 1px;
}
.pagination-sm > li:last-child > a,
.pagination-sm > li:last-child > span {
  border-bottom-right-radius: 1px;
  border-top-right-radius: 1px;
}
.pager {
  padding-left: 0;
  margin: 18px 0;
  list-style: none;
  text-align: center;
}
.pager li {
  display: inline;
}
.pager li > a,
.pager li > span {
  display: inline-block;
  padding: 5px 14px;
  background-color: #fff;
  border: 1px solid #ddd;
  border-radius: 15px;
}
.pager li > a:hover,
.pager li > a:focus {
  text-decoration: none;
  background-color: #eeeeee;
}
.pager .next > a,
.pager .next > span {
  float: right;
}
.pager .previous > a,
.pager .previous > span {
  float: left;
}
.pager .disabled > a,
.pager .disabled > a:hover,
.pager .disabled > a:focus,
.pager .disabled > span {
  color: #777777;
  background-color: #fff;
  cursor: not-allowed;
}
.label {
  display: inline;
  padding: .2em .6em .3em;
  font-size: 75%;
  font-weight: bold;
  line-height: 1;
  color: #fff;
  text-align: center;
  white-space: nowrap;
  vertical-align: baseline;
  border-radius: .25em;
}
a.label:hover,
a.label:focus {
  color: #fff;
  text-decoration: none;
  cursor: pointer;
}
.label:empty {
  display: none;
}
.btn .label {
  position: relative;
  top: -1px;
}
.label-default {
  background-color: #777777;
}
.label-default[href]:hover,
.label-default[href]:focus {
  background-color: #5e5e5e;
}
.label-primary {
  background-color: #337ab7;
}
.label-primary[href]:hover,
.label-primary[href]:focus {
  background-color: #286090;
}
.label-success {
  background-color: #5cb85c;
}
.label-success[href]:hover,
.label-success[href]:focus {
  background-color: #449d44;
}
.label-info {
  background-color: #5bc0de;
}
.label-info[href]:hover,
.label-info[href]:focus {
  background-color: #31b0d5;
}
.label-warning {
  background-color: #f0ad4e;
}
.label-warning[href]:hover,
.label-warning[href]:focus {
  background-color: #ec971f;
}
.label-danger {
  background-color: #d9534f;
}
.label-danger[href]:hover,
.label-danger[href]:focus {
  background-color: #c9302c;
}
.badge {
  display: inline-block;
  min-width: 10px;
  padding: 3px 7px;
  font-size: 12px;
  font-weight: bold;
  color: #fff;
  line-height: 1;
  vertical-align: middle;
  white-space: nowrap;
  text-align: center;
  background-color: #777777;
  border-radius: 10px;
}
.badge:empty {
  display: none;
}
.btn .badge {
  position: relative;
  top: -1px;
}
.btn-xs .badge,
.btn-group-xs > .btn .badge {
  top: 0;
  padding: 1px 5px;
}
a.badge:hover,
a.badge:focus {
  color: #fff;
  text-decoration: none;
  cursor: pointer;
}
.list-group-item.active > .badge,
.nav-pills > .active > a > .badge {
  color: #337ab7;
  background-color: #fff;
}
.list-group-item > .badge {
  float: right;
}
.list-group-item > .badge + .badge {
  margin-right: 5px;
}
.nav-pills > li > a > .badge {
  margin-left: 3px;
}
.jumbotron {
  padding-top: 30px;
  padding-bottom: 30px;
  margin-bottom: 30px;
  color: inherit;
  background-color: #eeeeee;
}
.jumbotron h1,
.jumbotron .h1 {
  color: inherit;
}
.jumbotron p {
  margin-bottom: 15px;
  font-size: 20px;
  font-weight: 200;
}
.jumbotron > hr {
  border-top-color: #d5d5d5;
}
.container .jumbotron,
.container-fluid .jumbotron {
  border-radius: 3px;
  padding-left: 0px;
  padding-right: 0px;
}
.jumbotron .container {
  max-width: 100%;
}
@media screen and (min-width: 768px) {
  .jumbotron {
    padding-top: 48px;
    padding-bottom: 48px;
  }
  .container .jumbotron,
  .container-fluid .jumbotron {
    padding-left: 60px;
    padding-right: 60px;
  }
  .jumbotron h1,
  .jumbotron .h1 {
    font-size: 59px;
  }
}
.thumbnail {
  display: block;
  padding: 4px;
  margin-bottom: 18px;
  line-height: 1.42857143;
  background-color: #fff;
  border: 1px solid #ddd;
  border-radius: 2px;
  -webkit-transition: border 0.2s ease-in-out;
  -o-transition: border 0.2s ease-in-out;
  transition: border 0.2s ease-in-out;
}
.thumbnail > img,
.thumbnail a > img {
  margin-left: auto;
  margin-right: auto;
}
a.thumbnail:hover,
a.thumbnail:focus,
a.thumbnail.active {
  border-color: #337ab7;
}
.thumbnail .caption {
  padding: 9px;
  color: #000;
}
.alert {
  padding: 15px;
  margin-bottom: 18px;
  border: 1px solid transparent;
  border-radius: 2px;
}
.alert h4 {
  margin-top: 0;
  color: inherit;
}
.alert .alert-link {
  font-weight: bold;
}
.alert > p,
.alert > ul {
  margin-bottom: 0;
}
.alert > p + p {
  margin-top: 5px;
}
.alert-dismissable,
.alert-dismissible {
  padding-right: 35px;
}
.alert-dismissable .close,
.alert-dismissible .close {
  position: relative;
  top: -2px;
  right: -21px;
  color: inherit;
}
.alert-success {
  background-color: #dff0d8;
  border-color: #d6e9c6;
  color: #3c763d;
}
.alert-success hr {
  border-top-color: #c9e2b3;
}
.alert-success .alert-link {
  color: #2b542c;
}
.alert-info {
  background-color: #d9edf7;
  border-color: #bce8f1;
  color: #31708f;
}
.alert-info hr {
  border-top-color: #a6e1ec;
}
.alert-info .alert-link {
  color: #245269;
}
.alert-warning {
  background-color: #fcf8e3;
  border-color: #faebcc;
  color: #8a6d3b;
}
.alert-warning hr {
  border-top-color: #f7e1b5;
}
.alert-warning .alert-link {
  color: #66512c;
}
.alert-danger {
  background-color: #f2dede;
  border-color: #ebccd1;
  color: #a94442;
}
.alert-danger hr {
  border-top-color: #e4b9c0;
}
.alert-danger .alert-link {
  color: #843534;
}
@-webkit-keyframes progress-bar-stripes {
  from {
    background-position: 40px 0;
  }
  to {
    background-position: 0 0;
  }
}
@keyframes progress-bar-stripes {
  from {
    background-position: 40px 0;
  }
  to {
    background-position: 0 0;
  }
}
.progress {
  overflow: hidden;
  height: 18px;
  margin-bottom: 18px;
  background-color: #f5f5f5;
  border-radius: 2px;
  -webkit-box-shadow: inset 0 1px 2px rgba(0, 0, 0, 0.1);
  box-shadow: inset 0 1px 2px rgba(0, 0, 0, 0.1);
}
.progress-bar {
  float: left;
  width: 0%;
  height: 100%;
  font-size: 12px;
  line-height: 18px;
  color: #fff;
  text-align: center;
  background-color: #337ab7;
  -webkit-box-shadow: inset 0 -1px 0 rgba(0, 0, 0, 0.15);
  box-shadow: inset 0 -1px 0 rgba(0, 0, 0, 0.15);
  -webkit-transition: width 0.6s ease;
  -o-transition: width 0.6s ease;
  transition: width 0.6s ease;
}
.progress-striped .progress-bar,
.progress-bar-striped {
  background-image: -webkit-linear-gradient(45deg, rgba(255, 255, 255, 0.15) 25%, transparent 25%, transparent 50%, rgba(255, 255, 255, 0.15) 50%, rgba(255, 255, 255, 0.15) 75%, transparent 75%, transparent);
  background-image: -o-linear-gradient(45deg, rgba(255, 255, 255, 0.15) 25%, transparent 25%, transparent 50%, rgba(255, 255, 255, 0.15) 50%, rgba(255, 255, 255, 0.15) 75%, transparent 75%, transparent);
  background-image: linear-gradient(45deg, rgba(255, 255, 255, 0.15) 25%, transparent 25%, transparent 50%, rgba(255, 255, 255, 0.15) 50%, rgba(255, 255, 255, 0.15) 75%, transparent 75%, transparent);
  background-size: 40px 40px;
}
.progress.active .progress-bar,
.progress-bar.active {
  -webkit-animation: progress-bar-stripes 2s linear infinite;
  -o-animation: progress-bar-stripes 2s linear infinite;
  animation: progress-bar-stripes 2s linear infinite;
}
.progress-bar-success {
  background-color: #5cb85c;
}
.progress-striped .progress-bar-success {
  background-image: -webkit-linear-gradient(45deg, rgba(255, 255, 255, 0.15) 25%, transparent 25%, transparent 50%, rgba(255, 255, 255, 0.15) 50%, rgba(255, 255, 255, 0.15) 75%, transparent 75%, transparent);
  background-image: -o-linear-gradient(45deg, rgba(255, 255, 255, 0.15) 25%, transparent 25%, transparent 50%, rgba(255, 255, 255, 0.15) 50%, rgba(255, 255, 255, 0.15) 75%, transparent 75%, transparent);
  background-image: linear-gradient(45deg, rgba(255, 255, 255, 0.15) 25%, transparent 25%, transparent 50%, rgba(255, 255, 255, 0.15) 50%, rgba(255, 255, 255, 0.15) 75%, transparent 75%, transparent);
}
.progress-bar-info {
  background-color: #5bc0de;
}
.progress-striped .progress-bar-info {
  background-image: -webkit-linear-gradient(45deg, rgba(255, 255, 255, 0.15) 25%, transparent 25%, transparent 50%, rgba(255, 255, 255, 0.15) 50%, rgba(255, 255, 255, 0.15) 75%, transparent 75%, transparent);
  background-image: -o-linear-gradient(45deg, rgba(255, 255, 255, 0.15) 25%, transparent 25%, transparent 50%, rgba(255, 255, 255, 0.15) 50%, rgba(255, 255, 255, 0.15) 75%, transparent 75%, transparent);
  background-image: linear-gradient(45deg, rgba(255, 255, 255, 0.15) 25%, transparent 25%, transparent 50%, rgba(255, 255, 255, 0.15) 50%, rgba(255, 255, 255, 0.15) 75%, transparent 75%, transparent);
}
.progress-bar-warning {
  background-color: #f0ad4e;
}
.progress-striped .progress-bar-warning {
  background-image: -webkit-linear-gradient(45deg, rgba(255, 255, 255, 0.15) 25%, transparent 25%, transparent 50%, rgba(255, 255, 255, 0.15) 50%, rgba(255, 255, 255, 0.15) 75%, transparent 75%, transparent);
  background-image: -o-linear-gradient(45deg, rgba(255, 255, 255, 0.15) 25%, transparent 25%, transparent 50%, rgba(255, 255, 255, 0.15) 50%, rgba(255, 255, 255, 0.15) 75%, transparent 75%, transparent);
  background-image: linear-gradient(45deg, rgba(255, 255, 255, 0.15) 25%, transparent 25%, transparent 50%, rgba(255, 255, 255, 0.15) 50%, rgba(255, 255, 255, 0.15) 75%, transparent 75%, transparent);
}
.progress-bar-danger {
  background-color: #d9534f;
}
.progress-striped .progress-bar-danger {
  background-image: -webkit-linear-gradient(45deg, rgba(255, 255, 255, 0.15) 25%, transparent 25%, transparent 50%, rgba(255, 255, 255, 0.15) 50%, rgba(255, 255, 255, 0.15) 75%, transparent 75%, transparent);
  background-image: -o-linear-gradient(45deg, rgba(255, 255, 255, 0.15) 25%, transparent 25%, transparent 50%, rgba(255, 255, 255, 0.15) 50%, rgba(255, 255, 255, 0.15) 75%, transparent 75%, transparent);
  background-image: linear-gradient(45deg, rgba(255, 255, 255, 0.15) 25%, transparent 25%, transparent 50%, rgba(255, 255, 255, 0.15) 50%, rgba(255, 255, 255, 0.15) 75%, transparent 75%, transparent);
}
.media {
  margin-top: 15px;
}
.media:first-child {
  margin-top: 0;
}
.media,
.media-body {
  zoom: 1;
  overflow: hidden;
}
.media-body {
  width: 10000px;
}
.media-object {
  display: block;
}
.media-object.img-thumbnail {
  max-width: none;
}
.media-right,
.media > .pull-right {
  padding-left: 10px;
}
.media-left,
.media > .pull-left {
  padding-right: 10px;
}
.media-left,
.media-right,
.media-body {
  display: table-cell;
  vertical-align: top;
}
.media-middle {
  vertical-align: middle;
}
.media-bottom {
  vertical-align: bottom;
}
.media-heading {
  margin-top: 0;
  margin-bottom: 5px;
}
.media-list {
  padding-left: 0;
  list-style: none;
}
.list-group {
  margin-bottom: 20px;
  padding-left: 0;
}
.list-group-item {
  position: relative;
  display: block;
  padding: 10px 15px;
  margin-bottom: -1px;
  background-color: #fff;
  border: 1px solid #ddd;
}
.list-group-item:first-child {
  border-top-right-radius: 2px;
  border-top-left-radius: 2px;
}
.list-group-item:last-child {
  margin-bottom: 0;
  border-bottom-right-radius: 2px;
  border-bottom-left-radius: 2px;
}
a.list-group-item,
button.list-group-item {
  color: #555;
}
a.list-group-item .list-group-item-heading,
button.list-group-item .list-group-item-heading {
  color: #333;
}
a.list-group-item:hover,
button.list-group-item:hover,
a.list-group-item:focus,
button.list-group-item:focus {
  text-decoration: none;
  color: #555;
  background-color: #f5f5f5;
}
button.list-group-item {
  width: 100%;
  text-align: left;
}
.list-group-item.disabled,
.list-group-item.disabled:hover,
.list-group-item.disabled:focus {
  background-color: #eeeeee;
  color: #777777;
  cursor: not-allowed;
}
.list-group-item.disabled .list-group-item-heading,
.list-group-item.disabled:hover .list-group-item-heading,
.list-group-item.disabled:focus .list-group-item-heading {
  color: inherit;
}
.list-group-item.disabled .list-group-item-text,
.list-group-item.disabled:hover .list-group-item-text,
.list-group-item.disabled:focus .list-group-item-text {
  color: #777777;
}
.list-group-item.active,
.list-group-item.active:hover,
.list-group-item.active:focus {
  z-index: 2;
  color: #fff;
  background-color: #337ab7;
  border-color: #337ab7;
}
.list-group-item.active .list-group-item-heading,
.list-group-item.active:hover .list-group-item-heading,
.list-group-item.active:focus .list-group-item-heading,
.list-group-item.active .list-group-item-heading > small,
.list-group-item.active:hover .list-group-item-heading > small,
.list-group-item.active:focus .list-group-item-heading > small,
.list-group-item.active .list-group-item-heading > .small,
.list-group-item.active:hover .list-group-item-heading > .small,
.list-group-item.active:focus .list-group-item-heading > .small {
  color: inherit;
}
.list-group-item.active .list-group-item-text,
.list-group-item.active:hover .list-group-item-text,
.list-group-item.active:focus .list-group-item-text {
  color: #c7ddef;
}
.list-group-item-success {
  color: #3c763d;
  background-color: #dff0d8;
}
a.list-group-item-success,
button.list-group-item-success {
  color: #3c763d;
}
a.list-group-item-success .list-group-item-heading,
button.list-group-item-success .list-group-item-heading {
  color: inherit;
}
a.list-group-item-success:hover,
button.list-group-item-success:hover,
a.list-group-item-success:focus,
button.list-group-item-success:focus {
  color: #3c763d;
  background-color: #d0e9c6;
}
a.list-group-item-success.active,
button.list-group-item-success.active,
a.list-group-item-success.active:hover,
button.list-group-item-success.active:hover,
a.list-group-item-success.active:focus,
button.list-group-item-success.active:focus {
  color: #fff;
  background-color: #3c763d;
  border-color: #3c763d;
}
.list-group-item-info {
  color: #31708f;
  background-color: #d9edf7;
}
a.list-group-item-info,
button.list-group-item-info {
  color: #31708f;
}
a.list-group-item-info .list-group-item-heading,
button.list-group-item-info .list-group-item-heading {
  color: inherit;
}
a.list-group-item-info:hover,
button.list-group-item-info:hover,
a.list-group-item-info:focus,
button.list-group-item-info:focus {
  color: #31708f;
  background-color: #c4e3f3;
}
a.list-group-item-info.active,
button.list-group-item-info.active,
a.list-group-item-info.active:hover,
button.list-group-item-info.active:hover,
a.list-group-item-info.active:focus,
button.list-group-item-info.active:focus {
  color: #fff;
  background-color: #31708f;
  border-color: #31708f;
}
.list-group-item-warning {
  color: #8a6d3b;
  background-color: #fcf8e3;
}
a.list-group-item-warning,
button.list-group-item-warning {
  color: #8a6d3b;
}
a.list-group-item-warning .list-group-item-heading,
button.list-group-item-warning .list-group-item-heading {
  color: inherit;
}
a.list-group-item-warning:hover,
button.list-group-item-warning:hover,
a.list-group-item-warning:focus,
button.list-group-item-warning:focus {
  color: #8a6d3b;
  background-color: #faf2cc;
}
a.list-group-item-warning.active,
button.list-group-item-warning.active,
a.list-group-item-warning.active:hover,
button.list-group-item-warning.active:hover,
a.list-group-item-warning.active:focus,
button.list-group-item-warning.active:focus {
  color: #fff;
  background-color: #8a6d3b;
  border-color: #8a6d3b;
}
.list-group-item-danger {
  color: #a94442;
  background-color: #f2dede;
}
a.list-group-item-danger,
button.list-group-item-danger {
  color: #a94442;
}
a.list-group-item-danger .list-group-item-heading,
button.list-group-item-danger .list-group-item-heading {
  color: inherit;
}
a.list-group-item-danger:hover,
button.list-group-item-danger:hover,
a.list-group-item-danger:focus,
button.list-group-item-danger:focus {
  color: #a94442;
  background-color: #ebcccc;
}
a.list-group-item-danger.active,
button.list-group-item-danger.active,
a.list-group-item-danger.active:hover,
button.list-group-item-danger.active:hover,
a.list-group-item-danger.active:focus,
button.list-group-item-danger.active:focus {
  color: #fff;
  background-color: #a94442;
  border-color: #a94442;
}
.list-group-item-heading {
  margin-top: 0;
  margin-bottom: 5px;
}
.list-group-item-text {
  margin-bottom: 0;
  line-height: 1.3;
}
.panel {
  margin-bottom: 18px;
  background-color: #fff;
  border: 1px solid transparent;
  border-radius: 2px;
  -webkit-box-shadow: 0 1px 1px rgba(0, 0, 0, 0.05);
  box-shadow: 0 1px 1px rgba(0, 0, 0, 0.05);
}
.panel-body {
  padding: 15px;
}
.panel-heading {
  padding: 10px 15px;
  border-bottom: 1px solid transparent;
  border-top-right-radius: 1px;
  border-top-left-radius: 1px;
}
.panel-heading > .dropdown .dropdown-toggle {
  color: inherit;
}
.panel-title {
  margin-top: 0;
  margin-bottom: 0;
  font-size: 15px;
  color: inherit;
}
.panel-title > a,
.panel-title > small,
.panel-title > .small,
.panel-title > small > a,
.panel-title > .small > a {
  color: inherit;
}
.panel-footer {
  padding: 10px 15px;
  background-color: #f5f5f5;
  border-top: 1px solid #ddd;
  border-bottom-right-radius: 1px;
  border-bottom-left-radius: 1px;
}
.panel > .list-group,
.panel > .panel-collapse > .list-group {
  margin-bottom: 0;
}
.panel > .list-group .list-group-item,
.panel > .panel-collapse > .list-group .list-group-item {
  border-width: 1px 0;
  border-radius: 0;
}
.panel > .list-group:first-child .list-group-item:first-child,
.panel > .panel-collapse > .list-group:first-child .list-group-item:first-child {
  border-top: 0;
  border-top-right-radius: 1px;
  border-top-left-radius: 1px;
}
.panel > .list-group:last-child .list-group-item:last-child,
.panel > .panel-collapse > .list-group:last-child .list-group-item:last-child {
  border-bottom: 0;
  border-bottom-right-radius: 1px;
  border-bottom-left-radius: 1px;
}
.panel > .panel-heading + .panel-collapse > .list-group .list-group-item:first-child {
  border-top-right-radius: 0;
  border-top-left-radius: 0;
}
.panel-heading + .list-group .list-group-item:first-child {
  border-top-width: 0;
}
.list-group + .panel-footer {
  border-top-width: 0;
}
.panel > .table,
.panel > .table-responsive > .table,
.panel > .panel-collapse > .table {
  margin-bottom: 0;
}
.panel > .table caption,
.panel > .table-responsive > .table caption,
.panel > .panel-collapse > .table caption {
  padding-left: 15px;
  padding-right: 15px;
}
.panel > .table:first-child,
.panel > .table-responsive:first-child > .table:first-child {
  border-top-right-radius: 1px;
  border-top-left-radius: 1px;
}
.panel > .table:first-child > thead:first-child > tr:first-child,
.panel > .table-responsive:first-child > .table:first-child > thead:first-child > tr:first-child,
.panel > .table:first-child > tbody:first-child > tr:first-child,
.panel > .table-responsive:first-child > .table:first-child > tbody:first-child > tr:first-child {
  border-top-left-radius: 1px;
  border-top-right-radius: 1px;
}
.panel > .table:first-child > thead:first-child > tr:first-child td:first-child,
.panel > .table-responsive:first-child > .table:first-child > thead:first-child > tr:first-child td:first-child,
.panel > .table:first-child > tbody:first-child > tr:first-child td:first-child,
.panel > .table-responsive:first-child > .table:first-child > tbody:first-child > tr:first-child td:first-child,
.panel > .table:first-child > thead:first-child > tr:first-child th:first-child,
.panel > .table-responsive:first-child > .table:first-child > thead:first-child > tr:first-child th:first-child,
.panel > .table:first-child > tbody:first-child > tr:first-child th:first-child,
.panel > .table-responsive:first-child > .table:first-child > tbody:first-child > tr:first-child th:first-child {
  border-top-left-radius: 1px;
}
.panel > .table:first-child > thead:first-child > tr:first-child td:last-child,
.panel > .table-responsive:first-child > .table:first-child > thead:first-child > tr:first-child td:last-child,
.panel > .table:first-child > tbody:first-child > tr:first-child td:last-child,
.panel > .table-responsive:first-child > .table:first-child > tbody:first-child > tr:first-child td:last-child,
.panel > .table:first-child > thead:first-child > tr:first-child th:last-child,
.panel > .table-responsive:first-child > .table:first-child > thead:first-child > tr:first-child th:last-child,
.panel > .table:first-child > tbody:first-child > tr:first-child th:last-child,
.panel > .table-responsive:first-child > .table:first-child > tbody:first-child > tr:first-child th:last-child {
  border-top-right-radius: 1px;
}
.panel > .table:last-child,
.panel > .table-responsive:last-child > .table:last-child {
  border-bottom-right-radius: 1px;
  border-bottom-left-radius: 1px;
}
.panel > .table:last-child > tbody:last-child > tr:last-child,
.panel > .table-responsive:last-child > .table:last-child > tbody:last-child > tr:last-child,
.panel > .table:last-child > tfoot:last-child > tr:last-child,
.panel > .table-responsive:last-child > .table:last-child > tfoot:last-child > tr:last-child {
  border-bottom-left-radius: 1px;
  border-bottom-right-radius: 1px;
}
.panel > .table:last-child > tbody:last-child > tr:last-child td:first-child,
.panel > .table-responsive:last-child > .table:last-child > tbody:last-child > tr:last-child td:first-child,
.panel > .table:last-child > tfoot:last-child > tr:last-child td:first-child,
.panel > .table-responsive:last-child > .table:last-child > tfoot:last-child > tr:last-child td:first-child,
.panel > .table:last-child > tbody:last-child > tr:last-child th:first-child,
.panel > .table-responsive:last-child > .table:last-child > tbody:last-child > tr:last-child th:first-child,
.panel > .table:last-child > tfoot:last-child > tr:last-child th:first-child,
.panel > .table-responsive:last-child > .table:last-child > tfoot:last-child > tr:last-child th:first-child {
  border-bottom-left-radius: 1px;
}
.panel > .table:last-child > tbody:last-child > tr:last-child td:last-child,
.panel > .table-responsive:last-child > .table:last-child > tbody:last-child > tr:last-child td:last-child,
.panel > .table:last-child > tfoot:last-child > tr:last-child td:last-child,
.panel > .table-responsive:last-child > .table:last-child > tfoot:last-child > tr:last-child td:last-child,
.panel > .table:last-child > tbody:last-child > tr:last-child th:last-child,
.panel > .table-responsive:last-child > .table:last-child > tbody:last-child > tr:last-child th:last-child,
.panel > .table:last-child > tfoot:last-child > tr:last-child th:last-child,
.panel > .table-responsive:last-child > .table:last-child > tfoot:last-child > tr:last-child th:last-child {
  border-bottom-right-radius: 1px;
}
.panel > .panel-body + .table,
.panel > .panel-body + .table-responsive,
.panel > .table + .panel-body,
.panel > .table-responsive + .panel-body {
  border-top: 1px solid #ddd;
}
.panel > .table > tbody:first-child > tr:first-child th,
.panel > .table > tbody:first-child > tr:first-child td {
  border-top: 0;
}
.panel > .table-bordered,
.panel > .table-responsive > .table-bordered {
  border: 0;
}
.panel > .table-bordered > thead > tr > th:first-child,
.panel > .table-responsive > .table-bordered > thead > tr > th:first-child,
.panel > .table-bordered > tbody > tr > th:first-child,
.panel > .table-responsive > .table-bordered > tbody > tr > th:first-child,
.panel > .table-bordered > tfoot > tr > th:first-child,
.panel > .table-responsive > .table-bordered > tfoot > tr > th:first-child,
.panel > .table-bordered > thead > tr > td:first-child,
.panel > .table-responsive > .table-bordered > thead > tr > td:first-child,
.panel > .table-bordered > tbody > tr > td:first-child,
.panel > .table-responsive > .table-bordered > tbody > tr > td:first-child,
.panel > .table-bordered > tfoot > tr > td:first-child,
.panel > .table-responsive > .table-bordered > tfoot > tr > td:first-child {
  border-left: 0;
}
.panel > .table-bordered > thead > tr > th:last-child,
.panel > .table-responsive > .table-bordered > thead > tr > th:last-child,
.panel > .table-bordered > tbody > tr > th:last-child,
.panel > .table-responsive > .table-bordered > tbody > tr > th:last-child,
.panel > .table-bordered > tfoot > tr > th:last-child,
.panel > .table-responsive > .table-bordered > tfoot > tr > th:last-child,
.panel > .table-bordered > thead > tr > td:last-child,
.panel > .table-responsive > .table-bordered > thead > tr > td:last-child,
.panel > .table-bordered > tbody > tr > td:last-child,
.panel > .table-responsive > .table-bordered > tbody > tr > td:last-child,
.panel > .table-bordered > tfoot > tr > td:last-child,
.panel > .table-responsive > .table-bordered > tfoot > tr > td:last-child {
  border-right: 0;
}
.panel > .table-bordered > thead > tr:first-child > td,
.panel > .table-responsive > .table-bordered > thead > tr:first-child > td,
.panel > .table-bordered > tbody > tr:first-child > td,
.panel > .table-responsive > .table-bordered > tbody > tr:first-child > td,
.panel > .table-bordered > thead > tr:first-child > th,
.panel > .table-responsive > .table-bordered > thead > tr:first-child > th,
.panel > .table-bordered > tbody > tr:first-child > th,
.panel > .table-responsive > .table-bordered > tbody > tr:first-child > th {
  border-bottom: 0;
}
.panel > .table-bordered > tbody > tr:last-child > td,
.panel > .table-responsive > .table-bordered > tbody > tr:last-child > td,
.panel > .table-bordered > tfoot > tr:last-child > td,
.panel > .table-responsive > .table-bordered > tfoot > tr:last-child > td,
.panel > .table-bordered > tbody > tr:last-child > th,
.panel > .table-responsive > .table-bordered > tbody > tr:last-child > th,
.panel > .table-bordered > tfoot > tr:last-child > th,
.panel > .table-responsive > .table-bordered > tfoot > tr:last-child > th {
  border-bottom: 0;
}
.panel > .table-responsive {
  border: 0;
  margin-bottom: 0;
}
.panel-group {
  margin-bottom: 18px;
}
.panel-group .panel {
  margin-bottom: 0;
  border-radius: 2px;
}
.panel-group .panel + .panel {
  margin-top: 5px;
}
.panel-group .panel-heading {
  border-bottom: 0;
}
.panel-group .panel-heading + .panel-collapse > .panel-body,
.panel-group .panel-heading + .panel-collapse > .list-group {
  border-top: 1px solid #ddd;
}
.panel-group .panel-footer {
  border-top: 0;
}
.panel-group .panel-footer + .panel-collapse .panel-body {
  border-bottom: 1px solid #ddd;
}
.panel-default {
  border-color: #ddd;
}
.panel-default > .panel-heading {
  color: #333333;
  background-color: #f5f5f5;
  border-color: #ddd;
}
.panel-default > .panel-heading + .panel-collapse > .panel-body {
  border-top-color: #ddd;
}
.panel-default > .panel-heading .badge {
  color: #f5f5f5;
  background-color: #333333;
}
.panel-default > .panel-footer + .panel-collapse > .panel-body {
  border-bottom-color: #ddd;
}
.panel-primary {
  border-color: #337ab7;
}
.panel-primary > .panel-heading {
  color: #fff;
  background-color: #337ab7;
  border-color: #337ab7;
}
.panel-primary > .panel-heading + .panel-collapse > .panel-body {
  border-top-color: #337ab7;
}
.panel-primary > .panel-heading .badge {
  color: #337ab7;
  background-color: #fff;
}
.panel-primary > .panel-footer + .panel-collapse > .panel-body {
  border-bottom-color: #337ab7;
}
.panel-success {
  border-color: #d6e9c6;
}
.panel-success > .panel-heading {
  color: #3c763d;
  background-color: #dff0d8;
  border-color: #d6e9c6;
}
.panel-success > .panel-heading + .panel-collapse > .panel-body {
  border-top-color: #d6e9c6;
}
.panel-success > .panel-heading .badge {
  color: #dff0d8;
  background-color: #3c763d;
}
.panel-success > .panel-footer + .panel-collapse > .panel-body {
  border-bottom-color: #d6e9c6;
}
.panel-info {
  border-color: #bce8f1;
}
.panel-info > .panel-heading {
  color: #31708f;
  background-color: #d9edf7;
  border-color: #bce8f1;
}
.panel-info > .panel-heading + .panel-collapse > .panel-body {
  border-top-color: #bce8f1;
}
.panel-info > .panel-heading .badge {
  color: #d9edf7;
  background-color: #31708f;
}
.panel-info > .panel-footer + .panel-collapse > .panel-body {
  border-bottom-color: #bce8f1;
}
.panel-warning {
  border-color: #faebcc;
}
.panel-warning > .panel-heading {
  color: #8a6d3b;
  background-color: #fcf8e3;
  border-color: #faebcc;
}
.panel-warning > .panel-heading + .panel-collapse > .panel-body {
  border-top-color: #faebcc;
}
.panel-warning > .panel-heading .badge {
  color: #fcf8e3;
  background-color: #8a6d3b;
}
.panel-warning > .panel-footer + .panel-collapse > .panel-body {
  border-bottom-color: #faebcc;
}
.panel-danger {
  border-color: #ebccd1;
}
.panel-danger > .panel-heading {
  color: #a94442;
  background-color: #f2dede;
  border-color: #ebccd1;
}
.panel-danger > .panel-heading + .panel-collapse > .panel-body {
  border-top-color: #ebccd1;
}
.panel-danger > .panel-heading .badge {
  color: #f2dede;
  background-color: #a94442;
}
.panel-danger > .panel-footer + .panel-collapse > .panel-body {
  border-bottom-color: #ebccd1;
}
.embed-responsive {
  position: relative;
  display: block;
  height: 0;
  padding: 0;
  overflow: hidden;
}
.embed-responsive .embed-responsive-item,
.embed-responsive iframe,
.embed-responsive embed,
.embed-responsive object,
.embed-responsive video {
  position: absolute;
  top: 0;
  left: 0;
  bottom: 0;
  height: 100%;
  width: 100%;
  border: 0;
}
.embed-responsive-16by9 {
  padding-bottom: 56.25%;
}
.embed-responsive-4by3 {
  padding-bottom: 75%;
}
.well {
  min-height: 20px;
  padding: 19px;
  margin-bottom: 20px;
  background-color: #f5f5f5;
  border: 1px solid #e3e3e3;
  border-radius: 2px;
  -webkit-box-shadow: inset 0 1px 1px rgba(0, 0, 0, 0.05);
  box-shadow: inset 0 1px 1px rgba(0, 0, 0, 0.05);
}
.well blockquote {
  border-color: #ddd;
  border-color: rgba(0, 0, 0, 0.15);
}
.well-lg {
  padding: 24px;
  border-radius: 3px;
}
.well-sm {
  padding: 9px;
  border-radius: 1px;
}
.close {
  float: right;
  font-size: 19.5px;
  font-weight: bold;
  line-height: 1;
  color: #000;
  text-shadow: 0 1px 0 #fff;
  opacity: 0.2;
  filter: alpha(opacity=20);
}
.close:hover,
.close:focus {
  color: #000;
  text-decoration: none;
  cursor: pointer;
  opacity: 0.5;
  filter: alpha(opacity=50);
}
button.close {
  padding: 0;
  cursor: pointer;
  background: transparent;
  border: 0;
  -webkit-appearance: none;
}
.modal-open {
  overflow: hidden;
}
.modal {
  display: none;
  overflow: hidden;
  position: fixed;
  top: 0;
  right: 0;
  bottom: 0;
  left: 0;
  z-index: 1050;
  -webkit-overflow-scrolling: touch;
  outline: 0;
}
.modal.fade .modal-dialog {
  -webkit-transform: translate(0, -25%);
  -ms-transform: translate(0, -25%);
  -o-transform: translate(0, -25%);
  transform: translate(0, -25%);
  -webkit-transition: -webkit-transform 0.3s ease-out;
  -moz-transition: -moz-transform 0.3s ease-out;
  -o-transition: -o-transform 0.3s ease-out;
  transition: transform 0.3s ease-out;
}
.modal.in .modal-dialog {
  -webkit-transform: translate(0, 0);
  -ms-transform: translate(0, 0);
  -o-transform: translate(0, 0);
  transform: translate(0, 0);
}
.modal-open .modal {
  overflow-x: hidden;
  overflow-y: auto;
}
.modal-dialog {
  position: relative;
  width: auto;
  margin: 10px;
}
.modal-content {
  position: relative;
  background-color: #fff;
  border: 1px solid #999;
  border: 1px solid rgba(0, 0, 0, 0.2);
  border-radius: 3px;
  -webkit-box-shadow: 0 3px 9px rgba(0, 0, 0, 0.5);
  box-shadow: 0 3px 9px rgba(0, 0, 0, 0.5);
  background-clip: padding-box;
  outline: 0;
}
.modal-backdrop {
  position: fixed;
  top: 0;
  right: 0;
  bottom: 0;
  left: 0;
  z-index: 1040;
  background-color: #000;
}
.modal-backdrop.fade {
  opacity: 0;
  filter: alpha(opacity=0);
}
.modal-backdrop.in {
  opacity: 0.5;
  filter: alpha(opacity=50);
}
.modal-header {
  padding: 15px;
  border-bottom: 1px solid #e5e5e5;
}
.modal-header .close {
  margin-top: -2px;
}
.modal-title {
  margin: 0;
  line-height: 1.42857143;
}
.modal-body {
  position: relative;
  padding: 15px;
}
.modal-footer {
  padding: 15px;
  text-align: right;
  border-top: 1px solid #e5e5e5;
}
.modal-footer .btn + .btn {
  margin-left: 5px;
  margin-bottom: 0;
}
.modal-footer .btn-group .btn + .btn {
  margin-left: -1px;
}
.modal-footer .btn-block + .btn-block {
  margin-left: 0;
}
.modal-scrollbar-measure {
  position: absolute;
  top: -9999px;
  width: 50px;
  height: 50px;
  overflow: scroll;
}
@media (min-width: 768px) {
  .modal-dialog {
    width: 600px;
    margin: 30px auto;
  }
  .modal-content {
    -webkit-box-shadow: 0 5px 15px rgba(0, 0, 0, 0.5);
    box-shadow: 0 5px 15px rgba(0, 0, 0, 0.5);
  }
  .modal-sm {
    width: 300px;
  }
}
@media (min-width: 992px) {
  .modal-lg {
    width: 900px;
  }
}
.tooltip {
  position: absolute;
  z-index: 1070;
  display: block;
  font-family: "Helvetica Neue", Helvetica, Arial, sans-serif;
  font-style: normal;
  font-weight: normal;
  letter-spacing: normal;
  line-break: auto;
  line-height: 1.42857143;
  text-align: left;
  text-align: start;
  text-decoration: none;
  text-shadow: none;
  text-transform: none;
  white-space: normal;
  word-break: normal;
  word-spacing: normal;
  word-wrap: normal;
  font-size: 12px;
  opacity: 0;
  filter: alpha(opacity=0);
}
.tooltip.in {
  opacity: 0.9;
  filter: alpha(opacity=90);
}
.tooltip.top {
  margin-top: -3px;
  padding: 5px 0;
}
.tooltip.right {
  margin-left: 3px;
  padding: 0 5px;
}
.tooltip.bottom {
  margin-top: 3px;
  padding: 5px 0;
}
.tooltip.left {
  margin-left: -3px;
  padding: 0 5px;
}
.tooltip-inner {
  max-width: 200px;
  padding: 3px 8px;
  color: #fff;
  text-align: center;
  background-color: #000;
  border-radius: 2px;
}
.tooltip-arrow {
  position: absolute;
  width: 0;
  height: 0;
  border-color: transparent;
  border-style: solid;
}
.tooltip.top .tooltip-arrow {
  bottom: 0;
  left: 50%;
  margin-left: -5px;
  border-width: 5px 5px 0;
  border-top-color: #000;
}
.tooltip.top-left .tooltip-arrow {
  bottom: 0;
  right: 5px;
  margin-bottom: -5px;
  border-width: 5px 5px 0;
  border-top-color: #000;
}
.tooltip.top-right .tooltip-arrow {
  bottom: 0;
  left: 5px;
  margin-bottom: -5px;
  border-width: 5px 5px 0;
  border-top-color: #000;
}
.tooltip.right .tooltip-arrow {
  top: 50%;
  left: 0;
  margin-top: -5px;
  border-width: 5px 5px 5px 0;
  border-right-color: #000;
}
.tooltip.left .tooltip-arrow {
  top: 50%;
  right: 0;
  margin-top: -5px;
  border-width: 5px 0 5px 5px;
  border-left-color: #000;
}
.tooltip.bottom .tooltip-arrow {
  top: 0;
  left: 50%;
  margin-left: -5px;
  border-width: 0 5px 5px;
  border-bottom-color: #000;
}
.tooltip.bottom-left .tooltip-arrow {
  top: 0;
  right: 5px;
  margin-top: -5px;
  border-width: 0 5px 5px;
  border-bottom-color: #000;
}
.tooltip.bottom-right .tooltip-arrow {
  top: 0;
  left: 5px;
  margin-top: -5px;
  border-width: 0 5px 5px;
  border-bottom-color: #000;
}
.popover {
  position: absolute;
  top: 0;
  left: 0;
  z-index: 1060;
  display: none;
  max-width: 276px;
  padding: 1px;
  font-family: "Helvetica Neue", Helvetica, Arial, sans-serif;
  font-style: normal;
  font-weight: normal;
  letter-spacing: normal;
  line-break: auto;
  line-height: 1.42857143;
  text-align: left;
  text-align: start;
  text-decoration: none;
  text-shadow: none;
  text-transform: none;
  white-space: normal;
  word-break: normal;
  word-spacing: normal;
  word-wrap: normal;
  font-size: 13px;
  background-color: #fff;
  background-clip: padding-box;
  border: 1px solid #ccc;
  border: 1px solid rgba(0, 0, 0, 0.2);
  border-radius: 3px;
  -webkit-box-shadow: 0 5px 10px rgba(0, 0, 0, 0.2);
  box-shadow: 0 5px 10px rgba(0, 0, 0, 0.2);
}
.popover.top {
  margin-top: -10px;
}
.popover.right {
  margin-left: 10px;
}
.popover.bottom {
  margin-top: 10px;
}
.popover.left {
  margin-left: -10px;
}
.popover-title {
  margin: 0;
  padding: 8px 14px;
  font-size: 13px;
  background-color: #f7f7f7;
  border-bottom: 1px solid #ebebeb;
  border-radius: 2px 2px 0 0;
}
.popover-content {
  padding: 9px 14px;
}
.popover > .arrow,
.popover > .arrow:after {
  position: absolute;
  display: block;
  width: 0;
  height: 0;
  border-color: transparent;
  border-style: solid;
}
.popover > .arrow {
  border-width: 11px;
}
.popover > .arrow:after {
  border-width: 10px;
  content: "";
}
.popover.top > .arrow {
  left: 50%;
  margin-left: -11px;
  border-bottom-width: 0;
  border-top-color: #999999;
  border-top-color: rgba(0, 0, 0, 0.25);
  bottom: -11px;
}
.popover.top > .arrow:after {
  content: " ";
  bottom: 1px;
  margin-left: -10px;
  border-bottom-width: 0;
  border-top-color: #fff;
}
.popover.right > .arrow {
  top: 50%;
  left: -11px;
  margin-top: -11px;
  border-left-width: 0;
  border-right-color: #999999;
  border-right-color: rgba(0, 0, 0, 0.25);
}
.popover.right > .arrow:after {
  content: " ";
  left: 1px;
  bottom: -10px;
  border-left-width: 0;
  border-right-color: #fff;
}
.popover.bottom > .arrow {
  left: 50%;
  margin-left: -11px;
  border-top-width: 0;
  border-bottom-color: #999999;
  border-bottom-color: rgba(0, 0, 0, 0.25);
  top: -11px;
}
.popover.bottom > .arrow:after {
  content: " ";
  top: 1px;
  margin-left: -10px;
  border-top-width: 0;
  border-bottom-color: #fff;
}
.popover.left > .arrow {
  top: 50%;
  right: -11px;
  margin-top: -11px;
  border-right-width: 0;
  border-left-color: #999999;
  border-left-color: rgba(0, 0, 0, 0.25);
}
.popover.left > .arrow:after {
  content: " ";
  right: 1px;
  border-right-width: 0;
  border-left-color: #fff;
  bottom: -10px;
}
.carousel {
  position: relative;
}
.carousel-inner {
  position: relative;
  overflow: hidden;
  width: 100%;
}
.carousel-inner > .item {
  display: none;
  position: relative;
  -webkit-transition: 0.6s ease-in-out left;
  -o-transition: 0.6s ease-in-out left;
  transition: 0.6s ease-in-out left;
}
.carousel-inner > .item > img,
.carousel-inner > .item > a > img {
  line-height: 1;
}
@media all and (transform-3d), (-webkit-transform-3d) {
  .carousel-inner > .item {
    -webkit-transition: -webkit-transform 0.6s ease-in-out;
    -moz-transition: -moz-transform 0.6s ease-in-out;
    -o-transition: -o-transform 0.6s ease-in-out;
    transition: transform 0.6s ease-in-out;
    -webkit-backface-visibility: hidden;
    -moz-backface-visibility: hidden;
    backface-visibility: hidden;
    -webkit-perspective: 1000px;
    -moz-perspective: 1000px;
    perspective: 1000px;
  }
  .carousel-inner > .item.next,
  .carousel-inner > .item.active.right {
    -webkit-transform: translate3d(100%, 0, 0);
    transform: translate3d(100%, 0, 0);
    left: 0;
  }
  .carousel-inner > .item.prev,
  .carousel-inner > .item.active.left {
    -webkit-transform: translate3d(-100%, 0, 0);
    transform: translate3d(-100%, 0, 0);
    left: 0;
  }
  .carousel-inner > .item.next.left,
  .carousel-inner > .item.prev.right,
  .carousel-inner > .item.active {
    -webkit-transform: translate3d(0, 0, 0);
    transform: translate3d(0, 0, 0);
    left: 0;
  }
}
.carousel-inner > .active,
.carousel-inner > .next,
.carousel-inner > .prev {
  display: block;
}
.carousel-inner > .active {
  left: 0;
}
.carousel-inner > .next,
.carousel-inner > .prev {
  position: absolute;
  top: 0;
  width: 100%;
}
.carousel-inner > .next {
  left: 100%;
}
.carousel-inner > .prev {
  left: -100%;
}
.carousel-inner > .next.left,
.carousel-inner > .prev.right {
  left: 0;
}
.carousel-inner > .active.left {
  left: -100%;
}
.carousel-inner > .active.right {
  left: 100%;
}
.carousel-control {
  position: absolute;
  top: 0;
  left: 0;
  bottom: 0;
  width: 15%;
  opacity: 0.5;
  filter: alpha(opacity=50);
  font-size: 20px;
  color: #fff;
  text-align: center;
  text-shadow: 0 1px 2px rgba(0, 0, 0, 0.6);
  background-color: rgba(0, 0, 0, 0);
}
.carousel-control.left {
  background-image: -webkit-linear-gradient(left, rgba(0, 0, 0, 0.5) 0%, rgba(0, 0, 0, 0.0001) 100%);
  background-image: -o-linear-gradient(left, rgba(0, 0, 0, 0.5) 0%, rgba(0, 0, 0, 0.0001) 100%);
  background-image: linear-gradient(to right, rgba(0, 0, 0, 0.5) 0%, rgba(0, 0, 0, 0.0001) 100%);
  background-repeat: repeat-x;
  filter: progid:DXImageTransform.Microsoft.gradient(startColorstr='#80000000', endColorstr='#00000000', GradientType=1);
}
.carousel-control.right {
  left: auto;
  right: 0;
  background-image: -webkit-linear-gradient(left, rgba(0, 0, 0, 0.0001) 0%, rgba(0, 0, 0, 0.5) 100%);
  background-image: -o-linear-gradient(left, rgba(0, 0, 0, 0.0001) 0%, rgba(0, 0, 0, 0.5) 100%);
  background-image: linear-gradient(to right, rgba(0, 0, 0, 0.0001) 0%, rgba(0, 0, 0, 0.5) 100%);
  background-repeat: repeat-x;
  filter: progid:DXImageTransform.Microsoft.gradient(startColorstr='#00000000', endColorstr='#80000000', GradientType=1);
}
.carousel-control:hover,
.carousel-control:focus {
  outline: 0;
  color: #fff;
  text-decoration: none;
  opacity: 0.9;
  filter: alpha(opacity=90);
}
.carousel-control .icon-prev,
.carousel-control .icon-next,
.carousel-control .glyphicon-chevron-left,
.carousel-control .glyphicon-chevron-right {
  position: absolute;
  top: 50%;
  margin-top: -10px;
  z-index: 5;
  display: inline-block;
}
.carousel-control .icon-prev,
.carousel-control .glyphicon-chevron-left {
  left: 50%;
  margin-left: -10px;
}
.carousel-control .icon-next,
.carousel-control .glyphicon-chevron-right {
  right: 50%;
  margin-right: -10px;
}
.carousel-control .icon-prev,
.carousel-control .icon-next {
  width: 20px;
  height: 20px;
  line-height: 1;
  font-family: serif;
}
.carousel-control .icon-prev:before {
  content: '\2039';
}
.carousel-control .icon-next:before {
  content: '\203a';
}
.carousel-indicators {
  position: absolute;
  bottom: 10px;
  left: 50%;
  z-index: 15;
  width: 60%;
  margin-left: -30%;
  padding-left: 0;
  list-style: none;
  text-align: center;
}
.carousel-indicators li {
  display: inline-block;
  width: 10px;
  height: 10px;
  margin: 1px;
  text-indent: -999px;
  border: 1px solid #fff;
  border-radius: 10px;
  cursor: pointer;
  background-color: #000 \9;
  background-color: rgba(0, 0, 0, 0);
}
.carousel-indicators .active {
  margin: 0;
  width: 12px;
  height: 12px;
  background-color: #fff;
}
.carousel-caption {
  position: absolute;
  left: 15%;
  right: 15%;
  bottom: 20px;
  z-index: 10;
  padding-top: 20px;
  padding-bottom: 20px;
  color: #fff;
  text-align: center;
  text-shadow: 0 1px 2px rgba(0, 0, 0, 0.6);
}
.carousel-caption .btn {
  text-shadow: none;
}
@media screen and (min-width: 768px) {
  .carousel-control .glyphicon-chevron-left,
  .carousel-control .glyphicon-chevron-right,
  .carousel-control .icon-prev,
  .carousel-control .icon-next {
    width: 30px;
    height: 30px;
    margin-top: -10px;
    font-size: 30px;
  }
  .carousel-control .glyphicon-chevron-left,
  .carousel-control .icon-prev {
    margin-left: -10px;
  }
  .carousel-control .glyphicon-chevron-right,
  .carousel-control .icon-next {
    margin-right: -10px;
  }
  .carousel-caption {
    left: 20%;
    right: 20%;
    padding-bottom: 30px;
  }
  .carousel-indicators {
    bottom: 20px;
  }
}
.clearfix:before,
.clearfix:after,
.dl-horizontal dd:before,
.dl-horizontal dd:after,
.container:before,
.container:after,
.container-fluid:before,
.container-fluid:after,
.row:before,
.row:after,
.form-horizontal .form-group:before,
.form-horizontal .form-group:after,
.btn-toolbar:before,
.btn-toolbar:after,
.btn-group-vertical > .btn-group:before,
.btn-group-vertical > .btn-group:after,
.nav:before,
.nav:after,
.navbar:before,
.navbar:after,
.navbar-header:before,
.navbar-header:after,
.navbar-collapse:before,
.navbar-collapse:after,
.pager:before,
.pager:after,
.panel-body:before,
.panel-body:after,
.modal-header:before,
.modal-header:after,
.modal-footer:before,
.modal-footer:after,
.item_buttons:before,
.item_buttons:after {
  content: " ";
  display: table;
}
.clearfix:after,
.dl-horizontal dd:after,
.container:after,
.container-fluid:after,
.row:after,
.form-horizontal .form-group:after,
.btn-toolbar:after,
.btn-group-vertical > .btn-group:after,
.nav:after,
.navbar:after,
.navbar-header:after,
.navbar-collapse:after,
.pager:after,
.panel-body:after,
.modal-header:after,
.modal-footer:after,
.item_buttons:after {
  clear: both;
}
.center-block {
  display: block;
  margin-left: auto;
  margin-right: auto;
}
.pull-right {
  float: right !important;
}
.pull-left {
  float: left !important;
}
.hide {
  display: none !important;
}
.show {
  display: block !important;
}
.invisible {
  visibility: hidden;
}
.text-hide {
  font: 0/0 a;
  color: transparent;
  text-shadow: none;
  background-color: transparent;
  border: 0;
}
.hidden {
  display: none !important;
}
.affix {
  position: fixed;
}
@-ms-viewport {
  width: device-width;
}
.visible-xs,
.visible-sm,
.visible-md,
.visible-lg {
  display: none !important;
}
.visible-xs-block,
.visible-xs-inline,
.visible-xs-inline-block,
.visible-sm-block,
.visible-sm-inline,
.visible-sm-inline-block,
.visible-md-block,
.visible-md-inline,
.visible-md-inline-block,
.visible-lg-block,
.visible-lg-inline,
.visible-lg-inline-block {
  display: none !important;
}
@media (max-width: 767px) {
  .visible-xs {
    display: block !important;
  }
  table.visible-xs {
    display: table !important;
  }
  tr.visible-xs {
    display: table-row !important;
  }
  th.visible-xs,
  td.visible-xs {
    display: table-cell !important;
  }
}
@media (max-width: 767px) {
  .visible-xs-block {
    display: block !important;
  }
}
@media (max-width: 767px) {
  .visible-xs-inline {
    display: inline !important;
  }
}
@media (max-width: 767px) {
  .visible-xs-inline-block {
    display: inline-block !important;
  }
}
@media (min-width: 768px) and (max-width: 991px) {
  .visible-sm {
    display: block !important;
  }
  table.visible-sm {
    display: table !important;
  }
  tr.visible-sm {
    display: table-row !important;
  }
  th.visible-sm,
  td.visible-sm {
    display: table-cell !important;
  }
}
@media (min-width: 768px) and (max-width: 991px) {
  .visible-sm-block {
    display: block !important;
  }
}
@media (min-width: 768px) and (max-width: 991px) {
  .visible-sm-inline {
    display: inline !important;
  }
}
@media (min-width: 768px) and (max-width: 991px) {
  .visible-sm-inline-block {
    display: inline-block !important;
  }
}
@media (min-width: 992px) and (max-width: 1199px) {
  .visible-md {
    display: block !important;
  }
  table.visible-md {
    display: table !important;
  }
  tr.visible-md {
    display: table-row !important;
  }
  th.visible-md,
  td.visible-md {
    display: table-cell !important;
  }
}
@media (min-width: 992px) and (max-width: 1199px) {
  .visible-md-block {
    display: block !important;
  }
}
@media (min-width: 992px) and (max-width: 1199px) {
  .visible-md-inline {
    display: inline !important;
  }
}
@media (min-width: 992px) and (max-width: 1199px) {
  .visible-md-inline-block {
    display: inline-block !important;
  }
}
@media (min-width: 1200px) {
  .visible-lg {
    display: block !important;
  }
  table.visible-lg {
    display: table !important;
  }
  tr.visible-lg {
    display: table-row !important;
  }
  th.visible-lg,
  td.visible-lg {
    display: table-cell !important;
  }
}
@media (min-width: 1200px) {
  .visible-lg-block {
    display: block !important;
  }
}
@media (min-width: 1200px) {
  .visible-lg-inline {
    display: inline !important;
  }
}
@media (min-width: 1200px) {
  .visible-lg-inline-block {
    display: inline-block !important;
  }
}
@media (max-width: 767px) {
  .hidden-xs {
    display: none !important;
  }
}
@media (min-width: 768px) and (max-width: 991px) {
  .hidden-sm {
    display: none !important;
  }
}
@media (min-width: 992px) and (max-width: 1199px) {
  .hidden-md {
    display: none !important;
  }
}
@media (min-width: 1200px) {
  .hidden-lg {
    display: none !important;
  }
}
.visible-print {
  display: none !important;
}
@media print {
  .visible-print {
    display: block !important;
  }
  table.visible-print {
    display: table !important;
  }
  tr.visible-print {
    display: table-row !important;
  }
  th.visible-print,
  td.visible-print {
    display: table-cell !important;
  }
}
.visible-print-block {
  display: none !important;
}
@media print {
  .visible-print-block {
    display: block !important;
  }
}
.visible-print-inline {
  display: none !important;
}
@media print {
  .visible-print-inline {
    display: inline !important;
  }
}
.visible-print-inline-block {
  display: none !important;
}
@media print {
  .visible-print-inline-block {
    display: inline-block !important;
  }
}
@media print {
  .hidden-print {
    display: none !important;
  }
}
/*!
*
* Font Awesome
*
*/
/*!
 *  Font Awesome 4.2.0 by @davegandy - http://fontawesome.io - @fontawesome
 *  License - http://fontawesome.io/license (Font: SIL OFL 1.1, CSS: MIT License)
 */
/* FONT PATH
 * -------------------------- */
@font-face {
  font-family: 'FontAwesome';
  src: url('../components/font-awesome/fonts/fontawesome-webfont.eot?v=4.2.0');
  src: url('../components/font-awesome/fonts/fontawesome-webfont.eot?#iefix&v=4.2.0') format('embedded-opentype'), url('../components/font-awesome/fonts/fontawesome-webfont.woff?v=4.2.0') format('woff'), url('../components/font-awesome/fonts/fontawesome-webfont.ttf?v=4.2.0') format('truetype'), url('../components/font-awesome/fonts/fontawesome-webfont.svg?v=4.2.0#fontawesomeregular') format('svg');
  font-weight: normal;
  font-style: normal;
}
.fa {
  display: inline-block;
  font: normal normal normal 14px/1 FontAwesome;
  font-size: inherit;
  text-rendering: auto;
  -webkit-font-smoothing: antialiased;
  -moz-osx-font-smoothing: grayscale;
}
/* makes the font 33% larger relative to the icon container */
.fa-lg {
  font-size: 1.33333333em;
  line-height: 0.75em;
  vertical-align: -15%;
}
.fa-2x {
  font-size: 2em;
}
.fa-3x {
  font-size: 3em;
}
.fa-4x {
  font-size: 4em;
}
.fa-5x {
  font-size: 5em;
}
.fa-fw {
  width: 1.28571429em;
  text-align: center;
}
.fa-ul {
  padding-left: 0;
  margin-left: 2.14285714em;
  list-style-type: none;
}
.fa-ul > li {
  position: relative;
}
.fa-li {
  position: absolute;
  left: -2.14285714em;
  width: 2.14285714em;
  top: 0.14285714em;
  text-align: center;
}
.fa-li.fa-lg {
  left: -1.85714286em;
}
.fa-border {
  padding: .2em .25em .15em;
  border: solid 0.08em #eee;
  border-radius: .1em;
}
.pull-right {
  float: right;
}
.pull-left {
  float: left;
}
.fa.pull-left {
  margin-right: .3em;
}
.fa.pull-right {
  margin-left: .3em;
}
.fa-spin {
  -webkit-animation: fa-spin 2s infinite linear;
  animation: fa-spin 2s infinite linear;
}
@-webkit-keyframes fa-spin {
  0% {
    -webkit-transform: rotate(0deg);
    transform: rotate(0deg);
  }
  100% {
    -webkit-transform: rotate(359deg);
    transform: rotate(359deg);
  }
}
@keyframes fa-spin {
  0% {
    -webkit-transform: rotate(0deg);
    transform: rotate(0deg);
  }
  100% {
    -webkit-transform: rotate(359deg);
    transform: rotate(359deg);
  }
}
.fa-rotate-90 {
  filter: progid:DXImageTransform.Microsoft.BasicImage(rotation=1);
  -webkit-transform: rotate(90deg);
  -ms-transform: rotate(90deg);
  transform: rotate(90deg);
}
.fa-rotate-180 {
  filter: progid:DXImageTransform.Microsoft.BasicImage(rotation=2);
  -webkit-transform: rotate(180deg);
  -ms-transform: rotate(180deg);
  transform: rotate(180deg);
}
.fa-rotate-270 {
  filter: progid:DXImageTransform.Microsoft.BasicImage(rotation=3);
  -webkit-transform: rotate(270deg);
  -ms-transform: rotate(270deg);
  transform: rotate(270deg);
}
.fa-flip-horizontal {
  filter: progid:DXImageTransform.Microsoft.BasicImage(rotation=0, mirror=1);
  -webkit-transform: scale(-1, 1);
  -ms-transform: scale(-1, 1);
  transform: scale(-1, 1);
}
.fa-flip-vertical {
  filter: progid:DXImageTransform.Microsoft.BasicImage(rotation=2, mirror=1);
  -webkit-transform: scale(1, -1);
  -ms-transform: scale(1, -1);
  transform: scale(1, -1);
}
:root .fa-rotate-90,
:root .fa-rotate-180,
:root .fa-rotate-270,
:root .fa-flip-horizontal,
:root .fa-flip-vertical {
  filter: none;
}
.fa-stack {
  position: relative;
  display: inline-block;
  width: 2em;
  height: 2em;
  line-height: 2em;
  vertical-align: middle;
}
.fa-stack-1x,
.fa-stack-2x {
  position: absolute;
  left: 0;
  width: 100%;
  text-align: center;
}
.fa-stack-1x {
  line-height: inherit;
}
.fa-stack-2x {
  font-size: 2em;
}
.fa-inverse {
  color: #fff;
}
/* Font Awesome uses the Unicode Private Use Area (PUA) to ensure screen
   readers do not read off random characters that represent icons */
.fa-glass:before {
  content: "\f000";
}
.fa-music:before {
  content: "\f001";
}
.fa-search:before {
  content: "\f002";
}
.fa-envelope-o:before {
  content: "\f003";
}
.fa-heart:before {
  content: "\f004";
}
.fa-star:before {
  content: "\f005";
}
.fa-star-o:before {
  content: "\f006";
}
.fa-user:before {
  content: "\f007";
}
.fa-film:before {
  content: "\f008";
}
.fa-th-large:before {
  content: "\f009";
}
.fa-th:before {
  content: "\f00a";
}
.fa-th-list:before {
  content: "\f00b";
}
.fa-check:before {
  content: "\f00c";
}
.fa-remove:before,
.fa-close:before,
.fa-times:before {
  content: "\f00d";
}
.fa-search-plus:before {
  content: "\f00e";
}
.fa-search-minus:before {
  content: "\f010";
}
.fa-power-off:before {
  content: "\f011";
}
.fa-signal:before {
  content: "\f012";
}
.fa-gear:before,
.fa-cog:before {
  content: "\f013";
}
.fa-trash-o:before {
  content: "\f014";
}
.fa-home:before {
  content: "\f015";
}
.fa-file-o:before {
  content: "\f016";
}
.fa-clock-o:before {
  content: "\f017";
}
.fa-road:before {
  content: "\f018";
}
.fa-download:before {
  content: "\f019";
}
.fa-arrow-circle-o-down:before {
  content: "\f01a";
}
.fa-arrow-circle-o-up:before {
  content: "\f01b";
}
.fa-inbox:before {
  content: "\f01c";
}
.fa-play-circle-o:before {
  content: "\f01d";
}
.fa-rotate-right:before,
.fa-repeat:before {
  content: "\f01e";
}
.fa-refresh:before {
  content: "\f021";
}
.fa-list-alt:before {
  content: "\f022";
}
.fa-lock:before {
  content: "\f023";
}
.fa-flag:before {
  content: "\f024";
}
.fa-headphones:before {
  content: "\f025";
}
.fa-volume-off:before {
  content: "\f026";
}
.fa-volume-down:before {
  content: "\f027";
}
.fa-volume-up:before {
  content: "\f028";
}
.fa-qrcode:before {
  content: "\f029";
}
.fa-barcode:before {
  content: "\f02a";
}
.fa-tag:before {
  content: "\f02b";
}
.fa-tags:before {
  content: "\f02c";
}
.fa-book:before {
  content: "\f02d";
}
.fa-bookmark:before {
  content: "\f02e";
}
.fa-print:before {
  content: "\f02f";
}
.fa-camera:before {
  content: "\f030";
}
.fa-font:before {
  content: "\f031";
}
.fa-bold:before {
  content: "\f032";
}
.fa-italic:before {
  content: "\f033";
}
.fa-text-height:before {
  content: "\f034";
}
.fa-text-width:before {
  content: "\f035";
}
.fa-align-left:before {
  content: "\f036";
}
.fa-align-center:before {
  content: "\f037";
}
.fa-align-right:before {
  content: "\f038";
}
.fa-align-justify:before {
  content: "\f039";
}
.fa-list:before {
  content: "\f03a";
}
.fa-dedent:before,
.fa-outdent:before {
  content: "\f03b";
}
.fa-indent:before {
  content: "\f03c";
}
.fa-video-camera:before {
  content: "\f03d";
}
.fa-photo:before,
.fa-image:before,
.fa-picture-o:before {
  content: "\f03e";
}
.fa-pencil:before {
  content: "\f040";
}
.fa-map-marker:before {
  content: "\f041";
}
.fa-adjust:before {
  content: "\f042";
}
.fa-tint:before {
  content: "\f043";
}
.fa-edit:before,
.fa-pencil-square-o:before {
  content: "\f044";
}
.fa-share-square-o:before {
  content: "\f045";
}
.fa-check-square-o:before {
  content: "\f046";
}
.fa-arrows:before {
  content: "\f047";
}
.fa-step-backward:before {
  content: "\f048";
}
.fa-fast-backward:before {
  content: "\f049";
}
.fa-backward:before {
  content: "\f04a";
}
.fa-play:before {
  content: "\f04b";
}
.fa-pause:before {
  content: "\f04c";
}
.fa-stop:before {
  content: "\f04d";
}
.fa-forward:before {
  content: "\f04e";
}
.fa-fast-forward:before {
  content: "\f050";
}
.fa-step-forward:before {
  content: "\f051";
}
.fa-eject:before {
  content: "\f052";
}
.fa-chevron-left:before {
  content: "\f053";
}
.fa-chevron-right:before {
  content: "\f054";
}
.fa-plus-circle:before {
  content: "\f055";
}
.fa-minus-circle:before {
  content: "\f056";
}
.fa-times-circle:before {
  content: "\f057";
}
.fa-check-circle:before {
  content: "\f058";
}
.fa-question-circle:before {
  content: "\f059";
}
.fa-info-circle:before {
  content: "\f05a";
}
.fa-crosshairs:before {
  content: "\f05b";
}
.fa-times-circle-o:before {
  content: "\f05c";
}
.fa-check-circle-o:before {
  content: "\f05d";
}
.fa-ban:before {
  content: "\f05e";
}
.fa-arrow-left:before {
  content: "\f060";
}
.fa-arrow-right:before {
  content: "\f061";
}
.fa-arrow-up:before {
  content: "\f062";
}
.fa-arrow-down:before {
  content: "\f063";
}
.fa-mail-forward:before,
.fa-share:before {
  content: "\f064";
}
.fa-expand:before {
  content: "\f065";
}
.fa-compress:before {
  content: "\f066";
}
.fa-plus:before {
  content: "\f067";
}
.fa-minus:before {
  content: "\f068";
}
.fa-asterisk:before {
  content: "\f069";
}
.fa-exclamation-circle:before {
  content: "\f06a";
}
.fa-gift:before {
  content: "\f06b";
}
.fa-leaf:before {
  content: "\f06c";
}
.fa-fire:before {
  content: "\f06d";
}
.fa-eye:before {
  content: "\f06e";
}
.fa-eye-slash:before {
  content: "\f070";
}
.fa-warning:before,
.fa-exclamation-triangle:before {
  content: "\f071";
}
.fa-plane:before {
  content: "\f072";
}
.fa-calendar:before {
  content: "\f073";
}
.fa-random:before {
  content: "\f074";
}
.fa-comment:before {
  content: "\f075";
}
.fa-magnet:before {
  content: "\f076";
}
.fa-chevron-up:before {
  content: "\f077";
}
.fa-chevron-down:before {
  content: "\f078";
}
.fa-retweet:before {
  content: "\f079";
}
.fa-shopping-cart:before {
  content: "\f07a";
}
.fa-folder:before {
  content: "\f07b";
}
.fa-folder-open:before {
  content: "\f07c";
}
.fa-arrows-v:before {
  content: "\f07d";
}
.fa-arrows-h:before {
  content: "\f07e";
}
.fa-bar-chart-o:before,
.fa-bar-chart:before {
  content: "\f080";
}
.fa-twitter-square:before {
  content: "\f081";
}
.fa-facebook-square:before {
  content: "\f082";
}
.fa-camera-retro:before {
  content: "\f083";
}
.fa-key:before {
  content: "\f084";
}
.fa-gears:before,
.fa-cogs:before {
  content: "\f085";
}
.fa-comments:before {
  content: "\f086";
}
.fa-thumbs-o-up:before {
  content: "\f087";
}
.fa-thumbs-o-down:before {
  content: "\f088";
}
.fa-star-half:before {
  content: "\f089";
}
.fa-heart-o:before {
  content: "\f08a";
}
.fa-sign-out:before {
  content: "\f08b";
}
.fa-linkedin-square:before {
  content: "\f08c";
}
.fa-thumb-tack:before {
  content: "\f08d";
}
.fa-external-link:before {
  content: "\f08e";
}
.fa-sign-in:before {
  content: "\f090";
}
.fa-trophy:before {
  content: "\f091";
}
.fa-github-square:before {
  content: "\f092";
}
.fa-upload:before {
  content: "\f093";
}
.fa-lemon-o:before {
  content: "\f094";
}
.fa-phone:before {
  content: "\f095";
}
.fa-square-o:before {
  content: "\f096";
}
.fa-bookmark-o:before {
  content: "\f097";
}
.fa-phone-square:before {
  content: "\f098";
}
.fa-twitter:before {
  content: "\f099";
}
.fa-facebook:before {
  content: "\f09a";
}
.fa-github:before {
  content: "\f09b";
}
.fa-unlock:before {
  content: "\f09c";
}
.fa-credit-card:before {
  content: "\f09d";
}
.fa-rss:before {
  content: "\f09e";
}
.fa-hdd-o:before {
  content: "\f0a0";
}
.fa-bullhorn:before {
  content: "\f0a1";
}
.fa-bell:before {
  content: "\f0f3";
}
.fa-certificate:before {
  content: "\f0a3";
}
.fa-hand-o-right:before {
  content: "\f0a4";
}
.fa-hand-o-left:before {
  content: "\f0a5";
}
.fa-hand-o-up:before {
  content: "\f0a6";
}
.fa-hand-o-down:before {
  content: "\f0a7";
}
.fa-arrow-circle-left:before {
  content: "\f0a8";
}
.fa-arrow-circle-right:before {
  content: "\f0a9";
}
.fa-arrow-circle-up:before {
  content: "\f0aa";
}
.fa-arrow-circle-down:before {
  content: "\f0ab";
}
.fa-globe:before {
  content: "\f0ac";
}
.fa-wrench:before {
  content: "\f0ad";
}
.fa-tasks:before {
  content: "\f0ae";
}
.fa-filter:before {
  content: "\f0b0";
}
.fa-briefcase:before {
  content: "\f0b1";
}
.fa-arrows-alt:before {
  content: "\f0b2";
}
.fa-group:before,
.fa-users:before {
  content: "\f0c0";
}
.fa-chain:before,
.fa-link:before {
  content: "\f0c1";
}
.fa-cloud:before {
  content: "\f0c2";
}
.fa-flask:before {
  content: "\f0c3";
}
.fa-cut:before,
.fa-scissors:before {
  content: "\f0c4";
}
.fa-copy:before,
.fa-files-o:before {
  content: "\f0c5";
}
.fa-paperclip:before {
  content: "\f0c6";
}
.fa-save:before,
.fa-floppy-o:before {
  content: "\f0c7";
}
.fa-square:before {
  content: "\f0c8";
}
.fa-navicon:before,
.fa-reorder:before,
.fa-bars:before {
  content: "\f0c9";
}
.fa-list-ul:before {
  content: "\f0ca";
}
.fa-list-ol:before {
  content: "\f0cb";
}
.fa-strikethrough:before {
  content: "\f0cc";
}
.fa-underline:before {
  content: "\f0cd";
}
.fa-table:before {
  content: "\f0ce";
}
.fa-magic:before {
  content: "\f0d0";
}
.fa-truck:before {
  content: "\f0d1";
}
.fa-pinterest:before {
  content: "\f0d2";
}
.fa-pinterest-square:before {
  content: "\f0d3";
}
.fa-google-plus-square:before {
  content: "\f0d4";
}
.fa-google-plus:before {
  content: "\f0d5";
}
.fa-money:before {
  content: "\f0d6";
}
.fa-caret-down:before {
  content: "\f0d7";
}
.fa-caret-up:before {
  content: "\f0d8";
}
.fa-caret-left:before {
  content: "\f0d9";
}
.fa-caret-right:before {
  content: "\f0da";
}
.fa-columns:before {
  content: "\f0db";
}
.fa-unsorted:before,
.fa-sort:before {
  content: "\f0dc";
}
.fa-sort-down:before,
.fa-sort-desc:before {
  content: "\f0dd";
}
.fa-sort-up:before,
.fa-sort-asc:before {
  content: "\f0de";
}
.fa-envelope:before {
  content: "\f0e0";
}
.fa-linkedin:before {
  content: "\f0e1";
}
.fa-rotate-left:before,
.fa-undo:before {
  content: "\f0e2";
}
.fa-legal:before,
.fa-gavel:before {
  content: "\f0e3";
}
.fa-dashboard:before,
.fa-tachometer:before {
  content: "\f0e4";
}
.fa-comment-o:before {
  content: "\f0e5";
}
.fa-comments-o:before {
  content: "\f0e6";
}
.fa-flash:before,
.fa-bolt:before {
  content: "\f0e7";
}
.fa-sitemap:before {
  content: "\f0e8";
}
.fa-umbrella:before {
  content: "\f0e9";
}
.fa-paste:before,
.fa-clipboard:before {
  content: "\f0ea";
}
.fa-lightbulb-o:before {
  content: "\f0eb";
}
.fa-exchange:before {
  content: "\f0ec";
}
.fa-cloud-download:before {
  content: "\f0ed";
}
.fa-cloud-upload:before {
  content: "\f0ee";
}
.fa-user-md:before {
  content: "\f0f0";
}
.fa-stethoscope:before {
  content: "\f0f1";
}
.fa-suitcase:before {
  content: "\f0f2";
}
.fa-bell-o:before {
  content: "\f0a2";
}
.fa-coffee:before {
  content: "\f0f4";
}
.fa-cutlery:before {
  content: "\f0f5";
}
.fa-file-text-o:before {
  content: "\f0f6";
}
.fa-building-o:before {
  content: "\f0f7";
}
.fa-hospital-o:before {
  content: "\f0f8";
}
.fa-ambulance:before {
  content: "\f0f9";
}
.fa-medkit:before {
  content: "\f0fa";
}
.fa-fighter-jet:before {
  content: "\f0fb";
}
.fa-beer:before {
  content: "\f0fc";
}
.fa-h-square:before {
  content: "\f0fd";
}
.fa-plus-square:before {
  content: "\f0fe";
}
.fa-angle-double-left:before {
  content: "\f100";
}
.fa-angle-double-right:before {
  content: "\f101";
}
.fa-angle-double-up:before {
  content: "\f102";
}
.fa-angle-double-down:before {
  content: "\f103";
}
.fa-angle-left:before {
  content: "\f104";
}
.fa-angle-right:before {
  content: "\f105";
}
.fa-angle-up:before {
  content: "\f106";
}
.fa-angle-down:before {
  content: "\f107";
}
.fa-desktop:before {
  content: "\f108";
}
.fa-laptop:before {
  content: "\f109";
}
.fa-tablet:before {
  content: "\f10a";
}
.fa-mobile-phone:before,
.fa-mobile:before {
  content: "\f10b";
}
.fa-circle-o:before {
  content: "\f10c";
}
.fa-quote-left:before {
  content: "\f10d";
}
.fa-quote-right:before {
  content: "\f10e";
}
.fa-spinner:before {
  content: "\f110";
}
.fa-circle:before {
  content: "\f111";
}
.fa-mail-reply:before,
.fa-reply:before {
  content: "\f112";
}
.fa-github-alt:before {
  content: "\f113";
}
.fa-folder-o:before {
  content: "\f114";
}
.fa-folder-open-o:before {
  content: "\f115";
}
.fa-smile-o:before {
  content: "\f118";
}
.fa-frown-o:before {
  content: "\f119";
}
.fa-meh-o:before {
  content: "\f11a";
}
.fa-gamepad:before {
  content: "\f11b";
}
.fa-keyboard-o:before {
  content: "\f11c";
}
.fa-flag-o:before {
  content: "\f11d";
}
.fa-flag-checkered:before {
  content: "\f11e";
}
.fa-terminal:before {
  content: "\f120";
}
.fa-code:before {
  content: "\f121";
}
.fa-mail-reply-all:before,
.fa-reply-all:before {
  content: "\f122";
}
.fa-star-half-empty:before,
.fa-star-half-full:before,
.fa-star-half-o:before {
  content: "\f123";
}
.fa-location-arrow:before {
  content: "\f124";
}
.fa-crop:before {
  content: "\f125";
}
.fa-code-fork:before {
  content: "\f126";
}
.fa-unlink:before,
.fa-chain-broken:before {
  content: "\f127";
}
.fa-question:before {
  content: "\f128";
}
.fa-info:before {
  content: "\f129";
}
.fa-exclamation:before {
  content: "\f12a";
}
.fa-superscript:before {
  content: "\f12b";
}
.fa-subscript:before {
  content: "\f12c";
}
.fa-eraser:before {
  content: "\f12d";
}
.fa-puzzle-piece:before {
  content: "\f12e";
}
.fa-microphone:before {
  content: "\f130";
}
.fa-microphone-slash:before {
  content: "\f131";
}
.fa-shield:before {
  content: "\f132";
}
.fa-calendar-o:before {
  content: "\f133";
}
.fa-fire-extinguisher:before {
  content: "\f134";
}
.fa-rocket:before {
  content: "\f135";
}
.fa-maxcdn:before {
  content: "\f136";
}
.fa-chevron-circle-left:before {
  content: "\f137";
}
.fa-chevron-circle-right:before {
  content: "\f138";
}
.fa-chevron-circle-up:before {
  content: "\f139";
}
.fa-chevron-circle-down:before {
  content: "\f13a";
}
.fa-html5:before {
  content: "\f13b";
}
.fa-css3:before {
  content: "\f13c";
}
.fa-anchor:before {
  content: "\f13d";
}
.fa-unlock-alt:before {
  content: "\f13e";
}
.fa-bullseye:before {
  content: "\f140";
}
.fa-ellipsis-h:before {
  content: "\f141";
}
.fa-ellipsis-v:before {
  content: "\f142";
}
.fa-rss-square:before {
  content: "\f143";
}
.fa-play-circle:before {
  content: "\f144";
}
.fa-ticket:before {
  content: "\f145";
}
.fa-minus-square:before {
  content: "\f146";
}
.fa-minus-square-o:before {
  content: "\f147";
}
.fa-level-up:before {
  content: "\f148";
}
.fa-level-down:before {
  content: "\f149";
}
.fa-check-square:before {
  content: "\f14a";
}
.fa-pencil-square:before {
  content: "\f14b";
}
.fa-external-link-square:before {
  content: "\f14c";
}
.fa-share-square:before {
  content: "\f14d";
}
.fa-compass:before {
  content: "\f14e";
}
.fa-toggle-down:before,
.fa-caret-square-o-down:before {
  content: "\f150";
}
.fa-toggle-up:before,
.fa-caret-square-o-up:before {
  content: "\f151";
}
.fa-toggle-right:before,
.fa-caret-square-o-right:before {
  content: "\f152";
}
.fa-euro:before,
.fa-eur:before {
  content: "\f153";
}
.fa-gbp:before {
  content: "\f154";
}
.fa-dollar:before,
.fa-usd:before {
  content: "\f155";
}
.fa-rupee:before,
.fa-inr:before {
  content: "\f156";
}
.fa-cny:before,
.fa-rmb:before,
.fa-yen:before,
.fa-jpy:before {
  content: "\f157";
}
.fa-ruble:before,
.fa-rouble:before,
.fa-rub:before {
  content: "\f158";
}
.fa-won:before,
.fa-krw:before {
  content: "\f159";
}
.fa-bitcoin:before,
.fa-btc:before {
  content: "\f15a";
}
.fa-file:before {
  content: "\f15b";
}
.fa-file-text:before {
  content: "\f15c";
}
.fa-sort-alpha-asc:before {
  content: "\f15d";
}
.fa-sort-alpha-desc:before {
  content: "\f15e";
}
.fa-sort-amount-asc:before {
  content: "\f160";
}
.fa-sort-amount-desc:before {
  content: "\f161";
}
.fa-sort-numeric-asc:before {
  content: "\f162";
}
.fa-sort-numeric-desc:before {
  content: "\f163";
}
.fa-thumbs-up:before {
  content: "\f164";
}
.fa-thumbs-down:before {
  content: "\f165";
}
.fa-youtube-square:before {
  content: "\f166";
}
.fa-youtube:before {
  content: "\f167";
}
.fa-xing:before {
  content: "\f168";
}
.fa-xing-square:before {
  content: "\f169";
}
.fa-youtube-play:before {
  content: "\f16a";
}
.fa-dropbox:before {
  content: "\f16b";
}
.fa-stack-overflow:before {
  content: "\f16c";
}
.fa-instagram:before {
  content: "\f16d";
}
.fa-flickr:before {
  content: "\f16e";
}
.fa-adn:before {
  content: "\f170";
}
.fa-bitbucket:before {
  content: "\f171";
}
.fa-bitbucket-square:before {
  content: "\f172";
}
.fa-tumblr:before {
  content: "\f173";
}
.fa-tumblr-square:before {
  content: "\f174";
}
.fa-long-arrow-down:before {
  content: "\f175";
}
.fa-long-arrow-up:before {
  content: "\f176";
}
.fa-long-arrow-left:before {
  content: "\f177";
}
.fa-long-arrow-right:before {
  content: "\f178";
}
.fa-apple:before {
  content: "\f179";
}
.fa-windows:before {
  content: "\f17a";
}
.fa-android:before {
  content: "\f17b";
}
.fa-linux:before {
  content: "\f17c";
}
.fa-dribbble:before {
  content: "\f17d";
}
.fa-skype:before {
  content: "\f17e";
}
.fa-foursquare:before {
  content: "\f180";
}
.fa-trello:before {
  content: "\f181";
}
.fa-female:before {
  content: "\f182";
}
.fa-male:before {
  content: "\f183";
}
.fa-gittip:before {
  content: "\f184";
}
.fa-sun-o:before {
  content: "\f185";
}
.fa-moon-o:before {
  content: "\f186";
}
.fa-archive:before {
  content: "\f187";
}
.fa-bug:before {
  content: "\f188";
}
.fa-vk:before {
  content: "\f189";
}
.fa-weibo:before {
  content: "\f18a";
}
.fa-renren:before {
  content: "\f18b";
}
.fa-pagelines:before {
  content: "\f18c";
}
.fa-stack-exchange:before {
  content: "\f18d";
}
.fa-arrow-circle-o-right:before {
  content: "\f18e";
}
.fa-arrow-circle-o-left:before {
  content: "\f190";
}
.fa-toggle-left:before,
.fa-caret-square-o-left:before {
  content: "\f191";
}
.fa-dot-circle-o:before {
  content: "\f192";
}
.fa-wheelchair:before {
  content: "\f193";
}
.fa-vimeo-square:before {
  content: "\f194";
}
.fa-turkish-lira:before,
.fa-try:before {
  content: "\f195";
}
.fa-plus-square-o:before {
  content: "\f196";
}
.fa-space-shuttle:before {
  content: "\f197";
}
.fa-slack:before {
  content: "\f198";
}
.fa-envelope-square:before {
  content: "\f199";
}
.fa-wordpress:before {
  content: "\f19a";
}
.fa-openid:before {
  content: "\f19b";
}
.fa-institution:before,
.fa-bank:before,
.fa-university:before {
  content: "\f19c";
}
.fa-mortar-board:before,
.fa-graduation-cap:before {
  content: "\f19d";
}
.fa-yahoo:before {
  content: "\f19e";
}
.fa-google:before {
  content: "\f1a0";
}
.fa-reddit:before {
  content: "\f1a1";
}
.fa-reddit-square:before {
  content: "\f1a2";
}
.fa-stumbleupon-circle:before {
  content: "\f1a3";
}
.fa-stumbleupon:before {
  content: "\f1a4";
}
.fa-delicious:before {
  content: "\f1a5";
}
.fa-digg:before {
  content: "\f1a6";
}
.fa-pied-piper:before {
  content: "\f1a7";
}
.fa-pied-piper-alt:before {
  content: "\f1a8";
}
.fa-drupal:before {
  content: "\f1a9";
}
.fa-joomla:before {
  content: "\f1aa";
}
.fa-language:before {
  content: "\f1ab";
}
.fa-fax:before {
  content: "\f1ac";
}
.fa-building:before {
  content: "\f1ad";
}
.fa-child:before {
  content: "\f1ae";
}
.fa-paw:before {
  content: "\f1b0";
}
.fa-spoon:before {
  content: "\f1b1";
}
.fa-cube:before {
  content: "\f1b2";
}
.fa-cubes:before {
  content: "\f1b3";
}
.fa-behance:before {
  content: "\f1b4";
}
.fa-behance-square:before {
  content: "\f1b5";
}
.fa-steam:before {
  content: "\f1b6";
}
.fa-steam-square:before {
  content: "\f1b7";
}
.fa-recycle:before {
  content: "\f1b8";
}
.fa-automobile:before,
.fa-car:before {
  content: "\f1b9";
}
.fa-cab:before,
.fa-taxi:before {
  content: "\f1ba";
}
.fa-tree:before {
  content: "\f1bb";
}
.fa-spotify:before {
  content: "\f1bc";
}
.fa-deviantart:before {
  content: "\f1bd";
}
.fa-soundcloud:before {
  content: "\f1be";
}
.fa-database:before {
  content: "\f1c0";
}
.fa-file-pdf-o:before {
  content: "\f1c1";
}
.fa-file-word-o:before {
  content: "\f1c2";
}
.fa-file-excel-o:before {
  content: "\f1c3";
}
.fa-file-powerpoint-o:before {
  content: "\f1c4";
}
.fa-file-photo-o:before,
.fa-file-picture-o:before,
.fa-file-image-o:before {
  content: "\f1c5";
}
.fa-file-zip-o:before,
.fa-file-archive-o:before {
  content: "\f1c6";
}
.fa-file-sound-o:before,
.fa-file-audio-o:before {
  content: "\f1c7";
}
.fa-file-movie-o:before,
.fa-file-video-o:before {
  content: "\f1c8";
}
.fa-file-code-o:before {
  content: "\f1c9";
}
.fa-vine:before {
  content: "\f1ca";
}
.fa-codepen:before {
  content: "\f1cb";
}
.fa-jsfiddle:before {
  content: "\f1cc";
}
.fa-life-bouy:before,
.fa-life-buoy:before,
.fa-life-saver:before,
.fa-support:before,
.fa-life-ring:before {
  content: "\f1cd";
}
.fa-circle-o-notch:before {
  content: "\f1ce";
}
.fa-ra:before,
.fa-rebel:before {
  content: "\f1d0";
}
.fa-ge:before,
.fa-empire:before {
  content: "\f1d1";
}
.fa-git-square:before {
  content: "\f1d2";
}
.fa-git:before {
  content: "\f1d3";
}
.fa-hacker-news:before {
  content: "\f1d4";
}
.fa-tencent-weibo:before {
  content: "\f1d5";
}
.fa-qq:before {
  content: "\f1d6";
}
.fa-wechat:before,
.fa-weixin:before {
  content: "\f1d7";
}
.fa-send:before,
.fa-paper-plane:before {
  content: "\f1d8";
}
.fa-send-o:before,
.fa-paper-plane-o:before {
  content: "\f1d9";
}
.fa-history:before {
  content: "\f1da";
}
.fa-circle-thin:before {
  content: "\f1db";
}
.fa-header:before {
  content: "\f1dc";
}
.fa-paragraph:before {
  content: "\f1dd";
}
.fa-sliders:before {
  content: "\f1de";
}
.fa-share-alt:before {
  content: "\f1e0";
}
.fa-share-alt-square:before {
  content: "\f1e1";
}
.fa-bomb:before {
  content: "\f1e2";
}
.fa-soccer-ball-o:before,
.fa-futbol-o:before {
  content: "\f1e3";
}
.fa-tty:before {
  content: "\f1e4";
}
.fa-binoculars:before {
  content: "\f1e5";
}
.fa-plug:before {
  content: "\f1e6";
}
.fa-slideshare:before {
  content: "\f1e7";
}
.fa-twitch:before {
  content: "\f1e8";
}
.fa-yelp:before {
  content: "\f1e9";
}
.fa-newspaper-o:before {
  content: "\f1ea";
}
.fa-wifi:before {
  content: "\f1eb";
}
.fa-calculator:before {
  content: "\f1ec";
}
.fa-paypal:before {
  content: "\f1ed";
}
.fa-google-wallet:before {
  content: "\f1ee";
}
.fa-cc-visa:before {
  content: "\f1f0";
}
.fa-cc-mastercard:before {
  content: "\f1f1";
}
.fa-cc-discover:before {
  content: "\f1f2";
}
.fa-cc-amex:before {
  content: "\f1f3";
}
.fa-cc-paypal:before {
  content: "\f1f4";
}
.fa-cc-stripe:before {
  content: "\f1f5";
}
.fa-bell-slash:before {
  content: "\f1f6";
}
.fa-bell-slash-o:before {
  content: "\f1f7";
}
.fa-trash:before {
  content: "\f1f8";
}
.fa-copyright:before {
  content: "\f1f9";
}
.fa-at:before {
  content: "\f1fa";
}
.fa-eyedropper:before {
  content: "\f1fb";
}
.fa-paint-brush:before {
  content: "\f1fc";
}
.fa-birthday-cake:before {
  content: "\f1fd";
}
.fa-area-chart:before {
  content: "\f1fe";
}
.fa-pie-chart:before {
  content: "\f200";
}
.fa-line-chart:before {
  content: "\f201";
}
.fa-lastfm:before {
  content: "\f202";
}
.fa-lastfm-square:before {
  content: "\f203";
}
.fa-toggle-off:before {
  content: "\f204";
}
.fa-toggle-on:before {
  content: "\f205";
}
.fa-bicycle:before {
  content: "\f206";
}
.fa-bus:before {
  content: "\f207";
}
.fa-ioxhost:before {
  content: "\f208";
}
.fa-angellist:before {
  content: "\f209";
}
.fa-cc:before {
  content: "\f20a";
}
.fa-shekel:before,
.fa-sheqel:before,
.fa-ils:before {
  content: "\f20b";
}
.fa-meanpath:before {
  content: "\f20c";
}
/*!
*
* IPython base
*
*/
.modal.fade .modal-dialog {
  -webkit-transform: translate(0, 0);
  -ms-transform: translate(0, 0);
  -o-transform: translate(0, 0);
  transform: translate(0, 0);
}
code {
  color: #000;
}
pre {
  font-size: inherit;
  line-height: inherit;
}
label {
  font-weight: normal;
}
/* Make the page background atleast 100% the height of the view port */
/* Make the page itself atleast 70% the height of the view port */
.border-box-sizing {
  box-sizing: border-box;
  -moz-box-sizing: border-box;
  -webkit-box-sizing: border-box;
}
.corner-all {
  border-radius: 2px;
}
.no-padding {
  padding: 0px;
}
/* Flexible box model classes */
/* Taken from Alex Russell http://infrequently.org/2009/08/css-3-progress/ */
/* This file is a compatability layer.  It allows the usage of flexible box 
model layouts accross multiple browsers, including older browsers.  The newest,
universal implementation of the flexible box model is used when available (see
`Modern browsers` comments below).  Browsers that are known to implement this 
new spec completely include:

    Firefox 28.0+
    Chrome 29.0+
    Internet Explorer 11+ 
    Opera 17.0+

Browsers not listed, including Safari, are supported via the styling under the
`Old browsers` comments below.
*/
.hbox {
  /* Old browsers */
  display: -webkit-box;
  -webkit-box-orient: horizontal;
  -webkit-box-align: stretch;
  display: -moz-box;
  -moz-box-orient: horizontal;
  -moz-box-align: stretch;
  display: box;
  box-orient: horizontal;
  box-align: stretch;
  /* Modern browsers */
  display: flex;
  flex-direction: row;
  align-items: stretch;
}
.hbox > * {
  /* Old browsers */
  -webkit-box-flex: 0;
  -moz-box-flex: 0;
  box-flex: 0;
  /* Modern browsers */
  flex: none;
}
.vbox {
  /* Old browsers */
  display: -webkit-box;
  -webkit-box-orient: vertical;
  -webkit-box-align: stretch;
  display: -moz-box;
  -moz-box-orient: vertical;
  -moz-box-align: stretch;
  display: box;
  box-orient: vertical;
  box-align: stretch;
  /* Modern browsers */
  display: flex;
  flex-direction: column;
  align-items: stretch;
}
.vbox > * {
  /* Old browsers */
  -webkit-box-flex: 0;
  -moz-box-flex: 0;
  box-flex: 0;
  /* Modern browsers */
  flex: none;
}
.hbox.reverse,
.vbox.reverse,
.reverse {
  /* Old browsers */
  -webkit-box-direction: reverse;
  -moz-box-direction: reverse;
  box-direction: reverse;
  /* Modern browsers */
  flex-direction: row-reverse;
}
.hbox.box-flex0,
.vbox.box-flex0,
.box-flex0 {
  /* Old browsers */
  -webkit-box-flex: 0;
  -moz-box-flex: 0;
  box-flex: 0;
  /* Modern browsers */
  flex: none;
  width: auto;
}
.hbox.box-flex1,
.vbox.box-flex1,
.box-flex1 {
  /* Old browsers */
  -webkit-box-flex: 1;
  -moz-box-flex: 1;
  box-flex: 1;
  /* Modern browsers */
  flex: 1;
}
.hbox.box-flex,
.vbox.box-flex,
.box-flex {
  /* Old browsers */
  /* Old browsers */
  -webkit-box-flex: 1;
  -moz-box-flex: 1;
  box-flex: 1;
  /* Modern browsers */
  flex: 1;
}
.hbox.box-flex2,
.vbox.box-flex2,
.box-flex2 {
  /* Old browsers */
  -webkit-box-flex: 2;
  -moz-box-flex: 2;
  box-flex: 2;
  /* Modern browsers */
  flex: 2;
}
.box-group1 {
  /*  Deprecated */
  -webkit-box-flex-group: 1;
  -moz-box-flex-group: 1;
  box-flex-group: 1;
}
.box-group2 {
  /* Deprecated */
  -webkit-box-flex-group: 2;
  -moz-box-flex-group: 2;
  box-flex-group: 2;
}
.hbox.start,
.vbox.start,
.start {
  /* Old browsers */
  -webkit-box-pack: start;
  -moz-box-pack: start;
  box-pack: start;
  /* Modern browsers */
  justify-content: flex-start;
}
.hbox.end,
.vbox.end,
.end {
  /* Old browsers */
  -webkit-box-pack: end;
  -moz-box-pack: end;
  box-pack: end;
  /* Modern browsers */
  justify-content: flex-end;
}
.hbox.center,
.vbox.center,
.center {
  /* Old browsers */
  -webkit-box-pack: center;
  -moz-box-pack: center;
  box-pack: center;
  /* Modern browsers */
  justify-content: center;
}
.hbox.baseline,
.vbox.baseline,
.baseline {
  /* Old browsers */
  -webkit-box-pack: baseline;
  -moz-box-pack: baseline;
  box-pack: baseline;
  /* Modern browsers */
  justify-content: baseline;
}
.hbox.stretch,
.vbox.stretch,
.stretch {
  /* Old browsers */
  -webkit-box-pack: stretch;
  -moz-box-pack: stretch;
  box-pack: stretch;
  /* Modern browsers */
  justify-content: stretch;
}
.hbox.align-start,
.vbox.align-start,
.align-start {
  /* Old browsers */
  -webkit-box-align: start;
  -moz-box-align: start;
  box-align: start;
  /* Modern browsers */
  align-items: flex-start;
}
.hbox.align-end,
.vbox.align-end,
.align-end {
  /* Old browsers */
  -webkit-box-align: end;
  -moz-box-align: end;
  box-align: end;
  /* Modern browsers */
  align-items: flex-end;
}
.hbox.align-center,
.vbox.align-center,
.align-center {
  /* Old browsers */
  -webkit-box-align: center;
  -moz-box-align: center;
  box-align: center;
  /* Modern browsers */
  align-items: center;
}
.hbox.align-baseline,
.vbox.align-baseline,
.align-baseline {
  /* Old browsers */
  -webkit-box-align: baseline;
  -moz-box-align: baseline;
  box-align: baseline;
  /* Modern browsers */
  align-items: baseline;
}
.hbox.align-stretch,
.vbox.align-stretch,
.align-stretch {
  /* Old browsers */
  -webkit-box-align: stretch;
  -moz-box-align: stretch;
  box-align: stretch;
  /* Modern browsers */
  align-items: stretch;
}
div.error {
  margin: 2em;
  text-align: center;
}
div.error > h1 {
  font-size: 500%;
  line-height: normal;
}
div.error > p {
  font-size: 200%;
  line-height: normal;
}
div.traceback-wrapper {
  text-align: left;
  max-width: 800px;
  margin: auto;
}
/**
 * Primary styles
 *
 * Author: Jupyter Development Team
 */
body {
  background-color: #fff;
  /* This makes sure that the body covers the entire window and needs to
       be in a different element than the display: box in wrapper below */
  position: absolute;
  left: 0px;
  right: 0px;
  top: 0px;
  bottom: 0px;
  overflow: visible;
}
body > #header {
  /* Initially hidden to prevent FLOUC */
  display: none;
  background-color: #fff;
  /* Display over codemirror */
  position: relative;
  z-index: 100;
}
body > #header #header-container {
  padding-bottom: 5px;
  padding-top: 5px;
  box-sizing: border-box;
  -moz-box-sizing: border-box;
  -webkit-box-sizing: border-box;
}
body > #header .header-bar {
  width: 100%;
  height: 1px;
  background: #e7e7e7;
  margin-bottom: -1px;
}
@media print {
  body > #header {
    display: none !important;
  }
}
#header-spacer {
  width: 100%;
  visibility: hidden;
}
@media print {
  #header-spacer {
    display: none;
  }
}
#ipython_notebook {
  padding-left: 0px;
  padding-top: 1px;
  padding-bottom: 1px;
}
@media (max-width: 991px) {
  #ipython_notebook {
    margin-left: 10px;
  }
}
#noscript {
  width: auto;
  padding-top: 16px;
  padding-bottom: 16px;
  text-align: center;
  font-size: 22px;
  color: red;
  font-weight: bold;
}
#ipython_notebook img {
  height: 28px;
}
#site {
  width: 100%;
  display: none;
  box-sizing: border-box;
  -moz-box-sizing: border-box;
  -webkit-box-sizing: border-box;
  overflow: auto;
}
@media print {
  #site {
    height: auto !important;
  }
}
/* Smaller buttons */
.ui-button .ui-button-text {
  padding: 0.2em 0.8em;
  font-size: 77%;
}
input.ui-button {
  padding: 0.3em 0.9em;
}
span#login_widget {
  float: right;
}
span#login_widget > .button,
#logout {
  color: #333;
  background-color: #fff;
  border-color: #ccc;
}
span#login_widget > .button:focus,
#logout:focus,
span#login_widget > .button.focus,
#logout.focus {
  color: #333;
  background-color: #e6e6e6;
  border-color: #8c8c8c;
}
span#login_widget > .button:hover,
#logout:hover {
  color: #333;
  background-color: #e6e6e6;
  border-color: #adadad;
}
span#login_widget > .button:active,
#logout:active,
span#login_widget > .button.active,
#logout.active,
.open > .dropdown-togglespan#login_widget > .button,
.open > .dropdown-toggle#logout {
  color: #333;
  background-color: #e6e6e6;
  border-color: #adadad;
}
span#login_widget > .button:active:hover,
#logout:active:hover,
span#login_widget > .button.active:hover,
#logout.active:hover,
.open > .dropdown-togglespan#login_widget > .button:hover,
.open > .dropdown-toggle#logout:hover,
span#login_widget > .button:active:focus,
#logout:active:focus,
span#login_widget > .button.active:focus,
#logout.active:focus,
.open > .dropdown-togglespan#login_widget > .button:focus,
.open > .dropdown-toggle#logout:focus,
span#login_widget > .button:active.focus,
#logout:active.focus,
span#login_widget > .button.active.focus,
#logout.active.focus,
.open > .dropdown-togglespan#login_widget > .button.focus,
.open > .dropdown-toggle#logout.focus {
  color: #333;
  background-color: #d4d4d4;
  border-color: #8c8c8c;
}
span#login_widget > .button:active,
#logout:active,
span#login_widget > .button.active,
#logout.active,
.open > .dropdown-togglespan#login_widget > .button,
.open > .dropdown-toggle#logout {
  background-image: none;
}
span#login_widget > .button.disabled:hover,
#logout.disabled:hover,
span#login_widget > .button[disabled]:hover,
#logout[disabled]:hover,
fieldset[disabled] span#login_widget > .button:hover,
fieldset[disabled] #logout:hover,
span#login_widget > .button.disabled:focus,
#logout.disabled:focus,
span#login_widget > .button[disabled]:focus,
#logout[disabled]:focus,
fieldset[disabled] span#login_widget > .button:focus,
fieldset[disabled] #logout:focus,
span#login_widget > .button.disabled.focus,
#logout.disabled.focus,
span#login_widget > .button[disabled].focus,
#logout[disabled].focus,
fieldset[disabled] span#login_widget > .button.focus,
fieldset[disabled] #logout.focus {
  background-color: #fff;
  border-color: #ccc;
}
span#login_widget > .button .badge,
#logout .badge {
  color: #fff;
  background-color: #333;
}
.nav-header {
  text-transform: none;
}
#header > span {
  margin-top: 10px;
}
.modal_stretch .modal-dialog {
  /* Old browsers */
  display: -webkit-box;
  -webkit-box-orient: vertical;
  -webkit-box-align: stretch;
  display: -moz-box;
  -moz-box-orient: vertical;
  -moz-box-align: stretch;
  display: box;
  box-orient: vertical;
  box-align: stretch;
  /* Modern browsers */
  display: flex;
  flex-direction: column;
  align-items: stretch;
  min-height: 80vh;
}
.modal_stretch .modal-dialog .modal-body {
  max-height: calc(100vh - 200px);
  overflow: auto;
  flex: 1;
}
@media (min-width: 768px) {
  .modal .modal-dialog {
    width: 700px;
  }
}
@media (min-width: 768px) {
  select.form-control {
    margin-left: 12px;
    margin-right: 12px;
  }
}
/*!
*
* IPython auth
*
*/
.center-nav {
  display: inline-block;
  margin-bottom: -4px;
}
/*!
*
* IPython tree view
*
*/
/* We need an invisible input field on top of the sentense*/
/* "Drag file onto the list ..." */
.alternate_upload {
  background-color: none;
  display: inline;
}
.alternate_upload.form {
  padding: 0;
  margin: 0;
}
.alternate_upload input.fileinput {
  text-align: center;
  vertical-align: middle;
  display: inline;
  opacity: 0;
  z-index: 2;
  width: 12ex;
  margin-right: -12ex;
}
.alternate_upload .btn-upload {
  height: 22px;
}
/**
 * Primary styles
 *
 * Author: Jupyter Development Team
 */
ul#tabs {
  margin-bottom: 4px;
}
ul#tabs a {
  padding-top: 6px;
  padding-bottom: 4px;
}
ul.breadcrumb a:focus,
ul.breadcrumb a:hover {
  text-decoration: none;
}
ul.breadcrumb i.icon-home {
  font-size: 16px;
  margin-right: 4px;
}
ul.breadcrumb span {
  color: #5e5e5e;
}
.list_toolbar {
  padding: 4px 0 4px 0;
  vertical-align: middle;
}
.list_toolbar .tree-buttons {
  padding-top: 1px;
}
.dynamic-buttons {
  padding-top: 3px;
  display: inline-block;
}
.list_toolbar [class*="span"] {
  min-height: 24px;
}
.list_header {
  font-weight: bold;
  background-color: #EEE;
}
.list_placeholder {
  font-weight: bold;
  padding-top: 4px;
  padding-bottom: 4px;
  padding-left: 7px;
  padding-right: 7px;
}
.list_container {
  margin-top: 4px;
  margin-bottom: 20px;
  border: 1px solid #ddd;
  border-radius: 2px;
}
.list_container > div {
  border-bottom: 1px solid #ddd;
}
.list_container > div:hover .list-item {
  background-color: red;
}
.list_container > div:last-child {
  border: none;
}
.list_item:hover .list_item {
  background-color: #ddd;
}
.list_item a {
  text-decoration: none;
}
.list_item:hover {
  background-color: #fafafa;
}
.list_header > div,
.list_item > div {
  padding-top: 4px;
  padding-bottom: 4px;
  padding-left: 7px;
  padding-right: 7px;
  line-height: 22px;
}
.list_header > div input,
.list_item > div input {
  margin-right: 7px;
  margin-left: 14px;
  vertical-align: baseline;
  line-height: 22px;
  position: relative;
  top: -1px;
}
.list_header > div .item_link,
.list_item > div .item_link {
  margin-left: -1px;
  vertical-align: baseline;
  line-height: 22px;
}
.new-file input[type=checkbox] {
  visibility: hidden;
}
.item_name {
  line-height: 22px;
  height: 24px;
}
.item_icon {
  font-size: 14px;
  color: #5e5e5e;
  margin-right: 7px;
  margin-left: 7px;
  line-height: 22px;
  vertical-align: baseline;
}
.item_buttons {
  line-height: 1em;
  margin-left: -5px;
}
.item_buttons .btn,
.item_buttons .btn-group,
.item_buttons .input-group {
  float: left;
}
.item_buttons > .btn,
.item_buttons > .btn-group,
.item_buttons > .input-group {
  margin-left: 5px;
}
.item_buttons .btn {
  min-width: 13ex;
}
.item_buttons .running-indicator {
  padding-top: 4px;
  color: #5cb85c;
}
.item_buttons .kernel-name {
  padding-top: 4px;
  color: #5bc0de;
  margin-right: 7px;
  float: left;
}
.toolbar_info {
  height: 24px;
  line-height: 24px;
}
.list_item input:not([type=checkbox]) {
  padding-top: 3px;
  padding-bottom: 3px;
  height: 22px;
  line-height: 14px;
  margin: 0px;
}
.highlight_text {
  color: blue;
}
#project_name {
  display: inline-block;
  padding-left: 7px;
  margin-left: -2px;
}
#project_name > .breadcrumb {
  padding: 0px;
  margin-bottom: 0px;
  background-color: transparent;
  font-weight: bold;
}
#tree-selector {
  padding-right: 0px;
}
#button-select-all {
  min-width: 50px;
}
#select-all {
  margin-left: 7px;
  margin-right: 2px;
}
.menu_icon {
  margin-right: 2px;
}
.tab-content .row {
  margin-left: 0px;
  margin-right: 0px;
}
.folder_icon:before {
  display: inline-block;
  font: normal normal normal 14px/1 FontAwesome;
  font-size: inherit;
  text-rendering: auto;
  -webkit-font-smoothing: antialiased;
  -moz-osx-font-smoothing: grayscale;
  content: "\f114";
}
.folder_icon:before.pull-left {
  margin-right: .3em;
}
.folder_icon:before.pull-right {
  margin-left: .3em;
}
.notebook_icon:before {
  display: inline-block;
  font: normal normal normal 14px/1 FontAwesome;
  font-size: inherit;
  text-rendering: auto;
  -webkit-font-smoothing: antialiased;
  -moz-osx-font-smoothing: grayscale;
  content: "\f02d";
  position: relative;
  top: -1px;
}
.notebook_icon:before.pull-left {
  margin-right: .3em;
}
.notebook_icon:before.pull-right {
  margin-left: .3em;
}
.running_notebook_icon:before {
  display: inline-block;
  font: normal normal normal 14px/1 FontAwesome;
  font-size: inherit;
  text-rendering: auto;
  -webkit-font-smoothing: antialiased;
  -moz-osx-font-smoothing: grayscale;
  content: "\f02d";
  position: relative;
  top: -1px;
  color: #5cb85c;
}
.running_notebook_icon:before.pull-left {
  margin-right: .3em;
}
.running_notebook_icon:before.pull-right {
  margin-left: .3em;
}
.file_icon:before {
  display: inline-block;
  font: normal normal normal 14px/1 FontAwesome;
  font-size: inherit;
  text-rendering: auto;
  -webkit-font-smoothing: antialiased;
  -moz-osx-font-smoothing: grayscale;
  content: "\f016";
  position: relative;
  top: -2px;
}
.file_icon:before.pull-left {
  margin-right: .3em;
}
.file_icon:before.pull-right {
  margin-left: .3em;
}
#notebook_toolbar .pull-right {
  padding-top: 0px;
  margin-right: -1px;
}
ul#new-menu {
  left: auto;
  right: 0;
}
.kernel-menu-icon {
  padding-right: 12px;
  width: 24px;
  content: "\f096";
}
.kernel-menu-icon:before {
  content: "\f096";
}
.kernel-menu-icon-current:before {
  content: "\f00c";
}
#tab_content {
  padding-top: 20px;
}
#running .panel-group .panel {
  margin-top: 3px;
  margin-bottom: 1em;
}
#running .panel-group .panel .panel-heading {
  background-color: #EEE;
  padding-top: 4px;
  padding-bottom: 4px;
  padding-left: 7px;
  padding-right: 7px;
  line-height: 22px;
}
#running .panel-group .panel .panel-heading a:focus,
#running .panel-group .panel .panel-heading a:hover {
  text-decoration: none;
}
#running .panel-group .panel .panel-body {
  padding: 0px;
}
#running .panel-group .panel .panel-body .list_container {
  margin-top: 0px;
  margin-bottom: 0px;
  border: 0px;
  border-radius: 0px;
}
#running .panel-group .panel .panel-body .list_container .list_item {
  border-bottom: 1px solid #ddd;
}
#running .panel-group .panel .panel-body .list_container .list_item:last-child {
  border-bottom: 0px;
}
.delete-button {
  display: none;
}
.duplicate-button {
  display: none;
}
.rename-button {
  display: none;
}
.shutdown-button {
  display: none;
}
.dynamic-instructions {
  display: inline-block;
  padding-top: 4px;
}
/*!
*
* IPython text editor webapp
*
*/
.selected-keymap i.fa {
  padding: 0px 5px;
}
.selected-keymap i.fa:before {
  content: "\f00c";
}
#mode-menu {
  overflow: auto;
  max-height: 20em;
}
.edit_app #header {
  -webkit-box-shadow: 0px 0px 12px 1px rgba(87, 87, 87, 0.2);
  box-shadow: 0px 0px 12px 1px rgba(87, 87, 87, 0.2);
}
.edit_app #menubar .navbar {
  /* Use a negative 1 bottom margin, so the border overlaps the border of the
    header */
  margin-bottom: -1px;
}
.dirty-indicator {
  display: inline-block;
  font: normal normal normal 14px/1 FontAwesome;
  font-size: inherit;
  text-rendering: auto;
  -webkit-font-smoothing: antialiased;
  -moz-osx-font-smoothing: grayscale;
  width: 20px;
}
.dirty-indicator.pull-left {
  margin-right: .3em;
}
.dirty-indicator.pull-right {
  margin-left: .3em;
}
.dirty-indicator-dirty {
  display: inline-block;
  font: normal normal normal 14px/1 FontAwesome;
  font-size: inherit;
  text-rendering: auto;
  -webkit-font-smoothing: antialiased;
  -moz-osx-font-smoothing: grayscale;
  width: 20px;
}
.dirty-indicator-dirty.pull-left {
  margin-right: .3em;
}
.dirty-indicator-dirty.pull-right {
  margin-left: .3em;
}
.dirty-indicator-clean {
  display: inline-block;
  font: normal normal normal 14px/1 FontAwesome;
  font-size: inherit;
  text-rendering: auto;
  -webkit-font-smoothing: antialiased;
  -moz-osx-font-smoothing: grayscale;
  width: 20px;
}
.dirty-indicator-clean.pull-left {
  margin-right: .3em;
}
.dirty-indicator-clean.pull-right {
  margin-left: .3em;
}
.dirty-indicator-clean:before {
  display: inline-block;
  font: normal normal normal 14px/1 FontAwesome;
  font-size: inherit;
  text-rendering: auto;
  -webkit-font-smoothing: antialiased;
  -moz-osx-font-smoothing: grayscale;
  content: "\f00c";
}
.dirty-indicator-clean:before.pull-left {
  margin-right: .3em;
}
.dirty-indicator-clean:before.pull-right {
  margin-left: .3em;
}
#filename {
  font-size: 16pt;
  display: table;
  padding: 0px 5px;
}
#current-mode {
  padding-left: 5px;
  padding-right: 5px;
}
#texteditor-backdrop {
  padding-top: 20px;
  padding-bottom: 20px;
}
@media not print {
  #texteditor-backdrop {
    background-color: #EEE;
  }
}
@media print {
  #texteditor-backdrop #texteditor-container .CodeMirror-gutter,
  #texteditor-backdrop #texteditor-container .CodeMirror-gutters {
    background-color: #fff;
  }
}
@media not print {
  #texteditor-backdrop #texteditor-container .CodeMirror-gutter,
  #texteditor-backdrop #texteditor-container .CodeMirror-gutters {
    background-color: #fff;
  }
}
@media not print {
  #texteditor-backdrop #texteditor-container {
    padding: 0px;
    background-color: #fff;
    -webkit-box-shadow: 0px 0px 12px 1px rgba(87, 87, 87, 0.2);
    box-shadow: 0px 0px 12px 1px rgba(87, 87, 87, 0.2);
  }
}
/*!
*
* IPython notebook
*
*/
/* CSS font colors for translated ANSI colors. */
.ansibold {
  font-weight: bold;
}
/* use dark versions for foreground, to improve visibility */
.ansiblack {
  color: black;
}
.ansired {
  color: darkred;
}
.ansigreen {
  color: darkgreen;
}
.ansiyellow {
  color: #c4a000;
}
.ansiblue {
  color: darkblue;
}
.ansipurple {
  color: darkviolet;
}
.ansicyan {
  color: steelblue;
}
.ansigray {
  color: gray;
}
/* and light for background, for the same reason */
.ansibgblack {
  background-color: black;
}
.ansibgred {
  background-color: red;
}
.ansibggreen {
  background-color: green;
}
.ansibgyellow {
  background-color: yellow;
}
.ansibgblue {
  background-color: blue;
}
.ansibgpurple {
  background-color: magenta;
}
.ansibgcyan {
  background-color: cyan;
}
.ansibggray {
  background-color: gray;
}
div.cell {
  /* Old browsers */
  display: -webkit-box;
  -webkit-box-orient: vertical;
  -webkit-box-align: stretch;
  display: -moz-box;
  -moz-box-orient: vertical;
  -moz-box-align: stretch;
  display: box;
  box-orient: vertical;
  box-align: stretch;
  /* Modern browsers */
  display: flex;
  flex-direction: column;
  align-items: stretch;
  border-radius: 2px;
  box-sizing: border-box;
  -moz-box-sizing: border-box;
  -webkit-box-sizing: border-box;
  border-width: 1px;
  border-style: solid;
  border-color: transparent;
  width: 100%;
  padding: 5px;
  /* This acts as a spacer between cells, that is outside the border */
  margin: 0px;
  outline: none;
  border-left-width: 1px;
  padding-left: 5px;
  background: linear-gradient(to right, transparent -40px, transparent 1px, transparent 1px, transparent 100%);
}
div.cell.jupyter-soft-selected {
  border-left-color: #90CAF9;
  border-left-color: #E3F2FD;
  border-left-width: 1px;
  padding-left: 5px;
  border-right-color: #E3F2FD;
  border-right-width: 1px;
  background: #E3F2FD;
}
@media print {
  div.cell.jupyter-soft-selected {
    border-color: transparent;
  }
}
div.cell.selected {
  border-color: #ababab;
  border-left-width: 0px;
  padding-left: 6px;
  background: linear-gradient(to right, #42A5F5 -40px, #42A5F5 5px, transparent 5px, transparent 100%);
}
@media print {
  div.cell.selected {
    border-color: transparent;
  }
}
div.cell.selected.jupyter-soft-selected {
  border-left-width: 0;
  padding-left: 6px;
  background: linear-gradient(to right, #42A5F5 -40px, #42A5F5 7px, #E3F2FD 7px, #E3F2FD 100%);
}
.edit_mode div.cell.selected {
  border-color: #66BB6A;
  border-left-width: 0px;
  padding-left: 6px;
  background: linear-gradient(to right, #66BB6A -40px, #66BB6A 5px, transparent 5px, transparent 100%);
}
@media print {
  .edit_mode div.cell.selected {
    border-color: transparent;
  }
}
.prompt {
  /* This needs to be wide enough for 3 digit prompt numbers: In[100]: */
  min-width: 14ex;
  /* This padding is tuned to match the padding on the CodeMirror editor. */
  padding: 0.4em;
  margin: 0px;
  font-family: monospace;
  text-align: right;
  /* This has to match that of the the CodeMirror class line-height below */
  line-height: 1.21429em;
  /* Don't highlight prompt number selection */
  -webkit-touch-callout: none;
  -webkit-user-select: none;
  -khtml-user-select: none;
  -moz-user-select: none;
  -ms-user-select: none;
  user-select: none;
  /* Use default cursor */
  cursor: default;
}
@media (max-width: 540px) {
  .prompt {
    text-align: left;
  }
}
div.inner_cell {
  /* Old browsers */
  display: -webkit-box;
  -webkit-box-orient: vertical;
  -webkit-box-align: stretch;
  display: -moz-box;
  -moz-box-orient: vertical;
  -moz-box-align: stretch;
  display: box;
  box-orient: vertical;
  box-align: stretch;
  /* Modern browsers */
  display: flex;
  flex-direction: column;
  align-items: stretch;
  /* Old browsers */
  -webkit-box-flex: 1;
  -moz-box-flex: 1;
  box-flex: 1;
  /* Modern browsers */
  flex: 1;
}
@-moz-document url-prefix() {
  div.inner_cell {
    overflow-x: hidden;
  }
}
/* input_area and input_prompt must match in top border and margin for alignment */
div.input_area {
  border: 1px solid #cfcfcf;
  border-radius: 2px;
  background: #f7f7f7;
  line-height: 1.21429em;
}
/* This is needed so that empty prompt areas can collapse to zero height when there
   is no content in the output_subarea and the prompt. The main purpose of this is
   to make sure that empty JavaScript output_subareas have no height. */
div.prompt:empty {
  padding-top: 0;
  padding-bottom: 0;
}
div.unrecognized_cell {
  padding: 5px 5px 5px 0px;
  /* Old browsers */
  display: -webkit-box;
  -webkit-box-orient: horizontal;
  -webkit-box-align: stretch;
  display: -moz-box;
  -moz-box-orient: horizontal;
  -moz-box-align: stretch;
  display: box;
  box-orient: horizontal;
  box-align: stretch;
  /* Modern browsers */
  display: flex;
  flex-direction: row;
  align-items: stretch;
}
div.unrecognized_cell .inner_cell {
  border-radius: 2px;
  padding: 5px;
  font-weight: bold;
  color: red;
  border: 1px solid #cfcfcf;
  background: #eaeaea;
}
div.unrecognized_cell .inner_cell a {
  color: inherit;
  text-decoration: none;
}
div.unrecognized_cell .inner_cell a:hover {
  color: inherit;
  text-decoration: none;
}
@media (max-width: 540px) {
  div.unrecognized_cell > div.prompt {
    display: none;
  }
}
div.code_cell {
  /* avoid page breaking on code cells when printing */
}
@media print {
  div.code_cell {
    page-break-inside: avoid;
  }
}
/* any special styling for code cells that are currently running goes here */
div.input {
  page-break-inside: avoid;
  /* Old browsers */
  display: -webkit-box;
  -webkit-box-orient: horizontal;
  -webkit-box-align: stretch;
  display: -moz-box;
  -moz-box-orient: horizontal;
  -moz-box-align: stretch;
  display: box;
  box-orient: horizontal;
  box-align: stretch;
  /* Modern browsers */
  display: flex;
  flex-direction: row;
  align-items: stretch;
}
@media (max-width: 540px) {
  div.input {
    /* Old browsers */
    display: -webkit-box;
    -webkit-box-orient: vertical;
    -webkit-box-align: stretch;
    display: -moz-box;
    -moz-box-orient: vertical;
    -moz-box-align: stretch;
    display: box;
    box-orient: vertical;
    box-align: stretch;
    /* Modern browsers */
    display: flex;
    flex-direction: column;
    align-items: stretch;
  }
}
/* input_area and input_prompt must match in top border and margin for alignment */
div.input_prompt {
  color: #303F9F;
  border-top: 1px solid transparent;
}
div.input_area > div.highlight {
  margin: 0.4em;
  border: none;
  padding: 0px;
  background-color: transparent;
}
div.input_area > div.highlight > pre {
  margin: 0px;
  border: none;
  padding: 0px;
  background-color: transparent;
}
/* The following gets added to the <head> if it is detected that the user has a
 * monospace font with inconsistent normal/bold/italic height.  See
 * notebookmain.js.  Such fonts will have keywords vertically offset with
 * respect to the rest of the text.  The user should select a better font.
 * See: https://github.com/ipython/ipython/issues/1503
 *
 * .CodeMirror span {
 *      vertical-align: bottom;
 * }
 */
.CodeMirror {
  line-height: 1.21429em;
  /* Changed from 1em to our global default */
  font-size: 14px;
  height: auto;
  /* Changed to auto to autogrow */
  background: none;
  /* Changed from white to allow our bg to show through */
}
.CodeMirror-scroll {
  /*  The CodeMirror docs are a bit fuzzy on if overflow-y should be hidden or visible.*/
  /*  We have found that if it is visible, vertical scrollbars appear with font size changes.*/
  overflow-y: hidden;
  overflow-x: auto;
}
.CodeMirror-lines {
  /* In CM2, this used to be 0.4em, but in CM3 it went to 4px. We need the em value because */
  /* we have set a different line-height and want this to scale with that. */
  padding: 0.4em;
}
.CodeMirror-linenumber {
  padding: 0 8px 0 4px;
}
.CodeMirror-gutters {
  border-bottom-left-radius: 2px;
  border-top-left-radius: 2px;
}
.CodeMirror pre {
  /* In CM3 this went to 4px from 0 in CM2. We need the 0 value because of how we size */
  /* .CodeMirror-lines */
  padding: 0;
  border: 0;
  border-radius: 0;
}
/*

Original style from softwaremaniacs.org (c) Ivan Sagalaev <Maniac@SoftwareManiacs.Org>
Adapted from GitHub theme

*/
.highlight-base {
  color: #000;
}
.highlight-variable {
  color: #000;
}
.highlight-variable-2 {
  color: #1a1a1a;
}
.highlight-variable-3 {
  color: #333333;
}
.highlight-string {
  color: #BA2121;
}
.highlight-comment {
  color: #408080;
  font-style: italic;
}
.highlight-number {
  color: #080;
}
.highlight-atom {
  color: #88F;
}
.highlight-keyword {
  color: #008000;
  font-weight: bold;
}
.highlight-builtin {
  color: #008000;
}
.highlight-error {
  color: #f00;
}
.highlight-operator {
  color: #AA22FF;
  font-weight: bold;
}
.highlight-meta {
  color: #AA22FF;
}
/* previously not defined, copying from default codemirror */
.highlight-def {
  color: #00f;
}
.highlight-string-2 {
  color: #f50;
}
.highlight-qualifier {
  color: #555;
}
.highlight-bracket {
  color: #997;
}
.highlight-tag {
  color: #170;
}
.highlight-attribute {
  color: #00c;
}
.highlight-header {
  color: blue;
}
.highlight-quote {
  color: #090;
}
.highlight-link {
  color: #00c;
}
/* apply the same style to codemirror */
.cm-s-ipython span.cm-keyword {
  color: #008000;
  font-weight: bold;
}
.cm-s-ipython span.cm-atom {
  color: #88F;
}
.cm-s-ipython span.cm-number {
  color: #080;
}
.cm-s-ipython span.cm-def {
  color: #00f;
}
.cm-s-ipython span.cm-variable {
  color: #000;
}
.cm-s-ipython span.cm-operator {
  color: #AA22FF;
  font-weight: bold;
}
.cm-s-ipython span.cm-variable-2 {
  color: #1a1a1a;
}
.cm-s-ipython span.cm-variable-3 {
  color: #333333;
}
.cm-s-ipython span.cm-comment {
  color: #408080;
  font-style: italic;
}
.cm-s-ipython span.cm-string {
  color: #BA2121;
}
.cm-s-ipython span.cm-string-2 {
  color: #f50;
}
.cm-s-ipython span.cm-meta {
  color: #AA22FF;
}
.cm-s-ipython span.cm-qualifier {
  color: #555;
}
.cm-s-ipython span.cm-builtin {
  color: #008000;
}
.cm-s-ipython span.cm-bracket {
  color: #997;
}
.cm-s-ipython span.cm-tag {
  color: #170;
}
.cm-s-ipython span.cm-attribute {
  color: #00c;
}
.cm-s-ipython span.cm-header {
  color: blue;
}
.cm-s-ipython span.cm-quote {
  color: #090;
}
.cm-s-ipython span.cm-link {
  color: #00c;
}
.cm-s-ipython span.cm-error {
  color: #f00;
}
.cm-s-ipython span.cm-tab {
  background: url(data:image/png;base64,iVBORw0KGgoAAAANSUhEUgAAADAAAAAMCAYAAAAkuj5RAAAAAXNSR0IArs4c6QAAAGFJREFUSMft1LsRQFAQheHPowAKoACx3IgEKtaEHujDjORSgWTH/ZOdnZOcM/sgk/kFFWY0qV8foQwS4MKBCS3qR6ixBJvElOobYAtivseIE120FaowJPN75GMu8j/LfMwNjh4HUpwg4LUAAAAASUVORK5CYII=);
  background-position: right;
  background-repeat: no-repeat;
}
div.output_wrapper {
  /* this position must be relative to enable descendents to be absolute within it */
  position: relative;
  /* Old browsers */
  display: -webkit-box;
  -webkit-box-orient: vertical;
  -webkit-box-align: stretch;
  display: -moz-box;
  -moz-box-orient: vertical;
  -moz-box-align: stretch;
  display: box;
  box-orient: vertical;
  box-align: stretch;
  /* Modern browsers */
  display: flex;
  flex-direction: column;
  align-items: stretch;
  z-index: 1;
}
/* class for the output area when it should be height-limited */
div.output_scroll {
  /* ideally, this would be max-height, but FF barfs all over that */
  height: 24em;
  /* FF needs this *and the wrapper* to specify full width, or it will shrinkwrap */
  width: 100%;
  overflow: auto;
  border-radius: 2px;
  -webkit-box-shadow: inset 0 2px 8px rgba(0, 0, 0, 0.8);
  box-shadow: inset 0 2px 8px rgba(0, 0, 0, 0.8);
  display: block;
}
/* output div while it is collapsed */
div.output_collapsed {
  margin: 0px;
  padding: 0px;
  /* Old browsers */
  display: -webkit-box;
  -webkit-box-orient: vertical;
  -webkit-box-align: stretch;
  display: -moz-box;
  -moz-box-orient: vertical;
  -moz-box-align: stretch;
  display: box;
  box-orient: vertical;
  box-align: stretch;
  /* Modern browsers */
  display: flex;
  flex-direction: column;
  align-items: stretch;
}
div.out_prompt_overlay {
  height: 100%;
  padding: 0px 0.4em;
  position: absolute;
  border-radius: 2px;
}
div.out_prompt_overlay:hover {
  /* use inner shadow to get border that is computed the same on WebKit/FF */
  -webkit-box-shadow: inset 0 0 1px #000;
  box-shadow: inset 0 0 1px #000;
  background: rgba(240, 240, 240, 0.5);
}
div.output_prompt {
  color: #D84315;
}
/* This class is the outer container of all output sections. */
div.output_area {
  padding: 0px;
  page-break-inside: avoid;
  /* Old browsers */
  display: -webkit-box;
  -webkit-box-orient: horizontal;
  -webkit-box-align: stretch;
  display: -moz-box;
  -moz-box-orient: horizontal;
  -moz-box-align: stretch;
  display: box;
  box-orient: horizontal;
  box-align: stretch;
  /* Modern browsers */
  display: flex;
  flex-direction: row;
  align-items: stretch;
}
div.output_area .MathJax_Display {
  text-align: left !important;
}
div.output_area .rendered_html table {
  margin-left: 0;
  margin-right: 0;
}
div.output_area .rendered_html img {
  margin-left: 0;
  margin-right: 0;
}
div.output_area img,
div.output_area svg {
  max-width: 100%;
  height: auto;
}
div.output_area img.unconfined,
div.output_area svg.unconfined {
  max-width: none;
}
/* This is needed to protect the pre formating from global settings such
   as that of bootstrap */
.output {
  /* Old browsers */
  display: -webkit-box;
  -webkit-box-orient: vertical;
  -webkit-box-align: stretch;
  display: -moz-box;
  -moz-box-orient: vertical;
  -moz-box-align: stretch;
  display: box;
  box-orient: vertical;
  box-align: stretch;
  /* Modern browsers */
  display: flex;
  flex-direction: column;
  align-items: stretch;
}
@media (max-width: 540px) {
  div.output_area {
    /* Old browsers */
    display: -webkit-box;
    -webkit-box-orient: vertical;
    -webkit-box-align: stretch;
    display: -moz-box;
    -moz-box-orient: vertical;
    -moz-box-align: stretch;
    display: box;
    box-orient: vertical;
    box-align: stretch;
    /* Modern browsers */
    display: flex;
    flex-direction: column;
    align-items: stretch;
  }
}
div.output_area pre {
  margin: 0;
  padding: 0;
  border: 0;
  vertical-align: baseline;
  color: black;
  background-color: transparent;
  border-radius: 0;
}
/* This class is for the output subarea inside the output_area and after
   the prompt div. */
div.output_subarea {
  overflow-x: auto;
  padding: 0.4em;
  /* Old browsers */
  -webkit-box-flex: 1;
  -moz-box-flex: 1;
  box-flex: 1;
  /* Modern browsers */
  flex: 1;
  max-width: calc(100% - 14ex);
}
div.output_scroll div.output_subarea {
  overflow-x: visible;
}
/* The rest of the output_* classes are for special styling of the different
   output types */
/* all text output has this class: */
div.output_text {
  text-align: left;
  color: #000;
  /* This has to match that of the the CodeMirror class line-height below */
  line-height: 1.21429em;
}
/* stdout/stderr are 'text' as well as 'stream', but execute_result/error are *not* streams */
div.output_stderr {
  background: #fdd;
  /* very light red background for stderr */
}
div.output_latex {
  text-align: left;
}
/* Empty output_javascript divs should have no height */
div.output_javascript:empty {
  padding: 0;
}
.js-error {
  color: darkred;
}
/* raw_input styles */
div.raw_input_container {
  line-height: 1.21429em;
  padding-top: 5px;
}
pre.raw_input_prompt {
  /* nothing needed here. */
}
input.raw_input {
  font-family: monospace;
  font-size: inherit;
  color: inherit;
  width: auto;
  /* make sure input baseline aligns with prompt */
  vertical-align: baseline;
  /* padding + margin = 0.5em between prompt and cursor */
  padding: 0em 0.25em;
  margin: 0em 0.25em;
}
input.raw_input:focus {
  box-shadow: none;
}
p.p-space {
  margin-bottom: 10px;
}
div.output_unrecognized {
  padding: 5px;
  font-weight: bold;
  color: red;
}
div.output_unrecognized a {
  color: inherit;
  text-decoration: none;
}
div.output_unrecognized a:hover {
  color: inherit;
  text-decoration: none;
}
.rendered_html {
  color: #000;
  /* any extras will just be numbers: */
}
.rendered_html em {
  font-style: italic;
}
.rendered_html strong {
  font-weight: bold;
}
.rendered_html u {
  text-decoration: underline;
}
.rendered_html :link {
  text-decoration: underline;
}
.rendered_html :visited {
  text-decoration: underline;
}
.rendered_html h1 {
  font-size: 185.7%;
  margin: 1.08em 0 0 0;
  font-weight: bold;
  line-height: 1.0;
}
.rendered_html h2 {
  font-size: 157.1%;
  margin: 1.27em 0 0 0;
  font-weight: bold;
  line-height: 1.0;
}
.rendered_html h3 {
  font-size: 128.6%;
  margin: 1.55em 0 0 0;
  font-weight: bold;
  line-height: 1.0;
}
.rendered_html h4 {
  font-size: 100%;
  margin: 2em 0 0 0;
  font-weight: bold;
  line-height: 1.0;
}
.rendered_html h5 {
  font-size: 100%;
  margin: 2em 0 0 0;
  font-weight: bold;
  line-height: 1.0;
  font-style: italic;
}
.rendered_html h6 {
  font-size: 100%;
  margin: 2em 0 0 0;
  font-weight: bold;
  line-height: 1.0;
  font-style: italic;
}
.rendered_html h1:first-child {
  margin-top: 0.538em;
}
.rendered_html h2:first-child {
  margin-top: 0.636em;
}
.rendered_html h3:first-child {
  margin-top: 0.777em;
}
.rendered_html h4:first-child {
  margin-top: 1em;
}
.rendered_html h5:first-child {
  margin-top: 1em;
}
.rendered_html h6:first-child {
  margin-top: 1em;
}
.rendered_html ul {
  list-style: disc;
  margin: 0em 2em;
  padding-left: 0px;
}
.rendered_html ul ul {
  list-style: square;
  margin: 0em 2em;
}
.rendered_html ul ul ul {
  list-style: circle;
  margin: 0em 2em;
}
.rendered_html ol {
  list-style: decimal;
  margin: 0em 2em;
  padding-left: 0px;
}
.rendered_html ol ol {
  list-style: upper-alpha;
  margin: 0em 2em;
}
.rendered_html ol ol ol {
  list-style: lower-alpha;
  margin: 0em 2em;
}
.rendered_html ol ol ol ol {
  list-style: lower-roman;
  margin: 0em 2em;
}
.rendered_html ol ol ol ol ol {
  list-style: decimal;
  margin: 0em 2em;
}
.rendered_html * + ul {
  margin-top: 1em;
}
.rendered_html * + ol {
  margin-top: 1em;
}
.rendered_html hr {
  color: black;
  background-color: black;
}
.rendered_html pre {
  margin: 1em 2em;
}
.rendered_html pre,
.rendered_html code {
  border: 0;
  background-color: #fff;
  color: #000;
  font-size: 100%;
  padding: 0px;
}
.rendered_html blockquote {
  margin: 1em 2em;
}
.rendered_html table {
  margin-left: auto;
  margin-right: auto;
  border: 1px solid black;
  border-collapse: collapse;
}
.rendered_html tr,
.rendered_html th,
.rendered_html td {
  border: 1px solid black;
  border-collapse: collapse;
  margin: 1em 2em;
}
.rendered_html td,
.rendered_html th {
  text-align: left;
  vertical-align: middle;
  padding: 4px;
}
.rendered_html th {
  font-weight: bold;
}
.rendered_html * + table {
  margin-top: 1em;
}
.rendered_html p {
  text-align: left;
}
.rendered_html * + p {
  margin-top: 1em;
}
.rendered_html img {
  display: block;
  margin-left: auto;
  margin-right: auto;
}
.rendered_html * + img {
  margin-top: 1em;
}
.rendered_html img,
.rendered_html svg {
  max-width: 100%;
  height: auto;
}
.rendered_html img.unconfined,
.rendered_html svg.unconfined {
  max-width: none;
}
div.text_cell {
  /* Old browsers */
  display: -webkit-box;
  -webkit-box-orient: horizontal;
  -webkit-box-align: stretch;
  display: -moz-box;
  -moz-box-orient: horizontal;
  -moz-box-align: stretch;
  display: box;
  box-orient: horizontal;
  box-align: stretch;
  /* Modern browsers */
  display: flex;
  flex-direction: row;
  align-items: stretch;
}
@media (max-width: 540px) {
  div.text_cell > div.prompt {
    display: none;
  }
}
div.text_cell_render {
  /*font-family: "Helvetica Neue", Arial, Helvetica, Geneva, sans-serif;*/
  outline: none;
  resize: none;
  width: inherit;
  border-style: none;
  padding: 0.5em 0.5em 0.5em 0.4em;
  color: #000;
  box-sizing: border-box;
  -moz-box-sizing: border-box;
  -webkit-box-sizing: border-box;
}
a.anchor-link:link {
  text-decoration: none;
  padding: 0px 20px;
  visibility: hidden;
}
h1:hover .anchor-link,
h2:hover .anchor-link,
h3:hover .anchor-link,
h4:hover .anchor-link,
h5:hover .anchor-link,
h6:hover .anchor-link {
  visibility: visible;
}
.text_cell.rendered .input_area {
  display: none;
}
.text_cell.rendered .rendered_html {
  overflow-x: auto;
  overflow-y: hidden;
}
.text_cell.unrendered .text_cell_render {
  display: none;
}
.cm-header-1,
.cm-header-2,
.cm-header-3,
.cm-header-4,
.cm-header-5,
.cm-header-6 {
  font-weight: bold;
  font-family: "Helvetica Neue", Helvetica, Arial, sans-serif;
}
.cm-header-1 {
  font-size: 185.7%;
}
.cm-header-2 {
  font-size: 157.1%;
}
.cm-header-3 {
  font-size: 128.6%;
}
.cm-header-4 {
  font-size: 110%;
}
.cm-header-5 {
  font-size: 100%;
  font-style: italic;
}
.cm-header-6 {
  font-size: 100%;
  font-style: italic;
}
/*!
*
* IPython notebook webapp
*
*/
@media (max-width: 767px) {
  .notebook_app {
    padding-left: 0px;
    padding-right: 0px;
  }
}
#ipython-main-app {
  box-sizing: border-box;
  -moz-box-sizing: border-box;
  -webkit-box-sizing: border-box;
  height: 100%;
}
div#notebook_panel {
  margin: 0px;
  padding: 0px;
  box-sizing: border-box;
  -moz-box-sizing: border-box;
  -webkit-box-sizing: border-box;
  height: 100%;
}
div#notebook {
  font-size: 14px;
  line-height: 20px;
  overflow-y: hidden;
  overflow-x: auto;
  width: 100%;
  /* This spaces the page away from the edge of the notebook area */
  padding-top: 20px;
  margin: 0px;
  outline: none;
  box-sizing: border-box;
  -moz-box-sizing: border-box;
  -webkit-box-sizing: border-box;
  min-height: 100%;
}
@media not print {
  #notebook-container {
    padding: 15px;
    background-color: #fff;
    min-height: 0;
    -webkit-box-shadow: 0px 0px 12px 1px rgba(87, 87, 87, 0.2);
    box-shadow: 0px 0px 12px 1px rgba(87, 87, 87, 0.2);
  }
}
@media print {
  #notebook-container {
    width: 100%;
  }
}
div.ui-widget-content {
  border: 1px solid #ababab;
  outline: none;
}
pre.dialog {
  background-color: #f7f7f7;
  border: 1px solid #ddd;
  border-radius: 2px;
  padding: 0.4em;
  padding-left: 2em;
}
p.dialog {
  padding: 0.2em;
}
/* Word-wrap output correctly.  This is the CSS3 spelling, though Firefox seems
   to not honor it correctly.  Webkit browsers (Chrome, rekonq, Safari) do.
 */
pre,
code,
kbd,
samp {
  white-space: pre-wrap;
}
#fonttest {
  font-family: monospace;
}
p {
  margin-bottom: 0;
}
.end_space {
  min-height: 100px;
  transition: height .2s ease;
}
.notebook_app > #header {
  -webkit-box-shadow: 0px 0px 12px 1px rgba(87, 87, 87, 0.2);
  box-shadow: 0px 0px 12px 1px rgba(87, 87, 87, 0.2);
}
@media not print {
  .notebook_app {
    background-color: #EEE;
  }
}
kbd {
  border-style: solid;
  border-width: 1px;
  box-shadow: none;
  margin: 2px;
  padding-left: 2px;
  padding-right: 2px;
  padding-top: 1px;
  padding-bottom: 1px;
}
/* CSS for the cell toolbar */
.celltoolbar {
  border: thin solid #CFCFCF;
  border-bottom: none;
  background: #EEE;
  border-radius: 2px 2px 0px 0px;
  width: 100%;
  height: 29px;
  padding-right: 4px;
  /* Old browsers */
  display: -webkit-box;
  -webkit-box-orient: horizontal;
  -webkit-box-align: stretch;
  display: -moz-box;
  -moz-box-orient: horizontal;
  -moz-box-align: stretch;
  display: box;
  box-orient: horizontal;
  box-align: stretch;
  /* Modern browsers */
  display: flex;
  flex-direction: row;
  align-items: stretch;
  /* Old browsers */
  -webkit-box-pack: end;
  -moz-box-pack: end;
  box-pack: end;
  /* Modern browsers */
  justify-content: flex-end;
  display: -webkit-flex;
}
@media print {
  .celltoolbar {
    display: none;
  }
}
.ctb_hideshow {
  display: none;
  vertical-align: bottom;
}
/* ctb_show is added to the ctb_hideshow div to show the cell toolbar.
   Cell toolbars are only shown when the ctb_global_show class is also set.
*/
.ctb_global_show .ctb_show.ctb_hideshow {
  display: block;
}
.ctb_global_show .ctb_show + .input_area,
.ctb_global_show .ctb_show + div.text_cell_input,
.ctb_global_show .ctb_show ~ div.text_cell_render {
  border-top-right-radius: 0px;
  border-top-left-radius: 0px;
}
.ctb_global_show .ctb_show ~ div.text_cell_render {
  border: 1px solid #cfcfcf;
}
.celltoolbar {
  font-size: 87%;
  padding-top: 3px;
}
.celltoolbar select {
  display: block;
  width: 100%;
  height: 32px;
  padding: 6px 12px;
  font-size: 13px;
  line-height: 1.42857143;
  color: #555555;
  background-color: #fff;
  background-image: none;
  border: 1px solid #ccc;
  border-radius: 2px;
  -webkit-box-shadow: inset 0 1px 1px rgba(0, 0, 0, 0.075);
  box-shadow: inset 0 1px 1px rgba(0, 0, 0, 0.075);
  -webkit-transition: border-color ease-in-out .15s, box-shadow ease-in-out .15s;
  -o-transition: border-color ease-in-out .15s, box-shadow ease-in-out .15s;
  transition: border-color ease-in-out .15s, box-shadow ease-in-out .15s;
  height: 30px;
  padding: 5px 10px;
  font-size: 12px;
  line-height: 1.5;
  border-radius: 1px;
  width: inherit;
  font-size: inherit;
  height: 22px;
  padding: 0px;
  display: inline-block;
}
.celltoolbar select:focus {
  border-color: #66afe9;
  outline: 0;
  -webkit-box-shadow: inset 0 1px 1px rgba(0,0,0,.075), 0 0 8px rgba(102, 175, 233, 0.6);
  box-shadow: inset 0 1px 1px rgba(0,0,0,.075), 0 0 8px rgba(102, 175, 233, 0.6);
}
.celltoolbar select::-moz-placeholder {
  color: #999;
  opacity: 1;
}
.celltoolbar select:-ms-input-placeholder {
  color: #999;
}
.celltoolbar select::-webkit-input-placeholder {
  color: #999;
}
.celltoolbar select::-ms-expand {
  border: 0;
  background-color: transparent;
}
.celltoolbar select[disabled],
.celltoolbar select[readonly],
fieldset[disabled] .celltoolbar select {
  background-color: #eeeeee;
  opacity: 1;
}
.celltoolbar select[disabled],
fieldset[disabled] .celltoolbar select {
  cursor: not-allowed;
}
textarea.celltoolbar select {
  height: auto;
}
select.celltoolbar select {
  height: 30px;
  line-height: 30px;
}
textarea.celltoolbar select,
select[multiple].celltoolbar select {
  height: auto;
}
.celltoolbar label {
  margin-left: 5px;
  margin-right: 5px;
}
.completions {
  position: absolute;
  z-index: 110;
  overflow: hidden;
  border: 1px solid #ababab;
  border-radius: 2px;
  -webkit-box-shadow: 0px 6px 10px -1px #adadad;
  box-shadow: 0px 6px 10px -1px #adadad;
  line-height: 1;
}
.completions select {
  background: white;
  outline: none;
  border: none;
  padding: 0px;
  margin: 0px;
  overflow: auto;
  font-family: monospace;
  font-size: 110%;
  color: #000;
  width: auto;
}
.completions select option.context {
  color: #286090;
}
#kernel_logo_widget {
  float: right !important;
  float: right;
}
#kernel_logo_widget .current_kernel_logo {
  display: none;
  margin-top: -1px;
  margin-bottom: -1px;
  width: 32px;
  height: 32px;
}
#menubar {
  box-sizing: border-box;
  -moz-box-sizing: border-box;
  -webkit-box-sizing: border-box;
  margin-top: 1px;
}
#menubar .navbar {
  border-top: 1px;
  border-radius: 0px 0px 2px 2px;
  margin-bottom: 0px;
}
#menubar .navbar-toggle {
  float: left;
  padding-top: 7px;
  padding-bottom: 7px;
  border: none;
}
#menubar .navbar-collapse {
  clear: left;
}
.nav-wrapper {
  border-bottom: 1px solid #e7e7e7;
}
i.menu-icon {
  padding-top: 4px;
}
ul#help_menu li a {
  overflow: hidden;
  padding-right: 2.2em;
}
ul#help_menu li a i {
  margin-right: -1.2em;
}
.dropdown-submenu {
  position: relative;
}
.dropdown-submenu > .dropdown-menu {
  top: 0;
  left: 100%;
  margin-top: -6px;
  margin-left: -1px;
}
.dropdown-submenu:hover > .dropdown-menu {
  display: block;
}
.dropdown-submenu > a:after {
  display: inline-block;
  font: normal normal normal 14px/1 FontAwesome;
  font-size: inherit;
  text-rendering: auto;
  -webkit-font-smoothing: antialiased;
  -moz-osx-font-smoothing: grayscale;
  display: block;
  content: "\f0da";
  float: right;
  color: #333333;
  margin-top: 2px;
  margin-right: -10px;
}
.dropdown-submenu > a:after.pull-left {
  margin-right: .3em;
}
.dropdown-submenu > a:after.pull-right {
  margin-left: .3em;
}
.dropdown-submenu:hover > a:after {
  color: #262626;
}
.dropdown-submenu.pull-left {
  float: none;
}
.dropdown-submenu.pull-left > .dropdown-menu {
  left: -100%;
  margin-left: 10px;
}
#notification_area {
  float: right !important;
  float: right;
  z-index: 10;
}
.indicator_area {
  float: right !important;
  float: right;
  color: #777;
  margin-left: 5px;
  margin-right: 5px;
  width: 11px;
  z-index: 10;
  text-align: center;
  width: auto;
}
#kernel_indicator {
  float: right !important;
  float: right;
  color: #777;
  margin-left: 5px;
  margin-right: 5px;
  width: 11px;
  z-index: 10;
  text-align: center;
  width: auto;
  border-left: 1px solid;
}
#kernel_indicator .kernel_indicator_name {
  padding-left: 5px;
  padding-right: 5px;
}
#modal_indicator {
  float: right !important;
  float: right;
  color: #777;
  margin-left: 5px;
  margin-right: 5px;
  width: 11px;
  z-index: 10;
  text-align: center;
  width: auto;
}
#readonly-indicator {
  float: right !important;
  float: right;
  color: #777;
  margin-left: 5px;
  margin-right: 5px;
  width: 11px;
  z-index: 10;
  text-align: center;
  width: auto;
  margin-top: 2px;
  margin-bottom: 0px;
  margin-left: 0px;
  margin-right: 0px;
  display: none;
}
.modal_indicator:before {
  width: 1.28571429em;
  text-align: center;
}
.edit_mode .modal_indicator:before {
  display: inline-block;
  font: normal normal normal 14px/1 FontAwesome;
  font-size: inherit;
  text-rendering: auto;
  -webkit-font-smoothing: antialiased;
  -moz-osx-font-smoothing: grayscale;
  content: "\f040";
}
.edit_mode .modal_indicator:before.pull-left {
  margin-right: .3em;
}
.edit_mode .modal_indicator:before.pull-right {
  margin-left: .3em;
}
.command_mode .modal_indicator:before {
  display: inline-block;
  font: normal normal normal 14px/1 FontAwesome;
  font-size: inherit;
  text-rendering: auto;
  -webkit-font-smoothing: antialiased;
  -moz-osx-font-smoothing: grayscale;
  content: ' ';
}
.command_mode .modal_indicator:before.pull-left {
  margin-right: .3em;
}
.command_mode .modal_indicator:before.pull-right {
  margin-left: .3em;
}
.kernel_idle_icon:before {
  display: inline-block;
  font: normal normal normal 14px/1 FontAwesome;
  font-size: inherit;
  text-rendering: auto;
  -webkit-font-smoothing: antialiased;
  -moz-osx-font-smoothing: grayscale;
  content: "\f10c";
}
.kernel_idle_icon:before.pull-left {
  margin-right: .3em;
}
.kernel_idle_icon:before.pull-right {
  margin-left: .3em;
}
.kernel_busy_icon:before {
  display: inline-block;
  font: normal normal normal 14px/1 FontAwesome;
  font-size: inherit;
  text-rendering: auto;
  -webkit-font-smoothing: antialiased;
  -moz-osx-font-smoothing: grayscale;
  content: "\f111";
}
.kernel_busy_icon:before.pull-left {
  margin-right: .3em;
}
.kernel_busy_icon:before.pull-right {
  margin-left: .3em;
}
.kernel_dead_icon:before {
  display: inline-block;
  font: normal normal normal 14px/1 FontAwesome;
  font-size: inherit;
  text-rendering: auto;
  -webkit-font-smoothing: antialiased;
  -moz-osx-font-smoothing: grayscale;
  content: "\f1e2";
}
.kernel_dead_icon:before.pull-left {
  margin-right: .3em;
}
.kernel_dead_icon:before.pull-right {
  margin-left: .3em;
}
.kernel_disconnected_icon:before {
  display: inline-block;
  font: normal normal normal 14px/1 FontAwesome;
  font-size: inherit;
  text-rendering: auto;
  -webkit-font-smoothing: antialiased;
  -moz-osx-font-smoothing: grayscale;
  content: "\f127";
}
.kernel_disconnected_icon:before.pull-left {
  margin-right: .3em;
}
.kernel_disconnected_icon:before.pull-right {
  margin-left: .3em;
}
.notification_widget {
  color: #777;
  z-index: 10;
  background: rgba(240, 240, 240, 0.5);
  margin-right: 4px;
  color: #333;
  background-color: #fff;
  border-color: #ccc;
}
.notification_widget:focus,
.notification_widget.focus {
  color: #333;
  background-color: #e6e6e6;
  border-color: #8c8c8c;
}
.notification_widget:hover {
  color: #333;
  background-color: #e6e6e6;
  border-color: #adadad;
}
.notification_widget:active,
.notification_widget.active,
.open > .dropdown-toggle.notification_widget {
  color: #333;
  background-color: #e6e6e6;
  border-color: #adadad;
}
.notification_widget:active:hover,
.notification_widget.active:hover,
.open > .dropdown-toggle.notification_widget:hover,
.notification_widget:active:focus,
.notification_widget.active:focus,
.open > .dropdown-toggle.notification_widget:focus,
.notification_widget:active.focus,
.notification_widget.active.focus,
.open > .dropdown-toggle.notification_widget.focus {
  color: #333;
  background-color: #d4d4d4;
  border-color: #8c8c8c;
}
.notification_widget:active,
.notification_widget.active,
.open > .dropdown-toggle.notification_widget {
  background-image: none;
}
.notification_widget.disabled:hover,
.notification_widget[disabled]:hover,
fieldset[disabled] .notification_widget:hover,
.notification_widget.disabled:focus,
.notification_widget[disabled]:focus,
fieldset[disabled] .notification_widget:focus,
.notification_widget.disabled.focus,
.notification_widget[disabled].focus,
fieldset[disabled] .notification_widget.focus {
  background-color: #fff;
  border-color: #ccc;
}
.notification_widget .badge {
  color: #fff;
  background-color: #333;
}
.notification_widget.warning {
  color: #fff;
  background-color: #f0ad4e;
  border-color: #eea236;
}
.notification_widget.warning:focus,
.notification_widget.warning.focus {
  color: #fff;
  background-color: #ec971f;
  border-color: #985f0d;
}
.notification_widget.warning:hover {
  color: #fff;
  background-color: #ec971f;
  border-color: #d58512;
}
.notification_widget.warning:active,
.notification_widget.warning.active,
.open > .dropdown-toggle.notification_widget.warning {
  color: #fff;
  background-color: #ec971f;
  border-color: #d58512;
}
.notification_widget.warning:active:hover,
.notification_widget.warning.active:hover,
.open > .dropdown-toggle.notification_widget.warning:hover,
.notification_widget.warning:active:focus,
.notification_widget.warning.active:focus,
.open > .dropdown-toggle.notification_widget.warning:focus,
.notification_widget.warning:active.focus,
.notification_widget.warning.active.focus,
.open > .dropdown-toggle.notification_widget.warning.focus {
  color: #fff;
  background-color: #d58512;
  border-color: #985f0d;
}
.notification_widget.warning:active,
.notification_widget.warning.active,
.open > .dropdown-toggle.notification_widget.warning {
  background-image: none;
}
.notification_widget.warning.disabled:hover,
.notification_widget.warning[disabled]:hover,
fieldset[disabled] .notification_widget.warning:hover,
.notification_widget.warning.disabled:focus,
.notification_widget.warning[disabled]:focus,
fieldset[disabled] .notification_widget.warning:focus,
.notification_widget.warning.disabled.focus,
.notification_widget.warning[disabled].focus,
fieldset[disabled] .notification_widget.warning.focus {
  background-color: #f0ad4e;
  border-color: #eea236;
}
.notification_widget.warning .badge {
  color: #f0ad4e;
  background-color: #fff;
}
.notification_widget.success {
  color: #fff;
  background-color: #5cb85c;
  border-color: #4cae4c;
}
.notification_widget.success:focus,
.notification_widget.success.focus {
  color: #fff;
  background-color: #449d44;
  border-color: #255625;
}
.notification_widget.success:hover {
  color: #fff;
  background-color: #449d44;
  border-color: #398439;
}
.notification_widget.success:active,
.notification_widget.success.active,
.open > .dropdown-toggle.notification_widget.success {
  color: #fff;
  background-color: #449d44;
  border-color: #398439;
}
.notification_widget.success:active:hover,
.notification_widget.success.active:hover,
.open > .dropdown-toggle.notification_widget.success:hover,
.notification_widget.success:active:focus,
.notification_widget.success.active:focus,
.open > .dropdown-toggle.notification_widget.success:focus,
.notification_widget.success:active.focus,
.notification_widget.success.active.focus,
.open > .dropdown-toggle.notification_widget.success.focus {
  color: #fff;
  background-color: #398439;
  border-color: #255625;
}
.notification_widget.success:active,
.notification_widget.success.active,
.open > .dropdown-toggle.notification_widget.success {
  background-image: none;
}
.notification_widget.success.disabled:hover,
.notification_widget.success[disabled]:hover,
fieldset[disabled] .notification_widget.success:hover,
.notification_widget.success.disabled:focus,
.notification_widget.success[disabled]:focus,
fieldset[disabled] .notification_widget.success:focus,
.notification_widget.success.disabled.focus,
.notification_widget.success[disabled].focus,
fieldset[disabled] .notification_widget.success.focus {
  background-color: #5cb85c;
  border-color: #4cae4c;
}
.notification_widget.success .badge {
  color: #5cb85c;
  background-color: #fff;
}
.notification_widget.info {
  color: #fff;
  background-color: #5bc0de;
  border-color: #46b8da;
}
.notification_widget.info:focus,
.notification_widget.info.focus {
  color: #fff;
  background-color: #31b0d5;
  border-color: #1b6d85;
}
.notification_widget.info:hover {
  color: #fff;
  background-color: #31b0d5;
  border-color: #269abc;
}
.notification_widget.info:active,
.notification_widget.info.active,
.open > .dropdown-toggle.notification_widget.info {
  color: #fff;
  background-color: #31b0d5;
  border-color: #269abc;
}
.notification_widget.info:active:hover,
.notification_widget.info.active:hover,
.open > .dropdown-toggle.notification_widget.info:hover,
.notification_widget.info:active:focus,
.notification_widget.info.active:focus,
.open > .dropdown-toggle.notification_widget.info:focus,
.notification_widget.info:active.focus,
.notification_widget.info.active.focus,
.open > .dropdown-toggle.notification_widget.info.focus {
  color: #fff;
  background-color: #269abc;
  border-color: #1b6d85;
}
.notification_widget.info:active,
.notification_widget.info.active,
.open > .dropdown-toggle.notification_widget.info {
  background-image: none;
}
.notification_widget.info.disabled:hover,
.notification_widget.info[disabled]:hover,
fieldset[disabled] .notification_widget.info:hover,
.notification_widget.info.disabled:focus,
.notification_widget.info[disabled]:focus,
fieldset[disabled] .notification_widget.info:focus,
.notification_widget.info.disabled.focus,
.notification_widget.info[disabled].focus,
fieldset[disabled] .notification_widget.info.focus {
  background-color: #5bc0de;
  border-color: #46b8da;
}
.notification_widget.info .badge {
  color: #5bc0de;
  background-color: #fff;
}
.notification_widget.danger {
  color: #fff;
  background-color: #d9534f;
  border-color: #d43f3a;
}
.notification_widget.danger:focus,
.notification_widget.danger.focus {
  color: #fff;
  background-color: #c9302c;
  border-color: #761c19;
}
.notification_widget.danger:hover {
  color: #fff;
  background-color: #c9302c;
  border-color: #ac2925;
}
.notification_widget.danger:active,
.notification_widget.danger.active,
.open > .dropdown-toggle.notification_widget.danger {
  color: #fff;
  background-color: #c9302c;
  border-color: #ac2925;
}
.notification_widget.danger:active:hover,
.notification_widget.danger.active:hover,
.open > .dropdown-toggle.notification_widget.danger:hover,
.notification_widget.danger:active:focus,
.notification_widget.danger.active:focus,
.open > .dropdown-toggle.notification_widget.danger:focus,
.notification_widget.danger:active.focus,
.notification_widget.danger.active.focus,
.open > .dropdown-toggle.notification_widget.danger.focus {
  color: #fff;
  background-color: #ac2925;
  border-color: #761c19;
}
.notification_widget.danger:active,
.notification_widget.danger.active,
.open > .dropdown-toggle.notification_widget.danger {
  background-image: none;
}
.notification_widget.danger.disabled:hover,
.notification_widget.danger[disabled]:hover,
fieldset[disabled] .notification_widget.danger:hover,
.notification_widget.danger.disabled:focus,
.notification_widget.danger[disabled]:focus,
fieldset[disabled] .notification_widget.danger:focus,
.notification_widget.danger.disabled.focus,
.notification_widget.danger[disabled].focus,
fieldset[disabled] .notification_widget.danger.focus {
  background-color: #d9534f;
  border-color: #d43f3a;
}
.notification_widget.danger .badge {
  color: #d9534f;
  background-color: #fff;
}
div#pager {
  background-color: #fff;
  font-size: 14px;
  line-height: 20px;
  overflow: hidden;
  display: none;
  position: fixed;
  bottom: 0px;
  width: 100%;
  max-height: 50%;
  padding-top: 8px;
  -webkit-box-shadow: 0px 0px 12px 1px rgba(87, 87, 87, 0.2);
  box-shadow: 0px 0px 12px 1px rgba(87, 87, 87, 0.2);
  /* Display over codemirror */
  z-index: 100;
  /* Hack which prevents jquery ui resizable from changing top. */
  top: auto !important;
}
div#pager pre {
  line-height: 1.21429em;
  color: #000;
  background-color: #f7f7f7;
  padding: 0.4em;
}
div#pager #pager-button-area {
  position: absolute;
  top: 8px;
  right: 20px;
}
div#pager #pager-contents {
  position: relative;
  overflow: auto;
  width: 100%;
  height: 100%;
}
div#pager #pager-contents #pager-container {
  position: relative;
  padding: 15px 0px;
  box-sizing: border-box;
  -moz-box-sizing: border-box;
  -webkit-box-sizing: border-box;
}
div#pager .ui-resizable-handle {
  top: 0px;
  height: 8px;
  background: #f7f7f7;
  border-top: 1px solid #cfcfcf;
  border-bottom: 1px solid #cfcfcf;
  /* This injects handle bars (a short, wide = symbol) for 
        the resize handle. */
}
div#pager .ui-resizable-handle::after {
  content: '';
  top: 2px;
  left: 50%;
  height: 3px;
  width: 30px;
  margin-left: -15px;
  position: absolute;
  border-top: 1px solid #cfcfcf;
}
.quickhelp {
  /* Old browsers */
  display: -webkit-box;
  -webkit-box-orient: horizontal;
  -webkit-box-align: stretch;
  display: -moz-box;
  -moz-box-orient: horizontal;
  -moz-box-align: stretch;
  display: box;
  box-orient: horizontal;
  box-align: stretch;
  /* Modern browsers */
  display: flex;
  flex-direction: row;
  align-items: stretch;
  line-height: 1.8em;
}
.shortcut_key {
  display: inline-block;
  width: 20ex;
  text-align: right;
  font-family: monospace;
}
.shortcut_descr {
  display: inline-block;
  /* Old browsers */
  -webkit-box-flex: 1;
  -moz-box-flex: 1;
  box-flex: 1;
  /* Modern browsers */
  flex: 1;
}
span.save_widget {
  margin-top: 6px;
}
span.save_widget span.filename {
  height: 1em;
  line-height: 1em;
  padding: 3px;
  margin-left: 16px;
  border: none;
  font-size: 146.5%;
  border-radius: 2px;
}
span.save_widget span.filename:hover {
  background-color: #e6e6e6;
}
span.checkpoint_status,
span.autosave_status {
  font-size: small;
}
@media (max-width: 767px) {
  span.save_widget {
    font-size: small;
  }
  span.checkpoint_status,
  span.autosave_status {
    display: none;
  }
}
@media (min-width: 768px) and (max-width: 991px) {
  span.checkpoint_status {
    display: none;
  }
  span.autosave_status {
    font-size: x-small;
  }
}
.toolbar {
  padding: 0px;
  margin-left: -5px;
  margin-top: 2px;
  margin-bottom: 5px;
  box-sizing: border-box;
  -moz-box-sizing: border-box;
  -webkit-box-sizing: border-box;
}
.toolbar select,
.toolbar label {
  width: auto;
  vertical-align: middle;
  margin-right: 2px;
  margin-bottom: 0px;
  display: inline;
  font-size: 92%;
  margin-left: 0.3em;
  margin-right: 0.3em;
  padding: 0px;
  padding-top: 3px;
}
.toolbar .btn {
  padding: 2px 8px;
}
.toolbar .btn-group {
  margin-top: 0px;
  margin-left: 5px;
}
#maintoolbar {
  margin-bottom: -3px;
  margin-top: -8px;
  border: 0px;
  min-height: 27px;
  margin-left: 0px;
  padding-top: 11px;
  padding-bottom: 3px;
}
#maintoolbar .navbar-text {
  float: none;
  vertical-align: middle;
  text-align: right;
  margin-left: 5px;
  margin-right: 0px;
  margin-top: 0px;
}
.select-xs {
  height: 24px;
}
.pulse,
.dropdown-menu > li > a.pulse,
li.pulse > a.dropdown-toggle,
li.pulse.open > a.dropdown-toggle {
  background-color: #F37626;
  color: white;
}
/**
 * Primary styles
 *
 * Author: Jupyter Development Team
 */
/** WARNING IF YOU ARE EDITTING THIS FILE, if this is a .css file, It has a lot
 * of chance of beeing generated from the ../less/[samename].less file, you can
 * try to get back the less file by reverting somme commit in history
 **/
/*
 * We'll try to get something pretty, so we
 * have some strange css to have the scroll bar on
 * the left with fix button on the top right of the tooltip
 */
@-moz-keyframes fadeOut {
  from {
    opacity: 1;
  }
  to {
    opacity: 0;
  }
}
@-webkit-keyframes fadeOut {
  from {
    opacity: 1;
  }
  to {
    opacity: 0;
  }
}
@-moz-keyframes fadeIn {
  from {
    opacity: 0;
  }
  to {
    opacity: 1;
  }
}
@-webkit-keyframes fadeIn {
  from {
    opacity: 0;
  }
  to {
    opacity: 1;
  }
}
/*properties of tooltip after "expand"*/
.bigtooltip {
  overflow: auto;
  height: 200px;
  -webkit-transition-property: height;
  -webkit-transition-duration: 500ms;
  -moz-transition-property: height;
  -moz-transition-duration: 500ms;
  transition-property: height;
  transition-duration: 500ms;
}
/*properties of tooltip before "expand"*/
.smalltooltip {
  -webkit-transition-property: height;
  -webkit-transition-duration: 500ms;
  -moz-transition-property: height;
  -moz-transition-duration: 500ms;
  transition-property: height;
  transition-duration: 500ms;
  text-overflow: ellipsis;
  overflow: hidden;
  height: 80px;
}
.tooltipbuttons {
  position: absolute;
  padding-right: 15px;
  top: 0px;
  right: 0px;
}
.tooltiptext {
  /*avoid the button to overlap on some docstring*/
  padding-right: 30px;
}
.ipython_tooltip {
  max-width: 700px;
  /*fade-in animation when inserted*/
  -webkit-animation: fadeOut 400ms;
  -moz-animation: fadeOut 400ms;
  animation: fadeOut 400ms;
  -webkit-animation: fadeIn 400ms;
  -moz-animation: fadeIn 400ms;
  animation: fadeIn 400ms;
  vertical-align: middle;
  background-color: #f7f7f7;
  overflow: visible;
  border: #ababab 1px solid;
  outline: none;
  padding: 3px;
  margin: 0px;
  padding-left: 7px;
  font-family: monospace;
  min-height: 50px;
  -moz-box-shadow: 0px 6px 10px -1px #adadad;
  -webkit-box-shadow: 0px 6px 10px -1px #adadad;
  box-shadow: 0px 6px 10px -1px #adadad;
  border-radius: 2px;
  position: absolute;
  z-index: 1000;
}
.ipython_tooltip a {
  float: right;
}
.ipython_tooltip .tooltiptext pre {
  border: 0;
  border-radius: 0;
  font-size: 100%;
  background-color: #f7f7f7;
}
.pretooltiparrow {
  left: 0px;
  margin: 0px;
  top: -16px;
  width: 40px;
  height: 16px;
  overflow: hidden;
  position: absolute;
}
.pretooltiparrow:before {
  background-color: #f7f7f7;
  border: 1px #ababab solid;
  z-index: 11;
  content: "";
  position: absolute;
  left: 15px;
  top: 10px;
  width: 25px;
  height: 25px;
  -webkit-transform: rotate(45deg);
  -moz-transform: rotate(45deg);
  -ms-transform: rotate(45deg);
  -o-transform: rotate(45deg);
}
ul.typeahead-list i {
  margin-left: -10px;
  width: 18px;
}
ul.typeahead-list {
  max-height: 80vh;
  overflow: auto;
}
ul.typeahead-list > li > a {
  /** Firefox bug **/
  /* see https://github.com/jupyter/notebook/issues/559 */
  white-space: normal;
}
.cmd-palette .modal-body {
  padding: 7px;
}
.cmd-palette form {
  background: white;
}
.cmd-palette input {
  outline: none;
}
.no-shortcut {
  display: none;
}
.command-shortcut:before {
  content: "(command)";
  padding-right: 3px;
  color: #777777;
}
.edit-shortcut:before {
  content: "(edit)";
  padding-right: 3px;
  color: #777777;
}
#find-and-replace #replace-preview .match,
#find-and-replace #replace-preview .insert {
  background-color: #BBDEFB;
  border-color: #90CAF9;
  border-style: solid;
  border-width: 1px;
  border-radius: 0px;
}
#find-and-replace #replace-preview .replace .match {
  background-color: #FFCDD2;
  border-color: #EF9A9A;
  border-radius: 0px;
}
#find-and-replace #replace-preview .replace .insert {
  background-color: #C8E6C9;
  border-color: #A5D6A7;
  border-radius: 0px;
}
#find-and-replace #replace-preview {
  max-height: 60vh;
  overflow: auto;
}
#find-and-replace #replace-preview pre {
  padding: 5px 10px;
}
.terminal-app {
  background: #EEE;
}
.terminal-app #header {
  background: #fff;
  -webkit-box-shadow: 0px 0px 12px 1px rgba(87, 87, 87, 0.2);
  box-shadow: 0px 0px 12px 1px rgba(87, 87, 87, 0.2);
}
.terminal-app .terminal {
  float: left;
  font-family: monospace;
  color: white;
  background: black;
  padding: 0.4em;
  border-radius: 2px;
  -webkit-box-shadow: 0px 0px 12px 1px rgba(87, 87, 87, 0.4);
  box-shadow: 0px 0px 12px 1px rgba(87, 87, 87, 0.4);
}
.terminal-app .terminal,
.terminal-app .terminal dummy-screen {
  line-height: 1em;
  font-size: 14px;
}
.terminal-app .terminal-cursor {
  color: black;
  background: white;
}
.terminal-app #terminado-container {
  margin-top: 20px;
}
/*# sourceMappingURL=style.min.css.map */
    </style>
<style type="text/css">
    .highlight .hll { background-color: #ffffcc }
.highlight  { background: #f8f8f8; }
.highlight .c { color: #408080; font-style: italic } /* Comment */
.highlight .err { border: 1px solid #FF0000 } /* Error */
.highlight .k { color: #008000; font-weight: bold } /* Keyword */
.highlight .o { color: #666666 } /* Operator */
.highlight .ch { color: #408080; font-style: italic } /* Comment.Hashbang */
.highlight .cm { color: #408080; font-style: italic } /* Comment.Multiline */
.highlight .cp { color: #BC7A00 } /* Comment.Preproc */
.highlight .cpf { color: #408080; font-style: italic } /* Comment.PreprocFile */
.highlight .c1 { color: #408080; font-style: italic } /* Comment.Single */
.highlight .cs { color: #408080; font-style: italic } /* Comment.Special */
.highlight .gd { color: #A00000 } /* Generic.Deleted */
.highlight .ge { font-style: italic } /* Generic.Emph */
.highlight .gr { color: #FF0000 } /* Generic.Error */
.highlight .gh { color: #000080; font-weight: bold } /* Generic.Heading */
.highlight .gi { color: #00A000 } /* Generic.Inserted */
.highlight .go { color: #888888 } /* Generic.Output */
.highlight .gp { color: #000080; font-weight: bold } /* Generic.Prompt */
.highlight .gs { font-weight: bold } /* Generic.Strong */
.highlight .gu { color: #800080; font-weight: bold } /* Generic.Subheading */
.highlight .gt { color: #0044DD } /* Generic.Traceback */
.highlight .kc { color: #008000; font-weight: bold } /* Keyword.Constant */
.highlight .kd { color: #008000; font-weight: bold } /* Keyword.Declaration */
.highlight .kn { color: #008000; font-weight: bold } /* Keyword.Namespace */
.highlight .kp { color: #008000 } /* Keyword.Pseudo */
.highlight .kr { color: #008000; font-weight: bold } /* Keyword.Reserved */
.highlight .kt { color: #B00040 } /* Keyword.Type */
.highlight .m { color: #666666 } /* Literal.Number */
.highlight .s { color: #BA2121 } /* Literal.String */
.highlight .na { color: #7D9029 } /* Name.Attribute */
.highlight .nb { color: #008000 } /* Name.Builtin */
.highlight .nc { color: #0000FF; font-weight: bold } /* Name.Class */
.highlight .no { color: #880000 } /* Name.Constant */
.highlight .nd { color: #AA22FF } /* Name.Decorator */
.highlight .ni { color: #999999; font-weight: bold } /* Name.Entity */
.highlight .ne { color: #D2413A; font-weight: bold } /* Name.Exception */
.highlight .nf { color: #0000FF } /* Name.Function */
.highlight .nl { color: #A0A000 } /* Name.Label */
.highlight .nn { color: #0000FF; font-weight: bold } /* Name.Namespace */
.highlight .nt { color: #008000; font-weight: bold } /* Name.Tag */
.highlight .nv { color: #19177C } /* Name.Variable */
.highlight .ow { color: #AA22FF; font-weight: bold } /* Operator.Word */
.highlight .w { color: #bbbbbb } /* Text.Whitespace */
.highlight .mb { color: #666666 } /* Literal.Number.Bin */
.highlight .mf { color: #666666 } /* Literal.Number.Float */
.highlight .mh { color: #666666 } /* Literal.Number.Hex */
.highlight .mi { color: #666666 } /* Literal.Number.Integer */
.highlight .mo { color: #666666 } /* Literal.Number.Oct */
.highlight .sb { color: #BA2121 } /* Literal.String.Backtick */
.highlight .sc { color: #BA2121 } /* Literal.String.Char */
.highlight .sd { color: #BA2121; font-style: italic } /* Literal.String.Doc */
.highlight .s2 { color: #BA2121 } /* Literal.String.Double */
.highlight .se { color: #BB6622; font-weight: bold } /* Literal.String.Escape */
.highlight .sh { color: #BA2121 } /* Literal.String.Heredoc */
.highlight .si { color: #BB6688; font-weight: bold } /* Literal.String.Interpol */
.highlight .sx { color: #008000 } /* Literal.String.Other */
.highlight .sr { color: #BB6688 } /* Literal.String.Regex */
.highlight .s1 { color: #BA2121 } /* Literal.String.Single */
.highlight .ss { color: #19177C } /* Literal.String.Symbol */
.highlight .bp { color: #008000 } /* Name.Builtin.Pseudo */
.highlight .vc { color: #19177C } /* Name.Variable.Class */
.highlight .vg { color: #19177C } /* Name.Variable.Global */
.highlight .vi { color: #19177C } /* Name.Variable.Instance */
.highlight .il { color: #666666 } /* Literal.Number.Integer.Long */
    </style>
<style type="text/css">
    
/* Temporary definitions which will become obsolete with Notebook release 5.0 */
.ansi-black-fg { color: #3E424D; }
.ansi-black-bg { background-color: #3E424D; }
.ansi-black-intense-fg { color: #282C36; }
.ansi-black-intense-bg { background-color: #282C36; }
.ansi-red-fg { color: #E75C58; }
.ansi-red-bg { background-color: #E75C58; }
.ansi-red-intense-fg { color: #B22B31; }
.ansi-red-intense-bg { background-color: #B22B31; }
.ansi-green-fg { color: #00A250; }
.ansi-green-bg { background-color: #00A250; }
.ansi-green-intense-fg { color: #007427; }
.ansi-green-intense-bg { background-color: #007427; }
.ansi-yellow-fg { color: #DDB62B; }
.ansi-yellow-bg { background-color: #DDB62B; }
.ansi-yellow-intense-fg { color: #B27D12; }
.ansi-yellow-intense-bg { background-color: #B27D12; }
.ansi-blue-fg { color: #208FFB; }
.ansi-blue-bg { background-color: #208FFB; }
.ansi-blue-intense-fg { color: #0065CA; }
.ansi-blue-intense-bg { background-color: #0065CA; }
.ansi-magenta-fg { color: #D160C4; }
.ansi-magenta-bg { background-color: #D160C4; }
.ansi-magenta-intense-fg { color: #A03196; }
.ansi-magenta-intense-bg { background-color: #A03196; }
.ansi-cyan-fg { color: #60C6C8; }
.ansi-cyan-bg { background-color: #60C6C8; }
.ansi-cyan-intense-fg { color: #258F8F; }
.ansi-cyan-intense-bg { background-color: #258F8F; }
.ansi-white-fg { color: #C5C1B4; }
.ansi-white-bg { background-color: #C5C1B4; }
.ansi-white-intense-fg { color: #A1A6B2; }
.ansi-white-intense-bg { background-color: #A1A6B2; }

.ansi-bold { font-weight: bold; }

    </style>
<style type="text/css">
    .highlight .hll {
  background-color: #ffffcc;
}
.highlight .c {
  color: #999988;
  font-style: italic;
}
/* Comment */
.highlight .err {
  color: #a61717;
  background-color: #e3d2d2;
}
/* Error */
.highlight .k {
  color: #000000;
  font-weight: bold;
}
/* Keyword */
.highlight .o {
  color: #000000;
  font-weight: bold;
}
/* Operator */
.highlight .cm {
  color: #999988;
  font-style: italic;
}
/* Comment.Multiline */
.highlight .cp {
  color: #999999;
  font-weight: bold;
  font-style: italic;
}
/* Comment.Preproc */
.highlight .c1 {
  color: #999988;
  font-style: italic;
}
/* Comment.Single */
.highlight .cs {
  color: #999999;
  font-weight: bold;
  font-style: italic;
}
/* Comment.Special */
.highlight .gd {
  color: #000000;
  background-color: #ffdddd;
}
/* Generic.Deleted */
.highlight .ge {
  color: #000000;
  font-style: italic;
}
/* Generic.Emph */
.highlight .gr {
  color: #aa0000;
}
/* Generic.Error */
.highlight .gh {
  color: #999999;
}
/* Generic.Heading */
.highlight .gi {
  color: #000000;
  background-color: #ddffdd;
}
/* Generic.Inserted */
.highlight .go {
  color: #888888;
}
/* Generic.Output */
.highlight .gp {
  color: #555555;
}
/* Generic.Prompt */
.highlight .gs {
  font-weight: bold;
}
/* Generic.Strong */
.highlight .gu {
  color: #aaaaaa;
}
/* Generic.Subheading */
.highlight .gt {
  color: #aa0000;
}
/* Generic.Traceback */
.highlight .kc {
  color: #000000;
  font-weight: bold;
}
/* Keyword.Constant */
.highlight .kd {
  color: #000000;
  font-weight: bold;
}
/* Keyword.Declaration */
.highlight .kn {
  color: #000000;
  font-weight: bold;
}
/* Keyword.Namespace */
.highlight .kp {
  color: #000000;
  font-weight: bold;
}
/* Keyword.Pseudo */
.highlight .kr {
  color: #000000;
  font-weight: bold;
}
/* Keyword.Reserved */
.highlight .kt {
  color: #445588;
  font-weight: bold;
}
/* Keyword.Type */
.highlight .m {
  color: #009999;
}
/* Literal.Number */
.highlight .s {
  color: #d01040;
}
/* Literal.String */
.highlight .na {
  color: #008080;
}
/* Name.Attribute */
.highlight .nb {
  color: #0086b3;
}
/* Name.Builtin */
.highlight .nc {
  color: #445588;
  font-weight: bold;
}
/* Name.Class */
.highlight .no {
  color: #008080;
}
/* Name.Constant */
.highlight .nd {
  color: #3c5d5d;
  font-weight: bold;
}
/* Name.Decorator */
.highlight .ni {
  color: #800080;
}
/* Name.Entity */
.highlight .ne {
  color: #990000;
  font-weight: bold;
}
/* Name.Exception */
.highlight .nf {
  color: #990000;
  font-weight: bold;
}
/* Name.Function */
.highlight .nl {
  color: #990000;
  font-weight: bold;
}
/* Name.Label */
.highlight .nn {
  color: black;
  font-weight: normal;
}
/* Name.Namespace */
.highlight .nt {
  color: #000080;
}
/* Name.Tag */
.highlight .nv {
  color: #008080;
}
/* Name.Variable */
.highlight .ow {
  color: #000000;
  font-weight: bold;
}
/* Operator.Word */
.highlight .w {
  color: #bbbbbb;
}
/* Text.Whitespace */
.highlight .mf {
  color: #009999;
}
/* Literal.Number.Float */
.highlight .mh {
  color: #009999;
}
/* Literal.Number.Hex */
.highlight .mi {
  color: #009999;
}
/* Literal.Number.Integer */
.highlight .mo {
  color: #009999;
}
/* Literal.Number.Oct */
.highlight .sb {
  color: #d01040;
}
/* Literal.String.Backtick */
.highlight .sc {
  color: #d01040;
}
/* Literal.String.Char */
.highlight .sd {
  color: #d01040;
}
/* Literal.String.Doc */
.highlight .s2 {
  color: #d01040;
}
/* Literal.String.Double */
.highlight .se {
  color: #d01040;
}
/* Literal.String.Escape */
.highlight .sh {
  color: #d01040;
}
/* Literal.String.Heredoc */
.highlight .si {
  color: #d01040;
}
/* Literal.String.Interpol */
.highlight .sx {
  color: #d01040;
}
/* Literal.String.Other */
.highlight .sr {
  color: #009926;
}
/* Literal.String.Regex */
.highlight .s1 {
  color: #d01040;
}
/* Literal.String.Single */
.highlight .ss {
  color: #990073;
}
/* Literal.String.Symbol */
.highlight .bp {
  color: #999999;
}
/* Name.Builtin.Pseudo */
.highlight .vc {
  color: #008080;
}
/* Name.Variable.Class */
.highlight .vg {
  color: #008080;
}
/* Name.Variable.Global */
.highlight .vi {
  color: #008080;
}
/* Name.Variable.Instance */
.highlight .il {
  color: #009999;
}
/* Literal.Number.Integer.Long */
div#maintoolbar {
  display: none !important;
}
body {
  font-family: "Open Sans", "Helvetica Neue", Helvetica, Arial, sans-serif;
  font-size: 16px;
  line-height: 1.42857143;
  color: #2c2c2c;
}
.rendered_html table,
.rendered_html th,
.rendered_html tr,
.rendered_html td {
  margin: 6px 0 13.5px;
  font-size: 15px;
  border-color: #ccc;
  max-width: 100%;
  text-align: left;
}
span.ansiblack {
  color: #2b303b;
}
span.ansiblue {
  color: #154ba1;
}
span.ansigray {
  color: #b4b7b4;
}
span.ansigreen {
  color: #2d6836;
}
span.ansipurple {
  color: #483d8b;
}
span.ansicyan {
  color: #1592a2;
}
span.ansiyellow {
  color: #92a215;
}
span.ansired {
  color: #b82a18;
}
div.output_html {
  color: #4c4c4c;
}
div.output_stderr {
  background-color: #DB797C;
}
div.output_stderr pre {
  color: #000000;
}
.cm-s-ipython.CodeMirror {
  background: #f6f6f6;
  color: #303030;
}
.cm-s-ipython div.CodeMirror-selected {
  background: #777777 !important;
}
.cm-s-ipython .CodeMirror-gutters {
  background: #cccccc;
  border: 0px;
  border-radius: 0px;
}
.cm-s-ipython .CodeMirror-linenumber {
  color: #666666 !important;
  font-size: 11pt;
}
.cm-s-ipython .CodeMirror-cursor {
  border-left: 2px solid #0095ff !important;
}
.cm-s-ipython span.cm-comment {
  color: #707070;
  font-style: italic !important;
}
.cm-s-ipython span.cm-atom {
  color: #F37F14;
}
.cm-s-ipython span.cm-number {
  color: #eb6a1a;
}
.cm-s-ipython span.cm-property {
  color: #de143d;
}
.cm-s-ipython span.cm-attribute {
  color: #de143d;
}
.cm-s-ipython span.cm-keyword {
  color: #F37F14;
  font-weight: normal;
}
.cm-s-ipython span.cm-string {
  color: #007f00;
  font-weight: normal;
}
.cm-s-ipython span.cm-operator {
  color: #055be0;
  font-weight: normal;
}
.cm-s-ipython span.cm-builtin {
  color: #de143d;
  font-weight: normal;
}
.cm-s-ipython span.cm-variable {
  color: #000000;
}
.cm-s-ipython span.cm-variable-2 {
  color: #de143d;
}
.cm-s-ipython span.cm-def {
  color: #055be0;
  font-weight: normal;
}
.cm-s-ipython span.cm-error {
  background: rgba(191, 97, 106, 0.3) !important;
}
.cm-s-ipython span.cm-tag {
  color: #F37F14;
}
.cm-s-ipython span.cm-link {
  color: #eb6a1a;
}
.cm-s-ipython span.cm-storage {
  color: #055be0;
}
.cm-s-ipython span.cm-entity {
  color: #de143d;
}
.cm-s-ipython span.cm-class {
  color: #e22978;
}
.cm-s-ipython span.cm-support {
  color: #de143d;
}
.cm-s-ipython span.cm-qualifier {
  color: #de143d;
}
/* Set CodeCell font-size*/
/*div.CodeMirror pre {font-size: 11pt !important;}*/
div.CodeMirror pre {
  line-height: 1.5 !important;
}
div.CodeMirror pre {
  font-family: 'Hack', monospace;
  font-size: 11pt;
}
div.CodeMirror span.CodeMirror-matchingbracket {
  color: #000000;
  background: rgba(53, 114, 198, 0.3) !important;
}
div.CodeMirror span.CodeMirror-nonmatchingbracket {
  color: #000000;
  background: rgba(191, 97, 106, 0.3) !important;
}
.cm-s-ipython .CodeMirror-matchingbracket {
  color: #000000;
  background: rgba(53, 114, 198, 0.3) !important;
}
.cm-s-ipython .CodeMirror-nonmatchingbracket {
  color: #000000;
  background: rgba(191, 97, 106, 0.3) !important;
}
/*Input and output cells formatting*/
div.prompt.input_prompt {
  font-family: 'Hack', monospace;
  border-right: 2px solid #428bca;
  font-weight: bold;
  font-size: 11pt;
  color: transparent;
  background-color: #ececed;
  width: 1em;
  padding-bottom: 0px;
  margin-bottom: 0px;
}
div.prompt.output_prompt {
  font-family: 'Hack', monospace;
  font-weight: bold;
  background-color: #ffffff;
  color: #ffffff;
  font-size: 9.5pt;
  width: 1em;
  margin-bottom: 8px;
  padding-top: 1em;
  padding-bottom: 1em;
}
div.out_prompt_overlay.prompt {
  font-family: 'Hack', monospace;
  font-weight: bold;
  font-size: 9.5pt;
  width: 1em;
  margin-bottom: 8px;
  background-color: #ffffff;
  border-radius: 4px;
  -webkit-border-radius: 4px;
  -moz-border-radius: 4px;
}
div.out_prompt_overlay.prompt:hover {
  font-family: 'Hack', monospace;
  font-weight: bold;
  font-size: 9.5pt;
  width: 1em;
  border-radius: 4px;
  margin-bottom: 8px;
  background-color: #ffffff;
  box-shadow: #e2e2e2 2px 2px 6px 4px inset;
  -webkit-border-radius: 4px;
  -moz-border-radius: 4px;
}
.prompt {
  min-width: 0px;
}
div.output_wrapper {
  background-color: #ffffff;
  margin-bottom: 0em;
  margin-top: 0em;
  border: 0px;
}
div.output_subarea.output_text.output_stream.output_stdout,
div.output_subarea.output_text {
  padding-top: 1em;
  margin-bottom: 8px;
  margin-top: 8px;
  margin-left: 8px;
  margin-right: 8px;
  background-color: #ffffff;
  color: #000000;
}
div.output_area pre {
  color: #000000;
  font-size: 10pt;
}
div.output_subarea {
  overflow-x: auto;
  padding: 1.0em;
  -webkit-box-flex: 1;
  -moz-box-flex: 1;
  box-flex: 1;
  flex: 1;
  max-width: calc(86%);
}
body {
  background-color: #f9f9f9;
}
a {
  color: #303030;
  font-family: 'Helvetica', sans-serif;
}
div#notebook,
div.CodeMirror,
div.output_area pre,
div.output_wrapper,
div.prompt,
div.CodeMirror pre {
  font-family: 'Hack', monospace;
  font-size: 11pt;
}
#notebook-container {
  padding: 0px;
  background-color: #f9f9f9;
  min-height: 0px;
  box-shadow: none;
}
.cell {
  padding: 0px;
}
.rendered_html pre,
.rendered_html code {
  color: #e54813;
  background-color: #f6f6f6;
  padding: 2px;
}

    </style>


<style type="text/css">
/* Overrides of notebook CSS for static HTML export */
body {
  overflow: visible;
  padding: 8px;
}

div#notebook {
  overflow: visible;
  border-top: none;
}

@media print {
  div.cell {
    display: block;
    page-break-inside: avoid;
  } 
  div.output_wrapper { 
    display: block;
    page-break-inside: avoid; 
  }
  div.output { 
    display: block;
    page-break-inside: avoid; 
  }
}
</style>

<!-- Custom stylesheet, it must be in the same directory as the html file -->
<link rel="stylesheet" href="custom.css">

<!-- Loading mathjax macro -->
<!-- Load mathjax -->
    <script src="https://cdn.mathjax.org/mathjax/latest/MathJax.js?config=TeX-AMS_HTML"></script>
    <!-- MathJax configuration -->
    <script type="text/x-mathjax-config">
    MathJax.Hub.Config({
        tex2jax: {
            inlineMath: [ ['$','$'], ["\\(","\\)"] ],
            displayMath: [ ['$$','$$'], ["\\[","\\]"] ],
            processEscapes: true,
            processEnvironments: true
        },
        // Center justify equations in code and markdown cells. Elsewhere
        // we use CSS to left justify single line equations in code cells.
        displayAlign: 'center',
        "HTML-CSS": {
            styles: {'.MathJax_Display': {"margin": 0}},
            linebreaks: { automatic: true }
        }
    });
    </script>
    <!-- End of mathjax configuration --></head>
<body>
  <div tabindex="-1" id="notebook" class="border-box-sizing">
    <div class="container" id="notebook-container">

<div class="cell border-box-sizing code_cell rendered">
<div class="input">
<div class="prompt input_prompt">In&nbsp;[1]:</div>
<div class="inner_cell">
    <div class="input_area">
<div class=" highlight hl-ipython2"><pre><span></span><span class="o">%</span><span class="k">matplotlib</span> inline
<span class="kn">from</span> <span class="nn">ggplot</span> <span class="kn">import</span> <span class="o">*</span>
</pre></div>

</div>
</div>
</div>

</div>
<div class="cell border-box-sizing text_cell rendered">
<div class="prompt input_prompt">
</div>
<div class="inner_cell">
<div class="text_cell_render border-box-sizing rendered_html">
<h3 id="scale_x_date"><code>scale_x_date</code><a class="anchor-link" href="#scale_x_date">&#182;</a></h3><p><code>scale_x_date</code> scale a continuous x-axis. Its parameters are:</p>
<ul>
<li><code>name</code> - axis label</li>
<li><code>breaks</code> - x tick breaks</li>
<li><p><code>labels</code> - x tick labels</p>
</li>
<li><p><code>date_format</code> - date string formatter</p>
</li>
</ul>

</div>
</div>
</div>
<div class="cell border-box-sizing code_cell rendered">
<div class="input">
<div class="prompt input_prompt">In&nbsp;[2]:</div>
<div class="inner_cell">
    <div class="input_area">
<div class=" highlight hl-ipython2"><pre><span></span><span class="n">ggplot</span><span class="p">(</span><span class="n">meat</span><span class="p">,</span> <span class="n">aes</span><span class="p">(</span><span class="s1">&#39;date&#39;</span><span class="p">,</span><span class="s1">&#39;beef&#39;</span><span class="p">))</span> <span class="o">+</span> \
    <span class="n">geom_line</span><span class="p">()</span> <span class="o">+</span> \
    <span class="n">scale_x_date</span><span class="p">(</span><span class="n">breaks</span><span class="o">=</span><span class="n">date_breaks</span><span class="p">(</span><span class="s1">&#39;10 years&#39;</span><span class="p">),</span>
                 <span class="n">labels</span><span class="o">=</span><span class="n">date_format</span><span class="p">(</span><span class="s1">&#39;%B </span><span class="si">%-d</span><span class="s1">, %Y&#39;</span><span class="p">))</span>
</pre></div>

</div>
</div>
</div>

<div class="output_wrapper">
<div class="output">


<div class="output_area"><div class="prompt"></div>


<div class="output_png output_subarea ">
<img src="data:image/png;base64,iVBORw0KGgoAAAANSUhEUgAAAtsAAAIACAYAAABTiaBEAAAABHNCSVQICAgIfAhkiAAAAAlwSFlz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"
>
</div>

</div>

<div class="output_area"><div class="prompt output_prompt">Out[2]:</div>


<div class="output_text output_subarea output_execute_result">
<pre>&lt;ggplot: (285186569)&gt;</pre>
</div>

</div>

</div>
</div>

</div>
<div class="cell border-box-sizing code_cell rendered">
<div class="input">
<div class="prompt input_prompt">In&nbsp;[3]:</div>
<div class="inner_cell">
    <div class="input_area">
<div class=" highlight hl-ipython2"><pre><span></span><span class="n">ggplot</span><span class="p">(</span><span class="n">meat</span><span class="p">,</span> <span class="n">aes</span><span class="p">(</span><span class="n">x</span><span class="o">=</span><span class="s1">&#39;date&#39;</span><span class="p">,</span> <span class="n">y</span><span class="o">=</span><span class="s1">&#39;beef&#39;</span><span class="p">))</span> <span class="o">+</span> \
    <span class="n">stat_smooth</span><span class="p">(</span><span class="n">method</span><span class="o">=</span><span class="s1">&#39;loewss&#39;</span><span class="p">,</span> <span class="n">span</span><span class="o">=</span><span class="mf">0.2</span><span class="p">,</span> <span class="n">se</span><span class="o">=</span><span class="bp">False</span><span class="p">)</span> <span class="o">+</span> \
    <span class="n">scale_x_date</span><span class="p">(</span><span class="s2">&quot;Date&quot;</span><span class="p">,</span> <span class="n">breaks</span><span class="o">=</span><span class="n">date_breaks</span><span class="p">(</span><span class="s1">&#39;10 years&#39;</span><span class="p">),</span> <span class="n">labels</span><span class="o">=</span><span class="n">date_format</span><span class="p">(</span><span class="s1">&#39;%B </span><span class="si">%-d</span><span class="s1">, %Y&#39;</span><span class="p">))</span>
</pre></div>

</div>
</div>
</div>

<div class="output_wrapper">
<div class="output">


<div class="output_area"><div class="prompt"></div>


<div class="output_png output_subarea ">
<img src="data:image/png;base64,iVBORw0KGgoAAAANSUhEUgAAAtsAAAIACAYAAABTiaBEAAAABHNCSVQICAgIfAhkiAAAAAlwSFlz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==
"
>
</div>

</div>

<div class="output_area"><div class="prompt output_prompt">Out[3]:</div>


<div class="output_text output_subarea output_execute_result">
<pre>&lt;ggplot: (274880025)&gt;</pre>
</div>

</div>

</div>
</div>

</div>
<div class="cell border-box-sizing code_cell rendered">
<div class="input">
<div class="prompt input_prompt">In&nbsp;[4]:</div>
<div class="inner_cell">
    <div class="input_area">
<div class=" highlight hl-ipython2"><pre><span></span><span class="n">ggplot</span><span class="p">(</span><span class="n">meat</span><span class="p">,</span> <span class="n">aes</span><span class="p">(</span><span class="n">x</span><span class="o">=</span><span class="s1">&#39;date&#39;</span><span class="p">,</span> <span class="n">ymin</span><span class="o">=</span><span class="s1">&#39;beef - 1000&#39;</span><span class="p">,</span> <span class="n">ymax</span><span class="o">=</span><span class="s1">&#39;beef + 1000&#39;</span><span class="p">))</span> <span class="o">+</span> \
    <span class="n">geom_area</span><span class="p">()</span> <span class="o">+</span> \
    <span class="n">scale_x_date</span><span class="p">(</span><span class="n">labels</span><span class="o">=</span><span class="n">date_format</span><span class="p">(</span><span class="s2">&quot;%m/%Y&quot;</span><span class="p">))</span>
</pre></div>

</div>
</div>
</div>

<div class="output_wrapper">
<div class="output">


<div class="output_area"><div class="prompt"></div>
<div class="output_subarea output_text output_error">
<pre>
<span class="ansi-red-fg">---------------------------------------------------------------------------</span>
<span class="ansi-red-fg">NameError</span>                                 Traceback (most recent call last)
<span class="ansi-green-fg">/Users/glamp/miniconda2/lib/python2.7/site-packages/IPython/core/formatters.pyc</span> in <span class="ansi-cyan-fg">__call__</span><span class="ansi-blue-fg">(self, obj)</span>
<span class="ansi-green-intense-fg ansi-bold">    697</span>                 type_pprinters<span class="ansi-blue-fg">=</span>self<span class="ansi-blue-fg">.</span>type_printers<span class="ansi-blue-fg">,</span>
<span class="ansi-green-intense-fg ansi-bold">    698</span>                 deferred_pprinters=self.deferred_printers)
<span class="ansi-green-fg">--&gt; 699</span><span class="ansi-red-fg">             </span>printer<span class="ansi-blue-fg">.</span>pretty<span class="ansi-blue-fg">(</span>obj<span class="ansi-blue-fg">)</span>
<span class="ansi-green-intense-fg ansi-bold">    700</span>             printer<span class="ansi-blue-fg">.</span>flush<span class="ansi-blue-fg">(</span><span class="ansi-blue-fg">)</span>
<span class="ansi-green-intense-fg ansi-bold">    701</span>             <span class="ansi-green-fg">return</span> stream<span class="ansi-blue-fg">.</span>getvalue<span class="ansi-blue-fg">(</span><span class="ansi-blue-fg">)</span>

<span class="ansi-green-fg">/Users/glamp/miniconda2/lib/python2.7/site-packages/IPython/lib/pretty.pyc</span> in <span class="ansi-cyan-fg">pretty</span><span class="ansi-blue-fg">(self, obj)</span>
<span class="ansi-green-intense-fg ansi-bold">    381</span>                             <span class="ansi-green-fg">if</span> callable<span class="ansi-blue-fg">(</span>meth<span class="ansi-blue-fg">)</span><span class="ansi-blue-fg">:</span>
<span class="ansi-green-intense-fg ansi-bold">    382</span>                                 <span class="ansi-green-fg">return</span> meth<span class="ansi-blue-fg">(</span>obj<span class="ansi-blue-fg">,</span> self<span class="ansi-blue-fg">,</span> cycle<span class="ansi-blue-fg">)</span>
<span class="ansi-green-fg">--&gt; 383</span><span class="ansi-red-fg">             </span><span class="ansi-green-fg">return</span> _default_pprint<span class="ansi-blue-fg">(</span>obj<span class="ansi-blue-fg">,</span> self<span class="ansi-blue-fg">,</span> cycle<span class="ansi-blue-fg">)</span>
<span class="ansi-green-intense-fg ansi-bold">    384</span>         <span class="ansi-green-fg">finally</span><span class="ansi-blue-fg">:</span>
<span class="ansi-green-intense-fg ansi-bold">    385</span>             self<span class="ansi-blue-fg">.</span>end_group<span class="ansi-blue-fg">(</span><span class="ansi-blue-fg">)</span>

<span class="ansi-green-fg">/Users/glamp/miniconda2/lib/python2.7/site-packages/IPython/lib/pretty.pyc</span> in <span class="ansi-cyan-fg">_default_pprint</span><span class="ansi-blue-fg">(obj, p, cycle)</span>
<span class="ansi-green-intense-fg ansi-bold">    501</span>     <span class="ansi-green-fg">if</span> _safe_getattr<span class="ansi-blue-fg">(</span>klass<span class="ansi-blue-fg">,</span> <span class="ansi-blue-fg">&#39;__repr__&#39;</span><span class="ansi-blue-fg">,</span> None<span class="ansi-blue-fg">)</span> <span class="ansi-green-fg">not</span> <span class="ansi-green-fg">in</span> _baseclass_reprs<span class="ansi-blue-fg">:</span>
<span class="ansi-green-intense-fg ansi-bold">    502</span>         <span class="ansi-red-fg"># A user-provided repr. Find newlines and replace them with p.break_()</span>
<span class="ansi-green-fg">--&gt; 503</span><span class="ansi-red-fg">         </span>_repr_pprint<span class="ansi-blue-fg">(</span>obj<span class="ansi-blue-fg">,</span> p<span class="ansi-blue-fg">,</span> cycle<span class="ansi-blue-fg">)</span>
<span class="ansi-green-intense-fg ansi-bold">    504</span>         <span class="ansi-green-fg">return</span>
<span class="ansi-green-intense-fg ansi-bold">    505</span>     p<span class="ansi-blue-fg">.</span>begin_group<span class="ansi-blue-fg">(</span><span class="ansi-cyan-fg">1</span><span class="ansi-blue-fg">,</span> <span class="ansi-blue-fg">&#39;&lt;&#39;</span><span class="ansi-blue-fg">)</span>

<span class="ansi-green-fg">/Users/glamp/miniconda2/lib/python2.7/site-packages/IPython/lib/pretty.pyc</span> in <span class="ansi-cyan-fg">_repr_pprint</span><span class="ansi-blue-fg">(obj, p, cycle)</span>
<span class="ansi-green-intense-fg ansi-bold">    692</span>     <span class="ansi-blue-fg">&#34;&#34;&#34;A pprint that just redirects to the normal repr function.&#34;&#34;&#34;</span>
<span class="ansi-green-intense-fg ansi-bold">    693</span>     <span class="ansi-red-fg"># Find newlines and replace them with p.break_()</span>
<span class="ansi-green-fg">--&gt; 694</span><span class="ansi-red-fg">     </span>output <span class="ansi-blue-fg">=</span> repr<span class="ansi-blue-fg">(</span>obj<span class="ansi-blue-fg">)</span>
<span class="ansi-green-intense-fg ansi-bold">    695</span>     <span class="ansi-green-fg">for</span> idx<span class="ansi-blue-fg">,</span>output_line <span class="ansi-green-fg">in</span> enumerate<span class="ansi-blue-fg">(</span>output<span class="ansi-blue-fg">.</span>splitlines<span class="ansi-blue-fg">(</span><span class="ansi-blue-fg">)</span><span class="ansi-blue-fg">)</span><span class="ansi-blue-fg">:</span>
<span class="ansi-green-intense-fg ansi-bold">    696</span>         <span class="ansi-green-fg">if</span> idx<span class="ansi-blue-fg">:</span>

<span class="ansi-green-fg">/Users/glamp/miniconda2/lib/python2.7/site-packages/ggplot-0.9.0-py2.7.egg/ggplot/ggplot.pyc</span> in <span class="ansi-cyan-fg">__repr__</span><span class="ansi-blue-fg">(self)</span>
<span class="ansi-green-intense-fg ansi-bold">    101</span> 
<span class="ansi-green-intense-fg ansi-bold">    102</span>     <span class="ansi-green-fg">def</span> __repr__<span class="ansi-blue-fg">(</span>self<span class="ansi-blue-fg">)</span><span class="ansi-blue-fg">:</span>
<span class="ansi-green-fg">--&gt; 103</span><span class="ansi-red-fg">         </span>self<span class="ansi-blue-fg">.</span>make<span class="ansi-blue-fg">(</span><span class="ansi-blue-fg">)</span>
<span class="ansi-green-intense-fg ansi-bold">    104</span>         <span class="ansi-red-fg"># this is nice for dev but not the best for &#34;real&#34;</span>
<span class="ansi-green-intense-fg ansi-bold">    105</span>         <span class="ansi-red-fg"># self.fig.savefig(&#39;/tmp/ggplot.png&#39;, dpi=160)</span>

<span class="ansi-green-fg">/Users/glamp/miniconda2/lib/python2.7/site-packages/ggplot-0.9.0-py2.7.egg/ggplot/ggplot.pyc</span> in <span class="ansi-cyan-fg">make</span><span class="ansi-blue-fg">(self)</span>
<span class="ansi-green-intense-fg ansi-bold">    543</span>                             layer<span class="ansi-blue-fg">.</span>plot<span class="ansi-blue-fg">(</span>ax<span class="ansi-blue-fg">,</span> facetgroup<span class="ansi-blue-fg">,</span> self<span class="ansi-blue-fg">.</span>_aes<span class="ansi-blue-fg">,</span> x_levels<span class="ansi-blue-fg">=</span>self<span class="ansi-blue-fg">.</span>data<span class="ansi-blue-fg">[</span>self<span class="ansi-blue-fg">.</span>_aes<span class="ansi-blue-fg">[</span><span class="ansi-blue-fg">&#39;x&#39;</span><span class="ansi-blue-fg">]</span><span class="ansi-blue-fg">]</span><span class="ansi-blue-fg">.</span>unique<span class="ansi-blue-fg">(</span><span class="ansi-blue-fg">)</span><span class="ansi-blue-fg">)</span>
<span class="ansi-green-intense-fg ansi-bold">    544</span>                         <span class="ansi-green-fg">else</span><span class="ansi-blue-fg">:</span>
<span class="ansi-green-fg">--&gt; 545</span><span class="ansi-red-fg">                             </span>layer<span class="ansi-blue-fg">.</span>plot<span class="ansi-blue-fg">(</span>ax<span class="ansi-blue-fg">,</span> facetgroup<span class="ansi-blue-fg">,</span> self<span class="ansi-blue-fg">.</span>_aes<span class="ansi-blue-fg">)</span>
<span class="ansi-green-intense-fg ansi-bold">    546</span> 
<span class="ansi-green-intense-fg ansi-bold">    547</span>             self<span class="ansi-blue-fg">.</span>apply_limits<span class="ansi-blue-fg">(</span><span class="ansi-blue-fg">)</span>

<span class="ansi-green-fg">/Users/glamp/miniconda2/lib/python2.7/site-packages/ggplot-0.9.0-py2.7.egg/ggplot/geoms/geom_area.pyc</span> in <span class="ansi-cyan-fg">plot</span><span class="ansi-blue-fg">(self, ax, data, _aes)</span>
<span class="ansi-green-intense-fg ansi-bold">     23</span>         <span class="ansi-green-fg">if</span> is_date<span class="ansi-blue-fg">(</span>x<span class="ansi-blue-fg">.</span>iloc<span class="ansi-blue-fg">[</span><span class="ansi-cyan-fg">0</span><span class="ansi-blue-fg">]</span><span class="ansi-blue-fg">)</span><span class="ansi-blue-fg">:</span>
<span class="ansi-green-intense-fg ansi-bold">     24</span>             dtype <span class="ansi-blue-fg">=</span> x<span class="ansi-blue-fg">.</span>iloc<span class="ansi-blue-fg">[</span><span class="ansi-cyan-fg">0</span><span class="ansi-blue-fg">]</span><span class="ansi-blue-fg">.</span>__class__
<span class="ansi-green-fg">---&gt; 25</span><span class="ansi-red-fg">             </span>x <span class="ansi-blue-fg">=</span> np<span class="ansi-blue-fg">.</span>array<span class="ansi-blue-fg">(</span><span class="ansi-blue-fg">[</span>i<span class="ansi-blue-fg">.</span>toordinal<span class="ansi-blue-fg">(</span><span class="ansi-blue-fg">)</span> <span class="ansi-green-fg">for</span> i <span class="ansi-green-fg">in</span> x<span class="ansi-blue-fg">]</span><span class="ansi-blue-fg">)</span>
<span class="ansi-green-intense-fg ansi-bold">     26</span>             ax<span class="ansi-blue-fg">.</span>fill_between<span class="ansi-blue-fg">(</span>x<span class="ansi-blue-fg">,</span> ymin<span class="ansi-blue-fg">,</span> ymax<span class="ansi-blue-fg">,</span> <span class="ansi-blue-fg">**</span>params<span class="ansi-blue-fg">)</span>
<span class="ansi-green-intense-fg ansi-bold">     27</span>             new_ticks <span class="ansi-blue-fg">=</span> <span class="ansi-blue-fg">[</span>dtype<span class="ansi-blue-fg">(</span>i<span class="ansi-blue-fg">)</span> <span class="ansi-green-fg">for</span> i <span class="ansi-green-fg">in</span> ax<span class="ansi-blue-fg">.</span>get_xticks<span class="ansi-blue-fg">(</span><span class="ansi-blue-fg">)</span><span class="ansi-blue-fg">]</span>

<span class="ansi-red-fg">NameError</span>: global name &#39;np&#39; is not defined</pre>
</div>
</div>

<div class="output_area"><div class="prompt"></div>


<div class="output_png output_subarea ">
<img src="data:image/png;base64,iVBORw0KGgoAAAANSUhEUgAAApIAAAHhCAYAAADd1l6UAAAABHNCSVQICAgIfAhkiAAAAAlwSFlz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"
>
</div>

</div>

</div>
</div>

</div>
<div class="cell border-box-sizing code_cell rendered">
<div class="input">
<div class="prompt input_prompt">In&nbsp;[&nbsp;]:</div>
<div class="inner_cell">
    <div class="input_area">
<div class=" highlight hl-ipython2"><pre><span></span><span class="n">ggplot</span><span class="p">(</span><span class="n">pageviews</span><span class="p">,</span> <span class="n">aes</span><span class="p">(</span><span class="n">x</span><span class="o">=</span><span class="s1">&#39;date_hour&#39;</span><span class="p">,</span> <span class="n">y</span><span class="o">=</span><span class="s1">&#39;pageviews&#39;</span><span class="p">))</span> <span class="o">+</span> \
    <span class="n">geom_point</span><span class="p">()</span> <span class="o">+</span> \
    <span class="n">scale_x_date</span><span class="p">(</span><span class="n">breaks</span><span class="o">=</span><span class="s1">&#39;1 month&#39;</span><span class="p">)</span>
</pre></div>

</div>
</div>
</div>

</div>
<div class="cell border-box-sizing code_cell rendered">
<div class="input">
<div class="prompt input_prompt">In&nbsp;[&nbsp;]:</div>
<div class="inner_cell">
    <div class="input_area">
<div class=" highlight hl-ipython2"><pre><span></span> 
</pre></div>

</div>
</div>
</div>

</div>
    </div>
  </div>
</body>
</html>
