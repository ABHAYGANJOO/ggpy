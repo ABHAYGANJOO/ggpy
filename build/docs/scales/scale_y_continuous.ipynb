<!DOCTYPE html>
<html>
<head><meta charset="utf-8" />
<title>scale_y_continuous</title>

<script src="https://cdnjs.cloudflare.com/ajax/libs/require.js/2.1.10/require.min.js"></script>
<script src="https://cdnjs.cloudflare.com/ajax/libs/jquery/2.0.3/jquery.min.js"></script>

<style type="text/css">
    /*!
*
* Twitter Bootstrap
*
*/
/*!
 * Bootstrap v3.3.6 (http://getbootstrap.com)
 * Copyright 2011-2015 Twitter, Inc.
 * Licensed under MIT (https://github.com/twbs/bootstrap/blob/master/LICENSE)
 */
/*! normalize.css v3.0.3 | MIT License | github.com/necolas/normalize.css */
html {
  font-family: sans-serif;
  -ms-text-size-adjust: 100%;
  -webkit-text-size-adjust: 100%;
}
body {
  margin: 0;
}
article,
aside,
details,
figcaption,
figure,
footer,
header,
hgroup,
main,
menu,
nav,
section,
summary {
  display: block;
}
audio,
canvas,
progress,
video {
  display: inline-block;
  vertical-align: baseline;
}
audio:not([controls]) {
  display: none;
  height: 0;
}
[hidden],
template {
  display: none;
}
a {
  background-color: transparent;
}
a:active,
a:hover {
  outline: 0;
}
abbr[title] {
  border-bottom: 1px dotted;
}
b,
strong {
  font-weight: bold;
}
dfn {
  font-style: italic;
}
h1 {
  font-size: 2em;
  margin: 0.67em 0;
}
mark {
  background: #ff0;
  color: #000;
}
small {
  font-size: 80%;
}
sub,
sup {
  font-size: 75%;
  line-height: 0;
  position: relative;
  vertical-align: baseline;
}
sup {
  top: -0.5em;
}
sub {
  bottom: -0.25em;
}
img {
  border: 0;
}
svg:not(:root) {
  overflow: hidden;
}
figure {
  margin: 1em 40px;
}
hr {
  box-sizing: content-box;
  height: 0;
}
pre {
  overflow: auto;
}
code,
kbd,
pre,
samp {
  font-family: monospace, monospace;
  font-size: 1em;
}
button,
input,
optgroup,
select,
textarea {
  color: inherit;
  font: inherit;
  margin: 0;
}
button {
  overflow: visible;
}
button,
select {
  text-transform: none;
}
button,
html input[type="button"],
input[type="reset"],
input[type="submit"] {
  -webkit-appearance: button;
  cursor: pointer;
}
button[disabled],
html input[disabled] {
  cursor: default;
}
button::-moz-focus-inner,
input::-moz-focus-inner {
  border: 0;
  padding: 0;
}
input {
  line-height: normal;
}
input[type="checkbox"],
input[type="radio"] {
  box-sizing: border-box;
  padding: 0;
}
input[type="number"]::-webkit-inner-spin-button,
input[type="number"]::-webkit-outer-spin-button {
  height: auto;
}
input[type="search"] {
  -webkit-appearance: textfield;
  box-sizing: content-box;
}
input[type="search"]::-webkit-search-cancel-button,
input[type="search"]::-webkit-search-decoration {
  -webkit-appearance: none;
}
fieldset {
  border: 1px solid #c0c0c0;
  margin: 0 2px;
  padding: 0.35em 0.625em 0.75em;
}
legend {
  border: 0;
  padding: 0;
}
textarea {
  overflow: auto;
}
optgroup {
  font-weight: bold;
}
table {
  border-collapse: collapse;
  border-spacing: 0;
}
td,
th {
  padding: 0;
}
/*! Source: https://github.com/h5bp/html5-boilerplate/blob/master/src/css/main.css */
@media print {
  *,
  *:before,
  *:after {
    background: transparent !important;
    color: #000 !important;
    box-shadow: none !important;
    text-shadow: none !important;
  }
  a,
  a:visited {
    text-decoration: underline;
  }
  a[href]:after {
    content: " (" attr(href) ")";
  }
  abbr[title]:after {
    content: " (" attr(title) ")";
  }
  a[href^="#"]:after,
  a[href^="javascript:"]:after {
    content: "";
  }
  pre,
  blockquote {
    border: 1px solid #999;
    page-break-inside: avoid;
  }
  thead {
    display: table-header-group;
  }
  tr,
  img {
    page-break-inside: avoid;
  }
  img {
    max-width: 100% !important;
  }
  p,
  h2,
  h3 {
    orphans: 3;
    widows: 3;
  }
  h2,
  h3 {
    page-break-after: avoid;
  }
  .navbar {
    display: none;
  }
  .btn > .caret,
  .dropup > .btn > .caret {
    border-top-color: #000 !important;
  }
  .label {
    border: 1px solid #000;
  }
  .table {
    border-collapse: collapse !important;
  }
  .table td,
  .table th {
    background-color: #fff !important;
  }
  .table-bordered th,
  .table-bordered td {
    border: 1px solid #ddd !important;
  }
}
@font-face {
  font-family: 'Glyphicons Halflings';
  src: url('../components/bootstrap/fonts/glyphicons-halflings-regular.eot');
  src: url('../components/bootstrap/fonts/glyphicons-halflings-regular.eot?#iefix') format('embedded-opentype'), url('../components/bootstrap/fonts/glyphicons-halflings-regular.woff2') format('woff2'), url('../components/bootstrap/fonts/glyphicons-halflings-regular.woff') format('woff'), url('../components/bootstrap/fonts/glyphicons-halflings-regular.ttf') format('truetype'), url('../components/bootstrap/fonts/glyphicons-halflings-regular.svg#glyphicons_halflingsregular') format('svg');
}
.glyphicon {
  position: relative;
  top: 1px;
  display: inline-block;
  font-family: 'Glyphicons Halflings';
  font-style: normal;
  font-weight: normal;
  line-height: 1;
  -webkit-font-smoothing: antialiased;
  -moz-osx-font-smoothing: grayscale;
}
.glyphicon-asterisk:before {
  content: "\002a";
}
.glyphicon-plus:before {
  content: "\002b";
}
.glyphicon-euro:before,
.glyphicon-eur:before {
  content: "\20ac";
}
.glyphicon-minus:before {
  content: "\2212";
}
.glyphicon-cloud:before {
  content: "\2601";
}
.glyphicon-envelope:before {
  content: "\2709";
}
.glyphicon-pencil:before {
  content: "\270f";
}
.glyphicon-glass:before {
  content: "\e001";
}
.glyphicon-music:before {
  content: "\e002";
}
.glyphicon-search:before {
  content: "\e003";
}
.glyphicon-heart:before {
  content: "\e005";
}
.glyphicon-star:before {
  content: "\e006";
}
.glyphicon-star-empty:before {
  content: "\e007";
}
.glyphicon-user:before {
  content: "\e008";
}
.glyphicon-film:before {
  content: "\e009";
}
.glyphicon-th-large:before {
  content: "\e010";
}
.glyphicon-th:before {
  content: "\e011";
}
.glyphicon-th-list:before {
  content: "\e012";
}
.glyphicon-ok:before {
  content: "\e013";
}
.glyphicon-remove:before {
  content: "\e014";
}
.glyphicon-zoom-in:before {
  content: "\e015";
}
.glyphicon-zoom-out:before {
  content: "\e016";
}
.glyphicon-off:before {
  content: "\e017";
}
.glyphicon-signal:before {
  content: "\e018";
}
.glyphicon-cog:before {
  content: "\e019";
}
.glyphicon-trash:before {
  content: "\e020";
}
.glyphicon-home:before {
  content: "\e021";
}
.glyphicon-file:before {
  content: "\e022";
}
.glyphicon-time:before {
  content: "\e023";
}
.glyphicon-road:before {
  content: "\e024";
}
.glyphicon-download-alt:before {
  content: "\e025";
}
.glyphicon-download:before {
  content: "\e026";
}
.glyphicon-upload:before {
  content: "\e027";
}
.glyphicon-inbox:before {
  content: "\e028";
}
.glyphicon-play-circle:before {
  content: "\e029";
}
.glyphicon-repeat:before {
  content: "\e030";
}
.glyphicon-refresh:before {
  content: "\e031";
}
.glyphicon-list-alt:before {
  content: "\e032";
}
.glyphicon-lock:before {
  content: "\e033";
}
.glyphicon-flag:before {
  content: "\e034";
}
.glyphicon-headphones:before {
  content: "\e035";
}
.glyphicon-volume-off:before {
  content: "\e036";
}
.glyphicon-volume-down:before {
  content: "\e037";
}
.glyphicon-volume-up:before {
  content: "\e038";
}
.glyphicon-qrcode:before {
  content: "\e039";
}
.glyphicon-barcode:before {
  content: "\e040";
}
.glyphicon-tag:before {
  content: "\e041";
}
.glyphicon-tags:before {
  content: "\e042";
}
.glyphicon-book:before {
  content: "\e043";
}
.glyphicon-bookmark:before {
  content: "\e044";
}
.glyphicon-print:before {
  content: "\e045";
}
.glyphicon-camera:before {
  content: "\e046";
}
.glyphicon-font:before {
  content: "\e047";
}
.glyphicon-bold:before {
  content: "\e048";
}
.glyphicon-italic:before {
  content: "\e049";
}
.glyphicon-text-height:before {
  content: "\e050";
}
.glyphicon-text-width:before {
  content: "\e051";
}
.glyphicon-align-left:before {
  content: "\e052";
}
.glyphicon-align-center:before {
  content: "\e053";
}
.glyphicon-align-right:before {
  content: "\e054";
}
.glyphicon-align-justify:before {
  content: "\e055";
}
.glyphicon-list:before {
  content: "\e056";
}
.glyphicon-indent-left:before {
  content: "\e057";
}
.glyphicon-indent-right:before {
  content: "\e058";
}
.glyphicon-facetime-video:before {
  content: "\e059";
}
.glyphicon-picture:before {
  content: "\e060";
}
.glyphicon-map-marker:before {
  content: "\e062";
}
.glyphicon-adjust:before {
  content: "\e063";
}
.glyphicon-tint:before {
  content: "\e064";
}
.glyphicon-edit:before {
  content: "\e065";
}
.glyphicon-share:before {
  content: "\e066";
}
.glyphicon-check:before {
  content: "\e067";
}
.glyphicon-move:before {
  content: "\e068";
}
.glyphicon-step-backward:before {
  content: "\e069";
}
.glyphicon-fast-backward:before {
  content: "\e070";
}
.glyphicon-backward:before {
  content: "\e071";
}
.glyphicon-play:before {
  content: "\e072";
}
.glyphicon-pause:before {
  content: "\e073";
}
.glyphicon-stop:before {
  content: "\e074";
}
.glyphicon-forward:before {
  content: "\e075";
}
.glyphicon-fast-forward:before {
  content: "\e076";
}
.glyphicon-step-forward:before {
  content: "\e077";
}
.glyphicon-eject:before {
  content: "\e078";
}
.glyphicon-chevron-left:before {
  content: "\e079";
}
.glyphicon-chevron-right:before {
  content: "\e080";
}
.glyphicon-plus-sign:before {
  content: "\e081";
}
.glyphicon-minus-sign:before {
  content: "\e082";
}
.glyphicon-remove-sign:before {
  content: "\e083";
}
.glyphicon-ok-sign:before {
  content: "\e084";
}
.glyphicon-question-sign:before {
  content: "\e085";
}
.glyphicon-info-sign:before {
  content: "\e086";
}
.glyphicon-screenshot:before {
  content: "\e087";
}
.glyphicon-remove-circle:before {
  content: "\e088";
}
.glyphicon-ok-circle:before {
  content: "\e089";
}
.glyphicon-ban-circle:before {
  content: "\e090";
}
.glyphicon-arrow-left:before {
  content: "\e091";
}
.glyphicon-arrow-right:before {
  content: "\e092";
}
.glyphicon-arrow-up:before {
  content: "\e093";
}
.glyphicon-arrow-down:before {
  content: "\e094";
}
.glyphicon-share-alt:before {
  content: "\e095";
}
.glyphicon-resize-full:before {
  content: "\e096";
}
.glyphicon-resize-small:before {
  content: "\e097";
}
.glyphicon-exclamation-sign:before {
  content: "\e101";
}
.glyphicon-gift:before {
  content: "\e102";
}
.glyphicon-leaf:before {
  content: "\e103";
}
.glyphicon-fire:before {
  content: "\e104";
}
.glyphicon-eye-open:before {
  content: "\e105";
}
.glyphicon-eye-close:before {
  content: "\e106";
}
.glyphicon-warning-sign:before {
  content: "\e107";
}
.glyphicon-plane:before {
  content: "\e108";
}
.glyphicon-calendar:before {
  content: "\e109";
}
.glyphicon-random:before {
  content: "\e110";
}
.glyphicon-comment:before {
  content: "\e111";
}
.glyphicon-magnet:before {
  content: "\e112";
}
.glyphicon-chevron-up:before {
  content: "\e113";
}
.glyphicon-chevron-down:before {
  content: "\e114";
}
.glyphicon-retweet:before {
  content: "\e115";
}
.glyphicon-shopping-cart:before {
  content: "\e116";
}
.glyphicon-folder-close:before {
  content: "\e117";
}
.glyphicon-folder-open:before {
  content: "\e118";
}
.glyphicon-resize-vertical:before {
  content: "\e119";
}
.glyphicon-resize-horizontal:before {
  content: "\e120";
}
.glyphicon-hdd:before {
  content: "\e121";
}
.glyphicon-bullhorn:before {
  content: "\e122";
}
.glyphicon-bell:before {
  content: "\e123";
}
.glyphicon-certificate:before {
  content: "\e124";
}
.glyphicon-thumbs-up:before {
  content: "\e125";
}
.glyphicon-thumbs-down:before {
  content: "\e126";
}
.glyphicon-hand-right:before {
  content: "\e127";
}
.glyphicon-hand-left:before {
  content: "\e128";
}
.glyphicon-hand-up:before {
  content: "\e129";
}
.glyphicon-hand-down:before {
  content: "\e130";
}
.glyphicon-circle-arrow-right:before {
  content: "\e131";
}
.glyphicon-circle-arrow-left:before {
  content: "\e132";
}
.glyphicon-circle-arrow-up:before {
  content: "\e133";
}
.glyphicon-circle-arrow-down:before {
  content: "\e134";
}
.glyphicon-globe:before {
  content: "\e135";
}
.glyphicon-wrench:before {
  content: "\e136";
}
.glyphicon-tasks:before {
  content: "\e137";
}
.glyphicon-filter:before {
  content: "\e138";
}
.glyphicon-briefcase:before {
  content: "\e139";
}
.glyphicon-fullscreen:before {
  content: "\e140";
}
.glyphicon-dashboard:before {
  content: "\e141";
}
.glyphicon-paperclip:before {
  content: "\e142";
}
.glyphicon-heart-empty:before {
  content: "\e143";
}
.glyphicon-link:before {
  content: "\e144";
}
.glyphicon-phone:before {
  content: "\e145";
}
.glyphicon-pushpin:before {
  content: "\e146";
}
.glyphicon-usd:before {
  content: "\e148";
}
.glyphicon-gbp:before {
  content: "\e149";
}
.glyphicon-sort:before {
  content: "\e150";
}
.glyphicon-sort-by-alphabet:before {
  content: "\e151";
}
.glyphicon-sort-by-alphabet-alt:before {
  content: "\e152";
}
.glyphicon-sort-by-order:before {
  content: "\e153";
}
.glyphicon-sort-by-order-alt:before {
  content: "\e154";
}
.glyphicon-sort-by-attributes:before {
  content: "\e155";
}
.glyphicon-sort-by-attributes-alt:before {
  content: "\e156";
}
.glyphicon-unchecked:before {
  content: "\e157";
}
.glyphicon-expand:before {
  content: "\e158";
}
.glyphicon-collapse-down:before {
  content: "\e159";
}
.glyphicon-collapse-up:before {
  content: "\e160";
}
.glyphicon-log-in:before {
  content: "\e161";
}
.glyphicon-flash:before {
  content: "\e162";
}
.glyphicon-log-out:before {
  content: "\e163";
}
.glyphicon-new-window:before {
  content: "\e164";
}
.glyphicon-record:before {
  content: "\e165";
}
.glyphicon-save:before {
  content: "\e166";
}
.glyphicon-open:before {
  content: "\e167";
}
.glyphicon-saved:before {
  content: "\e168";
}
.glyphicon-import:before {
  content: "\e169";
}
.glyphicon-export:before {
  content: "\e170";
}
.glyphicon-send:before {
  content: "\e171";
}
.glyphicon-floppy-disk:before {
  content: "\e172";
}
.glyphicon-floppy-saved:before {
  content: "\e173";
}
.glyphicon-floppy-remove:before {
  content: "\e174";
}
.glyphicon-floppy-save:before {
  content: "\e175";
}
.glyphicon-floppy-open:before {
  content: "\e176";
}
.glyphicon-credit-card:before {
  content: "\e177";
}
.glyphicon-transfer:before {
  content: "\e178";
}
.glyphicon-cutlery:before {
  content: "\e179";
}
.glyphicon-header:before {
  content: "\e180";
}
.glyphicon-compressed:before {
  content: "\e181";
}
.glyphicon-earphone:before {
  content: "\e182";
}
.glyphicon-phone-alt:before {
  content: "\e183";
}
.glyphicon-tower:before {
  content: "\e184";
}
.glyphicon-stats:before {
  content: "\e185";
}
.glyphicon-sd-video:before {
  content: "\e186";
}
.glyphicon-hd-video:before {
  content: "\e187";
}
.glyphicon-subtitles:before {
  content: "\e188";
}
.glyphicon-sound-stereo:before {
  content: "\e189";
}
.glyphicon-sound-dolby:before {
  content: "\e190";
}
.glyphicon-sound-5-1:before {
  content: "\e191";
}
.glyphicon-sound-6-1:before {
  content: "\e192";
}
.glyphicon-sound-7-1:before {
  content: "\e193";
}
.glyphicon-copyright-mark:before {
  content: "\e194";
}
.glyphicon-registration-mark:before {
  content: "\e195";
}
.glyphicon-cloud-download:before {
  content: "\e197";
}
.glyphicon-cloud-upload:before {
  content: "\e198";
}
.glyphicon-tree-conifer:before {
  content: "\e199";
}
.glyphicon-tree-deciduous:before {
  content: "\e200";
}
.glyphicon-cd:before {
  content: "\e201";
}
.glyphicon-save-file:before {
  content: "\e202";
}
.glyphicon-open-file:before {
  content: "\e203";
}
.glyphicon-level-up:before {
  content: "\e204";
}
.glyphicon-copy:before {
  content: "\e205";
}
.glyphicon-paste:before {
  content: "\e206";
}
.glyphicon-alert:before {
  content: "\e209";
}
.glyphicon-equalizer:before {
  content: "\e210";
}
.glyphicon-king:before {
  content: "\e211";
}
.glyphicon-queen:before {
  content: "\e212";
}
.glyphicon-pawn:before {
  content: "\e213";
}
.glyphicon-bishop:before {
  content: "\e214";
}
.glyphicon-knight:before {
  content: "\e215";
}
.glyphicon-baby-formula:before {
  content: "\e216";
}
.glyphicon-tent:before {
  content: "\26fa";
}
.glyphicon-blackboard:before {
  content: "\e218";
}
.glyphicon-bed:before {
  content: "\e219";
}
.glyphicon-apple:before {
  content: "\f8ff";
}
.glyphicon-erase:before {
  content: "\e221";
}
.glyphicon-hourglass:before {
  content: "\231b";
}
.glyphicon-lamp:before {
  content: "\e223";
}
.glyphicon-duplicate:before {
  content: "\e224";
}
.glyphicon-piggy-bank:before {
  content: "\e225";
}
.glyphicon-scissors:before {
  content: "\e226";
}
.glyphicon-bitcoin:before {
  content: "\e227";
}
.glyphicon-btc:before {
  content: "\e227";
}
.glyphicon-xbt:before {
  content: "\e227";
}
.glyphicon-yen:before {
  content: "\00a5";
}
.glyphicon-jpy:before {
  content: "\00a5";
}
.glyphicon-ruble:before {
  content: "\20bd";
}
.glyphicon-rub:before {
  content: "\20bd";
}
.glyphicon-scale:before {
  content: "\e230";
}
.glyphicon-ice-lolly:before {
  content: "\e231";
}
.glyphicon-ice-lolly-tasted:before {
  content: "\e232";
}
.glyphicon-education:before {
  content: "\e233";
}
.glyphicon-option-horizontal:before {
  content: "\e234";
}
.glyphicon-option-vertical:before {
  content: "\e235";
}
.glyphicon-menu-hamburger:before {
  content: "\e236";
}
.glyphicon-modal-window:before {
  content: "\e237";
}
.glyphicon-oil:before {
  content: "\e238";
}
.glyphicon-grain:before {
  content: "\e239";
}
.glyphicon-sunglasses:before {
  content: "\e240";
}
.glyphicon-text-size:before {
  content: "\e241";
}
.glyphicon-text-color:before {
  content: "\e242";
}
.glyphicon-text-background:before {
  content: "\e243";
}
.glyphicon-object-align-top:before {
  content: "\e244";
}
.glyphicon-object-align-bottom:before {
  content: "\e245";
}
.glyphicon-object-align-horizontal:before {
  content: "\e246";
}
.glyphicon-object-align-left:before {
  content: "\e247";
}
.glyphicon-object-align-vertical:before {
  content: "\e248";
}
.glyphicon-object-align-right:before {
  content: "\e249";
}
.glyphicon-triangle-right:before {
  content: "\e250";
}
.glyphicon-triangle-left:before {
  content: "\e251";
}
.glyphicon-triangle-bottom:before {
  content: "\e252";
}
.glyphicon-triangle-top:before {
  content: "\e253";
}
.glyphicon-console:before {
  content: "\e254";
}
.glyphicon-superscript:before {
  content: "\e255";
}
.glyphicon-subscript:before {
  content: "\e256";
}
.glyphicon-menu-left:before {
  content: "\e257";
}
.glyphicon-menu-right:before {
  content: "\e258";
}
.glyphicon-menu-down:before {
  content: "\e259";
}
.glyphicon-menu-up:before {
  content: "\e260";
}
* {
  -webkit-box-sizing: border-box;
  -moz-box-sizing: border-box;
  box-sizing: border-box;
}
*:before,
*:after {
  -webkit-box-sizing: border-box;
  -moz-box-sizing: border-box;
  box-sizing: border-box;
}
html {
  font-size: 10px;
  -webkit-tap-highlight-color: rgba(0, 0, 0, 0);
}
body {
  font-family: "Helvetica Neue", Helvetica, Arial, sans-serif;
  font-size: 13px;
  line-height: 1.42857143;
  color: #000;
  background-color: #fff;
}
input,
button,
select,
textarea {
  font-family: inherit;
  font-size: inherit;
  line-height: inherit;
}
a {
  color: #337ab7;
  text-decoration: none;
}
a:hover,
a:focus {
  color: #23527c;
  text-decoration: underline;
}
a:focus {
  outline: thin dotted;
  outline: 5px auto -webkit-focus-ring-color;
  outline-offset: -2px;
}
figure {
  margin: 0;
}
img {
  vertical-align: middle;
}
.img-responsive,
.thumbnail > img,
.thumbnail a > img,
.carousel-inner > .item > img,
.carousel-inner > .item > a > img {
  display: block;
  max-width: 100%;
  height: auto;
}
.img-rounded {
  border-radius: 3px;
}
.img-thumbnail {
  padding: 4px;
  line-height: 1.42857143;
  background-color: #fff;
  border: 1px solid #ddd;
  border-radius: 2px;
  -webkit-transition: all 0.2s ease-in-out;
  -o-transition: all 0.2s ease-in-out;
  transition: all 0.2s ease-in-out;
  display: inline-block;
  max-width: 100%;
  height: auto;
}
.img-circle {
  border-radius: 50%;
}
hr {
  margin-top: 18px;
  margin-bottom: 18px;
  border: 0;
  border-top: 1px solid #eeeeee;
}
.sr-only {
  position: absolute;
  width: 1px;
  height: 1px;
  margin: -1px;
  padding: 0;
  overflow: hidden;
  clip: rect(0, 0, 0, 0);
  border: 0;
}
.sr-only-focusable:active,
.sr-only-focusable:focus {
  position: static;
  width: auto;
  height: auto;
  margin: 0;
  overflow: visible;
  clip: auto;
}
[role="button"] {
  cursor: pointer;
}
h1,
h2,
h3,
h4,
h5,
h6,
.h1,
.h2,
.h3,
.h4,
.h5,
.h6 {
  font-family: inherit;
  font-weight: 500;
  line-height: 1.1;
  color: inherit;
}
h1 small,
h2 small,
h3 small,
h4 small,
h5 small,
h6 small,
.h1 small,
.h2 small,
.h3 small,
.h4 small,
.h5 small,
.h6 small,
h1 .small,
h2 .small,
h3 .small,
h4 .small,
h5 .small,
h6 .small,
.h1 .small,
.h2 .small,
.h3 .small,
.h4 .small,
.h5 .small,
.h6 .small {
  font-weight: normal;
  line-height: 1;
  color: #777777;
}
h1,
.h1,
h2,
.h2,
h3,
.h3 {
  margin-top: 18px;
  margin-bottom: 9px;
}
h1 small,
.h1 small,
h2 small,
.h2 small,
h3 small,
.h3 small,
h1 .small,
.h1 .small,
h2 .small,
.h2 .small,
h3 .small,
.h3 .small {
  font-size: 65%;
}
h4,
.h4,
h5,
.h5,
h6,
.h6 {
  margin-top: 9px;
  margin-bottom: 9px;
}
h4 small,
.h4 small,
h5 small,
.h5 small,
h6 small,
.h6 small,
h4 .small,
.h4 .small,
h5 .small,
.h5 .small,
h6 .small,
.h6 .small {
  font-size: 75%;
}
h1,
.h1 {
  font-size: 33px;
}
h2,
.h2 {
  font-size: 27px;
}
h3,
.h3 {
  font-size: 23px;
}
h4,
.h4 {
  font-size: 17px;
}
h5,
.h5 {
  font-size: 13px;
}
h6,
.h6 {
  font-size: 12px;
}
p {
  margin: 0 0 9px;
}
.lead {
  margin-bottom: 18px;
  font-size: 14px;
  font-weight: 300;
  line-height: 1.4;
}
@media (min-width: 768px) {
  .lead {
    font-size: 19.5px;
  }
}
small,
.small {
  font-size: 92%;
}
mark,
.mark {
  background-color: #fcf8e3;
  padding: .2em;
}
.text-left {
  text-align: left;
}
.text-right {
  text-align: right;
}
.text-center {
  text-align: center;
}
.text-justify {
  text-align: justify;
}
.text-nowrap {
  white-space: nowrap;
}
.text-lowercase {
  text-transform: lowercase;
}
.text-uppercase {
  text-transform: uppercase;
}
.text-capitalize {
  text-transform: capitalize;
}
.text-muted {
  color: #777777;
}
.text-primary {
  color: #337ab7;
}
a.text-primary:hover,
a.text-primary:focus {
  color: #286090;
}
.text-success {
  color: #3c763d;
}
a.text-success:hover,
a.text-success:focus {
  color: #2b542c;
}
.text-info {
  color: #31708f;
}
a.text-info:hover,
a.text-info:focus {
  color: #245269;
}
.text-warning {
  color: #8a6d3b;
}
a.text-warning:hover,
a.text-warning:focus {
  color: #66512c;
}
.text-danger {
  color: #a94442;
}
a.text-danger:hover,
a.text-danger:focus {
  color: #843534;
}
.bg-primary {
  color: #fff;
  background-color: #337ab7;
}
a.bg-primary:hover,
a.bg-primary:focus {
  background-color: #286090;
}
.bg-success {
  background-color: #dff0d8;
}
a.bg-success:hover,
a.bg-success:focus {
  background-color: #c1e2b3;
}
.bg-info {
  background-color: #d9edf7;
}
a.bg-info:hover,
a.bg-info:focus {
  background-color: #afd9ee;
}
.bg-warning {
  background-color: #fcf8e3;
}
a.bg-warning:hover,
a.bg-warning:focus {
  background-color: #f7ecb5;
}
.bg-danger {
  background-color: #f2dede;
}
a.bg-danger:hover,
a.bg-danger:focus {
  background-color: #e4b9b9;
}
.page-header {
  padding-bottom: 8px;
  margin: 36px 0 18px;
  border-bottom: 1px solid #eeeeee;
}
ul,
ol {
  margin-top: 0;
  margin-bottom: 9px;
}
ul ul,
ol ul,
ul ol,
ol ol {
  margin-bottom: 0;
}
.list-unstyled {
  padding-left: 0;
  list-style: none;
}
.list-inline {
  padding-left: 0;
  list-style: none;
  margin-left: -5px;
}
.list-inline > li {
  display: inline-block;
  padding-left: 5px;
  padding-right: 5px;
}
dl {
  margin-top: 0;
  margin-bottom: 18px;
}
dt,
dd {
  line-height: 1.42857143;
}
dt {
  font-weight: bold;
}
dd {
  margin-left: 0;
}
@media (min-width: 541px) {
  .dl-horizontal dt {
    float: left;
    width: 160px;
    clear: left;
    text-align: right;
    overflow: hidden;
    text-overflow: ellipsis;
    white-space: nowrap;
  }
  .dl-horizontal dd {
    margin-left: 180px;
  }
}
abbr[title],
abbr[data-original-title] {
  cursor: help;
  border-bottom: 1px dotted #777777;
}
.initialism {
  font-size: 90%;
  text-transform: uppercase;
}
blockquote {
  padding: 9px 18px;
  margin: 0 0 18px;
  font-size: inherit;
  border-left: 5px solid #eeeeee;
}
blockquote p:last-child,
blockquote ul:last-child,
blockquote ol:last-child {
  margin-bottom: 0;
}
blockquote footer,
blockquote small,
blockquote .small {
  display: block;
  font-size: 80%;
  line-height: 1.42857143;
  color: #777777;
}
blockquote footer:before,
blockquote small:before,
blockquote .small:before {
  content: '\2014 \00A0';
}
.blockquote-reverse,
blockquote.pull-right {
  padding-right: 15px;
  padding-left: 0;
  border-right: 5px solid #eeeeee;
  border-left: 0;
  text-align: right;
}
.blockquote-reverse footer:before,
blockquote.pull-right footer:before,
.blockquote-reverse small:before,
blockquote.pull-right small:before,
.blockquote-reverse .small:before,
blockquote.pull-right .small:before {
  content: '';
}
.blockquote-reverse footer:after,
blockquote.pull-right footer:after,
.blockquote-reverse small:after,
blockquote.pull-right small:after,
.blockquote-reverse .small:after,
blockquote.pull-right .small:after {
  content: '\00A0 \2014';
}
address {
  margin-bottom: 18px;
  font-style: normal;
  line-height: 1.42857143;
}
code,
kbd,
pre,
samp {
  font-family: monospace;
}
code {
  padding: 2px 4px;
  font-size: 90%;
  color: #c7254e;
  background-color: #f9f2f4;
  border-radius: 2px;
}
kbd {
  padding: 2px 4px;
  font-size: 90%;
  color: #888;
  background-color: transparent;
  border-radius: 1px;
  box-shadow: inset 0 -1px 0 rgba(0, 0, 0, 0.25);
}
kbd kbd {
  padding: 0;
  font-size: 100%;
  font-weight: bold;
  box-shadow: none;
}
pre {
  display: block;
  padding: 8.5px;
  margin: 0 0 9px;
  font-size: 12px;
  line-height: 1.42857143;
  word-break: break-all;
  word-wrap: break-word;
  color: #333333;
  background-color: #f5f5f5;
  border: 1px solid #ccc;
  border-radius: 2px;
}
pre code {
  padding: 0;
  font-size: inherit;
  color: inherit;
  white-space: pre-wrap;
  background-color: transparent;
  border-radius: 0;
}
.pre-scrollable {
  max-height: 340px;
  overflow-y: scroll;
}
.container {
  margin-right: auto;
  margin-left: auto;
  padding-left: 0px;
  padding-right: 0px;
}
@media (min-width: 768px) {
  .container {
    width: 768px;
  }
}
@media (min-width: 992px) {
  .container {
    width: 940px;
  }
}
@media (min-width: 1200px) {
  .container {
    width: 1140px;
  }
}
.container-fluid {
  margin-right: auto;
  margin-left: auto;
  padding-left: 0px;
  padding-right: 0px;
}
.row {
  margin-left: 0px;
  margin-right: 0px;
}
.col-xs-1, .col-sm-1, .col-md-1, .col-lg-1, .col-xs-2, .col-sm-2, .col-md-2, .col-lg-2, .col-xs-3, .col-sm-3, .col-md-3, .col-lg-3, .col-xs-4, .col-sm-4, .col-md-4, .col-lg-4, .col-xs-5, .col-sm-5, .col-md-5, .col-lg-5, .col-xs-6, .col-sm-6, .col-md-6, .col-lg-6, .col-xs-7, .col-sm-7, .col-md-7, .col-lg-7, .col-xs-8, .col-sm-8, .col-md-8, .col-lg-8, .col-xs-9, .col-sm-9, .col-md-9, .col-lg-9, .col-xs-10, .col-sm-10, .col-md-10, .col-lg-10, .col-xs-11, .col-sm-11, .col-md-11, .col-lg-11, .col-xs-12, .col-sm-12, .col-md-12, .col-lg-12 {
  position: relative;
  min-height: 1px;
  padding-left: 0px;
  padding-right: 0px;
}
.col-xs-1, .col-xs-2, .col-xs-3, .col-xs-4, .col-xs-5, .col-xs-6, .col-xs-7, .col-xs-8, .col-xs-9, .col-xs-10, .col-xs-11, .col-xs-12 {
  float: left;
}
.col-xs-12 {
  width: 100%;
}
.col-xs-11 {
  width: 91.66666667%;
}
.col-xs-10 {
  width: 83.33333333%;
}
.col-xs-9 {
  width: 75%;
}
.col-xs-8 {
  width: 66.66666667%;
}
.col-xs-7 {
  width: 58.33333333%;
}
.col-xs-6 {
  width: 50%;
}
.col-xs-5 {
  width: 41.66666667%;
}
.col-xs-4 {
  width: 33.33333333%;
}
.col-xs-3 {
  width: 25%;
}
.col-xs-2 {
  width: 16.66666667%;
}
.col-xs-1 {
  width: 8.33333333%;
}
.col-xs-pull-12 {
  right: 100%;
}
.col-xs-pull-11 {
  right: 91.66666667%;
}
.col-xs-pull-10 {
  right: 83.33333333%;
}
.col-xs-pull-9 {
  right: 75%;
}
.col-xs-pull-8 {
  right: 66.66666667%;
}
.col-xs-pull-7 {
  right: 58.33333333%;
}
.col-xs-pull-6 {
  right: 50%;
}
.col-xs-pull-5 {
  right: 41.66666667%;
}
.col-xs-pull-4 {
  right: 33.33333333%;
}
.col-xs-pull-3 {
  right: 25%;
}
.col-xs-pull-2 {
  right: 16.66666667%;
}
.col-xs-pull-1 {
  right: 8.33333333%;
}
.col-xs-pull-0 {
  right: auto;
}
.col-xs-push-12 {
  left: 100%;
}
.col-xs-push-11 {
  left: 91.66666667%;
}
.col-xs-push-10 {
  left: 83.33333333%;
}
.col-xs-push-9 {
  left: 75%;
}
.col-xs-push-8 {
  left: 66.66666667%;
}
.col-xs-push-7 {
  left: 58.33333333%;
}
.col-xs-push-6 {
  left: 50%;
}
.col-xs-push-5 {
  left: 41.66666667%;
}
.col-xs-push-4 {
  left: 33.33333333%;
}
.col-xs-push-3 {
  left: 25%;
}
.col-xs-push-2 {
  left: 16.66666667%;
}
.col-xs-push-1 {
  left: 8.33333333%;
}
.col-xs-push-0 {
  left: auto;
}
.col-xs-offset-12 {
  margin-left: 100%;
}
.col-xs-offset-11 {
  margin-left: 91.66666667%;
}
.col-xs-offset-10 {
  margin-left: 83.33333333%;
}
.col-xs-offset-9 {
  margin-left: 75%;
}
.col-xs-offset-8 {
  margin-left: 66.66666667%;
}
.col-xs-offset-7 {
  margin-left: 58.33333333%;
}
.col-xs-offset-6 {
  margin-left: 50%;
}
.col-xs-offset-5 {
  margin-left: 41.66666667%;
}
.col-xs-offset-4 {
  margin-left: 33.33333333%;
}
.col-xs-offset-3 {
  margin-left: 25%;
}
.col-xs-offset-2 {
  margin-left: 16.66666667%;
}
.col-xs-offset-1 {
  margin-left: 8.33333333%;
}
.col-xs-offset-0 {
  margin-left: 0%;
}
@media (min-width: 768px) {
  .col-sm-1, .col-sm-2, .col-sm-3, .col-sm-4, .col-sm-5, .col-sm-6, .col-sm-7, .col-sm-8, .col-sm-9, .col-sm-10, .col-sm-11, .col-sm-12 {
    float: left;
  }
  .col-sm-12 {
    width: 100%;
  }
  .col-sm-11 {
    width: 91.66666667%;
  }
  .col-sm-10 {
    width: 83.33333333%;
  }
  .col-sm-9 {
    width: 75%;
  }
  .col-sm-8 {
    width: 66.66666667%;
  }
  .col-sm-7 {
    width: 58.33333333%;
  }
  .col-sm-6 {
    width: 50%;
  }
  .col-sm-5 {
    width: 41.66666667%;
  }
  .col-sm-4 {
    width: 33.33333333%;
  }
  .col-sm-3 {
    width: 25%;
  }
  .col-sm-2 {
    width: 16.66666667%;
  }
  .col-sm-1 {
    width: 8.33333333%;
  }
  .col-sm-pull-12 {
    right: 100%;
  }
  .col-sm-pull-11 {
    right: 91.66666667%;
  }
  .col-sm-pull-10 {
    right: 83.33333333%;
  }
  .col-sm-pull-9 {
    right: 75%;
  }
  .col-sm-pull-8 {
    right: 66.66666667%;
  }
  .col-sm-pull-7 {
    right: 58.33333333%;
  }
  .col-sm-pull-6 {
    right: 50%;
  }
  .col-sm-pull-5 {
    right: 41.66666667%;
  }
  .col-sm-pull-4 {
    right: 33.33333333%;
  }
  .col-sm-pull-3 {
    right: 25%;
  }
  .col-sm-pull-2 {
    right: 16.66666667%;
  }
  .col-sm-pull-1 {
    right: 8.33333333%;
  }
  .col-sm-pull-0 {
    right: auto;
  }
  .col-sm-push-12 {
    left: 100%;
  }
  .col-sm-push-11 {
    left: 91.66666667%;
  }
  .col-sm-push-10 {
    left: 83.33333333%;
  }
  .col-sm-push-9 {
    left: 75%;
  }
  .col-sm-push-8 {
    left: 66.66666667%;
  }
  .col-sm-push-7 {
    left: 58.33333333%;
  }
  .col-sm-push-6 {
    left: 50%;
  }
  .col-sm-push-5 {
    left: 41.66666667%;
  }
  .col-sm-push-4 {
    left: 33.33333333%;
  }
  .col-sm-push-3 {
    left: 25%;
  }
  .col-sm-push-2 {
    left: 16.66666667%;
  }
  .col-sm-push-1 {
    left: 8.33333333%;
  }
  .col-sm-push-0 {
    left: auto;
  }
  .col-sm-offset-12 {
    margin-left: 100%;
  }
  .col-sm-offset-11 {
    margin-left: 91.66666667%;
  }
  .col-sm-offset-10 {
    margin-left: 83.33333333%;
  }
  .col-sm-offset-9 {
    margin-left: 75%;
  }
  .col-sm-offset-8 {
    margin-left: 66.66666667%;
  }
  .col-sm-offset-7 {
    margin-left: 58.33333333%;
  }
  .col-sm-offset-6 {
    margin-left: 50%;
  }
  .col-sm-offset-5 {
    margin-left: 41.66666667%;
  }
  .col-sm-offset-4 {
    margin-left: 33.33333333%;
  }
  .col-sm-offset-3 {
    margin-left: 25%;
  }
  .col-sm-offset-2 {
    margin-left: 16.66666667%;
  }
  .col-sm-offset-1 {
    margin-left: 8.33333333%;
  }
  .col-sm-offset-0 {
    margin-left: 0%;
  }
}
@media (min-width: 992px) {
  .col-md-1, .col-md-2, .col-md-3, .col-md-4, .col-md-5, .col-md-6, .col-md-7, .col-md-8, .col-md-9, .col-md-10, .col-md-11, .col-md-12 {
    float: left;
  }
  .col-md-12 {
    width: 100%;
  }
  .col-md-11 {
    width: 91.66666667%;
  }
  .col-md-10 {
    width: 83.33333333%;
  }
  .col-md-9 {
    width: 75%;
  }
  .col-md-8 {
    width: 66.66666667%;
  }
  .col-md-7 {
    width: 58.33333333%;
  }
  .col-md-6 {
    width: 50%;
  }
  .col-md-5 {
    width: 41.66666667%;
  }
  .col-md-4 {
    width: 33.33333333%;
  }
  .col-md-3 {
    width: 25%;
  }
  .col-md-2 {
    width: 16.66666667%;
  }
  .col-md-1 {
    width: 8.33333333%;
  }
  .col-md-pull-12 {
    right: 100%;
  }
  .col-md-pull-11 {
    right: 91.66666667%;
  }
  .col-md-pull-10 {
    right: 83.33333333%;
  }
  .col-md-pull-9 {
    right: 75%;
  }
  .col-md-pull-8 {
    right: 66.66666667%;
  }
  .col-md-pull-7 {
    right: 58.33333333%;
  }
  .col-md-pull-6 {
    right: 50%;
  }
  .col-md-pull-5 {
    right: 41.66666667%;
  }
  .col-md-pull-4 {
    right: 33.33333333%;
  }
  .col-md-pull-3 {
    right: 25%;
  }
  .col-md-pull-2 {
    right: 16.66666667%;
  }
  .col-md-pull-1 {
    right: 8.33333333%;
  }
  .col-md-pull-0 {
    right: auto;
  }
  .col-md-push-12 {
    left: 100%;
  }
  .col-md-push-11 {
    left: 91.66666667%;
  }
  .col-md-push-10 {
    left: 83.33333333%;
  }
  .col-md-push-9 {
    left: 75%;
  }
  .col-md-push-8 {
    left: 66.66666667%;
  }
  .col-md-push-7 {
    left: 58.33333333%;
  }
  .col-md-push-6 {
    left: 50%;
  }
  .col-md-push-5 {
    left: 41.66666667%;
  }
  .col-md-push-4 {
    left: 33.33333333%;
  }
  .col-md-push-3 {
    left: 25%;
  }
  .col-md-push-2 {
    left: 16.66666667%;
  }
  .col-md-push-1 {
    left: 8.33333333%;
  }
  .col-md-push-0 {
    left: auto;
  }
  .col-md-offset-12 {
    margin-left: 100%;
  }
  .col-md-offset-11 {
    margin-left: 91.66666667%;
  }
  .col-md-offset-10 {
    margin-left: 83.33333333%;
  }
  .col-md-offset-9 {
    margin-left: 75%;
  }
  .col-md-offset-8 {
    margin-left: 66.66666667%;
  }
  .col-md-offset-7 {
    margin-left: 58.33333333%;
  }
  .col-md-offset-6 {
    margin-left: 50%;
  }
  .col-md-offset-5 {
    margin-left: 41.66666667%;
  }
  .col-md-offset-4 {
    margin-left: 33.33333333%;
  }
  .col-md-offset-3 {
    margin-left: 25%;
  }
  .col-md-offset-2 {
    margin-left: 16.66666667%;
  }
  .col-md-offset-1 {
    margin-left: 8.33333333%;
  }
  .col-md-offset-0 {
    margin-left: 0%;
  }
}
@media (min-width: 1200px) {
  .col-lg-1, .col-lg-2, .col-lg-3, .col-lg-4, .col-lg-5, .col-lg-6, .col-lg-7, .col-lg-8, .col-lg-9, .col-lg-10, .col-lg-11, .col-lg-12 {
    float: left;
  }
  .col-lg-12 {
    width: 100%;
  }
  .col-lg-11 {
    width: 91.66666667%;
  }
  .col-lg-10 {
    width: 83.33333333%;
  }
  .col-lg-9 {
    width: 75%;
  }
  .col-lg-8 {
    width: 66.66666667%;
  }
  .col-lg-7 {
    width: 58.33333333%;
  }
  .col-lg-6 {
    width: 50%;
  }
  .col-lg-5 {
    width: 41.66666667%;
  }
  .col-lg-4 {
    width: 33.33333333%;
  }
  .col-lg-3 {
    width: 25%;
  }
  .col-lg-2 {
    width: 16.66666667%;
  }
  .col-lg-1 {
    width: 8.33333333%;
  }
  .col-lg-pull-12 {
    right: 100%;
  }
  .col-lg-pull-11 {
    right: 91.66666667%;
  }
  .col-lg-pull-10 {
    right: 83.33333333%;
  }
  .col-lg-pull-9 {
    right: 75%;
  }
  .col-lg-pull-8 {
    right: 66.66666667%;
  }
  .col-lg-pull-7 {
    right: 58.33333333%;
  }
  .col-lg-pull-6 {
    right: 50%;
  }
  .col-lg-pull-5 {
    right: 41.66666667%;
  }
  .col-lg-pull-4 {
    right: 33.33333333%;
  }
  .col-lg-pull-3 {
    right: 25%;
  }
  .col-lg-pull-2 {
    right: 16.66666667%;
  }
  .col-lg-pull-1 {
    right: 8.33333333%;
  }
  .col-lg-pull-0 {
    right: auto;
  }
  .col-lg-push-12 {
    left: 100%;
  }
  .col-lg-push-11 {
    left: 91.66666667%;
  }
  .col-lg-push-10 {
    left: 83.33333333%;
  }
  .col-lg-push-9 {
    left: 75%;
  }
  .col-lg-push-8 {
    left: 66.66666667%;
  }
  .col-lg-push-7 {
    left: 58.33333333%;
  }
  .col-lg-push-6 {
    left: 50%;
  }
  .col-lg-push-5 {
    left: 41.66666667%;
  }
  .col-lg-push-4 {
    left: 33.33333333%;
  }
  .col-lg-push-3 {
    left: 25%;
  }
  .col-lg-push-2 {
    left: 16.66666667%;
  }
  .col-lg-push-1 {
    left: 8.33333333%;
  }
  .col-lg-push-0 {
    left: auto;
  }
  .col-lg-offset-12 {
    margin-left: 100%;
  }
  .col-lg-offset-11 {
    margin-left: 91.66666667%;
  }
  .col-lg-offset-10 {
    margin-left: 83.33333333%;
  }
  .col-lg-offset-9 {
    margin-left: 75%;
  }
  .col-lg-offset-8 {
    margin-left: 66.66666667%;
  }
  .col-lg-offset-7 {
    margin-left: 58.33333333%;
  }
  .col-lg-offset-6 {
    margin-left: 50%;
  }
  .col-lg-offset-5 {
    margin-left: 41.66666667%;
  }
  .col-lg-offset-4 {
    margin-left: 33.33333333%;
  }
  .col-lg-offset-3 {
    margin-left: 25%;
  }
  .col-lg-offset-2 {
    margin-left: 16.66666667%;
  }
  .col-lg-offset-1 {
    margin-left: 8.33333333%;
  }
  .col-lg-offset-0 {
    margin-left: 0%;
  }
}
table {
  background-color: transparent;
}
caption {
  padding-top: 8px;
  padding-bottom: 8px;
  color: #777777;
  text-align: left;
}
th {
  text-align: left;
}
.table {
  width: 100%;
  max-width: 100%;
  margin-bottom: 18px;
}
.table > thead > tr > th,
.table > tbody > tr > th,
.table > tfoot > tr > th,
.table > thead > tr > td,
.table > tbody > tr > td,
.table > tfoot > tr > td {
  padding: 8px;
  line-height: 1.42857143;
  vertical-align: top;
  border-top: 1px solid #ddd;
}
.table > thead > tr > th {
  vertical-align: bottom;
  border-bottom: 2px solid #ddd;
}
.table > caption + thead > tr:first-child > th,
.table > colgroup + thead > tr:first-child > th,
.table > thead:first-child > tr:first-child > th,
.table > caption + thead > tr:first-child > td,
.table > colgroup + thead > tr:first-child > td,
.table > thead:first-child > tr:first-child > td {
  border-top: 0;
}
.table > tbody + tbody {
  border-top: 2px solid #ddd;
}
.table .table {
  background-color: #fff;
}
.table-condensed > thead > tr > th,
.table-condensed > tbody > tr > th,
.table-condensed > tfoot > tr > th,
.table-condensed > thead > tr > td,
.table-condensed > tbody > tr > td,
.table-condensed > tfoot > tr > td {
  padding: 5px;
}
.table-bordered {
  border: 1px solid #ddd;
}
.table-bordered > thead > tr > th,
.table-bordered > tbody > tr > th,
.table-bordered > tfoot > tr > th,
.table-bordered > thead > tr > td,
.table-bordered > tbody > tr > td,
.table-bordered > tfoot > tr > td {
  border: 1px solid #ddd;
}
.table-bordered > thead > tr > th,
.table-bordered > thead > tr > td {
  border-bottom-width: 2px;
}
.table-striped > tbody > tr:nth-of-type(odd) {
  background-color: #f9f9f9;
}
.table-hover > tbody > tr:hover {
  background-color: #f5f5f5;
}
table col[class*="col-"] {
  position: static;
  float: none;
  display: table-column;
}
table td[class*="col-"],
table th[class*="col-"] {
  position: static;
  float: none;
  display: table-cell;
}
.table > thead > tr > td.active,
.table > tbody > tr > td.active,
.table > tfoot > tr > td.active,
.table > thead > tr > th.active,
.table > tbody > tr > th.active,
.table > tfoot > tr > th.active,
.table > thead > tr.active > td,
.table > tbody > tr.active > td,
.table > tfoot > tr.active > td,
.table > thead > tr.active > th,
.table > tbody > tr.active > th,
.table > tfoot > tr.active > th {
  background-color: #f5f5f5;
}
.table-hover > tbody > tr > td.active:hover,
.table-hover > tbody > tr > th.active:hover,
.table-hover > tbody > tr.active:hover > td,
.table-hover > tbody > tr:hover > .active,
.table-hover > tbody > tr.active:hover > th {
  background-color: #e8e8e8;
}
.table > thead > tr > td.success,
.table > tbody > tr > td.success,
.table > tfoot > tr > td.success,
.table > thead > tr > th.success,
.table > tbody > tr > th.success,
.table > tfoot > tr > th.success,
.table > thead > tr.success > td,
.table > tbody > tr.success > td,
.table > tfoot > tr.success > td,
.table > thead > tr.success > th,
.table > tbody > tr.success > th,
.table > tfoot > tr.success > th {
  background-color: #dff0d8;
}
.table-hover > tbody > tr > td.success:hover,
.table-hover > tbody > tr > th.success:hover,
.table-hover > tbody > tr.success:hover > td,
.table-hover > tbody > tr:hover > .success,
.table-hover > tbody > tr.success:hover > th {
  background-color: #d0e9c6;
}
.table > thead > tr > td.info,
.table > tbody > tr > td.info,
.table > tfoot > tr > td.info,
.table > thead > tr > th.info,
.table > tbody > tr > th.info,
.table > tfoot > tr > th.info,
.table > thead > tr.info > td,
.table > tbody > tr.info > td,
.table > tfoot > tr.info > td,
.table > thead > tr.info > th,
.table > tbody > tr.info > th,
.table > tfoot > tr.info > th {
  background-color: #d9edf7;
}
.table-hover > tbody > tr > td.info:hover,
.table-hover > tbody > tr > th.info:hover,
.table-hover > tbody > tr.info:hover > td,
.table-hover > tbody > tr:hover > .info,
.table-hover > tbody > tr.info:hover > th {
  background-color: #c4e3f3;
}
.table > thead > tr > td.warning,
.table > tbody > tr > td.warning,
.table > tfoot > tr > td.warning,
.table > thead > tr > th.warning,
.table > tbody > tr > th.warning,
.table > tfoot > tr > th.warning,
.table > thead > tr.warning > td,
.table > tbody > tr.warning > td,
.table > tfoot > tr.warning > td,
.table > thead > tr.warning > th,
.table > tbody > tr.warning > th,
.table > tfoot > tr.warning > th {
  background-color: #fcf8e3;
}
.table-hover > tbody > tr > td.warning:hover,
.table-hover > tbody > tr > th.warning:hover,
.table-hover > tbody > tr.warning:hover > td,
.table-hover > tbody > tr:hover > .warning,
.table-hover > tbody > tr.warning:hover > th {
  background-color: #faf2cc;
}
.table > thead > tr > td.danger,
.table > tbody > tr > td.danger,
.table > tfoot > tr > td.danger,
.table > thead > tr > th.danger,
.table > tbody > tr > th.danger,
.table > tfoot > tr > th.danger,
.table > thead > tr.danger > td,
.table > tbody > tr.danger > td,
.table > tfoot > tr.danger > td,
.table > thead > tr.danger > th,
.table > tbody > tr.danger > th,
.table > tfoot > tr.danger > th {
  background-color: #f2dede;
}
.table-hover > tbody > tr > td.danger:hover,
.table-hover > tbody > tr > th.danger:hover,
.table-hover > tbody > tr.danger:hover > td,
.table-hover > tbody > tr:hover > .danger,
.table-hover > tbody > tr.danger:hover > th {
  background-color: #ebcccc;
}
.table-responsive {
  overflow-x: auto;
  min-height: 0.01%;
}
@media screen and (max-width: 767px) {
  .table-responsive {
    width: 100%;
    margin-bottom: 13.5px;
    overflow-y: hidden;
    -ms-overflow-style: -ms-autohiding-scrollbar;
    border: 1px solid #ddd;
  }
  .table-responsive > .table {
    margin-bottom: 0;
  }
  .table-responsive > .table > thead > tr > th,
  .table-responsive > .table > tbody > tr > th,
  .table-responsive > .table > tfoot > tr > th,
  .table-responsive > .table > thead > tr > td,
  .table-responsive > .table > tbody > tr > td,
  .table-responsive > .table > tfoot > tr > td {
    white-space: nowrap;
  }
  .table-responsive > .table-bordered {
    border: 0;
  }
  .table-responsive > .table-bordered > thead > tr > th:first-child,
  .table-responsive > .table-bordered > tbody > tr > th:first-child,
  .table-responsive > .table-bordered > tfoot > tr > th:first-child,
  .table-responsive > .table-bordered > thead > tr > td:first-child,
  .table-responsive > .table-bordered > tbody > tr > td:first-child,
  .table-responsive > .table-bordered > tfoot > tr > td:first-child {
    border-left: 0;
  }
  .table-responsive > .table-bordered > thead > tr > th:last-child,
  .table-responsive > .table-bordered > tbody > tr > th:last-child,
  .table-responsive > .table-bordered > tfoot > tr > th:last-child,
  .table-responsive > .table-bordered > thead > tr > td:last-child,
  .table-responsive > .table-bordered > tbody > tr > td:last-child,
  .table-responsive > .table-bordered > tfoot > tr > td:last-child {
    border-right: 0;
  }
  .table-responsive > .table-bordered > tbody > tr:last-child > th,
  .table-responsive > .table-bordered > tfoot > tr:last-child > th,
  .table-responsive > .table-bordered > tbody > tr:last-child > td,
  .table-responsive > .table-bordered > tfoot > tr:last-child > td {
    border-bottom: 0;
  }
}
fieldset {
  padding: 0;
  margin: 0;
  border: 0;
  min-width: 0;
}
legend {
  display: block;
  width: 100%;
  padding: 0;
  margin-bottom: 18px;
  font-size: 19.5px;
  line-height: inherit;
  color: #333333;
  border: 0;
  border-bottom: 1px solid #e5e5e5;
}
label {
  display: inline-block;
  max-width: 100%;
  margin-bottom: 5px;
  font-weight: bold;
}
input[type="search"] {
  -webkit-box-sizing: border-box;
  -moz-box-sizing: border-box;
  box-sizing: border-box;
}
input[type="radio"],
input[type="checkbox"] {
  margin: 4px 0 0;
  margin-top: 1px \9;
  line-height: normal;
}
input[type="file"] {
  display: block;
}
input[type="range"] {
  display: block;
  width: 100%;
}
select[multiple],
select[size] {
  height: auto;
}
input[type="file"]:focus,
input[type="radio"]:focus,
input[type="checkbox"]:focus {
  outline: thin dotted;
  outline: 5px auto -webkit-focus-ring-color;
  outline-offset: -2px;
}
output {
  display: block;
  padding-top: 7px;
  font-size: 13px;
  line-height: 1.42857143;
  color: #555555;
}
.form-control {
  display: block;
  width: 100%;
  height: 32px;
  padding: 6px 12px;
  font-size: 13px;
  line-height: 1.42857143;
  color: #555555;
  background-color: #fff;
  background-image: none;
  border: 1px solid #ccc;
  border-radius: 2px;
  -webkit-box-shadow: inset 0 1px 1px rgba(0, 0, 0, 0.075);
  box-shadow: inset 0 1px 1px rgba(0, 0, 0, 0.075);
  -webkit-transition: border-color ease-in-out .15s, box-shadow ease-in-out .15s;
  -o-transition: border-color ease-in-out .15s, box-shadow ease-in-out .15s;
  transition: border-color ease-in-out .15s, box-shadow ease-in-out .15s;
}
.form-control:focus {
  border-color: #66afe9;
  outline: 0;
  -webkit-box-shadow: inset 0 1px 1px rgba(0,0,0,.075), 0 0 8px rgba(102, 175, 233, 0.6);
  box-shadow: inset 0 1px 1px rgba(0,0,0,.075), 0 0 8px rgba(102, 175, 233, 0.6);
}
.form-control::-moz-placeholder {
  color: #999;
  opacity: 1;
}
.form-control:-ms-input-placeholder {
  color: #999;
}
.form-control::-webkit-input-placeholder {
  color: #999;
}
.form-control::-ms-expand {
  border: 0;
  background-color: transparent;
}
.form-control[disabled],
.form-control[readonly],
fieldset[disabled] .form-control {
  background-color: #eeeeee;
  opacity: 1;
}
.form-control[disabled],
fieldset[disabled] .form-control {
  cursor: not-allowed;
}
textarea.form-control {
  height: auto;
}
input[type="search"] {
  -webkit-appearance: none;
}
@media screen and (-webkit-min-device-pixel-ratio: 0) {
  input[type="date"].form-control,
  input[type="time"].form-control,
  input[type="datetime-local"].form-control,
  input[type="month"].form-control {
    line-height: 32px;
  }
  input[type="date"].input-sm,
  input[type="time"].input-sm,
  input[type="datetime-local"].input-sm,
  input[type="month"].input-sm,
  .input-group-sm input[type="date"],
  .input-group-sm input[type="time"],
  .input-group-sm input[type="datetime-local"],
  .input-group-sm input[type="month"] {
    line-height: 30px;
  }
  input[type="date"].input-lg,
  input[type="time"].input-lg,
  input[type="datetime-local"].input-lg,
  input[type="month"].input-lg,
  .input-group-lg input[type="date"],
  .input-group-lg input[type="time"],
  .input-group-lg input[type="datetime-local"],
  .input-group-lg input[type="month"] {
    line-height: 45px;
  }
}
.form-group {
  margin-bottom: 15px;
}
.radio,
.checkbox {
  position: relative;
  display: block;
  margin-top: 10px;
  margin-bottom: 10px;
}
.radio label,
.checkbox label {
  min-height: 18px;
  padding-left: 20px;
  margin-bottom: 0;
  font-weight: normal;
  cursor: pointer;
}
.radio input[type="radio"],
.radio-inline input[type="radio"],
.checkbox input[type="checkbox"],
.checkbox-inline input[type="checkbox"] {
  position: absolute;
  margin-left: -20px;
  margin-top: 4px \9;
}
.radio + .radio,
.checkbox + .checkbox {
  margin-top: -5px;
}
.radio-inline,
.checkbox-inline {
  position: relative;
  display: inline-block;
  padding-left: 20px;
  margin-bottom: 0;
  vertical-align: middle;
  font-weight: normal;
  cursor: pointer;
}
.radio-inline + .radio-inline,
.checkbox-inline + .checkbox-inline {
  margin-top: 0;
  margin-left: 10px;
}
input[type="radio"][disabled],
input[type="checkbox"][disabled],
input[type="radio"].disabled,
input[type="checkbox"].disabled,
fieldset[disabled] input[type="radio"],
fieldset[disabled] input[type="checkbox"] {
  cursor: not-allowed;
}
.radio-inline.disabled,
.checkbox-inline.disabled,
fieldset[disabled] .radio-inline,
fieldset[disabled] .checkbox-inline {
  cursor: not-allowed;
}
.radio.disabled label,
.checkbox.disabled label,
fieldset[disabled] .radio label,
fieldset[disabled] .checkbox label {
  cursor: not-allowed;
}
.form-control-static {
  padding-top: 7px;
  padding-bottom: 7px;
  margin-bottom: 0;
  min-height: 31px;
}
.form-control-static.input-lg,
.form-control-static.input-sm {
  padding-left: 0;
  padding-right: 0;
}
.input-sm {
  height: 30px;
  padding: 5px 10px;
  font-size: 12px;
  line-height: 1.5;
  border-radius: 1px;
}
select.input-sm {
  height: 30px;
  line-height: 30px;
}
textarea.input-sm,
select[multiple].input-sm {
  height: auto;
}
.form-group-sm .form-control {
  height: 30px;
  padding: 5px 10px;
  font-size: 12px;
  line-height: 1.5;
  border-radius: 1px;
}
.form-group-sm select.form-control {
  height: 30px;
  line-height: 30px;
}
.form-group-sm textarea.form-control,
.form-group-sm select[multiple].form-control {
  height: auto;
}
.form-group-sm .form-control-static {
  height: 30px;
  min-height: 30px;
  padding: 6px 10px;
  font-size: 12px;
  line-height: 1.5;
}
.input-lg {
  height: 45px;
  padding: 10px 16px;
  font-size: 17px;
  line-height: 1.3333333;
  border-radius: 3px;
}
select.input-lg {
  height: 45px;
  line-height: 45px;
}
textarea.input-lg,
select[multiple].input-lg {
  height: auto;
}
.form-group-lg .form-control {
  height: 45px;
  padding: 10px 16px;
  font-size: 17px;
  line-height: 1.3333333;
  border-radius: 3px;
}
.form-group-lg select.form-control {
  height: 45px;
  line-height: 45px;
}
.form-group-lg textarea.form-control,
.form-group-lg select[multiple].form-control {
  height: auto;
}
.form-group-lg .form-control-static {
  height: 45px;
  min-height: 35px;
  padding: 11px 16px;
  font-size: 17px;
  line-height: 1.3333333;
}
.has-feedback {
  position: relative;
}
.has-feedback .form-control {
  padding-right: 40px;
}
.form-control-feedback {
  position: absolute;
  top: 0;
  right: 0;
  z-index: 2;
  display: block;
  width: 32px;
  height: 32px;
  line-height: 32px;
  text-align: center;
  pointer-events: none;
}
.input-lg + .form-control-feedback,
.input-group-lg + .form-control-feedback,
.form-group-lg .form-control + .form-control-feedback {
  width: 45px;
  height: 45px;
  line-height: 45px;
}
.input-sm + .form-control-feedback,
.input-group-sm + .form-control-feedback,
.form-group-sm .form-control + .form-control-feedback {
  width: 30px;
  height: 30px;
  line-height: 30px;
}
.has-success .help-block,
.has-success .control-label,
.has-success .radio,
.has-success .checkbox,
.has-success .radio-inline,
.has-success .checkbox-inline,
.has-success.radio label,
.has-success.checkbox label,
.has-success.radio-inline label,
.has-success.checkbox-inline label {
  color: #3c763d;
}
.has-success .form-control {
  border-color: #3c763d;
  -webkit-box-shadow: inset 0 1px 1px rgba(0, 0, 0, 0.075);
  box-shadow: inset 0 1px 1px rgba(0, 0, 0, 0.075);
}
.has-success .form-control:focus {
  border-color: #2b542c;
  -webkit-box-shadow: inset 0 1px 1px rgba(0, 0, 0, 0.075), 0 0 6px #67b168;
  box-shadow: inset 0 1px 1px rgba(0, 0, 0, 0.075), 0 0 6px #67b168;
}
.has-success .input-group-addon {
  color: #3c763d;
  border-color: #3c763d;
  background-color: #dff0d8;
}
.has-success .form-control-feedback {
  color: #3c763d;
}
.has-warning .help-block,
.has-warning .control-label,
.has-warning .radio,
.has-warning .checkbox,
.has-warning .radio-inline,
.has-warning .checkbox-inline,
.has-warning.radio label,
.has-warning.checkbox label,
.has-warning.radio-inline label,
.has-warning.checkbox-inline label {
  color: #8a6d3b;
}
.has-warning .form-control {
  border-color: #8a6d3b;
  -webkit-box-shadow: inset 0 1px 1px rgba(0, 0, 0, 0.075);
  box-shadow: inset 0 1px 1px rgba(0, 0, 0, 0.075);
}
.has-warning .form-control:focus {
  border-color: #66512c;
  -webkit-box-shadow: inset 0 1px 1px rgba(0, 0, 0, 0.075), 0 0 6px #c0a16b;
  box-shadow: inset 0 1px 1px rgba(0, 0, 0, 0.075), 0 0 6px #c0a16b;
}
.has-warning .input-group-addon {
  color: #8a6d3b;
  border-color: #8a6d3b;
  background-color: #fcf8e3;
}
.has-warning .form-control-feedback {
  color: #8a6d3b;
}
.has-error .help-block,
.has-error .control-label,
.has-error .radio,
.has-error .checkbox,
.has-error .radio-inline,
.has-error .checkbox-inline,
.has-error.radio label,
.has-error.checkbox label,
.has-error.radio-inline label,
.has-error.checkbox-inline label {
  color: #a94442;
}
.has-error .form-control {
  border-color: #a94442;
  -webkit-box-shadow: inset 0 1px 1px rgba(0, 0, 0, 0.075);
  box-shadow: inset 0 1px 1px rgba(0, 0, 0, 0.075);
}
.has-error .form-control:focus {
  border-color: #843534;
  -webkit-box-shadow: inset 0 1px 1px rgba(0, 0, 0, 0.075), 0 0 6px #ce8483;
  box-shadow: inset 0 1px 1px rgba(0, 0, 0, 0.075), 0 0 6px #ce8483;
}
.has-error .input-group-addon {
  color: #a94442;
  border-color: #a94442;
  background-color: #f2dede;
}
.has-error .form-control-feedback {
  color: #a94442;
}
.has-feedback label ~ .form-control-feedback {
  top: 23px;
}
.has-feedback label.sr-only ~ .form-control-feedback {
  top: 0;
}
.help-block {
  display: block;
  margin-top: 5px;
  margin-bottom: 10px;
  color: #404040;
}
@media (min-width: 768px) {
  .form-inline .form-group {
    display: inline-block;
    margin-bottom: 0;
    vertical-align: middle;
  }
  .form-inline .form-control {
    display: inline-block;
    width: auto;
    vertical-align: middle;
  }
  .form-inline .form-control-static {
    display: inline-block;
  }
  .form-inline .input-group {
    display: inline-table;
    vertical-align: middle;
  }
  .form-inline .input-group .input-group-addon,
  .form-inline .input-group .input-group-btn,
  .form-inline .input-group .form-control {
    width: auto;
  }
  .form-inline .input-group > .form-control {
    width: 100%;
  }
  .form-inline .control-label {
    margin-bottom: 0;
    vertical-align: middle;
  }
  .form-inline .radio,
  .form-inline .checkbox {
    display: inline-block;
    margin-top: 0;
    margin-bottom: 0;
    vertical-align: middle;
  }
  .form-inline .radio label,
  .form-inline .checkbox label {
    padding-left: 0;
  }
  .form-inline .radio input[type="radio"],
  .form-inline .checkbox input[type="checkbox"] {
    position: relative;
    margin-left: 0;
  }
  .form-inline .has-feedback .form-control-feedback {
    top: 0;
  }
}
.form-horizontal .radio,
.form-horizontal .checkbox,
.form-horizontal .radio-inline,
.form-horizontal .checkbox-inline {
  margin-top: 0;
  margin-bottom: 0;
  padding-top: 7px;
}
.form-horizontal .radio,
.form-horizontal .checkbox {
  min-height: 25px;
}
.form-horizontal .form-group {
  margin-left: 0px;
  margin-right: 0px;
}
@media (min-width: 768px) {
  .form-horizontal .control-label {
    text-align: right;
    margin-bottom: 0;
    padding-top: 7px;
  }
}
.form-horizontal .has-feedback .form-control-feedback {
  right: 0px;
}
@media (min-width: 768px) {
  .form-horizontal .form-group-lg .control-label {
    padding-top: 11px;
    font-size: 17px;
  }
}
@media (min-width: 768px) {
  .form-horizontal .form-group-sm .control-label {
    padding-top: 6px;
    font-size: 12px;
  }
}
.btn {
  display: inline-block;
  margin-bottom: 0;
  font-weight: normal;
  text-align: center;
  vertical-align: middle;
  touch-action: manipulation;
  cursor: pointer;
  background-image: none;
  border: 1px solid transparent;
  white-space: nowrap;
  padding: 6px 12px;
  font-size: 13px;
  line-height: 1.42857143;
  border-radius: 2px;
  -webkit-user-select: none;
  -moz-user-select: none;
  -ms-user-select: none;
  user-select: none;
}
.btn:focus,
.btn:active:focus,
.btn.active:focus,
.btn.focus,
.btn:active.focus,
.btn.active.focus {
  outline: thin dotted;
  outline: 5px auto -webkit-focus-ring-color;
  outline-offset: -2px;
}
.btn:hover,
.btn:focus,
.btn.focus {
  color: #333;
  text-decoration: none;
}
.btn:active,
.btn.active {
  outline: 0;
  background-image: none;
  -webkit-box-shadow: inset 0 3px 5px rgba(0, 0, 0, 0.125);
  box-shadow: inset 0 3px 5px rgba(0, 0, 0, 0.125);
}
.btn.disabled,
.btn[disabled],
fieldset[disabled] .btn {
  cursor: not-allowed;
  opacity: 0.65;
  filter: alpha(opacity=65);
  -webkit-box-shadow: none;
  box-shadow: none;
}
a.btn.disabled,
fieldset[disabled] a.btn {
  pointer-events: none;
}
.btn-default {
  color: #333;
  background-color: #fff;
  border-color: #ccc;
}
.btn-default:focus,
.btn-default.focus {
  color: #333;
  background-color: #e6e6e6;
  border-color: #8c8c8c;
}
.btn-default:hover {
  color: #333;
  background-color: #e6e6e6;
  border-color: #adadad;
}
.btn-default:active,
.btn-default.active,
.open > .dropdown-toggle.btn-default {
  color: #333;
  background-color: #e6e6e6;
  border-color: #adadad;
}
.btn-default:active:hover,
.btn-default.active:hover,
.open > .dropdown-toggle.btn-default:hover,
.btn-default:active:focus,
.btn-default.active:focus,
.open > .dropdown-toggle.btn-default:focus,
.btn-default:active.focus,
.btn-default.active.focus,
.open > .dropdown-toggle.btn-default.focus {
  color: #333;
  background-color: #d4d4d4;
  border-color: #8c8c8c;
}
.btn-default:active,
.btn-default.active,
.open > .dropdown-toggle.btn-default {
  background-image: none;
}
.btn-default.disabled:hover,
.btn-default[disabled]:hover,
fieldset[disabled] .btn-default:hover,
.btn-default.disabled:focus,
.btn-default[disabled]:focus,
fieldset[disabled] .btn-default:focus,
.btn-default.disabled.focus,
.btn-default[disabled].focus,
fieldset[disabled] .btn-default.focus {
  background-color: #fff;
  border-color: #ccc;
}
.btn-default .badge {
  color: #fff;
  background-color: #333;
}
.btn-primary {
  color: #fff;
  background-color: #337ab7;
  border-color: #2e6da4;
}
.btn-primary:focus,
.btn-primary.focus {
  color: #fff;
  background-color: #286090;
  border-color: #122b40;
}
.btn-primary:hover {
  color: #fff;
  background-color: #286090;
  border-color: #204d74;
}
.btn-primary:active,
.btn-primary.active,
.open > .dropdown-toggle.btn-primary {
  color: #fff;
  background-color: #286090;
  border-color: #204d74;
}
.btn-primary:active:hover,
.btn-primary.active:hover,
.open > .dropdown-toggle.btn-primary:hover,
.btn-primary:active:focus,
.btn-primary.active:focus,
.open > .dropdown-toggle.btn-primary:focus,
.btn-primary:active.focus,
.btn-primary.active.focus,
.open > .dropdown-toggle.btn-primary.focus {
  color: #fff;
  background-color: #204d74;
  border-color: #122b40;
}
.btn-primary:active,
.btn-primary.active,
.open > .dropdown-toggle.btn-primary {
  background-image: none;
}
.btn-primary.disabled:hover,
.btn-primary[disabled]:hover,
fieldset[disabled] .btn-primary:hover,
.btn-primary.disabled:focus,
.btn-primary[disabled]:focus,
fieldset[disabled] .btn-primary:focus,
.btn-primary.disabled.focus,
.btn-primary[disabled].focus,
fieldset[disabled] .btn-primary.focus {
  background-color: #337ab7;
  border-color: #2e6da4;
}
.btn-primary .badge {
  color: #337ab7;
  background-color: #fff;
}
.btn-success {
  color: #fff;
  background-color: #5cb85c;
  border-color: #4cae4c;
}
.btn-success:focus,
.btn-success.focus {
  color: #fff;
  background-color: #449d44;
  border-color: #255625;
}
.btn-success:hover {
  color: #fff;
  background-color: #449d44;
  border-color: #398439;
}
.btn-success:active,
.btn-success.active,
.open > .dropdown-toggle.btn-success {
  color: #fff;
  background-color: #449d44;
  border-color: #398439;
}
.btn-success:active:hover,
.btn-success.active:hover,
.open > .dropdown-toggle.btn-success:hover,
.btn-success:active:focus,
.btn-success.active:focus,
.open > .dropdown-toggle.btn-success:focus,
.btn-success:active.focus,
.btn-success.active.focus,
.open > .dropdown-toggle.btn-success.focus {
  color: #fff;
  background-color: #398439;
  border-color: #255625;
}
.btn-success:active,
.btn-success.active,
.open > .dropdown-toggle.btn-success {
  background-image: none;
}
.btn-success.disabled:hover,
.btn-success[disabled]:hover,
fieldset[disabled] .btn-success:hover,
.btn-success.disabled:focus,
.btn-success[disabled]:focus,
fieldset[disabled] .btn-success:focus,
.btn-success.disabled.focus,
.btn-success[disabled].focus,
fieldset[disabled] .btn-success.focus {
  background-color: #5cb85c;
  border-color: #4cae4c;
}
.btn-success .badge {
  color: #5cb85c;
  background-color: #fff;
}
.btn-info {
  color: #fff;
  background-color: #5bc0de;
  border-color: #46b8da;
}
.btn-info:focus,
.btn-info.focus {
  color: #fff;
  background-color: #31b0d5;
  border-color: #1b6d85;
}
.btn-info:hover {
  color: #fff;
  background-color: #31b0d5;
  border-color: #269abc;
}
.btn-info:active,
.btn-info.active,
.open > .dropdown-toggle.btn-info {
  color: #fff;
  background-color: #31b0d5;
  border-color: #269abc;
}
.btn-info:active:hover,
.btn-info.active:hover,
.open > .dropdown-toggle.btn-info:hover,
.btn-info:active:focus,
.btn-info.active:focus,
.open > .dropdown-toggle.btn-info:focus,
.btn-info:active.focus,
.btn-info.active.focus,
.open > .dropdown-toggle.btn-info.focus {
  color: #fff;
  background-color: #269abc;
  border-color: #1b6d85;
}
.btn-info:active,
.btn-info.active,
.open > .dropdown-toggle.btn-info {
  background-image: none;
}
.btn-info.disabled:hover,
.btn-info[disabled]:hover,
fieldset[disabled] .btn-info:hover,
.btn-info.disabled:focus,
.btn-info[disabled]:focus,
fieldset[disabled] .btn-info:focus,
.btn-info.disabled.focus,
.btn-info[disabled].focus,
fieldset[disabled] .btn-info.focus {
  background-color: #5bc0de;
  border-color: #46b8da;
}
.btn-info .badge {
  color: #5bc0de;
  background-color: #fff;
}
.btn-warning {
  color: #fff;
  background-color: #f0ad4e;
  border-color: #eea236;
}
.btn-warning:focus,
.btn-warning.focus {
  color: #fff;
  background-color: #ec971f;
  border-color: #985f0d;
}
.btn-warning:hover {
  color: #fff;
  background-color: #ec971f;
  border-color: #d58512;
}
.btn-warning:active,
.btn-warning.active,
.open > .dropdown-toggle.btn-warning {
  color: #fff;
  background-color: #ec971f;
  border-color: #d58512;
}
.btn-warning:active:hover,
.btn-warning.active:hover,
.open > .dropdown-toggle.btn-warning:hover,
.btn-warning:active:focus,
.btn-warning.active:focus,
.open > .dropdown-toggle.btn-warning:focus,
.btn-warning:active.focus,
.btn-warning.active.focus,
.open > .dropdown-toggle.btn-warning.focus {
  color: #fff;
  background-color: #d58512;
  border-color: #985f0d;
}
.btn-warning:active,
.btn-warning.active,
.open > .dropdown-toggle.btn-warning {
  background-image: none;
}
.btn-warning.disabled:hover,
.btn-warning[disabled]:hover,
fieldset[disabled] .btn-warning:hover,
.btn-warning.disabled:focus,
.btn-warning[disabled]:focus,
fieldset[disabled] .btn-warning:focus,
.btn-warning.disabled.focus,
.btn-warning[disabled].focus,
fieldset[disabled] .btn-warning.focus {
  background-color: #f0ad4e;
  border-color: #eea236;
}
.btn-warning .badge {
  color: #f0ad4e;
  background-color: #fff;
}
.btn-danger {
  color: #fff;
  background-color: #d9534f;
  border-color: #d43f3a;
}
.btn-danger:focus,
.btn-danger.focus {
  color: #fff;
  background-color: #c9302c;
  border-color: #761c19;
}
.btn-danger:hover {
  color: #fff;
  background-color: #c9302c;
  border-color: #ac2925;
}
.btn-danger:active,
.btn-danger.active,
.open > .dropdown-toggle.btn-danger {
  color: #fff;
  background-color: #c9302c;
  border-color: #ac2925;
}
.btn-danger:active:hover,
.btn-danger.active:hover,
.open > .dropdown-toggle.btn-danger:hover,
.btn-danger:active:focus,
.btn-danger.active:focus,
.open > .dropdown-toggle.btn-danger:focus,
.btn-danger:active.focus,
.btn-danger.active.focus,
.open > .dropdown-toggle.btn-danger.focus {
  color: #fff;
  background-color: #ac2925;
  border-color: #761c19;
}
.btn-danger:active,
.btn-danger.active,
.open > .dropdown-toggle.btn-danger {
  background-image: none;
}
.btn-danger.disabled:hover,
.btn-danger[disabled]:hover,
fieldset[disabled] .btn-danger:hover,
.btn-danger.disabled:focus,
.btn-danger[disabled]:focus,
fieldset[disabled] .btn-danger:focus,
.btn-danger.disabled.focus,
.btn-danger[disabled].focus,
fieldset[disabled] .btn-danger.focus {
  background-color: #d9534f;
  border-color: #d43f3a;
}
.btn-danger .badge {
  color: #d9534f;
  background-color: #fff;
}
.btn-link {
  color: #337ab7;
  font-weight: normal;
  border-radius: 0;
}
.btn-link,
.btn-link:active,
.btn-link.active,
.btn-link[disabled],
fieldset[disabled] .btn-link {
  background-color: transparent;
  -webkit-box-shadow: none;
  box-shadow: none;
}
.btn-link,
.btn-link:hover,
.btn-link:focus,
.btn-link:active {
  border-color: transparent;
}
.btn-link:hover,
.btn-link:focus {
  color: #23527c;
  text-decoration: underline;
  background-color: transparent;
}
.btn-link[disabled]:hover,
fieldset[disabled] .btn-link:hover,
.btn-link[disabled]:focus,
fieldset[disabled] .btn-link:focus {
  color: #777777;
  text-decoration: none;
}
.btn-lg,
.btn-group-lg > .btn {
  padding: 10px 16px;
  font-size: 17px;
  line-height: 1.3333333;
  border-radius: 3px;
}
.btn-sm,
.btn-group-sm > .btn {
  padding: 5px 10px;
  font-size: 12px;
  line-height: 1.5;
  border-radius: 1px;
}
.btn-xs,
.btn-group-xs > .btn {
  padding: 1px 5px;
  font-size: 12px;
  line-height: 1.5;
  border-radius: 1px;
}
.btn-block {
  display: block;
  width: 100%;
}
.btn-block + .btn-block {
  margin-top: 5px;
}
input[type="submit"].btn-block,
input[type="reset"].btn-block,
input[type="button"].btn-block {
  width: 100%;
}
.fade {
  opacity: 0;
  -webkit-transition: opacity 0.15s linear;
  -o-transition: opacity 0.15s linear;
  transition: opacity 0.15s linear;
}
.fade.in {
  opacity: 1;
}
.collapse {
  display: none;
}
.collapse.in {
  display: block;
}
tr.collapse.in {
  display: table-row;
}
tbody.collapse.in {
  display: table-row-group;
}
.collapsing {
  position: relative;
  height: 0;
  overflow: hidden;
  -webkit-transition-property: height, visibility;
  transition-property: height, visibility;
  -webkit-transition-duration: 0.35s;
  transition-duration: 0.35s;
  -webkit-transition-timing-function: ease;
  transition-timing-function: ease;
}
.caret {
  display: inline-block;
  width: 0;
  height: 0;
  margin-left: 2px;
  vertical-align: middle;
  border-top: 4px dashed;
  border-top: 4px solid \9;
  border-right: 4px solid transparent;
  border-left: 4px solid transparent;
}
.dropup,
.dropdown {
  position: relative;
}
.dropdown-toggle:focus {
  outline: 0;
}
.dropdown-menu {
  position: absolute;
  top: 100%;
  left: 0;
  z-index: 1000;
  display: none;
  float: left;
  min-width: 160px;
  padding: 5px 0;
  margin: 2px 0 0;
  list-style: none;
  font-size: 13px;
  text-align: left;
  background-color: #fff;
  border: 1px solid #ccc;
  border: 1px solid rgba(0, 0, 0, 0.15);
  border-radius: 2px;
  -webkit-box-shadow: 0 6px 12px rgba(0, 0, 0, 0.175);
  box-shadow: 0 6px 12px rgba(0, 0, 0, 0.175);
  background-clip: padding-box;
}
.dropdown-menu.pull-right {
  right: 0;
  left: auto;
}
.dropdown-menu .divider {
  height: 1px;
  margin: 8px 0;
  overflow: hidden;
  background-color: #e5e5e5;
}
.dropdown-menu > li > a {
  display: block;
  padding: 3px 20px;
  clear: both;
  font-weight: normal;
  line-height: 1.42857143;
  color: #333333;
  white-space: nowrap;
}
.dropdown-menu > li > a:hover,
.dropdown-menu > li > a:focus {
  text-decoration: none;
  color: #262626;
  background-color: #f5f5f5;
}
.dropdown-menu > .active > a,
.dropdown-menu > .active > a:hover,
.dropdown-menu > .active > a:focus {
  color: #fff;
  text-decoration: none;
  outline: 0;
  background-color: #337ab7;
}
.dropdown-menu > .disabled > a,
.dropdown-menu > .disabled > a:hover,
.dropdown-menu > .disabled > a:focus {
  color: #777777;
}
.dropdown-menu > .disabled > a:hover,
.dropdown-menu > .disabled > a:focus {
  text-decoration: none;
  background-color: transparent;
  background-image: none;
  filter: progid:DXImageTransform.Microsoft.gradient(enabled = false);
  cursor: not-allowed;
}
.open > .dropdown-menu {
  display: block;
}
.open > a {
  outline: 0;
}
.dropdown-menu-right {
  left: auto;
  right: 0;
}
.dropdown-menu-left {
  left: 0;
  right: auto;
}
.dropdown-header {
  display: block;
  padding: 3px 20px;
  font-size: 12px;
  line-height: 1.42857143;
  color: #777777;
  white-space: nowrap;
}
.dropdown-backdrop {
  position: fixed;
  left: 0;
  right: 0;
  bottom: 0;
  top: 0;
  z-index: 990;
}
.pull-right > .dropdown-menu {
  right: 0;
  left: auto;
}
.dropup .caret,
.navbar-fixed-bottom .dropdown .caret {
  border-top: 0;
  border-bottom: 4px dashed;
  border-bottom: 4px solid \9;
  content: "";
}
.dropup .dropdown-menu,
.navbar-fixed-bottom .dropdown .dropdown-menu {
  top: auto;
  bottom: 100%;
  margin-bottom: 2px;
}
@media (min-width: 541px) {
  .navbar-right .dropdown-menu {
    left: auto;
    right: 0;
  }
  .navbar-right .dropdown-menu-left {
    left: 0;
    right: auto;
  }
}
.btn-group,
.btn-group-vertical {
  position: relative;
  display: inline-block;
  vertical-align: middle;
}
.btn-group > .btn,
.btn-group-vertical > .btn {
  position: relative;
  float: left;
}
.btn-group > .btn:hover,
.btn-group-vertical > .btn:hover,
.btn-group > .btn:focus,
.btn-group-vertical > .btn:focus,
.btn-group > .btn:active,
.btn-group-vertical > .btn:active,
.btn-group > .btn.active,
.btn-group-vertical > .btn.active {
  z-index: 2;
}
.btn-group .btn + .btn,
.btn-group .btn + .btn-group,
.btn-group .btn-group + .btn,
.btn-group .btn-group + .btn-group {
  margin-left: -1px;
}
.btn-toolbar {
  margin-left: -5px;
}
.btn-toolbar .btn,
.btn-toolbar .btn-group,
.btn-toolbar .input-group {
  float: left;
}
.btn-toolbar > .btn,
.btn-toolbar > .btn-group,
.btn-toolbar > .input-group {
  margin-left: 5px;
}
.btn-group > .btn:not(:first-child):not(:last-child):not(.dropdown-toggle) {
  border-radius: 0;
}
.btn-group > .btn:first-child {
  margin-left: 0;
}
.btn-group > .btn:first-child:not(:last-child):not(.dropdown-toggle) {
  border-bottom-right-radius: 0;
  border-top-right-radius: 0;
}
.btn-group > .btn:last-child:not(:first-child),
.btn-group > .dropdown-toggle:not(:first-child) {
  border-bottom-left-radius: 0;
  border-top-left-radius: 0;
}
.btn-group > .btn-group {
  float: left;
}
.btn-group > .btn-group:not(:first-child):not(:last-child) > .btn {
  border-radius: 0;
}
.btn-group > .btn-group:first-child:not(:last-child) > .btn:last-child,
.btn-group > .btn-group:first-child:not(:last-child) > .dropdown-toggle {
  border-bottom-right-radius: 0;
  border-top-right-radius: 0;
}
.btn-group > .btn-group:last-child:not(:first-child) > .btn:first-child {
  border-bottom-left-radius: 0;
  border-top-left-radius: 0;
}
.btn-group .dropdown-toggle:active,
.btn-group.open .dropdown-toggle {
  outline: 0;
}
.btn-group > .btn + .dropdown-toggle {
  padding-left: 8px;
  padding-right: 8px;
}
.btn-group > .btn-lg + .dropdown-toggle {
  padding-left: 12px;
  padding-right: 12px;
}
.btn-group.open .dropdown-toggle {
  -webkit-box-shadow: inset 0 3px 5px rgba(0, 0, 0, 0.125);
  box-shadow: inset 0 3px 5px rgba(0, 0, 0, 0.125);
}
.btn-group.open .dropdown-toggle.btn-link {
  -webkit-box-shadow: none;
  box-shadow: none;
}
.btn .caret {
  margin-left: 0;
}
.btn-lg .caret {
  border-width: 5px 5px 0;
  border-bottom-width: 0;
}
.dropup .btn-lg .caret {
  border-width: 0 5px 5px;
}
.btn-group-vertical > .btn,
.btn-group-vertical > .btn-group,
.btn-group-vertical > .btn-group > .btn {
  display: block;
  float: none;
  width: 100%;
  max-width: 100%;
}
.btn-group-vertical > .btn-group > .btn {
  float: none;
}
.btn-group-vertical > .btn + .btn,
.btn-group-vertical > .btn + .btn-group,
.btn-group-vertical > .btn-group + .btn,
.btn-group-vertical > .btn-group + .btn-group {
  margin-top: -1px;
  margin-left: 0;
}
.btn-group-vertical > .btn:not(:first-child):not(:last-child) {
  border-radius: 0;
}
.btn-group-vertical > .btn:first-child:not(:last-child) {
  border-top-right-radius: 2px;
  border-top-left-radius: 2px;
  border-bottom-right-radius: 0;
  border-bottom-left-radius: 0;
}
.btn-group-vertical > .btn:last-child:not(:first-child) {
  border-top-right-radius: 0;
  border-top-left-radius: 0;
  border-bottom-right-radius: 2px;
  border-bottom-left-radius: 2px;
}
.btn-group-vertical > .btn-group:not(:first-child):not(:last-child) > .btn {
  border-radius: 0;
}
.btn-group-vertical > .btn-group:first-child:not(:last-child) > .btn:last-child,
.btn-group-vertical > .btn-group:first-child:not(:last-child) > .dropdown-toggle {
  border-bottom-right-radius: 0;
  border-bottom-left-radius: 0;
}
.btn-group-vertical > .btn-group:last-child:not(:first-child) > .btn:first-child {
  border-top-right-radius: 0;
  border-top-left-radius: 0;
}
.btn-group-justified {
  display: table;
  width: 100%;
  table-layout: fixed;
  border-collapse: separate;
}
.btn-group-justified > .btn,
.btn-group-justified > .btn-group {
  float: none;
  display: table-cell;
  width: 1%;
}
.btn-group-justified > .btn-group .btn {
  width: 100%;
}
.btn-group-justified > .btn-group .dropdown-menu {
  left: auto;
}
[data-toggle="buttons"] > .btn input[type="radio"],
[data-toggle="buttons"] > .btn-group > .btn input[type="radio"],
[data-toggle="buttons"] > .btn input[type="checkbox"],
[data-toggle="buttons"] > .btn-group > .btn input[type="checkbox"] {
  position: absolute;
  clip: rect(0, 0, 0, 0);
  pointer-events: none;
}
.input-group {
  position: relative;
  display: table;
  border-collapse: separate;
}
.input-group[class*="col-"] {
  float: none;
  padding-left: 0;
  padding-right: 0;
}
.input-group .form-control {
  position: relative;
  z-index: 2;
  float: left;
  width: 100%;
  margin-bottom: 0;
}
.input-group .form-control:focus {
  z-index: 3;
}
.input-group-lg > .form-control,
.input-group-lg > .input-group-addon,
.input-group-lg > .input-group-btn > .btn {
  height: 45px;
  padding: 10px 16px;
  font-size: 17px;
  line-height: 1.3333333;
  border-radius: 3px;
}
select.input-group-lg > .form-control,
select.input-group-lg > .input-group-addon,
select.input-group-lg > .input-group-btn > .btn {
  height: 45px;
  line-height: 45px;
}
textarea.input-group-lg > .form-control,
textarea.input-group-lg > .input-group-addon,
textarea.input-group-lg > .input-group-btn > .btn,
select[multiple].input-group-lg > .form-control,
select[multiple].input-group-lg > .input-group-addon,
select[multiple].input-group-lg > .input-group-btn > .btn {
  height: auto;
}
.input-group-sm > .form-control,
.input-group-sm > .input-group-addon,
.input-group-sm > .input-group-btn > .btn {
  height: 30px;
  padding: 5px 10px;
  font-size: 12px;
  line-height: 1.5;
  border-radius: 1px;
}
select.input-group-sm > .form-control,
select.input-group-sm > .input-group-addon,
select.input-group-sm > .input-group-btn > .btn {
  height: 30px;
  line-height: 30px;
}
textarea.input-group-sm > .form-control,
textarea.input-group-sm > .input-group-addon,
textarea.input-group-sm > .input-group-btn > .btn,
select[multiple].input-group-sm > .form-control,
select[multiple].input-group-sm > .input-group-addon,
select[multiple].input-group-sm > .input-group-btn > .btn {
  height: auto;
}
.input-group-addon,
.input-group-btn,
.input-group .form-control {
  display: table-cell;
}
.input-group-addon:not(:first-child):not(:last-child),
.input-group-btn:not(:first-child):not(:last-child),
.input-group .form-control:not(:first-child):not(:last-child) {
  border-radius: 0;
}
.input-group-addon,
.input-group-btn {
  width: 1%;
  white-space: nowrap;
  vertical-align: middle;
}
.input-group-addon {
  padding: 6px 12px;
  font-size: 13px;
  font-weight: normal;
  line-height: 1;
  color: #555555;
  text-align: center;
  background-color: #eeeeee;
  border: 1px solid #ccc;
  border-radius: 2px;
}
.input-group-addon.input-sm {
  padding: 5px 10px;
  font-size: 12px;
  border-radius: 1px;
}
.input-group-addon.input-lg {
  padding: 10px 16px;
  font-size: 17px;
  border-radius: 3px;
}
.input-group-addon input[type="radio"],
.input-group-addon input[type="checkbox"] {
  margin-top: 0;
}
.input-group .form-control:first-child,
.input-group-addon:first-child,
.input-group-btn:first-child > .btn,
.input-group-btn:first-child > .btn-group > .btn,
.input-group-btn:first-child > .dropdown-toggle,
.input-group-btn:last-child > .btn:not(:last-child):not(.dropdown-toggle),
.input-group-btn:last-child > .btn-group:not(:last-child) > .btn {
  border-bottom-right-radius: 0;
  border-top-right-radius: 0;
}
.input-group-addon:first-child {
  border-right: 0;
}
.input-group .form-control:last-child,
.input-group-addon:last-child,
.input-group-btn:last-child > .btn,
.input-group-btn:last-child > .btn-group > .btn,
.input-group-btn:last-child > .dropdown-toggle,
.input-group-btn:first-child > .btn:not(:first-child),
.input-group-btn:first-child > .btn-group:not(:first-child) > .btn {
  border-bottom-left-radius: 0;
  border-top-left-radius: 0;
}
.input-group-addon:last-child {
  border-left: 0;
}
.input-group-btn {
  position: relative;
  font-size: 0;
  white-space: nowrap;
}
.input-group-btn > .btn {
  position: relative;
}
.input-group-btn > .btn + .btn {
  margin-left: -1px;
}
.input-group-btn > .btn:hover,
.input-group-btn > .btn:focus,
.input-group-btn > .btn:active {
  z-index: 2;
}
.input-group-btn:first-child > .btn,
.input-group-btn:first-child > .btn-group {
  margin-right: -1px;
}
.input-group-btn:last-child > .btn,
.input-group-btn:last-child > .btn-group {
  z-index: 2;
  margin-left: -1px;
}
.nav {
  margin-bottom: 0;
  padding-left: 0;
  list-style: none;
}
.nav > li {
  position: relative;
  display: block;
}
.nav > li > a {
  position: relative;
  display: block;
  padding: 10px 15px;
}
.nav > li > a:hover,
.nav > li > a:focus {
  text-decoration: none;
  background-color: #eeeeee;
}
.nav > li.disabled > a {
  color: #777777;
}
.nav > li.disabled > a:hover,
.nav > li.disabled > a:focus {
  color: #777777;
  text-decoration: none;
  background-color: transparent;
  cursor: not-allowed;
}
.nav .open > a,
.nav .open > a:hover,
.nav .open > a:focus {
  background-color: #eeeeee;
  border-color: #337ab7;
}
.nav .nav-divider {
  height: 1px;
  margin: 8px 0;
  overflow: hidden;
  background-color: #e5e5e5;
}
.nav > li > a > img {
  max-width: none;
}
.nav-tabs {
  border-bottom: 1px solid #ddd;
}
.nav-tabs > li {
  float: left;
  margin-bottom: -1px;
}
.nav-tabs > li > a {
  margin-right: 2px;
  line-height: 1.42857143;
  border: 1px solid transparent;
  border-radius: 2px 2px 0 0;
}
.nav-tabs > li > a:hover {
  border-color: #eeeeee #eeeeee #ddd;
}
.nav-tabs > li.active > a,
.nav-tabs > li.active > a:hover,
.nav-tabs > li.active > a:focus {
  color: #555555;
  background-color: #fff;
  border: 1px solid #ddd;
  border-bottom-color: transparent;
  cursor: default;
}
.nav-tabs.nav-justified {
  width: 100%;
  border-bottom: 0;
}
.nav-tabs.nav-justified > li {
  float: none;
}
.nav-tabs.nav-justified > li > a {
  text-align: center;
  margin-bottom: 5px;
}
.nav-tabs.nav-justified > .dropdown .dropdown-menu {
  top: auto;
  left: auto;
}
@media (min-width: 768px) {
  .nav-tabs.nav-justified > li {
    display: table-cell;
    width: 1%;
  }
  .nav-tabs.nav-justified > li > a {
    margin-bottom: 0;
  }
}
.nav-tabs.nav-justified > li > a {
  margin-right: 0;
  border-radius: 2px;
}
.nav-tabs.nav-justified > .active > a,
.nav-tabs.nav-justified > .active > a:hover,
.nav-tabs.nav-justified > .active > a:focus {
  border: 1px solid #ddd;
}
@media (min-width: 768px) {
  .nav-tabs.nav-justified > li > a {
    border-bottom: 1px solid #ddd;
    border-radius: 2px 2px 0 0;
  }
  .nav-tabs.nav-justified > .active > a,
  .nav-tabs.nav-justified > .active > a:hover,
  .nav-tabs.nav-justified > .active > a:focus {
    border-bottom-color: #fff;
  }
}
.nav-pills > li {
  float: left;
}
.nav-pills > li > a {
  border-radius: 2px;
}
.nav-pills > li + li {
  margin-left: 2px;
}
.nav-pills > li.active > a,
.nav-pills > li.active > a:hover,
.nav-pills > li.active > a:focus {
  color: #fff;
  background-color: #337ab7;
}
.nav-stacked > li {
  float: none;
}
.nav-stacked > li + li {
  margin-top: 2px;
  margin-left: 0;
}
.nav-justified {
  width: 100%;
}
.nav-justified > li {
  float: none;
}
.nav-justified > li > a {
  text-align: center;
  margin-bottom: 5px;
}
.nav-justified > .dropdown .dropdown-menu {
  top: auto;
  left: auto;
}
@media (min-width: 768px) {
  .nav-justified > li {
    display: table-cell;
    width: 1%;
  }
  .nav-justified > li > a {
    margin-bottom: 0;
  }
}
.nav-tabs-justified {
  border-bottom: 0;
}
.nav-tabs-justified > li > a {
  margin-right: 0;
  border-radius: 2px;
}
.nav-tabs-justified > .active > a,
.nav-tabs-justified > .active > a:hover,
.nav-tabs-justified > .active > a:focus {
  border: 1px solid #ddd;
}
@media (min-width: 768px) {
  .nav-tabs-justified > li > a {
    border-bottom: 1px solid #ddd;
    border-radius: 2px 2px 0 0;
  }
  .nav-tabs-justified > .active > a,
  .nav-tabs-justified > .active > a:hover,
  .nav-tabs-justified > .active > a:focus {
    border-bottom-color: #fff;
  }
}
.tab-content > .tab-pane {
  display: none;
}
.tab-content > .active {
  display: block;
}
.nav-tabs .dropdown-menu {
  margin-top: -1px;
  border-top-right-radius: 0;
  border-top-left-radius: 0;
}
.navbar {
  position: relative;
  min-height: 30px;
  margin-bottom: 18px;
  border: 1px solid transparent;
}
@media (min-width: 541px) {
  .navbar {
    border-radius: 2px;
  }
}
@media (min-width: 541px) {
  .navbar-header {
    float: left;
  }
}
.navbar-collapse {
  overflow-x: visible;
  padding-right: 0px;
  padding-left: 0px;
  border-top: 1px solid transparent;
  box-shadow: inset 0 1px 0 rgba(255, 255, 255, 0.1);
  -webkit-overflow-scrolling: touch;
}
.navbar-collapse.in {
  overflow-y: auto;
}
@media (min-width: 541px) {
  .navbar-collapse {
    width: auto;
    border-top: 0;
    box-shadow: none;
  }
  .navbar-collapse.collapse {
    display: block !important;
    height: auto !important;
    padding-bottom: 0;
    overflow: visible !important;
  }
  .navbar-collapse.in {
    overflow-y: visible;
  }
  .navbar-fixed-top .navbar-collapse,
  .navbar-static-top .navbar-collapse,
  .navbar-fixed-bottom .navbar-collapse {
    padding-left: 0;
    padding-right: 0;
  }
}
.navbar-fixed-top .navbar-collapse,
.navbar-fixed-bottom .navbar-collapse {
  max-height: 340px;
}
@media (max-device-width: 540px) and (orientation: landscape) {
  .navbar-fixed-top .navbar-collapse,
  .navbar-fixed-bottom .navbar-collapse {
    max-height: 200px;
  }
}
.container > .navbar-header,
.container-fluid > .navbar-header,
.container > .navbar-collapse,
.container-fluid > .navbar-collapse {
  margin-right: 0px;
  margin-left: 0px;
}
@media (min-width: 541px) {
  .container > .navbar-header,
  .container-fluid > .navbar-header,
  .container > .navbar-collapse,
  .container-fluid > .navbar-collapse {
    margin-right: 0;
    margin-left: 0;
  }
}
.navbar-static-top {
  z-index: 1000;
  border-width: 0 0 1px;
}
@media (min-width: 541px) {
  .navbar-static-top {
    border-radius: 0;
  }
}
.navbar-fixed-top,
.navbar-fixed-bottom {
  position: fixed;
  right: 0;
  left: 0;
  z-index: 1030;
}
@media (min-width: 541px) {
  .navbar-fixed-top,
  .navbar-fixed-bottom {
    border-radius: 0;
  }
}
.navbar-fixed-top {
  top: 0;
  border-width: 0 0 1px;
}
.navbar-fixed-bottom {
  bottom: 0;
  margin-bottom: 0;
  border-width: 1px 0 0;
}
.navbar-brand {
  float: left;
  padding: 6px 0px;
  font-size: 17px;
  line-height: 18px;
  height: 30px;
}
.navbar-brand:hover,
.navbar-brand:focus {
  text-decoration: none;
}
.navbar-brand > img {
  display: block;
}
@media (min-width: 541px) {
  .navbar > .container .navbar-brand,
  .navbar > .container-fluid .navbar-brand {
    margin-left: 0px;
  }
}
.navbar-toggle {
  position: relative;
  float: right;
  margin-right: 0px;
  padding: 9px 10px;
  margin-top: -2px;
  margin-bottom: -2px;
  background-color: transparent;
  background-image: none;
  border: 1px solid transparent;
  border-radius: 2px;
}
.navbar-toggle:focus {
  outline: 0;
}
.navbar-toggle .icon-bar {
  display: block;
  width: 22px;
  height: 2px;
  border-radius: 1px;
}
.navbar-toggle .icon-bar + .icon-bar {
  margin-top: 4px;
}
@media (min-width: 541px) {
  .navbar-toggle {
    display: none;
  }
}
.navbar-nav {
  margin: 3px 0px;
}
.navbar-nav > li > a {
  padding-top: 10px;
  padding-bottom: 10px;
  line-height: 18px;
}
@media (max-width: 540px) {
  .navbar-nav .open .dropdown-menu {
    position: static;
    float: none;
    width: auto;
    margin-top: 0;
    background-color: transparent;
    border: 0;
    box-shadow: none;
  }
  .navbar-nav .open .dropdown-menu > li > a,
  .navbar-nav .open .dropdown-menu .dropdown-header {
    padding: 5px 15px 5px 25px;
  }
  .navbar-nav .open .dropdown-menu > li > a {
    line-height: 18px;
  }
  .navbar-nav .open .dropdown-menu > li > a:hover,
  .navbar-nav .open .dropdown-menu > li > a:focus {
    background-image: none;
  }
}
@media (min-width: 541px) {
  .navbar-nav {
    float: left;
    margin: 0;
  }
  .navbar-nav > li {
    float: left;
  }
  .navbar-nav > li > a {
    padding-top: 6px;
    padding-bottom: 6px;
  }
}
.navbar-form {
  margin-left: 0px;
  margin-right: 0px;
  padding: 10px 0px;
  border-top: 1px solid transparent;
  border-bottom: 1px solid transparent;
  -webkit-box-shadow: inset 0 1px 0 rgba(255, 255, 255, 0.1), 0 1px 0 rgba(255, 255, 255, 0.1);
  box-shadow: inset 0 1px 0 rgba(255, 255, 255, 0.1), 0 1px 0 rgba(255, 255, 255, 0.1);
  margin-top: -1px;
  margin-bottom: -1px;
}
@media (min-width: 768px) {
  .navbar-form .form-group {
    display: inline-block;
    margin-bottom: 0;
    vertical-align: middle;
  }
  .navbar-form .form-control {
    display: inline-block;
    width: auto;
    vertical-align: middle;
  }
  .navbar-form .form-control-static {
    display: inline-block;
  }
  .navbar-form .input-group {
    display: inline-table;
    vertical-align: middle;
  }
  .navbar-form .input-group .input-group-addon,
  .navbar-form .input-group .input-group-btn,
  .navbar-form .input-group .form-control {
    width: auto;
  }
  .navbar-form .input-group > .form-control {
    width: 100%;
  }
  .navbar-form .control-label {
    margin-bottom: 0;
    vertical-align: middle;
  }
  .navbar-form .radio,
  .navbar-form .checkbox {
    display: inline-block;
    margin-top: 0;
    margin-bottom: 0;
    vertical-align: middle;
  }
  .navbar-form .radio label,
  .navbar-form .checkbox label {
    padding-left: 0;
  }
  .navbar-form .radio input[type="radio"],
  .navbar-form .checkbox input[type="checkbox"] {
    position: relative;
    margin-left: 0;
  }
  .navbar-form .has-feedback .form-control-feedback {
    top: 0;
  }
}
@media (max-width: 540px) {
  .navbar-form .form-group {
    margin-bottom: 5px;
  }
  .navbar-form .form-group:last-child {
    margin-bottom: 0;
  }
}
@media (min-width: 541px) {
  .navbar-form {
    width: auto;
    border: 0;
    margin-left: 0;
    margin-right: 0;
    padding-top: 0;
    padding-bottom: 0;
    -webkit-box-shadow: none;
    box-shadow: none;
  }
}
.navbar-nav > li > .dropdown-menu {
  margin-top: 0;
  border-top-right-radius: 0;
  border-top-left-radius: 0;
}
.navbar-fixed-bottom .navbar-nav > li > .dropdown-menu {
  margin-bottom: 0;
  border-top-right-radius: 2px;
  border-top-left-radius: 2px;
  border-bottom-right-radius: 0;
  border-bottom-left-radius: 0;
}
.navbar-btn {
  margin-top: -1px;
  margin-bottom: -1px;
}
.navbar-btn.btn-sm {
  margin-top: 0px;
  margin-bottom: 0px;
}
.navbar-btn.btn-xs {
  margin-top: 4px;
  margin-bottom: 4px;
}
.navbar-text {
  margin-top: 6px;
  margin-bottom: 6px;
}
@media (min-width: 541px) {
  .navbar-text {
    float: left;
    margin-left: 0px;
    margin-right: 0px;
  }
}
@media (min-width: 541px) {
  .navbar-left {
    float: left !important;
    float: left;
  }
  .navbar-right {
    float: right !important;
    float: right;
    margin-right: 0px;
  }
  .navbar-right ~ .navbar-right {
    margin-right: 0;
  }
}
.navbar-default {
  background-color: #f8f8f8;
  border-color: #e7e7e7;
}
.navbar-default .navbar-brand {
  color: #777;
}
.navbar-default .navbar-brand:hover,
.navbar-default .navbar-brand:focus {
  color: #5e5e5e;
  background-color: transparent;
}
.navbar-default .navbar-text {
  color: #777;
}
.navbar-default .navbar-nav > li > a {
  color: #777;
}
.navbar-default .navbar-nav > li > a:hover,
.navbar-default .navbar-nav > li > a:focus {
  color: #333;
  background-color: transparent;
}
.navbar-default .navbar-nav > .active > a,
.navbar-default .navbar-nav > .active > a:hover,
.navbar-default .navbar-nav > .active > a:focus {
  color: #555;
  background-color: #e7e7e7;
}
.navbar-default .navbar-nav > .disabled > a,
.navbar-default .navbar-nav > .disabled > a:hover,
.navbar-default .navbar-nav > .disabled > a:focus {
  color: #ccc;
  background-color: transparent;
}
.navbar-default .navbar-toggle {
  border-color: #ddd;
}
.navbar-default .navbar-toggle:hover,
.navbar-default .navbar-toggle:focus {
  background-color: #ddd;
}
.navbar-default .navbar-toggle .icon-bar {
  background-color: #888;
}
.navbar-default .navbar-collapse,
.navbar-default .navbar-form {
  border-color: #e7e7e7;
}
.navbar-default .navbar-nav > .open > a,
.navbar-default .navbar-nav > .open > a:hover,
.navbar-default .navbar-nav > .open > a:focus {
  background-color: #e7e7e7;
  color: #555;
}
@media (max-width: 540px) {
  .navbar-default .navbar-nav .open .dropdown-menu > li > a {
    color: #777;
  }
  .navbar-default .navbar-nav .open .dropdown-menu > li > a:hover,
  .navbar-default .navbar-nav .open .dropdown-menu > li > a:focus {
    color: #333;
    background-color: transparent;
  }
  .navbar-default .navbar-nav .open .dropdown-menu > .active > a,
  .navbar-default .navbar-nav .open .dropdown-menu > .active > a:hover,
  .navbar-default .navbar-nav .open .dropdown-menu > .active > a:focus {
    color: #555;
    background-color: #e7e7e7;
  }
  .navbar-default .navbar-nav .open .dropdown-menu > .disabled > a,
  .navbar-default .navbar-nav .open .dropdown-menu > .disabled > a:hover,
  .navbar-default .navbar-nav .open .dropdown-menu > .disabled > a:focus {
    color: #ccc;
    background-color: transparent;
  }
}
.navbar-default .navbar-link {
  color: #777;
}
.navbar-default .navbar-link:hover {
  color: #333;
}
.navbar-default .btn-link {
  color: #777;
}
.navbar-default .btn-link:hover,
.navbar-default .btn-link:focus {
  color: #333;
}
.navbar-default .btn-link[disabled]:hover,
fieldset[disabled] .navbar-default .btn-link:hover,
.navbar-default .btn-link[disabled]:focus,
fieldset[disabled] .navbar-default .btn-link:focus {
  color: #ccc;
}
.navbar-inverse {
  background-color: #222;
  border-color: #080808;
}
.navbar-inverse .navbar-brand {
  color: #9d9d9d;
}
.navbar-inverse .navbar-brand:hover,
.navbar-inverse .navbar-brand:focus {
  color: #fff;
  background-color: transparent;
}
.navbar-inverse .navbar-text {
  color: #9d9d9d;
}
.navbar-inverse .navbar-nav > li > a {
  color: #9d9d9d;
}
.navbar-inverse .navbar-nav > li > a:hover,
.navbar-inverse .navbar-nav > li > a:focus {
  color: #fff;
  background-color: transparent;
}
.navbar-inverse .navbar-nav > .active > a,
.navbar-inverse .navbar-nav > .active > a:hover,
.navbar-inverse .navbar-nav > .active > a:focus {
  color: #fff;
  background-color: #080808;
}
.navbar-inverse .navbar-nav > .disabled > a,
.navbar-inverse .navbar-nav > .disabled > a:hover,
.navbar-inverse .navbar-nav > .disabled > a:focus {
  color: #444;
  background-color: transparent;
}
.navbar-inverse .navbar-toggle {
  border-color: #333;
}
.navbar-inverse .navbar-toggle:hover,
.navbar-inverse .navbar-toggle:focus {
  background-color: #333;
}
.navbar-inverse .navbar-toggle .icon-bar {
  background-color: #fff;
}
.navbar-inverse .navbar-collapse,
.navbar-inverse .navbar-form {
  border-color: #101010;
}
.navbar-inverse .navbar-nav > .open > a,
.navbar-inverse .navbar-nav > .open > a:hover,
.navbar-inverse .navbar-nav > .open > a:focus {
  background-color: #080808;
  color: #fff;
}
@media (max-width: 540px) {
  .navbar-inverse .navbar-nav .open .dropdown-menu > .dropdown-header {
    border-color: #080808;
  }
  .navbar-inverse .navbar-nav .open .dropdown-menu .divider {
    background-color: #080808;
  }
  .navbar-inverse .navbar-nav .open .dropdown-menu > li > a {
    color: #9d9d9d;
  }
  .navbar-inverse .navbar-nav .open .dropdown-menu > li > a:hover,
  .navbar-inverse .navbar-nav .open .dropdown-menu > li > a:focus {
    color: #fff;
    background-color: transparent;
  }
  .navbar-inverse .navbar-nav .open .dropdown-menu > .active > a,
  .navbar-inverse .navbar-nav .open .dropdown-menu > .active > a:hover,
  .navbar-inverse .navbar-nav .open .dropdown-menu > .active > a:focus {
    color: #fff;
    background-color: #080808;
  }
  .navbar-inverse .navbar-nav .open .dropdown-menu > .disabled > a,
  .navbar-inverse .navbar-nav .open .dropdown-menu > .disabled > a:hover,
  .navbar-inverse .navbar-nav .open .dropdown-menu > .disabled > a:focus {
    color: #444;
    background-color: transparent;
  }
}
.navbar-inverse .navbar-link {
  color: #9d9d9d;
}
.navbar-inverse .navbar-link:hover {
  color: #fff;
}
.navbar-inverse .btn-link {
  color: #9d9d9d;
}
.navbar-inverse .btn-link:hover,
.navbar-inverse .btn-link:focus {
  color: #fff;
}
.navbar-inverse .btn-link[disabled]:hover,
fieldset[disabled] .navbar-inverse .btn-link:hover,
.navbar-inverse .btn-link[disabled]:focus,
fieldset[disabled] .navbar-inverse .btn-link:focus {
  color: #444;
}
.breadcrumb {
  padding: 8px 15px;
  margin-bottom: 18px;
  list-style: none;
  background-color: #f5f5f5;
  border-radius: 2px;
}
.breadcrumb > li {
  display: inline-block;
}
.breadcrumb > li + li:before {
  content: "/\00a0";
  padding: 0 5px;
  color: #5e5e5e;
}
.breadcrumb > .active {
  color: #777777;
}
.pagination {
  display: inline-block;
  padding-left: 0;
  margin: 18px 0;
  border-radius: 2px;
}
.pagination > li {
  display: inline;
}
.pagination > li > a,
.pagination > li > span {
  position: relative;
  float: left;
  padding: 6px 12px;
  line-height: 1.42857143;
  text-decoration: none;
  color: #337ab7;
  background-color: #fff;
  border: 1px solid #ddd;
  margin-left: -1px;
}
.pagination > li:first-child > a,
.pagination > li:first-child > span {
  margin-left: 0;
  border-bottom-left-radius: 2px;
  border-top-left-radius: 2px;
}
.pagination > li:last-child > a,
.pagination > li:last-child > span {
  border-bottom-right-radius: 2px;
  border-top-right-radius: 2px;
}
.pagination > li > a:hover,
.pagination > li > span:hover,
.pagination > li > a:focus,
.pagination > li > span:focus {
  z-index: 2;
  color: #23527c;
  background-color: #eeeeee;
  border-color: #ddd;
}
.pagination > .active > a,
.pagination > .active > span,
.pagination > .active > a:hover,
.pagination > .active > span:hover,
.pagination > .active > a:focus,
.pagination > .active > span:focus {
  z-index: 3;
  color: #fff;
  background-color: #337ab7;
  border-color: #337ab7;
  cursor: default;
}
.pagination > .disabled > span,
.pagination > .disabled > span:hover,
.pagination > .disabled > span:focus,
.pagination > .disabled > a,
.pagination > .disabled > a:hover,
.pagination > .disabled > a:focus {
  color: #777777;
  background-color: #fff;
  border-color: #ddd;
  cursor: not-allowed;
}
.pagination-lg > li > a,
.pagination-lg > li > span {
  padding: 10px 16px;
  font-size: 17px;
  line-height: 1.3333333;
}
.pagination-lg > li:first-child > a,
.pagination-lg > li:first-child > span {
  border-bottom-left-radius: 3px;
  border-top-left-radius: 3px;
}
.pagination-lg > li:last-child > a,
.pagination-lg > li:last-child > span {
  border-bottom-right-radius: 3px;
  border-top-right-radius: 3px;
}
.pagination-sm > li > a,
.pagination-sm > li > span {
  padding: 5px 10px;
  font-size: 12px;
  line-height: 1.5;
}
.pagination-sm > li:first-child > a,
.pagination-sm > li:first-child > span {
  border-bottom-left-radius: 1px;
  border-top-left-radius: 1px;
}
.pagination-sm > li:last-child > a,
.pagination-sm > li:last-child > span {
  border-bottom-right-radius: 1px;
  border-top-right-radius: 1px;
}
.pager {
  padding-left: 0;
  margin: 18px 0;
  list-style: none;
  text-align: center;
}
.pager li {
  display: inline;
}
.pager li > a,
.pager li > span {
  display: inline-block;
  padding: 5px 14px;
  background-color: #fff;
  border: 1px solid #ddd;
  border-radius: 15px;
}
.pager li > a:hover,
.pager li > a:focus {
  text-decoration: none;
  background-color: #eeeeee;
}
.pager .next > a,
.pager .next > span {
  float: right;
}
.pager .previous > a,
.pager .previous > span {
  float: left;
}
.pager .disabled > a,
.pager .disabled > a:hover,
.pager .disabled > a:focus,
.pager .disabled > span {
  color: #777777;
  background-color: #fff;
  cursor: not-allowed;
}
.label {
  display: inline;
  padding: .2em .6em .3em;
  font-size: 75%;
  font-weight: bold;
  line-height: 1;
  color: #fff;
  text-align: center;
  white-space: nowrap;
  vertical-align: baseline;
  border-radius: .25em;
}
a.label:hover,
a.label:focus {
  color: #fff;
  text-decoration: none;
  cursor: pointer;
}
.label:empty {
  display: none;
}
.btn .label {
  position: relative;
  top: -1px;
}
.label-default {
  background-color: #777777;
}
.label-default[href]:hover,
.label-default[href]:focus {
  background-color: #5e5e5e;
}
.label-primary {
  background-color: #337ab7;
}
.label-primary[href]:hover,
.label-primary[href]:focus {
  background-color: #286090;
}
.label-success {
  background-color: #5cb85c;
}
.label-success[href]:hover,
.label-success[href]:focus {
  background-color: #449d44;
}
.label-info {
  background-color: #5bc0de;
}
.label-info[href]:hover,
.label-info[href]:focus {
  background-color: #31b0d5;
}
.label-warning {
  background-color: #f0ad4e;
}
.label-warning[href]:hover,
.label-warning[href]:focus {
  background-color: #ec971f;
}
.label-danger {
  background-color: #d9534f;
}
.label-danger[href]:hover,
.label-danger[href]:focus {
  background-color: #c9302c;
}
.badge {
  display: inline-block;
  min-width: 10px;
  padding: 3px 7px;
  font-size: 12px;
  font-weight: bold;
  color: #fff;
  line-height: 1;
  vertical-align: middle;
  white-space: nowrap;
  text-align: center;
  background-color: #777777;
  border-radius: 10px;
}
.badge:empty {
  display: none;
}
.btn .badge {
  position: relative;
  top: -1px;
}
.btn-xs .badge,
.btn-group-xs > .btn .badge {
  top: 0;
  padding: 1px 5px;
}
a.badge:hover,
a.badge:focus {
  color: #fff;
  text-decoration: none;
  cursor: pointer;
}
.list-group-item.active > .badge,
.nav-pills > .active > a > .badge {
  color: #337ab7;
  background-color: #fff;
}
.list-group-item > .badge {
  float: right;
}
.list-group-item > .badge + .badge {
  margin-right: 5px;
}
.nav-pills > li > a > .badge {
  margin-left: 3px;
}
.jumbotron {
  padding-top: 30px;
  padding-bottom: 30px;
  margin-bottom: 30px;
  color: inherit;
  background-color: #eeeeee;
}
.jumbotron h1,
.jumbotron .h1 {
  color: inherit;
}
.jumbotron p {
  margin-bottom: 15px;
  font-size: 20px;
  font-weight: 200;
}
.jumbotron > hr {
  border-top-color: #d5d5d5;
}
.container .jumbotron,
.container-fluid .jumbotron {
  border-radius: 3px;
  padding-left: 0px;
  padding-right: 0px;
}
.jumbotron .container {
  max-width: 100%;
}
@media screen and (min-width: 768px) {
  .jumbotron {
    padding-top: 48px;
    padding-bottom: 48px;
  }
  .container .jumbotron,
  .container-fluid .jumbotron {
    padding-left: 60px;
    padding-right: 60px;
  }
  .jumbotron h1,
  .jumbotron .h1 {
    font-size: 59px;
  }
}
.thumbnail {
  display: block;
  padding: 4px;
  margin-bottom: 18px;
  line-height: 1.42857143;
  background-color: #fff;
  border: 1px solid #ddd;
  border-radius: 2px;
  -webkit-transition: border 0.2s ease-in-out;
  -o-transition: border 0.2s ease-in-out;
  transition: border 0.2s ease-in-out;
}
.thumbnail > img,
.thumbnail a > img {
  margin-left: auto;
  margin-right: auto;
}
a.thumbnail:hover,
a.thumbnail:focus,
a.thumbnail.active {
  border-color: #337ab7;
}
.thumbnail .caption {
  padding: 9px;
  color: #000;
}
.alert {
  padding: 15px;
  margin-bottom: 18px;
  border: 1px solid transparent;
  border-radius: 2px;
}
.alert h4 {
  margin-top: 0;
  color: inherit;
}
.alert .alert-link {
  font-weight: bold;
}
.alert > p,
.alert > ul {
  margin-bottom: 0;
}
.alert > p + p {
  margin-top: 5px;
}
.alert-dismissable,
.alert-dismissible {
  padding-right: 35px;
}
.alert-dismissable .close,
.alert-dismissible .close {
  position: relative;
  top: -2px;
  right: -21px;
  color: inherit;
}
.alert-success {
  background-color: #dff0d8;
  border-color: #d6e9c6;
  color: #3c763d;
}
.alert-success hr {
  border-top-color: #c9e2b3;
}
.alert-success .alert-link {
  color: #2b542c;
}
.alert-info {
  background-color: #d9edf7;
  border-color: #bce8f1;
  color: #31708f;
}
.alert-info hr {
  border-top-color: #a6e1ec;
}
.alert-info .alert-link {
  color: #245269;
}
.alert-warning {
  background-color: #fcf8e3;
  border-color: #faebcc;
  color: #8a6d3b;
}
.alert-warning hr {
  border-top-color: #f7e1b5;
}
.alert-warning .alert-link {
  color: #66512c;
}
.alert-danger {
  background-color: #f2dede;
  border-color: #ebccd1;
  color: #a94442;
}
.alert-danger hr {
  border-top-color: #e4b9c0;
}
.alert-danger .alert-link {
  color: #843534;
}
@-webkit-keyframes progress-bar-stripes {
  from {
    background-position: 40px 0;
  }
  to {
    background-position: 0 0;
  }
}
@keyframes progress-bar-stripes {
  from {
    background-position: 40px 0;
  }
  to {
    background-position: 0 0;
  }
}
.progress {
  overflow: hidden;
  height: 18px;
  margin-bottom: 18px;
  background-color: #f5f5f5;
  border-radius: 2px;
  -webkit-box-shadow: inset 0 1px 2px rgba(0, 0, 0, 0.1);
  box-shadow: inset 0 1px 2px rgba(0, 0, 0, 0.1);
}
.progress-bar {
  float: left;
  width: 0%;
  height: 100%;
  font-size: 12px;
  line-height: 18px;
  color: #fff;
  text-align: center;
  background-color: #337ab7;
  -webkit-box-shadow: inset 0 -1px 0 rgba(0, 0, 0, 0.15);
  box-shadow: inset 0 -1px 0 rgba(0, 0, 0, 0.15);
  -webkit-transition: width 0.6s ease;
  -o-transition: width 0.6s ease;
  transition: width 0.6s ease;
}
.progress-striped .progress-bar,
.progress-bar-striped {
  background-image: -webkit-linear-gradient(45deg, rgba(255, 255, 255, 0.15) 25%, transparent 25%, transparent 50%, rgba(255, 255, 255, 0.15) 50%, rgba(255, 255, 255, 0.15) 75%, transparent 75%, transparent);
  background-image: -o-linear-gradient(45deg, rgba(255, 255, 255, 0.15) 25%, transparent 25%, transparent 50%, rgba(255, 255, 255, 0.15) 50%, rgba(255, 255, 255, 0.15) 75%, transparent 75%, transparent);
  background-image: linear-gradient(45deg, rgba(255, 255, 255, 0.15) 25%, transparent 25%, transparent 50%, rgba(255, 255, 255, 0.15) 50%, rgba(255, 255, 255, 0.15) 75%, transparent 75%, transparent);
  background-size: 40px 40px;
}
.progress.active .progress-bar,
.progress-bar.active {
  -webkit-animation: progress-bar-stripes 2s linear infinite;
  -o-animation: progress-bar-stripes 2s linear infinite;
  animation: progress-bar-stripes 2s linear infinite;
}
.progress-bar-success {
  background-color: #5cb85c;
}
.progress-striped .progress-bar-success {
  background-image: -webkit-linear-gradient(45deg, rgba(255, 255, 255, 0.15) 25%, transparent 25%, transparent 50%, rgba(255, 255, 255, 0.15) 50%, rgba(255, 255, 255, 0.15) 75%, transparent 75%, transparent);
  background-image: -o-linear-gradient(45deg, rgba(255, 255, 255, 0.15) 25%, transparent 25%, transparent 50%, rgba(255, 255, 255, 0.15) 50%, rgba(255, 255, 255, 0.15) 75%, transparent 75%, transparent);
  background-image: linear-gradient(45deg, rgba(255, 255, 255, 0.15) 25%, transparent 25%, transparent 50%, rgba(255, 255, 255, 0.15) 50%, rgba(255, 255, 255, 0.15) 75%, transparent 75%, transparent);
}
.progress-bar-info {
  background-color: #5bc0de;
}
.progress-striped .progress-bar-info {
  background-image: -webkit-linear-gradient(45deg, rgba(255, 255, 255, 0.15) 25%, transparent 25%, transparent 50%, rgba(255, 255, 255, 0.15) 50%, rgba(255, 255, 255, 0.15) 75%, transparent 75%, transparent);
  background-image: -o-linear-gradient(45deg, rgba(255, 255, 255, 0.15) 25%, transparent 25%, transparent 50%, rgba(255, 255, 255, 0.15) 50%, rgba(255, 255, 255, 0.15) 75%, transparent 75%, transparent);
  background-image: linear-gradient(45deg, rgba(255, 255, 255, 0.15) 25%, transparent 25%, transparent 50%, rgba(255, 255, 255, 0.15) 50%, rgba(255, 255, 255, 0.15) 75%, transparent 75%, transparent);
}
.progress-bar-warning {
  background-color: #f0ad4e;
}
.progress-striped .progress-bar-warning {
  background-image: -webkit-linear-gradient(45deg, rgba(255, 255, 255, 0.15) 25%, transparent 25%, transparent 50%, rgba(255, 255, 255, 0.15) 50%, rgba(255, 255, 255, 0.15) 75%, transparent 75%, transparent);
  background-image: -o-linear-gradient(45deg, rgba(255, 255, 255, 0.15) 25%, transparent 25%, transparent 50%, rgba(255, 255, 255, 0.15) 50%, rgba(255, 255, 255, 0.15) 75%, transparent 75%, transparent);
  background-image: linear-gradient(45deg, rgba(255, 255, 255, 0.15) 25%, transparent 25%, transparent 50%, rgba(255, 255, 255, 0.15) 50%, rgba(255, 255, 255, 0.15) 75%, transparent 75%, transparent);
}
.progress-bar-danger {
  background-color: #d9534f;
}
.progress-striped .progress-bar-danger {
  background-image: -webkit-linear-gradient(45deg, rgba(255, 255, 255, 0.15) 25%, transparent 25%, transparent 50%, rgba(255, 255, 255, 0.15) 50%, rgba(255, 255, 255, 0.15) 75%, transparent 75%, transparent);
  background-image: -o-linear-gradient(45deg, rgba(255, 255, 255, 0.15) 25%, transparent 25%, transparent 50%, rgba(255, 255, 255, 0.15) 50%, rgba(255, 255, 255, 0.15) 75%, transparent 75%, transparent);
  background-image: linear-gradient(45deg, rgba(255, 255, 255, 0.15) 25%, transparent 25%, transparent 50%, rgba(255, 255, 255, 0.15) 50%, rgba(255, 255, 255, 0.15) 75%, transparent 75%, transparent);
}
.media {
  margin-top: 15px;
}
.media:first-child {
  margin-top: 0;
}
.media,
.media-body {
  zoom: 1;
  overflow: hidden;
}
.media-body {
  width: 10000px;
}
.media-object {
  display: block;
}
.media-object.img-thumbnail {
  max-width: none;
}
.media-right,
.media > .pull-right {
  padding-left: 10px;
}
.media-left,
.media > .pull-left {
  padding-right: 10px;
}
.media-left,
.media-right,
.media-body {
  display: table-cell;
  vertical-align: top;
}
.media-middle {
  vertical-align: middle;
}
.media-bottom {
  vertical-align: bottom;
}
.media-heading {
  margin-top: 0;
  margin-bottom: 5px;
}
.media-list {
  padding-left: 0;
  list-style: none;
}
.list-group {
  margin-bottom: 20px;
  padding-left: 0;
}
.list-group-item {
  position: relative;
  display: block;
  padding: 10px 15px;
  margin-bottom: -1px;
  background-color: #fff;
  border: 1px solid #ddd;
}
.list-group-item:first-child {
  border-top-right-radius: 2px;
  border-top-left-radius: 2px;
}
.list-group-item:last-child {
  margin-bottom: 0;
  border-bottom-right-radius: 2px;
  border-bottom-left-radius: 2px;
}
a.list-group-item,
button.list-group-item {
  color: #555;
}
a.list-group-item .list-group-item-heading,
button.list-group-item .list-group-item-heading {
  color: #333;
}
a.list-group-item:hover,
button.list-group-item:hover,
a.list-group-item:focus,
button.list-group-item:focus {
  text-decoration: none;
  color: #555;
  background-color: #f5f5f5;
}
button.list-group-item {
  width: 100%;
  text-align: left;
}
.list-group-item.disabled,
.list-group-item.disabled:hover,
.list-group-item.disabled:focus {
  background-color: #eeeeee;
  color: #777777;
  cursor: not-allowed;
}
.list-group-item.disabled .list-group-item-heading,
.list-group-item.disabled:hover .list-group-item-heading,
.list-group-item.disabled:focus .list-group-item-heading {
  color: inherit;
}
.list-group-item.disabled .list-group-item-text,
.list-group-item.disabled:hover .list-group-item-text,
.list-group-item.disabled:focus .list-group-item-text {
  color: #777777;
}
.list-group-item.active,
.list-group-item.active:hover,
.list-group-item.active:focus {
  z-index: 2;
  color: #fff;
  background-color: #337ab7;
  border-color: #337ab7;
}
.list-group-item.active .list-group-item-heading,
.list-group-item.active:hover .list-group-item-heading,
.list-group-item.active:focus .list-group-item-heading,
.list-group-item.active .list-group-item-heading > small,
.list-group-item.active:hover .list-group-item-heading > small,
.list-group-item.active:focus .list-group-item-heading > small,
.list-group-item.active .list-group-item-heading > .small,
.list-group-item.active:hover .list-group-item-heading > .small,
.list-group-item.active:focus .list-group-item-heading > .small {
  color: inherit;
}
.list-group-item.active .list-group-item-text,
.list-group-item.active:hover .list-group-item-text,
.list-group-item.active:focus .list-group-item-text {
  color: #c7ddef;
}
.list-group-item-success {
  color: #3c763d;
  background-color: #dff0d8;
}
a.list-group-item-success,
button.list-group-item-success {
  color: #3c763d;
}
a.list-group-item-success .list-group-item-heading,
button.list-group-item-success .list-group-item-heading {
  color: inherit;
}
a.list-group-item-success:hover,
button.list-group-item-success:hover,
a.list-group-item-success:focus,
button.list-group-item-success:focus {
  color: #3c763d;
  background-color: #d0e9c6;
}
a.list-group-item-success.active,
button.list-group-item-success.active,
a.list-group-item-success.active:hover,
button.list-group-item-success.active:hover,
a.list-group-item-success.active:focus,
button.list-group-item-success.active:focus {
  color: #fff;
  background-color: #3c763d;
  border-color: #3c763d;
}
.list-group-item-info {
  color: #31708f;
  background-color: #d9edf7;
}
a.list-group-item-info,
button.list-group-item-info {
  color: #31708f;
}
a.list-group-item-info .list-group-item-heading,
button.list-group-item-info .list-group-item-heading {
  color: inherit;
}
a.list-group-item-info:hover,
button.list-group-item-info:hover,
a.list-group-item-info:focus,
button.list-group-item-info:focus {
  color: #31708f;
  background-color: #c4e3f3;
}
a.list-group-item-info.active,
button.list-group-item-info.active,
a.list-group-item-info.active:hover,
button.list-group-item-info.active:hover,
a.list-group-item-info.active:focus,
button.list-group-item-info.active:focus {
  color: #fff;
  background-color: #31708f;
  border-color: #31708f;
}
.list-group-item-warning {
  color: #8a6d3b;
  background-color: #fcf8e3;
}
a.list-group-item-warning,
button.list-group-item-warning {
  color: #8a6d3b;
}
a.list-group-item-warning .list-group-item-heading,
button.list-group-item-warning .list-group-item-heading {
  color: inherit;
}
a.list-group-item-warning:hover,
button.list-group-item-warning:hover,
a.list-group-item-warning:focus,
button.list-group-item-warning:focus {
  color: #8a6d3b;
  background-color: #faf2cc;
}
a.list-group-item-warning.active,
button.list-group-item-warning.active,
a.list-group-item-warning.active:hover,
button.list-group-item-warning.active:hover,
a.list-group-item-warning.active:focus,
button.list-group-item-warning.active:focus {
  color: #fff;
  background-color: #8a6d3b;
  border-color: #8a6d3b;
}
.list-group-item-danger {
  color: #a94442;
  background-color: #f2dede;
}
a.list-group-item-danger,
button.list-group-item-danger {
  color: #a94442;
}
a.list-group-item-danger .list-group-item-heading,
button.list-group-item-danger .list-group-item-heading {
  color: inherit;
}
a.list-group-item-danger:hover,
button.list-group-item-danger:hover,
a.list-group-item-danger:focus,
button.list-group-item-danger:focus {
  color: #a94442;
  background-color: #ebcccc;
}
a.list-group-item-danger.active,
button.list-group-item-danger.active,
a.list-group-item-danger.active:hover,
button.list-group-item-danger.active:hover,
a.list-group-item-danger.active:focus,
button.list-group-item-danger.active:focus {
  color: #fff;
  background-color: #a94442;
  border-color: #a94442;
}
.list-group-item-heading {
  margin-top: 0;
  margin-bottom: 5px;
}
.list-group-item-text {
  margin-bottom: 0;
  line-height: 1.3;
}
.panel {
  margin-bottom: 18px;
  background-color: #fff;
  border: 1px solid transparent;
  border-radius: 2px;
  -webkit-box-shadow: 0 1px 1px rgba(0, 0, 0, 0.05);
  box-shadow: 0 1px 1px rgba(0, 0, 0, 0.05);
}
.panel-body {
  padding: 15px;
}
.panel-heading {
  padding: 10px 15px;
  border-bottom: 1px solid transparent;
  border-top-right-radius: 1px;
  border-top-left-radius: 1px;
}
.panel-heading > .dropdown .dropdown-toggle {
  color: inherit;
}
.panel-title {
  margin-top: 0;
  margin-bottom: 0;
  font-size: 15px;
  color: inherit;
}
.panel-title > a,
.panel-title > small,
.panel-title > .small,
.panel-title > small > a,
.panel-title > .small > a {
  color: inherit;
}
.panel-footer {
  padding: 10px 15px;
  background-color: #f5f5f5;
  border-top: 1px solid #ddd;
  border-bottom-right-radius: 1px;
  border-bottom-left-radius: 1px;
}
.panel > .list-group,
.panel > .panel-collapse > .list-group {
  margin-bottom: 0;
}
.panel > .list-group .list-group-item,
.panel > .panel-collapse > .list-group .list-group-item {
  border-width: 1px 0;
  border-radius: 0;
}
.panel > .list-group:first-child .list-group-item:first-child,
.panel > .panel-collapse > .list-group:first-child .list-group-item:first-child {
  border-top: 0;
  border-top-right-radius: 1px;
  border-top-left-radius: 1px;
}
.panel > .list-group:last-child .list-group-item:last-child,
.panel > .panel-collapse > .list-group:last-child .list-group-item:last-child {
  border-bottom: 0;
  border-bottom-right-radius: 1px;
  border-bottom-left-radius: 1px;
}
.panel > .panel-heading + .panel-collapse > .list-group .list-group-item:first-child {
  border-top-right-radius: 0;
  border-top-left-radius: 0;
}
.panel-heading + .list-group .list-group-item:first-child {
  border-top-width: 0;
}
.list-group + .panel-footer {
  border-top-width: 0;
}
.panel > .table,
.panel > .table-responsive > .table,
.panel > .panel-collapse > .table {
  margin-bottom: 0;
}
.panel > .table caption,
.panel > .table-responsive > .table caption,
.panel > .panel-collapse > .table caption {
  padding-left: 15px;
  padding-right: 15px;
}
.panel > .table:first-child,
.panel > .table-responsive:first-child > .table:first-child {
  border-top-right-radius: 1px;
  border-top-left-radius: 1px;
}
.panel > .table:first-child > thead:first-child > tr:first-child,
.panel > .table-responsive:first-child > .table:first-child > thead:first-child > tr:first-child,
.panel > .table:first-child > tbody:first-child > tr:first-child,
.panel > .table-responsive:first-child > .table:first-child > tbody:first-child > tr:first-child {
  border-top-left-radius: 1px;
  border-top-right-radius: 1px;
}
.panel > .table:first-child > thead:first-child > tr:first-child td:first-child,
.panel > .table-responsive:first-child > .table:first-child > thead:first-child > tr:first-child td:first-child,
.panel > .table:first-child > tbody:first-child > tr:first-child td:first-child,
.panel > .table-responsive:first-child > .table:first-child > tbody:first-child > tr:first-child td:first-child,
.panel > .table:first-child > thead:first-child > tr:first-child th:first-child,
.panel > .table-responsive:first-child > .table:first-child > thead:first-child > tr:first-child th:first-child,
.panel > .table:first-child > tbody:first-child > tr:first-child th:first-child,
.panel > .table-responsive:first-child > .table:first-child > tbody:first-child > tr:first-child th:first-child {
  border-top-left-radius: 1px;
}
.panel > .table:first-child > thead:first-child > tr:first-child td:last-child,
.panel > .table-responsive:first-child > .table:first-child > thead:first-child > tr:first-child td:last-child,
.panel > .table:first-child > tbody:first-child > tr:first-child td:last-child,
.panel > .table-responsive:first-child > .table:first-child > tbody:first-child > tr:first-child td:last-child,
.panel > .table:first-child > thead:first-child > tr:first-child th:last-child,
.panel > .table-responsive:first-child > .table:first-child > thead:first-child > tr:first-child th:last-child,
.panel > .table:first-child > tbody:first-child > tr:first-child th:last-child,
.panel > .table-responsive:first-child > .table:first-child > tbody:first-child > tr:first-child th:last-child {
  border-top-right-radius: 1px;
}
.panel > .table:last-child,
.panel > .table-responsive:last-child > .table:last-child {
  border-bottom-right-radius: 1px;
  border-bottom-left-radius: 1px;
}
.panel > .table:last-child > tbody:last-child > tr:last-child,
.panel > .table-responsive:last-child > .table:last-child > tbody:last-child > tr:last-child,
.panel > .table:last-child > tfoot:last-child > tr:last-child,
.panel > .table-responsive:last-child > .table:last-child > tfoot:last-child > tr:last-child {
  border-bottom-left-radius: 1px;
  border-bottom-right-radius: 1px;
}
.panel > .table:last-child > tbody:last-child > tr:last-child td:first-child,
.panel > .table-responsive:last-child > .table:last-child > tbody:last-child > tr:last-child td:first-child,
.panel > .table:last-child > tfoot:last-child > tr:last-child td:first-child,
.panel > .table-responsive:last-child > .table:last-child > tfoot:last-child > tr:last-child td:first-child,
.panel > .table:last-child > tbody:last-child > tr:last-child th:first-child,
.panel > .table-responsive:last-child > .table:last-child > tbody:last-child > tr:last-child th:first-child,
.panel > .table:last-child > tfoot:last-child > tr:last-child th:first-child,
.panel > .table-responsive:last-child > .table:last-child > tfoot:last-child > tr:last-child th:first-child {
  border-bottom-left-radius: 1px;
}
.panel > .table:last-child > tbody:last-child > tr:last-child td:last-child,
.panel > .table-responsive:last-child > .table:last-child > tbody:last-child > tr:last-child td:last-child,
.panel > .table:last-child > tfoot:last-child > tr:last-child td:last-child,
.panel > .table-responsive:last-child > .table:last-child > tfoot:last-child > tr:last-child td:last-child,
.panel > .table:last-child > tbody:last-child > tr:last-child th:last-child,
.panel > .table-responsive:last-child > .table:last-child > tbody:last-child > tr:last-child th:last-child,
.panel > .table:last-child > tfoot:last-child > tr:last-child th:last-child,
.panel > .table-responsive:last-child > .table:last-child > tfoot:last-child > tr:last-child th:last-child {
  border-bottom-right-radius: 1px;
}
.panel > .panel-body + .table,
.panel > .panel-body + .table-responsive,
.panel > .table + .panel-body,
.panel > .table-responsive + .panel-body {
  border-top: 1px solid #ddd;
}
.panel > .table > tbody:first-child > tr:first-child th,
.panel > .table > tbody:first-child > tr:first-child td {
  border-top: 0;
}
.panel > .table-bordered,
.panel > .table-responsive > .table-bordered {
  border: 0;
}
.panel > .table-bordered > thead > tr > th:first-child,
.panel > .table-responsive > .table-bordered > thead > tr > th:first-child,
.panel > .table-bordered > tbody > tr > th:first-child,
.panel > .table-responsive > .table-bordered > tbody > tr > th:first-child,
.panel > .table-bordered > tfoot > tr > th:first-child,
.panel > .table-responsive > .table-bordered > tfoot > tr > th:first-child,
.panel > .table-bordered > thead > tr > td:first-child,
.panel > .table-responsive > .table-bordered > thead > tr > td:first-child,
.panel > .table-bordered > tbody > tr > td:first-child,
.panel > .table-responsive > .table-bordered > tbody > tr > td:first-child,
.panel > .table-bordered > tfoot > tr > td:first-child,
.panel > .table-responsive > .table-bordered > tfoot > tr > td:first-child {
  border-left: 0;
}
.panel > .table-bordered > thead > tr > th:last-child,
.panel > .table-responsive > .table-bordered > thead > tr > th:last-child,
.panel > .table-bordered > tbody > tr > th:last-child,
.panel > .table-responsive > .table-bordered > tbody > tr > th:last-child,
.panel > .table-bordered > tfoot > tr > th:last-child,
.panel > .table-responsive > .table-bordered > tfoot > tr > th:last-child,
.panel > .table-bordered > thead > tr > td:last-child,
.panel > .table-responsive > .table-bordered > thead > tr > td:last-child,
.panel > .table-bordered > tbody > tr > td:last-child,
.panel > .table-responsive > .table-bordered > tbody > tr > td:last-child,
.panel > .table-bordered > tfoot > tr > td:last-child,
.panel > .table-responsive > .table-bordered > tfoot > tr > td:last-child {
  border-right: 0;
}
.panel > .table-bordered > thead > tr:first-child > td,
.panel > .table-responsive > .table-bordered > thead > tr:first-child > td,
.panel > .table-bordered > tbody > tr:first-child > td,
.panel > .table-responsive > .table-bordered > tbody > tr:first-child > td,
.panel > .table-bordered > thead > tr:first-child > th,
.panel > .table-responsive > .table-bordered > thead > tr:first-child > th,
.panel > .table-bordered > tbody > tr:first-child > th,
.panel > .table-responsive > .table-bordered > tbody > tr:first-child > th {
  border-bottom: 0;
}
.panel > .table-bordered > tbody > tr:last-child > td,
.panel > .table-responsive > .table-bordered > tbody > tr:last-child > td,
.panel > .table-bordered > tfoot > tr:last-child > td,
.panel > .table-responsive > .table-bordered > tfoot > tr:last-child > td,
.panel > .table-bordered > tbody > tr:last-child > th,
.panel > .table-responsive > .table-bordered > tbody > tr:last-child > th,
.panel > .table-bordered > tfoot > tr:last-child > th,
.panel > .table-responsive > .table-bordered > tfoot > tr:last-child > th {
  border-bottom: 0;
}
.panel > .table-responsive {
  border: 0;
  margin-bottom: 0;
}
.panel-group {
  margin-bottom: 18px;
}
.panel-group .panel {
  margin-bottom: 0;
  border-radius: 2px;
}
.panel-group .panel + .panel {
  margin-top: 5px;
}
.panel-group .panel-heading {
  border-bottom: 0;
}
.panel-group .panel-heading + .panel-collapse > .panel-body,
.panel-group .panel-heading + .panel-collapse > .list-group {
  border-top: 1px solid #ddd;
}
.panel-group .panel-footer {
  border-top: 0;
}
.panel-group .panel-footer + .panel-collapse .panel-body {
  border-bottom: 1px solid #ddd;
}
.panel-default {
  border-color: #ddd;
}
.panel-default > .panel-heading {
  color: #333333;
  background-color: #f5f5f5;
  border-color: #ddd;
}
.panel-default > .panel-heading + .panel-collapse > .panel-body {
  border-top-color: #ddd;
}
.panel-default > .panel-heading .badge {
  color: #f5f5f5;
  background-color: #333333;
}
.panel-default > .panel-footer + .panel-collapse > .panel-body {
  border-bottom-color: #ddd;
}
.panel-primary {
  border-color: #337ab7;
}
.panel-primary > .panel-heading {
  color: #fff;
  background-color: #337ab7;
  border-color: #337ab7;
}
.panel-primary > .panel-heading + .panel-collapse > .panel-body {
  border-top-color: #337ab7;
}
.panel-primary > .panel-heading .badge {
  color: #337ab7;
  background-color: #fff;
}
.panel-primary > .panel-footer + .panel-collapse > .panel-body {
  border-bottom-color: #337ab7;
}
.panel-success {
  border-color: #d6e9c6;
}
.panel-success > .panel-heading {
  color: #3c763d;
  background-color: #dff0d8;
  border-color: #d6e9c6;
}
.panel-success > .panel-heading + .panel-collapse > .panel-body {
  border-top-color: #d6e9c6;
}
.panel-success > .panel-heading .badge {
  color: #dff0d8;
  background-color: #3c763d;
}
.panel-success > .panel-footer + .panel-collapse > .panel-body {
  border-bottom-color: #d6e9c6;
}
.panel-info {
  border-color: #bce8f1;
}
.panel-info > .panel-heading {
  color: #31708f;
  background-color: #d9edf7;
  border-color: #bce8f1;
}
.panel-info > .panel-heading + .panel-collapse > .panel-body {
  border-top-color: #bce8f1;
}
.panel-info > .panel-heading .badge {
  color: #d9edf7;
  background-color: #31708f;
}
.panel-info > .panel-footer + .panel-collapse > .panel-body {
  border-bottom-color: #bce8f1;
}
.panel-warning {
  border-color: #faebcc;
}
.panel-warning > .panel-heading {
  color: #8a6d3b;
  background-color: #fcf8e3;
  border-color: #faebcc;
}
.panel-warning > .panel-heading + .panel-collapse > .panel-body {
  border-top-color: #faebcc;
}
.panel-warning > .panel-heading .badge {
  color: #fcf8e3;
  background-color: #8a6d3b;
}
.panel-warning > .panel-footer + .panel-collapse > .panel-body {
  border-bottom-color: #faebcc;
}
.panel-danger {
  border-color: #ebccd1;
}
.panel-danger > .panel-heading {
  color: #a94442;
  background-color: #f2dede;
  border-color: #ebccd1;
}
.panel-danger > .panel-heading + .panel-collapse > .panel-body {
  border-top-color: #ebccd1;
}
.panel-danger > .panel-heading .badge {
  color: #f2dede;
  background-color: #a94442;
}
.panel-danger > .panel-footer + .panel-collapse > .panel-body {
  border-bottom-color: #ebccd1;
}
.embed-responsive {
  position: relative;
  display: block;
  height: 0;
  padding: 0;
  overflow: hidden;
}
.embed-responsive .embed-responsive-item,
.embed-responsive iframe,
.embed-responsive embed,
.embed-responsive object,
.embed-responsive video {
  position: absolute;
  top: 0;
  left: 0;
  bottom: 0;
  height: 100%;
  width: 100%;
  border: 0;
}
.embed-responsive-16by9 {
  padding-bottom: 56.25%;
}
.embed-responsive-4by3 {
  padding-bottom: 75%;
}
.well {
  min-height: 20px;
  padding: 19px;
  margin-bottom: 20px;
  background-color: #f5f5f5;
  border: 1px solid #e3e3e3;
  border-radius: 2px;
  -webkit-box-shadow: inset 0 1px 1px rgba(0, 0, 0, 0.05);
  box-shadow: inset 0 1px 1px rgba(0, 0, 0, 0.05);
}
.well blockquote {
  border-color: #ddd;
  border-color: rgba(0, 0, 0, 0.15);
}
.well-lg {
  padding: 24px;
  border-radius: 3px;
}
.well-sm {
  padding: 9px;
  border-radius: 1px;
}
.close {
  float: right;
  font-size: 19.5px;
  font-weight: bold;
  line-height: 1;
  color: #000;
  text-shadow: 0 1px 0 #fff;
  opacity: 0.2;
  filter: alpha(opacity=20);
}
.close:hover,
.close:focus {
  color: #000;
  text-decoration: none;
  cursor: pointer;
  opacity: 0.5;
  filter: alpha(opacity=50);
}
button.close {
  padding: 0;
  cursor: pointer;
  background: transparent;
  border: 0;
  -webkit-appearance: none;
}
.modal-open {
  overflow: hidden;
}
.modal {
  display: none;
  overflow: hidden;
  position: fixed;
  top: 0;
  right: 0;
  bottom: 0;
  left: 0;
  z-index: 1050;
  -webkit-overflow-scrolling: touch;
  outline: 0;
}
.modal.fade .modal-dialog {
  -webkit-transform: translate(0, -25%);
  -ms-transform: translate(0, -25%);
  -o-transform: translate(0, -25%);
  transform: translate(0, -25%);
  -webkit-transition: -webkit-transform 0.3s ease-out;
  -moz-transition: -moz-transform 0.3s ease-out;
  -o-transition: -o-transform 0.3s ease-out;
  transition: transform 0.3s ease-out;
}
.modal.in .modal-dialog {
  -webkit-transform: translate(0, 0);
  -ms-transform: translate(0, 0);
  -o-transform: translate(0, 0);
  transform: translate(0, 0);
}
.modal-open .modal {
  overflow-x: hidden;
  overflow-y: auto;
}
.modal-dialog {
  position: relative;
  width: auto;
  margin: 10px;
}
.modal-content {
  position: relative;
  background-color: #fff;
  border: 1px solid #999;
  border: 1px solid rgba(0, 0, 0, 0.2);
  border-radius: 3px;
  -webkit-box-shadow: 0 3px 9px rgba(0, 0, 0, 0.5);
  box-shadow: 0 3px 9px rgba(0, 0, 0, 0.5);
  background-clip: padding-box;
  outline: 0;
}
.modal-backdrop {
  position: fixed;
  top: 0;
  right: 0;
  bottom: 0;
  left: 0;
  z-index: 1040;
  background-color: #000;
}
.modal-backdrop.fade {
  opacity: 0;
  filter: alpha(opacity=0);
}
.modal-backdrop.in {
  opacity: 0.5;
  filter: alpha(opacity=50);
}
.modal-header {
  padding: 15px;
  border-bottom: 1px solid #e5e5e5;
}
.modal-header .close {
  margin-top: -2px;
}
.modal-title {
  margin: 0;
  line-height: 1.42857143;
}
.modal-body {
  position: relative;
  padding: 15px;
}
.modal-footer {
  padding: 15px;
  text-align: right;
  border-top: 1px solid #e5e5e5;
}
.modal-footer .btn + .btn {
  margin-left: 5px;
  margin-bottom: 0;
}
.modal-footer .btn-group .btn + .btn {
  margin-left: -1px;
}
.modal-footer .btn-block + .btn-block {
  margin-left: 0;
}
.modal-scrollbar-measure {
  position: absolute;
  top: -9999px;
  width: 50px;
  height: 50px;
  overflow: scroll;
}
@media (min-width: 768px) {
  .modal-dialog {
    width: 600px;
    margin: 30px auto;
  }
  .modal-content {
    -webkit-box-shadow: 0 5px 15px rgba(0, 0, 0, 0.5);
    box-shadow: 0 5px 15px rgba(0, 0, 0, 0.5);
  }
  .modal-sm {
    width: 300px;
  }
}
@media (min-width: 992px) {
  .modal-lg {
    width: 900px;
  }
}
.tooltip {
  position: absolute;
  z-index: 1070;
  display: block;
  font-family: "Helvetica Neue", Helvetica, Arial, sans-serif;
  font-style: normal;
  font-weight: normal;
  letter-spacing: normal;
  line-break: auto;
  line-height: 1.42857143;
  text-align: left;
  text-align: start;
  text-decoration: none;
  text-shadow: none;
  text-transform: none;
  white-space: normal;
  word-break: normal;
  word-spacing: normal;
  word-wrap: normal;
  font-size: 12px;
  opacity: 0;
  filter: alpha(opacity=0);
}
.tooltip.in {
  opacity: 0.9;
  filter: alpha(opacity=90);
}
.tooltip.top {
  margin-top: -3px;
  padding: 5px 0;
}
.tooltip.right {
  margin-left: 3px;
  padding: 0 5px;
}
.tooltip.bottom {
  margin-top: 3px;
  padding: 5px 0;
}
.tooltip.left {
  margin-left: -3px;
  padding: 0 5px;
}
.tooltip-inner {
  max-width: 200px;
  padding: 3px 8px;
  color: #fff;
  text-align: center;
  background-color: #000;
  border-radius: 2px;
}
.tooltip-arrow {
  position: absolute;
  width: 0;
  height: 0;
  border-color: transparent;
  border-style: solid;
}
.tooltip.top .tooltip-arrow {
  bottom: 0;
  left: 50%;
  margin-left: -5px;
  border-width: 5px 5px 0;
  border-top-color: #000;
}
.tooltip.top-left .tooltip-arrow {
  bottom: 0;
  right: 5px;
  margin-bottom: -5px;
  border-width: 5px 5px 0;
  border-top-color: #000;
}
.tooltip.top-right .tooltip-arrow {
  bottom: 0;
  left: 5px;
  margin-bottom: -5px;
  border-width: 5px 5px 0;
  border-top-color: #000;
}
.tooltip.right .tooltip-arrow {
  top: 50%;
  left: 0;
  margin-top: -5px;
  border-width: 5px 5px 5px 0;
  border-right-color: #000;
}
.tooltip.left .tooltip-arrow {
  top: 50%;
  right: 0;
  margin-top: -5px;
  border-width: 5px 0 5px 5px;
  border-left-color: #000;
}
.tooltip.bottom .tooltip-arrow {
  top: 0;
  left: 50%;
  margin-left: -5px;
  border-width: 0 5px 5px;
  border-bottom-color: #000;
}
.tooltip.bottom-left .tooltip-arrow {
  top: 0;
  right: 5px;
  margin-top: -5px;
  border-width: 0 5px 5px;
  border-bottom-color: #000;
}
.tooltip.bottom-right .tooltip-arrow {
  top: 0;
  left: 5px;
  margin-top: -5px;
  border-width: 0 5px 5px;
  border-bottom-color: #000;
}
.popover {
  position: absolute;
  top: 0;
  left: 0;
  z-index: 1060;
  display: none;
  max-width: 276px;
  padding: 1px;
  font-family: "Helvetica Neue", Helvetica, Arial, sans-serif;
  font-style: normal;
  font-weight: normal;
  letter-spacing: normal;
  line-break: auto;
  line-height: 1.42857143;
  text-align: left;
  text-align: start;
  text-decoration: none;
  text-shadow: none;
  text-transform: none;
  white-space: normal;
  word-break: normal;
  word-spacing: normal;
  word-wrap: normal;
  font-size: 13px;
  background-color: #fff;
  background-clip: padding-box;
  border: 1px solid #ccc;
  border: 1px solid rgba(0, 0, 0, 0.2);
  border-radius: 3px;
  -webkit-box-shadow: 0 5px 10px rgba(0, 0, 0, 0.2);
  box-shadow: 0 5px 10px rgba(0, 0, 0, 0.2);
}
.popover.top {
  margin-top: -10px;
}
.popover.right {
  margin-left: 10px;
}
.popover.bottom {
  margin-top: 10px;
}
.popover.left {
  margin-left: -10px;
}
.popover-title {
  margin: 0;
  padding: 8px 14px;
  font-size: 13px;
  background-color: #f7f7f7;
  border-bottom: 1px solid #ebebeb;
  border-radius: 2px 2px 0 0;
}
.popover-content {
  padding: 9px 14px;
}
.popover > .arrow,
.popover > .arrow:after {
  position: absolute;
  display: block;
  width: 0;
  height: 0;
  border-color: transparent;
  border-style: solid;
}
.popover > .arrow {
  border-width: 11px;
}
.popover > .arrow:after {
  border-width: 10px;
  content: "";
}
.popover.top > .arrow {
  left: 50%;
  margin-left: -11px;
  border-bottom-width: 0;
  border-top-color: #999999;
  border-top-color: rgba(0, 0, 0, 0.25);
  bottom: -11px;
}
.popover.top > .arrow:after {
  content: " ";
  bottom: 1px;
  margin-left: -10px;
  border-bottom-width: 0;
  border-top-color: #fff;
}
.popover.right > .arrow {
  top: 50%;
  left: -11px;
  margin-top: -11px;
  border-left-width: 0;
  border-right-color: #999999;
  border-right-color: rgba(0, 0, 0, 0.25);
}
.popover.right > .arrow:after {
  content: " ";
  left: 1px;
  bottom: -10px;
  border-left-width: 0;
  border-right-color: #fff;
}
.popover.bottom > .arrow {
  left: 50%;
  margin-left: -11px;
  border-top-width: 0;
  border-bottom-color: #999999;
  border-bottom-color: rgba(0, 0, 0, 0.25);
  top: -11px;
}
.popover.bottom > .arrow:after {
  content: " ";
  top: 1px;
  margin-left: -10px;
  border-top-width: 0;
  border-bottom-color: #fff;
}
.popover.left > .arrow {
  top: 50%;
  right: -11px;
  margin-top: -11px;
  border-right-width: 0;
  border-left-color: #999999;
  border-left-color: rgba(0, 0, 0, 0.25);
}
.popover.left > .arrow:after {
  content: " ";
  right: 1px;
  border-right-width: 0;
  border-left-color: #fff;
  bottom: -10px;
}
.carousel {
  position: relative;
}
.carousel-inner {
  position: relative;
  overflow: hidden;
  width: 100%;
}
.carousel-inner > .item {
  display: none;
  position: relative;
  -webkit-transition: 0.6s ease-in-out left;
  -o-transition: 0.6s ease-in-out left;
  transition: 0.6s ease-in-out left;
}
.carousel-inner > .item > img,
.carousel-inner > .item > a > img {
  line-height: 1;
}
@media all and (transform-3d), (-webkit-transform-3d) {
  .carousel-inner > .item {
    -webkit-transition: -webkit-transform 0.6s ease-in-out;
    -moz-transition: -moz-transform 0.6s ease-in-out;
    -o-transition: -o-transform 0.6s ease-in-out;
    transition: transform 0.6s ease-in-out;
    -webkit-backface-visibility: hidden;
    -moz-backface-visibility: hidden;
    backface-visibility: hidden;
    -webkit-perspective: 1000px;
    -moz-perspective: 1000px;
    perspective: 1000px;
  }
  .carousel-inner > .item.next,
  .carousel-inner > .item.active.right {
    -webkit-transform: translate3d(100%, 0, 0);
    transform: translate3d(100%, 0, 0);
    left: 0;
  }
  .carousel-inner > .item.prev,
  .carousel-inner > .item.active.left {
    -webkit-transform: translate3d(-100%, 0, 0);
    transform: translate3d(-100%, 0, 0);
    left: 0;
  }
  .carousel-inner > .item.next.left,
  .carousel-inner > .item.prev.right,
  .carousel-inner > .item.active {
    -webkit-transform: translate3d(0, 0, 0);
    transform: translate3d(0, 0, 0);
    left: 0;
  }
}
.carousel-inner > .active,
.carousel-inner > .next,
.carousel-inner > .prev {
  display: block;
}
.carousel-inner > .active {
  left: 0;
}
.carousel-inner > .next,
.carousel-inner > .prev {
  position: absolute;
  top: 0;
  width: 100%;
}
.carousel-inner > .next {
  left: 100%;
}
.carousel-inner > .prev {
  left: -100%;
}
.carousel-inner > .next.left,
.carousel-inner > .prev.right {
  left: 0;
}
.carousel-inner > .active.left {
  left: -100%;
}
.carousel-inner > .active.right {
  left: 100%;
}
.carousel-control {
  position: absolute;
  top: 0;
  left: 0;
  bottom: 0;
  width: 15%;
  opacity: 0.5;
  filter: alpha(opacity=50);
  font-size: 20px;
  color: #fff;
  text-align: center;
  text-shadow: 0 1px 2px rgba(0, 0, 0, 0.6);
  background-color: rgba(0, 0, 0, 0);
}
.carousel-control.left {
  background-image: -webkit-linear-gradient(left, rgba(0, 0, 0, 0.5) 0%, rgba(0, 0, 0, 0.0001) 100%);
  background-image: -o-linear-gradient(left, rgba(0, 0, 0, 0.5) 0%, rgba(0, 0, 0, 0.0001) 100%);
  background-image: linear-gradient(to right, rgba(0, 0, 0, 0.5) 0%, rgba(0, 0, 0, 0.0001) 100%);
  background-repeat: repeat-x;
  filter: progid:DXImageTransform.Microsoft.gradient(startColorstr='#80000000', endColorstr='#00000000', GradientType=1);
}
.carousel-control.right {
  left: auto;
  right: 0;
  background-image: -webkit-linear-gradient(left, rgba(0, 0, 0, 0.0001) 0%, rgba(0, 0, 0, 0.5) 100%);
  background-image: -o-linear-gradient(left, rgba(0, 0, 0, 0.0001) 0%, rgba(0, 0, 0, 0.5) 100%);
  background-image: linear-gradient(to right, rgba(0, 0, 0, 0.0001) 0%, rgba(0, 0, 0, 0.5) 100%);
  background-repeat: repeat-x;
  filter: progid:DXImageTransform.Microsoft.gradient(startColorstr='#00000000', endColorstr='#80000000', GradientType=1);
}
.carousel-control:hover,
.carousel-control:focus {
  outline: 0;
  color: #fff;
  text-decoration: none;
  opacity: 0.9;
  filter: alpha(opacity=90);
}
.carousel-control .icon-prev,
.carousel-control .icon-next,
.carousel-control .glyphicon-chevron-left,
.carousel-control .glyphicon-chevron-right {
  position: absolute;
  top: 50%;
  margin-top: -10px;
  z-index: 5;
  display: inline-block;
}
.carousel-control .icon-prev,
.carousel-control .glyphicon-chevron-left {
  left: 50%;
  margin-left: -10px;
}
.carousel-control .icon-next,
.carousel-control .glyphicon-chevron-right {
  right: 50%;
  margin-right: -10px;
}
.carousel-control .icon-prev,
.carousel-control .icon-next {
  width: 20px;
  height: 20px;
  line-height: 1;
  font-family: serif;
}
.carousel-control .icon-prev:before {
  content: '\2039';
}
.carousel-control .icon-next:before {
  content: '\203a';
}
.carousel-indicators {
  position: absolute;
  bottom: 10px;
  left: 50%;
  z-index: 15;
  width: 60%;
  margin-left: -30%;
  padding-left: 0;
  list-style: none;
  text-align: center;
}
.carousel-indicators li {
  display: inline-block;
  width: 10px;
  height: 10px;
  margin: 1px;
  text-indent: -999px;
  border: 1px solid #fff;
  border-radius: 10px;
  cursor: pointer;
  background-color: #000 \9;
  background-color: rgba(0, 0, 0, 0);
}
.carousel-indicators .active {
  margin: 0;
  width: 12px;
  height: 12px;
  background-color: #fff;
}
.carousel-caption {
  position: absolute;
  left: 15%;
  right: 15%;
  bottom: 20px;
  z-index: 10;
  padding-top: 20px;
  padding-bottom: 20px;
  color: #fff;
  text-align: center;
  text-shadow: 0 1px 2px rgba(0, 0, 0, 0.6);
}
.carousel-caption .btn {
  text-shadow: none;
}
@media screen and (min-width: 768px) {
  .carousel-control .glyphicon-chevron-left,
  .carousel-control .glyphicon-chevron-right,
  .carousel-control .icon-prev,
  .carousel-control .icon-next {
    width: 30px;
    height: 30px;
    margin-top: -10px;
    font-size: 30px;
  }
  .carousel-control .glyphicon-chevron-left,
  .carousel-control .icon-prev {
    margin-left: -10px;
  }
  .carousel-control .glyphicon-chevron-right,
  .carousel-control .icon-next {
    margin-right: -10px;
  }
  .carousel-caption {
    left: 20%;
    right: 20%;
    padding-bottom: 30px;
  }
  .carousel-indicators {
    bottom: 20px;
  }
}
.clearfix:before,
.clearfix:after,
.dl-horizontal dd:before,
.dl-horizontal dd:after,
.container:before,
.container:after,
.container-fluid:before,
.container-fluid:after,
.row:before,
.row:after,
.form-horizontal .form-group:before,
.form-horizontal .form-group:after,
.btn-toolbar:before,
.btn-toolbar:after,
.btn-group-vertical > .btn-group:before,
.btn-group-vertical > .btn-group:after,
.nav:before,
.nav:after,
.navbar:before,
.navbar:after,
.navbar-header:before,
.navbar-header:after,
.navbar-collapse:before,
.navbar-collapse:after,
.pager:before,
.pager:after,
.panel-body:before,
.panel-body:after,
.modal-header:before,
.modal-header:after,
.modal-footer:before,
.modal-footer:after,
.item_buttons:before,
.item_buttons:after {
  content: " ";
  display: table;
}
.clearfix:after,
.dl-horizontal dd:after,
.container:after,
.container-fluid:after,
.row:after,
.form-horizontal .form-group:after,
.btn-toolbar:after,
.btn-group-vertical > .btn-group:after,
.nav:after,
.navbar:after,
.navbar-header:after,
.navbar-collapse:after,
.pager:after,
.panel-body:after,
.modal-header:after,
.modal-footer:after,
.item_buttons:after {
  clear: both;
}
.center-block {
  display: block;
  margin-left: auto;
  margin-right: auto;
}
.pull-right {
  float: right !important;
}
.pull-left {
  float: left !important;
}
.hide {
  display: none !important;
}
.show {
  display: block !important;
}
.invisible {
  visibility: hidden;
}
.text-hide {
  font: 0/0 a;
  color: transparent;
  text-shadow: none;
  background-color: transparent;
  border: 0;
}
.hidden {
  display: none !important;
}
.affix {
  position: fixed;
}
@-ms-viewport {
  width: device-width;
}
.visible-xs,
.visible-sm,
.visible-md,
.visible-lg {
  display: none !important;
}
.visible-xs-block,
.visible-xs-inline,
.visible-xs-inline-block,
.visible-sm-block,
.visible-sm-inline,
.visible-sm-inline-block,
.visible-md-block,
.visible-md-inline,
.visible-md-inline-block,
.visible-lg-block,
.visible-lg-inline,
.visible-lg-inline-block {
  display: none !important;
}
@media (max-width: 767px) {
  .visible-xs {
    display: block !important;
  }
  table.visible-xs {
    display: table !important;
  }
  tr.visible-xs {
    display: table-row !important;
  }
  th.visible-xs,
  td.visible-xs {
    display: table-cell !important;
  }
}
@media (max-width: 767px) {
  .visible-xs-block {
    display: block !important;
  }
}
@media (max-width: 767px) {
  .visible-xs-inline {
    display: inline !important;
  }
}
@media (max-width: 767px) {
  .visible-xs-inline-block {
    display: inline-block !important;
  }
}
@media (min-width: 768px) and (max-width: 991px) {
  .visible-sm {
    display: block !important;
  }
  table.visible-sm {
    display: table !important;
  }
  tr.visible-sm {
    display: table-row !important;
  }
  th.visible-sm,
  td.visible-sm {
    display: table-cell !important;
  }
}
@media (min-width: 768px) and (max-width: 991px) {
  .visible-sm-block {
    display: block !important;
  }
}
@media (min-width: 768px) and (max-width: 991px) {
  .visible-sm-inline {
    display: inline !important;
  }
}
@media (min-width: 768px) and (max-width: 991px) {
  .visible-sm-inline-block {
    display: inline-block !important;
  }
}
@media (min-width: 992px) and (max-width: 1199px) {
  .visible-md {
    display: block !important;
  }
  table.visible-md {
    display: table !important;
  }
  tr.visible-md {
    display: table-row !important;
  }
  th.visible-md,
  td.visible-md {
    display: table-cell !important;
  }
}
@media (min-width: 992px) and (max-width: 1199px) {
  .visible-md-block {
    display: block !important;
  }
}
@media (min-width: 992px) and (max-width: 1199px) {
  .visible-md-inline {
    display: inline !important;
  }
}
@media (min-width: 992px) and (max-width: 1199px) {
  .visible-md-inline-block {
    display: inline-block !important;
  }
}
@media (min-width: 1200px) {
  .visible-lg {
    display: block !important;
  }
  table.visible-lg {
    display: table !important;
  }
  tr.visible-lg {
    display: table-row !important;
  }
  th.visible-lg,
  td.visible-lg {
    display: table-cell !important;
  }
}
@media (min-width: 1200px) {
  .visible-lg-block {
    display: block !important;
  }
}
@media (min-width: 1200px) {
  .visible-lg-inline {
    display: inline !important;
  }
}
@media (min-width: 1200px) {
  .visible-lg-inline-block {
    display: inline-block !important;
  }
}
@media (max-width: 767px) {
  .hidden-xs {
    display: none !important;
  }
}
@media (min-width: 768px) and (max-width: 991px) {
  .hidden-sm {
    display: none !important;
  }
}
@media (min-width: 992px) and (max-width: 1199px) {
  .hidden-md {
    display: none !important;
  }
}
@media (min-width: 1200px) {
  .hidden-lg {
    display: none !important;
  }
}
.visible-print {
  display: none !important;
}
@media print {
  .visible-print {
    display: block !important;
  }
  table.visible-print {
    display: table !important;
  }
  tr.visible-print {
    display: table-row !important;
  }
  th.visible-print,
  td.visible-print {
    display: table-cell !important;
  }
}
.visible-print-block {
  display: none !important;
}
@media print {
  .visible-print-block {
    display: block !important;
  }
}
.visible-print-inline {
  display: none !important;
}
@media print {
  .visible-print-inline {
    display: inline !important;
  }
}
.visible-print-inline-block {
  display: none !important;
}
@media print {
  .visible-print-inline-block {
    display: inline-block !important;
  }
}
@media print {
  .hidden-print {
    display: none !important;
  }
}
/*!
*
* Font Awesome
*
*/
/*!
 *  Font Awesome 4.2.0 by @davegandy - http://fontawesome.io - @fontawesome
 *  License - http://fontawesome.io/license (Font: SIL OFL 1.1, CSS: MIT License)
 */
/* FONT PATH
 * -------------------------- */
@font-face {
  font-family: 'FontAwesome';
  src: url('../components/font-awesome/fonts/fontawesome-webfont.eot?v=4.2.0');
  src: url('../components/font-awesome/fonts/fontawesome-webfont.eot?#iefix&v=4.2.0') format('embedded-opentype'), url('../components/font-awesome/fonts/fontawesome-webfont.woff?v=4.2.0') format('woff'), url('../components/font-awesome/fonts/fontawesome-webfont.ttf?v=4.2.0') format('truetype'), url('../components/font-awesome/fonts/fontawesome-webfont.svg?v=4.2.0#fontawesomeregular') format('svg');
  font-weight: normal;
  font-style: normal;
}
.fa {
  display: inline-block;
  font: normal normal normal 14px/1 FontAwesome;
  font-size: inherit;
  text-rendering: auto;
  -webkit-font-smoothing: antialiased;
  -moz-osx-font-smoothing: grayscale;
}
/* makes the font 33% larger relative to the icon container */
.fa-lg {
  font-size: 1.33333333em;
  line-height: 0.75em;
  vertical-align: -15%;
}
.fa-2x {
  font-size: 2em;
}
.fa-3x {
  font-size: 3em;
}
.fa-4x {
  font-size: 4em;
}
.fa-5x {
  font-size: 5em;
}
.fa-fw {
  width: 1.28571429em;
  text-align: center;
}
.fa-ul {
  padding-left: 0;
  margin-left: 2.14285714em;
  list-style-type: none;
}
.fa-ul > li {
  position: relative;
}
.fa-li {
  position: absolute;
  left: -2.14285714em;
  width: 2.14285714em;
  top: 0.14285714em;
  text-align: center;
}
.fa-li.fa-lg {
  left: -1.85714286em;
}
.fa-border {
  padding: .2em .25em .15em;
  border: solid 0.08em #eee;
  border-radius: .1em;
}
.pull-right {
  float: right;
}
.pull-left {
  float: left;
}
.fa.pull-left {
  margin-right: .3em;
}
.fa.pull-right {
  margin-left: .3em;
}
.fa-spin {
  -webkit-animation: fa-spin 2s infinite linear;
  animation: fa-spin 2s infinite linear;
}
@-webkit-keyframes fa-spin {
  0% {
    -webkit-transform: rotate(0deg);
    transform: rotate(0deg);
  }
  100% {
    -webkit-transform: rotate(359deg);
    transform: rotate(359deg);
  }
}
@keyframes fa-spin {
  0% {
    -webkit-transform: rotate(0deg);
    transform: rotate(0deg);
  }
  100% {
    -webkit-transform: rotate(359deg);
    transform: rotate(359deg);
  }
}
.fa-rotate-90 {
  filter: progid:DXImageTransform.Microsoft.BasicImage(rotation=1);
  -webkit-transform: rotate(90deg);
  -ms-transform: rotate(90deg);
  transform: rotate(90deg);
}
.fa-rotate-180 {
  filter: progid:DXImageTransform.Microsoft.BasicImage(rotation=2);
  -webkit-transform: rotate(180deg);
  -ms-transform: rotate(180deg);
  transform: rotate(180deg);
}
.fa-rotate-270 {
  filter: progid:DXImageTransform.Microsoft.BasicImage(rotation=3);
  -webkit-transform: rotate(270deg);
  -ms-transform: rotate(270deg);
  transform: rotate(270deg);
}
.fa-flip-horizontal {
  filter: progid:DXImageTransform.Microsoft.BasicImage(rotation=0, mirror=1);
  -webkit-transform: scale(-1, 1);
  -ms-transform: scale(-1, 1);
  transform: scale(-1, 1);
}
.fa-flip-vertical {
  filter: progid:DXImageTransform.Microsoft.BasicImage(rotation=2, mirror=1);
  -webkit-transform: scale(1, -1);
  -ms-transform: scale(1, -1);
  transform: scale(1, -1);
}
:root .fa-rotate-90,
:root .fa-rotate-180,
:root .fa-rotate-270,
:root .fa-flip-horizontal,
:root .fa-flip-vertical {
  filter: none;
}
.fa-stack {
  position: relative;
  display: inline-block;
  width: 2em;
  height: 2em;
  line-height: 2em;
  vertical-align: middle;
}
.fa-stack-1x,
.fa-stack-2x {
  position: absolute;
  left: 0;
  width: 100%;
  text-align: center;
}
.fa-stack-1x {
  line-height: inherit;
}
.fa-stack-2x {
  font-size: 2em;
}
.fa-inverse {
  color: #fff;
}
/* Font Awesome uses the Unicode Private Use Area (PUA) to ensure screen
   readers do not read off random characters that represent icons */
.fa-glass:before {
  content: "\f000";
}
.fa-music:before {
  content: "\f001";
}
.fa-search:before {
  content: "\f002";
}
.fa-envelope-o:before {
  content: "\f003";
}
.fa-heart:before {
  content: "\f004";
}
.fa-star:before {
  content: "\f005";
}
.fa-star-o:before {
  content: "\f006";
}
.fa-user:before {
  content: "\f007";
}
.fa-film:before {
  content: "\f008";
}
.fa-th-large:before {
  content: "\f009";
}
.fa-th:before {
  content: "\f00a";
}
.fa-th-list:before {
  content: "\f00b";
}
.fa-check:before {
  content: "\f00c";
}
.fa-remove:before,
.fa-close:before,
.fa-times:before {
  content: "\f00d";
}
.fa-search-plus:before {
  content: "\f00e";
}
.fa-search-minus:before {
  content: "\f010";
}
.fa-power-off:before {
  content: "\f011";
}
.fa-signal:before {
  content: "\f012";
}
.fa-gear:before,
.fa-cog:before {
  content: "\f013";
}
.fa-trash-o:before {
  content: "\f014";
}
.fa-home:before {
  content: "\f015";
}
.fa-file-o:before {
  content: "\f016";
}
.fa-clock-o:before {
  content: "\f017";
}
.fa-road:before {
  content: "\f018";
}
.fa-download:before {
  content: "\f019";
}
.fa-arrow-circle-o-down:before {
  content: "\f01a";
}
.fa-arrow-circle-o-up:before {
  content: "\f01b";
}
.fa-inbox:before {
  content: "\f01c";
}
.fa-play-circle-o:before {
  content: "\f01d";
}
.fa-rotate-right:before,
.fa-repeat:before {
  content: "\f01e";
}
.fa-refresh:before {
  content: "\f021";
}
.fa-list-alt:before {
  content: "\f022";
}
.fa-lock:before {
  content: "\f023";
}
.fa-flag:before {
  content: "\f024";
}
.fa-headphones:before {
  content: "\f025";
}
.fa-volume-off:before {
  content: "\f026";
}
.fa-volume-down:before {
  content: "\f027";
}
.fa-volume-up:before {
  content: "\f028";
}
.fa-qrcode:before {
  content: "\f029";
}
.fa-barcode:before {
  content: "\f02a";
}
.fa-tag:before {
  content: "\f02b";
}
.fa-tags:before {
  content: "\f02c";
}
.fa-book:before {
  content: "\f02d";
}
.fa-bookmark:before {
  content: "\f02e";
}
.fa-print:before {
  content: "\f02f";
}
.fa-camera:before {
  content: "\f030";
}
.fa-font:before {
  content: "\f031";
}
.fa-bold:before {
  content: "\f032";
}
.fa-italic:before {
  content: "\f033";
}
.fa-text-height:before {
  content: "\f034";
}
.fa-text-width:before {
  content: "\f035";
}
.fa-align-left:before {
  content: "\f036";
}
.fa-align-center:before {
  content: "\f037";
}
.fa-align-right:before {
  content: "\f038";
}
.fa-align-justify:before {
  content: "\f039";
}
.fa-list:before {
  content: "\f03a";
}
.fa-dedent:before,
.fa-outdent:before {
  content: "\f03b";
}
.fa-indent:before {
  content: "\f03c";
}
.fa-video-camera:before {
  content: "\f03d";
}
.fa-photo:before,
.fa-image:before,
.fa-picture-o:before {
  content: "\f03e";
}
.fa-pencil:before {
  content: "\f040";
}
.fa-map-marker:before {
  content: "\f041";
}
.fa-adjust:before {
  content: "\f042";
}
.fa-tint:before {
  content: "\f043";
}
.fa-edit:before,
.fa-pencil-square-o:before {
  content: "\f044";
}
.fa-share-square-o:before {
  content: "\f045";
}
.fa-check-square-o:before {
  content: "\f046";
}
.fa-arrows:before {
  content: "\f047";
}
.fa-step-backward:before {
  content: "\f048";
}
.fa-fast-backward:before {
  content: "\f049";
}
.fa-backward:before {
  content: "\f04a";
}
.fa-play:before {
  content: "\f04b";
}
.fa-pause:before {
  content: "\f04c";
}
.fa-stop:before {
  content: "\f04d";
}
.fa-forward:before {
  content: "\f04e";
}
.fa-fast-forward:before {
  content: "\f050";
}
.fa-step-forward:before {
  content: "\f051";
}
.fa-eject:before {
  content: "\f052";
}
.fa-chevron-left:before {
  content: "\f053";
}
.fa-chevron-right:before {
  content: "\f054";
}
.fa-plus-circle:before {
  content: "\f055";
}
.fa-minus-circle:before {
  content: "\f056";
}
.fa-times-circle:before {
  content: "\f057";
}
.fa-check-circle:before {
  content: "\f058";
}
.fa-question-circle:before {
  content: "\f059";
}
.fa-info-circle:before {
  content: "\f05a";
}
.fa-crosshairs:before {
  content: "\f05b";
}
.fa-times-circle-o:before {
  content: "\f05c";
}
.fa-check-circle-o:before {
  content: "\f05d";
}
.fa-ban:before {
  content: "\f05e";
}
.fa-arrow-left:before {
  content: "\f060";
}
.fa-arrow-right:before {
  content: "\f061";
}
.fa-arrow-up:before {
  content: "\f062";
}
.fa-arrow-down:before {
  content: "\f063";
}
.fa-mail-forward:before,
.fa-share:before {
  content: "\f064";
}
.fa-expand:before {
  content: "\f065";
}
.fa-compress:before {
  content: "\f066";
}
.fa-plus:before {
  content: "\f067";
}
.fa-minus:before {
  content: "\f068";
}
.fa-asterisk:before {
  content: "\f069";
}
.fa-exclamation-circle:before {
  content: "\f06a";
}
.fa-gift:before {
  content: "\f06b";
}
.fa-leaf:before {
  content: "\f06c";
}
.fa-fire:before {
  content: "\f06d";
}
.fa-eye:before {
  content: "\f06e";
}
.fa-eye-slash:before {
  content: "\f070";
}
.fa-warning:before,
.fa-exclamation-triangle:before {
  content: "\f071";
}
.fa-plane:before {
  content: "\f072";
}
.fa-calendar:before {
  content: "\f073";
}
.fa-random:before {
  content: "\f074";
}
.fa-comment:before {
  content: "\f075";
}
.fa-magnet:before {
  content: "\f076";
}
.fa-chevron-up:before {
  content: "\f077";
}
.fa-chevron-down:before {
  content: "\f078";
}
.fa-retweet:before {
  content: "\f079";
}
.fa-shopping-cart:before {
  content: "\f07a";
}
.fa-folder:before {
  content: "\f07b";
}
.fa-folder-open:before {
  content: "\f07c";
}
.fa-arrows-v:before {
  content: "\f07d";
}
.fa-arrows-h:before {
  content: "\f07e";
}
.fa-bar-chart-o:before,
.fa-bar-chart:before {
  content: "\f080";
}
.fa-twitter-square:before {
  content: "\f081";
}
.fa-facebook-square:before {
  content: "\f082";
}
.fa-camera-retro:before {
  content: "\f083";
}
.fa-key:before {
  content: "\f084";
}
.fa-gears:before,
.fa-cogs:before {
  content: "\f085";
}
.fa-comments:before {
  content: "\f086";
}
.fa-thumbs-o-up:before {
  content: "\f087";
}
.fa-thumbs-o-down:before {
  content: "\f088";
}
.fa-star-half:before {
  content: "\f089";
}
.fa-heart-o:before {
  content: "\f08a";
}
.fa-sign-out:before {
  content: "\f08b";
}
.fa-linkedin-square:before {
  content: "\f08c";
}
.fa-thumb-tack:before {
  content: "\f08d";
}
.fa-external-link:before {
  content: "\f08e";
}
.fa-sign-in:before {
  content: "\f090";
}
.fa-trophy:before {
  content: "\f091";
}
.fa-github-square:before {
  content: "\f092";
}
.fa-upload:before {
  content: "\f093";
}
.fa-lemon-o:before {
  content: "\f094";
}
.fa-phone:before {
  content: "\f095";
}
.fa-square-o:before {
  content: "\f096";
}
.fa-bookmark-o:before {
  content: "\f097";
}
.fa-phone-square:before {
  content: "\f098";
}
.fa-twitter:before {
  content: "\f099";
}
.fa-facebook:before {
  content: "\f09a";
}
.fa-github:before {
  content: "\f09b";
}
.fa-unlock:before {
  content: "\f09c";
}
.fa-credit-card:before {
  content: "\f09d";
}
.fa-rss:before {
  content: "\f09e";
}
.fa-hdd-o:before {
  content: "\f0a0";
}
.fa-bullhorn:before {
  content: "\f0a1";
}
.fa-bell:before {
  content: "\f0f3";
}
.fa-certificate:before {
  content: "\f0a3";
}
.fa-hand-o-right:before {
  content: "\f0a4";
}
.fa-hand-o-left:before {
  content: "\f0a5";
}
.fa-hand-o-up:before {
  content: "\f0a6";
}
.fa-hand-o-down:before {
  content: "\f0a7";
}
.fa-arrow-circle-left:before {
  content: "\f0a8";
}
.fa-arrow-circle-right:before {
  content: "\f0a9";
}
.fa-arrow-circle-up:before {
  content: "\f0aa";
}
.fa-arrow-circle-down:before {
  content: "\f0ab";
}
.fa-globe:before {
  content: "\f0ac";
}
.fa-wrench:before {
  content: "\f0ad";
}
.fa-tasks:before {
  content: "\f0ae";
}
.fa-filter:before {
  content: "\f0b0";
}
.fa-briefcase:before {
  content: "\f0b1";
}
.fa-arrows-alt:before {
  content: "\f0b2";
}
.fa-group:before,
.fa-users:before {
  content: "\f0c0";
}
.fa-chain:before,
.fa-link:before {
  content: "\f0c1";
}
.fa-cloud:before {
  content: "\f0c2";
}
.fa-flask:before {
  content: "\f0c3";
}
.fa-cut:before,
.fa-scissors:before {
  content: "\f0c4";
}
.fa-copy:before,
.fa-files-o:before {
  content: "\f0c5";
}
.fa-paperclip:before {
  content: "\f0c6";
}
.fa-save:before,
.fa-floppy-o:before {
  content: "\f0c7";
}
.fa-square:before {
  content: "\f0c8";
}
.fa-navicon:before,
.fa-reorder:before,
.fa-bars:before {
  content: "\f0c9";
}
.fa-list-ul:before {
  content: "\f0ca";
}
.fa-list-ol:before {
  content: "\f0cb";
}
.fa-strikethrough:before {
  content: "\f0cc";
}
.fa-underline:before {
  content: "\f0cd";
}
.fa-table:before {
  content: "\f0ce";
}
.fa-magic:before {
  content: "\f0d0";
}
.fa-truck:before {
  content: "\f0d1";
}
.fa-pinterest:before {
  content: "\f0d2";
}
.fa-pinterest-square:before {
  content: "\f0d3";
}
.fa-google-plus-square:before {
  content: "\f0d4";
}
.fa-google-plus:before {
  content: "\f0d5";
}
.fa-money:before {
  content: "\f0d6";
}
.fa-caret-down:before {
  content: "\f0d7";
}
.fa-caret-up:before {
  content: "\f0d8";
}
.fa-caret-left:before {
  content: "\f0d9";
}
.fa-caret-right:before {
  content: "\f0da";
}
.fa-columns:before {
  content: "\f0db";
}
.fa-unsorted:before,
.fa-sort:before {
  content: "\f0dc";
}
.fa-sort-down:before,
.fa-sort-desc:before {
  content: "\f0dd";
}
.fa-sort-up:before,
.fa-sort-asc:before {
  content: "\f0de";
}
.fa-envelope:before {
  content: "\f0e0";
}
.fa-linkedin:before {
  content: "\f0e1";
}
.fa-rotate-left:before,
.fa-undo:before {
  content: "\f0e2";
}
.fa-legal:before,
.fa-gavel:before {
  content: "\f0e3";
}
.fa-dashboard:before,
.fa-tachometer:before {
  content: "\f0e4";
}
.fa-comment-o:before {
  content: "\f0e5";
}
.fa-comments-o:before {
  content: "\f0e6";
}
.fa-flash:before,
.fa-bolt:before {
  content: "\f0e7";
}
.fa-sitemap:before {
  content: "\f0e8";
}
.fa-umbrella:before {
  content: "\f0e9";
}
.fa-paste:before,
.fa-clipboard:before {
  content: "\f0ea";
}
.fa-lightbulb-o:before {
  content: "\f0eb";
}
.fa-exchange:before {
  content: "\f0ec";
}
.fa-cloud-download:before {
  content: "\f0ed";
}
.fa-cloud-upload:before {
  content: "\f0ee";
}
.fa-user-md:before {
  content: "\f0f0";
}
.fa-stethoscope:before {
  content: "\f0f1";
}
.fa-suitcase:before {
  content: "\f0f2";
}
.fa-bell-o:before {
  content: "\f0a2";
}
.fa-coffee:before {
  content: "\f0f4";
}
.fa-cutlery:before {
  content: "\f0f5";
}
.fa-file-text-o:before {
  content: "\f0f6";
}
.fa-building-o:before {
  content: "\f0f7";
}
.fa-hospital-o:before {
  content: "\f0f8";
}
.fa-ambulance:before {
  content: "\f0f9";
}
.fa-medkit:before {
  content: "\f0fa";
}
.fa-fighter-jet:before {
  content: "\f0fb";
}
.fa-beer:before {
  content: "\f0fc";
}
.fa-h-square:before {
  content: "\f0fd";
}
.fa-plus-square:before {
  content: "\f0fe";
}
.fa-angle-double-left:before {
  content: "\f100";
}
.fa-angle-double-right:before {
  content: "\f101";
}
.fa-angle-double-up:before {
  content: "\f102";
}
.fa-angle-double-down:before {
  content: "\f103";
}
.fa-angle-left:before {
  content: "\f104";
}
.fa-angle-right:before {
  content: "\f105";
}
.fa-angle-up:before {
  content: "\f106";
}
.fa-angle-down:before {
  content: "\f107";
}
.fa-desktop:before {
  content: "\f108";
}
.fa-laptop:before {
  content: "\f109";
}
.fa-tablet:before {
  content: "\f10a";
}
.fa-mobile-phone:before,
.fa-mobile:before {
  content: "\f10b";
}
.fa-circle-o:before {
  content: "\f10c";
}
.fa-quote-left:before {
  content: "\f10d";
}
.fa-quote-right:before {
  content: "\f10e";
}
.fa-spinner:before {
  content: "\f110";
}
.fa-circle:before {
  content: "\f111";
}
.fa-mail-reply:before,
.fa-reply:before {
  content: "\f112";
}
.fa-github-alt:before {
  content: "\f113";
}
.fa-folder-o:before {
  content: "\f114";
}
.fa-folder-open-o:before {
  content: "\f115";
}
.fa-smile-o:before {
  content: "\f118";
}
.fa-frown-o:before {
  content: "\f119";
}
.fa-meh-o:before {
  content: "\f11a";
}
.fa-gamepad:before {
  content: "\f11b";
}
.fa-keyboard-o:before {
  content: "\f11c";
}
.fa-flag-o:before {
  content: "\f11d";
}
.fa-flag-checkered:before {
  content: "\f11e";
}
.fa-terminal:before {
  content: "\f120";
}
.fa-code:before {
  content: "\f121";
}
.fa-mail-reply-all:before,
.fa-reply-all:before {
  content: "\f122";
}
.fa-star-half-empty:before,
.fa-star-half-full:before,
.fa-star-half-o:before {
  content: "\f123";
}
.fa-location-arrow:before {
  content: "\f124";
}
.fa-crop:before {
  content: "\f125";
}
.fa-code-fork:before {
  content: "\f126";
}
.fa-unlink:before,
.fa-chain-broken:before {
  content: "\f127";
}
.fa-question:before {
  content: "\f128";
}
.fa-info:before {
  content: "\f129";
}
.fa-exclamation:before {
  content: "\f12a";
}
.fa-superscript:before {
  content: "\f12b";
}
.fa-subscript:before {
  content: "\f12c";
}
.fa-eraser:before {
  content: "\f12d";
}
.fa-puzzle-piece:before {
  content: "\f12e";
}
.fa-microphone:before {
  content: "\f130";
}
.fa-microphone-slash:before {
  content: "\f131";
}
.fa-shield:before {
  content: "\f132";
}
.fa-calendar-o:before {
  content: "\f133";
}
.fa-fire-extinguisher:before {
  content: "\f134";
}
.fa-rocket:before {
  content: "\f135";
}
.fa-maxcdn:before {
  content: "\f136";
}
.fa-chevron-circle-left:before {
  content: "\f137";
}
.fa-chevron-circle-right:before {
  content: "\f138";
}
.fa-chevron-circle-up:before {
  content: "\f139";
}
.fa-chevron-circle-down:before {
  content: "\f13a";
}
.fa-html5:before {
  content: "\f13b";
}
.fa-css3:before {
  content: "\f13c";
}
.fa-anchor:before {
  content: "\f13d";
}
.fa-unlock-alt:before {
  content: "\f13e";
}
.fa-bullseye:before {
  content: "\f140";
}
.fa-ellipsis-h:before {
  content: "\f141";
}
.fa-ellipsis-v:before {
  content: "\f142";
}
.fa-rss-square:before {
  content: "\f143";
}
.fa-play-circle:before {
  content: "\f144";
}
.fa-ticket:before {
  content: "\f145";
}
.fa-minus-square:before {
  content: "\f146";
}
.fa-minus-square-o:before {
  content: "\f147";
}
.fa-level-up:before {
  content: "\f148";
}
.fa-level-down:before {
  content: "\f149";
}
.fa-check-square:before {
  content: "\f14a";
}
.fa-pencil-square:before {
  content: "\f14b";
}
.fa-external-link-square:before {
  content: "\f14c";
}
.fa-share-square:before {
  content: "\f14d";
}
.fa-compass:before {
  content: "\f14e";
}
.fa-toggle-down:before,
.fa-caret-square-o-down:before {
  content: "\f150";
}
.fa-toggle-up:before,
.fa-caret-square-o-up:before {
  content: "\f151";
}
.fa-toggle-right:before,
.fa-caret-square-o-right:before {
  content: "\f152";
}
.fa-euro:before,
.fa-eur:before {
  content: "\f153";
}
.fa-gbp:before {
  content: "\f154";
}
.fa-dollar:before,
.fa-usd:before {
  content: "\f155";
}
.fa-rupee:before,
.fa-inr:before {
  content: "\f156";
}
.fa-cny:before,
.fa-rmb:before,
.fa-yen:before,
.fa-jpy:before {
  content: "\f157";
}
.fa-ruble:before,
.fa-rouble:before,
.fa-rub:before {
  content: "\f158";
}
.fa-won:before,
.fa-krw:before {
  content: "\f159";
}
.fa-bitcoin:before,
.fa-btc:before {
  content: "\f15a";
}
.fa-file:before {
  content: "\f15b";
}
.fa-file-text:before {
  content: "\f15c";
}
.fa-sort-alpha-asc:before {
  content: "\f15d";
}
.fa-sort-alpha-desc:before {
  content: "\f15e";
}
.fa-sort-amount-asc:before {
  content: "\f160";
}
.fa-sort-amount-desc:before {
  content: "\f161";
}
.fa-sort-numeric-asc:before {
  content: "\f162";
}
.fa-sort-numeric-desc:before {
  content: "\f163";
}
.fa-thumbs-up:before {
  content: "\f164";
}
.fa-thumbs-down:before {
  content: "\f165";
}
.fa-youtube-square:before {
  content: "\f166";
}
.fa-youtube:before {
  content: "\f167";
}
.fa-xing:before {
  content: "\f168";
}
.fa-xing-square:before {
  content: "\f169";
}
.fa-youtube-play:before {
  content: "\f16a";
}
.fa-dropbox:before {
  content: "\f16b";
}
.fa-stack-overflow:before {
  content: "\f16c";
}
.fa-instagram:before {
  content: "\f16d";
}
.fa-flickr:before {
  content: "\f16e";
}
.fa-adn:before {
  content: "\f170";
}
.fa-bitbucket:before {
  content: "\f171";
}
.fa-bitbucket-square:before {
  content: "\f172";
}
.fa-tumblr:before {
  content: "\f173";
}
.fa-tumblr-square:before {
  content: "\f174";
}
.fa-long-arrow-down:before {
  content: "\f175";
}
.fa-long-arrow-up:before {
  content: "\f176";
}
.fa-long-arrow-left:before {
  content: "\f177";
}
.fa-long-arrow-right:before {
  content: "\f178";
}
.fa-apple:before {
  content: "\f179";
}
.fa-windows:before {
  content: "\f17a";
}
.fa-android:before {
  content: "\f17b";
}
.fa-linux:before {
  content: "\f17c";
}
.fa-dribbble:before {
  content: "\f17d";
}
.fa-skype:before {
  content: "\f17e";
}
.fa-foursquare:before {
  content: "\f180";
}
.fa-trello:before {
  content: "\f181";
}
.fa-female:before {
  content: "\f182";
}
.fa-male:before {
  content: "\f183";
}
.fa-gittip:before {
  content: "\f184";
}
.fa-sun-o:before {
  content: "\f185";
}
.fa-moon-o:before {
  content: "\f186";
}
.fa-archive:before {
  content: "\f187";
}
.fa-bug:before {
  content: "\f188";
}
.fa-vk:before {
  content: "\f189";
}
.fa-weibo:before {
  content: "\f18a";
}
.fa-renren:before {
  content: "\f18b";
}
.fa-pagelines:before {
  content: "\f18c";
}
.fa-stack-exchange:before {
  content: "\f18d";
}
.fa-arrow-circle-o-right:before {
  content: "\f18e";
}
.fa-arrow-circle-o-left:before {
  content: "\f190";
}
.fa-toggle-left:before,
.fa-caret-square-o-left:before {
  content: "\f191";
}
.fa-dot-circle-o:before {
  content: "\f192";
}
.fa-wheelchair:before {
  content: "\f193";
}
.fa-vimeo-square:before {
  content: "\f194";
}
.fa-turkish-lira:before,
.fa-try:before {
  content: "\f195";
}
.fa-plus-square-o:before {
  content: "\f196";
}
.fa-space-shuttle:before {
  content: "\f197";
}
.fa-slack:before {
  content: "\f198";
}
.fa-envelope-square:before {
  content: "\f199";
}
.fa-wordpress:before {
  content: "\f19a";
}
.fa-openid:before {
  content: "\f19b";
}
.fa-institution:before,
.fa-bank:before,
.fa-university:before {
  content: "\f19c";
}
.fa-mortar-board:before,
.fa-graduation-cap:before {
  content: "\f19d";
}
.fa-yahoo:before {
  content: "\f19e";
}
.fa-google:before {
  content: "\f1a0";
}
.fa-reddit:before {
  content: "\f1a1";
}
.fa-reddit-square:before {
  content: "\f1a2";
}
.fa-stumbleupon-circle:before {
  content: "\f1a3";
}
.fa-stumbleupon:before {
  content: "\f1a4";
}
.fa-delicious:before {
  content: "\f1a5";
}
.fa-digg:before {
  content: "\f1a6";
}
.fa-pied-piper:before {
  content: "\f1a7";
}
.fa-pied-piper-alt:before {
  content: "\f1a8";
}
.fa-drupal:before {
  content: "\f1a9";
}
.fa-joomla:before {
  content: "\f1aa";
}
.fa-language:before {
  content: "\f1ab";
}
.fa-fax:before {
  content: "\f1ac";
}
.fa-building:before {
  content: "\f1ad";
}
.fa-child:before {
  content: "\f1ae";
}
.fa-paw:before {
  content: "\f1b0";
}
.fa-spoon:before {
  content: "\f1b1";
}
.fa-cube:before {
  content: "\f1b2";
}
.fa-cubes:before {
  content: "\f1b3";
}
.fa-behance:before {
  content: "\f1b4";
}
.fa-behance-square:before {
  content: "\f1b5";
}
.fa-steam:before {
  content: "\f1b6";
}
.fa-steam-square:before {
  content: "\f1b7";
}
.fa-recycle:before {
  content: "\f1b8";
}
.fa-automobile:before,
.fa-car:before {
  content: "\f1b9";
}
.fa-cab:before,
.fa-taxi:before {
  content: "\f1ba";
}
.fa-tree:before {
  content: "\f1bb";
}
.fa-spotify:before {
  content: "\f1bc";
}
.fa-deviantart:before {
  content: "\f1bd";
}
.fa-soundcloud:before {
  content: "\f1be";
}
.fa-database:before {
  content: "\f1c0";
}
.fa-file-pdf-o:before {
  content: "\f1c1";
}
.fa-file-word-o:before {
  content: "\f1c2";
}
.fa-file-excel-o:before {
  content: "\f1c3";
}
.fa-file-powerpoint-o:before {
  content: "\f1c4";
}
.fa-file-photo-o:before,
.fa-file-picture-o:before,
.fa-file-image-o:before {
  content: "\f1c5";
}
.fa-file-zip-o:before,
.fa-file-archive-o:before {
  content: "\f1c6";
}
.fa-file-sound-o:before,
.fa-file-audio-o:before {
  content: "\f1c7";
}
.fa-file-movie-o:before,
.fa-file-video-o:before {
  content: "\f1c8";
}
.fa-file-code-o:before {
  content: "\f1c9";
}
.fa-vine:before {
  content: "\f1ca";
}
.fa-codepen:before {
  content: "\f1cb";
}
.fa-jsfiddle:before {
  content: "\f1cc";
}
.fa-life-bouy:before,
.fa-life-buoy:before,
.fa-life-saver:before,
.fa-support:before,
.fa-life-ring:before {
  content: "\f1cd";
}
.fa-circle-o-notch:before {
  content: "\f1ce";
}
.fa-ra:before,
.fa-rebel:before {
  content: "\f1d0";
}
.fa-ge:before,
.fa-empire:before {
  content: "\f1d1";
}
.fa-git-square:before {
  content: "\f1d2";
}
.fa-git:before {
  content: "\f1d3";
}
.fa-hacker-news:before {
  content: "\f1d4";
}
.fa-tencent-weibo:before {
  content: "\f1d5";
}
.fa-qq:before {
  content: "\f1d6";
}
.fa-wechat:before,
.fa-weixin:before {
  content: "\f1d7";
}
.fa-send:before,
.fa-paper-plane:before {
  content: "\f1d8";
}
.fa-send-o:before,
.fa-paper-plane-o:before {
  content: "\f1d9";
}
.fa-history:before {
  content: "\f1da";
}
.fa-circle-thin:before {
  content: "\f1db";
}
.fa-header:before {
  content: "\f1dc";
}
.fa-paragraph:before {
  content: "\f1dd";
}
.fa-sliders:before {
  content: "\f1de";
}
.fa-share-alt:before {
  content: "\f1e0";
}
.fa-share-alt-square:before {
  content: "\f1e1";
}
.fa-bomb:before {
  content: "\f1e2";
}
.fa-soccer-ball-o:before,
.fa-futbol-o:before {
  content: "\f1e3";
}
.fa-tty:before {
  content: "\f1e4";
}
.fa-binoculars:before {
  content: "\f1e5";
}
.fa-plug:before {
  content: "\f1e6";
}
.fa-slideshare:before {
  content: "\f1e7";
}
.fa-twitch:before {
  content: "\f1e8";
}
.fa-yelp:before {
  content: "\f1e9";
}
.fa-newspaper-o:before {
  content: "\f1ea";
}
.fa-wifi:before {
  content: "\f1eb";
}
.fa-calculator:before {
  content: "\f1ec";
}
.fa-paypal:before {
  content: "\f1ed";
}
.fa-google-wallet:before {
  content: "\f1ee";
}
.fa-cc-visa:before {
  content: "\f1f0";
}
.fa-cc-mastercard:before {
  content: "\f1f1";
}
.fa-cc-discover:before {
  content: "\f1f2";
}
.fa-cc-amex:before {
  content: "\f1f3";
}
.fa-cc-paypal:before {
  content: "\f1f4";
}
.fa-cc-stripe:before {
  content: "\f1f5";
}
.fa-bell-slash:before {
  content: "\f1f6";
}
.fa-bell-slash-o:before {
  content: "\f1f7";
}
.fa-trash:before {
  content: "\f1f8";
}
.fa-copyright:before {
  content: "\f1f9";
}
.fa-at:before {
  content: "\f1fa";
}
.fa-eyedropper:before {
  content: "\f1fb";
}
.fa-paint-brush:before {
  content: "\f1fc";
}
.fa-birthday-cake:before {
  content: "\f1fd";
}
.fa-area-chart:before {
  content: "\f1fe";
}
.fa-pie-chart:before {
  content: "\f200";
}
.fa-line-chart:before {
  content: "\f201";
}
.fa-lastfm:before {
  content: "\f202";
}
.fa-lastfm-square:before {
  content: "\f203";
}
.fa-toggle-off:before {
  content: "\f204";
}
.fa-toggle-on:before {
  content: "\f205";
}
.fa-bicycle:before {
  content: "\f206";
}
.fa-bus:before {
  content: "\f207";
}
.fa-ioxhost:before {
  content: "\f208";
}
.fa-angellist:before {
  content: "\f209";
}
.fa-cc:before {
  content: "\f20a";
}
.fa-shekel:before,
.fa-sheqel:before,
.fa-ils:before {
  content: "\f20b";
}
.fa-meanpath:before {
  content: "\f20c";
}
/*!
*
* IPython base
*
*/
.modal.fade .modal-dialog {
  -webkit-transform: translate(0, 0);
  -ms-transform: translate(0, 0);
  -o-transform: translate(0, 0);
  transform: translate(0, 0);
}
code {
  color: #000;
}
pre {
  font-size: inherit;
  line-height: inherit;
}
label {
  font-weight: normal;
}
/* Make the page background atleast 100% the height of the view port */
/* Make the page itself atleast 70% the height of the view port */
.border-box-sizing {
  box-sizing: border-box;
  -moz-box-sizing: border-box;
  -webkit-box-sizing: border-box;
}
.corner-all {
  border-radius: 2px;
}
.no-padding {
  padding: 0px;
}
/* Flexible box model classes */
/* Taken from Alex Russell http://infrequently.org/2009/08/css-3-progress/ */
/* This file is a compatability layer.  It allows the usage of flexible box 
model layouts accross multiple browsers, including older browsers.  The newest,
universal implementation of the flexible box model is used when available (see
`Modern browsers` comments below).  Browsers that are known to implement this 
new spec completely include:

    Firefox 28.0+
    Chrome 29.0+
    Internet Explorer 11+ 
    Opera 17.0+

Browsers not listed, including Safari, are supported via the styling under the
`Old browsers` comments below.
*/
.hbox {
  /* Old browsers */
  display: -webkit-box;
  -webkit-box-orient: horizontal;
  -webkit-box-align: stretch;
  display: -moz-box;
  -moz-box-orient: horizontal;
  -moz-box-align: stretch;
  display: box;
  box-orient: horizontal;
  box-align: stretch;
  /* Modern browsers */
  display: flex;
  flex-direction: row;
  align-items: stretch;
}
.hbox > * {
  /* Old browsers */
  -webkit-box-flex: 0;
  -moz-box-flex: 0;
  box-flex: 0;
  /* Modern browsers */
  flex: none;
}
.vbox {
  /* Old browsers */
  display: -webkit-box;
  -webkit-box-orient: vertical;
  -webkit-box-align: stretch;
  display: -moz-box;
  -moz-box-orient: vertical;
  -moz-box-align: stretch;
  display: box;
  box-orient: vertical;
  box-align: stretch;
  /* Modern browsers */
  display: flex;
  flex-direction: column;
  align-items: stretch;
}
.vbox > * {
  /* Old browsers */
  -webkit-box-flex: 0;
  -moz-box-flex: 0;
  box-flex: 0;
  /* Modern browsers */
  flex: none;
}
.hbox.reverse,
.vbox.reverse,
.reverse {
  /* Old browsers */
  -webkit-box-direction: reverse;
  -moz-box-direction: reverse;
  box-direction: reverse;
  /* Modern browsers */
  flex-direction: row-reverse;
}
.hbox.box-flex0,
.vbox.box-flex0,
.box-flex0 {
  /* Old browsers */
  -webkit-box-flex: 0;
  -moz-box-flex: 0;
  box-flex: 0;
  /* Modern browsers */
  flex: none;
  width: auto;
}
.hbox.box-flex1,
.vbox.box-flex1,
.box-flex1 {
  /* Old browsers */
  -webkit-box-flex: 1;
  -moz-box-flex: 1;
  box-flex: 1;
  /* Modern browsers */
  flex: 1;
}
.hbox.box-flex,
.vbox.box-flex,
.box-flex {
  /* Old browsers */
  /* Old browsers */
  -webkit-box-flex: 1;
  -moz-box-flex: 1;
  box-flex: 1;
  /* Modern browsers */
  flex: 1;
}
.hbox.box-flex2,
.vbox.box-flex2,
.box-flex2 {
  /* Old browsers */
  -webkit-box-flex: 2;
  -moz-box-flex: 2;
  box-flex: 2;
  /* Modern browsers */
  flex: 2;
}
.box-group1 {
  /*  Deprecated */
  -webkit-box-flex-group: 1;
  -moz-box-flex-group: 1;
  box-flex-group: 1;
}
.box-group2 {
  /* Deprecated */
  -webkit-box-flex-group: 2;
  -moz-box-flex-group: 2;
  box-flex-group: 2;
}
.hbox.start,
.vbox.start,
.start {
  /* Old browsers */
  -webkit-box-pack: start;
  -moz-box-pack: start;
  box-pack: start;
  /* Modern browsers */
  justify-content: flex-start;
}
.hbox.end,
.vbox.end,
.end {
  /* Old browsers */
  -webkit-box-pack: end;
  -moz-box-pack: end;
  box-pack: end;
  /* Modern browsers */
  justify-content: flex-end;
}
.hbox.center,
.vbox.center,
.center {
  /* Old browsers */
  -webkit-box-pack: center;
  -moz-box-pack: center;
  box-pack: center;
  /* Modern browsers */
  justify-content: center;
}
.hbox.baseline,
.vbox.baseline,
.baseline {
  /* Old browsers */
  -webkit-box-pack: baseline;
  -moz-box-pack: baseline;
  box-pack: baseline;
  /* Modern browsers */
  justify-content: baseline;
}
.hbox.stretch,
.vbox.stretch,
.stretch {
  /* Old browsers */
  -webkit-box-pack: stretch;
  -moz-box-pack: stretch;
  box-pack: stretch;
  /* Modern browsers */
  justify-content: stretch;
}
.hbox.align-start,
.vbox.align-start,
.align-start {
  /* Old browsers */
  -webkit-box-align: start;
  -moz-box-align: start;
  box-align: start;
  /* Modern browsers */
  align-items: flex-start;
}
.hbox.align-end,
.vbox.align-end,
.align-end {
  /* Old browsers */
  -webkit-box-align: end;
  -moz-box-align: end;
  box-align: end;
  /* Modern browsers */
  align-items: flex-end;
}
.hbox.align-center,
.vbox.align-center,
.align-center {
  /* Old browsers */
  -webkit-box-align: center;
  -moz-box-align: center;
  box-align: center;
  /* Modern browsers */
  align-items: center;
}
.hbox.align-baseline,
.vbox.align-baseline,
.align-baseline {
  /* Old browsers */
  -webkit-box-align: baseline;
  -moz-box-align: baseline;
  box-align: baseline;
  /* Modern browsers */
  align-items: baseline;
}
.hbox.align-stretch,
.vbox.align-stretch,
.align-stretch {
  /* Old browsers */
  -webkit-box-align: stretch;
  -moz-box-align: stretch;
  box-align: stretch;
  /* Modern browsers */
  align-items: stretch;
}
div.error {
  margin: 2em;
  text-align: center;
}
div.error > h1 {
  font-size: 500%;
  line-height: normal;
}
div.error > p {
  font-size: 200%;
  line-height: normal;
}
div.traceback-wrapper {
  text-align: left;
  max-width: 800px;
  margin: auto;
}
/**
 * Primary styles
 *
 * Author: Jupyter Development Team
 */
body {
  background-color: #fff;
  /* This makes sure that the body covers the entire window and needs to
       be in a different element than the display: box in wrapper below */
  position: absolute;
  left: 0px;
  right: 0px;
  top: 0px;
  bottom: 0px;
  overflow: visible;
}
body > #header {
  /* Initially hidden to prevent FLOUC */
  display: none;
  background-color: #fff;
  /* Display over codemirror */
  position: relative;
  z-index: 100;
}
body > #header #header-container {
  padding-bottom: 5px;
  padding-top: 5px;
  box-sizing: border-box;
  -moz-box-sizing: border-box;
  -webkit-box-sizing: border-box;
}
body > #header .header-bar {
  width: 100%;
  height: 1px;
  background: #e7e7e7;
  margin-bottom: -1px;
}
@media print {
  body > #header {
    display: none !important;
  }
}
#header-spacer {
  width: 100%;
  visibility: hidden;
}
@media print {
  #header-spacer {
    display: none;
  }
}
#ipython_notebook {
  padding-left: 0px;
  padding-top: 1px;
  padding-bottom: 1px;
}
@media (max-width: 991px) {
  #ipython_notebook {
    margin-left: 10px;
  }
}
#noscript {
  width: auto;
  padding-top: 16px;
  padding-bottom: 16px;
  text-align: center;
  font-size: 22px;
  color: red;
  font-weight: bold;
}
#ipython_notebook img {
  height: 28px;
}
#site {
  width: 100%;
  display: none;
  box-sizing: border-box;
  -moz-box-sizing: border-box;
  -webkit-box-sizing: border-box;
  overflow: auto;
}
@media print {
  #site {
    height: auto !important;
  }
}
/* Smaller buttons */
.ui-button .ui-button-text {
  padding: 0.2em 0.8em;
  font-size: 77%;
}
input.ui-button {
  padding: 0.3em 0.9em;
}
span#login_widget {
  float: right;
}
span#login_widget > .button,
#logout {
  color: #333;
  background-color: #fff;
  border-color: #ccc;
}
span#login_widget > .button:focus,
#logout:focus,
span#login_widget > .button.focus,
#logout.focus {
  color: #333;
  background-color: #e6e6e6;
  border-color: #8c8c8c;
}
span#login_widget > .button:hover,
#logout:hover {
  color: #333;
  background-color: #e6e6e6;
  border-color: #adadad;
}
span#login_widget > .button:active,
#logout:active,
span#login_widget > .button.active,
#logout.active,
.open > .dropdown-togglespan#login_widget > .button,
.open > .dropdown-toggle#logout {
  color: #333;
  background-color: #e6e6e6;
  border-color: #adadad;
}
span#login_widget > .button:active:hover,
#logout:active:hover,
span#login_widget > .button.active:hover,
#logout.active:hover,
.open > .dropdown-togglespan#login_widget > .button:hover,
.open > .dropdown-toggle#logout:hover,
span#login_widget > .button:active:focus,
#logout:active:focus,
span#login_widget > .button.active:focus,
#logout.active:focus,
.open > .dropdown-togglespan#login_widget > .button:focus,
.open > .dropdown-toggle#logout:focus,
span#login_widget > .button:active.focus,
#logout:active.focus,
span#login_widget > .button.active.focus,
#logout.active.focus,
.open > .dropdown-togglespan#login_widget > .button.focus,
.open > .dropdown-toggle#logout.focus {
  color: #333;
  background-color: #d4d4d4;
  border-color: #8c8c8c;
}
span#login_widget > .button:active,
#logout:active,
span#login_widget > .button.active,
#logout.active,
.open > .dropdown-togglespan#login_widget > .button,
.open > .dropdown-toggle#logout {
  background-image: none;
}
span#login_widget > .button.disabled:hover,
#logout.disabled:hover,
span#login_widget > .button[disabled]:hover,
#logout[disabled]:hover,
fieldset[disabled] span#login_widget > .button:hover,
fieldset[disabled] #logout:hover,
span#login_widget > .button.disabled:focus,
#logout.disabled:focus,
span#login_widget > .button[disabled]:focus,
#logout[disabled]:focus,
fieldset[disabled] span#login_widget > .button:focus,
fieldset[disabled] #logout:focus,
span#login_widget > .button.disabled.focus,
#logout.disabled.focus,
span#login_widget > .button[disabled].focus,
#logout[disabled].focus,
fieldset[disabled] span#login_widget > .button.focus,
fieldset[disabled] #logout.focus {
  background-color: #fff;
  border-color: #ccc;
}
span#login_widget > .button .badge,
#logout .badge {
  color: #fff;
  background-color: #333;
}
.nav-header {
  text-transform: none;
}
#header > span {
  margin-top: 10px;
}
.modal_stretch .modal-dialog {
  /* Old browsers */
  display: -webkit-box;
  -webkit-box-orient: vertical;
  -webkit-box-align: stretch;
  display: -moz-box;
  -moz-box-orient: vertical;
  -moz-box-align: stretch;
  display: box;
  box-orient: vertical;
  box-align: stretch;
  /* Modern browsers */
  display: flex;
  flex-direction: column;
  align-items: stretch;
  min-height: 80vh;
}
.modal_stretch .modal-dialog .modal-body {
  max-height: calc(100vh - 200px);
  overflow: auto;
  flex: 1;
}
@media (min-width: 768px) {
  .modal .modal-dialog {
    width: 700px;
  }
}
@media (min-width: 768px) {
  select.form-control {
    margin-left: 12px;
    margin-right: 12px;
  }
}
/*!
*
* IPython auth
*
*/
.center-nav {
  display: inline-block;
  margin-bottom: -4px;
}
/*!
*
* IPython tree view
*
*/
/* We need an invisible input field on top of the sentense*/
/* "Drag file onto the list ..." */
.alternate_upload {
  background-color: none;
  display: inline;
}
.alternate_upload.form {
  padding: 0;
  margin: 0;
}
.alternate_upload input.fileinput {
  text-align: center;
  vertical-align: middle;
  display: inline;
  opacity: 0;
  z-index: 2;
  width: 12ex;
  margin-right: -12ex;
}
.alternate_upload .btn-upload {
  height: 22px;
}
/**
 * Primary styles
 *
 * Author: Jupyter Development Team
 */
ul#tabs {
  margin-bottom: 4px;
}
ul#tabs a {
  padding-top: 6px;
  padding-bottom: 4px;
}
ul.breadcrumb a:focus,
ul.breadcrumb a:hover {
  text-decoration: none;
}
ul.breadcrumb i.icon-home {
  font-size: 16px;
  margin-right: 4px;
}
ul.breadcrumb span {
  color: #5e5e5e;
}
.list_toolbar {
  padding: 4px 0 4px 0;
  vertical-align: middle;
}
.list_toolbar .tree-buttons {
  padding-top: 1px;
}
.dynamic-buttons {
  padding-top: 3px;
  display: inline-block;
}
.list_toolbar [class*="span"] {
  min-height: 24px;
}
.list_header {
  font-weight: bold;
  background-color: #EEE;
}
.list_placeholder {
  font-weight: bold;
  padding-top: 4px;
  padding-bottom: 4px;
  padding-left: 7px;
  padding-right: 7px;
}
.list_container {
  margin-top: 4px;
  margin-bottom: 20px;
  border: 1px solid #ddd;
  border-radius: 2px;
}
.list_container > div {
  border-bottom: 1px solid #ddd;
}
.list_container > div:hover .list-item {
  background-color: red;
}
.list_container > div:last-child {
  border: none;
}
.list_item:hover .list_item {
  background-color: #ddd;
}
.list_item a {
  text-decoration: none;
}
.list_item:hover {
  background-color: #fafafa;
}
.list_header > div,
.list_item > div {
  padding-top: 4px;
  padding-bottom: 4px;
  padding-left: 7px;
  padding-right: 7px;
  line-height: 22px;
}
.list_header > div input,
.list_item > div input {
  margin-right: 7px;
  margin-left: 14px;
  vertical-align: baseline;
  line-height: 22px;
  position: relative;
  top: -1px;
}
.list_header > div .item_link,
.list_item > div .item_link {
  margin-left: -1px;
  vertical-align: baseline;
  line-height: 22px;
}
.new-file input[type=checkbox] {
  visibility: hidden;
}
.item_name {
  line-height: 22px;
  height: 24px;
}
.item_icon {
  font-size: 14px;
  color: #5e5e5e;
  margin-right: 7px;
  margin-left: 7px;
  line-height: 22px;
  vertical-align: baseline;
}
.item_buttons {
  line-height: 1em;
  margin-left: -5px;
}
.item_buttons .btn,
.item_buttons .btn-group,
.item_buttons .input-group {
  float: left;
}
.item_buttons > .btn,
.item_buttons > .btn-group,
.item_buttons > .input-group {
  margin-left: 5px;
}
.item_buttons .btn {
  min-width: 13ex;
}
.item_buttons .running-indicator {
  padding-top: 4px;
  color: #5cb85c;
}
.item_buttons .kernel-name {
  padding-top: 4px;
  color: #5bc0de;
  margin-right: 7px;
  float: left;
}
.toolbar_info {
  height: 24px;
  line-height: 24px;
}
.list_item input:not([type=checkbox]) {
  padding-top: 3px;
  padding-bottom: 3px;
  height: 22px;
  line-height: 14px;
  margin: 0px;
}
.highlight_text {
  color: blue;
}
#project_name {
  display: inline-block;
  padding-left: 7px;
  margin-left: -2px;
}
#project_name > .breadcrumb {
  padding: 0px;
  margin-bottom: 0px;
  background-color: transparent;
  font-weight: bold;
}
#tree-selector {
  padding-right: 0px;
}
#button-select-all {
  min-width: 50px;
}
#select-all {
  margin-left: 7px;
  margin-right: 2px;
}
.menu_icon {
  margin-right: 2px;
}
.tab-content .row {
  margin-left: 0px;
  margin-right: 0px;
}
.folder_icon:before {
  display: inline-block;
  font: normal normal normal 14px/1 FontAwesome;
  font-size: inherit;
  text-rendering: auto;
  -webkit-font-smoothing: antialiased;
  -moz-osx-font-smoothing: grayscale;
  content: "\f114";
}
.folder_icon:before.pull-left {
  margin-right: .3em;
}
.folder_icon:before.pull-right {
  margin-left: .3em;
}
.notebook_icon:before {
  display: inline-block;
  font: normal normal normal 14px/1 FontAwesome;
  font-size: inherit;
  text-rendering: auto;
  -webkit-font-smoothing: antialiased;
  -moz-osx-font-smoothing: grayscale;
  content: "\f02d";
  position: relative;
  top: -1px;
}
.notebook_icon:before.pull-left {
  margin-right: .3em;
}
.notebook_icon:before.pull-right {
  margin-left: .3em;
}
.running_notebook_icon:before {
  display: inline-block;
  font: normal normal normal 14px/1 FontAwesome;
  font-size: inherit;
  text-rendering: auto;
  -webkit-font-smoothing: antialiased;
  -moz-osx-font-smoothing: grayscale;
  content: "\f02d";
  position: relative;
  top: -1px;
  color: #5cb85c;
}
.running_notebook_icon:before.pull-left {
  margin-right: .3em;
}
.running_notebook_icon:before.pull-right {
  margin-left: .3em;
}
.file_icon:before {
  display: inline-block;
  font: normal normal normal 14px/1 FontAwesome;
  font-size: inherit;
  text-rendering: auto;
  -webkit-font-smoothing: antialiased;
  -moz-osx-font-smoothing: grayscale;
  content: "\f016";
  position: relative;
  top: -2px;
}
.file_icon:before.pull-left {
  margin-right: .3em;
}
.file_icon:before.pull-right {
  margin-left: .3em;
}
#notebook_toolbar .pull-right {
  padding-top: 0px;
  margin-right: -1px;
}
ul#new-menu {
  left: auto;
  right: 0;
}
.kernel-menu-icon {
  padding-right: 12px;
  width: 24px;
  content: "\f096";
}
.kernel-menu-icon:before {
  content: "\f096";
}
.kernel-menu-icon-current:before {
  content: "\f00c";
}
#tab_content {
  padding-top: 20px;
}
#running .panel-group .panel {
  margin-top: 3px;
  margin-bottom: 1em;
}
#running .panel-group .panel .panel-heading {
  background-color: #EEE;
  padding-top: 4px;
  padding-bottom: 4px;
  padding-left: 7px;
  padding-right: 7px;
  line-height: 22px;
}
#running .panel-group .panel .panel-heading a:focus,
#running .panel-group .panel .panel-heading a:hover {
  text-decoration: none;
}
#running .panel-group .panel .panel-body {
  padding: 0px;
}
#running .panel-group .panel .panel-body .list_container {
  margin-top: 0px;
  margin-bottom: 0px;
  border: 0px;
  border-radius: 0px;
}
#running .panel-group .panel .panel-body .list_container .list_item {
  border-bottom: 1px solid #ddd;
}
#running .panel-group .panel .panel-body .list_container .list_item:last-child {
  border-bottom: 0px;
}
.delete-button {
  display: none;
}
.duplicate-button {
  display: none;
}
.rename-button {
  display: none;
}
.shutdown-button {
  display: none;
}
.dynamic-instructions {
  display: inline-block;
  padding-top: 4px;
}
/*!
*
* IPython text editor webapp
*
*/
.selected-keymap i.fa {
  padding: 0px 5px;
}
.selected-keymap i.fa:before {
  content: "\f00c";
}
#mode-menu {
  overflow: auto;
  max-height: 20em;
}
.edit_app #header {
  -webkit-box-shadow: 0px 0px 12px 1px rgba(87, 87, 87, 0.2);
  box-shadow: 0px 0px 12px 1px rgba(87, 87, 87, 0.2);
}
.edit_app #menubar .navbar {
  /* Use a negative 1 bottom margin, so the border overlaps the border of the
    header */
  margin-bottom: -1px;
}
.dirty-indicator {
  display: inline-block;
  font: normal normal normal 14px/1 FontAwesome;
  font-size: inherit;
  text-rendering: auto;
  -webkit-font-smoothing: antialiased;
  -moz-osx-font-smoothing: grayscale;
  width: 20px;
}
.dirty-indicator.pull-left {
  margin-right: .3em;
}
.dirty-indicator.pull-right {
  margin-left: .3em;
}
.dirty-indicator-dirty {
  display: inline-block;
  font: normal normal normal 14px/1 FontAwesome;
  font-size: inherit;
  text-rendering: auto;
  -webkit-font-smoothing: antialiased;
  -moz-osx-font-smoothing: grayscale;
  width: 20px;
}
.dirty-indicator-dirty.pull-left {
  margin-right: .3em;
}
.dirty-indicator-dirty.pull-right {
  margin-left: .3em;
}
.dirty-indicator-clean {
  display: inline-block;
  font: normal normal normal 14px/1 FontAwesome;
  font-size: inherit;
  text-rendering: auto;
  -webkit-font-smoothing: antialiased;
  -moz-osx-font-smoothing: grayscale;
  width: 20px;
}
.dirty-indicator-clean.pull-left {
  margin-right: .3em;
}
.dirty-indicator-clean.pull-right {
  margin-left: .3em;
}
.dirty-indicator-clean:before {
  display: inline-block;
  font: normal normal normal 14px/1 FontAwesome;
  font-size: inherit;
  text-rendering: auto;
  -webkit-font-smoothing: antialiased;
  -moz-osx-font-smoothing: grayscale;
  content: "\f00c";
}
.dirty-indicator-clean:before.pull-left {
  margin-right: .3em;
}
.dirty-indicator-clean:before.pull-right {
  margin-left: .3em;
}
#filename {
  font-size: 16pt;
  display: table;
  padding: 0px 5px;
}
#current-mode {
  padding-left: 5px;
  padding-right: 5px;
}
#texteditor-backdrop {
  padding-top: 20px;
  padding-bottom: 20px;
}
@media not print {
  #texteditor-backdrop {
    background-color: #EEE;
  }
}
@media print {
  #texteditor-backdrop #texteditor-container .CodeMirror-gutter,
  #texteditor-backdrop #texteditor-container .CodeMirror-gutters {
    background-color: #fff;
  }
}
@media not print {
  #texteditor-backdrop #texteditor-container .CodeMirror-gutter,
  #texteditor-backdrop #texteditor-container .CodeMirror-gutters {
    background-color: #fff;
  }
}
@media not print {
  #texteditor-backdrop #texteditor-container {
    padding: 0px;
    background-color: #fff;
    -webkit-box-shadow: 0px 0px 12px 1px rgba(87, 87, 87, 0.2);
    box-shadow: 0px 0px 12px 1px rgba(87, 87, 87, 0.2);
  }
}
/*!
*
* IPython notebook
*
*/
/* CSS font colors for translated ANSI colors. */
.ansibold {
  font-weight: bold;
}
/* use dark versions for foreground, to improve visibility */
.ansiblack {
  color: black;
}
.ansired {
  color: darkred;
}
.ansigreen {
  color: darkgreen;
}
.ansiyellow {
  color: #c4a000;
}
.ansiblue {
  color: darkblue;
}
.ansipurple {
  color: darkviolet;
}
.ansicyan {
  color: steelblue;
}
.ansigray {
  color: gray;
}
/* and light for background, for the same reason */
.ansibgblack {
  background-color: black;
}
.ansibgred {
  background-color: red;
}
.ansibggreen {
  background-color: green;
}
.ansibgyellow {
  background-color: yellow;
}
.ansibgblue {
  background-color: blue;
}
.ansibgpurple {
  background-color: magenta;
}
.ansibgcyan {
  background-color: cyan;
}
.ansibggray {
  background-color: gray;
}
div.cell {
  /* Old browsers */
  display: -webkit-box;
  -webkit-box-orient: vertical;
  -webkit-box-align: stretch;
  display: -moz-box;
  -moz-box-orient: vertical;
  -moz-box-align: stretch;
  display: box;
  box-orient: vertical;
  box-align: stretch;
  /* Modern browsers */
  display: flex;
  flex-direction: column;
  align-items: stretch;
  border-radius: 2px;
  box-sizing: border-box;
  -moz-box-sizing: border-box;
  -webkit-box-sizing: border-box;
  border-width: 1px;
  border-style: solid;
  border-color: transparent;
  width: 100%;
  padding: 5px;
  /* This acts as a spacer between cells, that is outside the border */
  margin: 0px;
  outline: none;
  border-left-width: 1px;
  padding-left: 5px;
  background: linear-gradient(to right, transparent -40px, transparent 1px, transparent 1px, transparent 100%);
}
div.cell.jupyter-soft-selected {
  border-left-color: #90CAF9;
  border-left-color: #E3F2FD;
  border-left-width: 1px;
  padding-left: 5px;
  border-right-color: #E3F2FD;
  border-right-width: 1px;
  background: #E3F2FD;
}
@media print {
  div.cell.jupyter-soft-selected {
    border-color: transparent;
  }
}
div.cell.selected {
  border-color: #ababab;
  border-left-width: 0px;
  padding-left: 6px;
  background: linear-gradient(to right, #42A5F5 -40px, #42A5F5 5px, transparent 5px, transparent 100%);
}
@media print {
  div.cell.selected {
    border-color: transparent;
  }
}
div.cell.selected.jupyter-soft-selected {
  border-left-width: 0;
  padding-left: 6px;
  background: linear-gradient(to right, #42A5F5 -40px, #42A5F5 7px, #E3F2FD 7px, #E3F2FD 100%);
}
.edit_mode div.cell.selected {
  border-color: #66BB6A;
  border-left-width: 0px;
  padding-left: 6px;
  background: linear-gradient(to right, #66BB6A -40px, #66BB6A 5px, transparent 5px, transparent 100%);
}
@media print {
  .edit_mode div.cell.selected {
    border-color: transparent;
  }
}
.prompt {
  /* This needs to be wide enough for 3 digit prompt numbers: In[100]: */
  min-width: 14ex;
  /* This padding is tuned to match the padding on the CodeMirror editor. */
  padding: 0.4em;
  margin: 0px;
  font-family: monospace;
  text-align: right;
  /* This has to match that of the the CodeMirror class line-height below */
  line-height: 1.21429em;
  /* Don't highlight prompt number selection */
  -webkit-touch-callout: none;
  -webkit-user-select: none;
  -khtml-user-select: none;
  -moz-user-select: none;
  -ms-user-select: none;
  user-select: none;
  /* Use default cursor */
  cursor: default;
}
@media (max-width: 540px) {
  .prompt {
    text-align: left;
  }
}
div.inner_cell {
  /* Old browsers */
  display: -webkit-box;
  -webkit-box-orient: vertical;
  -webkit-box-align: stretch;
  display: -moz-box;
  -moz-box-orient: vertical;
  -moz-box-align: stretch;
  display: box;
  box-orient: vertical;
  box-align: stretch;
  /* Modern browsers */
  display: flex;
  flex-direction: column;
  align-items: stretch;
  /* Old browsers */
  -webkit-box-flex: 1;
  -moz-box-flex: 1;
  box-flex: 1;
  /* Modern browsers */
  flex: 1;
}
@-moz-document url-prefix() {
  div.inner_cell {
    overflow-x: hidden;
  }
}
/* input_area and input_prompt must match in top border and margin for alignment */
div.input_area {
  border: 1px solid #cfcfcf;
  border-radius: 2px;
  background: #f7f7f7;
  line-height: 1.21429em;
}
/* This is needed so that empty prompt areas can collapse to zero height when there
   is no content in the output_subarea and the prompt. The main purpose of this is
   to make sure that empty JavaScript output_subareas have no height. */
div.prompt:empty {
  padding-top: 0;
  padding-bottom: 0;
}
div.unrecognized_cell {
  padding: 5px 5px 5px 0px;
  /* Old browsers */
  display: -webkit-box;
  -webkit-box-orient: horizontal;
  -webkit-box-align: stretch;
  display: -moz-box;
  -moz-box-orient: horizontal;
  -moz-box-align: stretch;
  display: box;
  box-orient: horizontal;
  box-align: stretch;
  /* Modern browsers */
  display: flex;
  flex-direction: row;
  align-items: stretch;
}
div.unrecognized_cell .inner_cell {
  border-radius: 2px;
  padding: 5px;
  font-weight: bold;
  color: red;
  border: 1px solid #cfcfcf;
  background: #eaeaea;
}
div.unrecognized_cell .inner_cell a {
  color: inherit;
  text-decoration: none;
}
div.unrecognized_cell .inner_cell a:hover {
  color: inherit;
  text-decoration: none;
}
@media (max-width: 540px) {
  div.unrecognized_cell > div.prompt {
    display: none;
  }
}
div.code_cell {
  /* avoid page breaking on code cells when printing */
}
@media print {
  div.code_cell {
    page-break-inside: avoid;
  }
}
/* any special styling for code cells that are currently running goes here */
div.input {
  page-break-inside: avoid;
  /* Old browsers */
  display: -webkit-box;
  -webkit-box-orient: horizontal;
  -webkit-box-align: stretch;
  display: -moz-box;
  -moz-box-orient: horizontal;
  -moz-box-align: stretch;
  display: box;
  box-orient: horizontal;
  box-align: stretch;
  /* Modern browsers */
  display: flex;
  flex-direction: row;
  align-items: stretch;
}
@media (max-width: 540px) {
  div.input {
    /* Old browsers */
    display: -webkit-box;
    -webkit-box-orient: vertical;
    -webkit-box-align: stretch;
    display: -moz-box;
    -moz-box-orient: vertical;
    -moz-box-align: stretch;
    display: box;
    box-orient: vertical;
    box-align: stretch;
    /* Modern browsers */
    display: flex;
    flex-direction: column;
    align-items: stretch;
  }
}
/* input_area and input_prompt must match in top border and margin for alignment */
div.input_prompt {
  color: #303F9F;
  border-top: 1px solid transparent;
}
div.input_area > div.highlight {
  margin: 0.4em;
  border: none;
  padding: 0px;
  background-color: transparent;
}
div.input_area > div.highlight > pre {
  margin: 0px;
  border: none;
  padding: 0px;
  background-color: transparent;
}
/* The following gets added to the <head> if it is detected that the user has a
 * monospace font with inconsistent normal/bold/italic height.  See
 * notebookmain.js.  Such fonts will have keywords vertically offset with
 * respect to the rest of the text.  The user should select a better font.
 * See: https://github.com/ipython/ipython/issues/1503
 *
 * .CodeMirror span {
 *      vertical-align: bottom;
 * }
 */
.CodeMirror {
  line-height: 1.21429em;
  /* Changed from 1em to our global default */
  font-size: 14px;
  height: auto;
  /* Changed to auto to autogrow */
  background: none;
  /* Changed from white to allow our bg to show through */
}
.CodeMirror-scroll {
  /*  The CodeMirror docs are a bit fuzzy on if overflow-y should be hidden or visible.*/
  /*  We have found that if it is visible, vertical scrollbars appear with font size changes.*/
  overflow-y: hidden;
  overflow-x: auto;
}
.CodeMirror-lines {
  /* In CM2, this used to be 0.4em, but in CM3 it went to 4px. We need the em value because */
  /* we have set a different line-height and want this to scale with that. */
  padding: 0.4em;
}
.CodeMirror-linenumber {
  padding: 0 8px 0 4px;
}
.CodeMirror-gutters {
  border-bottom-left-radius: 2px;
  border-top-left-radius: 2px;
}
.CodeMirror pre {
  /* In CM3 this went to 4px from 0 in CM2. We need the 0 value because of how we size */
  /* .CodeMirror-lines */
  padding: 0;
  border: 0;
  border-radius: 0;
}
/*

Original style from softwaremaniacs.org (c) Ivan Sagalaev <Maniac@SoftwareManiacs.Org>
Adapted from GitHub theme

*/
.highlight-base {
  color: #000;
}
.highlight-variable {
  color: #000;
}
.highlight-variable-2 {
  color: #1a1a1a;
}
.highlight-variable-3 {
  color: #333333;
}
.highlight-string {
  color: #BA2121;
}
.highlight-comment {
  color: #408080;
  font-style: italic;
}
.highlight-number {
  color: #080;
}
.highlight-atom {
  color: #88F;
}
.highlight-keyword {
  color: #008000;
  font-weight: bold;
}
.highlight-builtin {
  color: #008000;
}
.highlight-error {
  color: #f00;
}
.highlight-operator {
  color: #AA22FF;
  font-weight: bold;
}
.highlight-meta {
  color: #AA22FF;
}
/* previously not defined, copying from default codemirror */
.highlight-def {
  color: #00f;
}
.highlight-string-2 {
  color: #f50;
}
.highlight-qualifier {
  color: #555;
}
.highlight-bracket {
  color: #997;
}
.highlight-tag {
  color: #170;
}
.highlight-attribute {
  color: #00c;
}
.highlight-header {
  color: blue;
}
.highlight-quote {
  color: #090;
}
.highlight-link {
  color: #00c;
}
/* apply the same style to codemirror */
.cm-s-ipython span.cm-keyword {
  color: #008000;
  font-weight: bold;
}
.cm-s-ipython span.cm-atom {
  color: #88F;
}
.cm-s-ipython span.cm-number {
  color: #080;
}
.cm-s-ipython span.cm-def {
  color: #00f;
}
.cm-s-ipython span.cm-variable {
  color: #000;
}
.cm-s-ipython span.cm-operator {
  color: #AA22FF;
  font-weight: bold;
}
.cm-s-ipython span.cm-variable-2 {
  color: #1a1a1a;
}
.cm-s-ipython span.cm-variable-3 {
  color: #333333;
}
.cm-s-ipython span.cm-comment {
  color: #408080;
  font-style: italic;
}
.cm-s-ipython span.cm-string {
  color: #BA2121;
}
.cm-s-ipython span.cm-string-2 {
  color: #f50;
}
.cm-s-ipython span.cm-meta {
  color: #AA22FF;
}
.cm-s-ipython span.cm-qualifier {
  color: #555;
}
.cm-s-ipython span.cm-builtin {
  color: #008000;
}
.cm-s-ipython span.cm-bracket {
  color: #997;
}
.cm-s-ipython span.cm-tag {
  color: #170;
}
.cm-s-ipython span.cm-attribute {
  color: #00c;
}
.cm-s-ipython span.cm-header {
  color: blue;
}
.cm-s-ipython span.cm-quote {
  color: #090;
}
.cm-s-ipython span.cm-link {
  color: #00c;
}
.cm-s-ipython span.cm-error {
  color: #f00;
}
.cm-s-ipython span.cm-tab {
  background: url(data:image/png;base64,iVBORw0KGgoAAAANSUhEUgAAADAAAAAMCAYAAAAkuj5RAAAAAXNSR0IArs4c6QAAAGFJREFUSMft1LsRQFAQheHPowAKoACx3IgEKtaEHujDjORSgWTH/ZOdnZOcM/sgk/kFFWY0qV8foQwS4MKBCS3qR6ixBJvElOobYAtivseIE120FaowJPN75GMu8j/LfMwNjh4HUpwg4LUAAAAASUVORK5CYII=);
  background-position: right;
  background-repeat: no-repeat;
}
div.output_wrapper {
  /* this position must be relative to enable descendents to be absolute within it */
  position: relative;
  /* Old browsers */
  display: -webkit-box;
  -webkit-box-orient: vertical;
  -webkit-box-align: stretch;
  display: -moz-box;
  -moz-box-orient: vertical;
  -moz-box-align: stretch;
  display: box;
  box-orient: vertical;
  box-align: stretch;
  /* Modern browsers */
  display: flex;
  flex-direction: column;
  align-items: stretch;
  z-index: 1;
}
/* class for the output area when it should be height-limited */
div.output_scroll {
  /* ideally, this would be max-height, but FF barfs all over that */
  height: 24em;
  /* FF needs this *and the wrapper* to specify full width, or it will shrinkwrap */
  width: 100%;
  overflow: auto;
  border-radius: 2px;
  -webkit-box-shadow: inset 0 2px 8px rgba(0, 0, 0, 0.8);
  box-shadow: inset 0 2px 8px rgba(0, 0, 0, 0.8);
  display: block;
}
/* output div while it is collapsed */
div.output_collapsed {
  margin: 0px;
  padding: 0px;
  /* Old browsers */
  display: -webkit-box;
  -webkit-box-orient: vertical;
  -webkit-box-align: stretch;
  display: -moz-box;
  -moz-box-orient: vertical;
  -moz-box-align: stretch;
  display: box;
  box-orient: vertical;
  box-align: stretch;
  /* Modern browsers */
  display: flex;
  flex-direction: column;
  align-items: stretch;
}
div.out_prompt_overlay {
  height: 100%;
  padding: 0px 0.4em;
  position: absolute;
  border-radius: 2px;
}
div.out_prompt_overlay:hover {
  /* use inner shadow to get border that is computed the same on WebKit/FF */
  -webkit-box-shadow: inset 0 0 1px #000;
  box-shadow: inset 0 0 1px #000;
  background: rgba(240, 240, 240, 0.5);
}
div.output_prompt {
  color: #D84315;
}
/* This class is the outer container of all output sections. */
div.output_area {
  padding: 0px;
  page-break-inside: avoid;
  /* Old browsers */
  display: -webkit-box;
  -webkit-box-orient: horizontal;
  -webkit-box-align: stretch;
  display: -moz-box;
  -moz-box-orient: horizontal;
  -moz-box-align: stretch;
  display: box;
  box-orient: horizontal;
  box-align: stretch;
  /* Modern browsers */
  display: flex;
  flex-direction: row;
  align-items: stretch;
}
div.output_area .MathJax_Display {
  text-align: left !important;
}
div.output_area .rendered_html table {
  margin-left: 0;
  margin-right: 0;
}
div.output_area .rendered_html img {
  margin-left: 0;
  margin-right: 0;
}
div.output_area img,
div.output_area svg {
  max-width: 100%;
  height: auto;
}
div.output_area img.unconfined,
div.output_area svg.unconfined {
  max-width: none;
}
/* This is needed to protect the pre formating from global settings such
   as that of bootstrap */
.output {
  /* Old browsers */
  display: -webkit-box;
  -webkit-box-orient: vertical;
  -webkit-box-align: stretch;
  display: -moz-box;
  -moz-box-orient: vertical;
  -moz-box-align: stretch;
  display: box;
  box-orient: vertical;
  box-align: stretch;
  /* Modern browsers */
  display: flex;
  flex-direction: column;
  align-items: stretch;
}
@media (max-width: 540px) {
  div.output_area {
    /* Old browsers */
    display: -webkit-box;
    -webkit-box-orient: vertical;
    -webkit-box-align: stretch;
    display: -moz-box;
    -moz-box-orient: vertical;
    -moz-box-align: stretch;
    display: box;
    box-orient: vertical;
    box-align: stretch;
    /* Modern browsers */
    display: flex;
    flex-direction: column;
    align-items: stretch;
  }
}
div.output_area pre {
  margin: 0;
  padding: 0;
  border: 0;
  vertical-align: baseline;
  color: black;
  background-color: transparent;
  border-radius: 0;
}
/* This class is for the output subarea inside the output_area and after
   the prompt div. */
div.output_subarea {
  overflow-x: auto;
  padding: 0.4em;
  /* Old browsers */
  -webkit-box-flex: 1;
  -moz-box-flex: 1;
  box-flex: 1;
  /* Modern browsers */
  flex: 1;
  max-width: calc(100% - 14ex);
}
div.output_scroll div.output_subarea {
  overflow-x: visible;
}
/* The rest of the output_* classes are for special styling of the different
   output types */
/* all text output has this class: */
div.output_text {
  text-align: left;
  color: #000;
  /* This has to match that of the the CodeMirror class line-height below */
  line-height: 1.21429em;
}
/* stdout/stderr are 'text' as well as 'stream', but execute_result/error are *not* streams */
div.output_stderr {
  background: #fdd;
  /* very light red background for stderr */
}
div.output_latex {
  text-align: left;
}
/* Empty output_javascript divs should have no height */
div.output_javascript:empty {
  padding: 0;
}
.js-error {
  color: darkred;
}
/* raw_input styles */
div.raw_input_container {
  line-height: 1.21429em;
  padding-top: 5px;
}
pre.raw_input_prompt {
  /* nothing needed here. */
}
input.raw_input {
  font-family: monospace;
  font-size: inherit;
  color: inherit;
  width: auto;
  /* make sure input baseline aligns with prompt */
  vertical-align: baseline;
  /* padding + margin = 0.5em between prompt and cursor */
  padding: 0em 0.25em;
  margin: 0em 0.25em;
}
input.raw_input:focus {
  box-shadow: none;
}
p.p-space {
  margin-bottom: 10px;
}
div.output_unrecognized {
  padding: 5px;
  font-weight: bold;
  color: red;
}
div.output_unrecognized a {
  color: inherit;
  text-decoration: none;
}
div.output_unrecognized a:hover {
  color: inherit;
  text-decoration: none;
}
.rendered_html {
  color: #000;
  /* any extras will just be numbers: */
}
.rendered_html em {
  font-style: italic;
}
.rendered_html strong {
  font-weight: bold;
}
.rendered_html u {
  text-decoration: underline;
}
.rendered_html :link {
  text-decoration: underline;
}
.rendered_html :visited {
  text-decoration: underline;
}
.rendered_html h1 {
  font-size: 185.7%;
  margin: 1.08em 0 0 0;
  font-weight: bold;
  line-height: 1.0;
}
.rendered_html h2 {
  font-size: 157.1%;
  margin: 1.27em 0 0 0;
  font-weight: bold;
  line-height: 1.0;
}
.rendered_html h3 {
  font-size: 128.6%;
  margin: 1.55em 0 0 0;
  font-weight: bold;
  line-height: 1.0;
}
.rendered_html h4 {
  font-size: 100%;
  margin: 2em 0 0 0;
  font-weight: bold;
  line-height: 1.0;
}
.rendered_html h5 {
  font-size: 100%;
  margin: 2em 0 0 0;
  font-weight: bold;
  line-height: 1.0;
  font-style: italic;
}
.rendered_html h6 {
  font-size: 100%;
  margin: 2em 0 0 0;
  font-weight: bold;
  line-height: 1.0;
  font-style: italic;
}
.rendered_html h1:first-child {
  margin-top: 0.538em;
}
.rendered_html h2:first-child {
  margin-top: 0.636em;
}
.rendered_html h3:first-child {
  margin-top: 0.777em;
}
.rendered_html h4:first-child {
  margin-top: 1em;
}
.rendered_html h5:first-child {
  margin-top: 1em;
}
.rendered_html h6:first-child {
  margin-top: 1em;
}
.rendered_html ul {
  list-style: disc;
  margin: 0em 2em;
  padding-left: 0px;
}
.rendered_html ul ul {
  list-style: square;
  margin: 0em 2em;
}
.rendered_html ul ul ul {
  list-style: circle;
  margin: 0em 2em;
}
.rendered_html ol {
  list-style: decimal;
  margin: 0em 2em;
  padding-left: 0px;
}
.rendered_html ol ol {
  list-style: upper-alpha;
  margin: 0em 2em;
}
.rendered_html ol ol ol {
  list-style: lower-alpha;
  margin: 0em 2em;
}
.rendered_html ol ol ol ol {
  list-style: lower-roman;
  margin: 0em 2em;
}
.rendered_html ol ol ol ol ol {
  list-style: decimal;
  margin: 0em 2em;
}
.rendered_html * + ul {
  margin-top: 1em;
}
.rendered_html * + ol {
  margin-top: 1em;
}
.rendered_html hr {
  color: black;
  background-color: black;
}
.rendered_html pre {
  margin: 1em 2em;
}
.rendered_html pre,
.rendered_html code {
  border: 0;
  background-color: #fff;
  color: #000;
  font-size: 100%;
  padding: 0px;
}
.rendered_html blockquote {
  margin: 1em 2em;
}
.rendered_html table {
  margin-left: auto;
  margin-right: auto;
  border: 1px solid black;
  border-collapse: collapse;
}
.rendered_html tr,
.rendered_html th,
.rendered_html td {
  border: 1px solid black;
  border-collapse: collapse;
  margin: 1em 2em;
}
.rendered_html td,
.rendered_html th {
  text-align: left;
  vertical-align: middle;
  padding: 4px;
}
.rendered_html th {
  font-weight: bold;
}
.rendered_html * + table {
  margin-top: 1em;
}
.rendered_html p {
  text-align: left;
}
.rendered_html * + p {
  margin-top: 1em;
}
.rendered_html img {
  display: block;
  margin-left: auto;
  margin-right: auto;
}
.rendered_html * + img {
  margin-top: 1em;
}
.rendered_html img,
.rendered_html svg {
  max-width: 100%;
  height: auto;
}
.rendered_html img.unconfined,
.rendered_html svg.unconfined {
  max-width: none;
}
div.text_cell {
  /* Old browsers */
  display: -webkit-box;
  -webkit-box-orient: horizontal;
  -webkit-box-align: stretch;
  display: -moz-box;
  -moz-box-orient: horizontal;
  -moz-box-align: stretch;
  display: box;
  box-orient: horizontal;
  box-align: stretch;
  /* Modern browsers */
  display: flex;
  flex-direction: row;
  align-items: stretch;
}
@media (max-width: 540px) {
  div.text_cell > div.prompt {
    display: none;
  }
}
div.text_cell_render {
  /*font-family: "Helvetica Neue", Arial, Helvetica, Geneva, sans-serif;*/
  outline: none;
  resize: none;
  width: inherit;
  border-style: none;
  padding: 0.5em 0.5em 0.5em 0.4em;
  color: #000;
  box-sizing: border-box;
  -moz-box-sizing: border-box;
  -webkit-box-sizing: border-box;
}
a.anchor-link:link {
  text-decoration: none;
  padding: 0px 20px;
  visibility: hidden;
}
h1:hover .anchor-link,
h2:hover .anchor-link,
h3:hover .anchor-link,
h4:hover .anchor-link,
h5:hover .anchor-link,
h6:hover .anchor-link {
  visibility: visible;
}
.text_cell.rendered .input_area {
  display: none;
}
.text_cell.rendered .rendered_html {
  overflow-x: auto;
  overflow-y: hidden;
}
.text_cell.unrendered .text_cell_render {
  display: none;
}
.cm-header-1,
.cm-header-2,
.cm-header-3,
.cm-header-4,
.cm-header-5,
.cm-header-6 {
  font-weight: bold;
  font-family: "Helvetica Neue", Helvetica, Arial, sans-serif;
}
.cm-header-1 {
  font-size: 185.7%;
}
.cm-header-2 {
  font-size: 157.1%;
}
.cm-header-3 {
  font-size: 128.6%;
}
.cm-header-4 {
  font-size: 110%;
}
.cm-header-5 {
  font-size: 100%;
  font-style: italic;
}
.cm-header-6 {
  font-size: 100%;
  font-style: italic;
}
/*!
*
* IPython notebook webapp
*
*/
@media (max-width: 767px) {
  .notebook_app {
    padding-left: 0px;
    padding-right: 0px;
  }
}
#ipython-main-app {
  box-sizing: border-box;
  -moz-box-sizing: border-box;
  -webkit-box-sizing: border-box;
  height: 100%;
}
div#notebook_panel {
  margin: 0px;
  padding: 0px;
  box-sizing: border-box;
  -moz-box-sizing: border-box;
  -webkit-box-sizing: border-box;
  height: 100%;
}
div#notebook {
  font-size: 14px;
  line-height: 20px;
  overflow-y: hidden;
  overflow-x: auto;
  width: 100%;
  /* This spaces the page away from the edge of the notebook area */
  padding-top: 20px;
  margin: 0px;
  outline: none;
  box-sizing: border-box;
  -moz-box-sizing: border-box;
  -webkit-box-sizing: border-box;
  min-height: 100%;
}
@media not print {
  #notebook-container {
    padding: 15px;
    background-color: #fff;
    min-height: 0;
    -webkit-box-shadow: 0px 0px 12px 1px rgba(87, 87, 87, 0.2);
    box-shadow: 0px 0px 12px 1px rgba(87, 87, 87, 0.2);
  }
}
@media print {
  #notebook-container {
    width: 100%;
  }
}
div.ui-widget-content {
  border: 1px solid #ababab;
  outline: none;
}
pre.dialog {
  background-color: #f7f7f7;
  border: 1px solid #ddd;
  border-radius: 2px;
  padding: 0.4em;
  padding-left: 2em;
}
p.dialog {
  padding: 0.2em;
}
/* Word-wrap output correctly.  This is the CSS3 spelling, though Firefox seems
   to not honor it correctly.  Webkit browsers (Chrome, rekonq, Safari) do.
 */
pre,
code,
kbd,
samp {
  white-space: pre-wrap;
}
#fonttest {
  font-family: monospace;
}
p {
  margin-bottom: 0;
}
.end_space {
  min-height: 100px;
  transition: height .2s ease;
}
.notebook_app > #header {
  -webkit-box-shadow: 0px 0px 12px 1px rgba(87, 87, 87, 0.2);
  box-shadow: 0px 0px 12px 1px rgba(87, 87, 87, 0.2);
}
@media not print {
  .notebook_app {
    background-color: #EEE;
  }
}
kbd {
  border-style: solid;
  border-width: 1px;
  box-shadow: none;
  margin: 2px;
  padding-left: 2px;
  padding-right: 2px;
  padding-top: 1px;
  padding-bottom: 1px;
}
/* CSS for the cell toolbar */
.celltoolbar {
  border: thin solid #CFCFCF;
  border-bottom: none;
  background: #EEE;
  border-radius: 2px 2px 0px 0px;
  width: 100%;
  height: 29px;
  padding-right: 4px;
  /* Old browsers */
  display: -webkit-box;
  -webkit-box-orient: horizontal;
  -webkit-box-align: stretch;
  display: -moz-box;
  -moz-box-orient: horizontal;
  -moz-box-align: stretch;
  display: box;
  box-orient: horizontal;
  box-align: stretch;
  /* Modern browsers */
  display: flex;
  flex-direction: row;
  align-items: stretch;
  /* Old browsers */
  -webkit-box-pack: end;
  -moz-box-pack: end;
  box-pack: end;
  /* Modern browsers */
  justify-content: flex-end;
  display: -webkit-flex;
}
@media print {
  .celltoolbar {
    display: none;
  }
}
.ctb_hideshow {
  display: none;
  vertical-align: bottom;
}
/* ctb_show is added to the ctb_hideshow div to show the cell toolbar.
   Cell toolbars are only shown when the ctb_global_show class is also set.
*/
.ctb_global_show .ctb_show.ctb_hideshow {
  display: block;
}
.ctb_global_show .ctb_show + .input_area,
.ctb_global_show .ctb_show + div.text_cell_input,
.ctb_global_show .ctb_show ~ div.text_cell_render {
  border-top-right-radius: 0px;
  border-top-left-radius: 0px;
}
.ctb_global_show .ctb_show ~ div.text_cell_render {
  border: 1px solid #cfcfcf;
}
.celltoolbar {
  font-size: 87%;
  padding-top: 3px;
}
.celltoolbar select {
  display: block;
  width: 100%;
  height: 32px;
  padding: 6px 12px;
  font-size: 13px;
  line-height: 1.42857143;
  color: #555555;
  background-color: #fff;
  background-image: none;
  border: 1px solid #ccc;
  border-radius: 2px;
  -webkit-box-shadow: inset 0 1px 1px rgba(0, 0, 0, 0.075);
  box-shadow: inset 0 1px 1px rgba(0, 0, 0, 0.075);
  -webkit-transition: border-color ease-in-out .15s, box-shadow ease-in-out .15s;
  -o-transition: border-color ease-in-out .15s, box-shadow ease-in-out .15s;
  transition: border-color ease-in-out .15s, box-shadow ease-in-out .15s;
  height: 30px;
  padding: 5px 10px;
  font-size: 12px;
  line-height: 1.5;
  border-radius: 1px;
  width: inherit;
  font-size: inherit;
  height: 22px;
  padding: 0px;
  display: inline-block;
}
.celltoolbar select:focus {
  border-color: #66afe9;
  outline: 0;
  -webkit-box-shadow: inset 0 1px 1px rgba(0,0,0,.075), 0 0 8px rgba(102, 175, 233, 0.6);
  box-shadow: inset 0 1px 1px rgba(0,0,0,.075), 0 0 8px rgba(102, 175, 233, 0.6);
}
.celltoolbar select::-moz-placeholder {
  color: #999;
  opacity: 1;
}
.celltoolbar select:-ms-input-placeholder {
  color: #999;
}
.celltoolbar select::-webkit-input-placeholder {
  color: #999;
}
.celltoolbar select::-ms-expand {
  border: 0;
  background-color: transparent;
}
.celltoolbar select[disabled],
.celltoolbar select[readonly],
fieldset[disabled] .celltoolbar select {
  background-color: #eeeeee;
  opacity: 1;
}
.celltoolbar select[disabled],
fieldset[disabled] .celltoolbar select {
  cursor: not-allowed;
}
textarea.celltoolbar select {
  height: auto;
}
select.celltoolbar select {
  height: 30px;
  line-height: 30px;
}
textarea.celltoolbar select,
select[multiple].celltoolbar select {
  height: auto;
}
.celltoolbar label {
  margin-left: 5px;
  margin-right: 5px;
}
.completions {
  position: absolute;
  z-index: 110;
  overflow: hidden;
  border: 1px solid #ababab;
  border-radius: 2px;
  -webkit-box-shadow: 0px 6px 10px -1px #adadad;
  box-shadow: 0px 6px 10px -1px #adadad;
  line-height: 1;
}
.completions select {
  background: white;
  outline: none;
  border: none;
  padding: 0px;
  margin: 0px;
  overflow: auto;
  font-family: monospace;
  font-size: 110%;
  color: #000;
  width: auto;
}
.completions select option.context {
  color: #286090;
}
#kernel_logo_widget {
  float: right !important;
  float: right;
}
#kernel_logo_widget .current_kernel_logo {
  display: none;
  margin-top: -1px;
  margin-bottom: -1px;
  width: 32px;
  height: 32px;
}
#menubar {
  box-sizing: border-box;
  -moz-box-sizing: border-box;
  -webkit-box-sizing: border-box;
  margin-top: 1px;
}
#menubar .navbar {
  border-top: 1px;
  border-radius: 0px 0px 2px 2px;
  margin-bottom: 0px;
}
#menubar .navbar-toggle {
  float: left;
  padding-top: 7px;
  padding-bottom: 7px;
  border: none;
}
#menubar .navbar-collapse {
  clear: left;
}
.nav-wrapper {
  border-bottom: 1px solid #e7e7e7;
}
i.menu-icon {
  padding-top: 4px;
}
ul#help_menu li a {
  overflow: hidden;
  padding-right: 2.2em;
}
ul#help_menu li a i {
  margin-right: -1.2em;
}
.dropdown-submenu {
  position: relative;
}
.dropdown-submenu > .dropdown-menu {
  top: 0;
  left: 100%;
  margin-top: -6px;
  margin-left: -1px;
}
.dropdown-submenu:hover > .dropdown-menu {
  display: block;
}
.dropdown-submenu > a:after {
  display: inline-block;
  font: normal normal normal 14px/1 FontAwesome;
  font-size: inherit;
  text-rendering: auto;
  -webkit-font-smoothing: antialiased;
  -moz-osx-font-smoothing: grayscale;
  display: block;
  content: "\f0da";
  float: right;
  color: #333333;
  margin-top: 2px;
  margin-right: -10px;
}
.dropdown-submenu > a:after.pull-left {
  margin-right: .3em;
}
.dropdown-submenu > a:after.pull-right {
  margin-left: .3em;
}
.dropdown-submenu:hover > a:after {
  color: #262626;
}
.dropdown-submenu.pull-left {
  float: none;
}
.dropdown-submenu.pull-left > .dropdown-menu {
  left: -100%;
  margin-left: 10px;
}
#notification_area {
  float: right !important;
  float: right;
  z-index: 10;
}
.indicator_area {
  float: right !important;
  float: right;
  color: #777;
  margin-left: 5px;
  margin-right: 5px;
  width: 11px;
  z-index: 10;
  text-align: center;
  width: auto;
}
#kernel_indicator {
  float: right !important;
  float: right;
  color: #777;
  margin-left: 5px;
  margin-right: 5px;
  width: 11px;
  z-index: 10;
  text-align: center;
  width: auto;
  border-left: 1px solid;
}
#kernel_indicator .kernel_indicator_name {
  padding-left: 5px;
  padding-right: 5px;
}
#modal_indicator {
  float: right !important;
  float: right;
  color: #777;
  margin-left: 5px;
  margin-right: 5px;
  width: 11px;
  z-index: 10;
  text-align: center;
  width: auto;
}
#readonly-indicator {
  float: right !important;
  float: right;
  color: #777;
  margin-left: 5px;
  margin-right: 5px;
  width: 11px;
  z-index: 10;
  text-align: center;
  width: auto;
  margin-top: 2px;
  margin-bottom: 0px;
  margin-left: 0px;
  margin-right: 0px;
  display: none;
}
.modal_indicator:before {
  width: 1.28571429em;
  text-align: center;
}
.edit_mode .modal_indicator:before {
  display: inline-block;
  font: normal normal normal 14px/1 FontAwesome;
  font-size: inherit;
  text-rendering: auto;
  -webkit-font-smoothing: antialiased;
  -moz-osx-font-smoothing: grayscale;
  content: "\f040";
}
.edit_mode .modal_indicator:before.pull-left {
  margin-right: .3em;
}
.edit_mode .modal_indicator:before.pull-right {
  margin-left: .3em;
}
.command_mode .modal_indicator:before {
  display: inline-block;
  font: normal normal normal 14px/1 FontAwesome;
  font-size: inherit;
  text-rendering: auto;
  -webkit-font-smoothing: antialiased;
  -moz-osx-font-smoothing: grayscale;
  content: ' ';
}
.command_mode .modal_indicator:before.pull-left {
  margin-right: .3em;
}
.command_mode .modal_indicator:before.pull-right {
  margin-left: .3em;
}
.kernel_idle_icon:before {
  display: inline-block;
  font: normal normal normal 14px/1 FontAwesome;
  font-size: inherit;
  text-rendering: auto;
  -webkit-font-smoothing: antialiased;
  -moz-osx-font-smoothing: grayscale;
  content: "\f10c";
}
.kernel_idle_icon:before.pull-left {
  margin-right: .3em;
}
.kernel_idle_icon:before.pull-right {
  margin-left: .3em;
}
.kernel_busy_icon:before {
  display: inline-block;
  font: normal normal normal 14px/1 FontAwesome;
  font-size: inherit;
  text-rendering: auto;
  -webkit-font-smoothing: antialiased;
  -moz-osx-font-smoothing: grayscale;
  content: "\f111";
}
.kernel_busy_icon:before.pull-left {
  margin-right: .3em;
}
.kernel_busy_icon:before.pull-right {
  margin-left: .3em;
}
.kernel_dead_icon:before {
  display: inline-block;
  font: normal normal normal 14px/1 FontAwesome;
  font-size: inherit;
  text-rendering: auto;
  -webkit-font-smoothing: antialiased;
  -moz-osx-font-smoothing: grayscale;
  content: "\f1e2";
}
.kernel_dead_icon:before.pull-left {
  margin-right: .3em;
}
.kernel_dead_icon:before.pull-right {
  margin-left: .3em;
}
.kernel_disconnected_icon:before {
  display: inline-block;
  font: normal normal normal 14px/1 FontAwesome;
  font-size: inherit;
  text-rendering: auto;
  -webkit-font-smoothing: antialiased;
  -moz-osx-font-smoothing: grayscale;
  content: "\f127";
}
.kernel_disconnected_icon:before.pull-left {
  margin-right: .3em;
}
.kernel_disconnected_icon:before.pull-right {
  margin-left: .3em;
}
.notification_widget {
  color: #777;
  z-index: 10;
  background: rgba(240, 240, 240, 0.5);
  margin-right: 4px;
  color: #333;
  background-color: #fff;
  border-color: #ccc;
}
.notification_widget:focus,
.notification_widget.focus {
  color: #333;
  background-color: #e6e6e6;
  border-color: #8c8c8c;
}
.notification_widget:hover {
  color: #333;
  background-color: #e6e6e6;
  border-color: #adadad;
}
.notification_widget:active,
.notification_widget.active,
.open > .dropdown-toggle.notification_widget {
  color: #333;
  background-color: #e6e6e6;
  border-color: #adadad;
}
.notification_widget:active:hover,
.notification_widget.active:hover,
.open > .dropdown-toggle.notification_widget:hover,
.notification_widget:active:focus,
.notification_widget.active:focus,
.open > .dropdown-toggle.notification_widget:focus,
.notification_widget:active.focus,
.notification_widget.active.focus,
.open > .dropdown-toggle.notification_widget.focus {
  color: #333;
  background-color: #d4d4d4;
  border-color: #8c8c8c;
}
.notification_widget:active,
.notification_widget.active,
.open > .dropdown-toggle.notification_widget {
  background-image: none;
}
.notification_widget.disabled:hover,
.notification_widget[disabled]:hover,
fieldset[disabled] .notification_widget:hover,
.notification_widget.disabled:focus,
.notification_widget[disabled]:focus,
fieldset[disabled] .notification_widget:focus,
.notification_widget.disabled.focus,
.notification_widget[disabled].focus,
fieldset[disabled] .notification_widget.focus {
  background-color: #fff;
  border-color: #ccc;
}
.notification_widget .badge {
  color: #fff;
  background-color: #333;
}
.notification_widget.warning {
  color: #fff;
  background-color: #f0ad4e;
  border-color: #eea236;
}
.notification_widget.warning:focus,
.notification_widget.warning.focus {
  color: #fff;
  background-color: #ec971f;
  border-color: #985f0d;
}
.notification_widget.warning:hover {
  color: #fff;
  background-color: #ec971f;
  border-color: #d58512;
}
.notification_widget.warning:active,
.notification_widget.warning.active,
.open > .dropdown-toggle.notification_widget.warning {
  color: #fff;
  background-color: #ec971f;
  border-color: #d58512;
}
.notification_widget.warning:active:hover,
.notification_widget.warning.active:hover,
.open > .dropdown-toggle.notification_widget.warning:hover,
.notification_widget.warning:active:focus,
.notification_widget.warning.active:focus,
.open > .dropdown-toggle.notification_widget.warning:focus,
.notification_widget.warning:active.focus,
.notification_widget.warning.active.focus,
.open > .dropdown-toggle.notification_widget.warning.focus {
  color: #fff;
  background-color: #d58512;
  border-color: #985f0d;
}
.notification_widget.warning:active,
.notification_widget.warning.active,
.open > .dropdown-toggle.notification_widget.warning {
  background-image: none;
}
.notification_widget.warning.disabled:hover,
.notification_widget.warning[disabled]:hover,
fieldset[disabled] .notification_widget.warning:hover,
.notification_widget.warning.disabled:focus,
.notification_widget.warning[disabled]:focus,
fieldset[disabled] .notification_widget.warning:focus,
.notification_widget.warning.disabled.focus,
.notification_widget.warning[disabled].focus,
fieldset[disabled] .notification_widget.warning.focus {
  background-color: #f0ad4e;
  border-color: #eea236;
}
.notification_widget.warning .badge {
  color: #f0ad4e;
  background-color: #fff;
}
.notification_widget.success {
  color: #fff;
  background-color: #5cb85c;
  border-color: #4cae4c;
}
.notification_widget.success:focus,
.notification_widget.success.focus {
  color: #fff;
  background-color: #449d44;
  border-color: #255625;
}
.notification_widget.success:hover {
  color: #fff;
  background-color: #449d44;
  border-color: #398439;
}
.notification_widget.success:active,
.notification_widget.success.active,
.open > .dropdown-toggle.notification_widget.success {
  color: #fff;
  background-color: #449d44;
  border-color: #398439;
}
.notification_widget.success:active:hover,
.notification_widget.success.active:hover,
.open > .dropdown-toggle.notification_widget.success:hover,
.notification_widget.success:active:focus,
.notification_widget.success.active:focus,
.open > .dropdown-toggle.notification_widget.success:focus,
.notification_widget.success:active.focus,
.notification_widget.success.active.focus,
.open > .dropdown-toggle.notification_widget.success.focus {
  color: #fff;
  background-color: #398439;
  border-color: #255625;
}
.notification_widget.success:active,
.notification_widget.success.active,
.open > .dropdown-toggle.notification_widget.success {
  background-image: none;
}
.notification_widget.success.disabled:hover,
.notification_widget.success[disabled]:hover,
fieldset[disabled] .notification_widget.success:hover,
.notification_widget.success.disabled:focus,
.notification_widget.success[disabled]:focus,
fieldset[disabled] .notification_widget.success:focus,
.notification_widget.success.disabled.focus,
.notification_widget.success[disabled].focus,
fieldset[disabled] .notification_widget.success.focus {
  background-color: #5cb85c;
  border-color: #4cae4c;
}
.notification_widget.success .badge {
  color: #5cb85c;
  background-color: #fff;
}
.notification_widget.info {
  color: #fff;
  background-color: #5bc0de;
  border-color: #46b8da;
}
.notification_widget.info:focus,
.notification_widget.info.focus {
  color: #fff;
  background-color: #31b0d5;
  border-color: #1b6d85;
}
.notification_widget.info:hover {
  color: #fff;
  background-color: #31b0d5;
  border-color: #269abc;
}
.notification_widget.info:active,
.notification_widget.info.active,
.open > .dropdown-toggle.notification_widget.info {
  color: #fff;
  background-color: #31b0d5;
  border-color: #269abc;
}
.notification_widget.info:active:hover,
.notification_widget.info.active:hover,
.open > .dropdown-toggle.notification_widget.info:hover,
.notification_widget.info:active:focus,
.notification_widget.info.active:focus,
.open > .dropdown-toggle.notification_widget.info:focus,
.notification_widget.info:active.focus,
.notification_widget.info.active.focus,
.open > .dropdown-toggle.notification_widget.info.focus {
  color: #fff;
  background-color: #269abc;
  border-color: #1b6d85;
}
.notification_widget.info:active,
.notification_widget.info.active,
.open > .dropdown-toggle.notification_widget.info {
  background-image: none;
}
.notification_widget.info.disabled:hover,
.notification_widget.info[disabled]:hover,
fieldset[disabled] .notification_widget.info:hover,
.notification_widget.info.disabled:focus,
.notification_widget.info[disabled]:focus,
fieldset[disabled] .notification_widget.info:focus,
.notification_widget.info.disabled.focus,
.notification_widget.info[disabled].focus,
fieldset[disabled] .notification_widget.info.focus {
  background-color: #5bc0de;
  border-color: #46b8da;
}
.notification_widget.info .badge {
  color: #5bc0de;
  background-color: #fff;
}
.notification_widget.danger {
  color: #fff;
  background-color: #d9534f;
  border-color: #d43f3a;
}
.notification_widget.danger:focus,
.notification_widget.danger.focus {
  color: #fff;
  background-color: #c9302c;
  border-color: #761c19;
}
.notification_widget.danger:hover {
  color: #fff;
  background-color: #c9302c;
  border-color: #ac2925;
}
.notification_widget.danger:active,
.notification_widget.danger.active,
.open > .dropdown-toggle.notification_widget.danger {
  color: #fff;
  background-color: #c9302c;
  border-color: #ac2925;
}
.notification_widget.danger:active:hover,
.notification_widget.danger.active:hover,
.open > .dropdown-toggle.notification_widget.danger:hover,
.notification_widget.danger:active:focus,
.notification_widget.danger.active:focus,
.open > .dropdown-toggle.notification_widget.danger:focus,
.notification_widget.danger:active.focus,
.notification_widget.danger.active.focus,
.open > .dropdown-toggle.notification_widget.danger.focus {
  color: #fff;
  background-color: #ac2925;
  border-color: #761c19;
}
.notification_widget.danger:active,
.notification_widget.danger.active,
.open > .dropdown-toggle.notification_widget.danger {
  background-image: none;
}
.notification_widget.danger.disabled:hover,
.notification_widget.danger[disabled]:hover,
fieldset[disabled] .notification_widget.danger:hover,
.notification_widget.danger.disabled:focus,
.notification_widget.danger[disabled]:focus,
fieldset[disabled] .notification_widget.danger:focus,
.notification_widget.danger.disabled.focus,
.notification_widget.danger[disabled].focus,
fieldset[disabled] .notification_widget.danger.focus {
  background-color: #d9534f;
  border-color: #d43f3a;
}
.notification_widget.danger .badge {
  color: #d9534f;
  background-color: #fff;
}
div#pager {
  background-color: #fff;
  font-size: 14px;
  line-height: 20px;
  overflow: hidden;
  display: none;
  position: fixed;
  bottom: 0px;
  width: 100%;
  max-height: 50%;
  padding-top: 8px;
  -webkit-box-shadow: 0px 0px 12px 1px rgba(87, 87, 87, 0.2);
  box-shadow: 0px 0px 12px 1px rgba(87, 87, 87, 0.2);
  /* Display over codemirror */
  z-index: 100;
  /* Hack which prevents jquery ui resizable from changing top. */
  top: auto !important;
}
div#pager pre {
  line-height: 1.21429em;
  color: #000;
  background-color: #f7f7f7;
  padding: 0.4em;
}
div#pager #pager-button-area {
  position: absolute;
  top: 8px;
  right: 20px;
}
div#pager #pager-contents {
  position: relative;
  overflow: auto;
  width: 100%;
  height: 100%;
}
div#pager #pager-contents #pager-container {
  position: relative;
  padding: 15px 0px;
  box-sizing: border-box;
  -moz-box-sizing: border-box;
  -webkit-box-sizing: border-box;
}
div#pager .ui-resizable-handle {
  top: 0px;
  height: 8px;
  background: #f7f7f7;
  border-top: 1px solid #cfcfcf;
  border-bottom: 1px solid #cfcfcf;
  /* This injects handle bars (a short, wide = symbol) for 
        the resize handle. */
}
div#pager .ui-resizable-handle::after {
  content: '';
  top: 2px;
  left: 50%;
  height: 3px;
  width: 30px;
  margin-left: -15px;
  position: absolute;
  border-top: 1px solid #cfcfcf;
}
.quickhelp {
  /* Old browsers */
  display: -webkit-box;
  -webkit-box-orient: horizontal;
  -webkit-box-align: stretch;
  display: -moz-box;
  -moz-box-orient: horizontal;
  -moz-box-align: stretch;
  display: box;
  box-orient: horizontal;
  box-align: stretch;
  /* Modern browsers */
  display: flex;
  flex-direction: row;
  align-items: stretch;
  line-height: 1.8em;
}
.shortcut_key {
  display: inline-block;
  width: 20ex;
  text-align: right;
  font-family: monospace;
}
.shortcut_descr {
  display: inline-block;
  /* Old browsers */
  -webkit-box-flex: 1;
  -moz-box-flex: 1;
  box-flex: 1;
  /* Modern browsers */
  flex: 1;
}
span.save_widget {
  margin-top: 6px;
}
span.save_widget span.filename {
  height: 1em;
  line-height: 1em;
  padding: 3px;
  margin-left: 16px;
  border: none;
  font-size: 146.5%;
  border-radius: 2px;
}
span.save_widget span.filename:hover {
  background-color: #e6e6e6;
}
span.checkpoint_status,
span.autosave_status {
  font-size: small;
}
@media (max-width: 767px) {
  span.save_widget {
    font-size: small;
  }
  span.checkpoint_status,
  span.autosave_status {
    display: none;
  }
}
@media (min-width: 768px) and (max-width: 991px) {
  span.checkpoint_status {
    display: none;
  }
  span.autosave_status {
    font-size: x-small;
  }
}
.toolbar {
  padding: 0px;
  margin-left: -5px;
  margin-top: 2px;
  margin-bottom: 5px;
  box-sizing: border-box;
  -moz-box-sizing: border-box;
  -webkit-box-sizing: border-box;
}
.toolbar select,
.toolbar label {
  width: auto;
  vertical-align: middle;
  margin-right: 2px;
  margin-bottom: 0px;
  display: inline;
  font-size: 92%;
  margin-left: 0.3em;
  margin-right: 0.3em;
  padding: 0px;
  padding-top: 3px;
}
.toolbar .btn {
  padding: 2px 8px;
}
.toolbar .btn-group {
  margin-top: 0px;
  margin-left: 5px;
}
#maintoolbar {
  margin-bottom: -3px;
  margin-top: -8px;
  border: 0px;
  min-height: 27px;
  margin-left: 0px;
  padding-top: 11px;
  padding-bottom: 3px;
}
#maintoolbar .navbar-text {
  float: none;
  vertical-align: middle;
  text-align: right;
  margin-left: 5px;
  margin-right: 0px;
  margin-top: 0px;
}
.select-xs {
  height: 24px;
}
.pulse,
.dropdown-menu > li > a.pulse,
li.pulse > a.dropdown-toggle,
li.pulse.open > a.dropdown-toggle {
  background-color: #F37626;
  color: white;
}
/**
 * Primary styles
 *
 * Author: Jupyter Development Team
 */
/** WARNING IF YOU ARE EDITTING THIS FILE, if this is a .css file, It has a lot
 * of chance of beeing generated from the ../less/[samename].less file, you can
 * try to get back the less file by reverting somme commit in history
 **/
/*
 * We'll try to get something pretty, so we
 * have some strange css to have the scroll bar on
 * the left with fix button on the top right of the tooltip
 */
@-moz-keyframes fadeOut {
  from {
    opacity: 1;
  }
  to {
    opacity: 0;
  }
}
@-webkit-keyframes fadeOut {
  from {
    opacity: 1;
  }
  to {
    opacity: 0;
  }
}
@-moz-keyframes fadeIn {
  from {
    opacity: 0;
  }
  to {
    opacity: 1;
  }
}
@-webkit-keyframes fadeIn {
  from {
    opacity: 0;
  }
  to {
    opacity: 1;
  }
}
/*properties of tooltip after "expand"*/
.bigtooltip {
  overflow: auto;
  height: 200px;
  -webkit-transition-property: height;
  -webkit-transition-duration: 500ms;
  -moz-transition-property: height;
  -moz-transition-duration: 500ms;
  transition-property: height;
  transition-duration: 500ms;
}
/*properties of tooltip before "expand"*/
.smalltooltip {
  -webkit-transition-property: height;
  -webkit-transition-duration: 500ms;
  -moz-transition-property: height;
  -moz-transition-duration: 500ms;
  transition-property: height;
  transition-duration: 500ms;
  text-overflow: ellipsis;
  overflow: hidden;
  height: 80px;
}
.tooltipbuttons {
  position: absolute;
  padding-right: 15px;
  top: 0px;
  right: 0px;
}
.tooltiptext {
  /*avoid the button to overlap on some docstring*/
  padding-right: 30px;
}
.ipython_tooltip {
  max-width: 700px;
  /*fade-in animation when inserted*/
  -webkit-animation: fadeOut 400ms;
  -moz-animation: fadeOut 400ms;
  animation: fadeOut 400ms;
  -webkit-animation: fadeIn 400ms;
  -moz-animation: fadeIn 400ms;
  animation: fadeIn 400ms;
  vertical-align: middle;
  background-color: #f7f7f7;
  overflow: visible;
  border: #ababab 1px solid;
  outline: none;
  padding: 3px;
  margin: 0px;
  padding-left: 7px;
  font-family: monospace;
  min-height: 50px;
  -moz-box-shadow: 0px 6px 10px -1px #adadad;
  -webkit-box-shadow: 0px 6px 10px -1px #adadad;
  box-shadow: 0px 6px 10px -1px #adadad;
  border-radius: 2px;
  position: absolute;
  z-index: 1000;
}
.ipython_tooltip a {
  float: right;
}
.ipython_tooltip .tooltiptext pre {
  border: 0;
  border-radius: 0;
  font-size: 100%;
  background-color: #f7f7f7;
}
.pretooltiparrow {
  left: 0px;
  margin: 0px;
  top: -16px;
  width: 40px;
  height: 16px;
  overflow: hidden;
  position: absolute;
}
.pretooltiparrow:before {
  background-color: #f7f7f7;
  border: 1px #ababab solid;
  z-index: 11;
  content: "";
  position: absolute;
  left: 15px;
  top: 10px;
  width: 25px;
  height: 25px;
  -webkit-transform: rotate(45deg);
  -moz-transform: rotate(45deg);
  -ms-transform: rotate(45deg);
  -o-transform: rotate(45deg);
}
ul.typeahead-list i {
  margin-left: -10px;
  width: 18px;
}
ul.typeahead-list {
  max-height: 80vh;
  overflow: auto;
}
ul.typeahead-list > li > a {
  /** Firefox bug **/
  /* see https://github.com/jupyter/notebook/issues/559 */
  white-space: normal;
}
.cmd-palette .modal-body {
  padding: 7px;
}
.cmd-palette form {
  background: white;
}
.cmd-palette input {
  outline: none;
}
.no-shortcut {
  display: none;
}
.command-shortcut:before {
  content: "(command)";
  padding-right: 3px;
  color: #777777;
}
.edit-shortcut:before {
  content: "(edit)";
  padding-right: 3px;
  color: #777777;
}
#find-and-replace #replace-preview .match,
#find-and-replace #replace-preview .insert {
  background-color: #BBDEFB;
  border-color: #90CAF9;
  border-style: solid;
  border-width: 1px;
  border-radius: 0px;
}
#find-and-replace #replace-preview .replace .match {
  background-color: #FFCDD2;
  border-color: #EF9A9A;
  border-radius: 0px;
}
#find-and-replace #replace-preview .replace .insert {
  background-color: #C8E6C9;
  border-color: #A5D6A7;
  border-radius: 0px;
}
#find-and-replace #replace-preview {
  max-height: 60vh;
  overflow: auto;
}
#find-and-replace #replace-preview pre {
  padding: 5px 10px;
}
.terminal-app {
  background: #EEE;
}
.terminal-app #header {
  background: #fff;
  -webkit-box-shadow: 0px 0px 12px 1px rgba(87, 87, 87, 0.2);
  box-shadow: 0px 0px 12px 1px rgba(87, 87, 87, 0.2);
}
.terminal-app .terminal {
  float: left;
  font-family: monospace;
  color: white;
  background: black;
  padding: 0.4em;
  border-radius: 2px;
  -webkit-box-shadow: 0px 0px 12px 1px rgba(87, 87, 87, 0.4);
  box-shadow: 0px 0px 12px 1px rgba(87, 87, 87, 0.4);
}
.terminal-app .terminal,
.terminal-app .terminal dummy-screen {
  line-height: 1em;
  font-size: 14px;
}
.terminal-app .terminal-cursor {
  color: black;
  background: white;
}
.terminal-app #terminado-container {
  margin-top: 20px;
}
/*# sourceMappingURL=style.min.css.map */
    </style>
<style type="text/css">
    .highlight .hll { background-color: #ffffcc }
.highlight  { background: #f8f8f8; }
.highlight .c { color: #408080; font-style: italic } /* Comment */
.highlight .err { border: 1px solid #FF0000 } /* Error */
.highlight .k { color: #008000; font-weight: bold } /* Keyword */
.highlight .o { color: #666666 } /* Operator */
.highlight .ch { color: #408080; font-style: italic } /* Comment.Hashbang */
.highlight .cm { color: #408080; font-style: italic } /* Comment.Multiline */
.highlight .cp { color: #BC7A00 } /* Comment.Preproc */
.highlight .cpf { color: #408080; font-style: italic } /* Comment.PreprocFile */
.highlight .c1 { color: #408080; font-style: italic } /* Comment.Single */
.highlight .cs { color: #408080; font-style: italic } /* Comment.Special */
.highlight .gd { color: #A00000 } /* Generic.Deleted */
.highlight .ge { font-style: italic } /* Generic.Emph */
.highlight .gr { color: #FF0000 } /* Generic.Error */
.highlight .gh { color: #000080; font-weight: bold } /* Generic.Heading */
.highlight .gi { color: #00A000 } /* Generic.Inserted */
.highlight .go { color: #888888 } /* Generic.Output */
.highlight .gp { color: #000080; font-weight: bold } /* Generic.Prompt */
.highlight .gs { font-weight: bold } /* Generic.Strong */
.highlight .gu { color: #800080; font-weight: bold } /* Generic.Subheading */
.highlight .gt { color: #0044DD } /* Generic.Traceback */
.highlight .kc { color: #008000; font-weight: bold } /* Keyword.Constant */
.highlight .kd { color: #008000; font-weight: bold } /* Keyword.Declaration */
.highlight .kn { color: #008000; font-weight: bold } /* Keyword.Namespace */
.highlight .kp { color: #008000 } /* Keyword.Pseudo */
.highlight .kr { color: #008000; font-weight: bold } /* Keyword.Reserved */
.highlight .kt { color: #B00040 } /* Keyword.Type */
.highlight .m { color: #666666 } /* Literal.Number */
.highlight .s { color: #BA2121 } /* Literal.String */
.highlight .na { color: #7D9029 } /* Name.Attribute */
.highlight .nb { color: #008000 } /* Name.Builtin */
.highlight .nc { color: #0000FF; font-weight: bold } /* Name.Class */
.highlight .no { color: #880000 } /* Name.Constant */
.highlight .nd { color: #AA22FF } /* Name.Decorator */
.highlight .ni { color: #999999; font-weight: bold } /* Name.Entity */
.highlight .ne { color: #D2413A; font-weight: bold } /* Name.Exception */
.highlight .nf { color: #0000FF } /* Name.Function */
.highlight .nl { color: #A0A000 } /* Name.Label */
.highlight .nn { color: #0000FF; font-weight: bold } /* Name.Namespace */
.highlight .nt { color: #008000; font-weight: bold } /* Name.Tag */
.highlight .nv { color: #19177C } /* Name.Variable */
.highlight .ow { color: #AA22FF; font-weight: bold } /* Operator.Word */
.highlight .w { color: #bbbbbb } /* Text.Whitespace */
.highlight .mb { color: #666666 } /* Literal.Number.Bin */
.highlight .mf { color: #666666 } /* Literal.Number.Float */
.highlight .mh { color: #666666 } /* Literal.Number.Hex */
.highlight .mi { color: #666666 } /* Literal.Number.Integer */
.highlight .mo { color: #666666 } /* Literal.Number.Oct */
.highlight .sb { color: #BA2121 } /* Literal.String.Backtick */
.highlight .sc { color: #BA2121 } /* Literal.String.Char */
.highlight .sd { color: #BA2121; font-style: italic } /* Literal.String.Doc */
.highlight .s2 { color: #BA2121 } /* Literal.String.Double */
.highlight .se { color: #BB6622; font-weight: bold } /* Literal.String.Escape */
.highlight .sh { color: #BA2121 } /* Literal.String.Heredoc */
.highlight .si { color: #BB6688; font-weight: bold } /* Literal.String.Interpol */
.highlight .sx { color: #008000 } /* Literal.String.Other */
.highlight .sr { color: #BB6688 } /* Literal.String.Regex */
.highlight .s1 { color: #BA2121 } /* Literal.String.Single */
.highlight .ss { color: #19177C } /* Literal.String.Symbol */
.highlight .bp { color: #008000 } /* Name.Builtin.Pseudo */
.highlight .vc { color: #19177C } /* Name.Variable.Class */
.highlight .vg { color: #19177C } /* Name.Variable.Global */
.highlight .vi { color: #19177C } /* Name.Variable.Instance */
.highlight .il { color: #666666 } /* Literal.Number.Integer.Long */
    </style>
<style type="text/css">
    
/* Temporary definitions which will become obsolete with Notebook release 5.0 */
.ansi-black-fg { color: #3E424D; }
.ansi-black-bg { background-color: #3E424D; }
.ansi-black-intense-fg { color: #282C36; }
.ansi-black-intense-bg { background-color: #282C36; }
.ansi-red-fg { color: #E75C58; }
.ansi-red-bg { background-color: #E75C58; }
.ansi-red-intense-fg { color: #B22B31; }
.ansi-red-intense-bg { background-color: #B22B31; }
.ansi-green-fg { color: #00A250; }
.ansi-green-bg { background-color: #00A250; }
.ansi-green-intense-fg { color: #007427; }
.ansi-green-intense-bg { background-color: #007427; }
.ansi-yellow-fg { color: #DDB62B; }
.ansi-yellow-bg { background-color: #DDB62B; }
.ansi-yellow-intense-fg { color: #B27D12; }
.ansi-yellow-intense-bg { background-color: #B27D12; }
.ansi-blue-fg { color: #208FFB; }
.ansi-blue-bg { background-color: #208FFB; }
.ansi-blue-intense-fg { color: #0065CA; }
.ansi-blue-intense-bg { background-color: #0065CA; }
.ansi-magenta-fg { color: #D160C4; }
.ansi-magenta-bg { background-color: #D160C4; }
.ansi-magenta-intense-fg { color: #A03196; }
.ansi-magenta-intense-bg { background-color: #A03196; }
.ansi-cyan-fg { color: #60C6C8; }
.ansi-cyan-bg { background-color: #60C6C8; }
.ansi-cyan-intense-fg { color: #258F8F; }
.ansi-cyan-intense-bg { background-color: #258F8F; }
.ansi-white-fg { color: #C5C1B4; }
.ansi-white-bg { background-color: #C5C1B4; }
.ansi-white-intense-fg { color: #A1A6B2; }
.ansi-white-intense-bg { background-color: #A1A6B2; }

.ansi-bold { font-weight: bold; }

    </style>
<style type="text/css">
    .highlight .hll {
  background-color: #ffffcc;
}
.highlight .c {
  color: #999988;
  font-style: italic;
}
/* Comment */
.highlight .err {
  color: #a61717;
  background-color: #e3d2d2;
}
/* Error */
.highlight .k {
  color: #000000;
  font-weight: bold;
}
/* Keyword */
.highlight .o {
  color: #000000;
  font-weight: bold;
}
/* Operator */
.highlight .cm {
  color: #999988;
  font-style: italic;
}
/* Comment.Multiline */
.highlight .cp {
  color: #999999;
  font-weight: bold;
  font-style: italic;
}
/* Comment.Preproc */
.highlight .c1 {
  color: #999988;
  font-style: italic;
}
/* Comment.Single */
.highlight .cs {
  color: #999999;
  font-weight: bold;
  font-style: italic;
}
/* Comment.Special */
.highlight .gd {
  color: #000000;
  background-color: #ffdddd;
}
/* Generic.Deleted */
.highlight .ge {
  color: #000000;
  font-style: italic;
}
/* Generic.Emph */
.highlight .gr {
  color: #aa0000;
}
/* Generic.Error */
.highlight .gh {
  color: #999999;
}
/* Generic.Heading */
.highlight .gi {
  color: #000000;
  background-color: #ddffdd;
}
/* Generic.Inserted */
.highlight .go {
  color: #888888;
}
/* Generic.Output */
.highlight .gp {
  color: #555555;
}
/* Generic.Prompt */
.highlight .gs {
  font-weight: bold;
}
/* Generic.Strong */
.highlight .gu {
  color: #aaaaaa;
}
/* Generic.Subheading */
.highlight .gt {
  color: #aa0000;
}
/* Generic.Traceback */
.highlight .kc {
  color: #000000;
  font-weight: bold;
}
/* Keyword.Constant */
.highlight .kd {
  color: #000000;
  font-weight: bold;
}
/* Keyword.Declaration */
.highlight .kn {
  color: #000000;
  font-weight: bold;
}
/* Keyword.Namespace */
.highlight .kp {
  color: #000000;
  font-weight: bold;
}
/* Keyword.Pseudo */
.highlight .kr {
  color: #000000;
  font-weight: bold;
}
/* Keyword.Reserved */
.highlight .kt {
  color: #445588;
  font-weight: bold;
}
/* Keyword.Type */
.highlight .m {
  color: #009999;
}
/* Literal.Number */
.highlight .s {
  color: #d01040;
}
/* Literal.String */
.highlight .na {
  color: #008080;
}
/* Name.Attribute */
.highlight .nb {
  color: #0086b3;
}
/* Name.Builtin */
.highlight .nc {
  color: #445588;
  font-weight: bold;
}
/* Name.Class */
.highlight .no {
  color: #008080;
}
/* Name.Constant */
.highlight .nd {
  color: #3c5d5d;
  font-weight: bold;
}
/* Name.Decorator */
.highlight .ni {
  color: #800080;
}
/* Name.Entity */
.highlight .ne {
  color: #990000;
  font-weight: bold;
}
/* Name.Exception */
.highlight .nf {
  color: #990000;
  font-weight: bold;
}
/* Name.Function */
.highlight .nl {
  color: #990000;
  font-weight: bold;
}
/* Name.Label */
.highlight .nn {
  color: black;
  font-weight: normal;
}
/* Name.Namespace */
.highlight .nt {
  color: #000080;
}
/* Name.Tag */
.highlight .nv {
  color: #008080;
}
/* Name.Variable */
.highlight .ow {
  color: #000000;
  font-weight: bold;
}
/* Operator.Word */
.highlight .w {
  color: #bbbbbb;
}
/* Text.Whitespace */
.highlight .mf {
  color: #009999;
}
/* Literal.Number.Float */
.highlight .mh {
  color: #009999;
}
/* Literal.Number.Hex */
.highlight .mi {
  color: #009999;
}
/* Literal.Number.Integer */
.highlight .mo {
  color: #009999;
}
/* Literal.Number.Oct */
.highlight .sb {
  color: #d01040;
}
/* Literal.String.Backtick */
.highlight .sc {
  color: #d01040;
}
/* Literal.String.Char */
.highlight .sd {
  color: #d01040;
}
/* Literal.String.Doc */
.highlight .s2 {
  color: #d01040;
}
/* Literal.String.Double */
.highlight .se {
  color: #d01040;
}
/* Literal.String.Escape */
.highlight .sh {
  color: #d01040;
}
/* Literal.String.Heredoc */
.highlight .si {
  color: #d01040;
}
/* Literal.String.Interpol */
.highlight .sx {
  color: #d01040;
}
/* Literal.String.Other */
.highlight .sr {
  color: #009926;
}
/* Literal.String.Regex */
.highlight .s1 {
  color: #d01040;
}
/* Literal.String.Single */
.highlight .ss {
  color: #990073;
}
/* Literal.String.Symbol */
.highlight .bp {
  color: #999999;
}
/* Name.Builtin.Pseudo */
.highlight .vc {
  color: #008080;
}
/* Name.Variable.Class */
.highlight .vg {
  color: #008080;
}
/* Name.Variable.Global */
.highlight .vi {
  color: #008080;
}
/* Name.Variable.Instance */
.highlight .il {
  color: #009999;
}
/* Literal.Number.Integer.Long */
div#maintoolbar {
  display: none !important;
}
body {
  font-family: "Open Sans", "Helvetica Neue", Helvetica, Arial, sans-serif;
  font-size: 16px;
  line-height: 1.42857143;
  color: #2c2c2c;
}
.rendered_html table,
.rendered_html th,
.rendered_html tr,
.rendered_html td {
  margin: 6px 0 13.5px;
  font-size: 15px;
  border-color: #ccc;
  max-width: 100%;
  text-align: left;
}
span.ansiblack {
  color: #2b303b;
}
span.ansiblue {
  color: #154ba1;
}
span.ansigray {
  color: #b4b7b4;
}
span.ansigreen {
  color: #2d6836;
}
span.ansipurple {
  color: #483d8b;
}
span.ansicyan {
  color: #1592a2;
}
span.ansiyellow {
  color: #92a215;
}
span.ansired {
  color: #b82a18;
}
div.output_html {
  color: #4c4c4c;
}
div.output_stderr {
  background-color: #DB797C;
}
div.output_stderr pre {
  color: #000000;
}
.cm-s-ipython.CodeMirror {
  background: #f6f6f6;
  color: #303030;
}
.cm-s-ipython div.CodeMirror-selected {
  background: #777777 !important;
}
.cm-s-ipython .CodeMirror-gutters {
  background: #cccccc;
  border: 0px;
  border-radius: 0px;
}
.cm-s-ipython .CodeMirror-linenumber {
  color: #666666 !important;
  font-size: 11pt;
}
.cm-s-ipython .CodeMirror-cursor {
  border-left: 2px solid #0095ff !important;
}
.cm-s-ipython span.cm-comment {
  color: #707070;
  font-style: italic !important;
}
.cm-s-ipython span.cm-atom {
  color: #F37F14;
}
.cm-s-ipython span.cm-number {
  color: #eb6a1a;
}
.cm-s-ipython span.cm-property {
  color: #de143d;
}
.cm-s-ipython span.cm-attribute {
  color: #de143d;
}
.cm-s-ipython span.cm-keyword {
  color: #F37F14;
  font-weight: normal;
}
.cm-s-ipython span.cm-string {
  color: #007f00;
  font-weight: normal;
}
.cm-s-ipython span.cm-operator {
  color: #055be0;
  font-weight: normal;
}
.cm-s-ipython span.cm-builtin {
  color: #de143d;
  font-weight: normal;
}
.cm-s-ipython span.cm-variable {
  color: #000000;
}
.cm-s-ipython span.cm-variable-2 {
  color: #de143d;
}
.cm-s-ipython span.cm-def {
  color: #055be0;
  font-weight: normal;
}
.cm-s-ipython span.cm-error {
  background: rgba(191, 97, 106, 0.3) !important;
}
.cm-s-ipython span.cm-tag {
  color: #F37F14;
}
.cm-s-ipython span.cm-link {
  color: #eb6a1a;
}
.cm-s-ipython span.cm-storage {
  color: #055be0;
}
.cm-s-ipython span.cm-entity {
  color: #de143d;
}
.cm-s-ipython span.cm-class {
  color: #e22978;
}
.cm-s-ipython span.cm-support {
  color: #de143d;
}
.cm-s-ipython span.cm-qualifier {
  color: #de143d;
}
/* Set CodeCell font-size*/
/*div.CodeMirror pre {font-size: 11pt !important;}*/
div.CodeMirror pre {
  line-height: 1.5 !important;
}
div.CodeMirror pre {
  font-family: 'Hack', monospace;
  font-size: 11pt;
}
div.CodeMirror span.CodeMirror-matchingbracket {
  color: #000000;
  background: rgba(53, 114, 198, 0.3) !important;
}
div.CodeMirror span.CodeMirror-nonmatchingbracket {
  color: #000000;
  background: rgba(191, 97, 106, 0.3) !important;
}
.cm-s-ipython .CodeMirror-matchingbracket {
  color: #000000;
  background: rgba(53, 114, 198, 0.3) !important;
}
.cm-s-ipython .CodeMirror-nonmatchingbracket {
  color: #000000;
  background: rgba(191, 97, 106, 0.3) !important;
}
/*Input and output cells formatting*/
div.prompt.input_prompt {
  font-family: 'Hack', monospace;
  border-right: 2px solid #428bca;
  font-weight: bold;
  font-size: 11pt;
  color: transparent;
  background-color: #ececed;
  width: 1em;
  padding-bottom: 0px;
  margin-bottom: 0px;
}
div.prompt.output_prompt {
  font-family: 'Hack', monospace;
  font-weight: bold;
  background-color: #ffffff;
  color: #ffffff;
  font-size: 9.5pt;
  width: 1em;
  margin-bottom: 8px;
  padding-top: 1em;
  padding-bottom: 1em;
}
div.out_prompt_overlay.prompt {
  font-family: 'Hack', monospace;
  font-weight: bold;
  font-size: 9.5pt;
  width: 1em;
  margin-bottom: 8px;
  background-color: #ffffff;
  border-radius: 4px;
  -webkit-border-radius: 4px;
  -moz-border-radius: 4px;
}
div.out_prompt_overlay.prompt:hover {
  font-family: 'Hack', monospace;
  font-weight: bold;
  font-size: 9.5pt;
  width: 1em;
  border-radius: 4px;
  margin-bottom: 8px;
  background-color: #ffffff;
  box-shadow: #e2e2e2 2px 2px 6px 4px inset;
  -webkit-border-radius: 4px;
  -moz-border-radius: 4px;
}
.prompt {
  min-width: 0px;
}
div.output_wrapper {
  background-color: #ffffff;
  margin-bottom: 0em;
  margin-top: 0em;
  border: 0px;
}
div.output_subarea.output_text.output_stream.output_stdout,
div.output_subarea.output_text {
  padding-top: 1em;
  margin-bottom: 8px;
  margin-top: 8px;
  margin-left: 8px;
  margin-right: 8px;
  background-color: #ffffff;
  color: #000000;
}
div.output_area pre {
  color: #000000;
  font-size: 10pt;
}
div.output_subarea {
  overflow-x: auto;
  padding: 1.0em;
  -webkit-box-flex: 1;
  -moz-box-flex: 1;
  box-flex: 1;
  flex: 1;
  max-width: calc(86%);
}
body {
  background-color: #f9f9f9;
}
a {
  color: #303030;
  font-family: 'Helvetica', sans-serif;
}
div#notebook,
div.CodeMirror,
div.output_area pre,
div.output_wrapper,
div.prompt,
div.CodeMirror pre {
  font-family: 'Hack', monospace;
  font-size: 11pt;
}
#notebook-container {
  padding: 0px;
  background-color: #f9f9f9;
  min-height: 0px;
  box-shadow: none;
}
.cell {
  padding: 0px;
}
.rendered_html pre,
.rendered_html code {
  color: #e54813;
  background-color: #f6f6f6;
  padding: 2px;
}

    </style>


<style type="text/css">
/* Overrides of notebook CSS for static HTML export */
body {
  overflow: visible;
  padding: 8px;
}

div#notebook {
  overflow: visible;
  border-top: none;
}

@media print {
  div.cell {
    display: block;
    page-break-inside: avoid;
  } 
  div.output_wrapper { 
    display: block;
    page-break-inside: avoid; 
  }
  div.output { 
    display: block;
    page-break-inside: avoid; 
  }
}
</style>

<!-- Custom stylesheet, it must be in the same directory as the html file -->
<link rel="stylesheet" href="custom.css">

<!-- Loading mathjax macro -->
<!-- Load mathjax -->
    <script src="https://cdn.mathjax.org/mathjax/latest/MathJax.js?config=TeX-AMS_HTML"></script>
    <!-- MathJax configuration -->
    <script type="text/x-mathjax-config">
    MathJax.Hub.Config({
        tex2jax: {
            inlineMath: [ ['$','$'], ["\\(","\\)"] ],
            displayMath: [ ['$$','$$'], ["\\[","\\]"] ],
            processEscapes: true,
            processEnvironments: true
        },
        // Center justify equations in code and markdown cells. Elsewhere
        // we use CSS to left justify single line equations in code cells.
        displayAlign: 'center',
        "HTML-CSS": {
            styles: {'.MathJax_Display': {"margin": 0}},
            linebreaks: { automatic: true }
        }
    });
    </script>
    <!-- End of mathjax configuration --></head>
<body>
  <div tabindex="-1" id="notebook" class="border-box-sizing">
    <div class="container" id="notebook-container">

<div class="cell border-box-sizing code_cell rendered">
<div class="input">
<div class="prompt input_prompt">In&nbsp;[1]:</div>
<div class="inner_cell">
    <div class="input_area">
<div class=" highlight hl-ipython2"><pre><span></span><span class="o">%</span><span class="k">matplotlib</span> inline
<span class="kn">from</span> <span class="nn">ggplot</span> <span class="kn">import</span> <span class="o">*</span>
</pre></div>

</div>
</div>
</div>

</div>
<div class="cell border-box-sizing text_cell rendered">
<div class="prompt input_prompt">
</div>
<div class="inner_cell">
<div class="text_cell_render border-box-sizing rendered_html">
<h3 id="scale_y_continuous"><code>scale_y_continuous</code><a class="anchor-link" href="#scale_y_continuous">&#182;</a></h3><p><code>scale_y_continuous</code> scale a continuous y-axis. Its parameters are:</p>
<ul>
<li><code>name</code> - axis label</li>
<li><code>breaks</code> - x tick breaks</li>
<li><code>labels</code> - x tick labels</li>
</ul>

</div>
</div>
</div>
<div class="cell border-box-sizing code_cell rendered">
<div class="input">
<div class="prompt input_prompt">In&nbsp;[2]:</div>
<div class="inner_cell">
    <div class="input_area">
<div class=" highlight hl-ipython2"><pre><span></span><span class="n">ggplot</span><span class="p">(</span><span class="n">diamonds</span><span class="p">,</span> <span class="n">aes</span><span class="p">(</span><span class="n">x</span><span class="o">=</span><span class="s1">&#39;carat&#39;</span><span class="p">,</span> <span class="n">y</span><span class="o">=</span><span class="s1">&#39;price&#39;</span><span class="p">))</span> <span class="o">+</span> \
    <span class="n">geom_point</span><span class="p">()</span> <span class="o">+</span> \
    <span class="n">scale_y_continuous</span><span class="p">(</span><span class="s2">&quot;Price ($)&quot;</span><span class="p">)</span>
</pre></div>

</div>
</div>
</div>

<div class="output_wrapper">
<div class="output">


<div class="output_area"><div class="prompt"></div>


<div class="output_png output_subarea ">
<img src="data:image/png;base64,iVBORw0KGgoAAAANSUhEUgAAAtsAAAIACAYAAABTiaBEAAAABHNCSVQICAgIfAhkiAAAAAlwSFlz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"
>
</div>

</div>

<div class="output_area"><div class="prompt output_prompt">Out[2]:</div>


<div class="output_text output_subarea output_execute_result">
<pre>&lt;ggplot: (284428481)&gt;</pre>
</div>

</div>

</div>
</div>

</div>
<div class="cell border-box-sizing code_cell rendered">
<div class="input">
<div class="prompt input_prompt">In&nbsp;[3]:</div>
<div class="inner_cell">
    <div class="input_area">
<div class=" highlight hl-ipython2"><pre><span></span><span class="n">ggplot</span><span class="p">(</span><span class="n">diamonds</span><span class="p">,</span> <span class="n">aes</span><span class="p">(</span><span class="n">x</span><span class="o">=</span><span class="s1">&#39;carat&#39;</span><span class="p">,</span> <span class="n">y</span><span class="o">=</span><span class="s1">&#39;price&#39;</span><span class="p">))</span> <span class="o">+</span> \
    <span class="n">geom_point</span><span class="p">()</span> <span class="o">+</span> \
    <span class="n">scale_y_continuous</span><span class="p">(</span><span class="s2">&quot;Price ($)&quot;</span><span class="p">,</span> <span class="n">breaks</span><span class="o">=</span><span class="p">[</span><span class="mi">0</span><span class="p">,</span> <span class="mi">7500</span><span class="p">,</span> <span class="mi">15000</span><span class="p">,</span> <span class="mi">25000</span><span class="p">])</span>
</pre></div>

</div>
</div>
</div>

<div class="output_wrapper">
<div class="output">


<div class="output_area"><div class="prompt"></div>


<div class="output_png output_subarea ">
<img src="data:image/png;base64,iVBORw0KGgoAAAANSUhEUgAAAtsAAAIACAYAAABTiaBEAAAABHNCSVQICAgIfAhkiAAAAAlwSFlz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"
>
</div>

</div>

<div class="output_area"><div class="prompt output_prompt">Out[3]:</div>


<div class="output_text output_subarea output_execute_result">
<pre>&lt;ggplot: (284428525)&gt;</pre>
</div>

</div>

</div>
</div>

</div>
<div class="cell border-box-sizing code_cell rendered">
<div class="input">
<div class="prompt input_prompt">In&nbsp;[4]:</div>
<div class="inner_cell">
    <div class="input_area">
<div class=" highlight hl-ipython2"><pre><span></span><span class="n">ggplot</span><span class="p">(</span><span class="n">diamonds</span><span class="p">,</span> <span class="n">aes</span><span class="p">(</span><span class="n">x</span><span class="o">=</span><span class="s1">&#39;carat&#39;</span><span class="p">,</span> <span class="n">y</span><span class="o">=</span><span class="s1">&#39;price&#39;</span><span class="p">))</span> <span class="o">+</span> \
    <span class="n">geom_point</span><span class="p">()</span> <span class="o">+</span> \
    <span class="n">scale_y_continuous</span><span class="p">(</span><span class="s2">&quot;Price ($)&quot;</span><span class="p">,</span> <span class="n">breaks</span><span class="o">=</span><span class="p">[</span><span class="mi">0</span><span class="p">,</span> <span class="mi">7500</span><span class="p">,</span> <span class="mi">15000</span><span class="p">,</span> <span class="mi">25000</span><span class="p">],</span> <span class="n">labels</span><span class="o">=</span><span class="p">[</span><span class="s2">&quot;Cheap&quot;</span><span class="p">,</span> <span class="s2">&quot;Not So Cheap&quot;</span><span class="p">,</span> <span class="s2">&quot;Costly&quot;</span><span class="p">,</span> <span class="s2">&quot;Dumb&quot;</span><span class="p">])</span>
</pre></div>

</div>
</div>
</div>

<div class="output_wrapper">
<div class="output">


<div class="output_area"><div class="prompt"></div>


<div class="output_png output_subarea ">
<img src="data:image/png;base64,iVBORw0KGgoAAAANSUhEUgAAAukAAAIACAYAAAA/j/JBAAAABHNCSVQICAgIfAhkiAAAAAlwSFlz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"
>
</div>

</div>

<div class="output_area"><div class="prompt output_prompt">Out[4]:</div>


<div class="output_text output_subarea output_execute_result">
<pre>&lt;ggplot: (285016369)&gt;</pre>
</div>

</div>

</div>
</div>

</div>
<div class="cell border-box-sizing code_cell rendered">
<div class="input">
<div class="prompt input_prompt">In&nbsp;[&nbsp;]:</div>
<div class="inner_cell">
    <div class="input_area">
<div class=" highlight hl-ipython2"><pre><span></span> 
</pre></div>

</div>
</div>
</div>

</div>
    </div>
  </div>
</body>
</html>
