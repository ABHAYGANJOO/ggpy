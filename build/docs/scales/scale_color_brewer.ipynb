<!DOCTYPE html>
<html>
<head><meta charset="utf-8" />
<title>scale_color_brewer</title>

<script src="https://cdnjs.cloudflare.com/ajax/libs/require.js/2.1.10/require.min.js"></script>
<script src="https://cdnjs.cloudflare.com/ajax/libs/jquery/2.0.3/jquery.min.js"></script>

<style type="text/css">
    /*!
*
* Twitter Bootstrap
*
*/
/*!
 * Bootstrap v3.3.6 (http://getbootstrap.com)
 * Copyright 2011-2015 Twitter, Inc.
 * Licensed under MIT (https://github.com/twbs/bootstrap/blob/master/LICENSE)
 */
/*! normalize.css v3.0.3 | MIT License | github.com/necolas/normalize.css */
html {
  font-family: sans-serif;
  -ms-text-size-adjust: 100%;
  -webkit-text-size-adjust: 100%;
}
body {
  margin: 0;
}
article,
aside,
details,
figcaption,
figure,
footer,
header,
hgroup,
main,
menu,
nav,
section,
summary {
  display: block;
}
audio,
canvas,
progress,
video {
  display: inline-block;
  vertical-align: baseline;
}
audio:not([controls]) {
  display: none;
  height: 0;
}
[hidden],
template {
  display: none;
}
a {
  background-color: transparent;
}
a:active,
a:hover {
  outline: 0;
}
abbr[title] {
  border-bottom: 1px dotted;
}
b,
strong {
  font-weight: bold;
}
dfn {
  font-style: italic;
}
h1 {
  font-size: 2em;
  margin: 0.67em 0;
}
mark {
  background: #ff0;
  color: #000;
}
small {
  font-size: 80%;
}
sub,
sup {
  font-size: 75%;
  line-height: 0;
  position: relative;
  vertical-align: baseline;
}
sup {
  top: -0.5em;
}
sub {
  bottom: -0.25em;
}
img {
  border: 0;
}
svg:not(:root) {
  overflow: hidden;
}
figure {
  margin: 1em 40px;
}
hr {
  box-sizing: content-box;
  height: 0;
}
pre {
  overflow: auto;
}
code,
kbd,
pre,
samp {
  font-family: monospace, monospace;
  font-size: 1em;
}
button,
input,
optgroup,
select,
textarea {
  color: inherit;
  font: inherit;
  margin: 0;
}
button {
  overflow: visible;
}
button,
select {
  text-transform: none;
}
button,
html input[type="button"],
input[type="reset"],
input[type="submit"] {
  -webkit-appearance: button;
  cursor: pointer;
}
button[disabled],
html input[disabled] {
  cursor: default;
}
button::-moz-focus-inner,
input::-moz-focus-inner {
  border: 0;
  padding: 0;
}
input {
  line-height: normal;
}
input[type="checkbox"],
input[type="radio"] {
  box-sizing: border-box;
  padding: 0;
}
input[type="number"]::-webkit-inner-spin-button,
input[type="number"]::-webkit-outer-spin-button {
  height: auto;
}
input[type="search"] {
  -webkit-appearance: textfield;
  box-sizing: content-box;
}
input[type="search"]::-webkit-search-cancel-button,
input[type="search"]::-webkit-search-decoration {
  -webkit-appearance: none;
}
fieldset {
  border: 1px solid #c0c0c0;
  margin: 0 2px;
  padding: 0.35em 0.625em 0.75em;
}
legend {
  border: 0;
  padding: 0;
}
textarea {
  overflow: auto;
}
optgroup {
  font-weight: bold;
}
table {
  border-collapse: collapse;
  border-spacing: 0;
}
td,
th {
  padding: 0;
}
/*! Source: https://github.com/h5bp/html5-boilerplate/blob/master/src/css/main.css */
@media print {
  *,
  *:before,
  *:after {
    background: transparent !important;
    color: #000 !important;
    box-shadow: none !important;
    text-shadow: none !important;
  }
  a,
  a:visited {
    text-decoration: underline;
  }
  a[href]:after {
    content: " (" attr(href) ")";
  }
  abbr[title]:after {
    content: " (" attr(title) ")";
  }
  a[href^="#"]:after,
  a[href^="javascript:"]:after {
    content: "";
  }
  pre,
  blockquote {
    border: 1px solid #999;
    page-break-inside: avoid;
  }
  thead {
    display: table-header-group;
  }
  tr,
  img {
    page-break-inside: avoid;
  }
  img {
    max-width: 100% !important;
  }
  p,
  h2,
  h3 {
    orphans: 3;
    widows: 3;
  }
  h2,
  h3 {
    page-break-after: avoid;
  }
  .navbar {
    display: none;
  }
  .btn > .caret,
  .dropup > .btn > .caret {
    border-top-color: #000 !important;
  }
  .label {
    border: 1px solid #000;
  }
  .table {
    border-collapse: collapse !important;
  }
  .table td,
  .table th {
    background-color: #fff !important;
  }
  .table-bordered th,
  .table-bordered td {
    border: 1px solid #ddd !important;
  }
}
@font-face {
  font-family: 'Glyphicons Halflings';
  src: url('../components/bootstrap/fonts/glyphicons-halflings-regular.eot');
  src: url('../components/bootstrap/fonts/glyphicons-halflings-regular.eot?#iefix') format('embedded-opentype'), url('../components/bootstrap/fonts/glyphicons-halflings-regular.woff2') format('woff2'), url('../components/bootstrap/fonts/glyphicons-halflings-regular.woff') format('woff'), url('../components/bootstrap/fonts/glyphicons-halflings-regular.ttf') format('truetype'), url('../components/bootstrap/fonts/glyphicons-halflings-regular.svg#glyphicons_halflingsregular') format('svg');
}
.glyphicon {
  position: relative;
  top: 1px;
  display: inline-block;
  font-family: 'Glyphicons Halflings';
  font-style: normal;
  font-weight: normal;
  line-height: 1;
  -webkit-font-smoothing: antialiased;
  -moz-osx-font-smoothing: grayscale;
}
.glyphicon-asterisk:before {
  content: "\002a";
}
.glyphicon-plus:before {
  content: "\002b";
}
.glyphicon-euro:before,
.glyphicon-eur:before {
  content: "\20ac";
}
.glyphicon-minus:before {
  content: "\2212";
}
.glyphicon-cloud:before {
  content: "\2601";
}
.glyphicon-envelope:before {
  content: "\2709";
}
.glyphicon-pencil:before {
  content: "\270f";
}
.glyphicon-glass:before {
  content: "\e001";
}
.glyphicon-music:before {
  content: "\e002";
}
.glyphicon-search:before {
  content: "\e003";
}
.glyphicon-heart:before {
  content: "\e005";
}
.glyphicon-star:before {
  content: "\e006";
}
.glyphicon-star-empty:before {
  content: "\e007";
}
.glyphicon-user:before {
  content: "\e008";
}
.glyphicon-film:before {
  content: "\e009";
}
.glyphicon-th-large:before {
  content: "\e010";
}
.glyphicon-th:before {
  content: "\e011";
}
.glyphicon-th-list:before {
  content: "\e012";
}
.glyphicon-ok:before {
  content: "\e013";
}
.glyphicon-remove:before {
  content: "\e014";
}
.glyphicon-zoom-in:before {
  content: "\e015";
}
.glyphicon-zoom-out:before {
  content: "\e016";
}
.glyphicon-off:before {
  content: "\e017";
}
.glyphicon-signal:before {
  content: "\e018";
}
.glyphicon-cog:before {
  content: "\e019";
}
.glyphicon-trash:before {
  content: "\e020";
}
.glyphicon-home:before {
  content: "\e021";
}
.glyphicon-file:before {
  content: "\e022";
}
.glyphicon-time:before {
  content: "\e023";
}
.glyphicon-road:before {
  content: "\e024";
}
.glyphicon-download-alt:before {
  content: "\e025";
}
.glyphicon-download:before {
  content: "\e026";
}
.glyphicon-upload:before {
  content: "\e027";
}
.glyphicon-inbox:before {
  content: "\e028";
}
.glyphicon-play-circle:before {
  content: "\e029";
}
.glyphicon-repeat:before {
  content: "\e030";
}
.glyphicon-refresh:before {
  content: "\e031";
}
.glyphicon-list-alt:before {
  content: "\e032";
}
.glyphicon-lock:before {
  content: "\e033";
}
.glyphicon-flag:before {
  content: "\e034";
}
.glyphicon-headphones:before {
  content: "\e035";
}
.glyphicon-volume-off:before {
  content: "\e036";
}
.glyphicon-volume-down:before {
  content: "\e037";
}
.glyphicon-volume-up:before {
  content: "\e038";
}
.glyphicon-qrcode:before {
  content: "\e039";
}
.glyphicon-barcode:before {
  content: "\e040";
}
.glyphicon-tag:before {
  content: "\e041";
}
.glyphicon-tags:before {
  content: "\e042";
}
.glyphicon-book:before {
  content: "\e043";
}
.glyphicon-bookmark:before {
  content: "\e044";
}
.glyphicon-print:before {
  content: "\e045";
}
.glyphicon-camera:before {
  content: "\e046";
}
.glyphicon-font:before {
  content: "\e047";
}
.glyphicon-bold:before {
  content: "\e048";
}
.glyphicon-italic:before {
  content: "\e049";
}
.glyphicon-text-height:before {
  content: "\e050";
}
.glyphicon-text-width:before {
  content: "\e051";
}
.glyphicon-align-left:before {
  content: "\e052";
}
.glyphicon-align-center:before {
  content: "\e053";
}
.glyphicon-align-right:before {
  content: "\e054";
}
.glyphicon-align-justify:before {
  content: "\e055";
}
.glyphicon-list:before {
  content: "\e056";
}
.glyphicon-indent-left:before {
  content: "\e057";
}
.glyphicon-indent-right:before {
  content: "\e058";
}
.glyphicon-facetime-video:before {
  content: "\e059";
}
.glyphicon-picture:before {
  content: "\e060";
}
.glyphicon-map-marker:before {
  content: "\e062";
}
.glyphicon-adjust:before {
  content: "\e063";
}
.glyphicon-tint:before {
  content: "\e064";
}
.glyphicon-edit:before {
  content: "\e065";
}
.glyphicon-share:before {
  content: "\e066";
}
.glyphicon-check:before {
  content: "\e067";
}
.glyphicon-move:before {
  content: "\e068";
}
.glyphicon-step-backward:before {
  content: "\e069";
}
.glyphicon-fast-backward:before {
  content: "\e070";
}
.glyphicon-backward:before {
  content: "\e071";
}
.glyphicon-play:before {
  content: "\e072";
}
.glyphicon-pause:before {
  content: "\e073";
}
.glyphicon-stop:before {
  content: "\e074";
}
.glyphicon-forward:before {
  content: "\e075";
}
.glyphicon-fast-forward:before {
  content: "\e076";
}
.glyphicon-step-forward:before {
  content: "\e077";
}
.glyphicon-eject:before {
  content: "\e078";
}
.glyphicon-chevron-left:before {
  content: "\e079";
}
.glyphicon-chevron-right:before {
  content: "\e080";
}
.glyphicon-plus-sign:before {
  content: "\e081";
}
.glyphicon-minus-sign:before {
  content: "\e082";
}
.glyphicon-remove-sign:before {
  content: "\e083";
}
.glyphicon-ok-sign:before {
  content: "\e084";
}
.glyphicon-question-sign:before {
  content: "\e085";
}
.glyphicon-info-sign:before {
  content: "\e086";
}
.glyphicon-screenshot:before {
  content: "\e087";
}
.glyphicon-remove-circle:before {
  content: "\e088";
}
.glyphicon-ok-circle:before {
  content: "\e089";
}
.glyphicon-ban-circle:before {
  content: "\e090";
}
.glyphicon-arrow-left:before {
  content: "\e091";
}
.glyphicon-arrow-right:before {
  content: "\e092";
}
.glyphicon-arrow-up:before {
  content: "\e093";
}
.glyphicon-arrow-down:before {
  content: "\e094";
}
.glyphicon-share-alt:before {
  content: "\e095";
}
.glyphicon-resize-full:before {
  content: "\e096";
}
.glyphicon-resize-small:before {
  content: "\e097";
}
.glyphicon-exclamation-sign:before {
  content: "\e101";
}
.glyphicon-gift:before {
  content: "\e102";
}
.glyphicon-leaf:before {
  content: "\e103";
}
.glyphicon-fire:before {
  content: "\e104";
}
.glyphicon-eye-open:before {
  content: "\e105";
}
.glyphicon-eye-close:before {
  content: "\e106";
}
.glyphicon-warning-sign:before {
  content: "\e107";
}
.glyphicon-plane:before {
  content: "\e108";
}
.glyphicon-calendar:before {
  content: "\e109";
}
.glyphicon-random:before {
  content: "\e110";
}
.glyphicon-comment:before {
  content: "\e111";
}
.glyphicon-magnet:before {
  content: "\e112";
}
.glyphicon-chevron-up:before {
  content: "\e113";
}
.glyphicon-chevron-down:before {
  content: "\e114";
}
.glyphicon-retweet:before {
  content: "\e115";
}
.glyphicon-shopping-cart:before {
  content: "\e116";
}
.glyphicon-folder-close:before {
  content: "\e117";
}
.glyphicon-folder-open:before {
  content: "\e118";
}
.glyphicon-resize-vertical:before {
  content: "\e119";
}
.glyphicon-resize-horizontal:before {
  content: "\e120";
}
.glyphicon-hdd:before {
  content: "\e121";
}
.glyphicon-bullhorn:before {
  content: "\e122";
}
.glyphicon-bell:before {
  content: "\e123";
}
.glyphicon-certificate:before {
  content: "\e124";
}
.glyphicon-thumbs-up:before {
  content: "\e125";
}
.glyphicon-thumbs-down:before {
  content: "\e126";
}
.glyphicon-hand-right:before {
  content: "\e127";
}
.glyphicon-hand-left:before {
  content: "\e128";
}
.glyphicon-hand-up:before {
  content: "\e129";
}
.glyphicon-hand-down:before {
  content: "\e130";
}
.glyphicon-circle-arrow-right:before {
  content: "\e131";
}
.glyphicon-circle-arrow-left:before {
  content: "\e132";
}
.glyphicon-circle-arrow-up:before {
  content: "\e133";
}
.glyphicon-circle-arrow-down:before {
  content: "\e134";
}
.glyphicon-globe:before {
  content: "\e135";
}
.glyphicon-wrench:before {
  content: "\e136";
}
.glyphicon-tasks:before {
  content: "\e137";
}
.glyphicon-filter:before {
  content: "\e138";
}
.glyphicon-briefcase:before {
  content: "\e139";
}
.glyphicon-fullscreen:before {
  content: "\e140";
}
.glyphicon-dashboard:before {
  content: "\e141";
}
.glyphicon-paperclip:before {
  content: "\e142";
}
.glyphicon-heart-empty:before {
  content: "\e143";
}
.glyphicon-link:before {
  content: "\e144";
}
.glyphicon-phone:before {
  content: "\e145";
}
.glyphicon-pushpin:before {
  content: "\e146";
}
.glyphicon-usd:before {
  content: "\e148";
}
.glyphicon-gbp:before {
  content: "\e149";
}
.glyphicon-sort:before {
  content: "\e150";
}
.glyphicon-sort-by-alphabet:before {
  content: "\e151";
}
.glyphicon-sort-by-alphabet-alt:before {
  content: "\e152";
}
.glyphicon-sort-by-order:before {
  content: "\e153";
}
.glyphicon-sort-by-order-alt:before {
  content: "\e154";
}
.glyphicon-sort-by-attributes:before {
  content: "\e155";
}
.glyphicon-sort-by-attributes-alt:before {
  content: "\e156";
}
.glyphicon-unchecked:before {
  content: "\e157";
}
.glyphicon-expand:before {
  content: "\e158";
}
.glyphicon-collapse-down:before {
  content: "\e159";
}
.glyphicon-collapse-up:before {
  content: "\e160";
}
.glyphicon-log-in:before {
  content: "\e161";
}
.glyphicon-flash:before {
  content: "\e162";
}
.glyphicon-log-out:before {
  content: "\e163";
}
.glyphicon-new-window:before {
  content: "\e164";
}
.glyphicon-record:before {
  content: "\e165";
}
.glyphicon-save:before {
  content: "\e166";
}
.glyphicon-open:before {
  content: "\e167";
}
.glyphicon-saved:before {
  content: "\e168";
}
.glyphicon-import:before {
  content: "\e169";
}
.glyphicon-export:before {
  content: "\e170";
}
.glyphicon-send:before {
  content: "\e171";
}
.glyphicon-floppy-disk:before {
  content: "\e172";
}
.glyphicon-floppy-saved:before {
  content: "\e173";
}
.glyphicon-floppy-remove:before {
  content: "\e174";
}
.glyphicon-floppy-save:before {
  content: "\e175";
}
.glyphicon-floppy-open:before {
  content: "\e176";
}
.glyphicon-credit-card:before {
  content: "\e177";
}
.glyphicon-transfer:before {
  content: "\e178";
}
.glyphicon-cutlery:before {
  content: "\e179";
}
.glyphicon-header:before {
  content: "\e180";
}
.glyphicon-compressed:before {
  content: "\e181";
}
.glyphicon-earphone:before {
  content: "\e182";
}
.glyphicon-phone-alt:before {
  content: "\e183";
}
.glyphicon-tower:before {
  content: "\e184";
}
.glyphicon-stats:before {
  content: "\e185";
}
.glyphicon-sd-video:before {
  content: "\e186";
}
.glyphicon-hd-video:before {
  content: "\e187";
}
.glyphicon-subtitles:before {
  content: "\e188";
}
.glyphicon-sound-stereo:before {
  content: "\e189";
}
.glyphicon-sound-dolby:before {
  content: "\e190";
}
.glyphicon-sound-5-1:before {
  content: "\e191";
}
.glyphicon-sound-6-1:before {
  content: "\e192";
}
.glyphicon-sound-7-1:before {
  content: "\e193";
}
.glyphicon-copyright-mark:before {
  content: "\e194";
}
.glyphicon-registration-mark:before {
  content: "\e195";
}
.glyphicon-cloud-download:before {
  content: "\e197";
}
.glyphicon-cloud-upload:before {
  content: "\e198";
}
.glyphicon-tree-conifer:before {
  content: "\e199";
}
.glyphicon-tree-deciduous:before {
  content: "\e200";
}
.glyphicon-cd:before {
  content: "\e201";
}
.glyphicon-save-file:before {
  content: "\e202";
}
.glyphicon-open-file:before {
  content: "\e203";
}
.glyphicon-level-up:before {
  content: "\e204";
}
.glyphicon-copy:before {
  content: "\e205";
}
.glyphicon-paste:before {
  content: "\e206";
}
.glyphicon-alert:before {
  content: "\e209";
}
.glyphicon-equalizer:before {
  content: "\e210";
}
.glyphicon-king:before {
  content: "\e211";
}
.glyphicon-queen:before {
  content: "\e212";
}
.glyphicon-pawn:before {
  content: "\e213";
}
.glyphicon-bishop:before {
  content: "\e214";
}
.glyphicon-knight:before {
  content: "\e215";
}
.glyphicon-baby-formula:before {
  content: "\e216";
}
.glyphicon-tent:before {
  content: "\26fa";
}
.glyphicon-blackboard:before {
  content: "\e218";
}
.glyphicon-bed:before {
  content: "\e219";
}
.glyphicon-apple:before {
  content: "\f8ff";
}
.glyphicon-erase:before {
  content: "\e221";
}
.glyphicon-hourglass:before {
  content: "\231b";
}
.glyphicon-lamp:before {
  content: "\e223";
}
.glyphicon-duplicate:before {
  content: "\e224";
}
.glyphicon-piggy-bank:before {
  content: "\e225";
}
.glyphicon-scissors:before {
  content: "\e226";
}
.glyphicon-bitcoin:before {
  content: "\e227";
}
.glyphicon-btc:before {
  content: "\e227";
}
.glyphicon-xbt:before {
  content: "\e227";
}
.glyphicon-yen:before {
  content: "\00a5";
}
.glyphicon-jpy:before {
  content: "\00a5";
}
.glyphicon-ruble:before {
  content: "\20bd";
}
.glyphicon-rub:before {
  content: "\20bd";
}
.glyphicon-scale:before {
  content: "\e230";
}
.glyphicon-ice-lolly:before {
  content: "\e231";
}
.glyphicon-ice-lolly-tasted:before {
  content: "\e232";
}
.glyphicon-education:before {
  content: "\e233";
}
.glyphicon-option-horizontal:before {
  content: "\e234";
}
.glyphicon-option-vertical:before {
  content: "\e235";
}
.glyphicon-menu-hamburger:before {
  content: "\e236";
}
.glyphicon-modal-window:before {
  content: "\e237";
}
.glyphicon-oil:before {
  content: "\e238";
}
.glyphicon-grain:before {
  content: "\e239";
}
.glyphicon-sunglasses:before {
  content: "\e240";
}
.glyphicon-text-size:before {
  content: "\e241";
}
.glyphicon-text-color:before {
  content: "\e242";
}
.glyphicon-text-background:before {
  content: "\e243";
}
.glyphicon-object-align-top:before {
  content: "\e244";
}
.glyphicon-object-align-bottom:before {
  content: "\e245";
}
.glyphicon-object-align-horizontal:before {
  content: "\e246";
}
.glyphicon-object-align-left:before {
  content: "\e247";
}
.glyphicon-object-align-vertical:before {
  content: "\e248";
}
.glyphicon-object-align-right:before {
  content: "\e249";
}
.glyphicon-triangle-right:before {
  content: "\e250";
}
.glyphicon-triangle-left:before {
  content: "\e251";
}
.glyphicon-triangle-bottom:before {
  content: "\e252";
}
.glyphicon-triangle-top:before {
  content: "\e253";
}
.glyphicon-console:before {
  content: "\e254";
}
.glyphicon-superscript:before {
  content: "\e255";
}
.glyphicon-subscript:before {
  content: "\e256";
}
.glyphicon-menu-left:before {
  content: "\e257";
}
.glyphicon-menu-right:before {
  content: "\e258";
}
.glyphicon-menu-down:before {
  content: "\e259";
}
.glyphicon-menu-up:before {
  content: "\e260";
}
* {
  -webkit-box-sizing: border-box;
  -moz-box-sizing: border-box;
  box-sizing: border-box;
}
*:before,
*:after {
  -webkit-box-sizing: border-box;
  -moz-box-sizing: border-box;
  box-sizing: border-box;
}
html {
  font-size: 10px;
  -webkit-tap-highlight-color: rgba(0, 0, 0, 0);
}
body {
  font-family: "Helvetica Neue", Helvetica, Arial, sans-serif;
  font-size: 13px;
  line-height: 1.42857143;
  color: #000;
  background-color: #fff;
}
input,
button,
select,
textarea {
  font-family: inherit;
  font-size: inherit;
  line-height: inherit;
}
a {
  color: #337ab7;
  text-decoration: none;
}
a:hover,
a:focus {
  color: #23527c;
  text-decoration: underline;
}
a:focus {
  outline: thin dotted;
  outline: 5px auto -webkit-focus-ring-color;
  outline-offset: -2px;
}
figure {
  margin: 0;
}
img {
  vertical-align: middle;
}
.img-responsive,
.thumbnail > img,
.thumbnail a > img,
.carousel-inner > .item > img,
.carousel-inner > .item > a > img {
  display: block;
  max-width: 100%;
  height: auto;
}
.img-rounded {
  border-radius: 3px;
}
.img-thumbnail {
  padding: 4px;
  line-height: 1.42857143;
  background-color: #fff;
  border: 1px solid #ddd;
  border-radius: 2px;
  -webkit-transition: all 0.2s ease-in-out;
  -o-transition: all 0.2s ease-in-out;
  transition: all 0.2s ease-in-out;
  display: inline-block;
  max-width: 100%;
  height: auto;
}
.img-circle {
  border-radius: 50%;
}
hr {
  margin-top: 18px;
  margin-bottom: 18px;
  border: 0;
  border-top: 1px solid #eeeeee;
}
.sr-only {
  position: absolute;
  width: 1px;
  height: 1px;
  margin: -1px;
  padding: 0;
  overflow: hidden;
  clip: rect(0, 0, 0, 0);
  border: 0;
}
.sr-only-focusable:active,
.sr-only-focusable:focus {
  position: static;
  width: auto;
  height: auto;
  margin: 0;
  overflow: visible;
  clip: auto;
}
[role="button"] {
  cursor: pointer;
}
h1,
h2,
h3,
h4,
h5,
h6,
.h1,
.h2,
.h3,
.h4,
.h5,
.h6 {
  font-family: inherit;
  font-weight: 500;
  line-height: 1.1;
  color: inherit;
}
h1 small,
h2 small,
h3 small,
h4 small,
h5 small,
h6 small,
.h1 small,
.h2 small,
.h3 small,
.h4 small,
.h5 small,
.h6 small,
h1 .small,
h2 .small,
h3 .small,
h4 .small,
h5 .small,
h6 .small,
.h1 .small,
.h2 .small,
.h3 .small,
.h4 .small,
.h5 .small,
.h6 .small {
  font-weight: normal;
  line-height: 1;
  color: #777777;
}
h1,
.h1,
h2,
.h2,
h3,
.h3 {
  margin-top: 18px;
  margin-bottom: 9px;
}
h1 small,
.h1 small,
h2 small,
.h2 small,
h3 small,
.h3 small,
h1 .small,
.h1 .small,
h2 .small,
.h2 .small,
h3 .small,
.h3 .small {
  font-size: 65%;
}
h4,
.h4,
h5,
.h5,
h6,
.h6 {
  margin-top: 9px;
  margin-bottom: 9px;
}
h4 small,
.h4 small,
h5 small,
.h5 small,
h6 small,
.h6 small,
h4 .small,
.h4 .small,
h5 .small,
.h5 .small,
h6 .small,
.h6 .small {
  font-size: 75%;
}
h1,
.h1 {
  font-size: 33px;
}
h2,
.h2 {
  font-size: 27px;
}
h3,
.h3 {
  font-size: 23px;
}
h4,
.h4 {
  font-size: 17px;
}
h5,
.h5 {
  font-size: 13px;
}
h6,
.h6 {
  font-size: 12px;
}
p {
  margin: 0 0 9px;
}
.lead {
  margin-bottom: 18px;
  font-size: 14px;
  font-weight: 300;
  line-height: 1.4;
}
@media (min-width: 768px) {
  .lead {
    font-size: 19.5px;
  }
}
small,
.small {
  font-size: 92%;
}
mark,
.mark {
  background-color: #fcf8e3;
  padding: .2em;
}
.text-left {
  text-align: left;
}
.text-right {
  text-align: right;
}
.text-center {
  text-align: center;
}
.text-justify {
  text-align: justify;
}
.text-nowrap {
  white-space: nowrap;
}
.text-lowercase {
  text-transform: lowercase;
}
.text-uppercase {
  text-transform: uppercase;
}
.text-capitalize {
  text-transform: capitalize;
}
.text-muted {
  color: #777777;
}
.text-primary {
  color: #337ab7;
}
a.text-primary:hover,
a.text-primary:focus {
  color: #286090;
}
.text-success {
  color: #3c763d;
}
a.text-success:hover,
a.text-success:focus {
  color: #2b542c;
}
.text-info {
  color: #31708f;
}
a.text-info:hover,
a.text-info:focus {
  color: #245269;
}
.text-warning {
  color: #8a6d3b;
}
a.text-warning:hover,
a.text-warning:focus {
  color: #66512c;
}
.text-danger {
  color: #a94442;
}
a.text-danger:hover,
a.text-danger:focus {
  color: #843534;
}
.bg-primary {
  color: #fff;
  background-color: #337ab7;
}
a.bg-primary:hover,
a.bg-primary:focus {
  background-color: #286090;
}
.bg-success {
  background-color: #dff0d8;
}
a.bg-success:hover,
a.bg-success:focus {
  background-color: #c1e2b3;
}
.bg-info {
  background-color: #d9edf7;
}
a.bg-info:hover,
a.bg-info:focus {
  background-color: #afd9ee;
}
.bg-warning {
  background-color: #fcf8e3;
}
a.bg-warning:hover,
a.bg-warning:focus {
  background-color: #f7ecb5;
}
.bg-danger {
  background-color: #f2dede;
}
a.bg-danger:hover,
a.bg-danger:focus {
  background-color: #e4b9b9;
}
.page-header {
  padding-bottom: 8px;
  margin: 36px 0 18px;
  border-bottom: 1px solid #eeeeee;
}
ul,
ol {
  margin-top: 0;
  margin-bottom: 9px;
}
ul ul,
ol ul,
ul ol,
ol ol {
  margin-bottom: 0;
}
.list-unstyled {
  padding-left: 0;
  list-style: none;
}
.list-inline {
  padding-left: 0;
  list-style: none;
  margin-left: -5px;
}
.list-inline > li {
  display: inline-block;
  padding-left: 5px;
  padding-right: 5px;
}
dl {
  margin-top: 0;
  margin-bottom: 18px;
}
dt,
dd {
  line-height: 1.42857143;
}
dt {
  font-weight: bold;
}
dd {
  margin-left: 0;
}
@media (min-width: 541px) {
  .dl-horizontal dt {
    float: left;
    width: 160px;
    clear: left;
    text-align: right;
    overflow: hidden;
    text-overflow: ellipsis;
    white-space: nowrap;
  }
  .dl-horizontal dd {
    margin-left: 180px;
  }
}
abbr[title],
abbr[data-original-title] {
  cursor: help;
  border-bottom: 1px dotted #777777;
}
.initialism {
  font-size: 90%;
  text-transform: uppercase;
}
blockquote {
  padding: 9px 18px;
  margin: 0 0 18px;
  font-size: inherit;
  border-left: 5px solid #eeeeee;
}
blockquote p:last-child,
blockquote ul:last-child,
blockquote ol:last-child {
  margin-bottom: 0;
}
blockquote footer,
blockquote small,
blockquote .small {
  display: block;
  font-size: 80%;
  line-height: 1.42857143;
  color: #777777;
}
blockquote footer:before,
blockquote small:before,
blockquote .small:before {
  content: '\2014 \00A0';
}
.blockquote-reverse,
blockquote.pull-right {
  padding-right: 15px;
  padding-left: 0;
  border-right: 5px solid #eeeeee;
  border-left: 0;
  text-align: right;
}
.blockquote-reverse footer:before,
blockquote.pull-right footer:before,
.blockquote-reverse small:before,
blockquote.pull-right small:before,
.blockquote-reverse .small:before,
blockquote.pull-right .small:before {
  content: '';
}
.blockquote-reverse footer:after,
blockquote.pull-right footer:after,
.blockquote-reverse small:after,
blockquote.pull-right small:after,
.blockquote-reverse .small:after,
blockquote.pull-right .small:after {
  content: '\00A0 \2014';
}
address {
  margin-bottom: 18px;
  font-style: normal;
  line-height: 1.42857143;
}
code,
kbd,
pre,
samp {
  font-family: monospace;
}
code {
  padding: 2px 4px;
  font-size: 90%;
  color: #c7254e;
  background-color: #f9f2f4;
  border-radius: 2px;
}
kbd {
  padding: 2px 4px;
  font-size: 90%;
  color: #888;
  background-color: transparent;
  border-radius: 1px;
  box-shadow: inset 0 -1px 0 rgba(0, 0, 0, 0.25);
}
kbd kbd {
  padding: 0;
  font-size: 100%;
  font-weight: bold;
  box-shadow: none;
}
pre {
  display: block;
  padding: 8.5px;
  margin: 0 0 9px;
  font-size: 12px;
  line-height: 1.42857143;
  word-break: break-all;
  word-wrap: break-word;
  color: #333333;
  background-color: #f5f5f5;
  border: 1px solid #ccc;
  border-radius: 2px;
}
pre code {
  padding: 0;
  font-size: inherit;
  color: inherit;
  white-space: pre-wrap;
  background-color: transparent;
  border-radius: 0;
}
.pre-scrollable {
  max-height: 340px;
  overflow-y: scroll;
}
.container {
  margin-right: auto;
  margin-left: auto;
  padding-left: 0px;
  padding-right: 0px;
}
@media (min-width: 768px) {
  .container {
    width: 768px;
  }
}
@media (min-width: 992px) {
  .container {
    width: 940px;
  }
}
@media (min-width: 1200px) {
  .container {
    width: 1140px;
  }
}
.container-fluid {
  margin-right: auto;
  margin-left: auto;
  padding-left: 0px;
  padding-right: 0px;
}
.row {
  margin-left: 0px;
  margin-right: 0px;
}
.col-xs-1, .col-sm-1, .col-md-1, .col-lg-1, .col-xs-2, .col-sm-2, .col-md-2, .col-lg-2, .col-xs-3, .col-sm-3, .col-md-3, .col-lg-3, .col-xs-4, .col-sm-4, .col-md-4, .col-lg-4, .col-xs-5, .col-sm-5, .col-md-5, .col-lg-5, .col-xs-6, .col-sm-6, .col-md-6, .col-lg-6, .col-xs-7, .col-sm-7, .col-md-7, .col-lg-7, .col-xs-8, .col-sm-8, .col-md-8, .col-lg-8, .col-xs-9, .col-sm-9, .col-md-9, .col-lg-9, .col-xs-10, .col-sm-10, .col-md-10, .col-lg-10, .col-xs-11, .col-sm-11, .col-md-11, .col-lg-11, .col-xs-12, .col-sm-12, .col-md-12, .col-lg-12 {
  position: relative;
  min-height: 1px;
  padding-left: 0px;
  padding-right: 0px;
}
.col-xs-1, .col-xs-2, .col-xs-3, .col-xs-4, .col-xs-5, .col-xs-6, .col-xs-7, .col-xs-8, .col-xs-9, .col-xs-10, .col-xs-11, .col-xs-12 {
  float: left;
}
.col-xs-12 {
  width: 100%;
}
.col-xs-11 {
  width: 91.66666667%;
}
.col-xs-10 {
  width: 83.33333333%;
}
.col-xs-9 {
  width: 75%;
}
.col-xs-8 {
  width: 66.66666667%;
}
.col-xs-7 {
  width: 58.33333333%;
}
.col-xs-6 {
  width: 50%;
}
.col-xs-5 {
  width: 41.66666667%;
}
.col-xs-4 {
  width: 33.33333333%;
}
.col-xs-3 {
  width: 25%;
}
.col-xs-2 {
  width: 16.66666667%;
}
.col-xs-1 {
  width: 8.33333333%;
}
.col-xs-pull-12 {
  right: 100%;
}
.col-xs-pull-11 {
  right: 91.66666667%;
}
.col-xs-pull-10 {
  right: 83.33333333%;
}
.col-xs-pull-9 {
  right: 75%;
}
.col-xs-pull-8 {
  right: 66.66666667%;
}
.col-xs-pull-7 {
  right: 58.33333333%;
}
.col-xs-pull-6 {
  right: 50%;
}
.col-xs-pull-5 {
  right: 41.66666667%;
}
.col-xs-pull-4 {
  right: 33.33333333%;
}
.col-xs-pull-3 {
  right: 25%;
}
.col-xs-pull-2 {
  right: 16.66666667%;
}
.col-xs-pull-1 {
  right: 8.33333333%;
}
.col-xs-pull-0 {
  right: auto;
}
.col-xs-push-12 {
  left: 100%;
}
.col-xs-push-11 {
  left: 91.66666667%;
}
.col-xs-push-10 {
  left: 83.33333333%;
}
.col-xs-push-9 {
  left: 75%;
}
.col-xs-push-8 {
  left: 66.66666667%;
}
.col-xs-push-7 {
  left: 58.33333333%;
}
.col-xs-push-6 {
  left: 50%;
}
.col-xs-push-5 {
  left: 41.66666667%;
}
.col-xs-push-4 {
  left: 33.33333333%;
}
.col-xs-push-3 {
  left: 25%;
}
.col-xs-push-2 {
  left: 16.66666667%;
}
.col-xs-push-1 {
  left: 8.33333333%;
}
.col-xs-push-0 {
  left: auto;
}
.col-xs-offset-12 {
  margin-left: 100%;
}
.col-xs-offset-11 {
  margin-left: 91.66666667%;
}
.col-xs-offset-10 {
  margin-left: 83.33333333%;
}
.col-xs-offset-9 {
  margin-left: 75%;
}
.col-xs-offset-8 {
  margin-left: 66.66666667%;
}
.col-xs-offset-7 {
  margin-left: 58.33333333%;
}
.col-xs-offset-6 {
  margin-left: 50%;
}
.col-xs-offset-5 {
  margin-left: 41.66666667%;
}
.col-xs-offset-4 {
  margin-left: 33.33333333%;
}
.col-xs-offset-3 {
  margin-left: 25%;
}
.col-xs-offset-2 {
  margin-left: 16.66666667%;
}
.col-xs-offset-1 {
  margin-left: 8.33333333%;
}
.col-xs-offset-0 {
  margin-left: 0%;
}
@media (min-width: 768px) {
  .col-sm-1, .col-sm-2, .col-sm-3, .col-sm-4, .col-sm-5, .col-sm-6, .col-sm-7, .col-sm-8, .col-sm-9, .col-sm-10, .col-sm-11, .col-sm-12 {
    float: left;
  }
  .col-sm-12 {
    width: 100%;
  }
  .col-sm-11 {
    width: 91.66666667%;
  }
  .col-sm-10 {
    width: 83.33333333%;
  }
  .col-sm-9 {
    width: 75%;
  }
  .col-sm-8 {
    width: 66.66666667%;
  }
  .col-sm-7 {
    width: 58.33333333%;
  }
  .col-sm-6 {
    width: 50%;
  }
  .col-sm-5 {
    width: 41.66666667%;
  }
  .col-sm-4 {
    width: 33.33333333%;
  }
  .col-sm-3 {
    width: 25%;
  }
  .col-sm-2 {
    width: 16.66666667%;
  }
  .col-sm-1 {
    width: 8.33333333%;
  }
  .col-sm-pull-12 {
    right: 100%;
  }
  .col-sm-pull-11 {
    right: 91.66666667%;
  }
  .col-sm-pull-10 {
    right: 83.33333333%;
  }
  .col-sm-pull-9 {
    right: 75%;
  }
  .col-sm-pull-8 {
    right: 66.66666667%;
  }
  .col-sm-pull-7 {
    right: 58.33333333%;
  }
  .col-sm-pull-6 {
    right: 50%;
  }
  .col-sm-pull-5 {
    right: 41.66666667%;
  }
  .col-sm-pull-4 {
    right: 33.33333333%;
  }
  .col-sm-pull-3 {
    right: 25%;
  }
  .col-sm-pull-2 {
    right: 16.66666667%;
  }
  .col-sm-pull-1 {
    right: 8.33333333%;
  }
  .col-sm-pull-0 {
    right: auto;
  }
  .col-sm-push-12 {
    left: 100%;
  }
  .col-sm-push-11 {
    left: 91.66666667%;
  }
  .col-sm-push-10 {
    left: 83.33333333%;
  }
  .col-sm-push-9 {
    left: 75%;
  }
  .col-sm-push-8 {
    left: 66.66666667%;
  }
  .col-sm-push-7 {
    left: 58.33333333%;
  }
  .col-sm-push-6 {
    left: 50%;
  }
  .col-sm-push-5 {
    left: 41.66666667%;
  }
  .col-sm-push-4 {
    left: 33.33333333%;
  }
  .col-sm-push-3 {
    left: 25%;
  }
  .col-sm-push-2 {
    left: 16.66666667%;
  }
  .col-sm-push-1 {
    left: 8.33333333%;
  }
  .col-sm-push-0 {
    left: auto;
  }
  .col-sm-offset-12 {
    margin-left: 100%;
  }
  .col-sm-offset-11 {
    margin-left: 91.66666667%;
  }
  .col-sm-offset-10 {
    margin-left: 83.33333333%;
  }
  .col-sm-offset-9 {
    margin-left: 75%;
  }
  .col-sm-offset-8 {
    margin-left: 66.66666667%;
  }
  .col-sm-offset-7 {
    margin-left: 58.33333333%;
  }
  .col-sm-offset-6 {
    margin-left: 50%;
  }
  .col-sm-offset-5 {
    margin-left: 41.66666667%;
  }
  .col-sm-offset-4 {
    margin-left: 33.33333333%;
  }
  .col-sm-offset-3 {
    margin-left: 25%;
  }
  .col-sm-offset-2 {
    margin-left: 16.66666667%;
  }
  .col-sm-offset-1 {
    margin-left: 8.33333333%;
  }
  .col-sm-offset-0 {
    margin-left: 0%;
  }
}
@media (min-width: 992px) {
  .col-md-1, .col-md-2, .col-md-3, .col-md-4, .col-md-5, .col-md-6, .col-md-7, .col-md-8, .col-md-9, .col-md-10, .col-md-11, .col-md-12 {
    float: left;
  }
  .col-md-12 {
    width: 100%;
  }
  .col-md-11 {
    width: 91.66666667%;
  }
  .col-md-10 {
    width: 83.33333333%;
  }
  .col-md-9 {
    width: 75%;
  }
  .col-md-8 {
    width: 66.66666667%;
  }
  .col-md-7 {
    width: 58.33333333%;
  }
  .col-md-6 {
    width: 50%;
  }
  .col-md-5 {
    width: 41.66666667%;
  }
  .col-md-4 {
    width: 33.33333333%;
  }
  .col-md-3 {
    width: 25%;
  }
  .col-md-2 {
    width: 16.66666667%;
  }
  .col-md-1 {
    width: 8.33333333%;
  }
  .col-md-pull-12 {
    right: 100%;
  }
  .col-md-pull-11 {
    right: 91.66666667%;
  }
  .col-md-pull-10 {
    right: 83.33333333%;
  }
  .col-md-pull-9 {
    right: 75%;
  }
  .col-md-pull-8 {
    right: 66.66666667%;
  }
  .col-md-pull-7 {
    right: 58.33333333%;
  }
  .col-md-pull-6 {
    right: 50%;
  }
  .col-md-pull-5 {
    right: 41.66666667%;
  }
  .col-md-pull-4 {
    right: 33.33333333%;
  }
  .col-md-pull-3 {
    right: 25%;
  }
  .col-md-pull-2 {
    right: 16.66666667%;
  }
  .col-md-pull-1 {
    right: 8.33333333%;
  }
  .col-md-pull-0 {
    right: auto;
  }
  .col-md-push-12 {
    left: 100%;
  }
  .col-md-push-11 {
    left: 91.66666667%;
  }
  .col-md-push-10 {
    left: 83.33333333%;
  }
  .col-md-push-9 {
    left: 75%;
  }
  .col-md-push-8 {
    left: 66.66666667%;
  }
  .col-md-push-7 {
    left: 58.33333333%;
  }
  .col-md-push-6 {
    left: 50%;
  }
  .col-md-push-5 {
    left: 41.66666667%;
  }
  .col-md-push-4 {
    left: 33.33333333%;
  }
  .col-md-push-3 {
    left: 25%;
  }
  .col-md-push-2 {
    left: 16.66666667%;
  }
  .col-md-push-1 {
    left: 8.33333333%;
  }
  .col-md-push-0 {
    left: auto;
  }
  .col-md-offset-12 {
    margin-left: 100%;
  }
  .col-md-offset-11 {
    margin-left: 91.66666667%;
  }
  .col-md-offset-10 {
    margin-left: 83.33333333%;
  }
  .col-md-offset-9 {
    margin-left: 75%;
  }
  .col-md-offset-8 {
    margin-left: 66.66666667%;
  }
  .col-md-offset-7 {
    margin-left: 58.33333333%;
  }
  .col-md-offset-6 {
    margin-left: 50%;
  }
  .col-md-offset-5 {
    margin-left: 41.66666667%;
  }
  .col-md-offset-4 {
    margin-left: 33.33333333%;
  }
  .col-md-offset-3 {
    margin-left: 25%;
  }
  .col-md-offset-2 {
    margin-left: 16.66666667%;
  }
  .col-md-offset-1 {
    margin-left: 8.33333333%;
  }
  .col-md-offset-0 {
    margin-left: 0%;
  }
}
@media (min-width: 1200px) {
  .col-lg-1, .col-lg-2, .col-lg-3, .col-lg-4, .col-lg-5, .col-lg-6, .col-lg-7, .col-lg-8, .col-lg-9, .col-lg-10, .col-lg-11, .col-lg-12 {
    float: left;
  }
  .col-lg-12 {
    width: 100%;
  }
  .col-lg-11 {
    width: 91.66666667%;
  }
  .col-lg-10 {
    width: 83.33333333%;
  }
  .col-lg-9 {
    width: 75%;
  }
  .col-lg-8 {
    width: 66.66666667%;
  }
  .col-lg-7 {
    width: 58.33333333%;
  }
  .col-lg-6 {
    width: 50%;
  }
  .col-lg-5 {
    width: 41.66666667%;
  }
  .col-lg-4 {
    width: 33.33333333%;
  }
  .col-lg-3 {
    width: 25%;
  }
  .col-lg-2 {
    width: 16.66666667%;
  }
  .col-lg-1 {
    width: 8.33333333%;
  }
  .col-lg-pull-12 {
    right: 100%;
  }
  .col-lg-pull-11 {
    right: 91.66666667%;
  }
  .col-lg-pull-10 {
    right: 83.33333333%;
  }
  .col-lg-pull-9 {
    right: 75%;
  }
  .col-lg-pull-8 {
    right: 66.66666667%;
  }
  .col-lg-pull-7 {
    right: 58.33333333%;
  }
  .col-lg-pull-6 {
    right: 50%;
  }
  .col-lg-pull-5 {
    right: 41.66666667%;
  }
  .col-lg-pull-4 {
    right: 33.33333333%;
  }
  .col-lg-pull-3 {
    right: 25%;
  }
  .col-lg-pull-2 {
    right: 16.66666667%;
  }
  .col-lg-pull-1 {
    right: 8.33333333%;
  }
  .col-lg-pull-0 {
    right: auto;
  }
  .col-lg-push-12 {
    left: 100%;
  }
  .col-lg-push-11 {
    left: 91.66666667%;
  }
  .col-lg-push-10 {
    left: 83.33333333%;
  }
  .col-lg-push-9 {
    left: 75%;
  }
  .col-lg-push-8 {
    left: 66.66666667%;
  }
  .col-lg-push-7 {
    left: 58.33333333%;
  }
  .col-lg-push-6 {
    left: 50%;
  }
  .col-lg-push-5 {
    left: 41.66666667%;
  }
  .col-lg-push-4 {
    left: 33.33333333%;
  }
  .col-lg-push-3 {
    left: 25%;
  }
  .col-lg-push-2 {
    left: 16.66666667%;
  }
  .col-lg-push-1 {
    left: 8.33333333%;
  }
  .col-lg-push-0 {
    left: auto;
  }
  .col-lg-offset-12 {
    margin-left: 100%;
  }
  .col-lg-offset-11 {
    margin-left: 91.66666667%;
  }
  .col-lg-offset-10 {
    margin-left: 83.33333333%;
  }
  .col-lg-offset-9 {
    margin-left: 75%;
  }
  .col-lg-offset-8 {
    margin-left: 66.66666667%;
  }
  .col-lg-offset-7 {
    margin-left: 58.33333333%;
  }
  .col-lg-offset-6 {
    margin-left: 50%;
  }
  .col-lg-offset-5 {
    margin-left: 41.66666667%;
  }
  .col-lg-offset-4 {
    margin-left: 33.33333333%;
  }
  .col-lg-offset-3 {
    margin-left: 25%;
  }
  .col-lg-offset-2 {
    margin-left: 16.66666667%;
  }
  .col-lg-offset-1 {
    margin-left: 8.33333333%;
  }
  .col-lg-offset-0 {
    margin-left: 0%;
  }
}
table {
  background-color: transparent;
}
caption {
  padding-top: 8px;
  padding-bottom: 8px;
  color: #777777;
  text-align: left;
}
th {
  text-align: left;
}
.table {
  width: 100%;
  max-width: 100%;
  margin-bottom: 18px;
}
.table > thead > tr > th,
.table > tbody > tr > th,
.table > tfoot > tr > th,
.table > thead > tr > td,
.table > tbody > tr > td,
.table > tfoot > tr > td {
  padding: 8px;
  line-height: 1.42857143;
  vertical-align: top;
  border-top: 1px solid #ddd;
}
.table > thead > tr > th {
  vertical-align: bottom;
  border-bottom: 2px solid #ddd;
}
.table > caption + thead > tr:first-child > th,
.table > colgroup + thead > tr:first-child > th,
.table > thead:first-child > tr:first-child > th,
.table > caption + thead > tr:first-child > td,
.table > colgroup + thead > tr:first-child > td,
.table > thead:first-child > tr:first-child > td {
  border-top: 0;
}
.table > tbody + tbody {
  border-top: 2px solid #ddd;
}
.table .table {
  background-color: #fff;
}
.table-condensed > thead > tr > th,
.table-condensed > tbody > tr > th,
.table-condensed > tfoot > tr > th,
.table-condensed > thead > tr > td,
.table-condensed > tbody > tr > td,
.table-condensed > tfoot > tr > td {
  padding: 5px;
}
.table-bordered {
  border: 1px solid #ddd;
}
.table-bordered > thead > tr > th,
.table-bordered > tbody > tr > th,
.table-bordered > tfoot > tr > th,
.table-bordered > thead > tr > td,
.table-bordered > tbody > tr > td,
.table-bordered > tfoot > tr > td {
  border: 1px solid #ddd;
}
.table-bordered > thead > tr > th,
.table-bordered > thead > tr > td {
  border-bottom-width: 2px;
}
.table-striped > tbody > tr:nth-of-type(odd) {
  background-color: #f9f9f9;
}
.table-hover > tbody > tr:hover {
  background-color: #f5f5f5;
}
table col[class*="col-"] {
  position: static;
  float: none;
  display: table-column;
}
table td[class*="col-"],
table th[class*="col-"] {
  position: static;
  float: none;
  display: table-cell;
}
.table > thead > tr > td.active,
.table > tbody > tr > td.active,
.table > tfoot > tr > td.active,
.table > thead > tr > th.active,
.table > tbody > tr > th.active,
.table > tfoot > tr > th.active,
.table > thead > tr.active > td,
.table > tbody > tr.active > td,
.table > tfoot > tr.active > td,
.table > thead > tr.active > th,
.table > tbody > tr.active > th,
.table > tfoot > tr.active > th {
  background-color: #f5f5f5;
}
.table-hover > tbody > tr > td.active:hover,
.table-hover > tbody > tr > th.active:hover,
.table-hover > tbody > tr.active:hover > td,
.table-hover > tbody > tr:hover > .active,
.table-hover > tbody > tr.active:hover > th {
  background-color: #e8e8e8;
}
.table > thead > tr > td.success,
.table > tbody > tr > td.success,
.table > tfoot > tr > td.success,
.table > thead > tr > th.success,
.table > tbody > tr > th.success,
.table > tfoot > tr > th.success,
.table > thead > tr.success > td,
.table > tbody > tr.success > td,
.table > tfoot > tr.success > td,
.table > thead > tr.success > th,
.table > tbody > tr.success > th,
.table > tfoot > tr.success > th {
  background-color: #dff0d8;
}
.table-hover > tbody > tr > td.success:hover,
.table-hover > tbody > tr > th.success:hover,
.table-hover > tbody > tr.success:hover > td,
.table-hover > tbody > tr:hover > .success,
.table-hover > tbody > tr.success:hover > th {
  background-color: #d0e9c6;
}
.table > thead > tr > td.info,
.table > tbody > tr > td.info,
.table > tfoot > tr > td.info,
.table > thead > tr > th.info,
.table > tbody > tr > th.info,
.table > tfoot > tr > th.info,
.table > thead > tr.info > td,
.table > tbody > tr.info > td,
.table > tfoot > tr.info > td,
.table > thead > tr.info > th,
.table > tbody > tr.info > th,
.table > tfoot > tr.info > th {
  background-color: #d9edf7;
}
.table-hover > tbody > tr > td.info:hover,
.table-hover > tbody > tr > th.info:hover,
.table-hover > tbody > tr.info:hover > td,
.table-hover > tbody > tr:hover > .info,
.table-hover > tbody > tr.info:hover > th {
  background-color: #c4e3f3;
}
.table > thead > tr > td.warning,
.table > tbody > tr > td.warning,
.table > tfoot > tr > td.warning,
.table > thead > tr > th.warning,
.table > tbody > tr > th.warning,
.table > tfoot > tr > th.warning,
.table > thead > tr.warning > td,
.table > tbody > tr.warning > td,
.table > tfoot > tr.warning > td,
.table > thead > tr.warning > th,
.table > tbody > tr.warning > th,
.table > tfoot > tr.warning > th {
  background-color: #fcf8e3;
}
.table-hover > tbody > tr > td.warning:hover,
.table-hover > tbody > tr > th.warning:hover,
.table-hover > tbody > tr.warning:hover > td,
.table-hover > tbody > tr:hover > .warning,
.table-hover > tbody > tr.warning:hover > th {
  background-color: #faf2cc;
}
.table > thead > tr > td.danger,
.table > tbody > tr > td.danger,
.table > tfoot > tr > td.danger,
.table > thead > tr > th.danger,
.table > tbody > tr > th.danger,
.table > tfoot > tr > th.danger,
.table > thead > tr.danger > td,
.table > tbody > tr.danger > td,
.table > tfoot > tr.danger > td,
.table > thead > tr.danger > th,
.table > tbody > tr.danger > th,
.table > tfoot > tr.danger > th {
  background-color: #f2dede;
}
.table-hover > tbody > tr > td.danger:hover,
.table-hover > tbody > tr > th.danger:hover,
.table-hover > tbody > tr.danger:hover > td,
.table-hover > tbody > tr:hover > .danger,
.table-hover > tbody > tr.danger:hover > th {
  background-color: #ebcccc;
}
.table-responsive {
  overflow-x: auto;
  min-height: 0.01%;
}
@media screen and (max-width: 767px) {
  .table-responsive {
    width: 100%;
    margin-bottom: 13.5px;
    overflow-y: hidden;
    -ms-overflow-style: -ms-autohiding-scrollbar;
    border: 1px solid #ddd;
  }
  .table-responsive > .table {
    margin-bottom: 0;
  }
  .table-responsive > .table > thead > tr > th,
  .table-responsive > .table > tbody > tr > th,
  .table-responsive > .table > tfoot > tr > th,
  .table-responsive > .table > thead > tr > td,
  .table-responsive > .table > tbody > tr > td,
  .table-responsive > .table > tfoot > tr > td {
    white-space: nowrap;
  }
  .table-responsive > .table-bordered {
    border: 0;
  }
  .table-responsive > .table-bordered > thead > tr > th:first-child,
  .table-responsive > .table-bordered > tbody > tr > th:first-child,
  .table-responsive > .table-bordered > tfoot > tr > th:first-child,
  .table-responsive > .table-bordered > thead > tr > td:first-child,
  .table-responsive > .table-bordered > tbody > tr > td:first-child,
  .table-responsive > .table-bordered > tfoot > tr > td:first-child {
    border-left: 0;
  }
  .table-responsive > .table-bordered > thead > tr > th:last-child,
  .table-responsive > .table-bordered > tbody > tr > th:last-child,
  .table-responsive > .table-bordered > tfoot > tr > th:last-child,
  .table-responsive > .table-bordered > thead > tr > td:last-child,
  .table-responsive > .table-bordered > tbody > tr > td:last-child,
  .table-responsive > .table-bordered > tfoot > tr > td:last-child {
    border-right: 0;
  }
  .table-responsive > .table-bordered > tbody > tr:last-child > th,
  .table-responsive > .table-bordered > tfoot > tr:last-child > th,
  .table-responsive > .table-bordered > tbody > tr:last-child > td,
  .table-responsive > .table-bordered > tfoot > tr:last-child > td {
    border-bottom: 0;
  }
}
fieldset {
  padding: 0;
  margin: 0;
  border: 0;
  min-width: 0;
}
legend {
  display: block;
  width: 100%;
  padding: 0;
  margin-bottom: 18px;
  font-size: 19.5px;
  line-height: inherit;
  color: #333333;
  border: 0;
  border-bottom: 1px solid #e5e5e5;
}
label {
  display: inline-block;
  max-width: 100%;
  margin-bottom: 5px;
  font-weight: bold;
}
input[type="search"] {
  -webkit-box-sizing: border-box;
  -moz-box-sizing: border-box;
  box-sizing: border-box;
}
input[type="radio"],
input[type="checkbox"] {
  margin: 4px 0 0;
  margin-top: 1px \9;
  line-height: normal;
}
input[type="file"] {
  display: block;
}
input[type="range"] {
  display: block;
  width: 100%;
}
select[multiple],
select[size] {
  height: auto;
}
input[type="file"]:focus,
input[type="radio"]:focus,
input[type="checkbox"]:focus {
  outline: thin dotted;
  outline: 5px auto -webkit-focus-ring-color;
  outline-offset: -2px;
}
output {
  display: block;
  padding-top: 7px;
  font-size: 13px;
  line-height: 1.42857143;
  color: #555555;
}
.form-control {
  display: block;
  width: 100%;
  height: 32px;
  padding: 6px 12px;
  font-size: 13px;
  line-height: 1.42857143;
  color: #555555;
  background-color: #fff;
  background-image: none;
  border: 1px solid #ccc;
  border-radius: 2px;
  -webkit-box-shadow: inset 0 1px 1px rgba(0, 0, 0, 0.075);
  box-shadow: inset 0 1px 1px rgba(0, 0, 0, 0.075);
  -webkit-transition: border-color ease-in-out .15s, box-shadow ease-in-out .15s;
  -o-transition: border-color ease-in-out .15s, box-shadow ease-in-out .15s;
  transition: border-color ease-in-out .15s, box-shadow ease-in-out .15s;
}
.form-control:focus {
  border-color: #66afe9;
  outline: 0;
  -webkit-box-shadow: inset 0 1px 1px rgba(0,0,0,.075), 0 0 8px rgba(102, 175, 233, 0.6);
  box-shadow: inset 0 1px 1px rgba(0,0,0,.075), 0 0 8px rgba(102, 175, 233, 0.6);
}
.form-control::-moz-placeholder {
  color: #999;
  opacity: 1;
}
.form-control:-ms-input-placeholder {
  color: #999;
}
.form-control::-webkit-input-placeholder {
  color: #999;
}
.form-control::-ms-expand {
  border: 0;
  background-color: transparent;
}
.form-control[disabled],
.form-control[readonly],
fieldset[disabled] .form-control {
  background-color: #eeeeee;
  opacity: 1;
}
.form-control[disabled],
fieldset[disabled] .form-control {
  cursor: not-allowed;
}
textarea.form-control {
  height: auto;
}
input[type="search"] {
  -webkit-appearance: none;
}
@media screen and (-webkit-min-device-pixel-ratio: 0) {
  input[type="date"].form-control,
  input[type="time"].form-control,
  input[type="datetime-local"].form-control,
  input[type="month"].form-control {
    line-height: 32px;
  }
  input[type="date"].input-sm,
  input[type="time"].input-sm,
  input[type="datetime-local"].input-sm,
  input[type="month"].input-sm,
  .input-group-sm input[type="date"],
  .input-group-sm input[type="time"],
  .input-group-sm input[type="datetime-local"],
  .input-group-sm input[type="month"] {
    line-height: 30px;
  }
  input[type="date"].input-lg,
  input[type="time"].input-lg,
  input[type="datetime-local"].input-lg,
  input[type="month"].input-lg,
  .input-group-lg input[type="date"],
  .input-group-lg input[type="time"],
  .input-group-lg input[type="datetime-local"],
  .input-group-lg input[type="month"] {
    line-height: 45px;
  }
}
.form-group {
  margin-bottom: 15px;
}
.radio,
.checkbox {
  position: relative;
  display: block;
  margin-top: 10px;
  margin-bottom: 10px;
}
.radio label,
.checkbox label {
  min-height: 18px;
  padding-left: 20px;
  margin-bottom: 0;
  font-weight: normal;
  cursor: pointer;
}
.radio input[type="radio"],
.radio-inline input[type="radio"],
.checkbox input[type="checkbox"],
.checkbox-inline input[type="checkbox"] {
  position: absolute;
  margin-left: -20px;
  margin-top: 4px \9;
}
.radio + .radio,
.checkbox + .checkbox {
  margin-top: -5px;
}
.radio-inline,
.checkbox-inline {
  position: relative;
  display: inline-block;
  padding-left: 20px;
  margin-bottom: 0;
  vertical-align: middle;
  font-weight: normal;
  cursor: pointer;
}
.radio-inline + .radio-inline,
.checkbox-inline + .checkbox-inline {
  margin-top: 0;
  margin-left: 10px;
}
input[type="radio"][disabled],
input[type="checkbox"][disabled],
input[type="radio"].disabled,
input[type="checkbox"].disabled,
fieldset[disabled] input[type="radio"],
fieldset[disabled] input[type="checkbox"] {
  cursor: not-allowed;
}
.radio-inline.disabled,
.checkbox-inline.disabled,
fieldset[disabled] .radio-inline,
fieldset[disabled] .checkbox-inline {
  cursor: not-allowed;
}
.radio.disabled label,
.checkbox.disabled label,
fieldset[disabled] .radio label,
fieldset[disabled] .checkbox label {
  cursor: not-allowed;
}
.form-control-static {
  padding-top: 7px;
  padding-bottom: 7px;
  margin-bottom: 0;
  min-height: 31px;
}
.form-control-static.input-lg,
.form-control-static.input-sm {
  padding-left: 0;
  padding-right: 0;
}
.input-sm {
  height: 30px;
  padding: 5px 10px;
  font-size: 12px;
  line-height: 1.5;
  border-radius: 1px;
}
select.input-sm {
  height: 30px;
  line-height: 30px;
}
textarea.input-sm,
select[multiple].input-sm {
  height: auto;
}
.form-group-sm .form-control {
  height: 30px;
  padding: 5px 10px;
  font-size: 12px;
  line-height: 1.5;
  border-radius: 1px;
}
.form-group-sm select.form-control {
  height: 30px;
  line-height: 30px;
}
.form-group-sm textarea.form-control,
.form-group-sm select[multiple].form-control {
  height: auto;
}
.form-group-sm .form-control-static {
  height: 30px;
  min-height: 30px;
  padding: 6px 10px;
  font-size: 12px;
  line-height: 1.5;
}
.input-lg {
  height: 45px;
  padding: 10px 16px;
  font-size: 17px;
  line-height: 1.3333333;
  border-radius: 3px;
}
select.input-lg {
  height: 45px;
  line-height: 45px;
}
textarea.input-lg,
select[multiple].input-lg {
  height: auto;
}
.form-group-lg .form-control {
  height: 45px;
  padding: 10px 16px;
  font-size: 17px;
  line-height: 1.3333333;
  border-radius: 3px;
}
.form-group-lg select.form-control {
  height: 45px;
  line-height: 45px;
}
.form-group-lg textarea.form-control,
.form-group-lg select[multiple].form-control {
  height: auto;
}
.form-group-lg .form-control-static {
  height: 45px;
  min-height: 35px;
  padding: 11px 16px;
  font-size: 17px;
  line-height: 1.3333333;
}
.has-feedback {
  position: relative;
}
.has-feedback .form-control {
  padding-right: 40px;
}
.form-control-feedback {
  position: absolute;
  top: 0;
  right: 0;
  z-index: 2;
  display: block;
  width: 32px;
  height: 32px;
  line-height: 32px;
  text-align: center;
  pointer-events: none;
}
.input-lg + .form-control-feedback,
.input-group-lg + .form-control-feedback,
.form-group-lg .form-control + .form-control-feedback {
  width: 45px;
  height: 45px;
  line-height: 45px;
}
.input-sm + .form-control-feedback,
.input-group-sm + .form-control-feedback,
.form-group-sm .form-control + .form-control-feedback {
  width: 30px;
  height: 30px;
  line-height: 30px;
}
.has-success .help-block,
.has-success .control-label,
.has-success .radio,
.has-success .checkbox,
.has-success .radio-inline,
.has-success .checkbox-inline,
.has-success.radio label,
.has-success.checkbox label,
.has-success.radio-inline label,
.has-success.checkbox-inline label {
  color: #3c763d;
}
.has-success .form-control {
  border-color: #3c763d;
  -webkit-box-shadow: inset 0 1px 1px rgba(0, 0, 0, 0.075);
  box-shadow: inset 0 1px 1px rgba(0, 0, 0, 0.075);
}
.has-success .form-control:focus {
  border-color: #2b542c;
  -webkit-box-shadow: inset 0 1px 1px rgba(0, 0, 0, 0.075), 0 0 6px #67b168;
  box-shadow: inset 0 1px 1px rgba(0, 0, 0, 0.075), 0 0 6px #67b168;
}
.has-success .input-group-addon {
  color: #3c763d;
  border-color: #3c763d;
  background-color: #dff0d8;
}
.has-success .form-control-feedback {
  color: #3c763d;
}
.has-warning .help-block,
.has-warning .control-label,
.has-warning .radio,
.has-warning .checkbox,
.has-warning .radio-inline,
.has-warning .checkbox-inline,
.has-warning.radio label,
.has-warning.checkbox label,
.has-warning.radio-inline label,
.has-warning.checkbox-inline label {
  color: #8a6d3b;
}
.has-warning .form-control {
  border-color: #8a6d3b;
  -webkit-box-shadow: inset 0 1px 1px rgba(0, 0, 0, 0.075);
  box-shadow: inset 0 1px 1px rgba(0, 0, 0, 0.075);
}
.has-warning .form-control:focus {
  border-color: #66512c;
  -webkit-box-shadow: inset 0 1px 1px rgba(0, 0, 0, 0.075), 0 0 6px #c0a16b;
  box-shadow: inset 0 1px 1px rgba(0, 0, 0, 0.075), 0 0 6px #c0a16b;
}
.has-warning .input-group-addon {
  color: #8a6d3b;
  border-color: #8a6d3b;
  background-color: #fcf8e3;
}
.has-warning .form-control-feedback {
  color: #8a6d3b;
}
.has-error .help-block,
.has-error .control-label,
.has-error .radio,
.has-error .checkbox,
.has-error .radio-inline,
.has-error .checkbox-inline,
.has-error.radio label,
.has-error.checkbox label,
.has-error.radio-inline label,
.has-error.checkbox-inline label {
  color: #a94442;
}
.has-error .form-control {
  border-color: #a94442;
  -webkit-box-shadow: inset 0 1px 1px rgba(0, 0, 0, 0.075);
  box-shadow: inset 0 1px 1px rgba(0, 0, 0, 0.075);
}
.has-error .form-control:focus {
  border-color: #843534;
  -webkit-box-shadow: inset 0 1px 1px rgba(0, 0, 0, 0.075), 0 0 6px #ce8483;
  box-shadow: inset 0 1px 1px rgba(0, 0, 0, 0.075), 0 0 6px #ce8483;
}
.has-error .input-group-addon {
  color: #a94442;
  border-color: #a94442;
  background-color: #f2dede;
}
.has-error .form-control-feedback {
  color: #a94442;
}
.has-feedback label ~ .form-control-feedback {
  top: 23px;
}
.has-feedback label.sr-only ~ .form-control-feedback {
  top: 0;
}
.help-block {
  display: block;
  margin-top: 5px;
  margin-bottom: 10px;
  color: #404040;
}
@media (min-width: 768px) {
  .form-inline .form-group {
    display: inline-block;
    margin-bottom: 0;
    vertical-align: middle;
  }
  .form-inline .form-control {
    display: inline-block;
    width: auto;
    vertical-align: middle;
  }
  .form-inline .form-control-static {
    display: inline-block;
  }
  .form-inline .input-group {
    display: inline-table;
    vertical-align: middle;
  }
  .form-inline .input-group .input-group-addon,
  .form-inline .input-group .input-group-btn,
  .form-inline .input-group .form-control {
    width: auto;
  }
  .form-inline .input-group > .form-control {
    width: 100%;
  }
  .form-inline .control-label {
    margin-bottom: 0;
    vertical-align: middle;
  }
  .form-inline .radio,
  .form-inline .checkbox {
    display: inline-block;
    margin-top: 0;
    margin-bottom: 0;
    vertical-align: middle;
  }
  .form-inline .radio label,
  .form-inline .checkbox label {
    padding-left: 0;
  }
  .form-inline .radio input[type="radio"],
  .form-inline .checkbox input[type="checkbox"] {
    position: relative;
    margin-left: 0;
  }
  .form-inline .has-feedback .form-control-feedback {
    top: 0;
  }
}
.form-horizontal .radio,
.form-horizontal .checkbox,
.form-horizontal .radio-inline,
.form-horizontal .checkbox-inline {
  margin-top: 0;
  margin-bottom: 0;
  padding-top: 7px;
}
.form-horizontal .radio,
.form-horizontal .checkbox {
  min-height: 25px;
}
.form-horizontal .form-group {
  margin-left: 0px;
  margin-right: 0px;
}
@media (min-width: 768px) {
  .form-horizontal .control-label {
    text-align: right;
    margin-bottom: 0;
    padding-top: 7px;
  }
}
.form-horizontal .has-feedback .form-control-feedback {
  right: 0px;
}
@media (min-width: 768px) {
  .form-horizontal .form-group-lg .control-label {
    padding-top: 11px;
    font-size: 17px;
  }
}
@media (min-width: 768px) {
  .form-horizontal .form-group-sm .control-label {
    padding-top: 6px;
    font-size: 12px;
  }
}
.btn {
  display: inline-block;
  margin-bottom: 0;
  font-weight: normal;
  text-align: center;
  vertical-align: middle;
  touch-action: manipulation;
  cursor: pointer;
  background-image: none;
  border: 1px solid transparent;
  white-space: nowrap;
  padding: 6px 12px;
  font-size: 13px;
  line-height: 1.42857143;
  border-radius: 2px;
  -webkit-user-select: none;
  -moz-user-select: none;
  -ms-user-select: none;
  user-select: none;
}
.btn:focus,
.btn:active:focus,
.btn.active:focus,
.btn.focus,
.btn:active.focus,
.btn.active.focus {
  outline: thin dotted;
  outline: 5px auto -webkit-focus-ring-color;
  outline-offset: -2px;
}
.btn:hover,
.btn:focus,
.btn.focus {
  color: #333;
  text-decoration: none;
}
.btn:active,
.btn.active {
  outline: 0;
  background-image: none;
  -webkit-box-shadow: inset 0 3px 5px rgba(0, 0, 0, 0.125);
  box-shadow: inset 0 3px 5px rgba(0, 0, 0, 0.125);
}
.btn.disabled,
.btn[disabled],
fieldset[disabled] .btn {
  cursor: not-allowed;
  opacity: 0.65;
  filter: alpha(opacity=65);
  -webkit-box-shadow: none;
  box-shadow: none;
}
a.btn.disabled,
fieldset[disabled] a.btn {
  pointer-events: none;
}
.btn-default {
  color: #333;
  background-color: #fff;
  border-color: #ccc;
}
.btn-default:focus,
.btn-default.focus {
  color: #333;
  background-color: #e6e6e6;
  border-color: #8c8c8c;
}
.btn-default:hover {
  color: #333;
  background-color: #e6e6e6;
  border-color: #adadad;
}
.btn-default:active,
.btn-default.active,
.open > .dropdown-toggle.btn-default {
  color: #333;
  background-color: #e6e6e6;
  border-color: #adadad;
}
.btn-default:active:hover,
.btn-default.active:hover,
.open > .dropdown-toggle.btn-default:hover,
.btn-default:active:focus,
.btn-default.active:focus,
.open > .dropdown-toggle.btn-default:focus,
.btn-default:active.focus,
.btn-default.active.focus,
.open > .dropdown-toggle.btn-default.focus {
  color: #333;
  background-color: #d4d4d4;
  border-color: #8c8c8c;
}
.btn-default:active,
.btn-default.active,
.open > .dropdown-toggle.btn-default {
  background-image: none;
}
.btn-default.disabled:hover,
.btn-default[disabled]:hover,
fieldset[disabled] .btn-default:hover,
.btn-default.disabled:focus,
.btn-default[disabled]:focus,
fieldset[disabled] .btn-default:focus,
.btn-default.disabled.focus,
.btn-default[disabled].focus,
fieldset[disabled] .btn-default.focus {
  background-color: #fff;
  border-color: #ccc;
}
.btn-default .badge {
  color: #fff;
  background-color: #333;
}
.btn-primary {
  color: #fff;
  background-color: #337ab7;
  border-color: #2e6da4;
}
.btn-primary:focus,
.btn-primary.focus {
  color: #fff;
  background-color: #286090;
  border-color: #122b40;
}
.btn-primary:hover {
  color: #fff;
  background-color: #286090;
  border-color: #204d74;
}
.btn-primary:active,
.btn-primary.active,
.open > .dropdown-toggle.btn-primary {
  color: #fff;
  background-color: #286090;
  border-color: #204d74;
}
.btn-primary:active:hover,
.btn-primary.active:hover,
.open > .dropdown-toggle.btn-primary:hover,
.btn-primary:active:focus,
.btn-primary.active:focus,
.open > .dropdown-toggle.btn-primary:focus,
.btn-primary:active.focus,
.btn-primary.active.focus,
.open > .dropdown-toggle.btn-primary.focus {
  color: #fff;
  background-color: #204d74;
  border-color: #122b40;
}
.btn-primary:active,
.btn-primary.active,
.open > .dropdown-toggle.btn-primary {
  background-image: none;
}
.btn-primary.disabled:hover,
.btn-primary[disabled]:hover,
fieldset[disabled] .btn-primary:hover,
.btn-primary.disabled:focus,
.btn-primary[disabled]:focus,
fieldset[disabled] .btn-primary:focus,
.btn-primary.disabled.focus,
.btn-primary[disabled].focus,
fieldset[disabled] .btn-primary.focus {
  background-color: #337ab7;
  border-color: #2e6da4;
}
.btn-primary .badge {
  color: #337ab7;
  background-color: #fff;
}
.btn-success {
  color: #fff;
  background-color: #5cb85c;
  border-color: #4cae4c;
}
.btn-success:focus,
.btn-success.focus {
  color: #fff;
  background-color: #449d44;
  border-color: #255625;
}
.btn-success:hover {
  color: #fff;
  background-color: #449d44;
  border-color: #398439;
}
.btn-success:active,
.btn-success.active,
.open > .dropdown-toggle.btn-success {
  color: #fff;
  background-color: #449d44;
  border-color: #398439;
}
.btn-success:active:hover,
.btn-success.active:hover,
.open > .dropdown-toggle.btn-success:hover,
.btn-success:active:focus,
.btn-success.active:focus,
.open > .dropdown-toggle.btn-success:focus,
.btn-success:active.focus,
.btn-success.active.focus,
.open > .dropdown-toggle.btn-success.focus {
  color: #fff;
  background-color: #398439;
  border-color: #255625;
}
.btn-success:active,
.btn-success.active,
.open > .dropdown-toggle.btn-success {
  background-image: none;
}
.btn-success.disabled:hover,
.btn-success[disabled]:hover,
fieldset[disabled] .btn-success:hover,
.btn-success.disabled:focus,
.btn-success[disabled]:focus,
fieldset[disabled] .btn-success:focus,
.btn-success.disabled.focus,
.btn-success[disabled].focus,
fieldset[disabled] .btn-success.focus {
  background-color: #5cb85c;
  border-color: #4cae4c;
}
.btn-success .badge {
  color: #5cb85c;
  background-color: #fff;
}
.btn-info {
  color: #fff;
  background-color: #5bc0de;
  border-color: #46b8da;
}
.btn-info:focus,
.btn-info.focus {
  color: #fff;
  background-color: #31b0d5;
  border-color: #1b6d85;
}
.btn-info:hover {
  color: #fff;
  background-color: #31b0d5;
  border-color: #269abc;
}
.btn-info:active,
.btn-info.active,
.open > .dropdown-toggle.btn-info {
  color: #fff;
  background-color: #31b0d5;
  border-color: #269abc;
}
.btn-info:active:hover,
.btn-info.active:hover,
.open > .dropdown-toggle.btn-info:hover,
.btn-info:active:focus,
.btn-info.active:focus,
.open > .dropdown-toggle.btn-info:focus,
.btn-info:active.focus,
.btn-info.active.focus,
.open > .dropdown-toggle.btn-info.focus {
  color: #fff;
  background-color: #269abc;
  border-color: #1b6d85;
}
.btn-info:active,
.btn-info.active,
.open > .dropdown-toggle.btn-info {
  background-image: none;
}
.btn-info.disabled:hover,
.btn-info[disabled]:hover,
fieldset[disabled] .btn-info:hover,
.btn-info.disabled:focus,
.btn-info[disabled]:focus,
fieldset[disabled] .btn-info:focus,
.btn-info.disabled.focus,
.btn-info[disabled].focus,
fieldset[disabled] .btn-info.focus {
  background-color: #5bc0de;
  border-color: #46b8da;
}
.btn-info .badge {
  color: #5bc0de;
  background-color: #fff;
}
.btn-warning {
  color: #fff;
  background-color: #f0ad4e;
  border-color: #eea236;
}
.btn-warning:focus,
.btn-warning.focus {
  color: #fff;
  background-color: #ec971f;
  border-color: #985f0d;
}
.btn-warning:hover {
  color: #fff;
  background-color: #ec971f;
  border-color: #d58512;
}
.btn-warning:active,
.btn-warning.active,
.open > .dropdown-toggle.btn-warning {
  color: #fff;
  background-color: #ec971f;
  border-color: #d58512;
}
.btn-warning:active:hover,
.btn-warning.active:hover,
.open > .dropdown-toggle.btn-warning:hover,
.btn-warning:active:focus,
.btn-warning.active:focus,
.open > .dropdown-toggle.btn-warning:focus,
.btn-warning:active.focus,
.btn-warning.active.focus,
.open > .dropdown-toggle.btn-warning.focus {
  color: #fff;
  background-color: #d58512;
  border-color: #985f0d;
}
.btn-warning:active,
.btn-warning.active,
.open > .dropdown-toggle.btn-warning {
  background-image: none;
}
.btn-warning.disabled:hover,
.btn-warning[disabled]:hover,
fieldset[disabled] .btn-warning:hover,
.btn-warning.disabled:focus,
.btn-warning[disabled]:focus,
fieldset[disabled] .btn-warning:focus,
.btn-warning.disabled.focus,
.btn-warning[disabled].focus,
fieldset[disabled] .btn-warning.focus {
  background-color: #f0ad4e;
  border-color: #eea236;
}
.btn-warning .badge {
  color: #f0ad4e;
  background-color: #fff;
}
.btn-danger {
  color: #fff;
  background-color: #d9534f;
  border-color: #d43f3a;
}
.btn-danger:focus,
.btn-danger.focus {
  color: #fff;
  background-color: #c9302c;
  border-color: #761c19;
}
.btn-danger:hover {
  color: #fff;
  background-color: #c9302c;
  border-color: #ac2925;
}
.btn-danger:active,
.btn-danger.active,
.open > .dropdown-toggle.btn-danger {
  color: #fff;
  background-color: #c9302c;
  border-color: #ac2925;
}
.btn-danger:active:hover,
.btn-danger.active:hover,
.open > .dropdown-toggle.btn-danger:hover,
.btn-danger:active:focus,
.btn-danger.active:focus,
.open > .dropdown-toggle.btn-danger:focus,
.btn-danger:active.focus,
.btn-danger.active.focus,
.open > .dropdown-toggle.btn-danger.focus {
  color: #fff;
  background-color: #ac2925;
  border-color: #761c19;
}
.btn-danger:active,
.btn-danger.active,
.open > .dropdown-toggle.btn-danger {
  background-image: none;
}
.btn-danger.disabled:hover,
.btn-danger[disabled]:hover,
fieldset[disabled] .btn-danger:hover,
.btn-danger.disabled:focus,
.btn-danger[disabled]:focus,
fieldset[disabled] .btn-danger:focus,
.btn-danger.disabled.focus,
.btn-danger[disabled].focus,
fieldset[disabled] .btn-danger.focus {
  background-color: #d9534f;
  border-color: #d43f3a;
}
.btn-danger .badge {
  color: #d9534f;
  background-color: #fff;
}
.btn-link {
  color: #337ab7;
  font-weight: normal;
  border-radius: 0;
}
.btn-link,
.btn-link:active,
.btn-link.active,
.btn-link[disabled],
fieldset[disabled] .btn-link {
  background-color: transparent;
  -webkit-box-shadow: none;
  box-shadow: none;
}
.btn-link,
.btn-link:hover,
.btn-link:focus,
.btn-link:active {
  border-color: transparent;
}
.btn-link:hover,
.btn-link:focus {
  color: #23527c;
  text-decoration: underline;
  background-color: transparent;
}
.btn-link[disabled]:hover,
fieldset[disabled] .btn-link:hover,
.btn-link[disabled]:focus,
fieldset[disabled] .btn-link:focus {
  color: #777777;
  text-decoration: none;
}
.btn-lg,
.btn-group-lg > .btn {
  padding: 10px 16px;
  font-size: 17px;
  line-height: 1.3333333;
  border-radius: 3px;
}
.btn-sm,
.btn-group-sm > .btn {
  padding: 5px 10px;
  font-size: 12px;
  line-height: 1.5;
  border-radius: 1px;
}
.btn-xs,
.btn-group-xs > .btn {
  padding: 1px 5px;
  font-size: 12px;
  line-height: 1.5;
  border-radius: 1px;
}
.btn-block {
  display: block;
  width: 100%;
}
.btn-block + .btn-block {
  margin-top: 5px;
}
input[type="submit"].btn-block,
input[type="reset"].btn-block,
input[type="button"].btn-block {
  width: 100%;
}
.fade {
  opacity: 0;
  -webkit-transition: opacity 0.15s linear;
  -o-transition: opacity 0.15s linear;
  transition: opacity 0.15s linear;
}
.fade.in {
  opacity: 1;
}
.collapse {
  display: none;
}
.collapse.in {
  display: block;
}
tr.collapse.in {
  display: table-row;
}
tbody.collapse.in {
  display: table-row-group;
}
.collapsing {
  position: relative;
  height: 0;
  overflow: hidden;
  -webkit-transition-property: height, visibility;
  transition-property: height, visibility;
  -webkit-transition-duration: 0.35s;
  transition-duration: 0.35s;
  -webkit-transition-timing-function: ease;
  transition-timing-function: ease;
}
.caret {
  display: inline-block;
  width: 0;
  height: 0;
  margin-left: 2px;
  vertical-align: middle;
  border-top: 4px dashed;
  border-top: 4px solid \9;
  border-right: 4px solid transparent;
  border-left: 4px solid transparent;
}
.dropup,
.dropdown {
  position: relative;
}
.dropdown-toggle:focus {
  outline: 0;
}
.dropdown-menu {
  position: absolute;
  top: 100%;
  left: 0;
  z-index: 1000;
  display: none;
  float: left;
  min-width: 160px;
  padding: 5px 0;
  margin: 2px 0 0;
  list-style: none;
  font-size: 13px;
  text-align: left;
  background-color: #fff;
  border: 1px solid #ccc;
  border: 1px solid rgba(0, 0, 0, 0.15);
  border-radius: 2px;
  -webkit-box-shadow: 0 6px 12px rgba(0, 0, 0, 0.175);
  box-shadow: 0 6px 12px rgba(0, 0, 0, 0.175);
  background-clip: padding-box;
}
.dropdown-menu.pull-right {
  right: 0;
  left: auto;
}
.dropdown-menu .divider {
  height: 1px;
  margin: 8px 0;
  overflow: hidden;
  background-color: #e5e5e5;
}
.dropdown-menu > li > a {
  display: block;
  padding: 3px 20px;
  clear: both;
  font-weight: normal;
  line-height: 1.42857143;
  color: #333333;
  white-space: nowrap;
}
.dropdown-menu > li > a:hover,
.dropdown-menu > li > a:focus {
  text-decoration: none;
  color: #262626;
  background-color: #f5f5f5;
}
.dropdown-menu > .active > a,
.dropdown-menu > .active > a:hover,
.dropdown-menu > .active > a:focus {
  color: #fff;
  text-decoration: none;
  outline: 0;
  background-color: #337ab7;
}
.dropdown-menu > .disabled > a,
.dropdown-menu > .disabled > a:hover,
.dropdown-menu > .disabled > a:focus {
  color: #777777;
}
.dropdown-menu > .disabled > a:hover,
.dropdown-menu > .disabled > a:focus {
  text-decoration: none;
  background-color: transparent;
  background-image: none;
  filter: progid:DXImageTransform.Microsoft.gradient(enabled = false);
  cursor: not-allowed;
}
.open > .dropdown-menu {
  display: block;
}
.open > a {
  outline: 0;
}
.dropdown-menu-right {
  left: auto;
  right: 0;
}
.dropdown-menu-left {
  left: 0;
  right: auto;
}
.dropdown-header {
  display: block;
  padding: 3px 20px;
  font-size: 12px;
  line-height: 1.42857143;
  color: #777777;
  white-space: nowrap;
}
.dropdown-backdrop {
  position: fixed;
  left: 0;
  right: 0;
  bottom: 0;
  top: 0;
  z-index: 990;
}
.pull-right > .dropdown-menu {
  right: 0;
  left: auto;
}
.dropup .caret,
.navbar-fixed-bottom .dropdown .caret {
  border-top: 0;
  border-bottom: 4px dashed;
  border-bottom: 4px solid \9;
  content: "";
}
.dropup .dropdown-menu,
.navbar-fixed-bottom .dropdown .dropdown-menu {
  top: auto;
  bottom: 100%;
  margin-bottom: 2px;
}
@media (min-width: 541px) {
  .navbar-right .dropdown-menu {
    left: auto;
    right: 0;
  }
  .navbar-right .dropdown-menu-left {
    left: 0;
    right: auto;
  }
}
.btn-group,
.btn-group-vertical {
  position: relative;
  display: inline-block;
  vertical-align: middle;
}
.btn-group > .btn,
.btn-group-vertical > .btn {
  position: relative;
  float: left;
}
.btn-group > .btn:hover,
.btn-group-vertical > .btn:hover,
.btn-group > .btn:focus,
.btn-group-vertical > .btn:focus,
.btn-group > .btn:active,
.btn-group-vertical > .btn:active,
.btn-group > .btn.active,
.btn-group-vertical > .btn.active {
  z-index: 2;
}
.btn-group .btn + .btn,
.btn-group .btn + .btn-group,
.btn-group .btn-group + .btn,
.btn-group .btn-group + .btn-group {
  margin-left: -1px;
}
.btn-toolbar {
  margin-left: -5px;
}
.btn-toolbar .btn,
.btn-toolbar .btn-group,
.btn-toolbar .input-group {
  float: left;
}
.btn-toolbar > .btn,
.btn-toolbar > .btn-group,
.btn-toolbar > .input-group {
  margin-left: 5px;
}
.btn-group > .btn:not(:first-child):not(:last-child):not(.dropdown-toggle) {
  border-radius: 0;
}
.btn-group > .btn:first-child {
  margin-left: 0;
}
.btn-group > .btn:first-child:not(:last-child):not(.dropdown-toggle) {
  border-bottom-right-radius: 0;
  border-top-right-radius: 0;
}
.btn-group > .btn:last-child:not(:first-child),
.btn-group > .dropdown-toggle:not(:first-child) {
  border-bottom-left-radius: 0;
  border-top-left-radius: 0;
}
.btn-group > .btn-group {
  float: left;
}
.btn-group > .btn-group:not(:first-child):not(:last-child) > .btn {
  border-radius: 0;
}
.btn-group > .btn-group:first-child:not(:last-child) > .btn:last-child,
.btn-group > .btn-group:first-child:not(:last-child) > .dropdown-toggle {
  border-bottom-right-radius: 0;
  border-top-right-radius: 0;
}
.btn-group > .btn-group:last-child:not(:first-child) > .btn:first-child {
  border-bottom-left-radius: 0;
  border-top-left-radius: 0;
}
.btn-group .dropdown-toggle:active,
.btn-group.open .dropdown-toggle {
  outline: 0;
}
.btn-group > .btn + .dropdown-toggle {
  padding-left: 8px;
  padding-right: 8px;
}
.btn-group > .btn-lg + .dropdown-toggle {
  padding-left: 12px;
  padding-right: 12px;
}
.btn-group.open .dropdown-toggle {
  -webkit-box-shadow: inset 0 3px 5px rgba(0, 0, 0, 0.125);
  box-shadow: inset 0 3px 5px rgba(0, 0, 0, 0.125);
}
.btn-group.open .dropdown-toggle.btn-link {
  -webkit-box-shadow: none;
  box-shadow: none;
}
.btn .caret {
  margin-left: 0;
}
.btn-lg .caret {
  border-width: 5px 5px 0;
  border-bottom-width: 0;
}
.dropup .btn-lg .caret {
  border-width: 0 5px 5px;
}
.btn-group-vertical > .btn,
.btn-group-vertical > .btn-group,
.btn-group-vertical > .btn-group > .btn {
  display: block;
  float: none;
  width: 100%;
  max-width: 100%;
}
.btn-group-vertical > .btn-group > .btn {
  float: none;
}
.btn-group-vertical > .btn + .btn,
.btn-group-vertical > .btn + .btn-group,
.btn-group-vertical > .btn-group + .btn,
.btn-group-vertical > .btn-group + .btn-group {
  margin-top: -1px;
  margin-left: 0;
}
.btn-group-vertical > .btn:not(:first-child):not(:last-child) {
  border-radius: 0;
}
.btn-group-vertical > .btn:first-child:not(:last-child) {
  border-top-right-radius: 2px;
  border-top-left-radius: 2px;
  border-bottom-right-radius: 0;
  border-bottom-left-radius: 0;
}
.btn-group-vertical > .btn:last-child:not(:first-child) {
  border-top-right-radius: 0;
  border-top-left-radius: 0;
  border-bottom-right-radius: 2px;
  border-bottom-left-radius: 2px;
}
.btn-group-vertical > .btn-group:not(:first-child):not(:last-child) > .btn {
  border-radius: 0;
}
.btn-group-vertical > .btn-group:first-child:not(:last-child) > .btn:last-child,
.btn-group-vertical > .btn-group:first-child:not(:last-child) > .dropdown-toggle {
  border-bottom-right-radius: 0;
  border-bottom-left-radius: 0;
}
.btn-group-vertical > .btn-group:last-child:not(:first-child) > .btn:first-child {
  border-top-right-radius: 0;
  border-top-left-radius: 0;
}
.btn-group-justified {
  display: table;
  width: 100%;
  table-layout: fixed;
  border-collapse: separate;
}
.btn-group-justified > .btn,
.btn-group-justified > .btn-group {
  float: none;
  display: table-cell;
  width: 1%;
}
.btn-group-justified > .btn-group .btn {
  width: 100%;
}
.btn-group-justified > .btn-group .dropdown-menu {
  left: auto;
}
[data-toggle="buttons"] > .btn input[type="radio"],
[data-toggle="buttons"] > .btn-group > .btn input[type="radio"],
[data-toggle="buttons"] > .btn input[type="checkbox"],
[data-toggle="buttons"] > .btn-group > .btn input[type="checkbox"] {
  position: absolute;
  clip: rect(0, 0, 0, 0);
  pointer-events: none;
}
.input-group {
  position: relative;
  display: table;
  border-collapse: separate;
}
.input-group[class*="col-"] {
  float: none;
  padding-left: 0;
  padding-right: 0;
}
.input-group .form-control {
  position: relative;
  z-index: 2;
  float: left;
  width: 100%;
  margin-bottom: 0;
}
.input-group .form-control:focus {
  z-index: 3;
}
.input-group-lg > .form-control,
.input-group-lg > .input-group-addon,
.input-group-lg > .input-group-btn > .btn {
  height: 45px;
  padding: 10px 16px;
  font-size: 17px;
  line-height: 1.3333333;
  border-radius: 3px;
}
select.input-group-lg > .form-control,
select.input-group-lg > .input-group-addon,
select.input-group-lg > .input-group-btn > .btn {
  height: 45px;
  line-height: 45px;
}
textarea.input-group-lg > .form-control,
textarea.input-group-lg > .input-group-addon,
textarea.input-group-lg > .input-group-btn > .btn,
select[multiple].input-group-lg > .form-control,
select[multiple].input-group-lg > .input-group-addon,
select[multiple].input-group-lg > .input-group-btn > .btn {
  height: auto;
}
.input-group-sm > .form-control,
.input-group-sm > .input-group-addon,
.input-group-sm > .input-group-btn > .btn {
  height: 30px;
  padding: 5px 10px;
  font-size: 12px;
  line-height: 1.5;
  border-radius: 1px;
}
select.input-group-sm > .form-control,
select.input-group-sm > .input-group-addon,
select.input-group-sm > .input-group-btn > .btn {
  height: 30px;
  line-height: 30px;
}
textarea.input-group-sm > .form-control,
textarea.input-group-sm > .input-group-addon,
textarea.input-group-sm > .input-group-btn > .btn,
select[multiple].input-group-sm > .form-control,
select[multiple].input-group-sm > .input-group-addon,
select[multiple].input-group-sm > .input-group-btn > .btn {
  height: auto;
}
.input-group-addon,
.input-group-btn,
.input-group .form-control {
  display: table-cell;
}
.input-group-addon:not(:first-child):not(:last-child),
.input-group-btn:not(:first-child):not(:last-child),
.input-group .form-control:not(:first-child):not(:last-child) {
  border-radius: 0;
}
.input-group-addon,
.input-group-btn {
  width: 1%;
  white-space: nowrap;
  vertical-align: middle;
}
.input-group-addon {
  padding: 6px 12px;
  font-size: 13px;
  font-weight: normal;
  line-height: 1;
  color: #555555;
  text-align: center;
  background-color: #eeeeee;
  border: 1px solid #ccc;
  border-radius: 2px;
}
.input-group-addon.input-sm {
  padding: 5px 10px;
  font-size: 12px;
  border-radius: 1px;
}
.input-group-addon.input-lg {
  padding: 10px 16px;
  font-size: 17px;
  border-radius: 3px;
}
.input-group-addon input[type="radio"],
.input-group-addon input[type="checkbox"] {
  margin-top: 0;
}
.input-group .form-control:first-child,
.input-group-addon:first-child,
.input-group-btn:first-child > .btn,
.input-group-btn:first-child > .btn-group > .btn,
.input-group-btn:first-child > .dropdown-toggle,
.input-group-btn:last-child > .btn:not(:last-child):not(.dropdown-toggle),
.input-group-btn:last-child > .btn-group:not(:last-child) > .btn {
  border-bottom-right-radius: 0;
  border-top-right-radius: 0;
}
.input-group-addon:first-child {
  border-right: 0;
}
.input-group .form-control:last-child,
.input-group-addon:last-child,
.input-group-btn:last-child > .btn,
.input-group-btn:last-child > .btn-group > .btn,
.input-group-btn:last-child > .dropdown-toggle,
.input-group-btn:first-child > .btn:not(:first-child),
.input-group-btn:first-child > .btn-group:not(:first-child) > .btn {
  border-bottom-left-radius: 0;
  border-top-left-radius: 0;
}
.input-group-addon:last-child {
  border-left: 0;
}
.input-group-btn {
  position: relative;
  font-size: 0;
  white-space: nowrap;
}
.input-group-btn > .btn {
  position: relative;
}
.input-group-btn > .btn + .btn {
  margin-left: -1px;
}
.input-group-btn > .btn:hover,
.input-group-btn > .btn:focus,
.input-group-btn > .btn:active {
  z-index: 2;
}
.input-group-btn:first-child > .btn,
.input-group-btn:first-child > .btn-group {
  margin-right: -1px;
}
.input-group-btn:last-child > .btn,
.input-group-btn:last-child > .btn-group {
  z-index: 2;
  margin-left: -1px;
}
.nav {
  margin-bottom: 0;
  padding-left: 0;
  list-style: none;
}
.nav > li {
  position: relative;
  display: block;
}
.nav > li > a {
  position: relative;
  display: block;
  padding: 10px 15px;
}
.nav > li > a:hover,
.nav > li > a:focus {
  text-decoration: none;
  background-color: #eeeeee;
}
.nav > li.disabled > a {
  color: #777777;
}
.nav > li.disabled > a:hover,
.nav > li.disabled > a:focus {
  color: #777777;
  text-decoration: none;
  background-color: transparent;
  cursor: not-allowed;
}
.nav .open > a,
.nav .open > a:hover,
.nav .open > a:focus {
  background-color: #eeeeee;
  border-color: #337ab7;
}
.nav .nav-divider {
  height: 1px;
  margin: 8px 0;
  overflow: hidden;
  background-color: #e5e5e5;
}
.nav > li > a > img {
  max-width: none;
}
.nav-tabs {
  border-bottom: 1px solid #ddd;
}
.nav-tabs > li {
  float: left;
  margin-bottom: -1px;
}
.nav-tabs > li > a {
  margin-right: 2px;
  line-height: 1.42857143;
  border: 1px solid transparent;
  border-radius: 2px 2px 0 0;
}
.nav-tabs > li > a:hover {
  border-color: #eeeeee #eeeeee #ddd;
}
.nav-tabs > li.active > a,
.nav-tabs > li.active > a:hover,
.nav-tabs > li.active > a:focus {
  color: #555555;
  background-color: #fff;
  border: 1px solid #ddd;
  border-bottom-color: transparent;
  cursor: default;
}
.nav-tabs.nav-justified {
  width: 100%;
  border-bottom: 0;
}
.nav-tabs.nav-justified > li {
  float: none;
}
.nav-tabs.nav-justified > li > a {
  text-align: center;
  margin-bottom: 5px;
}
.nav-tabs.nav-justified > .dropdown .dropdown-menu {
  top: auto;
  left: auto;
}
@media (min-width: 768px) {
  .nav-tabs.nav-justified > li {
    display: table-cell;
    width: 1%;
  }
  .nav-tabs.nav-justified > li > a {
    margin-bottom: 0;
  }
}
.nav-tabs.nav-justified > li > a {
  margin-right: 0;
  border-radius: 2px;
}
.nav-tabs.nav-justified > .active > a,
.nav-tabs.nav-justified > .active > a:hover,
.nav-tabs.nav-justified > .active > a:focus {
  border: 1px solid #ddd;
}
@media (min-width: 768px) {
  .nav-tabs.nav-justified > li > a {
    border-bottom: 1px solid #ddd;
    border-radius: 2px 2px 0 0;
  }
  .nav-tabs.nav-justified > .active > a,
  .nav-tabs.nav-justified > .active > a:hover,
  .nav-tabs.nav-justified > .active > a:focus {
    border-bottom-color: #fff;
  }
}
.nav-pills > li {
  float: left;
}
.nav-pills > li > a {
  border-radius: 2px;
}
.nav-pills > li + li {
  margin-left: 2px;
}
.nav-pills > li.active > a,
.nav-pills > li.active > a:hover,
.nav-pills > li.active > a:focus {
  color: #fff;
  background-color: #337ab7;
}
.nav-stacked > li {
  float: none;
}
.nav-stacked > li + li {
  margin-top: 2px;
  margin-left: 0;
}
.nav-justified {
  width: 100%;
}
.nav-justified > li {
  float: none;
}
.nav-justified > li > a {
  text-align: center;
  margin-bottom: 5px;
}
.nav-justified > .dropdown .dropdown-menu {
  top: auto;
  left: auto;
}
@media (min-width: 768px) {
  .nav-justified > li {
    display: table-cell;
    width: 1%;
  }
  .nav-justified > li > a {
    margin-bottom: 0;
  }
}
.nav-tabs-justified {
  border-bottom: 0;
}
.nav-tabs-justified > li > a {
  margin-right: 0;
  border-radius: 2px;
}
.nav-tabs-justified > .active > a,
.nav-tabs-justified > .active > a:hover,
.nav-tabs-justified > .active > a:focus {
  border: 1px solid #ddd;
}
@media (min-width: 768px) {
  .nav-tabs-justified > li > a {
    border-bottom: 1px solid #ddd;
    border-radius: 2px 2px 0 0;
  }
  .nav-tabs-justified > .active > a,
  .nav-tabs-justified > .active > a:hover,
  .nav-tabs-justified > .active > a:focus {
    border-bottom-color: #fff;
  }
}
.tab-content > .tab-pane {
  display: none;
}
.tab-content > .active {
  display: block;
}
.nav-tabs .dropdown-menu {
  margin-top: -1px;
  border-top-right-radius: 0;
  border-top-left-radius: 0;
}
.navbar {
  position: relative;
  min-height: 30px;
  margin-bottom: 18px;
  border: 1px solid transparent;
}
@media (min-width: 541px) {
  .navbar {
    border-radius: 2px;
  }
}
@media (min-width: 541px) {
  .navbar-header {
    float: left;
  }
}
.navbar-collapse {
  overflow-x: visible;
  padding-right: 0px;
  padding-left: 0px;
  border-top: 1px solid transparent;
  box-shadow: inset 0 1px 0 rgba(255, 255, 255, 0.1);
  -webkit-overflow-scrolling: touch;
}
.navbar-collapse.in {
  overflow-y: auto;
}
@media (min-width: 541px) {
  .navbar-collapse {
    width: auto;
    border-top: 0;
    box-shadow: none;
  }
  .navbar-collapse.collapse {
    display: block !important;
    height: auto !important;
    padding-bottom: 0;
    overflow: visible !important;
  }
  .navbar-collapse.in {
    overflow-y: visible;
  }
  .navbar-fixed-top .navbar-collapse,
  .navbar-static-top .navbar-collapse,
  .navbar-fixed-bottom .navbar-collapse {
    padding-left: 0;
    padding-right: 0;
  }
}
.navbar-fixed-top .navbar-collapse,
.navbar-fixed-bottom .navbar-collapse {
  max-height: 340px;
}
@media (max-device-width: 540px) and (orientation: landscape) {
  .navbar-fixed-top .navbar-collapse,
  .navbar-fixed-bottom .navbar-collapse {
    max-height: 200px;
  }
}
.container > .navbar-header,
.container-fluid > .navbar-header,
.container > .navbar-collapse,
.container-fluid > .navbar-collapse {
  margin-right: 0px;
  margin-left: 0px;
}
@media (min-width: 541px) {
  .container > .navbar-header,
  .container-fluid > .navbar-header,
  .container > .navbar-collapse,
  .container-fluid > .navbar-collapse {
    margin-right: 0;
    margin-left: 0;
  }
}
.navbar-static-top {
  z-index: 1000;
  border-width: 0 0 1px;
}
@media (min-width: 541px) {
  .navbar-static-top {
    border-radius: 0;
  }
}
.navbar-fixed-top,
.navbar-fixed-bottom {
  position: fixed;
  right: 0;
  left: 0;
  z-index: 1030;
}
@media (min-width: 541px) {
  .navbar-fixed-top,
  .navbar-fixed-bottom {
    border-radius: 0;
  }
}
.navbar-fixed-top {
  top: 0;
  border-width: 0 0 1px;
}
.navbar-fixed-bottom {
  bottom: 0;
  margin-bottom: 0;
  border-width: 1px 0 0;
}
.navbar-brand {
  float: left;
  padding: 6px 0px;
  font-size: 17px;
  line-height: 18px;
  height: 30px;
}
.navbar-brand:hover,
.navbar-brand:focus {
  text-decoration: none;
}
.navbar-brand > img {
  display: block;
}
@media (min-width: 541px) {
  .navbar > .container .navbar-brand,
  .navbar > .container-fluid .navbar-brand {
    margin-left: 0px;
  }
}
.navbar-toggle {
  position: relative;
  float: right;
  margin-right: 0px;
  padding: 9px 10px;
  margin-top: -2px;
  margin-bottom: -2px;
  background-color: transparent;
  background-image: none;
  border: 1px solid transparent;
  border-radius: 2px;
}
.navbar-toggle:focus {
  outline: 0;
}
.navbar-toggle .icon-bar {
  display: block;
  width: 22px;
  height: 2px;
  border-radius: 1px;
}
.navbar-toggle .icon-bar + .icon-bar {
  margin-top: 4px;
}
@media (min-width: 541px) {
  .navbar-toggle {
    display: none;
  }
}
.navbar-nav {
  margin: 3px 0px;
}
.navbar-nav > li > a {
  padding-top: 10px;
  padding-bottom: 10px;
  line-height: 18px;
}
@media (max-width: 540px) {
  .navbar-nav .open .dropdown-menu {
    position: static;
    float: none;
    width: auto;
    margin-top: 0;
    background-color: transparent;
    border: 0;
    box-shadow: none;
  }
  .navbar-nav .open .dropdown-menu > li > a,
  .navbar-nav .open .dropdown-menu .dropdown-header {
    padding: 5px 15px 5px 25px;
  }
  .navbar-nav .open .dropdown-menu > li > a {
    line-height: 18px;
  }
  .navbar-nav .open .dropdown-menu > li > a:hover,
  .navbar-nav .open .dropdown-menu > li > a:focus {
    background-image: none;
  }
}
@media (min-width: 541px) {
  .navbar-nav {
    float: left;
    margin: 0;
  }
  .navbar-nav > li {
    float: left;
  }
  .navbar-nav > li > a {
    padding-top: 6px;
    padding-bottom: 6px;
  }
}
.navbar-form {
  margin-left: 0px;
  margin-right: 0px;
  padding: 10px 0px;
  border-top: 1px solid transparent;
  border-bottom: 1px solid transparent;
  -webkit-box-shadow: inset 0 1px 0 rgba(255, 255, 255, 0.1), 0 1px 0 rgba(255, 255, 255, 0.1);
  box-shadow: inset 0 1px 0 rgba(255, 255, 255, 0.1), 0 1px 0 rgba(255, 255, 255, 0.1);
  margin-top: -1px;
  margin-bottom: -1px;
}
@media (min-width: 768px) {
  .navbar-form .form-group {
    display: inline-block;
    margin-bottom: 0;
    vertical-align: middle;
  }
  .navbar-form .form-control {
    display: inline-block;
    width: auto;
    vertical-align: middle;
  }
  .navbar-form .form-control-static {
    display: inline-block;
  }
  .navbar-form .input-group {
    display: inline-table;
    vertical-align: middle;
  }
  .navbar-form .input-group .input-group-addon,
  .navbar-form .input-group .input-group-btn,
  .navbar-form .input-group .form-control {
    width: auto;
  }
  .navbar-form .input-group > .form-control {
    width: 100%;
  }
  .navbar-form .control-label {
    margin-bottom: 0;
    vertical-align: middle;
  }
  .navbar-form .radio,
  .navbar-form .checkbox {
    display: inline-block;
    margin-top: 0;
    margin-bottom: 0;
    vertical-align: middle;
  }
  .navbar-form .radio label,
  .navbar-form .checkbox label {
    padding-left: 0;
  }
  .navbar-form .radio input[type="radio"],
  .navbar-form .checkbox input[type="checkbox"] {
    position: relative;
    margin-left: 0;
  }
  .navbar-form .has-feedback .form-control-feedback {
    top: 0;
  }
}
@media (max-width: 540px) {
  .navbar-form .form-group {
    margin-bottom: 5px;
  }
  .navbar-form .form-group:last-child {
    margin-bottom: 0;
  }
}
@media (min-width: 541px) {
  .navbar-form {
    width: auto;
    border: 0;
    margin-left: 0;
    margin-right: 0;
    padding-top: 0;
    padding-bottom: 0;
    -webkit-box-shadow: none;
    box-shadow: none;
  }
}
.navbar-nav > li > .dropdown-menu {
  margin-top: 0;
  border-top-right-radius: 0;
  border-top-left-radius: 0;
}
.navbar-fixed-bottom .navbar-nav > li > .dropdown-menu {
  margin-bottom: 0;
  border-top-right-radius: 2px;
  border-top-left-radius: 2px;
  border-bottom-right-radius: 0;
  border-bottom-left-radius: 0;
}
.navbar-btn {
  margin-top: -1px;
  margin-bottom: -1px;
}
.navbar-btn.btn-sm {
  margin-top: 0px;
  margin-bottom: 0px;
}
.navbar-btn.btn-xs {
  margin-top: 4px;
  margin-bottom: 4px;
}
.navbar-text {
  margin-top: 6px;
  margin-bottom: 6px;
}
@media (min-width: 541px) {
  .navbar-text {
    float: left;
    margin-left: 0px;
    margin-right: 0px;
  }
}
@media (min-width: 541px) {
  .navbar-left {
    float: left !important;
    float: left;
  }
  .navbar-right {
    float: right !important;
    float: right;
    margin-right: 0px;
  }
  .navbar-right ~ .navbar-right {
    margin-right: 0;
  }
}
.navbar-default {
  background-color: #f8f8f8;
  border-color: #e7e7e7;
}
.navbar-default .navbar-brand {
  color: #777;
}
.navbar-default .navbar-brand:hover,
.navbar-default .navbar-brand:focus {
  color: #5e5e5e;
  background-color: transparent;
}
.navbar-default .navbar-text {
  color: #777;
}
.navbar-default .navbar-nav > li > a {
  color: #777;
}
.navbar-default .navbar-nav > li > a:hover,
.navbar-default .navbar-nav > li > a:focus {
  color: #333;
  background-color: transparent;
}
.navbar-default .navbar-nav > .active > a,
.navbar-default .navbar-nav > .active > a:hover,
.navbar-default .navbar-nav > .active > a:focus {
  color: #555;
  background-color: #e7e7e7;
}
.navbar-default .navbar-nav > .disabled > a,
.navbar-default .navbar-nav > .disabled > a:hover,
.navbar-default .navbar-nav > .disabled > a:focus {
  color: #ccc;
  background-color: transparent;
}
.navbar-default .navbar-toggle {
  border-color: #ddd;
}
.navbar-default .navbar-toggle:hover,
.navbar-default .navbar-toggle:focus {
  background-color: #ddd;
}
.navbar-default .navbar-toggle .icon-bar {
  background-color: #888;
}
.navbar-default .navbar-collapse,
.navbar-default .navbar-form {
  border-color: #e7e7e7;
}
.navbar-default .navbar-nav > .open > a,
.navbar-default .navbar-nav > .open > a:hover,
.navbar-default .navbar-nav > .open > a:focus {
  background-color: #e7e7e7;
  color: #555;
}
@media (max-width: 540px) {
  .navbar-default .navbar-nav .open .dropdown-menu > li > a {
    color: #777;
  }
  .navbar-default .navbar-nav .open .dropdown-menu > li > a:hover,
  .navbar-default .navbar-nav .open .dropdown-menu > li > a:focus {
    color: #333;
    background-color: transparent;
  }
  .navbar-default .navbar-nav .open .dropdown-menu > .active > a,
  .navbar-default .navbar-nav .open .dropdown-menu > .active > a:hover,
  .navbar-default .navbar-nav .open .dropdown-menu > .active > a:focus {
    color: #555;
    background-color: #e7e7e7;
  }
  .navbar-default .navbar-nav .open .dropdown-menu > .disabled > a,
  .navbar-default .navbar-nav .open .dropdown-menu > .disabled > a:hover,
  .navbar-default .navbar-nav .open .dropdown-menu > .disabled > a:focus {
    color: #ccc;
    background-color: transparent;
  }
}
.navbar-default .navbar-link {
  color: #777;
}
.navbar-default .navbar-link:hover {
  color: #333;
}
.navbar-default .btn-link {
  color: #777;
}
.navbar-default .btn-link:hover,
.navbar-default .btn-link:focus {
  color: #333;
}
.navbar-default .btn-link[disabled]:hover,
fieldset[disabled] .navbar-default .btn-link:hover,
.navbar-default .btn-link[disabled]:focus,
fieldset[disabled] .navbar-default .btn-link:focus {
  color: #ccc;
}
.navbar-inverse {
  background-color: #222;
  border-color: #080808;
}
.navbar-inverse .navbar-brand {
  color: #9d9d9d;
}
.navbar-inverse .navbar-brand:hover,
.navbar-inverse .navbar-brand:focus {
  color: #fff;
  background-color: transparent;
}
.navbar-inverse .navbar-text {
  color: #9d9d9d;
}
.navbar-inverse .navbar-nav > li > a {
  color: #9d9d9d;
}
.navbar-inverse .navbar-nav > li > a:hover,
.navbar-inverse .navbar-nav > li > a:focus {
  color: #fff;
  background-color: transparent;
}
.navbar-inverse .navbar-nav > .active > a,
.navbar-inverse .navbar-nav > .active > a:hover,
.navbar-inverse .navbar-nav > .active > a:focus {
  color: #fff;
  background-color: #080808;
}
.navbar-inverse .navbar-nav > .disabled > a,
.navbar-inverse .navbar-nav > .disabled > a:hover,
.navbar-inverse .navbar-nav > .disabled > a:focus {
  color: #444;
  background-color: transparent;
}
.navbar-inverse .navbar-toggle {
  border-color: #333;
}
.navbar-inverse .navbar-toggle:hover,
.navbar-inverse .navbar-toggle:focus {
  background-color: #333;
}
.navbar-inverse .navbar-toggle .icon-bar {
  background-color: #fff;
}
.navbar-inverse .navbar-collapse,
.navbar-inverse .navbar-form {
  border-color: #101010;
}
.navbar-inverse .navbar-nav > .open > a,
.navbar-inverse .navbar-nav > .open > a:hover,
.navbar-inverse .navbar-nav > .open > a:focus {
  background-color: #080808;
  color: #fff;
}
@media (max-width: 540px) {
  .navbar-inverse .navbar-nav .open .dropdown-menu > .dropdown-header {
    border-color: #080808;
  }
  .navbar-inverse .navbar-nav .open .dropdown-menu .divider {
    background-color: #080808;
  }
  .navbar-inverse .navbar-nav .open .dropdown-menu > li > a {
    color: #9d9d9d;
  }
  .navbar-inverse .navbar-nav .open .dropdown-menu > li > a:hover,
  .navbar-inverse .navbar-nav .open .dropdown-menu > li > a:focus {
    color: #fff;
    background-color: transparent;
  }
  .navbar-inverse .navbar-nav .open .dropdown-menu > .active > a,
  .navbar-inverse .navbar-nav .open .dropdown-menu > .active > a:hover,
  .navbar-inverse .navbar-nav .open .dropdown-menu > .active > a:focus {
    color: #fff;
    background-color: #080808;
  }
  .navbar-inverse .navbar-nav .open .dropdown-menu > .disabled > a,
  .navbar-inverse .navbar-nav .open .dropdown-menu > .disabled > a:hover,
  .navbar-inverse .navbar-nav .open .dropdown-menu > .disabled > a:focus {
    color: #444;
    background-color: transparent;
  }
}
.navbar-inverse .navbar-link {
  color: #9d9d9d;
}
.navbar-inverse .navbar-link:hover {
  color: #fff;
}
.navbar-inverse .btn-link {
  color: #9d9d9d;
}
.navbar-inverse .btn-link:hover,
.navbar-inverse .btn-link:focus {
  color: #fff;
}
.navbar-inverse .btn-link[disabled]:hover,
fieldset[disabled] .navbar-inverse .btn-link:hover,
.navbar-inverse .btn-link[disabled]:focus,
fieldset[disabled] .navbar-inverse .btn-link:focus {
  color: #444;
}
.breadcrumb {
  padding: 8px 15px;
  margin-bottom: 18px;
  list-style: none;
  background-color: #f5f5f5;
  border-radius: 2px;
}
.breadcrumb > li {
  display: inline-block;
}
.breadcrumb > li + li:before {
  content: "/\00a0";
  padding: 0 5px;
  color: #5e5e5e;
}
.breadcrumb > .active {
  color: #777777;
}
.pagination {
  display: inline-block;
  padding-left: 0;
  margin: 18px 0;
  border-radius: 2px;
}
.pagination > li {
  display: inline;
}
.pagination > li > a,
.pagination > li > span {
  position: relative;
  float: left;
  padding: 6px 12px;
  line-height: 1.42857143;
  text-decoration: none;
  color: #337ab7;
  background-color: #fff;
  border: 1px solid #ddd;
  margin-left: -1px;
}
.pagination > li:first-child > a,
.pagination > li:first-child > span {
  margin-left: 0;
  border-bottom-left-radius: 2px;
  border-top-left-radius: 2px;
}
.pagination > li:last-child > a,
.pagination > li:last-child > span {
  border-bottom-right-radius: 2px;
  border-top-right-radius: 2px;
}
.pagination > li > a:hover,
.pagination > li > span:hover,
.pagination > li > a:focus,
.pagination > li > span:focus {
  z-index: 2;
  color: #23527c;
  background-color: #eeeeee;
  border-color: #ddd;
}
.pagination > .active > a,
.pagination > .active > span,
.pagination > .active > a:hover,
.pagination > .active > span:hover,
.pagination > .active > a:focus,
.pagination > .active > span:focus {
  z-index: 3;
  color: #fff;
  background-color: #337ab7;
  border-color: #337ab7;
  cursor: default;
}
.pagination > .disabled > span,
.pagination > .disabled > span:hover,
.pagination > .disabled > span:focus,
.pagination > .disabled > a,
.pagination > .disabled > a:hover,
.pagination > .disabled > a:focus {
  color: #777777;
  background-color: #fff;
  border-color: #ddd;
  cursor: not-allowed;
}
.pagination-lg > li > a,
.pagination-lg > li > span {
  padding: 10px 16px;
  font-size: 17px;
  line-height: 1.3333333;
}
.pagination-lg > li:first-child > a,
.pagination-lg > li:first-child > span {
  border-bottom-left-radius: 3px;
  border-top-left-radius: 3px;
}
.pagination-lg > li:last-child > a,
.pagination-lg > li:last-child > span {
  border-bottom-right-radius: 3px;
  border-top-right-radius: 3px;
}
.pagination-sm > li > a,
.pagination-sm > li > span {
  padding: 5px 10px;
  font-size: 12px;
  line-height: 1.5;
}
.pagination-sm > li:first-child > a,
.pagination-sm > li:first-child > span {
  border-bottom-left-radius: 1px;
  border-top-left-radius: 1px;
}
.pagination-sm > li:last-child > a,
.pagination-sm > li:last-child > span {
  border-bottom-right-radius: 1px;
  border-top-right-radius: 1px;
}
.pager {
  padding-left: 0;
  margin: 18px 0;
  list-style: none;
  text-align: center;
}
.pager li {
  display: inline;
}
.pager li > a,
.pager li > span {
  display: inline-block;
  padding: 5px 14px;
  background-color: #fff;
  border: 1px solid #ddd;
  border-radius: 15px;
}
.pager li > a:hover,
.pager li > a:focus {
  text-decoration: none;
  background-color: #eeeeee;
}
.pager .next > a,
.pager .next > span {
  float: right;
}
.pager .previous > a,
.pager .previous > span {
  float: left;
}
.pager .disabled > a,
.pager .disabled > a:hover,
.pager .disabled > a:focus,
.pager .disabled > span {
  color: #777777;
  background-color: #fff;
  cursor: not-allowed;
}
.label {
  display: inline;
  padding: .2em .6em .3em;
  font-size: 75%;
  font-weight: bold;
  line-height: 1;
  color: #fff;
  text-align: center;
  white-space: nowrap;
  vertical-align: baseline;
  border-radius: .25em;
}
a.label:hover,
a.label:focus {
  color: #fff;
  text-decoration: none;
  cursor: pointer;
}
.label:empty {
  display: none;
}
.btn .label {
  position: relative;
  top: -1px;
}
.label-default {
  background-color: #777777;
}
.label-default[href]:hover,
.label-default[href]:focus {
  background-color: #5e5e5e;
}
.label-primary {
  background-color: #337ab7;
}
.label-primary[href]:hover,
.label-primary[href]:focus {
  background-color: #286090;
}
.label-success {
  background-color: #5cb85c;
}
.label-success[href]:hover,
.label-success[href]:focus {
  background-color: #449d44;
}
.label-info {
  background-color: #5bc0de;
}
.label-info[href]:hover,
.label-info[href]:focus {
  background-color: #31b0d5;
}
.label-warning {
  background-color: #f0ad4e;
}
.label-warning[href]:hover,
.label-warning[href]:focus {
  background-color: #ec971f;
}
.label-danger {
  background-color: #d9534f;
}
.label-danger[href]:hover,
.label-danger[href]:focus {
  background-color: #c9302c;
}
.badge {
  display: inline-block;
  min-width: 10px;
  padding: 3px 7px;
  font-size: 12px;
  font-weight: bold;
  color: #fff;
  line-height: 1;
  vertical-align: middle;
  white-space: nowrap;
  text-align: center;
  background-color: #777777;
  border-radius: 10px;
}
.badge:empty {
  display: none;
}
.btn .badge {
  position: relative;
  top: -1px;
}
.btn-xs .badge,
.btn-group-xs > .btn .badge {
  top: 0;
  padding: 1px 5px;
}
a.badge:hover,
a.badge:focus {
  color: #fff;
  text-decoration: none;
  cursor: pointer;
}
.list-group-item.active > .badge,
.nav-pills > .active > a > .badge {
  color: #337ab7;
  background-color: #fff;
}
.list-group-item > .badge {
  float: right;
}
.list-group-item > .badge + .badge {
  margin-right: 5px;
}
.nav-pills > li > a > .badge {
  margin-left: 3px;
}
.jumbotron {
  padding-top: 30px;
  padding-bottom: 30px;
  margin-bottom: 30px;
  color: inherit;
  background-color: #eeeeee;
}
.jumbotron h1,
.jumbotron .h1 {
  color: inherit;
}
.jumbotron p {
  margin-bottom: 15px;
  font-size: 20px;
  font-weight: 200;
}
.jumbotron > hr {
  border-top-color: #d5d5d5;
}
.container .jumbotron,
.container-fluid .jumbotron {
  border-radius: 3px;
  padding-left: 0px;
  padding-right: 0px;
}
.jumbotron .container {
  max-width: 100%;
}
@media screen and (min-width: 768px) {
  .jumbotron {
    padding-top: 48px;
    padding-bottom: 48px;
  }
  .container .jumbotron,
  .container-fluid .jumbotron {
    padding-left: 60px;
    padding-right: 60px;
  }
  .jumbotron h1,
  .jumbotron .h1 {
    font-size: 59px;
  }
}
.thumbnail {
  display: block;
  padding: 4px;
  margin-bottom: 18px;
  line-height: 1.42857143;
  background-color: #fff;
  border: 1px solid #ddd;
  border-radius: 2px;
  -webkit-transition: border 0.2s ease-in-out;
  -o-transition: border 0.2s ease-in-out;
  transition: border 0.2s ease-in-out;
}
.thumbnail > img,
.thumbnail a > img {
  margin-left: auto;
  margin-right: auto;
}
a.thumbnail:hover,
a.thumbnail:focus,
a.thumbnail.active {
  border-color: #337ab7;
}
.thumbnail .caption {
  padding: 9px;
  color: #000;
}
.alert {
  padding: 15px;
  margin-bottom: 18px;
  border: 1px solid transparent;
  border-radius: 2px;
}
.alert h4 {
  margin-top: 0;
  color: inherit;
}
.alert .alert-link {
  font-weight: bold;
}
.alert > p,
.alert > ul {
  margin-bottom: 0;
}
.alert > p + p {
  margin-top: 5px;
}
.alert-dismissable,
.alert-dismissible {
  padding-right: 35px;
}
.alert-dismissable .close,
.alert-dismissible .close {
  position: relative;
  top: -2px;
  right: -21px;
  color: inherit;
}
.alert-success {
  background-color: #dff0d8;
  border-color: #d6e9c6;
  color: #3c763d;
}
.alert-success hr {
  border-top-color: #c9e2b3;
}
.alert-success .alert-link {
  color: #2b542c;
}
.alert-info {
  background-color: #d9edf7;
  border-color: #bce8f1;
  color: #31708f;
}
.alert-info hr {
  border-top-color: #a6e1ec;
}
.alert-info .alert-link {
  color: #245269;
}
.alert-warning {
  background-color: #fcf8e3;
  border-color: #faebcc;
  color: #8a6d3b;
}
.alert-warning hr {
  border-top-color: #f7e1b5;
}
.alert-warning .alert-link {
  color: #66512c;
}
.alert-danger {
  background-color: #f2dede;
  border-color: #ebccd1;
  color: #a94442;
}
.alert-danger hr {
  border-top-color: #e4b9c0;
}
.alert-danger .alert-link {
  color: #843534;
}
@-webkit-keyframes progress-bar-stripes {
  from {
    background-position: 40px 0;
  }
  to {
    background-position: 0 0;
  }
}
@keyframes progress-bar-stripes {
  from {
    background-position: 40px 0;
  }
  to {
    background-position: 0 0;
  }
}
.progress {
  overflow: hidden;
  height: 18px;
  margin-bottom: 18px;
  background-color: #f5f5f5;
  border-radius: 2px;
  -webkit-box-shadow: inset 0 1px 2px rgba(0, 0, 0, 0.1);
  box-shadow: inset 0 1px 2px rgba(0, 0, 0, 0.1);
}
.progress-bar {
  float: left;
  width: 0%;
  height: 100%;
  font-size: 12px;
  line-height: 18px;
  color: #fff;
  text-align: center;
  background-color: #337ab7;
  -webkit-box-shadow: inset 0 -1px 0 rgba(0, 0, 0, 0.15);
  box-shadow: inset 0 -1px 0 rgba(0, 0, 0, 0.15);
  -webkit-transition: width 0.6s ease;
  -o-transition: width 0.6s ease;
  transition: width 0.6s ease;
}
.progress-striped .progress-bar,
.progress-bar-striped {
  background-image: -webkit-linear-gradient(45deg, rgba(255, 255, 255, 0.15) 25%, transparent 25%, transparent 50%, rgba(255, 255, 255, 0.15) 50%, rgba(255, 255, 255, 0.15) 75%, transparent 75%, transparent);
  background-image: -o-linear-gradient(45deg, rgba(255, 255, 255, 0.15) 25%, transparent 25%, transparent 50%, rgba(255, 255, 255, 0.15) 50%, rgba(255, 255, 255, 0.15) 75%, transparent 75%, transparent);
  background-image: linear-gradient(45deg, rgba(255, 255, 255, 0.15) 25%, transparent 25%, transparent 50%, rgba(255, 255, 255, 0.15) 50%, rgba(255, 255, 255, 0.15) 75%, transparent 75%, transparent);
  background-size: 40px 40px;
}
.progress.active .progress-bar,
.progress-bar.active {
  -webkit-animation: progress-bar-stripes 2s linear infinite;
  -o-animation: progress-bar-stripes 2s linear infinite;
  animation: progress-bar-stripes 2s linear infinite;
}
.progress-bar-success {
  background-color: #5cb85c;
}
.progress-striped .progress-bar-success {
  background-image: -webkit-linear-gradient(45deg, rgba(255, 255, 255, 0.15) 25%, transparent 25%, transparent 50%, rgba(255, 255, 255, 0.15) 50%, rgba(255, 255, 255, 0.15) 75%, transparent 75%, transparent);
  background-image: -o-linear-gradient(45deg, rgba(255, 255, 255, 0.15) 25%, transparent 25%, transparent 50%, rgba(255, 255, 255, 0.15) 50%, rgba(255, 255, 255, 0.15) 75%, transparent 75%, transparent);
  background-image: linear-gradient(45deg, rgba(255, 255, 255, 0.15) 25%, transparent 25%, transparent 50%, rgba(255, 255, 255, 0.15) 50%, rgba(255, 255, 255, 0.15) 75%, transparent 75%, transparent);
}
.progress-bar-info {
  background-color: #5bc0de;
}
.progress-striped .progress-bar-info {
  background-image: -webkit-linear-gradient(45deg, rgba(255, 255, 255, 0.15) 25%, transparent 25%, transparent 50%, rgba(255, 255, 255, 0.15) 50%, rgba(255, 255, 255, 0.15) 75%, transparent 75%, transparent);
  background-image: -o-linear-gradient(45deg, rgba(255, 255, 255, 0.15) 25%, transparent 25%, transparent 50%, rgba(255, 255, 255, 0.15) 50%, rgba(255, 255, 255, 0.15) 75%, transparent 75%, transparent);
  background-image: linear-gradient(45deg, rgba(255, 255, 255, 0.15) 25%, transparent 25%, transparent 50%, rgba(255, 255, 255, 0.15) 50%, rgba(255, 255, 255, 0.15) 75%, transparent 75%, transparent);
}
.progress-bar-warning {
  background-color: #f0ad4e;
}
.progress-striped .progress-bar-warning {
  background-image: -webkit-linear-gradient(45deg, rgba(255, 255, 255, 0.15) 25%, transparent 25%, transparent 50%, rgba(255, 255, 255, 0.15) 50%, rgba(255, 255, 255, 0.15) 75%, transparent 75%, transparent);
  background-image: -o-linear-gradient(45deg, rgba(255, 255, 255, 0.15) 25%, transparent 25%, transparent 50%, rgba(255, 255, 255, 0.15) 50%, rgba(255, 255, 255, 0.15) 75%, transparent 75%, transparent);
  background-image: linear-gradient(45deg, rgba(255, 255, 255, 0.15) 25%, transparent 25%, transparent 50%, rgba(255, 255, 255, 0.15) 50%, rgba(255, 255, 255, 0.15) 75%, transparent 75%, transparent);
}
.progress-bar-danger {
  background-color: #d9534f;
}
.progress-striped .progress-bar-danger {
  background-image: -webkit-linear-gradient(45deg, rgba(255, 255, 255, 0.15) 25%, transparent 25%, transparent 50%, rgba(255, 255, 255, 0.15) 50%, rgba(255, 255, 255, 0.15) 75%, transparent 75%, transparent);
  background-image: -o-linear-gradient(45deg, rgba(255, 255, 255, 0.15) 25%, transparent 25%, transparent 50%, rgba(255, 255, 255, 0.15) 50%, rgba(255, 255, 255, 0.15) 75%, transparent 75%, transparent);
  background-image: linear-gradient(45deg, rgba(255, 255, 255, 0.15) 25%, transparent 25%, transparent 50%, rgba(255, 255, 255, 0.15) 50%, rgba(255, 255, 255, 0.15) 75%, transparent 75%, transparent);
}
.media {
  margin-top: 15px;
}
.media:first-child {
  margin-top: 0;
}
.media,
.media-body {
  zoom: 1;
  overflow: hidden;
}
.media-body {
  width: 10000px;
}
.media-object {
  display: block;
}
.media-object.img-thumbnail {
  max-width: none;
}
.media-right,
.media > .pull-right {
  padding-left: 10px;
}
.media-left,
.media > .pull-left {
  padding-right: 10px;
}
.media-left,
.media-right,
.media-body {
  display: table-cell;
  vertical-align: top;
}
.media-middle {
  vertical-align: middle;
}
.media-bottom {
  vertical-align: bottom;
}
.media-heading {
  margin-top: 0;
  margin-bottom: 5px;
}
.media-list {
  padding-left: 0;
  list-style: none;
}
.list-group {
  margin-bottom: 20px;
  padding-left: 0;
}
.list-group-item {
  position: relative;
  display: block;
  padding: 10px 15px;
  margin-bottom: -1px;
  background-color: #fff;
  border: 1px solid #ddd;
}
.list-group-item:first-child {
  border-top-right-radius: 2px;
  border-top-left-radius: 2px;
}
.list-group-item:last-child {
  margin-bottom: 0;
  border-bottom-right-radius: 2px;
  border-bottom-left-radius: 2px;
}
a.list-group-item,
button.list-group-item {
  color: #555;
}
a.list-group-item .list-group-item-heading,
button.list-group-item .list-group-item-heading {
  color: #333;
}
a.list-group-item:hover,
button.list-group-item:hover,
a.list-group-item:focus,
button.list-group-item:focus {
  text-decoration: none;
  color: #555;
  background-color: #f5f5f5;
}
button.list-group-item {
  width: 100%;
  text-align: left;
}
.list-group-item.disabled,
.list-group-item.disabled:hover,
.list-group-item.disabled:focus {
  background-color: #eeeeee;
  color: #777777;
  cursor: not-allowed;
}
.list-group-item.disabled .list-group-item-heading,
.list-group-item.disabled:hover .list-group-item-heading,
.list-group-item.disabled:focus .list-group-item-heading {
  color: inherit;
}
.list-group-item.disabled .list-group-item-text,
.list-group-item.disabled:hover .list-group-item-text,
.list-group-item.disabled:focus .list-group-item-text {
  color: #777777;
}
.list-group-item.active,
.list-group-item.active:hover,
.list-group-item.active:focus {
  z-index: 2;
  color: #fff;
  background-color: #337ab7;
  border-color: #337ab7;
}
.list-group-item.active .list-group-item-heading,
.list-group-item.active:hover .list-group-item-heading,
.list-group-item.active:focus .list-group-item-heading,
.list-group-item.active .list-group-item-heading > small,
.list-group-item.active:hover .list-group-item-heading > small,
.list-group-item.active:focus .list-group-item-heading > small,
.list-group-item.active .list-group-item-heading > .small,
.list-group-item.active:hover .list-group-item-heading > .small,
.list-group-item.active:focus .list-group-item-heading > .small {
  color: inherit;
}
.list-group-item.active .list-group-item-text,
.list-group-item.active:hover .list-group-item-text,
.list-group-item.active:focus .list-group-item-text {
  color: #c7ddef;
}
.list-group-item-success {
  color: #3c763d;
  background-color: #dff0d8;
}
a.list-group-item-success,
button.list-group-item-success {
  color: #3c763d;
}
a.list-group-item-success .list-group-item-heading,
button.list-group-item-success .list-group-item-heading {
  color: inherit;
}
a.list-group-item-success:hover,
button.list-group-item-success:hover,
a.list-group-item-success:focus,
button.list-group-item-success:focus {
  color: #3c763d;
  background-color: #d0e9c6;
}
a.list-group-item-success.active,
button.list-group-item-success.active,
a.list-group-item-success.active:hover,
button.list-group-item-success.active:hover,
a.list-group-item-success.active:focus,
button.list-group-item-success.active:focus {
  color: #fff;
  background-color: #3c763d;
  border-color: #3c763d;
}
.list-group-item-info {
  color: #31708f;
  background-color: #d9edf7;
}
a.list-group-item-info,
button.list-group-item-info {
  color: #31708f;
}
a.list-group-item-info .list-group-item-heading,
button.list-group-item-info .list-group-item-heading {
  color: inherit;
}
a.list-group-item-info:hover,
button.list-group-item-info:hover,
a.list-group-item-info:focus,
button.list-group-item-info:focus {
  color: #31708f;
  background-color: #c4e3f3;
}
a.list-group-item-info.active,
button.list-group-item-info.active,
a.list-group-item-info.active:hover,
button.list-group-item-info.active:hover,
a.list-group-item-info.active:focus,
button.list-group-item-info.active:focus {
  color: #fff;
  background-color: #31708f;
  border-color: #31708f;
}
.list-group-item-warning {
  color: #8a6d3b;
  background-color: #fcf8e3;
}
a.list-group-item-warning,
button.list-group-item-warning {
  color: #8a6d3b;
}
a.list-group-item-warning .list-group-item-heading,
button.list-group-item-warning .list-group-item-heading {
  color: inherit;
}
a.list-group-item-warning:hover,
button.list-group-item-warning:hover,
a.list-group-item-warning:focus,
button.list-group-item-warning:focus {
  color: #8a6d3b;
  background-color: #faf2cc;
}
a.list-group-item-warning.active,
button.list-group-item-warning.active,
a.list-group-item-warning.active:hover,
button.list-group-item-warning.active:hover,
a.list-group-item-warning.active:focus,
button.list-group-item-warning.active:focus {
  color: #fff;
  background-color: #8a6d3b;
  border-color: #8a6d3b;
}
.list-group-item-danger {
  color: #a94442;
  background-color: #f2dede;
}
a.list-group-item-danger,
button.list-group-item-danger {
  color: #a94442;
}
a.list-group-item-danger .list-group-item-heading,
button.list-group-item-danger .list-group-item-heading {
  color: inherit;
}
a.list-group-item-danger:hover,
button.list-group-item-danger:hover,
a.list-group-item-danger:focus,
button.list-group-item-danger:focus {
  color: #a94442;
  background-color: #ebcccc;
}
a.list-group-item-danger.active,
button.list-group-item-danger.active,
a.list-group-item-danger.active:hover,
button.list-group-item-danger.active:hover,
a.list-group-item-danger.active:focus,
button.list-group-item-danger.active:focus {
  color: #fff;
  background-color: #a94442;
  border-color: #a94442;
}
.list-group-item-heading {
  margin-top: 0;
  margin-bottom: 5px;
}
.list-group-item-text {
  margin-bottom: 0;
  line-height: 1.3;
}
.panel {
  margin-bottom: 18px;
  background-color: #fff;
  border: 1px solid transparent;
  border-radius: 2px;
  -webkit-box-shadow: 0 1px 1px rgba(0, 0, 0, 0.05);
  box-shadow: 0 1px 1px rgba(0, 0, 0, 0.05);
}
.panel-body {
  padding: 15px;
}
.panel-heading {
  padding: 10px 15px;
  border-bottom: 1px solid transparent;
  border-top-right-radius: 1px;
  border-top-left-radius: 1px;
}
.panel-heading > .dropdown .dropdown-toggle {
  color: inherit;
}
.panel-title {
  margin-top: 0;
  margin-bottom: 0;
  font-size: 15px;
  color: inherit;
}
.panel-title > a,
.panel-title > small,
.panel-title > .small,
.panel-title > small > a,
.panel-title > .small > a {
  color: inherit;
}
.panel-footer {
  padding: 10px 15px;
  background-color: #f5f5f5;
  border-top: 1px solid #ddd;
  border-bottom-right-radius: 1px;
  border-bottom-left-radius: 1px;
}
.panel > .list-group,
.panel > .panel-collapse > .list-group {
  margin-bottom: 0;
}
.panel > .list-group .list-group-item,
.panel > .panel-collapse > .list-group .list-group-item {
  border-width: 1px 0;
  border-radius: 0;
}
.panel > .list-group:first-child .list-group-item:first-child,
.panel > .panel-collapse > .list-group:first-child .list-group-item:first-child {
  border-top: 0;
  border-top-right-radius: 1px;
  border-top-left-radius: 1px;
}
.panel > .list-group:last-child .list-group-item:last-child,
.panel > .panel-collapse > .list-group:last-child .list-group-item:last-child {
  border-bottom: 0;
  border-bottom-right-radius: 1px;
  border-bottom-left-radius: 1px;
}
.panel > .panel-heading + .panel-collapse > .list-group .list-group-item:first-child {
  border-top-right-radius: 0;
  border-top-left-radius: 0;
}
.panel-heading + .list-group .list-group-item:first-child {
  border-top-width: 0;
}
.list-group + .panel-footer {
  border-top-width: 0;
}
.panel > .table,
.panel > .table-responsive > .table,
.panel > .panel-collapse > .table {
  margin-bottom: 0;
}
.panel > .table caption,
.panel > .table-responsive > .table caption,
.panel > .panel-collapse > .table caption {
  padding-left: 15px;
  padding-right: 15px;
}
.panel > .table:first-child,
.panel > .table-responsive:first-child > .table:first-child {
  border-top-right-radius: 1px;
  border-top-left-radius: 1px;
}
.panel > .table:first-child > thead:first-child > tr:first-child,
.panel > .table-responsive:first-child > .table:first-child > thead:first-child > tr:first-child,
.panel > .table:first-child > tbody:first-child > tr:first-child,
.panel > .table-responsive:first-child > .table:first-child > tbody:first-child > tr:first-child {
  border-top-left-radius: 1px;
  border-top-right-radius: 1px;
}
.panel > .table:first-child > thead:first-child > tr:first-child td:first-child,
.panel > .table-responsive:first-child > .table:first-child > thead:first-child > tr:first-child td:first-child,
.panel > .table:first-child > tbody:first-child > tr:first-child td:first-child,
.panel > .table-responsive:first-child > .table:first-child > tbody:first-child > tr:first-child td:first-child,
.panel > .table:first-child > thead:first-child > tr:first-child th:first-child,
.panel > .table-responsive:first-child > .table:first-child > thead:first-child > tr:first-child th:first-child,
.panel > .table:first-child > tbody:first-child > tr:first-child th:first-child,
.panel > .table-responsive:first-child > .table:first-child > tbody:first-child > tr:first-child th:first-child {
  border-top-left-radius: 1px;
}
.panel > .table:first-child > thead:first-child > tr:first-child td:last-child,
.panel > .table-responsive:first-child > .table:first-child > thead:first-child > tr:first-child td:last-child,
.panel > .table:first-child > tbody:first-child > tr:first-child td:last-child,
.panel > .table-responsive:first-child > .table:first-child > tbody:first-child > tr:first-child td:last-child,
.panel > .table:first-child > thead:first-child > tr:first-child th:last-child,
.panel > .table-responsive:first-child > .table:first-child > thead:first-child > tr:first-child th:last-child,
.panel > .table:first-child > tbody:first-child > tr:first-child th:last-child,
.panel > .table-responsive:first-child > .table:first-child > tbody:first-child > tr:first-child th:last-child {
  border-top-right-radius: 1px;
}
.panel > .table:last-child,
.panel > .table-responsive:last-child > .table:last-child {
  border-bottom-right-radius: 1px;
  border-bottom-left-radius: 1px;
}
.panel > .table:last-child > tbody:last-child > tr:last-child,
.panel > .table-responsive:last-child > .table:last-child > tbody:last-child > tr:last-child,
.panel > .table:last-child > tfoot:last-child > tr:last-child,
.panel > .table-responsive:last-child > .table:last-child > tfoot:last-child > tr:last-child {
  border-bottom-left-radius: 1px;
  border-bottom-right-radius: 1px;
}
.panel > .table:last-child > tbody:last-child > tr:last-child td:first-child,
.panel > .table-responsive:last-child > .table:last-child > tbody:last-child > tr:last-child td:first-child,
.panel > .table:last-child > tfoot:last-child > tr:last-child td:first-child,
.panel > .table-responsive:last-child > .table:last-child > tfoot:last-child > tr:last-child td:first-child,
.panel > .table:last-child > tbody:last-child > tr:last-child th:first-child,
.panel > .table-responsive:last-child > .table:last-child > tbody:last-child > tr:last-child th:first-child,
.panel > .table:last-child > tfoot:last-child > tr:last-child th:first-child,
.panel > .table-responsive:last-child > .table:last-child > tfoot:last-child > tr:last-child th:first-child {
  border-bottom-left-radius: 1px;
}
.panel > .table:last-child > tbody:last-child > tr:last-child td:last-child,
.panel > .table-responsive:last-child > .table:last-child > tbody:last-child > tr:last-child td:last-child,
.panel > .table:last-child > tfoot:last-child > tr:last-child td:last-child,
.panel > .table-responsive:last-child > .table:last-child > tfoot:last-child > tr:last-child td:last-child,
.panel > .table:last-child > tbody:last-child > tr:last-child th:last-child,
.panel > .table-responsive:last-child > .table:last-child > tbody:last-child > tr:last-child th:last-child,
.panel > .table:last-child > tfoot:last-child > tr:last-child th:last-child,
.panel > .table-responsive:last-child > .table:last-child > tfoot:last-child > tr:last-child th:last-child {
  border-bottom-right-radius: 1px;
}
.panel > .panel-body + .table,
.panel > .panel-body + .table-responsive,
.panel > .table + .panel-body,
.panel > .table-responsive + .panel-body {
  border-top: 1px solid #ddd;
}
.panel > .table > tbody:first-child > tr:first-child th,
.panel > .table > tbody:first-child > tr:first-child td {
  border-top: 0;
}
.panel > .table-bordered,
.panel > .table-responsive > .table-bordered {
  border: 0;
}
.panel > .table-bordered > thead > tr > th:first-child,
.panel > .table-responsive > .table-bordered > thead > tr > th:first-child,
.panel > .table-bordered > tbody > tr > th:first-child,
.panel > .table-responsive > .table-bordered > tbody > tr > th:first-child,
.panel > .table-bordered > tfoot > tr > th:first-child,
.panel > .table-responsive > .table-bordered > tfoot > tr > th:first-child,
.panel > .table-bordered > thead > tr > td:first-child,
.panel > .table-responsive > .table-bordered > thead > tr > td:first-child,
.panel > .table-bordered > tbody > tr > td:first-child,
.panel > .table-responsive > .table-bordered > tbody > tr > td:first-child,
.panel > .table-bordered > tfoot > tr > td:first-child,
.panel > .table-responsive > .table-bordered > tfoot > tr > td:first-child {
  border-left: 0;
}
.panel > .table-bordered > thead > tr > th:last-child,
.panel > .table-responsive > .table-bordered > thead > tr > th:last-child,
.panel > .table-bordered > tbody > tr > th:last-child,
.panel > .table-responsive > .table-bordered > tbody > tr > th:last-child,
.panel > .table-bordered > tfoot > tr > th:last-child,
.panel > .table-responsive > .table-bordered > tfoot > tr > th:last-child,
.panel > .table-bordered > thead > tr > td:last-child,
.panel > .table-responsive > .table-bordered > thead > tr > td:last-child,
.panel > .table-bordered > tbody > tr > td:last-child,
.panel > .table-responsive > .table-bordered > tbody > tr > td:last-child,
.panel > .table-bordered > tfoot > tr > td:last-child,
.panel > .table-responsive > .table-bordered > tfoot > tr > td:last-child {
  border-right: 0;
}
.panel > .table-bordered > thead > tr:first-child > td,
.panel > .table-responsive > .table-bordered > thead > tr:first-child > td,
.panel > .table-bordered > tbody > tr:first-child > td,
.panel > .table-responsive > .table-bordered > tbody > tr:first-child > td,
.panel > .table-bordered > thead > tr:first-child > th,
.panel > .table-responsive > .table-bordered > thead > tr:first-child > th,
.panel > .table-bordered > tbody > tr:first-child > th,
.panel > .table-responsive > .table-bordered > tbody > tr:first-child > th {
  border-bottom: 0;
}
.panel > .table-bordered > tbody > tr:last-child > td,
.panel > .table-responsive > .table-bordered > tbody > tr:last-child > td,
.panel > .table-bordered > tfoot > tr:last-child > td,
.panel > .table-responsive > .table-bordered > tfoot > tr:last-child > td,
.panel > .table-bordered > tbody > tr:last-child > th,
.panel > .table-responsive > .table-bordered > tbody > tr:last-child > th,
.panel > .table-bordered > tfoot > tr:last-child > th,
.panel > .table-responsive > .table-bordered > tfoot > tr:last-child > th {
  border-bottom: 0;
}
.panel > .table-responsive {
  border: 0;
  margin-bottom: 0;
}
.panel-group {
  margin-bottom: 18px;
}
.panel-group .panel {
  margin-bottom: 0;
  border-radius: 2px;
}
.panel-group .panel + .panel {
  margin-top: 5px;
}
.panel-group .panel-heading {
  border-bottom: 0;
}
.panel-group .panel-heading + .panel-collapse > .panel-body,
.panel-group .panel-heading + .panel-collapse > .list-group {
  border-top: 1px solid #ddd;
}
.panel-group .panel-footer {
  border-top: 0;
}
.panel-group .panel-footer + .panel-collapse .panel-body {
  border-bottom: 1px solid #ddd;
}
.panel-default {
  border-color: #ddd;
}
.panel-default > .panel-heading {
  color: #333333;
  background-color: #f5f5f5;
  border-color: #ddd;
}
.panel-default > .panel-heading + .panel-collapse > .panel-body {
  border-top-color: #ddd;
}
.panel-default > .panel-heading .badge {
  color: #f5f5f5;
  background-color: #333333;
}
.panel-default > .panel-footer + .panel-collapse > .panel-body {
  border-bottom-color: #ddd;
}
.panel-primary {
  border-color: #337ab7;
}
.panel-primary > .panel-heading {
  color: #fff;
  background-color: #337ab7;
  border-color: #337ab7;
}
.panel-primary > .panel-heading + .panel-collapse > .panel-body {
  border-top-color: #337ab7;
}
.panel-primary > .panel-heading .badge {
  color: #337ab7;
  background-color: #fff;
}
.panel-primary > .panel-footer + .panel-collapse > .panel-body {
  border-bottom-color: #337ab7;
}
.panel-success {
  border-color: #d6e9c6;
}
.panel-success > .panel-heading {
  color: #3c763d;
  background-color: #dff0d8;
  border-color: #d6e9c6;
}
.panel-success > .panel-heading + .panel-collapse > .panel-body {
  border-top-color: #d6e9c6;
}
.panel-success > .panel-heading .badge {
  color: #dff0d8;
  background-color: #3c763d;
}
.panel-success > .panel-footer + .panel-collapse > .panel-body {
  border-bottom-color: #d6e9c6;
}
.panel-info {
  border-color: #bce8f1;
}
.panel-info > .panel-heading {
  color: #31708f;
  background-color: #d9edf7;
  border-color: #bce8f1;
}
.panel-info > .panel-heading + .panel-collapse > .panel-body {
  border-top-color: #bce8f1;
}
.panel-info > .panel-heading .badge {
  color: #d9edf7;
  background-color: #31708f;
}
.panel-info > .panel-footer + .panel-collapse > .panel-body {
  border-bottom-color: #bce8f1;
}
.panel-warning {
  border-color: #faebcc;
}
.panel-warning > .panel-heading {
  color: #8a6d3b;
  background-color: #fcf8e3;
  border-color: #faebcc;
}
.panel-warning > .panel-heading + .panel-collapse > .panel-body {
  border-top-color: #faebcc;
}
.panel-warning > .panel-heading .badge {
  color: #fcf8e3;
  background-color: #8a6d3b;
}
.panel-warning > .panel-footer + .panel-collapse > .panel-body {
  border-bottom-color: #faebcc;
}
.panel-danger {
  border-color: #ebccd1;
}
.panel-danger > .panel-heading {
  color: #a94442;
  background-color: #f2dede;
  border-color: #ebccd1;
}
.panel-danger > .panel-heading + .panel-collapse > .panel-body {
  border-top-color: #ebccd1;
}
.panel-danger > .panel-heading .badge {
  color: #f2dede;
  background-color: #a94442;
}
.panel-danger > .panel-footer + .panel-collapse > .panel-body {
  border-bottom-color: #ebccd1;
}
.embed-responsive {
  position: relative;
  display: block;
  height: 0;
  padding: 0;
  overflow: hidden;
}
.embed-responsive .embed-responsive-item,
.embed-responsive iframe,
.embed-responsive embed,
.embed-responsive object,
.embed-responsive video {
  position: absolute;
  top: 0;
  left: 0;
  bottom: 0;
  height: 100%;
  width: 100%;
  border: 0;
}
.embed-responsive-16by9 {
  padding-bottom: 56.25%;
}
.embed-responsive-4by3 {
  padding-bottom: 75%;
}
.well {
  min-height: 20px;
  padding: 19px;
  margin-bottom: 20px;
  background-color: #f5f5f5;
  border: 1px solid #e3e3e3;
  border-radius: 2px;
  -webkit-box-shadow: inset 0 1px 1px rgba(0, 0, 0, 0.05);
  box-shadow: inset 0 1px 1px rgba(0, 0, 0, 0.05);
}
.well blockquote {
  border-color: #ddd;
  border-color: rgba(0, 0, 0, 0.15);
}
.well-lg {
  padding: 24px;
  border-radius: 3px;
}
.well-sm {
  padding: 9px;
  border-radius: 1px;
}
.close {
  float: right;
  font-size: 19.5px;
  font-weight: bold;
  line-height: 1;
  color: #000;
  text-shadow: 0 1px 0 #fff;
  opacity: 0.2;
  filter: alpha(opacity=20);
}
.close:hover,
.close:focus {
  color: #000;
  text-decoration: none;
  cursor: pointer;
  opacity: 0.5;
  filter: alpha(opacity=50);
}
button.close {
  padding: 0;
  cursor: pointer;
  background: transparent;
  border: 0;
  -webkit-appearance: none;
}
.modal-open {
  overflow: hidden;
}
.modal {
  display: none;
  overflow: hidden;
  position: fixed;
  top: 0;
  right: 0;
  bottom: 0;
  left: 0;
  z-index: 1050;
  -webkit-overflow-scrolling: touch;
  outline: 0;
}
.modal.fade .modal-dialog {
  -webkit-transform: translate(0, -25%);
  -ms-transform: translate(0, -25%);
  -o-transform: translate(0, -25%);
  transform: translate(0, -25%);
  -webkit-transition: -webkit-transform 0.3s ease-out;
  -moz-transition: -moz-transform 0.3s ease-out;
  -o-transition: -o-transform 0.3s ease-out;
  transition: transform 0.3s ease-out;
}
.modal.in .modal-dialog {
  -webkit-transform: translate(0, 0);
  -ms-transform: translate(0, 0);
  -o-transform: translate(0, 0);
  transform: translate(0, 0);
}
.modal-open .modal {
  overflow-x: hidden;
  overflow-y: auto;
}
.modal-dialog {
  position: relative;
  width: auto;
  margin: 10px;
}
.modal-content {
  position: relative;
  background-color: #fff;
  border: 1px solid #999;
  border: 1px solid rgba(0, 0, 0, 0.2);
  border-radius: 3px;
  -webkit-box-shadow: 0 3px 9px rgba(0, 0, 0, 0.5);
  box-shadow: 0 3px 9px rgba(0, 0, 0, 0.5);
  background-clip: padding-box;
  outline: 0;
}
.modal-backdrop {
  position: fixed;
  top: 0;
  right: 0;
  bottom: 0;
  left: 0;
  z-index: 1040;
  background-color: #000;
}
.modal-backdrop.fade {
  opacity: 0;
  filter: alpha(opacity=0);
}
.modal-backdrop.in {
  opacity: 0.5;
  filter: alpha(opacity=50);
}
.modal-header {
  padding: 15px;
  border-bottom: 1px solid #e5e5e5;
}
.modal-header .close {
  margin-top: -2px;
}
.modal-title {
  margin: 0;
  line-height: 1.42857143;
}
.modal-body {
  position: relative;
  padding: 15px;
}
.modal-footer {
  padding: 15px;
  text-align: right;
  border-top: 1px solid #e5e5e5;
}
.modal-footer .btn + .btn {
  margin-left: 5px;
  margin-bottom: 0;
}
.modal-footer .btn-group .btn + .btn {
  margin-left: -1px;
}
.modal-footer .btn-block + .btn-block {
  margin-left: 0;
}
.modal-scrollbar-measure {
  position: absolute;
  top: -9999px;
  width: 50px;
  height: 50px;
  overflow: scroll;
}
@media (min-width: 768px) {
  .modal-dialog {
    width: 600px;
    margin: 30px auto;
  }
  .modal-content {
    -webkit-box-shadow: 0 5px 15px rgba(0, 0, 0, 0.5);
    box-shadow: 0 5px 15px rgba(0, 0, 0, 0.5);
  }
  .modal-sm {
    width: 300px;
  }
}
@media (min-width: 992px) {
  .modal-lg {
    width: 900px;
  }
}
.tooltip {
  position: absolute;
  z-index: 1070;
  display: block;
  font-family: "Helvetica Neue", Helvetica, Arial, sans-serif;
  font-style: normal;
  font-weight: normal;
  letter-spacing: normal;
  line-break: auto;
  line-height: 1.42857143;
  text-align: left;
  text-align: start;
  text-decoration: none;
  text-shadow: none;
  text-transform: none;
  white-space: normal;
  word-break: normal;
  word-spacing: normal;
  word-wrap: normal;
  font-size: 12px;
  opacity: 0;
  filter: alpha(opacity=0);
}
.tooltip.in {
  opacity: 0.9;
  filter: alpha(opacity=90);
}
.tooltip.top {
  margin-top: -3px;
  padding: 5px 0;
}
.tooltip.right {
  margin-left: 3px;
  padding: 0 5px;
}
.tooltip.bottom {
  margin-top: 3px;
  padding: 5px 0;
}
.tooltip.left {
  margin-left: -3px;
  padding: 0 5px;
}
.tooltip-inner {
  max-width: 200px;
  padding: 3px 8px;
  color: #fff;
  text-align: center;
  background-color: #000;
  border-radius: 2px;
}
.tooltip-arrow {
  position: absolute;
  width: 0;
  height: 0;
  border-color: transparent;
  border-style: solid;
}
.tooltip.top .tooltip-arrow {
  bottom: 0;
  left: 50%;
  margin-left: -5px;
  border-width: 5px 5px 0;
  border-top-color: #000;
}
.tooltip.top-left .tooltip-arrow {
  bottom: 0;
  right: 5px;
  margin-bottom: -5px;
  border-width: 5px 5px 0;
  border-top-color: #000;
}
.tooltip.top-right .tooltip-arrow {
  bottom: 0;
  left: 5px;
  margin-bottom: -5px;
  border-width: 5px 5px 0;
  border-top-color: #000;
}
.tooltip.right .tooltip-arrow {
  top: 50%;
  left: 0;
  margin-top: -5px;
  border-width: 5px 5px 5px 0;
  border-right-color: #000;
}
.tooltip.left .tooltip-arrow {
  top: 50%;
  right: 0;
  margin-top: -5px;
  border-width: 5px 0 5px 5px;
  border-left-color: #000;
}
.tooltip.bottom .tooltip-arrow {
  top: 0;
  left: 50%;
  margin-left: -5px;
  border-width: 0 5px 5px;
  border-bottom-color: #000;
}
.tooltip.bottom-left .tooltip-arrow {
  top: 0;
  right: 5px;
  margin-top: -5px;
  border-width: 0 5px 5px;
  border-bottom-color: #000;
}
.tooltip.bottom-right .tooltip-arrow {
  top: 0;
  left: 5px;
  margin-top: -5px;
  border-width: 0 5px 5px;
  border-bottom-color: #000;
}
.popover {
  position: absolute;
  top: 0;
  left: 0;
  z-index: 1060;
  display: none;
  max-width: 276px;
  padding: 1px;
  font-family: "Helvetica Neue", Helvetica, Arial, sans-serif;
  font-style: normal;
  font-weight: normal;
  letter-spacing: normal;
  line-break: auto;
  line-height: 1.42857143;
  text-align: left;
  text-align: start;
  text-decoration: none;
  text-shadow: none;
  text-transform: none;
  white-space: normal;
  word-break: normal;
  word-spacing: normal;
  word-wrap: normal;
  font-size: 13px;
  background-color: #fff;
  background-clip: padding-box;
  border: 1px solid #ccc;
  border: 1px solid rgba(0, 0, 0, 0.2);
  border-radius: 3px;
  -webkit-box-shadow: 0 5px 10px rgba(0, 0, 0, 0.2);
  box-shadow: 0 5px 10px rgba(0, 0, 0, 0.2);
}
.popover.top {
  margin-top: -10px;
}
.popover.right {
  margin-left: 10px;
}
.popover.bottom {
  margin-top: 10px;
}
.popover.left {
  margin-left: -10px;
}
.popover-title {
  margin: 0;
  padding: 8px 14px;
  font-size: 13px;
  background-color: #f7f7f7;
  border-bottom: 1px solid #ebebeb;
  border-radius: 2px 2px 0 0;
}
.popover-content {
  padding: 9px 14px;
}
.popover > .arrow,
.popover > .arrow:after {
  position: absolute;
  display: block;
  width: 0;
  height: 0;
  border-color: transparent;
  border-style: solid;
}
.popover > .arrow {
  border-width: 11px;
}
.popover > .arrow:after {
  border-width: 10px;
  content: "";
}
.popover.top > .arrow {
  left: 50%;
  margin-left: -11px;
  border-bottom-width: 0;
  border-top-color: #999999;
  border-top-color: rgba(0, 0, 0, 0.25);
  bottom: -11px;
}
.popover.top > .arrow:after {
  content: " ";
  bottom: 1px;
  margin-left: -10px;
  border-bottom-width: 0;
  border-top-color: #fff;
}
.popover.right > .arrow {
  top: 50%;
  left: -11px;
  margin-top: -11px;
  border-left-width: 0;
  border-right-color: #999999;
  border-right-color: rgba(0, 0, 0, 0.25);
}
.popover.right > .arrow:after {
  content: " ";
  left: 1px;
  bottom: -10px;
  border-left-width: 0;
  border-right-color: #fff;
}
.popover.bottom > .arrow {
  left: 50%;
  margin-left: -11px;
  border-top-width: 0;
  border-bottom-color: #999999;
  border-bottom-color: rgba(0, 0, 0, 0.25);
  top: -11px;
}
.popover.bottom > .arrow:after {
  content: " ";
  top: 1px;
  margin-left: -10px;
  border-top-width: 0;
  border-bottom-color: #fff;
}
.popover.left > .arrow {
  top: 50%;
  right: -11px;
  margin-top: -11px;
  border-right-width: 0;
  border-left-color: #999999;
  border-left-color: rgba(0, 0, 0, 0.25);
}
.popover.left > .arrow:after {
  content: " ";
  right: 1px;
  border-right-width: 0;
  border-left-color: #fff;
  bottom: -10px;
}
.carousel {
  position: relative;
}
.carousel-inner {
  position: relative;
  overflow: hidden;
  width: 100%;
}
.carousel-inner > .item {
  display: none;
  position: relative;
  -webkit-transition: 0.6s ease-in-out left;
  -o-transition: 0.6s ease-in-out left;
  transition: 0.6s ease-in-out left;
}
.carousel-inner > .item > img,
.carousel-inner > .item > a > img {
  line-height: 1;
}
@media all and (transform-3d), (-webkit-transform-3d) {
  .carousel-inner > .item {
    -webkit-transition: -webkit-transform 0.6s ease-in-out;
    -moz-transition: -moz-transform 0.6s ease-in-out;
    -o-transition: -o-transform 0.6s ease-in-out;
    transition: transform 0.6s ease-in-out;
    -webkit-backface-visibility: hidden;
    -moz-backface-visibility: hidden;
    backface-visibility: hidden;
    -webkit-perspective: 1000px;
    -moz-perspective: 1000px;
    perspective: 1000px;
  }
  .carousel-inner > .item.next,
  .carousel-inner > .item.active.right {
    -webkit-transform: translate3d(100%, 0, 0);
    transform: translate3d(100%, 0, 0);
    left: 0;
  }
  .carousel-inner > .item.prev,
  .carousel-inner > .item.active.left {
    -webkit-transform: translate3d(-100%, 0, 0);
    transform: translate3d(-100%, 0, 0);
    left: 0;
  }
  .carousel-inner > .item.next.left,
  .carousel-inner > .item.prev.right,
  .carousel-inner > .item.active {
    -webkit-transform: translate3d(0, 0, 0);
    transform: translate3d(0, 0, 0);
    left: 0;
  }
}
.carousel-inner > .active,
.carousel-inner > .next,
.carousel-inner > .prev {
  display: block;
}
.carousel-inner > .active {
  left: 0;
}
.carousel-inner > .next,
.carousel-inner > .prev {
  position: absolute;
  top: 0;
  width: 100%;
}
.carousel-inner > .next {
  left: 100%;
}
.carousel-inner > .prev {
  left: -100%;
}
.carousel-inner > .next.left,
.carousel-inner > .prev.right {
  left: 0;
}
.carousel-inner > .active.left {
  left: -100%;
}
.carousel-inner > .active.right {
  left: 100%;
}
.carousel-control {
  position: absolute;
  top: 0;
  left: 0;
  bottom: 0;
  width: 15%;
  opacity: 0.5;
  filter: alpha(opacity=50);
  font-size: 20px;
  color: #fff;
  text-align: center;
  text-shadow: 0 1px 2px rgba(0, 0, 0, 0.6);
  background-color: rgba(0, 0, 0, 0);
}
.carousel-control.left {
  background-image: -webkit-linear-gradient(left, rgba(0, 0, 0, 0.5) 0%, rgba(0, 0, 0, 0.0001) 100%);
  background-image: -o-linear-gradient(left, rgba(0, 0, 0, 0.5) 0%, rgba(0, 0, 0, 0.0001) 100%);
  background-image: linear-gradient(to right, rgba(0, 0, 0, 0.5) 0%, rgba(0, 0, 0, 0.0001) 100%);
  background-repeat: repeat-x;
  filter: progid:DXImageTransform.Microsoft.gradient(startColorstr='#80000000', endColorstr='#00000000', GradientType=1);
}
.carousel-control.right {
  left: auto;
  right: 0;
  background-image: -webkit-linear-gradient(left, rgba(0, 0, 0, 0.0001) 0%, rgba(0, 0, 0, 0.5) 100%);
  background-image: -o-linear-gradient(left, rgba(0, 0, 0, 0.0001) 0%, rgba(0, 0, 0, 0.5) 100%);
  background-image: linear-gradient(to right, rgba(0, 0, 0, 0.0001) 0%, rgba(0, 0, 0, 0.5) 100%);
  background-repeat: repeat-x;
  filter: progid:DXImageTransform.Microsoft.gradient(startColorstr='#00000000', endColorstr='#80000000', GradientType=1);
}
.carousel-control:hover,
.carousel-control:focus {
  outline: 0;
  color: #fff;
  text-decoration: none;
  opacity: 0.9;
  filter: alpha(opacity=90);
}
.carousel-control .icon-prev,
.carousel-control .icon-next,
.carousel-control .glyphicon-chevron-left,
.carousel-control .glyphicon-chevron-right {
  position: absolute;
  top: 50%;
  margin-top: -10px;
  z-index: 5;
  display: inline-block;
}
.carousel-control .icon-prev,
.carousel-control .glyphicon-chevron-left {
  left: 50%;
  margin-left: -10px;
}
.carousel-control .icon-next,
.carousel-control .glyphicon-chevron-right {
  right: 50%;
  margin-right: -10px;
}
.carousel-control .icon-prev,
.carousel-control .icon-next {
  width: 20px;
  height: 20px;
  line-height: 1;
  font-family: serif;
}
.carousel-control .icon-prev:before {
  content: '\2039';
}
.carousel-control .icon-next:before {
  content: '\203a';
}
.carousel-indicators {
  position: absolute;
  bottom: 10px;
  left: 50%;
  z-index: 15;
  width: 60%;
  margin-left: -30%;
  padding-left: 0;
  list-style: none;
  text-align: center;
}
.carousel-indicators li {
  display: inline-block;
  width: 10px;
  height: 10px;
  margin: 1px;
  text-indent: -999px;
  border: 1px solid #fff;
  border-radius: 10px;
  cursor: pointer;
  background-color: #000 \9;
  background-color: rgba(0, 0, 0, 0);
}
.carousel-indicators .active {
  margin: 0;
  width: 12px;
  height: 12px;
  background-color: #fff;
}
.carousel-caption {
  position: absolute;
  left: 15%;
  right: 15%;
  bottom: 20px;
  z-index: 10;
  padding-top: 20px;
  padding-bottom: 20px;
  color: #fff;
  text-align: center;
  text-shadow: 0 1px 2px rgba(0, 0, 0, 0.6);
}
.carousel-caption .btn {
  text-shadow: none;
}
@media screen and (min-width: 768px) {
  .carousel-control .glyphicon-chevron-left,
  .carousel-control .glyphicon-chevron-right,
  .carousel-control .icon-prev,
  .carousel-control .icon-next {
    width: 30px;
    height: 30px;
    margin-top: -10px;
    font-size: 30px;
  }
  .carousel-control .glyphicon-chevron-left,
  .carousel-control .icon-prev {
    margin-left: -10px;
  }
  .carousel-control .glyphicon-chevron-right,
  .carousel-control .icon-next {
    margin-right: -10px;
  }
  .carousel-caption {
    left: 20%;
    right: 20%;
    padding-bottom: 30px;
  }
  .carousel-indicators {
    bottom: 20px;
  }
}
.clearfix:before,
.clearfix:after,
.dl-horizontal dd:before,
.dl-horizontal dd:after,
.container:before,
.container:after,
.container-fluid:before,
.container-fluid:after,
.row:before,
.row:after,
.form-horizontal .form-group:before,
.form-horizontal .form-group:after,
.btn-toolbar:before,
.btn-toolbar:after,
.btn-group-vertical > .btn-group:before,
.btn-group-vertical > .btn-group:after,
.nav:before,
.nav:after,
.navbar:before,
.navbar:after,
.navbar-header:before,
.navbar-header:after,
.navbar-collapse:before,
.navbar-collapse:after,
.pager:before,
.pager:after,
.panel-body:before,
.panel-body:after,
.modal-header:before,
.modal-header:after,
.modal-footer:before,
.modal-footer:after,
.item_buttons:before,
.item_buttons:after {
  content: " ";
  display: table;
}
.clearfix:after,
.dl-horizontal dd:after,
.container:after,
.container-fluid:after,
.row:after,
.form-horizontal .form-group:after,
.btn-toolbar:after,
.btn-group-vertical > .btn-group:after,
.nav:after,
.navbar:after,
.navbar-header:after,
.navbar-collapse:after,
.pager:after,
.panel-body:after,
.modal-header:after,
.modal-footer:after,
.item_buttons:after {
  clear: both;
}
.center-block {
  display: block;
  margin-left: auto;
  margin-right: auto;
}
.pull-right {
  float: right !important;
}
.pull-left {
  float: left !important;
}
.hide {
  display: none !important;
}
.show {
  display: block !important;
}
.invisible {
  visibility: hidden;
}
.text-hide {
  font: 0/0 a;
  color: transparent;
  text-shadow: none;
  background-color: transparent;
  border: 0;
}
.hidden {
  display: none !important;
}
.affix {
  position: fixed;
}
@-ms-viewport {
  width: device-width;
}
.visible-xs,
.visible-sm,
.visible-md,
.visible-lg {
  display: none !important;
}
.visible-xs-block,
.visible-xs-inline,
.visible-xs-inline-block,
.visible-sm-block,
.visible-sm-inline,
.visible-sm-inline-block,
.visible-md-block,
.visible-md-inline,
.visible-md-inline-block,
.visible-lg-block,
.visible-lg-inline,
.visible-lg-inline-block {
  display: none !important;
}
@media (max-width: 767px) {
  .visible-xs {
    display: block !important;
  }
  table.visible-xs {
    display: table !important;
  }
  tr.visible-xs {
    display: table-row !important;
  }
  th.visible-xs,
  td.visible-xs {
    display: table-cell !important;
  }
}
@media (max-width: 767px) {
  .visible-xs-block {
    display: block !important;
  }
}
@media (max-width: 767px) {
  .visible-xs-inline {
    display: inline !important;
  }
}
@media (max-width: 767px) {
  .visible-xs-inline-block {
    display: inline-block !important;
  }
}
@media (min-width: 768px) and (max-width: 991px) {
  .visible-sm {
    display: block !important;
  }
  table.visible-sm {
    display: table !important;
  }
  tr.visible-sm {
    display: table-row !important;
  }
  th.visible-sm,
  td.visible-sm {
    display: table-cell !important;
  }
}
@media (min-width: 768px) and (max-width: 991px) {
  .visible-sm-block {
    display: block !important;
  }
}
@media (min-width: 768px) and (max-width: 991px) {
  .visible-sm-inline {
    display: inline !important;
  }
}
@media (min-width: 768px) and (max-width: 991px) {
  .visible-sm-inline-block {
    display: inline-block !important;
  }
}
@media (min-width: 992px) and (max-width: 1199px) {
  .visible-md {
    display: block !important;
  }
  table.visible-md {
    display: table !important;
  }
  tr.visible-md {
    display: table-row !important;
  }
  th.visible-md,
  td.visible-md {
    display: table-cell !important;
  }
}
@media (min-width: 992px) and (max-width: 1199px) {
  .visible-md-block {
    display: block !important;
  }
}
@media (min-width: 992px) and (max-width: 1199px) {
  .visible-md-inline {
    display: inline !important;
  }
}
@media (min-width: 992px) and (max-width: 1199px) {
  .visible-md-inline-block {
    display: inline-block !important;
  }
}
@media (min-width: 1200px) {
  .visible-lg {
    display: block !important;
  }
  table.visible-lg {
    display: table !important;
  }
  tr.visible-lg {
    display: table-row !important;
  }
  th.visible-lg,
  td.visible-lg {
    display: table-cell !important;
  }
}
@media (min-width: 1200px) {
  .visible-lg-block {
    display: block !important;
  }
}
@media (min-width: 1200px) {
  .visible-lg-inline {
    display: inline !important;
  }
}
@media (min-width: 1200px) {
  .visible-lg-inline-block {
    display: inline-block !important;
  }
}
@media (max-width: 767px) {
  .hidden-xs {
    display: none !important;
  }
}
@media (min-width: 768px) and (max-width: 991px) {
  .hidden-sm {
    display: none !important;
  }
}
@media (min-width: 992px) and (max-width: 1199px) {
  .hidden-md {
    display: none !important;
  }
}
@media (min-width: 1200px) {
  .hidden-lg {
    display: none !important;
  }
}
.visible-print {
  display: none !important;
}
@media print {
  .visible-print {
    display: block !important;
  }
  table.visible-print {
    display: table !important;
  }
  tr.visible-print {
    display: table-row !important;
  }
  th.visible-print,
  td.visible-print {
    display: table-cell !important;
  }
}
.visible-print-block {
  display: none !important;
}
@media print {
  .visible-print-block {
    display: block !important;
  }
}
.visible-print-inline {
  display: none !important;
}
@media print {
  .visible-print-inline {
    display: inline !important;
  }
}
.visible-print-inline-block {
  display: none !important;
}
@media print {
  .visible-print-inline-block {
    display: inline-block !important;
  }
}
@media print {
  .hidden-print {
    display: none !important;
  }
}
/*!
*
* Font Awesome
*
*/
/*!
 *  Font Awesome 4.2.0 by @davegandy - http://fontawesome.io - @fontawesome
 *  License - http://fontawesome.io/license (Font: SIL OFL 1.1, CSS: MIT License)
 */
/* FONT PATH
 * -------------------------- */
@font-face {
  font-family: 'FontAwesome';
  src: url('../components/font-awesome/fonts/fontawesome-webfont.eot?v=4.2.0');
  src: url('../components/font-awesome/fonts/fontawesome-webfont.eot?#iefix&v=4.2.0') format('embedded-opentype'), url('../components/font-awesome/fonts/fontawesome-webfont.woff?v=4.2.0') format('woff'), url('../components/font-awesome/fonts/fontawesome-webfont.ttf?v=4.2.0') format('truetype'), url('../components/font-awesome/fonts/fontawesome-webfont.svg?v=4.2.0#fontawesomeregular') format('svg');
  font-weight: normal;
  font-style: normal;
}
.fa {
  display: inline-block;
  font: normal normal normal 14px/1 FontAwesome;
  font-size: inherit;
  text-rendering: auto;
  -webkit-font-smoothing: antialiased;
  -moz-osx-font-smoothing: grayscale;
}
/* makes the font 33% larger relative to the icon container */
.fa-lg {
  font-size: 1.33333333em;
  line-height: 0.75em;
  vertical-align: -15%;
}
.fa-2x {
  font-size: 2em;
}
.fa-3x {
  font-size: 3em;
}
.fa-4x {
  font-size: 4em;
}
.fa-5x {
  font-size: 5em;
}
.fa-fw {
  width: 1.28571429em;
  text-align: center;
}
.fa-ul {
  padding-left: 0;
  margin-left: 2.14285714em;
  list-style-type: none;
}
.fa-ul > li {
  position: relative;
}
.fa-li {
  position: absolute;
  left: -2.14285714em;
  width: 2.14285714em;
  top: 0.14285714em;
  text-align: center;
}
.fa-li.fa-lg {
  left: -1.85714286em;
}
.fa-border {
  padding: .2em .25em .15em;
  border: solid 0.08em #eee;
  border-radius: .1em;
}
.pull-right {
  float: right;
}
.pull-left {
  float: left;
}
.fa.pull-left {
  margin-right: .3em;
}
.fa.pull-right {
  margin-left: .3em;
}
.fa-spin {
  -webkit-animation: fa-spin 2s infinite linear;
  animation: fa-spin 2s infinite linear;
}
@-webkit-keyframes fa-spin {
  0% {
    -webkit-transform: rotate(0deg);
    transform: rotate(0deg);
  }
  100% {
    -webkit-transform: rotate(359deg);
    transform: rotate(359deg);
  }
}
@keyframes fa-spin {
  0% {
    -webkit-transform: rotate(0deg);
    transform: rotate(0deg);
  }
  100% {
    -webkit-transform: rotate(359deg);
    transform: rotate(359deg);
  }
}
.fa-rotate-90 {
  filter: progid:DXImageTransform.Microsoft.BasicImage(rotation=1);
  -webkit-transform: rotate(90deg);
  -ms-transform: rotate(90deg);
  transform: rotate(90deg);
}
.fa-rotate-180 {
  filter: progid:DXImageTransform.Microsoft.BasicImage(rotation=2);
  -webkit-transform: rotate(180deg);
  -ms-transform: rotate(180deg);
  transform: rotate(180deg);
}
.fa-rotate-270 {
  filter: progid:DXImageTransform.Microsoft.BasicImage(rotation=3);
  -webkit-transform: rotate(270deg);
  -ms-transform: rotate(270deg);
  transform: rotate(270deg);
}
.fa-flip-horizontal {
  filter: progid:DXImageTransform.Microsoft.BasicImage(rotation=0, mirror=1);
  -webkit-transform: scale(-1, 1);
  -ms-transform: scale(-1, 1);
  transform: scale(-1, 1);
}
.fa-flip-vertical {
  filter: progid:DXImageTransform.Microsoft.BasicImage(rotation=2, mirror=1);
  -webkit-transform: scale(1, -1);
  -ms-transform: scale(1, -1);
  transform: scale(1, -1);
}
:root .fa-rotate-90,
:root .fa-rotate-180,
:root .fa-rotate-270,
:root .fa-flip-horizontal,
:root .fa-flip-vertical {
  filter: none;
}
.fa-stack {
  position: relative;
  display: inline-block;
  width: 2em;
  height: 2em;
  line-height: 2em;
  vertical-align: middle;
}
.fa-stack-1x,
.fa-stack-2x {
  position: absolute;
  left: 0;
  width: 100%;
  text-align: center;
}
.fa-stack-1x {
  line-height: inherit;
}
.fa-stack-2x {
  font-size: 2em;
}
.fa-inverse {
  color: #fff;
}
/* Font Awesome uses the Unicode Private Use Area (PUA) to ensure screen
   readers do not read off random characters that represent icons */
.fa-glass:before {
  content: "\f000";
}
.fa-music:before {
  content: "\f001";
}
.fa-search:before {
  content: "\f002";
}
.fa-envelope-o:before {
  content: "\f003";
}
.fa-heart:before {
  content: "\f004";
}
.fa-star:before {
  content: "\f005";
}
.fa-star-o:before {
  content: "\f006";
}
.fa-user:before {
  content: "\f007";
}
.fa-film:before {
  content: "\f008";
}
.fa-th-large:before {
  content: "\f009";
}
.fa-th:before {
  content: "\f00a";
}
.fa-th-list:before {
  content: "\f00b";
}
.fa-check:before {
  content: "\f00c";
}
.fa-remove:before,
.fa-close:before,
.fa-times:before {
  content: "\f00d";
}
.fa-search-plus:before {
  content: "\f00e";
}
.fa-search-minus:before {
  content: "\f010";
}
.fa-power-off:before {
  content: "\f011";
}
.fa-signal:before {
  content: "\f012";
}
.fa-gear:before,
.fa-cog:before {
  content: "\f013";
}
.fa-trash-o:before {
  content: "\f014";
}
.fa-home:before {
  content: "\f015";
}
.fa-file-o:before {
  content: "\f016";
}
.fa-clock-o:before {
  content: "\f017";
}
.fa-road:before {
  content: "\f018";
}
.fa-download:before {
  content: "\f019";
}
.fa-arrow-circle-o-down:before {
  content: "\f01a";
}
.fa-arrow-circle-o-up:before {
  content: "\f01b";
}
.fa-inbox:before {
  content: "\f01c";
}
.fa-play-circle-o:before {
  content: "\f01d";
}
.fa-rotate-right:before,
.fa-repeat:before {
  content: "\f01e";
}
.fa-refresh:before {
  content: "\f021";
}
.fa-list-alt:before {
  content: "\f022";
}
.fa-lock:before {
  content: "\f023";
}
.fa-flag:before {
  content: "\f024";
}
.fa-headphones:before {
  content: "\f025";
}
.fa-volume-off:before {
  content: "\f026";
}
.fa-volume-down:before {
  content: "\f027";
}
.fa-volume-up:before {
  content: "\f028";
}
.fa-qrcode:before {
  content: "\f029";
}
.fa-barcode:before {
  content: "\f02a";
}
.fa-tag:before {
  content: "\f02b";
}
.fa-tags:before {
  content: "\f02c";
}
.fa-book:before {
  content: "\f02d";
}
.fa-bookmark:before {
  content: "\f02e";
}
.fa-print:before {
  content: "\f02f";
}
.fa-camera:before {
  content: "\f030";
}
.fa-font:before {
  content: "\f031";
}
.fa-bold:before {
  content: "\f032";
}
.fa-italic:before {
  content: "\f033";
}
.fa-text-height:before {
  content: "\f034";
}
.fa-text-width:before {
  content: "\f035";
}
.fa-align-left:before {
  content: "\f036";
}
.fa-align-center:before {
  content: "\f037";
}
.fa-align-right:before {
  content: "\f038";
}
.fa-align-justify:before {
  content: "\f039";
}
.fa-list:before {
  content: "\f03a";
}
.fa-dedent:before,
.fa-outdent:before {
  content: "\f03b";
}
.fa-indent:before {
  content: "\f03c";
}
.fa-video-camera:before {
  content: "\f03d";
}
.fa-photo:before,
.fa-image:before,
.fa-picture-o:before {
  content: "\f03e";
}
.fa-pencil:before {
  content: "\f040";
}
.fa-map-marker:before {
  content: "\f041";
}
.fa-adjust:before {
  content: "\f042";
}
.fa-tint:before {
  content: "\f043";
}
.fa-edit:before,
.fa-pencil-square-o:before {
  content: "\f044";
}
.fa-share-square-o:before {
  content: "\f045";
}
.fa-check-square-o:before {
  content: "\f046";
}
.fa-arrows:before {
  content: "\f047";
}
.fa-step-backward:before {
  content: "\f048";
}
.fa-fast-backward:before {
  content: "\f049";
}
.fa-backward:before {
  content: "\f04a";
}
.fa-play:before {
  content: "\f04b";
}
.fa-pause:before {
  content: "\f04c";
}
.fa-stop:before {
  content: "\f04d";
}
.fa-forward:before {
  content: "\f04e";
}
.fa-fast-forward:before {
  content: "\f050";
}
.fa-step-forward:before {
  content: "\f051";
}
.fa-eject:before {
  content: "\f052";
}
.fa-chevron-left:before {
  content: "\f053";
}
.fa-chevron-right:before {
  content: "\f054";
}
.fa-plus-circle:before {
  content: "\f055";
}
.fa-minus-circle:before {
  content: "\f056";
}
.fa-times-circle:before {
  content: "\f057";
}
.fa-check-circle:before {
  content: "\f058";
}
.fa-question-circle:before {
  content: "\f059";
}
.fa-info-circle:before {
  content: "\f05a";
}
.fa-crosshairs:before {
  content: "\f05b";
}
.fa-times-circle-o:before {
  content: "\f05c";
}
.fa-check-circle-o:before {
  content: "\f05d";
}
.fa-ban:before {
  content: "\f05e";
}
.fa-arrow-left:before {
  content: "\f060";
}
.fa-arrow-right:before {
  content: "\f061";
}
.fa-arrow-up:before {
  content: "\f062";
}
.fa-arrow-down:before {
  content: "\f063";
}
.fa-mail-forward:before,
.fa-share:before {
  content: "\f064";
}
.fa-expand:before {
  content: "\f065";
}
.fa-compress:before {
  content: "\f066";
}
.fa-plus:before {
  content: "\f067";
}
.fa-minus:before {
  content: "\f068";
}
.fa-asterisk:before {
  content: "\f069";
}
.fa-exclamation-circle:before {
  content: "\f06a";
}
.fa-gift:before {
  content: "\f06b";
}
.fa-leaf:before {
  content: "\f06c";
}
.fa-fire:before {
  content: "\f06d";
}
.fa-eye:before {
  content: "\f06e";
}
.fa-eye-slash:before {
  content: "\f070";
}
.fa-warning:before,
.fa-exclamation-triangle:before {
  content: "\f071";
}
.fa-plane:before {
  content: "\f072";
}
.fa-calendar:before {
  content: "\f073";
}
.fa-random:before {
  content: "\f074";
}
.fa-comment:before {
  content: "\f075";
}
.fa-magnet:before {
  content: "\f076";
}
.fa-chevron-up:before {
  content: "\f077";
}
.fa-chevron-down:before {
  content: "\f078";
}
.fa-retweet:before {
  content: "\f079";
}
.fa-shopping-cart:before {
  content: "\f07a";
}
.fa-folder:before {
  content: "\f07b";
}
.fa-folder-open:before {
  content: "\f07c";
}
.fa-arrows-v:before {
  content: "\f07d";
}
.fa-arrows-h:before {
  content: "\f07e";
}
.fa-bar-chart-o:before,
.fa-bar-chart:before {
  content: "\f080";
}
.fa-twitter-square:before {
  content: "\f081";
}
.fa-facebook-square:before {
  content: "\f082";
}
.fa-camera-retro:before {
  content: "\f083";
}
.fa-key:before {
  content: "\f084";
}
.fa-gears:before,
.fa-cogs:before {
  content: "\f085";
}
.fa-comments:before {
  content: "\f086";
}
.fa-thumbs-o-up:before {
  content: "\f087";
}
.fa-thumbs-o-down:before {
  content: "\f088";
}
.fa-star-half:before {
  content: "\f089";
}
.fa-heart-o:before {
  content: "\f08a";
}
.fa-sign-out:before {
  content: "\f08b";
}
.fa-linkedin-square:before {
  content: "\f08c";
}
.fa-thumb-tack:before {
  content: "\f08d";
}
.fa-external-link:before {
  content: "\f08e";
}
.fa-sign-in:before {
  content: "\f090";
}
.fa-trophy:before {
  content: "\f091";
}
.fa-github-square:before {
  content: "\f092";
}
.fa-upload:before {
  content: "\f093";
}
.fa-lemon-o:before {
  content: "\f094";
}
.fa-phone:before {
  content: "\f095";
}
.fa-square-o:before {
  content: "\f096";
}
.fa-bookmark-o:before {
  content: "\f097";
}
.fa-phone-square:before {
  content: "\f098";
}
.fa-twitter:before {
  content: "\f099";
}
.fa-facebook:before {
  content: "\f09a";
}
.fa-github:before {
  content: "\f09b";
}
.fa-unlock:before {
  content: "\f09c";
}
.fa-credit-card:before {
  content: "\f09d";
}
.fa-rss:before {
  content: "\f09e";
}
.fa-hdd-o:before {
  content: "\f0a0";
}
.fa-bullhorn:before {
  content: "\f0a1";
}
.fa-bell:before {
  content: "\f0f3";
}
.fa-certificate:before {
  content: "\f0a3";
}
.fa-hand-o-right:before {
  content: "\f0a4";
}
.fa-hand-o-left:before {
  content: "\f0a5";
}
.fa-hand-o-up:before {
  content: "\f0a6";
}
.fa-hand-o-down:before {
  content: "\f0a7";
}
.fa-arrow-circle-left:before {
  content: "\f0a8";
}
.fa-arrow-circle-right:before {
  content: "\f0a9";
}
.fa-arrow-circle-up:before {
  content: "\f0aa";
}
.fa-arrow-circle-down:before {
  content: "\f0ab";
}
.fa-globe:before {
  content: "\f0ac";
}
.fa-wrench:before {
  content: "\f0ad";
}
.fa-tasks:before {
  content: "\f0ae";
}
.fa-filter:before {
  content: "\f0b0";
}
.fa-briefcase:before {
  content: "\f0b1";
}
.fa-arrows-alt:before {
  content: "\f0b2";
}
.fa-group:before,
.fa-users:before {
  content: "\f0c0";
}
.fa-chain:before,
.fa-link:before {
  content: "\f0c1";
}
.fa-cloud:before {
  content: "\f0c2";
}
.fa-flask:before {
  content: "\f0c3";
}
.fa-cut:before,
.fa-scissors:before {
  content: "\f0c4";
}
.fa-copy:before,
.fa-files-o:before {
  content: "\f0c5";
}
.fa-paperclip:before {
  content: "\f0c6";
}
.fa-save:before,
.fa-floppy-o:before {
  content: "\f0c7";
}
.fa-square:before {
  content: "\f0c8";
}
.fa-navicon:before,
.fa-reorder:before,
.fa-bars:before {
  content: "\f0c9";
}
.fa-list-ul:before {
  content: "\f0ca";
}
.fa-list-ol:before {
  content: "\f0cb";
}
.fa-strikethrough:before {
  content: "\f0cc";
}
.fa-underline:before {
  content: "\f0cd";
}
.fa-table:before {
  content: "\f0ce";
}
.fa-magic:before {
  content: "\f0d0";
}
.fa-truck:before {
  content: "\f0d1";
}
.fa-pinterest:before {
  content: "\f0d2";
}
.fa-pinterest-square:before {
  content: "\f0d3";
}
.fa-google-plus-square:before {
  content: "\f0d4";
}
.fa-google-plus:before {
  content: "\f0d5";
}
.fa-money:before {
  content: "\f0d6";
}
.fa-caret-down:before {
  content: "\f0d7";
}
.fa-caret-up:before {
  content: "\f0d8";
}
.fa-caret-left:before {
  content: "\f0d9";
}
.fa-caret-right:before {
  content: "\f0da";
}
.fa-columns:before {
  content: "\f0db";
}
.fa-unsorted:before,
.fa-sort:before {
  content: "\f0dc";
}
.fa-sort-down:before,
.fa-sort-desc:before {
  content: "\f0dd";
}
.fa-sort-up:before,
.fa-sort-asc:before {
  content: "\f0de";
}
.fa-envelope:before {
  content: "\f0e0";
}
.fa-linkedin:before {
  content: "\f0e1";
}
.fa-rotate-left:before,
.fa-undo:before {
  content: "\f0e2";
}
.fa-legal:before,
.fa-gavel:before {
  content: "\f0e3";
}
.fa-dashboard:before,
.fa-tachometer:before {
  content: "\f0e4";
}
.fa-comment-o:before {
  content: "\f0e5";
}
.fa-comments-o:before {
  content: "\f0e6";
}
.fa-flash:before,
.fa-bolt:before {
  content: "\f0e7";
}
.fa-sitemap:before {
  content: "\f0e8";
}
.fa-umbrella:before {
  content: "\f0e9";
}
.fa-paste:before,
.fa-clipboard:before {
  content: "\f0ea";
}
.fa-lightbulb-o:before {
  content: "\f0eb";
}
.fa-exchange:before {
  content: "\f0ec";
}
.fa-cloud-download:before {
  content: "\f0ed";
}
.fa-cloud-upload:before {
  content: "\f0ee";
}
.fa-user-md:before {
  content: "\f0f0";
}
.fa-stethoscope:before {
  content: "\f0f1";
}
.fa-suitcase:before {
  content: "\f0f2";
}
.fa-bell-o:before {
  content: "\f0a2";
}
.fa-coffee:before {
  content: "\f0f4";
}
.fa-cutlery:before {
  content: "\f0f5";
}
.fa-file-text-o:before {
  content: "\f0f6";
}
.fa-building-o:before {
  content: "\f0f7";
}
.fa-hospital-o:before {
  content: "\f0f8";
}
.fa-ambulance:before {
  content: "\f0f9";
}
.fa-medkit:before {
  content: "\f0fa";
}
.fa-fighter-jet:before {
  content: "\f0fb";
}
.fa-beer:before {
  content: "\f0fc";
}
.fa-h-square:before {
  content: "\f0fd";
}
.fa-plus-square:before {
  content: "\f0fe";
}
.fa-angle-double-left:before {
  content: "\f100";
}
.fa-angle-double-right:before {
  content: "\f101";
}
.fa-angle-double-up:before {
  content: "\f102";
}
.fa-angle-double-down:before {
  content: "\f103";
}
.fa-angle-left:before {
  content: "\f104";
}
.fa-angle-right:before {
  content: "\f105";
}
.fa-angle-up:before {
  content: "\f106";
}
.fa-angle-down:before {
  content: "\f107";
}
.fa-desktop:before {
  content: "\f108";
}
.fa-laptop:before {
  content: "\f109";
}
.fa-tablet:before {
  content: "\f10a";
}
.fa-mobile-phone:before,
.fa-mobile:before {
  content: "\f10b";
}
.fa-circle-o:before {
  content: "\f10c";
}
.fa-quote-left:before {
  content: "\f10d";
}
.fa-quote-right:before {
  content: "\f10e";
}
.fa-spinner:before {
  content: "\f110";
}
.fa-circle:before {
  content: "\f111";
}
.fa-mail-reply:before,
.fa-reply:before {
  content: "\f112";
}
.fa-github-alt:before {
  content: "\f113";
}
.fa-folder-o:before {
  content: "\f114";
}
.fa-folder-open-o:before {
  content: "\f115";
}
.fa-smile-o:before {
  content: "\f118";
}
.fa-frown-o:before {
  content: "\f119";
}
.fa-meh-o:before {
  content: "\f11a";
}
.fa-gamepad:before {
  content: "\f11b";
}
.fa-keyboard-o:before {
  content: "\f11c";
}
.fa-flag-o:before {
  content: "\f11d";
}
.fa-flag-checkered:before {
  content: "\f11e";
}
.fa-terminal:before {
  content: "\f120";
}
.fa-code:before {
  content: "\f121";
}
.fa-mail-reply-all:before,
.fa-reply-all:before {
  content: "\f122";
}
.fa-star-half-empty:before,
.fa-star-half-full:before,
.fa-star-half-o:before {
  content: "\f123";
}
.fa-location-arrow:before {
  content: "\f124";
}
.fa-crop:before {
  content: "\f125";
}
.fa-code-fork:before {
  content: "\f126";
}
.fa-unlink:before,
.fa-chain-broken:before {
  content: "\f127";
}
.fa-question:before {
  content: "\f128";
}
.fa-info:before {
  content: "\f129";
}
.fa-exclamation:before {
  content: "\f12a";
}
.fa-superscript:before {
  content: "\f12b";
}
.fa-subscript:before {
  content: "\f12c";
}
.fa-eraser:before {
  content: "\f12d";
}
.fa-puzzle-piece:before {
  content: "\f12e";
}
.fa-microphone:before {
  content: "\f130";
}
.fa-microphone-slash:before {
  content: "\f131";
}
.fa-shield:before {
  content: "\f132";
}
.fa-calendar-o:before {
  content: "\f133";
}
.fa-fire-extinguisher:before {
  content: "\f134";
}
.fa-rocket:before {
  content: "\f135";
}
.fa-maxcdn:before {
  content: "\f136";
}
.fa-chevron-circle-left:before {
  content: "\f137";
}
.fa-chevron-circle-right:before {
  content: "\f138";
}
.fa-chevron-circle-up:before {
  content: "\f139";
}
.fa-chevron-circle-down:before {
  content: "\f13a";
}
.fa-html5:before {
  content: "\f13b";
}
.fa-css3:before {
  content: "\f13c";
}
.fa-anchor:before {
  content: "\f13d";
}
.fa-unlock-alt:before {
  content: "\f13e";
}
.fa-bullseye:before {
  content: "\f140";
}
.fa-ellipsis-h:before {
  content: "\f141";
}
.fa-ellipsis-v:before {
  content: "\f142";
}
.fa-rss-square:before {
  content: "\f143";
}
.fa-play-circle:before {
  content: "\f144";
}
.fa-ticket:before {
  content: "\f145";
}
.fa-minus-square:before {
  content: "\f146";
}
.fa-minus-square-o:before {
  content: "\f147";
}
.fa-level-up:before {
  content: "\f148";
}
.fa-level-down:before {
  content: "\f149";
}
.fa-check-square:before {
  content: "\f14a";
}
.fa-pencil-square:before {
  content: "\f14b";
}
.fa-external-link-square:before {
  content: "\f14c";
}
.fa-share-square:before {
  content: "\f14d";
}
.fa-compass:before {
  content: "\f14e";
}
.fa-toggle-down:before,
.fa-caret-square-o-down:before {
  content: "\f150";
}
.fa-toggle-up:before,
.fa-caret-square-o-up:before {
  content: "\f151";
}
.fa-toggle-right:before,
.fa-caret-square-o-right:before {
  content: "\f152";
}
.fa-euro:before,
.fa-eur:before {
  content: "\f153";
}
.fa-gbp:before {
  content: "\f154";
}
.fa-dollar:before,
.fa-usd:before {
  content: "\f155";
}
.fa-rupee:before,
.fa-inr:before {
  content: "\f156";
}
.fa-cny:before,
.fa-rmb:before,
.fa-yen:before,
.fa-jpy:before {
  content: "\f157";
}
.fa-ruble:before,
.fa-rouble:before,
.fa-rub:before {
  content: "\f158";
}
.fa-won:before,
.fa-krw:before {
  content: "\f159";
}
.fa-bitcoin:before,
.fa-btc:before {
  content: "\f15a";
}
.fa-file:before {
  content: "\f15b";
}
.fa-file-text:before {
  content: "\f15c";
}
.fa-sort-alpha-asc:before {
  content: "\f15d";
}
.fa-sort-alpha-desc:before {
  content: "\f15e";
}
.fa-sort-amount-asc:before {
  content: "\f160";
}
.fa-sort-amount-desc:before {
  content: "\f161";
}
.fa-sort-numeric-asc:before {
  content: "\f162";
}
.fa-sort-numeric-desc:before {
  content: "\f163";
}
.fa-thumbs-up:before {
  content: "\f164";
}
.fa-thumbs-down:before {
  content: "\f165";
}
.fa-youtube-square:before {
  content: "\f166";
}
.fa-youtube:before {
  content: "\f167";
}
.fa-xing:before {
  content: "\f168";
}
.fa-xing-square:before {
  content: "\f169";
}
.fa-youtube-play:before {
  content: "\f16a";
}
.fa-dropbox:before {
  content: "\f16b";
}
.fa-stack-overflow:before {
  content: "\f16c";
}
.fa-instagram:before {
  content: "\f16d";
}
.fa-flickr:before {
  content: "\f16e";
}
.fa-adn:before {
  content: "\f170";
}
.fa-bitbucket:before {
  content: "\f171";
}
.fa-bitbucket-square:before {
  content: "\f172";
}
.fa-tumblr:before {
  content: "\f173";
}
.fa-tumblr-square:before {
  content: "\f174";
}
.fa-long-arrow-down:before {
  content: "\f175";
}
.fa-long-arrow-up:before {
  content: "\f176";
}
.fa-long-arrow-left:before {
  content: "\f177";
}
.fa-long-arrow-right:before {
  content: "\f178";
}
.fa-apple:before {
  content: "\f179";
}
.fa-windows:before {
  content: "\f17a";
}
.fa-android:before {
  content: "\f17b";
}
.fa-linux:before {
  content: "\f17c";
}
.fa-dribbble:before {
  content: "\f17d";
}
.fa-skype:before {
  content: "\f17e";
}
.fa-foursquare:before {
  content: "\f180";
}
.fa-trello:before {
  content: "\f181";
}
.fa-female:before {
  content: "\f182";
}
.fa-male:before {
  content: "\f183";
}
.fa-gittip:before {
  content: "\f184";
}
.fa-sun-o:before {
  content: "\f185";
}
.fa-moon-o:before {
  content: "\f186";
}
.fa-archive:before {
  content: "\f187";
}
.fa-bug:before {
  content: "\f188";
}
.fa-vk:before {
  content: "\f189";
}
.fa-weibo:before {
  content: "\f18a";
}
.fa-renren:before {
  content: "\f18b";
}
.fa-pagelines:before {
  content: "\f18c";
}
.fa-stack-exchange:before {
  content: "\f18d";
}
.fa-arrow-circle-o-right:before {
  content: "\f18e";
}
.fa-arrow-circle-o-left:before {
  content: "\f190";
}
.fa-toggle-left:before,
.fa-caret-square-o-left:before {
  content: "\f191";
}
.fa-dot-circle-o:before {
  content: "\f192";
}
.fa-wheelchair:before {
  content: "\f193";
}
.fa-vimeo-square:before {
  content: "\f194";
}
.fa-turkish-lira:before,
.fa-try:before {
  content: "\f195";
}
.fa-plus-square-o:before {
  content: "\f196";
}
.fa-space-shuttle:before {
  content: "\f197";
}
.fa-slack:before {
  content: "\f198";
}
.fa-envelope-square:before {
  content: "\f199";
}
.fa-wordpress:before {
  content: "\f19a";
}
.fa-openid:before {
  content: "\f19b";
}
.fa-institution:before,
.fa-bank:before,
.fa-university:before {
  content: "\f19c";
}
.fa-mortar-board:before,
.fa-graduation-cap:before {
  content: "\f19d";
}
.fa-yahoo:before {
  content: "\f19e";
}
.fa-google:before {
  content: "\f1a0";
}
.fa-reddit:before {
  content: "\f1a1";
}
.fa-reddit-square:before {
  content: "\f1a2";
}
.fa-stumbleupon-circle:before {
  content: "\f1a3";
}
.fa-stumbleupon:before {
  content: "\f1a4";
}
.fa-delicious:before {
  content: "\f1a5";
}
.fa-digg:before {
  content: "\f1a6";
}
.fa-pied-piper:before {
  content: "\f1a7";
}
.fa-pied-piper-alt:before {
  content: "\f1a8";
}
.fa-drupal:before {
  content: "\f1a9";
}
.fa-joomla:before {
  content: "\f1aa";
}
.fa-language:before {
  content: "\f1ab";
}
.fa-fax:before {
  content: "\f1ac";
}
.fa-building:before {
  content: "\f1ad";
}
.fa-child:before {
  content: "\f1ae";
}
.fa-paw:before {
  content: "\f1b0";
}
.fa-spoon:before {
  content: "\f1b1";
}
.fa-cube:before {
  content: "\f1b2";
}
.fa-cubes:before {
  content: "\f1b3";
}
.fa-behance:before {
  content: "\f1b4";
}
.fa-behance-square:before {
  content: "\f1b5";
}
.fa-steam:before {
  content: "\f1b6";
}
.fa-steam-square:before {
  content: "\f1b7";
}
.fa-recycle:before {
  content: "\f1b8";
}
.fa-automobile:before,
.fa-car:before {
  content: "\f1b9";
}
.fa-cab:before,
.fa-taxi:before {
  content: "\f1ba";
}
.fa-tree:before {
  content: "\f1bb";
}
.fa-spotify:before {
  content: "\f1bc";
}
.fa-deviantart:before {
  content: "\f1bd";
}
.fa-soundcloud:before {
  content: "\f1be";
}
.fa-database:before {
  content: "\f1c0";
}
.fa-file-pdf-o:before {
  content: "\f1c1";
}
.fa-file-word-o:before {
  content: "\f1c2";
}
.fa-file-excel-o:before {
  content: "\f1c3";
}
.fa-file-powerpoint-o:before {
  content: "\f1c4";
}
.fa-file-photo-o:before,
.fa-file-picture-o:before,
.fa-file-image-o:before {
  content: "\f1c5";
}
.fa-file-zip-o:before,
.fa-file-archive-o:before {
  content: "\f1c6";
}
.fa-file-sound-o:before,
.fa-file-audio-o:before {
  content: "\f1c7";
}
.fa-file-movie-o:before,
.fa-file-video-o:before {
  content: "\f1c8";
}
.fa-file-code-o:before {
  content: "\f1c9";
}
.fa-vine:before {
  content: "\f1ca";
}
.fa-codepen:before {
  content: "\f1cb";
}
.fa-jsfiddle:before {
  content: "\f1cc";
}
.fa-life-bouy:before,
.fa-life-buoy:before,
.fa-life-saver:before,
.fa-support:before,
.fa-life-ring:before {
  content: "\f1cd";
}
.fa-circle-o-notch:before {
  content: "\f1ce";
}
.fa-ra:before,
.fa-rebel:before {
  content: "\f1d0";
}
.fa-ge:before,
.fa-empire:before {
  content: "\f1d1";
}
.fa-git-square:before {
  content: "\f1d2";
}
.fa-git:before {
  content: "\f1d3";
}
.fa-hacker-news:before {
  content: "\f1d4";
}
.fa-tencent-weibo:before {
  content: "\f1d5";
}
.fa-qq:before {
  content: "\f1d6";
}
.fa-wechat:before,
.fa-weixin:before {
  content: "\f1d7";
}
.fa-send:before,
.fa-paper-plane:before {
  content: "\f1d8";
}
.fa-send-o:before,
.fa-paper-plane-o:before {
  content: "\f1d9";
}
.fa-history:before {
  content: "\f1da";
}
.fa-circle-thin:before {
  content: "\f1db";
}
.fa-header:before {
  content: "\f1dc";
}
.fa-paragraph:before {
  content: "\f1dd";
}
.fa-sliders:before {
  content: "\f1de";
}
.fa-share-alt:before {
  content: "\f1e0";
}
.fa-share-alt-square:before {
  content: "\f1e1";
}
.fa-bomb:before {
  content: "\f1e2";
}
.fa-soccer-ball-o:before,
.fa-futbol-o:before {
  content: "\f1e3";
}
.fa-tty:before {
  content: "\f1e4";
}
.fa-binoculars:before {
  content: "\f1e5";
}
.fa-plug:before {
  content: "\f1e6";
}
.fa-slideshare:before {
  content: "\f1e7";
}
.fa-twitch:before {
  content: "\f1e8";
}
.fa-yelp:before {
  content: "\f1e9";
}
.fa-newspaper-o:before {
  content: "\f1ea";
}
.fa-wifi:before {
  content: "\f1eb";
}
.fa-calculator:before {
  content: "\f1ec";
}
.fa-paypal:before {
  content: "\f1ed";
}
.fa-google-wallet:before {
  content: "\f1ee";
}
.fa-cc-visa:before {
  content: "\f1f0";
}
.fa-cc-mastercard:before {
  content: "\f1f1";
}
.fa-cc-discover:before {
  content: "\f1f2";
}
.fa-cc-amex:before {
  content: "\f1f3";
}
.fa-cc-paypal:before {
  content: "\f1f4";
}
.fa-cc-stripe:before {
  content: "\f1f5";
}
.fa-bell-slash:before {
  content: "\f1f6";
}
.fa-bell-slash-o:before {
  content: "\f1f7";
}
.fa-trash:before {
  content: "\f1f8";
}
.fa-copyright:before {
  content: "\f1f9";
}
.fa-at:before {
  content: "\f1fa";
}
.fa-eyedropper:before {
  content: "\f1fb";
}
.fa-paint-brush:before {
  content: "\f1fc";
}
.fa-birthday-cake:before {
  content: "\f1fd";
}
.fa-area-chart:before {
  content: "\f1fe";
}
.fa-pie-chart:before {
  content: "\f200";
}
.fa-line-chart:before {
  content: "\f201";
}
.fa-lastfm:before {
  content: "\f202";
}
.fa-lastfm-square:before {
  content: "\f203";
}
.fa-toggle-off:before {
  content: "\f204";
}
.fa-toggle-on:before {
  content: "\f205";
}
.fa-bicycle:before {
  content: "\f206";
}
.fa-bus:before {
  content: "\f207";
}
.fa-ioxhost:before {
  content: "\f208";
}
.fa-angellist:before {
  content: "\f209";
}
.fa-cc:before {
  content: "\f20a";
}
.fa-shekel:before,
.fa-sheqel:before,
.fa-ils:before {
  content: "\f20b";
}
.fa-meanpath:before {
  content: "\f20c";
}
/*!
*
* IPython base
*
*/
.modal.fade .modal-dialog {
  -webkit-transform: translate(0, 0);
  -ms-transform: translate(0, 0);
  -o-transform: translate(0, 0);
  transform: translate(0, 0);
}
code {
  color: #000;
}
pre {
  font-size: inherit;
  line-height: inherit;
}
label {
  font-weight: normal;
}
/* Make the page background atleast 100% the height of the view port */
/* Make the page itself atleast 70% the height of the view port */
.border-box-sizing {
  box-sizing: border-box;
  -moz-box-sizing: border-box;
  -webkit-box-sizing: border-box;
}
.corner-all {
  border-radius: 2px;
}
.no-padding {
  padding: 0px;
}
/* Flexible box model classes */
/* Taken from Alex Russell http://infrequently.org/2009/08/css-3-progress/ */
/* This file is a compatability layer.  It allows the usage of flexible box 
model layouts accross multiple browsers, including older browsers.  The newest,
universal implementation of the flexible box model is used when available (see
`Modern browsers` comments below).  Browsers that are known to implement this 
new spec completely include:

    Firefox 28.0+
    Chrome 29.0+
    Internet Explorer 11+ 
    Opera 17.0+

Browsers not listed, including Safari, are supported via the styling under the
`Old browsers` comments below.
*/
.hbox {
  /* Old browsers */
  display: -webkit-box;
  -webkit-box-orient: horizontal;
  -webkit-box-align: stretch;
  display: -moz-box;
  -moz-box-orient: horizontal;
  -moz-box-align: stretch;
  display: box;
  box-orient: horizontal;
  box-align: stretch;
  /* Modern browsers */
  display: flex;
  flex-direction: row;
  align-items: stretch;
}
.hbox > * {
  /* Old browsers */
  -webkit-box-flex: 0;
  -moz-box-flex: 0;
  box-flex: 0;
  /* Modern browsers */
  flex: none;
}
.vbox {
  /* Old browsers */
  display: -webkit-box;
  -webkit-box-orient: vertical;
  -webkit-box-align: stretch;
  display: -moz-box;
  -moz-box-orient: vertical;
  -moz-box-align: stretch;
  display: box;
  box-orient: vertical;
  box-align: stretch;
  /* Modern browsers */
  display: flex;
  flex-direction: column;
  align-items: stretch;
}
.vbox > * {
  /* Old browsers */
  -webkit-box-flex: 0;
  -moz-box-flex: 0;
  box-flex: 0;
  /* Modern browsers */
  flex: none;
}
.hbox.reverse,
.vbox.reverse,
.reverse {
  /* Old browsers */
  -webkit-box-direction: reverse;
  -moz-box-direction: reverse;
  box-direction: reverse;
  /* Modern browsers */
  flex-direction: row-reverse;
}
.hbox.box-flex0,
.vbox.box-flex0,
.box-flex0 {
  /* Old browsers */
  -webkit-box-flex: 0;
  -moz-box-flex: 0;
  box-flex: 0;
  /* Modern browsers */
  flex: none;
  width: auto;
}
.hbox.box-flex1,
.vbox.box-flex1,
.box-flex1 {
  /* Old browsers */
  -webkit-box-flex: 1;
  -moz-box-flex: 1;
  box-flex: 1;
  /* Modern browsers */
  flex: 1;
}
.hbox.box-flex,
.vbox.box-flex,
.box-flex {
  /* Old browsers */
  /* Old browsers */
  -webkit-box-flex: 1;
  -moz-box-flex: 1;
  box-flex: 1;
  /* Modern browsers */
  flex: 1;
}
.hbox.box-flex2,
.vbox.box-flex2,
.box-flex2 {
  /* Old browsers */
  -webkit-box-flex: 2;
  -moz-box-flex: 2;
  box-flex: 2;
  /* Modern browsers */
  flex: 2;
}
.box-group1 {
  /*  Deprecated */
  -webkit-box-flex-group: 1;
  -moz-box-flex-group: 1;
  box-flex-group: 1;
}
.box-group2 {
  /* Deprecated */
  -webkit-box-flex-group: 2;
  -moz-box-flex-group: 2;
  box-flex-group: 2;
}
.hbox.start,
.vbox.start,
.start {
  /* Old browsers */
  -webkit-box-pack: start;
  -moz-box-pack: start;
  box-pack: start;
  /* Modern browsers */
  justify-content: flex-start;
}
.hbox.end,
.vbox.end,
.end {
  /* Old browsers */
  -webkit-box-pack: end;
  -moz-box-pack: end;
  box-pack: end;
  /* Modern browsers */
  justify-content: flex-end;
}
.hbox.center,
.vbox.center,
.center {
  /* Old browsers */
  -webkit-box-pack: center;
  -moz-box-pack: center;
  box-pack: center;
  /* Modern browsers */
  justify-content: center;
}
.hbox.baseline,
.vbox.baseline,
.baseline {
  /* Old browsers */
  -webkit-box-pack: baseline;
  -moz-box-pack: baseline;
  box-pack: baseline;
  /* Modern browsers */
  justify-content: baseline;
}
.hbox.stretch,
.vbox.stretch,
.stretch {
  /* Old browsers */
  -webkit-box-pack: stretch;
  -moz-box-pack: stretch;
  box-pack: stretch;
  /* Modern browsers */
  justify-content: stretch;
}
.hbox.align-start,
.vbox.align-start,
.align-start {
  /* Old browsers */
  -webkit-box-align: start;
  -moz-box-align: start;
  box-align: start;
  /* Modern browsers */
  align-items: flex-start;
}
.hbox.align-end,
.vbox.align-end,
.align-end {
  /* Old browsers */
  -webkit-box-align: end;
  -moz-box-align: end;
  box-align: end;
  /* Modern browsers */
  align-items: flex-end;
}
.hbox.align-center,
.vbox.align-center,
.align-center {
  /* Old browsers */
  -webkit-box-align: center;
  -moz-box-align: center;
  box-align: center;
  /* Modern browsers */
  align-items: center;
}
.hbox.align-baseline,
.vbox.align-baseline,
.align-baseline {
  /* Old browsers */
  -webkit-box-align: baseline;
  -moz-box-align: baseline;
  box-align: baseline;
  /* Modern browsers */
  align-items: baseline;
}
.hbox.align-stretch,
.vbox.align-stretch,
.align-stretch {
  /* Old browsers */
  -webkit-box-align: stretch;
  -moz-box-align: stretch;
  box-align: stretch;
  /* Modern browsers */
  align-items: stretch;
}
div.error {
  margin: 2em;
  text-align: center;
}
div.error > h1 {
  font-size: 500%;
  line-height: normal;
}
div.error > p {
  font-size: 200%;
  line-height: normal;
}
div.traceback-wrapper {
  text-align: left;
  max-width: 800px;
  margin: auto;
}
/**
 * Primary styles
 *
 * Author: Jupyter Development Team
 */
body {
  background-color: #fff;
  /* This makes sure that the body covers the entire window and needs to
       be in a different element than the display: box in wrapper below */
  position: absolute;
  left: 0px;
  right: 0px;
  top: 0px;
  bottom: 0px;
  overflow: visible;
}
body > #header {
  /* Initially hidden to prevent FLOUC */
  display: none;
  background-color: #fff;
  /* Display over codemirror */
  position: relative;
  z-index: 100;
}
body > #header #header-container {
  padding-bottom: 5px;
  padding-top: 5px;
  box-sizing: border-box;
  -moz-box-sizing: border-box;
  -webkit-box-sizing: border-box;
}
body > #header .header-bar {
  width: 100%;
  height: 1px;
  background: #e7e7e7;
  margin-bottom: -1px;
}
@media print {
  body > #header {
    display: none !important;
  }
}
#header-spacer {
  width: 100%;
  visibility: hidden;
}
@media print {
  #header-spacer {
    display: none;
  }
}
#ipython_notebook {
  padding-left: 0px;
  padding-top: 1px;
  padding-bottom: 1px;
}
@media (max-width: 991px) {
  #ipython_notebook {
    margin-left: 10px;
  }
}
#noscript {
  width: auto;
  padding-top: 16px;
  padding-bottom: 16px;
  text-align: center;
  font-size: 22px;
  color: red;
  font-weight: bold;
}
#ipython_notebook img {
  height: 28px;
}
#site {
  width: 100%;
  display: none;
  box-sizing: border-box;
  -moz-box-sizing: border-box;
  -webkit-box-sizing: border-box;
  overflow: auto;
}
@media print {
  #site {
    height: auto !important;
  }
}
/* Smaller buttons */
.ui-button .ui-button-text {
  padding: 0.2em 0.8em;
  font-size: 77%;
}
input.ui-button {
  padding: 0.3em 0.9em;
}
span#login_widget {
  float: right;
}
span#login_widget > .button,
#logout {
  color: #333;
  background-color: #fff;
  border-color: #ccc;
}
span#login_widget > .button:focus,
#logout:focus,
span#login_widget > .button.focus,
#logout.focus {
  color: #333;
  background-color: #e6e6e6;
  border-color: #8c8c8c;
}
span#login_widget > .button:hover,
#logout:hover {
  color: #333;
  background-color: #e6e6e6;
  border-color: #adadad;
}
span#login_widget > .button:active,
#logout:active,
span#login_widget > .button.active,
#logout.active,
.open > .dropdown-togglespan#login_widget > .button,
.open > .dropdown-toggle#logout {
  color: #333;
  background-color: #e6e6e6;
  border-color: #adadad;
}
span#login_widget > .button:active:hover,
#logout:active:hover,
span#login_widget > .button.active:hover,
#logout.active:hover,
.open > .dropdown-togglespan#login_widget > .button:hover,
.open > .dropdown-toggle#logout:hover,
span#login_widget > .button:active:focus,
#logout:active:focus,
span#login_widget > .button.active:focus,
#logout.active:focus,
.open > .dropdown-togglespan#login_widget > .button:focus,
.open > .dropdown-toggle#logout:focus,
span#login_widget > .button:active.focus,
#logout:active.focus,
span#login_widget > .button.active.focus,
#logout.active.focus,
.open > .dropdown-togglespan#login_widget > .button.focus,
.open > .dropdown-toggle#logout.focus {
  color: #333;
  background-color: #d4d4d4;
  border-color: #8c8c8c;
}
span#login_widget > .button:active,
#logout:active,
span#login_widget > .button.active,
#logout.active,
.open > .dropdown-togglespan#login_widget > .button,
.open > .dropdown-toggle#logout {
  background-image: none;
}
span#login_widget > .button.disabled:hover,
#logout.disabled:hover,
span#login_widget > .button[disabled]:hover,
#logout[disabled]:hover,
fieldset[disabled] span#login_widget > .button:hover,
fieldset[disabled] #logout:hover,
span#login_widget > .button.disabled:focus,
#logout.disabled:focus,
span#login_widget > .button[disabled]:focus,
#logout[disabled]:focus,
fieldset[disabled] span#login_widget > .button:focus,
fieldset[disabled] #logout:focus,
span#login_widget > .button.disabled.focus,
#logout.disabled.focus,
span#login_widget > .button[disabled].focus,
#logout[disabled].focus,
fieldset[disabled] span#login_widget > .button.focus,
fieldset[disabled] #logout.focus {
  background-color: #fff;
  border-color: #ccc;
}
span#login_widget > .button .badge,
#logout .badge {
  color: #fff;
  background-color: #333;
}
.nav-header {
  text-transform: none;
}
#header > span {
  margin-top: 10px;
}
.modal_stretch .modal-dialog {
  /* Old browsers */
  display: -webkit-box;
  -webkit-box-orient: vertical;
  -webkit-box-align: stretch;
  display: -moz-box;
  -moz-box-orient: vertical;
  -moz-box-align: stretch;
  display: box;
  box-orient: vertical;
  box-align: stretch;
  /* Modern browsers */
  display: flex;
  flex-direction: column;
  align-items: stretch;
  min-height: 80vh;
}
.modal_stretch .modal-dialog .modal-body {
  max-height: calc(100vh - 200px);
  overflow: auto;
  flex: 1;
}
@media (min-width: 768px) {
  .modal .modal-dialog {
    width: 700px;
  }
}
@media (min-width: 768px) {
  select.form-control {
    margin-left: 12px;
    margin-right: 12px;
  }
}
/*!
*
* IPython auth
*
*/
.center-nav {
  display: inline-block;
  margin-bottom: -4px;
}
/*!
*
* IPython tree view
*
*/
/* We need an invisible input field on top of the sentense*/
/* "Drag file onto the list ..." */
.alternate_upload {
  background-color: none;
  display: inline;
}
.alternate_upload.form {
  padding: 0;
  margin: 0;
}
.alternate_upload input.fileinput {
  text-align: center;
  vertical-align: middle;
  display: inline;
  opacity: 0;
  z-index: 2;
  width: 12ex;
  margin-right: -12ex;
}
.alternate_upload .btn-upload {
  height: 22px;
}
/**
 * Primary styles
 *
 * Author: Jupyter Development Team
 */
ul#tabs {
  margin-bottom: 4px;
}
ul#tabs a {
  padding-top: 6px;
  padding-bottom: 4px;
}
ul.breadcrumb a:focus,
ul.breadcrumb a:hover {
  text-decoration: none;
}
ul.breadcrumb i.icon-home {
  font-size: 16px;
  margin-right: 4px;
}
ul.breadcrumb span {
  color: #5e5e5e;
}
.list_toolbar {
  padding: 4px 0 4px 0;
  vertical-align: middle;
}
.list_toolbar .tree-buttons {
  padding-top: 1px;
}
.dynamic-buttons {
  padding-top: 3px;
  display: inline-block;
}
.list_toolbar [class*="span"] {
  min-height: 24px;
}
.list_header {
  font-weight: bold;
  background-color: #EEE;
}
.list_placeholder {
  font-weight: bold;
  padding-top: 4px;
  padding-bottom: 4px;
  padding-left: 7px;
  padding-right: 7px;
}
.list_container {
  margin-top: 4px;
  margin-bottom: 20px;
  border: 1px solid #ddd;
  border-radius: 2px;
}
.list_container > div {
  border-bottom: 1px solid #ddd;
}
.list_container > div:hover .list-item {
  background-color: red;
}
.list_container > div:last-child {
  border: none;
}
.list_item:hover .list_item {
  background-color: #ddd;
}
.list_item a {
  text-decoration: none;
}
.list_item:hover {
  background-color: #fafafa;
}
.list_header > div,
.list_item > div {
  padding-top: 4px;
  padding-bottom: 4px;
  padding-left: 7px;
  padding-right: 7px;
  line-height: 22px;
}
.list_header > div input,
.list_item > div input {
  margin-right: 7px;
  margin-left: 14px;
  vertical-align: baseline;
  line-height: 22px;
  position: relative;
  top: -1px;
}
.list_header > div .item_link,
.list_item > div .item_link {
  margin-left: -1px;
  vertical-align: baseline;
  line-height: 22px;
}
.new-file input[type=checkbox] {
  visibility: hidden;
}
.item_name {
  line-height: 22px;
  height: 24px;
}
.item_icon {
  font-size: 14px;
  color: #5e5e5e;
  margin-right: 7px;
  margin-left: 7px;
  line-height: 22px;
  vertical-align: baseline;
}
.item_buttons {
  line-height: 1em;
  margin-left: -5px;
}
.item_buttons .btn,
.item_buttons .btn-group,
.item_buttons .input-group {
  float: left;
}
.item_buttons > .btn,
.item_buttons > .btn-group,
.item_buttons > .input-group {
  margin-left: 5px;
}
.item_buttons .btn {
  min-width: 13ex;
}
.item_buttons .running-indicator {
  padding-top: 4px;
  color: #5cb85c;
}
.item_buttons .kernel-name {
  padding-top: 4px;
  color: #5bc0de;
  margin-right: 7px;
  float: left;
}
.toolbar_info {
  height: 24px;
  line-height: 24px;
}
.list_item input:not([type=checkbox]) {
  padding-top: 3px;
  padding-bottom: 3px;
  height: 22px;
  line-height: 14px;
  margin: 0px;
}
.highlight_text {
  color: blue;
}
#project_name {
  display: inline-block;
  padding-left: 7px;
  margin-left: -2px;
}
#project_name > .breadcrumb {
  padding: 0px;
  margin-bottom: 0px;
  background-color: transparent;
  font-weight: bold;
}
#tree-selector {
  padding-right: 0px;
}
#button-select-all {
  min-width: 50px;
}
#select-all {
  margin-left: 7px;
  margin-right: 2px;
}
.menu_icon {
  margin-right: 2px;
}
.tab-content .row {
  margin-left: 0px;
  margin-right: 0px;
}
.folder_icon:before {
  display: inline-block;
  font: normal normal normal 14px/1 FontAwesome;
  font-size: inherit;
  text-rendering: auto;
  -webkit-font-smoothing: antialiased;
  -moz-osx-font-smoothing: grayscale;
  content: "\f114";
}
.folder_icon:before.pull-left {
  margin-right: .3em;
}
.folder_icon:before.pull-right {
  margin-left: .3em;
}
.notebook_icon:before {
  display: inline-block;
  font: normal normal normal 14px/1 FontAwesome;
  font-size: inherit;
  text-rendering: auto;
  -webkit-font-smoothing: antialiased;
  -moz-osx-font-smoothing: grayscale;
  content: "\f02d";
  position: relative;
  top: -1px;
}
.notebook_icon:before.pull-left {
  margin-right: .3em;
}
.notebook_icon:before.pull-right {
  margin-left: .3em;
}
.running_notebook_icon:before {
  display: inline-block;
  font: normal normal normal 14px/1 FontAwesome;
  font-size: inherit;
  text-rendering: auto;
  -webkit-font-smoothing: antialiased;
  -moz-osx-font-smoothing: grayscale;
  content: "\f02d";
  position: relative;
  top: -1px;
  color: #5cb85c;
}
.running_notebook_icon:before.pull-left {
  margin-right: .3em;
}
.running_notebook_icon:before.pull-right {
  margin-left: .3em;
}
.file_icon:before {
  display: inline-block;
  font: normal normal normal 14px/1 FontAwesome;
  font-size: inherit;
  text-rendering: auto;
  -webkit-font-smoothing: antialiased;
  -moz-osx-font-smoothing: grayscale;
  content: "\f016";
  position: relative;
  top: -2px;
}
.file_icon:before.pull-left {
  margin-right: .3em;
}
.file_icon:before.pull-right {
  margin-left: .3em;
}
#notebook_toolbar .pull-right {
  padding-top: 0px;
  margin-right: -1px;
}
ul#new-menu {
  left: auto;
  right: 0;
}
.kernel-menu-icon {
  padding-right: 12px;
  width: 24px;
  content: "\f096";
}
.kernel-menu-icon:before {
  content: "\f096";
}
.kernel-menu-icon-current:before {
  content: "\f00c";
}
#tab_content {
  padding-top: 20px;
}
#running .panel-group .panel {
  margin-top: 3px;
  margin-bottom: 1em;
}
#running .panel-group .panel .panel-heading {
  background-color: #EEE;
  padding-top: 4px;
  padding-bottom: 4px;
  padding-left: 7px;
  padding-right: 7px;
  line-height: 22px;
}
#running .panel-group .panel .panel-heading a:focus,
#running .panel-group .panel .panel-heading a:hover {
  text-decoration: none;
}
#running .panel-group .panel .panel-body {
  padding: 0px;
}
#running .panel-group .panel .panel-body .list_container {
  margin-top: 0px;
  margin-bottom: 0px;
  border: 0px;
  border-radius: 0px;
}
#running .panel-group .panel .panel-body .list_container .list_item {
  border-bottom: 1px solid #ddd;
}
#running .panel-group .panel .panel-body .list_container .list_item:last-child {
  border-bottom: 0px;
}
.delete-button {
  display: none;
}
.duplicate-button {
  display: none;
}
.rename-button {
  display: none;
}
.shutdown-button {
  display: none;
}
.dynamic-instructions {
  display: inline-block;
  padding-top: 4px;
}
/*!
*
* IPython text editor webapp
*
*/
.selected-keymap i.fa {
  padding: 0px 5px;
}
.selected-keymap i.fa:before {
  content: "\f00c";
}
#mode-menu {
  overflow: auto;
  max-height: 20em;
}
.edit_app #header {
  -webkit-box-shadow: 0px 0px 12px 1px rgba(87, 87, 87, 0.2);
  box-shadow: 0px 0px 12px 1px rgba(87, 87, 87, 0.2);
}
.edit_app #menubar .navbar {
  /* Use a negative 1 bottom margin, so the border overlaps the border of the
    header */
  margin-bottom: -1px;
}
.dirty-indicator {
  display: inline-block;
  font: normal normal normal 14px/1 FontAwesome;
  font-size: inherit;
  text-rendering: auto;
  -webkit-font-smoothing: antialiased;
  -moz-osx-font-smoothing: grayscale;
  width: 20px;
}
.dirty-indicator.pull-left {
  margin-right: .3em;
}
.dirty-indicator.pull-right {
  margin-left: .3em;
}
.dirty-indicator-dirty {
  display: inline-block;
  font: normal normal normal 14px/1 FontAwesome;
  font-size: inherit;
  text-rendering: auto;
  -webkit-font-smoothing: antialiased;
  -moz-osx-font-smoothing: grayscale;
  width: 20px;
}
.dirty-indicator-dirty.pull-left {
  margin-right: .3em;
}
.dirty-indicator-dirty.pull-right {
  margin-left: .3em;
}
.dirty-indicator-clean {
  display: inline-block;
  font: normal normal normal 14px/1 FontAwesome;
  font-size: inherit;
  text-rendering: auto;
  -webkit-font-smoothing: antialiased;
  -moz-osx-font-smoothing: grayscale;
  width: 20px;
}
.dirty-indicator-clean.pull-left {
  margin-right: .3em;
}
.dirty-indicator-clean.pull-right {
  margin-left: .3em;
}
.dirty-indicator-clean:before {
  display: inline-block;
  font: normal normal normal 14px/1 FontAwesome;
  font-size: inherit;
  text-rendering: auto;
  -webkit-font-smoothing: antialiased;
  -moz-osx-font-smoothing: grayscale;
  content: "\f00c";
}
.dirty-indicator-clean:before.pull-left {
  margin-right: .3em;
}
.dirty-indicator-clean:before.pull-right {
  margin-left: .3em;
}
#filename {
  font-size: 16pt;
  display: table;
  padding: 0px 5px;
}
#current-mode {
  padding-left: 5px;
  padding-right: 5px;
}
#texteditor-backdrop {
  padding-top: 20px;
  padding-bottom: 20px;
}
@media not print {
  #texteditor-backdrop {
    background-color: #EEE;
  }
}
@media print {
  #texteditor-backdrop #texteditor-container .CodeMirror-gutter,
  #texteditor-backdrop #texteditor-container .CodeMirror-gutters {
    background-color: #fff;
  }
}
@media not print {
  #texteditor-backdrop #texteditor-container .CodeMirror-gutter,
  #texteditor-backdrop #texteditor-container .CodeMirror-gutters {
    background-color: #fff;
  }
}
@media not print {
  #texteditor-backdrop #texteditor-container {
    padding: 0px;
    background-color: #fff;
    -webkit-box-shadow: 0px 0px 12px 1px rgba(87, 87, 87, 0.2);
    box-shadow: 0px 0px 12px 1px rgba(87, 87, 87, 0.2);
  }
}
/*!
*
* IPython notebook
*
*/
/* CSS font colors for translated ANSI colors. */
.ansibold {
  font-weight: bold;
}
/* use dark versions for foreground, to improve visibility */
.ansiblack {
  color: black;
}
.ansired {
  color: darkred;
}
.ansigreen {
  color: darkgreen;
}
.ansiyellow {
  color: #c4a000;
}
.ansiblue {
  color: darkblue;
}
.ansipurple {
  color: darkviolet;
}
.ansicyan {
  color: steelblue;
}
.ansigray {
  color: gray;
}
/* and light for background, for the same reason */
.ansibgblack {
  background-color: black;
}
.ansibgred {
  background-color: red;
}
.ansibggreen {
  background-color: green;
}
.ansibgyellow {
  background-color: yellow;
}
.ansibgblue {
  background-color: blue;
}
.ansibgpurple {
  background-color: magenta;
}
.ansibgcyan {
  background-color: cyan;
}
.ansibggray {
  background-color: gray;
}
div.cell {
  /* Old browsers */
  display: -webkit-box;
  -webkit-box-orient: vertical;
  -webkit-box-align: stretch;
  display: -moz-box;
  -moz-box-orient: vertical;
  -moz-box-align: stretch;
  display: box;
  box-orient: vertical;
  box-align: stretch;
  /* Modern browsers */
  display: flex;
  flex-direction: column;
  align-items: stretch;
  border-radius: 2px;
  box-sizing: border-box;
  -moz-box-sizing: border-box;
  -webkit-box-sizing: border-box;
  border-width: 1px;
  border-style: solid;
  border-color: transparent;
  width: 100%;
  padding: 5px;
  /* This acts as a spacer between cells, that is outside the border */
  margin: 0px;
  outline: none;
  border-left-width: 1px;
  padding-left: 5px;
  background: linear-gradient(to right, transparent -40px, transparent 1px, transparent 1px, transparent 100%);
}
div.cell.jupyter-soft-selected {
  border-left-color: #90CAF9;
  border-left-color: #E3F2FD;
  border-left-width: 1px;
  padding-left: 5px;
  border-right-color: #E3F2FD;
  border-right-width: 1px;
  background: #E3F2FD;
}
@media print {
  div.cell.jupyter-soft-selected {
    border-color: transparent;
  }
}
div.cell.selected {
  border-color: #ababab;
  border-left-width: 0px;
  padding-left: 6px;
  background: linear-gradient(to right, #42A5F5 -40px, #42A5F5 5px, transparent 5px, transparent 100%);
}
@media print {
  div.cell.selected {
    border-color: transparent;
  }
}
div.cell.selected.jupyter-soft-selected {
  border-left-width: 0;
  padding-left: 6px;
  background: linear-gradient(to right, #42A5F5 -40px, #42A5F5 7px, #E3F2FD 7px, #E3F2FD 100%);
}
.edit_mode div.cell.selected {
  border-color: #66BB6A;
  border-left-width: 0px;
  padding-left: 6px;
  background: linear-gradient(to right, #66BB6A -40px, #66BB6A 5px, transparent 5px, transparent 100%);
}
@media print {
  .edit_mode div.cell.selected {
    border-color: transparent;
  }
}
.prompt {
  /* This needs to be wide enough for 3 digit prompt numbers: In[100]: */
  min-width: 14ex;
  /* This padding is tuned to match the padding on the CodeMirror editor. */
  padding: 0.4em;
  margin: 0px;
  font-family: monospace;
  text-align: right;
  /* This has to match that of the the CodeMirror class line-height below */
  line-height: 1.21429em;
  /* Don't highlight prompt number selection */
  -webkit-touch-callout: none;
  -webkit-user-select: none;
  -khtml-user-select: none;
  -moz-user-select: none;
  -ms-user-select: none;
  user-select: none;
  /* Use default cursor */
  cursor: default;
}
@media (max-width: 540px) {
  .prompt {
    text-align: left;
  }
}
div.inner_cell {
  /* Old browsers */
  display: -webkit-box;
  -webkit-box-orient: vertical;
  -webkit-box-align: stretch;
  display: -moz-box;
  -moz-box-orient: vertical;
  -moz-box-align: stretch;
  display: box;
  box-orient: vertical;
  box-align: stretch;
  /* Modern browsers */
  display: flex;
  flex-direction: column;
  align-items: stretch;
  /* Old browsers */
  -webkit-box-flex: 1;
  -moz-box-flex: 1;
  box-flex: 1;
  /* Modern browsers */
  flex: 1;
}
@-moz-document url-prefix() {
  div.inner_cell {
    overflow-x: hidden;
  }
}
/* input_area and input_prompt must match in top border and margin for alignment */
div.input_area {
  border: 1px solid #cfcfcf;
  border-radius: 2px;
  background: #f7f7f7;
  line-height: 1.21429em;
}
/* This is needed so that empty prompt areas can collapse to zero height when there
   is no content in the output_subarea and the prompt. The main purpose of this is
   to make sure that empty JavaScript output_subareas have no height. */
div.prompt:empty {
  padding-top: 0;
  padding-bottom: 0;
}
div.unrecognized_cell {
  padding: 5px 5px 5px 0px;
  /* Old browsers */
  display: -webkit-box;
  -webkit-box-orient: horizontal;
  -webkit-box-align: stretch;
  display: -moz-box;
  -moz-box-orient: horizontal;
  -moz-box-align: stretch;
  display: box;
  box-orient: horizontal;
  box-align: stretch;
  /* Modern browsers */
  display: flex;
  flex-direction: row;
  align-items: stretch;
}
div.unrecognized_cell .inner_cell {
  border-radius: 2px;
  padding: 5px;
  font-weight: bold;
  color: red;
  border: 1px solid #cfcfcf;
  background: #eaeaea;
}
div.unrecognized_cell .inner_cell a {
  color: inherit;
  text-decoration: none;
}
div.unrecognized_cell .inner_cell a:hover {
  color: inherit;
  text-decoration: none;
}
@media (max-width: 540px) {
  div.unrecognized_cell > div.prompt {
    display: none;
  }
}
div.code_cell {
  /* avoid page breaking on code cells when printing */
}
@media print {
  div.code_cell {
    page-break-inside: avoid;
  }
}
/* any special styling for code cells that are currently running goes here */
div.input {
  page-break-inside: avoid;
  /* Old browsers */
  display: -webkit-box;
  -webkit-box-orient: horizontal;
  -webkit-box-align: stretch;
  display: -moz-box;
  -moz-box-orient: horizontal;
  -moz-box-align: stretch;
  display: box;
  box-orient: horizontal;
  box-align: stretch;
  /* Modern browsers */
  display: flex;
  flex-direction: row;
  align-items: stretch;
}
@media (max-width: 540px) {
  div.input {
    /* Old browsers */
    display: -webkit-box;
    -webkit-box-orient: vertical;
    -webkit-box-align: stretch;
    display: -moz-box;
    -moz-box-orient: vertical;
    -moz-box-align: stretch;
    display: box;
    box-orient: vertical;
    box-align: stretch;
    /* Modern browsers */
    display: flex;
    flex-direction: column;
    align-items: stretch;
  }
}
/* input_area and input_prompt must match in top border and margin for alignment */
div.input_prompt {
  color: #303F9F;
  border-top: 1px solid transparent;
}
div.input_area > div.highlight {
  margin: 0.4em;
  border: none;
  padding: 0px;
  background-color: transparent;
}
div.input_area > div.highlight > pre {
  margin: 0px;
  border: none;
  padding: 0px;
  background-color: transparent;
}
/* The following gets added to the <head> if it is detected that the user has a
 * monospace font with inconsistent normal/bold/italic height.  See
 * notebookmain.js.  Such fonts will have keywords vertically offset with
 * respect to the rest of the text.  The user should select a better font.
 * See: https://github.com/ipython/ipython/issues/1503
 *
 * .CodeMirror span {
 *      vertical-align: bottom;
 * }
 */
.CodeMirror {
  line-height: 1.21429em;
  /* Changed from 1em to our global default */
  font-size: 14px;
  height: auto;
  /* Changed to auto to autogrow */
  background: none;
  /* Changed from white to allow our bg to show through */
}
.CodeMirror-scroll {
  /*  The CodeMirror docs are a bit fuzzy on if overflow-y should be hidden or visible.*/
  /*  We have found that if it is visible, vertical scrollbars appear with font size changes.*/
  overflow-y: hidden;
  overflow-x: auto;
}
.CodeMirror-lines {
  /* In CM2, this used to be 0.4em, but in CM3 it went to 4px. We need the em value because */
  /* we have set a different line-height and want this to scale with that. */
  padding: 0.4em;
}
.CodeMirror-linenumber {
  padding: 0 8px 0 4px;
}
.CodeMirror-gutters {
  border-bottom-left-radius: 2px;
  border-top-left-radius: 2px;
}
.CodeMirror pre {
  /* In CM3 this went to 4px from 0 in CM2. We need the 0 value because of how we size */
  /* .CodeMirror-lines */
  padding: 0;
  border: 0;
  border-radius: 0;
}
/*

Original style from softwaremaniacs.org (c) Ivan Sagalaev <Maniac@SoftwareManiacs.Org>
Adapted from GitHub theme

*/
.highlight-base {
  color: #000;
}
.highlight-variable {
  color: #000;
}
.highlight-variable-2 {
  color: #1a1a1a;
}
.highlight-variable-3 {
  color: #333333;
}
.highlight-string {
  color: #BA2121;
}
.highlight-comment {
  color: #408080;
  font-style: italic;
}
.highlight-number {
  color: #080;
}
.highlight-atom {
  color: #88F;
}
.highlight-keyword {
  color: #008000;
  font-weight: bold;
}
.highlight-builtin {
  color: #008000;
}
.highlight-error {
  color: #f00;
}
.highlight-operator {
  color: #AA22FF;
  font-weight: bold;
}
.highlight-meta {
  color: #AA22FF;
}
/* previously not defined, copying from default codemirror */
.highlight-def {
  color: #00f;
}
.highlight-string-2 {
  color: #f50;
}
.highlight-qualifier {
  color: #555;
}
.highlight-bracket {
  color: #997;
}
.highlight-tag {
  color: #170;
}
.highlight-attribute {
  color: #00c;
}
.highlight-header {
  color: blue;
}
.highlight-quote {
  color: #090;
}
.highlight-link {
  color: #00c;
}
/* apply the same style to codemirror */
.cm-s-ipython span.cm-keyword {
  color: #008000;
  font-weight: bold;
}
.cm-s-ipython span.cm-atom {
  color: #88F;
}
.cm-s-ipython span.cm-number {
  color: #080;
}
.cm-s-ipython span.cm-def {
  color: #00f;
}
.cm-s-ipython span.cm-variable {
  color: #000;
}
.cm-s-ipython span.cm-operator {
  color: #AA22FF;
  font-weight: bold;
}
.cm-s-ipython span.cm-variable-2 {
  color: #1a1a1a;
}
.cm-s-ipython span.cm-variable-3 {
  color: #333333;
}
.cm-s-ipython span.cm-comment {
  color: #408080;
  font-style: italic;
}
.cm-s-ipython span.cm-string {
  color: #BA2121;
}
.cm-s-ipython span.cm-string-2 {
  color: #f50;
}
.cm-s-ipython span.cm-meta {
  color: #AA22FF;
}
.cm-s-ipython span.cm-qualifier {
  color: #555;
}
.cm-s-ipython span.cm-builtin {
  color: #008000;
}
.cm-s-ipython span.cm-bracket {
  color: #997;
}
.cm-s-ipython span.cm-tag {
  color: #170;
}
.cm-s-ipython span.cm-attribute {
  color: #00c;
}
.cm-s-ipython span.cm-header {
  color: blue;
}
.cm-s-ipython span.cm-quote {
  color: #090;
}
.cm-s-ipython span.cm-link {
  color: #00c;
}
.cm-s-ipython span.cm-error {
  color: #f00;
}
.cm-s-ipython span.cm-tab {
  background: url(data:image/png;base64,iVBORw0KGgoAAAANSUhEUgAAADAAAAAMCAYAAAAkuj5RAAAAAXNSR0IArs4c6QAAAGFJREFUSMft1LsRQFAQheHPowAKoACx3IgEKtaEHujDjORSgWTH/ZOdnZOcM/sgk/kFFWY0qV8foQwS4MKBCS3qR6ixBJvElOobYAtivseIE120FaowJPN75GMu8j/LfMwNjh4HUpwg4LUAAAAASUVORK5CYII=);
  background-position: right;
  background-repeat: no-repeat;
}
div.output_wrapper {
  /* this position must be relative to enable descendents to be absolute within it */
  position: relative;
  /* Old browsers */
  display: -webkit-box;
  -webkit-box-orient: vertical;
  -webkit-box-align: stretch;
  display: -moz-box;
  -moz-box-orient: vertical;
  -moz-box-align: stretch;
  display: box;
  box-orient: vertical;
  box-align: stretch;
  /* Modern browsers */
  display: flex;
  flex-direction: column;
  align-items: stretch;
  z-index: 1;
}
/* class for the output area when it should be height-limited */
div.output_scroll {
  /* ideally, this would be max-height, but FF barfs all over that */
  height: 24em;
  /* FF needs this *and the wrapper* to specify full width, or it will shrinkwrap */
  width: 100%;
  overflow: auto;
  border-radius: 2px;
  -webkit-box-shadow: inset 0 2px 8px rgba(0, 0, 0, 0.8);
  box-shadow: inset 0 2px 8px rgba(0, 0, 0, 0.8);
  display: block;
}
/* output div while it is collapsed */
div.output_collapsed {
  margin: 0px;
  padding: 0px;
  /* Old browsers */
  display: -webkit-box;
  -webkit-box-orient: vertical;
  -webkit-box-align: stretch;
  display: -moz-box;
  -moz-box-orient: vertical;
  -moz-box-align: stretch;
  display: box;
  box-orient: vertical;
  box-align: stretch;
  /* Modern browsers */
  display: flex;
  flex-direction: column;
  align-items: stretch;
}
div.out_prompt_overlay {
  height: 100%;
  padding: 0px 0.4em;
  position: absolute;
  border-radius: 2px;
}
div.out_prompt_overlay:hover {
  /* use inner shadow to get border that is computed the same on WebKit/FF */
  -webkit-box-shadow: inset 0 0 1px #000;
  box-shadow: inset 0 0 1px #000;
  background: rgba(240, 240, 240, 0.5);
}
div.output_prompt {
  color: #D84315;
}
/* This class is the outer container of all output sections. */
div.output_area {
  padding: 0px;
  page-break-inside: avoid;
  /* Old browsers */
  display: -webkit-box;
  -webkit-box-orient: horizontal;
  -webkit-box-align: stretch;
  display: -moz-box;
  -moz-box-orient: horizontal;
  -moz-box-align: stretch;
  display: box;
  box-orient: horizontal;
  box-align: stretch;
  /* Modern browsers */
  display: flex;
  flex-direction: row;
  align-items: stretch;
}
div.output_area .MathJax_Display {
  text-align: left !important;
}
div.output_area .rendered_html table {
  margin-left: 0;
  margin-right: 0;
}
div.output_area .rendered_html img {
  margin-left: 0;
  margin-right: 0;
}
div.output_area img,
div.output_area svg {
  max-width: 100%;
  height: auto;
}
div.output_area img.unconfined,
div.output_area svg.unconfined {
  max-width: none;
}
/* This is needed to protect the pre formating from global settings such
   as that of bootstrap */
.output {
  /* Old browsers */
  display: -webkit-box;
  -webkit-box-orient: vertical;
  -webkit-box-align: stretch;
  display: -moz-box;
  -moz-box-orient: vertical;
  -moz-box-align: stretch;
  display: box;
  box-orient: vertical;
  box-align: stretch;
  /* Modern browsers */
  display: flex;
  flex-direction: column;
  align-items: stretch;
}
@media (max-width: 540px) {
  div.output_area {
    /* Old browsers */
    display: -webkit-box;
    -webkit-box-orient: vertical;
    -webkit-box-align: stretch;
    display: -moz-box;
    -moz-box-orient: vertical;
    -moz-box-align: stretch;
    display: box;
    box-orient: vertical;
    box-align: stretch;
    /* Modern browsers */
    display: flex;
    flex-direction: column;
    align-items: stretch;
  }
}
div.output_area pre {
  margin: 0;
  padding: 0;
  border: 0;
  vertical-align: baseline;
  color: black;
  background-color: transparent;
  border-radius: 0;
}
/* This class is for the output subarea inside the output_area and after
   the prompt div. */
div.output_subarea {
  overflow-x: auto;
  padding: 0.4em;
  /* Old browsers */
  -webkit-box-flex: 1;
  -moz-box-flex: 1;
  box-flex: 1;
  /* Modern browsers */
  flex: 1;
  max-width: calc(100% - 14ex);
}
div.output_scroll div.output_subarea {
  overflow-x: visible;
}
/* The rest of the output_* classes are for special styling of the different
   output types */
/* all text output has this class: */
div.output_text {
  text-align: left;
  color: #000;
  /* This has to match that of the the CodeMirror class line-height below */
  line-height: 1.21429em;
}
/* stdout/stderr are 'text' as well as 'stream', but execute_result/error are *not* streams */
div.output_stderr {
  background: #fdd;
  /* very light red background for stderr */
}
div.output_latex {
  text-align: left;
}
/* Empty output_javascript divs should have no height */
div.output_javascript:empty {
  padding: 0;
}
.js-error {
  color: darkred;
}
/* raw_input styles */
div.raw_input_container {
  line-height: 1.21429em;
  padding-top: 5px;
}
pre.raw_input_prompt {
  /* nothing needed here. */
}
input.raw_input {
  font-family: monospace;
  font-size: inherit;
  color: inherit;
  width: auto;
  /* make sure input baseline aligns with prompt */
  vertical-align: baseline;
  /* padding + margin = 0.5em between prompt and cursor */
  padding: 0em 0.25em;
  margin: 0em 0.25em;
}
input.raw_input:focus {
  box-shadow: none;
}
p.p-space {
  margin-bottom: 10px;
}
div.output_unrecognized {
  padding: 5px;
  font-weight: bold;
  color: red;
}
div.output_unrecognized a {
  color: inherit;
  text-decoration: none;
}
div.output_unrecognized a:hover {
  color: inherit;
  text-decoration: none;
}
.rendered_html {
  color: #000;
  /* any extras will just be numbers: */
}
.rendered_html em {
  font-style: italic;
}
.rendered_html strong {
  font-weight: bold;
}
.rendered_html u {
  text-decoration: underline;
}
.rendered_html :link {
  text-decoration: underline;
}
.rendered_html :visited {
  text-decoration: underline;
}
.rendered_html h1 {
  font-size: 185.7%;
  margin: 1.08em 0 0 0;
  font-weight: bold;
  line-height: 1.0;
}
.rendered_html h2 {
  font-size: 157.1%;
  margin: 1.27em 0 0 0;
  font-weight: bold;
  line-height: 1.0;
}
.rendered_html h3 {
  font-size: 128.6%;
  margin: 1.55em 0 0 0;
  font-weight: bold;
  line-height: 1.0;
}
.rendered_html h4 {
  font-size: 100%;
  margin: 2em 0 0 0;
  font-weight: bold;
  line-height: 1.0;
}
.rendered_html h5 {
  font-size: 100%;
  margin: 2em 0 0 0;
  font-weight: bold;
  line-height: 1.0;
  font-style: italic;
}
.rendered_html h6 {
  font-size: 100%;
  margin: 2em 0 0 0;
  font-weight: bold;
  line-height: 1.0;
  font-style: italic;
}
.rendered_html h1:first-child {
  margin-top: 0.538em;
}
.rendered_html h2:first-child {
  margin-top: 0.636em;
}
.rendered_html h3:first-child {
  margin-top: 0.777em;
}
.rendered_html h4:first-child {
  margin-top: 1em;
}
.rendered_html h5:first-child {
  margin-top: 1em;
}
.rendered_html h6:first-child {
  margin-top: 1em;
}
.rendered_html ul {
  list-style: disc;
  margin: 0em 2em;
  padding-left: 0px;
}
.rendered_html ul ul {
  list-style: square;
  margin: 0em 2em;
}
.rendered_html ul ul ul {
  list-style: circle;
  margin: 0em 2em;
}
.rendered_html ol {
  list-style: decimal;
  margin: 0em 2em;
  padding-left: 0px;
}
.rendered_html ol ol {
  list-style: upper-alpha;
  margin: 0em 2em;
}
.rendered_html ol ol ol {
  list-style: lower-alpha;
  margin: 0em 2em;
}
.rendered_html ol ol ol ol {
  list-style: lower-roman;
  margin: 0em 2em;
}
.rendered_html ol ol ol ol ol {
  list-style: decimal;
  margin: 0em 2em;
}
.rendered_html * + ul {
  margin-top: 1em;
}
.rendered_html * + ol {
  margin-top: 1em;
}
.rendered_html hr {
  color: black;
  background-color: black;
}
.rendered_html pre {
  margin: 1em 2em;
}
.rendered_html pre,
.rendered_html code {
  border: 0;
  background-color: #fff;
  color: #000;
  font-size: 100%;
  padding: 0px;
}
.rendered_html blockquote {
  margin: 1em 2em;
}
.rendered_html table {
  margin-left: auto;
  margin-right: auto;
  border: 1px solid black;
  border-collapse: collapse;
}
.rendered_html tr,
.rendered_html th,
.rendered_html td {
  border: 1px solid black;
  border-collapse: collapse;
  margin: 1em 2em;
}
.rendered_html td,
.rendered_html th {
  text-align: left;
  vertical-align: middle;
  padding: 4px;
}
.rendered_html th {
  font-weight: bold;
}
.rendered_html * + table {
  margin-top: 1em;
}
.rendered_html p {
  text-align: left;
}
.rendered_html * + p {
  margin-top: 1em;
}
.rendered_html img {
  display: block;
  margin-left: auto;
  margin-right: auto;
}
.rendered_html * + img {
  margin-top: 1em;
}
.rendered_html img,
.rendered_html svg {
  max-width: 100%;
  height: auto;
}
.rendered_html img.unconfined,
.rendered_html svg.unconfined {
  max-width: none;
}
div.text_cell {
  /* Old browsers */
  display: -webkit-box;
  -webkit-box-orient: horizontal;
  -webkit-box-align: stretch;
  display: -moz-box;
  -moz-box-orient: horizontal;
  -moz-box-align: stretch;
  display: box;
  box-orient: horizontal;
  box-align: stretch;
  /* Modern browsers */
  display: flex;
  flex-direction: row;
  align-items: stretch;
}
@media (max-width: 540px) {
  div.text_cell > div.prompt {
    display: none;
  }
}
div.text_cell_render {
  /*font-family: "Helvetica Neue", Arial, Helvetica, Geneva, sans-serif;*/
  outline: none;
  resize: none;
  width: inherit;
  border-style: none;
  padding: 0.5em 0.5em 0.5em 0.4em;
  color: #000;
  box-sizing: border-box;
  -moz-box-sizing: border-box;
  -webkit-box-sizing: border-box;
}
a.anchor-link:link {
  text-decoration: none;
  padding: 0px 20px;
  visibility: hidden;
}
h1:hover .anchor-link,
h2:hover .anchor-link,
h3:hover .anchor-link,
h4:hover .anchor-link,
h5:hover .anchor-link,
h6:hover .anchor-link {
  visibility: visible;
}
.text_cell.rendered .input_area {
  display: none;
}
.text_cell.rendered .rendered_html {
  overflow-x: auto;
  overflow-y: hidden;
}
.text_cell.unrendered .text_cell_render {
  display: none;
}
.cm-header-1,
.cm-header-2,
.cm-header-3,
.cm-header-4,
.cm-header-5,
.cm-header-6 {
  font-weight: bold;
  font-family: "Helvetica Neue", Helvetica, Arial, sans-serif;
}
.cm-header-1 {
  font-size: 185.7%;
}
.cm-header-2 {
  font-size: 157.1%;
}
.cm-header-3 {
  font-size: 128.6%;
}
.cm-header-4 {
  font-size: 110%;
}
.cm-header-5 {
  font-size: 100%;
  font-style: italic;
}
.cm-header-6 {
  font-size: 100%;
  font-style: italic;
}
/*!
*
* IPython notebook webapp
*
*/
@media (max-width: 767px) {
  .notebook_app {
    padding-left: 0px;
    padding-right: 0px;
  }
}
#ipython-main-app {
  box-sizing: border-box;
  -moz-box-sizing: border-box;
  -webkit-box-sizing: border-box;
  height: 100%;
}
div#notebook_panel {
  margin: 0px;
  padding: 0px;
  box-sizing: border-box;
  -moz-box-sizing: border-box;
  -webkit-box-sizing: border-box;
  height: 100%;
}
div#notebook {
  font-size: 14px;
  line-height: 20px;
  overflow-y: hidden;
  overflow-x: auto;
  width: 100%;
  /* This spaces the page away from the edge of the notebook area */
  padding-top: 20px;
  margin: 0px;
  outline: none;
  box-sizing: border-box;
  -moz-box-sizing: border-box;
  -webkit-box-sizing: border-box;
  min-height: 100%;
}
@media not print {
  #notebook-container {
    padding: 15px;
    background-color: #fff;
    min-height: 0;
    -webkit-box-shadow: 0px 0px 12px 1px rgba(87, 87, 87, 0.2);
    box-shadow: 0px 0px 12px 1px rgba(87, 87, 87, 0.2);
  }
}
@media print {
  #notebook-container {
    width: 100%;
  }
}
div.ui-widget-content {
  border: 1px solid #ababab;
  outline: none;
}
pre.dialog {
  background-color: #f7f7f7;
  border: 1px solid #ddd;
  border-radius: 2px;
  padding: 0.4em;
  padding-left: 2em;
}
p.dialog {
  padding: 0.2em;
}
/* Word-wrap output correctly.  This is the CSS3 spelling, though Firefox seems
   to not honor it correctly.  Webkit browsers (Chrome, rekonq, Safari) do.
 */
pre,
code,
kbd,
samp {
  white-space: pre-wrap;
}
#fonttest {
  font-family: monospace;
}
p {
  margin-bottom: 0;
}
.end_space {
  min-height: 100px;
  transition: height .2s ease;
}
.notebook_app > #header {
  -webkit-box-shadow: 0px 0px 12px 1px rgba(87, 87, 87, 0.2);
  box-shadow: 0px 0px 12px 1px rgba(87, 87, 87, 0.2);
}
@media not print {
  .notebook_app {
    background-color: #EEE;
  }
}
kbd {
  border-style: solid;
  border-width: 1px;
  box-shadow: none;
  margin: 2px;
  padding-left: 2px;
  padding-right: 2px;
  padding-top: 1px;
  padding-bottom: 1px;
}
/* CSS for the cell toolbar */
.celltoolbar {
  border: thin solid #CFCFCF;
  border-bottom: none;
  background: #EEE;
  border-radius: 2px 2px 0px 0px;
  width: 100%;
  height: 29px;
  padding-right: 4px;
  /* Old browsers */
  display: -webkit-box;
  -webkit-box-orient: horizontal;
  -webkit-box-align: stretch;
  display: -moz-box;
  -moz-box-orient: horizontal;
  -moz-box-align: stretch;
  display: box;
  box-orient: horizontal;
  box-align: stretch;
  /* Modern browsers */
  display: flex;
  flex-direction: row;
  align-items: stretch;
  /* Old browsers */
  -webkit-box-pack: end;
  -moz-box-pack: end;
  box-pack: end;
  /* Modern browsers */
  justify-content: flex-end;
  display: -webkit-flex;
}
@media print {
  .celltoolbar {
    display: none;
  }
}
.ctb_hideshow {
  display: none;
  vertical-align: bottom;
}
/* ctb_show is added to the ctb_hideshow div to show the cell toolbar.
   Cell toolbars are only shown when the ctb_global_show class is also set.
*/
.ctb_global_show .ctb_show.ctb_hideshow {
  display: block;
}
.ctb_global_show .ctb_show + .input_area,
.ctb_global_show .ctb_show + div.text_cell_input,
.ctb_global_show .ctb_show ~ div.text_cell_render {
  border-top-right-radius: 0px;
  border-top-left-radius: 0px;
}
.ctb_global_show .ctb_show ~ div.text_cell_render {
  border: 1px solid #cfcfcf;
}
.celltoolbar {
  font-size: 87%;
  padding-top: 3px;
}
.celltoolbar select {
  display: block;
  width: 100%;
  height: 32px;
  padding: 6px 12px;
  font-size: 13px;
  line-height: 1.42857143;
  color: #555555;
  background-color: #fff;
  background-image: none;
  border: 1px solid #ccc;
  border-radius: 2px;
  -webkit-box-shadow: inset 0 1px 1px rgba(0, 0, 0, 0.075);
  box-shadow: inset 0 1px 1px rgba(0, 0, 0, 0.075);
  -webkit-transition: border-color ease-in-out .15s, box-shadow ease-in-out .15s;
  -o-transition: border-color ease-in-out .15s, box-shadow ease-in-out .15s;
  transition: border-color ease-in-out .15s, box-shadow ease-in-out .15s;
  height: 30px;
  padding: 5px 10px;
  font-size: 12px;
  line-height: 1.5;
  border-radius: 1px;
  width: inherit;
  font-size: inherit;
  height: 22px;
  padding: 0px;
  display: inline-block;
}
.celltoolbar select:focus {
  border-color: #66afe9;
  outline: 0;
  -webkit-box-shadow: inset 0 1px 1px rgba(0,0,0,.075), 0 0 8px rgba(102, 175, 233, 0.6);
  box-shadow: inset 0 1px 1px rgba(0,0,0,.075), 0 0 8px rgba(102, 175, 233, 0.6);
}
.celltoolbar select::-moz-placeholder {
  color: #999;
  opacity: 1;
}
.celltoolbar select:-ms-input-placeholder {
  color: #999;
}
.celltoolbar select::-webkit-input-placeholder {
  color: #999;
}
.celltoolbar select::-ms-expand {
  border: 0;
  background-color: transparent;
}
.celltoolbar select[disabled],
.celltoolbar select[readonly],
fieldset[disabled] .celltoolbar select {
  background-color: #eeeeee;
  opacity: 1;
}
.celltoolbar select[disabled],
fieldset[disabled] .celltoolbar select {
  cursor: not-allowed;
}
textarea.celltoolbar select {
  height: auto;
}
select.celltoolbar select {
  height: 30px;
  line-height: 30px;
}
textarea.celltoolbar select,
select[multiple].celltoolbar select {
  height: auto;
}
.celltoolbar label {
  margin-left: 5px;
  margin-right: 5px;
}
.completions {
  position: absolute;
  z-index: 110;
  overflow: hidden;
  border: 1px solid #ababab;
  border-radius: 2px;
  -webkit-box-shadow: 0px 6px 10px -1px #adadad;
  box-shadow: 0px 6px 10px -1px #adadad;
  line-height: 1;
}
.completions select {
  background: white;
  outline: none;
  border: none;
  padding: 0px;
  margin: 0px;
  overflow: auto;
  font-family: monospace;
  font-size: 110%;
  color: #000;
  width: auto;
}
.completions select option.context {
  color: #286090;
}
#kernel_logo_widget {
  float: right !important;
  float: right;
}
#kernel_logo_widget .current_kernel_logo {
  display: none;
  margin-top: -1px;
  margin-bottom: -1px;
  width: 32px;
  height: 32px;
}
#menubar {
  box-sizing: border-box;
  -moz-box-sizing: border-box;
  -webkit-box-sizing: border-box;
  margin-top: 1px;
}
#menubar .navbar {
  border-top: 1px;
  border-radius: 0px 0px 2px 2px;
  margin-bottom: 0px;
}
#menubar .navbar-toggle {
  float: left;
  padding-top: 7px;
  padding-bottom: 7px;
  border: none;
}
#menubar .navbar-collapse {
  clear: left;
}
.nav-wrapper {
  border-bottom: 1px solid #e7e7e7;
}
i.menu-icon {
  padding-top: 4px;
}
ul#help_menu li a {
  overflow: hidden;
  padding-right: 2.2em;
}
ul#help_menu li a i {
  margin-right: -1.2em;
}
.dropdown-submenu {
  position: relative;
}
.dropdown-submenu > .dropdown-menu {
  top: 0;
  left: 100%;
  margin-top: -6px;
  margin-left: -1px;
}
.dropdown-submenu:hover > .dropdown-menu {
  display: block;
}
.dropdown-submenu > a:after {
  display: inline-block;
  font: normal normal normal 14px/1 FontAwesome;
  font-size: inherit;
  text-rendering: auto;
  -webkit-font-smoothing: antialiased;
  -moz-osx-font-smoothing: grayscale;
  display: block;
  content: "\f0da";
  float: right;
  color: #333333;
  margin-top: 2px;
  margin-right: -10px;
}
.dropdown-submenu > a:after.pull-left {
  margin-right: .3em;
}
.dropdown-submenu > a:after.pull-right {
  margin-left: .3em;
}
.dropdown-submenu:hover > a:after {
  color: #262626;
}
.dropdown-submenu.pull-left {
  float: none;
}
.dropdown-submenu.pull-left > .dropdown-menu {
  left: -100%;
  margin-left: 10px;
}
#notification_area {
  float: right !important;
  float: right;
  z-index: 10;
}
.indicator_area {
  float: right !important;
  float: right;
  color: #777;
  margin-left: 5px;
  margin-right: 5px;
  width: 11px;
  z-index: 10;
  text-align: center;
  width: auto;
}
#kernel_indicator {
  float: right !important;
  float: right;
  color: #777;
  margin-left: 5px;
  margin-right: 5px;
  width: 11px;
  z-index: 10;
  text-align: center;
  width: auto;
  border-left: 1px solid;
}
#kernel_indicator .kernel_indicator_name {
  padding-left: 5px;
  padding-right: 5px;
}
#modal_indicator {
  float: right !important;
  float: right;
  color: #777;
  margin-left: 5px;
  margin-right: 5px;
  width: 11px;
  z-index: 10;
  text-align: center;
  width: auto;
}
#readonly-indicator {
  float: right !important;
  float: right;
  color: #777;
  margin-left: 5px;
  margin-right: 5px;
  width: 11px;
  z-index: 10;
  text-align: center;
  width: auto;
  margin-top: 2px;
  margin-bottom: 0px;
  margin-left: 0px;
  margin-right: 0px;
  display: none;
}
.modal_indicator:before {
  width: 1.28571429em;
  text-align: center;
}
.edit_mode .modal_indicator:before {
  display: inline-block;
  font: normal normal normal 14px/1 FontAwesome;
  font-size: inherit;
  text-rendering: auto;
  -webkit-font-smoothing: antialiased;
  -moz-osx-font-smoothing: grayscale;
  content: "\f040";
}
.edit_mode .modal_indicator:before.pull-left {
  margin-right: .3em;
}
.edit_mode .modal_indicator:before.pull-right {
  margin-left: .3em;
}
.command_mode .modal_indicator:before {
  display: inline-block;
  font: normal normal normal 14px/1 FontAwesome;
  font-size: inherit;
  text-rendering: auto;
  -webkit-font-smoothing: antialiased;
  -moz-osx-font-smoothing: grayscale;
  content: ' ';
}
.command_mode .modal_indicator:before.pull-left {
  margin-right: .3em;
}
.command_mode .modal_indicator:before.pull-right {
  margin-left: .3em;
}
.kernel_idle_icon:before {
  display: inline-block;
  font: normal normal normal 14px/1 FontAwesome;
  font-size: inherit;
  text-rendering: auto;
  -webkit-font-smoothing: antialiased;
  -moz-osx-font-smoothing: grayscale;
  content: "\f10c";
}
.kernel_idle_icon:before.pull-left {
  margin-right: .3em;
}
.kernel_idle_icon:before.pull-right {
  margin-left: .3em;
}
.kernel_busy_icon:before {
  display: inline-block;
  font: normal normal normal 14px/1 FontAwesome;
  font-size: inherit;
  text-rendering: auto;
  -webkit-font-smoothing: antialiased;
  -moz-osx-font-smoothing: grayscale;
  content: "\f111";
}
.kernel_busy_icon:before.pull-left {
  margin-right: .3em;
}
.kernel_busy_icon:before.pull-right {
  margin-left: .3em;
}
.kernel_dead_icon:before {
  display: inline-block;
  font: normal normal normal 14px/1 FontAwesome;
  font-size: inherit;
  text-rendering: auto;
  -webkit-font-smoothing: antialiased;
  -moz-osx-font-smoothing: grayscale;
  content: "\f1e2";
}
.kernel_dead_icon:before.pull-left {
  margin-right: .3em;
}
.kernel_dead_icon:before.pull-right {
  margin-left: .3em;
}
.kernel_disconnected_icon:before {
  display: inline-block;
  font: normal normal normal 14px/1 FontAwesome;
  font-size: inherit;
  text-rendering: auto;
  -webkit-font-smoothing: antialiased;
  -moz-osx-font-smoothing: grayscale;
  content: "\f127";
}
.kernel_disconnected_icon:before.pull-left {
  margin-right: .3em;
}
.kernel_disconnected_icon:before.pull-right {
  margin-left: .3em;
}
.notification_widget {
  color: #777;
  z-index: 10;
  background: rgba(240, 240, 240, 0.5);
  margin-right: 4px;
  color: #333;
  background-color: #fff;
  border-color: #ccc;
}
.notification_widget:focus,
.notification_widget.focus {
  color: #333;
  background-color: #e6e6e6;
  border-color: #8c8c8c;
}
.notification_widget:hover {
  color: #333;
  background-color: #e6e6e6;
  border-color: #adadad;
}
.notification_widget:active,
.notification_widget.active,
.open > .dropdown-toggle.notification_widget {
  color: #333;
  background-color: #e6e6e6;
  border-color: #adadad;
}
.notification_widget:active:hover,
.notification_widget.active:hover,
.open > .dropdown-toggle.notification_widget:hover,
.notification_widget:active:focus,
.notification_widget.active:focus,
.open > .dropdown-toggle.notification_widget:focus,
.notification_widget:active.focus,
.notification_widget.active.focus,
.open > .dropdown-toggle.notification_widget.focus {
  color: #333;
  background-color: #d4d4d4;
  border-color: #8c8c8c;
}
.notification_widget:active,
.notification_widget.active,
.open > .dropdown-toggle.notification_widget {
  background-image: none;
}
.notification_widget.disabled:hover,
.notification_widget[disabled]:hover,
fieldset[disabled] .notification_widget:hover,
.notification_widget.disabled:focus,
.notification_widget[disabled]:focus,
fieldset[disabled] .notification_widget:focus,
.notification_widget.disabled.focus,
.notification_widget[disabled].focus,
fieldset[disabled] .notification_widget.focus {
  background-color: #fff;
  border-color: #ccc;
}
.notification_widget .badge {
  color: #fff;
  background-color: #333;
}
.notification_widget.warning {
  color: #fff;
  background-color: #f0ad4e;
  border-color: #eea236;
}
.notification_widget.warning:focus,
.notification_widget.warning.focus {
  color: #fff;
  background-color: #ec971f;
  border-color: #985f0d;
}
.notification_widget.warning:hover {
  color: #fff;
  background-color: #ec971f;
  border-color: #d58512;
}
.notification_widget.warning:active,
.notification_widget.warning.active,
.open > .dropdown-toggle.notification_widget.warning {
  color: #fff;
  background-color: #ec971f;
  border-color: #d58512;
}
.notification_widget.warning:active:hover,
.notification_widget.warning.active:hover,
.open > .dropdown-toggle.notification_widget.warning:hover,
.notification_widget.warning:active:focus,
.notification_widget.warning.active:focus,
.open > .dropdown-toggle.notification_widget.warning:focus,
.notification_widget.warning:active.focus,
.notification_widget.warning.active.focus,
.open > .dropdown-toggle.notification_widget.warning.focus {
  color: #fff;
  background-color: #d58512;
  border-color: #985f0d;
}
.notification_widget.warning:active,
.notification_widget.warning.active,
.open > .dropdown-toggle.notification_widget.warning {
  background-image: none;
}
.notification_widget.warning.disabled:hover,
.notification_widget.warning[disabled]:hover,
fieldset[disabled] .notification_widget.warning:hover,
.notification_widget.warning.disabled:focus,
.notification_widget.warning[disabled]:focus,
fieldset[disabled] .notification_widget.warning:focus,
.notification_widget.warning.disabled.focus,
.notification_widget.warning[disabled].focus,
fieldset[disabled] .notification_widget.warning.focus {
  background-color: #f0ad4e;
  border-color: #eea236;
}
.notification_widget.warning .badge {
  color: #f0ad4e;
  background-color: #fff;
}
.notification_widget.success {
  color: #fff;
  background-color: #5cb85c;
  border-color: #4cae4c;
}
.notification_widget.success:focus,
.notification_widget.success.focus {
  color: #fff;
  background-color: #449d44;
  border-color: #255625;
}
.notification_widget.success:hover {
  color: #fff;
  background-color: #449d44;
  border-color: #398439;
}
.notification_widget.success:active,
.notification_widget.success.active,
.open > .dropdown-toggle.notification_widget.success {
  color: #fff;
  background-color: #449d44;
  border-color: #398439;
}
.notification_widget.success:active:hover,
.notification_widget.success.active:hover,
.open > .dropdown-toggle.notification_widget.success:hover,
.notification_widget.success:active:focus,
.notification_widget.success.active:focus,
.open > .dropdown-toggle.notification_widget.success:focus,
.notification_widget.success:active.focus,
.notification_widget.success.active.focus,
.open > .dropdown-toggle.notification_widget.success.focus {
  color: #fff;
  background-color: #398439;
  border-color: #255625;
}
.notification_widget.success:active,
.notification_widget.success.active,
.open > .dropdown-toggle.notification_widget.success {
  background-image: none;
}
.notification_widget.success.disabled:hover,
.notification_widget.success[disabled]:hover,
fieldset[disabled] .notification_widget.success:hover,
.notification_widget.success.disabled:focus,
.notification_widget.success[disabled]:focus,
fieldset[disabled] .notification_widget.success:focus,
.notification_widget.success.disabled.focus,
.notification_widget.success[disabled].focus,
fieldset[disabled] .notification_widget.success.focus {
  background-color: #5cb85c;
  border-color: #4cae4c;
}
.notification_widget.success .badge {
  color: #5cb85c;
  background-color: #fff;
}
.notification_widget.info {
  color: #fff;
  background-color: #5bc0de;
  border-color: #46b8da;
}
.notification_widget.info:focus,
.notification_widget.info.focus {
  color: #fff;
  background-color: #31b0d5;
  border-color: #1b6d85;
}
.notification_widget.info:hover {
  color: #fff;
  background-color: #31b0d5;
  border-color: #269abc;
}
.notification_widget.info:active,
.notification_widget.info.active,
.open > .dropdown-toggle.notification_widget.info {
  color: #fff;
  background-color: #31b0d5;
  border-color: #269abc;
}
.notification_widget.info:active:hover,
.notification_widget.info.active:hover,
.open > .dropdown-toggle.notification_widget.info:hover,
.notification_widget.info:active:focus,
.notification_widget.info.active:focus,
.open > .dropdown-toggle.notification_widget.info:focus,
.notification_widget.info:active.focus,
.notification_widget.info.active.focus,
.open > .dropdown-toggle.notification_widget.info.focus {
  color: #fff;
  background-color: #269abc;
  border-color: #1b6d85;
}
.notification_widget.info:active,
.notification_widget.info.active,
.open > .dropdown-toggle.notification_widget.info {
  background-image: none;
}
.notification_widget.info.disabled:hover,
.notification_widget.info[disabled]:hover,
fieldset[disabled] .notification_widget.info:hover,
.notification_widget.info.disabled:focus,
.notification_widget.info[disabled]:focus,
fieldset[disabled] .notification_widget.info:focus,
.notification_widget.info.disabled.focus,
.notification_widget.info[disabled].focus,
fieldset[disabled] .notification_widget.info.focus {
  background-color: #5bc0de;
  border-color: #46b8da;
}
.notification_widget.info .badge {
  color: #5bc0de;
  background-color: #fff;
}
.notification_widget.danger {
  color: #fff;
  background-color: #d9534f;
  border-color: #d43f3a;
}
.notification_widget.danger:focus,
.notification_widget.danger.focus {
  color: #fff;
  background-color: #c9302c;
  border-color: #761c19;
}
.notification_widget.danger:hover {
  color: #fff;
  background-color: #c9302c;
  border-color: #ac2925;
}
.notification_widget.danger:active,
.notification_widget.danger.active,
.open > .dropdown-toggle.notification_widget.danger {
  color: #fff;
  background-color: #c9302c;
  border-color: #ac2925;
}
.notification_widget.danger:active:hover,
.notification_widget.danger.active:hover,
.open > .dropdown-toggle.notification_widget.danger:hover,
.notification_widget.danger:active:focus,
.notification_widget.danger.active:focus,
.open > .dropdown-toggle.notification_widget.danger:focus,
.notification_widget.danger:active.focus,
.notification_widget.danger.active.focus,
.open > .dropdown-toggle.notification_widget.danger.focus {
  color: #fff;
  background-color: #ac2925;
  border-color: #761c19;
}
.notification_widget.danger:active,
.notification_widget.danger.active,
.open > .dropdown-toggle.notification_widget.danger {
  background-image: none;
}
.notification_widget.danger.disabled:hover,
.notification_widget.danger[disabled]:hover,
fieldset[disabled] .notification_widget.danger:hover,
.notification_widget.danger.disabled:focus,
.notification_widget.danger[disabled]:focus,
fieldset[disabled] .notification_widget.danger:focus,
.notification_widget.danger.disabled.focus,
.notification_widget.danger[disabled].focus,
fieldset[disabled] .notification_widget.danger.focus {
  background-color: #d9534f;
  border-color: #d43f3a;
}
.notification_widget.danger .badge {
  color: #d9534f;
  background-color: #fff;
}
div#pager {
  background-color: #fff;
  font-size: 14px;
  line-height: 20px;
  overflow: hidden;
  display: none;
  position: fixed;
  bottom: 0px;
  width: 100%;
  max-height: 50%;
  padding-top: 8px;
  -webkit-box-shadow: 0px 0px 12px 1px rgba(87, 87, 87, 0.2);
  box-shadow: 0px 0px 12px 1px rgba(87, 87, 87, 0.2);
  /* Display over codemirror */
  z-index: 100;
  /* Hack which prevents jquery ui resizable from changing top. */
  top: auto !important;
}
div#pager pre {
  line-height: 1.21429em;
  color: #000;
  background-color: #f7f7f7;
  padding: 0.4em;
}
div#pager #pager-button-area {
  position: absolute;
  top: 8px;
  right: 20px;
}
div#pager #pager-contents {
  position: relative;
  overflow: auto;
  width: 100%;
  height: 100%;
}
div#pager #pager-contents #pager-container {
  position: relative;
  padding: 15px 0px;
  box-sizing: border-box;
  -moz-box-sizing: border-box;
  -webkit-box-sizing: border-box;
}
div#pager .ui-resizable-handle {
  top: 0px;
  height: 8px;
  background: #f7f7f7;
  border-top: 1px solid #cfcfcf;
  border-bottom: 1px solid #cfcfcf;
  /* This injects handle bars (a short, wide = symbol) for 
        the resize handle. */
}
div#pager .ui-resizable-handle::after {
  content: '';
  top: 2px;
  left: 50%;
  height: 3px;
  width: 30px;
  margin-left: -15px;
  position: absolute;
  border-top: 1px solid #cfcfcf;
}
.quickhelp {
  /* Old browsers */
  display: -webkit-box;
  -webkit-box-orient: horizontal;
  -webkit-box-align: stretch;
  display: -moz-box;
  -moz-box-orient: horizontal;
  -moz-box-align: stretch;
  display: box;
  box-orient: horizontal;
  box-align: stretch;
  /* Modern browsers */
  display: flex;
  flex-direction: row;
  align-items: stretch;
  line-height: 1.8em;
}
.shortcut_key {
  display: inline-block;
  width: 20ex;
  text-align: right;
  font-family: monospace;
}
.shortcut_descr {
  display: inline-block;
  /* Old browsers */
  -webkit-box-flex: 1;
  -moz-box-flex: 1;
  box-flex: 1;
  /* Modern browsers */
  flex: 1;
}
span.save_widget {
  margin-top: 6px;
}
span.save_widget span.filename {
  height: 1em;
  line-height: 1em;
  padding: 3px;
  margin-left: 16px;
  border: none;
  font-size: 146.5%;
  border-radius: 2px;
}
span.save_widget span.filename:hover {
  background-color: #e6e6e6;
}
span.checkpoint_status,
span.autosave_status {
  font-size: small;
}
@media (max-width: 767px) {
  span.save_widget {
    font-size: small;
  }
  span.checkpoint_status,
  span.autosave_status {
    display: none;
  }
}
@media (min-width: 768px) and (max-width: 991px) {
  span.checkpoint_status {
    display: none;
  }
  span.autosave_status {
    font-size: x-small;
  }
}
.toolbar {
  padding: 0px;
  margin-left: -5px;
  margin-top: 2px;
  margin-bottom: 5px;
  box-sizing: border-box;
  -moz-box-sizing: border-box;
  -webkit-box-sizing: border-box;
}
.toolbar select,
.toolbar label {
  width: auto;
  vertical-align: middle;
  margin-right: 2px;
  margin-bottom: 0px;
  display: inline;
  font-size: 92%;
  margin-left: 0.3em;
  margin-right: 0.3em;
  padding: 0px;
  padding-top: 3px;
}
.toolbar .btn {
  padding: 2px 8px;
}
.toolbar .btn-group {
  margin-top: 0px;
  margin-left: 5px;
}
#maintoolbar {
  margin-bottom: -3px;
  margin-top: -8px;
  border: 0px;
  min-height: 27px;
  margin-left: 0px;
  padding-top: 11px;
  padding-bottom: 3px;
}
#maintoolbar .navbar-text {
  float: none;
  vertical-align: middle;
  text-align: right;
  margin-left: 5px;
  margin-right: 0px;
  margin-top: 0px;
}
.select-xs {
  height: 24px;
}
.pulse,
.dropdown-menu > li > a.pulse,
li.pulse > a.dropdown-toggle,
li.pulse.open > a.dropdown-toggle {
  background-color: #F37626;
  color: white;
}
/**
 * Primary styles
 *
 * Author: Jupyter Development Team
 */
/** WARNING IF YOU ARE EDITTING THIS FILE, if this is a .css file, It has a lot
 * of chance of beeing generated from the ../less/[samename].less file, you can
 * try to get back the less file by reverting somme commit in history
 **/
/*
 * We'll try to get something pretty, so we
 * have some strange css to have the scroll bar on
 * the left with fix button on the top right of the tooltip
 */
@-moz-keyframes fadeOut {
  from {
    opacity: 1;
  }
  to {
    opacity: 0;
  }
}
@-webkit-keyframes fadeOut {
  from {
    opacity: 1;
  }
  to {
    opacity: 0;
  }
}
@-moz-keyframes fadeIn {
  from {
    opacity: 0;
  }
  to {
    opacity: 1;
  }
}
@-webkit-keyframes fadeIn {
  from {
    opacity: 0;
  }
  to {
    opacity: 1;
  }
}
/*properties of tooltip after "expand"*/
.bigtooltip {
  overflow: auto;
  height: 200px;
  -webkit-transition-property: height;
  -webkit-transition-duration: 500ms;
  -moz-transition-property: height;
  -moz-transition-duration: 500ms;
  transition-property: height;
  transition-duration: 500ms;
}
/*properties of tooltip before "expand"*/
.smalltooltip {
  -webkit-transition-property: height;
  -webkit-transition-duration: 500ms;
  -moz-transition-property: height;
  -moz-transition-duration: 500ms;
  transition-property: height;
  transition-duration: 500ms;
  text-overflow: ellipsis;
  overflow: hidden;
  height: 80px;
}
.tooltipbuttons {
  position: absolute;
  padding-right: 15px;
  top: 0px;
  right: 0px;
}
.tooltiptext {
  /*avoid the button to overlap on some docstring*/
  padding-right: 30px;
}
.ipython_tooltip {
  max-width: 700px;
  /*fade-in animation when inserted*/
  -webkit-animation: fadeOut 400ms;
  -moz-animation: fadeOut 400ms;
  animation: fadeOut 400ms;
  -webkit-animation: fadeIn 400ms;
  -moz-animation: fadeIn 400ms;
  animation: fadeIn 400ms;
  vertical-align: middle;
  background-color: #f7f7f7;
  overflow: visible;
  border: #ababab 1px solid;
  outline: none;
  padding: 3px;
  margin: 0px;
  padding-left: 7px;
  font-family: monospace;
  min-height: 50px;
  -moz-box-shadow: 0px 6px 10px -1px #adadad;
  -webkit-box-shadow: 0px 6px 10px -1px #adadad;
  box-shadow: 0px 6px 10px -1px #adadad;
  border-radius: 2px;
  position: absolute;
  z-index: 1000;
}
.ipython_tooltip a {
  float: right;
}
.ipython_tooltip .tooltiptext pre {
  border: 0;
  border-radius: 0;
  font-size: 100%;
  background-color: #f7f7f7;
}
.pretooltiparrow {
  left: 0px;
  margin: 0px;
  top: -16px;
  width: 40px;
  height: 16px;
  overflow: hidden;
  position: absolute;
}
.pretooltiparrow:before {
  background-color: #f7f7f7;
  border: 1px #ababab solid;
  z-index: 11;
  content: "";
  position: absolute;
  left: 15px;
  top: 10px;
  width: 25px;
  height: 25px;
  -webkit-transform: rotate(45deg);
  -moz-transform: rotate(45deg);
  -ms-transform: rotate(45deg);
  -o-transform: rotate(45deg);
}
ul.typeahead-list i {
  margin-left: -10px;
  width: 18px;
}
ul.typeahead-list {
  max-height: 80vh;
  overflow: auto;
}
ul.typeahead-list > li > a {
  /** Firefox bug **/
  /* see https://github.com/jupyter/notebook/issues/559 */
  white-space: normal;
}
.cmd-palette .modal-body {
  padding: 7px;
}
.cmd-palette form {
  background: white;
}
.cmd-palette input {
  outline: none;
}
.no-shortcut {
  display: none;
}
.command-shortcut:before {
  content: "(command)";
  padding-right: 3px;
  color: #777777;
}
.edit-shortcut:before {
  content: "(edit)";
  padding-right: 3px;
  color: #777777;
}
#find-and-replace #replace-preview .match,
#find-and-replace #replace-preview .insert {
  background-color: #BBDEFB;
  border-color: #90CAF9;
  border-style: solid;
  border-width: 1px;
  border-radius: 0px;
}
#find-and-replace #replace-preview .replace .match {
  background-color: #FFCDD2;
  border-color: #EF9A9A;
  border-radius: 0px;
}
#find-and-replace #replace-preview .replace .insert {
  background-color: #C8E6C9;
  border-color: #A5D6A7;
  border-radius: 0px;
}
#find-and-replace #replace-preview {
  max-height: 60vh;
  overflow: auto;
}
#find-and-replace #replace-preview pre {
  padding: 5px 10px;
}
.terminal-app {
  background: #EEE;
}
.terminal-app #header {
  background: #fff;
  -webkit-box-shadow: 0px 0px 12px 1px rgba(87, 87, 87, 0.2);
  box-shadow: 0px 0px 12px 1px rgba(87, 87, 87, 0.2);
}
.terminal-app .terminal {
  float: left;
  font-family: monospace;
  color: white;
  background: black;
  padding: 0.4em;
  border-radius: 2px;
  -webkit-box-shadow: 0px 0px 12px 1px rgba(87, 87, 87, 0.4);
  box-shadow: 0px 0px 12px 1px rgba(87, 87, 87, 0.4);
}
.terminal-app .terminal,
.terminal-app .terminal dummy-screen {
  line-height: 1em;
  font-size: 14px;
}
.terminal-app .terminal-cursor {
  color: black;
  background: white;
}
.terminal-app #terminado-container {
  margin-top: 20px;
}
/*# sourceMappingURL=style.min.css.map */
    </style>
<style type="text/css">
    .highlight .hll { background-color: #ffffcc }
.highlight  { background: #f8f8f8; }
.highlight .c { color: #408080; font-style: italic } /* Comment */
.highlight .err { border: 1px solid #FF0000 } /* Error */
.highlight .k { color: #008000; font-weight: bold } /* Keyword */
.highlight .o { color: #666666 } /* Operator */
.highlight .ch { color: #408080; font-style: italic } /* Comment.Hashbang */
.highlight .cm { color: #408080; font-style: italic } /* Comment.Multiline */
.highlight .cp { color: #BC7A00 } /* Comment.Preproc */
.highlight .cpf { color: #408080; font-style: italic } /* Comment.PreprocFile */
.highlight .c1 { color: #408080; font-style: italic } /* Comment.Single */
.highlight .cs { color: #408080; font-style: italic } /* Comment.Special */
.highlight .gd { color: #A00000 } /* Generic.Deleted */
.highlight .ge { font-style: italic } /* Generic.Emph */
.highlight .gr { color: #FF0000 } /* Generic.Error */
.highlight .gh { color: #000080; font-weight: bold } /* Generic.Heading */
.highlight .gi { color: #00A000 } /* Generic.Inserted */
.highlight .go { color: #888888 } /* Generic.Output */
.highlight .gp { color: #000080; font-weight: bold } /* Generic.Prompt */
.highlight .gs { font-weight: bold } /* Generic.Strong */
.highlight .gu { color: #800080; font-weight: bold } /* Generic.Subheading */
.highlight .gt { color: #0044DD } /* Generic.Traceback */
.highlight .kc { color: #008000; font-weight: bold } /* Keyword.Constant */
.highlight .kd { color: #008000; font-weight: bold } /* Keyword.Declaration */
.highlight .kn { color: #008000; font-weight: bold } /* Keyword.Namespace */
.highlight .kp { color: #008000 } /* Keyword.Pseudo */
.highlight .kr { color: #008000; font-weight: bold } /* Keyword.Reserved */
.highlight .kt { color: #B00040 } /* Keyword.Type */
.highlight .m { color: #666666 } /* Literal.Number */
.highlight .s { color: #BA2121 } /* Literal.String */
.highlight .na { color: #7D9029 } /* Name.Attribute */
.highlight .nb { color: #008000 } /* Name.Builtin */
.highlight .nc { color: #0000FF; font-weight: bold } /* Name.Class */
.highlight .no { color: #880000 } /* Name.Constant */
.highlight .nd { color: #AA22FF } /* Name.Decorator */
.highlight .ni { color: #999999; font-weight: bold } /* Name.Entity */
.highlight .ne { color: #D2413A; font-weight: bold } /* Name.Exception */
.highlight .nf { color: #0000FF } /* Name.Function */
.highlight .nl { color: #A0A000 } /* Name.Label */
.highlight .nn { color: #0000FF; font-weight: bold } /* Name.Namespace */
.highlight .nt { color: #008000; font-weight: bold } /* Name.Tag */
.highlight .nv { color: #19177C } /* Name.Variable */
.highlight .ow { color: #AA22FF; font-weight: bold } /* Operator.Word */
.highlight .w { color: #bbbbbb } /* Text.Whitespace */
.highlight .mb { color: #666666 } /* Literal.Number.Bin */
.highlight .mf { color: #666666 } /* Literal.Number.Float */
.highlight .mh { color: #666666 } /* Literal.Number.Hex */
.highlight .mi { color: #666666 } /* Literal.Number.Integer */
.highlight .mo { color: #666666 } /* Literal.Number.Oct */
.highlight .sb { color: #BA2121 } /* Literal.String.Backtick */
.highlight .sc { color: #BA2121 } /* Literal.String.Char */
.highlight .sd { color: #BA2121; font-style: italic } /* Literal.String.Doc */
.highlight .s2 { color: #BA2121 } /* Literal.String.Double */
.highlight .se { color: #BB6622; font-weight: bold } /* Literal.String.Escape */
.highlight .sh { color: #BA2121 } /* Literal.String.Heredoc */
.highlight .si { color: #BB6688; font-weight: bold } /* Literal.String.Interpol */
.highlight .sx { color: #008000 } /* Literal.String.Other */
.highlight .sr { color: #BB6688 } /* Literal.String.Regex */
.highlight .s1 { color: #BA2121 } /* Literal.String.Single */
.highlight .ss { color: #19177C } /* Literal.String.Symbol */
.highlight .bp { color: #008000 } /* Name.Builtin.Pseudo */
.highlight .vc { color: #19177C } /* Name.Variable.Class */
.highlight .vg { color: #19177C } /* Name.Variable.Global */
.highlight .vi { color: #19177C } /* Name.Variable.Instance */
.highlight .il { color: #666666 } /* Literal.Number.Integer.Long */
    </style>
<style type="text/css">
    
/* Temporary definitions which will become obsolete with Notebook release 5.0 */
.ansi-black-fg { color: #3E424D; }
.ansi-black-bg { background-color: #3E424D; }
.ansi-black-intense-fg { color: #282C36; }
.ansi-black-intense-bg { background-color: #282C36; }
.ansi-red-fg { color: #E75C58; }
.ansi-red-bg { background-color: #E75C58; }
.ansi-red-intense-fg { color: #B22B31; }
.ansi-red-intense-bg { background-color: #B22B31; }
.ansi-green-fg { color: #00A250; }
.ansi-green-bg { background-color: #00A250; }
.ansi-green-intense-fg { color: #007427; }
.ansi-green-intense-bg { background-color: #007427; }
.ansi-yellow-fg { color: #DDB62B; }
.ansi-yellow-bg { background-color: #DDB62B; }
.ansi-yellow-intense-fg { color: #B27D12; }
.ansi-yellow-intense-bg { background-color: #B27D12; }
.ansi-blue-fg { color: #208FFB; }
.ansi-blue-bg { background-color: #208FFB; }
.ansi-blue-intense-fg { color: #0065CA; }
.ansi-blue-intense-bg { background-color: #0065CA; }
.ansi-magenta-fg { color: #D160C4; }
.ansi-magenta-bg { background-color: #D160C4; }
.ansi-magenta-intense-fg { color: #A03196; }
.ansi-magenta-intense-bg { background-color: #A03196; }
.ansi-cyan-fg { color: #60C6C8; }
.ansi-cyan-bg { background-color: #60C6C8; }
.ansi-cyan-intense-fg { color: #258F8F; }
.ansi-cyan-intense-bg { background-color: #258F8F; }
.ansi-white-fg { color: #C5C1B4; }
.ansi-white-bg { background-color: #C5C1B4; }
.ansi-white-intense-fg { color: #A1A6B2; }
.ansi-white-intense-bg { background-color: #A1A6B2; }

.ansi-bold { font-weight: bold; }

    </style>
<style type="text/css">
    .highlight .hll {
  background-color: #ffffcc;
}
.highlight .c {
  color: #999988;
  font-style: italic;
}
/* Comment */
.highlight .err {
  color: #a61717;
  background-color: #e3d2d2;
}
/* Error */
.highlight .k {
  color: #000000;
  font-weight: bold;
}
/* Keyword */
.highlight .o {
  color: #000000;
  font-weight: bold;
}
/* Operator */
.highlight .cm {
  color: #999988;
  font-style: italic;
}
/* Comment.Multiline */
.highlight .cp {
  color: #999999;
  font-weight: bold;
  font-style: italic;
}
/* Comment.Preproc */
.highlight .c1 {
  color: #999988;
  font-style: italic;
}
/* Comment.Single */
.highlight .cs {
  color: #999999;
  font-weight: bold;
  font-style: italic;
}
/* Comment.Special */
.highlight .gd {
  color: #000000;
  background-color: #ffdddd;
}
/* Generic.Deleted */
.highlight .ge {
  color: #000000;
  font-style: italic;
}
/* Generic.Emph */
.highlight .gr {
  color: #aa0000;
}
/* Generic.Error */
.highlight .gh {
  color: #999999;
}
/* Generic.Heading */
.highlight .gi {
  color: #000000;
  background-color: #ddffdd;
}
/* Generic.Inserted */
.highlight .go {
  color: #888888;
}
/* Generic.Output */
.highlight .gp {
  color: #555555;
}
/* Generic.Prompt */
.highlight .gs {
  font-weight: bold;
}
/* Generic.Strong */
.highlight .gu {
  color: #aaaaaa;
}
/* Generic.Subheading */
.highlight .gt {
  color: #aa0000;
}
/* Generic.Traceback */
.highlight .kc {
  color: #000000;
  font-weight: bold;
}
/* Keyword.Constant */
.highlight .kd {
  color: #000000;
  font-weight: bold;
}
/* Keyword.Declaration */
.highlight .kn {
  color: #000000;
  font-weight: bold;
}
/* Keyword.Namespace */
.highlight .kp {
  color: #000000;
  font-weight: bold;
}
/* Keyword.Pseudo */
.highlight .kr {
  color: #000000;
  font-weight: bold;
}
/* Keyword.Reserved */
.highlight .kt {
  color: #445588;
  font-weight: bold;
}
/* Keyword.Type */
.highlight .m {
  color: #009999;
}
/* Literal.Number */
.highlight .s {
  color: #d01040;
}
/* Literal.String */
.highlight .na {
  color: #008080;
}
/* Name.Attribute */
.highlight .nb {
  color: #0086b3;
}
/* Name.Builtin */
.highlight .nc {
  color: #445588;
  font-weight: bold;
}
/* Name.Class */
.highlight .no {
  color: #008080;
}
/* Name.Constant */
.highlight .nd {
  color: #3c5d5d;
  font-weight: bold;
}
/* Name.Decorator */
.highlight .ni {
  color: #800080;
}
/* Name.Entity */
.highlight .ne {
  color: #990000;
  font-weight: bold;
}
/* Name.Exception */
.highlight .nf {
  color: #990000;
  font-weight: bold;
}
/* Name.Function */
.highlight .nl {
  color: #990000;
  font-weight: bold;
}
/* Name.Label */
.highlight .nn {
  color: black;
  font-weight: normal;
}
/* Name.Namespace */
.highlight .nt {
  color: #000080;
}
/* Name.Tag */
.highlight .nv {
  color: #008080;
}
/* Name.Variable */
.highlight .ow {
  color: #000000;
  font-weight: bold;
}
/* Operator.Word */
.highlight .w {
  color: #bbbbbb;
}
/* Text.Whitespace */
.highlight .mf {
  color: #009999;
}
/* Literal.Number.Float */
.highlight .mh {
  color: #009999;
}
/* Literal.Number.Hex */
.highlight .mi {
  color: #009999;
}
/* Literal.Number.Integer */
.highlight .mo {
  color: #009999;
}
/* Literal.Number.Oct */
.highlight .sb {
  color: #d01040;
}
/* Literal.String.Backtick */
.highlight .sc {
  color: #d01040;
}
/* Literal.String.Char */
.highlight .sd {
  color: #d01040;
}
/* Literal.String.Doc */
.highlight .s2 {
  color: #d01040;
}
/* Literal.String.Double */
.highlight .se {
  color: #d01040;
}
/* Literal.String.Escape */
.highlight .sh {
  color: #d01040;
}
/* Literal.String.Heredoc */
.highlight .si {
  color: #d01040;
}
/* Literal.String.Interpol */
.highlight .sx {
  color: #d01040;
}
/* Literal.String.Other */
.highlight .sr {
  color: #009926;
}
/* Literal.String.Regex */
.highlight .s1 {
  color: #d01040;
}
/* Literal.String.Single */
.highlight .ss {
  color: #990073;
}
/* Literal.String.Symbol */
.highlight .bp {
  color: #999999;
}
/* Name.Builtin.Pseudo */
.highlight .vc {
  color: #008080;
}
/* Name.Variable.Class */
.highlight .vg {
  color: #008080;
}
/* Name.Variable.Global */
.highlight .vi {
  color: #008080;
}
/* Name.Variable.Instance */
.highlight .il {
  color: #009999;
}
/* Literal.Number.Integer.Long */
div#maintoolbar {
  display: none !important;
}
body {
  font-family: "Open Sans", "Helvetica Neue", Helvetica, Arial, sans-serif;
  font-size: 16px;
  line-height: 1.42857143;
  color: #2c2c2c;
}
.rendered_html table,
.rendered_html th,
.rendered_html tr,
.rendered_html td {
  margin: 6px 0 13.5px;
  font-size: 15px;
  border-color: #ccc;
  max-width: 100%;
  text-align: left;
}
span.ansiblack {
  color: #2b303b;
}
span.ansiblue {
  color: #154ba1;
}
span.ansigray {
  color: #b4b7b4;
}
span.ansigreen {
  color: #2d6836;
}
span.ansipurple {
  color: #483d8b;
}
span.ansicyan {
  color: #1592a2;
}
span.ansiyellow {
  color: #92a215;
}
span.ansired {
  color: #b82a18;
}
div.output_html {
  color: #4c4c4c;
}
div.output_stderr {
  background-color: #DB797C;
}
div.output_stderr pre {
  color: #000000;
}
.cm-s-ipython.CodeMirror {
  background: #f6f6f6;
  color: #303030;
}
.cm-s-ipython div.CodeMirror-selected {
  background: #777777 !important;
}
.cm-s-ipython .CodeMirror-gutters {
  background: #cccccc;
  border: 0px;
  border-radius: 0px;
}
.cm-s-ipython .CodeMirror-linenumber {
  color: #666666 !important;
  font-size: 11pt;
}
.cm-s-ipython .CodeMirror-cursor {
  border-left: 2px solid #0095ff !important;
}
.cm-s-ipython span.cm-comment {
  color: #707070;
  font-style: italic !important;
}
.cm-s-ipython span.cm-atom {
  color: #F37F14;
}
.cm-s-ipython span.cm-number {
  color: #eb6a1a;
}
.cm-s-ipython span.cm-property {
  color: #de143d;
}
.cm-s-ipython span.cm-attribute {
  color: #de143d;
}
.cm-s-ipython span.cm-keyword {
  color: #F37F14;
  font-weight: normal;
}
.cm-s-ipython span.cm-string {
  color: #007f00;
  font-weight: normal;
}
.cm-s-ipython span.cm-operator {
  color: #055be0;
  font-weight: normal;
}
.cm-s-ipython span.cm-builtin {
  color: #de143d;
  font-weight: normal;
}
.cm-s-ipython span.cm-variable {
  color: #000000;
}
.cm-s-ipython span.cm-variable-2 {
  color: #de143d;
}
.cm-s-ipython span.cm-def {
  color: #055be0;
  font-weight: normal;
}
.cm-s-ipython span.cm-error {
  background: rgba(191, 97, 106, 0.3) !important;
}
.cm-s-ipython span.cm-tag {
  color: #F37F14;
}
.cm-s-ipython span.cm-link {
  color: #eb6a1a;
}
.cm-s-ipython span.cm-storage {
  color: #055be0;
}
.cm-s-ipython span.cm-entity {
  color: #de143d;
}
.cm-s-ipython span.cm-class {
  color: #e22978;
}
.cm-s-ipython span.cm-support {
  color: #de143d;
}
.cm-s-ipython span.cm-qualifier {
  color: #de143d;
}
/* Set CodeCell font-size*/
/*div.CodeMirror pre {font-size: 11pt !important;}*/
div.CodeMirror pre {
  line-height: 1.5 !important;
}
div.CodeMirror pre {
  font-family: 'Hack', monospace;
  font-size: 11pt;
}
div.CodeMirror span.CodeMirror-matchingbracket {
  color: #000000;
  background: rgba(53, 114, 198, 0.3) !important;
}
div.CodeMirror span.CodeMirror-nonmatchingbracket {
  color: #000000;
  background: rgba(191, 97, 106, 0.3) !important;
}
.cm-s-ipython .CodeMirror-matchingbracket {
  color: #000000;
  background: rgba(53, 114, 198, 0.3) !important;
}
.cm-s-ipython .CodeMirror-nonmatchingbracket {
  color: #000000;
  background: rgba(191, 97, 106, 0.3) !important;
}
/*Input and output cells formatting*/
div.prompt.input_prompt {
  font-family: 'Hack', monospace;
  border-right: 2px solid #428bca;
  font-weight: bold;
  font-size: 11pt;
  color: transparent;
  background-color: #ececed;
  width: 1em;
  padding-bottom: 0px;
  margin-bottom: 0px;
}
div.prompt.output_prompt {
  font-family: 'Hack', monospace;
  font-weight: bold;
  background-color: #ffffff;
  color: #ffffff;
  font-size: 9.5pt;
  width: 1em;
  margin-bottom: 8px;
  padding-top: 1em;
  padding-bottom: 1em;
}
div.out_prompt_overlay.prompt {
  font-family: 'Hack', monospace;
  font-weight: bold;
  font-size: 9.5pt;
  width: 1em;
  margin-bottom: 8px;
  background-color: #ffffff;
  border-radius: 4px;
  -webkit-border-radius: 4px;
  -moz-border-radius: 4px;
}
div.out_prompt_overlay.prompt:hover {
  font-family: 'Hack', monospace;
  font-weight: bold;
  font-size: 9.5pt;
  width: 1em;
  border-radius: 4px;
  margin-bottom: 8px;
  background-color: #ffffff;
  box-shadow: #e2e2e2 2px 2px 6px 4px inset;
  -webkit-border-radius: 4px;
  -moz-border-radius: 4px;
}
.prompt {
  min-width: 0px;
}
div.output_wrapper {
  background-color: #ffffff;
  margin-bottom: 0em;
  margin-top: 0em;
  border: 0px;
}
div.output_subarea.output_text.output_stream.output_stdout,
div.output_subarea.output_text {
  padding-top: 1em;
  margin-bottom: 8px;
  margin-top: 8px;
  margin-left: 8px;
  margin-right: 8px;
  background-color: #ffffff;
  color: #000000;
}
div.output_area pre {
  color: #000000;
  font-size: 10pt;
}
div.output_subarea {
  overflow-x: auto;
  padding: 1.0em;
  -webkit-box-flex: 1;
  -moz-box-flex: 1;
  box-flex: 1;
  flex: 1;
  max-width: calc(86%);
}
body {
  background-color: #f9f9f9;
}
a {
  color: #303030;
  font-family: 'Helvetica', sans-serif;
}
div#notebook,
div.CodeMirror,
div.output_area pre,
div.output_wrapper,
div.prompt,
div.CodeMirror pre {
  font-family: 'Hack', monospace;
  font-size: 11pt;
}
#notebook-container {
  padding: 0px;
  background-color: #f9f9f9;
  min-height: 0px;
  box-shadow: none;
}
.cell {
  padding: 0px;
}
.rendered_html pre,
.rendered_html code {
  color: #e54813;
  background-color: #f6f6f6;
  padding: 2px;
}

    </style>


<style type="text/css">
/* Overrides of notebook CSS for static HTML export */
body {
  overflow: visible;
  padding: 8px;
}

div#notebook {
  overflow: visible;
  border-top: none;
}

@media print {
  div.cell {
    display: block;
    page-break-inside: avoid;
  } 
  div.output_wrapper { 
    display: block;
    page-break-inside: avoid; 
  }
  div.output { 
    display: block;
    page-break-inside: avoid; 
  }
}
</style>

<!-- Custom stylesheet, it must be in the same directory as the html file -->
<link rel="stylesheet" href="custom.css">

<!-- Loading mathjax macro -->
<!-- Load mathjax -->
    <script src="https://cdn.mathjax.org/mathjax/latest/MathJax.js?config=TeX-AMS_HTML"></script>
    <!-- MathJax configuration -->
    <script type="text/x-mathjax-config">
    MathJax.Hub.Config({
        tex2jax: {
            inlineMath: [ ['$','$'], ["\\(","\\)"] ],
            displayMath: [ ['$$','$$'], ["\\[","\\]"] ],
            processEscapes: true,
            processEnvironments: true
        },
        // Center justify equations in code and markdown cells. Elsewhere
        // we use CSS to left justify single line equations in code cells.
        displayAlign: 'center',
        "HTML-CSS": {
            styles: {'.MathJax_Display': {"margin": 0}},
            linebreaks: { automatic: true }
        }
    });
    </script>
    <!-- End of mathjax configuration --></head>
<body>
  <div tabindex="-1" id="notebook" class="border-box-sizing">
    <div class="container" id="notebook-container">

<div class="cell border-box-sizing code_cell rendered">
<div class="input">
<div class="prompt input_prompt">In&nbsp;[1]:</div>
<div class="inner_cell">
    <div class="input_area">
<div class=" highlight hl-ipython2"><pre><span></span><span class="o">%</span><span class="k">matplotlib</span> inline
<span class="kn">from</span> <span class="nn">ggplot</span> <span class="kn">import</span> <span class="o">*</span>
</pre></div>

</div>
</div>
</div>

</div>
<div class="cell border-box-sizing text_cell rendered">
<div class="prompt input_prompt">
</div>
<div class="inner_cell">
<div class="text_cell_render border-box-sizing rendered_html">
<h3 id="scale_color_brewer"><code>scale_color_brewer</code><a class="anchor-link" href="#scale_color_brewer">&#182;</a></h3><p><code>scale_color_brewer</code> applies color palettes to discrete color variables in your ggplots. It has 2 parameters:</p>
<ul>
<li><code>type</code> - type of palette to use ('diverging/div', 'qualitative/qual', 'sequential/seq')</li>
<li><code>palette</code> - palette number</li>
</ul>

</div>
</div>
</div>
<div class="cell border-box-sizing code_cell rendered">
<div class="input">
<div class="prompt input_prompt">In&nbsp;[2]:</div>
<div class="inner_cell">
    <div class="input_area">
<div class=" highlight hl-ipython2"><pre><span></span><span class="n">ggplot</span><span class="p">(</span><span class="n">mtcars</span><span class="p">,</span> <span class="n">aes</span><span class="p">(</span><span class="n">x</span><span class="o">=</span><span class="s1">&#39;wt&#39;</span><span class="p">,</span> <span class="n">y</span><span class="o">=</span><span class="s1">&#39;mpg&#39;</span><span class="p">,</span> <span class="n">color</span><span class="o">=</span><span class="s1">&#39;factor(cyl)&#39;</span><span class="p">))</span> <span class="o">+</span> <span class="n">geom_point</span><span class="p">()</span>
</pre></div>

</div>
</div>
</div>

<div class="output_wrapper">
<div class="output">


<div class="output_area"><div class="prompt"></div>


<div class="output_png output_subarea ">
<img src="data:image/png;base64,iVBORw0KGgoAAAANSUhEUgAAAuQAAAIACAYAAADKcXnxAAAABHNCSVQICAgIfAhkiAAAAAlwSFlz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"
>
</div>

</div>

<div class="output_area"><div class="prompt output_prompt">Out[2]:</div>


<div class="output_text output_subarea output_execute_result">
<pre>&lt;ggplot: (284441529)&gt;</pre>
</div>

</div>

</div>
</div>

</div>
<div class="cell border-box-sizing code_cell rendered">
<div class="input">
<div class="prompt input_prompt">In&nbsp;[3]:</div>
<div class="inner_cell">
    <div class="input_area">
<div class=" highlight hl-ipython2"><pre><span></span><span class="n">ggplot</span><span class="p">(</span><span class="n">mtcars</span><span class="p">,</span> <span class="n">aes</span><span class="p">(</span><span class="n">x</span><span class="o">=</span><span class="s1">&#39;wt&#39;</span><span class="p">,</span> <span class="n">y</span><span class="o">=</span><span class="s1">&#39;mpg&#39;</span><span class="p">,</span> <span class="n">color</span><span class="o">=</span><span class="s1">&#39;factor(cyl)&#39;</span><span class="p">))</span> <span class="o">+</span> \
    <span class="n">geom_point</span><span class="p">()</span> <span class="o">+</span> \
    <span class="n">scale_color_brewer</span><span class="p">()</span>
</pre></div>

</div>
</div>
</div>

<div class="output_wrapper">
<div class="output">


<div class="output_area"><div class="prompt"></div>


<div class="output_png output_subarea ">
<img src="data:image/png;base64,iVBORw0KGgoAAAANSUhEUgAAAuQAAAIACAYAAADKcXnxAAAABHNCSVQICAgIfAhkiAAAAAlwSFlz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"
>
</div>

</div>

<div class="output_area"><div class="prompt output_prompt">Out[3]:</div>


<div class="output_text output_subarea output_execute_result">
<pre>&lt;ggplot: (285303209)&gt;</pre>
</div>

</div>

</div>
</div>

</div>
<div class="cell border-box-sizing code_cell rendered">
<div class="input">
<div class="prompt input_prompt">In&nbsp;[4]:</div>
<div class="inner_cell">
    <div class="input_area">
<div class=" highlight hl-ipython2"><pre><span></span><span class="n">ggplot</span><span class="p">(</span><span class="n">mtcars</span><span class="p">,</span> <span class="n">aes</span><span class="p">(</span><span class="n">x</span><span class="o">=</span><span class="s1">&#39;wt&#39;</span><span class="p">,</span> <span class="n">y</span><span class="o">=</span><span class="s1">&#39;mpg&#39;</span><span class="p">,</span> <span class="n">color</span><span class="o">=</span><span class="s1">&#39;factor(cyl)&#39;</span><span class="p">))</span> <span class="o">+</span> \
    <span class="n">geom_point</span><span class="p">()</span> <span class="o">+</span> \
    <span class="n">scale_color_brewer</span><span class="p">(</span><span class="nb">type</span><span class="o">=</span><span class="s1">&#39;div&#39;</span><span class="p">)</span>
</pre></div>

</div>
</div>
</div>

<div class="output_wrapper">
<div class="output">


<div class="output_area"><div class="prompt"></div>


<div class="output_png output_subarea ">
<img src="data:image/png;base64,iVBORw0KGgoAAAANSUhEUgAAAuQAAAIACAYAAADKcXnxAAAABHNCSVQICAgIfAhkiAAAAAlwSFlz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"
>
</div>

</div>

<div class="output_area"><div class="prompt output_prompt">Out[4]:</div>


<div class="output_text output_subarea output_execute_result">
<pre>&lt;ggplot: (285330073)&gt;</pre>
</div>

</div>

</div>
</div>

</div>
<div class="cell border-box-sizing code_cell rendered">
<div class="input">
<div class="prompt input_prompt">In&nbsp;[5]:</div>
<div class="inner_cell">
    <div class="input_area">
<div class=" highlight hl-ipython2"><pre><span></span><span class="n">ggplot</span><span class="p">(</span><span class="n">mtcars</span><span class="p">,</span> <span class="n">aes</span><span class="p">(</span><span class="n">x</span><span class="o">=</span><span class="s1">&#39;wt&#39;</span><span class="p">,</span> <span class="n">y</span><span class="o">=</span><span class="s1">&#39;mpg&#39;</span><span class="p">,</span> <span class="n">color</span><span class="o">=</span><span class="s1">&#39;factor(cyl)&#39;</span><span class="p">))</span> <span class="o">+</span> \
    <span class="n">geom_point</span><span class="p">()</span> <span class="o">+</span> \
    <span class="n">scale_color_brewer</span><span class="p">(</span><span class="nb">type</span><span class="o">=</span><span class="s1">&#39;div&#39;</span><span class="p">,</span> <span class="n">palette</span><span class="o">=</span><span class="mi">4</span><span class="p">)</span>
</pre></div>

</div>
</div>
</div>

<div class="output_wrapper">
<div class="output">


<div class="output_area"><div class="prompt"></div>


<div class="output_png output_subarea ">
<img src="data:image/png;base64,iVBORw0KGgoAAAANSUhEUgAAAuQAAAIACAYAAADKcXnxAAAABHNCSVQICAgIfAhkiAAAAAlwSFlz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"
>
</div>

</div>

<div class="output_area"><div class="prompt output_prompt">Out[5]:</div>


<div class="output_text output_subarea output_execute_result">
<pre>&lt;ggplot: (284723677)&gt;</pre>
</div>

</div>

</div>
</div>

</div>
<div class="cell border-box-sizing code_cell rendered">
<div class="input">
<div class="prompt input_prompt">In&nbsp;[6]:</div>
<div class="inner_cell">
    <div class="input_area">
<div class=" highlight hl-ipython2"><pre><span></span><span class="n">ggplot</span><span class="p">(</span><span class="n">mtcars</span><span class="p">,</span> <span class="n">aes</span><span class="p">(</span><span class="n">x</span><span class="o">=</span><span class="s1">&#39;wt&#39;</span><span class="p">,</span> <span class="n">y</span><span class="o">=</span><span class="s1">&#39;mpg&#39;</span><span class="p">,</span> <span class="n">color</span><span class="o">=</span><span class="s1">&#39;factor(cyl)&#39;</span><span class="p">))</span> <span class="o">+</span> \
    <span class="n">geom_point</span><span class="p">()</span> <span class="o">+</span> \
    <span class="n">scale_color_brewer</span><span class="p">(</span><span class="nb">type</span><span class="o">=</span><span class="s1">&#39;seq&#39;</span><span class="p">,</span> <span class="n">palette</span><span class="o">=</span><span class="mi">2</span><span class="p">)</span>
</pre></div>

</div>
</div>
</div>

<div class="output_wrapper">
<div class="output">


<div class="output_area"><div class="prompt"></div>


<div class="output_png output_subarea ">
<img src="data:image/png;base64,iVBORw0KGgoAAAANSUhEUgAAAuQAAAIACAYAAADKcXnxAAAABHNCSVQICAgIfAhkiAAAAAlwSFlz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"
>
</div>

</div>

<div class="output_area"><div class="prompt output_prompt">Out[6]:</div>


<div class="output_text output_subarea output_execute_result">
<pre>&lt;ggplot: (285179185)&gt;</pre>
</div>

</div>

</div>
</div>

</div>
<div class="cell border-box-sizing code_cell rendered">
<div class="input">
<div class="prompt input_prompt">In&nbsp;[7]:</div>
<div class="inner_cell">
    <div class="input_area">
<div class=" highlight hl-ipython2"><pre><span></span><span class="n">ggplot</span><span class="p">(</span><span class="n">mtcars</span><span class="p">,</span> <span class="n">aes</span><span class="p">(</span><span class="n">x</span><span class="o">=</span><span class="s1">&#39;wt&#39;</span><span class="p">,</span> <span class="n">y</span><span class="o">=</span><span class="s1">&#39;mpg&#39;</span><span class="p">,</span> <span class="n">color</span><span class="o">=</span><span class="s1">&#39;factor(cyl)&#39;</span><span class="p">))</span> <span class="o">+</span> \
    <span class="n">geom_point</span><span class="p">()</span> <span class="o">+</span> \
    <span class="n">scale_color_brewer</span><span class="p">(</span><span class="nb">type</span><span class="o">=</span><span class="s1">&#39;qual&#39;</span><span class="p">)</span>
</pre></div>

</div>
</div>
</div>

<div class="output_wrapper">
<div class="output">


<div class="output_area"><div class="prompt"></div>


<div class="output_png output_subarea ">
<img src="data:image/png;base64,iVBORw0KGgoAAAANSUhEUgAAAuQAAAIACAYAAADKcXnxAAAABHNCSVQICAgIfAhkiAAAAAlwSFlz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"
>
</div>

</div>

<div class="output_area"><div class="prompt output_prompt">Out[7]:</div>


<div class="output_text output_subarea output_execute_result">
<pre>&lt;ggplot: (285608533)&gt;</pre>
</div>

</div>

</div>
</div>

</div>
<div class="cell border-box-sizing code_cell rendered">
<div class="input">
<div class="prompt input_prompt">In&nbsp;[&nbsp;]:</div>
<div class="inner_cell">
    <div class="input_area">
<div class=" highlight hl-ipython2"><pre><span></span> 
</pre></div>

</div>
</div>
</div>

</div>
    </div>
  </div>
</body>
</html>
