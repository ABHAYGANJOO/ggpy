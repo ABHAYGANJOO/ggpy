<!DOCTYPE html>
<html>
<head><meta charset="utf-8" />
<title>aesthetics</title>

<script src="https://cdnjs.cloudflare.com/ajax/libs/require.js/2.1.10/require.min.js"></script>
<script src="https://cdnjs.cloudflare.com/ajax/libs/jquery/2.0.3/jquery.min.js"></script>

<style type="text/css">
    /*!
*
* Twitter Bootstrap
*
*/
/*!
 * Bootstrap v3.3.6 (http://getbootstrap.com)
 * Copyright 2011-2015 Twitter, Inc.
 * Licensed under MIT (https://github.com/twbs/bootstrap/blob/master/LICENSE)
 */
/*! normalize.css v3.0.3 | MIT License | github.com/necolas/normalize.css */
html {
  font-family: sans-serif;
  -ms-text-size-adjust: 100%;
  -webkit-text-size-adjust: 100%;
}
body {
  margin: 0;
}
article,
aside,
details,
figcaption,
figure,
footer,
header,
hgroup,
main,
menu,
nav,
section,
summary {
  display: block;
}
audio,
canvas,
progress,
video {
  display: inline-block;
  vertical-align: baseline;
}
audio:not([controls]) {
  display: none;
  height: 0;
}
[hidden],
template {
  display: none;
}
a {
  background-color: transparent;
}
a:active,
a:hover {
  outline: 0;
}
abbr[title] {
  border-bottom: 1px dotted;
}
b,
strong {
  font-weight: bold;
}
dfn {
  font-style: italic;
}
h1 {
  font-size: 2em;
  margin: 0.67em 0;
}
mark {
  background: #ff0;
  color: #000;
}
small {
  font-size: 80%;
}
sub,
sup {
  font-size: 75%;
  line-height: 0;
  position: relative;
  vertical-align: baseline;
}
sup {
  top: -0.5em;
}
sub {
  bottom: -0.25em;
}
img {
  border: 0;
}
svg:not(:root) {
  overflow: hidden;
}
figure {
  margin: 1em 40px;
}
hr {
  box-sizing: content-box;
  height: 0;
}
pre {
  overflow: auto;
}
code,
kbd,
pre,
samp {
  font-family: monospace, monospace;
  font-size: 1em;
}
button,
input,
optgroup,
select,
textarea {
  color: inherit;
  font: inherit;
  margin: 0;
}
button {
  overflow: visible;
}
button,
select {
  text-transform: none;
}
button,
html input[type="button"],
input[type="reset"],
input[type="submit"] {
  -webkit-appearance: button;
  cursor: pointer;
}
button[disabled],
html input[disabled] {
  cursor: default;
}
button::-moz-focus-inner,
input::-moz-focus-inner {
  border: 0;
  padding: 0;
}
input {
  line-height: normal;
}
input[type="checkbox"],
input[type="radio"] {
  box-sizing: border-box;
  padding: 0;
}
input[type="number"]::-webkit-inner-spin-button,
input[type="number"]::-webkit-outer-spin-button {
  height: auto;
}
input[type="search"] {
  -webkit-appearance: textfield;
  box-sizing: content-box;
}
input[type="search"]::-webkit-search-cancel-button,
input[type="search"]::-webkit-search-decoration {
  -webkit-appearance: none;
}
fieldset {
  border: 1px solid #c0c0c0;
  margin: 0 2px;
  padding: 0.35em 0.625em 0.75em;
}
legend {
  border: 0;
  padding: 0;
}
textarea {
  overflow: auto;
}
optgroup {
  font-weight: bold;
}
table {
  border-collapse: collapse;
  border-spacing: 0;
}
td,
th {
  padding: 0;
}
/*! Source: https://github.com/h5bp/html5-boilerplate/blob/master/src/css/main.css */
@media print {
  *,
  *:before,
  *:after {
    background: transparent !important;
    color: #000 !important;
    box-shadow: none !important;
    text-shadow: none !important;
  }
  a,
  a:visited {
    text-decoration: underline;
  }
  a[href]:after {
    content: " (" attr(href) ")";
  }
  abbr[title]:after {
    content: " (" attr(title) ")";
  }
  a[href^="#"]:after,
  a[href^="javascript:"]:after {
    content: "";
  }
  pre,
  blockquote {
    border: 1px solid #999;
    page-break-inside: avoid;
  }
  thead {
    display: table-header-group;
  }
  tr,
  img {
    page-break-inside: avoid;
  }
  img {
    max-width: 100% !important;
  }
  p,
  h2,
  h3 {
    orphans: 3;
    widows: 3;
  }
  h2,
  h3 {
    page-break-after: avoid;
  }
  .navbar {
    display: none;
  }
  .btn > .caret,
  .dropup > .btn > .caret {
    border-top-color: #000 !important;
  }
  .label {
    border: 1px solid #000;
  }
  .table {
    border-collapse: collapse !important;
  }
  .table td,
  .table th {
    background-color: #fff !important;
  }
  .table-bordered th,
  .table-bordered td {
    border: 1px solid #ddd !important;
  }
}
@font-face {
  font-family: 'Glyphicons Halflings';
  src: url('../components/bootstrap/fonts/glyphicons-halflings-regular.eot');
  src: url('../components/bootstrap/fonts/glyphicons-halflings-regular.eot?#iefix') format('embedded-opentype'), url('../components/bootstrap/fonts/glyphicons-halflings-regular.woff2') format('woff2'), url('../components/bootstrap/fonts/glyphicons-halflings-regular.woff') format('woff'), url('../components/bootstrap/fonts/glyphicons-halflings-regular.ttf') format('truetype'), url('../components/bootstrap/fonts/glyphicons-halflings-regular.svg#glyphicons_halflingsregular') format('svg');
}
.glyphicon {
  position: relative;
  top: 1px;
  display: inline-block;
  font-family: 'Glyphicons Halflings';
  font-style: normal;
  font-weight: normal;
  line-height: 1;
  -webkit-font-smoothing: antialiased;
  -moz-osx-font-smoothing: grayscale;
}
.glyphicon-asterisk:before {
  content: "\002a";
}
.glyphicon-plus:before {
  content: "\002b";
}
.glyphicon-euro:before,
.glyphicon-eur:before {
  content: "\20ac";
}
.glyphicon-minus:before {
  content: "\2212";
}
.glyphicon-cloud:before {
  content: "\2601";
}
.glyphicon-envelope:before {
  content: "\2709";
}
.glyphicon-pencil:before {
  content: "\270f";
}
.glyphicon-glass:before {
  content: "\e001";
}
.glyphicon-music:before {
  content: "\e002";
}
.glyphicon-search:before {
  content: "\e003";
}
.glyphicon-heart:before {
  content: "\e005";
}
.glyphicon-star:before {
  content: "\e006";
}
.glyphicon-star-empty:before {
  content: "\e007";
}
.glyphicon-user:before {
  content: "\e008";
}
.glyphicon-film:before {
  content: "\e009";
}
.glyphicon-th-large:before {
  content: "\e010";
}
.glyphicon-th:before {
  content: "\e011";
}
.glyphicon-th-list:before {
  content: "\e012";
}
.glyphicon-ok:before {
  content: "\e013";
}
.glyphicon-remove:before {
  content: "\e014";
}
.glyphicon-zoom-in:before {
  content: "\e015";
}
.glyphicon-zoom-out:before {
  content: "\e016";
}
.glyphicon-off:before {
  content: "\e017";
}
.glyphicon-signal:before {
  content: "\e018";
}
.glyphicon-cog:before {
  content: "\e019";
}
.glyphicon-trash:before {
  content: "\e020";
}
.glyphicon-home:before {
  content: "\e021";
}
.glyphicon-file:before {
  content: "\e022";
}
.glyphicon-time:before {
  content: "\e023";
}
.glyphicon-road:before {
  content: "\e024";
}
.glyphicon-download-alt:before {
  content: "\e025";
}
.glyphicon-download:before {
  content: "\e026";
}
.glyphicon-upload:before {
  content: "\e027";
}
.glyphicon-inbox:before {
  content: "\e028";
}
.glyphicon-play-circle:before {
  content: "\e029";
}
.glyphicon-repeat:before {
  content: "\e030";
}
.glyphicon-refresh:before {
  content: "\e031";
}
.glyphicon-list-alt:before {
  content: "\e032";
}
.glyphicon-lock:before {
  content: "\e033";
}
.glyphicon-flag:before {
  content: "\e034";
}
.glyphicon-headphones:before {
  content: "\e035";
}
.glyphicon-volume-off:before {
  content: "\e036";
}
.glyphicon-volume-down:before {
  content: "\e037";
}
.glyphicon-volume-up:before {
  content: "\e038";
}
.glyphicon-qrcode:before {
  content: "\e039";
}
.glyphicon-barcode:before {
  content: "\e040";
}
.glyphicon-tag:before {
  content: "\e041";
}
.glyphicon-tags:before {
  content: "\e042";
}
.glyphicon-book:before {
  content: "\e043";
}
.glyphicon-bookmark:before {
  content: "\e044";
}
.glyphicon-print:before {
  content: "\e045";
}
.glyphicon-camera:before {
  content: "\e046";
}
.glyphicon-font:before {
  content: "\e047";
}
.glyphicon-bold:before {
  content: "\e048";
}
.glyphicon-italic:before {
  content: "\e049";
}
.glyphicon-text-height:before {
  content: "\e050";
}
.glyphicon-text-width:before {
  content: "\e051";
}
.glyphicon-align-left:before {
  content: "\e052";
}
.glyphicon-align-center:before {
  content: "\e053";
}
.glyphicon-align-right:before {
  content: "\e054";
}
.glyphicon-align-justify:before {
  content: "\e055";
}
.glyphicon-list:before {
  content: "\e056";
}
.glyphicon-indent-left:before {
  content: "\e057";
}
.glyphicon-indent-right:before {
  content: "\e058";
}
.glyphicon-facetime-video:before {
  content: "\e059";
}
.glyphicon-picture:before {
  content: "\e060";
}
.glyphicon-map-marker:before {
  content: "\e062";
}
.glyphicon-adjust:before {
  content: "\e063";
}
.glyphicon-tint:before {
  content: "\e064";
}
.glyphicon-edit:before {
  content: "\e065";
}
.glyphicon-share:before {
  content: "\e066";
}
.glyphicon-check:before {
  content: "\e067";
}
.glyphicon-move:before {
  content: "\e068";
}
.glyphicon-step-backward:before {
  content: "\e069";
}
.glyphicon-fast-backward:before {
  content: "\e070";
}
.glyphicon-backward:before {
  content: "\e071";
}
.glyphicon-play:before {
  content: "\e072";
}
.glyphicon-pause:before {
  content: "\e073";
}
.glyphicon-stop:before {
  content: "\e074";
}
.glyphicon-forward:before {
  content: "\e075";
}
.glyphicon-fast-forward:before {
  content: "\e076";
}
.glyphicon-step-forward:before {
  content: "\e077";
}
.glyphicon-eject:before {
  content: "\e078";
}
.glyphicon-chevron-left:before {
  content: "\e079";
}
.glyphicon-chevron-right:before {
  content: "\e080";
}
.glyphicon-plus-sign:before {
  content: "\e081";
}
.glyphicon-minus-sign:before {
  content: "\e082";
}
.glyphicon-remove-sign:before {
  content: "\e083";
}
.glyphicon-ok-sign:before {
  content: "\e084";
}
.glyphicon-question-sign:before {
  content: "\e085";
}
.glyphicon-info-sign:before {
  content: "\e086";
}
.glyphicon-screenshot:before {
  content: "\e087";
}
.glyphicon-remove-circle:before {
  content: "\e088";
}
.glyphicon-ok-circle:before {
  content: "\e089";
}
.glyphicon-ban-circle:before {
  content: "\e090";
}
.glyphicon-arrow-left:before {
  content: "\e091";
}
.glyphicon-arrow-right:before {
  content: "\e092";
}
.glyphicon-arrow-up:before {
  content: "\e093";
}
.glyphicon-arrow-down:before {
  content: "\e094";
}
.glyphicon-share-alt:before {
  content: "\e095";
}
.glyphicon-resize-full:before {
  content: "\e096";
}
.glyphicon-resize-small:before {
  content: "\e097";
}
.glyphicon-exclamation-sign:before {
  content: "\e101";
}
.glyphicon-gift:before {
  content: "\e102";
}
.glyphicon-leaf:before {
  content: "\e103";
}
.glyphicon-fire:before {
  content: "\e104";
}
.glyphicon-eye-open:before {
  content: "\e105";
}
.glyphicon-eye-close:before {
  content: "\e106";
}
.glyphicon-warning-sign:before {
  content: "\e107";
}
.glyphicon-plane:before {
  content: "\e108";
}
.glyphicon-calendar:before {
  content: "\e109";
}
.glyphicon-random:before {
  content: "\e110";
}
.glyphicon-comment:before {
  content: "\e111";
}
.glyphicon-magnet:before {
  content: "\e112";
}
.glyphicon-chevron-up:before {
  content: "\e113";
}
.glyphicon-chevron-down:before {
  content: "\e114";
}
.glyphicon-retweet:before {
  content: "\e115";
}
.glyphicon-shopping-cart:before {
  content: "\e116";
}
.glyphicon-folder-close:before {
  content: "\e117";
}
.glyphicon-folder-open:before {
  content: "\e118";
}
.glyphicon-resize-vertical:before {
  content: "\e119";
}
.glyphicon-resize-horizontal:before {
  content: "\e120";
}
.glyphicon-hdd:before {
  content: "\e121";
}
.glyphicon-bullhorn:before {
  content: "\e122";
}
.glyphicon-bell:before {
  content: "\e123";
}
.glyphicon-certificate:before {
  content: "\e124";
}
.glyphicon-thumbs-up:before {
  content: "\e125";
}
.glyphicon-thumbs-down:before {
  content: "\e126";
}
.glyphicon-hand-right:before {
  content: "\e127";
}
.glyphicon-hand-left:before {
  content: "\e128";
}
.glyphicon-hand-up:before {
  content: "\e129";
}
.glyphicon-hand-down:before {
  content: "\e130";
}
.glyphicon-circle-arrow-right:before {
  content: "\e131";
}
.glyphicon-circle-arrow-left:before {
  content: "\e132";
}
.glyphicon-circle-arrow-up:before {
  content: "\e133";
}
.glyphicon-circle-arrow-down:before {
  content: "\e134";
}
.glyphicon-globe:before {
  content: "\e135";
}
.glyphicon-wrench:before {
  content: "\e136";
}
.glyphicon-tasks:before {
  content: "\e137";
}
.glyphicon-filter:before {
  content: "\e138";
}
.glyphicon-briefcase:before {
  content: "\e139";
}
.glyphicon-fullscreen:before {
  content: "\e140";
}
.glyphicon-dashboard:before {
  content: "\e141";
}
.glyphicon-paperclip:before {
  content: "\e142";
}
.glyphicon-heart-empty:before {
  content: "\e143";
}
.glyphicon-link:before {
  content: "\e144";
}
.glyphicon-phone:before {
  content: "\e145";
}
.glyphicon-pushpin:before {
  content: "\e146";
}
.glyphicon-usd:before {
  content: "\e148";
}
.glyphicon-gbp:before {
  content: "\e149";
}
.glyphicon-sort:before {
  content: "\e150";
}
.glyphicon-sort-by-alphabet:before {
  content: "\e151";
}
.glyphicon-sort-by-alphabet-alt:before {
  content: "\e152";
}
.glyphicon-sort-by-order:before {
  content: "\e153";
}
.glyphicon-sort-by-order-alt:before {
  content: "\e154";
}
.glyphicon-sort-by-attributes:before {
  content: "\e155";
}
.glyphicon-sort-by-attributes-alt:before {
  content: "\e156";
}
.glyphicon-unchecked:before {
  content: "\e157";
}
.glyphicon-expand:before {
  content: "\e158";
}
.glyphicon-collapse-down:before {
  content: "\e159";
}
.glyphicon-collapse-up:before {
  content: "\e160";
}
.glyphicon-log-in:before {
  content: "\e161";
}
.glyphicon-flash:before {
  content: "\e162";
}
.glyphicon-log-out:before {
  content: "\e163";
}
.glyphicon-new-window:before {
  content: "\e164";
}
.glyphicon-record:before {
  content: "\e165";
}
.glyphicon-save:before {
  content: "\e166";
}
.glyphicon-open:before {
  content: "\e167";
}
.glyphicon-saved:before {
  content: "\e168";
}
.glyphicon-import:before {
  content: "\e169";
}
.glyphicon-export:before {
  content: "\e170";
}
.glyphicon-send:before {
  content: "\e171";
}
.glyphicon-floppy-disk:before {
  content: "\e172";
}
.glyphicon-floppy-saved:before {
  content: "\e173";
}
.glyphicon-floppy-remove:before {
  content: "\e174";
}
.glyphicon-floppy-save:before {
  content: "\e175";
}
.glyphicon-floppy-open:before {
  content: "\e176";
}
.glyphicon-credit-card:before {
  content: "\e177";
}
.glyphicon-transfer:before {
  content: "\e178";
}
.glyphicon-cutlery:before {
  content: "\e179";
}
.glyphicon-header:before {
  content: "\e180";
}
.glyphicon-compressed:before {
  content: "\e181";
}
.glyphicon-earphone:before {
  content: "\e182";
}
.glyphicon-phone-alt:before {
  content: "\e183";
}
.glyphicon-tower:before {
  content: "\e184";
}
.glyphicon-stats:before {
  content: "\e185";
}
.glyphicon-sd-video:before {
  content: "\e186";
}
.glyphicon-hd-video:before {
  content: "\e187";
}
.glyphicon-subtitles:before {
  content: "\e188";
}
.glyphicon-sound-stereo:before {
  content: "\e189";
}
.glyphicon-sound-dolby:before {
  content: "\e190";
}
.glyphicon-sound-5-1:before {
  content: "\e191";
}
.glyphicon-sound-6-1:before {
  content: "\e192";
}
.glyphicon-sound-7-1:before {
  content: "\e193";
}
.glyphicon-copyright-mark:before {
  content: "\e194";
}
.glyphicon-registration-mark:before {
  content: "\e195";
}
.glyphicon-cloud-download:before {
  content: "\e197";
}
.glyphicon-cloud-upload:before {
  content: "\e198";
}
.glyphicon-tree-conifer:before {
  content: "\e199";
}
.glyphicon-tree-deciduous:before {
  content: "\e200";
}
.glyphicon-cd:before {
  content: "\e201";
}
.glyphicon-save-file:before {
  content: "\e202";
}
.glyphicon-open-file:before {
  content: "\e203";
}
.glyphicon-level-up:before {
  content: "\e204";
}
.glyphicon-copy:before {
  content: "\e205";
}
.glyphicon-paste:before {
  content: "\e206";
}
.glyphicon-alert:before {
  content: "\e209";
}
.glyphicon-equalizer:before {
  content: "\e210";
}
.glyphicon-king:before {
  content: "\e211";
}
.glyphicon-queen:before {
  content: "\e212";
}
.glyphicon-pawn:before {
  content: "\e213";
}
.glyphicon-bishop:before {
  content: "\e214";
}
.glyphicon-knight:before {
  content: "\e215";
}
.glyphicon-baby-formula:before {
  content: "\e216";
}
.glyphicon-tent:before {
  content: "\26fa";
}
.glyphicon-blackboard:before {
  content: "\e218";
}
.glyphicon-bed:before {
  content: "\e219";
}
.glyphicon-apple:before {
  content: "\f8ff";
}
.glyphicon-erase:before {
  content: "\e221";
}
.glyphicon-hourglass:before {
  content: "\231b";
}
.glyphicon-lamp:before {
  content: "\e223";
}
.glyphicon-duplicate:before {
  content: "\e224";
}
.glyphicon-piggy-bank:before {
  content: "\e225";
}
.glyphicon-scissors:before {
  content: "\e226";
}
.glyphicon-bitcoin:before {
  content: "\e227";
}
.glyphicon-btc:before {
  content: "\e227";
}
.glyphicon-xbt:before {
  content: "\e227";
}
.glyphicon-yen:before {
  content: "\00a5";
}
.glyphicon-jpy:before {
  content: "\00a5";
}
.glyphicon-ruble:before {
  content: "\20bd";
}
.glyphicon-rub:before {
  content: "\20bd";
}
.glyphicon-scale:before {
  content: "\e230";
}
.glyphicon-ice-lolly:before {
  content: "\e231";
}
.glyphicon-ice-lolly-tasted:before {
  content: "\e232";
}
.glyphicon-education:before {
  content: "\e233";
}
.glyphicon-option-horizontal:before {
  content: "\e234";
}
.glyphicon-option-vertical:before {
  content: "\e235";
}
.glyphicon-menu-hamburger:before {
  content: "\e236";
}
.glyphicon-modal-window:before {
  content: "\e237";
}
.glyphicon-oil:before {
  content: "\e238";
}
.glyphicon-grain:before {
  content: "\e239";
}
.glyphicon-sunglasses:before {
  content: "\e240";
}
.glyphicon-text-size:before {
  content: "\e241";
}
.glyphicon-text-color:before {
  content: "\e242";
}
.glyphicon-text-background:before {
  content: "\e243";
}
.glyphicon-object-align-top:before {
  content: "\e244";
}
.glyphicon-object-align-bottom:before {
  content: "\e245";
}
.glyphicon-object-align-horizontal:before {
  content: "\e246";
}
.glyphicon-object-align-left:before {
  content: "\e247";
}
.glyphicon-object-align-vertical:before {
  content: "\e248";
}
.glyphicon-object-align-right:before {
  content: "\e249";
}
.glyphicon-triangle-right:before {
  content: "\e250";
}
.glyphicon-triangle-left:before {
  content: "\e251";
}
.glyphicon-triangle-bottom:before {
  content: "\e252";
}
.glyphicon-triangle-top:before {
  content: "\e253";
}
.glyphicon-console:before {
  content: "\e254";
}
.glyphicon-superscript:before {
  content: "\e255";
}
.glyphicon-subscript:before {
  content: "\e256";
}
.glyphicon-menu-left:before {
  content: "\e257";
}
.glyphicon-menu-right:before {
  content: "\e258";
}
.glyphicon-menu-down:before {
  content: "\e259";
}
.glyphicon-menu-up:before {
  content: "\e260";
}
* {
  -webkit-box-sizing: border-box;
  -moz-box-sizing: border-box;
  box-sizing: border-box;
}
*:before,
*:after {
  -webkit-box-sizing: border-box;
  -moz-box-sizing: border-box;
  box-sizing: border-box;
}
html {
  font-size: 10px;
  -webkit-tap-highlight-color: rgba(0, 0, 0, 0);
}
body {
  font-family: "Helvetica Neue", Helvetica, Arial, sans-serif;
  font-size: 13px;
  line-height: 1.42857143;
  color: #000;
  background-color: #fff;
}
input,
button,
select,
textarea {
  font-family: inherit;
  font-size: inherit;
  line-height: inherit;
}
a {
  color: #337ab7;
  text-decoration: none;
}
a:hover,
a:focus {
  color: #23527c;
  text-decoration: underline;
}
a:focus {
  outline: thin dotted;
  outline: 5px auto -webkit-focus-ring-color;
  outline-offset: -2px;
}
figure {
  margin: 0;
}
img {
  vertical-align: middle;
}
.img-responsive,
.thumbnail > img,
.thumbnail a > img,
.carousel-inner > .item > img,
.carousel-inner > .item > a > img {
  display: block;
  max-width: 100%;
  height: auto;
}
.img-rounded {
  border-radius: 3px;
}
.img-thumbnail {
  padding: 4px;
  line-height: 1.42857143;
  background-color: #fff;
  border: 1px solid #ddd;
  border-radius: 2px;
  -webkit-transition: all 0.2s ease-in-out;
  -o-transition: all 0.2s ease-in-out;
  transition: all 0.2s ease-in-out;
  display: inline-block;
  max-width: 100%;
  height: auto;
}
.img-circle {
  border-radius: 50%;
}
hr {
  margin-top: 18px;
  margin-bottom: 18px;
  border: 0;
  border-top: 1px solid #eeeeee;
}
.sr-only {
  position: absolute;
  width: 1px;
  height: 1px;
  margin: -1px;
  padding: 0;
  overflow: hidden;
  clip: rect(0, 0, 0, 0);
  border: 0;
}
.sr-only-focusable:active,
.sr-only-focusable:focus {
  position: static;
  width: auto;
  height: auto;
  margin: 0;
  overflow: visible;
  clip: auto;
}
[role="button"] {
  cursor: pointer;
}
h1,
h2,
h3,
h4,
h5,
h6,
.h1,
.h2,
.h3,
.h4,
.h5,
.h6 {
  font-family: inherit;
  font-weight: 500;
  line-height: 1.1;
  color: inherit;
}
h1 small,
h2 small,
h3 small,
h4 small,
h5 small,
h6 small,
.h1 small,
.h2 small,
.h3 small,
.h4 small,
.h5 small,
.h6 small,
h1 .small,
h2 .small,
h3 .small,
h4 .small,
h5 .small,
h6 .small,
.h1 .small,
.h2 .small,
.h3 .small,
.h4 .small,
.h5 .small,
.h6 .small {
  font-weight: normal;
  line-height: 1;
  color: #777777;
}
h1,
.h1,
h2,
.h2,
h3,
.h3 {
  margin-top: 18px;
  margin-bottom: 9px;
}
h1 small,
.h1 small,
h2 small,
.h2 small,
h3 small,
.h3 small,
h1 .small,
.h1 .small,
h2 .small,
.h2 .small,
h3 .small,
.h3 .small {
  font-size: 65%;
}
h4,
.h4,
h5,
.h5,
h6,
.h6 {
  margin-top: 9px;
  margin-bottom: 9px;
}
h4 small,
.h4 small,
h5 small,
.h5 small,
h6 small,
.h6 small,
h4 .small,
.h4 .small,
h5 .small,
.h5 .small,
h6 .small,
.h6 .small {
  font-size: 75%;
}
h1,
.h1 {
  font-size: 33px;
}
h2,
.h2 {
  font-size: 27px;
}
h3,
.h3 {
  font-size: 23px;
}
h4,
.h4 {
  font-size: 17px;
}
h5,
.h5 {
  font-size: 13px;
}
h6,
.h6 {
  font-size: 12px;
}
p {
  margin: 0 0 9px;
}
.lead {
  margin-bottom: 18px;
  font-size: 14px;
  font-weight: 300;
  line-height: 1.4;
}
@media (min-width: 768px) {
  .lead {
    font-size: 19.5px;
  }
}
small,
.small {
  font-size: 92%;
}
mark,
.mark {
  background-color: #fcf8e3;
  padding: .2em;
}
.text-left {
  text-align: left;
}
.text-right {
  text-align: right;
}
.text-center {
  text-align: center;
}
.text-justify {
  text-align: justify;
}
.text-nowrap {
  white-space: nowrap;
}
.text-lowercase {
  text-transform: lowercase;
}
.text-uppercase {
  text-transform: uppercase;
}
.text-capitalize {
  text-transform: capitalize;
}
.text-muted {
  color: #777777;
}
.text-primary {
  color: #337ab7;
}
a.text-primary:hover,
a.text-primary:focus {
  color: #286090;
}
.text-success {
  color: #3c763d;
}
a.text-success:hover,
a.text-success:focus {
  color: #2b542c;
}
.text-info {
  color: #31708f;
}
a.text-info:hover,
a.text-info:focus {
  color: #245269;
}
.text-warning {
  color: #8a6d3b;
}
a.text-warning:hover,
a.text-warning:focus {
  color: #66512c;
}
.text-danger {
  color: #a94442;
}
a.text-danger:hover,
a.text-danger:focus {
  color: #843534;
}
.bg-primary {
  color: #fff;
  background-color: #337ab7;
}
a.bg-primary:hover,
a.bg-primary:focus {
  background-color: #286090;
}
.bg-success {
  background-color: #dff0d8;
}
a.bg-success:hover,
a.bg-success:focus {
  background-color: #c1e2b3;
}
.bg-info {
  background-color: #d9edf7;
}
a.bg-info:hover,
a.bg-info:focus {
  background-color: #afd9ee;
}
.bg-warning {
  background-color: #fcf8e3;
}
a.bg-warning:hover,
a.bg-warning:focus {
  background-color: #f7ecb5;
}
.bg-danger {
  background-color: #f2dede;
}
a.bg-danger:hover,
a.bg-danger:focus {
  background-color: #e4b9b9;
}
.page-header {
  padding-bottom: 8px;
  margin: 36px 0 18px;
  border-bottom: 1px solid #eeeeee;
}
ul,
ol {
  margin-top: 0;
  margin-bottom: 9px;
}
ul ul,
ol ul,
ul ol,
ol ol {
  margin-bottom: 0;
}
.list-unstyled {
  padding-left: 0;
  list-style: none;
}
.list-inline {
  padding-left: 0;
  list-style: none;
  margin-left: -5px;
}
.list-inline > li {
  display: inline-block;
  padding-left: 5px;
  padding-right: 5px;
}
dl {
  margin-top: 0;
  margin-bottom: 18px;
}
dt,
dd {
  line-height: 1.42857143;
}
dt {
  font-weight: bold;
}
dd {
  margin-left: 0;
}
@media (min-width: 541px) {
  .dl-horizontal dt {
    float: left;
    width: 160px;
    clear: left;
    text-align: right;
    overflow: hidden;
    text-overflow: ellipsis;
    white-space: nowrap;
  }
  .dl-horizontal dd {
    margin-left: 180px;
  }
}
abbr[title],
abbr[data-original-title] {
  cursor: help;
  border-bottom: 1px dotted #777777;
}
.initialism {
  font-size: 90%;
  text-transform: uppercase;
}
blockquote {
  padding: 9px 18px;
  margin: 0 0 18px;
  font-size: inherit;
  border-left: 5px solid #eeeeee;
}
blockquote p:last-child,
blockquote ul:last-child,
blockquote ol:last-child {
  margin-bottom: 0;
}
blockquote footer,
blockquote small,
blockquote .small {
  display: block;
  font-size: 80%;
  line-height: 1.42857143;
  color: #777777;
}
blockquote footer:before,
blockquote small:before,
blockquote .small:before {
  content: '\2014 \00A0';
}
.blockquote-reverse,
blockquote.pull-right {
  padding-right: 15px;
  padding-left: 0;
  border-right: 5px solid #eeeeee;
  border-left: 0;
  text-align: right;
}
.blockquote-reverse footer:before,
blockquote.pull-right footer:before,
.blockquote-reverse small:before,
blockquote.pull-right small:before,
.blockquote-reverse .small:before,
blockquote.pull-right .small:before {
  content: '';
}
.blockquote-reverse footer:after,
blockquote.pull-right footer:after,
.blockquote-reverse small:after,
blockquote.pull-right small:after,
.blockquote-reverse .small:after,
blockquote.pull-right .small:after {
  content: '\00A0 \2014';
}
address {
  margin-bottom: 18px;
  font-style: normal;
  line-height: 1.42857143;
}
code,
kbd,
pre,
samp {
  font-family: monospace;
}
code {
  padding: 2px 4px;
  font-size: 90%;
  color: #c7254e;
  background-color: #f9f2f4;
  border-radius: 2px;
}
kbd {
  padding: 2px 4px;
  font-size: 90%;
  color: #888;
  background-color: transparent;
  border-radius: 1px;
  box-shadow: inset 0 -1px 0 rgba(0, 0, 0, 0.25);
}
kbd kbd {
  padding: 0;
  font-size: 100%;
  font-weight: bold;
  box-shadow: none;
}
pre {
  display: block;
  padding: 8.5px;
  margin: 0 0 9px;
  font-size: 12px;
  line-height: 1.42857143;
  word-break: break-all;
  word-wrap: break-word;
  color: #333333;
  background-color: #f5f5f5;
  border: 1px solid #ccc;
  border-radius: 2px;
}
pre code {
  padding: 0;
  font-size: inherit;
  color: inherit;
  white-space: pre-wrap;
  background-color: transparent;
  border-radius: 0;
}
.pre-scrollable {
  max-height: 340px;
  overflow-y: scroll;
}
.container {
  margin-right: auto;
  margin-left: auto;
  padding-left: 0px;
  padding-right: 0px;
}
@media (min-width: 768px) {
  .container {
    width: 768px;
  }
}
@media (min-width: 992px) {
  .container {
    width: 940px;
  }
}
@media (min-width: 1200px) {
  .container {
    width: 1140px;
  }
}
.container-fluid {
  margin-right: auto;
  margin-left: auto;
  padding-left: 0px;
  padding-right: 0px;
}
.row {
  margin-left: 0px;
  margin-right: 0px;
}
.col-xs-1, .col-sm-1, .col-md-1, .col-lg-1, .col-xs-2, .col-sm-2, .col-md-2, .col-lg-2, .col-xs-3, .col-sm-3, .col-md-3, .col-lg-3, .col-xs-4, .col-sm-4, .col-md-4, .col-lg-4, .col-xs-5, .col-sm-5, .col-md-5, .col-lg-5, .col-xs-6, .col-sm-6, .col-md-6, .col-lg-6, .col-xs-7, .col-sm-7, .col-md-7, .col-lg-7, .col-xs-8, .col-sm-8, .col-md-8, .col-lg-8, .col-xs-9, .col-sm-9, .col-md-9, .col-lg-9, .col-xs-10, .col-sm-10, .col-md-10, .col-lg-10, .col-xs-11, .col-sm-11, .col-md-11, .col-lg-11, .col-xs-12, .col-sm-12, .col-md-12, .col-lg-12 {
  position: relative;
  min-height: 1px;
  padding-left: 0px;
  padding-right: 0px;
}
.col-xs-1, .col-xs-2, .col-xs-3, .col-xs-4, .col-xs-5, .col-xs-6, .col-xs-7, .col-xs-8, .col-xs-9, .col-xs-10, .col-xs-11, .col-xs-12 {
  float: left;
}
.col-xs-12 {
  width: 100%;
}
.col-xs-11 {
  width: 91.66666667%;
}
.col-xs-10 {
  width: 83.33333333%;
}
.col-xs-9 {
  width: 75%;
}
.col-xs-8 {
  width: 66.66666667%;
}
.col-xs-7 {
  width: 58.33333333%;
}
.col-xs-6 {
  width: 50%;
}
.col-xs-5 {
  width: 41.66666667%;
}
.col-xs-4 {
  width: 33.33333333%;
}
.col-xs-3 {
  width: 25%;
}
.col-xs-2 {
  width: 16.66666667%;
}
.col-xs-1 {
  width: 8.33333333%;
}
.col-xs-pull-12 {
  right: 100%;
}
.col-xs-pull-11 {
  right: 91.66666667%;
}
.col-xs-pull-10 {
  right: 83.33333333%;
}
.col-xs-pull-9 {
  right: 75%;
}
.col-xs-pull-8 {
  right: 66.66666667%;
}
.col-xs-pull-7 {
  right: 58.33333333%;
}
.col-xs-pull-6 {
  right: 50%;
}
.col-xs-pull-5 {
  right: 41.66666667%;
}
.col-xs-pull-4 {
  right: 33.33333333%;
}
.col-xs-pull-3 {
  right: 25%;
}
.col-xs-pull-2 {
  right: 16.66666667%;
}
.col-xs-pull-1 {
  right: 8.33333333%;
}
.col-xs-pull-0 {
  right: auto;
}
.col-xs-push-12 {
  left: 100%;
}
.col-xs-push-11 {
  left: 91.66666667%;
}
.col-xs-push-10 {
  left: 83.33333333%;
}
.col-xs-push-9 {
  left: 75%;
}
.col-xs-push-8 {
  left: 66.66666667%;
}
.col-xs-push-7 {
  left: 58.33333333%;
}
.col-xs-push-6 {
  left: 50%;
}
.col-xs-push-5 {
  left: 41.66666667%;
}
.col-xs-push-4 {
  left: 33.33333333%;
}
.col-xs-push-3 {
  left: 25%;
}
.col-xs-push-2 {
  left: 16.66666667%;
}
.col-xs-push-1 {
  left: 8.33333333%;
}
.col-xs-push-0 {
  left: auto;
}
.col-xs-offset-12 {
  margin-left: 100%;
}
.col-xs-offset-11 {
  margin-left: 91.66666667%;
}
.col-xs-offset-10 {
  margin-left: 83.33333333%;
}
.col-xs-offset-9 {
  margin-left: 75%;
}
.col-xs-offset-8 {
  margin-left: 66.66666667%;
}
.col-xs-offset-7 {
  margin-left: 58.33333333%;
}
.col-xs-offset-6 {
  margin-left: 50%;
}
.col-xs-offset-5 {
  margin-left: 41.66666667%;
}
.col-xs-offset-4 {
  margin-left: 33.33333333%;
}
.col-xs-offset-3 {
  margin-left: 25%;
}
.col-xs-offset-2 {
  margin-left: 16.66666667%;
}
.col-xs-offset-1 {
  margin-left: 8.33333333%;
}
.col-xs-offset-0 {
  margin-left: 0%;
}
@media (min-width: 768px) {
  .col-sm-1, .col-sm-2, .col-sm-3, .col-sm-4, .col-sm-5, .col-sm-6, .col-sm-7, .col-sm-8, .col-sm-9, .col-sm-10, .col-sm-11, .col-sm-12 {
    float: left;
  }
  .col-sm-12 {
    width: 100%;
  }
  .col-sm-11 {
    width: 91.66666667%;
  }
  .col-sm-10 {
    width: 83.33333333%;
  }
  .col-sm-9 {
    width: 75%;
  }
  .col-sm-8 {
    width: 66.66666667%;
  }
  .col-sm-7 {
    width: 58.33333333%;
  }
  .col-sm-6 {
    width: 50%;
  }
  .col-sm-5 {
    width: 41.66666667%;
  }
  .col-sm-4 {
    width: 33.33333333%;
  }
  .col-sm-3 {
    width: 25%;
  }
  .col-sm-2 {
    width: 16.66666667%;
  }
  .col-sm-1 {
    width: 8.33333333%;
  }
  .col-sm-pull-12 {
    right: 100%;
  }
  .col-sm-pull-11 {
    right: 91.66666667%;
  }
  .col-sm-pull-10 {
    right: 83.33333333%;
  }
  .col-sm-pull-9 {
    right: 75%;
  }
  .col-sm-pull-8 {
    right: 66.66666667%;
  }
  .col-sm-pull-7 {
    right: 58.33333333%;
  }
  .col-sm-pull-6 {
    right: 50%;
  }
  .col-sm-pull-5 {
    right: 41.66666667%;
  }
  .col-sm-pull-4 {
    right: 33.33333333%;
  }
  .col-sm-pull-3 {
    right: 25%;
  }
  .col-sm-pull-2 {
    right: 16.66666667%;
  }
  .col-sm-pull-1 {
    right: 8.33333333%;
  }
  .col-sm-pull-0 {
    right: auto;
  }
  .col-sm-push-12 {
    left: 100%;
  }
  .col-sm-push-11 {
    left: 91.66666667%;
  }
  .col-sm-push-10 {
    left: 83.33333333%;
  }
  .col-sm-push-9 {
    left: 75%;
  }
  .col-sm-push-8 {
    left: 66.66666667%;
  }
  .col-sm-push-7 {
    left: 58.33333333%;
  }
  .col-sm-push-6 {
    left: 50%;
  }
  .col-sm-push-5 {
    left: 41.66666667%;
  }
  .col-sm-push-4 {
    left: 33.33333333%;
  }
  .col-sm-push-3 {
    left: 25%;
  }
  .col-sm-push-2 {
    left: 16.66666667%;
  }
  .col-sm-push-1 {
    left: 8.33333333%;
  }
  .col-sm-push-0 {
    left: auto;
  }
  .col-sm-offset-12 {
    margin-left: 100%;
  }
  .col-sm-offset-11 {
    margin-left: 91.66666667%;
  }
  .col-sm-offset-10 {
    margin-left: 83.33333333%;
  }
  .col-sm-offset-9 {
    margin-left: 75%;
  }
  .col-sm-offset-8 {
    margin-left: 66.66666667%;
  }
  .col-sm-offset-7 {
    margin-left: 58.33333333%;
  }
  .col-sm-offset-6 {
    margin-left: 50%;
  }
  .col-sm-offset-5 {
    margin-left: 41.66666667%;
  }
  .col-sm-offset-4 {
    margin-left: 33.33333333%;
  }
  .col-sm-offset-3 {
    margin-left: 25%;
  }
  .col-sm-offset-2 {
    margin-left: 16.66666667%;
  }
  .col-sm-offset-1 {
    margin-left: 8.33333333%;
  }
  .col-sm-offset-0 {
    margin-left: 0%;
  }
}
@media (min-width: 992px) {
  .col-md-1, .col-md-2, .col-md-3, .col-md-4, .col-md-5, .col-md-6, .col-md-7, .col-md-8, .col-md-9, .col-md-10, .col-md-11, .col-md-12 {
    float: left;
  }
  .col-md-12 {
    width: 100%;
  }
  .col-md-11 {
    width: 91.66666667%;
  }
  .col-md-10 {
    width: 83.33333333%;
  }
  .col-md-9 {
    width: 75%;
  }
  .col-md-8 {
    width: 66.66666667%;
  }
  .col-md-7 {
    width: 58.33333333%;
  }
  .col-md-6 {
    width: 50%;
  }
  .col-md-5 {
    width: 41.66666667%;
  }
  .col-md-4 {
    width: 33.33333333%;
  }
  .col-md-3 {
    width: 25%;
  }
  .col-md-2 {
    width: 16.66666667%;
  }
  .col-md-1 {
    width: 8.33333333%;
  }
  .col-md-pull-12 {
    right: 100%;
  }
  .col-md-pull-11 {
    right: 91.66666667%;
  }
  .col-md-pull-10 {
    right: 83.33333333%;
  }
  .col-md-pull-9 {
    right: 75%;
  }
  .col-md-pull-8 {
    right: 66.66666667%;
  }
  .col-md-pull-7 {
    right: 58.33333333%;
  }
  .col-md-pull-6 {
    right: 50%;
  }
  .col-md-pull-5 {
    right: 41.66666667%;
  }
  .col-md-pull-4 {
    right: 33.33333333%;
  }
  .col-md-pull-3 {
    right: 25%;
  }
  .col-md-pull-2 {
    right: 16.66666667%;
  }
  .col-md-pull-1 {
    right: 8.33333333%;
  }
  .col-md-pull-0 {
    right: auto;
  }
  .col-md-push-12 {
    left: 100%;
  }
  .col-md-push-11 {
    left: 91.66666667%;
  }
  .col-md-push-10 {
    left: 83.33333333%;
  }
  .col-md-push-9 {
    left: 75%;
  }
  .col-md-push-8 {
    left: 66.66666667%;
  }
  .col-md-push-7 {
    left: 58.33333333%;
  }
  .col-md-push-6 {
    left: 50%;
  }
  .col-md-push-5 {
    left: 41.66666667%;
  }
  .col-md-push-4 {
    left: 33.33333333%;
  }
  .col-md-push-3 {
    left: 25%;
  }
  .col-md-push-2 {
    left: 16.66666667%;
  }
  .col-md-push-1 {
    left: 8.33333333%;
  }
  .col-md-push-0 {
    left: auto;
  }
  .col-md-offset-12 {
    margin-left: 100%;
  }
  .col-md-offset-11 {
    margin-left: 91.66666667%;
  }
  .col-md-offset-10 {
    margin-left: 83.33333333%;
  }
  .col-md-offset-9 {
    margin-left: 75%;
  }
  .col-md-offset-8 {
    margin-left: 66.66666667%;
  }
  .col-md-offset-7 {
    margin-left: 58.33333333%;
  }
  .col-md-offset-6 {
    margin-left: 50%;
  }
  .col-md-offset-5 {
    margin-left: 41.66666667%;
  }
  .col-md-offset-4 {
    margin-left: 33.33333333%;
  }
  .col-md-offset-3 {
    margin-left: 25%;
  }
  .col-md-offset-2 {
    margin-left: 16.66666667%;
  }
  .col-md-offset-1 {
    margin-left: 8.33333333%;
  }
  .col-md-offset-0 {
    margin-left: 0%;
  }
}
@media (min-width: 1200px) {
  .col-lg-1, .col-lg-2, .col-lg-3, .col-lg-4, .col-lg-5, .col-lg-6, .col-lg-7, .col-lg-8, .col-lg-9, .col-lg-10, .col-lg-11, .col-lg-12 {
    float: left;
  }
  .col-lg-12 {
    width: 100%;
  }
  .col-lg-11 {
    width: 91.66666667%;
  }
  .col-lg-10 {
    width: 83.33333333%;
  }
  .col-lg-9 {
    width: 75%;
  }
  .col-lg-8 {
    width: 66.66666667%;
  }
  .col-lg-7 {
    width: 58.33333333%;
  }
  .col-lg-6 {
    width: 50%;
  }
  .col-lg-5 {
    width: 41.66666667%;
  }
  .col-lg-4 {
    width: 33.33333333%;
  }
  .col-lg-3 {
    width: 25%;
  }
  .col-lg-2 {
    width: 16.66666667%;
  }
  .col-lg-1 {
    width: 8.33333333%;
  }
  .col-lg-pull-12 {
    right: 100%;
  }
  .col-lg-pull-11 {
    right: 91.66666667%;
  }
  .col-lg-pull-10 {
    right: 83.33333333%;
  }
  .col-lg-pull-9 {
    right: 75%;
  }
  .col-lg-pull-8 {
    right: 66.66666667%;
  }
  .col-lg-pull-7 {
    right: 58.33333333%;
  }
  .col-lg-pull-6 {
    right: 50%;
  }
  .col-lg-pull-5 {
    right: 41.66666667%;
  }
  .col-lg-pull-4 {
    right: 33.33333333%;
  }
  .col-lg-pull-3 {
    right: 25%;
  }
  .col-lg-pull-2 {
    right: 16.66666667%;
  }
  .col-lg-pull-1 {
    right: 8.33333333%;
  }
  .col-lg-pull-0 {
    right: auto;
  }
  .col-lg-push-12 {
    left: 100%;
  }
  .col-lg-push-11 {
    left: 91.66666667%;
  }
  .col-lg-push-10 {
    left: 83.33333333%;
  }
  .col-lg-push-9 {
    left: 75%;
  }
  .col-lg-push-8 {
    left: 66.66666667%;
  }
  .col-lg-push-7 {
    left: 58.33333333%;
  }
  .col-lg-push-6 {
    left: 50%;
  }
  .col-lg-push-5 {
    left: 41.66666667%;
  }
  .col-lg-push-4 {
    left: 33.33333333%;
  }
  .col-lg-push-3 {
    left: 25%;
  }
  .col-lg-push-2 {
    left: 16.66666667%;
  }
  .col-lg-push-1 {
    left: 8.33333333%;
  }
  .col-lg-push-0 {
    left: auto;
  }
  .col-lg-offset-12 {
    margin-left: 100%;
  }
  .col-lg-offset-11 {
    margin-left: 91.66666667%;
  }
  .col-lg-offset-10 {
    margin-left: 83.33333333%;
  }
  .col-lg-offset-9 {
    margin-left: 75%;
  }
  .col-lg-offset-8 {
    margin-left: 66.66666667%;
  }
  .col-lg-offset-7 {
    margin-left: 58.33333333%;
  }
  .col-lg-offset-6 {
    margin-left: 50%;
  }
  .col-lg-offset-5 {
    margin-left: 41.66666667%;
  }
  .col-lg-offset-4 {
    margin-left: 33.33333333%;
  }
  .col-lg-offset-3 {
    margin-left: 25%;
  }
  .col-lg-offset-2 {
    margin-left: 16.66666667%;
  }
  .col-lg-offset-1 {
    margin-left: 8.33333333%;
  }
  .col-lg-offset-0 {
    margin-left: 0%;
  }
}
table {
  background-color: transparent;
}
caption {
  padding-top: 8px;
  padding-bottom: 8px;
  color: #777777;
  text-align: left;
}
th {
  text-align: left;
}
.table {
  width: 100%;
  max-width: 100%;
  margin-bottom: 18px;
}
.table > thead > tr > th,
.table > tbody > tr > th,
.table > tfoot > tr > th,
.table > thead > tr > td,
.table > tbody > tr > td,
.table > tfoot > tr > td {
  padding: 8px;
  line-height: 1.42857143;
  vertical-align: top;
  border-top: 1px solid #ddd;
}
.table > thead > tr > th {
  vertical-align: bottom;
  border-bottom: 2px solid #ddd;
}
.table > caption + thead > tr:first-child > th,
.table > colgroup + thead > tr:first-child > th,
.table > thead:first-child > tr:first-child > th,
.table > caption + thead > tr:first-child > td,
.table > colgroup + thead > tr:first-child > td,
.table > thead:first-child > tr:first-child > td {
  border-top: 0;
}
.table > tbody + tbody {
  border-top: 2px solid #ddd;
}
.table .table {
  background-color: #fff;
}
.table-condensed > thead > tr > th,
.table-condensed > tbody > tr > th,
.table-condensed > tfoot > tr > th,
.table-condensed > thead > tr > td,
.table-condensed > tbody > tr > td,
.table-condensed > tfoot > tr > td {
  padding: 5px;
}
.table-bordered {
  border: 1px solid #ddd;
}
.table-bordered > thead > tr > th,
.table-bordered > tbody > tr > th,
.table-bordered > tfoot > tr > th,
.table-bordered > thead > tr > td,
.table-bordered > tbody > tr > td,
.table-bordered > tfoot > tr > td {
  border: 1px solid #ddd;
}
.table-bordered > thead > tr > th,
.table-bordered > thead > tr > td {
  border-bottom-width: 2px;
}
.table-striped > tbody > tr:nth-of-type(odd) {
  background-color: #f9f9f9;
}
.table-hover > tbody > tr:hover {
  background-color: #f5f5f5;
}
table col[class*="col-"] {
  position: static;
  float: none;
  display: table-column;
}
table td[class*="col-"],
table th[class*="col-"] {
  position: static;
  float: none;
  display: table-cell;
}
.table > thead > tr > td.active,
.table > tbody > tr > td.active,
.table > tfoot > tr > td.active,
.table > thead > tr > th.active,
.table > tbody > tr > th.active,
.table > tfoot > tr > th.active,
.table > thead > tr.active > td,
.table > tbody > tr.active > td,
.table > tfoot > tr.active > td,
.table > thead > tr.active > th,
.table > tbody > tr.active > th,
.table > tfoot > tr.active > th {
  background-color: #f5f5f5;
}
.table-hover > tbody > tr > td.active:hover,
.table-hover > tbody > tr > th.active:hover,
.table-hover > tbody > tr.active:hover > td,
.table-hover > tbody > tr:hover > .active,
.table-hover > tbody > tr.active:hover > th {
  background-color: #e8e8e8;
}
.table > thead > tr > td.success,
.table > tbody > tr > td.success,
.table > tfoot > tr > td.success,
.table > thead > tr > th.success,
.table > tbody > tr > th.success,
.table > tfoot > tr > th.success,
.table > thead > tr.success > td,
.table > tbody > tr.success > td,
.table > tfoot > tr.success > td,
.table > thead > tr.success > th,
.table > tbody > tr.success > th,
.table > tfoot > tr.success > th {
  background-color: #dff0d8;
}
.table-hover > tbody > tr > td.success:hover,
.table-hover > tbody > tr > th.success:hover,
.table-hover > tbody > tr.success:hover > td,
.table-hover > tbody > tr:hover > .success,
.table-hover > tbody > tr.success:hover > th {
  background-color: #d0e9c6;
}
.table > thead > tr > td.info,
.table > tbody > tr > td.info,
.table > tfoot > tr > td.info,
.table > thead > tr > th.info,
.table > tbody > tr > th.info,
.table > tfoot > tr > th.info,
.table > thead > tr.info > td,
.table > tbody > tr.info > td,
.table > tfoot > tr.info > td,
.table > thead > tr.info > th,
.table > tbody > tr.info > th,
.table > tfoot > tr.info > th {
  background-color: #d9edf7;
}
.table-hover > tbody > tr > td.info:hover,
.table-hover > tbody > tr > th.info:hover,
.table-hover > tbody > tr.info:hover > td,
.table-hover > tbody > tr:hover > .info,
.table-hover > tbody > tr.info:hover > th {
  background-color: #c4e3f3;
}
.table > thead > tr > td.warning,
.table > tbody > tr > td.warning,
.table > tfoot > tr > td.warning,
.table > thead > tr > th.warning,
.table > tbody > tr > th.warning,
.table > tfoot > tr > th.warning,
.table > thead > tr.warning > td,
.table > tbody > tr.warning > td,
.table > tfoot > tr.warning > td,
.table > thead > tr.warning > th,
.table > tbody > tr.warning > th,
.table > tfoot > tr.warning > th {
  background-color: #fcf8e3;
}
.table-hover > tbody > tr > td.warning:hover,
.table-hover > tbody > tr > th.warning:hover,
.table-hover > tbody > tr.warning:hover > td,
.table-hover > tbody > tr:hover > .warning,
.table-hover > tbody > tr.warning:hover > th {
  background-color: #faf2cc;
}
.table > thead > tr > td.danger,
.table > tbody > tr > td.danger,
.table > tfoot > tr > td.danger,
.table > thead > tr > th.danger,
.table > tbody > tr > th.danger,
.table > tfoot > tr > th.danger,
.table > thead > tr.danger > td,
.table > tbody > tr.danger > td,
.table > tfoot > tr.danger > td,
.table > thead > tr.danger > th,
.table > tbody > tr.danger > th,
.table > tfoot > tr.danger > th {
  background-color: #f2dede;
}
.table-hover > tbody > tr > td.danger:hover,
.table-hover > tbody > tr > th.danger:hover,
.table-hover > tbody > tr.danger:hover > td,
.table-hover > tbody > tr:hover > .danger,
.table-hover > tbody > tr.danger:hover > th {
  background-color: #ebcccc;
}
.table-responsive {
  overflow-x: auto;
  min-height: 0.01%;
}
@media screen and (max-width: 767px) {
  .table-responsive {
    width: 100%;
    margin-bottom: 13.5px;
    overflow-y: hidden;
    -ms-overflow-style: -ms-autohiding-scrollbar;
    border: 1px solid #ddd;
  }
  .table-responsive > .table {
    margin-bottom: 0;
  }
  .table-responsive > .table > thead > tr > th,
  .table-responsive > .table > tbody > tr > th,
  .table-responsive > .table > tfoot > tr > th,
  .table-responsive > .table > thead > tr > td,
  .table-responsive > .table > tbody > tr > td,
  .table-responsive > .table > tfoot > tr > td {
    white-space: nowrap;
  }
  .table-responsive > .table-bordered {
    border: 0;
  }
  .table-responsive > .table-bordered > thead > tr > th:first-child,
  .table-responsive > .table-bordered > tbody > tr > th:first-child,
  .table-responsive > .table-bordered > tfoot > tr > th:first-child,
  .table-responsive > .table-bordered > thead > tr > td:first-child,
  .table-responsive > .table-bordered > tbody > tr > td:first-child,
  .table-responsive > .table-bordered > tfoot > tr > td:first-child {
    border-left: 0;
  }
  .table-responsive > .table-bordered > thead > tr > th:last-child,
  .table-responsive > .table-bordered > tbody > tr > th:last-child,
  .table-responsive > .table-bordered > tfoot > tr > th:last-child,
  .table-responsive > .table-bordered > thead > tr > td:last-child,
  .table-responsive > .table-bordered > tbody > tr > td:last-child,
  .table-responsive > .table-bordered > tfoot > tr > td:last-child {
    border-right: 0;
  }
  .table-responsive > .table-bordered > tbody > tr:last-child > th,
  .table-responsive > .table-bordered > tfoot > tr:last-child > th,
  .table-responsive > .table-bordered > tbody > tr:last-child > td,
  .table-responsive > .table-bordered > tfoot > tr:last-child > td {
    border-bottom: 0;
  }
}
fieldset {
  padding: 0;
  margin: 0;
  border: 0;
  min-width: 0;
}
legend {
  display: block;
  width: 100%;
  padding: 0;
  margin-bottom: 18px;
  font-size: 19.5px;
  line-height: inherit;
  color: #333333;
  border: 0;
  border-bottom: 1px solid #e5e5e5;
}
label {
  display: inline-block;
  max-width: 100%;
  margin-bottom: 5px;
  font-weight: bold;
}
input[type="search"] {
  -webkit-box-sizing: border-box;
  -moz-box-sizing: border-box;
  box-sizing: border-box;
}
input[type="radio"],
input[type="checkbox"] {
  margin: 4px 0 0;
  margin-top: 1px \9;
  line-height: normal;
}
input[type="file"] {
  display: block;
}
input[type="range"] {
  display: block;
  width: 100%;
}
select[multiple],
select[size] {
  height: auto;
}
input[type="file"]:focus,
input[type="radio"]:focus,
input[type="checkbox"]:focus {
  outline: thin dotted;
  outline: 5px auto -webkit-focus-ring-color;
  outline-offset: -2px;
}
output {
  display: block;
  padding-top: 7px;
  font-size: 13px;
  line-height: 1.42857143;
  color: #555555;
}
.form-control {
  display: block;
  width: 100%;
  height: 32px;
  padding: 6px 12px;
  font-size: 13px;
  line-height: 1.42857143;
  color: #555555;
  background-color: #fff;
  background-image: none;
  border: 1px solid #ccc;
  border-radius: 2px;
  -webkit-box-shadow: inset 0 1px 1px rgba(0, 0, 0, 0.075);
  box-shadow: inset 0 1px 1px rgba(0, 0, 0, 0.075);
  -webkit-transition: border-color ease-in-out .15s, box-shadow ease-in-out .15s;
  -o-transition: border-color ease-in-out .15s, box-shadow ease-in-out .15s;
  transition: border-color ease-in-out .15s, box-shadow ease-in-out .15s;
}
.form-control:focus {
  border-color: #66afe9;
  outline: 0;
  -webkit-box-shadow: inset 0 1px 1px rgba(0,0,0,.075), 0 0 8px rgba(102, 175, 233, 0.6);
  box-shadow: inset 0 1px 1px rgba(0,0,0,.075), 0 0 8px rgba(102, 175, 233, 0.6);
}
.form-control::-moz-placeholder {
  color: #999;
  opacity: 1;
}
.form-control:-ms-input-placeholder {
  color: #999;
}
.form-control::-webkit-input-placeholder {
  color: #999;
}
.form-control::-ms-expand {
  border: 0;
  background-color: transparent;
}
.form-control[disabled],
.form-control[readonly],
fieldset[disabled] .form-control {
  background-color: #eeeeee;
  opacity: 1;
}
.form-control[disabled],
fieldset[disabled] .form-control {
  cursor: not-allowed;
}
textarea.form-control {
  height: auto;
}
input[type="search"] {
  -webkit-appearance: none;
}
@media screen and (-webkit-min-device-pixel-ratio: 0) {
  input[type="date"].form-control,
  input[type="time"].form-control,
  input[type="datetime-local"].form-control,
  input[type="month"].form-control {
    line-height: 32px;
  }
  input[type="date"].input-sm,
  input[type="time"].input-sm,
  input[type="datetime-local"].input-sm,
  input[type="month"].input-sm,
  .input-group-sm input[type="date"],
  .input-group-sm input[type="time"],
  .input-group-sm input[type="datetime-local"],
  .input-group-sm input[type="month"] {
    line-height: 30px;
  }
  input[type="date"].input-lg,
  input[type="time"].input-lg,
  input[type="datetime-local"].input-lg,
  input[type="month"].input-lg,
  .input-group-lg input[type="date"],
  .input-group-lg input[type="time"],
  .input-group-lg input[type="datetime-local"],
  .input-group-lg input[type="month"] {
    line-height: 45px;
  }
}
.form-group {
  margin-bottom: 15px;
}
.radio,
.checkbox {
  position: relative;
  display: block;
  margin-top: 10px;
  margin-bottom: 10px;
}
.radio label,
.checkbox label {
  min-height: 18px;
  padding-left: 20px;
  margin-bottom: 0;
  font-weight: normal;
  cursor: pointer;
}
.radio input[type="radio"],
.radio-inline input[type="radio"],
.checkbox input[type="checkbox"],
.checkbox-inline input[type="checkbox"] {
  position: absolute;
  margin-left: -20px;
  margin-top: 4px \9;
}
.radio + .radio,
.checkbox + .checkbox {
  margin-top: -5px;
}
.radio-inline,
.checkbox-inline {
  position: relative;
  display: inline-block;
  padding-left: 20px;
  margin-bottom: 0;
  vertical-align: middle;
  font-weight: normal;
  cursor: pointer;
}
.radio-inline + .radio-inline,
.checkbox-inline + .checkbox-inline {
  margin-top: 0;
  margin-left: 10px;
}
input[type="radio"][disabled],
input[type="checkbox"][disabled],
input[type="radio"].disabled,
input[type="checkbox"].disabled,
fieldset[disabled] input[type="radio"],
fieldset[disabled] input[type="checkbox"] {
  cursor: not-allowed;
}
.radio-inline.disabled,
.checkbox-inline.disabled,
fieldset[disabled] .radio-inline,
fieldset[disabled] .checkbox-inline {
  cursor: not-allowed;
}
.radio.disabled label,
.checkbox.disabled label,
fieldset[disabled] .radio label,
fieldset[disabled] .checkbox label {
  cursor: not-allowed;
}
.form-control-static {
  padding-top: 7px;
  padding-bottom: 7px;
  margin-bottom: 0;
  min-height: 31px;
}
.form-control-static.input-lg,
.form-control-static.input-sm {
  padding-left: 0;
  padding-right: 0;
}
.input-sm {
  height: 30px;
  padding: 5px 10px;
  font-size: 12px;
  line-height: 1.5;
  border-radius: 1px;
}
select.input-sm {
  height: 30px;
  line-height: 30px;
}
textarea.input-sm,
select[multiple].input-sm {
  height: auto;
}
.form-group-sm .form-control {
  height: 30px;
  padding: 5px 10px;
  font-size: 12px;
  line-height: 1.5;
  border-radius: 1px;
}
.form-group-sm select.form-control {
  height: 30px;
  line-height: 30px;
}
.form-group-sm textarea.form-control,
.form-group-sm select[multiple].form-control {
  height: auto;
}
.form-group-sm .form-control-static {
  height: 30px;
  min-height: 30px;
  padding: 6px 10px;
  font-size: 12px;
  line-height: 1.5;
}
.input-lg {
  height: 45px;
  padding: 10px 16px;
  font-size: 17px;
  line-height: 1.3333333;
  border-radius: 3px;
}
select.input-lg {
  height: 45px;
  line-height: 45px;
}
textarea.input-lg,
select[multiple].input-lg {
  height: auto;
}
.form-group-lg .form-control {
  height: 45px;
  padding: 10px 16px;
  font-size: 17px;
  line-height: 1.3333333;
  border-radius: 3px;
}
.form-group-lg select.form-control {
  height: 45px;
  line-height: 45px;
}
.form-group-lg textarea.form-control,
.form-group-lg select[multiple].form-control {
  height: auto;
}
.form-group-lg .form-control-static {
  height: 45px;
  min-height: 35px;
  padding: 11px 16px;
  font-size: 17px;
  line-height: 1.3333333;
}
.has-feedback {
  position: relative;
}
.has-feedback .form-control {
  padding-right: 40px;
}
.form-control-feedback {
  position: absolute;
  top: 0;
  right: 0;
  z-index: 2;
  display: block;
  width: 32px;
  height: 32px;
  line-height: 32px;
  text-align: center;
  pointer-events: none;
}
.input-lg + .form-control-feedback,
.input-group-lg + .form-control-feedback,
.form-group-lg .form-control + .form-control-feedback {
  width: 45px;
  height: 45px;
  line-height: 45px;
}
.input-sm + .form-control-feedback,
.input-group-sm + .form-control-feedback,
.form-group-sm .form-control + .form-control-feedback {
  width: 30px;
  height: 30px;
  line-height: 30px;
}
.has-success .help-block,
.has-success .control-label,
.has-success .radio,
.has-success .checkbox,
.has-success .radio-inline,
.has-success .checkbox-inline,
.has-success.radio label,
.has-success.checkbox label,
.has-success.radio-inline label,
.has-success.checkbox-inline label {
  color: #3c763d;
}
.has-success .form-control {
  border-color: #3c763d;
  -webkit-box-shadow: inset 0 1px 1px rgba(0, 0, 0, 0.075);
  box-shadow: inset 0 1px 1px rgba(0, 0, 0, 0.075);
}
.has-success .form-control:focus {
  border-color: #2b542c;
  -webkit-box-shadow: inset 0 1px 1px rgba(0, 0, 0, 0.075), 0 0 6px #67b168;
  box-shadow: inset 0 1px 1px rgba(0, 0, 0, 0.075), 0 0 6px #67b168;
}
.has-success .input-group-addon {
  color: #3c763d;
  border-color: #3c763d;
  background-color: #dff0d8;
}
.has-success .form-control-feedback {
  color: #3c763d;
}
.has-warning .help-block,
.has-warning .control-label,
.has-warning .radio,
.has-warning .checkbox,
.has-warning .radio-inline,
.has-warning .checkbox-inline,
.has-warning.radio label,
.has-warning.checkbox label,
.has-warning.radio-inline label,
.has-warning.checkbox-inline label {
  color: #8a6d3b;
}
.has-warning .form-control {
  border-color: #8a6d3b;
  -webkit-box-shadow: inset 0 1px 1px rgba(0, 0, 0, 0.075);
  box-shadow: inset 0 1px 1px rgba(0, 0, 0, 0.075);
}
.has-warning .form-control:focus {
  border-color: #66512c;
  -webkit-box-shadow: inset 0 1px 1px rgba(0, 0, 0, 0.075), 0 0 6px #c0a16b;
  box-shadow: inset 0 1px 1px rgba(0, 0, 0, 0.075), 0 0 6px #c0a16b;
}
.has-warning .input-group-addon {
  color: #8a6d3b;
  border-color: #8a6d3b;
  background-color: #fcf8e3;
}
.has-warning .form-control-feedback {
  color: #8a6d3b;
}
.has-error .help-block,
.has-error .control-label,
.has-error .radio,
.has-error .checkbox,
.has-error .radio-inline,
.has-error .checkbox-inline,
.has-error.radio label,
.has-error.checkbox label,
.has-error.radio-inline label,
.has-error.checkbox-inline label {
  color: #a94442;
}
.has-error .form-control {
  border-color: #a94442;
  -webkit-box-shadow: inset 0 1px 1px rgba(0, 0, 0, 0.075);
  box-shadow: inset 0 1px 1px rgba(0, 0, 0, 0.075);
}
.has-error .form-control:focus {
  border-color: #843534;
  -webkit-box-shadow: inset 0 1px 1px rgba(0, 0, 0, 0.075), 0 0 6px #ce8483;
  box-shadow: inset 0 1px 1px rgba(0, 0, 0, 0.075), 0 0 6px #ce8483;
}
.has-error .input-group-addon {
  color: #a94442;
  border-color: #a94442;
  background-color: #f2dede;
}
.has-error .form-control-feedback {
  color: #a94442;
}
.has-feedback label ~ .form-control-feedback {
  top: 23px;
}
.has-feedback label.sr-only ~ .form-control-feedback {
  top: 0;
}
.help-block {
  display: block;
  margin-top: 5px;
  margin-bottom: 10px;
  color: #404040;
}
@media (min-width: 768px) {
  .form-inline .form-group {
    display: inline-block;
    margin-bottom: 0;
    vertical-align: middle;
  }
  .form-inline .form-control {
    display: inline-block;
    width: auto;
    vertical-align: middle;
  }
  .form-inline .form-control-static {
    display: inline-block;
  }
  .form-inline .input-group {
    display: inline-table;
    vertical-align: middle;
  }
  .form-inline .input-group .input-group-addon,
  .form-inline .input-group .input-group-btn,
  .form-inline .input-group .form-control {
    width: auto;
  }
  .form-inline .input-group > .form-control {
    width: 100%;
  }
  .form-inline .control-label {
    margin-bottom: 0;
    vertical-align: middle;
  }
  .form-inline .radio,
  .form-inline .checkbox {
    display: inline-block;
    margin-top: 0;
    margin-bottom: 0;
    vertical-align: middle;
  }
  .form-inline .radio label,
  .form-inline .checkbox label {
    padding-left: 0;
  }
  .form-inline .radio input[type="radio"],
  .form-inline .checkbox input[type="checkbox"] {
    position: relative;
    margin-left: 0;
  }
  .form-inline .has-feedback .form-control-feedback {
    top: 0;
  }
}
.form-horizontal .radio,
.form-horizontal .checkbox,
.form-horizontal .radio-inline,
.form-horizontal .checkbox-inline {
  margin-top: 0;
  margin-bottom: 0;
  padding-top: 7px;
}
.form-horizontal .radio,
.form-horizontal .checkbox {
  min-height: 25px;
}
.form-horizontal .form-group {
  margin-left: 0px;
  margin-right: 0px;
}
@media (min-width: 768px) {
  .form-horizontal .control-label {
    text-align: right;
    margin-bottom: 0;
    padding-top: 7px;
  }
}
.form-horizontal .has-feedback .form-control-feedback {
  right: 0px;
}
@media (min-width: 768px) {
  .form-horizontal .form-group-lg .control-label {
    padding-top: 11px;
    font-size: 17px;
  }
}
@media (min-width: 768px) {
  .form-horizontal .form-group-sm .control-label {
    padding-top: 6px;
    font-size: 12px;
  }
}
.btn {
  display: inline-block;
  margin-bottom: 0;
  font-weight: normal;
  text-align: center;
  vertical-align: middle;
  touch-action: manipulation;
  cursor: pointer;
  background-image: none;
  border: 1px solid transparent;
  white-space: nowrap;
  padding: 6px 12px;
  font-size: 13px;
  line-height: 1.42857143;
  border-radius: 2px;
  -webkit-user-select: none;
  -moz-user-select: none;
  -ms-user-select: none;
  user-select: none;
}
.btn:focus,
.btn:active:focus,
.btn.active:focus,
.btn.focus,
.btn:active.focus,
.btn.active.focus {
  outline: thin dotted;
  outline: 5px auto -webkit-focus-ring-color;
  outline-offset: -2px;
}
.btn:hover,
.btn:focus,
.btn.focus {
  color: #333;
  text-decoration: none;
}
.btn:active,
.btn.active {
  outline: 0;
  background-image: none;
  -webkit-box-shadow: inset 0 3px 5px rgba(0, 0, 0, 0.125);
  box-shadow: inset 0 3px 5px rgba(0, 0, 0, 0.125);
}
.btn.disabled,
.btn[disabled],
fieldset[disabled] .btn {
  cursor: not-allowed;
  opacity: 0.65;
  filter: alpha(opacity=65);
  -webkit-box-shadow: none;
  box-shadow: none;
}
a.btn.disabled,
fieldset[disabled] a.btn {
  pointer-events: none;
}
.btn-default {
  color: #333;
  background-color: #fff;
  border-color: #ccc;
}
.btn-default:focus,
.btn-default.focus {
  color: #333;
  background-color: #e6e6e6;
  border-color: #8c8c8c;
}
.btn-default:hover {
  color: #333;
  background-color: #e6e6e6;
  border-color: #adadad;
}
.btn-default:active,
.btn-default.active,
.open > .dropdown-toggle.btn-default {
  color: #333;
  background-color: #e6e6e6;
  border-color: #adadad;
}
.btn-default:active:hover,
.btn-default.active:hover,
.open > .dropdown-toggle.btn-default:hover,
.btn-default:active:focus,
.btn-default.active:focus,
.open > .dropdown-toggle.btn-default:focus,
.btn-default:active.focus,
.btn-default.active.focus,
.open > .dropdown-toggle.btn-default.focus {
  color: #333;
  background-color: #d4d4d4;
  border-color: #8c8c8c;
}
.btn-default:active,
.btn-default.active,
.open > .dropdown-toggle.btn-default {
  background-image: none;
}
.btn-default.disabled:hover,
.btn-default[disabled]:hover,
fieldset[disabled] .btn-default:hover,
.btn-default.disabled:focus,
.btn-default[disabled]:focus,
fieldset[disabled] .btn-default:focus,
.btn-default.disabled.focus,
.btn-default[disabled].focus,
fieldset[disabled] .btn-default.focus {
  background-color: #fff;
  border-color: #ccc;
}
.btn-default .badge {
  color: #fff;
  background-color: #333;
}
.btn-primary {
  color: #fff;
  background-color: #337ab7;
  border-color: #2e6da4;
}
.btn-primary:focus,
.btn-primary.focus {
  color: #fff;
  background-color: #286090;
  border-color: #122b40;
}
.btn-primary:hover {
  color: #fff;
  background-color: #286090;
  border-color: #204d74;
}
.btn-primary:active,
.btn-primary.active,
.open > .dropdown-toggle.btn-primary {
  color: #fff;
  background-color: #286090;
  border-color: #204d74;
}
.btn-primary:active:hover,
.btn-primary.active:hover,
.open > .dropdown-toggle.btn-primary:hover,
.btn-primary:active:focus,
.btn-primary.active:focus,
.open > .dropdown-toggle.btn-primary:focus,
.btn-primary:active.focus,
.btn-primary.active.focus,
.open > .dropdown-toggle.btn-primary.focus {
  color: #fff;
  background-color: #204d74;
  border-color: #122b40;
}
.btn-primary:active,
.btn-primary.active,
.open > .dropdown-toggle.btn-primary {
  background-image: none;
}
.btn-primary.disabled:hover,
.btn-primary[disabled]:hover,
fieldset[disabled] .btn-primary:hover,
.btn-primary.disabled:focus,
.btn-primary[disabled]:focus,
fieldset[disabled] .btn-primary:focus,
.btn-primary.disabled.focus,
.btn-primary[disabled].focus,
fieldset[disabled] .btn-primary.focus {
  background-color: #337ab7;
  border-color: #2e6da4;
}
.btn-primary .badge {
  color: #337ab7;
  background-color: #fff;
}
.btn-success {
  color: #fff;
  background-color: #5cb85c;
  border-color: #4cae4c;
}
.btn-success:focus,
.btn-success.focus {
  color: #fff;
  background-color: #449d44;
  border-color: #255625;
}
.btn-success:hover {
  color: #fff;
  background-color: #449d44;
  border-color: #398439;
}
.btn-success:active,
.btn-success.active,
.open > .dropdown-toggle.btn-success {
  color: #fff;
  background-color: #449d44;
  border-color: #398439;
}
.btn-success:active:hover,
.btn-success.active:hover,
.open > .dropdown-toggle.btn-success:hover,
.btn-success:active:focus,
.btn-success.active:focus,
.open > .dropdown-toggle.btn-success:focus,
.btn-success:active.focus,
.btn-success.active.focus,
.open > .dropdown-toggle.btn-success.focus {
  color: #fff;
  background-color: #398439;
  border-color: #255625;
}
.btn-success:active,
.btn-success.active,
.open > .dropdown-toggle.btn-success {
  background-image: none;
}
.btn-success.disabled:hover,
.btn-success[disabled]:hover,
fieldset[disabled] .btn-success:hover,
.btn-success.disabled:focus,
.btn-success[disabled]:focus,
fieldset[disabled] .btn-success:focus,
.btn-success.disabled.focus,
.btn-success[disabled].focus,
fieldset[disabled] .btn-success.focus {
  background-color: #5cb85c;
  border-color: #4cae4c;
}
.btn-success .badge {
  color: #5cb85c;
  background-color: #fff;
}
.btn-info {
  color: #fff;
  background-color: #5bc0de;
  border-color: #46b8da;
}
.btn-info:focus,
.btn-info.focus {
  color: #fff;
  background-color: #31b0d5;
  border-color: #1b6d85;
}
.btn-info:hover {
  color: #fff;
  background-color: #31b0d5;
  border-color: #269abc;
}
.btn-info:active,
.btn-info.active,
.open > .dropdown-toggle.btn-info {
  color: #fff;
  background-color: #31b0d5;
  border-color: #269abc;
}
.btn-info:active:hover,
.btn-info.active:hover,
.open > .dropdown-toggle.btn-info:hover,
.btn-info:active:focus,
.btn-info.active:focus,
.open > .dropdown-toggle.btn-info:focus,
.btn-info:active.focus,
.btn-info.active.focus,
.open > .dropdown-toggle.btn-info.focus {
  color: #fff;
  background-color: #269abc;
  border-color: #1b6d85;
}
.btn-info:active,
.btn-info.active,
.open > .dropdown-toggle.btn-info {
  background-image: none;
}
.btn-info.disabled:hover,
.btn-info[disabled]:hover,
fieldset[disabled] .btn-info:hover,
.btn-info.disabled:focus,
.btn-info[disabled]:focus,
fieldset[disabled] .btn-info:focus,
.btn-info.disabled.focus,
.btn-info[disabled].focus,
fieldset[disabled] .btn-info.focus {
  background-color: #5bc0de;
  border-color: #46b8da;
}
.btn-info .badge {
  color: #5bc0de;
  background-color: #fff;
}
.btn-warning {
  color: #fff;
  background-color: #f0ad4e;
  border-color: #eea236;
}
.btn-warning:focus,
.btn-warning.focus {
  color: #fff;
  background-color: #ec971f;
  border-color: #985f0d;
}
.btn-warning:hover {
  color: #fff;
  background-color: #ec971f;
  border-color: #d58512;
}
.btn-warning:active,
.btn-warning.active,
.open > .dropdown-toggle.btn-warning {
  color: #fff;
  background-color: #ec971f;
  border-color: #d58512;
}
.btn-warning:active:hover,
.btn-warning.active:hover,
.open > .dropdown-toggle.btn-warning:hover,
.btn-warning:active:focus,
.btn-warning.active:focus,
.open > .dropdown-toggle.btn-warning:focus,
.btn-warning:active.focus,
.btn-warning.active.focus,
.open > .dropdown-toggle.btn-warning.focus {
  color: #fff;
  background-color: #d58512;
  border-color: #985f0d;
}
.btn-warning:active,
.btn-warning.active,
.open > .dropdown-toggle.btn-warning {
  background-image: none;
}
.btn-warning.disabled:hover,
.btn-warning[disabled]:hover,
fieldset[disabled] .btn-warning:hover,
.btn-warning.disabled:focus,
.btn-warning[disabled]:focus,
fieldset[disabled] .btn-warning:focus,
.btn-warning.disabled.focus,
.btn-warning[disabled].focus,
fieldset[disabled] .btn-warning.focus {
  background-color: #f0ad4e;
  border-color: #eea236;
}
.btn-warning .badge {
  color: #f0ad4e;
  background-color: #fff;
}
.btn-danger {
  color: #fff;
  background-color: #d9534f;
  border-color: #d43f3a;
}
.btn-danger:focus,
.btn-danger.focus {
  color: #fff;
  background-color: #c9302c;
  border-color: #761c19;
}
.btn-danger:hover {
  color: #fff;
  background-color: #c9302c;
  border-color: #ac2925;
}
.btn-danger:active,
.btn-danger.active,
.open > .dropdown-toggle.btn-danger {
  color: #fff;
  background-color: #c9302c;
  border-color: #ac2925;
}
.btn-danger:active:hover,
.btn-danger.active:hover,
.open > .dropdown-toggle.btn-danger:hover,
.btn-danger:active:focus,
.btn-danger.active:focus,
.open > .dropdown-toggle.btn-danger:focus,
.btn-danger:active.focus,
.btn-danger.active.focus,
.open > .dropdown-toggle.btn-danger.focus {
  color: #fff;
  background-color: #ac2925;
  border-color: #761c19;
}
.btn-danger:active,
.btn-danger.active,
.open > .dropdown-toggle.btn-danger {
  background-image: none;
}
.btn-danger.disabled:hover,
.btn-danger[disabled]:hover,
fieldset[disabled] .btn-danger:hover,
.btn-danger.disabled:focus,
.btn-danger[disabled]:focus,
fieldset[disabled] .btn-danger:focus,
.btn-danger.disabled.focus,
.btn-danger[disabled].focus,
fieldset[disabled] .btn-danger.focus {
  background-color: #d9534f;
  border-color: #d43f3a;
}
.btn-danger .badge {
  color: #d9534f;
  background-color: #fff;
}
.btn-link {
  color: #337ab7;
  font-weight: normal;
  border-radius: 0;
}
.btn-link,
.btn-link:active,
.btn-link.active,
.btn-link[disabled],
fieldset[disabled] .btn-link {
  background-color: transparent;
  -webkit-box-shadow: none;
  box-shadow: none;
}
.btn-link,
.btn-link:hover,
.btn-link:focus,
.btn-link:active {
  border-color: transparent;
}
.btn-link:hover,
.btn-link:focus {
  color: #23527c;
  text-decoration: underline;
  background-color: transparent;
}
.btn-link[disabled]:hover,
fieldset[disabled] .btn-link:hover,
.btn-link[disabled]:focus,
fieldset[disabled] .btn-link:focus {
  color: #777777;
  text-decoration: none;
}
.btn-lg,
.btn-group-lg > .btn {
  padding: 10px 16px;
  font-size: 17px;
  line-height: 1.3333333;
  border-radius: 3px;
}
.btn-sm,
.btn-group-sm > .btn {
  padding: 5px 10px;
  font-size: 12px;
  line-height: 1.5;
  border-radius: 1px;
}
.btn-xs,
.btn-group-xs > .btn {
  padding: 1px 5px;
  font-size: 12px;
  line-height: 1.5;
  border-radius: 1px;
}
.btn-block {
  display: block;
  width: 100%;
}
.btn-block + .btn-block {
  margin-top: 5px;
}
input[type="submit"].btn-block,
input[type="reset"].btn-block,
input[type="button"].btn-block {
  width: 100%;
}
.fade {
  opacity: 0;
  -webkit-transition: opacity 0.15s linear;
  -o-transition: opacity 0.15s linear;
  transition: opacity 0.15s linear;
}
.fade.in {
  opacity: 1;
}
.collapse {
  display: none;
}
.collapse.in {
  display: block;
}
tr.collapse.in {
  display: table-row;
}
tbody.collapse.in {
  display: table-row-group;
}
.collapsing {
  position: relative;
  height: 0;
  overflow: hidden;
  -webkit-transition-property: height, visibility;
  transition-property: height, visibility;
  -webkit-transition-duration: 0.35s;
  transition-duration: 0.35s;
  -webkit-transition-timing-function: ease;
  transition-timing-function: ease;
}
.caret {
  display: inline-block;
  width: 0;
  height: 0;
  margin-left: 2px;
  vertical-align: middle;
  border-top: 4px dashed;
  border-top: 4px solid \9;
  border-right: 4px solid transparent;
  border-left: 4px solid transparent;
}
.dropup,
.dropdown {
  position: relative;
}
.dropdown-toggle:focus {
  outline: 0;
}
.dropdown-menu {
  position: absolute;
  top: 100%;
  left: 0;
  z-index: 1000;
  display: none;
  float: left;
  min-width: 160px;
  padding: 5px 0;
  margin: 2px 0 0;
  list-style: none;
  font-size: 13px;
  text-align: left;
  background-color: #fff;
  border: 1px solid #ccc;
  border: 1px solid rgba(0, 0, 0, 0.15);
  border-radius: 2px;
  -webkit-box-shadow: 0 6px 12px rgba(0, 0, 0, 0.175);
  box-shadow: 0 6px 12px rgba(0, 0, 0, 0.175);
  background-clip: padding-box;
}
.dropdown-menu.pull-right {
  right: 0;
  left: auto;
}
.dropdown-menu .divider {
  height: 1px;
  margin: 8px 0;
  overflow: hidden;
  background-color: #e5e5e5;
}
.dropdown-menu > li > a {
  display: block;
  padding: 3px 20px;
  clear: both;
  font-weight: normal;
  line-height: 1.42857143;
  color: #333333;
  white-space: nowrap;
}
.dropdown-menu > li > a:hover,
.dropdown-menu > li > a:focus {
  text-decoration: none;
  color: #262626;
  background-color: #f5f5f5;
}
.dropdown-menu > .active > a,
.dropdown-menu > .active > a:hover,
.dropdown-menu > .active > a:focus {
  color: #fff;
  text-decoration: none;
  outline: 0;
  background-color: #337ab7;
}
.dropdown-menu > .disabled > a,
.dropdown-menu > .disabled > a:hover,
.dropdown-menu > .disabled > a:focus {
  color: #777777;
}
.dropdown-menu > .disabled > a:hover,
.dropdown-menu > .disabled > a:focus {
  text-decoration: none;
  background-color: transparent;
  background-image: none;
  filter: progid:DXImageTransform.Microsoft.gradient(enabled = false);
  cursor: not-allowed;
}
.open > .dropdown-menu {
  display: block;
}
.open > a {
  outline: 0;
}
.dropdown-menu-right {
  left: auto;
  right: 0;
}
.dropdown-menu-left {
  left: 0;
  right: auto;
}
.dropdown-header {
  display: block;
  padding: 3px 20px;
  font-size: 12px;
  line-height: 1.42857143;
  color: #777777;
  white-space: nowrap;
}
.dropdown-backdrop {
  position: fixed;
  left: 0;
  right: 0;
  bottom: 0;
  top: 0;
  z-index: 990;
}
.pull-right > .dropdown-menu {
  right: 0;
  left: auto;
}
.dropup .caret,
.navbar-fixed-bottom .dropdown .caret {
  border-top: 0;
  border-bottom: 4px dashed;
  border-bottom: 4px solid \9;
  content: "";
}
.dropup .dropdown-menu,
.navbar-fixed-bottom .dropdown .dropdown-menu {
  top: auto;
  bottom: 100%;
  margin-bottom: 2px;
}
@media (min-width: 541px) {
  .navbar-right .dropdown-menu {
    left: auto;
    right: 0;
  }
  .navbar-right .dropdown-menu-left {
    left: 0;
    right: auto;
  }
}
.btn-group,
.btn-group-vertical {
  position: relative;
  display: inline-block;
  vertical-align: middle;
}
.btn-group > .btn,
.btn-group-vertical > .btn {
  position: relative;
  float: left;
}
.btn-group > .btn:hover,
.btn-group-vertical > .btn:hover,
.btn-group > .btn:focus,
.btn-group-vertical > .btn:focus,
.btn-group > .btn:active,
.btn-group-vertical > .btn:active,
.btn-group > .btn.active,
.btn-group-vertical > .btn.active {
  z-index: 2;
}
.btn-group .btn + .btn,
.btn-group .btn + .btn-group,
.btn-group .btn-group + .btn,
.btn-group .btn-group + .btn-group {
  margin-left: -1px;
}
.btn-toolbar {
  margin-left: -5px;
}
.btn-toolbar .btn,
.btn-toolbar .btn-group,
.btn-toolbar .input-group {
  float: left;
}
.btn-toolbar > .btn,
.btn-toolbar > .btn-group,
.btn-toolbar > .input-group {
  margin-left: 5px;
}
.btn-group > .btn:not(:first-child):not(:last-child):not(.dropdown-toggle) {
  border-radius: 0;
}
.btn-group > .btn:first-child {
  margin-left: 0;
}
.btn-group > .btn:first-child:not(:last-child):not(.dropdown-toggle) {
  border-bottom-right-radius: 0;
  border-top-right-radius: 0;
}
.btn-group > .btn:last-child:not(:first-child),
.btn-group > .dropdown-toggle:not(:first-child) {
  border-bottom-left-radius: 0;
  border-top-left-radius: 0;
}
.btn-group > .btn-group {
  float: left;
}
.btn-group > .btn-group:not(:first-child):not(:last-child) > .btn {
  border-radius: 0;
}
.btn-group > .btn-group:first-child:not(:last-child) > .btn:last-child,
.btn-group > .btn-group:first-child:not(:last-child) > .dropdown-toggle {
  border-bottom-right-radius: 0;
  border-top-right-radius: 0;
}
.btn-group > .btn-group:last-child:not(:first-child) > .btn:first-child {
  border-bottom-left-radius: 0;
  border-top-left-radius: 0;
}
.btn-group .dropdown-toggle:active,
.btn-group.open .dropdown-toggle {
  outline: 0;
}
.btn-group > .btn + .dropdown-toggle {
  padding-left: 8px;
  padding-right: 8px;
}
.btn-group > .btn-lg + .dropdown-toggle {
  padding-left: 12px;
  padding-right: 12px;
}
.btn-group.open .dropdown-toggle {
  -webkit-box-shadow: inset 0 3px 5px rgba(0, 0, 0, 0.125);
  box-shadow: inset 0 3px 5px rgba(0, 0, 0, 0.125);
}
.btn-group.open .dropdown-toggle.btn-link {
  -webkit-box-shadow: none;
  box-shadow: none;
}
.btn .caret {
  margin-left: 0;
}
.btn-lg .caret {
  border-width: 5px 5px 0;
  border-bottom-width: 0;
}
.dropup .btn-lg .caret {
  border-width: 0 5px 5px;
}
.btn-group-vertical > .btn,
.btn-group-vertical > .btn-group,
.btn-group-vertical > .btn-group > .btn {
  display: block;
  float: none;
  width: 100%;
  max-width: 100%;
}
.btn-group-vertical > .btn-group > .btn {
  float: none;
}
.btn-group-vertical > .btn + .btn,
.btn-group-vertical > .btn + .btn-group,
.btn-group-vertical > .btn-group + .btn,
.btn-group-vertical > .btn-group + .btn-group {
  margin-top: -1px;
  margin-left: 0;
}
.btn-group-vertical > .btn:not(:first-child):not(:last-child) {
  border-radius: 0;
}
.btn-group-vertical > .btn:first-child:not(:last-child) {
  border-top-right-radius: 2px;
  border-top-left-radius: 2px;
  border-bottom-right-radius: 0;
  border-bottom-left-radius: 0;
}
.btn-group-vertical > .btn:last-child:not(:first-child) {
  border-top-right-radius: 0;
  border-top-left-radius: 0;
  border-bottom-right-radius: 2px;
  border-bottom-left-radius: 2px;
}
.btn-group-vertical > .btn-group:not(:first-child):not(:last-child) > .btn {
  border-radius: 0;
}
.btn-group-vertical > .btn-group:first-child:not(:last-child) > .btn:last-child,
.btn-group-vertical > .btn-group:first-child:not(:last-child) > .dropdown-toggle {
  border-bottom-right-radius: 0;
  border-bottom-left-radius: 0;
}
.btn-group-vertical > .btn-group:last-child:not(:first-child) > .btn:first-child {
  border-top-right-radius: 0;
  border-top-left-radius: 0;
}
.btn-group-justified {
  display: table;
  width: 100%;
  table-layout: fixed;
  border-collapse: separate;
}
.btn-group-justified > .btn,
.btn-group-justified > .btn-group {
  float: none;
  display: table-cell;
  width: 1%;
}
.btn-group-justified > .btn-group .btn {
  width: 100%;
}
.btn-group-justified > .btn-group .dropdown-menu {
  left: auto;
}
[data-toggle="buttons"] > .btn input[type="radio"],
[data-toggle="buttons"] > .btn-group > .btn input[type="radio"],
[data-toggle="buttons"] > .btn input[type="checkbox"],
[data-toggle="buttons"] > .btn-group > .btn input[type="checkbox"] {
  position: absolute;
  clip: rect(0, 0, 0, 0);
  pointer-events: none;
}
.input-group {
  position: relative;
  display: table;
  border-collapse: separate;
}
.input-group[class*="col-"] {
  float: none;
  padding-left: 0;
  padding-right: 0;
}
.input-group .form-control {
  position: relative;
  z-index: 2;
  float: left;
  width: 100%;
  margin-bottom: 0;
}
.input-group .form-control:focus {
  z-index: 3;
}
.input-group-lg > .form-control,
.input-group-lg > .input-group-addon,
.input-group-lg > .input-group-btn > .btn {
  height: 45px;
  padding: 10px 16px;
  font-size: 17px;
  line-height: 1.3333333;
  border-radius: 3px;
}
select.input-group-lg > .form-control,
select.input-group-lg > .input-group-addon,
select.input-group-lg > .input-group-btn > .btn {
  height: 45px;
  line-height: 45px;
}
textarea.input-group-lg > .form-control,
textarea.input-group-lg > .input-group-addon,
textarea.input-group-lg > .input-group-btn > .btn,
select[multiple].input-group-lg > .form-control,
select[multiple].input-group-lg > .input-group-addon,
select[multiple].input-group-lg > .input-group-btn > .btn {
  height: auto;
}
.input-group-sm > .form-control,
.input-group-sm > .input-group-addon,
.input-group-sm > .input-group-btn > .btn {
  height: 30px;
  padding: 5px 10px;
  font-size: 12px;
  line-height: 1.5;
  border-radius: 1px;
}
select.input-group-sm > .form-control,
select.input-group-sm > .input-group-addon,
select.input-group-sm > .input-group-btn > .btn {
  height: 30px;
  line-height: 30px;
}
textarea.input-group-sm > .form-control,
textarea.input-group-sm > .input-group-addon,
textarea.input-group-sm > .input-group-btn > .btn,
select[multiple].input-group-sm > .form-control,
select[multiple].input-group-sm > .input-group-addon,
select[multiple].input-group-sm > .input-group-btn > .btn {
  height: auto;
}
.input-group-addon,
.input-group-btn,
.input-group .form-control {
  display: table-cell;
}
.input-group-addon:not(:first-child):not(:last-child),
.input-group-btn:not(:first-child):not(:last-child),
.input-group .form-control:not(:first-child):not(:last-child) {
  border-radius: 0;
}
.input-group-addon,
.input-group-btn {
  width: 1%;
  white-space: nowrap;
  vertical-align: middle;
}
.input-group-addon {
  padding: 6px 12px;
  font-size: 13px;
  font-weight: normal;
  line-height: 1;
  color: #555555;
  text-align: center;
  background-color: #eeeeee;
  border: 1px solid #ccc;
  border-radius: 2px;
}
.input-group-addon.input-sm {
  padding: 5px 10px;
  font-size: 12px;
  border-radius: 1px;
}
.input-group-addon.input-lg {
  padding: 10px 16px;
  font-size: 17px;
  border-radius: 3px;
}
.input-group-addon input[type="radio"],
.input-group-addon input[type="checkbox"] {
  margin-top: 0;
}
.input-group .form-control:first-child,
.input-group-addon:first-child,
.input-group-btn:first-child > .btn,
.input-group-btn:first-child > .btn-group > .btn,
.input-group-btn:first-child > .dropdown-toggle,
.input-group-btn:last-child > .btn:not(:last-child):not(.dropdown-toggle),
.input-group-btn:last-child > .btn-group:not(:last-child) > .btn {
  border-bottom-right-radius: 0;
  border-top-right-radius: 0;
}
.input-group-addon:first-child {
  border-right: 0;
}
.input-group .form-control:last-child,
.input-group-addon:last-child,
.input-group-btn:last-child > .btn,
.input-group-btn:last-child > .btn-group > .btn,
.input-group-btn:last-child > .dropdown-toggle,
.input-group-btn:first-child > .btn:not(:first-child),
.input-group-btn:first-child > .btn-group:not(:first-child) > .btn {
  border-bottom-left-radius: 0;
  border-top-left-radius: 0;
}
.input-group-addon:last-child {
  border-left: 0;
}
.input-group-btn {
  position: relative;
  font-size: 0;
  white-space: nowrap;
}
.input-group-btn > .btn {
  position: relative;
}
.input-group-btn > .btn + .btn {
  margin-left: -1px;
}
.input-group-btn > .btn:hover,
.input-group-btn > .btn:focus,
.input-group-btn > .btn:active {
  z-index: 2;
}
.input-group-btn:first-child > .btn,
.input-group-btn:first-child > .btn-group {
  margin-right: -1px;
}
.input-group-btn:last-child > .btn,
.input-group-btn:last-child > .btn-group {
  z-index: 2;
  margin-left: -1px;
}
.nav {
  margin-bottom: 0;
  padding-left: 0;
  list-style: none;
}
.nav > li {
  position: relative;
  display: block;
}
.nav > li > a {
  position: relative;
  display: block;
  padding: 10px 15px;
}
.nav > li > a:hover,
.nav > li > a:focus {
  text-decoration: none;
  background-color: #eeeeee;
}
.nav > li.disabled > a {
  color: #777777;
}
.nav > li.disabled > a:hover,
.nav > li.disabled > a:focus {
  color: #777777;
  text-decoration: none;
  background-color: transparent;
  cursor: not-allowed;
}
.nav .open > a,
.nav .open > a:hover,
.nav .open > a:focus {
  background-color: #eeeeee;
  border-color: #337ab7;
}
.nav .nav-divider {
  height: 1px;
  margin: 8px 0;
  overflow: hidden;
  background-color: #e5e5e5;
}
.nav > li > a > img {
  max-width: none;
}
.nav-tabs {
  border-bottom: 1px solid #ddd;
}
.nav-tabs > li {
  float: left;
  margin-bottom: -1px;
}
.nav-tabs > li > a {
  margin-right: 2px;
  line-height: 1.42857143;
  border: 1px solid transparent;
  border-radius: 2px 2px 0 0;
}
.nav-tabs > li > a:hover {
  border-color: #eeeeee #eeeeee #ddd;
}
.nav-tabs > li.active > a,
.nav-tabs > li.active > a:hover,
.nav-tabs > li.active > a:focus {
  color: #555555;
  background-color: #fff;
  border: 1px solid #ddd;
  border-bottom-color: transparent;
  cursor: default;
}
.nav-tabs.nav-justified {
  width: 100%;
  border-bottom: 0;
}
.nav-tabs.nav-justified > li {
  float: none;
}
.nav-tabs.nav-justified > li > a {
  text-align: center;
  margin-bottom: 5px;
}
.nav-tabs.nav-justified > .dropdown .dropdown-menu {
  top: auto;
  left: auto;
}
@media (min-width: 768px) {
  .nav-tabs.nav-justified > li {
    display: table-cell;
    width: 1%;
  }
  .nav-tabs.nav-justified > li > a {
    margin-bottom: 0;
  }
}
.nav-tabs.nav-justified > li > a {
  margin-right: 0;
  border-radius: 2px;
}
.nav-tabs.nav-justified > .active > a,
.nav-tabs.nav-justified > .active > a:hover,
.nav-tabs.nav-justified > .active > a:focus {
  border: 1px solid #ddd;
}
@media (min-width: 768px) {
  .nav-tabs.nav-justified > li > a {
    border-bottom: 1px solid #ddd;
    border-radius: 2px 2px 0 0;
  }
  .nav-tabs.nav-justified > .active > a,
  .nav-tabs.nav-justified > .active > a:hover,
  .nav-tabs.nav-justified > .active > a:focus {
    border-bottom-color: #fff;
  }
}
.nav-pills > li {
  float: left;
}
.nav-pills > li > a {
  border-radius: 2px;
}
.nav-pills > li + li {
  margin-left: 2px;
}
.nav-pills > li.active > a,
.nav-pills > li.active > a:hover,
.nav-pills > li.active > a:focus {
  color: #fff;
  background-color: #337ab7;
}
.nav-stacked > li {
  float: none;
}
.nav-stacked > li + li {
  margin-top: 2px;
  margin-left: 0;
}
.nav-justified {
  width: 100%;
}
.nav-justified > li {
  float: none;
}
.nav-justified > li > a {
  text-align: center;
  margin-bottom: 5px;
}
.nav-justified > .dropdown .dropdown-menu {
  top: auto;
  left: auto;
}
@media (min-width: 768px) {
  .nav-justified > li {
    display: table-cell;
    width: 1%;
  }
  .nav-justified > li > a {
    margin-bottom: 0;
  }
}
.nav-tabs-justified {
  border-bottom: 0;
}
.nav-tabs-justified > li > a {
  margin-right: 0;
  border-radius: 2px;
}
.nav-tabs-justified > .active > a,
.nav-tabs-justified > .active > a:hover,
.nav-tabs-justified > .active > a:focus {
  border: 1px solid #ddd;
}
@media (min-width: 768px) {
  .nav-tabs-justified > li > a {
    border-bottom: 1px solid #ddd;
    border-radius: 2px 2px 0 0;
  }
  .nav-tabs-justified > .active > a,
  .nav-tabs-justified > .active > a:hover,
  .nav-tabs-justified > .active > a:focus {
    border-bottom-color: #fff;
  }
}
.tab-content > .tab-pane {
  display: none;
}
.tab-content > .active {
  display: block;
}
.nav-tabs .dropdown-menu {
  margin-top: -1px;
  border-top-right-radius: 0;
  border-top-left-radius: 0;
}
.navbar {
  position: relative;
  min-height: 30px;
  margin-bottom: 18px;
  border: 1px solid transparent;
}
@media (min-width: 541px) {
  .navbar {
    border-radius: 2px;
  }
}
@media (min-width: 541px) {
  .navbar-header {
    float: left;
  }
}
.navbar-collapse {
  overflow-x: visible;
  padding-right: 0px;
  padding-left: 0px;
  border-top: 1px solid transparent;
  box-shadow: inset 0 1px 0 rgba(255, 255, 255, 0.1);
  -webkit-overflow-scrolling: touch;
}
.navbar-collapse.in {
  overflow-y: auto;
}
@media (min-width: 541px) {
  .navbar-collapse {
    width: auto;
    border-top: 0;
    box-shadow: none;
  }
  .navbar-collapse.collapse {
    display: block !important;
    height: auto !important;
    padding-bottom: 0;
    overflow: visible !important;
  }
  .navbar-collapse.in {
    overflow-y: visible;
  }
  .navbar-fixed-top .navbar-collapse,
  .navbar-static-top .navbar-collapse,
  .navbar-fixed-bottom .navbar-collapse {
    padding-left: 0;
    padding-right: 0;
  }
}
.navbar-fixed-top .navbar-collapse,
.navbar-fixed-bottom .navbar-collapse {
  max-height: 340px;
}
@media (max-device-width: 540px) and (orientation: landscape) {
  .navbar-fixed-top .navbar-collapse,
  .navbar-fixed-bottom .navbar-collapse {
    max-height: 200px;
  }
}
.container > .navbar-header,
.container-fluid > .navbar-header,
.container > .navbar-collapse,
.container-fluid > .navbar-collapse {
  margin-right: 0px;
  margin-left: 0px;
}
@media (min-width: 541px) {
  .container > .navbar-header,
  .container-fluid > .navbar-header,
  .container > .navbar-collapse,
  .container-fluid > .navbar-collapse {
    margin-right: 0;
    margin-left: 0;
  }
}
.navbar-static-top {
  z-index: 1000;
  border-width: 0 0 1px;
}
@media (min-width: 541px) {
  .navbar-static-top {
    border-radius: 0;
  }
}
.navbar-fixed-top,
.navbar-fixed-bottom {
  position: fixed;
  right: 0;
  left: 0;
  z-index: 1030;
}
@media (min-width: 541px) {
  .navbar-fixed-top,
  .navbar-fixed-bottom {
    border-radius: 0;
  }
}
.navbar-fixed-top {
  top: 0;
  border-width: 0 0 1px;
}
.navbar-fixed-bottom {
  bottom: 0;
  margin-bottom: 0;
  border-width: 1px 0 0;
}
.navbar-brand {
  float: left;
  padding: 6px 0px;
  font-size: 17px;
  line-height: 18px;
  height: 30px;
}
.navbar-brand:hover,
.navbar-brand:focus {
  text-decoration: none;
}
.navbar-brand > img {
  display: block;
}
@media (min-width: 541px) {
  .navbar > .container .navbar-brand,
  .navbar > .container-fluid .navbar-brand {
    margin-left: 0px;
  }
}
.navbar-toggle {
  position: relative;
  float: right;
  margin-right: 0px;
  padding: 9px 10px;
  margin-top: -2px;
  margin-bottom: -2px;
  background-color: transparent;
  background-image: none;
  border: 1px solid transparent;
  border-radius: 2px;
}
.navbar-toggle:focus {
  outline: 0;
}
.navbar-toggle .icon-bar {
  display: block;
  width: 22px;
  height: 2px;
  border-radius: 1px;
}
.navbar-toggle .icon-bar + .icon-bar {
  margin-top: 4px;
}
@media (min-width: 541px) {
  .navbar-toggle {
    display: none;
  }
}
.navbar-nav {
  margin: 3px 0px;
}
.navbar-nav > li > a {
  padding-top: 10px;
  padding-bottom: 10px;
  line-height: 18px;
}
@media (max-width: 540px) {
  .navbar-nav .open .dropdown-menu {
    position: static;
    float: none;
    width: auto;
    margin-top: 0;
    background-color: transparent;
    border: 0;
    box-shadow: none;
  }
  .navbar-nav .open .dropdown-menu > li > a,
  .navbar-nav .open .dropdown-menu .dropdown-header {
    padding: 5px 15px 5px 25px;
  }
  .navbar-nav .open .dropdown-menu > li > a {
    line-height: 18px;
  }
  .navbar-nav .open .dropdown-menu > li > a:hover,
  .navbar-nav .open .dropdown-menu > li > a:focus {
    background-image: none;
  }
}
@media (min-width: 541px) {
  .navbar-nav {
    float: left;
    margin: 0;
  }
  .navbar-nav > li {
    float: left;
  }
  .navbar-nav > li > a {
    padding-top: 6px;
    padding-bottom: 6px;
  }
}
.navbar-form {
  margin-left: 0px;
  margin-right: 0px;
  padding: 10px 0px;
  border-top: 1px solid transparent;
  border-bottom: 1px solid transparent;
  -webkit-box-shadow: inset 0 1px 0 rgba(255, 255, 255, 0.1), 0 1px 0 rgba(255, 255, 255, 0.1);
  box-shadow: inset 0 1px 0 rgba(255, 255, 255, 0.1), 0 1px 0 rgba(255, 255, 255, 0.1);
  margin-top: -1px;
  margin-bottom: -1px;
}
@media (min-width: 768px) {
  .navbar-form .form-group {
    display: inline-block;
    margin-bottom: 0;
    vertical-align: middle;
  }
  .navbar-form .form-control {
    display: inline-block;
    width: auto;
    vertical-align: middle;
  }
  .navbar-form .form-control-static {
    display: inline-block;
  }
  .navbar-form .input-group {
    display: inline-table;
    vertical-align: middle;
  }
  .navbar-form .input-group .input-group-addon,
  .navbar-form .input-group .input-group-btn,
  .navbar-form .input-group .form-control {
    width: auto;
  }
  .navbar-form .input-group > .form-control {
    width: 100%;
  }
  .navbar-form .control-label {
    margin-bottom: 0;
    vertical-align: middle;
  }
  .navbar-form .radio,
  .navbar-form .checkbox {
    display: inline-block;
    margin-top: 0;
    margin-bottom: 0;
    vertical-align: middle;
  }
  .navbar-form .radio label,
  .navbar-form .checkbox label {
    padding-left: 0;
  }
  .navbar-form .radio input[type="radio"],
  .navbar-form .checkbox input[type="checkbox"] {
    position: relative;
    margin-left: 0;
  }
  .navbar-form .has-feedback .form-control-feedback {
    top: 0;
  }
}
@media (max-width: 540px) {
  .navbar-form .form-group {
    margin-bottom: 5px;
  }
  .navbar-form .form-group:last-child {
    margin-bottom: 0;
  }
}
@media (min-width: 541px) {
  .navbar-form {
    width: auto;
    border: 0;
    margin-left: 0;
    margin-right: 0;
    padding-top: 0;
    padding-bottom: 0;
    -webkit-box-shadow: none;
    box-shadow: none;
  }
}
.navbar-nav > li > .dropdown-menu {
  margin-top: 0;
  border-top-right-radius: 0;
  border-top-left-radius: 0;
}
.navbar-fixed-bottom .navbar-nav > li > .dropdown-menu {
  margin-bottom: 0;
  border-top-right-radius: 2px;
  border-top-left-radius: 2px;
  border-bottom-right-radius: 0;
  border-bottom-left-radius: 0;
}
.navbar-btn {
  margin-top: -1px;
  margin-bottom: -1px;
}
.navbar-btn.btn-sm {
  margin-top: 0px;
  margin-bottom: 0px;
}
.navbar-btn.btn-xs {
  margin-top: 4px;
  margin-bottom: 4px;
}
.navbar-text {
  margin-top: 6px;
  margin-bottom: 6px;
}
@media (min-width: 541px) {
  .navbar-text {
    float: left;
    margin-left: 0px;
    margin-right: 0px;
  }
}
@media (min-width: 541px) {
  .navbar-left {
    float: left !important;
    float: left;
  }
  .navbar-right {
    float: right !important;
    float: right;
    margin-right: 0px;
  }
  .navbar-right ~ .navbar-right {
    margin-right: 0;
  }
}
.navbar-default {
  background-color: #f8f8f8;
  border-color: #e7e7e7;
}
.navbar-default .navbar-brand {
  color: #777;
}
.navbar-default .navbar-brand:hover,
.navbar-default .navbar-brand:focus {
  color: #5e5e5e;
  background-color: transparent;
}
.navbar-default .navbar-text {
  color: #777;
}
.navbar-default .navbar-nav > li > a {
  color: #777;
}
.navbar-default .navbar-nav > li > a:hover,
.navbar-default .navbar-nav > li > a:focus {
  color: #333;
  background-color: transparent;
}
.navbar-default .navbar-nav > .active > a,
.navbar-default .navbar-nav > .active > a:hover,
.navbar-default .navbar-nav > .active > a:focus {
  color: #555;
  background-color: #e7e7e7;
}
.navbar-default .navbar-nav > .disabled > a,
.navbar-default .navbar-nav > .disabled > a:hover,
.navbar-default .navbar-nav > .disabled > a:focus {
  color: #ccc;
  background-color: transparent;
}
.navbar-default .navbar-toggle {
  border-color: #ddd;
}
.navbar-default .navbar-toggle:hover,
.navbar-default .navbar-toggle:focus {
  background-color: #ddd;
}
.navbar-default .navbar-toggle .icon-bar {
  background-color: #888;
}
.navbar-default .navbar-collapse,
.navbar-default .navbar-form {
  border-color: #e7e7e7;
}
.navbar-default .navbar-nav > .open > a,
.navbar-default .navbar-nav > .open > a:hover,
.navbar-default .navbar-nav > .open > a:focus {
  background-color: #e7e7e7;
  color: #555;
}
@media (max-width: 540px) {
  .navbar-default .navbar-nav .open .dropdown-menu > li > a {
    color: #777;
  }
  .navbar-default .navbar-nav .open .dropdown-menu > li > a:hover,
  .navbar-default .navbar-nav .open .dropdown-menu > li > a:focus {
    color: #333;
    background-color: transparent;
  }
  .navbar-default .navbar-nav .open .dropdown-menu > .active > a,
  .navbar-default .navbar-nav .open .dropdown-menu > .active > a:hover,
  .navbar-default .navbar-nav .open .dropdown-menu > .active > a:focus {
    color: #555;
    background-color: #e7e7e7;
  }
  .navbar-default .navbar-nav .open .dropdown-menu > .disabled > a,
  .navbar-default .navbar-nav .open .dropdown-menu > .disabled > a:hover,
  .navbar-default .navbar-nav .open .dropdown-menu > .disabled > a:focus {
    color: #ccc;
    background-color: transparent;
  }
}
.navbar-default .navbar-link {
  color: #777;
}
.navbar-default .navbar-link:hover {
  color: #333;
}
.navbar-default .btn-link {
  color: #777;
}
.navbar-default .btn-link:hover,
.navbar-default .btn-link:focus {
  color: #333;
}
.navbar-default .btn-link[disabled]:hover,
fieldset[disabled] .navbar-default .btn-link:hover,
.navbar-default .btn-link[disabled]:focus,
fieldset[disabled] .navbar-default .btn-link:focus {
  color: #ccc;
}
.navbar-inverse {
  background-color: #222;
  border-color: #080808;
}
.navbar-inverse .navbar-brand {
  color: #9d9d9d;
}
.navbar-inverse .navbar-brand:hover,
.navbar-inverse .navbar-brand:focus {
  color: #fff;
  background-color: transparent;
}
.navbar-inverse .navbar-text {
  color: #9d9d9d;
}
.navbar-inverse .navbar-nav > li > a {
  color: #9d9d9d;
}
.navbar-inverse .navbar-nav > li > a:hover,
.navbar-inverse .navbar-nav > li > a:focus {
  color: #fff;
  background-color: transparent;
}
.navbar-inverse .navbar-nav > .active > a,
.navbar-inverse .navbar-nav > .active > a:hover,
.navbar-inverse .navbar-nav > .active > a:focus {
  color: #fff;
  background-color: #080808;
}
.navbar-inverse .navbar-nav > .disabled > a,
.navbar-inverse .navbar-nav > .disabled > a:hover,
.navbar-inverse .navbar-nav > .disabled > a:focus {
  color: #444;
  background-color: transparent;
}
.navbar-inverse .navbar-toggle {
  border-color: #333;
}
.navbar-inverse .navbar-toggle:hover,
.navbar-inverse .navbar-toggle:focus {
  background-color: #333;
}
.navbar-inverse .navbar-toggle .icon-bar {
  background-color: #fff;
}
.navbar-inverse .navbar-collapse,
.navbar-inverse .navbar-form {
  border-color: #101010;
}
.navbar-inverse .navbar-nav > .open > a,
.navbar-inverse .navbar-nav > .open > a:hover,
.navbar-inverse .navbar-nav > .open > a:focus {
  background-color: #080808;
  color: #fff;
}
@media (max-width: 540px) {
  .navbar-inverse .navbar-nav .open .dropdown-menu > .dropdown-header {
    border-color: #080808;
  }
  .navbar-inverse .navbar-nav .open .dropdown-menu .divider {
    background-color: #080808;
  }
  .navbar-inverse .navbar-nav .open .dropdown-menu > li > a {
    color: #9d9d9d;
  }
  .navbar-inverse .navbar-nav .open .dropdown-menu > li > a:hover,
  .navbar-inverse .navbar-nav .open .dropdown-menu > li > a:focus {
    color: #fff;
    background-color: transparent;
  }
  .navbar-inverse .navbar-nav .open .dropdown-menu > .active > a,
  .navbar-inverse .navbar-nav .open .dropdown-menu > .active > a:hover,
  .navbar-inverse .navbar-nav .open .dropdown-menu > .active > a:focus {
    color: #fff;
    background-color: #080808;
  }
  .navbar-inverse .navbar-nav .open .dropdown-menu > .disabled > a,
  .navbar-inverse .navbar-nav .open .dropdown-menu > .disabled > a:hover,
  .navbar-inverse .navbar-nav .open .dropdown-menu > .disabled > a:focus {
    color: #444;
    background-color: transparent;
  }
}
.navbar-inverse .navbar-link {
  color: #9d9d9d;
}
.navbar-inverse .navbar-link:hover {
  color: #fff;
}
.navbar-inverse .btn-link {
  color: #9d9d9d;
}
.navbar-inverse .btn-link:hover,
.navbar-inverse .btn-link:focus {
  color: #fff;
}
.navbar-inverse .btn-link[disabled]:hover,
fieldset[disabled] .navbar-inverse .btn-link:hover,
.navbar-inverse .btn-link[disabled]:focus,
fieldset[disabled] .navbar-inverse .btn-link:focus {
  color: #444;
}
.breadcrumb {
  padding: 8px 15px;
  margin-bottom: 18px;
  list-style: none;
  background-color: #f5f5f5;
  border-radius: 2px;
}
.breadcrumb > li {
  display: inline-block;
}
.breadcrumb > li + li:before {
  content: "/\00a0";
  padding: 0 5px;
  color: #5e5e5e;
}
.breadcrumb > .active {
  color: #777777;
}
.pagination {
  display: inline-block;
  padding-left: 0;
  margin: 18px 0;
  border-radius: 2px;
}
.pagination > li {
  display: inline;
}
.pagination > li > a,
.pagination > li > span {
  position: relative;
  float: left;
  padding: 6px 12px;
  line-height: 1.42857143;
  text-decoration: none;
  color: #337ab7;
  background-color: #fff;
  border: 1px solid #ddd;
  margin-left: -1px;
}
.pagination > li:first-child > a,
.pagination > li:first-child > span {
  margin-left: 0;
  border-bottom-left-radius: 2px;
  border-top-left-radius: 2px;
}
.pagination > li:last-child > a,
.pagination > li:last-child > span {
  border-bottom-right-radius: 2px;
  border-top-right-radius: 2px;
}
.pagination > li > a:hover,
.pagination > li > span:hover,
.pagination > li > a:focus,
.pagination > li > span:focus {
  z-index: 2;
  color: #23527c;
  background-color: #eeeeee;
  border-color: #ddd;
}
.pagination > .active > a,
.pagination > .active > span,
.pagination > .active > a:hover,
.pagination > .active > span:hover,
.pagination > .active > a:focus,
.pagination > .active > span:focus {
  z-index: 3;
  color: #fff;
  background-color: #337ab7;
  border-color: #337ab7;
  cursor: default;
}
.pagination > .disabled > span,
.pagination > .disabled > span:hover,
.pagination > .disabled > span:focus,
.pagination > .disabled > a,
.pagination > .disabled > a:hover,
.pagination > .disabled > a:focus {
  color: #777777;
  background-color: #fff;
  border-color: #ddd;
  cursor: not-allowed;
}
.pagination-lg > li > a,
.pagination-lg > li > span {
  padding: 10px 16px;
  font-size: 17px;
  line-height: 1.3333333;
}
.pagination-lg > li:first-child > a,
.pagination-lg > li:first-child > span {
  border-bottom-left-radius: 3px;
  border-top-left-radius: 3px;
}
.pagination-lg > li:last-child > a,
.pagination-lg > li:last-child > span {
  border-bottom-right-radius: 3px;
  border-top-right-radius: 3px;
}
.pagination-sm > li > a,
.pagination-sm > li > span {
  padding: 5px 10px;
  font-size: 12px;
  line-height: 1.5;
}
.pagination-sm > li:first-child > a,
.pagination-sm > li:first-child > span {
  border-bottom-left-radius: 1px;
  border-top-left-radius: 1px;
}
.pagination-sm > li:last-child > a,
.pagination-sm > li:last-child > span {
  border-bottom-right-radius: 1px;
  border-top-right-radius: 1px;
}
.pager {
  padding-left: 0;
  margin: 18px 0;
  list-style: none;
  text-align: center;
}
.pager li {
  display: inline;
}
.pager li > a,
.pager li > span {
  display: inline-block;
  padding: 5px 14px;
  background-color: #fff;
  border: 1px solid #ddd;
  border-radius: 15px;
}
.pager li > a:hover,
.pager li > a:focus {
  text-decoration: none;
  background-color: #eeeeee;
}
.pager .next > a,
.pager .next > span {
  float: right;
}
.pager .previous > a,
.pager .previous > span {
  float: left;
}
.pager .disabled > a,
.pager .disabled > a:hover,
.pager .disabled > a:focus,
.pager .disabled > span {
  color: #777777;
  background-color: #fff;
  cursor: not-allowed;
}
.label {
  display: inline;
  padding: .2em .6em .3em;
  font-size: 75%;
  font-weight: bold;
  line-height: 1;
  color: #fff;
  text-align: center;
  white-space: nowrap;
  vertical-align: baseline;
  border-radius: .25em;
}
a.label:hover,
a.label:focus {
  color: #fff;
  text-decoration: none;
  cursor: pointer;
}
.label:empty {
  display: none;
}
.btn .label {
  position: relative;
  top: -1px;
}
.label-default {
  background-color: #777777;
}
.label-default[href]:hover,
.label-default[href]:focus {
  background-color: #5e5e5e;
}
.label-primary {
  background-color: #337ab7;
}
.label-primary[href]:hover,
.label-primary[href]:focus {
  background-color: #286090;
}
.label-success {
  background-color: #5cb85c;
}
.label-success[href]:hover,
.label-success[href]:focus {
  background-color: #449d44;
}
.label-info {
  background-color: #5bc0de;
}
.label-info[href]:hover,
.label-info[href]:focus {
  background-color: #31b0d5;
}
.label-warning {
  background-color: #f0ad4e;
}
.label-warning[href]:hover,
.label-warning[href]:focus {
  background-color: #ec971f;
}
.label-danger {
  background-color: #d9534f;
}
.label-danger[href]:hover,
.label-danger[href]:focus {
  background-color: #c9302c;
}
.badge {
  display: inline-block;
  min-width: 10px;
  padding: 3px 7px;
  font-size: 12px;
  font-weight: bold;
  color: #fff;
  line-height: 1;
  vertical-align: middle;
  white-space: nowrap;
  text-align: center;
  background-color: #777777;
  border-radius: 10px;
}
.badge:empty {
  display: none;
}
.btn .badge {
  position: relative;
  top: -1px;
}
.btn-xs .badge,
.btn-group-xs > .btn .badge {
  top: 0;
  padding: 1px 5px;
}
a.badge:hover,
a.badge:focus {
  color: #fff;
  text-decoration: none;
  cursor: pointer;
}
.list-group-item.active > .badge,
.nav-pills > .active > a > .badge {
  color: #337ab7;
  background-color: #fff;
}
.list-group-item > .badge {
  float: right;
}
.list-group-item > .badge + .badge {
  margin-right: 5px;
}
.nav-pills > li > a > .badge {
  margin-left: 3px;
}
.jumbotron {
  padding-top: 30px;
  padding-bottom: 30px;
  margin-bottom: 30px;
  color: inherit;
  background-color: #eeeeee;
}
.jumbotron h1,
.jumbotron .h1 {
  color: inherit;
}
.jumbotron p {
  margin-bottom: 15px;
  font-size: 20px;
  font-weight: 200;
}
.jumbotron > hr {
  border-top-color: #d5d5d5;
}
.container .jumbotron,
.container-fluid .jumbotron {
  border-radius: 3px;
  padding-left: 0px;
  padding-right: 0px;
}
.jumbotron .container {
  max-width: 100%;
}
@media screen and (min-width: 768px) {
  .jumbotron {
    padding-top: 48px;
    padding-bottom: 48px;
  }
  .container .jumbotron,
  .container-fluid .jumbotron {
    padding-left: 60px;
    padding-right: 60px;
  }
  .jumbotron h1,
  .jumbotron .h1 {
    font-size: 59px;
  }
}
.thumbnail {
  display: block;
  padding: 4px;
  margin-bottom: 18px;
  line-height: 1.42857143;
  background-color: #fff;
  border: 1px solid #ddd;
  border-radius: 2px;
  -webkit-transition: border 0.2s ease-in-out;
  -o-transition: border 0.2s ease-in-out;
  transition: border 0.2s ease-in-out;
}
.thumbnail > img,
.thumbnail a > img {
  margin-left: auto;
  margin-right: auto;
}
a.thumbnail:hover,
a.thumbnail:focus,
a.thumbnail.active {
  border-color: #337ab7;
}
.thumbnail .caption {
  padding: 9px;
  color: #000;
}
.alert {
  padding: 15px;
  margin-bottom: 18px;
  border: 1px solid transparent;
  border-radius: 2px;
}
.alert h4 {
  margin-top: 0;
  color: inherit;
}
.alert .alert-link {
  font-weight: bold;
}
.alert > p,
.alert > ul {
  margin-bottom: 0;
}
.alert > p + p {
  margin-top: 5px;
}
.alert-dismissable,
.alert-dismissible {
  padding-right: 35px;
}
.alert-dismissable .close,
.alert-dismissible .close {
  position: relative;
  top: -2px;
  right: -21px;
  color: inherit;
}
.alert-success {
  background-color: #dff0d8;
  border-color: #d6e9c6;
  color: #3c763d;
}
.alert-success hr {
  border-top-color: #c9e2b3;
}
.alert-success .alert-link {
  color: #2b542c;
}
.alert-info {
  background-color: #d9edf7;
  border-color: #bce8f1;
  color: #31708f;
}
.alert-info hr {
  border-top-color: #a6e1ec;
}
.alert-info .alert-link {
  color: #245269;
}
.alert-warning {
  background-color: #fcf8e3;
  border-color: #faebcc;
  color: #8a6d3b;
}
.alert-warning hr {
  border-top-color: #f7e1b5;
}
.alert-warning .alert-link {
  color: #66512c;
}
.alert-danger {
  background-color: #f2dede;
  border-color: #ebccd1;
  color: #a94442;
}
.alert-danger hr {
  border-top-color: #e4b9c0;
}
.alert-danger .alert-link {
  color: #843534;
}
@-webkit-keyframes progress-bar-stripes {
  from {
    background-position: 40px 0;
  }
  to {
    background-position: 0 0;
  }
}
@keyframes progress-bar-stripes {
  from {
    background-position: 40px 0;
  }
  to {
    background-position: 0 0;
  }
}
.progress {
  overflow: hidden;
  height: 18px;
  margin-bottom: 18px;
  background-color: #f5f5f5;
  border-radius: 2px;
  -webkit-box-shadow: inset 0 1px 2px rgba(0, 0, 0, 0.1);
  box-shadow: inset 0 1px 2px rgba(0, 0, 0, 0.1);
}
.progress-bar {
  float: left;
  width: 0%;
  height: 100%;
  font-size: 12px;
  line-height: 18px;
  color: #fff;
  text-align: center;
  background-color: #337ab7;
  -webkit-box-shadow: inset 0 -1px 0 rgba(0, 0, 0, 0.15);
  box-shadow: inset 0 -1px 0 rgba(0, 0, 0, 0.15);
  -webkit-transition: width 0.6s ease;
  -o-transition: width 0.6s ease;
  transition: width 0.6s ease;
}
.progress-striped .progress-bar,
.progress-bar-striped {
  background-image: -webkit-linear-gradient(45deg, rgba(255, 255, 255, 0.15) 25%, transparent 25%, transparent 50%, rgba(255, 255, 255, 0.15) 50%, rgba(255, 255, 255, 0.15) 75%, transparent 75%, transparent);
  background-image: -o-linear-gradient(45deg, rgba(255, 255, 255, 0.15) 25%, transparent 25%, transparent 50%, rgba(255, 255, 255, 0.15) 50%, rgba(255, 255, 255, 0.15) 75%, transparent 75%, transparent);
  background-image: linear-gradient(45deg, rgba(255, 255, 255, 0.15) 25%, transparent 25%, transparent 50%, rgba(255, 255, 255, 0.15) 50%, rgba(255, 255, 255, 0.15) 75%, transparent 75%, transparent);
  background-size: 40px 40px;
}
.progress.active .progress-bar,
.progress-bar.active {
  -webkit-animation: progress-bar-stripes 2s linear infinite;
  -o-animation: progress-bar-stripes 2s linear infinite;
  animation: progress-bar-stripes 2s linear infinite;
}
.progress-bar-success {
  background-color: #5cb85c;
}
.progress-striped .progress-bar-success {
  background-image: -webkit-linear-gradient(45deg, rgba(255, 255, 255, 0.15) 25%, transparent 25%, transparent 50%, rgba(255, 255, 255, 0.15) 50%, rgba(255, 255, 255, 0.15) 75%, transparent 75%, transparent);
  background-image: -o-linear-gradient(45deg, rgba(255, 255, 255, 0.15) 25%, transparent 25%, transparent 50%, rgba(255, 255, 255, 0.15) 50%, rgba(255, 255, 255, 0.15) 75%, transparent 75%, transparent);
  background-image: linear-gradient(45deg, rgba(255, 255, 255, 0.15) 25%, transparent 25%, transparent 50%, rgba(255, 255, 255, 0.15) 50%, rgba(255, 255, 255, 0.15) 75%, transparent 75%, transparent);
}
.progress-bar-info {
  background-color: #5bc0de;
}
.progress-striped .progress-bar-info {
  background-image: -webkit-linear-gradient(45deg, rgba(255, 255, 255, 0.15) 25%, transparent 25%, transparent 50%, rgba(255, 255, 255, 0.15) 50%, rgba(255, 255, 255, 0.15) 75%, transparent 75%, transparent);
  background-image: -o-linear-gradient(45deg, rgba(255, 255, 255, 0.15) 25%, transparent 25%, transparent 50%, rgba(255, 255, 255, 0.15) 50%, rgba(255, 255, 255, 0.15) 75%, transparent 75%, transparent);
  background-image: linear-gradient(45deg, rgba(255, 255, 255, 0.15) 25%, transparent 25%, transparent 50%, rgba(255, 255, 255, 0.15) 50%, rgba(255, 255, 255, 0.15) 75%, transparent 75%, transparent);
}
.progress-bar-warning {
  background-color: #f0ad4e;
}
.progress-striped .progress-bar-warning {
  background-image: -webkit-linear-gradient(45deg, rgba(255, 255, 255, 0.15) 25%, transparent 25%, transparent 50%, rgba(255, 255, 255, 0.15) 50%, rgba(255, 255, 255, 0.15) 75%, transparent 75%, transparent);
  background-image: -o-linear-gradient(45deg, rgba(255, 255, 255, 0.15) 25%, transparent 25%, transparent 50%, rgba(255, 255, 255, 0.15) 50%, rgba(255, 255, 255, 0.15) 75%, transparent 75%, transparent);
  background-image: linear-gradient(45deg, rgba(255, 255, 255, 0.15) 25%, transparent 25%, transparent 50%, rgba(255, 255, 255, 0.15) 50%, rgba(255, 255, 255, 0.15) 75%, transparent 75%, transparent);
}
.progress-bar-danger {
  background-color: #d9534f;
}
.progress-striped .progress-bar-danger {
  background-image: -webkit-linear-gradient(45deg, rgba(255, 255, 255, 0.15) 25%, transparent 25%, transparent 50%, rgba(255, 255, 255, 0.15) 50%, rgba(255, 255, 255, 0.15) 75%, transparent 75%, transparent);
  background-image: -o-linear-gradient(45deg, rgba(255, 255, 255, 0.15) 25%, transparent 25%, transparent 50%, rgba(255, 255, 255, 0.15) 50%, rgba(255, 255, 255, 0.15) 75%, transparent 75%, transparent);
  background-image: linear-gradient(45deg, rgba(255, 255, 255, 0.15) 25%, transparent 25%, transparent 50%, rgba(255, 255, 255, 0.15) 50%, rgba(255, 255, 255, 0.15) 75%, transparent 75%, transparent);
}
.media {
  margin-top: 15px;
}
.media:first-child {
  margin-top: 0;
}
.media,
.media-body {
  zoom: 1;
  overflow: hidden;
}
.media-body {
  width: 10000px;
}
.media-object {
  display: block;
}
.media-object.img-thumbnail {
  max-width: none;
}
.media-right,
.media > .pull-right {
  padding-left: 10px;
}
.media-left,
.media > .pull-left {
  padding-right: 10px;
}
.media-left,
.media-right,
.media-body {
  display: table-cell;
  vertical-align: top;
}
.media-middle {
  vertical-align: middle;
}
.media-bottom {
  vertical-align: bottom;
}
.media-heading {
  margin-top: 0;
  margin-bottom: 5px;
}
.media-list {
  padding-left: 0;
  list-style: none;
}
.list-group {
  margin-bottom: 20px;
  padding-left: 0;
}
.list-group-item {
  position: relative;
  display: block;
  padding: 10px 15px;
  margin-bottom: -1px;
  background-color: #fff;
  border: 1px solid #ddd;
}
.list-group-item:first-child {
  border-top-right-radius: 2px;
  border-top-left-radius: 2px;
}
.list-group-item:last-child {
  margin-bottom: 0;
  border-bottom-right-radius: 2px;
  border-bottom-left-radius: 2px;
}
a.list-group-item,
button.list-group-item {
  color: #555;
}
a.list-group-item .list-group-item-heading,
button.list-group-item .list-group-item-heading {
  color: #333;
}
a.list-group-item:hover,
button.list-group-item:hover,
a.list-group-item:focus,
button.list-group-item:focus {
  text-decoration: none;
  color: #555;
  background-color: #f5f5f5;
}
button.list-group-item {
  width: 100%;
  text-align: left;
}
.list-group-item.disabled,
.list-group-item.disabled:hover,
.list-group-item.disabled:focus {
  background-color: #eeeeee;
  color: #777777;
  cursor: not-allowed;
}
.list-group-item.disabled .list-group-item-heading,
.list-group-item.disabled:hover .list-group-item-heading,
.list-group-item.disabled:focus .list-group-item-heading {
  color: inherit;
}
.list-group-item.disabled .list-group-item-text,
.list-group-item.disabled:hover .list-group-item-text,
.list-group-item.disabled:focus .list-group-item-text {
  color: #777777;
}
.list-group-item.active,
.list-group-item.active:hover,
.list-group-item.active:focus {
  z-index: 2;
  color: #fff;
  background-color: #337ab7;
  border-color: #337ab7;
}
.list-group-item.active .list-group-item-heading,
.list-group-item.active:hover .list-group-item-heading,
.list-group-item.active:focus .list-group-item-heading,
.list-group-item.active .list-group-item-heading > small,
.list-group-item.active:hover .list-group-item-heading > small,
.list-group-item.active:focus .list-group-item-heading > small,
.list-group-item.active .list-group-item-heading > .small,
.list-group-item.active:hover .list-group-item-heading > .small,
.list-group-item.active:focus .list-group-item-heading > .small {
  color: inherit;
}
.list-group-item.active .list-group-item-text,
.list-group-item.active:hover .list-group-item-text,
.list-group-item.active:focus .list-group-item-text {
  color: #c7ddef;
}
.list-group-item-success {
  color: #3c763d;
  background-color: #dff0d8;
}
a.list-group-item-success,
button.list-group-item-success {
  color: #3c763d;
}
a.list-group-item-success .list-group-item-heading,
button.list-group-item-success .list-group-item-heading {
  color: inherit;
}
a.list-group-item-success:hover,
button.list-group-item-success:hover,
a.list-group-item-success:focus,
button.list-group-item-success:focus {
  color: #3c763d;
  background-color: #d0e9c6;
}
a.list-group-item-success.active,
button.list-group-item-success.active,
a.list-group-item-success.active:hover,
button.list-group-item-success.active:hover,
a.list-group-item-success.active:focus,
button.list-group-item-success.active:focus {
  color: #fff;
  background-color: #3c763d;
  border-color: #3c763d;
}
.list-group-item-info {
  color: #31708f;
  background-color: #d9edf7;
}
a.list-group-item-info,
button.list-group-item-info {
  color: #31708f;
}
a.list-group-item-info .list-group-item-heading,
button.list-group-item-info .list-group-item-heading {
  color: inherit;
}
a.list-group-item-info:hover,
button.list-group-item-info:hover,
a.list-group-item-info:focus,
button.list-group-item-info:focus {
  color: #31708f;
  background-color: #c4e3f3;
}
a.list-group-item-info.active,
button.list-group-item-info.active,
a.list-group-item-info.active:hover,
button.list-group-item-info.active:hover,
a.list-group-item-info.active:focus,
button.list-group-item-info.active:focus {
  color: #fff;
  background-color: #31708f;
  border-color: #31708f;
}
.list-group-item-warning {
  color: #8a6d3b;
  background-color: #fcf8e3;
}
a.list-group-item-warning,
button.list-group-item-warning {
  color: #8a6d3b;
}
a.list-group-item-warning .list-group-item-heading,
button.list-group-item-warning .list-group-item-heading {
  color: inherit;
}
a.list-group-item-warning:hover,
button.list-group-item-warning:hover,
a.list-group-item-warning:focus,
button.list-group-item-warning:focus {
  color: #8a6d3b;
  background-color: #faf2cc;
}
a.list-group-item-warning.active,
button.list-group-item-warning.active,
a.list-group-item-warning.active:hover,
button.list-group-item-warning.active:hover,
a.list-group-item-warning.active:focus,
button.list-group-item-warning.active:focus {
  color: #fff;
  background-color: #8a6d3b;
  border-color: #8a6d3b;
}
.list-group-item-danger {
  color: #a94442;
  background-color: #f2dede;
}
a.list-group-item-danger,
button.list-group-item-danger {
  color: #a94442;
}
a.list-group-item-danger .list-group-item-heading,
button.list-group-item-danger .list-group-item-heading {
  color: inherit;
}
a.list-group-item-danger:hover,
button.list-group-item-danger:hover,
a.list-group-item-danger:focus,
button.list-group-item-danger:focus {
  color: #a94442;
  background-color: #ebcccc;
}
a.list-group-item-danger.active,
button.list-group-item-danger.active,
a.list-group-item-danger.active:hover,
button.list-group-item-danger.active:hover,
a.list-group-item-danger.active:focus,
button.list-group-item-danger.active:focus {
  color: #fff;
  background-color: #a94442;
  border-color: #a94442;
}
.list-group-item-heading {
  margin-top: 0;
  margin-bottom: 5px;
}
.list-group-item-text {
  margin-bottom: 0;
  line-height: 1.3;
}
.panel {
  margin-bottom: 18px;
  background-color: #fff;
  border: 1px solid transparent;
  border-radius: 2px;
  -webkit-box-shadow: 0 1px 1px rgba(0, 0, 0, 0.05);
  box-shadow: 0 1px 1px rgba(0, 0, 0, 0.05);
}
.panel-body {
  padding: 15px;
}
.panel-heading {
  padding: 10px 15px;
  border-bottom: 1px solid transparent;
  border-top-right-radius: 1px;
  border-top-left-radius: 1px;
}
.panel-heading > .dropdown .dropdown-toggle {
  color: inherit;
}
.panel-title {
  margin-top: 0;
  margin-bottom: 0;
  font-size: 15px;
  color: inherit;
}
.panel-title > a,
.panel-title > small,
.panel-title > .small,
.panel-title > small > a,
.panel-title > .small > a {
  color: inherit;
}
.panel-footer {
  padding: 10px 15px;
  background-color: #f5f5f5;
  border-top: 1px solid #ddd;
  border-bottom-right-radius: 1px;
  border-bottom-left-radius: 1px;
}
.panel > .list-group,
.panel > .panel-collapse > .list-group {
  margin-bottom: 0;
}
.panel > .list-group .list-group-item,
.panel > .panel-collapse > .list-group .list-group-item {
  border-width: 1px 0;
  border-radius: 0;
}
.panel > .list-group:first-child .list-group-item:first-child,
.panel > .panel-collapse > .list-group:first-child .list-group-item:first-child {
  border-top: 0;
  border-top-right-radius: 1px;
  border-top-left-radius: 1px;
}
.panel > .list-group:last-child .list-group-item:last-child,
.panel > .panel-collapse > .list-group:last-child .list-group-item:last-child {
  border-bottom: 0;
  border-bottom-right-radius: 1px;
  border-bottom-left-radius: 1px;
}
.panel > .panel-heading + .panel-collapse > .list-group .list-group-item:first-child {
  border-top-right-radius: 0;
  border-top-left-radius: 0;
}
.panel-heading + .list-group .list-group-item:first-child {
  border-top-width: 0;
}
.list-group + .panel-footer {
  border-top-width: 0;
}
.panel > .table,
.panel > .table-responsive > .table,
.panel > .panel-collapse > .table {
  margin-bottom: 0;
}
.panel > .table caption,
.panel > .table-responsive > .table caption,
.panel > .panel-collapse > .table caption {
  padding-left: 15px;
  padding-right: 15px;
}
.panel > .table:first-child,
.panel > .table-responsive:first-child > .table:first-child {
  border-top-right-radius: 1px;
  border-top-left-radius: 1px;
}
.panel > .table:first-child > thead:first-child > tr:first-child,
.panel > .table-responsive:first-child > .table:first-child > thead:first-child > tr:first-child,
.panel > .table:first-child > tbody:first-child > tr:first-child,
.panel > .table-responsive:first-child > .table:first-child > tbody:first-child > tr:first-child {
  border-top-left-radius: 1px;
  border-top-right-radius: 1px;
}
.panel > .table:first-child > thead:first-child > tr:first-child td:first-child,
.panel > .table-responsive:first-child > .table:first-child > thead:first-child > tr:first-child td:first-child,
.panel > .table:first-child > tbody:first-child > tr:first-child td:first-child,
.panel > .table-responsive:first-child > .table:first-child > tbody:first-child > tr:first-child td:first-child,
.panel > .table:first-child > thead:first-child > tr:first-child th:first-child,
.panel > .table-responsive:first-child > .table:first-child > thead:first-child > tr:first-child th:first-child,
.panel > .table:first-child > tbody:first-child > tr:first-child th:first-child,
.panel > .table-responsive:first-child > .table:first-child > tbody:first-child > tr:first-child th:first-child {
  border-top-left-radius: 1px;
}
.panel > .table:first-child > thead:first-child > tr:first-child td:last-child,
.panel > .table-responsive:first-child > .table:first-child > thead:first-child > tr:first-child td:last-child,
.panel > .table:first-child > tbody:first-child > tr:first-child td:last-child,
.panel > .table-responsive:first-child > .table:first-child > tbody:first-child > tr:first-child td:last-child,
.panel > .table:first-child > thead:first-child > tr:first-child th:last-child,
.panel > .table-responsive:first-child > .table:first-child > thead:first-child > tr:first-child th:last-child,
.panel > .table:first-child > tbody:first-child > tr:first-child th:last-child,
.panel > .table-responsive:first-child > .table:first-child > tbody:first-child > tr:first-child th:last-child {
  border-top-right-radius: 1px;
}
.panel > .table:last-child,
.panel > .table-responsive:last-child > .table:last-child {
  border-bottom-right-radius: 1px;
  border-bottom-left-radius: 1px;
}
.panel > .table:last-child > tbody:last-child > tr:last-child,
.panel > .table-responsive:last-child > .table:last-child > tbody:last-child > tr:last-child,
.panel > .table:last-child > tfoot:last-child > tr:last-child,
.panel > .table-responsive:last-child > .table:last-child > tfoot:last-child > tr:last-child {
  border-bottom-left-radius: 1px;
  border-bottom-right-radius: 1px;
}
.panel > .table:last-child > tbody:last-child > tr:last-child td:first-child,
.panel > .table-responsive:last-child > .table:last-child > tbody:last-child > tr:last-child td:first-child,
.panel > .table:last-child > tfoot:last-child > tr:last-child td:first-child,
.panel > .table-responsive:last-child > .table:last-child > tfoot:last-child > tr:last-child td:first-child,
.panel > .table:last-child > tbody:last-child > tr:last-child th:first-child,
.panel > .table-responsive:last-child > .table:last-child > tbody:last-child > tr:last-child th:first-child,
.panel > .table:last-child > tfoot:last-child > tr:last-child th:first-child,
.panel > .table-responsive:last-child > .table:last-child > tfoot:last-child > tr:last-child th:first-child {
  border-bottom-left-radius: 1px;
}
.panel > .table:last-child > tbody:last-child > tr:last-child td:last-child,
.panel > .table-responsive:last-child > .table:last-child > tbody:last-child > tr:last-child td:last-child,
.panel > .table:last-child > tfoot:last-child > tr:last-child td:last-child,
.panel > .table-responsive:last-child > .table:last-child > tfoot:last-child > tr:last-child td:last-child,
.panel > .table:last-child > tbody:last-child > tr:last-child th:last-child,
.panel > .table-responsive:last-child > .table:last-child > tbody:last-child > tr:last-child th:last-child,
.panel > .table:last-child > tfoot:last-child > tr:last-child th:last-child,
.panel > .table-responsive:last-child > .table:last-child > tfoot:last-child > tr:last-child th:last-child {
  border-bottom-right-radius: 1px;
}
.panel > .panel-body + .table,
.panel > .panel-body + .table-responsive,
.panel > .table + .panel-body,
.panel > .table-responsive + .panel-body {
  border-top: 1px solid #ddd;
}
.panel > .table > tbody:first-child > tr:first-child th,
.panel > .table > tbody:first-child > tr:first-child td {
  border-top: 0;
}
.panel > .table-bordered,
.panel > .table-responsive > .table-bordered {
  border: 0;
}
.panel > .table-bordered > thead > tr > th:first-child,
.panel > .table-responsive > .table-bordered > thead > tr > th:first-child,
.panel > .table-bordered > tbody > tr > th:first-child,
.panel > .table-responsive > .table-bordered > tbody > tr > th:first-child,
.panel > .table-bordered > tfoot > tr > th:first-child,
.panel > .table-responsive > .table-bordered > tfoot > tr > th:first-child,
.panel > .table-bordered > thead > tr > td:first-child,
.panel > .table-responsive > .table-bordered > thead > tr > td:first-child,
.panel > .table-bordered > tbody > tr > td:first-child,
.panel > .table-responsive > .table-bordered > tbody > tr > td:first-child,
.panel > .table-bordered > tfoot > tr > td:first-child,
.panel > .table-responsive > .table-bordered > tfoot > tr > td:first-child {
  border-left: 0;
}
.panel > .table-bordered > thead > tr > th:last-child,
.panel > .table-responsive > .table-bordered > thead > tr > th:last-child,
.panel > .table-bordered > tbody > tr > th:last-child,
.panel > .table-responsive > .table-bordered > tbody > tr > th:last-child,
.panel > .table-bordered > tfoot > tr > th:last-child,
.panel > .table-responsive > .table-bordered > tfoot > tr > th:last-child,
.panel > .table-bordered > thead > tr > td:last-child,
.panel > .table-responsive > .table-bordered > thead > tr > td:last-child,
.panel > .table-bordered > tbody > tr > td:last-child,
.panel > .table-responsive > .table-bordered > tbody > tr > td:last-child,
.panel > .table-bordered > tfoot > tr > td:last-child,
.panel > .table-responsive > .table-bordered > tfoot > tr > td:last-child {
  border-right: 0;
}
.panel > .table-bordered > thead > tr:first-child > td,
.panel > .table-responsive > .table-bordered > thead > tr:first-child > td,
.panel > .table-bordered > tbody > tr:first-child > td,
.panel > .table-responsive > .table-bordered > tbody > tr:first-child > td,
.panel > .table-bordered > thead > tr:first-child > th,
.panel > .table-responsive > .table-bordered > thead > tr:first-child > th,
.panel > .table-bordered > tbody > tr:first-child > th,
.panel > .table-responsive > .table-bordered > tbody > tr:first-child > th {
  border-bottom: 0;
}
.panel > .table-bordered > tbody > tr:last-child > td,
.panel > .table-responsive > .table-bordered > tbody > tr:last-child > td,
.panel > .table-bordered > tfoot > tr:last-child > td,
.panel > .table-responsive > .table-bordered > tfoot > tr:last-child > td,
.panel > .table-bordered > tbody > tr:last-child > th,
.panel > .table-responsive > .table-bordered > tbody > tr:last-child > th,
.panel > .table-bordered > tfoot > tr:last-child > th,
.panel > .table-responsive > .table-bordered > tfoot > tr:last-child > th {
  border-bottom: 0;
}
.panel > .table-responsive {
  border: 0;
  margin-bottom: 0;
}
.panel-group {
  margin-bottom: 18px;
}
.panel-group .panel {
  margin-bottom: 0;
  border-radius: 2px;
}
.panel-group .panel + .panel {
  margin-top: 5px;
}
.panel-group .panel-heading {
  border-bottom: 0;
}
.panel-group .panel-heading + .panel-collapse > .panel-body,
.panel-group .panel-heading + .panel-collapse > .list-group {
  border-top: 1px solid #ddd;
}
.panel-group .panel-footer {
  border-top: 0;
}
.panel-group .panel-footer + .panel-collapse .panel-body {
  border-bottom: 1px solid #ddd;
}
.panel-default {
  border-color: #ddd;
}
.panel-default > .panel-heading {
  color: #333333;
  background-color: #f5f5f5;
  border-color: #ddd;
}
.panel-default > .panel-heading + .panel-collapse > .panel-body {
  border-top-color: #ddd;
}
.panel-default > .panel-heading .badge {
  color: #f5f5f5;
  background-color: #333333;
}
.panel-default > .panel-footer + .panel-collapse > .panel-body {
  border-bottom-color: #ddd;
}
.panel-primary {
  border-color: #337ab7;
}
.panel-primary > .panel-heading {
  color: #fff;
  background-color: #337ab7;
  border-color: #337ab7;
}
.panel-primary > .panel-heading + .panel-collapse > .panel-body {
  border-top-color: #337ab7;
}
.panel-primary > .panel-heading .badge {
  color: #337ab7;
  background-color: #fff;
}
.panel-primary > .panel-footer + .panel-collapse > .panel-body {
  border-bottom-color: #337ab7;
}
.panel-success {
  border-color: #d6e9c6;
}
.panel-success > .panel-heading {
  color: #3c763d;
  background-color: #dff0d8;
  border-color: #d6e9c6;
}
.panel-success > .panel-heading + .panel-collapse > .panel-body {
  border-top-color: #d6e9c6;
}
.panel-success > .panel-heading .badge {
  color: #dff0d8;
  background-color: #3c763d;
}
.panel-success > .panel-footer + .panel-collapse > .panel-body {
  border-bottom-color: #d6e9c6;
}
.panel-info {
  border-color: #bce8f1;
}
.panel-info > .panel-heading {
  color: #31708f;
  background-color: #d9edf7;
  border-color: #bce8f1;
}
.panel-info > .panel-heading + .panel-collapse > .panel-body {
  border-top-color: #bce8f1;
}
.panel-info > .panel-heading .badge {
  color: #d9edf7;
  background-color: #31708f;
}
.panel-info > .panel-footer + .panel-collapse > .panel-body {
  border-bottom-color: #bce8f1;
}
.panel-warning {
  border-color: #faebcc;
}
.panel-warning > .panel-heading {
  color: #8a6d3b;
  background-color: #fcf8e3;
  border-color: #faebcc;
}
.panel-warning > .panel-heading + .panel-collapse > .panel-body {
  border-top-color: #faebcc;
}
.panel-warning > .panel-heading .badge {
  color: #fcf8e3;
  background-color: #8a6d3b;
}
.panel-warning > .panel-footer + .panel-collapse > .panel-body {
  border-bottom-color: #faebcc;
}
.panel-danger {
  border-color: #ebccd1;
}
.panel-danger > .panel-heading {
  color: #a94442;
  background-color: #f2dede;
  border-color: #ebccd1;
}
.panel-danger > .panel-heading + .panel-collapse > .panel-body {
  border-top-color: #ebccd1;
}
.panel-danger > .panel-heading .badge {
  color: #f2dede;
  background-color: #a94442;
}
.panel-danger > .panel-footer + .panel-collapse > .panel-body {
  border-bottom-color: #ebccd1;
}
.embed-responsive {
  position: relative;
  display: block;
  height: 0;
  padding: 0;
  overflow: hidden;
}
.embed-responsive .embed-responsive-item,
.embed-responsive iframe,
.embed-responsive embed,
.embed-responsive object,
.embed-responsive video {
  position: absolute;
  top: 0;
  left: 0;
  bottom: 0;
  height: 100%;
  width: 100%;
  border: 0;
}
.embed-responsive-16by9 {
  padding-bottom: 56.25%;
}
.embed-responsive-4by3 {
  padding-bottom: 75%;
}
.well {
  min-height: 20px;
  padding: 19px;
  margin-bottom: 20px;
  background-color: #f5f5f5;
  border: 1px solid #e3e3e3;
  border-radius: 2px;
  -webkit-box-shadow: inset 0 1px 1px rgba(0, 0, 0, 0.05);
  box-shadow: inset 0 1px 1px rgba(0, 0, 0, 0.05);
}
.well blockquote {
  border-color: #ddd;
  border-color: rgba(0, 0, 0, 0.15);
}
.well-lg {
  padding: 24px;
  border-radius: 3px;
}
.well-sm {
  padding: 9px;
  border-radius: 1px;
}
.close {
  float: right;
  font-size: 19.5px;
  font-weight: bold;
  line-height: 1;
  color: #000;
  text-shadow: 0 1px 0 #fff;
  opacity: 0.2;
  filter: alpha(opacity=20);
}
.close:hover,
.close:focus {
  color: #000;
  text-decoration: none;
  cursor: pointer;
  opacity: 0.5;
  filter: alpha(opacity=50);
}
button.close {
  padding: 0;
  cursor: pointer;
  background: transparent;
  border: 0;
  -webkit-appearance: none;
}
.modal-open {
  overflow: hidden;
}
.modal {
  display: none;
  overflow: hidden;
  position: fixed;
  top: 0;
  right: 0;
  bottom: 0;
  left: 0;
  z-index: 1050;
  -webkit-overflow-scrolling: touch;
  outline: 0;
}
.modal.fade .modal-dialog {
  -webkit-transform: translate(0, -25%);
  -ms-transform: translate(0, -25%);
  -o-transform: translate(0, -25%);
  transform: translate(0, -25%);
  -webkit-transition: -webkit-transform 0.3s ease-out;
  -moz-transition: -moz-transform 0.3s ease-out;
  -o-transition: -o-transform 0.3s ease-out;
  transition: transform 0.3s ease-out;
}
.modal.in .modal-dialog {
  -webkit-transform: translate(0, 0);
  -ms-transform: translate(0, 0);
  -o-transform: translate(0, 0);
  transform: translate(0, 0);
}
.modal-open .modal {
  overflow-x: hidden;
  overflow-y: auto;
}
.modal-dialog {
  position: relative;
  width: auto;
  margin: 10px;
}
.modal-content {
  position: relative;
  background-color: #fff;
  border: 1px solid #999;
  border: 1px solid rgba(0, 0, 0, 0.2);
  border-radius: 3px;
  -webkit-box-shadow: 0 3px 9px rgba(0, 0, 0, 0.5);
  box-shadow: 0 3px 9px rgba(0, 0, 0, 0.5);
  background-clip: padding-box;
  outline: 0;
}
.modal-backdrop {
  position: fixed;
  top: 0;
  right: 0;
  bottom: 0;
  left: 0;
  z-index: 1040;
  background-color: #000;
}
.modal-backdrop.fade {
  opacity: 0;
  filter: alpha(opacity=0);
}
.modal-backdrop.in {
  opacity: 0.5;
  filter: alpha(opacity=50);
}
.modal-header {
  padding: 15px;
  border-bottom: 1px solid #e5e5e5;
}
.modal-header .close {
  margin-top: -2px;
}
.modal-title {
  margin: 0;
  line-height: 1.42857143;
}
.modal-body {
  position: relative;
  padding: 15px;
}
.modal-footer {
  padding: 15px;
  text-align: right;
  border-top: 1px solid #e5e5e5;
}
.modal-footer .btn + .btn {
  margin-left: 5px;
  margin-bottom: 0;
}
.modal-footer .btn-group .btn + .btn {
  margin-left: -1px;
}
.modal-footer .btn-block + .btn-block {
  margin-left: 0;
}
.modal-scrollbar-measure {
  position: absolute;
  top: -9999px;
  width: 50px;
  height: 50px;
  overflow: scroll;
}
@media (min-width: 768px) {
  .modal-dialog {
    width: 600px;
    margin: 30px auto;
  }
  .modal-content {
    -webkit-box-shadow: 0 5px 15px rgba(0, 0, 0, 0.5);
    box-shadow: 0 5px 15px rgba(0, 0, 0, 0.5);
  }
  .modal-sm {
    width: 300px;
  }
}
@media (min-width: 992px) {
  .modal-lg {
    width: 900px;
  }
}
.tooltip {
  position: absolute;
  z-index: 1070;
  display: block;
  font-family: "Helvetica Neue", Helvetica, Arial, sans-serif;
  font-style: normal;
  font-weight: normal;
  letter-spacing: normal;
  line-break: auto;
  line-height: 1.42857143;
  text-align: left;
  text-align: start;
  text-decoration: none;
  text-shadow: none;
  text-transform: none;
  white-space: normal;
  word-break: normal;
  word-spacing: normal;
  word-wrap: normal;
  font-size: 12px;
  opacity: 0;
  filter: alpha(opacity=0);
}
.tooltip.in {
  opacity: 0.9;
  filter: alpha(opacity=90);
}
.tooltip.top {
  margin-top: -3px;
  padding: 5px 0;
}
.tooltip.right {
  margin-left: 3px;
  padding: 0 5px;
}
.tooltip.bottom {
  margin-top: 3px;
  padding: 5px 0;
}
.tooltip.left {
  margin-left: -3px;
  padding: 0 5px;
}
.tooltip-inner {
  max-width: 200px;
  padding: 3px 8px;
  color: #fff;
  text-align: center;
  background-color: #000;
  border-radius: 2px;
}
.tooltip-arrow {
  position: absolute;
  width: 0;
  height: 0;
  border-color: transparent;
  border-style: solid;
}
.tooltip.top .tooltip-arrow {
  bottom: 0;
  left: 50%;
  margin-left: -5px;
  border-width: 5px 5px 0;
  border-top-color: #000;
}
.tooltip.top-left .tooltip-arrow {
  bottom: 0;
  right: 5px;
  margin-bottom: -5px;
  border-width: 5px 5px 0;
  border-top-color: #000;
}
.tooltip.top-right .tooltip-arrow {
  bottom: 0;
  left: 5px;
  margin-bottom: -5px;
  border-width: 5px 5px 0;
  border-top-color: #000;
}
.tooltip.right .tooltip-arrow {
  top: 50%;
  left: 0;
  margin-top: -5px;
  border-width: 5px 5px 5px 0;
  border-right-color: #000;
}
.tooltip.left .tooltip-arrow {
  top: 50%;
  right: 0;
  margin-top: -5px;
  border-width: 5px 0 5px 5px;
  border-left-color: #000;
}
.tooltip.bottom .tooltip-arrow {
  top: 0;
  left: 50%;
  margin-left: -5px;
  border-width: 0 5px 5px;
  border-bottom-color: #000;
}
.tooltip.bottom-left .tooltip-arrow {
  top: 0;
  right: 5px;
  margin-top: -5px;
  border-width: 0 5px 5px;
  border-bottom-color: #000;
}
.tooltip.bottom-right .tooltip-arrow {
  top: 0;
  left: 5px;
  margin-top: -5px;
  border-width: 0 5px 5px;
  border-bottom-color: #000;
}
.popover {
  position: absolute;
  top: 0;
  left: 0;
  z-index: 1060;
  display: none;
  max-width: 276px;
  padding: 1px;
  font-family: "Helvetica Neue", Helvetica, Arial, sans-serif;
  font-style: normal;
  font-weight: normal;
  letter-spacing: normal;
  line-break: auto;
  line-height: 1.42857143;
  text-align: left;
  text-align: start;
  text-decoration: none;
  text-shadow: none;
  text-transform: none;
  white-space: normal;
  word-break: normal;
  word-spacing: normal;
  word-wrap: normal;
  font-size: 13px;
  background-color: #fff;
  background-clip: padding-box;
  border: 1px solid #ccc;
  border: 1px solid rgba(0, 0, 0, 0.2);
  border-radius: 3px;
  -webkit-box-shadow: 0 5px 10px rgba(0, 0, 0, 0.2);
  box-shadow: 0 5px 10px rgba(0, 0, 0, 0.2);
}
.popover.top {
  margin-top: -10px;
}
.popover.right {
  margin-left: 10px;
}
.popover.bottom {
  margin-top: 10px;
}
.popover.left {
  margin-left: -10px;
}
.popover-title {
  margin: 0;
  padding: 8px 14px;
  font-size: 13px;
  background-color: #f7f7f7;
  border-bottom: 1px solid #ebebeb;
  border-radius: 2px 2px 0 0;
}
.popover-content {
  padding: 9px 14px;
}
.popover > .arrow,
.popover > .arrow:after {
  position: absolute;
  display: block;
  width: 0;
  height: 0;
  border-color: transparent;
  border-style: solid;
}
.popover > .arrow {
  border-width: 11px;
}
.popover > .arrow:after {
  border-width: 10px;
  content: "";
}
.popover.top > .arrow {
  left: 50%;
  margin-left: -11px;
  border-bottom-width: 0;
  border-top-color: #999999;
  border-top-color: rgba(0, 0, 0, 0.25);
  bottom: -11px;
}
.popover.top > .arrow:after {
  content: " ";
  bottom: 1px;
  margin-left: -10px;
  border-bottom-width: 0;
  border-top-color: #fff;
}
.popover.right > .arrow {
  top: 50%;
  left: -11px;
  margin-top: -11px;
  border-left-width: 0;
  border-right-color: #999999;
  border-right-color: rgba(0, 0, 0, 0.25);
}
.popover.right > .arrow:after {
  content: " ";
  left: 1px;
  bottom: -10px;
  border-left-width: 0;
  border-right-color: #fff;
}
.popover.bottom > .arrow {
  left: 50%;
  margin-left: -11px;
  border-top-width: 0;
  border-bottom-color: #999999;
  border-bottom-color: rgba(0, 0, 0, 0.25);
  top: -11px;
}
.popover.bottom > .arrow:after {
  content: " ";
  top: 1px;
  margin-left: -10px;
  border-top-width: 0;
  border-bottom-color: #fff;
}
.popover.left > .arrow {
  top: 50%;
  right: -11px;
  margin-top: -11px;
  border-right-width: 0;
  border-left-color: #999999;
  border-left-color: rgba(0, 0, 0, 0.25);
}
.popover.left > .arrow:after {
  content: " ";
  right: 1px;
  border-right-width: 0;
  border-left-color: #fff;
  bottom: -10px;
}
.carousel {
  position: relative;
}
.carousel-inner {
  position: relative;
  overflow: hidden;
  width: 100%;
}
.carousel-inner > .item {
  display: none;
  position: relative;
  -webkit-transition: 0.6s ease-in-out left;
  -o-transition: 0.6s ease-in-out left;
  transition: 0.6s ease-in-out left;
}
.carousel-inner > .item > img,
.carousel-inner > .item > a > img {
  line-height: 1;
}
@media all and (transform-3d), (-webkit-transform-3d) {
  .carousel-inner > .item {
    -webkit-transition: -webkit-transform 0.6s ease-in-out;
    -moz-transition: -moz-transform 0.6s ease-in-out;
    -o-transition: -o-transform 0.6s ease-in-out;
    transition: transform 0.6s ease-in-out;
    -webkit-backface-visibility: hidden;
    -moz-backface-visibility: hidden;
    backface-visibility: hidden;
    -webkit-perspective: 1000px;
    -moz-perspective: 1000px;
    perspective: 1000px;
  }
  .carousel-inner > .item.next,
  .carousel-inner > .item.active.right {
    -webkit-transform: translate3d(100%, 0, 0);
    transform: translate3d(100%, 0, 0);
    left: 0;
  }
  .carousel-inner > .item.prev,
  .carousel-inner > .item.active.left {
    -webkit-transform: translate3d(-100%, 0, 0);
    transform: translate3d(-100%, 0, 0);
    left: 0;
  }
  .carousel-inner > .item.next.left,
  .carousel-inner > .item.prev.right,
  .carousel-inner > .item.active {
    -webkit-transform: translate3d(0, 0, 0);
    transform: translate3d(0, 0, 0);
    left: 0;
  }
}
.carousel-inner > .active,
.carousel-inner > .next,
.carousel-inner > .prev {
  display: block;
}
.carousel-inner > .active {
  left: 0;
}
.carousel-inner > .next,
.carousel-inner > .prev {
  position: absolute;
  top: 0;
  width: 100%;
}
.carousel-inner > .next {
  left: 100%;
}
.carousel-inner > .prev {
  left: -100%;
}
.carousel-inner > .next.left,
.carousel-inner > .prev.right {
  left: 0;
}
.carousel-inner > .active.left {
  left: -100%;
}
.carousel-inner > .active.right {
  left: 100%;
}
.carousel-control {
  position: absolute;
  top: 0;
  left: 0;
  bottom: 0;
  width: 15%;
  opacity: 0.5;
  filter: alpha(opacity=50);
  font-size: 20px;
  color: #fff;
  text-align: center;
  text-shadow: 0 1px 2px rgba(0, 0, 0, 0.6);
  background-color: rgba(0, 0, 0, 0);
}
.carousel-control.left {
  background-image: -webkit-linear-gradient(left, rgba(0, 0, 0, 0.5) 0%, rgba(0, 0, 0, 0.0001) 100%);
  background-image: -o-linear-gradient(left, rgba(0, 0, 0, 0.5) 0%, rgba(0, 0, 0, 0.0001) 100%);
  background-image: linear-gradient(to right, rgba(0, 0, 0, 0.5) 0%, rgba(0, 0, 0, 0.0001) 100%);
  background-repeat: repeat-x;
  filter: progid:DXImageTransform.Microsoft.gradient(startColorstr='#80000000', endColorstr='#00000000', GradientType=1);
}
.carousel-control.right {
  left: auto;
  right: 0;
  background-image: -webkit-linear-gradient(left, rgba(0, 0, 0, 0.0001) 0%, rgba(0, 0, 0, 0.5) 100%);
  background-image: -o-linear-gradient(left, rgba(0, 0, 0, 0.0001) 0%, rgba(0, 0, 0, 0.5) 100%);
  background-image: linear-gradient(to right, rgba(0, 0, 0, 0.0001) 0%, rgba(0, 0, 0, 0.5) 100%);
  background-repeat: repeat-x;
  filter: progid:DXImageTransform.Microsoft.gradient(startColorstr='#00000000', endColorstr='#80000000', GradientType=1);
}
.carousel-control:hover,
.carousel-control:focus {
  outline: 0;
  color: #fff;
  text-decoration: none;
  opacity: 0.9;
  filter: alpha(opacity=90);
}
.carousel-control .icon-prev,
.carousel-control .icon-next,
.carousel-control .glyphicon-chevron-left,
.carousel-control .glyphicon-chevron-right {
  position: absolute;
  top: 50%;
  margin-top: -10px;
  z-index: 5;
  display: inline-block;
}
.carousel-control .icon-prev,
.carousel-control .glyphicon-chevron-left {
  left: 50%;
  margin-left: -10px;
}
.carousel-control .icon-next,
.carousel-control .glyphicon-chevron-right {
  right: 50%;
  margin-right: -10px;
}
.carousel-control .icon-prev,
.carousel-control .icon-next {
  width: 20px;
  height: 20px;
  line-height: 1;
  font-family: serif;
}
.carousel-control .icon-prev:before {
  content: '\2039';
}
.carousel-control .icon-next:before {
  content: '\203a';
}
.carousel-indicators {
  position: absolute;
  bottom: 10px;
  left: 50%;
  z-index: 15;
  width: 60%;
  margin-left: -30%;
  padding-left: 0;
  list-style: none;
  text-align: center;
}
.carousel-indicators li {
  display: inline-block;
  width: 10px;
  height: 10px;
  margin: 1px;
  text-indent: -999px;
  border: 1px solid #fff;
  border-radius: 10px;
  cursor: pointer;
  background-color: #000 \9;
  background-color: rgba(0, 0, 0, 0);
}
.carousel-indicators .active {
  margin: 0;
  width: 12px;
  height: 12px;
  background-color: #fff;
}
.carousel-caption {
  position: absolute;
  left: 15%;
  right: 15%;
  bottom: 20px;
  z-index: 10;
  padding-top: 20px;
  padding-bottom: 20px;
  color: #fff;
  text-align: center;
  text-shadow: 0 1px 2px rgba(0, 0, 0, 0.6);
}
.carousel-caption .btn {
  text-shadow: none;
}
@media screen and (min-width: 768px) {
  .carousel-control .glyphicon-chevron-left,
  .carousel-control .glyphicon-chevron-right,
  .carousel-control .icon-prev,
  .carousel-control .icon-next {
    width: 30px;
    height: 30px;
    margin-top: -10px;
    font-size: 30px;
  }
  .carousel-control .glyphicon-chevron-left,
  .carousel-control .icon-prev {
    margin-left: -10px;
  }
  .carousel-control .glyphicon-chevron-right,
  .carousel-control .icon-next {
    margin-right: -10px;
  }
  .carousel-caption {
    left: 20%;
    right: 20%;
    padding-bottom: 30px;
  }
  .carousel-indicators {
    bottom: 20px;
  }
}
.clearfix:before,
.clearfix:after,
.dl-horizontal dd:before,
.dl-horizontal dd:after,
.container:before,
.container:after,
.container-fluid:before,
.container-fluid:after,
.row:before,
.row:after,
.form-horizontal .form-group:before,
.form-horizontal .form-group:after,
.btn-toolbar:before,
.btn-toolbar:after,
.btn-group-vertical > .btn-group:before,
.btn-group-vertical > .btn-group:after,
.nav:before,
.nav:after,
.navbar:before,
.navbar:after,
.navbar-header:before,
.navbar-header:after,
.navbar-collapse:before,
.navbar-collapse:after,
.pager:before,
.pager:after,
.panel-body:before,
.panel-body:after,
.modal-header:before,
.modal-header:after,
.modal-footer:before,
.modal-footer:after,
.item_buttons:before,
.item_buttons:after {
  content: " ";
  display: table;
}
.clearfix:after,
.dl-horizontal dd:after,
.container:after,
.container-fluid:after,
.row:after,
.form-horizontal .form-group:after,
.btn-toolbar:after,
.btn-group-vertical > .btn-group:after,
.nav:after,
.navbar:after,
.navbar-header:after,
.navbar-collapse:after,
.pager:after,
.panel-body:after,
.modal-header:after,
.modal-footer:after,
.item_buttons:after {
  clear: both;
}
.center-block {
  display: block;
  margin-left: auto;
  margin-right: auto;
}
.pull-right {
  float: right !important;
}
.pull-left {
  float: left !important;
}
.hide {
  display: none !important;
}
.show {
  display: block !important;
}
.invisible {
  visibility: hidden;
}
.text-hide {
  font: 0/0 a;
  color: transparent;
  text-shadow: none;
  background-color: transparent;
  border: 0;
}
.hidden {
  display: none !important;
}
.affix {
  position: fixed;
}
@-ms-viewport {
  width: device-width;
}
.visible-xs,
.visible-sm,
.visible-md,
.visible-lg {
  display: none !important;
}
.visible-xs-block,
.visible-xs-inline,
.visible-xs-inline-block,
.visible-sm-block,
.visible-sm-inline,
.visible-sm-inline-block,
.visible-md-block,
.visible-md-inline,
.visible-md-inline-block,
.visible-lg-block,
.visible-lg-inline,
.visible-lg-inline-block {
  display: none !important;
}
@media (max-width: 767px) {
  .visible-xs {
    display: block !important;
  }
  table.visible-xs {
    display: table !important;
  }
  tr.visible-xs {
    display: table-row !important;
  }
  th.visible-xs,
  td.visible-xs {
    display: table-cell !important;
  }
}
@media (max-width: 767px) {
  .visible-xs-block {
    display: block !important;
  }
}
@media (max-width: 767px) {
  .visible-xs-inline {
    display: inline !important;
  }
}
@media (max-width: 767px) {
  .visible-xs-inline-block {
    display: inline-block !important;
  }
}
@media (min-width: 768px) and (max-width: 991px) {
  .visible-sm {
    display: block !important;
  }
  table.visible-sm {
    display: table !important;
  }
  tr.visible-sm {
    display: table-row !important;
  }
  th.visible-sm,
  td.visible-sm {
    display: table-cell !important;
  }
}
@media (min-width: 768px) and (max-width: 991px) {
  .visible-sm-block {
    display: block !important;
  }
}
@media (min-width: 768px) and (max-width: 991px) {
  .visible-sm-inline {
    display: inline !important;
  }
}
@media (min-width: 768px) and (max-width: 991px) {
  .visible-sm-inline-block {
    display: inline-block !important;
  }
}
@media (min-width: 992px) and (max-width: 1199px) {
  .visible-md {
    display: block !important;
  }
  table.visible-md {
    display: table !important;
  }
  tr.visible-md {
    display: table-row !important;
  }
  th.visible-md,
  td.visible-md {
    display: table-cell !important;
  }
}
@media (min-width: 992px) and (max-width: 1199px) {
  .visible-md-block {
    display: block !important;
  }
}
@media (min-width: 992px) and (max-width: 1199px) {
  .visible-md-inline {
    display: inline !important;
  }
}
@media (min-width: 992px) and (max-width: 1199px) {
  .visible-md-inline-block {
    display: inline-block !important;
  }
}
@media (min-width: 1200px) {
  .visible-lg {
    display: block !important;
  }
  table.visible-lg {
    display: table !important;
  }
  tr.visible-lg {
    display: table-row !important;
  }
  th.visible-lg,
  td.visible-lg {
    display: table-cell !important;
  }
}
@media (min-width: 1200px) {
  .visible-lg-block {
    display: block !important;
  }
}
@media (min-width: 1200px) {
  .visible-lg-inline {
    display: inline !important;
  }
}
@media (min-width: 1200px) {
  .visible-lg-inline-block {
    display: inline-block !important;
  }
}
@media (max-width: 767px) {
  .hidden-xs {
    display: none !important;
  }
}
@media (min-width: 768px) and (max-width: 991px) {
  .hidden-sm {
    display: none !important;
  }
}
@media (min-width: 992px) and (max-width: 1199px) {
  .hidden-md {
    display: none !important;
  }
}
@media (min-width: 1200px) {
  .hidden-lg {
    display: none !important;
  }
}
.visible-print {
  display: none !important;
}
@media print {
  .visible-print {
    display: block !important;
  }
  table.visible-print {
    display: table !important;
  }
  tr.visible-print {
    display: table-row !important;
  }
  th.visible-print,
  td.visible-print {
    display: table-cell !important;
  }
}
.visible-print-block {
  display: none !important;
}
@media print {
  .visible-print-block {
    display: block !important;
  }
}
.visible-print-inline {
  display: none !important;
}
@media print {
  .visible-print-inline {
    display: inline !important;
  }
}
.visible-print-inline-block {
  display: none !important;
}
@media print {
  .visible-print-inline-block {
    display: inline-block !important;
  }
}
@media print {
  .hidden-print {
    display: none !important;
  }
}
/*!
*
* Font Awesome
*
*/
/*!
 *  Font Awesome 4.2.0 by @davegandy - http://fontawesome.io - @fontawesome
 *  License - http://fontawesome.io/license (Font: SIL OFL 1.1, CSS: MIT License)
 */
/* FONT PATH
 * -------------------------- */
@font-face {
  font-family: 'FontAwesome';
  src: url('../components/font-awesome/fonts/fontawesome-webfont.eot?v=4.2.0');
  src: url('../components/font-awesome/fonts/fontawesome-webfont.eot?#iefix&v=4.2.0') format('embedded-opentype'), url('../components/font-awesome/fonts/fontawesome-webfont.woff?v=4.2.0') format('woff'), url('../components/font-awesome/fonts/fontawesome-webfont.ttf?v=4.2.0') format('truetype'), url('../components/font-awesome/fonts/fontawesome-webfont.svg?v=4.2.0#fontawesomeregular') format('svg');
  font-weight: normal;
  font-style: normal;
}
.fa {
  display: inline-block;
  font: normal normal normal 14px/1 FontAwesome;
  font-size: inherit;
  text-rendering: auto;
  -webkit-font-smoothing: antialiased;
  -moz-osx-font-smoothing: grayscale;
}
/* makes the font 33% larger relative to the icon container */
.fa-lg {
  font-size: 1.33333333em;
  line-height: 0.75em;
  vertical-align: -15%;
}
.fa-2x {
  font-size: 2em;
}
.fa-3x {
  font-size: 3em;
}
.fa-4x {
  font-size: 4em;
}
.fa-5x {
  font-size: 5em;
}
.fa-fw {
  width: 1.28571429em;
  text-align: center;
}
.fa-ul {
  padding-left: 0;
  margin-left: 2.14285714em;
  list-style-type: none;
}
.fa-ul > li {
  position: relative;
}
.fa-li {
  position: absolute;
  left: -2.14285714em;
  width: 2.14285714em;
  top: 0.14285714em;
  text-align: center;
}
.fa-li.fa-lg {
  left: -1.85714286em;
}
.fa-border {
  padding: .2em .25em .15em;
  border: solid 0.08em #eee;
  border-radius: .1em;
}
.pull-right {
  float: right;
}
.pull-left {
  float: left;
}
.fa.pull-left {
  margin-right: .3em;
}
.fa.pull-right {
  margin-left: .3em;
}
.fa-spin {
  -webkit-animation: fa-spin 2s infinite linear;
  animation: fa-spin 2s infinite linear;
}
@-webkit-keyframes fa-spin {
  0% {
    -webkit-transform: rotate(0deg);
    transform: rotate(0deg);
  }
  100% {
    -webkit-transform: rotate(359deg);
    transform: rotate(359deg);
  }
}
@keyframes fa-spin {
  0% {
    -webkit-transform: rotate(0deg);
    transform: rotate(0deg);
  }
  100% {
    -webkit-transform: rotate(359deg);
    transform: rotate(359deg);
  }
}
.fa-rotate-90 {
  filter: progid:DXImageTransform.Microsoft.BasicImage(rotation=1);
  -webkit-transform: rotate(90deg);
  -ms-transform: rotate(90deg);
  transform: rotate(90deg);
}
.fa-rotate-180 {
  filter: progid:DXImageTransform.Microsoft.BasicImage(rotation=2);
  -webkit-transform: rotate(180deg);
  -ms-transform: rotate(180deg);
  transform: rotate(180deg);
}
.fa-rotate-270 {
  filter: progid:DXImageTransform.Microsoft.BasicImage(rotation=3);
  -webkit-transform: rotate(270deg);
  -ms-transform: rotate(270deg);
  transform: rotate(270deg);
}
.fa-flip-horizontal {
  filter: progid:DXImageTransform.Microsoft.BasicImage(rotation=0, mirror=1);
  -webkit-transform: scale(-1, 1);
  -ms-transform: scale(-1, 1);
  transform: scale(-1, 1);
}
.fa-flip-vertical {
  filter: progid:DXImageTransform.Microsoft.BasicImage(rotation=2, mirror=1);
  -webkit-transform: scale(1, -1);
  -ms-transform: scale(1, -1);
  transform: scale(1, -1);
}
:root .fa-rotate-90,
:root .fa-rotate-180,
:root .fa-rotate-270,
:root .fa-flip-horizontal,
:root .fa-flip-vertical {
  filter: none;
}
.fa-stack {
  position: relative;
  display: inline-block;
  width: 2em;
  height: 2em;
  line-height: 2em;
  vertical-align: middle;
}
.fa-stack-1x,
.fa-stack-2x {
  position: absolute;
  left: 0;
  width: 100%;
  text-align: center;
}
.fa-stack-1x {
  line-height: inherit;
}
.fa-stack-2x {
  font-size: 2em;
}
.fa-inverse {
  color: #fff;
}
/* Font Awesome uses the Unicode Private Use Area (PUA) to ensure screen
   readers do not read off random characters that represent icons */
.fa-glass:before {
  content: "\f000";
}
.fa-music:before {
  content: "\f001";
}
.fa-search:before {
  content: "\f002";
}
.fa-envelope-o:before {
  content: "\f003";
}
.fa-heart:before {
  content: "\f004";
}
.fa-star:before {
  content: "\f005";
}
.fa-star-o:before {
  content: "\f006";
}
.fa-user:before {
  content: "\f007";
}
.fa-film:before {
  content: "\f008";
}
.fa-th-large:before {
  content: "\f009";
}
.fa-th:before {
  content: "\f00a";
}
.fa-th-list:before {
  content: "\f00b";
}
.fa-check:before {
  content: "\f00c";
}
.fa-remove:before,
.fa-close:before,
.fa-times:before {
  content: "\f00d";
}
.fa-search-plus:before {
  content: "\f00e";
}
.fa-search-minus:before {
  content: "\f010";
}
.fa-power-off:before {
  content: "\f011";
}
.fa-signal:before {
  content: "\f012";
}
.fa-gear:before,
.fa-cog:before {
  content: "\f013";
}
.fa-trash-o:before {
  content: "\f014";
}
.fa-home:before {
  content: "\f015";
}
.fa-file-o:before {
  content: "\f016";
}
.fa-clock-o:before {
  content: "\f017";
}
.fa-road:before {
  content: "\f018";
}
.fa-download:before {
  content: "\f019";
}
.fa-arrow-circle-o-down:before {
  content: "\f01a";
}
.fa-arrow-circle-o-up:before {
  content: "\f01b";
}
.fa-inbox:before {
  content: "\f01c";
}
.fa-play-circle-o:before {
  content: "\f01d";
}
.fa-rotate-right:before,
.fa-repeat:before {
  content: "\f01e";
}
.fa-refresh:before {
  content: "\f021";
}
.fa-list-alt:before {
  content: "\f022";
}
.fa-lock:before {
  content: "\f023";
}
.fa-flag:before {
  content: "\f024";
}
.fa-headphones:before {
  content: "\f025";
}
.fa-volume-off:before {
  content: "\f026";
}
.fa-volume-down:before {
  content: "\f027";
}
.fa-volume-up:before {
  content: "\f028";
}
.fa-qrcode:before {
  content: "\f029";
}
.fa-barcode:before {
  content: "\f02a";
}
.fa-tag:before {
  content: "\f02b";
}
.fa-tags:before {
  content: "\f02c";
}
.fa-book:before {
  content: "\f02d";
}
.fa-bookmark:before {
  content: "\f02e";
}
.fa-print:before {
  content: "\f02f";
}
.fa-camera:before {
  content: "\f030";
}
.fa-font:before {
  content: "\f031";
}
.fa-bold:before {
  content: "\f032";
}
.fa-italic:before {
  content: "\f033";
}
.fa-text-height:before {
  content: "\f034";
}
.fa-text-width:before {
  content: "\f035";
}
.fa-align-left:before {
  content: "\f036";
}
.fa-align-center:before {
  content: "\f037";
}
.fa-align-right:before {
  content: "\f038";
}
.fa-align-justify:before {
  content: "\f039";
}
.fa-list:before {
  content: "\f03a";
}
.fa-dedent:before,
.fa-outdent:before {
  content: "\f03b";
}
.fa-indent:before {
  content: "\f03c";
}
.fa-video-camera:before {
  content: "\f03d";
}
.fa-photo:before,
.fa-image:before,
.fa-picture-o:before {
  content: "\f03e";
}
.fa-pencil:before {
  content: "\f040";
}
.fa-map-marker:before {
  content: "\f041";
}
.fa-adjust:before {
  content: "\f042";
}
.fa-tint:before {
  content: "\f043";
}
.fa-edit:before,
.fa-pencil-square-o:before {
  content: "\f044";
}
.fa-share-square-o:before {
  content: "\f045";
}
.fa-check-square-o:before {
  content: "\f046";
}
.fa-arrows:before {
  content: "\f047";
}
.fa-step-backward:before {
  content: "\f048";
}
.fa-fast-backward:before {
  content: "\f049";
}
.fa-backward:before {
  content: "\f04a";
}
.fa-play:before {
  content: "\f04b";
}
.fa-pause:before {
  content: "\f04c";
}
.fa-stop:before {
  content: "\f04d";
}
.fa-forward:before {
  content: "\f04e";
}
.fa-fast-forward:before {
  content: "\f050";
}
.fa-step-forward:before {
  content: "\f051";
}
.fa-eject:before {
  content: "\f052";
}
.fa-chevron-left:before {
  content: "\f053";
}
.fa-chevron-right:before {
  content: "\f054";
}
.fa-plus-circle:before {
  content: "\f055";
}
.fa-minus-circle:before {
  content: "\f056";
}
.fa-times-circle:before {
  content: "\f057";
}
.fa-check-circle:before {
  content: "\f058";
}
.fa-question-circle:before {
  content: "\f059";
}
.fa-info-circle:before {
  content: "\f05a";
}
.fa-crosshairs:before {
  content: "\f05b";
}
.fa-times-circle-o:before {
  content: "\f05c";
}
.fa-check-circle-o:before {
  content: "\f05d";
}
.fa-ban:before {
  content: "\f05e";
}
.fa-arrow-left:before {
  content: "\f060";
}
.fa-arrow-right:before {
  content: "\f061";
}
.fa-arrow-up:before {
  content: "\f062";
}
.fa-arrow-down:before {
  content: "\f063";
}
.fa-mail-forward:before,
.fa-share:before {
  content: "\f064";
}
.fa-expand:before {
  content: "\f065";
}
.fa-compress:before {
  content: "\f066";
}
.fa-plus:before {
  content: "\f067";
}
.fa-minus:before {
  content: "\f068";
}
.fa-asterisk:before {
  content: "\f069";
}
.fa-exclamation-circle:before {
  content: "\f06a";
}
.fa-gift:before {
  content: "\f06b";
}
.fa-leaf:before {
  content: "\f06c";
}
.fa-fire:before {
  content: "\f06d";
}
.fa-eye:before {
  content: "\f06e";
}
.fa-eye-slash:before {
  content: "\f070";
}
.fa-warning:before,
.fa-exclamation-triangle:before {
  content: "\f071";
}
.fa-plane:before {
  content: "\f072";
}
.fa-calendar:before {
  content: "\f073";
}
.fa-random:before {
  content: "\f074";
}
.fa-comment:before {
  content: "\f075";
}
.fa-magnet:before {
  content: "\f076";
}
.fa-chevron-up:before {
  content: "\f077";
}
.fa-chevron-down:before {
  content: "\f078";
}
.fa-retweet:before {
  content: "\f079";
}
.fa-shopping-cart:before {
  content: "\f07a";
}
.fa-folder:before {
  content: "\f07b";
}
.fa-folder-open:before {
  content: "\f07c";
}
.fa-arrows-v:before {
  content: "\f07d";
}
.fa-arrows-h:before {
  content: "\f07e";
}
.fa-bar-chart-o:before,
.fa-bar-chart:before {
  content: "\f080";
}
.fa-twitter-square:before {
  content: "\f081";
}
.fa-facebook-square:before {
  content: "\f082";
}
.fa-camera-retro:before {
  content: "\f083";
}
.fa-key:before {
  content: "\f084";
}
.fa-gears:before,
.fa-cogs:before {
  content: "\f085";
}
.fa-comments:before {
  content: "\f086";
}
.fa-thumbs-o-up:before {
  content: "\f087";
}
.fa-thumbs-o-down:before {
  content: "\f088";
}
.fa-star-half:before {
  content: "\f089";
}
.fa-heart-o:before {
  content: "\f08a";
}
.fa-sign-out:before {
  content: "\f08b";
}
.fa-linkedin-square:before {
  content: "\f08c";
}
.fa-thumb-tack:before {
  content: "\f08d";
}
.fa-external-link:before {
  content: "\f08e";
}
.fa-sign-in:before {
  content: "\f090";
}
.fa-trophy:before {
  content: "\f091";
}
.fa-github-square:before {
  content: "\f092";
}
.fa-upload:before {
  content: "\f093";
}
.fa-lemon-o:before {
  content: "\f094";
}
.fa-phone:before {
  content: "\f095";
}
.fa-square-o:before {
  content: "\f096";
}
.fa-bookmark-o:before {
  content: "\f097";
}
.fa-phone-square:before {
  content: "\f098";
}
.fa-twitter:before {
  content: "\f099";
}
.fa-facebook:before {
  content: "\f09a";
}
.fa-github:before {
  content: "\f09b";
}
.fa-unlock:before {
  content: "\f09c";
}
.fa-credit-card:before {
  content: "\f09d";
}
.fa-rss:before {
  content: "\f09e";
}
.fa-hdd-o:before {
  content: "\f0a0";
}
.fa-bullhorn:before {
  content: "\f0a1";
}
.fa-bell:before {
  content: "\f0f3";
}
.fa-certificate:before {
  content: "\f0a3";
}
.fa-hand-o-right:before {
  content: "\f0a4";
}
.fa-hand-o-left:before {
  content: "\f0a5";
}
.fa-hand-o-up:before {
  content: "\f0a6";
}
.fa-hand-o-down:before {
  content: "\f0a7";
}
.fa-arrow-circle-left:before {
  content: "\f0a8";
}
.fa-arrow-circle-right:before {
  content: "\f0a9";
}
.fa-arrow-circle-up:before {
  content: "\f0aa";
}
.fa-arrow-circle-down:before {
  content: "\f0ab";
}
.fa-globe:before {
  content: "\f0ac";
}
.fa-wrench:before {
  content: "\f0ad";
}
.fa-tasks:before {
  content: "\f0ae";
}
.fa-filter:before {
  content: "\f0b0";
}
.fa-briefcase:before {
  content: "\f0b1";
}
.fa-arrows-alt:before {
  content: "\f0b2";
}
.fa-group:before,
.fa-users:before {
  content: "\f0c0";
}
.fa-chain:before,
.fa-link:before {
  content: "\f0c1";
}
.fa-cloud:before {
  content: "\f0c2";
}
.fa-flask:before {
  content: "\f0c3";
}
.fa-cut:before,
.fa-scissors:before {
  content: "\f0c4";
}
.fa-copy:before,
.fa-files-o:before {
  content: "\f0c5";
}
.fa-paperclip:before {
  content: "\f0c6";
}
.fa-save:before,
.fa-floppy-o:before {
  content: "\f0c7";
}
.fa-square:before {
  content: "\f0c8";
}
.fa-navicon:before,
.fa-reorder:before,
.fa-bars:before {
  content: "\f0c9";
}
.fa-list-ul:before {
  content: "\f0ca";
}
.fa-list-ol:before {
  content: "\f0cb";
}
.fa-strikethrough:before {
  content: "\f0cc";
}
.fa-underline:before {
  content: "\f0cd";
}
.fa-table:before {
  content: "\f0ce";
}
.fa-magic:before {
  content: "\f0d0";
}
.fa-truck:before {
  content: "\f0d1";
}
.fa-pinterest:before {
  content: "\f0d2";
}
.fa-pinterest-square:before {
  content: "\f0d3";
}
.fa-google-plus-square:before {
  content: "\f0d4";
}
.fa-google-plus:before {
  content: "\f0d5";
}
.fa-money:before {
  content: "\f0d6";
}
.fa-caret-down:before {
  content: "\f0d7";
}
.fa-caret-up:before {
  content: "\f0d8";
}
.fa-caret-left:before {
  content: "\f0d9";
}
.fa-caret-right:before {
  content: "\f0da";
}
.fa-columns:before {
  content: "\f0db";
}
.fa-unsorted:before,
.fa-sort:before {
  content: "\f0dc";
}
.fa-sort-down:before,
.fa-sort-desc:before {
  content: "\f0dd";
}
.fa-sort-up:before,
.fa-sort-asc:before {
  content: "\f0de";
}
.fa-envelope:before {
  content: "\f0e0";
}
.fa-linkedin:before {
  content: "\f0e1";
}
.fa-rotate-left:before,
.fa-undo:before {
  content: "\f0e2";
}
.fa-legal:before,
.fa-gavel:before {
  content: "\f0e3";
}
.fa-dashboard:before,
.fa-tachometer:before {
  content: "\f0e4";
}
.fa-comment-o:before {
  content: "\f0e5";
}
.fa-comments-o:before {
  content: "\f0e6";
}
.fa-flash:before,
.fa-bolt:before {
  content: "\f0e7";
}
.fa-sitemap:before {
  content: "\f0e8";
}
.fa-umbrella:before {
  content: "\f0e9";
}
.fa-paste:before,
.fa-clipboard:before {
  content: "\f0ea";
}
.fa-lightbulb-o:before {
  content: "\f0eb";
}
.fa-exchange:before {
  content: "\f0ec";
}
.fa-cloud-download:before {
  content: "\f0ed";
}
.fa-cloud-upload:before {
  content: "\f0ee";
}
.fa-user-md:before {
  content: "\f0f0";
}
.fa-stethoscope:before {
  content: "\f0f1";
}
.fa-suitcase:before {
  content: "\f0f2";
}
.fa-bell-o:before {
  content: "\f0a2";
}
.fa-coffee:before {
  content: "\f0f4";
}
.fa-cutlery:before {
  content: "\f0f5";
}
.fa-file-text-o:before {
  content: "\f0f6";
}
.fa-building-o:before {
  content: "\f0f7";
}
.fa-hospital-o:before {
  content: "\f0f8";
}
.fa-ambulance:before {
  content: "\f0f9";
}
.fa-medkit:before {
  content: "\f0fa";
}
.fa-fighter-jet:before {
  content: "\f0fb";
}
.fa-beer:before {
  content: "\f0fc";
}
.fa-h-square:before {
  content: "\f0fd";
}
.fa-plus-square:before {
  content: "\f0fe";
}
.fa-angle-double-left:before {
  content: "\f100";
}
.fa-angle-double-right:before {
  content: "\f101";
}
.fa-angle-double-up:before {
  content: "\f102";
}
.fa-angle-double-down:before {
  content: "\f103";
}
.fa-angle-left:before {
  content: "\f104";
}
.fa-angle-right:before {
  content: "\f105";
}
.fa-angle-up:before {
  content: "\f106";
}
.fa-angle-down:before {
  content: "\f107";
}
.fa-desktop:before {
  content: "\f108";
}
.fa-laptop:before {
  content: "\f109";
}
.fa-tablet:before {
  content: "\f10a";
}
.fa-mobile-phone:before,
.fa-mobile:before {
  content: "\f10b";
}
.fa-circle-o:before {
  content: "\f10c";
}
.fa-quote-left:before {
  content: "\f10d";
}
.fa-quote-right:before {
  content: "\f10e";
}
.fa-spinner:before {
  content: "\f110";
}
.fa-circle:before {
  content: "\f111";
}
.fa-mail-reply:before,
.fa-reply:before {
  content: "\f112";
}
.fa-github-alt:before {
  content: "\f113";
}
.fa-folder-o:before {
  content: "\f114";
}
.fa-folder-open-o:before {
  content: "\f115";
}
.fa-smile-o:before {
  content: "\f118";
}
.fa-frown-o:before {
  content: "\f119";
}
.fa-meh-o:before {
  content: "\f11a";
}
.fa-gamepad:before {
  content: "\f11b";
}
.fa-keyboard-o:before {
  content: "\f11c";
}
.fa-flag-o:before {
  content: "\f11d";
}
.fa-flag-checkered:before {
  content: "\f11e";
}
.fa-terminal:before {
  content: "\f120";
}
.fa-code:before {
  content: "\f121";
}
.fa-mail-reply-all:before,
.fa-reply-all:before {
  content: "\f122";
}
.fa-star-half-empty:before,
.fa-star-half-full:before,
.fa-star-half-o:before {
  content: "\f123";
}
.fa-location-arrow:before {
  content: "\f124";
}
.fa-crop:before {
  content: "\f125";
}
.fa-code-fork:before {
  content: "\f126";
}
.fa-unlink:before,
.fa-chain-broken:before {
  content: "\f127";
}
.fa-question:before {
  content: "\f128";
}
.fa-info:before {
  content: "\f129";
}
.fa-exclamation:before {
  content: "\f12a";
}
.fa-superscript:before {
  content: "\f12b";
}
.fa-subscript:before {
  content: "\f12c";
}
.fa-eraser:before {
  content: "\f12d";
}
.fa-puzzle-piece:before {
  content: "\f12e";
}
.fa-microphone:before {
  content: "\f130";
}
.fa-microphone-slash:before {
  content: "\f131";
}
.fa-shield:before {
  content: "\f132";
}
.fa-calendar-o:before {
  content: "\f133";
}
.fa-fire-extinguisher:before {
  content: "\f134";
}
.fa-rocket:before {
  content: "\f135";
}
.fa-maxcdn:before {
  content: "\f136";
}
.fa-chevron-circle-left:before {
  content: "\f137";
}
.fa-chevron-circle-right:before {
  content: "\f138";
}
.fa-chevron-circle-up:before {
  content: "\f139";
}
.fa-chevron-circle-down:before {
  content: "\f13a";
}
.fa-html5:before {
  content: "\f13b";
}
.fa-css3:before {
  content: "\f13c";
}
.fa-anchor:before {
  content: "\f13d";
}
.fa-unlock-alt:before {
  content: "\f13e";
}
.fa-bullseye:before {
  content: "\f140";
}
.fa-ellipsis-h:before {
  content: "\f141";
}
.fa-ellipsis-v:before {
  content: "\f142";
}
.fa-rss-square:before {
  content: "\f143";
}
.fa-play-circle:before {
  content: "\f144";
}
.fa-ticket:before {
  content: "\f145";
}
.fa-minus-square:before {
  content: "\f146";
}
.fa-minus-square-o:before {
  content: "\f147";
}
.fa-level-up:before {
  content: "\f148";
}
.fa-level-down:before {
  content: "\f149";
}
.fa-check-square:before {
  content: "\f14a";
}
.fa-pencil-square:before {
  content: "\f14b";
}
.fa-external-link-square:before {
  content: "\f14c";
}
.fa-share-square:before {
  content: "\f14d";
}
.fa-compass:before {
  content: "\f14e";
}
.fa-toggle-down:before,
.fa-caret-square-o-down:before {
  content: "\f150";
}
.fa-toggle-up:before,
.fa-caret-square-o-up:before {
  content: "\f151";
}
.fa-toggle-right:before,
.fa-caret-square-o-right:before {
  content: "\f152";
}
.fa-euro:before,
.fa-eur:before {
  content: "\f153";
}
.fa-gbp:before {
  content: "\f154";
}
.fa-dollar:before,
.fa-usd:before {
  content: "\f155";
}
.fa-rupee:before,
.fa-inr:before {
  content: "\f156";
}
.fa-cny:before,
.fa-rmb:before,
.fa-yen:before,
.fa-jpy:before {
  content: "\f157";
}
.fa-ruble:before,
.fa-rouble:before,
.fa-rub:before {
  content: "\f158";
}
.fa-won:before,
.fa-krw:before {
  content: "\f159";
}
.fa-bitcoin:before,
.fa-btc:before {
  content: "\f15a";
}
.fa-file:before {
  content: "\f15b";
}
.fa-file-text:before {
  content: "\f15c";
}
.fa-sort-alpha-asc:before {
  content: "\f15d";
}
.fa-sort-alpha-desc:before {
  content: "\f15e";
}
.fa-sort-amount-asc:before {
  content: "\f160";
}
.fa-sort-amount-desc:before {
  content: "\f161";
}
.fa-sort-numeric-asc:before {
  content: "\f162";
}
.fa-sort-numeric-desc:before {
  content: "\f163";
}
.fa-thumbs-up:before {
  content: "\f164";
}
.fa-thumbs-down:before {
  content: "\f165";
}
.fa-youtube-square:before {
  content: "\f166";
}
.fa-youtube:before {
  content: "\f167";
}
.fa-xing:before {
  content: "\f168";
}
.fa-xing-square:before {
  content: "\f169";
}
.fa-youtube-play:before {
  content: "\f16a";
}
.fa-dropbox:before {
  content: "\f16b";
}
.fa-stack-overflow:before {
  content: "\f16c";
}
.fa-instagram:before {
  content: "\f16d";
}
.fa-flickr:before {
  content: "\f16e";
}
.fa-adn:before {
  content: "\f170";
}
.fa-bitbucket:before {
  content: "\f171";
}
.fa-bitbucket-square:before {
  content: "\f172";
}
.fa-tumblr:before {
  content: "\f173";
}
.fa-tumblr-square:before {
  content: "\f174";
}
.fa-long-arrow-down:before {
  content: "\f175";
}
.fa-long-arrow-up:before {
  content: "\f176";
}
.fa-long-arrow-left:before {
  content: "\f177";
}
.fa-long-arrow-right:before {
  content: "\f178";
}
.fa-apple:before {
  content: "\f179";
}
.fa-windows:before {
  content: "\f17a";
}
.fa-android:before {
  content: "\f17b";
}
.fa-linux:before {
  content: "\f17c";
}
.fa-dribbble:before {
  content: "\f17d";
}
.fa-skype:before {
  content: "\f17e";
}
.fa-foursquare:before {
  content: "\f180";
}
.fa-trello:before {
  content: "\f181";
}
.fa-female:before {
  content: "\f182";
}
.fa-male:before {
  content: "\f183";
}
.fa-gittip:before {
  content: "\f184";
}
.fa-sun-o:before {
  content: "\f185";
}
.fa-moon-o:before {
  content: "\f186";
}
.fa-archive:before {
  content: "\f187";
}
.fa-bug:before {
  content: "\f188";
}
.fa-vk:before {
  content: "\f189";
}
.fa-weibo:before {
  content: "\f18a";
}
.fa-renren:before {
  content: "\f18b";
}
.fa-pagelines:before {
  content: "\f18c";
}
.fa-stack-exchange:before {
  content: "\f18d";
}
.fa-arrow-circle-o-right:before {
  content: "\f18e";
}
.fa-arrow-circle-o-left:before {
  content: "\f190";
}
.fa-toggle-left:before,
.fa-caret-square-o-left:before {
  content: "\f191";
}
.fa-dot-circle-o:before {
  content: "\f192";
}
.fa-wheelchair:before {
  content: "\f193";
}
.fa-vimeo-square:before {
  content: "\f194";
}
.fa-turkish-lira:before,
.fa-try:before {
  content: "\f195";
}
.fa-plus-square-o:before {
  content: "\f196";
}
.fa-space-shuttle:before {
  content: "\f197";
}
.fa-slack:before {
  content: "\f198";
}
.fa-envelope-square:before {
  content: "\f199";
}
.fa-wordpress:before {
  content: "\f19a";
}
.fa-openid:before {
  content: "\f19b";
}
.fa-institution:before,
.fa-bank:before,
.fa-university:before {
  content: "\f19c";
}
.fa-mortar-board:before,
.fa-graduation-cap:before {
  content: "\f19d";
}
.fa-yahoo:before {
  content: "\f19e";
}
.fa-google:before {
  content: "\f1a0";
}
.fa-reddit:before {
  content: "\f1a1";
}
.fa-reddit-square:before {
  content: "\f1a2";
}
.fa-stumbleupon-circle:before {
  content: "\f1a3";
}
.fa-stumbleupon:before {
  content: "\f1a4";
}
.fa-delicious:before {
  content: "\f1a5";
}
.fa-digg:before {
  content: "\f1a6";
}
.fa-pied-piper:before {
  content: "\f1a7";
}
.fa-pied-piper-alt:before {
  content: "\f1a8";
}
.fa-drupal:before {
  content: "\f1a9";
}
.fa-joomla:before {
  content: "\f1aa";
}
.fa-language:before {
  content: "\f1ab";
}
.fa-fax:before {
  content: "\f1ac";
}
.fa-building:before {
  content: "\f1ad";
}
.fa-child:before {
  content: "\f1ae";
}
.fa-paw:before {
  content: "\f1b0";
}
.fa-spoon:before {
  content: "\f1b1";
}
.fa-cube:before {
  content: "\f1b2";
}
.fa-cubes:before {
  content: "\f1b3";
}
.fa-behance:before {
  content: "\f1b4";
}
.fa-behance-square:before {
  content: "\f1b5";
}
.fa-steam:before {
  content: "\f1b6";
}
.fa-steam-square:before {
  content: "\f1b7";
}
.fa-recycle:before {
  content: "\f1b8";
}
.fa-automobile:before,
.fa-car:before {
  content: "\f1b9";
}
.fa-cab:before,
.fa-taxi:before {
  content: "\f1ba";
}
.fa-tree:before {
  content: "\f1bb";
}
.fa-spotify:before {
  content: "\f1bc";
}
.fa-deviantart:before {
  content: "\f1bd";
}
.fa-soundcloud:before {
  content: "\f1be";
}
.fa-database:before {
  content: "\f1c0";
}
.fa-file-pdf-o:before {
  content: "\f1c1";
}
.fa-file-word-o:before {
  content: "\f1c2";
}
.fa-file-excel-o:before {
  content: "\f1c3";
}
.fa-file-powerpoint-o:before {
  content: "\f1c4";
}
.fa-file-photo-o:before,
.fa-file-picture-o:before,
.fa-file-image-o:before {
  content: "\f1c5";
}
.fa-file-zip-o:before,
.fa-file-archive-o:before {
  content: "\f1c6";
}
.fa-file-sound-o:before,
.fa-file-audio-o:before {
  content: "\f1c7";
}
.fa-file-movie-o:before,
.fa-file-video-o:before {
  content: "\f1c8";
}
.fa-file-code-o:before {
  content: "\f1c9";
}
.fa-vine:before {
  content: "\f1ca";
}
.fa-codepen:before {
  content: "\f1cb";
}
.fa-jsfiddle:before {
  content: "\f1cc";
}
.fa-life-bouy:before,
.fa-life-buoy:before,
.fa-life-saver:before,
.fa-support:before,
.fa-life-ring:before {
  content: "\f1cd";
}
.fa-circle-o-notch:before {
  content: "\f1ce";
}
.fa-ra:before,
.fa-rebel:before {
  content: "\f1d0";
}
.fa-ge:before,
.fa-empire:before {
  content: "\f1d1";
}
.fa-git-square:before {
  content: "\f1d2";
}
.fa-git:before {
  content: "\f1d3";
}
.fa-hacker-news:before {
  content: "\f1d4";
}
.fa-tencent-weibo:before {
  content: "\f1d5";
}
.fa-qq:before {
  content: "\f1d6";
}
.fa-wechat:before,
.fa-weixin:before {
  content: "\f1d7";
}
.fa-send:before,
.fa-paper-plane:before {
  content: "\f1d8";
}
.fa-send-o:before,
.fa-paper-plane-o:before {
  content: "\f1d9";
}
.fa-history:before {
  content: "\f1da";
}
.fa-circle-thin:before {
  content: "\f1db";
}
.fa-header:before {
  content: "\f1dc";
}
.fa-paragraph:before {
  content: "\f1dd";
}
.fa-sliders:before {
  content: "\f1de";
}
.fa-share-alt:before {
  content: "\f1e0";
}
.fa-share-alt-square:before {
  content: "\f1e1";
}
.fa-bomb:before {
  content: "\f1e2";
}
.fa-soccer-ball-o:before,
.fa-futbol-o:before {
  content: "\f1e3";
}
.fa-tty:before {
  content: "\f1e4";
}
.fa-binoculars:before {
  content: "\f1e5";
}
.fa-plug:before {
  content: "\f1e6";
}
.fa-slideshare:before {
  content: "\f1e7";
}
.fa-twitch:before {
  content: "\f1e8";
}
.fa-yelp:before {
  content: "\f1e9";
}
.fa-newspaper-o:before {
  content: "\f1ea";
}
.fa-wifi:before {
  content: "\f1eb";
}
.fa-calculator:before {
  content: "\f1ec";
}
.fa-paypal:before {
  content: "\f1ed";
}
.fa-google-wallet:before {
  content: "\f1ee";
}
.fa-cc-visa:before {
  content: "\f1f0";
}
.fa-cc-mastercard:before {
  content: "\f1f1";
}
.fa-cc-discover:before {
  content: "\f1f2";
}
.fa-cc-amex:before {
  content: "\f1f3";
}
.fa-cc-paypal:before {
  content: "\f1f4";
}
.fa-cc-stripe:before {
  content: "\f1f5";
}
.fa-bell-slash:before {
  content: "\f1f6";
}
.fa-bell-slash-o:before {
  content: "\f1f7";
}
.fa-trash:before {
  content: "\f1f8";
}
.fa-copyright:before {
  content: "\f1f9";
}
.fa-at:before {
  content: "\f1fa";
}
.fa-eyedropper:before {
  content: "\f1fb";
}
.fa-paint-brush:before {
  content: "\f1fc";
}
.fa-birthday-cake:before {
  content: "\f1fd";
}
.fa-area-chart:before {
  content: "\f1fe";
}
.fa-pie-chart:before {
  content: "\f200";
}
.fa-line-chart:before {
  content: "\f201";
}
.fa-lastfm:before {
  content: "\f202";
}
.fa-lastfm-square:before {
  content: "\f203";
}
.fa-toggle-off:before {
  content: "\f204";
}
.fa-toggle-on:before {
  content: "\f205";
}
.fa-bicycle:before {
  content: "\f206";
}
.fa-bus:before {
  content: "\f207";
}
.fa-ioxhost:before {
  content: "\f208";
}
.fa-angellist:before {
  content: "\f209";
}
.fa-cc:before {
  content: "\f20a";
}
.fa-shekel:before,
.fa-sheqel:before,
.fa-ils:before {
  content: "\f20b";
}
.fa-meanpath:before {
  content: "\f20c";
}
/*!
*
* IPython base
*
*/
.modal.fade .modal-dialog {
  -webkit-transform: translate(0, 0);
  -ms-transform: translate(0, 0);
  -o-transform: translate(0, 0);
  transform: translate(0, 0);
}
code {
  color: #000;
}
pre {
  font-size: inherit;
  line-height: inherit;
}
label {
  font-weight: normal;
}
/* Make the page background atleast 100% the height of the view port */
/* Make the page itself atleast 70% the height of the view port */
.border-box-sizing {
  box-sizing: border-box;
  -moz-box-sizing: border-box;
  -webkit-box-sizing: border-box;
}
.corner-all {
  border-radius: 2px;
}
.no-padding {
  padding: 0px;
}
/* Flexible box model classes */
/* Taken from Alex Russell http://infrequently.org/2009/08/css-3-progress/ */
/* This file is a compatability layer.  It allows the usage of flexible box 
model layouts accross multiple browsers, including older browsers.  The newest,
universal implementation of the flexible box model is used when available (see
`Modern browsers` comments below).  Browsers that are known to implement this 
new spec completely include:

    Firefox 28.0+
    Chrome 29.0+
    Internet Explorer 11+ 
    Opera 17.0+

Browsers not listed, including Safari, are supported via the styling under the
`Old browsers` comments below.
*/
.hbox {
  /* Old browsers */
  display: -webkit-box;
  -webkit-box-orient: horizontal;
  -webkit-box-align: stretch;
  display: -moz-box;
  -moz-box-orient: horizontal;
  -moz-box-align: stretch;
  display: box;
  box-orient: horizontal;
  box-align: stretch;
  /* Modern browsers */
  display: flex;
  flex-direction: row;
  align-items: stretch;
}
.hbox > * {
  /* Old browsers */
  -webkit-box-flex: 0;
  -moz-box-flex: 0;
  box-flex: 0;
  /* Modern browsers */
  flex: none;
}
.vbox {
  /* Old browsers */
  display: -webkit-box;
  -webkit-box-orient: vertical;
  -webkit-box-align: stretch;
  display: -moz-box;
  -moz-box-orient: vertical;
  -moz-box-align: stretch;
  display: box;
  box-orient: vertical;
  box-align: stretch;
  /* Modern browsers */
  display: flex;
  flex-direction: column;
  align-items: stretch;
}
.vbox > * {
  /* Old browsers */
  -webkit-box-flex: 0;
  -moz-box-flex: 0;
  box-flex: 0;
  /* Modern browsers */
  flex: none;
}
.hbox.reverse,
.vbox.reverse,
.reverse {
  /* Old browsers */
  -webkit-box-direction: reverse;
  -moz-box-direction: reverse;
  box-direction: reverse;
  /* Modern browsers */
  flex-direction: row-reverse;
}
.hbox.box-flex0,
.vbox.box-flex0,
.box-flex0 {
  /* Old browsers */
  -webkit-box-flex: 0;
  -moz-box-flex: 0;
  box-flex: 0;
  /* Modern browsers */
  flex: none;
  width: auto;
}
.hbox.box-flex1,
.vbox.box-flex1,
.box-flex1 {
  /* Old browsers */
  -webkit-box-flex: 1;
  -moz-box-flex: 1;
  box-flex: 1;
  /* Modern browsers */
  flex: 1;
}
.hbox.box-flex,
.vbox.box-flex,
.box-flex {
  /* Old browsers */
  /* Old browsers */
  -webkit-box-flex: 1;
  -moz-box-flex: 1;
  box-flex: 1;
  /* Modern browsers */
  flex: 1;
}
.hbox.box-flex2,
.vbox.box-flex2,
.box-flex2 {
  /* Old browsers */
  -webkit-box-flex: 2;
  -moz-box-flex: 2;
  box-flex: 2;
  /* Modern browsers */
  flex: 2;
}
.box-group1 {
  /*  Deprecated */
  -webkit-box-flex-group: 1;
  -moz-box-flex-group: 1;
  box-flex-group: 1;
}
.box-group2 {
  /* Deprecated */
  -webkit-box-flex-group: 2;
  -moz-box-flex-group: 2;
  box-flex-group: 2;
}
.hbox.start,
.vbox.start,
.start {
  /* Old browsers */
  -webkit-box-pack: start;
  -moz-box-pack: start;
  box-pack: start;
  /* Modern browsers */
  justify-content: flex-start;
}
.hbox.end,
.vbox.end,
.end {
  /* Old browsers */
  -webkit-box-pack: end;
  -moz-box-pack: end;
  box-pack: end;
  /* Modern browsers */
  justify-content: flex-end;
}
.hbox.center,
.vbox.center,
.center {
  /* Old browsers */
  -webkit-box-pack: center;
  -moz-box-pack: center;
  box-pack: center;
  /* Modern browsers */
  justify-content: center;
}
.hbox.baseline,
.vbox.baseline,
.baseline {
  /* Old browsers */
  -webkit-box-pack: baseline;
  -moz-box-pack: baseline;
  box-pack: baseline;
  /* Modern browsers */
  justify-content: baseline;
}
.hbox.stretch,
.vbox.stretch,
.stretch {
  /* Old browsers */
  -webkit-box-pack: stretch;
  -moz-box-pack: stretch;
  box-pack: stretch;
  /* Modern browsers */
  justify-content: stretch;
}
.hbox.align-start,
.vbox.align-start,
.align-start {
  /* Old browsers */
  -webkit-box-align: start;
  -moz-box-align: start;
  box-align: start;
  /* Modern browsers */
  align-items: flex-start;
}
.hbox.align-end,
.vbox.align-end,
.align-end {
  /* Old browsers */
  -webkit-box-align: end;
  -moz-box-align: end;
  box-align: end;
  /* Modern browsers */
  align-items: flex-end;
}
.hbox.align-center,
.vbox.align-center,
.align-center {
  /* Old browsers */
  -webkit-box-align: center;
  -moz-box-align: center;
  box-align: center;
  /* Modern browsers */
  align-items: center;
}
.hbox.align-baseline,
.vbox.align-baseline,
.align-baseline {
  /* Old browsers */
  -webkit-box-align: baseline;
  -moz-box-align: baseline;
  box-align: baseline;
  /* Modern browsers */
  align-items: baseline;
}
.hbox.align-stretch,
.vbox.align-stretch,
.align-stretch {
  /* Old browsers */
  -webkit-box-align: stretch;
  -moz-box-align: stretch;
  box-align: stretch;
  /* Modern browsers */
  align-items: stretch;
}
div.error {
  margin: 2em;
  text-align: center;
}
div.error > h1 {
  font-size: 500%;
  line-height: normal;
}
div.error > p {
  font-size: 200%;
  line-height: normal;
}
div.traceback-wrapper {
  text-align: left;
  max-width: 800px;
  margin: auto;
}
/**
 * Primary styles
 *
 * Author: Jupyter Development Team
 */
body {
  background-color: #fff;
  /* This makes sure that the body covers the entire window and needs to
       be in a different element than the display: box in wrapper below */
  position: absolute;
  left: 0px;
  right: 0px;
  top: 0px;
  bottom: 0px;
  overflow: visible;
}
body > #header {
  /* Initially hidden to prevent FLOUC */
  display: none;
  background-color: #fff;
  /* Display over codemirror */
  position: relative;
  z-index: 100;
}
body > #header #header-container {
  padding-bottom: 5px;
  padding-top: 5px;
  box-sizing: border-box;
  -moz-box-sizing: border-box;
  -webkit-box-sizing: border-box;
}
body > #header .header-bar {
  width: 100%;
  height: 1px;
  background: #e7e7e7;
  margin-bottom: -1px;
}
@media print {
  body > #header {
    display: none !important;
  }
}
#header-spacer {
  width: 100%;
  visibility: hidden;
}
@media print {
  #header-spacer {
    display: none;
  }
}
#ipython_notebook {
  padding-left: 0px;
  padding-top: 1px;
  padding-bottom: 1px;
}
@media (max-width: 991px) {
  #ipython_notebook {
    margin-left: 10px;
  }
}
#noscript {
  width: auto;
  padding-top: 16px;
  padding-bottom: 16px;
  text-align: center;
  font-size: 22px;
  color: red;
  font-weight: bold;
}
#ipython_notebook img {
  height: 28px;
}
#site {
  width: 100%;
  display: none;
  box-sizing: border-box;
  -moz-box-sizing: border-box;
  -webkit-box-sizing: border-box;
  overflow: auto;
}
@media print {
  #site {
    height: auto !important;
  }
}
/* Smaller buttons */
.ui-button .ui-button-text {
  padding: 0.2em 0.8em;
  font-size: 77%;
}
input.ui-button {
  padding: 0.3em 0.9em;
}
span#login_widget {
  float: right;
}
span#login_widget > .button,
#logout {
  color: #333;
  background-color: #fff;
  border-color: #ccc;
}
span#login_widget > .button:focus,
#logout:focus,
span#login_widget > .button.focus,
#logout.focus {
  color: #333;
  background-color: #e6e6e6;
  border-color: #8c8c8c;
}
span#login_widget > .button:hover,
#logout:hover {
  color: #333;
  background-color: #e6e6e6;
  border-color: #adadad;
}
span#login_widget > .button:active,
#logout:active,
span#login_widget > .button.active,
#logout.active,
.open > .dropdown-togglespan#login_widget > .button,
.open > .dropdown-toggle#logout {
  color: #333;
  background-color: #e6e6e6;
  border-color: #adadad;
}
span#login_widget > .button:active:hover,
#logout:active:hover,
span#login_widget > .button.active:hover,
#logout.active:hover,
.open > .dropdown-togglespan#login_widget > .button:hover,
.open > .dropdown-toggle#logout:hover,
span#login_widget > .button:active:focus,
#logout:active:focus,
span#login_widget > .button.active:focus,
#logout.active:focus,
.open > .dropdown-togglespan#login_widget > .button:focus,
.open > .dropdown-toggle#logout:focus,
span#login_widget > .button:active.focus,
#logout:active.focus,
span#login_widget > .button.active.focus,
#logout.active.focus,
.open > .dropdown-togglespan#login_widget > .button.focus,
.open > .dropdown-toggle#logout.focus {
  color: #333;
  background-color: #d4d4d4;
  border-color: #8c8c8c;
}
span#login_widget > .button:active,
#logout:active,
span#login_widget > .button.active,
#logout.active,
.open > .dropdown-togglespan#login_widget > .button,
.open > .dropdown-toggle#logout {
  background-image: none;
}
span#login_widget > .button.disabled:hover,
#logout.disabled:hover,
span#login_widget > .button[disabled]:hover,
#logout[disabled]:hover,
fieldset[disabled] span#login_widget > .button:hover,
fieldset[disabled] #logout:hover,
span#login_widget > .button.disabled:focus,
#logout.disabled:focus,
span#login_widget > .button[disabled]:focus,
#logout[disabled]:focus,
fieldset[disabled] span#login_widget > .button:focus,
fieldset[disabled] #logout:focus,
span#login_widget > .button.disabled.focus,
#logout.disabled.focus,
span#login_widget > .button[disabled].focus,
#logout[disabled].focus,
fieldset[disabled] span#login_widget > .button.focus,
fieldset[disabled] #logout.focus {
  background-color: #fff;
  border-color: #ccc;
}
span#login_widget > .button .badge,
#logout .badge {
  color: #fff;
  background-color: #333;
}
.nav-header {
  text-transform: none;
}
#header > span {
  margin-top: 10px;
}
.modal_stretch .modal-dialog {
  /* Old browsers */
  display: -webkit-box;
  -webkit-box-orient: vertical;
  -webkit-box-align: stretch;
  display: -moz-box;
  -moz-box-orient: vertical;
  -moz-box-align: stretch;
  display: box;
  box-orient: vertical;
  box-align: stretch;
  /* Modern browsers */
  display: flex;
  flex-direction: column;
  align-items: stretch;
  min-height: 80vh;
}
.modal_stretch .modal-dialog .modal-body {
  max-height: calc(100vh - 200px);
  overflow: auto;
  flex: 1;
}
@media (min-width: 768px) {
  .modal .modal-dialog {
    width: 700px;
  }
}
@media (min-width: 768px) {
  select.form-control {
    margin-left: 12px;
    margin-right: 12px;
  }
}
/*!
*
* IPython auth
*
*/
.center-nav {
  display: inline-block;
  margin-bottom: -4px;
}
/*!
*
* IPython tree view
*
*/
/* We need an invisible input field on top of the sentense*/
/* "Drag file onto the list ..." */
.alternate_upload {
  background-color: none;
  display: inline;
}
.alternate_upload.form {
  padding: 0;
  margin: 0;
}
.alternate_upload input.fileinput {
  text-align: center;
  vertical-align: middle;
  display: inline;
  opacity: 0;
  z-index: 2;
  width: 12ex;
  margin-right: -12ex;
}
.alternate_upload .btn-upload {
  height: 22px;
}
/**
 * Primary styles
 *
 * Author: Jupyter Development Team
 */
ul#tabs {
  margin-bottom: 4px;
}
ul#tabs a {
  padding-top: 6px;
  padding-bottom: 4px;
}
ul.breadcrumb a:focus,
ul.breadcrumb a:hover {
  text-decoration: none;
}
ul.breadcrumb i.icon-home {
  font-size: 16px;
  margin-right: 4px;
}
ul.breadcrumb span {
  color: #5e5e5e;
}
.list_toolbar {
  padding: 4px 0 4px 0;
  vertical-align: middle;
}
.list_toolbar .tree-buttons {
  padding-top: 1px;
}
.dynamic-buttons {
  padding-top: 3px;
  display: inline-block;
}
.list_toolbar [class*="span"] {
  min-height: 24px;
}
.list_header {
  font-weight: bold;
  background-color: #EEE;
}
.list_placeholder {
  font-weight: bold;
  padding-top: 4px;
  padding-bottom: 4px;
  padding-left: 7px;
  padding-right: 7px;
}
.list_container {
  margin-top: 4px;
  margin-bottom: 20px;
  border: 1px solid #ddd;
  border-radius: 2px;
}
.list_container > div {
  border-bottom: 1px solid #ddd;
}
.list_container > div:hover .list-item {
  background-color: red;
}
.list_container > div:last-child {
  border: none;
}
.list_item:hover .list_item {
  background-color: #ddd;
}
.list_item a {
  text-decoration: none;
}
.list_item:hover {
  background-color: #fafafa;
}
.list_header > div,
.list_item > div {
  padding-top: 4px;
  padding-bottom: 4px;
  padding-left: 7px;
  padding-right: 7px;
  line-height: 22px;
}
.list_header > div input,
.list_item > div input {
  margin-right: 7px;
  margin-left: 14px;
  vertical-align: baseline;
  line-height: 22px;
  position: relative;
  top: -1px;
}
.list_header > div .item_link,
.list_item > div .item_link {
  margin-left: -1px;
  vertical-align: baseline;
  line-height: 22px;
}
.new-file input[type=checkbox] {
  visibility: hidden;
}
.item_name {
  line-height: 22px;
  height: 24px;
}
.item_icon {
  font-size: 14px;
  color: #5e5e5e;
  margin-right: 7px;
  margin-left: 7px;
  line-height: 22px;
  vertical-align: baseline;
}
.item_buttons {
  line-height: 1em;
  margin-left: -5px;
}
.item_buttons .btn,
.item_buttons .btn-group,
.item_buttons .input-group {
  float: left;
}
.item_buttons > .btn,
.item_buttons > .btn-group,
.item_buttons > .input-group {
  margin-left: 5px;
}
.item_buttons .btn {
  min-width: 13ex;
}
.item_buttons .running-indicator {
  padding-top: 4px;
  color: #5cb85c;
}
.item_buttons .kernel-name {
  padding-top: 4px;
  color: #5bc0de;
  margin-right: 7px;
  float: left;
}
.toolbar_info {
  height: 24px;
  line-height: 24px;
}
.list_item input:not([type=checkbox]) {
  padding-top: 3px;
  padding-bottom: 3px;
  height: 22px;
  line-height: 14px;
  margin: 0px;
}
.highlight_text {
  color: blue;
}
#project_name {
  display: inline-block;
  padding-left: 7px;
  margin-left: -2px;
}
#project_name > .breadcrumb {
  padding: 0px;
  margin-bottom: 0px;
  background-color: transparent;
  font-weight: bold;
}
#tree-selector {
  padding-right: 0px;
}
#button-select-all {
  min-width: 50px;
}
#select-all {
  margin-left: 7px;
  margin-right: 2px;
}
.menu_icon {
  margin-right: 2px;
}
.tab-content .row {
  margin-left: 0px;
  margin-right: 0px;
}
.folder_icon:before {
  display: inline-block;
  font: normal normal normal 14px/1 FontAwesome;
  font-size: inherit;
  text-rendering: auto;
  -webkit-font-smoothing: antialiased;
  -moz-osx-font-smoothing: grayscale;
  content: "\f114";
}
.folder_icon:before.pull-left {
  margin-right: .3em;
}
.folder_icon:before.pull-right {
  margin-left: .3em;
}
.notebook_icon:before {
  display: inline-block;
  font: normal normal normal 14px/1 FontAwesome;
  font-size: inherit;
  text-rendering: auto;
  -webkit-font-smoothing: antialiased;
  -moz-osx-font-smoothing: grayscale;
  content: "\f02d";
  position: relative;
  top: -1px;
}
.notebook_icon:before.pull-left {
  margin-right: .3em;
}
.notebook_icon:before.pull-right {
  margin-left: .3em;
}
.running_notebook_icon:before {
  display: inline-block;
  font: normal normal normal 14px/1 FontAwesome;
  font-size: inherit;
  text-rendering: auto;
  -webkit-font-smoothing: antialiased;
  -moz-osx-font-smoothing: grayscale;
  content: "\f02d";
  position: relative;
  top: -1px;
  color: #5cb85c;
}
.running_notebook_icon:before.pull-left {
  margin-right: .3em;
}
.running_notebook_icon:before.pull-right {
  margin-left: .3em;
}
.file_icon:before {
  display: inline-block;
  font: normal normal normal 14px/1 FontAwesome;
  font-size: inherit;
  text-rendering: auto;
  -webkit-font-smoothing: antialiased;
  -moz-osx-font-smoothing: grayscale;
  content: "\f016";
  position: relative;
  top: -2px;
}
.file_icon:before.pull-left {
  margin-right: .3em;
}
.file_icon:before.pull-right {
  margin-left: .3em;
}
#notebook_toolbar .pull-right {
  padding-top: 0px;
  margin-right: -1px;
}
ul#new-menu {
  left: auto;
  right: 0;
}
.kernel-menu-icon {
  padding-right: 12px;
  width: 24px;
  content: "\f096";
}
.kernel-menu-icon:before {
  content: "\f096";
}
.kernel-menu-icon-current:before {
  content: "\f00c";
}
#tab_content {
  padding-top: 20px;
}
#running .panel-group .panel {
  margin-top: 3px;
  margin-bottom: 1em;
}
#running .panel-group .panel .panel-heading {
  background-color: #EEE;
  padding-top: 4px;
  padding-bottom: 4px;
  padding-left: 7px;
  padding-right: 7px;
  line-height: 22px;
}
#running .panel-group .panel .panel-heading a:focus,
#running .panel-group .panel .panel-heading a:hover {
  text-decoration: none;
}
#running .panel-group .panel .panel-body {
  padding: 0px;
}
#running .panel-group .panel .panel-body .list_container {
  margin-top: 0px;
  margin-bottom: 0px;
  border: 0px;
  border-radius: 0px;
}
#running .panel-group .panel .panel-body .list_container .list_item {
  border-bottom: 1px solid #ddd;
}
#running .panel-group .panel .panel-body .list_container .list_item:last-child {
  border-bottom: 0px;
}
.delete-button {
  display: none;
}
.duplicate-button {
  display: none;
}
.rename-button {
  display: none;
}
.shutdown-button {
  display: none;
}
.dynamic-instructions {
  display: inline-block;
  padding-top: 4px;
}
/*!
*
* IPython text editor webapp
*
*/
.selected-keymap i.fa {
  padding: 0px 5px;
}
.selected-keymap i.fa:before {
  content: "\f00c";
}
#mode-menu {
  overflow: auto;
  max-height: 20em;
}
.edit_app #header {
  -webkit-box-shadow: 0px 0px 12px 1px rgba(87, 87, 87, 0.2);
  box-shadow: 0px 0px 12px 1px rgba(87, 87, 87, 0.2);
}
.edit_app #menubar .navbar {
  /* Use a negative 1 bottom margin, so the border overlaps the border of the
    header */
  margin-bottom: -1px;
}
.dirty-indicator {
  display: inline-block;
  font: normal normal normal 14px/1 FontAwesome;
  font-size: inherit;
  text-rendering: auto;
  -webkit-font-smoothing: antialiased;
  -moz-osx-font-smoothing: grayscale;
  width: 20px;
}
.dirty-indicator.pull-left {
  margin-right: .3em;
}
.dirty-indicator.pull-right {
  margin-left: .3em;
}
.dirty-indicator-dirty {
  display: inline-block;
  font: normal normal normal 14px/1 FontAwesome;
  font-size: inherit;
  text-rendering: auto;
  -webkit-font-smoothing: antialiased;
  -moz-osx-font-smoothing: grayscale;
  width: 20px;
}
.dirty-indicator-dirty.pull-left {
  margin-right: .3em;
}
.dirty-indicator-dirty.pull-right {
  margin-left: .3em;
}
.dirty-indicator-clean {
  display: inline-block;
  font: normal normal normal 14px/1 FontAwesome;
  font-size: inherit;
  text-rendering: auto;
  -webkit-font-smoothing: antialiased;
  -moz-osx-font-smoothing: grayscale;
  width: 20px;
}
.dirty-indicator-clean.pull-left {
  margin-right: .3em;
}
.dirty-indicator-clean.pull-right {
  margin-left: .3em;
}
.dirty-indicator-clean:before {
  display: inline-block;
  font: normal normal normal 14px/1 FontAwesome;
  font-size: inherit;
  text-rendering: auto;
  -webkit-font-smoothing: antialiased;
  -moz-osx-font-smoothing: grayscale;
  content: "\f00c";
}
.dirty-indicator-clean:before.pull-left {
  margin-right: .3em;
}
.dirty-indicator-clean:before.pull-right {
  margin-left: .3em;
}
#filename {
  font-size: 16pt;
  display: table;
  padding: 0px 5px;
}
#current-mode {
  padding-left: 5px;
  padding-right: 5px;
}
#texteditor-backdrop {
  padding-top: 20px;
  padding-bottom: 20px;
}
@media not print {
  #texteditor-backdrop {
    background-color: #EEE;
  }
}
@media print {
  #texteditor-backdrop #texteditor-container .CodeMirror-gutter,
  #texteditor-backdrop #texteditor-container .CodeMirror-gutters {
    background-color: #fff;
  }
}
@media not print {
  #texteditor-backdrop #texteditor-container .CodeMirror-gutter,
  #texteditor-backdrop #texteditor-container .CodeMirror-gutters {
    background-color: #fff;
  }
}
@media not print {
  #texteditor-backdrop #texteditor-container {
    padding: 0px;
    background-color: #fff;
    -webkit-box-shadow: 0px 0px 12px 1px rgba(87, 87, 87, 0.2);
    box-shadow: 0px 0px 12px 1px rgba(87, 87, 87, 0.2);
  }
}
/*!
*
* IPython notebook
*
*/
/* CSS font colors for translated ANSI colors. */
.ansibold {
  font-weight: bold;
}
/* use dark versions for foreground, to improve visibility */
.ansiblack {
  color: black;
}
.ansired {
  color: darkred;
}
.ansigreen {
  color: darkgreen;
}
.ansiyellow {
  color: #c4a000;
}
.ansiblue {
  color: darkblue;
}
.ansipurple {
  color: darkviolet;
}
.ansicyan {
  color: steelblue;
}
.ansigray {
  color: gray;
}
/* and light for background, for the same reason */
.ansibgblack {
  background-color: black;
}
.ansibgred {
  background-color: red;
}
.ansibggreen {
  background-color: green;
}
.ansibgyellow {
  background-color: yellow;
}
.ansibgblue {
  background-color: blue;
}
.ansibgpurple {
  background-color: magenta;
}
.ansibgcyan {
  background-color: cyan;
}
.ansibggray {
  background-color: gray;
}
div.cell {
  /* Old browsers */
  display: -webkit-box;
  -webkit-box-orient: vertical;
  -webkit-box-align: stretch;
  display: -moz-box;
  -moz-box-orient: vertical;
  -moz-box-align: stretch;
  display: box;
  box-orient: vertical;
  box-align: stretch;
  /* Modern browsers */
  display: flex;
  flex-direction: column;
  align-items: stretch;
  border-radius: 2px;
  box-sizing: border-box;
  -moz-box-sizing: border-box;
  -webkit-box-sizing: border-box;
  border-width: 1px;
  border-style: solid;
  border-color: transparent;
  width: 100%;
  padding: 5px;
  /* This acts as a spacer between cells, that is outside the border */
  margin: 0px;
  outline: none;
  border-left-width: 1px;
  padding-left: 5px;
  background: linear-gradient(to right, transparent -40px, transparent 1px, transparent 1px, transparent 100%);
}
div.cell.jupyter-soft-selected {
  border-left-color: #90CAF9;
  border-left-color: #E3F2FD;
  border-left-width: 1px;
  padding-left: 5px;
  border-right-color: #E3F2FD;
  border-right-width: 1px;
  background: #E3F2FD;
}
@media print {
  div.cell.jupyter-soft-selected {
    border-color: transparent;
  }
}
div.cell.selected {
  border-color: #ababab;
  border-left-width: 0px;
  padding-left: 6px;
  background: linear-gradient(to right, #42A5F5 -40px, #42A5F5 5px, transparent 5px, transparent 100%);
}
@media print {
  div.cell.selected {
    border-color: transparent;
  }
}
div.cell.selected.jupyter-soft-selected {
  border-left-width: 0;
  padding-left: 6px;
  background: linear-gradient(to right, #42A5F5 -40px, #42A5F5 7px, #E3F2FD 7px, #E3F2FD 100%);
}
.edit_mode div.cell.selected {
  border-color: #66BB6A;
  border-left-width: 0px;
  padding-left: 6px;
  background: linear-gradient(to right, #66BB6A -40px, #66BB6A 5px, transparent 5px, transparent 100%);
}
@media print {
  .edit_mode div.cell.selected {
    border-color: transparent;
  }
}
.prompt {
  /* This needs to be wide enough for 3 digit prompt numbers: In[100]: */
  min-width: 14ex;
  /* This padding is tuned to match the padding on the CodeMirror editor. */
  padding: 0.4em;
  margin: 0px;
  font-family: monospace;
  text-align: right;
  /* This has to match that of the the CodeMirror class line-height below */
  line-height: 1.21429em;
  /* Don't highlight prompt number selection */
  -webkit-touch-callout: none;
  -webkit-user-select: none;
  -khtml-user-select: none;
  -moz-user-select: none;
  -ms-user-select: none;
  user-select: none;
  /* Use default cursor */
  cursor: default;
}
@media (max-width: 540px) {
  .prompt {
    text-align: left;
  }
}
div.inner_cell {
  /* Old browsers */
  display: -webkit-box;
  -webkit-box-orient: vertical;
  -webkit-box-align: stretch;
  display: -moz-box;
  -moz-box-orient: vertical;
  -moz-box-align: stretch;
  display: box;
  box-orient: vertical;
  box-align: stretch;
  /* Modern browsers */
  display: flex;
  flex-direction: column;
  align-items: stretch;
  /* Old browsers */
  -webkit-box-flex: 1;
  -moz-box-flex: 1;
  box-flex: 1;
  /* Modern browsers */
  flex: 1;
}
@-moz-document url-prefix() {
  div.inner_cell {
    overflow-x: hidden;
  }
}
/* input_area and input_prompt must match in top border and margin for alignment */
div.input_area {
  border: 1px solid #cfcfcf;
  border-radius: 2px;
  background: #f7f7f7;
  line-height: 1.21429em;
}
/* This is needed so that empty prompt areas can collapse to zero height when there
   is no content in the output_subarea and the prompt. The main purpose of this is
   to make sure that empty JavaScript output_subareas have no height. */
div.prompt:empty {
  padding-top: 0;
  padding-bottom: 0;
}
div.unrecognized_cell {
  padding: 5px 5px 5px 0px;
  /* Old browsers */
  display: -webkit-box;
  -webkit-box-orient: horizontal;
  -webkit-box-align: stretch;
  display: -moz-box;
  -moz-box-orient: horizontal;
  -moz-box-align: stretch;
  display: box;
  box-orient: horizontal;
  box-align: stretch;
  /* Modern browsers */
  display: flex;
  flex-direction: row;
  align-items: stretch;
}
div.unrecognized_cell .inner_cell {
  border-radius: 2px;
  padding: 5px;
  font-weight: bold;
  color: red;
  border: 1px solid #cfcfcf;
  background: #eaeaea;
}
div.unrecognized_cell .inner_cell a {
  color: inherit;
  text-decoration: none;
}
div.unrecognized_cell .inner_cell a:hover {
  color: inherit;
  text-decoration: none;
}
@media (max-width: 540px) {
  div.unrecognized_cell > div.prompt {
    display: none;
  }
}
div.code_cell {
  /* avoid page breaking on code cells when printing */
}
@media print {
  div.code_cell {
    page-break-inside: avoid;
  }
}
/* any special styling for code cells that are currently running goes here */
div.input {
  page-break-inside: avoid;
  /* Old browsers */
  display: -webkit-box;
  -webkit-box-orient: horizontal;
  -webkit-box-align: stretch;
  display: -moz-box;
  -moz-box-orient: horizontal;
  -moz-box-align: stretch;
  display: box;
  box-orient: horizontal;
  box-align: stretch;
  /* Modern browsers */
  display: flex;
  flex-direction: row;
  align-items: stretch;
}
@media (max-width: 540px) {
  div.input {
    /* Old browsers */
    display: -webkit-box;
    -webkit-box-orient: vertical;
    -webkit-box-align: stretch;
    display: -moz-box;
    -moz-box-orient: vertical;
    -moz-box-align: stretch;
    display: box;
    box-orient: vertical;
    box-align: stretch;
    /* Modern browsers */
    display: flex;
    flex-direction: column;
    align-items: stretch;
  }
}
/* input_area and input_prompt must match in top border and margin for alignment */
div.input_prompt {
  color: #303F9F;
  border-top: 1px solid transparent;
}
div.input_area > div.highlight {
  margin: 0.4em;
  border: none;
  padding: 0px;
  background-color: transparent;
}
div.input_area > div.highlight > pre {
  margin: 0px;
  border: none;
  padding: 0px;
  background-color: transparent;
}
/* The following gets added to the <head> if it is detected that the user has a
 * monospace font with inconsistent normal/bold/italic height.  See
 * notebookmain.js.  Such fonts will have keywords vertically offset with
 * respect to the rest of the text.  The user should select a better font.
 * See: https://github.com/ipython/ipython/issues/1503
 *
 * .CodeMirror span {
 *      vertical-align: bottom;
 * }
 */
.CodeMirror {
  line-height: 1.21429em;
  /* Changed from 1em to our global default */
  font-size: 14px;
  height: auto;
  /* Changed to auto to autogrow */
  background: none;
  /* Changed from white to allow our bg to show through */
}
.CodeMirror-scroll {
  /*  The CodeMirror docs are a bit fuzzy on if overflow-y should be hidden or visible.*/
  /*  We have found that if it is visible, vertical scrollbars appear with font size changes.*/
  overflow-y: hidden;
  overflow-x: auto;
}
.CodeMirror-lines {
  /* In CM2, this used to be 0.4em, but in CM3 it went to 4px. We need the em value because */
  /* we have set a different line-height and want this to scale with that. */
  padding: 0.4em;
}
.CodeMirror-linenumber {
  padding: 0 8px 0 4px;
}
.CodeMirror-gutters {
  border-bottom-left-radius: 2px;
  border-top-left-radius: 2px;
}
.CodeMirror pre {
  /* In CM3 this went to 4px from 0 in CM2. We need the 0 value because of how we size */
  /* .CodeMirror-lines */
  padding: 0;
  border: 0;
  border-radius: 0;
}
/*

Original style from softwaremaniacs.org (c) Ivan Sagalaev <Maniac@SoftwareManiacs.Org>
Adapted from GitHub theme

*/
.highlight-base {
  color: #000;
}
.highlight-variable {
  color: #000;
}
.highlight-variable-2 {
  color: #1a1a1a;
}
.highlight-variable-3 {
  color: #333333;
}
.highlight-string {
  color: #BA2121;
}
.highlight-comment {
  color: #408080;
  font-style: italic;
}
.highlight-number {
  color: #080;
}
.highlight-atom {
  color: #88F;
}
.highlight-keyword {
  color: #008000;
  font-weight: bold;
}
.highlight-builtin {
  color: #008000;
}
.highlight-error {
  color: #f00;
}
.highlight-operator {
  color: #AA22FF;
  font-weight: bold;
}
.highlight-meta {
  color: #AA22FF;
}
/* previously not defined, copying from default codemirror */
.highlight-def {
  color: #00f;
}
.highlight-string-2 {
  color: #f50;
}
.highlight-qualifier {
  color: #555;
}
.highlight-bracket {
  color: #997;
}
.highlight-tag {
  color: #170;
}
.highlight-attribute {
  color: #00c;
}
.highlight-header {
  color: blue;
}
.highlight-quote {
  color: #090;
}
.highlight-link {
  color: #00c;
}
/* apply the same style to codemirror */
.cm-s-ipython span.cm-keyword {
  color: #008000;
  font-weight: bold;
}
.cm-s-ipython span.cm-atom {
  color: #88F;
}
.cm-s-ipython span.cm-number {
  color: #080;
}
.cm-s-ipython span.cm-def {
  color: #00f;
}
.cm-s-ipython span.cm-variable {
  color: #000;
}
.cm-s-ipython span.cm-operator {
  color: #AA22FF;
  font-weight: bold;
}
.cm-s-ipython span.cm-variable-2 {
  color: #1a1a1a;
}
.cm-s-ipython span.cm-variable-3 {
  color: #333333;
}
.cm-s-ipython span.cm-comment {
  color: #408080;
  font-style: italic;
}
.cm-s-ipython span.cm-string {
  color: #BA2121;
}
.cm-s-ipython span.cm-string-2 {
  color: #f50;
}
.cm-s-ipython span.cm-meta {
  color: #AA22FF;
}
.cm-s-ipython span.cm-qualifier {
  color: #555;
}
.cm-s-ipython span.cm-builtin {
  color: #008000;
}
.cm-s-ipython span.cm-bracket {
  color: #997;
}
.cm-s-ipython span.cm-tag {
  color: #170;
}
.cm-s-ipython span.cm-attribute {
  color: #00c;
}
.cm-s-ipython span.cm-header {
  color: blue;
}
.cm-s-ipython span.cm-quote {
  color: #090;
}
.cm-s-ipython span.cm-link {
  color: #00c;
}
.cm-s-ipython span.cm-error {
  color: #f00;
}
.cm-s-ipython span.cm-tab {
  background: url(data:image/png;base64,iVBORw0KGgoAAAANSUhEUgAAADAAAAAMCAYAAAAkuj5RAAAAAXNSR0IArs4c6QAAAGFJREFUSMft1LsRQFAQheHPowAKoACx3IgEKtaEHujDjORSgWTH/ZOdnZOcM/sgk/kFFWY0qV8foQwS4MKBCS3qR6ixBJvElOobYAtivseIE120FaowJPN75GMu8j/LfMwNjh4HUpwg4LUAAAAASUVORK5CYII=);
  background-position: right;
  background-repeat: no-repeat;
}
div.output_wrapper {
  /* this position must be relative to enable descendents to be absolute within it */
  position: relative;
  /* Old browsers */
  display: -webkit-box;
  -webkit-box-orient: vertical;
  -webkit-box-align: stretch;
  display: -moz-box;
  -moz-box-orient: vertical;
  -moz-box-align: stretch;
  display: box;
  box-orient: vertical;
  box-align: stretch;
  /* Modern browsers */
  display: flex;
  flex-direction: column;
  align-items: stretch;
  z-index: 1;
}
/* class for the output area when it should be height-limited */
div.output_scroll {
  /* ideally, this would be max-height, but FF barfs all over that */
  height: 24em;
  /* FF needs this *and the wrapper* to specify full width, or it will shrinkwrap */
  width: 100%;
  overflow: auto;
  border-radius: 2px;
  -webkit-box-shadow: inset 0 2px 8px rgba(0, 0, 0, 0.8);
  box-shadow: inset 0 2px 8px rgba(0, 0, 0, 0.8);
  display: block;
}
/* output div while it is collapsed */
div.output_collapsed {
  margin: 0px;
  padding: 0px;
  /* Old browsers */
  display: -webkit-box;
  -webkit-box-orient: vertical;
  -webkit-box-align: stretch;
  display: -moz-box;
  -moz-box-orient: vertical;
  -moz-box-align: stretch;
  display: box;
  box-orient: vertical;
  box-align: stretch;
  /* Modern browsers */
  display: flex;
  flex-direction: column;
  align-items: stretch;
}
div.out_prompt_overlay {
  height: 100%;
  padding: 0px 0.4em;
  position: absolute;
  border-radius: 2px;
}
div.out_prompt_overlay:hover {
  /* use inner shadow to get border that is computed the same on WebKit/FF */
  -webkit-box-shadow: inset 0 0 1px #000;
  box-shadow: inset 0 0 1px #000;
  background: rgba(240, 240, 240, 0.5);
}
div.output_prompt {
  color: #D84315;
}
/* This class is the outer container of all output sections. */
div.output_area {
  padding: 0px;
  page-break-inside: avoid;
  /* Old browsers */
  display: -webkit-box;
  -webkit-box-orient: horizontal;
  -webkit-box-align: stretch;
  display: -moz-box;
  -moz-box-orient: horizontal;
  -moz-box-align: stretch;
  display: box;
  box-orient: horizontal;
  box-align: stretch;
  /* Modern browsers */
  display: flex;
  flex-direction: row;
  align-items: stretch;
}
div.output_area .MathJax_Display {
  text-align: left !important;
}
div.output_area .rendered_html table {
  margin-left: 0;
  margin-right: 0;
}
div.output_area .rendered_html img {
  margin-left: 0;
  margin-right: 0;
}
div.output_area img,
div.output_area svg {
  max-width: 100%;
  height: auto;
}
div.output_area img.unconfined,
div.output_area svg.unconfined {
  max-width: none;
}
/* This is needed to protect the pre formating from global settings such
   as that of bootstrap */
.output {
  /* Old browsers */
  display: -webkit-box;
  -webkit-box-orient: vertical;
  -webkit-box-align: stretch;
  display: -moz-box;
  -moz-box-orient: vertical;
  -moz-box-align: stretch;
  display: box;
  box-orient: vertical;
  box-align: stretch;
  /* Modern browsers */
  display: flex;
  flex-direction: column;
  align-items: stretch;
}
@media (max-width: 540px) {
  div.output_area {
    /* Old browsers */
    display: -webkit-box;
    -webkit-box-orient: vertical;
    -webkit-box-align: stretch;
    display: -moz-box;
    -moz-box-orient: vertical;
    -moz-box-align: stretch;
    display: box;
    box-orient: vertical;
    box-align: stretch;
    /* Modern browsers */
    display: flex;
    flex-direction: column;
    align-items: stretch;
  }
}
div.output_area pre {
  margin: 0;
  padding: 0;
  border: 0;
  vertical-align: baseline;
  color: black;
  background-color: transparent;
  border-radius: 0;
}
/* This class is for the output subarea inside the output_area and after
   the prompt div. */
div.output_subarea {
  overflow-x: auto;
  padding: 0.4em;
  /* Old browsers */
  -webkit-box-flex: 1;
  -moz-box-flex: 1;
  box-flex: 1;
  /* Modern browsers */
  flex: 1;
  max-width: calc(100% - 14ex);
}
div.output_scroll div.output_subarea {
  overflow-x: visible;
}
/* The rest of the output_* classes are for special styling of the different
   output types */
/* all text output has this class: */
div.output_text {
  text-align: left;
  color: #000;
  /* This has to match that of the the CodeMirror class line-height below */
  line-height: 1.21429em;
}
/* stdout/stderr are 'text' as well as 'stream', but execute_result/error are *not* streams */
div.output_stderr {
  background: #fdd;
  /* very light red background for stderr */
}
div.output_latex {
  text-align: left;
}
/* Empty output_javascript divs should have no height */
div.output_javascript:empty {
  padding: 0;
}
.js-error {
  color: darkred;
}
/* raw_input styles */
div.raw_input_container {
  line-height: 1.21429em;
  padding-top: 5px;
}
pre.raw_input_prompt {
  /* nothing needed here. */
}
input.raw_input {
  font-family: monospace;
  font-size: inherit;
  color: inherit;
  width: auto;
  /* make sure input baseline aligns with prompt */
  vertical-align: baseline;
  /* padding + margin = 0.5em between prompt and cursor */
  padding: 0em 0.25em;
  margin: 0em 0.25em;
}
input.raw_input:focus {
  box-shadow: none;
}
p.p-space {
  margin-bottom: 10px;
}
div.output_unrecognized {
  padding: 5px;
  font-weight: bold;
  color: red;
}
div.output_unrecognized a {
  color: inherit;
  text-decoration: none;
}
div.output_unrecognized a:hover {
  color: inherit;
  text-decoration: none;
}
.rendered_html {
  color: #000;
  /* any extras will just be numbers: */
}
.rendered_html em {
  font-style: italic;
}
.rendered_html strong {
  font-weight: bold;
}
.rendered_html u {
  text-decoration: underline;
}
.rendered_html :link {
  text-decoration: underline;
}
.rendered_html :visited {
  text-decoration: underline;
}
.rendered_html h1 {
  font-size: 185.7%;
  margin: 1.08em 0 0 0;
  font-weight: bold;
  line-height: 1.0;
}
.rendered_html h2 {
  font-size: 157.1%;
  margin: 1.27em 0 0 0;
  font-weight: bold;
  line-height: 1.0;
}
.rendered_html h3 {
  font-size: 128.6%;
  margin: 1.55em 0 0 0;
  font-weight: bold;
  line-height: 1.0;
}
.rendered_html h4 {
  font-size: 100%;
  margin: 2em 0 0 0;
  font-weight: bold;
  line-height: 1.0;
}
.rendered_html h5 {
  font-size: 100%;
  margin: 2em 0 0 0;
  font-weight: bold;
  line-height: 1.0;
  font-style: italic;
}
.rendered_html h6 {
  font-size: 100%;
  margin: 2em 0 0 0;
  font-weight: bold;
  line-height: 1.0;
  font-style: italic;
}
.rendered_html h1:first-child {
  margin-top: 0.538em;
}
.rendered_html h2:first-child {
  margin-top: 0.636em;
}
.rendered_html h3:first-child {
  margin-top: 0.777em;
}
.rendered_html h4:first-child {
  margin-top: 1em;
}
.rendered_html h5:first-child {
  margin-top: 1em;
}
.rendered_html h6:first-child {
  margin-top: 1em;
}
.rendered_html ul {
  list-style: disc;
  margin: 0em 2em;
  padding-left: 0px;
}
.rendered_html ul ul {
  list-style: square;
  margin: 0em 2em;
}
.rendered_html ul ul ul {
  list-style: circle;
  margin: 0em 2em;
}
.rendered_html ol {
  list-style: decimal;
  margin: 0em 2em;
  padding-left: 0px;
}
.rendered_html ol ol {
  list-style: upper-alpha;
  margin: 0em 2em;
}
.rendered_html ol ol ol {
  list-style: lower-alpha;
  margin: 0em 2em;
}
.rendered_html ol ol ol ol {
  list-style: lower-roman;
  margin: 0em 2em;
}
.rendered_html ol ol ol ol ol {
  list-style: decimal;
  margin: 0em 2em;
}
.rendered_html * + ul {
  margin-top: 1em;
}
.rendered_html * + ol {
  margin-top: 1em;
}
.rendered_html hr {
  color: black;
  background-color: black;
}
.rendered_html pre {
  margin: 1em 2em;
}
.rendered_html pre,
.rendered_html code {
  border: 0;
  background-color: #fff;
  color: #000;
  font-size: 100%;
  padding: 0px;
}
.rendered_html blockquote {
  margin: 1em 2em;
}
.rendered_html table {
  margin-left: auto;
  margin-right: auto;
  border: 1px solid black;
  border-collapse: collapse;
}
.rendered_html tr,
.rendered_html th,
.rendered_html td {
  border: 1px solid black;
  border-collapse: collapse;
  margin: 1em 2em;
}
.rendered_html td,
.rendered_html th {
  text-align: left;
  vertical-align: middle;
  padding: 4px;
}
.rendered_html th {
  font-weight: bold;
}
.rendered_html * + table {
  margin-top: 1em;
}
.rendered_html p {
  text-align: left;
}
.rendered_html * + p {
  margin-top: 1em;
}
.rendered_html img {
  display: block;
  margin-left: auto;
  margin-right: auto;
}
.rendered_html * + img {
  margin-top: 1em;
}
.rendered_html img,
.rendered_html svg {
  max-width: 100%;
  height: auto;
}
.rendered_html img.unconfined,
.rendered_html svg.unconfined {
  max-width: none;
}
div.text_cell {
  /* Old browsers */
  display: -webkit-box;
  -webkit-box-orient: horizontal;
  -webkit-box-align: stretch;
  display: -moz-box;
  -moz-box-orient: horizontal;
  -moz-box-align: stretch;
  display: box;
  box-orient: horizontal;
  box-align: stretch;
  /* Modern browsers */
  display: flex;
  flex-direction: row;
  align-items: stretch;
}
@media (max-width: 540px) {
  div.text_cell > div.prompt {
    display: none;
  }
}
div.text_cell_render {
  /*font-family: "Helvetica Neue", Arial, Helvetica, Geneva, sans-serif;*/
  outline: none;
  resize: none;
  width: inherit;
  border-style: none;
  padding: 0.5em 0.5em 0.5em 0.4em;
  color: #000;
  box-sizing: border-box;
  -moz-box-sizing: border-box;
  -webkit-box-sizing: border-box;
}
a.anchor-link:link {
  text-decoration: none;
  padding: 0px 20px;
  visibility: hidden;
}
h1:hover .anchor-link,
h2:hover .anchor-link,
h3:hover .anchor-link,
h4:hover .anchor-link,
h5:hover .anchor-link,
h6:hover .anchor-link {
  visibility: visible;
}
.text_cell.rendered .input_area {
  display: none;
}
.text_cell.rendered .rendered_html {
  overflow-x: auto;
  overflow-y: hidden;
}
.text_cell.unrendered .text_cell_render {
  display: none;
}
.cm-header-1,
.cm-header-2,
.cm-header-3,
.cm-header-4,
.cm-header-5,
.cm-header-6 {
  font-weight: bold;
  font-family: "Helvetica Neue", Helvetica, Arial, sans-serif;
}
.cm-header-1 {
  font-size: 185.7%;
}
.cm-header-2 {
  font-size: 157.1%;
}
.cm-header-3 {
  font-size: 128.6%;
}
.cm-header-4 {
  font-size: 110%;
}
.cm-header-5 {
  font-size: 100%;
  font-style: italic;
}
.cm-header-6 {
  font-size: 100%;
  font-style: italic;
}
/*!
*
* IPython notebook webapp
*
*/
@media (max-width: 767px) {
  .notebook_app {
    padding-left: 0px;
    padding-right: 0px;
  }
}
#ipython-main-app {
  box-sizing: border-box;
  -moz-box-sizing: border-box;
  -webkit-box-sizing: border-box;
  height: 100%;
}
div#notebook_panel {
  margin: 0px;
  padding: 0px;
  box-sizing: border-box;
  -moz-box-sizing: border-box;
  -webkit-box-sizing: border-box;
  height: 100%;
}
div#notebook {
  font-size: 14px;
  line-height: 20px;
  overflow-y: hidden;
  overflow-x: auto;
  width: 100%;
  /* This spaces the page away from the edge of the notebook area */
  padding-top: 20px;
  margin: 0px;
  outline: none;
  box-sizing: border-box;
  -moz-box-sizing: border-box;
  -webkit-box-sizing: border-box;
  min-height: 100%;
}
@media not print {
  #notebook-container {
    padding: 15px;
    background-color: #fff;
    min-height: 0;
    -webkit-box-shadow: 0px 0px 12px 1px rgba(87, 87, 87, 0.2);
    box-shadow: 0px 0px 12px 1px rgba(87, 87, 87, 0.2);
  }
}
@media print {
  #notebook-container {
    width: 100%;
  }
}
div.ui-widget-content {
  border: 1px solid #ababab;
  outline: none;
}
pre.dialog {
  background-color: #f7f7f7;
  border: 1px solid #ddd;
  border-radius: 2px;
  padding: 0.4em;
  padding-left: 2em;
}
p.dialog {
  padding: 0.2em;
}
/* Word-wrap output correctly.  This is the CSS3 spelling, though Firefox seems
   to not honor it correctly.  Webkit browsers (Chrome, rekonq, Safari) do.
 */
pre,
code,
kbd,
samp {
  white-space: pre-wrap;
}
#fonttest {
  font-family: monospace;
}
p {
  margin-bottom: 0;
}
.end_space {
  min-height: 100px;
  transition: height .2s ease;
}
.notebook_app > #header {
  -webkit-box-shadow: 0px 0px 12px 1px rgba(87, 87, 87, 0.2);
  box-shadow: 0px 0px 12px 1px rgba(87, 87, 87, 0.2);
}
@media not print {
  .notebook_app {
    background-color: #EEE;
  }
}
kbd {
  border-style: solid;
  border-width: 1px;
  box-shadow: none;
  margin: 2px;
  padding-left: 2px;
  padding-right: 2px;
  padding-top: 1px;
  padding-bottom: 1px;
}
/* CSS for the cell toolbar */
.celltoolbar {
  border: thin solid #CFCFCF;
  border-bottom: none;
  background: #EEE;
  border-radius: 2px 2px 0px 0px;
  width: 100%;
  height: 29px;
  padding-right: 4px;
  /* Old browsers */
  display: -webkit-box;
  -webkit-box-orient: horizontal;
  -webkit-box-align: stretch;
  display: -moz-box;
  -moz-box-orient: horizontal;
  -moz-box-align: stretch;
  display: box;
  box-orient: horizontal;
  box-align: stretch;
  /* Modern browsers */
  display: flex;
  flex-direction: row;
  align-items: stretch;
  /* Old browsers */
  -webkit-box-pack: end;
  -moz-box-pack: end;
  box-pack: end;
  /* Modern browsers */
  justify-content: flex-end;
  display: -webkit-flex;
}
@media print {
  .celltoolbar {
    display: none;
  }
}
.ctb_hideshow {
  display: none;
  vertical-align: bottom;
}
/* ctb_show is added to the ctb_hideshow div to show the cell toolbar.
   Cell toolbars are only shown when the ctb_global_show class is also set.
*/
.ctb_global_show .ctb_show.ctb_hideshow {
  display: block;
}
.ctb_global_show .ctb_show + .input_area,
.ctb_global_show .ctb_show + div.text_cell_input,
.ctb_global_show .ctb_show ~ div.text_cell_render {
  border-top-right-radius: 0px;
  border-top-left-radius: 0px;
}
.ctb_global_show .ctb_show ~ div.text_cell_render {
  border: 1px solid #cfcfcf;
}
.celltoolbar {
  font-size: 87%;
  padding-top: 3px;
}
.celltoolbar select {
  display: block;
  width: 100%;
  height: 32px;
  padding: 6px 12px;
  font-size: 13px;
  line-height: 1.42857143;
  color: #555555;
  background-color: #fff;
  background-image: none;
  border: 1px solid #ccc;
  border-radius: 2px;
  -webkit-box-shadow: inset 0 1px 1px rgba(0, 0, 0, 0.075);
  box-shadow: inset 0 1px 1px rgba(0, 0, 0, 0.075);
  -webkit-transition: border-color ease-in-out .15s, box-shadow ease-in-out .15s;
  -o-transition: border-color ease-in-out .15s, box-shadow ease-in-out .15s;
  transition: border-color ease-in-out .15s, box-shadow ease-in-out .15s;
  height: 30px;
  padding: 5px 10px;
  font-size: 12px;
  line-height: 1.5;
  border-radius: 1px;
  width: inherit;
  font-size: inherit;
  height: 22px;
  padding: 0px;
  display: inline-block;
}
.celltoolbar select:focus {
  border-color: #66afe9;
  outline: 0;
  -webkit-box-shadow: inset 0 1px 1px rgba(0,0,0,.075), 0 0 8px rgba(102, 175, 233, 0.6);
  box-shadow: inset 0 1px 1px rgba(0,0,0,.075), 0 0 8px rgba(102, 175, 233, 0.6);
}
.celltoolbar select::-moz-placeholder {
  color: #999;
  opacity: 1;
}
.celltoolbar select:-ms-input-placeholder {
  color: #999;
}
.celltoolbar select::-webkit-input-placeholder {
  color: #999;
}
.celltoolbar select::-ms-expand {
  border: 0;
  background-color: transparent;
}
.celltoolbar select[disabled],
.celltoolbar select[readonly],
fieldset[disabled] .celltoolbar select {
  background-color: #eeeeee;
  opacity: 1;
}
.celltoolbar select[disabled],
fieldset[disabled] .celltoolbar select {
  cursor: not-allowed;
}
textarea.celltoolbar select {
  height: auto;
}
select.celltoolbar select {
  height: 30px;
  line-height: 30px;
}
textarea.celltoolbar select,
select[multiple].celltoolbar select {
  height: auto;
}
.celltoolbar label {
  margin-left: 5px;
  margin-right: 5px;
}
.completions {
  position: absolute;
  z-index: 110;
  overflow: hidden;
  border: 1px solid #ababab;
  border-radius: 2px;
  -webkit-box-shadow: 0px 6px 10px -1px #adadad;
  box-shadow: 0px 6px 10px -1px #adadad;
  line-height: 1;
}
.completions select {
  background: white;
  outline: none;
  border: none;
  padding: 0px;
  margin: 0px;
  overflow: auto;
  font-family: monospace;
  font-size: 110%;
  color: #000;
  width: auto;
}
.completions select option.context {
  color: #286090;
}
#kernel_logo_widget {
  float: right !important;
  float: right;
}
#kernel_logo_widget .current_kernel_logo {
  display: none;
  margin-top: -1px;
  margin-bottom: -1px;
  width: 32px;
  height: 32px;
}
#menubar {
  box-sizing: border-box;
  -moz-box-sizing: border-box;
  -webkit-box-sizing: border-box;
  margin-top: 1px;
}
#menubar .navbar {
  border-top: 1px;
  border-radius: 0px 0px 2px 2px;
  margin-bottom: 0px;
}
#menubar .navbar-toggle {
  float: left;
  padding-top: 7px;
  padding-bottom: 7px;
  border: none;
}
#menubar .navbar-collapse {
  clear: left;
}
.nav-wrapper {
  border-bottom: 1px solid #e7e7e7;
}
i.menu-icon {
  padding-top: 4px;
}
ul#help_menu li a {
  overflow: hidden;
  padding-right: 2.2em;
}
ul#help_menu li a i {
  margin-right: -1.2em;
}
.dropdown-submenu {
  position: relative;
}
.dropdown-submenu > .dropdown-menu {
  top: 0;
  left: 100%;
  margin-top: -6px;
  margin-left: -1px;
}
.dropdown-submenu:hover > .dropdown-menu {
  display: block;
}
.dropdown-submenu > a:after {
  display: inline-block;
  font: normal normal normal 14px/1 FontAwesome;
  font-size: inherit;
  text-rendering: auto;
  -webkit-font-smoothing: antialiased;
  -moz-osx-font-smoothing: grayscale;
  display: block;
  content: "\f0da";
  float: right;
  color: #333333;
  margin-top: 2px;
  margin-right: -10px;
}
.dropdown-submenu > a:after.pull-left {
  margin-right: .3em;
}
.dropdown-submenu > a:after.pull-right {
  margin-left: .3em;
}
.dropdown-submenu:hover > a:after {
  color: #262626;
}
.dropdown-submenu.pull-left {
  float: none;
}
.dropdown-submenu.pull-left > .dropdown-menu {
  left: -100%;
  margin-left: 10px;
}
#notification_area {
  float: right !important;
  float: right;
  z-index: 10;
}
.indicator_area {
  float: right !important;
  float: right;
  color: #777;
  margin-left: 5px;
  margin-right: 5px;
  width: 11px;
  z-index: 10;
  text-align: center;
  width: auto;
}
#kernel_indicator {
  float: right !important;
  float: right;
  color: #777;
  margin-left: 5px;
  margin-right: 5px;
  width: 11px;
  z-index: 10;
  text-align: center;
  width: auto;
  border-left: 1px solid;
}
#kernel_indicator .kernel_indicator_name {
  padding-left: 5px;
  padding-right: 5px;
}
#modal_indicator {
  float: right !important;
  float: right;
  color: #777;
  margin-left: 5px;
  margin-right: 5px;
  width: 11px;
  z-index: 10;
  text-align: center;
  width: auto;
}
#readonly-indicator {
  float: right !important;
  float: right;
  color: #777;
  margin-left: 5px;
  margin-right: 5px;
  width: 11px;
  z-index: 10;
  text-align: center;
  width: auto;
  margin-top: 2px;
  margin-bottom: 0px;
  margin-left: 0px;
  margin-right: 0px;
  display: none;
}
.modal_indicator:before {
  width: 1.28571429em;
  text-align: center;
}
.edit_mode .modal_indicator:before {
  display: inline-block;
  font: normal normal normal 14px/1 FontAwesome;
  font-size: inherit;
  text-rendering: auto;
  -webkit-font-smoothing: antialiased;
  -moz-osx-font-smoothing: grayscale;
  content: "\f040";
}
.edit_mode .modal_indicator:before.pull-left {
  margin-right: .3em;
}
.edit_mode .modal_indicator:before.pull-right {
  margin-left: .3em;
}
.command_mode .modal_indicator:before {
  display: inline-block;
  font: normal normal normal 14px/1 FontAwesome;
  font-size: inherit;
  text-rendering: auto;
  -webkit-font-smoothing: antialiased;
  -moz-osx-font-smoothing: grayscale;
  content: ' ';
}
.command_mode .modal_indicator:before.pull-left {
  margin-right: .3em;
}
.command_mode .modal_indicator:before.pull-right {
  margin-left: .3em;
}
.kernel_idle_icon:before {
  display: inline-block;
  font: normal normal normal 14px/1 FontAwesome;
  font-size: inherit;
  text-rendering: auto;
  -webkit-font-smoothing: antialiased;
  -moz-osx-font-smoothing: grayscale;
  content: "\f10c";
}
.kernel_idle_icon:before.pull-left {
  margin-right: .3em;
}
.kernel_idle_icon:before.pull-right {
  margin-left: .3em;
}
.kernel_busy_icon:before {
  display: inline-block;
  font: normal normal normal 14px/1 FontAwesome;
  font-size: inherit;
  text-rendering: auto;
  -webkit-font-smoothing: antialiased;
  -moz-osx-font-smoothing: grayscale;
  content: "\f111";
}
.kernel_busy_icon:before.pull-left {
  margin-right: .3em;
}
.kernel_busy_icon:before.pull-right {
  margin-left: .3em;
}
.kernel_dead_icon:before {
  display: inline-block;
  font: normal normal normal 14px/1 FontAwesome;
  font-size: inherit;
  text-rendering: auto;
  -webkit-font-smoothing: antialiased;
  -moz-osx-font-smoothing: grayscale;
  content: "\f1e2";
}
.kernel_dead_icon:before.pull-left {
  margin-right: .3em;
}
.kernel_dead_icon:before.pull-right {
  margin-left: .3em;
}
.kernel_disconnected_icon:before {
  display: inline-block;
  font: normal normal normal 14px/1 FontAwesome;
  font-size: inherit;
  text-rendering: auto;
  -webkit-font-smoothing: antialiased;
  -moz-osx-font-smoothing: grayscale;
  content: "\f127";
}
.kernel_disconnected_icon:before.pull-left {
  margin-right: .3em;
}
.kernel_disconnected_icon:before.pull-right {
  margin-left: .3em;
}
.notification_widget {
  color: #777;
  z-index: 10;
  background: rgba(240, 240, 240, 0.5);
  margin-right: 4px;
  color: #333;
  background-color: #fff;
  border-color: #ccc;
}
.notification_widget:focus,
.notification_widget.focus {
  color: #333;
  background-color: #e6e6e6;
  border-color: #8c8c8c;
}
.notification_widget:hover {
  color: #333;
  background-color: #e6e6e6;
  border-color: #adadad;
}
.notification_widget:active,
.notification_widget.active,
.open > .dropdown-toggle.notification_widget {
  color: #333;
  background-color: #e6e6e6;
  border-color: #adadad;
}
.notification_widget:active:hover,
.notification_widget.active:hover,
.open > .dropdown-toggle.notification_widget:hover,
.notification_widget:active:focus,
.notification_widget.active:focus,
.open > .dropdown-toggle.notification_widget:focus,
.notification_widget:active.focus,
.notification_widget.active.focus,
.open > .dropdown-toggle.notification_widget.focus {
  color: #333;
  background-color: #d4d4d4;
  border-color: #8c8c8c;
}
.notification_widget:active,
.notification_widget.active,
.open > .dropdown-toggle.notification_widget {
  background-image: none;
}
.notification_widget.disabled:hover,
.notification_widget[disabled]:hover,
fieldset[disabled] .notification_widget:hover,
.notification_widget.disabled:focus,
.notification_widget[disabled]:focus,
fieldset[disabled] .notification_widget:focus,
.notification_widget.disabled.focus,
.notification_widget[disabled].focus,
fieldset[disabled] .notification_widget.focus {
  background-color: #fff;
  border-color: #ccc;
}
.notification_widget .badge {
  color: #fff;
  background-color: #333;
}
.notification_widget.warning {
  color: #fff;
  background-color: #f0ad4e;
  border-color: #eea236;
}
.notification_widget.warning:focus,
.notification_widget.warning.focus {
  color: #fff;
  background-color: #ec971f;
  border-color: #985f0d;
}
.notification_widget.warning:hover {
  color: #fff;
  background-color: #ec971f;
  border-color: #d58512;
}
.notification_widget.warning:active,
.notification_widget.warning.active,
.open > .dropdown-toggle.notification_widget.warning {
  color: #fff;
  background-color: #ec971f;
  border-color: #d58512;
}
.notification_widget.warning:active:hover,
.notification_widget.warning.active:hover,
.open > .dropdown-toggle.notification_widget.warning:hover,
.notification_widget.warning:active:focus,
.notification_widget.warning.active:focus,
.open > .dropdown-toggle.notification_widget.warning:focus,
.notification_widget.warning:active.focus,
.notification_widget.warning.active.focus,
.open > .dropdown-toggle.notification_widget.warning.focus {
  color: #fff;
  background-color: #d58512;
  border-color: #985f0d;
}
.notification_widget.warning:active,
.notification_widget.warning.active,
.open > .dropdown-toggle.notification_widget.warning {
  background-image: none;
}
.notification_widget.warning.disabled:hover,
.notification_widget.warning[disabled]:hover,
fieldset[disabled] .notification_widget.warning:hover,
.notification_widget.warning.disabled:focus,
.notification_widget.warning[disabled]:focus,
fieldset[disabled] .notification_widget.warning:focus,
.notification_widget.warning.disabled.focus,
.notification_widget.warning[disabled].focus,
fieldset[disabled] .notification_widget.warning.focus {
  background-color: #f0ad4e;
  border-color: #eea236;
}
.notification_widget.warning .badge {
  color: #f0ad4e;
  background-color: #fff;
}
.notification_widget.success {
  color: #fff;
  background-color: #5cb85c;
  border-color: #4cae4c;
}
.notification_widget.success:focus,
.notification_widget.success.focus {
  color: #fff;
  background-color: #449d44;
  border-color: #255625;
}
.notification_widget.success:hover {
  color: #fff;
  background-color: #449d44;
  border-color: #398439;
}
.notification_widget.success:active,
.notification_widget.success.active,
.open > .dropdown-toggle.notification_widget.success {
  color: #fff;
  background-color: #449d44;
  border-color: #398439;
}
.notification_widget.success:active:hover,
.notification_widget.success.active:hover,
.open > .dropdown-toggle.notification_widget.success:hover,
.notification_widget.success:active:focus,
.notification_widget.success.active:focus,
.open > .dropdown-toggle.notification_widget.success:focus,
.notification_widget.success:active.focus,
.notification_widget.success.active.focus,
.open > .dropdown-toggle.notification_widget.success.focus {
  color: #fff;
  background-color: #398439;
  border-color: #255625;
}
.notification_widget.success:active,
.notification_widget.success.active,
.open > .dropdown-toggle.notification_widget.success {
  background-image: none;
}
.notification_widget.success.disabled:hover,
.notification_widget.success[disabled]:hover,
fieldset[disabled] .notification_widget.success:hover,
.notification_widget.success.disabled:focus,
.notification_widget.success[disabled]:focus,
fieldset[disabled] .notification_widget.success:focus,
.notification_widget.success.disabled.focus,
.notification_widget.success[disabled].focus,
fieldset[disabled] .notification_widget.success.focus {
  background-color: #5cb85c;
  border-color: #4cae4c;
}
.notification_widget.success .badge {
  color: #5cb85c;
  background-color: #fff;
}
.notification_widget.info {
  color: #fff;
  background-color: #5bc0de;
  border-color: #46b8da;
}
.notification_widget.info:focus,
.notification_widget.info.focus {
  color: #fff;
  background-color: #31b0d5;
  border-color: #1b6d85;
}
.notification_widget.info:hover {
  color: #fff;
  background-color: #31b0d5;
  border-color: #269abc;
}
.notification_widget.info:active,
.notification_widget.info.active,
.open > .dropdown-toggle.notification_widget.info {
  color: #fff;
  background-color: #31b0d5;
  border-color: #269abc;
}
.notification_widget.info:active:hover,
.notification_widget.info.active:hover,
.open > .dropdown-toggle.notification_widget.info:hover,
.notification_widget.info:active:focus,
.notification_widget.info.active:focus,
.open > .dropdown-toggle.notification_widget.info:focus,
.notification_widget.info:active.focus,
.notification_widget.info.active.focus,
.open > .dropdown-toggle.notification_widget.info.focus {
  color: #fff;
  background-color: #269abc;
  border-color: #1b6d85;
}
.notification_widget.info:active,
.notification_widget.info.active,
.open > .dropdown-toggle.notification_widget.info {
  background-image: none;
}
.notification_widget.info.disabled:hover,
.notification_widget.info[disabled]:hover,
fieldset[disabled] .notification_widget.info:hover,
.notification_widget.info.disabled:focus,
.notification_widget.info[disabled]:focus,
fieldset[disabled] .notification_widget.info:focus,
.notification_widget.info.disabled.focus,
.notification_widget.info[disabled].focus,
fieldset[disabled] .notification_widget.info.focus {
  background-color: #5bc0de;
  border-color: #46b8da;
}
.notification_widget.info .badge {
  color: #5bc0de;
  background-color: #fff;
}
.notification_widget.danger {
  color: #fff;
  background-color: #d9534f;
  border-color: #d43f3a;
}
.notification_widget.danger:focus,
.notification_widget.danger.focus {
  color: #fff;
  background-color: #c9302c;
  border-color: #761c19;
}
.notification_widget.danger:hover {
  color: #fff;
  background-color: #c9302c;
  border-color: #ac2925;
}
.notification_widget.danger:active,
.notification_widget.danger.active,
.open > .dropdown-toggle.notification_widget.danger {
  color: #fff;
  background-color: #c9302c;
  border-color: #ac2925;
}
.notification_widget.danger:active:hover,
.notification_widget.danger.active:hover,
.open > .dropdown-toggle.notification_widget.danger:hover,
.notification_widget.danger:active:focus,
.notification_widget.danger.active:focus,
.open > .dropdown-toggle.notification_widget.danger:focus,
.notification_widget.danger:active.focus,
.notification_widget.danger.active.focus,
.open > .dropdown-toggle.notification_widget.danger.focus {
  color: #fff;
  background-color: #ac2925;
  border-color: #761c19;
}
.notification_widget.danger:active,
.notification_widget.danger.active,
.open > .dropdown-toggle.notification_widget.danger {
  background-image: none;
}
.notification_widget.danger.disabled:hover,
.notification_widget.danger[disabled]:hover,
fieldset[disabled] .notification_widget.danger:hover,
.notification_widget.danger.disabled:focus,
.notification_widget.danger[disabled]:focus,
fieldset[disabled] .notification_widget.danger:focus,
.notification_widget.danger.disabled.focus,
.notification_widget.danger[disabled].focus,
fieldset[disabled] .notification_widget.danger.focus {
  background-color: #d9534f;
  border-color: #d43f3a;
}
.notification_widget.danger .badge {
  color: #d9534f;
  background-color: #fff;
}
div#pager {
  background-color: #fff;
  font-size: 14px;
  line-height: 20px;
  overflow: hidden;
  display: none;
  position: fixed;
  bottom: 0px;
  width: 100%;
  max-height: 50%;
  padding-top: 8px;
  -webkit-box-shadow: 0px 0px 12px 1px rgba(87, 87, 87, 0.2);
  box-shadow: 0px 0px 12px 1px rgba(87, 87, 87, 0.2);
  /* Display over codemirror */
  z-index: 100;
  /* Hack which prevents jquery ui resizable from changing top. */
  top: auto !important;
}
div#pager pre {
  line-height: 1.21429em;
  color: #000;
  background-color: #f7f7f7;
  padding: 0.4em;
}
div#pager #pager-button-area {
  position: absolute;
  top: 8px;
  right: 20px;
}
div#pager #pager-contents {
  position: relative;
  overflow: auto;
  width: 100%;
  height: 100%;
}
div#pager #pager-contents #pager-container {
  position: relative;
  padding: 15px 0px;
  box-sizing: border-box;
  -moz-box-sizing: border-box;
  -webkit-box-sizing: border-box;
}
div#pager .ui-resizable-handle {
  top: 0px;
  height: 8px;
  background: #f7f7f7;
  border-top: 1px solid #cfcfcf;
  border-bottom: 1px solid #cfcfcf;
  /* This injects handle bars (a short, wide = symbol) for 
        the resize handle. */
}
div#pager .ui-resizable-handle::after {
  content: '';
  top: 2px;
  left: 50%;
  height: 3px;
  width: 30px;
  margin-left: -15px;
  position: absolute;
  border-top: 1px solid #cfcfcf;
}
.quickhelp {
  /* Old browsers */
  display: -webkit-box;
  -webkit-box-orient: horizontal;
  -webkit-box-align: stretch;
  display: -moz-box;
  -moz-box-orient: horizontal;
  -moz-box-align: stretch;
  display: box;
  box-orient: horizontal;
  box-align: stretch;
  /* Modern browsers */
  display: flex;
  flex-direction: row;
  align-items: stretch;
  line-height: 1.8em;
}
.shortcut_key {
  display: inline-block;
  width: 20ex;
  text-align: right;
  font-family: monospace;
}
.shortcut_descr {
  display: inline-block;
  /* Old browsers */
  -webkit-box-flex: 1;
  -moz-box-flex: 1;
  box-flex: 1;
  /* Modern browsers */
  flex: 1;
}
span.save_widget {
  margin-top: 6px;
}
span.save_widget span.filename {
  height: 1em;
  line-height: 1em;
  padding: 3px;
  margin-left: 16px;
  border: none;
  font-size: 146.5%;
  border-radius: 2px;
}
span.save_widget span.filename:hover {
  background-color: #e6e6e6;
}
span.checkpoint_status,
span.autosave_status {
  font-size: small;
}
@media (max-width: 767px) {
  span.save_widget {
    font-size: small;
  }
  span.checkpoint_status,
  span.autosave_status {
    display: none;
  }
}
@media (min-width: 768px) and (max-width: 991px) {
  span.checkpoint_status {
    display: none;
  }
  span.autosave_status {
    font-size: x-small;
  }
}
.toolbar {
  padding: 0px;
  margin-left: -5px;
  margin-top: 2px;
  margin-bottom: 5px;
  box-sizing: border-box;
  -moz-box-sizing: border-box;
  -webkit-box-sizing: border-box;
}
.toolbar select,
.toolbar label {
  width: auto;
  vertical-align: middle;
  margin-right: 2px;
  margin-bottom: 0px;
  display: inline;
  font-size: 92%;
  margin-left: 0.3em;
  margin-right: 0.3em;
  padding: 0px;
  padding-top: 3px;
}
.toolbar .btn {
  padding: 2px 8px;
}
.toolbar .btn-group {
  margin-top: 0px;
  margin-left: 5px;
}
#maintoolbar {
  margin-bottom: -3px;
  margin-top: -8px;
  border: 0px;
  min-height: 27px;
  margin-left: 0px;
  padding-top: 11px;
  padding-bottom: 3px;
}
#maintoolbar .navbar-text {
  float: none;
  vertical-align: middle;
  text-align: right;
  margin-left: 5px;
  margin-right: 0px;
  margin-top: 0px;
}
.select-xs {
  height: 24px;
}
.pulse,
.dropdown-menu > li > a.pulse,
li.pulse > a.dropdown-toggle,
li.pulse.open > a.dropdown-toggle {
  background-color: #F37626;
  color: white;
}
/**
 * Primary styles
 *
 * Author: Jupyter Development Team
 */
/** WARNING IF YOU ARE EDITTING THIS FILE, if this is a .css file, It has a lot
 * of chance of beeing generated from the ../less/[samename].less file, you can
 * try to get back the less file by reverting somme commit in history
 **/
/*
 * We'll try to get something pretty, so we
 * have some strange css to have the scroll bar on
 * the left with fix button on the top right of the tooltip
 */
@-moz-keyframes fadeOut {
  from {
    opacity: 1;
  }
  to {
    opacity: 0;
  }
}
@-webkit-keyframes fadeOut {
  from {
    opacity: 1;
  }
  to {
    opacity: 0;
  }
}
@-moz-keyframes fadeIn {
  from {
    opacity: 0;
  }
  to {
    opacity: 1;
  }
}
@-webkit-keyframes fadeIn {
  from {
    opacity: 0;
  }
  to {
    opacity: 1;
  }
}
/*properties of tooltip after "expand"*/
.bigtooltip {
  overflow: auto;
  height: 200px;
  -webkit-transition-property: height;
  -webkit-transition-duration: 500ms;
  -moz-transition-property: height;
  -moz-transition-duration: 500ms;
  transition-property: height;
  transition-duration: 500ms;
}
/*properties of tooltip before "expand"*/
.smalltooltip {
  -webkit-transition-property: height;
  -webkit-transition-duration: 500ms;
  -moz-transition-property: height;
  -moz-transition-duration: 500ms;
  transition-property: height;
  transition-duration: 500ms;
  text-overflow: ellipsis;
  overflow: hidden;
  height: 80px;
}
.tooltipbuttons {
  position: absolute;
  padding-right: 15px;
  top: 0px;
  right: 0px;
}
.tooltiptext {
  /*avoid the button to overlap on some docstring*/
  padding-right: 30px;
}
.ipython_tooltip {
  max-width: 700px;
  /*fade-in animation when inserted*/
  -webkit-animation: fadeOut 400ms;
  -moz-animation: fadeOut 400ms;
  animation: fadeOut 400ms;
  -webkit-animation: fadeIn 400ms;
  -moz-animation: fadeIn 400ms;
  animation: fadeIn 400ms;
  vertical-align: middle;
  background-color: #f7f7f7;
  overflow: visible;
  border: #ababab 1px solid;
  outline: none;
  padding: 3px;
  margin: 0px;
  padding-left: 7px;
  font-family: monospace;
  min-height: 50px;
  -moz-box-shadow: 0px 6px 10px -1px #adadad;
  -webkit-box-shadow: 0px 6px 10px -1px #adadad;
  box-shadow: 0px 6px 10px -1px #adadad;
  border-radius: 2px;
  position: absolute;
  z-index: 1000;
}
.ipython_tooltip a {
  float: right;
}
.ipython_tooltip .tooltiptext pre {
  border: 0;
  border-radius: 0;
  font-size: 100%;
  background-color: #f7f7f7;
}
.pretooltiparrow {
  left: 0px;
  margin: 0px;
  top: -16px;
  width: 40px;
  height: 16px;
  overflow: hidden;
  position: absolute;
}
.pretooltiparrow:before {
  background-color: #f7f7f7;
  border: 1px #ababab solid;
  z-index: 11;
  content: "";
  position: absolute;
  left: 15px;
  top: 10px;
  width: 25px;
  height: 25px;
  -webkit-transform: rotate(45deg);
  -moz-transform: rotate(45deg);
  -ms-transform: rotate(45deg);
  -o-transform: rotate(45deg);
}
ul.typeahead-list i {
  margin-left: -10px;
  width: 18px;
}
ul.typeahead-list {
  max-height: 80vh;
  overflow: auto;
}
ul.typeahead-list > li > a {
  /** Firefox bug **/
  /* see https://github.com/jupyter/notebook/issues/559 */
  white-space: normal;
}
.cmd-palette .modal-body {
  padding: 7px;
}
.cmd-palette form {
  background: white;
}
.cmd-palette input {
  outline: none;
}
.no-shortcut {
  display: none;
}
.command-shortcut:before {
  content: "(command)";
  padding-right: 3px;
  color: #777777;
}
.edit-shortcut:before {
  content: "(edit)";
  padding-right: 3px;
  color: #777777;
}
#find-and-replace #replace-preview .match,
#find-and-replace #replace-preview .insert {
  background-color: #BBDEFB;
  border-color: #90CAF9;
  border-style: solid;
  border-width: 1px;
  border-radius: 0px;
}
#find-and-replace #replace-preview .replace .match {
  background-color: #FFCDD2;
  border-color: #EF9A9A;
  border-radius: 0px;
}
#find-and-replace #replace-preview .replace .insert {
  background-color: #C8E6C9;
  border-color: #A5D6A7;
  border-radius: 0px;
}
#find-and-replace #replace-preview {
  max-height: 60vh;
  overflow: auto;
}
#find-and-replace #replace-preview pre {
  padding: 5px 10px;
}
.terminal-app {
  background: #EEE;
}
.terminal-app #header {
  background: #fff;
  -webkit-box-shadow: 0px 0px 12px 1px rgba(87, 87, 87, 0.2);
  box-shadow: 0px 0px 12px 1px rgba(87, 87, 87, 0.2);
}
.terminal-app .terminal {
  float: left;
  font-family: monospace;
  color: white;
  background: black;
  padding: 0.4em;
  border-radius: 2px;
  -webkit-box-shadow: 0px 0px 12px 1px rgba(87, 87, 87, 0.4);
  box-shadow: 0px 0px 12px 1px rgba(87, 87, 87, 0.4);
}
.terminal-app .terminal,
.terminal-app .terminal dummy-screen {
  line-height: 1em;
  font-size: 14px;
}
.terminal-app .terminal-cursor {
  color: black;
  background: white;
}
.terminal-app #terminado-container {
  margin-top: 20px;
}
/*# sourceMappingURL=style.min.css.map */
    </style>
<style type="text/css">
    .highlight .hll { background-color: #ffffcc }
.highlight  { background: #f8f8f8; }
.highlight .c { color: #408080; font-style: italic } /* Comment */
.highlight .err { border: 1px solid #FF0000 } /* Error */
.highlight .k { color: #008000; font-weight: bold } /* Keyword */
.highlight .o { color: #666666 } /* Operator */
.highlight .ch { color: #408080; font-style: italic } /* Comment.Hashbang */
.highlight .cm { color: #408080; font-style: italic } /* Comment.Multiline */
.highlight .cp { color: #BC7A00 } /* Comment.Preproc */
.highlight .cpf { color: #408080; font-style: italic } /* Comment.PreprocFile */
.highlight .c1 { color: #408080; font-style: italic } /* Comment.Single */
.highlight .cs { color: #408080; font-style: italic } /* Comment.Special */
.highlight .gd { color: #A00000 } /* Generic.Deleted */
.highlight .ge { font-style: italic } /* Generic.Emph */
.highlight .gr { color: #FF0000 } /* Generic.Error */
.highlight .gh { color: #000080; font-weight: bold } /* Generic.Heading */
.highlight .gi { color: #00A000 } /* Generic.Inserted */
.highlight .go { color: #888888 } /* Generic.Output */
.highlight .gp { color: #000080; font-weight: bold } /* Generic.Prompt */
.highlight .gs { font-weight: bold } /* Generic.Strong */
.highlight .gu { color: #800080; font-weight: bold } /* Generic.Subheading */
.highlight .gt { color: #0044DD } /* Generic.Traceback */
.highlight .kc { color: #008000; font-weight: bold } /* Keyword.Constant */
.highlight .kd { color: #008000; font-weight: bold } /* Keyword.Declaration */
.highlight .kn { color: #008000; font-weight: bold } /* Keyword.Namespace */
.highlight .kp { color: #008000 } /* Keyword.Pseudo */
.highlight .kr { color: #008000; font-weight: bold } /* Keyword.Reserved */
.highlight .kt { color: #B00040 } /* Keyword.Type */
.highlight .m { color: #666666 } /* Literal.Number */
.highlight .s { color: #BA2121 } /* Literal.String */
.highlight .na { color: #7D9029 } /* Name.Attribute */
.highlight .nb { color: #008000 } /* Name.Builtin */
.highlight .nc { color: #0000FF; font-weight: bold } /* Name.Class */
.highlight .no { color: #880000 } /* Name.Constant */
.highlight .nd { color: #AA22FF } /* Name.Decorator */
.highlight .ni { color: #999999; font-weight: bold } /* Name.Entity */
.highlight .ne { color: #D2413A; font-weight: bold } /* Name.Exception */
.highlight .nf { color: #0000FF } /* Name.Function */
.highlight .nl { color: #A0A000 } /* Name.Label */
.highlight .nn { color: #0000FF; font-weight: bold } /* Name.Namespace */
.highlight .nt { color: #008000; font-weight: bold } /* Name.Tag */
.highlight .nv { color: #19177C } /* Name.Variable */
.highlight .ow { color: #AA22FF; font-weight: bold } /* Operator.Word */
.highlight .w { color: #bbbbbb } /* Text.Whitespace */
.highlight .mb { color: #666666 } /* Literal.Number.Bin */
.highlight .mf { color: #666666 } /* Literal.Number.Float */
.highlight .mh { color: #666666 } /* Literal.Number.Hex */
.highlight .mi { color: #666666 } /* Literal.Number.Integer */
.highlight .mo { color: #666666 } /* Literal.Number.Oct */
.highlight .sb { color: #BA2121 } /* Literal.String.Backtick */
.highlight .sc { color: #BA2121 } /* Literal.String.Char */
.highlight .sd { color: #BA2121; font-style: italic } /* Literal.String.Doc */
.highlight .s2 { color: #BA2121 } /* Literal.String.Double */
.highlight .se { color: #BB6622; font-weight: bold } /* Literal.String.Escape */
.highlight .sh { color: #BA2121 } /* Literal.String.Heredoc */
.highlight .si { color: #BB6688; font-weight: bold } /* Literal.String.Interpol */
.highlight .sx { color: #008000 } /* Literal.String.Other */
.highlight .sr { color: #BB6688 } /* Literal.String.Regex */
.highlight .s1 { color: #BA2121 } /* Literal.String.Single */
.highlight .ss { color: #19177C } /* Literal.String.Symbol */
.highlight .bp { color: #008000 } /* Name.Builtin.Pseudo */
.highlight .vc { color: #19177C } /* Name.Variable.Class */
.highlight .vg { color: #19177C } /* Name.Variable.Global */
.highlight .vi { color: #19177C } /* Name.Variable.Instance */
.highlight .il { color: #666666 } /* Literal.Number.Integer.Long */
    </style>
<style type="text/css">
    
/* Temporary definitions which will become obsolete with Notebook release 5.0 */
.ansi-black-fg { color: #3E424D; }
.ansi-black-bg { background-color: #3E424D; }
.ansi-black-intense-fg { color: #282C36; }
.ansi-black-intense-bg { background-color: #282C36; }
.ansi-red-fg { color: #E75C58; }
.ansi-red-bg { background-color: #E75C58; }
.ansi-red-intense-fg { color: #B22B31; }
.ansi-red-intense-bg { background-color: #B22B31; }
.ansi-green-fg { color: #00A250; }
.ansi-green-bg { background-color: #00A250; }
.ansi-green-intense-fg { color: #007427; }
.ansi-green-intense-bg { background-color: #007427; }
.ansi-yellow-fg { color: #DDB62B; }
.ansi-yellow-bg { background-color: #DDB62B; }
.ansi-yellow-intense-fg { color: #B27D12; }
.ansi-yellow-intense-bg { background-color: #B27D12; }
.ansi-blue-fg { color: #208FFB; }
.ansi-blue-bg { background-color: #208FFB; }
.ansi-blue-intense-fg { color: #0065CA; }
.ansi-blue-intense-bg { background-color: #0065CA; }
.ansi-magenta-fg { color: #D160C4; }
.ansi-magenta-bg { background-color: #D160C4; }
.ansi-magenta-intense-fg { color: #A03196; }
.ansi-magenta-intense-bg { background-color: #A03196; }
.ansi-cyan-fg { color: #60C6C8; }
.ansi-cyan-bg { background-color: #60C6C8; }
.ansi-cyan-intense-fg { color: #258F8F; }
.ansi-cyan-intense-bg { background-color: #258F8F; }
.ansi-white-fg { color: #C5C1B4; }
.ansi-white-bg { background-color: #C5C1B4; }
.ansi-white-intense-fg { color: #A1A6B2; }
.ansi-white-intense-bg { background-color: #A1A6B2; }

.ansi-bold { font-weight: bold; }

    </style>
<style type="text/css">
    .highlight .hll {
  background-color: #ffffcc;
}
.highlight .c {
  color: #999988;
  font-style: italic;
}
/* Comment */
.highlight .err {
  color: #a61717;
  background-color: #e3d2d2;
}
/* Error */
.highlight .k {
  color: #000000;
  font-weight: bold;
}
/* Keyword */
.highlight .o {
  color: #000000;
  font-weight: bold;
}
/* Operator */
.highlight .cm {
  color: #999988;
  font-style: italic;
}
/* Comment.Multiline */
.highlight .cp {
  color: #999999;
  font-weight: bold;
  font-style: italic;
}
/* Comment.Preproc */
.highlight .c1 {
  color: #999988;
  font-style: italic;
}
/* Comment.Single */
.highlight .cs {
  color: #999999;
  font-weight: bold;
  font-style: italic;
}
/* Comment.Special */
.highlight .gd {
  color: #000000;
  background-color: #ffdddd;
}
/* Generic.Deleted */
.highlight .ge {
  color: #000000;
  font-style: italic;
}
/* Generic.Emph */
.highlight .gr {
  color: #aa0000;
}
/* Generic.Error */
.highlight .gh {
  color: #999999;
}
/* Generic.Heading */
.highlight .gi {
  color: #000000;
  background-color: #ddffdd;
}
/* Generic.Inserted */
.highlight .go {
  color: #888888;
}
/* Generic.Output */
.highlight .gp {
  color: #555555;
}
/* Generic.Prompt */
.highlight .gs {
  font-weight: bold;
}
/* Generic.Strong */
.highlight .gu {
  color: #aaaaaa;
}
/* Generic.Subheading */
.highlight .gt {
  color: #aa0000;
}
/* Generic.Traceback */
.highlight .kc {
  color: #000000;
  font-weight: bold;
}
/* Keyword.Constant */
.highlight .kd {
  color: #000000;
  font-weight: bold;
}
/* Keyword.Declaration */
.highlight .kn {
  color: #000000;
  font-weight: bold;
}
/* Keyword.Namespace */
.highlight .kp {
  color: #000000;
  font-weight: bold;
}
/* Keyword.Pseudo */
.highlight .kr {
  color: #000000;
  font-weight: bold;
}
/* Keyword.Reserved */
.highlight .kt {
  color: #445588;
  font-weight: bold;
}
/* Keyword.Type */
.highlight .m {
  color: #009999;
}
/* Literal.Number */
.highlight .s {
  color: #d01040;
}
/* Literal.String */
.highlight .na {
  color: #008080;
}
/* Name.Attribute */
.highlight .nb {
  color: #0086b3;
}
/* Name.Builtin */
.highlight .nc {
  color: #445588;
  font-weight: bold;
}
/* Name.Class */
.highlight .no {
  color: #008080;
}
/* Name.Constant */
.highlight .nd {
  color: #3c5d5d;
  font-weight: bold;
}
/* Name.Decorator */
.highlight .ni {
  color: #800080;
}
/* Name.Entity */
.highlight .ne {
  color: #990000;
  font-weight: bold;
}
/* Name.Exception */
.highlight .nf {
  color: #990000;
  font-weight: bold;
}
/* Name.Function */
.highlight .nl {
  color: #990000;
  font-weight: bold;
}
/* Name.Label */
.highlight .nn {
  color: black;
  font-weight: normal;
}
/* Name.Namespace */
.highlight .nt {
  color: #000080;
}
/* Name.Tag */
.highlight .nv {
  color: #008080;
}
/* Name.Variable */
.highlight .ow {
  color: #000000;
  font-weight: bold;
}
/* Operator.Word */
.highlight .w {
  color: #bbbbbb;
}
/* Text.Whitespace */
.highlight .mf {
  color: #009999;
}
/* Literal.Number.Float */
.highlight .mh {
  color: #009999;
}
/* Literal.Number.Hex */
.highlight .mi {
  color: #009999;
}
/* Literal.Number.Integer */
.highlight .mo {
  color: #009999;
}
/* Literal.Number.Oct */
.highlight .sb {
  color: #d01040;
}
/* Literal.String.Backtick */
.highlight .sc {
  color: #d01040;
}
/* Literal.String.Char */
.highlight .sd {
  color: #d01040;
}
/* Literal.String.Doc */
.highlight .s2 {
  color: #d01040;
}
/* Literal.String.Double */
.highlight .se {
  color: #d01040;
}
/* Literal.String.Escape */
.highlight .sh {
  color: #d01040;
}
/* Literal.String.Heredoc */
.highlight .si {
  color: #d01040;
}
/* Literal.String.Interpol */
.highlight .sx {
  color: #d01040;
}
/* Literal.String.Other */
.highlight .sr {
  color: #009926;
}
/* Literal.String.Regex */
.highlight .s1 {
  color: #d01040;
}
/* Literal.String.Single */
.highlight .ss {
  color: #990073;
}
/* Literal.String.Symbol */
.highlight .bp {
  color: #999999;
}
/* Name.Builtin.Pseudo */
.highlight .vc {
  color: #008080;
}
/* Name.Variable.Class */
.highlight .vg {
  color: #008080;
}
/* Name.Variable.Global */
.highlight .vi {
  color: #008080;
}
/* Name.Variable.Instance */
.highlight .il {
  color: #009999;
}
/* Literal.Number.Integer.Long */
div#maintoolbar {
  display: none !important;
}
body {
  font-family: "Open Sans", "Helvetica Neue", Helvetica, Arial, sans-serif;
  font-size: 16px;
  line-height: 1.42857143;
  color: #2c2c2c;
}
.rendered_html table,
.rendered_html th,
.rendered_html tr,
.rendered_html td {
  margin: 6px 0 13.5px;
  font-size: 15px;
  border-color: #ccc;
  max-width: 100%;
  text-align: left;
}
span.ansiblack {
  color: #2b303b;
}
span.ansiblue {
  color: #154ba1;
}
span.ansigray {
  color: #b4b7b4;
}
span.ansigreen {
  color: #2d6836;
}
span.ansipurple {
  color: #483d8b;
}
span.ansicyan {
  color: #1592a2;
}
span.ansiyellow {
  color: #92a215;
}
span.ansired {
  color: #b82a18;
}
div.output_html {
  color: #4c4c4c;
}
div.output_stderr {
  background-color: #DB797C;
}
div.output_stderr pre {
  color: #000000;
}
.cm-s-ipython.CodeMirror {
  background: #f6f6f6;
  color: #303030;
}
.cm-s-ipython div.CodeMirror-selected {
  background: #777777 !important;
}
.cm-s-ipython .CodeMirror-gutters {
  background: #cccccc;
  border: 0px;
  border-radius: 0px;
}
.cm-s-ipython .CodeMirror-linenumber {
  color: #666666 !important;
  font-size: 11pt;
}
.cm-s-ipython .CodeMirror-cursor {
  border-left: 2px solid #0095ff !important;
}
.cm-s-ipython span.cm-comment {
  color: #707070;
  font-style: italic !important;
}
.cm-s-ipython span.cm-atom {
  color: #F37F14;
}
.cm-s-ipython span.cm-number {
  color: #eb6a1a;
}
.cm-s-ipython span.cm-property {
  color: #de143d;
}
.cm-s-ipython span.cm-attribute {
  color: #de143d;
}
.cm-s-ipython span.cm-keyword {
  color: #F37F14;
  font-weight: normal;
}
.cm-s-ipython span.cm-string {
  color: #007f00;
  font-weight: normal;
}
.cm-s-ipython span.cm-operator {
  color: #055be0;
  font-weight: normal;
}
.cm-s-ipython span.cm-builtin {
  color: #de143d;
  font-weight: normal;
}
.cm-s-ipython span.cm-variable {
  color: #000000;
}
.cm-s-ipython span.cm-variable-2 {
  color: #de143d;
}
.cm-s-ipython span.cm-def {
  color: #055be0;
  font-weight: normal;
}
.cm-s-ipython span.cm-error {
  background: rgba(191, 97, 106, 0.3) !important;
}
.cm-s-ipython span.cm-tag {
  color: #F37F14;
}
.cm-s-ipython span.cm-link {
  color: #eb6a1a;
}
.cm-s-ipython span.cm-storage {
  color: #055be0;
}
.cm-s-ipython span.cm-entity {
  color: #de143d;
}
.cm-s-ipython span.cm-class {
  color: #e22978;
}
.cm-s-ipython span.cm-support {
  color: #de143d;
}
.cm-s-ipython span.cm-qualifier {
  color: #de143d;
}
/* Set CodeCell font-size*/
/*div.CodeMirror pre {font-size: 11pt !important;}*/
div.CodeMirror pre {
  line-height: 1.5 !important;
}
div.CodeMirror pre {
  font-family: 'Hack', monospace;
  font-size: 11pt;
}
div.CodeMirror span.CodeMirror-matchingbracket {
  color: #000000;
  background: rgba(53, 114, 198, 0.3) !important;
}
div.CodeMirror span.CodeMirror-nonmatchingbracket {
  color: #000000;
  background: rgba(191, 97, 106, 0.3) !important;
}
.cm-s-ipython .CodeMirror-matchingbracket {
  color: #000000;
  background: rgba(53, 114, 198, 0.3) !important;
}
.cm-s-ipython .CodeMirror-nonmatchingbracket {
  color: #000000;
  background: rgba(191, 97, 106, 0.3) !important;
}
/*Input and output cells formatting*/
div.prompt.input_prompt {
  font-family: 'Hack', monospace;
  border-right: 2px solid #428bca;
  font-weight: bold;
  font-size: 11pt;
  color: transparent;
  background-color: #ececed;
  width: 1em;
  padding-bottom: 0px;
  margin-bottom: 0px;
}
div.prompt.output_prompt {
  font-family: 'Hack', monospace;
  font-weight: bold;
  background-color: #ffffff;
  color: #ffffff;
  font-size: 9.5pt;
  width: 1em;
  margin-bottom: 8px;
  padding-top: 1em;
  padding-bottom: 1em;
}
div.out_prompt_overlay.prompt {
  font-family: 'Hack', monospace;
  font-weight: bold;
  font-size: 9.5pt;
  width: 1em;
  margin-bottom: 8px;
  background-color: #ffffff;
  border-radius: 4px;
  -webkit-border-radius: 4px;
  -moz-border-radius: 4px;
}
div.out_prompt_overlay.prompt:hover {
  font-family: 'Hack', monospace;
  font-weight: bold;
  font-size: 9.5pt;
  width: 1em;
  border-radius: 4px;
  margin-bottom: 8px;
  background-color: #ffffff;
  box-shadow: #e2e2e2 2px 2px 6px 4px inset;
  -webkit-border-radius: 4px;
  -moz-border-radius: 4px;
}
.prompt {
  min-width: 0px;
}
div.output_wrapper {
  background-color: #ffffff;
  margin-bottom: 0em;
  margin-top: 0em;
  border: 0px;
}
div.output_subarea.output_text.output_stream.output_stdout,
div.output_subarea.output_text {
  padding-top: 1em;
  margin-bottom: 8px;
  margin-top: 8px;
  margin-left: 8px;
  margin-right: 8px;
  background-color: #ffffff;
  color: #000000;
}
div.output_area pre {
  color: #000000;
  font-size: 10pt;
}
div.output_subarea {
  overflow-x: auto;
  padding: 1.0em;
  -webkit-box-flex: 1;
  -moz-box-flex: 1;
  box-flex: 1;
  flex: 1;
  max-width: calc(86%);
}
body {
  background-color: #f9f9f9;
}
a {
  color: #303030;
  font-family: 'Helvetica', sans-serif;
}
div#notebook,
div.CodeMirror,
div.output_area pre,
div.output_wrapper,
div.prompt,
div.CodeMirror pre {
  font-family: 'Hack', monospace;
  font-size: 11pt;
}
#notebook-container {
  padding: 0px;
  background-color: #f9f9f9;
  min-height: 0px;
  box-shadow: none;
}
.cell {
  padding: 0px;
}
.rendered_html pre,
.rendered_html code {
  color: #e54813;
  background-color: #f6f6f6;
  padding: 2px;
}

    </style>


<style type="text/css">
/* Overrides of notebook CSS for static HTML export */
body {
  overflow: visible;
  padding: 8px;
}

div#notebook {
  overflow: visible;
  border-top: none;
}

@media print {
  div.cell {
    display: block;
    page-break-inside: avoid;
  } 
  div.output_wrapper { 
    display: block;
    page-break-inside: avoid; 
  }
  div.output { 
    display: block;
    page-break-inside: avoid; 
  }
}
</style>

<!-- Custom stylesheet, it must be in the same directory as the html file -->
<link rel="stylesheet" href="custom.css">

<!-- Loading mathjax macro -->
<!-- Load mathjax -->
    <script src="https://cdn.mathjax.org/mathjax/latest/MathJax.js?config=TeX-AMS_HTML"></script>
    <!-- MathJax configuration -->
    <script type="text/x-mathjax-config">
    MathJax.Hub.Config({
        tex2jax: {
            inlineMath: [ ['$','$'], ["\\(","\\)"] ],
            displayMath: [ ['$$','$$'], ["\\[","\\]"] ],
            processEscapes: true,
            processEnvironments: true
        },
        // Center justify equations in code and markdown cells. Elsewhere
        // we use CSS to left justify single line equations in code cells.
        displayAlign: 'center',
        "HTML-CSS": {
            styles: {'.MathJax_Display': {"margin": 0}},
            linebreaks: { automatic: true }
        }
    });
    </script>
    <!-- End of mathjax configuration --></head>
<body>
  <div tabindex="-1" id="notebook" class="border-box-sizing">
    <div class="container" id="notebook-container">

<div class="cell border-box-sizing code_cell rendered">
<div class="input">
<div class="prompt input_prompt">In&nbsp;[1]:</div>
<div class="inner_cell">
    <div class="input_area">
<div class=" highlight hl-ipython2"><pre><span></span><span class="kn">from</span> <span class="nn">ggplot</span> <span class="kn">import</span> <span class="o">*</span>
<span class="o">%</span><span class="k">matplotlib</span> inline
</pre></div>

</div>
</div>
</div>

</div>
<div class="cell border-box-sizing text_cell rendered">
<div class="prompt input_prompt">
</div>
<div class="inner_cell">
<div class="text_cell_render border-box-sizing rendered_html">
<h3 id="Aesthetics">Aesthetics<a class="anchor-link" href="#Aesthetics">&#182;</a></h3><p>Aesthetics describe how your data will relate to your plots. Some common aesthetics are: <code>x</code>, <code>y</code>, and <code>color</code>. Aesthetics are specific to the type of plot (or layer) you're adding to your visual. For example, a scatterplot (<code>geom_point</code>) and a line (<code>geom_line</code>) will share <code>x</code> and <code>y</code>, but only a line chart has a <code>linetype</code> aesthetic.</p>
<p>Aesthetics are specific to geoms, but here is a list of all of them:</p>
<ul>
<li><code>x</code> : x-axis value. Can be used for continuous (point, line) charts and for discrete (bar, histogram) charts.</li>
<li><code>y</code> : y-axis value. Can be used for continuous charts only</li>
<li><code>color</code> : color of a layer. Can be continuous or discrete. If continuous, this will be given a color gradient between 2 colors.</li>
<li><code>shape</code> : shape of a point. Can be used only with geom_point</li>
<li><code>size</code> : size of a point or line. Used to give a relative size for a continuous value</li>
<li><code>alpha</code> : transparency level of a point. Number between 0 and 1. Only supported for hard coded values.</li>
<li><code>ymin</code> : min value for a vertical line or a range of points. See geom_area, geom_ribbon, geom_vline</li>
<li><code>ymax</code> : max value for a vertical line or a range of points. See geom_area, geom_ribbon, geom_vline</li>
<li><code>xmin</code> : min value for a horizonal line. Specific to geom_hline</li>
<li><code>xmax</code> : max value for a horizonal line. Specific to geom_hline</li>
<li><code>slope</code> : slope of an abline. Specific to geom_abline</li>
<li><code>intercept</code> : intercept of an abline. Specific to geom_abline</li>
</ul>

</div>
</div>
</div>
<div class="cell border-box-sizing code_cell rendered">
<div class="input">
<div class="prompt input_prompt">In&nbsp;[2]:</div>
<div class="inner_cell">
    <div class="input_area">
<div class=" highlight hl-ipython2"><pre><span></span><span class="c1"># set the x-axis equal to the `date` column and the y-axis equal to the `beef` column</span>
<span class="n">my_aes</span> <span class="o">=</span> <span class="n">aes</span><span class="p">(</span><span class="n">x</span><span class="o">=</span><span class="s1">&#39;date&#39;</span><span class="p">,</span> <span class="n">y</span><span class="o">=</span><span class="s1">&#39;beef&#39;</span><span class="p">)</span>
<span class="n">my_aes</span>
</pre></div>

</div>
</div>
</div>

<div class="output_wrapper">
<div class="output">


<div class="output_area"><div class="prompt output_prompt">Out[2]:</div>


<div class="output_text output_subarea output_execute_result">
<pre>{&#39;y&#39;: &#39;beef&#39;, &#39;x&#39;: &#39;date&#39;}</pre>
</div>

</div>

</div>
</div>

</div>
<div class="cell border-box-sizing code_cell rendered">
<div class="input">
<div class="prompt input_prompt">In&nbsp;[3]:</div>
<div class="inner_cell">
    <div class="input_area">
<div class=" highlight hl-ipython2"><pre><span></span><span class="n">ggplot</span><span class="p">(</span><span class="n">meat</span><span class="p">,</span> <span class="n">my_aes</span><span class="p">)</span> <span class="o">+</span> <span class="n">geom_line</span><span class="p">()</span>
</pre></div>

</div>
</div>
</div>

<div class="output_wrapper">
<div class="output">


<div class="output_area"><div class="prompt"></div>


<div class="output_png output_subarea ">
<img src="data:image/png;base64,iVBORw0KGgoAAAANSUhEUgAAAtsAAAIACAYAAABTiaBEAAAABHNCSVQICAgIfAhkiAAAAAlwSFlz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"
>
</div>

</div>

<div class="output_area"><div class="prompt output_prompt">Out[3]:</div>


<div class="output_text output_subarea output_execute_result">
<pre>&lt;ggplot: (288207577)&gt;</pre>
</div>

</div>

</div>
</div>

</div>
<div class="cell border-box-sizing code_cell rendered">
<div class="input">
<div class="prompt input_prompt">In&nbsp;[4]:</div>
<div class="inner_cell">
    <div class="input_area">
<div class=" highlight hl-ipython2"><pre><span></span><span class="c1"># normally, aes are defined within the `ggplot` constructor</span>
<span class="n">ggplot</span><span class="p">(</span><span class="n">aes</span><span class="p">(</span><span class="n">x</span><span class="o">=</span><span class="s1">&#39;carat&#39;</span><span class="p">,</span> <span class="n">y</span><span class="o">=</span><span class="s1">&#39;price&#39;</span><span class="p">),</span> <span class="n">diamonds</span><span class="p">)</span> <span class="o">+</span> <span class="n">geom_point</span><span class="p">()</span>
</pre></div>

</div>
</div>
</div>

<div class="output_wrapper">
<div class="output">


<div class="output_area"><div class="prompt"></div>


<div class="output_png output_subarea ">
<img src="data:image/png;base64,iVBORw0KGgoAAAANSUhEUgAAAtsAAAIACAYAAABTiaBEAAAABHNCSVQICAgIfAhkiAAAAAlwSFlz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"
>
</div>

</div>

<div class="output_area"><div class="prompt output_prompt">Out[4]:</div>


<div class="output_text output_subarea output_execute_result">
<pre>&lt;ggplot: (288335565)&gt;</pre>
</div>

</div>

</div>
</div>

</div>
<div class="cell border-box-sizing code_cell rendered">
<div class="input">
<div class="prompt input_prompt">In&nbsp;[5]:</div>
<div class="inner_cell">
    <div class="input_area">
<div class=" highlight hl-ipython2"><pre><span></span><span class="c1"># adding in another aesthetic into the mix...</span>
<span class="n">ggplot</span><span class="p">(</span><span class="n">aes</span><span class="p">(</span><span class="n">x</span><span class="o">=</span><span class="s1">&#39;carat&#39;</span><span class="p">,</span> <span class="n">y</span><span class="o">=</span><span class="s1">&#39;price&#39;</span><span class="p">,</span> <span class="n">color</span><span class="o">=</span><span class="s1">&#39;clarity&#39;</span><span class="p">),</span> <span class="n">diamonds</span><span class="p">)</span> <span class="o">+</span> <span class="n">geom_point</span><span class="p">()</span>
</pre></div>

</div>
</div>
</div>

<div class="output_wrapper">
<div class="output">


<div class="output_area"><div class="prompt"></div>


<div class="output_png output_subarea ">
<img src="data:image/png;base64,iVBORw0KGgoAAAANSUhEUgAAAtMAAAIACAYAAABAXuCwAAAABHNCSVQICAgIfAhkiAAAAAlwSFlz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"
>
</div>

</div>

<div class="output_area"><div class="prompt output_prompt">Out[5]:</div>


<div class="output_text output_subarea output_execute_result">
<pre>&lt;ggplot: (288823329)&gt;</pre>
</div>

</div>

</div>
</div>

</div>
<div class="cell border-box-sizing code_cell rendered">
<div class="input">
<div class="prompt input_prompt">In&nbsp;[&nbsp;]:</div>
<div class="inner_cell">
    <div class="input_area">
<div class=" highlight hl-ipython2"><pre><span></span> 
</pre></div>

</div>
</div>
</div>

</div>
    </div>
  </div>
</body>
</html>
