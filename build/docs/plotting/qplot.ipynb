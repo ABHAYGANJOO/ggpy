<!DOCTYPE html>
<html>
<head><meta charset="utf-8" />
<title>qplot</title>

<script src="https://cdnjs.cloudflare.com/ajax/libs/require.js/2.1.10/require.min.js"></script>
<script src="https://cdnjs.cloudflare.com/ajax/libs/jquery/2.0.3/jquery.min.js"></script>

<style type="text/css">
    /*!
*
* Twitter Bootstrap
*
*/
/*!
 * Bootstrap v3.3.6 (http://getbootstrap.com)
 * Copyright 2011-2015 Twitter, Inc.
 * Licensed under MIT (https://github.com/twbs/bootstrap/blob/master/LICENSE)
 */
/*! normalize.css v3.0.3 | MIT License | github.com/necolas/normalize.css */
html {
  font-family: sans-serif;
  -ms-text-size-adjust: 100%;
  -webkit-text-size-adjust: 100%;
}
body {
  margin: 0;
}
article,
aside,
details,
figcaption,
figure,
footer,
header,
hgroup,
main,
menu,
nav,
section,
summary {
  display: block;
}
audio,
canvas,
progress,
video {
  display: inline-block;
  vertical-align: baseline;
}
audio:not([controls]) {
  display: none;
  height: 0;
}
[hidden],
template {
  display: none;
}
a {
  background-color: transparent;
}
a:active,
a:hover {
  outline: 0;
}
abbr[title] {
  border-bottom: 1px dotted;
}
b,
strong {
  font-weight: bold;
}
dfn {
  font-style: italic;
}
h1 {
  font-size: 2em;
  margin: 0.67em 0;
}
mark {
  background: #ff0;
  color: #000;
}
small {
  font-size: 80%;
}
sub,
sup {
  font-size: 75%;
  line-height: 0;
  position: relative;
  vertical-align: baseline;
}
sup {
  top: -0.5em;
}
sub {
  bottom: -0.25em;
}
img {
  border: 0;
}
svg:not(:root) {
  overflow: hidden;
}
figure {
  margin: 1em 40px;
}
hr {
  box-sizing: content-box;
  height: 0;
}
pre {
  overflow: auto;
}
code,
kbd,
pre,
samp {
  font-family: monospace, monospace;
  font-size: 1em;
}
button,
input,
optgroup,
select,
textarea {
  color: inherit;
  font: inherit;
  margin: 0;
}
button {
  overflow: visible;
}
button,
select {
  text-transform: none;
}
button,
html input[type="button"],
input[type="reset"],
input[type="submit"] {
  -webkit-appearance: button;
  cursor: pointer;
}
button[disabled],
html input[disabled] {
  cursor: default;
}
button::-moz-focus-inner,
input::-moz-focus-inner {
  border: 0;
  padding: 0;
}
input {
  line-height: normal;
}
input[type="checkbox"],
input[type="radio"] {
  box-sizing: border-box;
  padding: 0;
}
input[type="number"]::-webkit-inner-spin-button,
input[type="number"]::-webkit-outer-spin-button {
  height: auto;
}
input[type="search"] {
  -webkit-appearance: textfield;
  box-sizing: content-box;
}
input[type="search"]::-webkit-search-cancel-button,
input[type="search"]::-webkit-search-decoration {
  -webkit-appearance: none;
}
fieldset {
  border: 1px solid #c0c0c0;
  margin: 0 2px;
  padding: 0.35em 0.625em 0.75em;
}
legend {
  border: 0;
  padding: 0;
}
textarea {
  overflow: auto;
}
optgroup {
  font-weight: bold;
}
table {
  border-collapse: collapse;
  border-spacing: 0;
}
td,
th {
  padding: 0;
}
/*! Source: https://github.com/h5bp/html5-boilerplate/blob/master/src/css/main.css */
@media print {
  *,
  *:before,
  *:after {
    background: transparent !important;
    color: #000 !important;
    box-shadow: none !important;
    text-shadow: none !important;
  }
  a,
  a:visited {
    text-decoration: underline;
  }
  a[href]:after {
    content: " (" attr(href) ")";
  }
  abbr[title]:after {
    content: " (" attr(title) ")";
  }
  a[href^="#"]:after,
  a[href^="javascript:"]:after {
    content: "";
  }
  pre,
  blockquote {
    border: 1px solid #999;
    page-break-inside: avoid;
  }
  thead {
    display: table-header-group;
  }
  tr,
  img {
    page-break-inside: avoid;
  }
  img {
    max-width: 100% !important;
  }
  p,
  h2,
  h3 {
    orphans: 3;
    widows: 3;
  }
  h2,
  h3 {
    page-break-after: avoid;
  }
  .navbar {
    display: none;
  }
  .btn > .caret,
  .dropup > .btn > .caret {
    border-top-color: #000 !important;
  }
  .label {
    border: 1px solid #000;
  }
  .table {
    border-collapse: collapse !important;
  }
  .table td,
  .table th {
    background-color: #fff !important;
  }
  .table-bordered th,
  .table-bordered td {
    border: 1px solid #ddd !important;
  }
}
@font-face {
  font-family: 'Glyphicons Halflings';
  src: url('../components/bootstrap/fonts/glyphicons-halflings-regular.eot');
  src: url('../components/bootstrap/fonts/glyphicons-halflings-regular.eot?#iefix') format('embedded-opentype'), url('../components/bootstrap/fonts/glyphicons-halflings-regular.woff2') format('woff2'), url('../components/bootstrap/fonts/glyphicons-halflings-regular.woff') format('woff'), url('../components/bootstrap/fonts/glyphicons-halflings-regular.ttf') format('truetype'), url('../components/bootstrap/fonts/glyphicons-halflings-regular.svg#glyphicons_halflingsregular') format('svg');
}
.glyphicon {
  position: relative;
  top: 1px;
  display: inline-block;
  font-family: 'Glyphicons Halflings';
  font-style: normal;
  font-weight: normal;
  line-height: 1;
  -webkit-font-smoothing: antialiased;
  -moz-osx-font-smoothing: grayscale;
}
.glyphicon-asterisk:before {
  content: "\002a";
}
.glyphicon-plus:before {
  content: "\002b";
}
.glyphicon-euro:before,
.glyphicon-eur:before {
  content: "\20ac";
}
.glyphicon-minus:before {
  content: "\2212";
}
.glyphicon-cloud:before {
  content: "\2601";
}
.glyphicon-envelope:before {
  content: "\2709";
}
.glyphicon-pencil:before {
  content: "\270f";
}
.glyphicon-glass:before {
  content: "\e001";
}
.glyphicon-music:before {
  content: "\e002";
}
.glyphicon-search:before {
  content: "\e003";
}
.glyphicon-heart:before {
  content: "\e005";
}
.glyphicon-star:before {
  content: "\e006";
}
.glyphicon-star-empty:before {
  content: "\e007";
}
.glyphicon-user:before {
  content: "\e008";
}
.glyphicon-film:before {
  content: "\e009";
}
.glyphicon-th-large:before {
  content: "\e010";
}
.glyphicon-th:before {
  content: "\e011";
}
.glyphicon-th-list:before {
  content: "\e012";
}
.glyphicon-ok:before {
  content: "\e013";
}
.glyphicon-remove:before {
  content: "\e014";
}
.glyphicon-zoom-in:before {
  content: "\e015";
}
.glyphicon-zoom-out:before {
  content: "\e016";
}
.glyphicon-off:before {
  content: "\e017";
}
.glyphicon-signal:before {
  content: "\e018";
}
.glyphicon-cog:before {
  content: "\e019";
}
.glyphicon-trash:before {
  content: "\e020";
}
.glyphicon-home:before {
  content: "\e021";
}
.glyphicon-file:before {
  content: "\e022";
}
.glyphicon-time:before {
  content: "\e023";
}
.glyphicon-road:before {
  content: "\e024";
}
.glyphicon-download-alt:before {
  content: "\e025";
}
.glyphicon-download:before {
  content: "\e026";
}
.glyphicon-upload:before {
  content: "\e027";
}
.glyphicon-inbox:before {
  content: "\e028";
}
.glyphicon-play-circle:before {
  content: "\e029";
}
.glyphicon-repeat:before {
  content: "\e030";
}
.glyphicon-refresh:before {
  content: "\e031";
}
.glyphicon-list-alt:before {
  content: "\e032";
}
.glyphicon-lock:before {
  content: "\e033";
}
.glyphicon-flag:before {
  content: "\e034";
}
.glyphicon-headphones:before {
  content: "\e035";
}
.glyphicon-volume-off:before {
  content: "\e036";
}
.glyphicon-volume-down:before {
  content: "\e037";
}
.glyphicon-volume-up:before {
  content: "\e038";
}
.glyphicon-qrcode:before {
  content: "\e039";
}
.glyphicon-barcode:before {
  content: "\e040";
}
.glyphicon-tag:before {
  content: "\e041";
}
.glyphicon-tags:before {
  content: "\e042";
}
.glyphicon-book:before {
  content: "\e043";
}
.glyphicon-bookmark:before {
  content: "\e044";
}
.glyphicon-print:before {
  content: "\e045";
}
.glyphicon-camera:before {
  content: "\e046";
}
.glyphicon-font:before {
  content: "\e047";
}
.glyphicon-bold:before {
  content: "\e048";
}
.glyphicon-italic:before {
  content: "\e049";
}
.glyphicon-text-height:before {
  content: "\e050";
}
.glyphicon-text-width:before {
  content: "\e051";
}
.glyphicon-align-left:before {
  content: "\e052";
}
.glyphicon-align-center:before {
  content: "\e053";
}
.glyphicon-align-right:before {
  content: "\e054";
}
.glyphicon-align-justify:before {
  content: "\e055";
}
.glyphicon-list:before {
  content: "\e056";
}
.glyphicon-indent-left:before {
  content: "\e057";
}
.glyphicon-indent-right:before {
  content: "\e058";
}
.glyphicon-facetime-video:before {
  content: "\e059";
}
.glyphicon-picture:before {
  content: "\e060";
}
.glyphicon-map-marker:before {
  content: "\e062";
}
.glyphicon-adjust:before {
  content: "\e063";
}
.glyphicon-tint:before {
  content: "\e064";
}
.glyphicon-edit:before {
  content: "\e065";
}
.glyphicon-share:before {
  content: "\e066";
}
.glyphicon-check:before {
  content: "\e067";
}
.glyphicon-move:before {
  content: "\e068";
}
.glyphicon-step-backward:before {
  content: "\e069";
}
.glyphicon-fast-backward:before {
  content: "\e070";
}
.glyphicon-backward:before {
  content: "\e071";
}
.glyphicon-play:before {
  content: "\e072";
}
.glyphicon-pause:before {
  content: "\e073";
}
.glyphicon-stop:before {
  content: "\e074";
}
.glyphicon-forward:before {
  content: "\e075";
}
.glyphicon-fast-forward:before {
  content: "\e076";
}
.glyphicon-step-forward:before {
  content: "\e077";
}
.glyphicon-eject:before {
  content: "\e078";
}
.glyphicon-chevron-left:before {
  content: "\e079";
}
.glyphicon-chevron-right:before {
  content: "\e080";
}
.glyphicon-plus-sign:before {
  content: "\e081";
}
.glyphicon-minus-sign:before {
  content: "\e082";
}
.glyphicon-remove-sign:before {
  content: "\e083";
}
.glyphicon-ok-sign:before {
  content: "\e084";
}
.glyphicon-question-sign:before {
  content: "\e085";
}
.glyphicon-info-sign:before {
  content: "\e086";
}
.glyphicon-screenshot:before {
  content: "\e087";
}
.glyphicon-remove-circle:before {
  content: "\e088";
}
.glyphicon-ok-circle:before {
  content: "\e089";
}
.glyphicon-ban-circle:before {
  content: "\e090";
}
.glyphicon-arrow-left:before {
  content: "\e091";
}
.glyphicon-arrow-right:before {
  content: "\e092";
}
.glyphicon-arrow-up:before {
  content: "\e093";
}
.glyphicon-arrow-down:before {
  content: "\e094";
}
.glyphicon-share-alt:before {
  content: "\e095";
}
.glyphicon-resize-full:before {
  content: "\e096";
}
.glyphicon-resize-small:before {
  content: "\e097";
}
.glyphicon-exclamation-sign:before {
  content: "\e101";
}
.glyphicon-gift:before {
  content: "\e102";
}
.glyphicon-leaf:before {
  content: "\e103";
}
.glyphicon-fire:before {
  content: "\e104";
}
.glyphicon-eye-open:before {
  content: "\e105";
}
.glyphicon-eye-close:before {
  content: "\e106";
}
.glyphicon-warning-sign:before {
  content: "\e107";
}
.glyphicon-plane:before {
  content: "\e108";
}
.glyphicon-calendar:before {
  content: "\e109";
}
.glyphicon-random:before {
  content: "\e110";
}
.glyphicon-comment:before {
  content: "\e111";
}
.glyphicon-magnet:before {
  content: "\e112";
}
.glyphicon-chevron-up:before {
  content: "\e113";
}
.glyphicon-chevron-down:before {
  content: "\e114";
}
.glyphicon-retweet:before {
  content: "\e115";
}
.glyphicon-shopping-cart:before {
  content: "\e116";
}
.glyphicon-folder-close:before {
  content: "\e117";
}
.glyphicon-folder-open:before {
  content: "\e118";
}
.glyphicon-resize-vertical:before {
  content: "\e119";
}
.glyphicon-resize-horizontal:before {
  content: "\e120";
}
.glyphicon-hdd:before {
  content: "\e121";
}
.glyphicon-bullhorn:before {
  content: "\e122";
}
.glyphicon-bell:before {
  content: "\e123";
}
.glyphicon-certificate:before {
  content: "\e124";
}
.glyphicon-thumbs-up:before {
  content: "\e125";
}
.glyphicon-thumbs-down:before {
  content: "\e126";
}
.glyphicon-hand-right:before {
  content: "\e127";
}
.glyphicon-hand-left:before {
  content: "\e128";
}
.glyphicon-hand-up:before {
  content: "\e129";
}
.glyphicon-hand-down:before {
  content: "\e130";
}
.glyphicon-circle-arrow-right:before {
  content: "\e131";
}
.glyphicon-circle-arrow-left:before {
  content: "\e132";
}
.glyphicon-circle-arrow-up:before {
  content: "\e133";
}
.glyphicon-circle-arrow-down:before {
  content: "\e134";
}
.glyphicon-globe:before {
  content: "\e135";
}
.glyphicon-wrench:before {
  content: "\e136";
}
.glyphicon-tasks:before {
  content: "\e137";
}
.glyphicon-filter:before {
  content: "\e138";
}
.glyphicon-briefcase:before {
  content: "\e139";
}
.glyphicon-fullscreen:before {
  content: "\e140";
}
.glyphicon-dashboard:before {
  content: "\e141";
}
.glyphicon-paperclip:before {
  content: "\e142";
}
.glyphicon-heart-empty:before {
  content: "\e143";
}
.glyphicon-link:before {
  content: "\e144";
}
.glyphicon-phone:before {
  content: "\e145";
}
.glyphicon-pushpin:before {
  content: "\e146";
}
.glyphicon-usd:before {
  content: "\e148";
}
.glyphicon-gbp:before {
  content: "\e149";
}
.glyphicon-sort:before {
  content: "\e150";
}
.glyphicon-sort-by-alphabet:before {
  content: "\e151";
}
.glyphicon-sort-by-alphabet-alt:before {
  content: "\e152";
}
.glyphicon-sort-by-order:before {
  content: "\e153";
}
.glyphicon-sort-by-order-alt:before {
  content: "\e154";
}
.glyphicon-sort-by-attributes:before {
  content: "\e155";
}
.glyphicon-sort-by-attributes-alt:before {
  content: "\e156";
}
.glyphicon-unchecked:before {
  content: "\e157";
}
.glyphicon-expand:before {
  content: "\e158";
}
.glyphicon-collapse-down:before {
  content: "\e159";
}
.glyphicon-collapse-up:before {
  content: "\e160";
}
.glyphicon-log-in:before {
  content: "\e161";
}
.glyphicon-flash:before {
  content: "\e162";
}
.glyphicon-log-out:before {
  content: "\e163";
}
.glyphicon-new-window:before {
  content: "\e164";
}
.glyphicon-record:before {
  content: "\e165";
}
.glyphicon-save:before {
  content: "\e166";
}
.glyphicon-open:before {
  content: "\e167";
}
.glyphicon-saved:before {
  content: "\e168";
}
.glyphicon-import:before {
  content: "\e169";
}
.glyphicon-export:before {
  content: "\e170";
}
.glyphicon-send:before {
  content: "\e171";
}
.glyphicon-floppy-disk:before {
  content: "\e172";
}
.glyphicon-floppy-saved:before {
  content: "\e173";
}
.glyphicon-floppy-remove:before {
  content: "\e174";
}
.glyphicon-floppy-save:before {
  content: "\e175";
}
.glyphicon-floppy-open:before {
  content: "\e176";
}
.glyphicon-credit-card:before {
  content: "\e177";
}
.glyphicon-transfer:before {
  content: "\e178";
}
.glyphicon-cutlery:before {
  content: "\e179";
}
.glyphicon-header:before {
  content: "\e180";
}
.glyphicon-compressed:before {
  content: "\e181";
}
.glyphicon-earphone:before {
  content: "\e182";
}
.glyphicon-phone-alt:before {
  content: "\e183";
}
.glyphicon-tower:before {
  content: "\e184";
}
.glyphicon-stats:before {
  content: "\e185";
}
.glyphicon-sd-video:before {
  content: "\e186";
}
.glyphicon-hd-video:before {
  content: "\e187";
}
.glyphicon-subtitles:before {
  content: "\e188";
}
.glyphicon-sound-stereo:before {
  content: "\e189";
}
.glyphicon-sound-dolby:before {
  content: "\e190";
}
.glyphicon-sound-5-1:before {
  content: "\e191";
}
.glyphicon-sound-6-1:before {
  content: "\e192";
}
.glyphicon-sound-7-1:before {
  content: "\e193";
}
.glyphicon-copyright-mark:before {
  content: "\e194";
}
.glyphicon-registration-mark:before {
  content: "\e195";
}
.glyphicon-cloud-download:before {
  content: "\e197";
}
.glyphicon-cloud-upload:before {
  content: "\e198";
}
.glyphicon-tree-conifer:before {
  content: "\e199";
}
.glyphicon-tree-deciduous:before {
  content: "\e200";
}
.glyphicon-cd:before {
  content: "\e201";
}
.glyphicon-save-file:before {
  content: "\e202";
}
.glyphicon-open-file:before {
  content: "\e203";
}
.glyphicon-level-up:before {
  content: "\e204";
}
.glyphicon-copy:before {
  content: "\e205";
}
.glyphicon-paste:before {
  content: "\e206";
}
.glyphicon-alert:before {
  content: "\e209";
}
.glyphicon-equalizer:before {
  content: "\e210";
}
.glyphicon-king:before {
  content: "\e211";
}
.glyphicon-queen:before {
  content: "\e212";
}
.glyphicon-pawn:before {
  content: "\e213";
}
.glyphicon-bishop:before {
  content: "\e214";
}
.glyphicon-knight:before {
  content: "\e215";
}
.glyphicon-baby-formula:before {
  content: "\e216";
}
.glyphicon-tent:before {
  content: "\26fa";
}
.glyphicon-blackboard:before {
  content: "\e218";
}
.glyphicon-bed:before {
  content: "\e219";
}
.glyphicon-apple:before {
  content: "\f8ff";
}
.glyphicon-erase:before {
  content: "\e221";
}
.glyphicon-hourglass:before {
  content: "\231b";
}
.glyphicon-lamp:before {
  content: "\e223";
}
.glyphicon-duplicate:before {
  content: "\e224";
}
.glyphicon-piggy-bank:before {
  content: "\e225";
}
.glyphicon-scissors:before {
  content: "\e226";
}
.glyphicon-bitcoin:before {
  content: "\e227";
}
.glyphicon-btc:before {
  content: "\e227";
}
.glyphicon-xbt:before {
  content: "\e227";
}
.glyphicon-yen:before {
  content: "\00a5";
}
.glyphicon-jpy:before {
  content: "\00a5";
}
.glyphicon-ruble:before {
  content: "\20bd";
}
.glyphicon-rub:before {
  content: "\20bd";
}
.glyphicon-scale:before {
  content: "\e230";
}
.glyphicon-ice-lolly:before {
  content: "\e231";
}
.glyphicon-ice-lolly-tasted:before {
  content: "\e232";
}
.glyphicon-education:before {
  content: "\e233";
}
.glyphicon-option-horizontal:before {
  content: "\e234";
}
.glyphicon-option-vertical:before {
  content: "\e235";
}
.glyphicon-menu-hamburger:before {
  content: "\e236";
}
.glyphicon-modal-window:before {
  content: "\e237";
}
.glyphicon-oil:before {
  content: "\e238";
}
.glyphicon-grain:before {
  content: "\e239";
}
.glyphicon-sunglasses:before {
  content: "\e240";
}
.glyphicon-text-size:before {
  content: "\e241";
}
.glyphicon-text-color:before {
  content: "\e242";
}
.glyphicon-text-background:before {
  content: "\e243";
}
.glyphicon-object-align-top:before {
  content: "\e244";
}
.glyphicon-object-align-bottom:before {
  content: "\e245";
}
.glyphicon-object-align-horizontal:before {
  content: "\e246";
}
.glyphicon-object-align-left:before {
  content: "\e247";
}
.glyphicon-object-align-vertical:before {
  content: "\e248";
}
.glyphicon-object-align-right:before {
  content: "\e249";
}
.glyphicon-triangle-right:before {
  content: "\e250";
}
.glyphicon-triangle-left:before {
  content: "\e251";
}
.glyphicon-triangle-bottom:before {
  content: "\e252";
}
.glyphicon-triangle-top:before {
  content: "\e253";
}
.glyphicon-console:before {
  content: "\e254";
}
.glyphicon-superscript:before {
  content: "\e255";
}
.glyphicon-subscript:before {
  content: "\e256";
}
.glyphicon-menu-left:before {
  content: "\e257";
}
.glyphicon-menu-right:before {
  content: "\e258";
}
.glyphicon-menu-down:before {
  content: "\e259";
}
.glyphicon-menu-up:before {
  content: "\e260";
}
* {
  -webkit-box-sizing: border-box;
  -moz-box-sizing: border-box;
  box-sizing: border-box;
}
*:before,
*:after {
  -webkit-box-sizing: border-box;
  -moz-box-sizing: border-box;
  box-sizing: border-box;
}
html {
  font-size: 10px;
  -webkit-tap-highlight-color: rgba(0, 0, 0, 0);
}
body {
  font-family: "Helvetica Neue", Helvetica, Arial, sans-serif;
  font-size: 13px;
  line-height: 1.42857143;
  color: #000;
  background-color: #fff;
}
input,
button,
select,
textarea {
  font-family: inherit;
  font-size: inherit;
  line-height: inherit;
}
a {
  color: #337ab7;
  text-decoration: none;
}
a:hover,
a:focus {
  color: #23527c;
  text-decoration: underline;
}
a:focus {
  outline: thin dotted;
  outline: 5px auto -webkit-focus-ring-color;
  outline-offset: -2px;
}
figure {
  margin: 0;
}
img {
  vertical-align: middle;
}
.img-responsive,
.thumbnail > img,
.thumbnail a > img,
.carousel-inner > .item > img,
.carousel-inner > .item > a > img {
  display: block;
  max-width: 100%;
  height: auto;
}
.img-rounded {
  border-radius: 3px;
}
.img-thumbnail {
  padding: 4px;
  line-height: 1.42857143;
  background-color: #fff;
  border: 1px solid #ddd;
  border-radius: 2px;
  -webkit-transition: all 0.2s ease-in-out;
  -o-transition: all 0.2s ease-in-out;
  transition: all 0.2s ease-in-out;
  display: inline-block;
  max-width: 100%;
  height: auto;
}
.img-circle {
  border-radius: 50%;
}
hr {
  margin-top: 18px;
  margin-bottom: 18px;
  border: 0;
  border-top: 1px solid #eeeeee;
}
.sr-only {
  position: absolute;
  width: 1px;
  height: 1px;
  margin: -1px;
  padding: 0;
  overflow: hidden;
  clip: rect(0, 0, 0, 0);
  border: 0;
}
.sr-only-focusable:active,
.sr-only-focusable:focus {
  position: static;
  width: auto;
  height: auto;
  margin: 0;
  overflow: visible;
  clip: auto;
}
[role="button"] {
  cursor: pointer;
}
h1,
h2,
h3,
h4,
h5,
h6,
.h1,
.h2,
.h3,
.h4,
.h5,
.h6 {
  font-family: inherit;
  font-weight: 500;
  line-height: 1.1;
  color: inherit;
}
h1 small,
h2 small,
h3 small,
h4 small,
h5 small,
h6 small,
.h1 small,
.h2 small,
.h3 small,
.h4 small,
.h5 small,
.h6 small,
h1 .small,
h2 .small,
h3 .small,
h4 .small,
h5 .small,
h6 .small,
.h1 .small,
.h2 .small,
.h3 .small,
.h4 .small,
.h5 .small,
.h6 .small {
  font-weight: normal;
  line-height: 1;
  color: #777777;
}
h1,
.h1,
h2,
.h2,
h3,
.h3 {
  margin-top: 18px;
  margin-bottom: 9px;
}
h1 small,
.h1 small,
h2 small,
.h2 small,
h3 small,
.h3 small,
h1 .small,
.h1 .small,
h2 .small,
.h2 .small,
h3 .small,
.h3 .small {
  font-size: 65%;
}
h4,
.h4,
h5,
.h5,
h6,
.h6 {
  margin-top: 9px;
  margin-bottom: 9px;
}
h4 small,
.h4 small,
h5 small,
.h5 small,
h6 small,
.h6 small,
h4 .small,
.h4 .small,
h5 .small,
.h5 .small,
h6 .small,
.h6 .small {
  font-size: 75%;
}
h1,
.h1 {
  font-size: 33px;
}
h2,
.h2 {
  font-size: 27px;
}
h3,
.h3 {
  font-size: 23px;
}
h4,
.h4 {
  font-size: 17px;
}
h5,
.h5 {
  font-size: 13px;
}
h6,
.h6 {
  font-size: 12px;
}
p {
  margin: 0 0 9px;
}
.lead {
  margin-bottom: 18px;
  font-size: 14px;
  font-weight: 300;
  line-height: 1.4;
}
@media (min-width: 768px) {
  .lead {
    font-size: 19.5px;
  }
}
small,
.small {
  font-size: 92%;
}
mark,
.mark {
  background-color: #fcf8e3;
  padding: .2em;
}
.text-left {
  text-align: left;
}
.text-right {
  text-align: right;
}
.text-center {
  text-align: center;
}
.text-justify {
  text-align: justify;
}
.text-nowrap {
  white-space: nowrap;
}
.text-lowercase {
  text-transform: lowercase;
}
.text-uppercase {
  text-transform: uppercase;
}
.text-capitalize {
  text-transform: capitalize;
}
.text-muted {
  color: #777777;
}
.text-primary {
  color: #337ab7;
}
a.text-primary:hover,
a.text-primary:focus {
  color: #286090;
}
.text-success {
  color: #3c763d;
}
a.text-success:hover,
a.text-success:focus {
  color: #2b542c;
}
.text-info {
  color: #31708f;
}
a.text-info:hover,
a.text-info:focus {
  color: #245269;
}
.text-warning {
  color: #8a6d3b;
}
a.text-warning:hover,
a.text-warning:focus {
  color: #66512c;
}
.text-danger {
  color: #a94442;
}
a.text-danger:hover,
a.text-danger:focus {
  color: #843534;
}
.bg-primary {
  color: #fff;
  background-color: #337ab7;
}
a.bg-primary:hover,
a.bg-primary:focus {
  background-color: #286090;
}
.bg-success {
  background-color: #dff0d8;
}
a.bg-success:hover,
a.bg-success:focus {
  background-color: #c1e2b3;
}
.bg-info {
  background-color: #d9edf7;
}
a.bg-info:hover,
a.bg-info:focus {
  background-color: #afd9ee;
}
.bg-warning {
  background-color: #fcf8e3;
}
a.bg-warning:hover,
a.bg-warning:focus {
  background-color: #f7ecb5;
}
.bg-danger {
  background-color: #f2dede;
}
a.bg-danger:hover,
a.bg-danger:focus {
  background-color: #e4b9b9;
}
.page-header {
  padding-bottom: 8px;
  margin: 36px 0 18px;
  border-bottom: 1px solid #eeeeee;
}
ul,
ol {
  margin-top: 0;
  margin-bottom: 9px;
}
ul ul,
ol ul,
ul ol,
ol ol {
  margin-bottom: 0;
}
.list-unstyled {
  padding-left: 0;
  list-style: none;
}
.list-inline {
  padding-left: 0;
  list-style: none;
  margin-left: -5px;
}
.list-inline > li {
  display: inline-block;
  padding-left: 5px;
  padding-right: 5px;
}
dl {
  margin-top: 0;
  margin-bottom: 18px;
}
dt,
dd {
  line-height: 1.42857143;
}
dt {
  font-weight: bold;
}
dd {
  margin-left: 0;
}
@media (min-width: 541px) {
  .dl-horizontal dt {
    float: left;
    width: 160px;
    clear: left;
    text-align: right;
    overflow: hidden;
    text-overflow: ellipsis;
    white-space: nowrap;
  }
  .dl-horizontal dd {
    margin-left: 180px;
  }
}
abbr[title],
abbr[data-original-title] {
  cursor: help;
  border-bottom: 1px dotted #777777;
}
.initialism {
  font-size: 90%;
  text-transform: uppercase;
}
blockquote {
  padding: 9px 18px;
  margin: 0 0 18px;
  font-size: inherit;
  border-left: 5px solid #eeeeee;
}
blockquote p:last-child,
blockquote ul:last-child,
blockquote ol:last-child {
  margin-bottom: 0;
}
blockquote footer,
blockquote small,
blockquote .small {
  display: block;
  font-size: 80%;
  line-height: 1.42857143;
  color: #777777;
}
blockquote footer:before,
blockquote small:before,
blockquote .small:before {
  content: '\2014 \00A0';
}
.blockquote-reverse,
blockquote.pull-right {
  padding-right: 15px;
  padding-left: 0;
  border-right: 5px solid #eeeeee;
  border-left: 0;
  text-align: right;
}
.blockquote-reverse footer:before,
blockquote.pull-right footer:before,
.blockquote-reverse small:before,
blockquote.pull-right small:before,
.blockquote-reverse .small:before,
blockquote.pull-right .small:before {
  content: '';
}
.blockquote-reverse footer:after,
blockquote.pull-right footer:after,
.blockquote-reverse small:after,
blockquote.pull-right small:after,
.blockquote-reverse .small:after,
blockquote.pull-right .small:after {
  content: '\00A0 \2014';
}
address {
  margin-bottom: 18px;
  font-style: normal;
  line-height: 1.42857143;
}
code,
kbd,
pre,
samp {
  font-family: monospace;
}
code {
  padding: 2px 4px;
  font-size: 90%;
  color: #c7254e;
  background-color: #f9f2f4;
  border-radius: 2px;
}
kbd {
  padding: 2px 4px;
  font-size: 90%;
  color: #888;
  background-color: transparent;
  border-radius: 1px;
  box-shadow: inset 0 -1px 0 rgba(0, 0, 0, 0.25);
}
kbd kbd {
  padding: 0;
  font-size: 100%;
  font-weight: bold;
  box-shadow: none;
}
pre {
  display: block;
  padding: 8.5px;
  margin: 0 0 9px;
  font-size: 12px;
  line-height: 1.42857143;
  word-break: break-all;
  word-wrap: break-word;
  color: #333333;
  background-color: #f5f5f5;
  border: 1px solid #ccc;
  border-radius: 2px;
}
pre code {
  padding: 0;
  font-size: inherit;
  color: inherit;
  white-space: pre-wrap;
  background-color: transparent;
  border-radius: 0;
}
.pre-scrollable {
  max-height: 340px;
  overflow-y: scroll;
}
.container {
  margin-right: auto;
  margin-left: auto;
  padding-left: 0px;
  padding-right: 0px;
}
@media (min-width: 768px) {
  .container {
    width: 768px;
  }
}
@media (min-width: 992px) {
  .container {
    width: 940px;
  }
}
@media (min-width: 1200px) {
  .container {
    width: 1140px;
  }
}
.container-fluid {
  margin-right: auto;
  margin-left: auto;
  padding-left: 0px;
  padding-right: 0px;
}
.row {
  margin-left: 0px;
  margin-right: 0px;
}
.col-xs-1, .col-sm-1, .col-md-1, .col-lg-1, .col-xs-2, .col-sm-2, .col-md-2, .col-lg-2, .col-xs-3, .col-sm-3, .col-md-3, .col-lg-3, .col-xs-4, .col-sm-4, .col-md-4, .col-lg-4, .col-xs-5, .col-sm-5, .col-md-5, .col-lg-5, .col-xs-6, .col-sm-6, .col-md-6, .col-lg-6, .col-xs-7, .col-sm-7, .col-md-7, .col-lg-7, .col-xs-8, .col-sm-8, .col-md-8, .col-lg-8, .col-xs-9, .col-sm-9, .col-md-9, .col-lg-9, .col-xs-10, .col-sm-10, .col-md-10, .col-lg-10, .col-xs-11, .col-sm-11, .col-md-11, .col-lg-11, .col-xs-12, .col-sm-12, .col-md-12, .col-lg-12 {
  position: relative;
  min-height: 1px;
  padding-left: 0px;
  padding-right: 0px;
}
.col-xs-1, .col-xs-2, .col-xs-3, .col-xs-4, .col-xs-5, .col-xs-6, .col-xs-7, .col-xs-8, .col-xs-9, .col-xs-10, .col-xs-11, .col-xs-12 {
  float: left;
}
.col-xs-12 {
  width: 100%;
}
.col-xs-11 {
  width: 91.66666667%;
}
.col-xs-10 {
  width: 83.33333333%;
}
.col-xs-9 {
  width: 75%;
}
.col-xs-8 {
  width: 66.66666667%;
}
.col-xs-7 {
  width: 58.33333333%;
}
.col-xs-6 {
  width: 50%;
}
.col-xs-5 {
  width: 41.66666667%;
}
.col-xs-4 {
  width: 33.33333333%;
}
.col-xs-3 {
  width: 25%;
}
.col-xs-2 {
  width: 16.66666667%;
}
.col-xs-1 {
  width: 8.33333333%;
}
.col-xs-pull-12 {
  right: 100%;
}
.col-xs-pull-11 {
  right: 91.66666667%;
}
.col-xs-pull-10 {
  right: 83.33333333%;
}
.col-xs-pull-9 {
  right: 75%;
}
.col-xs-pull-8 {
  right: 66.66666667%;
}
.col-xs-pull-7 {
  right: 58.33333333%;
}
.col-xs-pull-6 {
  right: 50%;
}
.col-xs-pull-5 {
  right: 41.66666667%;
}
.col-xs-pull-4 {
  right: 33.33333333%;
}
.col-xs-pull-3 {
  right: 25%;
}
.col-xs-pull-2 {
  right: 16.66666667%;
}
.col-xs-pull-1 {
  right: 8.33333333%;
}
.col-xs-pull-0 {
  right: auto;
}
.col-xs-push-12 {
  left: 100%;
}
.col-xs-push-11 {
  left: 91.66666667%;
}
.col-xs-push-10 {
  left: 83.33333333%;
}
.col-xs-push-9 {
  left: 75%;
}
.col-xs-push-8 {
  left: 66.66666667%;
}
.col-xs-push-7 {
  left: 58.33333333%;
}
.col-xs-push-6 {
  left: 50%;
}
.col-xs-push-5 {
  left: 41.66666667%;
}
.col-xs-push-4 {
  left: 33.33333333%;
}
.col-xs-push-3 {
  left: 25%;
}
.col-xs-push-2 {
  left: 16.66666667%;
}
.col-xs-push-1 {
  left: 8.33333333%;
}
.col-xs-push-0 {
  left: auto;
}
.col-xs-offset-12 {
  margin-left: 100%;
}
.col-xs-offset-11 {
  margin-left: 91.66666667%;
}
.col-xs-offset-10 {
  margin-left: 83.33333333%;
}
.col-xs-offset-9 {
  margin-left: 75%;
}
.col-xs-offset-8 {
  margin-left: 66.66666667%;
}
.col-xs-offset-7 {
  margin-left: 58.33333333%;
}
.col-xs-offset-6 {
  margin-left: 50%;
}
.col-xs-offset-5 {
  margin-left: 41.66666667%;
}
.col-xs-offset-4 {
  margin-left: 33.33333333%;
}
.col-xs-offset-3 {
  margin-left: 25%;
}
.col-xs-offset-2 {
  margin-left: 16.66666667%;
}
.col-xs-offset-1 {
  margin-left: 8.33333333%;
}
.col-xs-offset-0 {
  margin-left: 0%;
}
@media (min-width: 768px) {
  .col-sm-1, .col-sm-2, .col-sm-3, .col-sm-4, .col-sm-5, .col-sm-6, .col-sm-7, .col-sm-8, .col-sm-9, .col-sm-10, .col-sm-11, .col-sm-12 {
    float: left;
  }
  .col-sm-12 {
    width: 100%;
  }
  .col-sm-11 {
    width: 91.66666667%;
  }
  .col-sm-10 {
    width: 83.33333333%;
  }
  .col-sm-9 {
    width: 75%;
  }
  .col-sm-8 {
    width: 66.66666667%;
  }
  .col-sm-7 {
    width: 58.33333333%;
  }
  .col-sm-6 {
    width: 50%;
  }
  .col-sm-5 {
    width: 41.66666667%;
  }
  .col-sm-4 {
    width: 33.33333333%;
  }
  .col-sm-3 {
    width: 25%;
  }
  .col-sm-2 {
    width: 16.66666667%;
  }
  .col-sm-1 {
    width: 8.33333333%;
  }
  .col-sm-pull-12 {
    right: 100%;
  }
  .col-sm-pull-11 {
    right: 91.66666667%;
  }
  .col-sm-pull-10 {
    right: 83.33333333%;
  }
  .col-sm-pull-9 {
    right: 75%;
  }
  .col-sm-pull-8 {
    right: 66.66666667%;
  }
  .col-sm-pull-7 {
    right: 58.33333333%;
  }
  .col-sm-pull-6 {
    right: 50%;
  }
  .col-sm-pull-5 {
    right: 41.66666667%;
  }
  .col-sm-pull-4 {
    right: 33.33333333%;
  }
  .col-sm-pull-3 {
    right: 25%;
  }
  .col-sm-pull-2 {
    right: 16.66666667%;
  }
  .col-sm-pull-1 {
    right: 8.33333333%;
  }
  .col-sm-pull-0 {
    right: auto;
  }
  .col-sm-push-12 {
    left: 100%;
  }
  .col-sm-push-11 {
    left: 91.66666667%;
  }
  .col-sm-push-10 {
    left: 83.33333333%;
  }
  .col-sm-push-9 {
    left: 75%;
  }
  .col-sm-push-8 {
    left: 66.66666667%;
  }
  .col-sm-push-7 {
    left: 58.33333333%;
  }
  .col-sm-push-6 {
    left: 50%;
  }
  .col-sm-push-5 {
    left: 41.66666667%;
  }
  .col-sm-push-4 {
    left: 33.33333333%;
  }
  .col-sm-push-3 {
    left: 25%;
  }
  .col-sm-push-2 {
    left: 16.66666667%;
  }
  .col-sm-push-1 {
    left: 8.33333333%;
  }
  .col-sm-push-0 {
    left: auto;
  }
  .col-sm-offset-12 {
    margin-left: 100%;
  }
  .col-sm-offset-11 {
    margin-left: 91.66666667%;
  }
  .col-sm-offset-10 {
    margin-left: 83.33333333%;
  }
  .col-sm-offset-9 {
    margin-left: 75%;
  }
  .col-sm-offset-8 {
    margin-left: 66.66666667%;
  }
  .col-sm-offset-7 {
    margin-left: 58.33333333%;
  }
  .col-sm-offset-6 {
    margin-left: 50%;
  }
  .col-sm-offset-5 {
    margin-left: 41.66666667%;
  }
  .col-sm-offset-4 {
    margin-left: 33.33333333%;
  }
  .col-sm-offset-3 {
    margin-left: 25%;
  }
  .col-sm-offset-2 {
    margin-left: 16.66666667%;
  }
  .col-sm-offset-1 {
    margin-left: 8.33333333%;
  }
  .col-sm-offset-0 {
    margin-left: 0%;
  }
}
@media (min-width: 992px) {
  .col-md-1, .col-md-2, .col-md-3, .col-md-4, .col-md-5, .col-md-6, .col-md-7, .col-md-8, .col-md-9, .col-md-10, .col-md-11, .col-md-12 {
    float: left;
  }
  .col-md-12 {
    width: 100%;
  }
  .col-md-11 {
    width: 91.66666667%;
  }
  .col-md-10 {
    width: 83.33333333%;
  }
  .col-md-9 {
    width: 75%;
  }
  .col-md-8 {
    width: 66.66666667%;
  }
  .col-md-7 {
    width: 58.33333333%;
  }
  .col-md-6 {
    width: 50%;
  }
  .col-md-5 {
    width: 41.66666667%;
  }
  .col-md-4 {
    width: 33.33333333%;
  }
  .col-md-3 {
    width: 25%;
  }
  .col-md-2 {
    width: 16.66666667%;
  }
  .col-md-1 {
    width: 8.33333333%;
  }
  .col-md-pull-12 {
    right: 100%;
  }
  .col-md-pull-11 {
    right: 91.66666667%;
  }
  .col-md-pull-10 {
    right: 83.33333333%;
  }
  .col-md-pull-9 {
    right: 75%;
  }
  .col-md-pull-8 {
    right: 66.66666667%;
  }
  .col-md-pull-7 {
    right: 58.33333333%;
  }
  .col-md-pull-6 {
    right: 50%;
  }
  .col-md-pull-5 {
    right: 41.66666667%;
  }
  .col-md-pull-4 {
    right: 33.33333333%;
  }
  .col-md-pull-3 {
    right: 25%;
  }
  .col-md-pull-2 {
    right: 16.66666667%;
  }
  .col-md-pull-1 {
    right: 8.33333333%;
  }
  .col-md-pull-0 {
    right: auto;
  }
  .col-md-push-12 {
    left: 100%;
  }
  .col-md-push-11 {
    left: 91.66666667%;
  }
  .col-md-push-10 {
    left: 83.33333333%;
  }
  .col-md-push-9 {
    left: 75%;
  }
  .col-md-push-8 {
    left: 66.66666667%;
  }
  .col-md-push-7 {
    left: 58.33333333%;
  }
  .col-md-push-6 {
    left: 50%;
  }
  .col-md-push-5 {
    left: 41.66666667%;
  }
  .col-md-push-4 {
    left: 33.33333333%;
  }
  .col-md-push-3 {
    left: 25%;
  }
  .col-md-push-2 {
    left: 16.66666667%;
  }
  .col-md-push-1 {
    left: 8.33333333%;
  }
  .col-md-push-0 {
    left: auto;
  }
  .col-md-offset-12 {
    margin-left: 100%;
  }
  .col-md-offset-11 {
    margin-left: 91.66666667%;
  }
  .col-md-offset-10 {
    margin-left: 83.33333333%;
  }
  .col-md-offset-9 {
    margin-left: 75%;
  }
  .col-md-offset-8 {
    margin-left: 66.66666667%;
  }
  .col-md-offset-7 {
    margin-left: 58.33333333%;
  }
  .col-md-offset-6 {
    margin-left: 50%;
  }
  .col-md-offset-5 {
    margin-left: 41.66666667%;
  }
  .col-md-offset-4 {
    margin-left: 33.33333333%;
  }
  .col-md-offset-3 {
    margin-left: 25%;
  }
  .col-md-offset-2 {
    margin-left: 16.66666667%;
  }
  .col-md-offset-1 {
    margin-left: 8.33333333%;
  }
  .col-md-offset-0 {
    margin-left: 0%;
  }
}
@media (min-width: 1200px) {
  .col-lg-1, .col-lg-2, .col-lg-3, .col-lg-4, .col-lg-5, .col-lg-6, .col-lg-7, .col-lg-8, .col-lg-9, .col-lg-10, .col-lg-11, .col-lg-12 {
    float: left;
  }
  .col-lg-12 {
    width: 100%;
  }
  .col-lg-11 {
    width: 91.66666667%;
  }
  .col-lg-10 {
    width: 83.33333333%;
  }
  .col-lg-9 {
    width: 75%;
  }
  .col-lg-8 {
    width: 66.66666667%;
  }
  .col-lg-7 {
    width: 58.33333333%;
  }
  .col-lg-6 {
    width: 50%;
  }
  .col-lg-5 {
    width: 41.66666667%;
  }
  .col-lg-4 {
    width: 33.33333333%;
  }
  .col-lg-3 {
    width: 25%;
  }
  .col-lg-2 {
    width: 16.66666667%;
  }
  .col-lg-1 {
    width: 8.33333333%;
  }
  .col-lg-pull-12 {
    right: 100%;
  }
  .col-lg-pull-11 {
    right: 91.66666667%;
  }
  .col-lg-pull-10 {
    right: 83.33333333%;
  }
  .col-lg-pull-9 {
    right: 75%;
  }
  .col-lg-pull-8 {
    right: 66.66666667%;
  }
  .col-lg-pull-7 {
    right: 58.33333333%;
  }
  .col-lg-pull-6 {
    right: 50%;
  }
  .col-lg-pull-5 {
    right: 41.66666667%;
  }
  .col-lg-pull-4 {
    right: 33.33333333%;
  }
  .col-lg-pull-3 {
    right: 25%;
  }
  .col-lg-pull-2 {
    right: 16.66666667%;
  }
  .col-lg-pull-1 {
    right: 8.33333333%;
  }
  .col-lg-pull-0 {
    right: auto;
  }
  .col-lg-push-12 {
    left: 100%;
  }
  .col-lg-push-11 {
    left: 91.66666667%;
  }
  .col-lg-push-10 {
    left: 83.33333333%;
  }
  .col-lg-push-9 {
    left: 75%;
  }
  .col-lg-push-8 {
    left: 66.66666667%;
  }
  .col-lg-push-7 {
    left: 58.33333333%;
  }
  .col-lg-push-6 {
    left: 50%;
  }
  .col-lg-push-5 {
    left: 41.66666667%;
  }
  .col-lg-push-4 {
    left: 33.33333333%;
  }
  .col-lg-push-3 {
    left: 25%;
  }
  .col-lg-push-2 {
    left: 16.66666667%;
  }
  .col-lg-push-1 {
    left: 8.33333333%;
  }
  .col-lg-push-0 {
    left: auto;
  }
  .col-lg-offset-12 {
    margin-left: 100%;
  }
  .col-lg-offset-11 {
    margin-left: 91.66666667%;
  }
  .col-lg-offset-10 {
    margin-left: 83.33333333%;
  }
  .col-lg-offset-9 {
    margin-left: 75%;
  }
  .col-lg-offset-8 {
    margin-left: 66.66666667%;
  }
  .col-lg-offset-7 {
    margin-left: 58.33333333%;
  }
  .col-lg-offset-6 {
    margin-left: 50%;
  }
  .col-lg-offset-5 {
    margin-left: 41.66666667%;
  }
  .col-lg-offset-4 {
    margin-left: 33.33333333%;
  }
  .col-lg-offset-3 {
    margin-left: 25%;
  }
  .col-lg-offset-2 {
    margin-left: 16.66666667%;
  }
  .col-lg-offset-1 {
    margin-left: 8.33333333%;
  }
  .col-lg-offset-0 {
    margin-left: 0%;
  }
}
table {
  background-color: transparent;
}
caption {
  padding-top: 8px;
  padding-bottom: 8px;
  color: #777777;
  text-align: left;
}
th {
  text-align: left;
}
.table {
  width: 100%;
  max-width: 100%;
  margin-bottom: 18px;
}
.table > thead > tr > th,
.table > tbody > tr > th,
.table > tfoot > tr > th,
.table > thead > tr > td,
.table > tbody > tr > td,
.table > tfoot > tr > td {
  padding: 8px;
  line-height: 1.42857143;
  vertical-align: top;
  border-top: 1px solid #ddd;
}
.table > thead > tr > th {
  vertical-align: bottom;
  border-bottom: 2px solid #ddd;
}
.table > caption + thead > tr:first-child > th,
.table > colgroup + thead > tr:first-child > th,
.table > thead:first-child > tr:first-child > th,
.table > caption + thead > tr:first-child > td,
.table > colgroup + thead > tr:first-child > td,
.table > thead:first-child > tr:first-child > td {
  border-top: 0;
}
.table > tbody + tbody {
  border-top: 2px solid #ddd;
}
.table .table {
  background-color: #fff;
}
.table-condensed > thead > tr > th,
.table-condensed > tbody > tr > th,
.table-condensed > tfoot > tr > th,
.table-condensed > thead > tr > td,
.table-condensed > tbody > tr > td,
.table-condensed > tfoot > tr > td {
  padding: 5px;
}
.table-bordered {
  border: 1px solid #ddd;
}
.table-bordered > thead > tr > th,
.table-bordered > tbody > tr > th,
.table-bordered > tfoot > tr > th,
.table-bordered > thead > tr > td,
.table-bordered > tbody > tr > td,
.table-bordered > tfoot > tr > td {
  border: 1px solid #ddd;
}
.table-bordered > thead > tr > th,
.table-bordered > thead > tr > td {
  border-bottom-width: 2px;
}
.table-striped > tbody > tr:nth-of-type(odd) {
  background-color: #f9f9f9;
}
.table-hover > tbody > tr:hover {
  background-color: #f5f5f5;
}
table col[class*="col-"] {
  position: static;
  float: none;
  display: table-column;
}
table td[class*="col-"],
table th[class*="col-"] {
  position: static;
  float: none;
  display: table-cell;
}
.table > thead > tr > td.active,
.table > tbody > tr > td.active,
.table > tfoot > tr > td.active,
.table > thead > tr > th.active,
.table > tbody > tr > th.active,
.table > tfoot > tr > th.active,
.table > thead > tr.active > td,
.table > tbody > tr.active > td,
.table > tfoot > tr.active > td,
.table > thead > tr.active > th,
.table > tbody > tr.active > th,
.table > tfoot > tr.active > th {
  background-color: #f5f5f5;
}
.table-hover > tbody > tr > td.active:hover,
.table-hover > tbody > tr > th.active:hover,
.table-hover > tbody > tr.active:hover > td,
.table-hover > tbody > tr:hover > .active,
.table-hover > tbody > tr.active:hover > th {
  background-color: #e8e8e8;
}
.table > thead > tr > td.success,
.table > tbody > tr > td.success,
.table > tfoot > tr > td.success,
.table > thead > tr > th.success,
.table > tbody > tr > th.success,
.table > tfoot > tr > th.success,
.table > thead > tr.success > td,
.table > tbody > tr.success > td,
.table > tfoot > tr.success > td,
.table > thead > tr.success > th,
.table > tbody > tr.success > th,
.table > tfoot > tr.success > th {
  background-color: #dff0d8;
}
.table-hover > tbody > tr > td.success:hover,
.table-hover > tbody > tr > th.success:hover,
.table-hover > tbody > tr.success:hover > td,
.table-hover > tbody > tr:hover > .success,
.table-hover > tbody > tr.success:hover > th {
  background-color: #d0e9c6;
}
.table > thead > tr > td.info,
.table > tbody > tr > td.info,
.table > tfoot > tr > td.info,
.table > thead > tr > th.info,
.table > tbody > tr > th.info,
.table > tfoot > tr > th.info,
.table > thead > tr.info > td,
.table > tbody > tr.info > td,
.table > tfoot > tr.info > td,
.table > thead > tr.info > th,
.table > tbody > tr.info > th,
.table > tfoot > tr.info > th {
  background-color: #d9edf7;
}
.table-hover > tbody > tr > td.info:hover,
.table-hover > tbody > tr > th.info:hover,
.table-hover > tbody > tr.info:hover > td,
.table-hover > tbody > tr:hover > .info,
.table-hover > tbody > tr.info:hover > th {
  background-color: #c4e3f3;
}
.table > thead > tr > td.warning,
.table > tbody > tr > td.warning,
.table > tfoot > tr > td.warning,
.table > thead > tr > th.warning,
.table > tbody > tr > th.warning,
.table > tfoot > tr > th.warning,
.table > thead > tr.warning > td,
.table > tbody > tr.warning > td,
.table > tfoot > tr.warning > td,
.table > thead > tr.warning > th,
.table > tbody > tr.warning > th,
.table > tfoot > tr.warning > th {
  background-color: #fcf8e3;
}
.table-hover > tbody > tr > td.warning:hover,
.table-hover > tbody > tr > th.warning:hover,
.table-hover > tbody > tr.warning:hover > td,
.table-hover > tbody > tr:hover > .warning,
.table-hover > tbody > tr.warning:hover > th {
  background-color: #faf2cc;
}
.table > thead > tr > td.danger,
.table > tbody > tr > td.danger,
.table > tfoot > tr > td.danger,
.table > thead > tr > th.danger,
.table > tbody > tr > th.danger,
.table > tfoot > tr > th.danger,
.table > thead > tr.danger > td,
.table > tbody > tr.danger > td,
.table > tfoot > tr.danger > td,
.table > thead > tr.danger > th,
.table > tbody > tr.danger > th,
.table > tfoot > tr.danger > th {
  background-color: #f2dede;
}
.table-hover > tbody > tr > td.danger:hover,
.table-hover > tbody > tr > th.danger:hover,
.table-hover > tbody > tr.danger:hover > td,
.table-hover > tbody > tr:hover > .danger,
.table-hover > tbody > tr.danger:hover > th {
  background-color: #ebcccc;
}
.table-responsive {
  overflow-x: auto;
  min-height: 0.01%;
}
@media screen and (max-width: 767px) {
  .table-responsive {
    width: 100%;
    margin-bottom: 13.5px;
    overflow-y: hidden;
    -ms-overflow-style: -ms-autohiding-scrollbar;
    border: 1px solid #ddd;
  }
  .table-responsive > .table {
    margin-bottom: 0;
  }
  .table-responsive > .table > thead > tr > th,
  .table-responsive > .table > tbody > tr > th,
  .table-responsive > .table > tfoot > tr > th,
  .table-responsive > .table > thead > tr > td,
  .table-responsive > .table > tbody > tr > td,
  .table-responsive > .table > tfoot > tr > td {
    white-space: nowrap;
  }
  .table-responsive > .table-bordered {
    border: 0;
  }
  .table-responsive > .table-bordered > thead > tr > th:first-child,
  .table-responsive > .table-bordered > tbody > tr > th:first-child,
  .table-responsive > .table-bordered > tfoot > tr > th:first-child,
  .table-responsive > .table-bordered > thead > tr > td:first-child,
  .table-responsive > .table-bordered > tbody > tr > td:first-child,
  .table-responsive > .table-bordered > tfoot > tr > td:first-child {
    border-left: 0;
  }
  .table-responsive > .table-bordered > thead > tr > th:last-child,
  .table-responsive > .table-bordered > tbody > tr > th:last-child,
  .table-responsive > .table-bordered > tfoot > tr > th:last-child,
  .table-responsive > .table-bordered > thead > tr > td:last-child,
  .table-responsive > .table-bordered > tbody > tr > td:last-child,
  .table-responsive > .table-bordered > tfoot > tr > td:last-child {
    border-right: 0;
  }
  .table-responsive > .table-bordered > tbody > tr:last-child > th,
  .table-responsive > .table-bordered > tfoot > tr:last-child > th,
  .table-responsive > .table-bordered > tbody > tr:last-child > td,
  .table-responsive > .table-bordered > tfoot > tr:last-child > td {
    border-bottom: 0;
  }
}
fieldset {
  padding: 0;
  margin: 0;
  border: 0;
  min-width: 0;
}
legend {
  display: block;
  width: 100%;
  padding: 0;
  margin-bottom: 18px;
  font-size: 19.5px;
  line-height: inherit;
  color: #333333;
  border: 0;
  border-bottom: 1px solid #e5e5e5;
}
label {
  display: inline-block;
  max-width: 100%;
  margin-bottom: 5px;
  font-weight: bold;
}
input[type="search"] {
  -webkit-box-sizing: border-box;
  -moz-box-sizing: border-box;
  box-sizing: border-box;
}
input[type="radio"],
input[type="checkbox"] {
  margin: 4px 0 0;
  margin-top: 1px \9;
  line-height: normal;
}
input[type="file"] {
  display: block;
}
input[type="range"] {
  display: block;
  width: 100%;
}
select[multiple],
select[size] {
  height: auto;
}
input[type="file"]:focus,
input[type="radio"]:focus,
input[type="checkbox"]:focus {
  outline: thin dotted;
  outline: 5px auto -webkit-focus-ring-color;
  outline-offset: -2px;
}
output {
  display: block;
  padding-top: 7px;
  font-size: 13px;
  line-height: 1.42857143;
  color: #555555;
}
.form-control {
  display: block;
  width: 100%;
  height: 32px;
  padding: 6px 12px;
  font-size: 13px;
  line-height: 1.42857143;
  color: #555555;
  background-color: #fff;
  background-image: none;
  border: 1px solid #ccc;
  border-radius: 2px;
  -webkit-box-shadow: inset 0 1px 1px rgba(0, 0, 0, 0.075);
  box-shadow: inset 0 1px 1px rgba(0, 0, 0, 0.075);
  -webkit-transition: border-color ease-in-out .15s, box-shadow ease-in-out .15s;
  -o-transition: border-color ease-in-out .15s, box-shadow ease-in-out .15s;
  transition: border-color ease-in-out .15s, box-shadow ease-in-out .15s;
}
.form-control:focus {
  border-color: #66afe9;
  outline: 0;
  -webkit-box-shadow: inset 0 1px 1px rgba(0,0,0,.075), 0 0 8px rgba(102, 175, 233, 0.6);
  box-shadow: inset 0 1px 1px rgba(0,0,0,.075), 0 0 8px rgba(102, 175, 233, 0.6);
}
.form-control::-moz-placeholder {
  color: #999;
  opacity: 1;
}
.form-control:-ms-input-placeholder {
  color: #999;
}
.form-control::-webkit-input-placeholder {
  color: #999;
}
.form-control::-ms-expand {
  border: 0;
  background-color: transparent;
}
.form-control[disabled],
.form-control[readonly],
fieldset[disabled] .form-control {
  background-color: #eeeeee;
  opacity: 1;
}
.form-control[disabled],
fieldset[disabled] .form-control {
  cursor: not-allowed;
}
textarea.form-control {
  height: auto;
}
input[type="search"] {
  -webkit-appearance: none;
}
@media screen and (-webkit-min-device-pixel-ratio: 0) {
  input[type="date"].form-control,
  input[type="time"].form-control,
  input[type="datetime-local"].form-control,
  input[type="month"].form-control {
    line-height: 32px;
  }
  input[type="date"].input-sm,
  input[type="time"].input-sm,
  input[type="datetime-local"].input-sm,
  input[type="month"].input-sm,
  .input-group-sm input[type="date"],
  .input-group-sm input[type="time"],
  .input-group-sm input[type="datetime-local"],
  .input-group-sm input[type="month"] {
    line-height: 30px;
  }
  input[type="date"].input-lg,
  input[type="time"].input-lg,
  input[type="datetime-local"].input-lg,
  input[type="month"].input-lg,
  .input-group-lg input[type="date"],
  .input-group-lg input[type="time"],
  .input-group-lg input[type="datetime-local"],
  .input-group-lg input[type="month"] {
    line-height: 45px;
  }
}
.form-group {
  margin-bottom: 15px;
}
.radio,
.checkbox {
  position: relative;
  display: block;
  margin-top: 10px;
  margin-bottom: 10px;
}
.radio label,
.checkbox label {
  min-height: 18px;
  padding-left: 20px;
  margin-bottom: 0;
  font-weight: normal;
  cursor: pointer;
}
.radio input[type="radio"],
.radio-inline input[type="radio"],
.checkbox input[type="checkbox"],
.checkbox-inline input[type="checkbox"] {
  position: absolute;
  margin-left: -20px;
  margin-top: 4px \9;
}
.radio + .radio,
.checkbox + .checkbox {
  margin-top: -5px;
}
.radio-inline,
.checkbox-inline {
  position: relative;
  display: inline-block;
  padding-left: 20px;
  margin-bottom: 0;
  vertical-align: middle;
  font-weight: normal;
  cursor: pointer;
}
.radio-inline + .radio-inline,
.checkbox-inline + .checkbox-inline {
  margin-top: 0;
  margin-left: 10px;
}
input[type="radio"][disabled],
input[type="checkbox"][disabled],
input[type="radio"].disabled,
input[type="checkbox"].disabled,
fieldset[disabled] input[type="radio"],
fieldset[disabled] input[type="checkbox"] {
  cursor: not-allowed;
}
.radio-inline.disabled,
.checkbox-inline.disabled,
fieldset[disabled] .radio-inline,
fieldset[disabled] .checkbox-inline {
  cursor: not-allowed;
}
.radio.disabled label,
.checkbox.disabled label,
fieldset[disabled] .radio label,
fieldset[disabled] .checkbox label {
  cursor: not-allowed;
}
.form-control-static {
  padding-top: 7px;
  padding-bottom: 7px;
  margin-bottom: 0;
  min-height: 31px;
}
.form-control-static.input-lg,
.form-control-static.input-sm {
  padding-left: 0;
  padding-right: 0;
}
.input-sm {
  height: 30px;
  padding: 5px 10px;
  font-size: 12px;
  line-height: 1.5;
  border-radius: 1px;
}
select.input-sm {
  height: 30px;
  line-height: 30px;
}
textarea.input-sm,
select[multiple].input-sm {
  height: auto;
}
.form-group-sm .form-control {
  height: 30px;
  padding: 5px 10px;
  font-size: 12px;
  line-height: 1.5;
  border-radius: 1px;
}
.form-group-sm select.form-control {
  height: 30px;
  line-height: 30px;
}
.form-group-sm textarea.form-control,
.form-group-sm select[multiple].form-control {
  height: auto;
}
.form-group-sm .form-control-static {
  height: 30px;
  min-height: 30px;
  padding: 6px 10px;
  font-size: 12px;
  line-height: 1.5;
}
.input-lg {
  height: 45px;
  padding: 10px 16px;
  font-size: 17px;
  line-height: 1.3333333;
  border-radius: 3px;
}
select.input-lg {
  height: 45px;
  line-height: 45px;
}
textarea.input-lg,
select[multiple].input-lg {
  height: auto;
}
.form-group-lg .form-control {
  height: 45px;
  padding: 10px 16px;
  font-size: 17px;
  line-height: 1.3333333;
  border-radius: 3px;
}
.form-group-lg select.form-control {
  height: 45px;
  line-height: 45px;
}
.form-group-lg textarea.form-control,
.form-group-lg select[multiple].form-control {
  height: auto;
}
.form-group-lg .form-control-static {
  height: 45px;
  min-height: 35px;
  padding: 11px 16px;
  font-size: 17px;
  line-height: 1.3333333;
}
.has-feedback {
  position: relative;
}
.has-feedback .form-control {
  padding-right: 40px;
}
.form-control-feedback {
  position: absolute;
  top: 0;
  right: 0;
  z-index: 2;
  display: block;
  width: 32px;
  height: 32px;
  line-height: 32px;
  text-align: center;
  pointer-events: none;
}
.input-lg + .form-control-feedback,
.input-group-lg + .form-control-feedback,
.form-group-lg .form-control + .form-control-feedback {
  width: 45px;
  height: 45px;
  line-height: 45px;
}
.input-sm + .form-control-feedback,
.input-group-sm + .form-control-feedback,
.form-group-sm .form-control + .form-control-feedback {
  width: 30px;
  height: 30px;
  line-height: 30px;
}
.has-success .help-block,
.has-success .control-label,
.has-success .radio,
.has-success .checkbox,
.has-success .radio-inline,
.has-success .checkbox-inline,
.has-success.radio label,
.has-success.checkbox label,
.has-success.radio-inline label,
.has-success.checkbox-inline label {
  color: #3c763d;
}
.has-success .form-control {
  border-color: #3c763d;
  -webkit-box-shadow: inset 0 1px 1px rgba(0, 0, 0, 0.075);
  box-shadow: inset 0 1px 1px rgba(0, 0, 0, 0.075);
}
.has-success .form-control:focus {
  border-color: #2b542c;
  -webkit-box-shadow: inset 0 1px 1px rgba(0, 0, 0, 0.075), 0 0 6px #67b168;
  box-shadow: inset 0 1px 1px rgba(0, 0, 0, 0.075), 0 0 6px #67b168;
}
.has-success .input-group-addon {
  color: #3c763d;
  border-color: #3c763d;
  background-color: #dff0d8;
}
.has-success .form-control-feedback {
  color: #3c763d;
}
.has-warning .help-block,
.has-warning .control-label,
.has-warning .radio,
.has-warning .checkbox,
.has-warning .radio-inline,
.has-warning .checkbox-inline,
.has-warning.radio label,
.has-warning.checkbox label,
.has-warning.radio-inline label,
.has-warning.checkbox-inline label {
  color: #8a6d3b;
}
.has-warning .form-control {
  border-color: #8a6d3b;
  -webkit-box-shadow: inset 0 1px 1px rgba(0, 0, 0, 0.075);
  box-shadow: inset 0 1px 1px rgba(0, 0, 0, 0.075);
}
.has-warning .form-control:focus {
  border-color: #66512c;
  -webkit-box-shadow: inset 0 1px 1px rgba(0, 0, 0, 0.075), 0 0 6px #c0a16b;
  box-shadow: inset 0 1px 1px rgba(0, 0, 0, 0.075), 0 0 6px #c0a16b;
}
.has-warning .input-group-addon {
  color: #8a6d3b;
  border-color: #8a6d3b;
  background-color: #fcf8e3;
}
.has-warning .form-control-feedback {
  color: #8a6d3b;
}
.has-error .help-block,
.has-error .control-label,
.has-error .radio,
.has-error .checkbox,
.has-error .radio-inline,
.has-error .checkbox-inline,
.has-error.radio label,
.has-error.checkbox label,
.has-error.radio-inline label,
.has-error.checkbox-inline label {
  color: #a94442;
}
.has-error .form-control {
  border-color: #a94442;
  -webkit-box-shadow: inset 0 1px 1px rgba(0, 0, 0, 0.075);
  box-shadow: inset 0 1px 1px rgba(0, 0, 0, 0.075);
}
.has-error .form-control:focus {
  border-color: #843534;
  -webkit-box-shadow: inset 0 1px 1px rgba(0, 0, 0, 0.075), 0 0 6px #ce8483;
  box-shadow: inset 0 1px 1px rgba(0, 0, 0, 0.075), 0 0 6px #ce8483;
}
.has-error .input-group-addon {
  color: #a94442;
  border-color: #a94442;
  background-color: #f2dede;
}
.has-error .form-control-feedback {
  color: #a94442;
}
.has-feedback label ~ .form-control-feedback {
  top: 23px;
}
.has-feedback label.sr-only ~ .form-control-feedback {
  top: 0;
}
.help-block {
  display: block;
  margin-top: 5px;
  margin-bottom: 10px;
  color: #404040;
}
@media (min-width: 768px) {
  .form-inline .form-group {
    display: inline-block;
    margin-bottom: 0;
    vertical-align: middle;
  }
  .form-inline .form-control {
    display: inline-block;
    width: auto;
    vertical-align: middle;
  }
  .form-inline .form-control-static {
    display: inline-block;
  }
  .form-inline .input-group {
    display: inline-table;
    vertical-align: middle;
  }
  .form-inline .input-group .input-group-addon,
  .form-inline .input-group .input-group-btn,
  .form-inline .input-group .form-control {
    width: auto;
  }
  .form-inline .input-group > .form-control {
    width: 100%;
  }
  .form-inline .control-label {
    margin-bottom: 0;
    vertical-align: middle;
  }
  .form-inline .radio,
  .form-inline .checkbox {
    display: inline-block;
    margin-top: 0;
    margin-bottom: 0;
    vertical-align: middle;
  }
  .form-inline .radio label,
  .form-inline .checkbox label {
    padding-left: 0;
  }
  .form-inline .radio input[type="radio"],
  .form-inline .checkbox input[type="checkbox"] {
    position: relative;
    margin-left: 0;
  }
  .form-inline .has-feedback .form-control-feedback {
    top: 0;
  }
}
.form-horizontal .radio,
.form-horizontal .checkbox,
.form-horizontal .radio-inline,
.form-horizontal .checkbox-inline {
  margin-top: 0;
  margin-bottom: 0;
  padding-top: 7px;
}
.form-horizontal .radio,
.form-horizontal .checkbox {
  min-height: 25px;
}
.form-horizontal .form-group {
  margin-left: 0px;
  margin-right: 0px;
}
@media (min-width: 768px) {
  .form-horizontal .control-label {
    text-align: right;
    margin-bottom: 0;
    padding-top: 7px;
  }
}
.form-horizontal .has-feedback .form-control-feedback {
  right: 0px;
}
@media (min-width: 768px) {
  .form-horizontal .form-group-lg .control-label {
    padding-top: 11px;
    font-size: 17px;
  }
}
@media (min-width: 768px) {
  .form-horizontal .form-group-sm .control-label {
    padding-top: 6px;
    font-size: 12px;
  }
}
.btn {
  display: inline-block;
  margin-bottom: 0;
  font-weight: normal;
  text-align: center;
  vertical-align: middle;
  touch-action: manipulation;
  cursor: pointer;
  background-image: none;
  border: 1px solid transparent;
  white-space: nowrap;
  padding: 6px 12px;
  font-size: 13px;
  line-height: 1.42857143;
  border-radius: 2px;
  -webkit-user-select: none;
  -moz-user-select: none;
  -ms-user-select: none;
  user-select: none;
}
.btn:focus,
.btn:active:focus,
.btn.active:focus,
.btn.focus,
.btn:active.focus,
.btn.active.focus {
  outline: thin dotted;
  outline: 5px auto -webkit-focus-ring-color;
  outline-offset: -2px;
}
.btn:hover,
.btn:focus,
.btn.focus {
  color: #333;
  text-decoration: none;
}
.btn:active,
.btn.active {
  outline: 0;
  background-image: none;
  -webkit-box-shadow: inset 0 3px 5px rgba(0, 0, 0, 0.125);
  box-shadow: inset 0 3px 5px rgba(0, 0, 0, 0.125);
}
.btn.disabled,
.btn[disabled],
fieldset[disabled] .btn {
  cursor: not-allowed;
  opacity: 0.65;
  filter: alpha(opacity=65);
  -webkit-box-shadow: none;
  box-shadow: none;
}
a.btn.disabled,
fieldset[disabled] a.btn {
  pointer-events: none;
}
.btn-default {
  color: #333;
  background-color: #fff;
  border-color: #ccc;
}
.btn-default:focus,
.btn-default.focus {
  color: #333;
  background-color: #e6e6e6;
  border-color: #8c8c8c;
}
.btn-default:hover {
  color: #333;
  background-color: #e6e6e6;
  border-color: #adadad;
}
.btn-default:active,
.btn-default.active,
.open > .dropdown-toggle.btn-default {
  color: #333;
  background-color: #e6e6e6;
  border-color: #adadad;
}
.btn-default:active:hover,
.btn-default.active:hover,
.open > .dropdown-toggle.btn-default:hover,
.btn-default:active:focus,
.btn-default.active:focus,
.open > .dropdown-toggle.btn-default:focus,
.btn-default:active.focus,
.btn-default.active.focus,
.open > .dropdown-toggle.btn-default.focus {
  color: #333;
  background-color: #d4d4d4;
  border-color: #8c8c8c;
}
.btn-default:active,
.btn-default.active,
.open > .dropdown-toggle.btn-default {
  background-image: none;
}
.btn-default.disabled:hover,
.btn-default[disabled]:hover,
fieldset[disabled] .btn-default:hover,
.btn-default.disabled:focus,
.btn-default[disabled]:focus,
fieldset[disabled] .btn-default:focus,
.btn-default.disabled.focus,
.btn-default[disabled].focus,
fieldset[disabled] .btn-default.focus {
  background-color: #fff;
  border-color: #ccc;
}
.btn-default .badge {
  color: #fff;
  background-color: #333;
}
.btn-primary {
  color: #fff;
  background-color: #337ab7;
  border-color: #2e6da4;
}
.btn-primary:focus,
.btn-primary.focus {
  color: #fff;
  background-color: #286090;
  border-color: #122b40;
}
.btn-primary:hover {
  color: #fff;
  background-color: #286090;
  border-color: #204d74;
}
.btn-primary:active,
.btn-primary.active,
.open > .dropdown-toggle.btn-primary {
  color: #fff;
  background-color: #286090;
  border-color: #204d74;
}
.btn-primary:active:hover,
.btn-primary.active:hover,
.open > .dropdown-toggle.btn-primary:hover,
.btn-primary:active:focus,
.btn-primary.active:focus,
.open > .dropdown-toggle.btn-primary:focus,
.btn-primary:active.focus,
.btn-primary.active.focus,
.open > .dropdown-toggle.btn-primary.focus {
  color: #fff;
  background-color: #204d74;
  border-color: #122b40;
}
.btn-primary:active,
.btn-primary.active,
.open > .dropdown-toggle.btn-primary {
  background-image: none;
}
.btn-primary.disabled:hover,
.btn-primary[disabled]:hover,
fieldset[disabled] .btn-primary:hover,
.btn-primary.disabled:focus,
.btn-primary[disabled]:focus,
fieldset[disabled] .btn-primary:focus,
.btn-primary.disabled.focus,
.btn-primary[disabled].focus,
fieldset[disabled] .btn-primary.focus {
  background-color: #337ab7;
  border-color: #2e6da4;
}
.btn-primary .badge {
  color: #337ab7;
  background-color: #fff;
}
.btn-success {
  color: #fff;
  background-color: #5cb85c;
  border-color: #4cae4c;
}
.btn-success:focus,
.btn-success.focus {
  color: #fff;
  background-color: #449d44;
  border-color: #255625;
}
.btn-success:hover {
  color: #fff;
  background-color: #449d44;
  border-color: #398439;
}
.btn-success:active,
.btn-success.active,
.open > .dropdown-toggle.btn-success {
  color: #fff;
  background-color: #449d44;
  border-color: #398439;
}
.btn-success:active:hover,
.btn-success.active:hover,
.open > .dropdown-toggle.btn-success:hover,
.btn-success:active:focus,
.btn-success.active:focus,
.open > .dropdown-toggle.btn-success:focus,
.btn-success:active.focus,
.btn-success.active.focus,
.open > .dropdown-toggle.btn-success.focus {
  color: #fff;
  background-color: #398439;
  border-color: #255625;
}
.btn-success:active,
.btn-success.active,
.open > .dropdown-toggle.btn-success {
  background-image: none;
}
.btn-success.disabled:hover,
.btn-success[disabled]:hover,
fieldset[disabled] .btn-success:hover,
.btn-success.disabled:focus,
.btn-success[disabled]:focus,
fieldset[disabled] .btn-success:focus,
.btn-success.disabled.focus,
.btn-success[disabled].focus,
fieldset[disabled] .btn-success.focus {
  background-color: #5cb85c;
  border-color: #4cae4c;
}
.btn-success .badge {
  color: #5cb85c;
  background-color: #fff;
}
.btn-info {
  color: #fff;
  background-color: #5bc0de;
  border-color: #46b8da;
}
.btn-info:focus,
.btn-info.focus {
  color: #fff;
  background-color: #31b0d5;
  border-color: #1b6d85;
}
.btn-info:hover {
  color: #fff;
  background-color: #31b0d5;
  border-color: #269abc;
}
.btn-info:active,
.btn-info.active,
.open > .dropdown-toggle.btn-info {
  color: #fff;
  background-color: #31b0d5;
  border-color: #269abc;
}
.btn-info:active:hover,
.btn-info.active:hover,
.open > .dropdown-toggle.btn-info:hover,
.btn-info:active:focus,
.btn-info.active:focus,
.open > .dropdown-toggle.btn-info:focus,
.btn-info:active.focus,
.btn-info.active.focus,
.open > .dropdown-toggle.btn-info.focus {
  color: #fff;
  background-color: #269abc;
  border-color: #1b6d85;
}
.btn-info:active,
.btn-info.active,
.open > .dropdown-toggle.btn-info {
  background-image: none;
}
.btn-info.disabled:hover,
.btn-info[disabled]:hover,
fieldset[disabled] .btn-info:hover,
.btn-info.disabled:focus,
.btn-info[disabled]:focus,
fieldset[disabled] .btn-info:focus,
.btn-info.disabled.focus,
.btn-info[disabled].focus,
fieldset[disabled] .btn-info.focus {
  background-color: #5bc0de;
  border-color: #46b8da;
}
.btn-info .badge {
  color: #5bc0de;
  background-color: #fff;
}
.btn-warning {
  color: #fff;
  background-color: #f0ad4e;
  border-color: #eea236;
}
.btn-warning:focus,
.btn-warning.focus {
  color: #fff;
  background-color: #ec971f;
  border-color: #985f0d;
}
.btn-warning:hover {
  color: #fff;
  background-color: #ec971f;
  border-color: #d58512;
}
.btn-warning:active,
.btn-warning.active,
.open > .dropdown-toggle.btn-warning {
  color: #fff;
  background-color: #ec971f;
  border-color: #d58512;
}
.btn-warning:active:hover,
.btn-warning.active:hover,
.open > .dropdown-toggle.btn-warning:hover,
.btn-warning:active:focus,
.btn-warning.active:focus,
.open > .dropdown-toggle.btn-warning:focus,
.btn-warning:active.focus,
.btn-warning.active.focus,
.open > .dropdown-toggle.btn-warning.focus {
  color: #fff;
  background-color: #d58512;
  border-color: #985f0d;
}
.btn-warning:active,
.btn-warning.active,
.open > .dropdown-toggle.btn-warning {
  background-image: none;
}
.btn-warning.disabled:hover,
.btn-warning[disabled]:hover,
fieldset[disabled] .btn-warning:hover,
.btn-warning.disabled:focus,
.btn-warning[disabled]:focus,
fieldset[disabled] .btn-warning:focus,
.btn-warning.disabled.focus,
.btn-warning[disabled].focus,
fieldset[disabled] .btn-warning.focus {
  background-color: #f0ad4e;
  border-color: #eea236;
}
.btn-warning .badge {
  color: #f0ad4e;
  background-color: #fff;
}
.btn-danger {
  color: #fff;
  background-color: #d9534f;
  border-color: #d43f3a;
}
.btn-danger:focus,
.btn-danger.focus {
  color: #fff;
  background-color: #c9302c;
  border-color: #761c19;
}
.btn-danger:hover {
  color: #fff;
  background-color: #c9302c;
  border-color: #ac2925;
}
.btn-danger:active,
.btn-danger.active,
.open > .dropdown-toggle.btn-danger {
  color: #fff;
  background-color: #c9302c;
  border-color: #ac2925;
}
.btn-danger:active:hover,
.btn-danger.active:hover,
.open > .dropdown-toggle.btn-danger:hover,
.btn-danger:active:focus,
.btn-danger.active:focus,
.open > .dropdown-toggle.btn-danger:focus,
.btn-danger:active.focus,
.btn-danger.active.focus,
.open > .dropdown-toggle.btn-danger.focus {
  color: #fff;
  background-color: #ac2925;
  border-color: #761c19;
}
.btn-danger:active,
.btn-danger.active,
.open > .dropdown-toggle.btn-danger {
  background-image: none;
}
.btn-danger.disabled:hover,
.btn-danger[disabled]:hover,
fieldset[disabled] .btn-danger:hover,
.btn-danger.disabled:focus,
.btn-danger[disabled]:focus,
fieldset[disabled] .btn-danger:focus,
.btn-danger.disabled.focus,
.btn-danger[disabled].focus,
fieldset[disabled] .btn-danger.focus {
  background-color: #d9534f;
  border-color: #d43f3a;
}
.btn-danger .badge {
  color: #d9534f;
  background-color: #fff;
}
.btn-link {
  color: #337ab7;
  font-weight: normal;
  border-radius: 0;
}
.btn-link,
.btn-link:active,
.btn-link.active,
.btn-link[disabled],
fieldset[disabled] .btn-link {
  background-color: transparent;
  -webkit-box-shadow: none;
  box-shadow: none;
}
.btn-link,
.btn-link:hover,
.btn-link:focus,
.btn-link:active {
  border-color: transparent;
}
.btn-link:hover,
.btn-link:focus {
  color: #23527c;
  text-decoration: underline;
  background-color: transparent;
}
.btn-link[disabled]:hover,
fieldset[disabled] .btn-link:hover,
.btn-link[disabled]:focus,
fieldset[disabled] .btn-link:focus {
  color: #777777;
  text-decoration: none;
}
.btn-lg,
.btn-group-lg > .btn {
  padding: 10px 16px;
  font-size: 17px;
  line-height: 1.3333333;
  border-radius: 3px;
}
.btn-sm,
.btn-group-sm > .btn {
  padding: 5px 10px;
  font-size: 12px;
  line-height: 1.5;
  border-radius: 1px;
}
.btn-xs,
.btn-group-xs > .btn {
  padding: 1px 5px;
  font-size: 12px;
  line-height: 1.5;
  border-radius: 1px;
}
.btn-block {
  display: block;
  width: 100%;
}
.btn-block + .btn-block {
  margin-top: 5px;
}
input[type="submit"].btn-block,
input[type="reset"].btn-block,
input[type="button"].btn-block {
  width: 100%;
}
.fade {
  opacity: 0;
  -webkit-transition: opacity 0.15s linear;
  -o-transition: opacity 0.15s linear;
  transition: opacity 0.15s linear;
}
.fade.in {
  opacity: 1;
}
.collapse {
  display: none;
}
.collapse.in {
  display: block;
}
tr.collapse.in {
  display: table-row;
}
tbody.collapse.in {
  display: table-row-group;
}
.collapsing {
  position: relative;
  height: 0;
  overflow: hidden;
  -webkit-transition-property: height, visibility;
  transition-property: height, visibility;
  -webkit-transition-duration: 0.35s;
  transition-duration: 0.35s;
  -webkit-transition-timing-function: ease;
  transition-timing-function: ease;
}
.caret {
  display: inline-block;
  width: 0;
  height: 0;
  margin-left: 2px;
  vertical-align: middle;
  border-top: 4px dashed;
  border-top: 4px solid \9;
  border-right: 4px solid transparent;
  border-left: 4px solid transparent;
}
.dropup,
.dropdown {
  position: relative;
}
.dropdown-toggle:focus {
  outline: 0;
}
.dropdown-menu {
  position: absolute;
  top: 100%;
  left: 0;
  z-index: 1000;
  display: none;
  float: left;
  min-width: 160px;
  padding: 5px 0;
  margin: 2px 0 0;
  list-style: none;
  font-size: 13px;
  text-align: left;
  background-color: #fff;
  border: 1px solid #ccc;
  border: 1px solid rgba(0, 0, 0, 0.15);
  border-radius: 2px;
  -webkit-box-shadow: 0 6px 12px rgba(0, 0, 0, 0.175);
  box-shadow: 0 6px 12px rgba(0, 0, 0, 0.175);
  background-clip: padding-box;
}
.dropdown-menu.pull-right {
  right: 0;
  left: auto;
}
.dropdown-menu .divider {
  height: 1px;
  margin: 8px 0;
  overflow: hidden;
  background-color: #e5e5e5;
}
.dropdown-menu > li > a {
  display: block;
  padding: 3px 20px;
  clear: both;
  font-weight: normal;
  line-height: 1.42857143;
  color: #333333;
  white-space: nowrap;
}
.dropdown-menu > li > a:hover,
.dropdown-menu > li > a:focus {
  text-decoration: none;
  color: #262626;
  background-color: #f5f5f5;
}
.dropdown-menu > .active > a,
.dropdown-menu > .active > a:hover,
.dropdown-menu > .active > a:focus {
  color: #fff;
  text-decoration: none;
  outline: 0;
  background-color: #337ab7;
}
.dropdown-menu > .disabled > a,
.dropdown-menu > .disabled > a:hover,
.dropdown-menu > .disabled > a:focus {
  color: #777777;
}
.dropdown-menu > .disabled > a:hover,
.dropdown-menu > .disabled > a:focus {
  text-decoration: none;
  background-color: transparent;
  background-image: none;
  filter: progid:DXImageTransform.Microsoft.gradient(enabled = false);
  cursor: not-allowed;
}
.open > .dropdown-menu {
  display: block;
}
.open > a {
  outline: 0;
}
.dropdown-menu-right {
  left: auto;
  right: 0;
}
.dropdown-menu-left {
  left: 0;
  right: auto;
}
.dropdown-header {
  display: block;
  padding: 3px 20px;
  font-size: 12px;
  line-height: 1.42857143;
  color: #777777;
  white-space: nowrap;
}
.dropdown-backdrop {
  position: fixed;
  left: 0;
  right: 0;
  bottom: 0;
  top: 0;
  z-index: 990;
}
.pull-right > .dropdown-menu {
  right: 0;
  left: auto;
}
.dropup .caret,
.navbar-fixed-bottom .dropdown .caret {
  border-top: 0;
  border-bottom: 4px dashed;
  border-bottom: 4px solid \9;
  content: "";
}
.dropup .dropdown-menu,
.navbar-fixed-bottom .dropdown .dropdown-menu {
  top: auto;
  bottom: 100%;
  margin-bottom: 2px;
}
@media (min-width: 541px) {
  .navbar-right .dropdown-menu {
    left: auto;
    right: 0;
  }
  .navbar-right .dropdown-menu-left {
    left: 0;
    right: auto;
  }
}
.btn-group,
.btn-group-vertical {
  position: relative;
  display: inline-block;
  vertical-align: middle;
}
.btn-group > .btn,
.btn-group-vertical > .btn {
  position: relative;
  float: left;
}
.btn-group > .btn:hover,
.btn-group-vertical > .btn:hover,
.btn-group > .btn:focus,
.btn-group-vertical > .btn:focus,
.btn-group > .btn:active,
.btn-group-vertical > .btn:active,
.btn-group > .btn.active,
.btn-group-vertical > .btn.active {
  z-index: 2;
}
.btn-group .btn + .btn,
.btn-group .btn + .btn-group,
.btn-group .btn-group + .btn,
.btn-group .btn-group + .btn-group {
  margin-left: -1px;
}
.btn-toolbar {
  margin-left: -5px;
}
.btn-toolbar .btn,
.btn-toolbar .btn-group,
.btn-toolbar .input-group {
  float: left;
}
.btn-toolbar > .btn,
.btn-toolbar > .btn-group,
.btn-toolbar > .input-group {
  margin-left: 5px;
}
.btn-group > .btn:not(:first-child):not(:last-child):not(.dropdown-toggle) {
  border-radius: 0;
}
.btn-group > .btn:first-child {
  margin-left: 0;
}
.btn-group > .btn:first-child:not(:last-child):not(.dropdown-toggle) {
  border-bottom-right-radius: 0;
  border-top-right-radius: 0;
}
.btn-group > .btn:last-child:not(:first-child),
.btn-group > .dropdown-toggle:not(:first-child) {
  border-bottom-left-radius: 0;
  border-top-left-radius: 0;
}
.btn-group > .btn-group {
  float: left;
}
.btn-group > .btn-group:not(:first-child):not(:last-child) > .btn {
  border-radius: 0;
}
.btn-group > .btn-group:first-child:not(:last-child) > .btn:last-child,
.btn-group > .btn-group:first-child:not(:last-child) > .dropdown-toggle {
  border-bottom-right-radius: 0;
  border-top-right-radius: 0;
}
.btn-group > .btn-group:last-child:not(:first-child) > .btn:first-child {
  border-bottom-left-radius: 0;
  border-top-left-radius: 0;
}
.btn-group .dropdown-toggle:active,
.btn-group.open .dropdown-toggle {
  outline: 0;
}
.btn-group > .btn + .dropdown-toggle {
  padding-left: 8px;
  padding-right: 8px;
}
.btn-group > .btn-lg + .dropdown-toggle {
  padding-left: 12px;
  padding-right: 12px;
}
.btn-group.open .dropdown-toggle {
  -webkit-box-shadow: inset 0 3px 5px rgba(0, 0, 0, 0.125);
  box-shadow: inset 0 3px 5px rgba(0, 0, 0, 0.125);
}
.btn-group.open .dropdown-toggle.btn-link {
  -webkit-box-shadow: none;
  box-shadow: none;
}
.btn .caret {
  margin-left: 0;
}
.btn-lg .caret {
  border-width: 5px 5px 0;
  border-bottom-width: 0;
}
.dropup .btn-lg .caret {
  border-width: 0 5px 5px;
}
.btn-group-vertical > .btn,
.btn-group-vertical > .btn-group,
.btn-group-vertical > .btn-group > .btn {
  display: block;
  float: none;
  width: 100%;
  max-width: 100%;
}
.btn-group-vertical > .btn-group > .btn {
  float: none;
}
.btn-group-vertical > .btn + .btn,
.btn-group-vertical > .btn + .btn-group,
.btn-group-vertical > .btn-group + .btn,
.btn-group-vertical > .btn-group + .btn-group {
  margin-top: -1px;
  margin-left: 0;
}
.btn-group-vertical > .btn:not(:first-child):not(:last-child) {
  border-radius: 0;
}
.btn-group-vertical > .btn:first-child:not(:last-child) {
  border-top-right-radius: 2px;
  border-top-left-radius: 2px;
  border-bottom-right-radius: 0;
  border-bottom-left-radius: 0;
}
.btn-group-vertical > .btn:last-child:not(:first-child) {
  border-top-right-radius: 0;
  border-top-left-radius: 0;
  border-bottom-right-radius: 2px;
  border-bottom-left-radius: 2px;
}
.btn-group-vertical > .btn-group:not(:first-child):not(:last-child) > .btn {
  border-radius: 0;
}
.btn-group-vertical > .btn-group:first-child:not(:last-child) > .btn:last-child,
.btn-group-vertical > .btn-group:first-child:not(:last-child) > .dropdown-toggle {
  border-bottom-right-radius: 0;
  border-bottom-left-radius: 0;
}
.btn-group-vertical > .btn-group:last-child:not(:first-child) > .btn:first-child {
  border-top-right-radius: 0;
  border-top-left-radius: 0;
}
.btn-group-justified {
  display: table;
  width: 100%;
  table-layout: fixed;
  border-collapse: separate;
}
.btn-group-justified > .btn,
.btn-group-justified > .btn-group {
  float: none;
  display: table-cell;
  width: 1%;
}
.btn-group-justified > .btn-group .btn {
  width: 100%;
}
.btn-group-justified > .btn-group .dropdown-menu {
  left: auto;
}
[data-toggle="buttons"] > .btn input[type="radio"],
[data-toggle="buttons"] > .btn-group > .btn input[type="radio"],
[data-toggle="buttons"] > .btn input[type="checkbox"],
[data-toggle="buttons"] > .btn-group > .btn input[type="checkbox"] {
  position: absolute;
  clip: rect(0, 0, 0, 0);
  pointer-events: none;
}
.input-group {
  position: relative;
  display: table;
  border-collapse: separate;
}
.input-group[class*="col-"] {
  float: none;
  padding-left: 0;
  padding-right: 0;
}
.input-group .form-control {
  position: relative;
  z-index: 2;
  float: left;
  width: 100%;
  margin-bottom: 0;
}
.input-group .form-control:focus {
  z-index: 3;
}
.input-group-lg > .form-control,
.input-group-lg > .input-group-addon,
.input-group-lg > .input-group-btn > .btn {
  height: 45px;
  padding: 10px 16px;
  font-size: 17px;
  line-height: 1.3333333;
  border-radius: 3px;
}
select.input-group-lg > .form-control,
select.input-group-lg > .input-group-addon,
select.input-group-lg > .input-group-btn > .btn {
  height: 45px;
  line-height: 45px;
}
textarea.input-group-lg > .form-control,
textarea.input-group-lg > .input-group-addon,
textarea.input-group-lg > .input-group-btn > .btn,
select[multiple].input-group-lg > .form-control,
select[multiple].input-group-lg > .input-group-addon,
select[multiple].input-group-lg > .input-group-btn > .btn {
  height: auto;
}
.input-group-sm > .form-control,
.input-group-sm > .input-group-addon,
.input-group-sm > .input-group-btn > .btn {
  height: 30px;
  padding: 5px 10px;
  font-size: 12px;
  line-height: 1.5;
  border-radius: 1px;
}
select.input-group-sm > .form-control,
select.input-group-sm > .input-group-addon,
select.input-group-sm > .input-group-btn > .btn {
  height: 30px;
  line-height: 30px;
}
textarea.input-group-sm > .form-control,
textarea.input-group-sm > .input-group-addon,
textarea.input-group-sm > .input-group-btn > .btn,
select[multiple].input-group-sm > .form-control,
select[multiple].input-group-sm > .input-group-addon,
select[multiple].input-group-sm > .input-group-btn > .btn {
  height: auto;
}
.input-group-addon,
.input-group-btn,
.input-group .form-control {
  display: table-cell;
}
.input-group-addon:not(:first-child):not(:last-child),
.input-group-btn:not(:first-child):not(:last-child),
.input-group .form-control:not(:first-child):not(:last-child) {
  border-radius: 0;
}
.input-group-addon,
.input-group-btn {
  width: 1%;
  white-space: nowrap;
  vertical-align: middle;
}
.input-group-addon {
  padding: 6px 12px;
  font-size: 13px;
  font-weight: normal;
  line-height: 1;
  color: #555555;
  text-align: center;
  background-color: #eeeeee;
  border: 1px solid #ccc;
  border-radius: 2px;
}
.input-group-addon.input-sm {
  padding: 5px 10px;
  font-size: 12px;
  border-radius: 1px;
}
.input-group-addon.input-lg {
  padding: 10px 16px;
  font-size: 17px;
  border-radius: 3px;
}
.input-group-addon input[type="radio"],
.input-group-addon input[type="checkbox"] {
  margin-top: 0;
}
.input-group .form-control:first-child,
.input-group-addon:first-child,
.input-group-btn:first-child > .btn,
.input-group-btn:first-child > .btn-group > .btn,
.input-group-btn:first-child > .dropdown-toggle,
.input-group-btn:last-child > .btn:not(:last-child):not(.dropdown-toggle),
.input-group-btn:last-child > .btn-group:not(:last-child) > .btn {
  border-bottom-right-radius: 0;
  border-top-right-radius: 0;
}
.input-group-addon:first-child {
  border-right: 0;
}
.input-group .form-control:last-child,
.input-group-addon:last-child,
.input-group-btn:last-child > .btn,
.input-group-btn:last-child > .btn-group > .btn,
.input-group-btn:last-child > .dropdown-toggle,
.input-group-btn:first-child > .btn:not(:first-child),
.input-group-btn:first-child > .btn-group:not(:first-child) > .btn {
  border-bottom-left-radius: 0;
  border-top-left-radius: 0;
}
.input-group-addon:last-child {
  border-left: 0;
}
.input-group-btn {
  position: relative;
  font-size: 0;
  white-space: nowrap;
}
.input-group-btn > .btn {
  position: relative;
}
.input-group-btn > .btn + .btn {
  margin-left: -1px;
}
.input-group-btn > .btn:hover,
.input-group-btn > .btn:focus,
.input-group-btn > .btn:active {
  z-index: 2;
}
.input-group-btn:first-child > .btn,
.input-group-btn:first-child > .btn-group {
  margin-right: -1px;
}
.input-group-btn:last-child > .btn,
.input-group-btn:last-child > .btn-group {
  z-index: 2;
  margin-left: -1px;
}
.nav {
  margin-bottom: 0;
  padding-left: 0;
  list-style: none;
}
.nav > li {
  position: relative;
  display: block;
}
.nav > li > a {
  position: relative;
  display: block;
  padding: 10px 15px;
}
.nav > li > a:hover,
.nav > li > a:focus {
  text-decoration: none;
  background-color: #eeeeee;
}
.nav > li.disabled > a {
  color: #777777;
}
.nav > li.disabled > a:hover,
.nav > li.disabled > a:focus {
  color: #777777;
  text-decoration: none;
  background-color: transparent;
  cursor: not-allowed;
}
.nav .open > a,
.nav .open > a:hover,
.nav .open > a:focus {
  background-color: #eeeeee;
  border-color: #337ab7;
}
.nav .nav-divider {
  height: 1px;
  margin: 8px 0;
  overflow: hidden;
  background-color: #e5e5e5;
}
.nav > li > a > img {
  max-width: none;
}
.nav-tabs {
  border-bottom: 1px solid #ddd;
}
.nav-tabs > li {
  float: left;
  margin-bottom: -1px;
}
.nav-tabs > li > a {
  margin-right: 2px;
  line-height: 1.42857143;
  border: 1px solid transparent;
  border-radius: 2px 2px 0 0;
}
.nav-tabs > li > a:hover {
  border-color: #eeeeee #eeeeee #ddd;
}
.nav-tabs > li.active > a,
.nav-tabs > li.active > a:hover,
.nav-tabs > li.active > a:focus {
  color: #555555;
  background-color: #fff;
  border: 1px solid #ddd;
  border-bottom-color: transparent;
  cursor: default;
}
.nav-tabs.nav-justified {
  width: 100%;
  border-bottom: 0;
}
.nav-tabs.nav-justified > li {
  float: none;
}
.nav-tabs.nav-justified > li > a {
  text-align: center;
  margin-bottom: 5px;
}
.nav-tabs.nav-justified > .dropdown .dropdown-menu {
  top: auto;
  left: auto;
}
@media (min-width: 768px) {
  .nav-tabs.nav-justified > li {
    display: table-cell;
    width: 1%;
  }
  .nav-tabs.nav-justified > li > a {
    margin-bottom: 0;
  }
}
.nav-tabs.nav-justified > li > a {
  margin-right: 0;
  border-radius: 2px;
}
.nav-tabs.nav-justified > .active > a,
.nav-tabs.nav-justified > .active > a:hover,
.nav-tabs.nav-justified > .active > a:focus {
  border: 1px solid #ddd;
}
@media (min-width: 768px) {
  .nav-tabs.nav-justified > li > a {
    border-bottom: 1px solid #ddd;
    border-radius: 2px 2px 0 0;
  }
  .nav-tabs.nav-justified > .active > a,
  .nav-tabs.nav-justified > .active > a:hover,
  .nav-tabs.nav-justified > .active > a:focus {
    border-bottom-color: #fff;
  }
}
.nav-pills > li {
  float: left;
}
.nav-pills > li > a {
  border-radius: 2px;
}
.nav-pills > li + li {
  margin-left: 2px;
}
.nav-pills > li.active > a,
.nav-pills > li.active > a:hover,
.nav-pills > li.active > a:focus {
  color: #fff;
  background-color: #337ab7;
}
.nav-stacked > li {
  float: none;
}
.nav-stacked > li + li {
  margin-top: 2px;
  margin-left: 0;
}
.nav-justified {
  width: 100%;
}
.nav-justified > li {
  float: none;
}
.nav-justified > li > a {
  text-align: center;
  margin-bottom: 5px;
}
.nav-justified > .dropdown .dropdown-menu {
  top: auto;
  left: auto;
}
@media (min-width: 768px) {
  .nav-justified > li {
    display: table-cell;
    width: 1%;
  }
  .nav-justified > li > a {
    margin-bottom: 0;
  }
}
.nav-tabs-justified {
  border-bottom: 0;
}
.nav-tabs-justified > li > a {
  margin-right: 0;
  border-radius: 2px;
}
.nav-tabs-justified > .active > a,
.nav-tabs-justified > .active > a:hover,
.nav-tabs-justified > .active > a:focus {
  border: 1px solid #ddd;
}
@media (min-width: 768px) {
  .nav-tabs-justified > li > a {
    border-bottom: 1px solid #ddd;
    border-radius: 2px 2px 0 0;
  }
  .nav-tabs-justified > .active > a,
  .nav-tabs-justified > .active > a:hover,
  .nav-tabs-justified > .active > a:focus {
    border-bottom-color: #fff;
  }
}
.tab-content > .tab-pane {
  display: none;
}
.tab-content > .active {
  display: block;
}
.nav-tabs .dropdown-menu {
  margin-top: -1px;
  border-top-right-radius: 0;
  border-top-left-radius: 0;
}
.navbar {
  position: relative;
  min-height: 30px;
  margin-bottom: 18px;
  border: 1px solid transparent;
}
@media (min-width: 541px) {
  .navbar {
    border-radius: 2px;
  }
}
@media (min-width: 541px) {
  .navbar-header {
    float: left;
  }
}
.navbar-collapse {
  overflow-x: visible;
  padding-right: 0px;
  padding-left: 0px;
  border-top: 1px solid transparent;
  box-shadow: inset 0 1px 0 rgba(255, 255, 255, 0.1);
  -webkit-overflow-scrolling: touch;
}
.navbar-collapse.in {
  overflow-y: auto;
}
@media (min-width: 541px) {
  .navbar-collapse {
    width: auto;
    border-top: 0;
    box-shadow: none;
  }
  .navbar-collapse.collapse {
    display: block !important;
    height: auto !important;
    padding-bottom: 0;
    overflow: visible !important;
  }
  .navbar-collapse.in {
    overflow-y: visible;
  }
  .navbar-fixed-top .navbar-collapse,
  .navbar-static-top .navbar-collapse,
  .navbar-fixed-bottom .navbar-collapse {
    padding-left: 0;
    padding-right: 0;
  }
}
.navbar-fixed-top .navbar-collapse,
.navbar-fixed-bottom .navbar-collapse {
  max-height: 340px;
}
@media (max-device-width: 540px) and (orientation: landscape) {
  .navbar-fixed-top .navbar-collapse,
  .navbar-fixed-bottom .navbar-collapse {
    max-height: 200px;
  }
}
.container > .navbar-header,
.container-fluid > .navbar-header,
.container > .navbar-collapse,
.container-fluid > .navbar-collapse {
  margin-right: 0px;
  margin-left: 0px;
}
@media (min-width: 541px) {
  .container > .navbar-header,
  .container-fluid > .navbar-header,
  .container > .navbar-collapse,
  .container-fluid > .navbar-collapse {
    margin-right: 0;
    margin-left: 0;
  }
}
.navbar-static-top {
  z-index: 1000;
  border-width: 0 0 1px;
}
@media (min-width: 541px) {
  .navbar-static-top {
    border-radius: 0;
  }
}
.navbar-fixed-top,
.navbar-fixed-bottom {
  position: fixed;
  right: 0;
  left: 0;
  z-index: 1030;
}
@media (min-width: 541px) {
  .navbar-fixed-top,
  .navbar-fixed-bottom {
    border-radius: 0;
  }
}
.navbar-fixed-top {
  top: 0;
  border-width: 0 0 1px;
}
.navbar-fixed-bottom {
  bottom: 0;
  margin-bottom: 0;
  border-width: 1px 0 0;
}
.navbar-brand {
  float: left;
  padding: 6px 0px;
  font-size: 17px;
  line-height: 18px;
  height: 30px;
}
.navbar-brand:hover,
.navbar-brand:focus {
  text-decoration: none;
}
.navbar-brand > img {
  display: block;
}
@media (min-width: 541px) {
  .navbar > .container .navbar-brand,
  .navbar > .container-fluid .navbar-brand {
    margin-left: 0px;
  }
}
.navbar-toggle {
  position: relative;
  float: right;
  margin-right: 0px;
  padding: 9px 10px;
  margin-top: -2px;
  margin-bottom: -2px;
  background-color: transparent;
  background-image: none;
  border: 1px solid transparent;
  border-radius: 2px;
}
.navbar-toggle:focus {
  outline: 0;
}
.navbar-toggle .icon-bar {
  display: block;
  width: 22px;
  height: 2px;
  border-radius: 1px;
}
.navbar-toggle .icon-bar + .icon-bar {
  margin-top: 4px;
}
@media (min-width: 541px) {
  .navbar-toggle {
    display: none;
  }
}
.navbar-nav {
  margin: 3px 0px;
}
.navbar-nav > li > a {
  padding-top: 10px;
  padding-bottom: 10px;
  line-height: 18px;
}
@media (max-width: 540px) {
  .navbar-nav .open .dropdown-menu {
    position: static;
    float: none;
    width: auto;
    margin-top: 0;
    background-color: transparent;
    border: 0;
    box-shadow: none;
  }
  .navbar-nav .open .dropdown-menu > li > a,
  .navbar-nav .open .dropdown-menu .dropdown-header {
    padding: 5px 15px 5px 25px;
  }
  .navbar-nav .open .dropdown-menu > li > a {
    line-height: 18px;
  }
  .navbar-nav .open .dropdown-menu > li > a:hover,
  .navbar-nav .open .dropdown-menu > li > a:focus {
    background-image: none;
  }
}
@media (min-width: 541px) {
  .navbar-nav {
    float: left;
    margin: 0;
  }
  .navbar-nav > li {
    float: left;
  }
  .navbar-nav > li > a {
    padding-top: 6px;
    padding-bottom: 6px;
  }
}
.navbar-form {
  margin-left: 0px;
  margin-right: 0px;
  padding: 10px 0px;
  border-top: 1px solid transparent;
  border-bottom: 1px solid transparent;
  -webkit-box-shadow: inset 0 1px 0 rgba(255, 255, 255, 0.1), 0 1px 0 rgba(255, 255, 255, 0.1);
  box-shadow: inset 0 1px 0 rgba(255, 255, 255, 0.1), 0 1px 0 rgba(255, 255, 255, 0.1);
  margin-top: -1px;
  margin-bottom: -1px;
}
@media (min-width: 768px) {
  .navbar-form .form-group {
    display: inline-block;
    margin-bottom: 0;
    vertical-align: middle;
  }
  .navbar-form .form-control {
    display: inline-block;
    width: auto;
    vertical-align: middle;
  }
  .navbar-form .form-control-static {
    display: inline-block;
  }
  .navbar-form .input-group {
    display: inline-table;
    vertical-align: middle;
  }
  .navbar-form .input-group .input-group-addon,
  .navbar-form .input-group .input-group-btn,
  .navbar-form .input-group .form-control {
    width: auto;
  }
  .navbar-form .input-group > .form-control {
    width: 100%;
  }
  .navbar-form .control-label {
    margin-bottom: 0;
    vertical-align: middle;
  }
  .navbar-form .radio,
  .navbar-form .checkbox {
    display: inline-block;
    margin-top: 0;
    margin-bottom: 0;
    vertical-align: middle;
  }
  .navbar-form .radio label,
  .navbar-form .checkbox label {
    padding-left: 0;
  }
  .navbar-form .radio input[type="radio"],
  .navbar-form .checkbox input[type="checkbox"] {
    position: relative;
    margin-left: 0;
  }
  .navbar-form .has-feedback .form-control-feedback {
    top: 0;
  }
}
@media (max-width: 540px) {
  .navbar-form .form-group {
    margin-bottom: 5px;
  }
  .navbar-form .form-group:last-child {
    margin-bottom: 0;
  }
}
@media (min-width: 541px) {
  .navbar-form {
    width: auto;
    border: 0;
    margin-left: 0;
    margin-right: 0;
    padding-top: 0;
    padding-bottom: 0;
    -webkit-box-shadow: none;
    box-shadow: none;
  }
}
.navbar-nav > li > .dropdown-menu {
  margin-top: 0;
  border-top-right-radius: 0;
  border-top-left-radius: 0;
}
.navbar-fixed-bottom .navbar-nav > li > .dropdown-menu {
  margin-bottom: 0;
  border-top-right-radius: 2px;
  border-top-left-radius: 2px;
  border-bottom-right-radius: 0;
  border-bottom-left-radius: 0;
}
.navbar-btn {
  margin-top: -1px;
  margin-bottom: -1px;
}
.navbar-btn.btn-sm {
  margin-top: 0px;
  margin-bottom: 0px;
}
.navbar-btn.btn-xs {
  margin-top: 4px;
  margin-bottom: 4px;
}
.navbar-text {
  margin-top: 6px;
  margin-bottom: 6px;
}
@media (min-width: 541px) {
  .navbar-text {
    float: left;
    margin-left: 0px;
    margin-right: 0px;
  }
}
@media (min-width: 541px) {
  .navbar-left {
    float: left !important;
    float: left;
  }
  .navbar-right {
    float: right !important;
    float: right;
    margin-right: 0px;
  }
  .navbar-right ~ .navbar-right {
    margin-right: 0;
  }
}
.navbar-default {
  background-color: #f8f8f8;
  border-color: #e7e7e7;
}
.navbar-default .navbar-brand {
  color: #777;
}
.navbar-default .navbar-brand:hover,
.navbar-default .navbar-brand:focus {
  color: #5e5e5e;
  background-color: transparent;
}
.navbar-default .navbar-text {
  color: #777;
}
.navbar-default .navbar-nav > li > a {
  color: #777;
}
.navbar-default .navbar-nav > li > a:hover,
.navbar-default .navbar-nav > li > a:focus {
  color: #333;
  background-color: transparent;
}
.navbar-default .navbar-nav > .active > a,
.navbar-default .navbar-nav > .active > a:hover,
.navbar-default .navbar-nav > .active > a:focus {
  color: #555;
  background-color: #e7e7e7;
}
.navbar-default .navbar-nav > .disabled > a,
.navbar-default .navbar-nav > .disabled > a:hover,
.navbar-default .navbar-nav > .disabled > a:focus {
  color: #ccc;
  background-color: transparent;
}
.navbar-default .navbar-toggle {
  border-color: #ddd;
}
.navbar-default .navbar-toggle:hover,
.navbar-default .navbar-toggle:focus {
  background-color: #ddd;
}
.navbar-default .navbar-toggle .icon-bar {
  background-color: #888;
}
.navbar-default .navbar-collapse,
.navbar-default .navbar-form {
  border-color: #e7e7e7;
}
.navbar-default .navbar-nav > .open > a,
.navbar-default .navbar-nav > .open > a:hover,
.navbar-default .navbar-nav > .open > a:focus {
  background-color: #e7e7e7;
  color: #555;
}
@media (max-width: 540px) {
  .navbar-default .navbar-nav .open .dropdown-menu > li > a {
    color: #777;
  }
  .navbar-default .navbar-nav .open .dropdown-menu > li > a:hover,
  .navbar-default .navbar-nav .open .dropdown-menu > li > a:focus {
    color: #333;
    background-color: transparent;
  }
  .navbar-default .navbar-nav .open .dropdown-menu > .active > a,
  .navbar-default .navbar-nav .open .dropdown-menu > .active > a:hover,
  .navbar-default .navbar-nav .open .dropdown-menu > .active > a:focus {
    color: #555;
    background-color: #e7e7e7;
  }
  .navbar-default .navbar-nav .open .dropdown-menu > .disabled > a,
  .navbar-default .navbar-nav .open .dropdown-menu > .disabled > a:hover,
  .navbar-default .navbar-nav .open .dropdown-menu > .disabled > a:focus {
    color: #ccc;
    background-color: transparent;
  }
}
.navbar-default .navbar-link {
  color: #777;
}
.navbar-default .navbar-link:hover {
  color: #333;
}
.navbar-default .btn-link {
  color: #777;
}
.navbar-default .btn-link:hover,
.navbar-default .btn-link:focus {
  color: #333;
}
.navbar-default .btn-link[disabled]:hover,
fieldset[disabled] .navbar-default .btn-link:hover,
.navbar-default .btn-link[disabled]:focus,
fieldset[disabled] .navbar-default .btn-link:focus {
  color: #ccc;
}
.navbar-inverse {
  background-color: #222;
  border-color: #080808;
}
.navbar-inverse .navbar-brand {
  color: #9d9d9d;
}
.navbar-inverse .navbar-brand:hover,
.navbar-inverse .navbar-brand:focus {
  color: #fff;
  background-color: transparent;
}
.navbar-inverse .navbar-text {
  color: #9d9d9d;
}
.navbar-inverse .navbar-nav > li > a {
  color: #9d9d9d;
}
.navbar-inverse .navbar-nav > li > a:hover,
.navbar-inverse .navbar-nav > li > a:focus {
  color: #fff;
  background-color: transparent;
}
.navbar-inverse .navbar-nav > .active > a,
.navbar-inverse .navbar-nav > .active > a:hover,
.navbar-inverse .navbar-nav > .active > a:focus {
  color: #fff;
  background-color: #080808;
}
.navbar-inverse .navbar-nav > .disabled > a,
.navbar-inverse .navbar-nav > .disabled > a:hover,
.navbar-inverse .navbar-nav > .disabled > a:focus {
  color: #444;
  background-color: transparent;
}
.navbar-inverse .navbar-toggle {
  border-color: #333;
}
.navbar-inverse .navbar-toggle:hover,
.navbar-inverse .navbar-toggle:focus {
  background-color: #333;
}
.navbar-inverse .navbar-toggle .icon-bar {
  background-color: #fff;
}
.navbar-inverse .navbar-collapse,
.navbar-inverse .navbar-form {
  border-color: #101010;
}
.navbar-inverse .navbar-nav > .open > a,
.navbar-inverse .navbar-nav > .open > a:hover,
.navbar-inverse .navbar-nav > .open > a:focus {
  background-color: #080808;
  color: #fff;
}
@media (max-width: 540px) {
  .navbar-inverse .navbar-nav .open .dropdown-menu > .dropdown-header {
    border-color: #080808;
  }
  .navbar-inverse .navbar-nav .open .dropdown-menu .divider {
    background-color: #080808;
  }
  .navbar-inverse .navbar-nav .open .dropdown-menu > li > a {
    color: #9d9d9d;
  }
  .navbar-inverse .navbar-nav .open .dropdown-menu > li > a:hover,
  .navbar-inverse .navbar-nav .open .dropdown-menu > li > a:focus {
    color: #fff;
    background-color: transparent;
  }
  .navbar-inverse .navbar-nav .open .dropdown-menu > .active > a,
  .navbar-inverse .navbar-nav .open .dropdown-menu > .active > a:hover,
  .navbar-inverse .navbar-nav .open .dropdown-menu > .active > a:focus {
    color: #fff;
    background-color: #080808;
  }
  .navbar-inverse .navbar-nav .open .dropdown-menu > .disabled > a,
  .navbar-inverse .navbar-nav .open .dropdown-menu > .disabled > a:hover,
  .navbar-inverse .navbar-nav .open .dropdown-menu > .disabled > a:focus {
    color: #444;
    background-color: transparent;
  }
}
.navbar-inverse .navbar-link {
  color: #9d9d9d;
}
.navbar-inverse .navbar-link:hover {
  color: #fff;
}
.navbar-inverse .btn-link {
  color: #9d9d9d;
}
.navbar-inverse .btn-link:hover,
.navbar-inverse .btn-link:focus {
  color: #fff;
}
.navbar-inverse .btn-link[disabled]:hover,
fieldset[disabled] .navbar-inverse .btn-link:hover,
.navbar-inverse .btn-link[disabled]:focus,
fieldset[disabled] .navbar-inverse .btn-link:focus {
  color: #444;
}
.breadcrumb {
  padding: 8px 15px;
  margin-bottom: 18px;
  list-style: none;
  background-color: #f5f5f5;
  border-radius: 2px;
}
.breadcrumb > li {
  display: inline-block;
}
.breadcrumb > li + li:before {
  content: "/\00a0";
  padding: 0 5px;
  color: #5e5e5e;
}
.breadcrumb > .active {
  color: #777777;
}
.pagination {
  display: inline-block;
  padding-left: 0;
  margin: 18px 0;
  border-radius: 2px;
}
.pagination > li {
  display: inline;
}
.pagination > li > a,
.pagination > li > span {
  position: relative;
  float: left;
  padding: 6px 12px;
  line-height: 1.42857143;
  text-decoration: none;
  color: #337ab7;
  background-color: #fff;
  border: 1px solid #ddd;
  margin-left: -1px;
}
.pagination > li:first-child > a,
.pagination > li:first-child > span {
  margin-left: 0;
  border-bottom-left-radius: 2px;
  border-top-left-radius: 2px;
}
.pagination > li:last-child > a,
.pagination > li:last-child > span {
  border-bottom-right-radius: 2px;
  border-top-right-radius: 2px;
}
.pagination > li > a:hover,
.pagination > li > span:hover,
.pagination > li > a:focus,
.pagination > li > span:focus {
  z-index: 2;
  color: #23527c;
  background-color: #eeeeee;
  border-color: #ddd;
}
.pagination > .active > a,
.pagination > .active > span,
.pagination > .active > a:hover,
.pagination > .active > span:hover,
.pagination > .active > a:focus,
.pagination > .active > span:focus {
  z-index: 3;
  color: #fff;
  background-color: #337ab7;
  border-color: #337ab7;
  cursor: default;
}
.pagination > .disabled > span,
.pagination > .disabled > span:hover,
.pagination > .disabled > span:focus,
.pagination > .disabled > a,
.pagination > .disabled > a:hover,
.pagination > .disabled > a:focus {
  color: #777777;
  background-color: #fff;
  border-color: #ddd;
  cursor: not-allowed;
}
.pagination-lg > li > a,
.pagination-lg > li > span {
  padding: 10px 16px;
  font-size: 17px;
  line-height: 1.3333333;
}
.pagination-lg > li:first-child > a,
.pagination-lg > li:first-child > span {
  border-bottom-left-radius: 3px;
  border-top-left-radius: 3px;
}
.pagination-lg > li:last-child > a,
.pagination-lg > li:last-child > span {
  border-bottom-right-radius: 3px;
  border-top-right-radius: 3px;
}
.pagination-sm > li > a,
.pagination-sm > li > span {
  padding: 5px 10px;
  font-size: 12px;
  line-height: 1.5;
}
.pagination-sm > li:first-child > a,
.pagination-sm > li:first-child > span {
  border-bottom-left-radius: 1px;
  border-top-left-radius: 1px;
}
.pagination-sm > li:last-child > a,
.pagination-sm > li:last-child > span {
  border-bottom-right-radius: 1px;
  border-top-right-radius: 1px;
}
.pager {
  padding-left: 0;
  margin: 18px 0;
  list-style: none;
  text-align: center;
}
.pager li {
  display: inline;
}
.pager li > a,
.pager li > span {
  display: inline-block;
  padding: 5px 14px;
  background-color: #fff;
  border: 1px solid #ddd;
  border-radius: 15px;
}
.pager li > a:hover,
.pager li > a:focus {
  text-decoration: none;
  background-color: #eeeeee;
}
.pager .next > a,
.pager .next > span {
  float: right;
}
.pager .previous > a,
.pager .previous > span {
  float: left;
}
.pager .disabled > a,
.pager .disabled > a:hover,
.pager .disabled > a:focus,
.pager .disabled > span {
  color: #777777;
  background-color: #fff;
  cursor: not-allowed;
}
.label {
  display: inline;
  padding: .2em .6em .3em;
  font-size: 75%;
  font-weight: bold;
  line-height: 1;
  color: #fff;
  text-align: center;
  white-space: nowrap;
  vertical-align: baseline;
  border-radius: .25em;
}
a.label:hover,
a.label:focus {
  color: #fff;
  text-decoration: none;
  cursor: pointer;
}
.label:empty {
  display: none;
}
.btn .label {
  position: relative;
  top: -1px;
}
.label-default {
  background-color: #777777;
}
.label-default[href]:hover,
.label-default[href]:focus {
  background-color: #5e5e5e;
}
.label-primary {
  background-color: #337ab7;
}
.label-primary[href]:hover,
.label-primary[href]:focus {
  background-color: #286090;
}
.label-success {
  background-color: #5cb85c;
}
.label-success[href]:hover,
.label-success[href]:focus {
  background-color: #449d44;
}
.label-info {
  background-color: #5bc0de;
}
.label-info[href]:hover,
.label-info[href]:focus {
  background-color: #31b0d5;
}
.label-warning {
  background-color: #f0ad4e;
}
.label-warning[href]:hover,
.label-warning[href]:focus {
  background-color: #ec971f;
}
.label-danger {
  background-color: #d9534f;
}
.label-danger[href]:hover,
.label-danger[href]:focus {
  background-color: #c9302c;
}
.badge {
  display: inline-block;
  min-width: 10px;
  padding: 3px 7px;
  font-size: 12px;
  font-weight: bold;
  color: #fff;
  line-height: 1;
  vertical-align: middle;
  white-space: nowrap;
  text-align: center;
  background-color: #777777;
  border-radius: 10px;
}
.badge:empty {
  display: none;
}
.btn .badge {
  position: relative;
  top: -1px;
}
.btn-xs .badge,
.btn-group-xs > .btn .badge {
  top: 0;
  padding: 1px 5px;
}
a.badge:hover,
a.badge:focus {
  color: #fff;
  text-decoration: none;
  cursor: pointer;
}
.list-group-item.active > .badge,
.nav-pills > .active > a > .badge {
  color: #337ab7;
  background-color: #fff;
}
.list-group-item > .badge {
  float: right;
}
.list-group-item > .badge + .badge {
  margin-right: 5px;
}
.nav-pills > li > a > .badge {
  margin-left: 3px;
}
.jumbotron {
  padding-top: 30px;
  padding-bottom: 30px;
  margin-bottom: 30px;
  color: inherit;
  background-color: #eeeeee;
}
.jumbotron h1,
.jumbotron .h1 {
  color: inherit;
}
.jumbotron p {
  margin-bottom: 15px;
  font-size: 20px;
  font-weight: 200;
}
.jumbotron > hr {
  border-top-color: #d5d5d5;
}
.container .jumbotron,
.container-fluid .jumbotron {
  border-radius: 3px;
  padding-left: 0px;
  padding-right: 0px;
}
.jumbotron .container {
  max-width: 100%;
}
@media screen and (min-width: 768px) {
  .jumbotron {
    padding-top: 48px;
    padding-bottom: 48px;
  }
  .container .jumbotron,
  .container-fluid .jumbotron {
    padding-left: 60px;
    padding-right: 60px;
  }
  .jumbotron h1,
  .jumbotron .h1 {
    font-size: 59px;
  }
}
.thumbnail {
  display: block;
  padding: 4px;
  margin-bottom: 18px;
  line-height: 1.42857143;
  background-color: #fff;
  border: 1px solid #ddd;
  border-radius: 2px;
  -webkit-transition: border 0.2s ease-in-out;
  -o-transition: border 0.2s ease-in-out;
  transition: border 0.2s ease-in-out;
}
.thumbnail > img,
.thumbnail a > img {
  margin-left: auto;
  margin-right: auto;
}
a.thumbnail:hover,
a.thumbnail:focus,
a.thumbnail.active {
  border-color: #337ab7;
}
.thumbnail .caption {
  padding: 9px;
  color: #000;
}
.alert {
  padding: 15px;
  margin-bottom: 18px;
  border: 1px solid transparent;
  border-radius: 2px;
}
.alert h4 {
  margin-top: 0;
  color: inherit;
}
.alert .alert-link {
  font-weight: bold;
}
.alert > p,
.alert > ul {
  margin-bottom: 0;
}
.alert > p + p {
  margin-top: 5px;
}
.alert-dismissable,
.alert-dismissible {
  padding-right: 35px;
}
.alert-dismissable .close,
.alert-dismissible .close {
  position: relative;
  top: -2px;
  right: -21px;
  color: inherit;
}
.alert-success {
  background-color: #dff0d8;
  border-color: #d6e9c6;
  color: #3c763d;
}
.alert-success hr {
  border-top-color: #c9e2b3;
}
.alert-success .alert-link {
  color: #2b542c;
}
.alert-info {
  background-color: #d9edf7;
  border-color: #bce8f1;
  color: #31708f;
}
.alert-info hr {
  border-top-color: #a6e1ec;
}
.alert-info .alert-link {
  color: #245269;
}
.alert-warning {
  background-color: #fcf8e3;
  border-color: #faebcc;
  color: #8a6d3b;
}
.alert-warning hr {
  border-top-color: #f7e1b5;
}
.alert-warning .alert-link {
  color: #66512c;
}
.alert-danger {
  background-color: #f2dede;
  border-color: #ebccd1;
  color: #a94442;
}
.alert-danger hr {
  border-top-color: #e4b9c0;
}
.alert-danger .alert-link {
  color: #843534;
}
@-webkit-keyframes progress-bar-stripes {
  from {
    background-position: 40px 0;
  }
  to {
    background-position: 0 0;
  }
}
@keyframes progress-bar-stripes {
  from {
    background-position: 40px 0;
  }
  to {
    background-position: 0 0;
  }
}
.progress {
  overflow: hidden;
  height: 18px;
  margin-bottom: 18px;
  background-color: #f5f5f5;
  border-radius: 2px;
  -webkit-box-shadow: inset 0 1px 2px rgba(0, 0, 0, 0.1);
  box-shadow: inset 0 1px 2px rgba(0, 0, 0, 0.1);
}
.progress-bar {
  float: left;
  width: 0%;
  height: 100%;
  font-size: 12px;
  line-height: 18px;
  color: #fff;
  text-align: center;
  background-color: #337ab7;
  -webkit-box-shadow: inset 0 -1px 0 rgba(0, 0, 0, 0.15);
  box-shadow: inset 0 -1px 0 rgba(0, 0, 0, 0.15);
  -webkit-transition: width 0.6s ease;
  -o-transition: width 0.6s ease;
  transition: width 0.6s ease;
}
.progress-striped .progress-bar,
.progress-bar-striped {
  background-image: -webkit-linear-gradient(45deg, rgba(255, 255, 255, 0.15) 25%, transparent 25%, transparent 50%, rgba(255, 255, 255, 0.15) 50%, rgba(255, 255, 255, 0.15) 75%, transparent 75%, transparent);
  background-image: -o-linear-gradient(45deg, rgba(255, 255, 255, 0.15) 25%, transparent 25%, transparent 50%, rgba(255, 255, 255, 0.15) 50%, rgba(255, 255, 255, 0.15) 75%, transparent 75%, transparent);
  background-image: linear-gradient(45deg, rgba(255, 255, 255, 0.15) 25%, transparent 25%, transparent 50%, rgba(255, 255, 255, 0.15) 50%, rgba(255, 255, 255, 0.15) 75%, transparent 75%, transparent);
  background-size: 40px 40px;
}
.progress.active .progress-bar,
.progress-bar.active {
  -webkit-animation: progress-bar-stripes 2s linear infinite;
  -o-animation: progress-bar-stripes 2s linear infinite;
  animation: progress-bar-stripes 2s linear infinite;
}
.progress-bar-success {
  background-color: #5cb85c;
}
.progress-striped .progress-bar-success {
  background-image: -webkit-linear-gradient(45deg, rgba(255, 255, 255, 0.15) 25%, transparent 25%, transparent 50%, rgba(255, 255, 255, 0.15) 50%, rgba(255, 255, 255, 0.15) 75%, transparent 75%, transparent);
  background-image: -o-linear-gradient(45deg, rgba(255, 255, 255, 0.15) 25%, transparent 25%, transparent 50%, rgba(255, 255, 255, 0.15) 50%, rgba(255, 255, 255, 0.15) 75%, transparent 75%, transparent);
  background-image: linear-gradient(45deg, rgba(255, 255, 255, 0.15) 25%, transparent 25%, transparent 50%, rgba(255, 255, 255, 0.15) 50%, rgba(255, 255, 255, 0.15) 75%, transparent 75%, transparent);
}
.progress-bar-info {
  background-color: #5bc0de;
}
.progress-striped .progress-bar-info {
  background-image: -webkit-linear-gradient(45deg, rgba(255, 255, 255, 0.15) 25%, transparent 25%, transparent 50%, rgba(255, 255, 255, 0.15) 50%, rgba(255, 255, 255, 0.15) 75%, transparent 75%, transparent);
  background-image: -o-linear-gradient(45deg, rgba(255, 255, 255, 0.15) 25%, transparent 25%, transparent 50%, rgba(255, 255, 255, 0.15) 50%, rgba(255, 255, 255, 0.15) 75%, transparent 75%, transparent);
  background-image: linear-gradient(45deg, rgba(255, 255, 255, 0.15) 25%, transparent 25%, transparent 50%, rgba(255, 255, 255, 0.15) 50%, rgba(255, 255, 255, 0.15) 75%, transparent 75%, transparent);
}
.progress-bar-warning {
  background-color: #f0ad4e;
}
.progress-striped .progress-bar-warning {
  background-image: -webkit-linear-gradient(45deg, rgba(255, 255, 255, 0.15) 25%, transparent 25%, transparent 50%, rgba(255, 255, 255, 0.15) 50%, rgba(255, 255, 255, 0.15) 75%, transparent 75%, transparent);
  background-image: -o-linear-gradient(45deg, rgba(255, 255, 255, 0.15) 25%, transparent 25%, transparent 50%, rgba(255, 255, 255, 0.15) 50%, rgba(255, 255, 255, 0.15) 75%, transparent 75%, transparent);
  background-image: linear-gradient(45deg, rgba(255, 255, 255, 0.15) 25%, transparent 25%, transparent 50%, rgba(255, 255, 255, 0.15) 50%, rgba(255, 255, 255, 0.15) 75%, transparent 75%, transparent);
}
.progress-bar-danger {
  background-color: #d9534f;
}
.progress-striped .progress-bar-danger {
  background-image: -webkit-linear-gradient(45deg, rgba(255, 255, 255, 0.15) 25%, transparent 25%, transparent 50%, rgba(255, 255, 255, 0.15) 50%, rgba(255, 255, 255, 0.15) 75%, transparent 75%, transparent);
  background-image: -o-linear-gradient(45deg, rgba(255, 255, 255, 0.15) 25%, transparent 25%, transparent 50%, rgba(255, 255, 255, 0.15) 50%, rgba(255, 255, 255, 0.15) 75%, transparent 75%, transparent);
  background-image: linear-gradient(45deg, rgba(255, 255, 255, 0.15) 25%, transparent 25%, transparent 50%, rgba(255, 255, 255, 0.15) 50%, rgba(255, 255, 255, 0.15) 75%, transparent 75%, transparent);
}
.media {
  margin-top: 15px;
}
.media:first-child {
  margin-top: 0;
}
.media,
.media-body {
  zoom: 1;
  overflow: hidden;
}
.media-body {
  width: 10000px;
}
.media-object {
  display: block;
}
.media-object.img-thumbnail {
  max-width: none;
}
.media-right,
.media > .pull-right {
  padding-left: 10px;
}
.media-left,
.media > .pull-left {
  padding-right: 10px;
}
.media-left,
.media-right,
.media-body {
  display: table-cell;
  vertical-align: top;
}
.media-middle {
  vertical-align: middle;
}
.media-bottom {
  vertical-align: bottom;
}
.media-heading {
  margin-top: 0;
  margin-bottom: 5px;
}
.media-list {
  padding-left: 0;
  list-style: none;
}
.list-group {
  margin-bottom: 20px;
  padding-left: 0;
}
.list-group-item {
  position: relative;
  display: block;
  padding: 10px 15px;
  margin-bottom: -1px;
  background-color: #fff;
  border: 1px solid #ddd;
}
.list-group-item:first-child {
  border-top-right-radius: 2px;
  border-top-left-radius: 2px;
}
.list-group-item:last-child {
  margin-bottom: 0;
  border-bottom-right-radius: 2px;
  border-bottom-left-radius: 2px;
}
a.list-group-item,
button.list-group-item {
  color: #555;
}
a.list-group-item .list-group-item-heading,
button.list-group-item .list-group-item-heading {
  color: #333;
}
a.list-group-item:hover,
button.list-group-item:hover,
a.list-group-item:focus,
button.list-group-item:focus {
  text-decoration: none;
  color: #555;
  background-color: #f5f5f5;
}
button.list-group-item {
  width: 100%;
  text-align: left;
}
.list-group-item.disabled,
.list-group-item.disabled:hover,
.list-group-item.disabled:focus {
  background-color: #eeeeee;
  color: #777777;
  cursor: not-allowed;
}
.list-group-item.disabled .list-group-item-heading,
.list-group-item.disabled:hover .list-group-item-heading,
.list-group-item.disabled:focus .list-group-item-heading {
  color: inherit;
}
.list-group-item.disabled .list-group-item-text,
.list-group-item.disabled:hover .list-group-item-text,
.list-group-item.disabled:focus .list-group-item-text {
  color: #777777;
}
.list-group-item.active,
.list-group-item.active:hover,
.list-group-item.active:focus {
  z-index: 2;
  color: #fff;
  background-color: #337ab7;
  border-color: #337ab7;
}
.list-group-item.active .list-group-item-heading,
.list-group-item.active:hover .list-group-item-heading,
.list-group-item.active:focus .list-group-item-heading,
.list-group-item.active .list-group-item-heading > small,
.list-group-item.active:hover .list-group-item-heading > small,
.list-group-item.active:focus .list-group-item-heading > small,
.list-group-item.active .list-group-item-heading > .small,
.list-group-item.active:hover .list-group-item-heading > .small,
.list-group-item.active:focus .list-group-item-heading > .small {
  color: inherit;
}
.list-group-item.active .list-group-item-text,
.list-group-item.active:hover .list-group-item-text,
.list-group-item.active:focus .list-group-item-text {
  color: #c7ddef;
}
.list-group-item-success {
  color: #3c763d;
  background-color: #dff0d8;
}
a.list-group-item-success,
button.list-group-item-success {
  color: #3c763d;
}
a.list-group-item-success .list-group-item-heading,
button.list-group-item-success .list-group-item-heading {
  color: inherit;
}
a.list-group-item-success:hover,
button.list-group-item-success:hover,
a.list-group-item-success:focus,
button.list-group-item-success:focus {
  color: #3c763d;
  background-color: #d0e9c6;
}
a.list-group-item-success.active,
button.list-group-item-success.active,
a.list-group-item-success.active:hover,
button.list-group-item-success.active:hover,
a.list-group-item-success.active:focus,
button.list-group-item-success.active:focus {
  color: #fff;
  background-color: #3c763d;
  border-color: #3c763d;
}
.list-group-item-info {
  color: #31708f;
  background-color: #d9edf7;
}
a.list-group-item-info,
button.list-group-item-info {
  color: #31708f;
}
a.list-group-item-info .list-group-item-heading,
button.list-group-item-info .list-group-item-heading {
  color: inherit;
}
a.list-group-item-info:hover,
button.list-group-item-info:hover,
a.list-group-item-info:focus,
button.list-group-item-info:focus {
  color: #31708f;
  background-color: #c4e3f3;
}
a.list-group-item-info.active,
button.list-group-item-info.active,
a.list-group-item-info.active:hover,
button.list-group-item-info.active:hover,
a.list-group-item-info.active:focus,
button.list-group-item-info.active:focus {
  color: #fff;
  background-color: #31708f;
  border-color: #31708f;
}
.list-group-item-warning {
  color: #8a6d3b;
  background-color: #fcf8e3;
}
a.list-group-item-warning,
button.list-group-item-warning {
  color: #8a6d3b;
}
a.list-group-item-warning .list-group-item-heading,
button.list-group-item-warning .list-group-item-heading {
  color: inherit;
}
a.list-group-item-warning:hover,
button.list-group-item-warning:hover,
a.list-group-item-warning:focus,
button.list-group-item-warning:focus {
  color: #8a6d3b;
  background-color: #faf2cc;
}
a.list-group-item-warning.active,
button.list-group-item-warning.active,
a.list-group-item-warning.active:hover,
button.list-group-item-warning.active:hover,
a.list-group-item-warning.active:focus,
button.list-group-item-warning.active:focus {
  color: #fff;
  background-color: #8a6d3b;
  border-color: #8a6d3b;
}
.list-group-item-danger {
  color: #a94442;
  background-color: #f2dede;
}
a.list-group-item-danger,
button.list-group-item-danger {
  color: #a94442;
}
a.list-group-item-danger .list-group-item-heading,
button.list-group-item-danger .list-group-item-heading {
  color: inherit;
}
a.list-group-item-danger:hover,
button.list-group-item-danger:hover,
a.list-group-item-danger:focus,
button.list-group-item-danger:focus {
  color: #a94442;
  background-color: #ebcccc;
}
a.list-group-item-danger.active,
button.list-group-item-danger.active,
a.list-group-item-danger.active:hover,
button.list-group-item-danger.active:hover,
a.list-group-item-danger.active:focus,
button.list-group-item-danger.active:focus {
  color: #fff;
  background-color: #a94442;
  border-color: #a94442;
}
.list-group-item-heading {
  margin-top: 0;
  margin-bottom: 5px;
}
.list-group-item-text {
  margin-bottom: 0;
  line-height: 1.3;
}
.panel {
  margin-bottom: 18px;
  background-color: #fff;
  border: 1px solid transparent;
  border-radius: 2px;
  -webkit-box-shadow: 0 1px 1px rgba(0, 0, 0, 0.05);
  box-shadow: 0 1px 1px rgba(0, 0, 0, 0.05);
}
.panel-body {
  padding: 15px;
}
.panel-heading {
  padding: 10px 15px;
  border-bottom: 1px solid transparent;
  border-top-right-radius: 1px;
  border-top-left-radius: 1px;
}
.panel-heading > .dropdown .dropdown-toggle {
  color: inherit;
}
.panel-title {
  margin-top: 0;
  margin-bottom: 0;
  font-size: 15px;
  color: inherit;
}
.panel-title > a,
.panel-title > small,
.panel-title > .small,
.panel-title > small > a,
.panel-title > .small > a {
  color: inherit;
}
.panel-footer {
  padding: 10px 15px;
  background-color: #f5f5f5;
  border-top: 1px solid #ddd;
  border-bottom-right-radius: 1px;
  border-bottom-left-radius: 1px;
}
.panel > .list-group,
.panel > .panel-collapse > .list-group {
  margin-bottom: 0;
}
.panel > .list-group .list-group-item,
.panel > .panel-collapse > .list-group .list-group-item {
  border-width: 1px 0;
  border-radius: 0;
}
.panel > .list-group:first-child .list-group-item:first-child,
.panel > .panel-collapse > .list-group:first-child .list-group-item:first-child {
  border-top: 0;
  border-top-right-radius: 1px;
  border-top-left-radius: 1px;
}
.panel > .list-group:last-child .list-group-item:last-child,
.panel > .panel-collapse > .list-group:last-child .list-group-item:last-child {
  border-bottom: 0;
  border-bottom-right-radius: 1px;
  border-bottom-left-radius: 1px;
}
.panel > .panel-heading + .panel-collapse > .list-group .list-group-item:first-child {
  border-top-right-radius: 0;
  border-top-left-radius: 0;
}
.panel-heading + .list-group .list-group-item:first-child {
  border-top-width: 0;
}
.list-group + .panel-footer {
  border-top-width: 0;
}
.panel > .table,
.panel > .table-responsive > .table,
.panel > .panel-collapse > .table {
  margin-bottom: 0;
}
.panel > .table caption,
.panel > .table-responsive > .table caption,
.panel > .panel-collapse > .table caption {
  padding-left: 15px;
  padding-right: 15px;
}
.panel > .table:first-child,
.panel > .table-responsive:first-child > .table:first-child {
  border-top-right-radius: 1px;
  border-top-left-radius: 1px;
}
.panel > .table:first-child > thead:first-child > tr:first-child,
.panel > .table-responsive:first-child > .table:first-child > thead:first-child > tr:first-child,
.panel > .table:first-child > tbody:first-child > tr:first-child,
.panel > .table-responsive:first-child > .table:first-child > tbody:first-child > tr:first-child {
  border-top-left-radius: 1px;
  border-top-right-radius: 1px;
}
.panel > .table:first-child > thead:first-child > tr:first-child td:first-child,
.panel > .table-responsive:first-child > .table:first-child > thead:first-child > tr:first-child td:first-child,
.panel > .table:first-child > tbody:first-child > tr:first-child td:first-child,
.panel > .table-responsive:first-child > .table:first-child > tbody:first-child > tr:first-child td:first-child,
.panel > .table:first-child > thead:first-child > tr:first-child th:first-child,
.panel > .table-responsive:first-child > .table:first-child > thead:first-child > tr:first-child th:first-child,
.panel > .table:first-child > tbody:first-child > tr:first-child th:first-child,
.panel > .table-responsive:first-child > .table:first-child > tbody:first-child > tr:first-child th:first-child {
  border-top-left-radius: 1px;
}
.panel > .table:first-child > thead:first-child > tr:first-child td:last-child,
.panel > .table-responsive:first-child > .table:first-child > thead:first-child > tr:first-child td:last-child,
.panel > .table:first-child > tbody:first-child > tr:first-child td:last-child,
.panel > .table-responsive:first-child > .table:first-child > tbody:first-child > tr:first-child td:last-child,
.panel > .table:first-child > thead:first-child > tr:first-child th:last-child,
.panel > .table-responsive:first-child > .table:first-child > thead:first-child > tr:first-child th:last-child,
.panel > .table:first-child > tbody:first-child > tr:first-child th:last-child,
.panel > .table-responsive:first-child > .table:first-child > tbody:first-child > tr:first-child th:last-child {
  border-top-right-radius: 1px;
}
.panel > .table:last-child,
.panel > .table-responsive:last-child > .table:last-child {
  border-bottom-right-radius: 1px;
  border-bottom-left-radius: 1px;
}
.panel > .table:last-child > tbody:last-child > tr:last-child,
.panel > .table-responsive:last-child > .table:last-child > tbody:last-child > tr:last-child,
.panel > .table:last-child > tfoot:last-child > tr:last-child,
.panel > .table-responsive:last-child > .table:last-child > tfoot:last-child > tr:last-child {
  border-bottom-left-radius: 1px;
  border-bottom-right-radius: 1px;
}
.panel > .table:last-child > tbody:last-child > tr:last-child td:first-child,
.panel > .table-responsive:last-child > .table:last-child > tbody:last-child > tr:last-child td:first-child,
.panel > .table:last-child > tfoot:last-child > tr:last-child td:first-child,
.panel > .table-responsive:last-child > .table:last-child > tfoot:last-child > tr:last-child td:first-child,
.panel > .table:last-child > tbody:last-child > tr:last-child th:first-child,
.panel > .table-responsive:last-child > .table:last-child > tbody:last-child > tr:last-child th:first-child,
.panel > .table:last-child > tfoot:last-child > tr:last-child th:first-child,
.panel > .table-responsive:last-child > .table:last-child > tfoot:last-child > tr:last-child th:first-child {
  border-bottom-left-radius: 1px;
}
.panel > .table:last-child > tbody:last-child > tr:last-child td:last-child,
.panel > .table-responsive:last-child > .table:last-child > tbody:last-child > tr:last-child td:last-child,
.panel > .table:last-child > tfoot:last-child > tr:last-child td:last-child,
.panel > .table-responsive:last-child > .table:last-child > tfoot:last-child > tr:last-child td:last-child,
.panel > .table:last-child > tbody:last-child > tr:last-child th:last-child,
.panel > .table-responsive:last-child > .table:last-child > tbody:last-child > tr:last-child th:last-child,
.panel > .table:last-child > tfoot:last-child > tr:last-child th:last-child,
.panel > .table-responsive:last-child > .table:last-child > tfoot:last-child > tr:last-child th:last-child {
  border-bottom-right-radius: 1px;
}
.panel > .panel-body + .table,
.panel > .panel-body + .table-responsive,
.panel > .table + .panel-body,
.panel > .table-responsive + .panel-body {
  border-top: 1px solid #ddd;
}
.panel > .table > tbody:first-child > tr:first-child th,
.panel > .table > tbody:first-child > tr:first-child td {
  border-top: 0;
}
.panel > .table-bordered,
.panel > .table-responsive > .table-bordered {
  border: 0;
}
.panel > .table-bordered > thead > tr > th:first-child,
.panel > .table-responsive > .table-bordered > thead > tr > th:first-child,
.panel > .table-bordered > tbody > tr > th:first-child,
.panel > .table-responsive > .table-bordered > tbody > tr > th:first-child,
.panel > .table-bordered > tfoot > tr > th:first-child,
.panel > .table-responsive > .table-bordered > tfoot > tr > th:first-child,
.panel > .table-bordered > thead > tr > td:first-child,
.panel > .table-responsive > .table-bordered > thead > tr > td:first-child,
.panel > .table-bordered > tbody > tr > td:first-child,
.panel > .table-responsive > .table-bordered > tbody > tr > td:first-child,
.panel > .table-bordered > tfoot > tr > td:first-child,
.panel > .table-responsive > .table-bordered > tfoot > tr > td:first-child {
  border-left: 0;
}
.panel > .table-bordered > thead > tr > th:last-child,
.panel > .table-responsive > .table-bordered > thead > tr > th:last-child,
.panel > .table-bordered > tbody > tr > th:last-child,
.panel > .table-responsive > .table-bordered > tbody > tr > th:last-child,
.panel > .table-bordered > tfoot > tr > th:last-child,
.panel > .table-responsive > .table-bordered > tfoot > tr > th:last-child,
.panel > .table-bordered > thead > tr > td:last-child,
.panel > .table-responsive > .table-bordered > thead > tr > td:last-child,
.panel > .table-bordered > tbody > tr > td:last-child,
.panel > .table-responsive > .table-bordered > tbody > tr > td:last-child,
.panel > .table-bordered > tfoot > tr > td:last-child,
.panel > .table-responsive > .table-bordered > tfoot > tr > td:last-child {
  border-right: 0;
}
.panel > .table-bordered > thead > tr:first-child > td,
.panel > .table-responsive > .table-bordered > thead > tr:first-child > td,
.panel > .table-bordered > tbody > tr:first-child > td,
.panel > .table-responsive > .table-bordered > tbody > tr:first-child > td,
.panel > .table-bordered > thead > tr:first-child > th,
.panel > .table-responsive > .table-bordered > thead > tr:first-child > th,
.panel > .table-bordered > tbody > tr:first-child > th,
.panel > .table-responsive > .table-bordered > tbody > tr:first-child > th {
  border-bottom: 0;
}
.panel > .table-bordered > tbody > tr:last-child > td,
.panel > .table-responsive > .table-bordered > tbody > tr:last-child > td,
.panel > .table-bordered > tfoot > tr:last-child > td,
.panel > .table-responsive > .table-bordered > tfoot > tr:last-child > td,
.panel > .table-bordered > tbody > tr:last-child > th,
.panel > .table-responsive > .table-bordered > tbody > tr:last-child > th,
.panel > .table-bordered > tfoot > tr:last-child > th,
.panel > .table-responsive > .table-bordered > tfoot > tr:last-child > th {
  border-bottom: 0;
}
.panel > .table-responsive {
  border: 0;
  margin-bottom: 0;
}
.panel-group {
  margin-bottom: 18px;
}
.panel-group .panel {
  margin-bottom: 0;
  border-radius: 2px;
}
.panel-group .panel + .panel {
  margin-top: 5px;
}
.panel-group .panel-heading {
  border-bottom: 0;
}
.panel-group .panel-heading + .panel-collapse > .panel-body,
.panel-group .panel-heading + .panel-collapse > .list-group {
  border-top: 1px solid #ddd;
}
.panel-group .panel-footer {
  border-top: 0;
}
.panel-group .panel-footer + .panel-collapse .panel-body {
  border-bottom: 1px solid #ddd;
}
.panel-default {
  border-color: #ddd;
}
.panel-default > .panel-heading {
  color: #333333;
  background-color: #f5f5f5;
  border-color: #ddd;
}
.panel-default > .panel-heading + .panel-collapse > .panel-body {
  border-top-color: #ddd;
}
.panel-default > .panel-heading .badge {
  color: #f5f5f5;
  background-color: #333333;
}
.panel-default > .panel-footer + .panel-collapse > .panel-body {
  border-bottom-color: #ddd;
}
.panel-primary {
  border-color: #337ab7;
}
.panel-primary > .panel-heading {
  color: #fff;
  background-color: #337ab7;
  border-color: #337ab7;
}
.panel-primary > .panel-heading + .panel-collapse > .panel-body {
  border-top-color: #337ab7;
}
.panel-primary > .panel-heading .badge {
  color: #337ab7;
  background-color: #fff;
}
.panel-primary > .panel-footer + .panel-collapse > .panel-body {
  border-bottom-color: #337ab7;
}
.panel-success {
  border-color: #d6e9c6;
}
.panel-success > .panel-heading {
  color: #3c763d;
  background-color: #dff0d8;
  border-color: #d6e9c6;
}
.panel-success > .panel-heading + .panel-collapse > .panel-body {
  border-top-color: #d6e9c6;
}
.panel-success > .panel-heading .badge {
  color: #dff0d8;
  background-color: #3c763d;
}
.panel-success > .panel-footer + .panel-collapse > .panel-body {
  border-bottom-color: #d6e9c6;
}
.panel-info {
  border-color: #bce8f1;
}
.panel-info > .panel-heading {
  color: #31708f;
  background-color: #d9edf7;
  border-color: #bce8f1;
}
.panel-info > .panel-heading + .panel-collapse > .panel-body {
  border-top-color: #bce8f1;
}
.panel-info > .panel-heading .badge {
  color: #d9edf7;
  background-color: #31708f;
}
.panel-info > .panel-footer + .panel-collapse > .panel-body {
  border-bottom-color: #bce8f1;
}
.panel-warning {
  border-color: #faebcc;
}
.panel-warning > .panel-heading {
  color: #8a6d3b;
  background-color: #fcf8e3;
  border-color: #faebcc;
}
.panel-warning > .panel-heading + .panel-collapse > .panel-body {
  border-top-color: #faebcc;
}
.panel-warning > .panel-heading .badge {
  color: #fcf8e3;
  background-color: #8a6d3b;
}
.panel-warning > .panel-footer + .panel-collapse > .panel-body {
  border-bottom-color: #faebcc;
}
.panel-danger {
  border-color: #ebccd1;
}
.panel-danger > .panel-heading {
  color: #a94442;
  background-color: #f2dede;
  border-color: #ebccd1;
}
.panel-danger > .panel-heading + .panel-collapse > .panel-body {
  border-top-color: #ebccd1;
}
.panel-danger > .panel-heading .badge {
  color: #f2dede;
  background-color: #a94442;
}
.panel-danger > .panel-footer + .panel-collapse > .panel-body {
  border-bottom-color: #ebccd1;
}
.embed-responsive {
  position: relative;
  display: block;
  height: 0;
  padding: 0;
  overflow: hidden;
}
.embed-responsive .embed-responsive-item,
.embed-responsive iframe,
.embed-responsive embed,
.embed-responsive object,
.embed-responsive video {
  position: absolute;
  top: 0;
  left: 0;
  bottom: 0;
  height: 100%;
  width: 100%;
  border: 0;
}
.embed-responsive-16by9 {
  padding-bottom: 56.25%;
}
.embed-responsive-4by3 {
  padding-bottom: 75%;
}
.well {
  min-height: 20px;
  padding: 19px;
  margin-bottom: 20px;
  background-color: #f5f5f5;
  border: 1px solid #e3e3e3;
  border-radius: 2px;
  -webkit-box-shadow: inset 0 1px 1px rgba(0, 0, 0, 0.05);
  box-shadow: inset 0 1px 1px rgba(0, 0, 0, 0.05);
}
.well blockquote {
  border-color: #ddd;
  border-color: rgba(0, 0, 0, 0.15);
}
.well-lg {
  padding: 24px;
  border-radius: 3px;
}
.well-sm {
  padding: 9px;
  border-radius: 1px;
}
.close {
  float: right;
  font-size: 19.5px;
  font-weight: bold;
  line-height: 1;
  color: #000;
  text-shadow: 0 1px 0 #fff;
  opacity: 0.2;
  filter: alpha(opacity=20);
}
.close:hover,
.close:focus {
  color: #000;
  text-decoration: none;
  cursor: pointer;
  opacity: 0.5;
  filter: alpha(opacity=50);
}
button.close {
  padding: 0;
  cursor: pointer;
  background: transparent;
  border: 0;
  -webkit-appearance: none;
}
.modal-open {
  overflow: hidden;
}
.modal {
  display: none;
  overflow: hidden;
  position: fixed;
  top: 0;
  right: 0;
  bottom: 0;
  left: 0;
  z-index: 1050;
  -webkit-overflow-scrolling: touch;
  outline: 0;
}
.modal.fade .modal-dialog {
  -webkit-transform: translate(0, -25%);
  -ms-transform: translate(0, -25%);
  -o-transform: translate(0, -25%);
  transform: translate(0, -25%);
  -webkit-transition: -webkit-transform 0.3s ease-out;
  -moz-transition: -moz-transform 0.3s ease-out;
  -o-transition: -o-transform 0.3s ease-out;
  transition: transform 0.3s ease-out;
}
.modal.in .modal-dialog {
  -webkit-transform: translate(0, 0);
  -ms-transform: translate(0, 0);
  -o-transform: translate(0, 0);
  transform: translate(0, 0);
}
.modal-open .modal {
  overflow-x: hidden;
  overflow-y: auto;
}
.modal-dialog {
  position: relative;
  width: auto;
  margin: 10px;
}
.modal-content {
  position: relative;
  background-color: #fff;
  border: 1px solid #999;
  border: 1px solid rgba(0, 0, 0, 0.2);
  border-radius: 3px;
  -webkit-box-shadow: 0 3px 9px rgba(0, 0, 0, 0.5);
  box-shadow: 0 3px 9px rgba(0, 0, 0, 0.5);
  background-clip: padding-box;
  outline: 0;
}
.modal-backdrop {
  position: fixed;
  top: 0;
  right: 0;
  bottom: 0;
  left: 0;
  z-index: 1040;
  background-color: #000;
}
.modal-backdrop.fade {
  opacity: 0;
  filter: alpha(opacity=0);
}
.modal-backdrop.in {
  opacity: 0.5;
  filter: alpha(opacity=50);
}
.modal-header {
  padding: 15px;
  border-bottom: 1px solid #e5e5e5;
}
.modal-header .close {
  margin-top: -2px;
}
.modal-title {
  margin: 0;
  line-height: 1.42857143;
}
.modal-body {
  position: relative;
  padding: 15px;
}
.modal-footer {
  padding: 15px;
  text-align: right;
  border-top: 1px solid #e5e5e5;
}
.modal-footer .btn + .btn {
  margin-left: 5px;
  margin-bottom: 0;
}
.modal-footer .btn-group .btn + .btn {
  margin-left: -1px;
}
.modal-footer .btn-block + .btn-block {
  margin-left: 0;
}
.modal-scrollbar-measure {
  position: absolute;
  top: -9999px;
  width: 50px;
  height: 50px;
  overflow: scroll;
}
@media (min-width: 768px) {
  .modal-dialog {
    width: 600px;
    margin: 30px auto;
  }
  .modal-content {
    -webkit-box-shadow: 0 5px 15px rgba(0, 0, 0, 0.5);
    box-shadow: 0 5px 15px rgba(0, 0, 0, 0.5);
  }
  .modal-sm {
    width: 300px;
  }
}
@media (min-width: 992px) {
  .modal-lg {
    width: 900px;
  }
}
.tooltip {
  position: absolute;
  z-index: 1070;
  display: block;
  font-family: "Helvetica Neue", Helvetica, Arial, sans-serif;
  font-style: normal;
  font-weight: normal;
  letter-spacing: normal;
  line-break: auto;
  line-height: 1.42857143;
  text-align: left;
  text-align: start;
  text-decoration: none;
  text-shadow: none;
  text-transform: none;
  white-space: normal;
  word-break: normal;
  word-spacing: normal;
  word-wrap: normal;
  font-size: 12px;
  opacity: 0;
  filter: alpha(opacity=0);
}
.tooltip.in {
  opacity: 0.9;
  filter: alpha(opacity=90);
}
.tooltip.top {
  margin-top: -3px;
  padding: 5px 0;
}
.tooltip.right {
  margin-left: 3px;
  padding: 0 5px;
}
.tooltip.bottom {
  margin-top: 3px;
  padding: 5px 0;
}
.tooltip.left {
  margin-left: -3px;
  padding: 0 5px;
}
.tooltip-inner {
  max-width: 200px;
  padding: 3px 8px;
  color: #fff;
  text-align: center;
  background-color: #000;
  border-radius: 2px;
}
.tooltip-arrow {
  position: absolute;
  width: 0;
  height: 0;
  border-color: transparent;
  border-style: solid;
}
.tooltip.top .tooltip-arrow {
  bottom: 0;
  left: 50%;
  margin-left: -5px;
  border-width: 5px 5px 0;
  border-top-color: #000;
}
.tooltip.top-left .tooltip-arrow {
  bottom: 0;
  right: 5px;
  margin-bottom: -5px;
  border-width: 5px 5px 0;
  border-top-color: #000;
}
.tooltip.top-right .tooltip-arrow {
  bottom: 0;
  left: 5px;
  margin-bottom: -5px;
  border-width: 5px 5px 0;
  border-top-color: #000;
}
.tooltip.right .tooltip-arrow {
  top: 50%;
  left: 0;
  margin-top: -5px;
  border-width: 5px 5px 5px 0;
  border-right-color: #000;
}
.tooltip.left .tooltip-arrow {
  top: 50%;
  right: 0;
  margin-top: -5px;
  border-width: 5px 0 5px 5px;
  border-left-color: #000;
}
.tooltip.bottom .tooltip-arrow {
  top: 0;
  left: 50%;
  margin-left: -5px;
  border-width: 0 5px 5px;
  border-bottom-color: #000;
}
.tooltip.bottom-left .tooltip-arrow {
  top: 0;
  right: 5px;
  margin-top: -5px;
  border-width: 0 5px 5px;
  border-bottom-color: #000;
}
.tooltip.bottom-right .tooltip-arrow {
  top: 0;
  left: 5px;
  margin-top: -5px;
  border-width: 0 5px 5px;
  border-bottom-color: #000;
}
.popover {
  position: absolute;
  top: 0;
  left: 0;
  z-index: 1060;
  display: none;
  max-width: 276px;
  padding: 1px;
  font-family: "Helvetica Neue", Helvetica, Arial, sans-serif;
  font-style: normal;
  font-weight: normal;
  letter-spacing: normal;
  line-break: auto;
  line-height: 1.42857143;
  text-align: left;
  text-align: start;
  text-decoration: none;
  text-shadow: none;
  text-transform: none;
  white-space: normal;
  word-break: normal;
  word-spacing: normal;
  word-wrap: normal;
  font-size: 13px;
  background-color: #fff;
  background-clip: padding-box;
  border: 1px solid #ccc;
  border: 1px solid rgba(0, 0, 0, 0.2);
  border-radius: 3px;
  -webkit-box-shadow: 0 5px 10px rgba(0, 0, 0, 0.2);
  box-shadow: 0 5px 10px rgba(0, 0, 0, 0.2);
}
.popover.top {
  margin-top: -10px;
}
.popover.right {
  margin-left: 10px;
}
.popover.bottom {
  margin-top: 10px;
}
.popover.left {
  margin-left: -10px;
}
.popover-title {
  margin: 0;
  padding: 8px 14px;
  font-size: 13px;
  background-color: #f7f7f7;
  border-bottom: 1px solid #ebebeb;
  border-radius: 2px 2px 0 0;
}
.popover-content {
  padding: 9px 14px;
}
.popover > .arrow,
.popover > .arrow:after {
  position: absolute;
  display: block;
  width: 0;
  height: 0;
  border-color: transparent;
  border-style: solid;
}
.popover > .arrow {
  border-width: 11px;
}
.popover > .arrow:after {
  border-width: 10px;
  content: "";
}
.popover.top > .arrow {
  left: 50%;
  margin-left: -11px;
  border-bottom-width: 0;
  border-top-color: #999999;
  border-top-color: rgba(0, 0, 0, 0.25);
  bottom: -11px;
}
.popover.top > .arrow:after {
  content: " ";
  bottom: 1px;
  margin-left: -10px;
  border-bottom-width: 0;
  border-top-color: #fff;
}
.popover.right > .arrow {
  top: 50%;
  left: -11px;
  margin-top: -11px;
  border-left-width: 0;
  border-right-color: #999999;
  border-right-color: rgba(0, 0, 0, 0.25);
}
.popover.right > .arrow:after {
  content: " ";
  left: 1px;
  bottom: -10px;
  border-left-width: 0;
  border-right-color: #fff;
}
.popover.bottom > .arrow {
  left: 50%;
  margin-left: -11px;
  border-top-width: 0;
  border-bottom-color: #999999;
  border-bottom-color: rgba(0, 0, 0, 0.25);
  top: -11px;
}
.popover.bottom > .arrow:after {
  content: " ";
  top: 1px;
  margin-left: -10px;
  border-top-width: 0;
  border-bottom-color: #fff;
}
.popover.left > .arrow {
  top: 50%;
  right: -11px;
  margin-top: -11px;
  border-right-width: 0;
  border-left-color: #999999;
  border-left-color: rgba(0, 0, 0, 0.25);
}
.popover.left > .arrow:after {
  content: " ";
  right: 1px;
  border-right-width: 0;
  border-left-color: #fff;
  bottom: -10px;
}
.carousel {
  position: relative;
}
.carousel-inner {
  position: relative;
  overflow: hidden;
  width: 100%;
}
.carousel-inner > .item {
  display: none;
  position: relative;
  -webkit-transition: 0.6s ease-in-out left;
  -o-transition: 0.6s ease-in-out left;
  transition: 0.6s ease-in-out left;
}
.carousel-inner > .item > img,
.carousel-inner > .item > a > img {
  line-height: 1;
}
@media all and (transform-3d), (-webkit-transform-3d) {
  .carousel-inner > .item {
    -webkit-transition: -webkit-transform 0.6s ease-in-out;
    -moz-transition: -moz-transform 0.6s ease-in-out;
    -o-transition: -o-transform 0.6s ease-in-out;
    transition: transform 0.6s ease-in-out;
    -webkit-backface-visibility: hidden;
    -moz-backface-visibility: hidden;
    backface-visibility: hidden;
    -webkit-perspective: 1000px;
    -moz-perspective: 1000px;
    perspective: 1000px;
  }
  .carousel-inner > .item.next,
  .carousel-inner > .item.active.right {
    -webkit-transform: translate3d(100%, 0, 0);
    transform: translate3d(100%, 0, 0);
    left: 0;
  }
  .carousel-inner > .item.prev,
  .carousel-inner > .item.active.left {
    -webkit-transform: translate3d(-100%, 0, 0);
    transform: translate3d(-100%, 0, 0);
    left: 0;
  }
  .carousel-inner > .item.next.left,
  .carousel-inner > .item.prev.right,
  .carousel-inner > .item.active {
    -webkit-transform: translate3d(0, 0, 0);
    transform: translate3d(0, 0, 0);
    left: 0;
  }
}
.carousel-inner > .active,
.carousel-inner > .next,
.carousel-inner > .prev {
  display: block;
}
.carousel-inner > .active {
  left: 0;
}
.carousel-inner > .next,
.carousel-inner > .prev {
  position: absolute;
  top: 0;
  width: 100%;
}
.carousel-inner > .next {
  left: 100%;
}
.carousel-inner > .prev {
  left: -100%;
}
.carousel-inner > .next.left,
.carousel-inner > .prev.right {
  left: 0;
}
.carousel-inner > .active.left {
  left: -100%;
}
.carousel-inner > .active.right {
  left: 100%;
}
.carousel-control {
  position: absolute;
  top: 0;
  left: 0;
  bottom: 0;
  width: 15%;
  opacity: 0.5;
  filter: alpha(opacity=50);
  font-size: 20px;
  color: #fff;
  text-align: center;
  text-shadow: 0 1px 2px rgba(0, 0, 0, 0.6);
  background-color: rgba(0, 0, 0, 0);
}
.carousel-control.left {
  background-image: -webkit-linear-gradient(left, rgba(0, 0, 0, 0.5) 0%, rgba(0, 0, 0, 0.0001) 100%);
  background-image: -o-linear-gradient(left, rgba(0, 0, 0, 0.5) 0%, rgba(0, 0, 0, 0.0001) 100%);
  background-image: linear-gradient(to right, rgba(0, 0, 0, 0.5) 0%, rgba(0, 0, 0, 0.0001) 100%);
  background-repeat: repeat-x;
  filter: progid:DXImageTransform.Microsoft.gradient(startColorstr='#80000000', endColorstr='#00000000', GradientType=1);
}
.carousel-control.right {
  left: auto;
  right: 0;
  background-image: -webkit-linear-gradient(left, rgba(0, 0, 0, 0.0001) 0%, rgba(0, 0, 0, 0.5) 100%);
  background-image: -o-linear-gradient(left, rgba(0, 0, 0, 0.0001) 0%, rgba(0, 0, 0, 0.5) 100%);
  background-image: linear-gradient(to right, rgba(0, 0, 0, 0.0001) 0%, rgba(0, 0, 0, 0.5) 100%);
  background-repeat: repeat-x;
  filter: progid:DXImageTransform.Microsoft.gradient(startColorstr='#00000000', endColorstr='#80000000', GradientType=1);
}
.carousel-control:hover,
.carousel-control:focus {
  outline: 0;
  color: #fff;
  text-decoration: none;
  opacity: 0.9;
  filter: alpha(opacity=90);
}
.carousel-control .icon-prev,
.carousel-control .icon-next,
.carousel-control .glyphicon-chevron-left,
.carousel-control .glyphicon-chevron-right {
  position: absolute;
  top: 50%;
  margin-top: -10px;
  z-index: 5;
  display: inline-block;
}
.carousel-control .icon-prev,
.carousel-control .glyphicon-chevron-left {
  left: 50%;
  margin-left: -10px;
}
.carousel-control .icon-next,
.carousel-control .glyphicon-chevron-right {
  right: 50%;
  margin-right: -10px;
}
.carousel-control .icon-prev,
.carousel-control .icon-next {
  width: 20px;
  height: 20px;
  line-height: 1;
  font-family: serif;
}
.carousel-control .icon-prev:before {
  content: '\2039';
}
.carousel-control .icon-next:before {
  content: '\203a';
}
.carousel-indicators {
  position: absolute;
  bottom: 10px;
  left: 50%;
  z-index: 15;
  width: 60%;
  margin-left: -30%;
  padding-left: 0;
  list-style: none;
  text-align: center;
}
.carousel-indicators li {
  display: inline-block;
  width: 10px;
  height: 10px;
  margin: 1px;
  text-indent: -999px;
  border: 1px solid #fff;
  border-radius: 10px;
  cursor: pointer;
  background-color: #000 \9;
  background-color: rgba(0, 0, 0, 0);
}
.carousel-indicators .active {
  margin: 0;
  width: 12px;
  height: 12px;
  background-color: #fff;
}
.carousel-caption {
  position: absolute;
  left: 15%;
  right: 15%;
  bottom: 20px;
  z-index: 10;
  padding-top: 20px;
  padding-bottom: 20px;
  color: #fff;
  text-align: center;
  text-shadow: 0 1px 2px rgba(0, 0, 0, 0.6);
}
.carousel-caption .btn {
  text-shadow: none;
}
@media screen and (min-width: 768px) {
  .carousel-control .glyphicon-chevron-left,
  .carousel-control .glyphicon-chevron-right,
  .carousel-control .icon-prev,
  .carousel-control .icon-next {
    width: 30px;
    height: 30px;
    margin-top: -10px;
    font-size: 30px;
  }
  .carousel-control .glyphicon-chevron-left,
  .carousel-control .icon-prev {
    margin-left: -10px;
  }
  .carousel-control .glyphicon-chevron-right,
  .carousel-control .icon-next {
    margin-right: -10px;
  }
  .carousel-caption {
    left: 20%;
    right: 20%;
    padding-bottom: 30px;
  }
  .carousel-indicators {
    bottom: 20px;
  }
}
.clearfix:before,
.clearfix:after,
.dl-horizontal dd:before,
.dl-horizontal dd:after,
.container:before,
.container:after,
.container-fluid:before,
.container-fluid:after,
.row:before,
.row:after,
.form-horizontal .form-group:before,
.form-horizontal .form-group:after,
.btn-toolbar:before,
.btn-toolbar:after,
.btn-group-vertical > .btn-group:before,
.btn-group-vertical > .btn-group:after,
.nav:before,
.nav:after,
.navbar:before,
.navbar:after,
.navbar-header:before,
.navbar-header:after,
.navbar-collapse:before,
.navbar-collapse:after,
.pager:before,
.pager:after,
.panel-body:before,
.panel-body:after,
.modal-header:before,
.modal-header:after,
.modal-footer:before,
.modal-footer:after,
.item_buttons:before,
.item_buttons:after {
  content: " ";
  display: table;
}
.clearfix:after,
.dl-horizontal dd:after,
.container:after,
.container-fluid:after,
.row:after,
.form-horizontal .form-group:after,
.btn-toolbar:after,
.btn-group-vertical > .btn-group:after,
.nav:after,
.navbar:after,
.navbar-header:after,
.navbar-collapse:after,
.pager:after,
.panel-body:after,
.modal-header:after,
.modal-footer:after,
.item_buttons:after {
  clear: both;
}
.center-block {
  display: block;
  margin-left: auto;
  margin-right: auto;
}
.pull-right {
  float: right !important;
}
.pull-left {
  float: left !important;
}
.hide {
  display: none !important;
}
.show {
  display: block !important;
}
.invisible {
  visibility: hidden;
}
.text-hide {
  font: 0/0 a;
  color: transparent;
  text-shadow: none;
  background-color: transparent;
  border: 0;
}
.hidden {
  display: none !important;
}
.affix {
  position: fixed;
}
@-ms-viewport {
  width: device-width;
}
.visible-xs,
.visible-sm,
.visible-md,
.visible-lg {
  display: none !important;
}
.visible-xs-block,
.visible-xs-inline,
.visible-xs-inline-block,
.visible-sm-block,
.visible-sm-inline,
.visible-sm-inline-block,
.visible-md-block,
.visible-md-inline,
.visible-md-inline-block,
.visible-lg-block,
.visible-lg-inline,
.visible-lg-inline-block {
  display: none !important;
}
@media (max-width: 767px) {
  .visible-xs {
    display: block !important;
  }
  table.visible-xs {
    display: table !important;
  }
  tr.visible-xs {
    display: table-row !important;
  }
  th.visible-xs,
  td.visible-xs {
    display: table-cell !important;
  }
}
@media (max-width: 767px) {
  .visible-xs-block {
    display: block !important;
  }
}
@media (max-width: 767px) {
  .visible-xs-inline {
    display: inline !important;
  }
}
@media (max-width: 767px) {
  .visible-xs-inline-block {
    display: inline-block !important;
  }
}
@media (min-width: 768px) and (max-width: 991px) {
  .visible-sm {
    display: block !important;
  }
  table.visible-sm {
    display: table !important;
  }
  tr.visible-sm {
    display: table-row !important;
  }
  th.visible-sm,
  td.visible-sm {
    display: table-cell !important;
  }
}
@media (min-width: 768px) and (max-width: 991px) {
  .visible-sm-block {
    display: block !important;
  }
}
@media (min-width: 768px) and (max-width: 991px) {
  .visible-sm-inline {
    display: inline !important;
  }
}
@media (min-width: 768px) and (max-width: 991px) {
  .visible-sm-inline-block {
    display: inline-block !important;
  }
}
@media (min-width: 992px) and (max-width: 1199px) {
  .visible-md {
    display: block !important;
  }
  table.visible-md {
    display: table !important;
  }
  tr.visible-md {
    display: table-row !important;
  }
  th.visible-md,
  td.visible-md {
    display: table-cell !important;
  }
}
@media (min-width: 992px) and (max-width: 1199px) {
  .visible-md-block {
    display: block !important;
  }
}
@media (min-width: 992px) and (max-width: 1199px) {
  .visible-md-inline {
    display: inline !important;
  }
}
@media (min-width: 992px) and (max-width: 1199px) {
  .visible-md-inline-block {
    display: inline-block !important;
  }
}
@media (min-width: 1200px) {
  .visible-lg {
    display: block !important;
  }
  table.visible-lg {
    display: table !important;
  }
  tr.visible-lg {
    display: table-row !important;
  }
  th.visible-lg,
  td.visible-lg {
    display: table-cell !important;
  }
}
@media (min-width: 1200px) {
  .visible-lg-block {
    display: block !important;
  }
}
@media (min-width: 1200px) {
  .visible-lg-inline {
    display: inline !important;
  }
}
@media (min-width: 1200px) {
  .visible-lg-inline-block {
    display: inline-block !important;
  }
}
@media (max-width: 767px) {
  .hidden-xs {
    display: none !important;
  }
}
@media (min-width: 768px) and (max-width: 991px) {
  .hidden-sm {
    display: none !important;
  }
}
@media (min-width: 992px) and (max-width: 1199px) {
  .hidden-md {
    display: none !important;
  }
}
@media (min-width: 1200px) {
  .hidden-lg {
    display: none !important;
  }
}
.visible-print {
  display: none !important;
}
@media print {
  .visible-print {
    display: block !important;
  }
  table.visible-print {
    display: table !important;
  }
  tr.visible-print {
    display: table-row !important;
  }
  th.visible-print,
  td.visible-print {
    display: table-cell !important;
  }
}
.visible-print-block {
  display: none !important;
}
@media print {
  .visible-print-block {
    display: block !important;
  }
}
.visible-print-inline {
  display: none !important;
}
@media print {
  .visible-print-inline {
    display: inline !important;
  }
}
.visible-print-inline-block {
  display: none !important;
}
@media print {
  .visible-print-inline-block {
    display: inline-block !important;
  }
}
@media print {
  .hidden-print {
    display: none !important;
  }
}
/*!
*
* Font Awesome
*
*/
/*!
 *  Font Awesome 4.2.0 by @davegandy - http://fontawesome.io - @fontawesome
 *  License - http://fontawesome.io/license (Font: SIL OFL 1.1, CSS: MIT License)
 */
/* FONT PATH
 * -------------------------- */
@font-face {
  font-family: 'FontAwesome';
  src: url('../components/font-awesome/fonts/fontawesome-webfont.eot?v=4.2.0');
  src: url('../components/font-awesome/fonts/fontawesome-webfont.eot?#iefix&v=4.2.0') format('embedded-opentype'), url('../components/font-awesome/fonts/fontawesome-webfont.woff?v=4.2.0') format('woff'), url('../components/font-awesome/fonts/fontawesome-webfont.ttf?v=4.2.0') format('truetype'), url('../components/font-awesome/fonts/fontawesome-webfont.svg?v=4.2.0#fontawesomeregular') format('svg');
  font-weight: normal;
  font-style: normal;
}
.fa {
  display: inline-block;
  font: normal normal normal 14px/1 FontAwesome;
  font-size: inherit;
  text-rendering: auto;
  -webkit-font-smoothing: antialiased;
  -moz-osx-font-smoothing: grayscale;
}
/* makes the font 33% larger relative to the icon container */
.fa-lg {
  font-size: 1.33333333em;
  line-height: 0.75em;
  vertical-align: -15%;
}
.fa-2x {
  font-size: 2em;
}
.fa-3x {
  font-size: 3em;
}
.fa-4x {
  font-size: 4em;
}
.fa-5x {
  font-size: 5em;
}
.fa-fw {
  width: 1.28571429em;
  text-align: center;
}
.fa-ul {
  padding-left: 0;
  margin-left: 2.14285714em;
  list-style-type: none;
}
.fa-ul > li {
  position: relative;
}
.fa-li {
  position: absolute;
  left: -2.14285714em;
  width: 2.14285714em;
  top: 0.14285714em;
  text-align: center;
}
.fa-li.fa-lg {
  left: -1.85714286em;
}
.fa-border {
  padding: .2em .25em .15em;
  border: solid 0.08em #eee;
  border-radius: .1em;
}
.pull-right {
  float: right;
}
.pull-left {
  float: left;
}
.fa.pull-left {
  margin-right: .3em;
}
.fa.pull-right {
  margin-left: .3em;
}
.fa-spin {
  -webkit-animation: fa-spin 2s infinite linear;
  animation: fa-spin 2s infinite linear;
}
@-webkit-keyframes fa-spin {
  0% {
    -webkit-transform: rotate(0deg);
    transform: rotate(0deg);
  }
  100% {
    -webkit-transform: rotate(359deg);
    transform: rotate(359deg);
  }
}
@keyframes fa-spin {
  0% {
    -webkit-transform: rotate(0deg);
    transform: rotate(0deg);
  }
  100% {
    -webkit-transform: rotate(359deg);
    transform: rotate(359deg);
  }
}
.fa-rotate-90 {
  filter: progid:DXImageTransform.Microsoft.BasicImage(rotation=1);
  -webkit-transform: rotate(90deg);
  -ms-transform: rotate(90deg);
  transform: rotate(90deg);
}
.fa-rotate-180 {
  filter: progid:DXImageTransform.Microsoft.BasicImage(rotation=2);
  -webkit-transform: rotate(180deg);
  -ms-transform: rotate(180deg);
  transform: rotate(180deg);
}
.fa-rotate-270 {
  filter: progid:DXImageTransform.Microsoft.BasicImage(rotation=3);
  -webkit-transform: rotate(270deg);
  -ms-transform: rotate(270deg);
  transform: rotate(270deg);
}
.fa-flip-horizontal {
  filter: progid:DXImageTransform.Microsoft.BasicImage(rotation=0, mirror=1);
  -webkit-transform: scale(-1, 1);
  -ms-transform: scale(-1, 1);
  transform: scale(-1, 1);
}
.fa-flip-vertical {
  filter: progid:DXImageTransform.Microsoft.BasicImage(rotation=2, mirror=1);
  -webkit-transform: scale(1, -1);
  -ms-transform: scale(1, -1);
  transform: scale(1, -1);
}
:root .fa-rotate-90,
:root .fa-rotate-180,
:root .fa-rotate-270,
:root .fa-flip-horizontal,
:root .fa-flip-vertical {
  filter: none;
}
.fa-stack {
  position: relative;
  display: inline-block;
  width: 2em;
  height: 2em;
  line-height: 2em;
  vertical-align: middle;
}
.fa-stack-1x,
.fa-stack-2x {
  position: absolute;
  left: 0;
  width: 100%;
  text-align: center;
}
.fa-stack-1x {
  line-height: inherit;
}
.fa-stack-2x {
  font-size: 2em;
}
.fa-inverse {
  color: #fff;
}
/* Font Awesome uses the Unicode Private Use Area (PUA) to ensure screen
   readers do not read off random characters that represent icons */
.fa-glass:before {
  content: "\f000";
}
.fa-music:before {
  content: "\f001";
}
.fa-search:before {
  content: "\f002";
}
.fa-envelope-o:before {
  content: "\f003";
}
.fa-heart:before {
  content: "\f004";
}
.fa-star:before {
  content: "\f005";
}
.fa-star-o:before {
  content: "\f006";
}
.fa-user:before {
  content: "\f007";
}
.fa-film:before {
  content: "\f008";
}
.fa-th-large:before {
  content: "\f009";
}
.fa-th:before {
  content: "\f00a";
}
.fa-th-list:before {
  content: "\f00b";
}
.fa-check:before {
  content: "\f00c";
}
.fa-remove:before,
.fa-close:before,
.fa-times:before {
  content: "\f00d";
}
.fa-search-plus:before {
  content: "\f00e";
}
.fa-search-minus:before {
  content: "\f010";
}
.fa-power-off:before {
  content: "\f011";
}
.fa-signal:before {
  content: "\f012";
}
.fa-gear:before,
.fa-cog:before {
  content: "\f013";
}
.fa-trash-o:before {
  content: "\f014";
}
.fa-home:before {
  content: "\f015";
}
.fa-file-o:before {
  content: "\f016";
}
.fa-clock-o:before {
  content: "\f017";
}
.fa-road:before {
  content: "\f018";
}
.fa-download:before {
  content: "\f019";
}
.fa-arrow-circle-o-down:before {
  content: "\f01a";
}
.fa-arrow-circle-o-up:before {
  content: "\f01b";
}
.fa-inbox:before {
  content: "\f01c";
}
.fa-play-circle-o:before {
  content: "\f01d";
}
.fa-rotate-right:before,
.fa-repeat:before {
  content: "\f01e";
}
.fa-refresh:before {
  content: "\f021";
}
.fa-list-alt:before {
  content: "\f022";
}
.fa-lock:before {
  content: "\f023";
}
.fa-flag:before {
  content: "\f024";
}
.fa-headphones:before {
  content: "\f025";
}
.fa-volume-off:before {
  content: "\f026";
}
.fa-volume-down:before {
  content: "\f027";
}
.fa-volume-up:before {
  content: "\f028";
}
.fa-qrcode:before {
  content: "\f029";
}
.fa-barcode:before {
  content: "\f02a";
}
.fa-tag:before {
  content: "\f02b";
}
.fa-tags:before {
  content: "\f02c";
}
.fa-book:before {
  content: "\f02d";
}
.fa-bookmark:before {
  content: "\f02e";
}
.fa-print:before {
  content: "\f02f";
}
.fa-camera:before {
  content: "\f030";
}
.fa-font:before {
  content: "\f031";
}
.fa-bold:before {
  content: "\f032";
}
.fa-italic:before {
  content: "\f033";
}
.fa-text-height:before {
  content: "\f034";
}
.fa-text-width:before {
  content: "\f035";
}
.fa-align-left:before {
  content: "\f036";
}
.fa-align-center:before {
  content: "\f037";
}
.fa-align-right:before {
  content: "\f038";
}
.fa-align-justify:before {
  content: "\f039";
}
.fa-list:before {
  content: "\f03a";
}
.fa-dedent:before,
.fa-outdent:before {
  content: "\f03b";
}
.fa-indent:before {
  content: "\f03c";
}
.fa-video-camera:before {
  content: "\f03d";
}
.fa-photo:before,
.fa-image:before,
.fa-picture-o:before {
  content: "\f03e";
}
.fa-pencil:before {
  content: "\f040";
}
.fa-map-marker:before {
  content: "\f041";
}
.fa-adjust:before {
  content: "\f042";
}
.fa-tint:before {
  content: "\f043";
}
.fa-edit:before,
.fa-pencil-square-o:before {
  content: "\f044";
}
.fa-share-square-o:before {
  content: "\f045";
}
.fa-check-square-o:before {
  content: "\f046";
}
.fa-arrows:before {
  content: "\f047";
}
.fa-step-backward:before {
  content: "\f048";
}
.fa-fast-backward:before {
  content: "\f049";
}
.fa-backward:before {
  content: "\f04a";
}
.fa-play:before {
  content: "\f04b";
}
.fa-pause:before {
  content: "\f04c";
}
.fa-stop:before {
  content: "\f04d";
}
.fa-forward:before {
  content: "\f04e";
}
.fa-fast-forward:before {
  content: "\f050";
}
.fa-step-forward:before {
  content: "\f051";
}
.fa-eject:before {
  content: "\f052";
}
.fa-chevron-left:before {
  content: "\f053";
}
.fa-chevron-right:before {
  content: "\f054";
}
.fa-plus-circle:before {
  content: "\f055";
}
.fa-minus-circle:before {
  content: "\f056";
}
.fa-times-circle:before {
  content: "\f057";
}
.fa-check-circle:before {
  content: "\f058";
}
.fa-question-circle:before {
  content: "\f059";
}
.fa-info-circle:before {
  content: "\f05a";
}
.fa-crosshairs:before {
  content: "\f05b";
}
.fa-times-circle-o:before {
  content: "\f05c";
}
.fa-check-circle-o:before {
  content: "\f05d";
}
.fa-ban:before {
  content: "\f05e";
}
.fa-arrow-left:before {
  content: "\f060";
}
.fa-arrow-right:before {
  content: "\f061";
}
.fa-arrow-up:before {
  content: "\f062";
}
.fa-arrow-down:before {
  content: "\f063";
}
.fa-mail-forward:before,
.fa-share:before {
  content: "\f064";
}
.fa-expand:before {
  content: "\f065";
}
.fa-compress:before {
  content: "\f066";
}
.fa-plus:before {
  content: "\f067";
}
.fa-minus:before {
  content: "\f068";
}
.fa-asterisk:before {
  content: "\f069";
}
.fa-exclamation-circle:before {
  content: "\f06a";
}
.fa-gift:before {
  content: "\f06b";
}
.fa-leaf:before {
  content: "\f06c";
}
.fa-fire:before {
  content: "\f06d";
}
.fa-eye:before {
  content: "\f06e";
}
.fa-eye-slash:before {
  content: "\f070";
}
.fa-warning:before,
.fa-exclamation-triangle:before {
  content: "\f071";
}
.fa-plane:before {
  content: "\f072";
}
.fa-calendar:before {
  content: "\f073";
}
.fa-random:before {
  content: "\f074";
}
.fa-comment:before {
  content: "\f075";
}
.fa-magnet:before {
  content: "\f076";
}
.fa-chevron-up:before {
  content: "\f077";
}
.fa-chevron-down:before {
  content: "\f078";
}
.fa-retweet:before {
  content: "\f079";
}
.fa-shopping-cart:before {
  content: "\f07a";
}
.fa-folder:before {
  content: "\f07b";
}
.fa-folder-open:before {
  content: "\f07c";
}
.fa-arrows-v:before {
  content: "\f07d";
}
.fa-arrows-h:before {
  content: "\f07e";
}
.fa-bar-chart-o:before,
.fa-bar-chart:before {
  content: "\f080";
}
.fa-twitter-square:before {
  content: "\f081";
}
.fa-facebook-square:before {
  content: "\f082";
}
.fa-camera-retro:before {
  content: "\f083";
}
.fa-key:before {
  content: "\f084";
}
.fa-gears:before,
.fa-cogs:before {
  content: "\f085";
}
.fa-comments:before {
  content: "\f086";
}
.fa-thumbs-o-up:before {
  content: "\f087";
}
.fa-thumbs-o-down:before {
  content: "\f088";
}
.fa-star-half:before {
  content: "\f089";
}
.fa-heart-o:before {
  content: "\f08a";
}
.fa-sign-out:before {
  content: "\f08b";
}
.fa-linkedin-square:before {
  content: "\f08c";
}
.fa-thumb-tack:before {
  content: "\f08d";
}
.fa-external-link:before {
  content: "\f08e";
}
.fa-sign-in:before {
  content: "\f090";
}
.fa-trophy:before {
  content: "\f091";
}
.fa-github-square:before {
  content: "\f092";
}
.fa-upload:before {
  content: "\f093";
}
.fa-lemon-o:before {
  content: "\f094";
}
.fa-phone:before {
  content: "\f095";
}
.fa-square-o:before {
  content: "\f096";
}
.fa-bookmark-o:before {
  content: "\f097";
}
.fa-phone-square:before {
  content: "\f098";
}
.fa-twitter:before {
  content: "\f099";
}
.fa-facebook:before {
  content: "\f09a";
}
.fa-github:before {
  content: "\f09b";
}
.fa-unlock:before {
  content: "\f09c";
}
.fa-credit-card:before {
  content: "\f09d";
}
.fa-rss:before {
  content: "\f09e";
}
.fa-hdd-o:before {
  content: "\f0a0";
}
.fa-bullhorn:before {
  content: "\f0a1";
}
.fa-bell:before {
  content: "\f0f3";
}
.fa-certificate:before {
  content: "\f0a3";
}
.fa-hand-o-right:before {
  content: "\f0a4";
}
.fa-hand-o-left:before {
  content: "\f0a5";
}
.fa-hand-o-up:before {
  content: "\f0a6";
}
.fa-hand-o-down:before {
  content: "\f0a7";
}
.fa-arrow-circle-left:before {
  content: "\f0a8";
}
.fa-arrow-circle-right:before {
  content: "\f0a9";
}
.fa-arrow-circle-up:before {
  content: "\f0aa";
}
.fa-arrow-circle-down:before {
  content: "\f0ab";
}
.fa-globe:before {
  content: "\f0ac";
}
.fa-wrench:before {
  content: "\f0ad";
}
.fa-tasks:before {
  content: "\f0ae";
}
.fa-filter:before {
  content: "\f0b0";
}
.fa-briefcase:before {
  content: "\f0b1";
}
.fa-arrows-alt:before {
  content: "\f0b2";
}
.fa-group:before,
.fa-users:before {
  content: "\f0c0";
}
.fa-chain:before,
.fa-link:before {
  content: "\f0c1";
}
.fa-cloud:before {
  content: "\f0c2";
}
.fa-flask:before {
  content: "\f0c3";
}
.fa-cut:before,
.fa-scissors:before {
  content: "\f0c4";
}
.fa-copy:before,
.fa-files-o:before {
  content: "\f0c5";
}
.fa-paperclip:before {
  content: "\f0c6";
}
.fa-save:before,
.fa-floppy-o:before {
  content: "\f0c7";
}
.fa-square:before {
  content: "\f0c8";
}
.fa-navicon:before,
.fa-reorder:before,
.fa-bars:before {
  content: "\f0c9";
}
.fa-list-ul:before {
  content: "\f0ca";
}
.fa-list-ol:before {
  content: "\f0cb";
}
.fa-strikethrough:before {
  content: "\f0cc";
}
.fa-underline:before {
  content: "\f0cd";
}
.fa-table:before {
  content: "\f0ce";
}
.fa-magic:before {
  content: "\f0d0";
}
.fa-truck:before {
  content: "\f0d1";
}
.fa-pinterest:before {
  content: "\f0d2";
}
.fa-pinterest-square:before {
  content: "\f0d3";
}
.fa-google-plus-square:before {
  content: "\f0d4";
}
.fa-google-plus:before {
  content: "\f0d5";
}
.fa-money:before {
  content: "\f0d6";
}
.fa-caret-down:before {
  content: "\f0d7";
}
.fa-caret-up:before {
  content: "\f0d8";
}
.fa-caret-left:before {
  content: "\f0d9";
}
.fa-caret-right:before {
  content: "\f0da";
}
.fa-columns:before {
  content: "\f0db";
}
.fa-unsorted:before,
.fa-sort:before {
  content: "\f0dc";
}
.fa-sort-down:before,
.fa-sort-desc:before {
  content: "\f0dd";
}
.fa-sort-up:before,
.fa-sort-asc:before {
  content: "\f0de";
}
.fa-envelope:before {
  content: "\f0e0";
}
.fa-linkedin:before {
  content: "\f0e1";
}
.fa-rotate-left:before,
.fa-undo:before {
  content: "\f0e2";
}
.fa-legal:before,
.fa-gavel:before {
  content: "\f0e3";
}
.fa-dashboard:before,
.fa-tachometer:before {
  content: "\f0e4";
}
.fa-comment-o:before {
  content: "\f0e5";
}
.fa-comments-o:before {
  content: "\f0e6";
}
.fa-flash:before,
.fa-bolt:before {
  content: "\f0e7";
}
.fa-sitemap:before {
  content: "\f0e8";
}
.fa-umbrella:before {
  content: "\f0e9";
}
.fa-paste:before,
.fa-clipboard:before {
  content: "\f0ea";
}
.fa-lightbulb-o:before {
  content: "\f0eb";
}
.fa-exchange:before {
  content: "\f0ec";
}
.fa-cloud-download:before {
  content: "\f0ed";
}
.fa-cloud-upload:before {
  content: "\f0ee";
}
.fa-user-md:before {
  content: "\f0f0";
}
.fa-stethoscope:before {
  content: "\f0f1";
}
.fa-suitcase:before {
  content: "\f0f2";
}
.fa-bell-o:before {
  content: "\f0a2";
}
.fa-coffee:before {
  content: "\f0f4";
}
.fa-cutlery:before {
  content: "\f0f5";
}
.fa-file-text-o:before {
  content: "\f0f6";
}
.fa-building-o:before {
  content: "\f0f7";
}
.fa-hospital-o:before {
  content: "\f0f8";
}
.fa-ambulance:before {
  content: "\f0f9";
}
.fa-medkit:before {
  content: "\f0fa";
}
.fa-fighter-jet:before {
  content: "\f0fb";
}
.fa-beer:before {
  content: "\f0fc";
}
.fa-h-square:before {
  content: "\f0fd";
}
.fa-plus-square:before {
  content: "\f0fe";
}
.fa-angle-double-left:before {
  content: "\f100";
}
.fa-angle-double-right:before {
  content: "\f101";
}
.fa-angle-double-up:before {
  content: "\f102";
}
.fa-angle-double-down:before {
  content: "\f103";
}
.fa-angle-left:before {
  content: "\f104";
}
.fa-angle-right:before {
  content: "\f105";
}
.fa-angle-up:before {
  content: "\f106";
}
.fa-angle-down:before {
  content: "\f107";
}
.fa-desktop:before {
  content: "\f108";
}
.fa-laptop:before {
  content: "\f109";
}
.fa-tablet:before {
  content: "\f10a";
}
.fa-mobile-phone:before,
.fa-mobile:before {
  content: "\f10b";
}
.fa-circle-o:before {
  content: "\f10c";
}
.fa-quote-left:before {
  content: "\f10d";
}
.fa-quote-right:before {
  content: "\f10e";
}
.fa-spinner:before {
  content: "\f110";
}
.fa-circle:before {
  content: "\f111";
}
.fa-mail-reply:before,
.fa-reply:before {
  content: "\f112";
}
.fa-github-alt:before {
  content: "\f113";
}
.fa-folder-o:before {
  content: "\f114";
}
.fa-folder-open-o:before {
  content: "\f115";
}
.fa-smile-o:before {
  content: "\f118";
}
.fa-frown-o:before {
  content: "\f119";
}
.fa-meh-o:before {
  content: "\f11a";
}
.fa-gamepad:before {
  content: "\f11b";
}
.fa-keyboard-o:before {
  content: "\f11c";
}
.fa-flag-o:before {
  content: "\f11d";
}
.fa-flag-checkered:before {
  content: "\f11e";
}
.fa-terminal:before {
  content: "\f120";
}
.fa-code:before {
  content: "\f121";
}
.fa-mail-reply-all:before,
.fa-reply-all:before {
  content: "\f122";
}
.fa-star-half-empty:before,
.fa-star-half-full:before,
.fa-star-half-o:before {
  content: "\f123";
}
.fa-location-arrow:before {
  content: "\f124";
}
.fa-crop:before {
  content: "\f125";
}
.fa-code-fork:before {
  content: "\f126";
}
.fa-unlink:before,
.fa-chain-broken:before {
  content: "\f127";
}
.fa-question:before {
  content: "\f128";
}
.fa-info:before {
  content: "\f129";
}
.fa-exclamation:before {
  content: "\f12a";
}
.fa-superscript:before {
  content: "\f12b";
}
.fa-subscript:before {
  content: "\f12c";
}
.fa-eraser:before {
  content: "\f12d";
}
.fa-puzzle-piece:before {
  content: "\f12e";
}
.fa-microphone:before {
  content: "\f130";
}
.fa-microphone-slash:before {
  content: "\f131";
}
.fa-shield:before {
  content: "\f132";
}
.fa-calendar-o:before {
  content: "\f133";
}
.fa-fire-extinguisher:before {
  content: "\f134";
}
.fa-rocket:before {
  content: "\f135";
}
.fa-maxcdn:before {
  content: "\f136";
}
.fa-chevron-circle-left:before {
  content: "\f137";
}
.fa-chevron-circle-right:before {
  content: "\f138";
}
.fa-chevron-circle-up:before {
  content: "\f139";
}
.fa-chevron-circle-down:before {
  content: "\f13a";
}
.fa-html5:before {
  content: "\f13b";
}
.fa-css3:before {
  content: "\f13c";
}
.fa-anchor:before {
  content: "\f13d";
}
.fa-unlock-alt:before {
  content: "\f13e";
}
.fa-bullseye:before {
  content: "\f140";
}
.fa-ellipsis-h:before {
  content: "\f141";
}
.fa-ellipsis-v:before {
  content: "\f142";
}
.fa-rss-square:before {
  content: "\f143";
}
.fa-play-circle:before {
  content: "\f144";
}
.fa-ticket:before {
  content: "\f145";
}
.fa-minus-square:before {
  content: "\f146";
}
.fa-minus-square-o:before {
  content: "\f147";
}
.fa-level-up:before {
  content: "\f148";
}
.fa-level-down:before {
  content: "\f149";
}
.fa-check-square:before {
  content: "\f14a";
}
.fa-pencil-square:before {
  content: "\f14b";
}
.fa-external-link-square:before {
  content: "\f14c";
}
.fa-share-square:before {
  content: "\f14d";
}
.fa-compass:before {
  content: "\f14e";
}
.fa-toggle-down:before,
.fa-caret-square-o-down:before {
  content: "\f150";
}
.fa-toggle-up:before,
.fa-caret-square-o-up:before {
  content: "\f151";
}
.fa-toggle-right:before,
.fa-caret-square-o-right:before {
  content: "\f152";
}
.fa-euro:before,
.fa-eur:before {
  content: "\f153";
}
.fa-gbp:before {
  content: "\f154";
}
.fa-dollar:before,
.fa-usd:before {
  content: "\f155";
}
.fa-rupee:before,
.fa-inr:before {
  content: "\f156";
}
.fa-cny:before,
.fa-rmb:before,
.fa-yen:before,
.fa-jpy:before {
  content: "\f157";
}
.fa-ruble:before,
.fa-rouble:before,
.fa-rub:before {
  content: "\f158";
}
.fa-won:before,
.fa-krw:before {
  content: "\f159";
}
.fa-bitcoin:before,
.fa-btc:before {
  content: "\f15a";
}
.fa-file:before {
  content: "\f15b";
}
.fa-file-text:before {
  content: "\f15c";
}
.fa-sort-alpha-asc:before {
  content: "\f15d";
}
.fa-sort-alpha-desc:before {
  content: "\f15e";
}
.fa-sort-amount-asc:before {
  content: "\f160";
}
.fa-sort-amount-desc:before {
  content: "\f161";
}
.fa-sort-numeric-asc:before {
  content: "\f162";
}
.fa-sort-numeric-desc:before {
  content: "\f163";
}
.fa-thumbs-up:before {
  content: "\f164";
}
.fa-thumbs-down:before {
  content: "\f165";
}
.fa-youtube-square:before {
  content: "\f166";
}
.fa-youtube:before {
  content: "\f167";
}
.fa-xing:before {
  content: "\f168";
}
.fa-xing-square:before {
  content: "\f169";
}
.fa-youtube-play:before {
  content: "\f16a";
}
.fa-dropbox:before {
  content: "\f16b";
}
.fa-stack-overflow:before {
  content: "\f16c";
}
.fa-instagram:before {
  content: "\f16d";
}
.fa-flickr:before {
  content: "\f16e";
}
.fa-adn:before {
  content: "\f170";
}
.fa-bitbucket:before {
  content: "\f171";
}
.fa-bitbucket-square:before {
  content: "\f172";
}
.fa-tumblr:before {
  content: "\f173";
}
.fa-tumblr-square:before {
  content: "\f174";
}
.fa-long-arrow-down:before {
  content: "\f175";
}
.fa-long-arrow-up:before {
  content: "\f176";
}
.fa-long-arrow-left:before {
  content: "\f177";
}
.fa-long-arrow-right:before {
  content: "\f178";
}
.fa-apple:before {
  content: "\f179";
}
.fa-windows:before {
  content: "\f17a";
}
.fa-android:before {
  content: "\f17b";
}
.fa-linux:before {
  content: "\f17c";
}
.fa-dribbble:before {
  content: "\f17d";
}
.fa-skype:before {
  content: "\f17e";
}
.fa-foursquare:before {
  content: "\f180";
}
.fa-trello:before {
  content: "\f181";
}
.fa-female:before {
  content: "\f182";
}
.fa-male:before {
  content: "\f183";
}
.fa-gittip:before {
  content: "\f184";
}
.fa-sun-o:before {
  content: "\f185";
}
.fa-moon-o:before {
  content: "\f186";
}
.fa-archive:before {
  content: "\f187";
}
.fa-bug:before {
  content: "\f188";
}
.fa-vk:before {
  content: "\f189";
}
.fa-weibo:before {
  content: "\f18a";
}
.fa-renren:before {
  content: "\f18b";
}
.fa-pagelines:before {
  content: "\f18c";
}
.fa-stack-exchange:before {
  content: "\f18d";
}
.fa-arrow-circle-o-right:before {
  content: "\f18e";
}
.fa-arrow-circle-o-left:before {
  content: "\f190";
}
.fa-toggle-left:before,
.fa-caret-square-o-left:before {
  content: "\f191";
}
.fa-dot-circle-o:before {
  content: "\f192";
}
.fa-wheelchair:before {
  content: "\f193";
}
.fa-vimeo-square:before {
  content: "\f194";
}
.fa-turkish-lira:before,
.fa-try:before {
  content: "\f195";
}
.fa-plus-square-o:before {
  content: "\f196";
}
.fa-space-shuttle:before {
  content: "\f197";
}
.fa-slack:before {
  content: "\f198";
}
.fa-envelope-square:before {
  content: "\f199";
}
.fa-wordpress:before {
  content: "\f19a";
}
.fa-openid:before {
  content: "\f19b";
}
.fa-institution:before,
.fa-bank:before,
.fa-university:before {
  content: "\f19c";
}
.fa-mortar-board:before,
.fa-graduation-cap:before {
  content: "\f19d";
}
.fa-yahoo:before {
  content: "\f19e";
}
.fa-google:before {
  content: "\f1a0";
}
.fa-reddit:before {
  content: "\f1a1";
}
.fa-reddit-square:before {
  content: "\f1a2";
}
.fa-stumbleupon-circle:before {
  content: "\f1a3";
}
.fa-stumbleupon:before {
  content: "\f1a4";
}
.fa-delicious:before {
  content: "\f1a5";
}
.fa-digg:before {
  content: "\f1a6";
}
.fa-pied-piper:before {
  content: "\f1a7";
}
.fa-pied-piper-alt:before {
  content: "\f1a8";
}
.fa-drupal:before {
  content: "\f1a9";
}
.fa-joomla:before {
  content: "\f1aa";
}
.fa-language:before {
  content: "\f1ab";
}
.fa-fax:before {
  content: "\f1ac";
}
.fa-building:before {
  content: "\f1ad";
}
.fa-child:before {
  content: "\f1ae";
}
.fa-paw:before {
  content: "\f1b0";
}
.fa-spoon:before {
  content: "\f1b1";
}
.fa-cube:before {
  content: "\f1b2";
}
.fa-cubes:before {
  content: "\f1b3";
}
.fa-behance:before {
  content: "\f1b4";
}
.fa-behance-square:before {
  content: "\f1b5";
}
.fa-steam:before {
  content: "\f1b6";
}
.fa-steam-square:before {
  content: "\f1b7";
}
.fa-recycle:before {
  content: "\f1b8";
}
.fa-automobile:before,
.fa-car:before {
  content: "\f1b9";
}
.fa-cab:before,
.fa-taxi:before {
  content: "\f1ba";
}
.fa-tree:before {
  content: "\f1bb";
}
.fa-spotify:before {
  content: "\f1bc";
}
.fa-deviantart:before {
  content: "\f1bd";
}
.fa-soundcloud:before {
  content: "\f1be";
}
.fa-database:before {
  content: "\f1c0";
}
.fa-file-pdf-o:before {
  content: "\f1c1";
}
.fa-file-word-o:before {
  content: "\f1c2";
}
.fa-file-excel-o:before {
  content: "\f1c3";
}
.fa-file-powerpoint-o:before {
  content: "\f1c4";
}
.fa-file-photo-o:before,
.fa-file-picture-o:before,
.fa-file-image-o:before {
  content: "\f1c5";
}
.fa-file-zip-o:before,
.fa-file-archive-o:before {
  content: "\f1c6";
}
.fa-file-sound-o:before,
.fa-file-audio-o:before {
  content: "\f1c7";
}
.fa-file-movie-o:before,
.fa-file-video-o:before {
  content: "\f1c8";
}
.fa-file-code-o:before {
  content: "\f1c9";
}
.fa-vine:before {
  content: "\f1ca";
}
.fa-codepen:before {
  content: "\f1cb";
}
.fa-jsfiddle:before {
  content: "\f1cc";
}
.fa-life-bouy:before,
.fa-life-buoy:before,
.fa-life-saver:before,
.fa-support:before,
.fa-life-ring:before {
  content: "\f1cd";
}
.fa-circle-o-notch:before {
  content: "\f1ce";
}
.fa-ra:before,
.fa-rebel:before {
  content: "\f1d0";
}
.fa-ge:before,
.fa-empire:before {
  content: "\f1d1";
}
.fa-git-square:before {
  content: "\f1d2";
}
.fa-git:before {
  content: "\f1d3";
}
.fa-hacker-news:before {
  content: "\f1d4";
}
.fa-tencent-weibo:before {
  content: "\f1d5";
}
.fa-qq:before {
  content: "\f1d6";
}
.fa-wechat:before,
.fa-weixin:before {
  content: "\f1d7";
}
.fa-send:before,
.fa-paper-plane:before {
  content: "\f1d8";
}
.fa-send-o:before,
.fa-paper-plane-o:before {
  content: "\f1d9";
}
.fa-history:before {
  content: "\f1da";
}
.fa-circle-thin:before {
  content: "\f1db";
}
.fa-header:before {
  content: "\f1dc";
}
.fa-paragraph:before {
  content: "\f1dd";
}
.fa-sliders:before {
  content: "\f1de";
}
.fa-share-alt:before {
  content: "\f1e0";
}
.fa-share-alt-square:before {
  content: "\f1e1";
}
.fa-bomb:before {
  content: "\f1e2";
}
.fa-soccer-ball-o:before,
.fa-futbol-o:before {
  content: "\f1e3";
}
.fa-tty:before {
  content: "\f1e4";
}
.fa-binoculars:before {
  content: "\f1e5";
}
.fa-plug:before {
  content: "\f1e6";
}
.fa-slideshare:before {
  content: "\f1e7";
}
.fa-twitch:before {
  content: "\f1e8";
}
.fa-yelp:before {
  content: "\f1e9";
}
.fa-newspaper-o:before {
  content: "\f1ea";
}
.fa-wifi:before {
  content: "\f1eb";
}
.fa-calculator:before {
  content: "\f1ec";
}
.fa-paypal:before {
  content: "\f1ed";
}
.fa-google-wallet:before {
  content: "\f1ee";
}
.fa-cc-visa:before {
  content: "\f1f0";
}
.fa-cc-mastercard:before {
  content: "\f1f1";
}
.fa-cc-discover:before {
  content: "\f1f2";
}
.fa-cc-amex:before {
  content: "\f1f3";
}
.fa-cc-paypal:before {
  content: "\f1f4";
}
.fa-cc-stripe:before {
  content: "\f1f5";
}
.fa-bell-slash:before {
  content: "\f1f6";
}
.fa-bell-slash-o:before {
  content: "\f1f7";
}
.fa-trash:before {
  content: "\f1f8";
}
.fa-copyright:before {
  content: "\f1f9";
}
.fa-at:before {
  content: "\f1fa";
}
.fa-eyedropper:before {
  content: "\f1fb";
}
.fa-paint-brush:before {
  content: "\f1fc";
}
.fa-birthday-cake:before {
  content: "\f1fd";
}
.fa-area-chart:before {
  content: "\f1fe";
}
.fa-pie-chart:before {
  content: "\f200";
}
.fa-line-chart:before {
  content: "\f201";
}
.fa-lastfm:before {
  content: "\f202";
}
.fa-lastfm-square:before {
  content: "\f203";
}
.fa-toggle-off:before {
  content: "\f204";
}
.fa-toggle-on:before {
  content: "\f205";
}
.fa-bicycle:before {
  content: "\f206";
}
.fa-bus:before {
  content: "\f207";
}
.fa-ioxhost:before {
  content: "\f208";
}
.fa-angellist:before {
  content: "\f209";
}
.fa-cc:before {
  content: "\f20a";
}
.fa-shekel:before,
.fa-sheqel:before,
.fa-ils:before {
  content: "\f20b";
}
.fa-meanpath:before {
  content: "\f20c";
}
/*!
*
* IPython base
*
*/
.modal.fade .modal-dialog {
  -webkit-transform: translate(0, 0);
  -ms-transform: translate(0, 0);
  -o-transform: translate(0, 0);
  transform: translate(0, 0);
}
code {
  color: #000;
}
pre {
  font-size: inherit;
  line-height: inherit;
}
label {
  font-weight: normal;
}
/* Make the page background atleast 100% the height of the view port */
/* Make the page itself atleast 70% the height of the view port */
.border-box-sizing {
  box-sizing: border-box;
  -moz-box-sizing: border-box;
  -webkit-box-sizing: border-box;
}
.corner-all {
  border-radius: 2px;
}
.no-padding {
  padding: 0px;
}
/* Flexible box model classes */
/* Taken from Alex Russell http://infrequently.org/2009/08/css-3-progress/ */
/* This file is a compatability layer.  It allows the usage of flexible box 
model layouts accross multiple browsers, including older browsers.  The newest,
universal implementation of the flexible box model is used when available (see
`Modern browsers` comments below).  Browsers that are known to implement this 
new spec completely include:

    Firefox 28.0+
    Chrome 29.0+
    Internet Explorer 11+ 
    Opera 17.0+

Browsers not listed, including Safari, are supported via the styling under the
`Old browsers` comments below.
*/
.hbox {
  /* Old browsers */
  display: -webkit-box;
  -webkit-box-orient: horizontal;
  -webkit-box-align: stretch;
  display: -moz-box;
  -moz-box-orient: horizontal;
  -moz-box-align: stretch;
  display: box;
  box-orient: horizontal;
  box-align: stretch;
  /* Modern browsers */
  display: flex;
  flex-direction: row;
  align-items: stretch;
}
.hbox > * {
  /* Old browsers */
  -webkit-box-flex: 0;
  -moz-box-flex: 0;
  box-flex: 0;
  /* Modern browsers */
  flex: none;
}
.vbox {
  /* Old browsers */
  display: -webkit-box;
  -webkit-box-orient: vertical;
  -webkit-box-align: stretch;
  display: -moz-box;
  -moz-box-orient: vertical;
  -moz-box-align: stretch;
  display: box;
  box-orient: vertical;
  box-align: stretch;
  /* Modern browsers */
  display: flex;
  flex-direction: column;
  align-items: stretch;
}
.vbox > * {
  /* Old browsers */
  -webkit-box-flex: 0;
  -moz-box-flex: 0;
  box-flex: 0;
  /* Modern browsers */
  flex: none;
}
.hbox.reverse,
.vbox.reverse,
.reverse {
  /* Old browsers */
  -webkit-box-direction: reverse;
  -moz-box-direction: reverse;
  box-direction: reverse;
  /* Modern browsers */
  flex-direction: row-reverse;
}
.hbox.box-flex0,
.vbox.box-flex0,
.box-flex0 {
  /* Old browsers */
  -webkit-box-flex: 0;
  -moz-box-flex: 0;
  box-flex: 0;
  /* Modern browsers */
  flex: none;
  width: auto;
}
.hbox.box-flex1,
.vbox.box-flex1,
.box-flex1 {
  /* Old browsers */
  -webkit-box-flex: 1;
  -moz-box-flex: 1;
  box-flex: 1;
  /* Modern browsers */
  flex: 1;
}
.hbox.box-flex,
.vbox.box-flex,
.box-flex {
  /* Old browsers */
  /* Old browsers */
  -webkit-box-flex: 1;
  -moz-box-flex: 1;
  box-flex: 1;
  /* Modern browsers */
  flex: 1;
}
.hbox.box-flex2,
.vbox.box-flex2,
.box-flex2 {
  /* Old browsers */
  -webkit-box-flex: 2;
  -moz-box-flex: 2;
  box-flex: 2;
  /* Modern browsers */
  flex: 2;
}
.box-group1 {
  /*  Deprecated */
  -webkit-box-flex-group: 1;
  -moz-box-flex-group: 1;
  box-flex-group: 1;
}
.box-group2 {
  /* Deprecated */
  -webkit-box-flex-group: 2;
  -moz-box-flex-group: 2;
  box-flex-group: 2;
}
.hbox.start,
.vbox.start,
.start {
  /* Old browsers */
  -webkit-box-pack: start;
  -moz-box-pack: start;
  box-pack: start;
  /* Modern browsers */
  justify-content: flex-start;
}
.hbox.end,
.vbox.end,
.end {
  /* Old browsers */
  -webkit-box-pack: end;
  -moz-box-pack: end;
  box-pack: end;
  /* Modern browsers */
  justify-content: flex-end;
}
.hbox.center,
.vbox.center,
.center {
  /* Old browsers */
  -webkit-box-pack: center;
  -moz-box-pack: center;
  box-pack: center;
  /* Modern browsers */
  justify-content: center;
}
.hbox.baseline,
.vbox.baseline,
.baseline {
  /* Old browsers */
  -webkit-box-pack: baseline;
  -moz-box-pack: baseline;
  box-pack: baseline;
  /* Modern browsers */
  justify-content: baseline;
}
.hbox.stretch,
.vbox.stretch,
.stretch {
  /* Old browsers */
  -webkit-box-pack: stretch;
  -moz-box-pack: stretch;
  box-pack: stretch;
  /* Modern browsers */
  justify-content: stretch;
}
.hbox.align-start,
.vbox.align-start,
.align-start {
  /* Old browsers */
  -webkit-box-align: start;
  -moz-box-align: start;
  box-align: start;
  /* Modern browsers */
  align-items: flex-start;
}
.hbox.align-end,
.vbox.align-end,
.align-end {
  /* Old browsers */
  -webkit-box-align: end;
  -moz-box-align: end;
  box-align: end;
  /* Modern browsers */
  align-items: flex-end;
}
.hbox.align-center,
.vbox.align-center,
.align-center {
  /* Old browsers */
  -webkit-box-align: center;
  -moz-box-align: center;
  box-align: center;
  /* Modern browsers */
  align-items: center;
}
.hbox.align-baseline,
.vbox.align-baseline,
.align-baseline {
  /* Old browsers */
  -webkit-box-align: baseline;
  -moz-box-align: baseline;
  box-align: baseline;
  /* Modern browsers */
  align-items: baseline;
}
.hbox.align-stretch,
.vbox.align-stretch,
.align-stretch {
  /* Old browsers */
  -webkit-box-align: stretch;
  -moz-box-align: stretch;
  box-align: stretch;
  /* Modern browsers */
  align-items: stretch;
}
div.error {
  margin: 2em;
  text-align: center;
}
div.error > h1 {
  font-size: 500%;
  line-height: normal;
}
div.error > p {
  font-size: 200%;
  line-height: normal;
}
div.traceback-wrapper {
  text-align: left;
  max-width: 800px;
  margin: auto;
}
/**
 * Primary styles
 *
 * Author: Jupyter Development Team
 */
body {
  background-color: #fff;
  /* This makes sure that the body covers the entire window and needs to
       be in a different element than the display: box in wrapper below */
  position: absolute;
  left: 0px;
  right: 0px;
  top: 0px;
  bottom: 0px;
  overflow: visible;
}
body > #header {
  /* Initially hidden to prevent FLOUC */
  display: none;
  background-color: #fff;
  /* Display over codemirror */
  position: relative;
  z-index: 100;
}
body > #header #header-container {
  padding-bottom: 5px;
  padding-top: 5px;
  box-sizing: border-box;
  -moz-box-sizing: border-box;
  -webkit-box-sizing: border-box;
}
body > #header .header-bar {
  width: 100%;
  height: 1px;
  background: #e7e7e7;
  margin-bottom: -1px;
}
@media print {
  body > #header {
    display: none !important;
  }
}
#header-spacer {
  width: 100%;
  visibility: hidden;
}
@media print {
  #header-spacer {
    display: none;
  }
}
#ipython_notebook {
  padding-left: 0px;
  padding-top: 1px;
  padding-bottom: 1px;
}
@media (max-width: 991px) {
  #ipython_notebook {
    margin-left: 10px;
  }
}
#noscript {
  width: auto;
  padding-top: 16px;
  padding-bottom: 16px;
  text-align: center;
  font-size: 22px;
  color: red;
  font-weight: bold;
}
#ipython_notebook img {
  height: 28px;
}
#site {
  width: 100%;
  display: none;
  box-sizing: border-box;
  -moz-box-sizing: border-box;
  -webkit-box-sizing: border-box;
  overflow: auto;
}
@media print {
  #site {
    height: auto !important;
  }
}
/* Smaller buttons */
.ui-button .ui-button-text {
  padding: 0.2em 0.8em;
  font-size: 77%;
}
input.ui-button {
  padding: 0.3em 0.9em;
}
span#login_widget {
  float: right;
}
span#login_widget > .button,
#logout {
  color: #333;
  background-color: #fff;
  border-color: #ccc;
}
span#login_widget > .button:focus,
#logout:focus,
span#login_widget > .button.focus,
#logout.focus {
  color: #333;
  background-color: #e6e6e6;
  border-color: #8c8c8c;
}
span#login_widget > .button:hover,
#logout:hover {
  color: #333;
  background-color: #e6e6e6;
  border-color: #adadad;
}
span#login_widget > .button:active,
#logout:active,
span#login_widget > .button.active,
#logout.active,
.open > .dropdown-togglespan#login_widget > .button,
.open > .dropdown-toggle#logout {
  color: #333;
  background-color: #e6e6e6;
  border-color: #adadad;
}
span#login_widget > .button:active:hover,
#logout:active:hover,
span#login_widget > .button.active:hover,
#logout.active:hover,
.open > .dropdown-togglespan#login_widget > .button:hover,
.open > .dropdown-toggle#logout:hover,
span#login_widget > .button:active:focus,
#logout:active:focus,
span#login_widget > .button.active:focus,
#logout.active:focus,
.open > .dropdown-togglespan#login_widget > .button:focus,
.open > .dropdown-toggle#logout:focus,
span#login_widget > .button:active.focus,
#logout:active.focus,
span#login_widget > .button.active.focus,
#logout.active.focus,
.open > .dropdown-togglespan#login_widget > .button.focus,
.open > .dropdown-toggle#logout.focus {
  color: #333;
  background-color: #d4d4d4;
  border-color: #8c8c8c;
}
span#login_widget > .button:active,
#logout:active,
span#login_widget > .button.active,
#logout.active,
.open > .dropdown-togglespan#login_widget > .button,
.open > .dropdown-toggle#logout {
  background-image: none;
}
span#login_widget > .button.disabled:hover,
#logout.disabled:hover,
span#login_widget > .button[disabled]:hover,
#logout[disabled]:hover,
fieldset[disabled] span#login_widget > .button:hover,
fieldset[disabled] #logout:hover,
span#login_widget > .button.disabled:focus,
#logout.disabled:focus,
span#login_widget > .button[disabled]:focus,
#logout[disabled]:focus,
fieldset[disabled] span#login_widget > .button:focus,
fieldset[disabled] #logout:focus,
span#login_widget > .button.disabled.focus,
#logout.disabled.focus,
span#login_widget > .button[disabled].focus,
#logout[disabled].focus,
fieldset[disabled] span#login_widget > .button.focus,
fieldset[disabled] #logout.focus {
  background-color: #fff;
  border-color: #ccc;
}
span#login_widget > .button .badge,
#logout .badge {
  color: #fff;
  background-color: #333;
}
.nav-header {
  text-transform: none;
}
#header > span {
  margin-top: 10px;
}
.modal_stretch .modal-dialog {
  /* Old browsers */
  display: -webkit-box;
  -webkit-box-orient: vertical;
  -webkit-box-align: stretch;
  display: -moz-box;
  -moz-box-orient: vertical;
  -moz-box-align: stretch;
  display: box;
  box-orient: vertical;
  box-align: stretch;
  /* Modern browsers */
  display: flex;
  flex-direction: column;
  align-items: stretch;
  min-height: 80vh;
}
.modal_stretch .modal-dialog .modal-body {
  max-height: calc(100vh - 200px);
  overflow: auto;
  flex: 1;
}
@media (min-width: 768px) {
  .modal .modal-dialog {
    width: 700px;
  }
}
@media (min-width: 768px) {
  select.form-control {
    margin-left: 12px;
    margin-right: 12px;
  }
}
/*!
*
* IPython auth
*
*/
.center-nav {
  display: inline-block;
  margin-bottom: -4px;
}
/*!
*
* IPython tree view
*
*/
/* We need an invisible input field on top of the sentense*/
/* "Drag file onto the list ..." */
.alternate_upload {
  background-color: none;
  display: inline;
}
.alternate_upload.form {
  padding: 0;
  margin: 0;
}
.alternate_upload input.fileinput {
  text-align: center;
  vertical-align: middle;
  display: inline;
  opacity: 0;
  z-index: 2;
  width: 12ex;
  margin-right: -12ex;
}
.alternate_upload .btn-upload {
  height: 22px;
}
/**
 * Primary styles
 *
 * Author: Jupyter Development Team
 */
ul#tabs {
  margin-bottom: 4px;
}
ul#tabs a {
  padding-top: 6px;
  padding-bottom: 4px;
}
ul.breadcrumb a:focus,
ul.breadcrumb a:hover {
  text-decoration: none;
}
ul.breadcrumb i.icon-home {
  font-size: 16px;
  margin-right: 4px;
}
ul.breadcrumb span {
  color: #5e5e5e;
}
.list_toolbar {
  padding: 4px 0 4px 0;
  vertical-align: middle;
}
.list_toolbar .tree-buttons {
  padding-top: 1px;
}
.dynamic-buttons {
  padding-top: 3px;
  display: inline-block;
}
.list_toolbar [class*="span"] {
  min-height: 24px;
}
.list_header {
  font-weight: bold;
  background-color: #EEE;
}
.list_placeholder {
  font-weight: bold;
  padding-top: 4px;
  padding-bottom: 4px;
  padding-left: 7px;
  padding-right: 7px;
}
.list_container {
  margin-top: 4px;
  margin-bottom: 20px;
  border: 1px solid #ddd;
  border-radius: 2px;
}
.list_container > div {
  border-bottom: 1px solid #ddd;
}
.list_container > div:hover .list-item {
  background-color: red;
}
.list_container > div:last-child {
  border: none;
}
.list_item:hover .list_item {
  background-color: #ddd;
}
.list_item a {
  text-decoration: none;
}
.list_item:hover {
  background-color: #fafafa;
}
.list_header > div,
.list_item > div {
  padding-top: 4px;
  padding-bottom: 4px;
  padding-left: 7px;
  padding-right: 7px;
  line-height: 22px;
}
.list_header > div input,
.list_item > div input {
  margin-right: 7px;
  margin-left: 14px;
  vertical-align: baseline;
  line-height: 22px;
  position: relative;
  top: -1px;
}
.list_header > div .item_link,
.list_item > div .item_link {
  margin-left: -1px;
  vertical-align: baseline;
  line-height: 22px;
}
.new-file input[type=checkbox] {
  visibility: hidden;
}
.item_name {
  line-height: 22px;
  height: 24px;
}
.item_icon {
  font-size: 14px;
  color: #5e5e5e;
  margin-right: 7px;
  margin-left: 7px;
  line-height: 22px;
  vertical-align: baseline;
}
.item_buttons {
  line-height: 1em;
  margin-left: -5px;
}
.item_buttons .btn,
.item_buttons .btn-group,
.item_buttons .input-group {
  float: left;
}
.item_buttons > .btn,
.item_buttons > .btn-group,
.item_buttons > .input-group {
  margin-left: 5px;
}
.item_buttons .btn {
  min-width: 13ex;
}
.item_buttons .running-indicator {
  padding-top: 4px;
  color: #5cb85c;
}
.item_buttons .kernel-name {
  padding-top: 4px;
  color: #5bc0de;
  margin-right: 7px;
  float: left;
}
.toolbar_info {
  height: 24px;
  line-height: 24px;
}
.list_item input:not([type=checkbox]) {
  padding-top: 3px;
  padding-bottom: 3px;
  height: 22px;
  line-height: 14px;
  margin: 0px;
}
.highlight_text {
  color: blue;
}
#project_name {
  display: inline-block;
  padding-left: 7px;
  margin-left: -2px;
}
#project_name > .breadcrumb {
  padding: 0px;
  margin-bottom: 0px;
  background-color: transparent;
  font-weight: bold;
}
#tree-selector {
  padding-right: 0px;
}
#button-select-all {
  min-width: 50px;
}
#select-all {
  margin-left: 7px;
  margin-right: 2px;
}
.menu_icon {
  margin-right: 2px;
}
.tab-content .row {
  margin-left: 0px;
  margin-right: 0px;
}
.folder_icon:before {
  display: inline-block;
  font: normal normal normal 14px/1 FontAwesome;
  font-size: inherit;
  text-rendering: auto;
  -webkit-font-smoothing: antialiased;
  -moz-osx-font-smoothing: grayscale;
  content: "\f114";
}
.folder_icon:before.pull-left {
  margin-right: .3em;
}
.folder_icon:before.pull-right {
  margin-left: .3em;
}
.notebook_icon:before {
  display: inline-block;
  font: normal normal normal 14px/1 FontAwesome;
  font-size: inherit;
  text-rendering: auto;
  -webkit-font-smoothing: antialiased;
  -moz-osx-font-smoothing: grayscale;
  content: "\f02d";
  position: relative;
  top: -1px;
}
.notebook_icon:before.pull-left {
  margin-right: .3em;
}
.notebook_icon:before.pull-right {
  margin-left: .3em;
}
.running_notebook_icon:before {
  display: inline-block;
  font: normal normal normal 14px/1 FontAwesome;
  font-size: inherit;
  text-rendering: auto;
  -webkit-font-smoothing: antialiased;
  -moz-osx-font-smoothing: grayscale;
  content: "\f02d";
  position: relative;
  top: -1px;
  color: #5cb85c;
}
.running_notebook_icon:before.pull-left {
  margin-right: .3em;
}
.running_notebook_icon:before.pull-right {
  margin-left: .3em;
}
.file_icon:before {
  display: inline-block;
  font: normal normal normal 14px/1 FontAwesome;
  font-size: inherit;
  text-rendering: auto;
  -webkit-font-smoothing: antialiased;
  -moz-osx-font-smoothing: grayscale;
  content: "\f016";
  position: relative;
  top: -2px;
}
.file_icon:before.pull-left {
  margin-right: .3em;
}
.file_icon:before.pull-right {
  margin-left: .3em;
}
#notebook_toolbar .pull-right {
  padding-top: 0px;
  margin-right: -1px;
}
ul#new-menu {
  left: auto;
  right: 0;
}
.kernel-menu-icon {
  padding-right: 12px;
  width: 24px;
  content: "\f096";
}
.kernel-menu-icon:before {
  content: "\f096";
}
.kernel-menu-icon-current:before {
  content: "\f00c";
}
#tab_content {
  padding-top: 20px;
}
#running .panel-group .panel {
  margin-top: 3px;
  margin-bottom: 1em;
}
#running .panel-group .panel .panel-heading {
  background-color: #EEE;
  padding-top: 4px;
  padding-bottom: 4px;
  padding-left: 7px;
  padding-right: 7px;
  line-height: 22px;
}
#running .panel-group .panel .panel-heading a:focus,
#running .panel-group .panel .panel-heading a:hover {
  text-decoration: none;
}
#running .panel-group .panel .panel-body {
  padding: 0px;
}
#running .panel-group .panel .panel-body .list_container {
  margin-top: 0px;
  margin-bottom: 0px;
  border: 0px;
  border-radius: 0px;
}
#running .panel-group .panel .panel-body .list_container .list_item {
  border-bottom: 1px solid #ddd;
}
#running .panel-group .panel .panel-body .list_container .list_item:last-child {
  border-bottom: 0px;
}
.delete-button {
  display: none;
}
.duplicate-button {
  display: none;
}
.rename-button {
  display: none;
}
.shutdown-button {
  display: none;
}
.dynamic-instructions {
  display: inline-block;
  padding-top: 4px;
}
/*!
*
* IPython text editor webapp
*
*/
.selected-keymap i.fa {
  padding: 0px 5px;
}
.selected-keymap i.fa:before {
  content: "\f00c";
}
#mode-menu {
  overflow: auto;
  max-height: 20em;
}
.edit_app #header {
  -webkit-box-shadow: 0px 0px 12px 1px rgba(87, 87, 87, 0.2);
  box-shadow: 0px 0px 12px 1px rgba(87, 87, 87, 0.2);
}
.edit_app #menubar .navbar {
  /* Use a negative 1 bottom margin, so the border overlaps the border of the
    header */
  margin-bottom: -1px;
}
.dirty-indicator {
  display: inline-block;
  font: normal normal normal 14px/1 FontAwesome;
  font-size: inherit;
  text-rendering: auto;
  -webkit-font-smoothing: antialiased;
  -moz-osx-font-smoothing: grayscale;
  width: 20px;
}
.dirty-indicator.pull-left {
  margin-right: .3em;
}
.dirty-indicator.pull-right {
  margin-left: .3em;
}
.dirty-indicator-dirty {
  display: inline-block;
  font: normal normal normal 14px/1 FontAwesome;
  font-size: inherit;
  text-rendering: auto;
  -webkit-font-smoothing: antialiased;
  -moz-osx-font-smoothing: grayscale;
  width: 20px;
}
.dirty-indicator-dirty.pull-left {
  margin-right: .3em;
}
.dirty-indicator-dirty.pull-right {
  margin-left: .3em;
}
.dirty-indicator-clean {
  display: inline-block;
  font: normal normal normal 14px/1 FontAwesome;
  font-size: inherit;
  text-rendering: auto;
  -webkit-font-smoothing: antialiased;
  -moz-osx-font-smoothing: grayscale;
  width: 20px;
}
.dirty-indicator-clean.pull-left {
  margin-right: .3em;
}
.dirty-indicator-clean.pull-right {
  margin-left: .3em;
}
.dirty-indicator-clean:before {
  display: inline-block;
  font: normal normal normal 14px/1 FontAwesome;
  font-size: inherit;
  text-rendering: auto;
  -webkit-font-smoothing: antialiased;
  -moz-osx-font-smoothing: grayscale;
  content: "\f00c";
}
.dirty-indicator-clean:before.pull-left {
  margin-right: .3em;
}
.dirty-indicator-clean:before.pull-right {
  margin-left: .3em;
}
#filename {
  font-size: 16pt;
  display: table;
  padding: 0px 5px;
}
#current-mode {
  padding-left: 5px;
  padding-right: 5px;
}
#texteditor-backdrop {
  padding-top: 20px;
  padding-bottom: 20px;
}
@media not print {
  #texteditor-backdrop {
    background-color: #EEE;
  }
}
@media print {
  #texteditor-backdrop #texteditor-container .CodeMirror-gutter,
  #texteditor-backdrop #texteditor-container .CodeMirror-gutters {
    background-color: #fff;
  }
}
@media not print {
  #texteditor-backdrop #texteditor-container .CodeMirror-gutter,
  #texteditor-backdrop #texteditor-container .CodeMirror-gutters {
    background-color: #fff;
  }
}
@media not print {
  #texteditor-backdrop #texteditor-container {
    padding: 0px;
    background-color: #fff;
    -webkit-box-shadow: 0px 0px 12px 1px rgba(87, 87, 87, 0.2);
    box-shadow: 0px 0px 12px 1px rgba(87, 87, 87, 0.2);
  }
}
/*!
*
* IPython notebook
*
*/
/* CSS font colors for translated ANSI colors. */
.ansibold {
  font-weight: bold;
}
/* use dark versions for foreground, to improve visibility */
.ansiblack {
  color: black;
}
.ansired {
  color: darkred;
}
.ansigreen {
  color: darkgreen;
}
.ansiyellow {
  color: #c4a000;
}
.ansiblue {
  color: darkblue;
}
.ansipurple {
  color: darkviolet;
}
.ansicyan {
  color: steelblue;
}
.ansigray {
  color: gray;
}
/* and light for background, for the same reason */
.ansibgblack {
  background-color: black;
}
.ansibgred {
  background-color: red;
}
.ansibggreen {
  background-color: green;
}
.ansibgyellow {
  background-color: yellow;
}
.ansibgblue {
  background-color: blue;
}
.ansibgpurple {
  background-color: magenta;
}
.ansibgcyan {
  background-color: cyan;
}
.ansibggray {
  background-color: gray;
}
div.cell {
  /* Old browsers */
  display: -webkit-box;
  -webkit-box-orient: vertical;
  -webkit-box-align: stretch;
  display: -moz-box;
  -moz-box-orient: vertical;
  -moz-box-align: stretch;
  display: box;
  box-orient: vertical;
  box-align: stretch;
  /* Modern browsers */
  display: flex;
  flex-direction: column;
  align-items: stretch;
  border-radius: 2px;
  box-sizing: border-box;
  -moz-box-sizing: border-box;
  -webkit-box-sizing: border-box;
  border-width: 1px;
  border-style: solid;
  border-color: transparent;
  width: 100%;
  padding: 5px;
  /* This acts as a spacer between cells, that is outside the border */
  margin: 0px;
  outline: none;
  border-left-width: 1px;
  padding-left: 5px;
  background: linear-gradient(to right, transparent -40px, transparent 1px, transparent 1px, transparent 100%);
}
div.cell.jupyter-soft-selected {
  border-left-color: #90CAF9;
  border-left-color: #E3F2FD;
  border-left-width: 1px;
  padding-left: 5px;
  border-right-color: #E3F2FD;
  border-right-width: 1px;
  background: #E3F2FD;
}
@media print {
  div.cell.jupyter-soft-selected {
    border-color: transparent;
  }
}
div.cell.selected {
  border-color: #ababab;
  border-left-width: 0px;
  padding-left: 6px;
  background: linear-gradient(to right, #42A5F5 -40px, #42A5F5 5px, transparent 5px, transparent 100%);
}
@media print {
  div.cell.selected {
    border-color: transparent;
  }
}
div.cell.selected.jupyter-soft-selected {
  border-left-width: 0;
  padding-left: 6px;
  background: linear-gradient(to right, #42A5F5 -40px, #42A5F5 7px, #E3F2FD 7px, #E3F2FD 100%);
}
.edit_mode div.cell.selected {
  border-color: #66BB6A;
  border-left-width: 0px;
  padding-left: 6px;
  background: linear-gradient(to right, #66BB6A -40px, #66BB6A 5px, transparent 5px, transparent 100%);
}
@media print {
  .edit_mode div.cell.selected {
    border-color: transparent;
  }
}
.prompt {
  /* This needs to be wide enough for 3 digit prompt numbers: In[100]: */
  min-width: 14ex;
  /* This padding is tuned to match the padding on the CodeMirror editor. */
  padding: 0.4em;
  margin: 0px;
  font-family: monospace;
  text-align: right;
  /* This has to match that of the the CodeMirror class line-height below */
  line-height: 1.21429em;
  /* Don't highlight prompt number selection */
  -webkit-touch-callout: none;
  -webkit-user-select: none;
  -khtml-user-select: none;
  -moz-user-select: none;
  -ms-user-select: none;
  user-select: none;
  /* Use default cursor */
  cursor: default;
}
@media (max-width: 540px) {
  .prompt {
    text-align: left;
  }
}
div.inner_cell {
  /* Old browsers */
  display: -webkit-box;
  -webkit-box-orient: vertical;
  -webkit-box-align: stretch;
  display: -moz-box;
  -moz-box-orient: vertical;
  -moz-box-align: stretch;
  display: box;
  box-orient: vertical;
  box-align: stretch;
  /* Modern browsers */
  display: flex;
  flex-direction: column;
  align-items: stretch;
  /* Old browsers */
  -webkit-box-flex: 1;
  -moz-box-flex: 1;
  box-flex: 1;
  /* Modern browsers */
  flex: 1;
}
@-moz-document url-prefix() {
  div.inner_cell {
    overflow-x: hidden;
  }
}
/* input_area and input_prompt must match in top border and margin for alignment */
div.input_area {
  border: 1px solid #cfcfcf;
  border-radius: 2px;
  background: #f7f7f7;
  line-height: 1.21429em;
}
/* This is needed so that empty prompt areas can collapse to zero height when there
   is no content in the output_subarea and the prompt. The main purpose of this is
   to make sure that empty JavaScript output_subareas have no height. */
div.prompt:empty {
  padding-top: 0;
  padding-bottom: 0;
}
div.unrecognized_cell {
  padding: 5px 5px 5px 0px;
  /* Old browsers */
  display: -webkit-box;
  -webkit-box-orient: horizontal;
  -webkit-box-align: stretch;
  display: -moz-box;
  -moz-box-orient: horizontal;
  -moz-box-align: stretch;
  display: box;
  box-orient: horizontal;
  box-align: stretch;
  /* Modern browsers */
  display: flex;
  flex-direction: row;
  align-items: stretch;
}
div.unrecognized_cell .inner_cell {
  border-radius: 2px;
  padding: 5px;
  font-weight: bold;
  color: red;
  border: 1px solid #cfcfcf;
  background: #eaeaea;
}
div.unrecognized_cell .inner_cell a {
  color: inherit;
  text-decoration: none;
}
div.unrecognized_cell .inner_cell a:hover {
  color: inherit;
  text-decoration: none;
}
@media (max-width: 540px) {
  div.unrecognized_cell > div.prompt {
    display: none;
  }
}
div.code_cell {
  /* avoid page breaking on code cells when printing */
}
@media print {
  div.code_cell {
    page-break-inside: avoid;
  }
}
/* any special styling for code cells that are currently running goes here */
div.input {
  page-break-inside: avoid;
  /* Old browsers */
  display: -webkit-box;
  -webkit-box-orient: horizontal;
  -webkit-box-align: stretch;
  display: -moz-box;
  -moz-box-orient: horizontal;
  -moz-box-align: stretch;
  display: box;
  box-orient: horizontal;
  box-align: stretch;
  /* Modern browsers */
  display: flex;
  flex-direction: row;
  align-items: stretch;
}
@media (max-width: 540px) {
  div.input {
    /* Old browsers */
    display: -webkit-box;
    -webkit-box-orient: vertical;
    -webkit-box-align: stretch;
    display: -moz-box;
    -moz-box-orient: vertical;
    -moz-box-align: stretch;
    display: box;
    box-orient: vertical;
    box-align: stretch;
    /* Modern browsers */
    display: flex;
    flex-direction: column;
    align-items: stretch;
  }
}
/* input_area and input_prompt must match in top border and margin for alignment */
div.input_prompt {
  color: #303F9F;
  border-top: 1px solid transparent;
}
div.input_area > div.highlight {
  margin: 0.4em;
  border: none;
  padding: 0px;
  background-color: transparent;
}
div.input_area > div.highlight > pre {
  margin: 0px;
  border: none;
  padding: 0px;
  background-color: transparent;
}
/* The following gets added to the <head> if it is detected that the user has a
 * monospace font with inconsistent normal/bold/italic height.  See
 * notebookmain.js.  Such fonts will have keywords vertically offset with
 * respect to the rest of the text.  The user should select a better font.
 * See: https://github.com/ipython/ipython/issues/1503
 *
 * .CodeMirror span {
 *      vertical-align: bottom;
 * }
 */
.CodeMirror {
  line-height: 1.21429em;
  /* Changed from 1em to our global default */
  font-size: 14px;
  height: auto;
  /* Changed to auto to autogrow */
  background: none;
  /* Changed from white to allow our bg to show through */
}
.CodeMirror-scroll {
  /*  The CodeMirror docs are a bit fuzzy on if overflow-y should be hidden or visible.*/
  /*  We have found that if it is visible, vertical scrollbars appear with font size changes.*/
  overflow-y: hidden;
  overflow-x: auto;
}
.CodeMirror-lines {
  /* In CM2, this used to be 0.4em, but in CM3 it went to 4px. We need the em value because */
  /* we have set a different line-height and want this to scale with that. */
  padding: 0.4em;
}
.CodeMirror-linenumber {
  padding: 0 8px 0 4px;
}
.CodeMirror-gutters {
  border-bottom-left-radius: 2px;
  border-top-left-radius: 2px;
}
.CodeMirror pre {
  /* In CM3 this went to 4px from 0 in CM2. We need the 0 value because of how we size */
  /* .CodeMirror-lines */
  padding: 0;
  border: 0;
  border-radius: 0;
}
/*

Original style from softwaremaniacs.org (c) Ivan Sagalaev <Maniac@SoftwareManiacs.Org>
Adapted from GitHub theme

*/
.highlight-base {
  color: #000;
}
.highlight-variable {
  color: #000;
}
.highlight-variable-2 {
  color: #1a1a1a;
}
.highlight-variable-3 {
  color: #333333;
}
.highlight-string {
  color: #BA2121;
}
.highlight-comment {
  color: #408080;
  font-style: italic;
}
.highlight-number {
  color: #080;
}
.highlight-atom {
  color: #88F;
}
.highlight-keyword {
  color: #008000;
  font-weight: bold;
}
.highlight-builtin {
  color: #008000;
}
.highlight-error {
  color: #f00;
}
.highlight-operator {
  color: #AA22FF;
  font-weight: bold;
}
.highlight-meta {
  color: #AA22FF;
}
/* previously not defined, copying from default codemirror */
.highlight-def {
  color: #00f;
}
.highlight-string-2 {
  color: #f50;
}
.highlight-qualifier {
  color: #555;
}
.highlight-bracket {
  color: #997;
}
.highlight-tag {
  color: #170;
}
.highlight-attribute {
  color: #00c;
}
.highlight-header {
  color: blue;
}
.highlight-quote {
  color: #090;
}
.highlight-link {
  color: #00c;
}
/* apply the same style to codemirror */
.cm-s-ipython span.cm-keyword {
  color: #008000;
  font-weight: bold;
}
.cm-s-ipython span.cm-atom {
  color: #88F;
}
.cm-s-ipython span.cm-number {
  color: #080;
}
.cm-s-ipython span.cm-def {
  color: #00f;
}
.cm-s-ipython span.cm-variable {
  color: #000;
}
.cm-s-ipython span.cm-operator {
  color: #AA22FF;
  font-weight: bold;
}
.cm-s-ipython span.cm-variable-2 {
  color: #1a1a1a;
}
.cm-s-ipython span.cm-variable-3 {
  color: #333333;
}
.cm-s-ipython span.cm-comment {
  color: #408080;
  font-style: italic;
}
.cm-s-ipython span.cm-string {
  color: #BA2121;
}
.cm-s-ipython span.cm-string-2 {
  color: #f50;
}
.cm-s-ipython span.cm-meta {
  color: #AA22FF;
}
.cm-s-ipython span.cm-qualifier {
  color: #555;
}
.cm-s-ipython span.cm-builtin {
  color: #008000;
}
.cm-s-ipython span.cm-bracket {
  color: #997;
}
.cm-s-ipython span.cm-tag {
  color: #170;
}
.cm-s-ipython span.cm-attribute {
  color: #00c;
}
.cm-s-ipython span.cm-header {
  color: blue;
}
.cm-s-ipython span.cm-quote {
  color: #090;
}
.cm-s-ipython span.cm-link {
  color: #00c;
}
.cm-s-ipython span.cm-error {
  color: #f00;
}
.cm-s-ipython span.cm-tab {
  background: url(data:image/png;base64,iVBORw0KGgoAAAANSUhEUgAAADAAAAAMCAYAAAAkuj5RAAAAAXNSR0IArs4c6QAAAGFJREFUSMft1LsRQFAQheHPowAKoACx3IgEKtaEHujDjORSgWTH/ZOdnZOcM/sgk/kFFWY0qV8foQwS4MKBCS3qR6ixBJvElOobYAtivseIE120FaowJPN75GMu8j/LfMwNjh4HUpwg4LUAAAAASUVORK5CYII=);
  background-position: right;
  background-repeat: no-repeat;
}
div.output_wrapper {
  /* this position must be relative to enable descendents to be absolute within it */
  position: relative;
  /* Old browsers */
  display: -webkit-box;
  -webkit-box-orient: vertical;
  -webkit-box-align: stretch;
  display: -moz-box;
  -moz-box-orient: vertical;
  -moz-box-align: stretch;
  display: box;
  box-orient: vertical;
  box-align: stretch;
  /* Modern browsers */
  display: flex;
  flex-direction: column;
  align-items: stretch;
  z-index: 1;
}
/* class for the output area when it should be height-limited */
div.output_scroll {
  /* ideally, this would be max-height, but FF barfs all over that */
  height: 24em;
  /* FF needs this *and the wrapper* to specify full width, or it will shrinkwrap */
  width: 100%;
  overflow: auto;
  border-radius: 2px;
  -webkit-box-shadow: inset 0 2px 8px rgba(0, 0, 0, 0.8);
  box-shadow: inset 0 2px 8px rgba(0, 0, 0, 0.8);
  display: block;
}
/* output div while it is collapsed */
div.output_collapsed {
  margin: 0px;
  padding: 0px;
  /* Old browsers */
  display: -webkit-box;
  -webkit-box-orient: vertical;
  -webkit-box-align: stretch;
  display: -moz-box;
  -moz-box-orient: vertical;
  -moz-box-align: stretch;
  display: box;
  box-orient: vertical;
  box-align: stretch;
  /* Modern browsers */
  display: flex;
  flex-direction: column;
  align-items: stretch;
}
div.out_prompt_overlay {
  height: 100%;
  padding: 0px 0.4em;
  position: absolute;
  border-radius: 2px;
}
div.out_prompt_overlay:hover {
  /* use inner shadow to get border that is computed the same on WebKit/FF */
  -webkit-box-shadow: inset 0 0 1px #000;
  box-shadow: inset 0 0 1px #000;
  background: rgba(240, 240, 240, 0.5);
}
div.output_prompt {
  color: #D84315;
}
/* This class is the outer container of all output sections. */
div.output_area {
  padding: 0px;
  page-break-inside: avoid;
  /* Old browsers */
  display: -webkit-box;
  -webkit-box-orient: horizontal;
  -webkit-box-align: stretch;
  display: -moz-box;
  -moz-box-orient: horizontal;
  -moz-box-align: stretch;
  display: box;
  box-orient: horizontal;
  box-align: stretch;
  /* Modern browsers */
  display: flex;
  flex-direction: row;
  align-items: stretch;
}
div.output_area .MathJax_Display {
  text-align: left !important;
}
div.output_area .rendered_html table {
  margin-left: 0;
  margin-right: 0;
}
div.output_area .rendered_html img {
  margin-left: 0;
  margin-right: 0;
}
div.output_area img,
div.output_area svg {
  max-width: 100%;
  height: auto;
}
div.output_area img.unconfined,
div.output_area svg.unconfined {
  max-width: none;
}
/* This is needed to protect the pre formating from global settings such
   as that of bootstrap */
.output {
  /* Old browsers */
  display: -webkit-box;
  -webkit-box-orient: vertical;
  -webkit-box-align: stretch;
  display: -moz-box;
  -moz-box-orient: vertical;
  -moz-box-align: stretch;
  display: box;
  box-orient: vertical;
  box-align: stretch;
  /* Modern browsers */
  display: flex;
  flex-direction: column;
  align-items: stretch;
}
@media (max-width: 540px) {
  div.output_area {
    /* Old browsers */
    display: -webkit-box;
    -webkit-box-orient: vertical;
    -webkit-box-align: stretch;
    display: -moz-box;
    -moz-box-orient: vertical;
    -moz-box-align: stretch;
    display: box;
    box-orient: vertical;
    box-align: stretch;
    /* Modern browsers */
    display: flex;
    flex-direction: column;
    align-items: stretch;
  }
}
div.output_area pre {
  margin: 0;
  padding: 0;
  border: 0;
  vertical-align: baseline;
  color: black;
  background-color: transparent;
  border-radius: 0;
}
/* This class is for the output subarea inside the output_area and after
   the prompt div. */
div.output_subarea {
  overflow-x: auto;
  padding: 0.4em;
  /* Old browsers */
  -webkit-box-flex: 1;
  -moz-box-flex: 1;
  box-flex: 1;
  /* Modern browsers */
  flex: 1;
  max-width: calc(100% - 14ex);
}
div.output_scroll div.output_subarea {
  overflow-x: visible;
}
/* The rest of the output_* classes are for special styling of the different
   output types */
/* all text output has this class: */
div.output_text {
  text-align: left;
  color: #000;
  /* This has to match that of the the CodeMirror class line-height below */
  line-height: 1.21429em;
}
/* stdout/stderr are 'text' as well as 'stream', but execute_result/error are *not* streams */
div.output_stderr {
  background: #fdd;
  /* very light red background for stderr */
}
div.output_latex {
  text-align: left;
}
/* Empty output_javascript divs should have no height */
div.output_javascript:empty {
  padding: 0;
}
.js-error {
  color: darkred;
}
/* raw_input styles */
div.raw_input_container {
  line-height: 1.21429em;
  padding-top: 5px;
}
pre.raw_input_prompt {
  /* nothing needed here. */
}
input.raw_input {
  font-family: monospace;
  font-size: inherit;
  color: inherit;
  width: auto;
  /* make sure input baseline aligns with prompt */
  vertical-align: baseline;
  /* padding + margin = 0.5em between prompt and cursor */
  padding: 0em 0.25em;
  margin: 0em 0.25em;
}
input.raw_input:focus {
  box-shadow: none;
}
p.p-space {
  margin-bottom: 10px;
}
div.output_unrecognized {
  padding: 5px;
  font-weight: bold;
  color: red;
}
div.output_unrecognized a {
  color: inherit;
  text-decoration: none;
}
div.output_unrecognized a:hover {
  color: inherit;
  text-decoration: none;
}
.rendered_html {
  color: #000;
  /* any extras will just be numbers: */
}
.rendered_html em {
  font-style: italic;
}
.rendered_html strong {
  font-weight: bold;
}
.rendered_html u {
  text-decoration: underline;
}
.rendered_html :link {
  text-decoration: underline;
}
.rendered_html :visited {
  text-decoration: underline;
}
.rendered_html h1 {
  font-size: 185.7%;
  margin: 1.08em 0 0 0;
  font-weight: bold;
  line-height: 1.0;
}
.rendered_html h2 {
  font-size: 157.1%;
  margin: 1.27em 0 0 0;
  font-weight: bold;
  line-height: 1.0;
}
.rendered_html h3 {
  font-size: 128.6%;
  margin: 1.55em 0 0 0;
  font-weight: bold;
  line-height: 1.0;
}
.rendered_html h4 {
  font-size: 100%;
  margin: 2em 0 0 0;
  font-weight: bold;
  line-height: 1.0;
}
.rendered_html h5 {
  font-size: 100%;
  margin: 2em 0 0 0;
  font-weight: bold;
  line-height: 1.0;
  font-style: italic;
}
.rendered_html h6 {
  font-size: 100%;
  margin: 2em 0 0 0;
  font-weight: bold;
  line-height: 1.0;
  font-style: italic;
}
.rendered_html h1:first-child {
  margin-top: 0.538em;
}
.rendered_html h2:first-child {
  margin-top: 0.636em;
}
.rendered_html h3:first-child {
  margin-top: 0.777em;
}
.rendered_html h4:first-child {
  margin-top: 1em;
}
.rendered_html h5:first-child {
  margin-top: 1em;
}
.rendered_html h6:first-child {
  margin-top: 1em;
}
.rendered_html ul {
  list-style: disc;
  margin: 0em 2em;
  padding-left: 0px;
}
.rendered_html ul ul {
  list-style: square;
  margin: 0em 2em;
}
.rendered_html ul ul ul {
  list-style: circle;
  margin: 0em 2em;
}
.rendered_html ol {
  list-style: decimal;
  margin: 0em 2em;
  padding-left: 0px;
}
.rendered_html ol ol {
  list-style: upper-alpha;
  margin: 0em 2em;
}
.rendered_html ol ol ol {
  list-style: lower-alpha;
  margin: 0em 2em;
}
.rendered_html ol ol ol ol {
  list-style: lower-roman;
  margin: 0em 2em;
}
.rendered_html ol ol ol ol ol {
  list-style: decimal;
  margin: 0em 2em;
}
.rendered_html * + ul {
  margin-top: 1em;
}
.rendered_html * + ol {
  margin-top: 1em;
}
.rendered_html hr {
  color: black;
  background-color: black;
}
.rendered_html pre {
  margin: 1em 2em;
}
.rendered_html pre,
.rendered_html code {
  border: 0;
  background-color: #fff;
  color: #000;
  font-size: 100%;
  padding: 0px;
}
.rendered_html blockquote {
  margin: 1em 2em;
}
.rendered_html table {
  margin-left: auto;
  margin-right: auto;
  border: 1px solid black;
  border-collapse: collapse;
}
.rendered_html tr,
.rendered_html th,
.rendered_html td {
  border: 1px solid black;
  border-collapse: collapse;
  margin: 1em 2em;
}
.rendered_html td,
.rendered_html th {
  text-align: left;
  vertical-align: middle;
  padding: 4px;
}
.rendered_html th {
  font-weight: bold;
}
.rendered_html * + table {
  margin-top: 1em;
}
.rendered_html p {
  text-align: left;
}
.rendered_html * + p {
  margin-top: 1em;
}
.rendered_html img {
  display: block;
  margin-left: auto;
  margin-right: auto;
}
.rendered_html * + img {
  margin-top: 1em;
}
.rendered_html img,
.rendered_html svg {
  max-width: 100%;
  height: auto;
}
.rendered_html img.unconfined,
.rendered_html svg.unconfined {
  max-width: none;
}
div.text_cell {
  /* Old browsers */
  display: -webkit-box;
  -webkit-box-orient: horizontal;
  -webkit-box-align: stretch;
  display: -moz-box;
  -moz-box-orient: horizontal;
  -moz-box-align: stretch;
  display: box;
  box-orient: horizontal;
  box-align: stretch;
  /* Modern browsers */
  display: flex;
  flex-direction: row;
  align-items: stretch;
}
@media (max-width: 540px) {
  div.text_cell > div.prompt {
    display: none;
  }
}
div.text_cell_render {
  /*font-family: "Helvetica Neue", Arial, Helvetica, Geneva, sans-serif;*/
  outline: none;
  resize: none;
  width: inherit;
  border-style: none;
  padding: 0.5em 0.5em 0.5em 0.4em;
  color: #000;
  box-sizing: border-box;
  -moz-box-sizing: border-box;
  -webkit-box-sizing: border-box;
}
a.anchor-link:link {
  text-decoration: none;
  padding: 0px 20px;
  visibility: hidden;
}
h1:hover .anchor-link,
h2:hover .anchor-link,
h3:hover .anchor-link,
h4:hover .anchor-link,
h5:hover .anchor-link,
h6:hover .anchor-link {
  visibility: visible;
}
.text_cell.rendered .input_area {
  display: none;
}
.text_cell.rendered .rendered_html {
  overflow-x: auto;
  overflow-y: hidden;
}
.text_cell.unrendered .text_cell_render {
  display: none;
}
.cm-header-1,
.cm-header-2,
.cm-header-3,
.cm-header-4,
.cm-header-5,
.cm-header-6 {
  font-weight: bold;
  font-family: "Helvetica Neue", Helvetica, Arial, sans-serif;
}
.cm-header-1 {
  font-size: 185.7%;
}
.cm-header-2 {
  font-size: 157.1%;
}
.cm-header-3 {
  font-size: 128.6%;
}
.cm-header-4 {
  font-size: 110%;
}
.cm-header-5 {
  font-size: 100%;
  font-style: italic;
}
.cm-header-6 {
  font-size: 100%;
  font-style: italic;
}
/*!
*
* IPython notebook webapp
*
*/
@media (max-width: 767px) {
  .notebook_app {
    padding-left: 0px;
    padding-right: 0px;
  }
}
#ipython-main-app {
  box-sizing: border-box;
  -moz-box-sizing: border-box;
  -webkit-box-sizing: border-box;
  height: 100%;
}
div#notebook_panel {
  margin: 0px;
  padding: 0px;
  box-sizing: border-box;
  -moz-box-sizing: border-box;
  -webkit-box-sizing: border-box;
  height: 100%;
}
div#notebook {
  font-size: 14px;
  line-height: 20px;
  overflow-y: hidden;
  overflow-x: auto;
  width: 100%;
  /* This spaces the page away from the edge of the notebook area */
  padding-top: 20px;
  margin: 0px;
  outline: none;
  box-sizing: border-box;
  -moz-box-sizing: border-box;
  -webkit-box-sizing: border-box;
  min-height: 100%;
}
@media not print {
  #notebook-container {
    padding: 15px;
    background-color: #fff;
    min-height: 0;
    -webkit-box-shadow: 0px 0px 12px 1px rgba(87, 87, 87, 0.2);
    box-shadow: 0px 0px 12px 1px rgba(87, 87, 87, 0.2);
  }
}
@media print {
  #notebook-container {
    width: 100%;
  }
}
div.ui-widget-content {
  border: 1px solid #ababab;
  outline: none;
}
pre.dialog {
  background-color: #f7f7f7;
  border: 1px solid #ddd;
  border-radius: 2px;
  padding: 0.4em;
  padding-left: 2em;
}
p.dialog {
  padding: 0.2em;
}
/* Word-wrap output correctly.  This is the CSS3 spelling, though Firefox seems
   to not honor it correctly.  Webkit browsers (Chrome, rekonq, Safari) do.
 */
pre,
code,
kbd,
samp {
  white-space: pre-wrap;
}
#fonttest {
  font-family: monospace;
}
p {
  margin-bottom: 0;
}
.end_space {
  min-height: 100px;
  transition: height .2s ease;
}
.notebook_app > #header {
  -webkit-box-shadow: 0px 0px 12px 1px rgba(87, 87, 87, 0.2);
  box-shadow: 0px 0px 12px 1px rgba(87, 87, 87, 0.2);
}
@media not print {
  .notebook_app {
    background-color: #EEE;
  }
}
kbd {
  border-style: solid;
  border-width: 1px;
  box-shadow: none;
  margin: 2px;
  padding-left: 2px;
  padding-right: 2px;
  padding-top: 1px;
  padding-bottom: 1px;
}
/* CSS for the cell toolbar */
.celltoolbar {
  border: thin solid #CFCFCF;
  border-bottom: none;
  background: #EEE;
  border-radius: 2px 2px 0px 0px;
  width: 100%;
  height: 29px;
  padding-right: 4px;
  /* Old browsers */
  display: -webkit-box;
  -webkit-box-orient: horizontal;
  -webkit-box-align: stretch;
  display: -moz-box;
  -moz-box-orient: horizontal;
  -moz-box-align: stretch;
  display: box;
  box-orient: horizontal;
  box-align: stretch;
  /* Modern browsers */
  display: flex;
  flex-direction: row;
  align-items: stretch;
  /* Old browsers */
  -webkit-box-pack: end;
  -moz-box-pack: end;
  box-pack: end;
  /* Modern browsers */
  justify-content: flex-end;
  display: -webkit-flex;
}
@media print {
  .celltoolbar {
    display: none;
  }
}
.ctb_hideshow {
  display: none;
  vertical-align: bottom;
}
/* ctb_show is added to the ctb_hideshow div to show the cell toolbar.
   Cell toolbars are only shown when the ctb_global_show class is also set.
*/
.ctb_global_show .ctb_show.ctb_hideshow {
  display: block;
}
.ctb_global_show .ctb_show + .input_area,
.ctb_global_show .ctb_show + div.text_cell_input,
.ctb_global_show .ctb_show ~ div.text_cell_render {
  border-top-right-radius: 0px;
  border-top-left-radius: 0px;
}
.ctb_global_show .ctb_show ~ div.text_cell_render {
  border: 1px solid #cfcfcf;
}
.celltoolbar {
  font-size: 87%;
  padding-top: 3px;
}
.celltoolbar select {
  display: block;
  width: 100%;
  height: 32px;
  padding: 6px 12px;
  font-size: 13px;
  line-height: 1.42857143;
  color: #555555;
  background-color: #fff;
  background-image: none;
  border: 1px solid #ccc;
  border-radius: 2px;
  -webkit-box-shadow: inset 0 1px 1px rgba(0, 0, 0, 0.075);
  box-shadow: inset 0 1px 1px rgba(0, 0, 0, 0.075);
  -webkit-transition: border-color ease-in-out .15s, box-shadow ease-in-out .15s;
  -o-transition: border-color ease-in-out .15s, box-shadow ease-in-out .15s;
  transition: border-color ease-in-out .15s, box-shadow ease-in-out .15s;
  height: 30px;
  padding: 5px 10px;
  font-size: 12px;
  line-height: 1.5;
  border-radius: 1px;
  width: inherit;
  font-size: inherit;
  height: 22px;
  padding: 0px;
  display: inline-block;
}
.celltoolbar select:focus {
  border-color: #66afe9;
  outline: 0;
  -webkit-box-shadow: inset 0 1px 1px rgba(0,0,0,.075), 0 0 8px rgba(102, 175, 233, 0.6);
  box-shadow: inset 0 1px 1px rgba(0,0,0,.075), 0 0 8px rgba(102, 175, 233, 0.6);
}
.celltoolbar select::-moz-placeholder {
  color: #999;
  opacity: 1;
}
.celltoolbar select:-ms-input-placeholder {
  color: #999;
}
.celltoolbar select::-webkit-input-placeholder {
  color: #999;
}
.celltoolbar select::-ms-expand {
  border: 0;
  background-color: transparent;
}
.celltoolbar select[disabled],
.celltoolbar select[readonly],
fieldset[disabled] .celltoolbar select {
  background-color: #eeeeee;
  opacity: 1;
}
.celltoolbar select[disabled],
fieldset[disabled] .celltoolbar select {
  cursor: not-allowed;
}
textarea.celltoolbar select {
  height: auto;
}
select.celltoolbar select {
  height: 30px;
  line-height: 30px;
}
textarea.celltoolbar select,
select[multiple].celltoolbar select {
  height: auto;
}
.celltoolbar label {
  margin-left: 5px;
  margin-right: 5px;
}
.completions {
  position: absolute;
  z-index: 110;
  overflow: hidden;
  border: 1px solid #ababab;
  border-radius: 2px;
  -webkit-box-shadow: 0px 6px 10px -1px #adadad;
  box-shadow: 0px 6px 10px -1px #adadad;
  line-height: 1;
}
.completions select {
  background: white;
  outline: none;
  border: none;
  padding: 0px;
  margin: 0px;
  overflow: auto;
  font-family: monospace;
  font-size: 110%;
  color: #000;
  width: auto;
}
.completions select option.context {
  color: #286090;
}
#kernel_logo_widget {
  float: right !important;
  float: right;
}
#kernel_logo_widget .current_kernel_logo {
  display: none;
  margin-top: -1px;
  margin-bottom: -1px;
  width: 32px;
  height: 32px;
}
#menubar {
  box-sizing: border-box;
  -moz-box-sizing: border-box;
  -webkit-box-sizing: border-box;
  margin-top: 1px;
}
#menubar .navbar {
  border-top: 1px;
  border-radius: 0px 0px 2px 2px;
  margin-bottom: 0px;
}
#menubar .navbar-toggle {
  float: left;
  padding-top: 7px;
  padding-bottom: 7px;
  border: none;
}
#menubar .navbar-collapse {
  clear: left;
}
.nav-wrapper {
  border-bottom: 1px solid #e7e7e7;
}
i.menu-icon {
  padding-top: 4px;
}
ul#help_menu li a {
  overflow: hidden;
  padding-right: 2.2em;
}
ul#help_menu li a i {
  margin-right: -1.2em;
}
.dropdown-submenu {
  position: relative;
}
.dropdown-submenu > .dropdown-menu {
  top: 0;
  left: 100%;
  margin-top: -6px;
  margin-left: -1px;
}
.dropdown-submenu:hover > .dropdown-menu {
  display: block;
}
.dropdown-submenu > a:after {
  display: inline-block;
  font: normal normal normal 14px/1 FontAwesome;
  font-size: inherit;
  text-rendering: auto;
  -webkit-font-smoothing: antialiased;
  -moz-osx-font-smoothing: grayscale;
  display: block;
  content: "\f0da";
  float: right;
  color: #333333;
  margin-top: 2px;
  margin-right: -10px;
}
.dropdown-submenu > a:after.pull-left {
  margin-right: .3em;
}
.dropdown-submenu > a:after.pull-right {
  margin-left: .3em;
}
.dropdown-submenu:hover > a:after {
  color: #262626;
}
.dropdown-submenu.pull-left {
  float: none;
}
.dropdown-submenu.pull-left > .dropdown-menu {
  left: -100%;
  margin-left: 10px;
}
#notification_area {
  float: right !important;
  float: right;
  z-index: 10;
}
.indicator_area {
  float: right !important;
  float: right;
  color: #777;
  margin-left: 5px;
  margin-right: 5px;
  width: 11px;
  z-index: 10;
  text-align: center;
  width: auto;
}
#kernel_indicator {
  float: right !important;
  float: right;
  color: #777;
  margin-left: 5px;
  margin-right: 5px;
  width: 11px;
  z-index: 10;
  text-align: center;
  width: auto;
  border-left: 1px solid;
}
#kernel_indicator .kernel_indicator_name {
  padding-left: 5px;
  padding-right: 5px;
}
#modal_indicator {
  float: right !important;
  float: right;
  color: #777;
  margin-left: 5px;
  margin-right: 5px;
  width: 11px;
  z-index: 10;
  text-align: center;
  width: auto;
}
#readonly-indicator {
  float: right !important;
  float: right;
  color: #777;
  margin-left: 5px;
  margin-right: 5px;
  width: 11px;
  z-index: 10;
  text-align: center;
  width: auto;
  margin-top: 2px;
  margin-bottom: 0px;
  margin-left: 0px;
  margin-right: 0px;
  display: none;
}
.modal_indicator:before {
  width: 1.28571429em;
  text-align: center;
}
.edit_mode .modal_indicator:before {
  display: inline-block;
  font: normal normal normal 14px/1 FontAwesome;
  font-size: inherit;
  text-rendering: auto;
  -webkit-font-smoothing: antialiased;
  -moz-osx-font-smoothing: grayscale;
  content: "\f040";
}
.edit_mode .modal_indicator:before.pull-left {
  margin-right: .3em;
}
.edit_mode .modal_indicator:before.pull-right {
  margin-left: .3em;
}
.command_mode .modal_indicator:before {
  display: inline-block;
  font: normal normal normal 14px/1 FontAwesome;
  font-size: inherit;
  text-rendering: auto;
  -webkit-font-smoothing: antialiased;
  -moz-osx-font-smoothing: grayscale;
  content: ' ';
}
.command_mode .modal_indicator:before.pull-left {
  margin-right: .3em;
}
.command_mode .modal_indicator:before.pull-right {
  margin-left: .3em;
}
.kernel_idle_icon:before {
  display: inline-block;
  font: normal normal normal 14px/1 FontAwesome;
  font-size: inherit;
  text-rendering: auto;
  -webkit-font-smoothing: antialiased;
  -moz-osx-font-smoothing: grayscale;
  content: "\f10c";
}
.kernel_idle_icon:before.pull-left {
  margin-right: .3em;
}
.kernel_idle_icon:before.pull-right {
  margin-left: .3em;
}
.kernel_busy_icon:before {
  display: inline-block;
  font: normal normal normal 14px/1 FontAwesome;
  font-size: inherit;
  text-rendering: auto;
  -webkit-font-smoothing: antialiased;
  -moz-osx-font-smoothing: grayscale;
  content: "\f111";
}
.kernel_busy_icon:before.pull-left {
  margin-right: .3em;
}
.kernel_busy_icon:before.pull-right {
  margin-left: .3em;
}
.kernel_dead_icon:before {
  display: inline-block;
  font: normal normal normal 14px/1 FontAwesome;
  font-size: inherit;
  text-rendering: auto;
  -webkit-font-smoothing: antialiased;
  -moz-osx-font-smoothing: grayscale;
  content: "\f1e2";
}
.kernel_dead_icon:before.pull-left {
  margin-right: .3em;
}
.kernel_dead_icon:before.pull-right {
  margin-left: .3em;
}
.kernel_disconnected_icon:before {
  display: inline-block;
  font: normal normal normal 14px/1 FontAwesome;
  font-size: inherit;
  text-rendering: auto;
  -webkit-font-smoothing: antialiased;
  -moz-osx-font-smoothing: grayscale;
  content: "\f127";
}
.kernel_disconnected_icon:before.pull-left {
  margin-right: .3em;
}
.kernel_disconnected_icon:before.pull-right {
  margin-left: .3em;
}
.notification_widget {
  color: #777;
  z-index: 10;
  background: rgba(240, 240, 240, 0.5);
  margin-right: 4px;
  color: #333;
  background-color: #fff;
  border-color: #ccc;
}
.notification_widget:focus,
.notification_widget.focus {
  color: #333;
  background-color: #e6e6e6;
  border-color: #8c8c8c;
}
.notification_widget:hover {
  color: #333;
  background-color: #e6e6e6;
  border-color: #adadad;
}
.notification_widget:active,
.notification_widget.active,
.open > .dropdown-toggle.notification_widget {
  color: #333;
  background-color: #e6e6e6;
  border-color: #adadad;
}
.notification_widget:active:hover,
.notification_widget.active:hover,
.open > .dropdown-toggle.notification_widget:hover,
.notification_widget:active:focus,
.notification_widget.active:focus,
.open > .dropdown-toggle.notification_widget:focus,
.notification_widget:active.focus,
.notification_widget.active.focus,
.open > .dropdown-toggle.notification_widget.focus {
  color: #333;
  background-color: #d4d4d4;
  border-color: #8c8c8c;
}
.notification_widget:active,
.notification_widget.active,
.open > .dropdown-toggle.notification_widget {
  background-image: none;
}
.notification_widget.disabled:hover,
.notification_widget[disabled]:hover,
fieldset[disabled] .notification_widget:hover,
.notification_widget.disabled:focus,
.notification_widget[disabled]:focus,
fieldset[disabled] .notification_widget:focus,
.notification_widget.disabled.focus,
.notification_widget[disabled].focus,
fieldset[disabled] .notification_widget.focus {
  background-color: #fff;
  border-color: #ccc;
}
.notification_widget .badge {
  color: #fff;
  background-color: #333;
}
.notification_widget.warning {
  color: #fff;
  background-color: #f0ad4e;
  border-color: #eea236;
}
.notification_widget.warning:focus,
.notification_widget.warning.focus {
  color: #fff;
  background-color: #ec971f;
  border-color: #985f0d;
}
.notification_widget.warning:hover {
  color: #fff;
  background-color: #ec971f;
  border-color: #d58512;
}
.notification_widget.warning:active,
.notification_widget.warning.active,
.open > .dropdown-toggle.notification_widget.warning {
  color: #fff;
  background-color: #ec971f;
  border-color: #d58512;
}
.notification_widget.warning:active:hover,
.notification_widget.warning.active:hover,
.open > .dropdown-toggle.notification_widget.warning:hover,
.notification_widget.warning:active:focus,
.notification_widget.warning.active:focus,
.open > .dropdown-toggle.notification_widget.warning:focus,
.notification_widget.warning:active.focus,
.notification_widget.warning.active.focus,
.open > .dropdown-toggle.notification_widget.warning.focus {
  color: #fff;
  background-color: #d58512;
  border-color: #985f0d;
}
.notification_widget.warning:active,
.notification_widget.warning.active,
.open > .dropdown-toggle.notification_widget.warning {
  background-image: none;
}
.notification_widget.warning.disabled:hover,
.notification_widget.warning[disabled]:hover,
fieldset[disabled] .notification_widget.warning:hover,
.notification_widget.warning.disabled:focus,
.notification_widget.warning[disabled]:focus,
fieldset[disabled] .notification_widget.warning:focus,
.notification_widget.warning.disabled.focus,
.notification_widget.warning[disabled].focus,
fieldset[disabled] .notification_widget.warning.focus {
  background-color: #f0ad4e;
  border-color: #eea236;
}
.notification_widget.warning .badge {
  color: #f0ad4e;
  background-color: #fff;
}
.notification_widget.success {
  color: #fff;
  background-color: #5cb85c;
  border-color: #4cae4c;
}
.notification_widget.success:focus,
.notification_widget.success.focus {
  color: #fff;
  background-color: #449d44;
  border-color: #255625;
}
.notification_widget.success:hover {
  color: #fff;
  background-color: #449d44;
  border-color: #398439;
}
.notification_widget.success:active,
.notification_widget.success.active,
.open > .dropdown-toggle.notification_widget.success {
  color: #fff;
  background-color: #449d44;
  border-color: #398439;
}
.notification_widget.success:active:hover,
.notification_widget.success.active:hover,
.open > .dropdown-toggle.notification_widget.success:hover,
.notification_widget.success:active:focus,
.notification_widget.success.active:focus,
.open > .dropdown-toggle.notification_widget.success:focus,
.notification_widget.success:active.focus,
.notification_widget.success.active.focus,
.open > .dropdown-toggle.notification_widget.success.focus {
  color: #fff;
  background-color: #398439;
  border-color: #255625;
}
.notification_widget.success:active,
.notification_widget.success.active,
.open > .dropdown-toggle.notification_widget.success {
  background-image: none;
}
.notification_widget.success.disabled:hover,
.notification_widget.success[disabled]:hover,
fieldset[disabled] .notification_widget.success:hover,
.notification_widget.success.disabled:focus,
.notification_widget.success[disabled]:focus,
fieldset[disabled] .notification_widget.success:focus,
.notification_widget.success.disabled.focus,
.notification_widget.success[disabled].focus,
fieldset[disabled] .notification_widget.success.focus {
  background-color: #5cb85c;
  border-color: #4cae4c;
}
.notification_widget.success .badge {
  color: #5cb85c;
  background-color: #fff;
}
.notification_widget.info {
  color: #fff;
  background-color: #5bc0de;
  border-color: #46b8da;
}
.notification_widget.info:focus,
.notification_widget.info.focus {
  color: #fff;
  background-color: #31b0d5;
  border-color: #1b6d85;
}
.notification_widget.info:hover {
  color: #fff;
  background-color: #31b0d5;
  border-color: #269abc;
}
.notification_widget.info:active,
.notification_widget.info.active,
.open > .dropdown-toggle.notification_widget.info {
  color: #fff;
  background-color: #31b0d5;
  border-color: #269abc;
}
.notification_widget.info:active:hover,
.notification_widget.info.active:hover,
.open > .dropdown-toggle.notification_widget.info:hover,
.notification_widget.info:active:focus,
.notification_widget.info.active:focus,
.open > .dropdown-toggle.notification_widget.info:focus,
.notification_widget.info:active.focus,
.notification_widget.info.active.focus,
.open > .dropdown-toggle.notification_widget.info.focus {
  color: #fff;
  background-color: #269abc;
  border-color: #1b6d85;
}
.notification_widget.info:active,
.notification_widget.info.active,
.open > .dropdown-toggle.notification_widget.info {
  background-image: none;
}
.notification_widget.info.disabled:hover,
.notification_widget.info[disabled]:hover,
fieldset[disabled] .notification_widget.info:hover,
.notification_widget.info.disabled:focus,
.notification_widget.info[disabled]:focus,
fieldset[disabled] .notification_widget.info:focus,
.notification_widget.info.disabled.focus,
.notification_widget.info[disabled].focus,
fieldset[disabled] .notification_widget.info.focus {
  background-color: #5bc0de;
  border-color: #46b8da;
}
.notification_widget.info .badge {
  color: #5bc0de;
  background-color: #fff;
}
.notification_widget.danger {
  color: #fff;
  background-color: #d9534f;
  border-color: #d43f3a;
}
.notification_widget.danger:focus,
.notification_widget.danger.focus {
  color: #fff;
  background-color: #c9302c;
  border-color: #761c19;
}
.notification_widget.danger:hover {
  color: #fff;
  background-color: #c9302c;
  border-color: #ac2925;
}
.notification_widget.danger:active,
.notification_widget.danger.active,
.open > .dropdown-toggle.notification_widget.danger {
  color: #fff;
  background-color: #c9302c;
  border-color: #ac2925;
}
.notification_widget.danger:active:hover,
.notification_widget.danger.active:hover,
.open > .dropdown-toggle.notification_widget.danger:hover,
.notification_widget.danger:active:focus,
.notification_widget.danger.active:focus,
.open > .dropdown-toggle.notification_widget.danger:focus,
.notification_widget.danger:active.focus,
.notification_widget.danger.active.focus,
.open > .dropdown-toggle.notification_widget.danger.focus {
  color: #fff;
  background-color: #ac2925;
  border-color: #761c19;
}
.notification_widget.danger:active,
.notification_widget.danger.active,
.open > .dropdown-toggle.notification_widget.danger {
  background-image: none;
}
.notification_widget.danger.disabled:hover,
.notification_widget.danger[disabled]:hover,
fieldset[disabled] .notification_widget.danger:hover,
.notification_widget.danger.disabled:focus,
.notification_widget.danger[disabled]:focus,
fieldset[disabled] .notification_widget.danger:focus,
.notification_widget.danger.disabled.focus,
.notification_widget.danger[disabled].focus,
fieldset[disabled] .notification_widget.danger.focus {
  background-color: #d9534f;
  border-color: #d43f3a;
}
.notification_widget.danger .badge {
  color: #d9534f;
  background-color: #fff;
}
div#pager {
  background-color: #fff;
  font-size: 14px;
  line-height: 20px;
  overflow: hidden;
  display: none;
  position: fixed;
  bottom: 0px;
  width: 100%;
  max-height: 50%;
  padding-top: 8px;
  -webkit-box-shadow: 0px 0px 12px 1px rgba(87, 87, 87, 0.2);
  box-shadow: 0px 0px 12px 1px rgba(87, 87, 87, 0.2);
  /* Display over codemirror */
  z-index: 100;
  /* Hack which prevents jquery ui resizable from changing top. */
  top: auto !important;
}
div#pager pre {
  line-height: 1.21429em;
  color: #000;
  background-color: #f7f7f7;
  padding: 0.4em;
}
div#pager #pager-button-area {
  position: absolute;
  top: 8px;
  right: 20px;
}
div#pager #pager-contents {
  position: relative;
  overflow: auto;
  width: 100%;
  height: 100%;
}
div#pager #pager-contents #pager-container {
  position: relative;
  padding: 15px 0px;
  box-sizing: border-box;
  -moz-box-sizing: border-box;
  -webkit-box-sizing: border-box;
}
div#pager .ui-resizable-handle {
  top: 0px;
  height: 8px;
  background: #f7f7f7;
  border-top: 1px solid #cfcfcf;
  border-bottom: 1px solid #cfcfcf;
  /* This injects handle bars (a short, wide = symbol) for 
        the resize handle. */
}
div#pager .ui-resizable-handle::after {
  content: '';
  top: 2px;
  left: 50%;
  height: 3px;
  width: 30px;
  margin-left: -15px;
  position: absolute;
  border-top: 1px solid #cfcfcf;
}
.quickhelp {
  /* Old browsers */
  display: -webkit-box;
  -webkit-box-orient: horizontal;
  -webkit-box-align: stretch;
  display: -moz-box;
  -moz-box-orient: horizontal;
  -moz-box-align: stretch;
  display: box;
  box-orient: horizontal;
  box-align: stretch;
  /* Modern browsers */
  display: flex;
  flex-direction: row;
  align-items: stretch;
  line-height: 1.8em;
}
.shortcut_key {
  display: inline-block;
  width: 20ex;
  text-align: right;
  font-family: monospace;
}
.shortcut_descr {
  display: inline-block;
  /* Old browsers */
  -webkit-box-flex: 1;
  -moz-box-flex: 1;
  box-flex: 1;
  /* Modern browsers */
  flex: 1;
}
span.save_widget {
  margin-top: 6px;
}
span.save_widget span.filename {
  height: 1em;
  line-height: 1em;
  padding: 3px;
  margin-left: 16px;
  border: none;
  font-size: 146.5%;
  border-radius: 2px;
}
span.save_widget span.filename:hover {
  background-color: #e6e6e6;
}
span.checkpoint_status,
span.autosave_status {
  font-size: small;
}
@media (max-width: 767px) {
  span.save_widget {
    font-size: small;
  }
  span.checkpoint_status,
  span.autosave_status {
    display: none;
  }
}
@media (min-width: 768px) and (max-width: 991px) {
  span.checkpoint_status {
    display: none;
  }
  span.autosave_status {
    font-size: x-small;
  }
}
.toolbar {
  padding: 0px;
  margin-left: -5px;
  margin-top: 2px;
  margin-bottom: 5px;
  box-sizing: border-box;
  -moz-box-sizing: border-box;
  -webkit-box-sizing: border-box;
}
.toolbar select,
.toolbar label {
  width: auto;
  vertical-align: middle;
  margin-right: 2px;
  margin-bottom: 0px;
  display: inline;
  font-size: 92%;
  margin-left: 0.3em;
  margin-right: 0.3em;
  padding: 0px;
  padding-top: 3px;
}
.toolbar .btn {
  padding: 2px 8px;
}
.toolbar .btn-group {
  margin-top: 0px;
  margin-left: 5px;
}
#maintoolbar {
  margin-bottom: -3px;
  margin-top: -8px;
  border: 0px;
  min-height: 27px;
  margin-left: 0px;
  padding-top: 11px;
  padding-bottom: 3px;
}
#maintoolbar .navbar-text {
  float: none;
  vertical-align: middle;
  text-align: right;
  margin-left: 5px;
  margin-right: 0px;
  margin-top: 0px;
}
.select-xs {
  height: 24px;
}
.pulse,
.dropdown-menu > li > a.pulse,
li.pulse > a.dropdown-toggle,
li.pulse.open > a.dropdown-toggle {
  background-color: #F37626;
  color: white;
}
/**
 * Primary styles
 *
 * Author: Jupyter Development Team
 */
/** WARNING IF YOU ARE EDITTING THIS FILE, if this is a .css file, It has a lot
 * of chance of beeing generated from the ../less/[samename].less file, you can
 * try to get back the less file by reverting somme commit in history
 **/
/*
 * We'll try to get something pretty, so we
 * have some strange css to have the scroll bar on
 * the left with fix button on the top right of the tooltip
 */
@-moz-keyframes fadeOut {
  from {
    opacity: 1;
  }
  to {
    opacity: 0;
  }
}
@-webkit-keyframes fadeOut {
  from {
    opacity: 1;
  }
  to {
    opacity: 0;
  }
}
@-moz-keyframes fadeIn {
  from {
    opacity: 0;
  }
  to {
    opacity: 1;
  }
}
@-webkit-keyframes fadeIn {
  from {
    opacity: 0;
  }
  to {
    opacity: 1;
  }
}
/*properties of tooltip after "expand"*/
.bigtooltip {
  overflow: auto;
  height: 200px;
  -webkit-transition-property: height;
  -webkit-transition-duration: 500ms;
  -moz-transition-property: height;
  -moz-transition-duration: 500ms;
  transition-property: height;
  transition-duration: 500ms;
}
/*properties of tooltip before "expand"*/
.smalltooltip {
  -webkit-transition-property: height;
  -webkit-transition-duration: 500ms;
  -moz-transition-property: height;
  -moz-transition-duration: 500ms;
  transition-property: height;
  transition-duration: 500ms;
  text-overflow: ellipsis;
  overflow: hidden;
  height: 80px;
}
.tooltipbuttons {
  position: absolute;
  padding-right: 15px;
  top: 0px;
  right: 0px;
}
.tooltiptext {
  /*avoid the button to overlap on some docstring*/
  padding-right: 30px;
}
.ipython_tooltip {
  max-width: 700px;
  /*fade-in animation when inserted*/
  -webkit-animation: fadeOut 400ms;
  -moz-animation: fadeOut 400ms;
  animation: fadeOut 400ms;
  -webkit-animation: fadeIn 400ms;
  -moz-animation: fadeIn 400ms;
  animation: fadeIn 400ms;
  vertical-align: middle;
  background-color: #f7f7f7;
  overflow: visible;
  border: #ababab 1px solid;
  outline: none;
  padding: 3px;
  margin: 0px;
  padding-left: 7px;
  font-family: monospace;
  min-height: 50px;
  -moz-box-shadow: 0px 6px 10px -1px #adadad;
  -webkit-box-shadow: 0px 6px 10px -1px #adadad;
  box-shadow: 0px 6px 10px -1px #adadad;
  border-radius: 2px;
  position: absolute;
  z-index: 1000;
}
.ipython_tooltip a {
  float: right;
}
.ipython_tooltip .tooltiptext pre {
  border: 0;
  border-radius: 0;
  font-size: 100%;
  background-color: #f7f7f7;
}
.pretooltiparrow {
  left: 0px;
  margin: 0px;
  top: -16px;
  width: 40px;
  height: 16px;
  overflow: hidden;
  position: absolute;
}
.pretooltiparrow:before {
  background-color: #f7f7f7;
  border: 1px #ababab solid;
  z-index: 11;
  content: "";
  position: absolute;
  left: 15px;
  top: 10px;
  width: 25px;
  height: 25px;
  -webkit-transform: rotate(45deg);
  -moz-transform: rotate(45deg);
  -ms-transform: rotate(45deg);
  -o-transform: rotate(45deg);
}
ul.typeahead-list i {
  margin-left: -10px;
  width: 18px;
}
ul.typeahead-list {
  max-height: 80vh;
  overflow: auto;
}
ul.typeahead-list > li > a {
  /** Firefox bug **/
  /* see https://github.com/jupyter/notebook/issues/559 */
  white-space: normal;
}
.cmd-palette .modal-body {
  padding: 7px;
}
.cmd-palette form {
  background: white;
}
.cmd-palette input {
  outline: none;
}
.no-shortcut {
  display: none;
}
.command-shortcut:before {
  content: "(command)";
  padding-right: 3px;
  color: #777777;
}
.edit-shortcut:before {
  content: "(edit)";
  padding-right: 3px;
  color: #777777;
}
#find-and-replace #replace-preview .match,
#find-and-replace #replace-preview .insert {
  background-color: #BBDEFB;
  border-color: #90CAF9;
  border-style: solid;
  border-width: 1px;
  border-radius: 0px;
}
#find-and-replace #replace-preview .replace .match {
  background-color: #FFCDD2;
  border-color: #EF9A9A;
  border-radius: 0px;
}
#find-and-replace #replace-preview .replace .insert {
  background-color: #C8E6C9;
  border-color: #A5D6A7;
  border-radius: 0px;
}
#find-and-replace #replace-preview {
  max-height: 60vh;
  overflow: auto;
}
#find-and-replace #replace-preview pre {
  padding: 5px 10px;
}
.terminal-app {
  background: #EEE;
}
.terminal-app #header {
  background: #fff;
  -webkit-box-shadow: 0px 0px 12px 1px rgba(87, 87, 87, 0.2);
  box-shadow: 0px 0px 12px 1px rgba(87, 87, 87, 0.2);
}
.terminal-app .terminal {
  float: left;
  font-family: monospace;
  color: white;
  background: black;
  padding: 0.4em;
  border-radius: 2px;
  -webkit-box-shadow: 0px 0px 12px 1px rgba(87, 87, 87, 0.4);
  box-shadow: 0px 0px 12px 1px rgba(87, 87, 87, 0.4);
}
.terminal-app .terminal,
.terminal-app .terminal dummy-screen {
  line-height: 1em;
  font-size: 14px;
}
.terminal-app .terminal-cursor {
  color: black;
  background: white;
}
.terminal-app #terminado-container {
  margin-top: 20px;
}
/*# sourceMappingURL=style.min.css.map */
    </style>
<style type="text/css">
    .highlight .hll { background-color: #ffffcc }
.highlight  { background: #f8f8f8; }
.highlight .c { color: #408080; font-style: italic } /* Comment */
.highlight .err { border: 1px solid #FF0000 } /* Error */
.highlight .k { color: #008000; font-weight: bold } /* Keyword */
.highlight .o { color: #666666 } /* Operator */
.highlight .ch { color: #408080; font-style: italic } /* Comment.Hashbang */
.highlight .cm { color: #408080; font-style: italic } /* Comment.Multiline */
.highlight .cp { color: #BC7A00 } /* Comment.Preproc */
.highlight .cpf { color: #408080; font-style: italic } /* Comment.PreprocFile */
.highlight .c1 { color: #408080; font-style: italic } /* Comment.Single */
.highlight .cs { color: #408080; font-style: italic } /* Comment.Special */
.highlight .gd { color: #A00000 } /* Generic.Deleted */
.highlight .ge { font-style: italic } /* Generic.Emph */
.highlight .gr { color: #FF0000 } /* Generic.Error */
.highlight .gh { color: #000080; font-weight: bold } /* Generic.Heading */
.highlight .gi { color: #00A000 } /* Generic.Inserted */
.highlight .go { color: #888888 } /* Generic.Output */
.highlight .gp { color: #000080; font-weight: bold } /* Generic.Prompt */
.highlight .gs { font-weight: bold } /* Generic.Strong */
.highlight .gu { color: #800080; font-weight: bold } /* Generic.Subheading */
.highlight .gt { color: #0044DD } /* Generic.Traceback */
.highlight .kc { color: #008000; font-weight: bold } /* Keyword.Constant */
.highlight .kd { color: #008000; font-weight: bold } /* Keyword.Declaration */
.highlight .kn { color: #008000; font-weight: bold } /* Keyword.Namespace */
.highlight .kp { color: #008000 } /* Keyword.Pseudo */
.highlight .kr { color: #008000; font-weight: bold } /* Keyword.Reserved */
.highlight .kt { color: #B00040 } /* Keyword.Type */
.highlight .m { color: #666666 } /* Literal.Number */
.highlight .s { color: #BA2121 } /* Literal.String */
.highlight .na { color: #7D9029 } /* Name.Attribute */
.highlight .nb { color: #008000 } /* Name.Builtin */
.highlight .nc { color: #0000FF; font-weight: bold } /* Name.Class */
.highlight .no { color: #880000 } /* Name.Constant */
.highlight .nd { color: #AA22FF } /* Name.Decorator */
.highlight .ni { color: #999999; font-weight: bold } /* Name.Entity */
.highlight .ne { color: #D2413A; font-weight: bold } /* Name.Exception */
.highlight .nf { color: #0000FF } /* Name.Function */
.highlight .nl { color: #A0A000 } /* Name.Label */
.highlight .nn { color: #0000FF; font-weight: bold } /* Name.Namespace */
.highlight .nt { color: #008000; font-weight: bold } /* Name.Tag */
.highlight .nv { color: #19177C } /* Name.Variable */
.highlight .ow { color: #AA22FF; font-weight: bold } /* Operator.Word */
.highlight .w { color: #bbbbbb } /* Text.Whitespace */
.highlight .mb { color: #666666 } /* Literal.Number.Bin */
.highlight .mf { color: #666666 } /* Literal.Number.Float */
.highlight .mh { color: #666666 } /* Literal.Number.Hex */
.highlight .mi { color: #666666 } /* Literal.Number.Integer */
.highlight .mo { color: #666666 } /* Literal.Number.Oct */
.highlight .sb { color: #BA2121 } /* Literal.String.Backtick */
.highlight .sc { color: #BA2121 } /* Literal.String.Char */
.highlight .sd { color: #BA2121; font-style: italic } /* Literal.String.Doc */
.highlight .s2 { color: #BA2121 } /* Literal.String.Double */
.highlight .se { color: #BB6622; font-weight: bold } /* Literal.String.Escape */
.highlight .sh { color: #BA2121 } /* Literal.String.Heredoc */
.highlight .si { color: #BB6688; font-weight: bold } /* Literal.String.Interpol */
.highlight .sx { color: #008000 } /* Literal.String.Other */
.highlight .sr { color: #BB6688 } /* Literal.String.Regex */
.highlight .s1 { color: #BA2121 } /* Literal.String.Single */
.highlight .ss { color: #19177C } /* Literal.String.Symbol */
.highlight .bp { color: #008000 } /* Name.Builtin.Pseudo */
.highlight .vc { color: #19177C } /* Name.Variable.Class */
.highlight .vg { color: #19177C } /* Name.Variable.Global */
.highlight .vi { color: #19177C } /* Name.Variable.Instance */
.highlight .il { color: #666666 } /* Literal.Number.Integer.Long */
    </style>
<style type="text/css">
    
/* Temporary definitions which will become obsolete with Notebook release 5.0 */
.ansi-black-fg { color: #3E424D; }
.ansi-black-bg { background-color: #3E424D; }
.ansi-black-intense-fg { color: #282C36; }
.ansi-black-intense-bg { background-color: #282C36; }
.ansi-red-fg { color: #E75C58; }
.ansi-red-bg { background-color: #E75C58; }
.ansi-red-intense-fg { color: #B22B31; }
.ansi-red-intense-bg { background-color: #B22B31; }
.ansi-green-fg { color: #00A250; }
.ansi-green-bg { background-color: #00A250; }
.ansi-green-intense-fg { color: #007427; }
.ansi-green-intense-bg { background-color: #007427; }
.ansi-yellow-fg { color: #DDB62B; }
.ansi-yellow-bg { background-color: #DDB62B; }
.ansi-yellow-intense-fg { color: #B27D12; }
.ansi-yellow-intense-bg { background-color: #B27D12; }
.ansi-blue-fg { color: #208FFB; }
.ansi-blue-bg { background-color: #208FFB; }
.ansi-blue-intense-fg { color: #0065CA; }
.ansi-blue-intense-bg { background-color: #0065CA; }
.ansi-magenta-fg { color: #D160C4; }
.ansi-magenta-bg { background-color: #D160C4; }
.ansi-magenta-intense-fg { color: #A03196; }
.ansi-magenta-intense-bg { background-color: #A03196; }
.ansi-cyan-fg { color: #60C6C8; }
.ansi-cyan-bg { background-color: #60C6C8; }
.ansi-cyan-intense-fg { color: #258F8F; }
.ansi-cyan-intense-bg { background-color: #258F8F; }
.ansi-white-fg { color: #C5C1B4; }
.ansi-white-bg { background-color: #C5C1B4; }
.ansi-white-intense-fg { color: #A1A6B2; }
.ansi-white-intense-bg { background-color: #A1A6B2; }

.ansi-bold { font-weight: bold; }

    </style>
<style type="text/css">
    .highlight .hll {
  background-color: #ffffcc;
}
.highlight .c {
  color: #999988;
  font-style: italic;
}
/* Comment */
.highlight .err {
  color: #a61717;
  background-color: #e3d2d2;
}
/* Error */
.highlight .k {
  color: #000000;
  font-weight: bold;
}
/* Keyword */
.highlight .o {
  color: #000000;
  font-weight: bold;
}
/* Operator */
.highlight .cm {
  color: #999988;
  font-style: italic;
}
/* Comment.Multiline */
.highlight .cp {
  color: #999999;
  font-weight: bold;
  font-style: italic;
}
/* Comment.Preproc */
.highlight .c1 {
  color: #999988;
  font-style: italic;
}
/* Comment.Single */
.highlight .cs {
  color: #999999;
  font-weight: bold;
  font-style: italic;
}
/* Comment.Special */
.highlight .gd {
  color: #000000;
  background-color: #ffdddd;
}
/* Generic.Deleted */
.highlight .ge {
  color: #000000;
  font-style: italic;
}
/* Generic.Emph */
.highlight .gr {
  color: #aa0000;
}
/* Generic.Error */
.highlight .gh {
  color: #999999;
}
/* Generic.Heading */
.highlight .gi {
  color: #000000;
  background-color: #ddffdd;
}
/* Generic.Inserted */
.highlight .go {
  color: #888888;
}
/* Generic.Output */
.highlight .gp {
  color: #555555;
}
/* Generic.Prompt */
.highlight .gs {
  font-weight: bold;
}
/* Generic.Strong */
.highlight .gu {
  color: #aaaaaa;
}
/* Generic.Subheading */
.highlight .gt {
  color: #aa0000;
}
/* Generic.Traceback */
.highlight .kc {
  color: #000000;
  font-weight: bold;
}
/* Keyword.Constant */
.highlight .kd {
  color: #000000;
  font-weight: bold;
}
/* Keyword.Declaration */
.highlight .kn {
  color: #000000;
  font-weight: bold;
}
/* Keyword.Namespace */
.highlight .kp {
  color: #000000;
  font-weight: bold;
}
/* Keyword.Pseudo */
.highlight .kr {
  color: #000000;
  font-weight: bold;
}
/* Keyword.Reserved */
.highlight .kt {
  color: #445588;
  font-weight: bold;
}
/* Keyword.Type */
.highlight .m {
  color: #009999;
}
/* Literal.Number */
.highlight .s {
  color: #d01040;
}
/* Literal.String */
.highlight .na {
  color: #008080;
}
/* Name.Attribute */
.highlight .nb {
  color: #0086b3;
}
/* Name.Builtin */
.highlight .nc {
  color: #445588;
  font-weight: bold;
}
/* Name.Class */
.highlight .no {
  color: #008080;
}
/* Name.Constant */
.highlight .nd {
  color: #3c5d5d;
  font-weight: bold;
}
/* Name.Decorator */
.highlight .ni {
  color: #800080;
}
/* Name.Entity */
.highlight .ne {
  color: #990000;
  font-weight: bold;
}
/* Name.Exception */
.highlight .nf {
  color: #990000;
  font-weight: bold;
}
/* Name.Function */
.highlight .nl {
  color: #990000;
  font-weight: bold;
}
/* Name.Label */
.highlight .nn {
  color: black;
  font-weight: normal;
}
/* Name.Namespace */
.highlight .nt {
  color: #000080;
}
/* Name.Tag */
.highlight .nv {
  color: #008080;
}
/* Name.Variable */
.highlight .ow {
  color: #000000;
  font-weight: bold;
}
/* Operator.Word */
.highlight .w {
  color: #bbbbbb;
}
/* Text.Whitespace */
.highlight .mf {
  color: #009999;
}
/* Literal.Number.Float */
.highlight .mh {
  color: #009999;
}
/* Literal.Number.Hex */
.highlight .mi {
  color: #009999;
}
/* Literal.Number.Integer */
.highlight .mo {
  color: #009999;
}
/* Literal.Number.Oct */
.highlight .sb {
  color: #d01040;
}
/* Literal.String.Backtick */
.highlight .sc {
  color: #d01040;
}
/* Literal.String.Char */
.highlight .sd {
  color: #d01040;
}
/* Literal.String.Doc */
.highlight .s2 {
  color: #d01040;
}
/* Literal.String.Double */
.highlight .se {
  color: #d01040;
}
/* Literal.String.Escape */
.highlight .sh {
  color: #d01040;
}
/* Literal.String.Heredoc */
.highlight .si {
  color: #d01040;
}
/* Literal.String.Interpol */
.highlight .sx {
  color: #d01040;
}
/* Literal.String.Other */
.highlight .sr {
  color: #009926;
}
/* Literal.String.Regex */
.highlight .s1 {
  color: #d01040;
}
/* Literal.String.Single */
.highlight .ss {
  color: #990073;
}
/* Literal.String.Symbol */
.highlight .bp {
  color: #999999;
}
/* Name.Builtin.Pseudo */
.highlight .vc {
  color: #008080;
}
/* Name.Variable.Class */
.highlight .vg {
  color: #008080;
}
/* Name.Variable.Global */
.highlight .vi {
  color: #008080;
}
/* Name.Variable.Instance */
.highlight .il {
  color: #009999;
}
/* Literal.Number.Integer.Long */
div#maintoolbar {
  display: none !important;
}
body {
  font-family: "Open Sans", "Helvetica Neue", Helvetica, Arial, sans-serif;
  font-size: 16px;
  line-height: 1.42857143;
  color: #2c2c2c;
}
.rendered_html table,
.rendered_html th,
.rendered_html tr,
.rendered_html td {
  margin: 6px 0 13.5px;
  font-size: 15px;
  border-color: #ccc;
  max-width: 100%;
  text-align: left;
}
span.ansiblack {
  color: #2b303b;
}
span.ansiblue {
  color: #154ba1;
}
span.ansigray {
  color: #b4b7b4;
}
span.ansigreen {
  color: #2d6836;
}
span.ansipurple {
  color: #483d8b;
}
span.ansicyan {
  color: #1592a2;
}
span.ansiyellow {
  color: #92a215;
}
span.ansired {
  color: #b82a18;
}
div.output_html {
  color: #4c4c4c;
}
div.output_stderr {
  background-color: #DB797C;
}
div.output_stderr pre {
  color: #000000;
}
.cm-s-ipython.CodeMirror {
  background: #f6f6f6;
  color: #303030;
}
.cm-s-ipython div.CodeMirror-selected {
  background: #777777 !important;
}
.cm-s-ipython .CodeMirror-gutters {
  background: #cccccc;
  border: 0px;
  border-radius: 0px;
}
.cm-s-ipython .CodeMirror-linenumber {
  color: #666666 !important;
  font-size: 11pt;
}
.cm-s-ipython .CodeMirror-cursor {
  border-left: 2px solid #0095ff !important;
}
.cm-s-ipython span.cm-comment {
  color: #707070;
  font-style: italic !important;
}
.cm-s-ipython span.cm-atom {
  color: #F37F14;
}
.cm-s-ipython span.cm-number {
  color: #eb6a1a;
}
.cm-s-ipython span.cm-property {
  color: #de143d;
}
.cm-s-ipython span.cm-attribute {
  color: #de143d;
}
.cm-s-ipython span.cm-keyword {
  color: #F37F14;
  font-weight: normal;
}
.cm-s-ipython span.cm-string {
  color: #007f00;
  font-weight: normal;
}
.cm-s-ipython span.cm-operator {
  color: #055be0;
  font-weight: normal;
}
.cm-s-ipython span.cm-builtin {
  color: #de143d;
  font-weight: normal;
}
.cm-s-ipython span.cm-variable {
  color: #000000;
}
.cm-s-ipython span.cm-variable-2 {
  color: #de143d;
}
.cm-s-ipython span.cm-def {
  color: #055be0;
  font-weight: normal;
}
.cm-s-ipython span.cm-error {
  background: rgba(191, 97, 106, 0.3) !important;
}
.cm-s-ipython span.cm-tag {
  color: #F37F14;
}
.cm-s-ipython span.cm-link {
  color: #eb6a1a;
}
.cm-s-ipython span.cm-storage {
  color: #055be0;
}
.cm-s-ipython span.cm-entity {
  color: #de143d;
}
.cm-s-ipython span.cm-class {
  color: #e22978;
}
.cm-s-ipython span.cm-support {
  color: #de143d;
}
.cm-s-ipython span.cm-qualifier {
  color: #de143d;
}
/* Set CodeCell font-size*/
/*div.CodeMirror pre {font-size: 11pt !important;}*/
div.CodeMirror pre {
  line-height: 1.5 !important;
}
div.CodeMirror pre {
  font-family: 'Hack', monospace;
  font-size: 11pt;
}
div.CodeMirror span.CodeMirror-matchingbracket {
  color: #000000;
  background: rgba(53, 114, 198, 0.3) !important;
}
div.CodeMirror span.CodeMirror-nonmatchingbracket {
  color: #000000;
  background: rgba(191, 97, 106, 0.3) !important;
}
.cm-s-ipython .CodeMirror-matchingbracket {
  color: #000000;
  background: rgba(53, 114, 198, 0.3) !important;
}
.cm-s-ipython .CodeMirror-nonmatchingbracket {
  color: #000000;
  background: rgba(191, 97, 106, 0.3) !important;
}
/*Input and output cells formatting*/
div.prompt.input_prompt {
  font-family: 'Hack', monospace;
  border-right: 2px solid #428bca;
  font-weight: bold;
  font-size: 11pt;
  color: transparent;
  background-color: #ececed;
  width: 1em;
  padding-bottom: 0px;
  margin-bottom: 0px;
}
div.prompt.output_prompt {
  font-family: 'Hack', monospace;
  font-weight: bold;
  background-color: #ffffff;
  color: #ffffff;
  font-size: 9.5pt;
  width: 1em;
  margin-bottom: 8px;
  padding-top: 1em;
  padding-bottom: 1em;
}
div.out_prompt_overlay.prompt {
  font-family: 'Hack', monospace;
  font-weight: bold;
  font-size: 9.5pt;
  width: 1em;
  margin-bottom: 8px;
  background-color: #ffffff;
  border-radius: 4px;
  -webkit-border-radius: 4px;
  -moz-border-radius: 4px;
}
div.out_prompt_overlay.prompt:hover {
  font-family: 'Hack', monospace;
  font-weight: bold;
  font-size: 9.5pt;
  width: 1em;
  border-radius: 4px;
  margin-bottom: 8px;
  background-color: #ffffff;
  box-shadow: #e2e2e2 2px 2px 6px 4px inset;
  -webkit-border-radius: 4px;
  -moz-border-radius: 4px;
}
.prompt {
  min-width: 0px;
}
div.output_wrapper {
  background-color: #ffffff;
  margin-bottom: 0em;
  margin-top: 0em;
  border: 0px;
}
div.output_subarea.output_text.output_stream.output_stdout,
div.output_subarea.output_text {
  padding-top: 1em;
  margin-bottom: 8px;
  margin-top: 8px;
  margin-left: 8px;
  margin-right: 8px;
  background-color: #ffffff;
  color: #000000;
}
div.output_area pre {
  color: #000000;
  font-size: 10pt;
}
div.output_subarea {
  overflow-x: auto;
  padding: 1.0em;
  -webkit-box-flex: 1;
  -moz-box-flex: 1;
  box-flex: 1;
  flex: 1;
  max-width: calc(86%);
}
body {
  background-color: #f9f9f9;
}
a {
  color: #303030;
  font-family: 'Helvetica', sans-serif;
}
div#notebook,
div.CodeMirror,
div.output_area pre,
div.output_wrapper,
div.prompt,
div.CodeMirror pre {
  font-family: 'Hack', monospace;
  font-size: 11pt;
}
#notebook-container {
  padding: 0px;
  background-color: #f9f9f9;
  min-height: 0px;
  box-shadow: none;
}
.cell {
  padding: 0px;
}
.rendered_html pre,
.rendered_html code {
  color: #e54813;
  background-color: #f6f6f6;
  padding: 2px;
}

    </style>


<style type="text/css">
/* Overrides of notebook CSS for static HTML export */
body {
  overflow: visible;
  padding: 8px;
}

div#notebook {
  overflow: visible;
  border-top: none;
}

@media print {
  div.cell {
    display: block;
    page-break-inside: avoid;
  } 
  div.output_wrapper { 
    display: block;
    page-break-inside: avoid; 
  }
  div.output { 
    display: block;
    page-break-inside: avoid; 
  }
}
</style>

<!-- Custom stylesheet, it must be in the same directory as the html file -->
<link rel="stylesheet" href="custom.css">

<!-- Loading mathjax macro -->
<!-- Load mathjax -->
    <script src="https://cdn.mathjax.org/mathjax/latest/MathJax.js?config=TeX-AMS_HTML"></script>
    <!-- MathJax configuration -->
    <script type="text/x-mathjax-config">
    MathJax.Hub.Config({
        tex2jax: {
            inlineMath: [ ['$','$'], ["\\(","\\)"] ],
            displayMath: [ ['$$','$$'], ["\\[","\\]"] ],
            processEscapes: true,
            processEnvironments: true
        },
        // Center justify equations in code and markdown cells. Elsewhere
        // we use CSS to left justify single line equations in code cells.
        displayAlign: 'center',
        "HTML-CSS": {
            styles: {'.MathJax_Display': {"margin": 0}},
            linebreaks: { automatic: true }
        }
    });
    </script>
    <!-- End of mathjax configuration --></head>
<body>
  <div tabindex="-1" id="notebook" class="border-box-sizing">
    <div class="container" id="notebook-container">

<div class="cell border-box-sizing code_cell rendered">
<div class="input">
<div class="prompt input_prompt">In&nbsp;[1]:</div>
<div class="inner_cell">
    <div class="input_area">
<div class=" highlight hl-ipython2"><pre><span></span><span class="o">%</span><span class="k">matplotlib</span> inline
<span class="kn">from</span> <span class="nn">ggplot</span> <span class="kn">import</span> <span class="o">*</span>
<span class="kn">import</span> <span class="nn">numpy</span> <span class="kn">as</span> <span class="nn">np</span>
</pre></div>

</div>
</div>
</div>

</div>
<div class="cell border-box-sizing text_cell rendered">
<div class="prompt input_prompt">
</div>
<div class="inner_cell">
<div class="text_cell_render border-box-sizing rendered_html">
<h3 id="qplot"><code>qplot</code><a class="anchor-link" href="#qplot">&#182;</a></h3><p><code>qplot</code> (or "quickplot") is short-hand syntax for ggplot. It allows you do to things like plot python lists and numpy arrays, make histograms, scatterplots, and other generic, often-used plots.</p>

</div>
</div>
</div>
<div class="cell border-box-sizing code_cell rendered">
<div class="input">
<div class="prompt input_prompt">In&nbsp;[2]:</div>
<div class="inner_cell">
    <div class="input_area">
<div class=" highlight hl-ipython2"><pre><span></span><span class="n">qplot</span><span class="p">(</span><span class="n">diamonds</span><span class="o">.</span><span class="n">price</span><span class="p">)</span>
</pre></div>

</div>
</div>
</div>

<div class="output_wrapper">
<div class="output">


<div class="output_area"><div class="prompt"></div>


<div class="output_png output_subarea ">
<img src="data:image/png;base64,iVBORw0KGgoAAAANSUhEUgAAAsUAAAIACAYAAABq7hEfAAAABHNCSVQICAgIfAhkiAAAAAlwSFlz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=
"
>
</div>

</div>

<div class="output_area"><div class="prompt output_prompt">Out[2]:</div>


<div class="output_text output_subarea output_execute_result">
<pre>&lt;ggplot: (281105401)&gt;</pre>
</div>

</div>

</div>
</div>

</div>
<div class="cell border-box-sizing code_cell rendered">
<div class="input">
<div class="prompt input_prompt">In&nbsp;[3]:</div>
<div class="inner_cell">
    <div class="input_area">
<div class=" highlight hl-ipython2"><pre><span></span><span class="n">qplot</span><span class="p">(</span><span class="n">diamonds</span><span class="o">.</span><span class="n">carat</span><span class="p">,</span> <span class="n">diamonds</span><span class="o">.</span><span class="n">price</span><span class="p">)</span>
</pre></div>

</div>
</div>
</div>

<div class="output_wrapper">
<div class="output">


<div class="output_area"><div class="prompt"></div>


<div class="output_png output_subarea ">
<img src="data:image/png;base64,iVBORw0KGgoAAAANSUhEUgAAAtsAAAIACAYAAABTiaBEAAAABHNCSVQICAgIfAhkiAAAAAlwSFlz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"
>
</div>

</div>

<div class="output_area"><div class="prompt output_prompt">Out[3]:</div>


<div class="output_text output_subarea output_execute_result">
<pre>&lt;ggplot: (274640233)&gt;</pre>
</div>

</div>

</div>
</div>

</div>
<div class="cell border-box-sizing code_cell rendered">
<div class="input">
<div class="prompt input_prompt">In&nbsp;[4]:</div>
<div class="inner_cell">
    <div class="input_area">
<div class=" highlight hl-ipython2"><pre><span></span><span class="n">x</span> <span class="o">=</span> <span class="nb">range</span><span class="p">(</span><span class="mi">100</span><span class="p">)</span>
<span class="n">y</span> <span class="o">=</span> <span class="nb">range</span><span class="p">(</span><span class="mi">100</span><span class="p">)</span>
<span class="n">qplot</span><span class="p">(</span><span class="n">x</span><span class="p">,</span> <span class="n">y</span><span class="p">)</span>
</pre></div>

</div>
</div>
</div>

<div class="output_wrapper">
<div class="output">


<div class="output_area"><div class="prompt"></div>


<div class="output_png output_subarea ">
<img src="data:image/png;base64,iVBORw0KGgoAAAANSUhEUgAAAtsAAAIACAYAAABTiaBEAAAABHNCSVQICAgIfAhkiAAAAAlwSFlz
AAALEgAACxIB0t1+/AAAIABJREFUeJzt3W1s1ed5P/Dr+CHYcDB2aGhTwFBo5nY1Ng5ZQxkppVnW
0FaDdfGiJV1ZtSprk3Xqpr3fXuzVXqRSte4h0jQpU1cNohCHdEnzZiWgtN1EbTeJBkEkxG7WNFQh
+CHGtY3/L/L3GTbHwYBvn/M75/ORkMqxsS5/dZJ++eXyfeemp6enAwAAWHQ1pR4AAAAqlbINAACJ
KNsAAJCIsg0AAIko2wAAkIiyDQAAidSVeoCr0dPTEy+//HKsWLEiHnzwwYiIePbZZ+Pll1+O2tra
uPHGG2Pv3r3R0NAQERFHjx6N3t7eqKmpibvvvjs+/OEPl3J8AACqTKaebG/dujW++MUvznpt8+bN
8eCDD8bXvva1uPHGG+PYsWMREfHmm2/GSy+9FA899FDcf//98b3vfS8cKQ4AwFLKVNnesGFDNDY2
znpt8+bNUVPz7rexbt26GBoaioiIkydPRnt7e9TW1kZLS0usXr06Xn/99SWfGQCA6pWpsn0lvb29
ccstt0RExPDwcDQ1NRU+tnLlykIRBwCApZCpne338txzz0VtbW1s2bJlQZ8/NDQUIyMjs17L5/Oz
CjoAAFyPiijbvb29cerUqdi/f3/htblPsoeGhmYV6ePHj8eRI0dmfZ1du3bF7t270w8MAEBVyFzZ
nvtDjqdOnYrnn38+vvzlL0dd3f99O21tbfH444/H9u3bY3h4ON56661Yu3Zt4ePbtm2Ltra2WV8r
n8/HuXPnYnJyMu03sQiWLVsW4+PjpR5jQerq6qKlpSUz2UbINzX5ppWVfGWblnzTkm86M9lWikyV
7cceeyzOnDkTY2Nj8fDDD8fu3bvj6NGjMTU1FY8++mhEvPtDkp///OdjzZo18bGPfSy+/e1vR21t
bXzuc5+LXC5X+FpNTU1FV0bOnj0bExMTS/Y9Xau6urpMzHmpycnJzMws37Tkm1bW8pVtWvJNS75c
SabK9j333HPZa11dXfN+/h133BF33HFHypEAAGBeFXUaCQAAlBNlGwAAElG2AQAgEWUbAAASUbYB
ACARZRsAABJRtgEAIBFlGwAAElG2AQAgEWUbAAASUbYBACARZRsAABJRtgEAIBFlGwAAElG2AQAg
EWUbAAASUbYBACARZRsAABJRtgEAIBFlGwAAElG2AQAgEWUbAAASUbYBACARZRsAABJRtgEAIBFl
GwAAElG2AQAgEWUbAAASyU1PT0+XeohyceHChbhw4UJkIZKampq4ePFiqcdYkFwuFzfccEP86le/
ykS2EfJNTb5pZSVf2aYl37Tkm04ul4vm5uZSj7Fo6ko9QDlpaGiI4eHhmJiYKPUoV9TY2BhjY2Ol
HmNB6uvro7m5OUZHRzORbYR8U5NvWlnJV7ZpyTct+aZTX19f6hEWlTUSAABIRNkGAIBElG0AAEhE
2QYAgESUbQAASETZBgCARJRtAABIRNkGAIBElG0AAEhE2QYAgESUbQAASETZBgCARJRtAABIRNkG
AIBElG0AAEhE2QYAgESUbQAASETZBgCARJRtAABIRNkGAIBElG0AAEhE2QYAgESUbQAASETZBgCA
RJRtAABIpK7UA1yNnp6eePnll2PFihXx4IMPRkTE2NhYHDx4MM6fPx/Nzc3R3d0dDQ0NERFx9OjR
6O3tjZqamrj77rvjwx/+cCnHBwCgymTqyfbWrVvji1/84qzXjh07Fps2bYqvf/3r8aEPfSiOHj0a
ERFvvvlmvPTSS/HQQw/F/fffH9/73vdienq6FGMDAFClMlW2N2zYEI2NjbNeO3HiRGzdujUiIjo7
O+PEiRMREXHy5Mlob2+P2traaGlpidWrV8frr7++5DMDAFC9MlW2ixkdHY18Ph8REStXrozR0dGI
iBgeHo6mpqbC561cuTKGhoZKMiMAANUpUzvbC5HL5Rb0eUNDQzEyMjLrtXw+H3V12YiktrY26uvr
Sz3GgsxkmpVsI+SbmnzTykq+sk1LvmnJN50sZboQmf9u8vl8jIyMRD6fj+Hh4VixYkVEXP4ke2ho
aNaT7uPHj8eRI0dmfa1du3bF7t27l2bwKtTS0lLqESqafNOSbzqyTUu+acmXK8lc2Z77Q45tbW3R
19cXO3fujP7+/mhrayu8/vjjj8f27dtjeHg43nrrrVi7dm3hz23btq3wuTPy+XycO3cuJicn038j
12nZsmUxPj5e6jEWpK6uLlpaWjKTbYR8U5NvWlnJV7ZpyXdxTE5ORl9fX5w5cyY2btwYXV1dUVtb
K9+EZrKtFJkq24899licOXMmxsbG4uGHH47du3fHzp0748CBA9Hb2xurVq2K7u7uiIhYs2ZNfOxj
H4tvf/vbUVtbG5/73OdmrZg0NTXNetI94+zZszExMbFk39O1qqury8Scl5qcnMzMzPJNS75pZS1f
2aYl3+vT19cX+/bti4mJiaivr49Dhw5FV1dX4ePy5UoyVbbvueeeoq/v37+/6Ot33HFH3HHHHSlH
AgAq2JkzZwoFdWJiIl577bVZZRuuJFNlGwAgpampqXjhhRcKayMbNmyI+vr6wpPtjRs3lnpEMkbZ
BgD4/1544YVZayOHDx+OQ4cOxWuvvRYbN26Mjo6OUo9IxijbAAD/39y1kdOnT8e+ffusjnDNMn+p
DQDAYtm4cWPhLGprIywGT7YBgKo1d0e7vb3d2giLStkGAKrW3B3tmaP9rI2wWKyRAABVq9jRfrCY
PNkGAKrC3JWRjo6Owo62o/1IRdkGAKpCsZWRzs5OO9okpWwDAFVhvtsg7WiTkrINAFQkt0FSDpRt
AKAiuQ2ScqBsAwAVyW2QlANlGwDIPCeNUK6UbQAg85w0QrlStgGAzHPSCOVK2QYAMsdJI2SFsg0A
ZI6TRsgKZRsAyBwnjZAVyjYAUPasjZBVyjYAUPasjZBVyjYAUPasjZBVNaUeAADgSmYuqIkIayNk
iifbAEBZKXYbZEdHh7URMknZBgDKSrHbIF1QQ1ZZIwEAykqx2yAhqzzZBgBKamZtZGBgIFpbWx3r
R0VRtgGAknKsH5VM2b7EhQsXor6+Purqyj+WmpqaaGxsLPUYC5LL5eKdd97JTLYR8k1NvmllJV/Z
ppWlfAcGBmatjbz66qtx7733xo4dO0o82fyylO+MrLx/c7lcqUdYVNl4dyyRhoaGGB4eLvwDX84a
GxtjbGys1GMsSH19fTQ3N8fo6Ggmso2Qb2ryTSsr+co2rXLNt9hJI62trbPWRlpbW8s+53LN971k
5f07c8RjpVC2AYAlU+ykkc7Ozjh06FAMDg5Ga2urtREqirINACyZYieNzBzpt2PHjkw8eYWroWwD
AMnMXRtx0gjVRtkGAJJx0gjVTtkGAJKZuzZy+vTp2Ldvn5sgqRrKNgCwaKyNwGzKNgCwaKyNwGzK
NgCwaKyNwGw1pR4AAKgcGzduLFxKYm0EPNkGAK5RsdsgOzo6rI3AJZRtAOCaFLsNcuaCGmsj8C5r
JADANSl2GyQwmyfbAMCCONYPrp6yDQAsiGP94Oop2wDAgjjWD66esg0AFGVtBK6fsg0AFGVtBK6f
sg0AFGVtBK6fsg0AFL2gZuY2SGsjcO2UbQCg6AU1nZ2d1kbgOinbAEDRC2rcBgnXT9kGgCrkpBFY
Gso2AFQhJ43A0lC2AaAKOWkElkZNqQcAAJbezEkjEWFtBBKqiCfbP/zhD+MnP/lJ5HK5eP/73x97
9+6NiYmJOHjwYJw/fz6am5uju7s7GhoaSj0qACy5Ysf6dXR0WBuBJZD5sj00NBQ//vGP40//9E+j
rq4uDh48GC+++GKcPXs2Nm3aFDt37oxjx47F0aNH46677ir1uACw5Iod6+ekEVgaFbFGMj09HRMT
EzE1NRUTExOxcuXKOHHiRGzdujUiIjo7O+PEiRMlnhIASqPYsX7A0sj8k+2mpqb4xCc+Ed/85jej
vr4+Nm/eHJs3b47R0dHI5/MREbFy5coYHR0t8aQAsDSmpqaiv78/BgcHY/369Y71gxLKfNkeGxuL
kydPxje+8Y1oaGiIAwcOxE9/+tPLPi+Xy836/dDQUIyMjMx6LZ/PR11dNiKpra0t/GBLuZvJNCvZ
Rsg3NfmmlZV8ZZtOf39/4eeX6uvr46mnnoqenp7CznZXV1fU1taWeszLZCXfCO/flLKU6UJk/rt5
5ZVXoqWlJZYvXx4RER/96EdjcHAw8vl8jIyMRD6fj+Hh4VixYsWsP3f8+PE4cuTIrNd27doVu3fv
XrLZq01LS0upR6ho8k1LvunIdvENDg7OWhs5c+ZMPPDAAyWeqjJ5/3IlmS/bq1atip/97GcxMTER
dXV18corr8TatWvjhhtuiL6+vti5c2f09/dHW1vbrD+3bdu2y17L5/Nx7ty5mJycXMpv4ZosW7Ys
xsfHSz3GgtTV1UVLS0tmso2Qb2ryTSsr+cp28UxOTkZfX1/hyfW6detmrY2sX78+zp49W+oxr6hc
8y3G+zedmWwrRebL9rp16+LXf/3X45/+6Z+ipqYmbr755ti2bVuMj4/HwYMHo7e3N1atWhXd3d2z
/lxTU1M0NTVd9vXOnj1beBpQzurq6jIx56UmJyczM7N805JvWlnLV7bXr6+v77LbIHt6ego721u2
bCnLuecq13zfi/cvV5L5sh0R8alPfSo+9alPzXpt+fLlsX///tIMBABLqNhtkN3d3bFnz57MPESC
SlURZRsAqkWxC2pmboN02giUH2UbADKk2AU1nZ2dboOEMqVsA0CGFLugxm2QUL6UbQAoY3PXRlxQ
A9mibANAGZu7NnL48GErI5AhyjYAlLFiJ43s27fPyghkhLINAGXCSSNQeZRtACgTThqByqNsA0CZ
cNIIVJ6aUg8AALxrZmUkIqyMQIXwZBsASmTujnZ7e7uVEagwyjYAlEixHW0rI1BZrJEAQIkU29EG
Kosn2wCwRNwGCdVH2QaAJeI2SKg+yjYALBG3QUL1UbYBIAG3QQIRyjYAJOE2SCBC2QaAJNwGCUQo
2wCwKJw0AhSjbAPAInDSCFCMsg0Ai8BJI0AxyjYAXANrI8BCKNsAcA2sjQALoWwDwDWwNgIsRE2p
BwCALJq5oCYirI0A8/JkGwCuYGY/e2BgIFpbW6OjoyM6OjqsjQBXpGwDwBUUuw3SBTXAQijbl7hw
4ULU19dHXV35x1JTUxONjY2lHmNBcrlcvPPOO5nJNkK+qck3razkm6VsBwYGZu1nDw4Oxo4dO0o8
1XvLUr4zsvLejZBvSrlcrtQjLKpsvDuWSENDQwwPDxf+hVrOGhsbY2xsrNRjLEh9fX00NzfH6Oho
JrKNkG9q8k0rK/mWc7Zzj/Vbv379rGP9Wltbyz7jcs53Pll570bIN6WZn4WoFMo2AMwx37F+g4OD
hZ1tgIVQtgFgjvmO9duxY0cmngwC5UPZBqCqzV0Z6ejoKBzr5zZI4Hop2wBUtWInjXR2djrWD1gU
yjYAVW3uyshrr73mWD9g0SjbAFSVuWsjGzZssDICJKNsA1BV5jtpxMoIkIKyDUBVme+kESsjQArK
NgAVzdoIUErKNgAVzdoIUErKNgAVzdoIUEo1pR4AAFKauaAmIqyNAEvOk20AKkax2yA7OjqsjQAl
o2wDUDGK3QbpghqglKyRAFAxit0GCVBKnmwDkFmO9QPKnbINQGY51g8od8o2AJnlWD+g3CnbAGRC
sZNGZo71szYClCtlG4BMKHbSSGdnp7URoKwp2wBkQrGTRhzrB5Q7ZRuAsuSkEaASKNsAlCUnjQCV
QNkGoCw5aQSoBMo2AGXB2ghQiSqmbF+4cCGefPLJePPNNyOXy8XevXtj9erVcfDgwTh//nw0NzdH
d3d3NDQ0lHpUAIqwNgJUooop208//XTccsst8fu///sxNTUVExMTcfTo0di0aVPs3Lkzjh07FkeP
Ho277rqr1KMCUIS1EaAS1ZR6gMVw4cKFGBgYKPwLuba2NhoaGuLEiROxdevWiIjo7OyMEydOlHJM
AN7DzAU1EWFtBKgYFfFk++23347ly5fHE088EW+88UZ88IMfjLvvvjtGR0cjn89HRMTKlStjdHS0
xJMCEPHufnZ/f38MDg7G+vXrY8uWLdHR0WFtBKg4FVG2L168GD//+c/js5/9bKxduzaeeeaZOHbs
2GWfl8vlCv97aGgoRkZGZn08n89HXV02IqmtrS08ASp3M5lmJdsI+aYm37SykG9/f3/s3bu3sJ/d
09MTt912W3z84x+Pj3/846Ueb15ZyHaG925a8k0nS5kuREV8N01NTdHU1BRr166NiIiPfvSjcezY
scjn8zEyMhL5fD6Gh4djxYoVhT9z/PjxOHLkyKyvs2vXrti9e/eSzl5NWlpaSj1CRZNvWvJdXIOD
g7P2swcHB2PPnj0lnqoyee+mJV+upCLKdj6fj1WrVsUvf/nLeN/73hevvvpqrFmzJtasWRN9fX2x
c+fO6O/vj7a2tsKf2bZt26zfz3ydc+fOxeTk5FJ/C1dt2bJlMT4+XuoxFqSuri5aWloyk22EfFOT
b1rlmO/k5GT09fUVjvVbt27drGP91q9fH2fPni31mFdUjtnOx3s3LfmmM5NtpaiIsh0RsWfPnnj8
8cdjamoqWlpaYt++fXHx4sU4ePBg9Pb2xqpVq6K7u7vw+TNPw+c6e/Zs4WlLOaurq8vEnJeanJzM
zMzyTUu+aZVjvn19fZcd69fT0zNrZ7vcZi6mHLO9Eu/dtOTLlVRM2f7ABz4QDzzwwGWv79+/vwTT
AHCpYsf6dXd3x549ezLzkAPgWlRM2QagfLgNEuBdyjYAi85tkADvUrYBWHRugwR4l7INwHWZuzLS
0dFRuA3S2ghQ7ZRtAK7L3JWRQ4cORWdnp7URgFC2AbhOc1dGXnvttejq6ir8AqhmyjYAV8VJIwAL
p2wDcFWcNAKwcMo2AFfFSSMAC6dsAzAvJ40AXB9lG4B5OWkE4Poo2wDMy0kjANenptQDAFC+ZlZG
IsLKCMA18GQbgIK5O9rt7e1WRgCug7INQEGxHW0rIwDXzhoJAAXFdrQBuHaebANUMbdBAqSlbANU
MbdBAqSlbANUMbdBAqSlbANUCbdBAiw9ZRugSrgNEmDpKdsAVcJtkABLT9kGqFBOGgEoPWUboEI5
aQSg9JRtgArlpBGA0lO2ASrEzNrIwMBAtLa2WhsBKAMLLtt//ud/Hvv374+tW7emnAeAa2RtBKD8
LLhsT01NxWc+85m46aab4g//8A/j/vvvj3Xr1qWcbclduHAh6uvro66u/B/419TURGNjY6nHWJBc
LhfvvPNOZrKNkG9q8k1jYGBg1trIq6++Gvfee2/s2LGjxJMVl6VsZ3jvpiXftLKSby6XK/UIi2rB
745vfetb8c1vfjOefvrp+M53vhN/8zd/E7fffnt86Utfii984QuRz+dTzrkkGhoaYnh4uPB/VuWs
sbExxsbGSj3GgtTX10dzc3OMjo5mItsI+aYm3zRaW1tnrY20traWdc5ZynaG925a8k0rK/nW19eX
eoRFVXM1n1xbWxuf//zn47vf/W786Ec/irNnz8Yf/dEfxQc+8IH4yle+Eq+//nqqOQG4xNTUVPT1
9cUTTzwRfX19cfHixejo6IhDhw7FP/zDP8QTTzxhbQSgDFxV2R4aGop//ud/jt27d8cnP/nJuP32
2+Po0aPxP//zP5HP52PPnj2p5gTgEjP72Q899FDs27cv+vv7o6amJrq6uuLee++NrVu3Rk3NVf0r
HoAEFrxGcs8998T3v//9+OQnPxlf/epXY9++fbFs2bLCxx9++OFYtWpVkiEBmG2+2yABKC8LLtvb
t2+Pv/u7v4sPfOADRT9eU1MTv/jFLxZtMAD+j9sgAbJpwWX7L//yL6/4OcuXL7+uYQAozrF+ANmU
jbNqAKqc2yABsknZBigzc1dGOjo6YuPGjdZGADJI2QYoM3NXRg4dOhSdnZ3WRgAySNkGKDPznTQy
8wuA7FC2AUrMSSMAlUvZBigxJ40AVC5lG6DEnDQCULmUbYAlZm0EoHoo2wBLzNoIQPVQtgGWmLUR
gOpRU+oBAKrNzAU1EWFtBKDCebINkFCx2yA7OjqsjQBUCWUbIKFit0G6oAagelgjAUio2G2QAFQP
T7YBFpFj/QC4lLINsIgc6wfApZRtgEXkWD8ALqVsA1yjYieNzBzrZ20EgAhlG+CaFTtppLOz09oI
AAXKNsA1KnbSiGP9ALhUxZTtixcvxiOPPBJNTU1x3333xdjYWBw8eDDOnz8fzc3N0d3dHQ0NDaUe
E8gwJ40AcLUqpmz/+Mc/jptuuinGx8cjIuLYsWOxadOm2LlzZxw7diyOHj0ad911V4mnBLLMSSMA
XK2KuNTm/PnzcerUqbj11lsLr504cSK2bt0aERGdnZ1x4sSJUo0HVIhiJ410dXXFvn37YuvWrVFT
UxH/SgVgEVXEk+3vf//7cddddxWeakdEjI6ORj6fj4iIlStXxujoaKnGAzJqamoq+vv7Y3BwMNav
X29tBICrlvmy/fLLL8eKFSvi5ptvjldffXXez8vlcrN+PzQ0FCMjI7Ney+fzUVeXjUhqa2ujvr6+
1GMsyEymWck2Qr6pZSXf/v7+2Lt3b6FcP/XUU9HT01PY2e7q6ora2tpSj3mZrOTrvZuWfNOSbzpZ
ynQhMv/dDAwMxMmTJ+PUqVMxOTkZ4+Pj8fjjj0c+n4+RkZHI5/MxPDwcK1asmPXnjh8/HkeOHJn1
2q5du2L37t1LOX5VaWlpKfUIFU2+i29wcHDW2siZM2figQceKPFUlcd7Ny35piVfriQ3PT09Xeoh
FsuZM2fi+eefj/vuuy+effbZWL58eeEHJMfGxmb9gOR8T7anpqZicnJyqUe/asuWLZu1NlPO6urq
oqWlJc6dO5eJbCPkm1o55js5ORl9fX2znlr39vbOerLd09MTt912W6lHvaJyzLcY79205JuWfNOZ
ybZSZP7J9nx27twZBw8ejN7e3li1alV0d3fP+nhTU1M0NTVd9ufOnj1beJJVzurq6jIx56UmJycz
M7N80yrHfPv6+opeUNPT01PY2d6yZUvZzV1MOeb7Xrx305JvWvLlSiqqbG/cuLHwA0vLly+P/fv3
l3YgIDPmu6Dmtttuiz179mTmL+IAlBfnVAHEu39Zn/nBISeNALBYKurJNsBCzb0Nsr293QU1ACw6
ZRuoSnNvgzx06FB0dXVFV1dXqUcDoIJYIwGqUrEdbQBYbJ5sA1Vh7tqI2yABWArKNlAV5q6NHD58
2I42AMkp20BVmLs2cvr06di3b58dbQCSUraBijN3ZaSjo6NwtJ+1EQCWkrINVJxiJ410dnZaGwFg
ySnbQMWZ7zZIR/sBsNSUbSDznDQCQLlStoHMc9IIAOVK2QYyz0kjAJQrZRvIFCeNAJAlyjaQKU4a
ASBLlG0gU5w0AkCW1JR6AICrMbMyEhFWRgAoe55sA2Vt7o52e3u7lREAMkPZBspasR1tKyMAZIU1
EqCsFdvRBoCs8GQbKCtugwSgkijbQFlxGyQAlUTZBsqK2yABqCTKNlAyboMEoNIp20DJuA0SgEqn
bAMl4zZIACqdsg0smZm1kYGBgWhtbXXSCAAVT9kGloyTRgCoNsr2JS5cuBD19fVRV1f+sdTU1ERj
Y2Opx1iQXC4X77zzTmayjZBvKgMDA7PWRl599dW49957Y8eOHSWebH5ZyndGVt6/sk1LvmnJN51c
LlfqERZVNt4dS6ShoSGGh4cLZaCcNTY2xtjYWKnHWJD6+vpobm6O0dHRTGQbId/FUOykkdbW1llr
I62trWWfc7nm+16y8v6VbVryTUu+6dTX15d6hEWlbANJvNdJI4ODg9Ha2mptBICKp2wDSbzXSSM7
duzIxNMVALheNaUeAKhMM5fTRISTRgCoWp5sA4ti7o52e3u7k0YAqHrKNrAoiu1ou5wGgGpnjQRY
FMV2tAGg2nmyDVyTuWsjboMEgMsp28A1cRskAFyZsg1ck7lrI6dPn459+/bZ0QaASyjbwBUVuw1y
5mg/ayMAMD9lG7ii97oN0toIAMxP2Qau6L1ug7Q2AgDzU7aByzhpBAAWh7INXMZJIwCwOJRt4DJO
GgGAxaFsA9ZGACARZRuwNgIAiSjbgLURAEhE2YYq44IaAFg6yjZUGRfUAMDSUbahyrigBgCWTk2p
BwCW1szKSERYGQGAxDzZhgo3d0e7vb3dyggALBFlGypcsR1tKyMAsDSskUCFK7ajDQAsjYp4sn3+
/Pk4dOhQjI6ORi6Xi1tvvTW2b98eY2NjcfDgwTh//nw0NzdHd3d3NDQ0lHpcSMaxfgBQXiqibNfU
1MRnPvOZuPnmm2N8fDweeeSR2Lx5c/T19cWmTZti586dcezYsTh69GjcddddpR4XknGsHwCUl4pY
I1m5cmXcfPPNERGxbNmyeN/73hdDQ0Nx4sSJ2Lp1a0REdHZ2xokTJ0o5JiRXbGWkpqYmurq6Yt++
fbF169aoqamIf+wBIBMq4sn2pc6dOxdvvPFGrFu3LkZHRyOfz0fEu4V8dHS0xNPB4pqamor+/v4Y
HByM9evXx4YNG6yMAEAZqaiyPT4+HgcOHIg9e/bEsmXLLvt4Lpcr/O+hoaEYGRmZ9fF8Ph91ddmI
pLa2tnBWcrmbyTQr2UZkJ9/+/v7Yu3dvoVw/9dRT0dPTU9jZ7urqitra2lKPeZms5Bvh/ZuSbNOS
b1ryTSdLmS5ExXw3U1NTceDAgejs7IyPfOQjEfFueR4ZGYl8Ph/Dw8OxYsWKwucfP348jhw5Mutr
7Nq1K3bv3r2kc1eTlpaWUo9QcQYHB2etjZw5cyYeeOCBEk9Vmbx/05FtWvJNS75cScWU7Z6enrjp
ppti+/bthdfa2tqir68vdu7cGf39/dHW1lb42LZt22b9PuLdcn7u3LmYnJxcsrmv1bJly2J8fLzU
YyxIXV1O9UTUAAARN0lEQVRdtLS0ZCbbiPLNd3JyMvr6+gpPrtetWzdrbWT9+vVx9uzZUo95ReWa
bzHev+nINi35piXfdGayrRQVUbYHBgbihRdeiDVr1sQ//uM/RkTEnXfeGb/5m78ZBw8ejN7e3li1
alV0d3cX/kxTU1M0NTVd9rXOnj1beFJYzurq6jIx56UmJyczM3O55tvX1zfrtJHDhw9HT09PYWd7
y5YtZTn3XOWa73vx/k1HtmnJNy35ciUVUbZbW1vjr/7qr4p+bP/+/Us8DaQz97SR06dPR3d3d+zZ
syczf1EEgGpSEWUbKpELagAg+5RtKFMuqAGA7FO2oUwVu6Cmq6ur8AsAKH+ukoMyNbMyEhFWRgAg
ozzZhjIxd0e7vb3dyggAZJyyDWWi2I62lREAyDZrJFAmiu1oAwDZ5sk2lIBj/QCgOijbUAKO9QOA
6qBsQwk41g8AqoOyDUtg7trIhg0brIwAQBVQtmEJzF0bOXz4sJURAKgCyjYsgblrI6dPn459+/ZZ
GQGACqdsQwLWRgCACGUbkrA2AgBEKNuQhLURACBC2Ybr5oIaAGA+yjZcJxfUAADzUbbhOrmgBgCY
T02pB4Csm1kZiQgrIwDALJ5sw1Wau6Pd3t5uZQQAKErZhqtUbEfbyggAUIw1ErhKxXa0AQCK8WQb
rsBtkADAtVK24QrcBgkAXCtlG67AbZAAwLVStuESMysjAwMD0dra6jZIAOC6KNtwCbdBAgCLSdm+
xIULF6K+vj7q6so/lpqammhsbCz1GAuSy+XinXfeyUS2AwMDs1ZGBgcHY8eOHYVf5ShL+c7w/k0r
K/nKNi35piXfdHK5XKlHWFTZeHcskYaGhhgeHi6UrXLW2NgYY2NjpR5jQerr66O5uTlGR0fLLtu5
J42sX79+1spIa2tr2edczvnOx/s3razkK9u05JuWfNOZuZW5UijbVLX5ThoZHBws7GwDAFwrZZuq
Nt9JIzt27MjE3/4BgPKmbFM15q6MOGkEAEhN2aZqOGkEAFhqyjZVY+7KyGuvvRZdXV2FXwAAi62m
1APAUplZGYkIKyMAwJLwZJuKNXdHu7293coIALCklG0qVrEdbSsjAMBSskZCxSq2ow0AsJQ82aZi
zF0b2bBhg2P9AICSUrapGPPdBmlHGwAoFWWbijHfbZB2tAGAUlG2ySS3QQIAWaBsk0lugwQAskDZ
JpPcBgkAZIGyTSY4aQQAyCJlm0xw0ggAkEXKNpngpBEAIIuUbcqOk0YAgEqhbFN2nDQCAFQKZZuy
46QRAKBSKNuUnJNGAIBKpWxTck4aAQAqlbJNyTlpBACoVDWlHgBmThqJCGsjAEBFqfgn26dOnYpn
nnkmpqen49Zbb42dO3eWeqSqN3dHu7293doIAFCRKrpsX7x4Mf7jP/4j9u/fHytXroxHHnkk2tra
4qabbir1aFWt2NF+ThoBACpRRa+RvP7667F69epobm6O2traaG9vj5MnT5Z6rKpX7Gg/AIBKVNFP
toeHh6Opqanw+6ampnj99ddLOFH1mZqaiv7+/hgcHIz169fHli1b3AYJAFSNii7b72VoaChGRkZm
vZbP56OuLhuR1NbWFn6osJz19/fH3r17C8W6p6cnbr311ujp6SnsbHd1dUVtbW2pR50lK/lGROE9
m5X3boR8U8tKvrJNS75pyTedLGW6EJX13cyxcuXKOH/+fOH3Q0NDhSfdx48fjyNHjsz6/F27dsXu
3buXdMZKNzg4OGtlZHBwMPbs2RN79uwp8WSVp6WlpdQjVDT5piPbtOSblny5koou22vXro233nor
3n777cjn8/Hiiy/GPffcExER27Zti7a2tlmfn8/n49y5czE5OVmKca/KsmXLYnx8vNRjXNH69etn
rYysX78+zp49W+qxrigr+Ua8+wSgpaUlM+/dCPmmlpV8ZZuWfNOSbzoz2VaKii7bNTU18dnPfjb+
9V//Naanp6Orq6twEklTU9Osfe4ZZ8+eLTyJLWd1dXWZmHPLli3R09Mza2c7C3NnJd9LTU5OZmZm
+aaVtXxlm5Z805IvV1LRZTsi4pZbbolbbrml1GNUrZqamrjttttiz549mfmLDADAYqnoo/8AAKCU
lG0AAEhE2QYAgESUbQAASETZBgCARJRtAABIRNkGAIBElG0AAEhE2QYAgESUbQAASETZBgCARJRt
AABIRNkGAIBElG0AAEhE2QYAgESUbQAASETZBgCARJRtAABIRNkGAIBElG0AAEhE2QYAgESUbQAA
SETZBgCARJRtAABIRNkGAIBElG0AAEhE2QYAgESUbQAASCQ3PT09XeohysWFCxfiwoULkYVIampq
4uLFi6UeY0FyuVzccMMN8atf/SoT2UbINzX5ppWVfGWblnzTkm86uVwumpubSz3Goqkr9QDlpKGh
IYaHh2NiYqLUo1xRY2NjjI2NlXqMBamvr4/m5uYYHR3NRLYR8k1NvmllJV/ZpiXftOSbTn19falH
WFTWSAAAIBFlGwAAElG2AQAgEWUbAAASUbYBACARZRsAABJRtgEAIBFlGwAAElG2AQAgEWUbAAAS
UbYBACARZRsAABJRtgEAIBFlGwAAElG2AQAgEWUbAAASUbYBACARZRsAABJRtgEAIBFlGwAAElG2
AQAgEWUbAAASUbYBACARZRsAABJRtgEAIJG6Ug9wvZ599tl4+eWXo7a2Nm688cbYu3dvNDQ0RETE
0aNHo7e3N2pqauLuu++OD3/4wyWeFgCAapL5J9ubN2+OBx98ML72ta/FjTfeGMeOHYuIiDfffDNe
eumleOihh+L++++P733vezE9PV3iaQEAqCYVUbZrat79NtatWxdDQ0MREXHy5Mlob2+P2traaGlp
idWrV8frr79eylEBAKgymS/bl+rt7Y1bbrklIiKGh4ejqamp8LGVK1cWijgAACyFTOxsP/roozEy
MnLZ63feeWe0tbVFRMRzzz0XtbW1sWXLlgV9zaGhocu+Zj6fj7q6TEQStbW1UV9fX+oxFmQm06xk
GyHf1OSbVlbylW1a8k1LvulkKdOFyMR386Uvfek9P97b2xunTp2K/fv3F16b+yR7aGho1pPu48eP
x5EjR2Z9nQ0bNsTv/d7vRUtLyyJNTsS72f/nf/5nbNu2TbYJyDct+aYj27Tkm5Z807k020u7W1Zl
fo3k1KlT8fzzz8cf/MEfzPqbUFtbW7z44osxOTkZ586di7feeivWrl1b+Pi2bdvigQceKPz63d/9
3XjttdeKPkHn+oyMjMSRI0dkm4h805JvOrJNS75pyTedSss2E0+238vTTz8dU1NT8eijj0bEuz8k
+fnPfz7WrFkTH/vYx+Lb3/521NbWxuc+97nI5XKFP9fU1FQRf1sCAKB8Zb5s/9mf/dm8H7vjjjvi
jjvuWMJpAADg/2R+jQQAAMpV7V//9V//damHKAfT09Nxww03xMaNG2PZsmWlHqeiyDYt+aYl33Rk
m5Z805JvOpWWbebXSK7X3Oveb7jhhsLHXPe+OH7xi1/Eiy++GC+88ELceuutsXPnzlKPlFnnz5+P
Q4cOxejoaORyubj11ltj+/btsX379jh48GCcP38+mpubo7u7OxoaGko9bmZdvHgxHnnkkWhqaor7
7rtPvovowoUL8eSTT8abb74ZuVwu9u7dG/X19fHoo4/K9zr98Ic/jJ/85CeRy+Xi/e9/f+zdu9d7
9zr09PTEyy+/HCtWrIgHH3wwIiLGxsbmzVNnuDrF8q3UTubJdkT89m//dnz84x+Pn//85zE4OBib
Nm2KN998M5577rn46le/Gm1tbfHYY4/F7bffPuuHLLmyixcvxne+85340pe+FDt37oynn346Nm7c
GCtWrCj1aJk0MTERra2t8elPfzo6Ojri8OHDsWnTpviv//qvWLNmTXR3d8fw8HCcPn06Nm/eXOpx
M+tHP/pRXLx4MaampmLLli3xgx/8QL6L5PDhw7F58+bYu3dvbNu2LRoaGuLYsWPyvU5DQ0Px1FNP
xYMPPhi33357vPTSSzE1NRUnTpyQ7TVqbGyMrq6uOHHiRPzGb/xGRMS8/y7QGa5esXwjKrOTVf3O
tuve03r99ddj9erV0dzcHLW1tdHe3h4nT54s9ViZtXLlyrj55psjImLZsmXxvve9L4aGhuLEiROx
devWiIjo7OyMEydOlHLMTDt//nycOnUqbr311sJr8l0cFy5ciIGBgejq6oqIdy/YaGhokO8imZ6e
jomJiZiamoqJiYlYuXKlbK/Dhg0borGxcdZr8+WpM1y9YvlWaier+jWSS/X29hZuoBweHo5169YV
Pua692szPDw864jFpqamTP0DUs7OnTsXb7zxRqxbty5GR0cjn89HxLvv1dHR0RJPl13f//734667
7orx8fHCa/JdHG+//XYsX748nnjiiXjjjTfigx/8YNx9993yXQRNTU3xiU98Ir75zW9GfX19bN68
OTZv3izbRTZfnjrD4qukTlYVZTvFde9QSuPj43HgwIHYs2dP0R8eycp/Wis3M/uDN998c7z66qvz
fp58r83Fixfj5z//eXz2s5+NtWvXxjPPPBPHjh277PPke/XGxsbi5MmT8Y1vfCMaGhriwIED8dOf
/vSyz5Pt4pJnGpXWyaqibKe47p2FWblyZZw/f77wezlev6mpqThw4EB0dnbGRz7ykYiIyOfzMTIy
Evl8PoaHh+3EX6OBgYE4efJknDp1KiYnJ2N8fDwef/xx+S6SmcvEZm7z/ehHPxrHjh2T7yJ45ZVX
oqWlJZYvXx4R72Y7ODgo20U2X546w+KpxE5W9Tvb13rdOwuzdu3aeOutt+Ltt9+OycnJePHFFwv/
NYFr09PTEzfddFNs37698FpbW1v09fVFRER/f7+Mr9Fv/dZvxV/8xV/EN77xjbjnnnviQx/6UHzh
C1+IX/u1X5PvIsjn87Fq1ar45S9/GRERr776aqxZs8b7dxGsWrUqfvazn8XExERMT0/HK6+8Ejfd
dJNsr9P09PSs38+Xp85wbebmW6mdLDc99zutMt/61rdiamqqsKQ/c917xLvHzPzkJz+J2trazB0z
U05OnToVzzzzTExPT0dXV5dbPa/DwMBA/Mu//EusWbOm8J8v77zzzli7dm0cPHgwhoaGYtWqVdHd
3X3ZD55wdc6cORPPP/983HffffHOO+/Id5G88cYb8eSTT8bU1FS0tLTEvn374uLFi/JdBD/4wQ/i
xRdfjJqamrj55pvjd37nd2J8fFy21+ixxx6LM2fOxNjYWKxYsSJ2794dH/nIR+LAgQNF89QZrk6x
fI8ePVqRnazqyzYAAKRS9WskAACQirINAACJKNsAAJCIsg0AAIko2wAAkIiyDQAAiSjbAACQiLIN
AACJKNsAAJCIsg0AAIko2wAAkIiyDQAAiSjbAACQiLINAACJKNsAAJCIsg0AAIko2wAAkIiyDQAA
iSjbAACQiLINAACJKNsAAJCIsg2QEa+88kqsXr06+vr6IiLif//3f2PNmjXx3HPPlXgyAOajbANk
xKZNm+Jv//Zv44tf/GKMjY3Fl7/85fjyl78cn/zkJ0s9GgDzyE1PT0+XeggAFm7fvn3xyiuvRE1N
Tfz3f/931NfXl3okAObhyTZAxnzlK1+Jl156Kb7+9a8r2gBlzpNtgAwZHR2Nzs7O+PSnPx1PP/10
vPDCC9Hc3FzqsQCYh7INkCF//Md/HGNjY/Fv//Zv8Sd/8ifx9ttvx7//+7+XeiwA5mGNBCAjnnzy
yXj22Wfj7//+7yMi4uGHH47e3t747ne/W+LJAJiPJ9sAAJCIJ9sAAJCIsg0AAIko2wAAkIiyDQAA
iSjbAACQiLINAACJKNsAAJCIsg0AAIko2wAAkMj/A8MxhAXB/wGUAAAAAElFTkSuQmCC
"
>
</div>

</div>

<div class="output_area"><div class="prompt output_prompt">Out[4]:</div>


<div class="output_text output_subarea output_execute_result">
<pre>&lt;ggplot: (284489433)&gt;</pre>
</div>

</div>

</div>
</div>

</div>
<div class="cell border-box-sizing code_cell rendered">
<div class="input">
<div class="prompt input_prompt">In&nbsp;[5]:</div>
<div class="inner_cell">
    <div class="input_area">
<div class=" highlight hl-ipython2"><pre><span></span><span class="n">qplot</span><span class="p">(</span><span class="n">np</span><span class="o">.</span><span class="n">random</span><span class="o">.</span><span class="n">normal</span><span class="p">(</span><span class="mi">0</span><span class="p">,</span> <span class="mi">1</span><span class="p">,</span> <span class="mi">10000</span><span class="p">))</span>
</pre></div>

</div>
</div>
</div>

<div class="output_wrapper">
<div class="output">


<div class="output_area"><div class="prompt"></div>


<div class="output_png output_subarea ">
<img src="data:image/png;base64,iVBORw0KGgoAAAANSUhEUgAAAr8AAAIACAYAAACLhQROAAAABHNCSVQICAgIfAhkiAAAAAlwSFlz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=
"
>
</div>

</div>

<div class="output_area"><div class="prompt output_prompt">Out[5]:</div>


<div class="output_text output_subarea output_execute_result">
<pre>&lt;ggplot: (285671789)&gt;</pre>
</div>

</div>

</div>
</div>

</div>
<div class="cell border-box-sizing code_cell rendered">
<div class="input">
<div class="prompt input_prompt">In&nbsp;[&nbsp;]:</div>
<div class="inner_cell">
    <div class="input_area">
<div class=" highlight hl-ipython2"><pre><span></span> 
</pre></div>

</div>
</div>
</div>

</div>
    </div>
  </div>
</body>
</html>
