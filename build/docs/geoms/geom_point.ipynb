<!DOCTYPE html>
<html>
<head><meta charset="utf-8" />
<title>geom_point</title>

<script src="https://cdnjs.cloudflare.com/ajax/libs/require.js/2.1.10/require.min.js"></script>
<script src="https://cdnjs.cloudflare.com/ajax/libs/jquery/2.0.3/jquery.min.js"></script>

<style type="text/css">
    /*!
*
* Twitter Bootstrap
*
*/
/*!
 * Bootstrap v3.3.6 (http://getbootstrap.com)
 * Copyright 2011-2015 Twitter, Inc.
 * Licensed under MIT (https://github.com/twbs/bootstrap/blob/master/LICENSE)
 */
/*! normalize.css v3.0.3 | MIT License | github.com/necolas/normalize.css */
html {
  font-family: sans-serif;
  -ms-text-size-adjust: 100%;
  -webkit-text-size-adjust: 100%;
}
body {
  margin: 0;
}
article,
aside,
details,
figcaption,
figure,
footer,
header,
hgroup,
main,
menu,
nav,
section,
summary {
  display: block;
}
audio,
canvas,
progress,
video {
  display: inline-block;
  vertical-align: baseline;
}
audio:not([controls]) {
  display: none;
  height: 0;
}
[hidden],
template {
  display: none;
}
a {
  background-color: transparent;
}
a:active,
a:hover {
  outline: 0;
}
abbr[title] {
  border-bottom: 1px dotted;
}
b,
strong {
  font-weight: bold;
}
dfn {
  font-style: italic;
}
h1 {
  font-size: 2em;
  margin: 0.67em 0;
}
mark {
  background: #ff0;
  color: #000;
}
small {
  font-size: 80%;
}
sub,
sup {
  font-size: 75%;
  line-height: 0;
  position: relative;
  vertical-align: baseline;
}
sup {
  top: -0.5em;
}
sub {
  bottom: -0.25em;
}
img {
  border: 0;
}
svg:not(:root) {
  overflow: hidden;
}
figure {
  margin: 1em 40px;
}
hr {
  box-sizing: content-box;
  height: 0;
}
pre {
  overflow: auto;
}
code,
kbd,
pre,
samp {
  font-family: monospace, monospace;
  font-size: 1em;
}
button,
input,
optgroup,
select,
textarea {
  color: inherit;
  font: inherit;
  margin: 0;
}
button {
  overflow: visible;
}
button,
select {
  text-transform: none;
}
button,
html input[type="button"],
input[type="reset"],
input[type="submit"] {
  -webkit-appearance: button;
  cursor: pointer;
}
button[disabled],
html input[disabled] {
  cursor: default;
}
button::-moz-focus-inner,
input::-moz-focus-inner {
  border: 0;
  padding: 0;
}
input {
  line-height: normal;
}
input[type="checkbox"],
input[type="radio"] {
  box-sizing: border-box;
  padding: 0;
}
input[type="number"]::-webkit-inner-spin-button,
input[type="number"]::-webkit-outer-spin-button {
  height: auto;
}
input[type="search"] {
  -webkit-appearance: textfield;
  box-sizing: content-box;
}
input[type="search"]::-webkit-search-cancel-button,
input[type="search"]::-webkit-search-decoration {
  -webkit-appearance: none;
}
fieldset {
  border: 1px solid #c0c0c0;
  margin: 0 2px;
  padding: 0.35em 0.625em 0.75em;
}
legend {
  border: 0;
  padding: 0;
}
textarea {
  overflow: auto;
}
optgroup {
  font-weight: bold;
}
table {
  border-collapse: collapse;
  border-spacing: 0;
}
td,
th {
  padding: 0;
}
/*! Source: https://github.com/h5bp/html5-boilerplate/blob/master/src/css/main.css */
@media print {
  *,
  *:before,
  *:after {
    background: transparent !important;
    color: #000 !important;
    box-shadow: none !important;
    text-shadow: none !important;
  }
  a,
  a:visited {
    text-decoration: underline;
  }
  a[href]:after {
    content: " (" attr(href) ")";
  }
  abbr[title]:after {
    content: " (" attr(title) ")";
  }
  a[href^="#"]:after,
  a[href^="javascript:"]:after {
    content: "";
  }
  pre,
  blockquote {
    border: 1px solid #999;
    page-break-inside: avoid;
  }
  thead {
    display: table-header-group;
  }
  tr,
  img {
    page-break-inside: avoid;
  }
  img {
    max-width: 100% !important;
  }
  p,
  h2,
  h3 {
    orphans: 3;
    widows: 3;
  }
  h2,
  h3 {
    page-break-after: avoid;
  }
  .navbar {
    display: none;
  }
  .btn > .caret,
  .dropup > .btn > .caret {
    border-top-color: #000 !important;
  }
  .label {
    border: 1px solid #000;
  }
  .table {
    border-collapse: collapse !important;
  }
  .table td,
  .table th {
    background-color: #fff !important;
  }
  .table-bordered th,
  .table-bordered td {
    border: 1px solid #ddd !important;
  }
}
@font-face {
  font-family: 'Glyphicons Halflings';
  src: url('../components/bootstrap/fonts/glyphicons-halflings-regular.eot');
  src: url('../components/bootstrap/fonts/glyphicons-halflings-regular.eot?#iefix') format('embedded-opentype'), url('../components/bootstrap/fonts/glyphicons-halflings-regular.woff2') format('woff2'), url('../components/bootstrap/fonts/glyphicons-halflings-regular.woff') format('woff'), url('../components/bootstrap/fonts/glyphicons-halflings-regular.ttf') format('truetype'), url('../components/bootstrap/fonts/glyphicons-halflings-regular.svg#glyphicons_halflingsregular') format('svg');
}
.glyphicon {
  position: relative;
  top: 1px;
  display: inline-block;
  font-family: 'Glyphicons Halflings';
  font-style: normal;
  font-weight: normal;
  line-height: 1;
  -webkit-font-smoothing: antialiased;
  -moz-osx-font-smoothing: grayscale;
}
.glyphicon-asterisk:before {
  content: "\002a";
}
.glyphicon-plus:before {
  content: "\002b";
}
.glyphicon-euro:before,
.glyphicon-eur:before {
  content: "\20ac";
}
.glyphicon-minus:before {
  content: "\2212";
}
.glyphicon-cloud:before {
  content: "\2601";
}
.glyphicon-envelope:before {
  content: "\2709";
}
.glyphicon-pencil:before {
  content: "\270f";
}
.glyphicon-glass:before {
  content: "\e001";
}
.glyphicon-music:before {
  content: "\e002";
}
.glyphicon-search:before {
  content: "\e003";
}
.glyphicon-heart:before {
  content: "\e005";
}
.glyphicon-star:before {
  content: "\e006";
}
.glyphicon-star-empty:before {
  content: "\e007";
}
.glyphicon-user:before {
  content: "\e008";
}
.glyphicon-film:before {
  content: "\e009";
}
.glyphicon-th-large:before {
  content: "\e010";
}
.glyphicon-th:before {
  content: "\e011";
}
.glyphicon-th-list:before {
  content: "\e012";
}
.glyphicon-ok:before {
  content: "\e013";
}
.glyphicon-remove:before {
  content: "\e014";
}
.glyphicon-zoom-in:before {
  content: "\e015";
}
.glyphicon-zoom-out:before {
  content: "\e016";
}
.glyphicon-off:before {
  content: "\e017";
}
.glyphicon-signal:before {
  content: "\e018";
}
.glyphicon-cog:before {
  content: "\e019";
}
.glyphicon-trash:before {
  content: "\e020";
}
.glyphicon-home:before {
  content: "\e021";
}
.glyphicon-file:before {
  content: "\e022";
}
.glyphicon-time:before {
  content: "\e023";
}
.glyphicon-road:before {
  content: "\e024";
}
.glyphicon-download-alt:before {
  content: "\e025";
}
.glyphicon-download:before {
  content: "\e026";
}
.glyphicon-upload:before {
  content: "\e027";
}
.glyphicon-inbox:before {
  content: "\e028";
}
.glyphicon-play-circle:before {
  content: "\e029";
}
.glyphicon-repeat:before {
  content: "\e030";
}
.glyphicon-refresh:before {
  content: "\e031";
}
.glyphicon-list-alt:before {
  content: "\e032";
}
.glyphicon-lock:before {
  content: "\e033";
}
.glyphicon-flag:before {
  content: "\e034";
}
.glyphicon-headphones:before {
  content: "\e035";
}
.glyphicon-volume-off:before {
  content: "\e036";
}
.glyphicon-volume-down:before {
  content: "\e037";
}
.glyphicon-volume-up:before {
  content: "\e038";
}
.glyphicon-qrcode:before {
  content: "\e039";
}
.glyphicon-barcode:before {
  content: "\e040";
}
.glyphicon-tag:before {
  content: "\e041";
}
.glyphicon-tags:before {
  content: "\e042";
}
.glyphicon-book:before {
  content: "\e043";
}
.glyphicon-bookmark:before {
  content: "\e044";
}
.glyphicon-print:before {
  content: "\e045";
}
.glyphicon-camera:before {
  content: "\e046";
}
.glyphicon-font:before {
  content: "\e047";
}
.glyphicon-bold:before {
  content: "\e048";
}
.glyphicon-italic:before {
  content: "\e049";
}
.glyphicon-text-height:before {
  content: "\e050";
}
.glyphicon-text-width:before {
  content: "\e051";
}
.glyphicon-align-left:before {
  content: "\e052";
}
.glyphicon-align-center:before {
  content: "\e053";
}
.glyphicon-align-right:before {
  content: "\e054";
}
.glyphicon-align-justify:before {
  content: "\e055";
}
.glyphicon-list:before {
  content: "\e056";
}
.glyphicon-indent-left:before {
  content: "\e057";
}
.glyphicon-indent-right:before {
  content: "\e058";
}
.glyphicon-facetime-video:before {
  content: "\e059";
}
.glyphicon-picture:before {
  content: "\e060";
}
.glyphicon-map-marker:before {
  content: "\e062";
}
.glyphicon-adjust:before {
  content: "\e063";
}
.glyphicon-tint:before {
  content: "\e064";
}
.glyphicon-edit:before {
  content: "\e065";
}
.glyphicon-share:before {
  content: "\e066";
}
.glyphicon-check:before {
  content: "\e067";
}
.glyphicon-move:before {
  content: "\e068";
}
.glyphicon-step-backward:before {
  content: "\e069";
}
.glyphicon-fast-backward:before {
  content: "\e070";
}
.glyphicon-backward:before {
  content: "\e071";
}
.glyphicon-play:before {
  content: "\e072";
}
.glyphicon-pause:before {
  content: "\e073";
}
.glyphicon-stop:before {
  content: "\e074";
}
.glyphicon-forward:before {
  content: "\e075";
}
.glyphicon-fast-forward:before {
  content: "\e076";
}
.glyphicon-step-forward:before {
  content: "\e077";
}
.glyphicon-eject:before {
  content: "\e078";
}
.glyphicon-chevron-left:before {
  content: "\e079";
}
.glyphicon-chevron-right:before {
  content: "\e080";
}
.glyphicon-plus-sign:before {
  content: "\e081";
}
.glyphicon-minus-sign:before {
  content: "\e082";
}
.glyphicon-remove-sign:before {
  content: "\e083";
}
.glyphicon-ok-sign:before {
  content: "\e084";
}
.glyphicon-question-sign:before {
  content: "\e085";
}
.glyphicon-info-sign:before {
  content: "\e086";
}
.glyphicon-screenshot:before {
  content: "\e087";
}
.glyphicon-remove-circle:before {
  content: "\e088";
}
.glyphicon-ok-circle:before {
  content: "\e089";
}
.glyphicon-ban-circle:before {
  content: "\e090";
}
.glyphicon-arrow-left:before {
  content: "\e091";
}
.glyphicon-arrow-right:before {
  content: "\e092";
}
.glyphicon-arrow-up:before {
  content: "\e093";
}
.glyphicon-arrow-down:before {
  content: "\e094";
}
.glyphicon-share-alt:before {
  content: "\e095";
}
.glyphicon-resize-full:before {
  content: "\e096";
}
.glyphicon-resize-small:before {
  content: "\e097";
}
.glyphicon-exclamation-sign:before {
  content: "\e101";
}
.glyphicon-gift:before {
  content: "\e102";
}
.glyphicon-leaf:before {
  content: "\e103";
}
.glyphicon-fire:before {
  content: "\e104";
}
.glyphicon-eye-open:before {
  content: "\e105";
}
.glyphicon-eye-close:before {
  content: "\e106";
}
.glyphicon-warning-sign:before {
  content: "\e107";
}
.glyphicon-plane:before {
  content: "\e108";
}
.glyphicon-calendar:before {
  content: "\e109";
}
.glyphicon-random:before {
  content: "\e110";
}
.glyphicon-comment:before {
  content: "\e111";
}
.glyphicon-magnet:before {
  content: "\e112";
}
.glyphicon-chevron-up:before {
  content: "\e113";
}
.glyphicon-chevron-down:before {
  content: "\e114";
}
.glyphicon-retweet:before {
  content: "\e115";
}
.glyphicon-shopping-cart:before {
  content: "\e116";
}
.glyphicon-folder-close:before {
  content: "\e117";
}
.glyphicon-folder-open:before {
  content: "\e118";
}
.glyphicon-resize-vertical:before {
  content: "\e119";
}
.glyphicon-resize-horizontal:before {
  content: "\e120";
}
.glyphicon-hdd:before {
  content: "\e121";
}
.glyphicon-bullhorn:before {
  content: "\e122";
}
.glyphicon-bell:before {
  content: "\e123";
}
.glyphicon-certificate:before {
  content: "\e124";
}
.glyphicon-thumbs-up:before {
  content: "\e125";
}
.glyphicon-thumbs-down:before {
  content: "\e126";
}
.glyphicon-hand-right:before {
  content: "\e127";
}
.glyphicon-hand-left:before {
  content: "\e128";
}
.glyphicon-hand-up:before {
  content: "\e129";
}
.glyphicon-hand-down:before {
  content: "\e130";
}
.glyphicon-circle-arrow-right:before {
  content: "\e131";
}
.glyphicon-circle-arrow-left:before {
  content: "\e132";
}
.glyphicon-circle-arrow-up:before {
  content: "\e133";
}
.glyphicon-circle-arrow-down:before {
  content: "\e134";
}
.glyphicon-globe:before {
  content: "\e135";
}
.glyphicon-wrench:before {
  content: "\e136";
}
.glyphicon-tasks:before {
  content: "\e137";
}
.glyphicon-filter:before {
  content: "\e138";
}
.glyphicon-briefcase:before {
  content: "\e139";
}
.glyphicon-fullscreen:before {
  content: "\e140";
}
.glyphicon-dashboard:before {
  content: "\e141";
}
.glyphicon-paperclip:before {
  content: "\e142";
}
.glyphicon-heart-empty:before {
  content: "\e143";
}
.glyphicon-link:before {
  content: "\e144";
}
.glyphicon-phone:before {
  content: "\e145";
}
.glyphicon-pushpin:before {
  content: "\e146";
}
.glyphicon-usd:before {
  content: "\e148";
}
.glyphicon-gbp:before {
  content: "\e149";
}
.glyphicon-sort:before {
  content: "\e150";
}
.glyphicon-sort-by-alphabet:before {
  content: "\e151";
}
.glyphicon-sort-by-alphabet-alt:before {
  content: "\e152";
}
.glyphicon-sort-by-order:before {
  content: "\e153";
}
.glyphicon-sort-by-order-alt:before {
  content: "\e154";
}
.glyphicon-sort-by-attributes:before {
  content: "\e155";
}
.glyphicon-sort-by-attributes-alt:before {
  content: "\e156";
}
.glyphicon-unchecked:before {
  content: "\e157";
}
.glyphicon-expand:before {
  content: "\e158";
}
.glyphicon-collapse-down:before {
  content: "\e159";
}
.glyphicon-collapse-up:before {
  content: "\e160";
}
.glyphicon-log-in:before {
  content: "\e161";
}
.glyphicon-flash:before {
  content: "\e162";
}
.glyphicon-log-out:before {
  content: "\e163";
}
.glyphicon-new-window:before {
  content: "\e164";
}
.glyphicon-record:before {
  content: "\e165";
}
.glyphicon-save:before {
  content: "\e166";
}
.glyphicon-open:before {
  content: "\e167";
}
.glyphicon-saved:before {
  content: "\e168";
}
.glyphicon-import:before {
  content: "\e169";
}
.glyphicon-export:before {
  content: "\e170";
}
.glyphicon-send:before {
  content: "\e171";
}
.glyphicon-floppy-disk:before {
  content: "\e172";
}
.glyphicon-floppy-saved:before {
  content: "\e173";
}
.glyphicon-floppy-remove:before {
  content: "\e174";
}
.glyphicon-floppy-save:before {
  content: "\e175";
}
.glyphicon-floppy-open:before {
  content: "\e176";
}
.glyphicon-credit-card:before {
  content: "\e177";
}
.glyphicon-transfer:before {
  content: "\e178";
}
.glyphicon-cutlery:before {
  content: "\e179";
}
.glyphicon-header:before {
  content: "\e180";
}
.glyphicon-compressed:before {
  content: "\e181";
}
.glyphicon-earphone:before {
  content: "\e182";
}
.glyphicon-phone-alt:before {
  content: "\e183";
}
.glyphicon-tower:before {
  content: "\e184";
}
.glyphicon-stats:before {
  content: "\e185";
}
.glyphicon-sd-video:before {
  content: "\e186";
}
.glyphicon-hd-video:before {
  content: "\e187";
}
.glyphicon-subtitles:before {
  content: "\e188";
}
.glyphicon-sound-stereo:before {
  content: "\e189";
}
.glyphicon-sound-dolby:before {
  content: "\e190";
}
.glyphicon-sound-5-1:before {
  content: "\e191";
}
.glyphicon-sound-6-1:before {
  content: "\e192";
}
.glyphicon-sound-7-1:before {
  content: "\e193";
}
.glyphicon-copyright-mark:before {
  content: "\e194";
}
.glyphicon-registration-mark:before {
  content: "\e195";
}
.glyphicon-cloud-download:before {
  content: "\e197";
}
.glyphicon-cloud-upload:before {
  content: "\e198";
}
.glyphicon-tree-conifer:before {
  content: "\e199";
}
.glyphicon-tree-deciduous:before {
  content: "\e200";
}
.glyphicon-cd:before {
  content: "\e201";
}
.glyphicon-save-file:before {
  content: "\e202";
}
.glyphicon-open-file:before {
  content: "\e203";
}
.glyphicon-level-up:before {
  content: "\e204";
}
.glyphicon-copy:before {
  content: "\e205";
}
.glyphicon-paste:before {
  content: "\e206";
}
.glyphicon-alert:before {
  content: "\e209";
}
.glyphicon-equalizer:before {
  content: "\e210";
}
.glyphicon-king:before {
  content: "\e211";
}
.glyphicon-queen:before {
  content: "\e212";
}
.glyphicon-pawn:before {
  content: "\e213";
}
.glyphicon-bishop:before {
  content: "\e214";
}
.glyphicon-knight:before {
  content: "\e215";
}
.glyphicon-baby-formula:before {
  content: "\e216";
}
.glyphicon-tent:before {
  content: "\26fa";
}
.glyphicon-blackboard:before {
  content: "\e218";
}
.glyphicon-bed:before {
  content: "\e219";
}
.glyphicon-apple:before {
  content: "\f8ff";
}
.glyphicon-erase:before {
  content: "\e221";
}
.glyphicon-hourglass:before {
  content: "\231b";
}
.glyphicon-lamp:before {
  content: "\e223";
}
.glyphicon-duplicate:before {
  content: "\e224";
}
.glyphicon-piggy-bank:before {
  content: "\e225";
}
.glyphicon-scissors:before {
  content: "\e226";
}
.glyphicon-bitcoin:before {
  content: "\e227";
}
.glyphicon-btc:before {
  content: "\e227";
}
.glyphicon-xbt:before {
  content: "\e227";
}
.glyphicon-yen:before {
  content: "\00a5";
}
.glyphicon-jpy:before {
  content: "\00a5";
}
.glyphicon-ruble:before {
  content: "\20bd";
}
.glyphicon-rub:before {
  content: "\20bd";
}
.glyphicon-scale:before {
  content: "\e230";
}
.glyphicon-ice-lolly:before {
  content: "\e231";
}
.glyphicon-ice-lolly-tasted:before {
  content: "\e232";
}
.glyphicon-education:before {
  content: "\e233";
}
.glyphicon-option-horizontal:before {
  content: "\e234";
}
.glyphicon-option-vertical:before {
  content: "\e235";
}
.glyphicon-menu-hamburger:before {
  content: "\e236";
}
.glyphicon-modal-window:before {
  content: "\e237";
}
.glyphicon-oil:before {
  content: "\e238";
}
.glyphicon-grain:before {
  content: "\e239";
}
.glyphicon-sunglasses:before {
  content: "\e240";
}
.glyphicon-text-size:before {
  content: "\e241";
}
.glyphicon-text-color:before {
  content: "\e242";
}
.glyphicon-text-background:before {
  content: "\e243";
}
.glyphicon-object-align-top:before {
  content: "\e244";
}
.glyphicon-object-align-bottom:before {
  content: "\e245";
}
.glyphicon-object-align-horizontal:before {
  content: "\e246";
}
.glyphicon-object-align-left:before {
  content: "\e247";
}
.glyphicon-object-align-vertical:before {
  content: "\e248";
}
.glyphicon-object-align-right:before {
  content: "\e249";
}
.glyphicon-triangle-right:before {
  content: "\e250";
}
.glyphicon-triangle-left:before {
  content: "\e251";
}
.glyphicon-triangle-bottom:before {
  content: "\e252";
}
.glyphicon-triangle-top:before {
  content: "\e253";
}
.glyphicon-console:before {
  content: "\e254";
}
.glyphicon-superscript:before {
  content: "\e255";
}
.glyphicon-subscript:before {
  content: "\e256";
}
.glyphicon-menu-left:before {
  content: "\e257";
}
.glyphicon-menu-right:before {
  content: "\e258";
}
.glyphicon-menu-down:before {
  content: "\e259";
}
.glyphicon-menu-up:before {
  content: "\e260";
}
* {
  -webkit-box-sizing: border-box;
  -moz-box-sizing: border-box;
  box-sizing: border-box;
}
*:before,
*:after {
  -webkit-box-sizing: border-box;
  -moz-box-sizing: border-box;
  box-sizing: border-box;
}
html {
  font-size: 10px;
  -webkit-tap-highlight-color: rgba(0, 0, 0, 0);
}
body {
  font-family: "Helvetica Neue", Helvetica, Arial, sans-serif;
  font-size: 13px;
  line-height: 1.42857143;
  color: #000;
  background-color: #fff;
}
input,
button,
select,
textarea {
  font-family: inherit;
  font-size: inherit;
  line-height: inherit;
}
a {
  color: #337ab7;
  text-decoration: none;
}
a:hover,
a:focus {
  color: #23527c;
  text-decoration: underline;
}
a:focus {
  outline: thin dotted;
  outline: 5px auto -webkit-focus-ring-color;
  outline-offset: -2px;
}
figure {
  margin: 0;
}
img {
  vertical-align: middle;
}
.img-responsive,
.thumbnail > img,
.thumbnail a > img,
.carousel-inner > .item > img,
.carousel-inner > .item > a > img {
  display: block;
  max-width: 100%;
  height: auto;
}
.img-rounded {
  border-radius: 3px;
}
.img-thumbnail {
  padding: 4px;
  line-height: 1.42857143;
  background-color: #fff;
  border: 1px solid #ddd;
  border-radius: 2px;
  -webkit-transition: all 0.2s ease-in-out;
  -o-transition: all 0.2s ease-in-out;
  transition: all 0.2s ease-in-out;
  display: inline-block;
  max-width: 100%;
  height: auto;
}
.img-circle {
  border-radius: 50%;
}
hr {
  margin-top: 18px;
  margin-bottom: 18px;
  border: 0;
  border-top: 1px solid #eeeeee;
}
.sr-only {
  position: absolute;
  width: 1px;
  height: 1px;
  margin: -1px;
  padding: 0;
  overflow: hidden;
  clip: rect(0, 0, 0, 0);
  border: 0;
}
.sr-only-focusable:active,
.sr-only-focusable:focus {
  position: static;
  width: auto;
  height: auto;
  margin: 0;
  overflow: visible;
  clip: auto;
}
[role="button"] {
  cursor: pointer;
}
h1,
h2,
h3,
h4,
h5,
h6,
.h1,
.h2,
.h3,
.h4,
.h5,
.h6 {
  font-family: inherit;
  font-weight: 500;
  line-height: 1.1;
  color: inherit;
}
h1 small,
h2 small,
h3 small,
h4 small,
h5 small,
h6 small,
.h1 small,
.h2 small,
.h3 small,
.h4 small,
.h5 small,
.h6 small,
h1 .small,
h2 .small,
h3 .small,
h4 .small,
h5 .small,
h6 .small,
.h1 .small,
.h2 .small,
.h3 .small,
.h4 .small,
.h5 .small,
.h6 .small {
  font-weight: normal;
  line-height: 1;
  color: #777777;
}
h1,
.h1,
h2,
.h2,
h3,
.h3 {
  margin-top: 18px;
  margin-bottom: 9px;
}
h1 small,
.h1 small,
h2 small,
.h2 small,
h3 small,
.h3 small,
h1 .small,
.h1 .small,
h2 .small,
.h2 .small,
h3 .small,
.h3 .small {
  font-size: 65%;
}
h4,
.h4,
h5,
.h5,
h6,
.h6 {
  margin-top: 9px;
  margin-bottom: 9px;
}
h4 small,
.h4 small,
h5 small,
.h5 small,
h6 small,
.h6 small,
h4 .small,
.h4 .small,
h5 .small,
.h5 .small,
h6 .small,
.h6 .small {
  font-size: 75%;
}
h1,
.h1 {
  font-size: 33px;
}
h2,
.h2 {
  font-size: 27px;
}
h3,
.h3 {
  font-size: 23px;
}
h4,
.h4 {
  font-size: 17px;
}
h5,
.h5 {
  font-size: 13px;
}
h6,
.h6 {
  font-size: 12px;
}
p {
  margin: 0 0 9px;
}
.lead {
  margin-bottom: 18px;
  font-size: 14px;
  font-weight: 300;
  line-height: 1.4;
}
@media (min-width: 768px) {
  .lead {
    font-size: 19.5px;
  }
}
small,
.small {
  font-size: 92%;
}
mark,
.mark {
  background-color: #fcf8e3;
  padding: .2em;
}
.text-left {
  text-align: left;
}
.text-right {
  text-align: right;
}
.text-center {
  text-align: center;
}
.text-justify {
  text-align: justify;
}
.text-nowrap {
  white-space: nowrap;
}
.text-lowercase {
  text-transform: lowercase;
}
.text-uppercase {
  text-transform: uppercase;
}
.text-capitalize {
  text-transform: capitalize;
}
.text-muted {
  color: #777777;
}
.text-primary {
  color: #337ab7;
}
a.text-primary:hover,
a.text-primary:focus {
  color: #286090;
}
.text-success {
  color: #3c763d;
}
a.text-success:hover,
a.text-success:focus {
  color: #2b542c;
}
.text-info {
  color: #31708f;
}
a.text-info:hover,
a.text-info:focus {
  color: #245269;
}
.text-warning {
  color: #8a6d3b;
}
a.text-warning:hover,
a.text-warning:focus {
  color: #66512c;
}
.text-danger {
  color: #a94442;
}
a.text-danger:hover,
a.text-danger:focus {
  color: #843534;
}
.bg-primary {
  color: #fff;
  background-color: #337ab7;
}
a.bg-primary:hover,
a.bg-primary:focus {
  background-color: #286090;
}
.bg-success {
  background-color: #dff0d8;
}
a.bg-success:hover,
a.bg-success:focus {
  background-color: #c1e2b3;
}
.bg-info {
  background-color: #d9edf7;
}
a.bg-info:hover,
a.bg-info:focus {
  background-color: #afd9ee;
}
.bg-warning {
  background-color: #fcf8e3;
}
a.bg-warning:hover,
a.bg-warning:focus {
  background-color: #f7ecb5;
}
.bg-danger {
  background-color: #f2dede;
}
a.bg-danger:hover,
a.bg-danger:focus {
  background-color: #e4b9b9;
}
.page-header {
  padding-bottom: 8px;
  margin: 36px 0 18px;
  border-bottom: 1px solid #eeeeee;
}
ul,
ol {
  margin-top: 0;
  margin-bottom: 9px;
}
ul ul,
ol ul,
ul ol,
ol ol {
  margin-bottom: 0;
}
.list-unstyled {
  padding-left: 0;
  list-style: none;
}
.list-inline {
  padding-left: 0;
  list-style: none;
  margin-left: -5px;
}
.list-inline > li {
  display: inline-block;
  padding-left: 5px;
  padding-right: 5px;
}
dl {
  margin-top: 0;
  margin-bottom: 18px;
}
dt,
dd {
  line-height: 1.42857143;
}
dt {
  font-weight: bold;
}
dd {
  margin-left: 0;
}
@media (min-width: 541px) {
  .dl-horizontal dt {
    float: left;
    width: 160px;
    clear: left;
    text-align: right;
    overflow: hidden;
    text-overflow: ellipsis;
    white-space: nowrap;
  }
  .dl-horizontal dd {
    margin-left: 180px;
  }
}
abbr[title],
abbr[data-original-title] {
  cursor: help;
  border-bottom: 1px dotted #777777;
}
.initialism {
  font-size: 90%;
  text-transform: uppercase;
}
blockquote {
  padding: 9px 18px;
  margin: 0 0 18px;
  font-size: inherit;
  border-left: 5px solid #eeeeee;
}
blockquote p:last-child,
blockquote ul:last-child,
blockquote ol:last-child {
  margin-bottom: 0;
}
blockquote footer,
blockquote small,
blockquote .small {
  display: block;
  font-size: 80%;
  line-height: 1.42857143;
  color: #777777;
}
blockquote footer:before,
blockquote small:before,
blockquote .small:before {
  content: '\2014 \00A0';
}
.blockquote-reverse,
blockquote.pull-right {
  padding-right: 15px;
  padding-left: 0;
  border-right: 5px solid #eeeeee;
  border-left: 0;
  text-align: right;
}
.blockquote-reverse footer:before,
blockquote.pull-right footer:before,
.blockquote-reverse small:before,
blockquote.pull-right small:before,
.blockquote-reverse .small:before,
blockquote.pull-right .small:before {
  content: '';
}
.blockquote-reverse footer:after,
blockquote.pull-right footer:after,
.blockquote-reverse small:after,
blockquote.pull-right small:after,
.blockquote-reverse .small:after,
blockquote.pull-right .small:after {
  content: '\00A0 \2014';
}
address {
  margin-bottom: 18px;
  font-style: normal;
  line-height: 1.42857143;
}
code,
kbd,
pre,
samp {
  font-family: monospace;
}
code {
  padding: 2px 4px;
  font-size: 90%;
  color: #c7254e;
  background-color: #f9f2f4;
  border-radius: 2px;
}
kbd {
  padding: 2px 4px;
  font-size: 90%;
  color: #888;
  background-color: transparent;
  border-radius: 1px;
  box-shadow: inset 0 -1px 0 rgba(0, 0, 0, 0.25);
}
kbd kbd {
  padding: 0;
  font-size: 100%;
  font-weight: bold;
  box-shadow: none;
}
pre {
  display: block;
  padding: 8.5px;
  margin: 0 0 9px;
  font-size: 12px;
  line-height: 1.42857143;
  word-break: break-all;
  word-wrap: break-word;
  color: #333333;
  background-color: #f5f5f5;
  border: 1px solid #ccc;
  border-radius: 2px;
}
pre code {
  padding: 0;
  font-size: inherit;
  color: inherit;
  white-space: pre-wrap;
  background-color: transparent;
  border-radius: 0;
}
.pre-scrollable {
  max-height: 340px;
  overflow-y: scroll;
}
.container {
  margin-right: auto;
  margin-left: auto;
  padding-left: 0px;
  padding-right: 0px;
}
@media (min-width: 768px) {
  .container {
    width: 768px;
  }
}
@media (min-width: 992px) {
  .container {
    width: 940px;
  }
}
@media (min-width: 1200px) {
  .container {
    width: 1140px;
  }
}
.container-fluid {
  margin-right: auto;
  margin-left: auto;
  padding-left: 0px;
  padding-right: 0px;
}
.row {
  margin-left: 0px;
  margin-right: 0px;
}
.col-xs-1, .col-sm-1, .col-md-1, .col-lg-1, .col-xs-2, .col-sm-2, .col-md-2, .col-lg-2, .col-xs-3, .col-sm-3, .col-md-3, .col-lg-3, .col-xs-4, .col-sm-4, .col-md-4, .col-lg-4, .col-xs-5, .col-sm-5, .col-md-5, .col-lg-5, .col-xs-6, .col-sm-6, .col-md-6, .col-lg-6, .col-xs-7, .col-sm-7, .col-md-7, .col-lg-7, .col-xs-8, .col-sm-8, .col-md-8, .col-lg-8, .col-xs-9, .col-sm-9, .col-md-9, .col-lg-9, .col-xs-10, .col-sm-10, .col-md-10, .col-lg-10, .col-xs-11, .col-sm-11, .col-md-11, .col-lg-11, .col-xs-12, .col-sm-12, .col-md-12, .col-lg-12 {
  position: relative;
  min-height: 1px;
  padding-left: 0px;
  padding-right: 0px;
}
.col-xs-1, .col-xs-2, .col-xs-3, .col-xs-4, .col-xs-5, .col-xs-6, .col-xs-7, .col-xs-8, .col-xs-9, .col-xs-10, .col-xs-11, .col-xs-12 {
  float: left;
}
.col-xs-12 {
  width: 100%;
}
.col-xs-11 {
  width: 91.66666667%;
}
.col-xs-10 {
  width: 83.33333333%;
}
.col-xs-9 {
  width: 75%;
}
.col-xs-8 {
  width: 66.66666667%;
}
.col-xs-7 {
  width: 58.33333333%;
}
.col-xs-6 {
  width: 50%;
}
.col-xs-5 {
  width: 41.66666667%;
}
.col-xs-4 {
  width: 33.33333333%;
}
.col-xs-3 {
  width: 25%;
}
.col-xs-2 {
  width: 16.66666667%;
}
.col-xs-1 {
  width: 8.33333333%;
}
.col-xs-pull-12 {
  right: 100%;
}
.col-xs-pull-11 {
  right: 91.66666667%;
}
.col-xs-pull-10 {
  right: 83.33333333%;
}
.col-xs-pull-9 {
  right: 75%;
}
.col-xs-pull-8 {
  right: 66.66666667%;
}
.col-xs-pull-7 {
  right: 58.33333333%;
}
.col-xs-pull-6 {
  right: 50%;
}
.col-xs-pull-5 {
  right: 41.66666667%;
}
.col-xs-pull-4 {
  right: 33.33333333%;
}
.col-xs-pull-3 {
  right: 25%;
}
.col-xs-pull-2 {
  right: 16.66666667%;
}
.col-xs-pull-1 {
  right: 8.33333333%;
}
.col-xs-pull-0 {
  right: auto;
}
.col-xs-push-12 {
  left: 100%;
}
.col-xs-push-11 {
  left: 91.66666667%;
}
.col-xs-push-10 {
  left: 83.33333333%;
}
.col-xs-push-9 {
  left: 75%;
}
.col-xs-push-8 {
  left: 66.66666667%;
}
.col-xs-push-7 {
  left: 58.33333333%;
}
.col-xs-push-6 {
  left: 50%;
}
.col-xs-push-5 {
  left: 41.66666667%;
}
.col-xs-push-4 {
  left: 33.33333333%;
}
.col-xs-push-3 {
  left: 25%;
}
.col-xs-push-2 {
  left: 16.66666667%;
}
.col-xs-push-1 {
  left: 8.33333333%;
}
.col-xs-push-0 {
  left: auto;
}
.col-xs-offset-12 {
  margin-left: 100%;
}
.col-xs-offset-11 {
  margin-left: 91.66666667%;
}
.col-xs-offset-10 {
  margin-left: 83.33333333%;
}
.col-xs-offset-9 {
  margin-left: 75%;
}
.col-xs-offset-8 {
  margin-left: 66.66666667%;
}
.col-xs-offset-7 {
  margin-left: 58.33333333%;
}
.col-xs-offset-6 {
  margin-left: 50%;
}
.col-xs-offset-5 {
  margin-left: 41.66666667%;
}
.col-xs-offset-4 {
  margin-left: 33.33333333%;
}
.col-xs-offset-3 {
  margin-left: 25%;
}
.col-xs-offset-2 {
  margin-left: 16.66666667%;
}
.col-xs-offset-1 {
  margin-left: 8.33333333%;
}
.col-xs-offset-0 {
  margin-left: 0%;
}
@media (min-width: 768px) {
  .col-sm-1, .col-sm-2, .col-sm-3, .col-sm-4, .col-sm-5, .col-sm-6, .col-sm-7, .col-sm-8, .col-sm-9, .col-sm-10, .col-sm-11, .col-sm-12 {
    float: left;
  }
  .col-sm-12 {
    width: 100%;
  }
  .col-sm-11 {
    width: 91.66666667%;
  }
  .col-sm-10 {
    width: 83.33333333%;
  }
  .col-sm-9 {
    width: 75%;
  }
  .col-sm-8 {
    width: 66.66666667%;
  }
  .col-sm-7 {
    width: 58.33333333%;
  }
  .col-sm-6 {
    width: 50%;
  }
  .col-sm-5 {
    width: 41.66666667%;
  }
  .col-sm-4 {
    width: 33.33333333%;
  }
  .col-sm-3 {
    width: 25%;
  }
  .col-sm-2 {
    width: 16.66666667%;
  }
  .col-sm-1 {
    width: 8.33333333%;
  }
  .col-sm-pull-12 {
    right: 100%;
  }
  .col-sm-pull-11 {
    right: 91.66666667%;
  }
  .col-sm-pull-10 {
    right: 83.33333333%;
  }
  .col-sm-pull-9 {
    right: 75%;
  }
  .col-sm-pull-8 {
    right: 66.66666667%;
  }
  .col-sm-pull-7 {
    right: 58.33333333%;
  }
  .col-sm-pull-6 {
    right: 50%;
  }
  .col-sm-pull-5 {
    right: 41.66666667%;
  }
  .col-sm-pull-4 {
    right: 33.33333333%;
  }
  .col-sm-pull-3 {
    right: 25%;
  }
  .col-sm-pull-2 {
    right: 16.66666667%;
  }
  .col-sm-pull-1 {
    right: 8.33333333%;
  }
  .col-sm-pull-0 {
    right: auto;
  }
  .col-sm-push-12 {
    left: 100%;
  }
  .col-sm-push-11 {
    left: 91.66666667%;
  }
  .col-sm-push-10 {
    left: 83.33333333%;
  }
  .col-sm-push-9 {
    left: 75%;
  }
  .col-sm-push-8 {
    left: 66.66666667%;
  }
  .col-sm-push-7 {
    left: 58.33333333%;
  }
  .col-sm-push-6 {
    left: 50%;
  }
  .col-sm-push-5 {
    left: 41.66666667%;
  }
  .col-sm-push-4 {
    left: 33.33333333%;
  }
  .col-sm-push-3 {
    left: 25%;
  }
  .col-sm-push-2 {
    left: 16.66666667%;
  }
  .col-sm-push-1 {
    left: 8.33333333%;
  }
  .col-sm-push-0 {
    left: auto;
  }
  .col-sm-offset-12 {
    margin-left: 100%;
  }
  .col-sm-offset-11 {
    margin-left: 91.66666667%;
  }
  .col-sm-offset-10 {
    margin-left: 83.33333333%;
  }
  .col-sm-offset-9 {
    margin-left: 75%;
  }
  .col-sm-offset-8 {
    margin-left: 66.66666667%;
  }
  .col-sm-offset-7 {
    margin-left: 58.33333333%;
  }
  .col-sm-offset-6 {
    margin-left: 50%;
  }
  .col-sm-offset-5 {
    margin-left: 41.66666667%;
  }
  .col-sm-offset-4 {
    margin-left: 33.33333333%;
  }
  .col-sm-offset-3 {
    margin-left: 25%;
  }
  .col-sm-offset-2 {
    margin-left: 16.66666667%;
  }
  .col-sm-offset-1 {
    margin-left: 8.33333333%;
  }
  .col-sm-offset-0 {
    margin-left: 0%;
  }
}
@media (min-width: 992px) {
  .col-md-1, .col-md-2, .col-md-3, .col-md-4, .col-md-5, .col-md-6, .col-md-7, .col-md-8, .col-md-9, .col-md-10, .col-md-11, .col-md-12 {
    float: left;
  }
  .col-md-12 {
    width: 100%;
  }
  .col-md-11 {
    width: 91.66666667%;
  }
  .col-md-10 {
    width: 83.33333333%;
  }
  .col-md-9 {
    width: 75%;
  }
  .col-md-8 {
    width: 66.66666667%;
  }
  .col-md-7 {
    width: 58.33333333%;
  }
  .col-md-6 {
    width: 50%;
  }
  .col-md-5 {
    width: 41.66666667%;
  }
  .col-md-4 {
    width: 33.33333333%;
  }
  .col-md-3 {
    width: 25%;
  }
  .col-md-2 {
    width: 16.66666667%;
  }
  .col-md-1 {
    width: 8.33333333%;
  }
  .col-md-pull-12 {
    right: 100%;
  }
  .col-md-pull-11 {
    right: 91.66666667%;
  }
  .col-md-pull-10 {
    right: 83.33333333%;
  }
  .col-md-pull-9 {
    right: 75%;
  }
  .col-md-pull-8 {
    right: 66.66666667%;
  }
  .col-md-pull-7 {
    right: 58.33333333%;
  }
  .col-md-pull-6 {
    right: 50%;
  }
  .col-md-pull-5 {
    right: 41.66666667%;
  }
  .col-md-pull-4 {
    right: 33.33333333%;
  }
  .col-md-pull-3 {
    right: 25%;
  }
  .col-md-pull-2 {
    right: 16.66666667%;
  }
  .col-md-pull-1 {
    right: 8.33333333%;
  }
  .col-md-pull-0 {
    right: auto;
  }
  .col-md-push-12 {
    left: 100%;
  }
  .col-md-push-11 {
    left: 91.66666667%;
  }
  .col-md-push-10 {
    left: 83.33333333%;
  }
  .col-md-push-9 {
    left: 75%;
  }
  .col-md-push-8 {
    left: 66.66666667%;
  }
  .col-md-push-7 {
    left: 58.33333333%;
  }
  .col-md-push-6 {
    left: 50%;
  }
  .col-md-push-5 {
    left: 41.66666667%;
  }
  .col-md-push-4 {
    left: 33.33333333%;
  }
  .col-md-push-3 {
    left: 25%;
  }
  .col-md-push-2 {
    left: 16.66666667%;
  }
  .col-md-push-1 {
    left: 8.33333333%;
  }
  .col-md-push-0 {
    left: auto;
  }
  .col-md-offset-12 {
    margin-left: 100%;
  }
  .col-md-offset-11 {
    margin-left: 91.66666667%;
  }
  .col-md-offset-10 {
    margin-left: 83.33333333%;
  }
  .col-md-offset-9 {
    margin-left: 75%;
  }
  .col-md-offset-8 {
    margin-left: 66.66666667%;
  }
  .col-md-offset-7 {
    margin-left: 58.33333333%;
  }
  .col-md-offset-6 {
    margin-left: 50%;
  }
  .col-md-offset-5 {
    margin-left: 41.66666667%;
  }
  .col-md-offset-4 {
    margin-left: 33.33333333%;
  }
  .col-md-offset-3 {
    margin-left: 25%;
  }
  .col-md-offset-2 {
    margin-left: 16.66666667%;
  }
  .col-md-offset-1 {
    margin-left: 8.33333333%;
  }
  .col-md-offset-0 {
    margin-left: 0%;
  }
}
@media (min-width: 1200px) {
  .col-lg-1, .col-lg-2, .col-lg-3, .col-lg-4, .col-lg-5, .col-lg-6, .col-lg-7, .col-lg-8, .col-lg-9, .col-lg-10, .col-lg-11, .col-lg-12 {
    float: left;
  }
  .col-lg-12 {
    width: 100%;
  }
  .col-lg-11 {
    width: 91.66666667%;
  }
  .col-lg-10 {
    width: 83.33333333%;
  }
  .col-lg-9 {
    width: 75%;
  }
  .col-lg-8 {
    width: 66.66666667%;
  }
  .col-lg-7 {
    width: 58.33333333%;
  }
  .col-lg-6 {
    width: 50%;
  }
  .col-lg-5 {
    width: 41.66666667%;
  }
  .col-lg-4 {
    width: 33.33333333%;
  }
  .col-lg-3 {
    width: 25%;
  }
  .col-lg-2 {
    width: 16.66666667%;
  }
  .col-lg-1 {
    width: 8.33333333%;
  }
  .col-lg-pull-12 {
    right: 100%;
  }
  .col-lg-pull-11 {
    right: 91.66666667%;
  }
  .col-lg-pull-10 {
    right: 83.33333333%;
  }
  .col-lg-pull-9 {
    right: 75%;
  }
  .col-lg-pull-8 {
    right: 66.66666667%;
  }
  .col-lg-pull-7 {
    right: 58.33333333%;
  }
  .col-lg-pull-6 {
    right: 50%;
  }
  .col-lg-pull-5 {
    right: 41.66666667%;
  }
  .col-lg-pull-4 {
    right: 33.33333333%;
  }
  .col-lg-pull-3 {
    right: 25%;
  }
  .col-lg-pull-2 {
    right: 16.66666667%;
  }
  .col-lg-pull-1 {
    right: 8.33333333%;
  }
  .col-lg-pull-0 {
    right: auto;
  }
  .col-lg-push-12 {
    left: 100%;
  }
  .col-lg-push-11 {
    left: 91.66666667%;
  }
  .col-lg-push-10 {
    left: 83.33333333%;
  }
  .col-lg-push-9 {
    left: 75%;
  }
  .col-lg-push-8 {
    left: 66.66666667%;
  }
  .col-lg-push-7 {
    left: 58.33333333%;
  }
  .col-lg-push-6 {
    left: 50%;
  }
  .col-lg-push-5 {
    left: 41.66666667%;
  }
  .col-lg-push-4 {
    left: 33.33333333%;
  }
  .col-lg-push-3 {
    left: 25%;
  }
  .col-lg-push-2 {
    left: 16.66666667%;
  }
  .col-lg-push-1 {
    left: 8.33333333%;
  }
  .col-lg-push-0 {
    left: auto;
  }
  .col-lg-offset-12 {
    margin-left: 100%;
  }
  .col-lg-offset-11 {
    margin-left: 91.66666667%;
  }
  .col-lg-offset-10 {
    margin-left: 83.33333333%;
  }
  .col-lg-offset-9 {
    margin-left: 75%;
  }
  .col-lg-offset-8 {
    margin-left: 66.66666667%;
  }
  .col-lg-offset-7 {
    margin-left: 58.33333333%;
  }
  .col-lg-offset-6 {
    margin-left: 50%;
  }
  .col-lg-offset-5 {
    margin-left: 41.66666667%;
  }
  .col-lg-offset-4 {
    margin-left: 33.33333333%;
  }
  .col-lg-offset-3 {
    margin-left: 25%;
  }
  .col-lg-offset-2 {
    margin-left: 16.66666667%;
  }
  .col-lg-offset-1 {
    margin-left: 8.33333333%;
  }
  .col-lg-offset-0 {
    margin-left: 0%;
  }
}
table {
  background-color: transparent;
}
caption {
  padding-top: 8px;
  padding-bottom: 8px;
  color: #777777;
  text-align: left;
}
th {
  text-align: left;
}
.table {
  width: 100%;
  max-width: 100%;
  margin-bottom: 18px;
}
.table > thead > tr > th,
.table > tbody > tr > th,
.table > tfoot > tr > th,
.table > thead > tr > td,
.table > tbody > tr > td,
.table > tfoot > tr > td {
  padding: 8px;
  line-height: 1.42857143;
  vertical-align: top;
  border-top: 1px solid #ddd;
}
.table > thead > tr > th {
  vertical-align: bottom;
  border-bottom: 2px solid #ddd;
}
.table > caption + thead > tr:first-child > th,
.table > colgroup + thead > tr:first-child > th,
.table > thead:first-child > tr:first-child > th,
.table > caption + thead > tr:first-child > td,
.table > colgroup + thead > tr:first-child > td,
.table > thead:first-child > tr:first-child > td {
  border-top: 0;
}
.table > tbody + tbody {
  border-top: 2px solid #ddd;
}
.table .table {
  background-color: #fff;
}
.table-condensed > thead > tr > th,
.table-condensed > tbody > tr > th,
.table-condensed > tfoot > tr > th,
.table-condensed > thead > tr > td,
.table-condensed > tbody > tr > td,
.table-condensed > tfoot > tr > td {
  padding: 5px;
}
.table-bordered {
  border: 1px solid #ddd;
}
.table-bordered > thead > tr > th,
.table-bordered > tbody > tr > th,
.table-bordered > tfoot > tr > th,
.table-bordered > thead > tr > td,
.table-bordered > tbody > tr > td,
.table-bordered > tfoot > tr > td {
  border: 1px solid #ddd;
}
.table-bordered > thead > tr > th,
.table-bordered > thead > tr > td {
  border-bottom-width: 2px;
}
.table-striped > tbody > tr:nth-of-type(odd) {
  background-color: #f9f9f9;
}
.table-hover > tbody > tr:hover {
  background-color: #f5f5f5;
}
table col[class*="col-"] {
  position: static;
  float: none;
  display: table-column;
}
table td[class*="col-"],
table th[class*="col-"] {
  position: static;
  float: none;
  display: table-cell;
}
.table > thead > tr > td.active,
.table > tbody > tr > td.active,
.table > tfoot > tr > td.active,
.table > thead > tr > th.active,
.table > tbody > tr > th.active,
.table > tfoot > tr > th.active,
.table > thead > tr.active > td,
.table > tbody > tr.active > td,
.table > tfoot > tr.active > td,
.table > thead > tr.active > th,
.table > tbody > tr.active > th,
.table > tfoot > tr.active > th {
  background-color: #f5f5f5;
}
.table-hover > tbody > tr > td.active:hover,
.table-hover > tbody > tr > th.active:hover,
.table-hover > tbody > tr.active:hover > td,
.table-hover > tbody > tr:hover > .active,
.table-hover > tbody > tr.active:hover > th {
  background-color: #e8e8e8;
}
.table > thead > tr > td.success,
.table > tbody > tr > td.success,
.table > tfoot > tr > td.success,
.table > thead > tr > th.success,
.table > tbody > tr > th.success,
.table > tfoot > tr > th.success,
.table > thead > tr.success > td,
.table > tbody > tr.success > td,
.table > tfoot > tr.success > td,
.table > thead > tr.success > th,
.table > tbody > tr.success > th,
.table > tfoot > tr.success > th {
  background-color: #dff0d8;
}
.table-hover > tbody > tr > td.success:hover,
.table-hover > tbody > tr > th.success:hover,
.table-hover > tbody > tr.success:hover > td,
.table-hover > tbody > tr:hover > .success,
.table-hover > tbody > tr.success:hover > th {
  background-color: #d0e9c6;
}
.table > thead > tr > td.info,
.table > tbody > tr > td.info,
.table > tfoot > tr > td.info,
.table > thead > tr > th.info,
.table > tbody > tr > th.info,
.table > tfoot > tr > th.info,
.table > thead > tr.info > td,
.table > tbody > tr.info > td,
.table > tfoot > tr.info > td,
.table > thead > tr.info > th,
.table > tbody > tr.info > th,
.table > tfoot > tr.info > th {
  background-color: #d9edf7;
}
.table-hover > tbody > tr > td.info:hover,
.table-hover > tbody > tr > th.info:hover,
.table-hover > tbody > tr.info:hover > td,
.table-hover > tbody > tr:hover > .info,
.table-hover > tbody > tr.info:hover > th {
  background-color: #c4e3f3;
}
.table > thead > tr > td.warning,
.table > tbody > tr > td.warning,
.table > tfoot > tr > td.warning,
.table > thead > tr > th.warning,
.table > tbody > tr > th.warning,
.table > tfoot > tr > th.warning,
.table > thead > tr.warning > td,
.table > tbody > tr.warning > td,
.table > tfoot > tr.warning > td,
.table > thead > tr.warning > th,
.table > tbody > tr.warning > th,
.table > tfoot > tr.warning > th {
  background-color: #fcf8e3;
}
.table-hover > tbody > tr > td.warning:hover,
.table-hover > tbody > tr > th.warning:hover,
.table-hover > tbody > tr.warning:hover > td,
.table-hover > tbody > tr:hover > .warning,
.table-hover > tbody > tr.warning:hover > th {
  background-color: #faf2cc;
}
.table > thead > tr > td.danger,
.table > tbody > tr > td.danger,
.table > tfoot > tr > td.danger,
.table > thead > tr > th.danger,
.table > tbody > tr > th.danger,
.table > tfoot > tr > th.danger,
.table > thead > tr.danger > td,
.table > tbody > tr.danger > td,
.table > tfoot > tr.danger > td,
.table > thead > tr.danger > th,
.table > tbody > tr.danger > th,
.table > tfoot > tr.danger > th {
  background-color: #f2dede;
}
.table-hover > tbody > tr > td.danger:hover,
.table-hover > tbody > tr > th.danger:hover,
.table-hover > tbody > tr.danger:hover > td,
.table-hover > tbody > tr:hover > .danger,
.table-hover > tbody > tr.danger:hover > th {
  background-color: #ebcccc;
}
.table-responsive {
  overflow-x: auto;
  min-height: 0.01%;
}
@media screen and (max-width: 767px) {
  .table-responsive {
    width: 100%;
    margin-bottom: 13.5px;
    overflow-y: hidden;
    -ms-overflow-style: -ms-autohiding-scrollbar;
    border: 1px solid #ddd;
  }
  .table-responsive > .table {
    margin-bottom: 0;
  }
  .table-responsive > .table > thead > tr > th,
  .table-responsive > .table > tbody > tr > th,
  .table-responsive > .table > tfoot > tr > th,
  .table-responsive > .table > thead > tr > td,
  .table-responsive > .table > tbody > tr > td,
  .table-responsive > .table > tfoot > tr > td {
    white-space: nowrap;
  }
  .table-responsive > .table-bordered {
    border: 0;
  }
  .table-responsive > .table-bordered > thead > tr > th:first-child,
  .table-responsive > .table-bordered > tbody > tr > th:first-child,
  .table-responsive > .table-bordered > tfoot > tr > th:first-child,
  .table-responsive > .table-bordered > thead > tr > td:first-child,
  .table-responsive > .table-bordered > tbody > tr > td:first-child,
  .table-responsive > .table-bordered > tfoot > tr > td:first-child {
    border-left: 0;
  }
  .table-responsive > .table-bordered > thead > tr > th:last-child,
  .table-responsive > .table-bordered > tbody > tr > th:last-child,
  .table-responsive > .table-bordered > tfoot > tr > th:last-child,
  .table-responsive > .table-bordered > thead > tr > td:last-child,
  .table-responsive > .table-bordered > tbody > tr > td:last-child,
  .table-responsive > .table-bordered > tfoot > tr > td:last-child {
    border-right: 0;
  }
  .table-responsive > .table-bordered > tbody > tr:last-child > th,
  .table-responsive > .table-bordered > tfoot > tr:last-child > th,
  .table-responsive > .table-bordered > tbody > tr:last-child > td,
  .table-responsive > .table-bordered > tfoot > tr:last-child > td {
    border-bottom: 0;
  }
}
fieldset {
  padding: 0;
  margin: 0;
  border: 0;
  min-width: 0;
}
legend {
  display: block;
  width: 100%;
  padding: 0;
  margin-bottom: 18px;
  font-size: 19.5px;
  line-height: inherit;
  color: #333333;
  border: 0;
  border-bottom: 1px solid #e5e5e5;
}
label {
  display: inline-block;
  max-width: 100%;
  margin-bottom: 5px;
  font-weight: bold;
}
input[type="search"] {
  -webkit-box-sizing: border-box;
  -moz-box-sizing: border-box;
  box-sizing: border-box;
}
input[type="radio"],
input[type="checkbox"] {
  margin: 4px 0 0;
  margin-top: 1px \9;
  line-height: normal;
}
input[type="file"] {
  display: block;
}
input[type="range"] {
  display: block;
  width: 100%;
}
select[multiple],
select[size] {
  height: auto;
}
input[type="file"]:focus,
input[type="radio"]:focus,
input[type="checkbox"]:focus {
  outline: thin dotted;
  outline: 5px auto -webkit-focus-ring-color;
  outline-offset: -2px;
}
output {
  display: block;
  padding-top: 7px;
  font-size: 13px;
  line-height: 1.42857143;
  color: #555555;
}
.form-control {
  display: block;
  width: 100%;
  height: 32px;
  padding: 6px 12px;
  font-size: 13px;
  line-height: 1.42857143;
  color: #555555;
  background-color: #fff;
  background-image: none;
  border: 1px solid #ccc;
  border-radius: 2px;
  -webkit-box-shadow: inset 0 1px 1px rgba(0, 0, 0, 0.075);
  box-shadow: inset 0 1px 1px rgba(0, 0, 0, 0.075);
  -webkit-transition: border-color ease-in-out .15s, box-shadow ease-in-out .15s;
  -o-transition: border-color ease-in-out .15s, box-shadow ease-in-out .15s;
  transition: border-color ease-in-out .15s, box-shadow ease-in-out .15s;
}
.form-control:focus {
  border-color: #66afe9;
  outline: 0;
  -webkit-box-shadow: inset 0 1px 1px rgba(0,0,0,.075), 0 0 8px rgba(102, 175, 233, 0.6);
  box-shadow: inset 0 1px 1px rgba(0,0,0,.075), 0 0 8px rgba(102, 175, 233, 0.6);
}
.form-control::-moz-placeholder {
  color: #999;
  opacity: 1;
}
.form-control:-ms-input-placeholder {
  color: #999;
}
.form-control::-webkit-input-placeholder {
  color: #999;
}
.form-control::-ms-expand {
  border: 0;
  background-color: transparent;
}
.form-control[disabled],
.form-control[readonly],
fieldset[disabled] .form-control {
  background-color: #eeeeee;
  opacity: 1;
}
.form-control[disabled],
fieldset[disabled] .form-control {
  cursor: not-allowed;
}
textarea.form-control {
  height: auto;
}
input[type="search"] {
  -webkit-appearance: none;
}
@media screen and (-webkit-min-device-pixel-ratio: 0) {
  input[type="date"].form-control,
  input[type="time"].form-control,
  input[type="datetime-local"].form-control,
  input[type="month"].form-control {
    line-height: 32px;
  }
  input[type="date"].input-sm,
  input[type="time"].input-sm,
  input[type="datetime-local"].input-sm,
  input[type="month"].input-sm,
  .input-group-sm input[type="date"],
  .input-group-sm input[type="time"],
  .input-group-sm input[type="datetime-local"],
  .input-group-sm input[type="month"] {
    line-height: 30px;
  }
  input[type="date"].input-lg,
  input[type="time"].input-lg,
  input[type="datetime-local"].input-lg,
  input[type="month"].input-lg,
  .input-group-lg input[type="date"],
  .input-group-lg input[type="time"],
  .input-group-lg input[type="datetime-local"],
  .input-group-lg input[type="month"] {
    line-height: 45px;
  }
}
.form-group {
  margin-bottom: 15px;
}
.radio,
.checkbox {
  position: relative;
  display: block;
  margin-top: 10px;
  margin-bottom: 10px;
}
.radio label,
.checkbox label {
  min-height: 18px;
  padding-left: 20px;
  margin-bottom: 0;
  font-weight: normal;
  cursor: pointer;
}
.radio input[type="radio"],
.radio-inline input[type="radio"],
.checkbox input[type="checkbox"],
.checkbox-inline input[type="checkbox"] {
  position: absolute;
  margin-left: -20px;
  margin-top: 4px \9;
}
.radio + .radio,
.checkbox + .checkbox {
  margin-top: -5px;
}
.radio-inline,
.checkbox-inline {
  position: relative;
  display: inline-block;
  padding-left: 20px;
  margin-bottom: 0;
  vertical-align: middle;
  font-weight: normal;
  cursor: pointer;
}
.radio-inline + .radio-inline,
.checkbox-inline + .checkbox-inline {
  margin-top: 0;
  margin-left: 10px;
}
input[type="radio"][disabled],
input[type="checkbox"][disabled],
input[type="radio"].disabled,
input[type="checkbox"].disabled,
fieldset[disabled] input[type="radio"],
fieldset[disabled] input[type="checkbox"] {
  cursor: not-allowed;
}
.radio-inline.disabled,
.checkbox-inline.disabled,
fieldset[disabled] .radio-inline,
fieldset[disabled] .checkbox-inline {
  cursor: not-allowed;
}
.radio.disabled label,
.checkbox.disabled label,
fieldset[disabled] .radio label,
fieldset[disabled] .checkbox label {
  cursor: not-allowed;
}
.form-control-static {
  padding-top: 7px;
  padding-bottom: 7px;
  margin-bottom: 0;
  min-height: 31px;
}
.form-control-static.input-lg,
.form-control-static.input-sm {
  padding-left: 0;
  padding-right: 0;
}
.input-sm {
  height: 30px;
  padding: 5px 10px;
  font-size: 12px;
  line-height: 1.5;
  border-radius: 1px;
}
select.input-sm {
  height: 30px;
  line-height: 30px;
}
textarea.input-sm,
select[multiple].input-sm {
  height: auto;
}
.form-group-sm .form-control {
  height: 30px;
  padding: 5px 10px;
  font-size: 12px;
  line-height: 1.5;
  border-radius: 1px;
}
.form-group-sm select.form-control {
  height: 30px;
  line-height: 30px;
}
.form-group-sm textarea.form-control,
.form-group-sm select[multiple].form-control {
  height: auto;
}
.form-group-sm .form-control-static {
  height: 30px;
  min-height: 30px;
  padding: 6px 10px;
  font-size: 12px;
  line-height: 1.5;
}
.input-lg {
  height: 45px;
  padding: 10px 16px;
  font-size: 17px;
  line-height: 1.3333333;
  border-radius: 3px;
}
select.input-lg {
  height: 45px;
  line-height: 45px;
}
textarea.input-lg,
select[multiple].input-lg {
  height: auto;
}
.form-group-lg .form-control {
  height: 45px;
  padding: 10px 16px;
  font-size: 17px;
  line-height: 1.3333333;
  border-radius: 3px;
}
.form-group-lg select.form-control {
  height: 45px;
  line-height: 45px;
}
.form-group-lg textarea.form-control,
.form-group-lg select[multiple].form-control {
  height: auto;
}
.form-group-lg .form-control-static {
  height: 45px;
  min-height: 35px;
  padding: 11px 16px;
  font-size: 17px;
  line-height: 1.3333333;
}
.has-feedback {
  position: relative;
}
.has-feedback .form-control {
  padding-right: 40px;
}
.form-control-feedback {
  position: absolute;
  top: 0;
  right: 0;
  z-index: 2;
  display: block;
  width: 32px;
  height: 32px;
  line-height: 32px;
  text-align: center;
  pointer-events: none;
}
.input-lg + .form-control-feedback,
.input-group-lg + .form-control-feedback,
.form-group-lg .form-control + .form-control-feedback {
  width: 45px;
  height: 45px;
  line-height: 45px;
}
.input-sm + .form-control-feedback,
.input-group-sm + .form-control-feedback,
.form-group-sm .form-control + .form-control-feedback {
  width: 30px;
  height: 30px;
  line-height: 30px;
}
.has-success .help-block,
.has-success .control-label,
.has-success .radio,
.has-success .checkbox,
.has-success .radio-inline,
.has-success .checkbox-inline,
.has-success.radio label,
.has-success.checkbox label,
.has-success.radio-inline label,
.has-success.checkbox-inline label {
  color: #3c763d;
}
.has-success .form-control {
  border-color: #3c763d;
  -webkit-box-shadow: inset 0 1px 1px rgba(0, 0, 0, 0.075);
  box-shadow: inset 0 1px 1px rgba(0, 0, 0, 0.075);
}
.has-success .form-control:focus {
  border-color: #2b542c;
  -webkit-box-shadow: inset 0 1px 1px rgba(0, 0, 0, 0.075), 0 0 6px #67b168;
  box-shadow: inset 0 1px 1px rgba(0, 0, 0, 0.075), 0 0 6px #67b168;
}
.has-success .input-group-addon {
  color: #3c763d;
  border-color: #3c763d;
  background-color: #dff0d8;
}
.has-success .form-control-feedback {
  color: #3c763d;
}
.has-warning .help-block,
.has-warning .control-label,
.has-warning .radio,
.has-warning .checkbox,
.has-warning .radio-inline,
.has-warning .checkbox-inline,
.has-warning.radio label,
.has-warning.checkbox label,
.has-warning.radio-inline label,
.has-warning.checkbox-inline label {
  color: #8a6d3b;
}
.has-warning .form-control {
  border-color: #8a6d3b;
  -webkit-box-shadow: inset 0 1px 1px rgba(0, 0, 0, 0.075);
  box-shadow: inset 0 1px 1px rgba(0, 0, 0, 0.075);
}
.has-warning .form-control:focus {
  border-color: #66512c;
  -webkit-box-shadow: inset 0 1px 1px rgba(0, 0, 0, 0.075), 0 0 6px #c0a16b;
  box-shadow: inset 0 1px 1px rgba(0, 0, 0, 0.075), 0 0 6px #c0a16b;
}
.has-warning .input-group-addon {
  color: #8a6d3b;
  border-color: #8a6d3b;
  background-color: #fcf8e3;
}
.has-warning .form-control-feedback {
  color: #8a6d3b;
}
.has-error .help-block,
.has-error .control-label,
.has-error .radio,
.has-error .checkbox,
.has-error .radio-inline,
.has-error .checkbox-inline,
.has-error.radio label,
.has-error.checkbox label,
.has-error.radio-inline label,
.has-error.checkbox-inline label {
  color: #a94442;
}
.has-error .form-control {
  border-color: #a94442;
  -webkit-box-shadow: inset 0 1px 1px rgba(0, 0, 0, 0.075);
  box-shadow: inset 0 1px 1px rgba(0, 0, 0, 0.075);
}
.has-error .form-control:focus {
  border-color: #843534;
  -webkit-box-shadow: inset 0 1px 1px rgba(0, 0, 0, 0.075), 0 0 6px #ce8483;
  box-shadow: inset 0 1px 1px rgba(0, 0, 0, 0.075), 0 0 6px #ce8483;
}
.has-error .input-group-addon {
  color: #a94442;
  border-color: #a94442;
  background-color: #f2dede;
}
.has-error .form-control-feedback {
  color: #a94442;
}
.has-feedback label ~ .form-control-feedback {
  top: 23px;
}
.has-feedback label.sr-only ~ .form-control-feedback {
  top: 0;
}
.help-block {
  display: block;
  margin-top: 5px;
  margin-bottom: 10px;
  color: #404040;
}
@media (min-width: 768px) {
  .form-inline .form-group {
    display: inline-block;
    margin-bottom: 0;
    vertical-align: middle;
  }
  .form-inline .form-control {
    display: inline-block;
    width: auto;
    vertical-align: middle;
  }
  .form-inline .form-control-static {
    display: inline-block;
  }
  .form-inline .input-group {
    display: inline-table;
    vertical-align: middle;
  }
  .form-inline .input-group .input-group-addon,
  .form-inline .input-group .input-group-btn,
  .form-inline .input-group .form-control {
    width: auto;
  }
  .form-inline .input-group > .form-control {
    width: 100%;
  }
  .form-inline .control-label {
    margin-bottom: 0;
    vertical-align: middle;
  }
  .form-inline .radio,
  .form-inline .checkbox {
    display: inline-block;
    margin-top: 0;
    margin-bottom: 0;
    vertical-align: middle;
  }
  .form-inline .radio label,
  .form-inline .checkbox label {
    padding-left: 0;
  }
  .form-inline .radio input[type="radio"],
  .form-inline .checkbox input[type="checkbox"] {
    position: relative;
    margin-left: 0;
  }
  .form-inline .has-feedback .form-control-feedback {
    top: 0;
  }
}
.form-horizontal .radio,
.form-horizontal .checkbox,
.form-horizontal .radio-inline,
.form-horizontal .checkbox-inline {
  margin-top: 0;
  margin-bottom: 0;
  padding-top: 7px;
}
.form-horizontal .radio,
.form-horizontal .checkbox {
  min-height: 25px;
}
.form-horizontal .form-group {
  margin-left: 0px;
  margin-right: 0px;
}
@media (min-width: 768px) {
  .form-horizontal .control-label {
    text-align: right;
    margin-bottom: 0;
    padding-top: 7px;
  }
}
.form-horizontal .has-feedback .form-control-feedback {
  right: 0px;
}
@media (min-width: 768px) {
  .form-horizontal .form-group-lg .control-label {
    padding-top: 11px;
    font-size: 17px;
  }
}
@media (min-width: 768px) {
  .form-horizontal .form-group-sm .control-label {
    padding-top: 6px;
    font-size: 12px;
  }
}
.btn {
  display: inline-block;
  margin-bottom: 0;
  font-weight: normal;
  text-align: center;
  vertical-align: middle;
  touch-action: manipulation;
  cursor: pointer;
  background-image: none;
  border: 1px solid transparent;
  white-space: nowrap;
  padding: 6px 12px;
  font-size: 13px;
  line-height: 1.42857143;
  border-radius: 2px;
  -webkit-user-select: none;
  -moz-user-select: none;
  -ms-user-select: none;
  user-select: none;
}
.btn:focus,
.btn:active:focus,
.btn.active:focus,
.btn.focus,
.btn:active.focus,
.btn.active.focus {
  outline: thin dotted;
  outline: 5px auto -webkit-focus-ring-color;
  outline-offset: -2px;
}
.btn:hover,
.btn:focus,
.btn.focus {
  color: #333;
  text-decoration: none;
}
.btn:active,
.btn.active {
  outline: 0;
  background-image: none;
  -webkit-box-shadow: inset 0 3px 5px rgba(0, 0, 0, 0.125);
  box-shadow: inset 0 3px 5px rgba(0, 0, 0, 0.125);
}
.btn.disabled,
.btn[disabled],
fieldset[disabled] .btn {
  cursor: not-allowed;
  opacity: 0.65;
  filter: alpha(opacity=65);
  -webkit-box-shadow: none;
  box-shadow: none;
}
a.btn.disabled,
fieldset[disabled] a.btn {
  pointer-events: none;
}
.btn-default {
  color: #333;
  background-color: #fff;
  border-color: #ccc;
}
.btn-default:focus,
.btn-default.focus {
  color: #333;
  background-color: #e6e6e6;
  border-color: #8c8c8c;
}
.btn-default:hover {
  color: #333;
  background-color: #e6e6e6;
  border-color: #adadad;
}
.btn-default:active,
.btn-default.active,
.open > .dropdown-toggle.btn-default {
  color: #333;
  background-color: #e6e6e6;
  border-color: #adadad;
}
.btn-default:active:hover,
.btn-default.active:hover,
.open > .dropdown-toggle.btn-default:hover,
.btn-default:active:focus,
.btn-default.active:focus,
.open > .dropdown-toggle.btn-default:focus,
.btn-default:active.focus,
.btn-default.active.focus,
.open > .dropdown-toggle.btn-default.focus {
  color: #333;
  background-color: #d4d4d4;
  border-color: #8c8c8c;
}
.btn-default:active,
.btn-default.active,
.open > .dropdown-toggle.btn-default {
  background-image: none;
}
.btn-default.disabled:hover,
.btn-default[disabled]:hover,
fieldset[disabled] .btn-default:hover,
.btn-default.disabled:focus,
.btn-default[disabled]:focus,
fieldset[disabled] .btn-default:focus,
.btn-default.disabled.focus,
.btn-default[disabled].focus,
fieldset[disabled] .btn-default.focus {
  background-color: #fff;
  border-color: #ccc;
}
.btn-default .badge {
  color: #fff;
  background-color: #333;
}
.btn-primary {
  color: #fff;
  background-color: #337ab7;
  border-color: #2e6da4;
}
.btn-primary:focus,
.btn-primary.focus {
  color: #fff;
  background-color: #286090;
  border-color: #122b40;
}
.btn-primary:hover {
  color: #fff;
  background-color: #286090;
  border-color: #204d74;
}
.btn-primary:active,
.btn-primary.active,
.open > .dropdown-toggle.btn-primary {
  color: #fff;
  background-color: #286090;
  border-color: #204d74;
}
.btn-primary:active:hover,
.btn-primary.active:hover,
.open > .dropdown-toggle.btn-primary:hover,
.btn-primary:active:focus,
.btn-primary.active:focus,
.open > .dropdown-toggle.btn-primary:focus,
.btn-primary:active.focus,
.btn-primary.active.focus,
.open > .dropdown-toggle.btn-primary.focus {
  color: #fff;
  background-color: #204d74;
  border-color: #122b40;
}
.btn-primary:active,
.btn-primary.active,
.open > .dropdown-toggle.btn-primary {
  background-image: none;
}
.btn-primary.disabled:hover,
.btn-primary[disabled]:hover,
fieldset[disabled] .btn-primary:hover,
.btn-primary.disabled:focus,
.btn-primary[disabled]:focus,
fieldset[disabled] .btn-primary:focus,
.btn-primary.disabled.focus,
.btn-primary[disabled].focus,
fieldset[disabled] .btn-primary.focus {
  background-color: #337ab7;
  border-color: #2e6da4;
}
.btn-primary .badge {
  color: #337ab7;
  background-color: #fff;
}
.btn-success {
  color: #fff;
  background-color: #5cb85c;
  border-color: #4cae4c;
}
.btn-success:focus,
.btn-success.focus {
  color: #fff;
  background-color: #449d44;
  border-color: #255625;
}
.btn-success:hover {
  color: #fff;
  background-color: #449d44;
  border-color: #398439;
}
.btn-success:active,
.btn-success.active,
.open > .dropdown-toggle.btn-success {
  color: #fff;
  background-color: #449d44;
  border-color: #398439;
}
.btn-success:active:hover,
.btn-success.active:hover,
.open > .dropdown-toggle.btn-success:hover,
.btn-success:active:focus,
.btn-success.active:focus,
.open > .dropdown-toggle.btn-success:focus,
.btn-success:active.focus,
.btn-success.active.focus,
.open > .dropdown-toggle.btn-success.focus {
  color: #fff;
  background-color: #398439;
  border-color: #255625;
}
.btn-success:active,
.btn-success.active,
.open > .dropdown-toggle.btn-success {
  background-image: none;
}
.btn-success.disabled:hover,
.btn-success[disabled]:hover,
fieldset[disabled] .btn-success:hover,
.btn-success.disabled:focus,
.btn-success[disabled]:focus,
fieldset[disabled] .btn-success:focus,
.btn-success.disabled.focus,
.btn-success[disabled].focus,
fieldset[disabled] .btn-success.focus {
  background-color: #5cb85c;
  border-color: #4cae4c;
}
.btn-success .badge {
  color: #5cb85c;
  background-color: #fff;
}
.btn-info {
  color: #fff;
  background-color: #5bc0de;
  border-color: #46b8da;
}
.btn-info:focus,
.btn-info.focus {
  color: #fff;
  background-color: #31b0d5;
  border-color: #1b6d85;
}
.btn-info:hover {
  color: #fff;
  background-color: #31b0d5;
  border-color: #269abc;
}
.btn-info:active,
.btn-info.active,
.open > .dropdown-toggle.btn-info {
  color: #fff;
  background-color: #31b0d5;
  border-color: #269abc;
}
.btn-info:active:hover,
.btn-info.active:hover,
.open > .dropdown-toggle.btn-info:hover,
.btn-info:active:focus,
.btn-info.active:focus,
.open > .dropdown-toggle.btn-info:focus,
.btn-info:active.focus,
.btn-info.active.focus,
.open > .dropdown-toggle.btn-info.focus {
  color: #fff;
  background-color: #269abc;
  border-color: #1b6d85;
}
.btn-info:active,
.btn-info.active,
.open > .dropdown-toggle.btn-info {
  background-image: none;
}
.btn-info.disabled:hover,
.btn-info[disabled]:hover,
fieldset[disabled] .btn-info:hover,
.btn-info.disabled:focus,
.btn-info[disabled]:focus,
fieldset[disabled] .btn-info:focus,
.btn-info.disabled.focus,
.btn-info[disabled].focus,
fieldset[disabled] .btn-info.focus {
  background-color: #5bc0de;
  border-color: #46b8da;
}
.btn-info .badge {
  color: #5bc0de;
  background-color: #fff;
}
.btn-warning {
  color: #fff;
  background-color: #f0ad4e;
  border-color: #eea236;
}
.btn-warning:focus,
.btn-warning.focus {
  color: #fff;
  background-color: #ec971f;
  border-color: #985f0d;
}
.btn-warning:hover {
  color: #fff;
  background-color: #ec971f;
  border-color: #d58512;
}
.btn-warning:active,
.btn-warning.active,
.open > .dropdown-toggle.btn-warning {
  color: #fff;
  background-color: #ec971f;
  border-color: #d58512;
}
.btn-warning:active:hover,
.btn-warning.active:hover,
.open > .dropdown-toggle.btn-warning:hover,
.btn-warning:active:focus,
.btn-warning.active:focus,
.open > .dropdown-toggle.btn-warning:focus,
.btn-warning:active.focus,
.btn-warning.active.focus,
.open > .dropdown-toggle.btn-warning.focus {
  color: #fff;
  background-color: #d58512;
  border-color: #985f0d;
}
.btn-warning:active,
.btn-warning.active,
.open > .dropdown-toggle.btn-warning {
  background-image: none;
}
.btn-warning.disabled:hover,
.btn-warning[disabled]:hover,
fieldset[disabled] .btn-warning:hover,
.btn-warning.disabled:focus,
.btn-warning[disabled]:focus,
fieldset[disabled] .btn-warning:focus,
.btn-warning.disabled.focus,
.btn-warning[disabled].focus,
fieldset[disabled] .btn-warning.focus {
  background-color: #f0ad4e;
  border-color: #eea236;
}
.btn-warning .badge {
  color: #f0ad4e;
  background-color: #fff;
}
.btn-danger {
  color: #fff;
  background-color: #d9534f;
  border-color: #d43f3a;
}
.btn-danger:focus,
.btn-danger.focus {
  color: #fff;
  background-color: #c9302c;
  border-color: #761c19;
}
.btn-danger:hover {
  color: #fff;
  background-color: #c9302c;
  border-color: #ac2925;
}
.btn-danger:active,
.btn-danger.active,
.open > .dropdown-toggle.btn-danger {
  color: #fff;
  background-color: #c9302c;
  border-color: #ac2925;
}
.btn-danger:active:hover,
.btn-danger.active:hover,
.open > .dropdown-toggle.btn-danger:hover,
.btn-danger:active:focus,
.btn-danger.active:focus,
.open > .dropdown-toggle.btn-danger:focus,
.btn-danger:active.focus,
.btn-danger.active.focus,
.open > .dropdown-toggle.btn-danger.focus {
  color: #fff;
  background-color: #ac2925;
  border-color: #761c19;
}
.btn-danger:active,
.btn-danger.active,
.open > .dropdown-toggle.btn-danger {
  background-image: none;
}
.btn-danger.disabled:hover,
.btn-danger[disabled]:hover,
fieldset[disabled] .btn-danger:hover,
.btn-danger.disabled:focus,
.btn-danger[disabled]:focus,
fieldset[disabled] .btn-danger:focus,
.btn-danger.disabled.focus,
.btn-danger[disabled].focus,
fieldset[disabled] .btn-danger.focus {
  background-color: #d9534f;
  border-color: #d43f3a;
}
.btn-danger .badge {
  color: #d9534f;
  background-color: #fff;
}
.btn-link {
  color: #337ab7;
  font-weight: normal;
  border-radius: 0;
}
.btn-link,
.btn-link:active,
.btn-link.active,
.btn-link[disabled],
fieldset[disabled] .btn-link {
  background-color: transparent;
  -webkit-box-shadow: none;
  box-shadow: none;
}
.btn-link,
.btn-link:hover,
.btn-link:focus,
.btn-link:active {
  border-color: transparent;
}
.btn-link:hover,
.btn-link:focus {
  color: #23527c;
  text-decoration: underline;
  background-color: transparent;
}
.btn-link[disabled]:hover,
fieldset[disabled] .btn-link:hover,
.btn-link[disabled]:focus,
fieldset[disabled] .btn-link:focus {
  color: #777777;
  text-decoration: none;
}
.btn-lg,
.btn-group-lg > .btn {
  padding: 10px 16px;
  font-size: 17px;
  line-height: 1.3333333;
  border-radius: 3px;
}
.btn-sm,
.btn-group-sm > .btn {
  padding: 5px 10px;
  font-size: 12px;
  line-height: 1.5;
  border-radius: 1px;
}
.btn-xs,
.btn-group-xs > .btn {
  padding: 1px 5px;
  font-size: 12px;
  line-height: 1.5;
  border-radius: 1px;
}
.btn-block {
  display: block;
  width: 100%;
}
.btn-block + .btn-block {
  margin-top: 5px;
}
input[type="submit"].btn-block,
input[type="reset"].btn-block,
input[type="button"].btn-block {
  width: 100%;
}
.fade {
  opacity: 0;
  -webkit-transition: opacity 0.15s linear;
  -o-transition: opacity 0.15s linear;
  transition: opacity 0.15s linear;
}
.fade.in {
  opacity: 1;
}
.collapse {
  display: none;
}
.collapse.in {
  display: block;
}
tr.collapse.in {
  display: table-row;
}
tbody.collapse.in {
  display: table-row-group;
}
.collapsing {
  position: relative;
  height: 0;
  overflow: hidden;
  -webkit-transition-property: height, visibility;
  transition-property: height, visibility;
  -webkit-transition-duration: 0.35s;
  transition-duration: 0.35s;
  -webkit-transition-timing-function: ease;
  transition-timing-function: ease;
}
.caret {
  display: inline-block;
  width: 0;
  height: 0;
  margin-left: 2px;
  vertical-align: middle;
  border-top: 4px dashed;
  border-top: 4px solid \9;
  border-right: 4px solid transparent;
  border-left: 4px solid transparent;
}
.dropup,
.dropdown {
  position: relative;
}
.dropdown-toggle:focus {
  outline: 0;
}
.dropdown-menu {
  position: absolute;
  top: 100%;
  left: 0;
  z-index: 1000;
  display: none;
  float: left;
  min-width: 160px;
  padding: 5px 0;
  margin: 2px 0 0;
  list-style: none;
  font-size: 13px;
  text-align: left;
  background-color: #fff;
  border: 1px solid #ccc;
  border: 1px solid rgba(0, 0, 0, 0.15);
  border-radius: 2px;
  -webkit-box-shadow: 0 6px 12px rgba(0, 0, 0, 0.175);
  box-shadow: 0 6px 12px rgba(0, 0, 0, 0.175);
  background-clip: padding-box;
}
.dropdown-menu.pull-right {
  right: 0;
  left: auto;
}
.dropdown-menu .divider {
  height: 1px;
  margin: 8px 0;
  overflow: hidden;
  background-color: #e5e5e5;
}
.dropdown-menu > li > a {
  display: block;
  padding: 3px 20px;
  clear: both;
  font-weight: normal;
  line-height: 1.42857143;
  color: #333333;
  white-space: nowrap;
}
.dropdown-menu > li > a:hover,
.dropdown-menu > li > a:focus {
  text-decoration: none;
  color: #262626;
  background-color: #f5f5f5;
}
.dropdown-menu > .active > a,
.dropdown-menu > .active > a:hover,
.dropdown-menu > .active > a:focus {
  color: #fff;
  text-decoration: none;
  outline: 0;
  background-color: #337ab7;
}
.dropdown-menu > .disabled > a,
.dropdown-menu > .disabled > a:hover,
.dropdown-menu > .disabled > a:focus {
  color: #777777;
}
.dropdown-menu > .disabled > a:hover,
.dropdown-menu > .disabled > a:focus {
  text-decoration: none;
  background-color: transparent;
  background-image: none;
  filter: progid:DXImageTransform.Microsoft.gradient(enabled = false);
  cursor: not-allowed;
}
.open > .dropdown-menu {
  display: block;
}
.open > a {
  outline: 0;
}
.dropdown-menu-right {
  left: auto;
  right: 0;
}
.dropdown-menu-left {
  left: 0;
  right: auto;
}
.dropdown-header {
  display: block;
  padding: 3px 20px;
  font-size: 12px;
  line-height: 1.42857143;
  color: #777777;
  white-space: nowrap;
}
.dropdown-backdrop {
  position: fixed;
  left: 0;
  right: 0;
  bottom: 0;
  top: 0;
  z-index: 990;
}
.pull-right > .dropdown-menu {
  right: 0;
  left: auto;
}
.dropup .caret,
.navbar-fixed-bottom .dropdown .caret {
  border-top: 0;
  border-bottom: 4px dashed;
  border-bottom: 4px solid \9;
  content: "";
}
.dropup .dropdown-menu,
.navbar-fixed-bottom .dropdown .dropdown-menu {
  top: auto;
  bottom: 100%;
  margin-bottom: 2px;
}
@media (min-width: 541px) {
  .navbar-right .dropdown-menu {
    left: auto;
    right: 0;
  }
  .navbar-right .dropdown-menu-left {
    left: 0;
    right: auto;
  }
}
.btn-group,
.btn-group-vertical {
  position: relative;
  display: inline-block;
  vertical-align: middle;
}
.btn-group > .btn,
.btn-group-vertical > .btn {
  position: relative;
  float: left;
}
.btn-group > .btn:hover,
.btn-group-vertical > .btn:hover,
.btn-group > .btn:focus,
.btn-group-vertical > .btn:focus,
.btn-group > .btn:active,
.btn-group-vertical > .btn:active,
.btn-group > .btn.active,
.btn-group-vertical > .btn.active {
  z-index: 2;
}
.btn-group .btn + .btn,
.btn-group .btn + .btn-group,
.btn-group .btn-group + .btn,
.btn-group .btn-group + .btn-group {
  margin-left: -1px;
}
.btn-toolbar {
  margin-left: -5px;
}
.btn-toolbar .btn,
.btn-toolbar .btn-group,
.btn-toolbar .input-group {
  float: left;
}
.btn-toolbar > .btn,
.btn-toolbar > .btn-group,
.btn-toolbar > .input-group {
  margin-left: 5px;
}
.btn-group > .btn:not(:first-child):not(:last-child):not(.dropdown-toggle) {
  border-radius: 0;
}
.btn-group > .btn:first-child {
  margin-left: 0;
}
.btn-group > .btn:first-child:not(:last-child):not(.dropdown-toggle) {
  border-bottom-right-radius: 0;
  border-top-right-radius: 0;
}
.btn-group > .btn:last-child:not(:first-child),
.btn-group > .dropdown-toggle:not(:first-child) {
  border-bottom-left-radius: 0;
  border-top-left-radius: 0;
}
.btn-group > .btn-group {
  float: left;
}
.btn-group > .btn-group:not(:first-child):not(:last-child) > .btn {
  border-radius: 0;
}
.btn-group > .btn-group:first-child:not(:last-child) > .btn:last-child,
.btn-group > .btn-group:first-child:not(:last-child) > .dropdown-toggle {
  border-bottom-right-radius: 0;
  border-top-right-radius: 0;
}
.btn-group > .btn-group:last-child:not(:first-child) > .btn:first-child {
  border-bottom-left-radius: 0;
  border-top-left-radius: 0;
}
.btn-group .dropdown-toggle:active,
.btn-group.open .dropdown-toggle {
  outline: 0;
}
.btn-group > .btn + .dropdown-toggle {
  padding-left: 8px;
  padding-right: 8px;
}
.btn-group > .btn-lg + .dropdown-toggle {
  padding-left: 12px;
  padding-right: 12px;
}
.btn-group.open .dropdown-toggle {
  -webkit-box-shadow: inset 0 3px 5px rgba(0, 0, 0, 0.125);
  box-shadow: inset 0 3px 5px rgba(0, 0, 0, 0.125);
}
.btn-group.open .dropdown-toggle.btn-link {
  -webkit-box-shadow: none;
  box-shadow: none;
}
.btn .caret {
  margin-left: 0;
}
.btn-lg .caret {
  border-width: 5px 5px 0;
  border-bottom-width: 0;
}
.dropup .btn-lg .caret {
  border-width: 0 5px 5px;
}
.btn-group-vertical > .btn,
.btn-group-vertical > .btn-group,
.btn-group-vertical > .btn-group > .btn {
  display: block;
  float: none;
  width: 100%;
  max-width: 100%;
}
.btn-group-vertical > .btn-group > .btn {
  float: none;
}
.btn-group-vertical > .btn + .btn,
.btn-group-vertical > .btn + .btn-group,
.btn-group-vertical > .btn-group + .btn,
.btn-group-vertical > .btn-group + .btn-group {
  margin-top: -1px;
  margin-left: 0;
}
.btn-group-vertical > .btn:not(:first-child):not(:last-child) {
  border-radius: 0;
}
.btn-group-vertical > .btn:first-child:not(:last-child) {
  border-top-right-radius: 2px;
  border-top-left-radius: 2px;
  border-bottom-right-radius: 0;
  border-bottom-left-radius: 0;
}
.btn-group-vertical > .btn:last-child:not(:first-child) {
  border-top-right-radius: 0;
  border-top-left-radius: 0;
  border-bottom-right-radius: 2px;
  border-bottom-left-radius: 2px;
}
.btn-group-vertical > .btn-group:not(:first-child):not(:last-child) > .btn {
  border-radius: 0;
}
.btn-group-vertical > .btn-group:first-child:not(:last-child) > .btn:last-child,
.btn-group-vertical > .btn-group:first-child:not(:last-child) > .dropdown-toggle {
  border-bottom-right-radius: 0;
  border-bottom-left-radius: 0;
}
.btn-group-vertical > .btn-group:last-child:not(:first-child) > .btn:first-child {
  border-top-right-radius: 0;
  border-top-left-radius: 0;
}
.btn-group-justified {
  display: table;
  width: 100%;
  table-layout: fixed;
  border-collapse: separate;
}
.btn-group-justified > .btn,
.btn-group-justified > .btn-group {
  float: none;
  display: table-cell;
  width: 1%;
}
.btn-group-justified > .btn-group .btn {
  width: 100%;
}
.btn-group-justified > .btn-group .dropdown-menu {
  left: auto;
}
[data-toggle="buttons"] > .btn input[type="radio"],
[data-toggle="buttons"] > .btn-group > .btn input[type="radio"],
[data-toggle="buttons"] > .btn input[type="checkbox"],
[data-toggle="buttons"] > .btn-group > .btn input[type="checkbox"] {
  position: absolute;
  clip: rect(0, 0, 0, 0);
  pointer-events: none;
}
.input-group {
  position: relative;
  display: table;
  border-collapse: separate;
}
.input-group[class*="col-"] {
  float: none;
  padding-left: 0;
  padding-right: 0;
}
.input-group .form-control {
  position: relative;
  z-index: 2;
  float: left;
  width: 100%;
  margin-bottom: 0;
}
.input-group .form-control:focus {
  z-index: 3;
}
.input-group-lg > .form-control,
.input-group-lg > .input-group-addon,
.input-group-lg > .input-group-btn > .btn {
  height: 45px;
  padding: 10px 16px;
  font-size: 17px;
  line-height: 1.3333333;
  border-radius: 3px;
}
select.input-group-lg > .form-control,
select.input-group-lg > .input-group-addon,
select.input-group-lg > .input-group-btn > .btn {
  height: 45px;
  line-height: 45px;
}
textarea.input-group-lg > .form-control,
textarea.input-group-lg > .input-group-addon,
textarea.input-group-lg > .input-group-btn > .btn,
select[multiple].input-group-lg > .form-control,
select[multiple].input-group-lg > .input-group-addon,
select[multiple].input-group-lg > .input-group-btn > .btn {
  height: auto;
}
.input-group-sm > .form-control,
.input-group-sm > .input-group-addon,
.input-group-sm > .input-group-btn > .btn {
  height: 30px;
  padding: 5px 10px;
  font-size: 12px;
  line-height: 1.5;
  border-radius: 1px;
}
select.input-group-sm > .form-control,
select.input-group-sm > .input-group-addon,
select.input-group-sm > .input-group-btn > .btn {
  height: 30px;
  line-height: 30px;
}
textarea.input-group-sm > .form-control,
textarea.input-group-sm > .input-group-addon,
textarea.input-group-sm > .input-group-btn > .btn,
select[multiple].input-group-sm > .form-control,
select[multiple].input-group-sm > .input-group-addon,
select[multiple].input-group-sm > .input-group-btn > .btn {
  height: auto;
}
.input-group-addon,
.input-group-btn,
.input-group .form-control {
  display: table-cell;
}
.input-group-addon:not(:first-child):not(:last-child),
.input-group-btn:not(:first-child):not(:last-child),
.input-group .form-control:not(:first-child):not(:last-child) {
  border-radius: 0;
}
.input-group-addon,
.input-group-btn {
  width: 1%;
  white-space: nowrap;
  vertical-align: middle;
}
.input-group-addon {
  padding: 6px 12px;
  font-size: 13px;
  font-weight: normal;
  line-height: 1;
  color: #555555;
  text-align: center;
  background-color: #eeeeee;
  border: 1px solid #ccc;
  border-radius: 2px;
}
.input-group-addon.input-sm {
  padding: 5px 10px;
  font-size: 12px;
  border-radius: 1px;
}
.input-group-addon.input-lg {
  padding: 10px 16px;
  font-size: 17px;
  border-radius: 3px;
}
.input-group-addon input[type="radio"],
.input-group-addon input[type="checkbox"] {
  margin-top: 0;
}
.input-group .form-control:first-child,
.input-group-addon:first-child,
.input-group-btn:first-child > .btn,
.input-group-btn:first-child > .btn-group > .btn,
.input-group-btn:first-child > .dropdown-toggle,
.input-group-btn:last-child > .btn:not(:last-child):not(.dropdown-toggle),
.input-group-btn:last-child > .btn-group:not(:last-child) > .btn {
  border-bottom-right-radius: 0;
  border-top-right-radius: 0;
}
.input-group-addon:first-child {
  border-right: 0;
}
.input-group .form-control:last-child,
.input-group-addon:last-child,
.input-group-btn:last-child > .btn,
.input-group-btn:last-child > .btn-group > .btn,
.input-group-btn:last-child > .dropdown-toggle,
.input-group-btn:first-child > .btn:not(:first-child),
.input-group-btn:first-child > .btn-group:not(:first-child) > .btn {
  border-bottom-left-radius: 0;
  border-top-left-radius: 0;
}
.input-group-addon:last-child {
  border-left: 0;
}
.input-group-btn {
  position: relative;
  font-size: 0;
  white-space: nowrap;
}
.input-group-btn > .btn {
  position: relative;
}
.input-group-btn > .btn + .btn {
  margin-left: -1px;
}
.input-group-btn > .btn:hover,
.input-group-btn > .btn:focus,
.input-group-btn > .btn:active {
  z-index: 2;
}
.input-group-btn:first-child > .btn,
.input-group-btn:first-child > .btn-group {
  margin-right: -1px;
}
.input-group-btn:last-child > .btn,
.input-group-btn:last-child > .btn-group {
  z-index: 2;
  margin-left: -1px;
}
.nav {
  margin-bottom: 0;
  padding-left: 0;
  list-style: none;
}
.nav > li {
  position: relative;
  display: block;
}
.nav > li > a {
  position: relative;
  display: block;
  padding: 10px 15px;
}
.nav > li > a:hover,
.nav > li > a:focus {
  text-decoration: none;
  background-color: #eeeeee;
}
.nav > li.disabled > a {
  color: #777777;
}
.nav > li.disabled > a:hover,
.nav > li.disabled > a:focus {
  color: #777777;
  text-decoration: none;
  background-color: transparent;
  cursor: not-allowed;
}
.nav .open > a,
.nav .open > a:hover,
.nav .open > a:focus {
  background-color: #eeeeee;
  border-color: #337ab7;
}
.nav .nav-divider {
  height: 1px;
  margin: 8px 0;
  overflow: hidden;
  background-color: #e5e5e5;
}
.nav > li > a > img {
  max-width: none;
}
.nav-tabs {
  border-bottom: 1px solid #ddd;
}
.nav-tabs > li {
  float: left;
  margin-bottom: -1px;
}
.nav-tabs > li > a {
  margin-right: 2px;
  line-height: 1.42857143;
  border: 1px solid transparent;
  border-radius: 2px 2px 0 0;
}
.nav-tabs > li > a:hover {
  border-color: #eeeeee #eeeeee #ddd;
}
.nav-tabs > li.active > a,
.nav-tabs > li.active > a:hover,
.nav-tabs > li.active > a:focus {
  color: #555555;
  background-color: #fff;
  border: 1px solid #ddd;
  border-bottom-color: transparent;
  cursor: default;
}
.nav-tabs.nav-justified {
  width: 100%;
  border-bottom: 0;
}
.nav-tabs.nav-justified > li {
  float: none;
}
.nav-tabs.nav-justified > li > a {
  text-align: center;
  margin-bottom: 5px;
}
.nav-tabs.nav-justified > .dropdown .dropdown-menu {
  top: auto;
  left: auto;
}
@media (min-width: 768px) {
  .nav-tabs.nav-justified > li {
    display: table-cell;
    width: 1%;
  }
  .nav-tabs.nav-justified > li > a {
    margin-bottom: 0;
  }
}
.nav-tabs.nav-justified > li > a {
  margin-right: 0;
  border-radius: 2px;
}
.nav-tabs.nav-justified > .active > a,
.nav-tabs.nav-justified > .active > a:hover,
.nav-tabs.nav-justified > .active > a:focus {
  border: 1px solid #ddd;
}
@media (min-width: 768px) {
  .nav-tabs.nav-justified > li > a {
    border-bottom: 1px solid #ddd;
    border-radius: 2px 2px 0 0;
  }
  .nav-tabs.nav-justified > .active > a,
  .nav-tabs.nav-justified > .active > a:hover,
  .nav-tabs.nav-justified > .active > a:focus {
    border-bottom-color: #fff;
  }
}
.nav-pills > li {
  float: left;
}
.nav-pills > li > a {
  border-radius: 2px;
}
.nav-pills > li + li {
  margin-left: 2px;
}
.nav-pills > li.active > a,
.nav-pills > li.active > a:hover,
.nav-pills > li.active > a:focus {
  color: #fff;
  background-color: #337ab7;
}
.nav-stacked > li {
  float: none;
}
.nav-stacked > li + li {
  margin-top: 2px;
  margin-left: 0;
}
.nav-justified {
  width: 100%;
}
.nav-justified > li {
  float: none;
}
.nav-justified > li > a {
  text-align: center;
  margin-bottom: 5px;
}
.nav-justified > .dropdown .dropdown-menu {
  top: auto;
  left: auto;
}
@media (min-width: 768px) {
  .nav-justified > li {
    display: table-cell;
    width: 1%;
  }
  .nav-justified > li > a {
    margin-bottom: 0;
  }
}
.nav-tabs-justified {
  border-bottom: 0;
}
.nav-tabs-justified > li > a {
  margin-right: 0;
  border-radius: 2px;
}
.nav-tabs-justified > .active > a,
.nav-tabs-justified > .active > a:hover,
.nav-tabs-justified > .active > a:focus {
  border: 1px solid #ddd;
}
@media (min-width: 768px) {
  .nav-tabs-justified > li > a {
    border-bottom: 1px solid #ddd;
    border-radius: 2px 2px 0 0;
  }
  .nav-tabs-justified > .active > a,
  .nav-tabs-justified > .active > a:hover,
  .nav-tabs-justified > .active > a:focus {
    border-bottom-color: #fff;
  }
}
.tab-content > .tab-pane {
  display: none;
}
.tab-content > .active {
  display: block;
}
.nav-tabs .dropdown-menu {
  margin-top: -1px;
  border-top-right-radius: 0;
  border-top-left-radius: 0;
}
.navbar {
  position: relative;
  min-height: 30px;
  margin-bottom: 18px;
  border: 1px solid transparent;
}
@media (min-width: 541px) {
  .navbar {
    border-radius: 2px;
  }
}
@media (min-width: 541px) {
  .navbar-header {
    float: left;
  }
}
.navbar-collapse {
  overflow-x: visible;
  padding-right: 0px;
  padding-left: 0px;
  border-top: 1px solid transparent;
  box-shadow: inset 0 1px 0 rgba(255, 255, 255, 0.1);
  -webkit-overflow-scrolling: touch;
}
.navbar-collapse.in {
  overflow-y: auto;
}
@media (min-width: 541px) {
  .navbar-collapse {
    width: auto;
    border-top: 0;
    box-shadow: none;
  }
  .navbar-collapse.collapse {
    display: block !important;
    height: auto !important;
    padding-bottom: 0;
    overflow: visible !important;
  }
  .navbar-collapse.in {
    overflow-y: visible;
  }
  .navbar-fixed-top .navbar-collapse,
  .navbar-static-top .navbar-collapse,
  .navbar-fixed-bottom .navbar-collapse {
    padding-left: 0;
    padding-right: 0;
  }
}
.navbar-fixed-top .navbar-collapse,
.navbar-fixed-bottom .navbar-collapse {
  max-height: 340px;
}
@media (max-device-width: 540px) and (orientation: landscape) {
  .navbar-fixed-top .navbar-collapse,
  .navbar-fixed-bottom .navbar-collapse {
    max-height: 200px;
  }
}
.container > .navbar-header,
.container-fluid > .navbar-header,
.container > .navbar-collapse,
.container-fluid > .navbar-collapse {
  margin-right: 0px;
  margin-left: 0px;
}
@media (min-width: 541px) {
  .container > .navbar-header,
  .container-fluid > .navbar-header,
  .container > .navbar-collapse,
  .container-fluid > .navbar-collapse {
    margin-right: 0;
    margin-left: 0;
  }
}
.navbar-static-top {
  z-index: 1000;
  border-width: 0 0 1px;
}
@media (min-width: 541px) {
  .navbar-static-top {
    border-radius: 0;
  }
}
.navbar-fixed-top,
.navbar-fixed-bottom {
  position: fixed;
  right: 0;
  left: 0;
  z-index: 1030;
}
@media (min-width: 541px) {
  .navbar-fixed-top,
  .navbar-fixed-bottom {
    border-radius: 0;
  }
}
.navbar-fixed-top {
  top: 0;
  border-width: 0 0 1px;
}
.navbar-fixed-bottom {
  bottom: 0;
  margin-bottom: 0;
  border-width: 1px 0 0;
}
.navbar-brand {
  float: left;
  padding: 6px 0px;
  font-size: 17px;
  line-height: 18px;
  height: 30px;
}
.navbar-brand:hover,
.navbar-brand:focus {
  text-decoration: none;
}
.navbar-brand > img {
  display: block;
}
@media (min-width: 541px) {
  .navbar > .container .navbar-brand,
  .navbar > .container-fluid .navbar-brand {
    margin-left: 0px;
  }
}
.navbar-toggle {
  position: relative;
  float: right;
  margin-right: 0px;
  padding: 9px 10px;
  margin-top: -2px;
  margin-bottom: -2px;
  background-color: transparent;
  background-image: none;
  border: 1px solid transparent;
  border-radius: 2px;
}
.navbar-toggle:focus {
  outline: 0;
}
.navbar-toggle .icon-bar {
  display: block;
  width: 22px;
  height: 2px;
  border-radius: 1px;
}
.navbar-toggle .icon-bar + .icon-bar {
  margin-top: 4px;
}
@media (min-width: 541px) {
  .navbar-toggle {
    display: none;
  }
}
.navbar-nav {
  margin: 3px 0px;
}
.navbar-nav > li > a {
  padding-top: 10px;
  padding-bottom: 10px;
  line-height: 18px;
}
@media (max-width: 540px) {
  .navbar-nav .open .dropdown-menu {
    position: static;
    float: none;
    width: auto;
    margin-top: 0;
    background-color: transparent;
    border: 0;
    box-shadow: none;
  }
  .navbar-nav .open .dropdown-menu > li > a,
  .navbar-nav .open .dropdown-menu .dropdown-header {
    padding: 5px 15px 5px 25px;
  }
  .navbar-nav .open .dropdown-menu > li > a {
    line-height: 18px;
  }
  .navbar-nav .open .dropdown-menu > li > a:hover,
  .navbar-nav .open .dropdown-menu > li > a:focus {
    background-image: none;
  }
}
@media (min-width: 541px) {
  .navbar-nav {
    float: left;
    margin: 0;
  }
  .navbar-nav > li {
    float: left;
  }
  .navbar-nav > li > a {
    padding-top: 6px;
    padding-bottom: 6px;
  }
}
.navbar-form {
  margin-left: 0px;
  margin-right: 0px;
  padding: 10px 0px;
  border-top: 1px solid transparent;
  border-bottom: 1px solid transparent;
  -webkit-box-shadow: inset 0 1px 0 rgba(255, 255, 255, 0.1), 0 1px 0 rgba(255, 255, 255, 0.1);
  box-shadow: inset 0 1px 0 rgba(255, 255, 255, 0.1), 0 1px 0 rgba(255, 255, 255, 0.1);
  margin-top: -1px;
  margin-bottom: -1px;
}
@media (min-width: 768px) {
  .navbar-form .form-group {
    display: inline-block;
    margin-bottom: 0;
    vertical-align: middle;
  }
  .navbar-form .form-control {
    display: inline-block;
    width: auto;
    vertical-align: middle;
  }
  .navbar-form .form-control-static {
    display: inline-block;
  }
  .navbar-form .input-group {
    display: inline-table;
    vertical-align: middle;
  }
  .navbar-form .input-group .input-group-addon,
  .navbar-form .input-group .input-group-btn,
  .navbar-form .input-group .form-control {
    width: auto;
  }
  .navbar-form .input-group > .form-control {
    width: 100%;
  }
  .navbar-form .control-label {
    margin-bottom: 0;
    vertical-align: middle;
  }
  .navbar-form .radio,
  .navbar-form .checkbox {
    display: inline-block;
    margin-top: 0;
    margin-bottom: 0;
    vertical-align: middle;
  }
  .navbar-form .radio label,
  .navbar-form .checkbox label {
    padding-left: 0;
  }
  .navbar-form .radio input[type="radio"],
  .navbar-form .checkbox input[type="checkbox"] {
    position: relative;
    margin-left: 0;
  }
  .navbar-form .has-feedback .form-control-feedback {
    top: 0;
  }
}
@media (max-width: 540px) {
  .navbar-form .form-group {
    margin-bottom: 5px;
  }
  .navbar-form .form-group:last-child {
    margin-bottom: 0;
  }
}
@media (min-width: 541px) {
  .navbar-form {
    width: auto;
    border: 0;
    margin-left: 0;
    margin-right: 0;
    padding-top: 0;
    padding-bottom: 0;
    -webkit-box-shadow: none;
    box-shadow: none;
  }
}
.navbar-nav > li > .dropdown-menu {
  margin-top: 0;
  border-top-right-radius: 0;
  border-top-left-radius: 0;
}
.navbar-fixed-bottom .navbar-nav > li > .dropdown-menu {
  margin-bottom: 0;
  border-top-right-radius: 2px;
  border-top-left-radius: 2px;
  border-bottom-right-radius: 0;
  border-bottom-left-radius: 0;
}
.navbar-btn {
  margin-top: -1px;
  margin-bottom: -1px;
}
.navbar-btn.btn-sm {
  margin-top: 0px;
  margin-bottom: 0px;
}
.navbar-btn.btn-xs {
  margin-top: 4px;
  margin-bottom: 4px;
}
.navbar-text {
  margin-top: 6px;
  margin-bottom: 6px;
}
@media (min-width: 541px) {
  .navbar-text {
    float: left;
    margin-left: 0px;
    margin-right: 0px;
  }
}
@media (min-width: 541px) {
  .navbar-left {
    float: left !important;
    float: left;
  }
  .navbar-right {
    float: right !important;
    float: right;
    margin-right: 0px;
  }
  .navbar-right ~ .navbar-right {
    margin-right: 0;
  }
}
.navbar-default {
  background-color: #f8f8f8;
  border-color: #e7e7e7;
}
.navbar-default .navbar-brand {
  color: #777;
}
.navbar-default .navbar-brand:hover,
.navbar-default .navbar-brand:focus {
  color: #5e5e5e;
  background-color: transparent;
}
.navbar-default .navbar-text {
  color: #777;
}
.navbar-default .navbar-nav > li > a {
  color: #777;
}
.navbar-default .navbar-nav > li > a:hover,
.navbar-default .navbar-nav > li > a:focus {
  color: #333;
  background-color: transparent;
}
.navbar-default .navbar-nav > .active > a,
.navbar-default .navbar-nav > .active > a:hover,
.navbar-default .navbar-nav > .active > a:focus {
  color: #555;
  background-color: #e7e7e7;
}
.navbar-default .navbar-nav > .disabled > a,
.navbar-default .navbar-nav > .disabled > a:hover,
.navbar-default .navbar-nav > .disabled > a:focus {
  color: #ccc;
  background-color: transparent;
}
.navbar-default .navbar-toggle {
  border-color: #ddd;
}
.navbar-default .navbar-toggle:hover,
.navbar-default .navbar-toggle:focus {
  background-color: #ddd;
}
.navbar-default .navbar-toggle .icon-bar {
  background-color: #888;
}
.navbar-default .navbar-collapse,
.navbar-default .navbar-form {
  border-color: #e7e7e7;
}
.navbar-default .navbar-nav > .open > a,
.navbar-default .navbar-nav > .open > a:hover,
.navbar-default .navbar-nav > .open > a:focus {
  background-color: #e7e7e7;
  color: #555;
}
@media (max-width: 540px) {
  .navbar-default .navbar-nav .open .dropdown-menu > li > a {
    color: #777;
  }
  .navbar-default .navbar-nav .open .dropdown-menu > li > a:hover,
  .navbar-default .navbar-nav .open .dropdown-menu > li > a:focus {
    color: #333;
    background-color: transparent;
  }
  .navbar-default .navbar-nav .open .dropdown-menu > .active > a,
  .navbar-default .navbar-nav .open .dropdown-menu > .active > a:hover,
  .navbar-default .navbar-nav .open .dropdown-menu > .active > a:focus {
    color: #555;
    background-color: #e7e7e7;
  }
  .navbar-default .navbar-nav .open .dropdown-menu > .disabled > a,
  .navbar-default .navbar-nav .open .dropdown-menu > .disabled > a:hover,
  .navbar-default .navbar-nav .open .dropdown-menu > .disabled > a:focus {
    color: #ccc;
    background-color: transparent;
  }
}
.navbar-default .navbar-link {
  color: #777;
}
.navbar-default .navbar-link:hover {
  color: #333;
}
.navbar-default .btn-link {
  color: #777;
}
.navbar-default .btn-link:hover,
.navbar-default .btn-link:focus {
  color: #333;
}
.navbar-default .btn-link[disabled]:hover,
fieldset[disabled] .navbar-default .btn-link:hover,
.navbar-default .btn-link[disabled]:focus,
fieldset[disabled] .navbar-default .btn-link:focus {
  color: #ccc;
}
.navbar-inverse {
  background-color: #222;
  border-color: #080808;
}
.navbar-inverse .navbar-brand {
  color: #9d9d9d;
}
.navbar-inverse .navbar-brand:hover,
.navbar-inverse .navbar-brand:focus {
  color: #fff;
  background-color: transparent;
}
.navbar-inverse .navbar-text {
  color: #9d9d9d;
}
.navbar-inverse .navbar-nav > li > a {
  color: #9d9d9d;
}
.navbar-inverse .navbar-nav > li > a:hover,
.navbar-inverse .navbar-nav > li > a:focus {
  color: #fff;
  background-color: transparent;
}
.navbar-inverse .navbar-nav > .active > a,
.navbar-inverse .navbar-nav > .active > a:hover,
.navbar-inverse .navbar-nav > .active > a:focus {
  color: #fff;
  background-color: #080808;
}
.navbar-inverse .navbar-nav > .disabled > a,
.navbar-inverse .navbar-nav > .disabled > a:hover,
.navbar-inverse .navbar-nav > .disabled > a:focus {
  color: #444;
  background-color: transparent;
}
.navbar-inverse .navbar-toggle {
  border-color: #333;
}
.navbar-inverse .navbar-toggle:hover,
.navbar-inverse .navbar-toggle:focus {
  background-color: #333;
}
.navbar-inverse .navbar-toggle .icon-bar {
  background-color: #fff;
}
.navbar-inverse .navbar-collapse,
.navbar-inverse .navbar-form {
  border-color: #101010;
}
.navbar-inverse .navbar-nav > .open > a,
.navbar-inverse .navbar-nav > .open > a:hover,
.navbar-inverse .navbar-nav > .open > a:focus {
  background-color: #080808;
  color: #fff;
}
@media (max-width: 540px) {
  .navbar-inverse .navbar-nav .open .dropdown-menu > .dropdown-header {
    border-color: #080808;
  }
  .navbar-inverse .navbar-nav .open .dropdown-menu .divider {
    background-color: #080808;
  }
  .navbar-inverse .navbar-nav .open .dropdown-menu > li > a {
    color: #9d9d9d;
  }
  .navbar-inverse .navbar-nav .open .dropdown-menu > li > a:hover,
  .navbar-inverse .navbar-nav .open .dropdown-menu > li > a:focus {
    color: #fff;
    background-color: transparent;
  }
  .navbar-inverse .navbar-nav .open .dropdown-menu > .active > a,
  .navbar-inverse .navbar-nav .open .dropdown-menu > .active > a:hover,
  .navbar-inverse .navbar-nav .open .dropdown-menu > .active > a:focus {
    color: #fff;
    background-color: #080808;
  }
  .navbar-inverse .navbar-nav .open .dropdown-menu > .disabled > a,
  .navbar-inverse .navbar-nav .open .dropdown-menu > .disabled > a:hover,
  .navbar-inverse .navbar-nav .open .dropdown-menu > .disabled > a:focus {
    color: #444;
    background-color: transparent;
  }
}
.navbar-inverse .navbar-link {
  color: #9d9d9d;
}
.navbar-inverse .navbar-link:hover {
  color: #fff;
}
.navbar-inverse .btn-link {
  color: #9d9d9d;
}
.navbar-inverse .btn-link:hover,
.navbar-inverse .btn-link:focus {
  color: #fff;
}
.navbar-inverse .btn-link[disabled]:hover,
fieldset[disabled] .navbar-inverse .btn-link:hover,
.navbar-inverse .btn-link[disabled]:focus,
fieldset[disabled] .navbar-inverse .btn-link:focus {
  color: #444;
}
.breadcrumb {
  padding: 8px 15px;
  margin-bottom: 18px;
  list-style: none;
  background-color: #f5f5f5;
  border-radius: 2px;
}
.breadcrumb > li {
  display: inline-block;
}
.breadcrumb > li + li:before {
  content: "/\00a0";
  padding: 0 5px;
  color: #5e5e5e;
}
.breadcrumb > .active {
  color: #777777;
}
.pagination {
  display: inline-block;
  padding-left: 0;
  margin: 18px 0;
  border-radius: 2px;
}
.pagination > li {
  display: inline;
}
.pagination > li > a,
.pagination > li > span {
  position: relative;
  float: left;
  padding: 6px 12px;
  line-height: 1.42857143;
  text-decoration: none;
  color: #337ab7;
  background-color: #fff;
  border: 1px solid #ddd;
  margin-left: -1px;
}
.pagination > li:first-child > a,
.pagination > li:first-child > span {
  margin-left: 0;
  border-bottom-left-radius: 2px;
  border-top-left-radius: 2px;
}
.pagination > li:last-child > a,
.pagination > li:last-child > span {
  border-bottom-right-radius: 2px;
  border-top-right-radius: 2px;
}
.pagination > li > a:hover,
.pagination > li > span:hover,
.pagination > li > a:focus,
.pagination > li > span:focus {
  z-index: 2;
  color: #23527c;
  background-color: #eeeeee;
  border-color: #ddd;
}
.pagination > .active > a,
.pagination > .active > span,
.pagination > .active > a:hover,
.pagination > .active > span:hover,
.pagination > .active > a:focus,
.pagination > .active > span:focus {
  z-index: 3;
  color: #fff;
  background-color: #337ab7;
  border-color: #337ab7;
  cursor: default;
}
.pagination > .disabled > span,
.pagination > .disabled > span:hover,
.pagination > .disabled > span:focus,
.pagination > .disabled > a,
.pagination > .disabled > a:hover,
.pagination > .disabled > a:focus {
  color: #777777;
  background-color: #fff;
  border-color: #ddd;
  cursor: not-allowed;
}
.pagination-lg > li > a,
.pagination-lg > li > span {
  padding: 10px 16px;
  font-size: 17px;
  line-height: 1.3333333;
}
.pagination-lg > li:first-child > a,
.pagination-lg > li:first-child > span {
  border-bottom-left-radius: 3px;
  border-top-left-radius: 3px;
}
.pagination-lg > li:last-child > a,
.pagination-lg > li:last-child > span {
  border-bottom-right-radius: 3px;
  border-top-right-radius: 3px;
}
.pagination-sm > li > a,
.pagination-sm > li > span {
  padding: 5px 10px;
  font-size: 12px;
  line-height: 1.5;
}
.pagination-sm > li:first-child > a,
.pagination-sm > li:first-child > span {
  border-bottom-left-radius: 1px;
  border-top-left-radius: 1px;
}
.pagination-sm > li:last-child > a,
.pagination-sm > li:last-child > span {
  border-bottom-right-radius: 1px;
  border-top-right-radius: 1px;
}
.pager {
  padding-left: 0;
  margin: 18px 0;
  list-style: none;
  text-align: center;
}
.pager li {
  display: inline;
}
.pager li > a,
.pager li > span {
  display: inline-block;
  padding: 5px 14px;
  background-color: #fff;
  border: 1px solid #ddd;
  border-radius: 15px;
}
.pager li > a:hover,
.pager li > a:focus {
  text-decoration: none;
  background-color: #eeeeee;
}
.pager .next > a,
.pager .next > span {
  float: right;
}
.pager .previous > a,
.pager .previous > span {
  float: left;
}
.pager .disabled > a,
.pager .disabled > a:hover,
.pager .disabled > a:focus,
.pager .disabled > span {
  color: #777777;
  background-color: #fff;
  cursor: not-allowed;
}
.label {
  display: inline;
  padding: .2em .6em .3em;
  font-size: 75%;
  font-weight: bold;
  line-height: 1;
  color: #fff;
  text-align: center;
  white-space: nowrap;
  vertical-align: baseline;
  border-radius: .25em;
}
a.label:hover,
a.label:focus {
  color: #fff;
  text-decoration: none;
  cursor: pointer;
}
.label:empty {
  display: none;
}
.btn .label {
  position: relative;
  top: -1px;
}
.label-default {
  background-color: #777777;
}
.label-default[href]:hover,
.label-default[href]:focus {
  background-color: #5e5e5e;
}
.label-primary {
  background-color: #337ab7;
}
.label-primary[href]:hover,
.label-primary[href]:focus {
  background-color: #286090;
}
.label-success {
  background-color: #5cb85c;
}
.label-success[href]:hover,
.label-success[href]:focus {
  background-color: #449d44;
}
.label-info {
  background-color: #5bc0de;
}
.label-info[href]:hover,
.label-info[href]:focus {
  background-color: #31b0d5;
}
.label-warning {
  background-color: #f0ad4e;
}
.label-warning[href]:hover,
.label-warning[href]:focus {
  background-color: #ec971f;
}
.label-danger {
  background-color: #d9534f;
}
.label-danger[href]:hover,
.label-danger[href]:focus {
  background-color: #c9302c;
}
.badge {
  display: inline-block;
  min-width: 10px;
  padding: 3px 7px;
  font-size: 12px;
  font-weight: bold;
  color: #fff;
  line-height: 1;
  vertical-align: middle;
  white-space: nowrap;
  text-align: center;
  background-color: #777777;
  border-radius: 10px;
}
.badge:empty {
  display: none;
}
.btn .badge {
  position: relative;
  top: -1px;
}
.btn-xs .badge,
.btn-group-xs > .btn .badge {
  top: 0;
  padding: 1px 5px;
}
a.badge:hover,
a.badge:focus {
  color: #fff;
  text-decoration: none;
  cursor: pointer;
}
.list-group-item.active > .badge,
.nav-pills > .active > a > .badge {
  color: #337ab7;
  background-color: #fff;
}
.list-group-item > .badge {
  float: right;
}
.list-group-item > .badge + .badge {
  margin-right: 5px;
}
.nav-pills > li > a > .badge {
  margin-left: 3px;
}
.jumbotron {
  padding-top: 30px;
  padding-bottom: 30px;
  margin-bottom: 30px;
  color: inherit;
  background-color: #eeeeee;
}
.jumbotron h1,
.jumbotron .h1 {
  color: inherit;
}
.jumbotron p {
  margin-bottom: 15px;
  font-size: 20px;
  font-weight: 200;
}
.jumbotron > hr {
  border-top-color: #d5d5d5;
}
.container .jumbotron,
.container-fluid .jumbotron {
  border-radius: 3px;
  padding-left: 0px;
  padding-right: 0px;
}
.jumbotron .container {
  max-width: 100%;
}
@media screen and (min-width: 768px) {
  .jumbotron {
    padding-top: 48px;
    padding-bottom: 48px;
  }
  .container .jumbotron,
  .container-fluid .jumbotron {
    padding-left: 60px;
    padding-right: 60px;
  }
  .jumbotron h1,
  .jumbotron .h1 {
    font-size: 59px;
  }
}
.thumbnail {
  display: block;
  padding: 4px;
  margin-bottom: 18px;
  line-height: 1.42857143;
  background-color: #fff;
  border: 1px solid #ddd;
  border-radius: 2px;
  -webkit-transition: border 0.2s ease-in-out;
  -o-transition: border 0.2s ease-in-out;
  transition: border 0.2s ease-in-out;
}
.thumbnail > img,
.thumbnail a > img {
  margin-left: auto;
  margin-right: auto;
}
a.thumbnail:hover,
a.thumbnail:focus,
a.thumbnail.active {
  border-color: #337ab7;
}
.thumbnail .caption {
  padding: 9px;
  color: #000;
}
.alert {
  padding: 15px;
  margin-bottom: 18px;
  border: 1px solid transparent;
  border-radius: 2px;
}
.alert h4 {
  margin-top: 0;
  color: inherit;
}
.alert .alert-link {
  font-weight: bold;
}
.alert > p,
.alert > ul {
  margin-bottom: 0;
}
.alert > p + p {
  margin-top: 5px;
}
.alert-dismissable,
.alert-dismissible {
  padding-right: 35px;
}
.alert-dismissable .close,
.alert-dismissible .close {
  position: relative;
  top: -2px;
  right: -21px;
  color: inherit;
}
.alert-success {
  background-color: #dff0d8;
  border-color: #d6e9c6;
  color: #3c763d;
}
.alert-success hr {
  border-top-color: #c9e2b3;
}
.alert-success .alert-link {
  color: #2b542c;
}
.alert-info {
  background-color: #d9edf7;
  border-color: #bce8f1;
  color: #31708f;
}
.alert-info hr {
  border-top-color: #a6e1ec;
}
.alert-info .alert-link {
  color: #245269;
}
.alert-warning {
  background-color: #fcf8e3;
  border-color: #faebcc;
  color: #8a6d3b;
}
.alert-warning hr {
  border-top-color: #f7e1b5;
}
.alert-warning .alert-link {
  color: #66512c;
}
.alert-danger {
  background-color: #f2dede;
  border-color: #ebccd1;
  color: #a94442;
}
.alert-danger hr {
  border-top-color: #e4b9c0;
}
.alert-danger .alert-link {
  color: #843534;
}
@-webkit-keyframes progress-bar-stripes {
  from {
    background-position: 40px 0;
  }
  to {
    background-position: 0 0;
  }
}
@keyframes progress-bar-stripes {
  from {
    background-position: 40px 0;
  }
  to {
    background-position: 0 0;
  }
}
.progress {
  overflow: hidden;
  height: 18px;
  margin-bottom: 18px;
  background-color: #f5f5f5;
  border-radius: 2px;
  -webkit-box-shadow: inset 0 1px 2px rgba(0, 0, 0, 0.1);
  box-shadow: inset 0 1px 2px rgba(0, 0, 0, 0.1);
}
.progress-bar {
  float: left;
  width: 0%;
  height: 100%;
  font-size: 12px;
  line-height: 18px;
  color: #fff;
  text-align: center;
  background-color: #337ab7;
  -webkit-box-shadow: inset 0 -1px 0 rgba(0, 0, 0, 0.15);
  box-shadow: inset 0 -1px 0 rgba(0, 0, 0, 0.15);
  -webkit-transition: width 0.6s ease;
  -o-transition: width 0.6s ease;
  transition: width 0.6s ease;
}
.progress-striped .progress-bar,
.progress-bar-striped {
  background-image: -webkit-linear-gradient(45deg, rgba(255, 255, 255, 0.15) 25%, transparent 25%, transparent 50%, rgba(255, 255, 255, 0.15) 50%, rgba(255, 255, 255, 0.15) 75%, transparent 75%, transparent);
  background-image: -o-linear-gradient(45deg, rgba(255, 255, 255, 0.15) 25%, transparent 25%, transparent 50%, rgba(255, 255, 255, 0.15) 50%, rgba(255, 255, 255, 0.15) 75%, transparent 75%, transparent);
  background-image: linear-gradient(45deg, rgba(255, 255, 255, 0.15) 25%, transparent 25%, transparent 50%, rgba(255, 255, 255, 0.15) 50%, rgba(255, 255, 255, 0.15) 75%, transparent 75%, transparent);
  background-size: 40px 40px;
}
.progress.active .progress-bar,
.progress-bar.active {
  -webkit-animation: progress-bar-stripes 2s linear infinite;
  -o-animation: progress-bar-stripes 2s linear infinite;
  animation: progress-bar-stripes 2s linear infinite;
}
.progress-bar-success {
  background-color: #5cb85c;
}
.progress-striped .progress-bar-success {
  background-image: -webkit-linear-gradient(45deg, rgba(255, 255, 255, 0.15) 25%, transparent 25%, transparent 50%, rgba(255, 255, 255, 0.15) 50%, rgba(255, 255, 255, 0.15) 75%, transparent 75%, transparent);
  background-image: -o-linear-gradient(45deg, rgba(255, 255, 255, 0.15) 25%, transparent 25%, transparent 50%, rgba(255, 255, 255, 0.15) 50%, rgba(255, 255, 255, 0.15) 75%, transparent 75%, transparent);
  background-image: linear-gradient(45deg, rgba(255, 255, 255, 0.15) 25%, transparent 25%, transparent 50%, rgba(255, 255, 255, 0.15) 50%, rgba(255, 255, 255, 0.15) 75%, transparent 75%, transparent);
}
.progress-bar-info {
  background-color: #5bc0de;
}
.progress-striped .progress-bar-info {
  background-image: -webkit-linear-gradient(45deg, rgba(255, 255, 255, 0.15) 25%, transparent 25%, transparent 50%, rgba(255, 255, 255, 0.15) 50%, rgba(255, 255, 255, 0.15) 75%, transparent 75%, transparent);
  background-image: -o-linear-gradient(45deg, rgba(255, 255, 255, 0.15) 25%, transparent 25%, transparent 50%, rgba(255, 255, 255, 0.15) 50%, rgba(255, 255, 255, 0.15) 75%, transparent 75%, transparent);
  background-image: linear-gradient(45deg, rgba(255, 255, 255, 0.15) 25%, transparent 25%, transparent 50%, rgba(255, 255, 255, 0.15) 50%, rgba(255, 255, 255, 0.15) 75%, transparent 75%, transparent);
}
.progress-bar-warning {
  background-color: #f0ad4e;
}
.progress-striped .progress-bar-warning {
  background-image: -webkit-linear-gradient(45deg, rgba(255, 255, 255, 0.15) 25%, transparent 25%, transparent 50%, rgba(255, 255, 255, 0.15) 50%, rgba(255, 255, 255, 0.15) 75%, transparent 75%, transparent);
  background-image: -o-linear-gradient(45deg, rgba(255, 255, 255, 0.15) 25%, transparent 25%, transparent 50%, rgba(255, 255, 255, 0.15) 50%, rgba(255, 255, 255, 0.15) 75%, transparent 75%, transparent);
  background-image: linear-gradient(45deg, rgba(255, 255, 255, 0.15) 25%, transparent 25%, transparent 50%, rgba(255, 255, 255, 0.15) 50%, rgba(255, 255, 255, 0.15) 75%, transparent 75%, transparent);
}
.progress-bar-danger {
  background-color: #d9534f;
}
.progress-striped .progress-bar-danger {
  background-image: -webkit-linear-gradient(45deg, rgba(255, 255, 255, 0.15) 25%, transparent 25%, transparent 50%, rgba(255, 255, 255, 0.15) 50%, rgba(255, 255, 255, 0.15) 75%, transparent 75%, transparent);
  background-image: -o-linear-gradient(45deg, rgba(255, 255, 255, 0.15) 25%, transparent 25%, transparent 50%, rgba(255, 255, 255, 0.15) 50%, rgba(255, 255, 255, 0.15) 75%, transparent 75%, transparent);
  background-image: linear-gradient(45deg, rgba(255, 255, 255, 0.15) 25%, transparent 25%, transparent 50%, rgba(255, 255, 255, 0.15) 50%, rgba(255, 255, 255, 0.15) 75%, transparent 75%, transparent);
}
.media {
  margin-top: 15px;
}
.media:first-child {
  margin-top: 0;
}
.media,
.media-body {
  zoom: 1;
  overflow: hidden;
}
.media-body {
  width: 10000px;
}
.media-object {
  display: block;
}
.media-object.img-thumbnail {
  max-width: none;
}
.media-right,
.media > .pull-right {
  padding-left: 10px;
}
.media-left,
.media > .pull-left {
  padding-right: 10px;
}
.media-left,
.media-right,
.media-body {
  display: table-cell;
  vertical-align: top;
}
.media-middle {
  vertical-align: middle;
}
.media-bottom {
  vertical-align: bottom;
}
.media-heading {
  margin-top: 0;
  margin-bottom: 5px;
}
.media-list {
  padding-left: 0;
  list-style: none;
}
.list-group {
  margin-bottom: 20px;
  padding-left: 0;
}
.list-group-item {
  position: relative;
  display: block;
  padding: 10px 15px;
  margin-bottom: -1px;
  background-color: #fff;
  border: 1px solid #ddd;
}
.list-group-item:first-child {
  border-top-right-radius: 2px;
  border-top-left-radius: 2px;
}
.list-group-item:last-child {
  margin-bottom: 0;
  border-bottom-right-radius: 2px;
  border-bottom-left-radius: 2px;
}
a.list-group-item,
button.list-group-item {
  color: #555;
}
a.list-group-item .list-group-item-heading,
button.list-group-item .list-group-item-heading {
  color: #333;
}
a.list-group-item:hover,
button.list-group-item:hover,
a.list-group-item:focus,
button.list-group-item:focus {
  text-decoration: none;
  color: #555;
  background-color: #f5f5f5;
}
button.list-group-item {
  width: 100%;
  text-align: left;
}
.list-group-item.disabled,
.list-group-item.disabled:hover,
.list-group-item.disabled:focus {
  background-color: #eeeeee;
  color: #777777;
  cursor: not-allowed;
}
.list-group-item.disabled .list-group-item-heading,
.list-group-item.disabled:hover .list-group-item-heading,
.list-group-item.disabled:focus .list-group-item-heading {
  color: inherit;
}
.list-group-item.disabled .list-group-item-text,
.list-group-item.disabled:hover .list-group-item-text,
.list-group-item.disabled:focus .list-group-item-text {
  color: #777777;
}
.list-group-item.active,
.list-group-item.active:hover,
.list-group-item.active:focus {
  z-index: 2;
  color: #fff;
  background-color: #337ab7;
  border-color: #337ab7;
}
.list-group-item.active .list-group-item-heading,
.list-group-item.active:hover .list-group-item-heading,
.list-group-item.active:focus .list-group-item-heading,
.list-group-item.active .list-group-item-heading > small,
.list-group-item.active:hover .list-group-item-heading > small,
.list-group-item.active:focus .list-group-item-heading > small,
.list-group-item.active .list-group-item-heading > .small,
.list-group-item.active:hover .list-group-item-heading > .small,
.list-group-item.active:focus .list-group-item-heading > .small {
  color: inherit;
}
.list-group-item.active .list-group-item-text,
.list-group-item.active:hover .list-group-item-text,
.list-group-item.active:focus .list-group-item-text {
  color: #c7ddef;
}
.list-group-item-success {
  color: #3c763d;
  background-color: #dff0d8;
}
a.list-group-item-success,
button.list-group-item-success {
  color: #3c763d;
}
a.list-group-item-success .list-group-item-heading,
button.list-group-item-success .list-group-item-heading {
  color: inherit;
}
a.list-group-item-success:hover,
button.list-group-item-success:hover,
a.list-group-item-success:focus,
button.list-group-item-success:focus {
  color: #3c763d;
  background-color: #d0e9c6;
}
a.list-group-item-success.active,
button.list-group-item-success.active,
a.list-group-item-success.active:hover,
button.list-group-item-success.active:hover,
a.list-group-item-success.active:focus,
button.list-group-item-success.active:focus {
  color: #fff;
  background-color: #3c763d;
  border-color: #3c763d;
}
.list-group-item-info {
  color: #31708f;
  background-color: #d9edf7;
}
a.list-group-item-info,
button.list-group-item-info {
  color: #31708f;
}
a.list-group-item-info .list-group-item-heading,
button.list-group-item-info .list-group-item-heading {
  color: inherit;
}
a.list-group-item-info:hover,
button.list-group-item-info:hover,
a.list-group-item-info:focus,
button.list-group-item-info:focus {
  color: #31708f;
  background-color: #c4e3f3;
}
a.list-group-item-info.active,
button.list-group-item-info.active,
a.list-group-item-info.active:hover,
button.list-group-item-info.active:hover,
a.list-group-item-info.active:focus,
button.list-group-item-info.active:focus {
  color: #fff;
  background-color: #31708f;
  border-color: #31708f;
}
.list-group-item-warning {
  color: #8a6d3b;
  background-color: #fcf8e3;
}
a.list-group-item-warning,
button.list-group-item-warning {
  color: #8a6d3b;
}
a.list-group-item-warning .list-group-item-heading,
button.list-group-item-warning .list-group-item-heading {
  color: inherit;
}
a.list-group-item-warning:hover,
button.list-group-item-warning:hover,
a.list-group-item-warning:focus,
button.list-group-item-warning:focus {
  color: #8a6d3b;
  background-color: #faf2cc;
}
a.list-group-item-warning.active,
button.list-group-item-warning.active,
a.list-group-item-warning.active:hover,
button.list-group-item-warning.active:hover,
a.list-group-item-warning.active:focus,
button.list-group-item-warning.active:focus {
  color: #fff;
  background-color: #8a6d3b;
  border-color: #8a6d3b;
}
.list-group-item-danger {
  color: #a94442;
  background-color: #f2dede;
}
a.list-group-item-danger,
button.list-group-item-danger {
  color: #a94442;
}
a.list-group-item-danger .list-group-item-heading,
button.list-group-item-danger .list-group-item-heading {
  color: inherit;
}
a.list-group-item-danger:hover,
button.list-group-item-danger:hover,
a.list-group-item-danger:focus,
button.list-group-item-danger:focus {
  color: #a94442;
  background-color: #ebcccc;
}
a.list-group-item-danger.active,
button.list-group-item-danger.active,
a.list-group-item-danger.active:hover,
button.list-group-item-danger.active:hover,
a.list-group-item-danger.active:focus,
button.list-group-item-danger.active:focus {
  color: #fff;
  background-color: #a94442;
  border-color: #a94442;
}
.list-group-item-heading {
  margin-top: 0;
  margin-bottom: 5px;
}
.list-group-item-text {
  margin-bottom: 0;
  line-height: 1.3;
}
.panel {
  margin-bottom: 18px;
  background-color: #fff;
  border: 1px solid transparent;
  border-radius: 2px;
  -webkit-box-shadow: 0 1px 1px rgba(0, 0, 0, 0.05);
  box-shadow: 0 1px 1px rgba(0, 0, 0, 0.05);
}
.panel-body {
  padding: 15px;
}
.panel-heading {
  padding: 10px 15px;
  border-bottom: 1px solid transparent;
  border-top-right-radius: 1px;
  border-top-left-radius: 1px;
}
.panel-heading > .dropdown .dropdown-toggle {
  color: inherit;
}
.panel-title {
  margin-top: 0;
  margin-bottom: 0;
  font-size: 15px;
  color: inherit;
}
.panel-title > a,
.panel-title > small,
.panel-title > .small,
.panel-title > small > a,
.panel-title > .small > a {
  color: inherit;
}
.panel-footer {
  padding: 10px 15px;
  background-color: #f5f5f5;
  border-top: 1px solid #ddd;
  border-bottom-right-radius: 1px;
  border-bottom-left-radius: 1px;
}
.panel > .list-group,
.panel > .panel-collapse > .list-group {
  margin-bottom: 0;
}
.panel > .list-group .list-group-item,
.panel > .panel-collapse > .list-group .list-group-item {
  border-width: 1px 0;
  border-radius: 0;
}
.panel > .list-group:first-child .list-group-item:first-child,
.panel > .panel-collapse > .list-group:first-child .list-group-item:first-child {
  border-top: 0;
  border-top-right-radius: 1px;
  border-top-left-radius: 1px;
}
.panel > .list-group:last-child .list-group-item:last-child,
.panel > .panel-collapse > .list-group:last-child .list-group-item:last-child {
  border-bottom: 0;
  border-bottom-right-radius: 1px;
  border-bottom-left-radius: 1px;
}
.panel > .panel-heading + .panel-collapse > .list-group .list-group-item:first-child {
  border-top-right-radius: 0;
  border-top-left-radius: 0;
}
.panel-heading + .list-group .list-group-item:first-child {
  border-top-width: 0;
}
.list-group + .panel-footer {
  border-top-width: 0;
}
.panel > .table,
.panel > .table-responsive > .table,
.panel > .panel-collapse > .table {
  margin-bottom: 0;
}
.panel > .table caption,
.panel > .table-responsive > .table caption,
.panel > .panel-collapse > .table caption {
  padding-left: 15px;
  padding-right: 15px;
}
.panel > .table:first-child,
.panel > .table-responsive:first-child > .table:first-child {
  border-top-right-radius: 1px;
  border-top-left-radius: 1px;
}
.panel > .table:first-child > thead:first-child > tr:first-child,
.panel > .table-responsive:first-child > .table:first-child > thead:first-child > tr:first-child,
.panel > .table:first-child > tbody:first-child > tr:first-child,
.panel > .table-responsive:first-child > .table:first-child > tbody:first-child > tr:first-child {
  border-top-left-radius: 1px;
  border-top-right-radius: 1px;
}
.panel > .table:first-child > thead:first-child > tr:first-child td:first-child,
.panel > .table-responsive:first-child > .table:first-child > thead:first-child > tr:first-child td:first-child,
.panel > .table:first-child > tbody:first-child > tr:first-child td:first-child,
.panel > .table-responsive:first-child > .table:first-child > tbody:first-child > tr:first-child td:first-child,
.panel > .table:first-child > thead:first-child > tr:first-child th:first-child,
.panel > .table-responsive:first-child > .table:first-child > thead:first-child > tr:first-child th:first-child,
.panel > .table:first-child > tbody:first-child > tr:first-child th:first-child,
.panel > .table-responsive:first-child > .table:first-child > tbody:first-child > tr:first-child th:first-child {
  border-top-left-radius: 1px;
}
.panel > .table:first-child > thead:first-child > tr:first-child td:last-child,
.panel > .table-responsive:first-child > .table:first-child > thead:first-child > tr:first-child td:last-child,
.panel > .table:first-child > tbody:first-child > tr:first-child td:last-child,
.panel > .table-responsive:first-child > .table:first-child > tbody:first-child > tr:first-child td:last-child,
.panel > .table:first-child > thead:first-child > tr:first-child th:last-child,
.panel > .table-responsive:first-child > .table:first-child > thead:first-child > tr:first-child th:last-child,
.panel > .table:first-child > tbody:first-child > tr:first-child th:last-child,
.panel > .table-responsive:first-child > .table:first-child > tbody:first-child > tr:first-child th:last-child {
  border-top-right-radius: 1px;
}
.panel > .table:last-child,
.panel > .table-responsive:last-child > .table:last-child {
  border-bottom-right-radius: 1px;
  border-bottom-left-radius: 1px;
}
.panel > .table:last-child > tbody:last-child > tr:last-child,
.panel > .table-responsive:last-child > .table:last-child > tbody:last-child > tr:last-child,
.panel > .table:last-child > tfoot:last-child > tr:last-child,
.panel > .table-responsive:last-child > .table:last-child > tfoot:last-child > tr:last-child {
  border-bottom-left-radius: 1px;
  border-bottom-right-radius: 1px;
}
.panel > .table:last-child > tbody:last-child > tr:last-child td:first-child,
.panel > .table-responsive:last-child > .table:last-child > tbody:last-child > tr:last-child td:first-child,
.panel > .table:last-child > tfoot:last-child > tr:last-child td:first-child,
.panel > .table-responsive:last-child > .table:last-child > tfoot:last-child > tr:last-child td:first-child,
.panel > .table:last-child > tbody:last-child > tr:last-child th:first-child,
.panel > .table-responsive:last-child > .table:last-child > tbody:last-child > tr:last-child th:first-child,
.panel > .table:last-child > tfoot:last-child > tr:last-child th:first-child,
.panel > .table-responsive:last-child > .table:last-child > tfoot:last-child > tr:last-child th:first-child {
  border-bottom-left-radius: 1px;
}
.panel > .table:last-child > tbody:last-child > tr:last-child td:last-child,
.panel > .table-responsive:last-child > .table:last-child > tbody:last-child > tr:last-child td:last-child,
.panel > .table:last-child > tfoot:last-child > tr:last-child td:last-child,
.panel > .table-responsive:last-child > .table:last-child > tfoot:last-child > tr:last-child td:last-child,
.panel > .table:last-child > tbody:last-child > tr:last-child th:last-child,
.panel > .table-responsive:last-child > .table:last-child > tbody:last-child > tr:last-child th:last-child,
.panel > .table:last-child > tfoot:last-child > tr:last-child th:last-child,
.panel > .table-responsive:last-child > .table:last-child > tfoot:last-child > tr:last-child th:last-child {
  border-bottom-right-radius: 1px;
}
.panel > .panel-body + .table,
.panel > .panel-body + .table-responsive,
.panel > .table + .panel-body,
.panel > .table-responsive + .panel-body {
  border-top: 1px solid #ddd;
}
.panel > .table > tbody:first-child > tr:first-child th,
.panel > .table > tbody:first-child > tr:first-child td {
  border-top: 0;
}
.panel > .table-bordered,
.panel > .table-responsive > .table-bordered {
  border: 0;
}
.panel > .table-bordered > thead > tr > th:first-child,
.panel > .table-responsive > .table-bordered > thead > tr > th:first-child,
.panel > .table-bordered > tbody > tr > th:first-child,
.panel > .table-responsive > .table-bordered > tbody > tr > th:first-child,
.panel > .table-bordered > tfoot > tr > th:first-child,
.panel > .table-responsive > .table-bordered > tfoot > tr > th:first-child,
.panel > .table-bordered > thead > tr > td:first-child,
.panel > .table-responsive > .table-bordered > thead > tr > td:first-child,
.panel > .table-bordered > tbody > tr > td:first-child,
.panel > .table-responsive > .table-bordered > tbody > tr > td:first-child,
.panel > .table-bordered > tfoot > tr > td:first-child,
.panel > .table-responsive > .table-bordered > tfoot > tr > td:first-child {
  border-left: 0;
}
.panel > .table-bordered > thead > tr > th:last-child,
.panel > .table-responsive > .table-bordered > thead > tr > th:last-child,
.panel > .table-bordered > tbody > tr > th:last-child,
.panel > .table-responsive > .table-bordered > tbody > tr > th:last-child,
.panel > .table-bordered > tfoot > tr > th:last-child,
.panel > .table-responsive > .table-bordered > tfoot > tr > th:last-child,
.panel > .table-bordered > thead > tr > td:last-child,
.panel > .table-responsive > .table-bordered > thead > tr > td:last-child,
.panel > .table-bordered > tbody > tr > td:last-child,
.panel > .table-responsive > .table-bordered > tbody > tr > td:last-child,
.panel > .table-bordered > tfoot > tr > td:last-child,
.panel > .table-responsive > .table-bordered > tfoot > tr > td:last-child {
  border-right: 0;
}
.panel > .table-bordered > thead > tr:first-child > td,
.panel > .table-responsive > .table-bordered > thead > tr:first-child > td,
.panel > .table-bordered > tbody > tr:first-child > td,
.panel > .table-responsive > .table-bordered > tbody > tr:first-child > td,
.panel > .table-bordered > thead > tr:first-child > th,
.panel > .table-responsive > .table-bordered > thead > tr:first-child > th,
.panel > .table-bordered > tbody > tr:first-child > th,
.panel > .table-responsive > .table-bordered > tbody > tr:first-child > th {
  border-bottom: 0;
}
.panel > .table-bordered > tbody > tr:last-child > td,
.panel > .table-responsive > .table-bordered > tbody > tr:last-child > td,
.panel > .table-bordered > tfoot > tr:last-child > td,
.panel > .table-responsive > .table-bordered > tfoot > tr:last-child > td,
.panel > .table-bordered > tbody > tr:last-child > th,
.panel > .table-responsive > .table-bordered > tbody > tr:last-child > th,
.panel > .table-bordered > tfoot > tr:last-child > th,
.panel > .table-responsive > .table-bordered > tfoot > tr:last-child > th {
  border-bottom: 0;
}
.panel > .table-responsive {
  border: 0;
  margin-bottom: 0;
}
.panel-group {
  margin-bottom: 18px;
}
.panel-group .panel {
  margin-bottom: 0;
  border-radius: 2px;
}
.panel-group .panel + .panel {
  margin-top: 5px;
}
.panel-group .panel-heading {
  border-bottom: 0;
}
.panel-group .panel-heading + .panel-collapse > .panel-body,
.panel-group .panel-heading + .panel-collapse > .list-group {
  border-top: 1px solid #ddd;
}
.panel-group .panel-footer {
  border-top: 0;
}
.panel-group .panel-footer + .panel-collapse .panel-body {
  border-bottom: 1px solid #ddd;
}
.panel-default {
  border-color: #ddd;
}
.panel-default > .panel-heading {
  color: #333333;
  background-color: #f5f5f5;
  border-color: #ddd;
}
.panel-default > .panel-heading + .panel-collapse > .panel-body {
  border-top-color: #ddd;
}
.panel-default > .panel-heading .badge {
  color: #f5f5f5;
  background-color: #333333;
}
.panel-default > .panel-footer + .panel-collapse > .panel-body {
  border-bottom-color: #ddd;
}
.panel-primary {
  border-color: #337ab7;
}
.panel-primary > .panel-heading {
  color: #fff;
  background-color: #337ab7;
  border-color: #337ab7;
}
.panel-primary > .panel-heading + .panel-collapse > .panel-body {
  border-top-color: #337ab7;
}
.panel-primary > .panel-heading .badge {
  color: #337ab7;
  background-color: #fff;
}
.panel-primary > .panel-footer + .panel-collapse > .panel-body {
  border-bottom-color: #337ab7;
}
.panel-success {
  border-color: #d6e9c6;
}
.panel-success > .panel-heading {
  color: #3c763d;
  background-color: #dff0d8;
  border-color: #d6e9c6;
}
.panel-success > .panel-heading + .panel-collapse > .panel-body {
  border-top-color: #d6e9c6;
}
.panel-success > .panel-heading .badge {
  color: #dff0d8;
  background-color: #3c763d;
}
.panel-success > .panel-footer + .panel-collapse > .panel-body {
  border-bottom-color: #d6e9c6;
}
.panel-info {
  border-color: #bce8f1;
}
.panel-info > .panel-heading {
  color: #31708f;
  background-color: #d9edf7;
  border-color: #bce8f1;
}
.panel-info > .panel-heading + .panel-collapse > .panel-body {
  border-top-color: #bce8f1;
}
.panel-info > .panel-heading .badge {
  color: #d9edf7;
  background-color: #31708f;
}
.panel-info > .panel-footer + .panel-collapse > .panel-body {
  border-bottom-color: #bce8f1;
}
.panel-warning {
  border-color: #faebcc;
}
.panel-warning > .panel-heading {
  color: #8a6d3b;
  background-color: #fcf8e3;
  border-color: #faebcc;
}
.panel-warning > .panel-heading + .panel-collapse > .panel-body {
  border-top-color: #faebcc;
}
.panel-warning > .panel-heading .badge {
  color: #fcf8e3;
  background-color: #8a6d3b;
}
.panel-warning > .panel-footer + .panel-collapse > .panel-body {
  border-bottom-color: #faebcc;
}
.panel-danger {
  border-color: #ebccd1;
}
.panel-danger > .panel-heading {
  color: #a94442;
  background-color: #f2dede;
  border-color: #ebccd1;
}
.panel-danger > .panel-heading + .panel-collapse > .panel-body {
  border-top-color: #ebccd1;
}
.panel-danger > .panel-heading .badge {
  color: #f2dede;
  background-color: #a94442;
}
.panel-danger > .panel-footer + .panel-collapse > .panel-body {
  border-bottom-color: #ebccd1;
}
.embed-responsive {
  position: relative;
  display: block;
  height: 0;
  padding: 0;
  overflow: hidden;
}
.embed-responsive .embed-responsive-item,
.embed-responsive iframe,
.embed-responsive embed,
.embed-responsive object,
.embed-responsive video {
  position: absolute;
  top: 0;
  left: 0;
  bottom: 0;
  height: 100%;
  width: 100%;
  border: 0;
}
.embed-responsive-16by9 {
  padding-bottom: 56.25%;
}
.embed-responsive-4by3 {
  padding-bottom: 75%;
}
.well {
  min-height: 20px;
  padding: 19px;
  margin-bottom: 20px;
  background-color: #f5f5f5;
  border: 1px solid #e3e3e3;
  border-radius: 2px;
  -webkit-box-shadow: inset 0 1px 1px rgba(0, 0, 0, 0.05);
  box-shadow: inset 0 1px 1px rgba(0, 0, 0, 0.05);
}
.well blockquote {
  border-color: #ddd;
  border-color: rgba(0, 0, 0, 0.15);
}
.well-lg {
  padding: 24px;
  border-radius: 3px;
}
.well-sm {
  padding: 9px;
  border-radius: 1px;
}
.close {
  float: right;
  font-size: 19.5px;
  font-weight: bold;
  line-height: 1;
  color: #000;
  text-shadow: 0 1px 0 #fff;
  opacity: 0.2;
  filter: alpha(opacity=20);
}
.close:hover,
.close:focus {
  color: #000;
  text-decoration: none;
  cursor: pointer;
  opacity: 0.5;
  filter: alpha(opacity=50);
}
button.close {
  padding: 0;
  cursor: pointer;
  background: transparent;
  border: 0;
  -webkit-appearance: none;
}
.modal-open {
  overflow: hidden;
}
.modal {
  display: none;
  overflow: hidden;
  position: fixed;
  top: 0;
  right: 0;
  bottom: 0;
  left: 0;
  z-index: 1050;
  -webkit-overflow-scrolling: touch;
  outline: 0;
}
.modal.fade .modal-dialog {
  -webkit-transform: translate(0, -25%);
  -ms-transform: translate(0, -25%);
  -o-transform: translate(0, -25%);
  transform: translate(0, -25%);
  -webkit-transition: -webkit-transform 0.3s ease-out;
  -moz-transition: -moz-transform 0.3s ease-out;
  -o-transition: -o-transform 0.3s ease-out;
  transition: transform 0.3s ease-out;
}
.modal.in .modal-dialog {
  -webkit-transform: translate(0, 0);
  -ms-transform: translate(0, 0);
  -o-transform: translate(0, 0);
  transform: translate(0, 0);
}
.modal-open .modal {
  overflow-x: hidden;
  overflow-y: auto;
}
.modal-dialog {
  position: relative;
  width: auto;
  margin: 10px;
}
.modal-content {
  position: relative;
  background-color: #fff;
  border: 1px solid #999;
  border: 1px solid rgba(0, 0, 0, 0.2);
  border-radius: 3px;
  -webkit-box-shadow: 0 3px 9px rgba(0, 0, 0, 0.5);
  box-shadow: 0 3px 9px rgba(0, 0, 0, 0.5);
  background-clip: padding-box;
  outline: 0;
}
.modal-backdrop {
  position: fixed;
  top: 0;
  right: 0;
  bottom: 0;
  left: 0;
  z-index: 1040;
  background-color: #000;
}
.modal-backdrop.fade {
  opacity: 0;
  filter: alpha(opacity=0);
}
.modal-backdrop.in {
  opacity: 0.5;
  filter: alpha(opacity=50);
}
.modal-header {
  padding: 15px;
  border-bottom: 1px solid #e5e5e5;
}
.modal-header .close {
  margin-top: -2px;
}
.modal-title {
  margin: 0;
  line-height: 1.42857143;
}
.modal-body {
  position: relative;
  padding: 15px;
}
.modal-footer {
  padding: 15px;
  text-align: right;
  border-top: 1px solid #e5e5e5;
}
.modal-footer .btn + .btn {
  margin-left: 5px;
  margin-bottom: 0;
}
.modal-footer .btn-group .btn + .btn {
  margin-left: -1px;
}
.modal-footer .btn-block + .btn-block {
  margin-left: 0;
}
.modal-scrollbar-measure {
  position: absolute;
  top: -9999px;
  width: 50px;
  height: 50px;
  overflow: scroll;
}
@media (min-width: 768px) {
  .modal-dialog {
    width: 600px;
    margin: 30px auto;
  }
  .modal-content {
    -webkit-box-shadow: 0 5px 15px rgba(0, 0, 0, 0.5);
    box-shadow: 0 5px 15px rgba(0, 0, 0, 0.5);
  }
  .modal-sm {
    width: 300px;
  }
}
@media (min-width: 992px) {
  .modal-lg {
    width: 900px;
  }
}
.tooltip {
  position: absolute;
  z-index: 1070;
  display: block;
  font-family: "Helvetica Neue", Helvetica, Arial, sans-serif;
  font-style: normal;
  font-weight: normal;
  letter-spacing: normal;
  line-break: auto;
  line-height: 1.42857143;
  text-align: left;
  text-align: start;
  text-decoration: none;
  text-shadow: none;
  text-transform: none;
  white-space: normal;
  word-break: normal;
  word-spacing: normal;
  word-wrap: normal;
  font-size: 12px;
  opacity: 0;
  filter: alpha(opacity=0);
}
.tooltip.in {
  opacity: 0.9;
  filter: alpha(opacity=90);
}
.tooltip.top {
  margin-top: -3px;
  padding: 5px 0;
}
.tooltip.right {
  margin-left: 3px;
  padding: 0 5px;
}
.tooltip.bottom {
  margin-top: 3px;
  padding: 5px 0;
}
.tooltip.left {
  margin-left: -3px;
  padding: 0 5px;
}
.tooltip-inner {
  max-width: 200px;
  padding: 3px 8px;
  color: #fff;
  text-align: center;
  background-color: #000;
  border-radius: 2px;
}
.tooltip-arrow {
  position: absolute;
  width: 0;
  height: 0;
  border-color: transparent;
  border-style: solid;
}
.tooltip.top .tooltip-arrow {
  bottom: 0;
  left: 50%;
  margin-left: -5px;
  border-width: 5px 5px 0;
  border-top-color: #000;
}
.tooltip.top-left .tooltip-arrow {
  bottom: 0;
  right: 5px;
  margin-bottom: -5px;
  border-width: 5px 5px 0;
  border-top-color: #000;
}
.tooltip.top-right .tooltip-arrow {
  bottom: 0;
  left: 5px;
  margin-bottom: -5px;
  border-width: 5px 5px 0;
  border-top-color: #000;
}
.tooltip.right .tooltip-arrow {
  top: 50%;
  left: 0;
  margin-top: -5px;
  border-width: 5px 5px 5px 0;
  border-right-color: #000;
}
.tooltip.left .tooltip-arrow {
  top: 50%;
  right: 0;
  margin-top: -5px;
  border-width: 5px 0 5px 5px;
  border-left-color: #000;
}
.tooltip.bottom .tooltip-arrow {
  top: 0;
  left: 50%;
  margin-left: -5px;
  border-width: 0 5px 5px;
  border-bottom-color: #000;
}
.tooltip.bottom-left .tooltip-arrow {
  top: 0;
  right: 5px;
  margin-top: -5px;
  border-width: 0 5px 5px;
  border-bottom-color: #000;
}
.tooltip.bottom-right .tooltip-arrow {
  top: 0;
  left: 5px;
  margin-top: -5px;
  border-width: 0 5px 5px;
  border-bottom-color: #000;
}
.popover {
  position: absolute;
  top: 0;
  left: 0;
  z-index: 1060;
  display: none;
  max-width: 276px;
  padding: 1px;
  font-family: "Helvetica Neue", Helvetica, Arial, sans-serif;
  font-style: normal;
  font-weight: normal;
  letter-spacing: normal;
  line-break: auto;
  line-height: 1.42857143;
  text-align: left;
  text-align: start;
  text-decoration: none;
  text-shadow: none;
  text-transform: none;
  white-space: normal;
  word-break: normal;
  word-spacing: normal;
  word-wrap: normal;
  font-size: 13px;
  background-color: #fff;
  background-clip: padding-box;
  border: 1px solid #ccc;
  border: 1px solid rgba(0, 0, 0, 0.2);
  border-radius: 3px;
  -webkit-box-shadow: 0 5px 10px rgba(0, 0, 0, 0.2);
  box-shadow: 0 5px 10px rgba(0, 0, 0, 0.2);
}
.popover.top {
  margin-top: -10px;
}
.popover.right {
  margin-left: 10px;
}
.popover.bottom {
  margin-top: 10px;
}
.popover.left {
  margin-left: -10px;
}
.popover-title {
  margin: 0;
  padding: 8px 14px;
  font-size: 13px;
  background-color: #f7f7f7;
  border-bottom: 1px solid #ebebeb;
  border-radius: 2px 2px 0 0;
}
.popover-content {
  padding: 9px 14px;
}
.popover > .arrow,
.popover > .arrow:after {
  position: absolute;
  display: block;
  width: 0;
  height: 0;
  border-color: transparent;
  border-style: solid;
}
.popover > .arrow {
  border-width: 11px;
}
.popover > .arrow:after {
  border-width: 10px;
  content: "";
}
.popover.top > .arrow {
  left: 50%;
  margin-left: -11px;
  border-bottom-width: 0;
  border-top-color: #999999;
  border-top-color: rgba(0, 0, 0, 0.25);
  bottom: -11px;
}
.popover.top > .arrow:after {
  content: " ";
  bottom: 1px;
  margin-left: -10px;
  border-bottom-width: 0;
  border-top-color: #fff;
}
.popover.right > .arrow {
  top: 50%;
  left: -11px;
  margin-top: -11px;
  border-left-width: 0;
  border-right-color: #999999;
  border-right-color: rgba(0, 0, 0, 0.25);
}
.popover.right > .arrow:after {
  content: " ";
  left: 1px;
  bottom: -10px;
  border-left-width: 0;
  border-right-color: #fff;
}
.popover.bottom > .arrow {
  left: 50%;
  margin-left: -11px;
  border-top-width: 0;
  border-bottom-color: #999999;
  border-bottom-color: rgba(0, 0, 0, 0.25);
  top: -11px;
}
.popover.bottom > .arrow:after {
  content: " ";
  top: 1px;
  margin-left: -10px;
  border-top-width: 0;
  border-bottom-color: #fff;
}
.popover.left > .arrow {
  top: 50%;
  right: -11px;
  margin-top: -11px;
  border-right-width: 0;
  border-left-color: #999999;
  border-left-color: rgba(0, 0, 0, 0.25);
}
.popover.left > .arrow:after {
  content: " ";
  right: 1px;
  border-right-width: 0;
  border-left-color: #fff;
  bottom: -10px;
}
.carousel {
  position: relative;
}
.carousel-inner {
  position: relative;
  overflow: hidden;
  width: 100%;
}
.carousel-inner > .item {
  display: none;
  position: relative;
  -webkit-transition: 0.6s ease-in-out left;
  -o-transition: 0.6s ease-in-out left;
  transition: 0.6s ease-in-out left;
}
.carousel-inner > .item > img,
.carousel-inner > .item > a > img {
  line-height: 1;
}
@media all and (transform-3d), (-webkit-transform-3d) {
  .carousel-inner > .item {
    -webkit-transition: -webkit-transform 0.6s ease-in-out;
    -moz-transition: -moz-transform 0.6s ease-in-out;
    -o-transition: -o-transform 0.6s ease-in-out;
    transition: transform 0.6s ease-in-out;
    -webkit-backface-visibility: hidden;
    -moz-backface-visibility: hidden;
    backface-visibility: hidden;
    -webkit-perspective: 1000px;
    -moz-perspective: 1000px;
    perspective: 1000px;
  }
  .carousel-inner > .item.next,
  .carousel-inner > .item.active.right {
    -webkit-transform: translate3d(100%, 0, 0);
    transform: translate3d(100%, 0, 0);
    left: 0;
  }
  .carousel-inner > .item.prev,
  .carousel-inner > .item.active.left {
    -webkit-transform: translate3d(-100%, 0, 0);
    transform: translate3d(-100%, 0, 0);
    left: 0;
  }
  .carousel-inner > .item.next.left,
  .carousel-inner > .item.prev.right,
  .carousel-inner > .item.active {
    -webkit-transform: translate3d(0, 0, 0);
    transform: translate3d(0, 0, 0);
    left: 0;
  }
}
.carousel-inner > .active,
.carousel-inner > .next,
.carousel-inner > .prev {
  display: block;
}
.carousel-inner > .active {
  left: 0;
}
.carousel-inner > .next,
.carousel-inner > .prev {
  position: absolute;
  top: 0;
  width: 100%;
}
.carousel-inner > .next {
  left: 100%;
}
.carousel-inner > .prev {
  left: -100%;
}
.carousel-inner > .next.left,
.carousel-inner > .prev.right {
  left: 0;
}
.carousel-inner > .active.left {
  left: -100%;
}
.carousel-inner > .active.right {
  left: 100%;
}
.carousel-control {
  position: absolute;
  top: 0;
  left: 0;
  bottom: 0;
  width: 15%;
  opacity: 0.5;
  filter: alpha(opacity=50);
  font-size: 20px;
  color: #fff;
  text-align: center;
  text-shadow: 0 1px 2px rgba(0, 0, 0, 0.6);
  background-color: rgba(0, 0, 0, 0);
}
.carousel-control.left {
  background-image: -webkit-linear-gradient(left, rgba(0, 0, 0, 0.5) 0%, rgba(0, 0, 0, 0.0001) 100%);
  background-image: -o-linear-gradient(left, rgba(0, 0, 0, 0.5) 0%, rgba(0, 0, 0, 0.0001) 100%);
  background-image: linear-gradient(to right, rgba(0, 0, 0, 0.5) 0%, rgba(0, 0, 0, 0.0001) 100%);
  background-repeat: repeat-x;
  filter: progid:DXImageTransform.Microsoft.gradient(startColorstr='#80000000', endColorstr='#00000000', GradientType=1);
}
.carousel-control.right {
  left: auto;
  right: 0;
  background-image: -webkit-linear-gradient(left, rgba(0, 0, 0, 0.0001) 0%, rgba(0, 0, 0, 0.5) 100%);
  background-image: -o-linear-gradient(left, rgba(0, 0, 0, 0.0001) 0%, rgba(0, 0, 0, 0.5) 100%);
  background-image: linear-gradient(to right, rgba(0, 0, 0, 0.0001) 0%, rgba(0, 0, 0, 0.5) 100%);
  background-repeat: repeat-x;
  filter: progid:DXImageTransform.Microsoft.gradient(startColorstr='#00000000', endColorstr='#80000000', GradientType=1);
}
.carousel-control:hover,
.carousel-control:focus {
  outline: 0;
  color: #fff;
  text-decoration: none;
  opacity: 0.9;
  filter: alpha(opacity=90);
}
.carousel-control .icon-prev,
.carousel-control .icon-next,
.carousel-control .glyphicon-chevron-left,
.carousel-control .glyphicon-chevron-right {
  position: absolute;
  top: 50%;
  margin-top: -10px;
  z-index: 5;
  display: inline-block;
}
.carousel-control .icon-prev,
.carousel-control .glyphicon-chevron-left {
  left: 50%;
  margin-left: -10px;
}
.carousel-control .icon-next,
.carousel-control .glyphicon-chevron-right {
  right: 50%;
  margin-right: -10px;
}
.carousel-control .icon-prev,
.carousel-control .icon-next {
  width: 20px;
  height: 20px;
  line-height: 1;
  font-family: serif;
}
.carousel-control .icon-prev:before {
  content: '\2039';
}
.carousel-control .icon-next:before {
  content: '\203a';
}
.carousel-indicators {
  position: absolute;
  bottom: 10px;
  left: 50%;
  z-index: 15;
  width: 60%;
  margin-left: -30%;
  padding-left: 0;
  list-style: none;
  text-align: center;
}
.carousel-indicators li {
  display: inline-block;
  width: 10px;
  height: 10px;
  margin: 1px;
  text-indent: -999px;
  border: 1px solid #fff;
  border-radius: 10px;
  cursor: pointer;
  background-color: #000 \9;
  background-color: rgba(0, 0, 0, 0);
}
.carousel-indicators .active {
  margin: 0;
  width: 12px;
  height: 12px;
  background-color: #fff;
}
.carousel-caption {
  position: absolute;
  left: 15%;
  right: 15%;
  bottom: 20px;
  z-index: 10;
  padding-top: 20px;
  padding-bottom: 20px;
  color: #fff;
  text-align: center;
  text-shadow: 0 1px 2px rgba(0, 0, 0, 0.6);
}
.carousel-caption .btn {
  text-shadow: none;
}
@media screen and (min-width: 768px) {
  .carousel-control .glyphicon-chevron-left,
  .carousel-control .glyphicon-chevron-right,
  .carousel-control .icon-prev,
  .carousel-control .icon-next {
    width: 30px;
    height: 30px;
    margin-top: -10px;
    font-size: 30px;
  }
  .carousel-control .glyphicon-chevron-left,
  .carousel-control .icon-prev {
    margin-left: -10px;
  }
  .carousel-control .glyphicon-chevron-right,
  .carousel-control .icon-next {
    margin-right: -10px;
  }
  .carousel-caption {
    left: 20%;
    right: 20%;
    padding-bottom: 30px;
  }
  .carousel-indicators {
    bottom: 20px;
  }
}
.clearfix:before,
.clearfix:after,
.dl-horizontal dd:before,
.dl-horizontal dd:after,
.container:before,
.container:after,
.container-fluid:before,
.container-fluid:after,
.row:before,
.row:after,
.form-horizontal .form-group:before,
.form-horizontal .form-group:after,
.btn-toolbar:before,
.btn-toolbar:after,
.btn-group-vertical > .btn-group:before,
.btn-group-vertical > .btn-group:after,
.nav:before,
.nav:after,
.navbar:before,
.navbar:after,
.navbar-header:before,
.navbar-header:after,
.navbar-collapse:before,
.navbar-collapse:after,
.pager:before,
.pager:after,
.panel-body:before,
.panel-body:after,
.modal-header:before,
.modal-header:after,
.modal-footer:before,
.modal-footer:after,
.item_buttons:before,
.item_buttons:after {
  content: " ";
  display: table;
}
.clearfix:after,
.dl-horizontal dd:after,
.container:after,
.container-fluid:after,
.row:after,
.form-horizontal .form-group:after,
.btn-toolbar:after,
.btn-group-vertical > .btn-group:after,
.nav:after,
.navbar:after,
.navbar-header:after,
.navbar-collapse:after,
.pager:after,
.panel-body:after,
.modal-header:after,
.modal-footer:after,
.item_buttons:after {
  clear: both;
}
.center-block {
  display: block;
  margin-left: auto;
  margin-right: auto;
}
.pull-right {
  float: right !important;
}
.pull-left {
  float: left !important;
}
.hide {
  display: none !important;
}
.show {
  display: block !important;
}
.invisible {
  visibility: hidden;
}
.text-hide {
  font: 0/0 a;
  color: transparent;
  text-shadow: none;
  background-color: transparent;
  border: 0;
}
.hidden {
  display: none !important;
}
.affix {
  position: fixed;
}
@-ms-viewport {
  width: device-width;
}
.visible-xs,
.visible-sm,
.visible-md,
.visible-lg {
  display: none !important;
}
.visible-xs-block,
.visible-xs-inline,
.visible-xs-inline-block,
.visible-sm-block,
.visible-sm-inline,
.visible-sm-inline-block,
.visible-md-block,
.visible-md-inline,
.visible-md-inline-block,
.visible-lg-block,
.visible-lg-inline,
.visible-lg-inline-block {
  display: none !important;
}
@media (max-width: 767px) {
  .visible-xs {
    display: block !important;
  }
  table.visible-xs {
    display: table !important;
  }
  tr.visible-xs {
    display: table-row !important;
  }
  th.visible-xs,
  td.visible-xs {
    display: table-cell !important;
  }
}
@media (max-width: 767px) {
  .visible-xs-block {
    display: block !important;
  }
}
@media (max-width: 767px) {
  .visible-xs-inline {
    display: inline !important;
  }
}
@media (max-width: 767px) {
  .visible-xs-inline-block {
    display: inline-block !important;
  }
}
@media (min-width: 768px) and (max-width: 991px) {
  .visible-sm {
    display: block !important;
  }
  table.visible-sm {
    display: table !important;
  }
  tr.visible-sm {
    display: table-row !important;
  }
  th.visible-sm,
  td.visible-sm {
    display: table-cell !important;
  }
}
@media (min-width: 768px) and (max-width: 991px) {
  .visible-sm-block {
    display: block !important;
  }
}
@media (min-width: 768px) and (max-width: 991px) {
  .visible-sm-inline {
    display: inline !important;
  }
}
@media (min-width: 768px) and (max-width: 991px) {
  .visible-sm-inline-block {
    display: inline-block !important;
  }
}
@media (min-width: 992px) and (max-width: 1199px) {
  .visible-md {
    display: block !important;
  }
  table.visible-md {
    display: table !important;
  }
  tr.visible-md {
    display: table-row !important;
  }
  th.visible-md,
  td.visible-md {
    display: table-cell !important;
  }
}
@media (min-width: 992px) and (max-width: 1199px) {
  .visible-md-block {
    display: block !important;
  }
}
@media (min-width: 992px) and (max-width: 1199px) {
  .visible-md-inline {
    display: inline !important;
  }
}
@media (min-width: 992px) and (max-width: 1199px) {
  .visible-md-inline-block {
    display: inline-block !important;
  }
}
@media (min-width: 1200px) {
  .visible-lg {
    display: block !important;
  }
  table.visible-lg {
    display: table !important;
  }
  tr.visible-lg {
    display: table-row !important;
  }
  th.visible-lg,
  td.visible-lg {
    display: table-cell !important;
  }
}
@media (min-width: 1200px) {
  .visible-lg-block {
    display: block !important;
  }
}
@media (min-width: 1200px) {
  .visible-lg-inline {
    display: inline !important;
  }
}
@media (min-width: 1200px) {
  .visible-lg-inline-block {
    display: inline-block !important;
  }
}
@media (max-width: 767px) {
  .hidden-xs {
    display: none !important;
  }
}
@media (min-width: 768px) and (max-width: 991px) {
  .hidden-sm {
    display: none !important;
  }
}
@media (min-width: 992px) and (max-width: 1199px) {
  .hidden-md {
    display: none !important;
  }
}
@media (min-width: 1200px) {
  .hidden-lg {
    display: none !important;
  }
}
.visible-print {
  display: none !important;
}
@media print {
  .visible-print {
    display: block !important;
  }
  table.visible-print {
    display: table !important;
  }
  tr.visible-print {
    display: table-row !important;
  }
  th.visible-print,
  td.visible-print {
    display: table-cell !important;
  }
}
.visible-print-block {
  display: none !important;
}
@media print {
  .visible-print-block {
    display: block !important;
  }
}
.visible-print-inline {
  display: none !important;
}
@media print {
  .visible-print-inline {
    display: inline !important;
  }
}
.visible-print-inline-block {
  display: none !important;
}
@media print {
  .visible-print-inline-block {
    display: inline-block !important;
  }
}
@media print {
  .hidden-print {
    display: none !important;
  }
}
/*!
*
* Font Awesome
*
*/
/*!
 *  Font Awesome 4.2.0 by @davegandy - http://fontawesome.io - @fontawesome
 *  License - http://fontawesome.io/license (Font: SIL OFL 1.1, CSS: MIT License)
 */
/* FONT PATH
 * -------------------------- */
@font-face {
  font-family: 'FontAwesome';
  src: url('../components/font-awesome/fonts/fontawesome-webfont.eot?v=4.2.0');
  src: url('../components/font-awesome/fonts/fontawesome-webfont.eot?#iefix&v=4.2.0') format('embedded-opentype'), url('../components/font-awesome/fonts/fontawesome-webfont.woff?v=4.2.0') format('woff'), url('../components/font-awesome/fonts/fontawesome-webfont.ttf?v=4.2.0') format('truetype'), url('../components/font-awesome/fonts/fontawesome-webfont.svg?v=4.2.0#fontawesomeregular') format('svg');
  font-weight: normal;
  font-style: normal;
}
.fa {
  display: inline-block;
  font: normal normal normal 14px/1 FontAwesome;
  font-size: inherit;
  text-rendering: auto;
  -webkit-font-smoothing: antialiased;
  -moz-osx-font-smoothing: grayscale;
}
/* makes the font 33% larger relative to the icon container */
.fa-lg {
  font-size: 1.33333333em;
  line-height: 0.75em;
  vertical-align: -15%;
}
.fa-2x {
  font-size: 2em;
}
.fa-3x {
  font-size: 3em;
}
.fa-4x {
  font-size: 4em;
}
.fa-5x {
  font-size: 5em;
}
.fa-fw {
  width: 1.28571429em;
  text-align: center;
}
.fa-ul {
  padding-left: 0;
  margin-left: 2.14285714em;
  list-style-type: none;
}
.fa-ul > li {
  position: relative;
}
.fa-li {
  position: absolute;
  left: -2.14285714em;
  width: 2.14285714em;
  top: 0.14285714em;
  text-align: center;
}
.fa-li.fa-lg {
  left: -1.85714286em;
}
.fa-border {
  padding: .2em .25em .15em;
  border: solid 0.08em #eee;
  border-radius: .1em;
}
.pull-right {
  float: right;
}
.pull-left {
  float: left;
}
.fa.pull-left {
  margin-right: .3em;
}
.fa.pull-right {
  margin-left: .3em;
}
.fa-spin {
  -webkit-animation: fa-spin 2s infinite linear;
  animation: fa-spin 2s infinite linear;
}
@-webkit-keyframes fa-spin {
  0% {
    -webkit-transform: rotate(0deg);
    transform: rotate(0deg);
  }
  100% {
    -webkit-transform: rotate(359deg);
    transform: rotate(359deg);
  }
}
@keyframes fa-spin {
  0% {
    -webkit-transform: rotate(0deg);
    transform: rotate(0deg);
  }
  100% {
    -webkit-transform: rotate(359deg);
    transform: rotate(359deg);
  }
}
.fa-rotate-90 {
  filter: progid:DXImageTransform.Microsoft.BasicImage(rotation=1);
  -webkit-transform: rotate(90deg);
  -ms-transform: rotate(90deg);
  transform: rotate(90deg);
}
.fa-rotate-180 {
  filter: progid:DXImageTransform.Microsoft.BasicImage(rotation=2);
  -webkit-transform: rotate(180deg);
  -ms-transform: rotate(180deg);
  transform: rotate(180deg);
}
.fa-rotate-270 {
  filter: progid:DXImageTransform.Microsoft.BasicImage(rotation=3);
  -webkit-transform: rotate(270deg);
  -ms-transform: rotate(270deg);
  transform: rotate(270deg);
}
.fa-flip-horizontal {
  filter: progid:DXImageTransform.Microsoft.BasicImage(rotation=0, mirror=1);
  -webkit-transform: scale(-1, 1);
  -ms-transform: scale(-1, 1);
  transform: scale(-1, 1);
}
.fa-flip-vertical {
  filter: progid:DXImageTransform.Microsoft.BasicImage(rotation=2, mirror=1);
  -webkit-transform: scale(1, -1);
  -ms-transform: scale(1, -1);
  transform: scale(1, -1);
}
:root .fa-rotate-90,
:root .fa-rotate-180,
:root .fa-rotate-270,
:root .fa-flip-horizontal,
:root .fa-flip-vertical {
  filter: none;
}
.fa-stack {
  position: relative;
  display: inline-block;
  width: 2em;
  height: 2em;
  line-height: 2em;
  vertical-align: middle;
}
.fa-stack-1x,
.fa-stack-2x {
  position: absolute;
  left: 0;
  width: 100%;
  text-align: center;
}
.fa-stack-1x {
  line-height: inherit;
}
.fa-stack-2x {
  font-size: 2em;
}
.fa-inverse {
  color: #fff;
}
/* Font Awesome uses the Unicode Private Use Area (PUA) to ensure screen
   readers do not read off random characters that represent icons */
.fa-glass:before {
  content: "\f000";
}
.fa-music:before {
  content: "\f001";
}
.fa-search:before {
  content: "\f002";
}
.fa-envelope-o:before {
  content: "\f003";
}
.fa-heart:before {
  content: "\f004";
}
.fa-star:before {
  content: "\f005";
}
.fa-star-o:before {
  content: "\f006";
}
.fa-user:before {
  content: "\f007";
}
.fa-film:before {
  content: "\f008";
}
.fa-th-large:before {
  content: "\f009";
}
.fa-th:before {
  content: "\f00a";
}
.fa-th-list:before {
  content: "\f00b";
}
.fa-check:before {
  content: "\f00c";
}
.fa-remove:before,
.fa-close:before,
.fa-times:before {
  content: "\f00d";
}
.fa-search-plus:before {
  content: "\f00e";
}
.fa-search-minus:before {
  content: "\f010";
}
.fa-power-off:before {
  content: "\f011";
}
.fa-signal:before {
  content: "\f012";
}
.fa-gear:before,
.fa-cog:before {
  content: "\f013";
}
.fa-trash-o:before {
  content: "\f014";
}
.fa-home:before {
  content: "\f015";
}
.fa-file-o:before {
  content: "\f016";
}
.fa-clock-o:before {
  content: "\f017";
}
.fa-road:before {
  content: "\f018";
}
.fa-download:before {
  content: "\f019";
}
.fa-arrow-circle-o-down:before {
  content: "\f01a";
}
.fa-arrow-circle-o-up:before {
  content: "\f01b";
}
.fa-inbox:before {
  content: "\f01c";
}
.fa-play-circle-o:before {
  content: "\f01d";
}
.fa-rotate-right:before,
.fa-repeat:before {
  content: "\f01e";
}
.fa-refresh:before {
  content: "\f021";
}
.fa-list-alt:before {
  content: "\f022";
}
.fa-lock:before {
  content: "\f023";
}
.fa-flag:before {
  content: "\f024";
}
.fa-headphones:before {
  content: "\f025";
}
.fa-volume-off:before {
  content: "\f026";
}
.fa-volume-down:before {
  content: "\f027";
}
.fa-volume-up:before {
  content: "\f028";
}
.fa-qrcode:before {
  content: "\f029";
}
.fa-barcode:before {
  content: "\f02a";
}
.fa-tag:before {
  content: "\f02b";
}
.fa-tags:before {
  content: "\f02c";
}
.fa-book:before {
  content: "\f02d";
}
.fa-bookmark:before {
  content: "\f02e";
}
.fa-print:before {
  content: "\f02f";
}
.fa-camera:before {
  content: "\f030";
}
.fa-font:before {
  content: "\f031";
}
.fa-bold:before {
  content: "\f032";
}
.fa-italic:before {
  content: "\f033";
}
.fa-text-height:before {
  content: "\f034";
}
.fa-text-width:before {
  content: "\f035";
}
.fa-align-left:before {
  content: "\f036";
}
.fa-align-center:before {
  content: "\f037";
}
.fa-align-right:before {
  content: "\f038";
}
.fa-align-justify:before {
  content: "\f039";
}
.fa-list:before {
  content: "\f03a";
}
.fa-dedent:before,
.fa-outdent:before {
  content: "\f03b";
}
.fa-indent:before {
  content: "\f03c";
}
.fa-video-camera:before {
  content: "\f03d";
}
.fa-photo:before,
.fa-image:before,
.fa-picture-o:before {
  content: "\f03e";
}
.fa-pencil:before {
  content: "\f040";
}
.fa-map-marker:before {
  content: "\f041";
}
.fa-adjust:before {
  content: "\f042";
}
.fa-tint:before {
  content: "\f043";
}
.fa-edit:before,
.fa-pencil-square-o:before {
  content: "\f044";
}
.fa-share-square-o:before {
  content: "\f045";
}
.fa-check-square-o:before {
  content: "\f046";
}
.fa-arrows:before {
  content: "\f047";
}
.fa-step-backward:before {
  content: "\f048";
}
.fa-fast-backward:before {
  content: "\f049";
}
.fa-backward:before {
  content: "\f04a";
}
.fa-play:before {
  content: "\f04b";
}
.fa-pause:before {
  content: "\f04c";
}
.fa-stop:before {
  content: "\f04d";
}
.fa-forward:before {
  content: "\f04e";
}
.fa-fast-forward:before {
  content: "\f050";
}
.fa-step-forward:before {
  content: "\f051";
}
.fa-eject:before {
  content: "\f052";
}
.fa-chevron-left:before {
  content: "\f053";
}
.fa-chevron-right:before {
  content: "\f054";
}
.fa-plus-circle:before {
  content: "\f055";
}
.fa-minus-circle:before {
  content: "\f056";
}
.fa-times-circle:before {
  content: "\f057";
}
.fa-check-circle:before {
  content: "\f058";
}
.fa-question-circle:before {
  content: "\f059";
}
.fa-info-circle:before {
  content: "\f05a";
}
.fa-crosshairs:before {
  content: "\f05b";
}
.fa-times-circle-o:before {
  content: "\f05c";
}
.fa-check-circle-o:before {
  content: "\f05d";
}
.fa-ban:before {
  content: "\f05e";
}
.fa-arrow-left:before {
  content: "\f060";
}
.fa-arrow-right:before {
  content: "\f061";
}
.fa-arrow-up:before {
  content: "\f062";
}
.fa-arrow-down:before {
  content: "\f063";
}
.fa-mail-forward:before,
.fa-share:before {
  content: "\f064";
}
.fa-expand:before {
  content: "\f065";
}
.fa-compress:before {
  content: "\f066";
}
.fa-plus:before {
  content: "\f067";
}
.fa-minus:before {
  content: "\f068";
}
.fa-asterisk:before {
  content: "\f069";
}
.fa-exclamation-circle:before {
  content: "\f06a";
}
.fa-gift:before {
  content: "\f06b";
}
.fa-leaf:before {
  content: "\f06c";
}
.fa-fire:before {
  content: "\f06d";
}
.fa-eye:before {
  content: "\f06e";
}
.fa-eye-slash:before {
  content: "\f070";
}
.fa-warning:before,
.fa-exclamation-triangle:before {
  content: "\f071";
}
.fa-plane:before {
  content: "\f072";
}
.fa-calendar:before {
  content: "\f073";
}
.fa-random:before {
  content: "\f074";
}
.fa-comment:before {
  content: "\f075";
}
.fa-magnet:before {
  content: "\f076";
}
.fa-chevron-up:before {
  content: "\f077";
}
.fa-chevron-down:before {
  content: "\f078";
}
.fa-retweet:before {
  content: "\f079";
}
.fa-shopping-cart:before {
  content: "\f07a";
}
.fa-folder:before {
  content: "\f07b";
}
.fa-folder-open:before {
  content: "\f07c";
}
.fa-arrows-v:before {
  content: "\f07d";
}
.fa-arrows-h:before {
  content: "\f07e";
}
.fa-bar-chart-o:before,
.fa-bar-chart:before {
  content: "\f080";
}
.fa-twitter-square:before {
  content: "\f081";
}
.fa-facebook-square:before {
  content: "\f082";
}
.fa-camera-retro:before {
  content: "\f083";
}
.fa-key:before {
  content: "\f084";
}
.fa-gears:before,
.fa-cogs:before {
  content: "\f085";
}
.fa-comments:before {
  content: "\f086";
}
.fa-thumbs-o-up:before {
  content: "\f087";
}
.fa-thumbs-o-down:before {
  content: "\f088";
}
.fa-star-half:before {
  content: "\f089";
}
.fa-heart-o:before {
  content: "\f08a";
}
.fa-sign-out:before {
  content: "\f08b";
}
.fa-linkedin-square:before {
  content: "\f08c";
}
.fa-thumb-tack:before {
  content: "\f08d";
}
.fa-external-link:before {
  content: "\f08e";
}
.fa-sign-in:before {
  content: "\f090";
}
.fa-trophy:before {
  content: "\f091";
}
.fa-github-square:before {
  content: "\f092";
}
.fa-upload:before {
  content: "\f093";
}
.fa-lemon-o:before {
  content: "\f094";
}
.fa-phone:before {
  content: "\f095";
}
.fa-square-o:before {
  content: "\f096";
}
.fa-bookmark-o:before {
  content: "\f097";
}
.fa-phone-square:before {
  content: "\f098";
}
.fa-twitter:before {
  content: "\f099";
}
.fa-facebook:before {
  content: "\f09a";
}
.fa-github:before {
  content: "\f09b";
}
.fa-unlock:before {
  content: "\f09c";
}
.fa-credit-card:before {
  content: "\f09d";
}
.fa-rss:before {
  content: "\f09e";
}
.fa-hdd-o:before {
  content: "\f0a0";
}
.fa-bullhorn:before {
  content: "\f0a1";
}
.fa-bell:before {
  content: "\f0f3";
}
.fa-certificate:before {
  content: "\f0a3";
}
.fa-hand-o-right:before {
  content: "\f0a4";
}
.fa-hand-o-left:before {
  content: "\f0a5";
}
.fa-hand-o-up:before {
  content: "\f0a6";
}
.fa-hand-o-down:before {
  content: "\f0a7";
}
.fa-arrow-circle-left:before {
  content: "\f0a8";
}
.fa-arrow-circle-right:before {
  content: "\f0a9";
}
.fa-arrow-circle-up:before {
  content: "\f0aa";
}
.fa-arrow-circle-down:before {
  content: "\f0ab";
}
.fa-globe:before {
  content: "\f0ac";
}
.fa-wrench:before {
  content: "\f0ad";
}
.fa-tasks:before {
  content: "\f0ae";
}
.fa-filter:before {
  content: "\f0b0";
}
.fa-briefcase:before {
  content: "\f0b1";
}
.fa-arrows-alt:before {
  content: "\f0b2";
}
.fa-group:before,
.fa-users:before {
  content: "\f0c0";
}
.fa-chain:before,
.fa-link:before {
  content: "\f0c1";
}
.fa-cloud:before {
  content: "\f0c2";
}
.fa-flask:before {
  content: "\f0c3";
}
.fa-cut:before,
.fa-scissors:before {
  content: "\f0c4";
}
.fa-copy:before,
.fa-files-o:before {
  content: "\f0c5";
}
.fa-paperclip:before {
  content: "\f0c6";
}
.fa-save:before,
.fa-floppy-o:before {
  content: "\f0c7";
}
.fa-square:before {
  content: "\f0c8";
}
.fa-navicon:before,
.fa-reorder:before,
.fa-bars:before {
  content: "\f0c9";
}
.fa-list-ul:before {
  content: "\f0ca";
}
.fa-list-ol:before {
  content: "\f0cb";
}
.fa-strikethrough:before {
  content: "\f0cc";
}
.fa-underline:before {
  content: "\f0cd";
}
.fa-table:before {
  content: "\f0ce";
}
.fa-magic:before {
  content: "\f0d0";
}
.fa-truck:before {
  content: "\f0d1";
}
.fa-pinterest:before {
  content: "\f0d2";
}
.fa-pinterest-square:before {
  content: "\f0d3";
}
.fa-google-plus-square:before {
  content: "\f0d4";
}
.fa-google-plus:before {
  content: "\f0d5";
}
.fa-money:before {
  content: "\f0d6";
}
.fa-caret-down:before {
  content: "\f0d7";
}
.fa-caret-up:before {
  content: "\f0d8";
}
.fa-caret-left:before {
  content: "\f0d9";
}
.fa-caret-right:before {
  content: "\f0da";
}
.fa-columns:before {
  content: "\f0db";
}
.fa-unsorted:before,
.fa-sort:before {
  content: "\f0dc";
}
.fa-sort-down:before,
.fa-sort-desc:before {
  content: "\f0dd";
}
.fa-sort-up:before,
.fa-sort-asc:before {
  content: "\f0de";
}
.fa-envelope:before {
  content: "\f0e0";
}
.fa-linkedin:before {
  content: "\f0e1";
}
.fa-rotate-left:before,
.fa-undo:before {
  content: "\f0e2";
}
.fa-legal:before,
.fa-gavel:before {
  content: "\f0e3";
}
.fa-dashboard:before,
.fa-tachometer:before {
  content: "\f0e4";
}
.fa-comment-o:before {
  content: "\f0e5";
}
.fa-comments-o:before {
  content: "\f0e6";
}
.fa-flash:before,
.fa-bolt:before {
  content: "\f0e7";
}
.fa-sitemap:before {
  content: "\f0e8";
}
.fa-umbrella:before {
  content: "\f0e9";
}
.fa-paste:before,
.fa-clipboard:before {
  content: "\f0ea";
}
.fa-lightbulb-o:before {
  content: "\f0eb";
}
.fa-exchange:before {
  content: "\f0ec";
}
.fa-cloud-download:before {
  content: "\f0ed";
}
.fa-cloud-upload:before {
  content: "\f0ee";
}
.fa-user-md:before {
  content: "\f0f0";
}
.fa-stethoscope:before {
  content: "\f0f1";
}
.fa-suitcase:before {
  content: "\f0f2";
}
.fa-bell-o:before {
  content: "\f0a2";
}
.fa-coffee:before {
  content: "\f0f4";
}
.fa-cutlery:before {
  content: "\f0f5";
}
.fa-file-text-o:before {
  content: "\f0f6";
}
.fa-building-o:before {
  content: "\f0f7";
}
.fa-hospital-o:before {
  content: "\f0f8";
}
.fa-ambulance:before {
  content: "\f0f9";
}
.fa-medkit:before {
  content: "\f0fa";
}
.fa-fighter-jet:before {
  content: "\f0fb";
}
.fa-beer:before {
  content: "\f0fc";
}
.fa-h-square:before {
  content: "\f0fd";
}
.fa-plus-square:before {
  content: "\f0fe";
}
.fa-angle-double-left:before {
  content: "\f100";
}
.fa-angle-double-right:before {
  content: "\f101";
}
.fa-angle-double-up:before {
  content: "\f102";
}
.fa-angle-double-down:before {
  content: "\f103";
}
.fa-angle-left:before {
  content: "\f104";
}
.fa-angle-right:before {
  content: "\f105";
}
.fa-angle-up:before {
  content: "\f106";
}
.fa-angle-down:before {
  content: "\f107";
}
.fa-desktop:before {
  content: "\f108";
}
.fa-laptop:before {
  content: "\f109";
}
.fa-tablet:before {
  content: "\f10a";
}
.fa-mobile-phone:before,
.fa-mobile:before {
  content: "\f10b";
}
.fa-circle-o:before {
  content: "\f10c";
}
.fa-quote-left:before {
  content: "\f10d";
}
.fa-quote-right:before {
  content: "\f10e";
}
.fa-spinner:before {
  content: "\f110";
}
.fa-circle:before {
  content: "\f111";
}
.fa-mail-reply:before,
.fa-reply:before {
  content: "\f112";
}
.fa-github-alt:before {
  content: "\f113";
}
.fa-folder-o:before {
  content: "\f114";
}
.fa-folder-open-o:before {
  content: "\f115";
}
.fa-smile-o:before {
  content: "\f118";
}
.fa-frown-o:before {
  content: "\f119";
}
.fa-meh-o:before {
  content: "\f11a";
}
.fa-gamepad:before {
  content: "\f11b";
}
.fa-keyboard-o:before {
  content: "\f11c";
}
.fa-flag-o:before {
  content: "\f11d";
}
.fa-flag-checkered:before {
  content: "\f11e";
}
.fa-terminal:before {
  content: "\f120";
}
.fa-code:before {
  content: "\f121";
}
.fa-mail-reply-all:before,
.fa-reply-all:before {
  content: "\f122";
}
.fa-star-half-empty:before,
.fa-star-half-full:before,
.fa-star-half-o:before {
  content: "\f123";
}
.fa-location-arrow:before {
  content: "\f124";
}
.fa-crop:before {
  content: "\f125";
}
.fa-code-fork:before {
  content: "\f126";
}
.fa-unlink:before,
.fa-chain-broken:before {
  content: "\f127";
}
.fa-question:before {
  content: "\f128";
}
.fa-info:before {
  content: "\f129";
}
.fa-exclamation:before {
  content: "\f12a";
}
.fa-superscript:before {
  content: "\f12b";
}
.fa-subscript:before {
  content: "\f12c";
}
.fa-eraser:before {
  content: "\f12d";
}
.fa-puzzle-piece:before {
  content: "\f12e";
}
.fa-microphone:before {
  content: "\f130";
}
.fa-microphone-slash:before {
  content: "\f131";
}
.fa-shield:before {
  content: "\f132";
}
.fa-calendar-o:before {
  content: "\f133";
}
.fa-fire-extinguisher:before {
  content: "\f134";
}
.fa-rocket:before {
  content: "\f135";
}
.fa-maxcdn:before {
  content: "\f136";
}
.fa-chevron-circle-left:before {
  content: "\f137";
}
.fa-chevron-circle-right:before {
  content: "\f138";
}
.fa-chevron-circle-up:before {
  content: "\f139";
}
.fa-chevron-circle-down:before {
  content: "\f13a";
}
.fa-html5:before {
  content: "\f13b";
}
.fa-css3:before {
  content: "\f13c";
}
.fa-anchor:before {
  content: "\f13d";
}
.fa-unlock-alt:before {
  content: "\f13e";
}
.fa-bullseye:before {
  content: "\f140";
}
.fa-ellipsis-h:before {
  content: "\f141";
}
.fa-ellipsis-v:before {
  content: "\f142";
}
.fa-rss-square:before {
  content: "\f143";
}
.fa-play-circle:before {
  content: "\f144";
}
.fa-ticket:before {
  content: "\f145";
}
.fa-minus-square:before {
  content: "\f146";
}
.fa-minus-square-o:before {
  content: "\f147";
}
.fa-level-up:before {
  content: "\f148";
}
.fa-level-down:before {
  content: "\f149";
}
.fa-check-square:before {
  content: "\f14a";
}
.fa-pencil-square:before {
  content: "\f14b";
}
.fa-external-link-square:before {
  content: "\f14c";
}
.fa-share-square:before {
  content: "\f14d";
}
.fa-compass:before {
  content: "\f14e";
}
.fa-toggle-down:before,
.fa-caret-square-o-down:before {
  content: "\f150";
}
.fa-toggle-up:before,
.fa-caret-square-o-up:before {
  content: "\f151";
}
.fa-toggle-right:before,
.fa-caret-square-o-right:before {
  content: "\f152";
}
.fa-euro:before,
.fa-eur:before {
  content: "\f153";
}
.fa-gbp:before {
  content: "\f154";
}
.fa-dollar:before,
.fa-usd:before {
  content: "\f155";
}
.fa-rupee:before,
.fa-inr:before {
  content: "\f156";
}
.fa-cny:before,
.fa-rmb:before,
.fa-yen:before,
.fa-jpy:before {
  content: "\f157";
}
.fa-ruble:before,
.fa-rouble:before,
.fa-rub:before {
  content: "\f158";
}
.fa-won:before,
.fa-krw:before {
  content: "\f159";
}
.fa-bitcoin:before,
.fa-btc:before {
  content: "\f15a";
}
.fa-file:before {
  content: "\f15b";
}
.fa-file-text:before {
  content: "\f15c";
}
.fa-sort-alpha-asc:before {
  content: "\f15d";
}
.fa-sort-alpha-desc:before {
  content: "\f15e";
}
.fa-sort-amount-asc:before {
  content: "\f160";
}
.fa-sort-amount-desc:before {
  content: "\f161";
}
.fa-sort-numeric-asc:before {
  content: "\f162";
}
.fa-sort-numeric-desc:before {
  content: "\f163";
}
.fa-thumbs-up:before {
  content: "\f164";
}
.fa-thumbs-down:before {
  content: "\f165";
}
.fa-youtube-square:before {
  content: "\f166";
}
.fa-youtube:before {
  content: "\f167";
}
.fa-xing:before {
  content: "\f168";
}
.fa-xing-square:before {
  content: "\f169";
}
.fa-youtube-play:before {
  content: "\f16a";
}
.fa-dropbox:before {
  content: "\f16b";
}
.fa-stack-overflow:before {
  content: "\f16c";
}
.fa-instagram:before {
  content: "\f16d";
}
.fa-flickr:before {
  content: "\f16e";
}
.fa-adn:before {
  content: "\f170";
}
.fa-bitbucket:before {
  content: "\f171";
}
.fa-bitbucket-square:before {
  content: "\f172";
}
.fa-tumblr:before {
  content: "\f173";
}
.fa-tumblr-square:before {
  content: "\f174";
}
.fa-long-arrow-down:before {
  content: "\f175";
}
.fa-long-arrow-up:before {
  content: "\f176";
}
.fa-long-arrow-left:before {
  content: "\f177";
}
.fa-long-arrow-right:before {
  content: "\f178";
}
.fa-apple:before {
  content: "\f179";
}
.fa-windows:before {
  content: "\f17a";
}
.fa-android:before {
  content: "\f17b";
}
.fa-linux:before {
  content: "\f17c";
}
.fa-dribbble:before {
  content: "\f17d";
}
.fa-skype:before {
  content: "\f17e";
}
.fa-foursquare:before {
  content: "\f180";
}
.fa-trello:before {
  content: "\f181";
}
.fa-female:before {
  content: "\f182";
}
.fa-male:before {
  content: "\f183";
}
.fa-gittip:before {
  content: "\f184";
}
.fa-sun-o:before {
  content: "\f185";
}
.fa-moon-o:before {
  content: "\f186";
}
.fa-archive:before {
  content: "\f187";
}
.fa-bug:before {
  content: "\f188";
}
.fa-vk:before {
  content: "\f189";
}
.fa-weibo:before {
  content: "\f18a";
}
.fa-renren:before {
  content: "\f18b";
}
.fa-pagelines:before {
  content: "\f18c";
}
.fa-stack-exchange:before {
  content: "\f18d";
}
.fa-arrow-circle-o-right:before {
  content: "\f18e";
}
.fa-arrow-circle-o-left:before {
  content: "\f190";
}
.fa-toggle-left:before,
.fa-caret-square-o-left:before {
  content: "\f191";
}
.fa-dot-circle-o:before {
  content: "\f192";
}
.fa-wheelchair:before {
  content: "\f193";
}
.fa-vimeo-square:before {
  content: "\f194";
}
.fa-turkish-lira:before,
.fa-try:before {
  content: "\f195";
}
.fa-plus-square-o:before {
  content: "\f196";
}
.fa-space-shuttle:before {
  content: "\f197";
}
.fa-slack:before {
  content: "\f198";
}
.fa-envelope-square:before {
  content: "\f199";
}
.fa-wordpress:before {
  content: "\f19a";
}
.fa-openid:before {
  content: "\f19b";
}
.fa-institution:before,
.fa-bank:before,
.fa-university:before {
  content: "\f19c";
}
.fa-mortar-board:before,
.fa-graduation-cap:before {
  content: "\f19d";
}
.fa-yahoo:before {
  content: "\f19e";
}
.fa-google:before {
  content: "\f1a0";
}
.fa-reddit:before {
  content: "\f1a1";
}
.fa-reddit-square:before {
  content: "\f1a2";
}
.fa-stumbleupon-circle:before {
  content: "\f1a3";
}
.fa-stumbleupon:before {
  content: "\f1a4";
}
.fa-delicious:before {
  content: "\f1a5";
}
.fa-digg:before {
  content: "\f1a6";
}
.fa-pied-piper:before {
  content: "\f1a7";
}
.fa-pied-piper-alt:before {
  content: "\f1a8";
}
.fa-drupal:before {
  content: "\f1a9";
}
.fa-joomla:before {
  content: "\f1aa";
}
.fa-language:before {
  content: "\f1ab";
}
.fa-fax:before {
  content: "\f1ac";
}
.fa-building:before {
  content: "\f1ad";
}
.fa-child:before {
  content: "\f1ae";
}
.fa-paw:before {
  content: "\f1b0";
}
.fa-spoon:before {
  content: "\f1b1";
}
.fa-cube:before {
  content: "\f1b2";
}
.fa-cubes:before {
  content: "\f1b3";
}
.fa-behance:before {
  content: "\f1b4";
}
.fa-behance-square:before {
  content: "\f1b5";
}
.fa-steam:before {
  content: "\f1b6";
}
.fa-steam-square:before {
  content: "\f1b7";
}
.fa-recycle:before {
  content: "\f1b8";
}
.fa-automobile:before,
.fa-car:before {
  content: "\f1b9";
}
.fa-cab:before,
.fa-taxi:before {
  content: "\f1ba";
}
.fa-tree:before {
  content: "\f1bb";
}
.fa-spotify:before {
  content: "\f1bc";
}
.fa-deviantart:before {
  content: "\f1bd";
}
.fa-soundcloud:before {
  content: "\f1be";
}
.fa-database:before {
  content: "\f1c0";
}
.fa-file-pdf-o:before {
  content: "\f1c1";
}
.fa-file-word-o:before {
  content: "\f1c2";
}
.fa-file-excel-o:before {
  content: "\f1c3";
}
.fa-file-powerpoint-o:before {
  content: "\f1c4";
}
.fa-file-photo-o:before,
.fa-file-picture-o:before,
.fa-file-image-o:before {
  content: "\f1c5";
}
.fa-file-zip-o:before,
.fa-file-archive-o:before {
  content: "\f1c6";
}
.fa-file-sound-o:before,
.fa-file-audio-o:before {
  content: "\f1c7";
}
.fa-file-movie-o:before,
.fa-file-video-o:before {
  content: "\f1c8";
}
.fa-file-code-o:before {
  content: "\f1c9";
}
.fa-vine:before {
  content: "\f1ca";
}
.fa-codepen:before {
  content: "\f1cb";
}
.fa-jsfiddle:before {
  content: "\f1cc";
}
.fa-life-bouy:before,
.fa-life-buoy:before,
.fa-life-saver:before,
.fa-support:before,
.fa-life-ring:before {
  content: "\f1cd";
}
.fa-circle-o-notch:before {
  content: "\f1ce";
}
.fa-ra:before,
.fa-rebel:before {
  content: "\f1d0";
}
.fa-ge:before,
.fa-empire:before {
  content: "\f1d1";
}
.fa-git-square:before {
  content: "\f1d2";
}
.fa-git:before {
  content: "\f1d3";
}
.fa-hacker-news:before {
  content: "\f1d4";
}
.fa-tencent-weibo:before {
  content: "\f1d5";
}
.fa-qq:before {
  content: "\f1d6";
}
.fa-wechat:before,
.fa-weixin:before {
  content: "\f1d7";
}
.fa-send:before,
.fa-paper-plane:before {
  content: "\f1d8";
}
.fa-send-o:before,
.fa-paper-plane-o:before {
  content: "\f1d9";
}
.fa-history:before {
  content: "\f1da";
}
.fa-circle-thin:before {
  content: "\f1db";
}
.fa-header:before {
  content: "\f1dc";
}
.fa-paragraph:before {
  content: "\f1dd";
}
.fa-sliders:before {
  content: "\f1de";
}
.fa-share-alt:before {
  content: "\f1e0";
}
.fa-share-alt-square:before {
  content: "\f1e1";
}
.fa-bomb:before {
  content: "\f1e2";
}
.fa-soccer-ball-o:before,
.fa-futbol-o:before {
  content: "\f1e3";
}
.fa-tty:before {
  content: "\f1e4";
}
.fa-binoculars:before {
  content: "\f1e5";
}
.fa-plug:before {
  content: "\f1e6";
}
.fa-slideshare:before {
  content: "\f1e7";
}
.fa-twitch:before {
  content: "\f1e8";
}
.fa-yelp:before {
  content: "\f1e9";
}
.fa-newspaper-o:before {
  content: "\f1ea";
}
.fa-wifi:before {
  content: "\f1eb";
}
.fa-calculator:before {
  content: "\f1ec";
}
.fa-paypal:before {
  content: "\f1ed";
}
.fa-google-wallet:before {
  content: "\f1ee";
}
.fa-cc-visa:before {
  content: "\f1f0";
}
.fa-cc-mastercard:before {
  content: "\f1f1";
}
.fa-cc-discover:before {
  content: "\f1f2";
}
.fa-cc-amex:before {
  content: "\f1f3";
}
.fa-cc-paypal:before {
  content: "\f1f4";
}
.fa-cc-stripe:before {
  content: "\f1f5";
}
.fa-bell-slash:before {
  content: "\f1f6";
}
.fa-bell-slash-o:before {
  content: "\f1f7";
}
.fa-trash:before {
  content: "\f1f8";
}
.fa-copyright:before {
  content: "\f1f9";
}
.fa-at:before {
  content: "\f1fa";
}
.fa-eyedropper:before {
  content: "\f1fb";
}
.fa-paint-brush:before {
  content: "\f1fc";
}
.fa-birthday-cake:before {
  content: "\f1fd";
}
.fa-area-chart:before {
  content: "\f1fe";
}
.fa-pie-chart:before {
  content: "\f200";
}
.fa-line-chart:before {
  content: "\f201";
}
.fa-lastfm:before {
  content: "\f202";
}
.fa-lastfm-square:before {
  content: "\f203";
}
.fa-toggle-off:before {
  content: "\f204";
}
.fa-toggle-on:before {
  content: "\f205";
}
.fa-bicycle:before {
  content: "\f206";
}
.fa-bus:before {
  content: "\f207";
}
.fa-ioxhost:before {
  content: "\f208";
}
.fa-angellist:before {
  content: "\f209";
}
.fa-cc:before {
  content: "\f20a";
}
.fa-shekel:before,
.fa-sheqel:before,
.fa-ils:before {
  content: "\f20b";
}
.fa-meanpath:before {
  content: "\f20c";
}
/*!
*
* IPython base
*
*/
.modal.fade .modal-dialog {
  -webkit-transform: translate(0, 0);
  -ms-transform: translate(0, 0);
  -o-transform: translate(0, 0);
  transform: translate(0, 0);
}
code {
  color: #000;
}
pre {
  font-size: inherit;
  line-height: inherit;
}
label {
  font-weight: normal;
}
/* Make the page background atleast 100% the height of the view port */
/* Make the page itself atleast 70% the height of the view port */
.border-box-sizing {
  box-sizing: border-box;
  -moz-box-sizing: border-box;
  -webkit-box-sizing: border-box;
}
.corner-all {
  border-radius: 2px;
}
.no-padding {
  padding: 0px;
}
/* Flexible box model classes */
/* Taken from Alex Russell http://infrequently.org/2009/08/css-3-progress/ */
/* This file is a compatability layer.  It allows the usage of flexible box 
model layouts accross multiple browsers, including older browsers.  The newest,
universal implementation of the flexible box model is used when available (see
`Modern browsers` comments below).  Browsers that are known to implement this 
new spec completely include:

    Firefox 28.0+
    Chrome 29.0+
    Internet Explorer 11+ 
    Opera 17.0+

Browsers not listed, including Safari, are supported via the styling under the
`Old browsers` comments below.
*/
.hbox {
  /* Old browsers */
  display: -webkit-box;
  -webkit-box-orient: horizontal;
  -webkit-box-align: stretch;
  display: -moz-box;
  -moz-box-orient: horizontal;
  -moz-box-align: stretch;
  display: box;
  box-orient: horizontal;
  box-align: stretch;
  /* Modern browsers */
  display: flex;
  flex-direction: row;
  align-items: stretch;
}
.hbox > * {
  /* Old browsers */
  -webkit-box-flex: 0;
  -moz-box-flex: 0;
  box-flex: 0;
  /* Modern browsers */
  flex: none;
}
.vbox {
  /* Old browsers */
  display: -webkit-box;
  -webkit-box-orient: vertical;
  -webkit-box-align: stretch;
  display: -moz-box;
  -moz-box-orient: vertical;
  -moz-box-align: stretch;
  display: box;
  box-orient: vertical;
  box-align: stretch;
  /* Modern browsers */
  display: flex;
  flex-direction: column;
  align-items: stretch;
}
.vbox > * {
  /* Old browsers */
  -webkit-box-flex: 0;
  -moz-box-flex: 0;
  box-flex: 0;
  /* Modern browsers */
  flex: none;
}
.hbox.reverse,
.vbox.reverse,
.reverse {
  /* Old browsers */
  -webkit-box-direction: reverse;
  -moz-box-direction: reverse;
  box-direction: reverse;
  /* Modern browsers */
  flex-direction: row-reverse;
}
.hbox.box-flex0,
.vbox.box-flex0,
.box-flex0 {
  /* Old browsers */
  -webkit-box-flex: 0;
  -moz-box-flex: 0;
  box-flex: 0;
  /* Modern browsers */
  flex: none;
  width: auto;
}
.hbox.box-flex1,
.vbox.box-flex1,
.box-flex1 {
  /* Old browsers */
  -webkit-box-flex: 1;
  -moz-box-flex: 1;
  box-flex: 1;
  /* Modern browsers */
  flex: 1;
}
.hbox.box-flex,
.vbox.box-flex,
.box-flex {
  /* Old browsers */
  /* Old browsers */
  -webkit-box-flex: 1;
  -moz-box-flex: 1;
  box-flex: 1;
  /* Modern browsers */
  flex: 1;
}
.hbox.box-flex2,
.vbox.box-flex2,
.box-flex2 {
  /* Old browsers */
  -webkit-box-flex: 2;
  -moz-box-flex: 2;
  box-flex: 2;
  /* Modern browsers */
  flex: 2;
}
.box-group1 {
  /*  Deprecated */
  -webkit-box-flex-group: 1;
  -moz-box-flex-group: 1;
  box-flex-group: 1;
}
.box-group2 {
  /* Deprecated */
  -webkit-box-flex-group: 2;
  -moz-box-flex-group: 2;
  box-flex-group: 2;
}
.hbox.start,
.vbox.start,
.start {
  /* Old browsers */
  -webkit-box-pack: start;
  -moz-box-pack: start;
  box-pack: start;
  /* Modern browsers */
  justify-content: flex-start;
}
.hbox.end,
.vbox.end,
.end {
  /* Old browsers */
  -webkit-box-pack: end;
  -moz-box-pack: end;
  box-pack: end;
  /* Modern browsers */
  justify-content: flex-end;
}
.hbox.center,
.vbox.center,
.center {
  /* Old browsers */
  -webkit-box-pack: center;
  -moz-box-pack: center;
  box-pack: center;
  /* Modern browsers */
  justify-content: center;
}
.hbox.baseline,
.vbox.baseline,
.baseline {
  /* Old browsers */
  -webkit-box-pack: baseline;
  -moz-box-pack: baseline;
  box-pack: baseline;
  /* Modern browsers */
  justify-content: baseline;
}
.hbox.stretch,
.vbox.stretch,
.stretch {
  /* Old browsers */
  -webkit-box-pack: stretch;
  -moz-box-pack: stretch;
  box-pack: stretch;
  /* Modern browsers */
  justify-content: stretch;
}
.hbox.align-start,
.vbox.align-start,
.align-start {
  /* Old browsers */
  -webkit-box-align: start;
  -moz-box-align: start;
  box-align: start;
  /* Modern browsers */
  align-items: flex-start;
}
.hbox.align-end,
.vbox.align-end,
.align-end {
  /* Old browsers */
  -webkit-box-align: end;
  -moz-box-align: end;
  box-align: end;
  /* Modern browsers */
  align-items: flex-end;
}
.hbox.align-center,
.vbox.align-center,
.align-center {
  /* Old browsers */
  -webkit-box-align: center;
  -moz-box-align: center;
  box-align: center;
  /* Modern browsers */
  align-items: center;
}
.hbox.align-baseline,
.vbox.align-baseline,
.align-baseline {
  /* Old browsers */
  -webkit-box-align: baseline;
  -moz-box-align: baseline;
  box-align: baseline;
  /* Modern browsers */
  align-items: baseline;
}
.hbox.align-stretch,
.vbox.align-stretch,
.align-stretch {
  /* Old browsers */
  -webkit-box-align: stretch;
  -moz-box-align: stretch;
  box-align: stretch;
  /* Modern browsers */
  align-items: stretch;
}
div.error {
  margin: 2em;
  text-align: center;
}
div.error > h1 {
  font-size: 500%;
  line-height: normal;
}
div.error > p {
  font-size: 200%;
  line-height: normal;
}
div.traceback-wrapper {
  text-align: left;
  max-width: 800px;
  margin: auto;
}
/**
 * Primary styles
 *
 * Author: Jupyter Development Team
 */
body {
  background-color: #fff;
  /* This makes sure that the body covers the entire window and needs to
       be in a different element than the display: box in wrapper below */
  position: absolute;
  left: 0px;
  right: 0px;
  top: 0px;
  bottom: 0px;
  overflow: visible;
}
body > #header {
  /* Initially hidden to prevent FLOUC */
  display: none;
  background-color: #fff;
  /* Display over codemirror */
  position: relative;
  z-index: 100;
}
body > #header #header-container {
  padding-bottom: 5px;
  padding-top: 5px;
  box-sizing: border-box;
  -moz-box-sizing: border-box;
  -webkit-box-sizing: border-box;
}
body > #header .header-bar {
  width: 100%;
  height: 1px;
  background: #e7e7e7;
  margin-bottom: -1px;
}
@media print {
  body > #header {
    display: none !important;
  }
}
#header-spacer {
  width: 100%;
  visibility: hidden;
}
@media print {
  #header-spacer {
    display: none;
  }
}
#ipython_notebook {
  padding-left: 0px;
  padding-top: 1px;
  padding-bottom: 1px;
}
@media (max-width: 991px) {
  #ipython_notebook {
    margin-left: 10px;
  }
}
#noscript {
  width: auto;
  padding-top: 16px;
  padding-bottom: 16px;
  text-align: center;
  font-size: 22px;
  color: red;
  font-weight: bold;
}
#ipython_notebook img {
  height: 28px;
}
#site {
  width: 100%;
  display: none;
  box-sizing: border-box;
  -moz-box-sizing: border-box;
  -webkit-box-sizing: border-box;
  overflow: auto;
}
@media print {
  #site {
    height: auto !important;
  }
}
/* Smaller buttons */
.ui-button .ui-button-text {
  padding: 0.2em 0.8em;
  font-size: 77%;
}
input.ui-button {
  padding: 0.3em 0.9em;
}
span#login_widget {
  float: right;
}
span#login_widget > .button,
#logout {
  color: #333;
  background-color: #fff;
  border-color: #ccc;
}
span#login_widget > .button:focus,
#logout:focus,
span#login_widget > .button.focus,
#logout.focus {
  color: #333;
  background-color: #e6e6e6;
  border-color: #8c8c8c;
}
span#login_widget > .button:hover,
#logout:hover {
  color: #333;
  background-color: #e6e6e6;
  border-color: #adadad;
}
span#login_widget > .button:active,
#logout:active,
span#login_widget > .button.active,
#logout.active,
.open > .dropdown-togglespan#login_widget > .button,
.open > .dropdown-toggle#logout {
  color: #333;
  background-color: #e6e6e6;
  border-color: #adadad;
}
span#login_widget > .button:active:hover,
#logout:active:hover,
span#login_widget > .button.active:hover,
#logout.active:hover,
.open > .dropdown-togglespan#login_widget > .button:hover,
.open > .dropdown-toggle#logout:hover,
span#login_widget > .button:active:focus,
#logout:active:focus,
span#login_widget > .button.active:focus,
#logout.active:focus,
.open > .dropdown-togglespan#login_widget > .button:focus,
.open > .dropdown-toggle#logout:focus,
span#login_widget > .button:active.focus,
#logout:active.focus,
span#login_widget > .button.active.focus,
#logout.active.focus,
.open > .dropdown-togglespan#login_widget > .button.focus,
.open > .dropdown-toggle#logout.focus {
  color: #333;
  background-color: #d4d4d4;
  border-color: #8c8c8c;
}
span#login_widget > .button:active,
#logout:active,
span#login_widget > .button.active,
#logout.active,
.open > .dropdown-togglespan#login_widget > .button,
.open > .dropdown-toggle#logout {
  background-image: none;
}
span#login_widget > .button.disabled:hover,
#logout.disabled:hover,
span#login_widget > .button[disabled]:hover,
#logout[disabled]:hover,
fieldset[disabled] span#login_widget > .button:hover,
fieldset[disabled] #logout:hover,
span#login_widget > .button.disabled:focus,
#logout.disabled:focus,
span#login_widget > .button[disabled]:focus,
#logout[disabled]:focus,
fieldset[disabled] span#login_widget > .button:focus,
fieldset[disabled] #logout:focus,
span#login_widget > .button.disabled.focus,
#logout.disabled.focus,
span#login_widget > .button[disabled].focus,
#logout[disabled].focus,
fieldset[disabled] span#login_widget > .button.focus,
fieldset[disabled] #logout.focus {
  background-color: #fff;
  border-color: #ccc;
}
span#login_widget > .button .badge,
#logout .badge {
  color: #fff;
  background-color: #333;
}
.nav-header {
  text-transform: none;
}
#header > span {
  margin-top: 10px;
}
.modal_stretch .modal-dialog {
  /* Old browsers */
  display: -webkit-box;
  -webkit-box-orient: vertical;
  -webkit-box-align: stretch;
  display: -moz-box;
  -moz-box-orient: vertical;
  -moz-box-align: stretch;
  display: box;
  box-orient: vertical;
  box-align: stretch;
  /* Modern browsers */
  display: flex;
  flex-direction: column;
  align-items: stretch;
  min-height: 80vh;
}
.modal_stretch .modal-dialog .modal-body {
  max-height: calc(100vh - 200px);
  overflow: auto;
  flex: 1;
}
@media (min-width: 768px) {
  .modal .modal-dialog {
    width: 700px;
  }
}
@media (min-width: 768px) {
  select.form-control {
    margin-left: 12px;
    margin-right: 12px;
  }
}
/*!
*
* IPython auth
*
*/
.center-nav {
  display: inline-block;
  margin-bottom: -4px;
}
/*!
*
* IPython tree view
*
*/
/* We need an invisible input field on top of the sentense*/
/* "Drag file onto the list ..." */
.alternate_upload {
  background-color: none;
  display: inline;
}
.alternate_upload.form {
  padding: 0;
  margin: 0;
}
.alternate_upload input.fileinput {
  text-align: center;
  vertical-align: middle;
  display: inline;
  opacity: 0;
  z-index: 2;
  width: 12ex;
  margin-right: -12ex;
}
.alternate_upload .btn-upload {
  height: 22px;
}
/**
 * Primary styles
 *
 * Author: Jupyter Development Team
 */
ul#tabs {
  margin-bottom: 4px;
}
ul#tabs a {
  padding-top: 6px;
  padding-bottom: 4px;
}
ul.breadcrumb a:focus,
ul.breadcrumb a:hover {
  text-decoration: none;
}
ul.breadcrumb i.icon-home {
  font-size: 16px;
  margin-right: 4px;
}
ul.breadcrumb span {
  color: #5e5e5e;
}
.list_toolbar {
  padding: 4px 0 4px 0;
  vertical-align: middle;
}
.list_toolbar .tree-buttons {
  padding-top: 1px;
}
.dynamic-buttons {
  padding-top: 3px;
  display: inline-block;
}
.list_toolbar [class*="span"] {
  min-height: 24px;
}
.list_header {
  font-weight: bold;
  background-color: #EEE;
}
.list_placeholder {
  font-weight: bold;
  padding-top: 4px;
  padding-bottom: 4px;
  padding-left: 7px;
  padding-right: 7px;
}
.list_container {
  margin-top: 4px;
  margin-bottom: 20px;
  border: 1px solid #ddd;
  border-radius: 2px;
}
.list_container > div {
  border-bottom: 1px solid #ddd;
}
.list_container > div:hover .list-item {
  background-color: red;
}
.list_container > div:last-child {
  border: none;
}
.list_item:hover .list_item {
  background-color: #ddd;
}
.list_item a {
  text-decoration: none;
}
.list_item:hover {
  background-color: #fafafa;
}
.list_header > div,
.list_item > div {
  padding-top: 4px;
  padding-bottom: 4px;
  padding-left: 7px;
  padding-right: 7px;
  line-height: 22px;
}
.list_header > div input,
.list_item > div input {
  margin-right: 7px;
  margin-left: 14px;
  vertical-align: baseline;
  line-height: 22px;
  position: relative;
  top: -1px;
}
.list_header > div .item_link,
.list_item > div .item_link {
  margin-left: -1px;
  vertical-align: baseline;
  line-height: 22px;
}
.new-file input[type=checkbox] {
  visibility: hidden;
}
.item_name {
  line-height: 22px;
  height: 24px;
}
.item_icon {
  font-size: 14px;
  color: #5e5e5e;
  margin-right: 7px;
  margin-left: 7px;
  line-height: 22px;
  vertical-align: baseline;
}
.item_buttons {
  line-height: 1em;
  margin-left: -5px;
}
.item_buttons .btn,
.item_buttons .btn-group,
.item_buttons .input-group {
  float: left;
}
.item_buttons > .btn,
.item_buttons > .btn-group,
.item_buttons > .input-group {
  margin-left: 5px;
}
.item_buttons .btn {
  min-width: 13ex;
}
.item_buttons .running-indicator {
  padding-top: 4px;
  color: #5cb85c;
}
.item_buttons .kernel-name {
  padding-top: 4px;
  color: #5bc0de;
  margin-right: 7px;
  float: left;
}
.toolbar_info {
  height: 24px;
  line-height: 24px;
}
.list_item input:not([type=checkbox]) {
  padding-top: 3px;
  padding-bottom: 3px;
  height: 22px;
  line-height: 14px;
  margin: 0px;
}
.highlight_text {
  color: blue;
}
#project_name {
  display: inline-block;
  padding-left: 7px;
  margin-left: -2px;
}
#project_name > .breadcrumb {
  padding: 0px;
  margin-bottom: 0px;
  background-color: transparent;
  font-weight: bold;
}
#tree-selector {
  padding-right: 0px;
}
#button-select-all {
  min-width: 50px;
}
#select-all {
  margin-left: 7px;
  margin-right: 2px;
}
.menu_icon {
  margin-right: 2px;
}
.tab-content .row {
  margin-left: 0px;
  margin-right: 0px;
}
.folder_icon:before {
  display: inline-block;
  font: normal normal normal 14px/1 FontAwesome;
  font-size: inherit;
  text-rendering: auto;
  -webkit-font-smoothing: antialiased;
  -moz-osx-font-smoothing: grayscale;
  content: "\f114";
}
.folder_icon:before.pull-left {
  margin-right: .3em;
}
.folder_icon:before.pull-right {
  margin-left: .3em;
}
.notebook_icon:before {
  display: inline-block;
  font: normal normal normal 14px/1 FontAwesome;
  font-size: inherit;
  text-rendering: auto;
  -webkit-font-smoothing: antialiased;
  -moz-osx-font-smoothing: grayscale;
  content: "\f02d";
  position: relative;
  top: -1px;
}
.notebook_icon:before.pull-left {
  margin-right: .3em;
}
.notebook_icon:before.pull-right {
  margin-left: .3em;
}
.running_notebook_icon:before {
  display: inline-block;
  font: normal normal normal 14px/1 FontAwesome;
  font-size: inherit;
  text-rendering: auto;
  -webkit-font-smoothing: antialiased;
  -moz-osx-font-smoothing: grayscale;
  content: "\f02d";
  position: relative;
  top: -1px;
  color: #5cb85c;
}
.running_notebook_icon:before.pull-left {
  margin-right: .3em;
}
.running_notebook_icon:before.pull-right {
  margin-left: .3em;
}
.file_icon:before {
  display: inline-block;
  font: normal normal normal 14px/1 FontAwesome;
  font-size: inherit;
  text-rendering: auto;
  -webkit-font-smoothing: antialiased;
  -moz-osx-font-smoothing: grayscale;
  content: "\f016";
  position: relative;
  top: -2px;
}
.file_icon:before.pull-left {
  margin-right: .3em;
}
.file_icon:before.pull-right {
  margin-left: .3em;
}
#notebook_toolbar .pull-right {
  padding-top: 0px;
  margin-right: -1px;
}
ul#new-menu {
  left: auto;
  right: 0;
}
.kernel-menu-icon {
  padding-right: 12px;
  width: 24px;
  content: "\f096";
}
.kernel-menu-icon:before {
  content: "\f096";
}
.kernel-menu-icon-current:before {
  content: "\f00c";
}
#tab_content {
  padding-top: 20px;
}
#running .panel-group .panel {
  margin-top: 3px;
  margin-bottom: 1em;
}
#running .panel-group .panel .panel-heading {
  background-color: #EEE;
  padding-top: 4px;
  padding-bottom: 4px;
  padding-left: 7px;
  padding-right: 7px;
  line-height: 22px;
}
#running .panel-group .panel .panel-heading a:focus,
#running .panel-group .panel .panel-heading a:hover {
  text-decoration: none;
}
#running .panel-group .panel .panel-body {
  padding: 0px;
}
#running .panel-group .panel .panel-body .list_container {
  margin-top: 0px;
  margin-bottom: 0px;
  border: 0px;
  border-radius: 0px;
}
#running .panel-group .panel .panel-body .list_container .list_item {
  border-bottom: 1px solid #ddd;
}
#running .panel-group .panel .panel-body .list_container .list_item:last-child {
  border-bottom: 0px;
}
.delete-button {
  display: none;
}
.duplicate-button {
  display: none;
}
.rename-button {
  display: none;
}
.shutdown-button {
  display: none;
}
.dynamic-instructions {
  display: inline-block;
  padding-top: 4px;
}
/*!
*
* IPython text editor webapp
*
*/
.selected-keymap i.fa {
  padding: 0px 5px;
}
.selected-keymap i.fa:before {
  content: "\f00c";
}
#mode-menu {
  overflow: auto;
  max-height: 20em;
}
.edit_app #header {
  -webkit-box-shadow: 0px 0px 12px 1px rgba(87, 87, 87, 0.2);
  box-shadow: 0px 0px 12px 1px rgba(87, 87, 87, 0.2);
}
.edit_app #menubar .navbar {
  /* Use a negative 1 bottom margin, so the border overlaps the border of the
    header */
  margin-bottom: -1px;
}
.dirty-indicator {
  display: inline-block;
  font: normal normal normal 14px/1 FontAwesome;
  font-size: inherit;
  text-rendering: auto;
  -webkit-font-smoothing: antialiased;
  -moz-osx-font-smoothing: grayscale;
  width: 20px;
}
.dirty-indicator.pull-left {
  margin-right: .3em;
}
.dirty-indicator.pull-right {
  margin-left: .3em;
}
.dirty-indicator-dirty {
  display: inline-block;
  font: normal normal normal 14px/1 FontAwesome;
  font-size: inherit;
  text-rendering: auto;
  -webkit-font-smoothing: antialiased;
  -moz-osx-font-smoothing: grayscale;
  width: 20px;
}
.dirty-indicator-dirty.pull-left {
  margin-right: .3em;
}
.dirty-indicator-dirty.pull-right {
  margin-left: .3em;
}
.dirty-indicator-clean {
  display: inline-block;
  font: normal normal normal 14px/1 FontAwesome;
  font-size: inherit;
  text-rendering: auto;
  -webkit-font-smoothing: antialiased;
  -moz-osx-font-smoothing: grayscale;
  width: 20px;
}
.dirty-indicator-clean.pull-left {
  margin-right: .3em;
}
.dirty-indicator-clean.pull-right {
  margin-left: .3em;
}
.dirty-indicator-clean:before {
  display: inline-block;
  font: normal normal normal 14px/1 FontAwesome;
  font-size: inherit;
  text-rendering: auto;
  -webkit-font-smoothing: antialiased;
  -moz-osx-font-smoothing: grayscale;
  content: "\f00c";
}
.dirty-indicator-clean:before.pull-left {
  margin-right: .3em;
}
.dirty-indicator-clean:before.pull-right {
  margin-left: .3em;
}
#filename {
  font-size: 16pt;
  display: table;
  padding: 0px 5px;
}
#current-mode {
  padding-left: 5px;
  padding-right: 5px;
}
#texteditor-backdrop {
  padding-top: 20px;
  padding-bottom: 20px;
}
@media not print {
  #texteditor-backdrop {
    background-color: #EEE;
  }
}
@media print {
  #texteditor-backdrop #texteditor-container .CodeMirror-gutter,
  #texteditor-backdrop #texteditor-container .CodeMirror-gutters {
    background-color: #fff;
  }
}
@media not print {
  #texteditor-backdrop #texteditor-container .CodeMirror-gutter,
  #texteditor-backdrop #texteditor-container .CodeMirror-gutters {
    background-color: #fff;
  }
}
@media not print {
  #texteditor-backdrop #texteditor-container {
    padding: 0px;
    background-color: #fff;
    -webkit-box-shadow: 0px 0px 12px 1px rgba(87, 87, 87, 0.2);
    box-shadow: 0px 0px 12px 1px rgba(87, 87, 87, 0.2);
  }
}
/*!
*
* IPython notebook
*
*/
/* CSS font colors for translated ANSI colors. */
.ansibold {
  font-weight: bold;
}
/* use dark versions for foreground, to improve visibility */
.ansiblack {
  color: black;
}
.ansired {
  color: darkred;
}
.ansigreen {
  color: darkgreen;
}
.ansiyellow {
  color: #c4a000;
}
.ansiblue {
  color: darkblue;
}
.ansipurple {
  color: darkviolet;
}
.ansicyan {
  color: steelblue;
}
.ansigray {
  color: gray;
}
/* and light for background, for the same reason */
.ansibgblack {
  background-color: black;
}
.ansibgred {
  background-color: red;
}
.ansibggreen {
  background-color: green;
}
.ansibgyellow {
  background-color: yellow;
}
.ansibgblue {
  background-color: blue;
}
.ansibgpurple {
  background-color: magenta;
}
.ansibgcyan {
  background-color: cyan;
}
.ansibggray {
  background-color: gray;
}
div.cell {
  /* Old browsers */
  display: -webkit-box;
  -webkit-box-orient: vertical;
  -webkit-box-align: stretch;
  display: -moz-box;
  -moz-box-orient: vertical;
  -moz-box-align: stretch;
  display: box;
  box-orient: vertical;
  box-align: stretch;
  /* Modern browsers */
  display: flex;
  flex-direction: column;
  align-items: stretch;
  border-radius: 2px;
  box-sizing: border-box;
  -moz-box-sizing: border-box;
  -webkit-box-sizing: border-box;
  border-width: 1px;
  border-style: solid;
  border-color: transparent;
  width: 100%;
  padding: 5px;
  /* This acts as a spacer between cells, that is outside the border */
  margin: 0px;
  outline: none;
  border-left-width: 1px;
  padding-left: 5px;
  background: linear-gradient(to right, transparent -40px, transparent 1px, transparent 1px, transparent 100%);
}
div.cell.jupyter-soft-selected {
  border-left-color: #90CAF9;
  border-left-color: #E3F2FD;
  border-left-width: 1px;
  padding-left: 5px;
  border-right-color: #E3F2FD;
  border-right-width: 1px;
  background: #E3F2FD;
}
@media print {
  div.cell.jupyter-soft-selected {
    border-color: transparent;
  }
}
div.cell.selected {
  border-color: #ababab;
  border-left-width: 0px;
  padding-left: 6px;
  background: linear-gradient(to right, #42A5F5 -40px, #42A5F5 5px, transparent 5px, transparent 100%);
}
@media print {
  div.cell.selected {
    border-color: transparent;
  }
}
div.cell.selected.jupyter-soft-selected {
  border-left-width: 0;
  padding-left: 6px;
  background: linear-gradient(to right, #42A5F5 -40px, #42A5F5 7px, #E3F2FD 7px, #E3F2FD 100%);
}
.edit_mode div.cell.selected {
  border-color: #66BB6A;
  border-left-width: 0px;
  padding-left: 6px;
  background: linear-gradient(to right, #66BB6A -40px, #66BB6A 5px, transparent 5px, transparent 100%);
}
@media print {
  .edit_mode div.cell.selected {
    border-color: transparent;
  }
}
.prompt {
  /* This needs to be wide enough for 3 digit prompt numbers: In[100]: */
  min-width: 14ex;
  /* This padding is tuned to match the padding on the CodeMirror editor. */
  padding: 0.4em;
  margin: 0px;
  font-family: monospace;
  text-align: right;
  /* This has to match that of the the CodeMirror class line-height below */
  line-height: 1.21429em;
  /* Don't highlight prompt number selection */
  -webkit-touch-callout: none;
  -webkit-user-select: none;
  -khtml-user-select: none;
  -moz-user-select: none;
  -ms-user-select: none;
  user-select: none;
  /* Use default cursor */
  cursor: default;
}
@media (max-width: 540px) {
  .prompt {
    text-align: left;
  }
}
div.inner_cell {
  /* Old browsers */
  display: -webkit-box;
  -webkit-box-orient: vertical;
  -webkit-box-align: stretch;
  display: -moz-box;
  -moz-box-orient: vertical;
  -moz-box-align: stretch;
  display: box;
  box-orient: vertical;
  box-align: stretch;
  /* Modern browsers */
  display: flex;
  flex-direction: column;
  align-items: stretch;
  /* Old browsers */
  -webkit-box-flex: 1;
  -moz-box-flex: 1;
  box-flex: 1;
  /* Modern browsers */
  flex: 1;
}
@-moz-document url-prefix() {
  div.inner_cell {
    overflow-x: hidden;
  }
}
/* input_area and input_prompt must match in top border and margin for alignment */
div.input_area {
  border: 1px solid #cfcfcf;
  border-radius: 2px;
  background: #f7f7f7;
  line-height: 1.21429em;
}
/* This is needed so that empty prompt areas can collapse to zero height when there
   is no content in the output_subarea and the prompt. The main purpose of this is
   to make sure that empty JavaScript output_subareas have no height. */
div.prompt:empty {
  padding-top: 0;
  padding-bottom: 0;
}
div.unrecognized_cell {
  padding: 5px 5px 5px 0px;
  /* Old browsers */
  display: -webkit-box;
  -webkit-box-orient: horizontal;
  -webkit-box-align: stretch;
  display: -moz-box;
  -moz-box-orient: horizontal;
  -moz-box-align: stretch;
  display: box;
  box-orient: horizontal;
  box-align: stretch;
  /* Modern browsers */
  display: flex;
  flex-direction: row;
  align-items: stretch;
}
div.unrecognized_cell .inner_cell {
  border-radius: 2px;
  padding: 5px;
  font-weight: bold;
  color: red;
  border: 1px solid #cfcfcf;
  background: #eaeaea;
}
div.unrecognized_cell .inner_cell a {
  color: inherit;
  text-decoration: none;
}
div.unrecognized_cell .inner_cell a:hover {
  color: inherit;
  text-decoration: none;
}
@media (max-width: 540px) {
  div.unrecognized_cell > div.prompt {
    display: none;
  }
}
div.code_cell {
  /* avoid page breaking on code cells when printing */
}
@media print {
  div.code_cell {
    page-break-inside: avoid;
  }
}
/* any special styling for code cells that are currently running goes here */
div.input {
  page-break-inside: avoid;
  /* Old browsers */
  display: -webkit-box;
  -webkit-box-orient: horizontal;
  -webkit-box-align: stretch;
  display: -moz-box;
  -moz-box-orient: horizontal;
  -moz-box-align: stretch;
  display: box;
  box-orient: horizontal;
  box-align: stretch;
  /* Modern browsers */
  display: flex;
  flex-direction: row;
  align-items: stretch;
}
@media (max-width: 540px) {
  div.input {
    /* Old browsers */
    display: -webkit-box;
    -webkit-box-orient: vertical;
    -webkit-box-align: stretch;
    display: -moz-box;
    -moz-box-orient: vertical;
    -moz-box-align: stretch;
    display: box;
    box-orient: vertical;
    box-align: stretch;
    /* Modern browsers */
    display: flex;
    flex-direction: column;
    align-items: stretch;
  }
}
/* input_area and input_prompt must match in top border and margin for alignment */
div.input_prompt {
  color: #303F9F;
  border-top: 1px solid transparent;
}
div.input_area > div.highlight {
  margin: 0.4em;
  border: none;
  padding: 0px;
  background-color: transparent;
}
div.input_area > div.highlight > pre {
  margin: 0px;
  border: none;
  padding: 0px;
  background-color: transparent;
}
/* The following gets added to the <head> if it is detected that the user has a
 * monospace font with inconsistent normal/bold/italic height.  See
 * notebookmain.js.  Such fonts will have keywords vertically offset with
 * respect to the rest of the text.  The user should select a better font.
 * See: https://github.com/ipython/ipython/issues/1503
 *
 * .CodeMirror span {
 *      vertical-align: bottom;
 * }
 */
.CodeMirror {
  line-height: 1.21429em;
  /* Changed from 1em to our global default */
  font-size: 14px;
  height: auto;
  /* Changed to auto to autogrow */
  background: none;
  /* Changed from white to allow our bg to show through */
}
.CodeMirror-scroll {
  /*  The CodeMirror docs are a bit fuzzy on if overflow-y should be hidden or visible.*/
  /*  We have found that if it is visible, vertical scrollbars appear with font size changes.*/
  overflow-y: hidden;
  overflow-x: auto;
}
.CodeMirror-lines {
  /* In CM2, this used to be 0.4em, but in CM3 it went to 4px. We need the em value because */
  /* we have set a different line-height and want this to scale with that. */
  padding: 0.4em;
}
.CodeMirror-linenumber {
  padding: 0 8px 0 4px;
}
.CodeMirror-gutters {
  border-bottom-left-radius: 2px;
  border-top-left-radius: 2px;
}
.CodeMirror pre {
  /* In CM3 this went to 4px from 0 in CM2. We need the 0 value because of how we size */
  /* .CodeMirror-lines */
  padding: 0;
  border: 0;
  border-radius: 0;
}
/*

Original style from softwaremaniacs.org (c) Ivan Sagalaev <Maniac@SoftwareManiacs.Org>
Adapted from GitHub theme

*/
.highlight-base {
  color: #000;
}
.highlight-variable {
  color: #000;
}
.highlight-variable-2 {
  color: #1a1a1a;
}
.highlight-variable-3 {
  color: #333333;
}
.highlight-string {
  color: #BA2121;
}
.highlight-comment {
  color: #408080;
  font-style: italic;
}
.highlight-number {
  color: #080;
}
.highlight-atom {
  color: #88F;
}
.highlight-keyword {
  color: #008000;
  font-weight: bold;
}
.highlight-builtin {
  color: #008000;
}
.highlight-error {
  color: #f00;
}
.highlight-operator {
  color: #AA22FF;
  font-weight: bold;
}
.highlight-meta {
  color: #AA22FF;
}
/* previously not defined, copying from default codemirror */
.highlight-def {
  color: #00f;
}
.highlight-string-2 {
  color: #f50;
}
.highlight-qualifier {
  color: #555;
}
.highlight-bracket {
  color: #997;
}
.highlight-tag {
  color: #170;
}
.highlight-attribute {
  color: #00c;
}
.highlight-header {
  color: blue;
}
.highlight-quote {
  color: #090;
}
.highlight-link {
  color: #00c;
}
/* apply the same style to codemirror */
.cm-s-ipython span.cm-keyword {
  color: #008000;
  font-weight: bold;
}
.cm-s-ipython span.cm-atom {
  color: #88F;
}
.cm-s-ipython span.cm-number {
  color: #080;
}
.cm-s-ipython span.cm-def {
  color: #00f;
}
.cm-s-ipython span.cm-variable {
  color: #000;
}
.cm-s-ipython span.cm-operator {
  color: #AA22FF;
  font-weight: bold;
}
.cm-s-ipython span.cm-variable-2 {
  color: #1a1a1a;
}
.cm-s-ipython span.cm-variable-3 {
  color: #333333;
}
.cm-s-ipython span.cm-comment {
  color: #408080;
  font-style: italic;
}
.cm-s-ipython span.cm-string {
  color: #BA2121;
}
.cm-s-ipython span.cm-string-2 {
  color: #f50;
}
.cm-s-ipython span.cm-meta {
  color: #AA22FF;
}
.cm-s-ipython span.cm-qualifier {
  color: #555;
}
.cm-s-ipython span.cm-builtin {
  color: #008000;
}
.cm-s-ipython span.cm-bracket {
  color: #997;
}
.cm-s-ipython span.cm-tag {
  color: #170;
}
.cm-s-ipython span.cm-attribute {
  color: #00c;
}
.cm-s-ipython span.cm-header {
  color: blue;
}
.cm-s-ipython span.cm-quote {
  color: #090;
}
.cm-s-ipython span.cm-link {
  color: #00c;
}
.cm-s-ipython span.cm-error {
  color: #f00;
}
.cm-s-ipython span.cm-tab {
  background: url(data:image/png;base64,iVBORw0KGgoAAAANSUhEUgAAADAAAAAMCAYAAAAkuj5RAAAAAXNSR0IArs4c6QAAAGFJREFUSMft1LsRQFAQheHPowAKoACx3IgEKtaEHujDjORSgWTH/ZOdnZOcM/sgk/kFFWY0qV8foQwS4MKBCS3qR6ixBJvElOobYAtivseIE120FaowJPN75GMu8j/LfMwNjh4HUpwg4LUAAAAASUVORK5CYII=);
  background-position: right;
  background-repeat: no-repeat;
}
div.output_wrapper {
  /* this position must be relative to enable descendents to be absolute within it */
  position: relative;
  /* Old browsers */
  display: -webkit-box;
  -webkit-box-orient: vertical;
  -webkit-box-align: stretch;
  display: -moz-box;
  -moz-box-orient: vertical;
  -moz-box-align: stretch;
  display: box;
  box-orient: vertical;
  box-align: stretch;
  /* Modern browsers */
  display: flex;
  flex-direction: column;
  align-items: stretch;
  z-index: 1;
}
/* class for the output area when it should be height-limited */
div.output_scroll {
  /* ideally, this would be max-height, but FF barfs all over that */
  height: 24em;
  /* FF needs this *and the wrapper* to specify full width, or it will shrinkwrap */
  width: 100%;
  overflow: auto;
  border-radius: 2px;
  -webkit-box-shadow: inset 0 2px 8px rgba(0, 0, 0, 0.8);
  box-shadow: inset 0 2px 8px rgba(0, 0, 0, 0.8);
  display: block;
}
/* output div while it is collapsed */
div.output_collapsed {
  margin: 0px;
  padding: 0px;
  /* Old browsers */
  display: -webkit-box;
  -webkit-box-orient: vertical;
  -webkit-box-align: stretch;
  display: -moz-box;
  -moz-box-orient: vertical;
  -moz-box-align: stretch;
  display: box;
  box-orient: vertical;
  box-align: stretch;
  /* Modern browsers */
  display: flex;
  flex-direction: column;
  align-items: stretch;
}
div.out_prompt_overlay {
  height: 100%;
  padding: 0px 0.4em;
  position: absolute;
  border-radius: 2px;
}
div.out_prompt_overlay:hover {
  /* use inner shadow to get border that is computed the same on WebKit/FF */
  -webkit-box-shadow: inset 0 0 1px #000;
  box-shadow: inset 0 0 1px #000;
  background: rgba(240, 240, 240, 0.5);
}
div.output_prompt {
  color: #D84315;
}
/* This class is the outer container of all output sections. */
div.output_area {
  padding: 0px;
  page-break-inside: avoid;
  /* Old browsers */
  display: -webkit-box;
  -webkit-box-orient: horizontal;
  -webkit-box-align: stretch;
  display: -moz-box;
  -moz-box-orient: horizontal;
  -moz-box-align: stretch;
  display: box;
  box-orient: horizontal;
  box-align: stretch;
  /* Modern browsers */
  display: flex;
  flex-direction: row;
  align-items: stretch;
}
div.output_area .MathJax_Display {
  text-align: left !important;
}
div.output_area .rendered_html table {
  margin-left: 0;
  margin-right: 0;
}
div.output_area .rendered_html img {
  margin-left: 0;
  margin-right: 0;
}
div.output_area img,
div.output_area svg {
  max-width: 100%;
  height: auto;
}
div.output_area img.unconfined,
div.output_area svg.unconfined {
  max-width: none;
}
/* This is needed to protect the pre formating from global settings such
   as that of bootstrap */
.output {
  /* Old browsers */
  display: -webkit-box;
  -webkit-box-orient: vertical;
  -webkit-box-align: stretch;
  display: -moz-box;
  -moz-box-orient: vertical;
  -moz-box-align: stretch;
  display: box;
  box-orient: vertical;
  box-align: stretch;
  /* Modern browsers */
  display: flex;
  flex-direction: column;
  align-items: stretch;
}
@media (max-width: 540px) {
  div.output_area {
    /* Old browsers */
    display: -webkit-box;
    -webkit-box-orient: vertical;
    -webkit-box-align: stretch;
    display: -moz-box;
    -moz-box-orient: vertical;
    -moz-box-align: stretch;
    display: box;
    box-orient: vertical;
    box-align: stretch;
    /* Modern browsers */
    display: flex;
    flex-direction: column;
    align-items: stretch;
  }
}
div.output_area pre {
  margin: 0;
  padding: 0;
  border: 0;
  vertical-align: baseline;
  color: black;
  background-color: transparent;
  border-radius: 0;
}
/* This class is for the output subarea inside the output_area and after
   the prompt div. */
div.output_subarea {
  overflow-x: auto;
  padding: 0.4em;
  /* Old browsers */
  -webkit-box-flex: 1;
  -moz-box-flex: 1;
  box-flex: 1;
  /* Modern browsers */
  flex: 1;
  max-width: calc(100% - 14ex);
}
div.output_scroll div.output_subarea {
  overflow-x: visible;
}
/* The rest of the output_* classes are for special styling of the different
   output types */
/* all text output has this class: */
div.output_text {
  text-align: left;
  color: #000;
  /* This has to match that of the the CodeMirror class line-height below */
  line-height: 1.21429em;
}
/* stdout/stderr are 'text' as well as 'stream', but execute_result/error are *not* streams */
div.output_stderr {
  background: #fdd;
  /* very light red background for stderr */
}
div.output_latex {
  text-align: left;
}
/* Empty output_javascript divs should have no height */
div.output_javascript:empty {
  padding: 0;
}
.js-error {
  color: darkred;
}
/* raw_input styles */
div.raw_input_container {
  line-height: 1.21429em;
  padding-top: 5px;
}
pre.raw_input_prompt {
  /* nothing needed here. */
}
input.raw_input {
  font-family: monospace;
  font-size: inherit;
  color: inherit;
  width: auto;
  /* make sure input baseline aligns with prompt */
  vertical-align: baseline;
  /* padding + margin = 0.5em between prompt and cursor */
  padding: 0em 0.25em;
  margin: 0em 0.25em;
}
input.raw_input:focus {
  box-shadow: none;
}
p.p-space {
  margin-bottom: 10px;
}
div.output_unrecognized {
  padding: 5px;
  font-weight: bold;
  color: red;
}
div.output_unrecognized a {
  color: inherit;
  text-decoration: none;
}
div.output_unrecognized a:hover {
  color: inherit;
  text-decoration: none;
}
.rendered_html {
  color: #000;
  /* any extras will just be numbers: */
}
.rendered_html em {
  font-style: italic;
}
.rendered_html strong {
  font-weight: bold;
}
.rendered_html u {
  text-decoration: underline;
}
.rendered_html :link {
  text-decoration: underline;
}
.rendered_html :visited {
  text-decoration: underline;
}
.rendered_html h1 {
  font-size: 185.7%;
  margin: 1.08em 0 0 0;
  font-weight: bold;
  line-height: 1.0;
}
.rendered_html h2 {
  font-size: 157.1%;
  margin: 1.27em 0 0 0;
  font-weight: bold;
  line-height: 1.0;
}
.rendered_html h3 {
  font-size: 128.6%;
  margin: 1.55em 0 0 0;
  font-weight: bold;
  line-height: 1.0;
}
.rendered_html h4 {
  font-size: 100%;
  margin: 2em 0 0 0;
  font-weight: bold;
  line-height: 1.0;
}
.rendered_html h5 {
  font-size: 100%;
  margin: 2em 0 0 0;
  font-weight: bold;
  line-height: 1.0;
  font-style: italic;
}
.rendered_html h6 {
  font-size: 100%;
  margin: 2em 0 0 0;
  font-weight: bold;
  line-height: 1.0;
  font-style: italic;
}
.rendered_html h1:first-child {
  margin-top: 0.538em;
}
.rendered_html h2:first-child {
  margin-top: 0.636em;
}
.rendered_html h3:first-child {
  margin-top: 0.777em;
}
.rendered_html h4:first-child {
  margin-top: 1em;
}
.rendered_html h5:first-child {
  margin-top: 1em;
}
.rendered_html h6:first-child {
  margin-top: 1em;
}
.rendered_html ul {
  list-style: disc;
  margin: 0em 2em;
  padding-left: 0px;
}
.rendered_html ul ul {
  list-style: square;
  margin: 0em 2em;
}
.rendered_html ul ul ul {
  list-style: circle;
  margin: 0em 2em;
}
.rendered_html ol {
  list-style: decimal;
  margin: 0em 2em;
  padding-left: 0px;
}
.rendered_html ol ol {
  list-style: upper-alpha;
  margin: 0em 2em;
}
.rendered_html ol ol ol {
  list-style: lower-alpha;
  margin: 0em 2em;
}
.rendered_html ol ol ol ol {
  list-style: lower-roman;
  margin: 0em 2em;
}
.rendered_html ol ol ol ol ol {
  list-style: decimal;
  margin: 0em 2em;
}
.rendered_html * + ul {
  margin-top: 1em;
}
.rendered_html * + ol {
  margin-top: 1em;
}
.rendered_html hr {
  color: black;
  background-color: black;
}
.rendered_html pre {
  margin: 1em 2em;
}
.rendered_html pre,
.rendered_html code {
  border: 0;
  background-color: #fff;
  color: #000;
  font-size: 100%;
  padding: 0px;
}
.rendered_html blockquote {
  margin: 1em 2em;
}
.rendered_html table {
  margin-left: auto;
  margin-right: auto;
  border: 1px solid black;
  border-collapse: collapse;
}
.rendered_html tr,
.rendered_html th,
.rendered_html td {
  border: 1px solid black;
  border-collapse: collapse;
  margin: 1em 2em;
}
.rendered_html td,
.rendered_html th {
  text-align: left;
  vertical-align: middle;
  padding: 4px;
}
.rendered_html th {
  font-weight: bold;
}
.rendered_html * + table {
  margin-top: 1em;
}
.rendered_html p {
  text-align: left;
}
.rendered_html * + p {
  margin-top: 1em;
}
.rendered_html img {
  display: block;
  margin-left: auto;
  margin-right: auto;
}
.rendered_html * + img {
  margin-top: 1em;
}
.rendered_html img,
.rendered_html svg {
  max-width: 100%;
  height: auto;
}
.rendered_html img.unconfined,
.rendered_html svg.unconfined {
  max-width: none;
}
div.text_cell {
  /* Old browsers */
  display: -webkit-box;
  -webkit-box-orient: horizontal;
  -webkit-box-align: stretch;
  display: -moz-box;
  -moz-box-orient: horizontal;
  -moz-box-align: stretch;
  display: box;
  box-orient: horizontal;
  box-align: stretch;
  /* Modern browsers */
  display: flex;
  flex-direction: row;
  align-items: stretch;
}
@media (max-width: 540px) {
  div.text_cell > div.prompt {
    display: none;
  }
}
div.text_cell_render {
  /*font-family: "Helvetica Neue", Arial, Helvetica, Geneva, sans-serif;*/
  outline: none;
  resize: none;
  width: inherit;
  border-style: none;
  padding: 0.5em 0.5em 0.5em 0.4em;
  color: #000;
  box-sizing: border-box;
  -moz-box-sizing: border-box;
  -webkit-box-sizing: border-box;
}
a.anchor-link:link {
  text-decoration: none;
  padding: 0px 20px;
  visibility: hidden;
}
h1:hover .anchor-link,
h2:hover .anchor-link,
h3:hover .anchor-link,
h4:hover .anchor-link,
h5:hover .anchor-link,
h6:hover .anchor-link {
  visibility: visible;
}
.text_cell.rendered .input_area {
  display: none;
}
.text_cell.rendered .rendered_html {
  overflow-x: auto;
  overflow-y: hidden;
}
.text_cell.unrendered .text_cell_render {
  display: none;
}
.cm-header-1,
.cm-header-2,
.cm-header-3,
.cm-header-4,
.cm-header-5,
.cm-header-6 {
  font-weight: bold;
  font-family: "Helvetica Neue", Helvetica, Arial, sans-serif;
}
.cm-header-1 {
  font-size: 185.7%;
}
.cm-header-2 {
  font-size: 157.1%;
}
.cm-header-3 {
  font-size: 128.6%;
}
.cm-header-4 {
  font-size: 110%;
}
.cm-header-5 {
  font-size: 100%;
  font-style: italic;
}
.cm-header-6 {
  font-size: 100%;
  font-style: italic;
}
/*!
*
* IPython notebook webapp
*
*/
@media (max-width: 767px) {
  .notebook_app {
    padding-left: 0px;
    padding-right: 0px;
  }
}
#ipython-main-app {
  box-sizing: border-box;
  -moz-box-sizing: border-box;
  -webkit-box-sizing: border-box;
  height: 100%;
}
div#notebook_panel {
  margin: 0px;
  padding: 0px;
  box-sizing: border-box;
  -moz-box-sizing: border-box;
  -webkit-box-sizing: border-box;
  height: 100%;
}
div#notebook {
  font-size: 14px;
  line-height: 20px;
  overflow-y: hidden;
  overflow-x: auto;
  width: 100%;
  /* This spaces the page away from the edge of the notebook area */
  padding-top: 20px;
  margin: 0px;
  outline: none;
  box-sizing: border-box;
  -moz-box-sizing: border-box;
  -webkit-box-sizing: border-box;
  min-height: 100%;
}
@media not print {
  #notebook-container {
    padding: 15px;
    background-color: #fff;
    min-height: 0;
    -webkit-box-shadow: 0px 0px 12px 1px rgba(87, 87, 87, 0.2);
    box-shadow: 0px 0px 12px 1px rgba(87, 87, 87, 0.2);
  }
}
@media print {
  #notebook-container {
    width: 100%;
  }
}
div.ui-widget-content {
  border: 1px solid #ababab;
  outline: none;
}
pre.dialog {
  background-color: #f7f7f7;
  border: 1px solid #ddd;
  border-radius: 2px;
  padding: 0.4em;
  padding-left: 2em;
}
p.dialog {
  padding: 0.2em;
}
/* Word-wrap output correctly.  This is the CSS3 spelling, though Firefox seems
   to not honor it correctly.  Webkit browsers (Chrome, rekonq, Safari) do.
 */
pre,
code,
kbd,
samp {
  white-space: pre-wrap;
}
#fonttest {
  font-family: monospace;
}
p {
  margin-bottom: 0;
}
.end_space {
  min-height: 100px;
  transition: height .2s ease;
}
.notebook_app > #header {
  -webkit-box-shadow: 0px 0px 12px 1px rgba(87, 87, 87, 0.2);
  box-shadow: 0px 0px 12px 1px rgba(87, 87, 87, 0.2);
}
@media not print {
  .notebook_app {
    background-color: #EEE;
  }
}
kbd {
  border-style: solid;
  border-width: 1px;
  box-shadow: none;
  margin: 2px;
  padding-left: 2px;
  padding-right: 2px;
  padding-top: 1px;
  padding-bottom: 1px;
}
/* CSS for the cell toolbar */
.celltoolbar {
  border: thin solid #CFCFCF;
  border-bottom: none;
  background: #EEE;
  border-radius: 2px 2px 0px 0px;
  width: 100%;
  height: 29px;
  padding-right: 4px;
  /* Old browsers */
  display: -webkit-box;
  -webkit-box-orient: horizontal;
  -webkit-box-align: stretch;
  display: -moz-box;
  -moz-box-orient: horizontal;
  -moz-box-align: stretch;
  display: box;
  box-orient: horizontal;
  box-align: stretch;
  /* Modern browsers */
  display: flex;
  flex-direction: row;
  align-items: stretch;
  /* Old browsers */
  -webkit-box-pack: end;
  -moz-box-pack: end;
  box-pack: end;
  /* Modern browsers */
  justify-content: flex-end;
  display: -webkit-flex;
}
@media print {
  .celltoolbar {
    display: none;
  }
}
.ctb_hideshow {
  display: none;
  vertical-align: bottom;
}
/* ctb_show is added to the ctb_hideshow div to show the cell toolbar.
   Cell toolbars are only shown when the ctb_global_show class is also set.
*/
.ctb_global_show .ctb_show.ctb_hideshow {
  display: block;
}
.ctb_global_show .ctb_show + .input_area,
.ctb_global_show .ctb_show + div.text_cell_input,
.ctb_global_show .ctb_show ~ div.text_cell_render {
  border-top-right-radius: 0px;
  border-top-left-radius: 0px;
}
.ctb_global_show .ctb_show ~ div.text_cell_render {
  border: 1px solid #cfcfcf;
}
.celltoolbar {
  font-size: 87%;
  padding-top: 3px;
}
.celltoolbar select {
  display: block;
  width: 100%;
  height: 32px;
  padding: 6px 12px;
  font-size: 13px;
  line-height: 1.42857143;
  color: #555555;
  background-color: #fff;
  background-image: none;
  border: 1px solid #ccc;
  border-radius: 2px;
  -webkit-box-shadow: inset 0 1px 1px rgba(0, 0, 0, 0.075);
  box-shadow: inset 0 1px 1px rgba(0, 0, 0, 0.075);
  -webkit-transition: border-color ease-in-out .15s, box-shadow ease-in-out .15s;
  -o-transition: border-color ease-in-out .15s, box-shadow ease-in-out .15s;
  transition: border-color ease-in-out .15s, box-shadow ease-in-out .15s;
  height: 30px;
  padding: 5px 10px;
  font-size: 12px;
  line-height: 1.5;
  border-radius: 1px;
  width: inherit;
  font-size: inherit;
  height: 22px;
  padding: 0px;
  display: inline-block;
}
.celltoolbar select:focus {
  border-color: #66afe9;
  outline: 0;
  -webkit-box-shadow: inset 0 1px 1px rgba(0,0,0,.075), 0 0 8px rgba(102, 175, 233, 0.6);
  box-shadow: inset 0 1px 1px rgba(0,0,0,.075), 0 0 8px rgba(102, 175, 233, 0.6);
}
.celltoolbar select::-moz-placeholder {
  color: #999;
  opacity: 1;
}
.celltoolbar select:-ms-input-placeholder {
  color: #999;
}
.celltoolbar select::-webkit-input-placeholder {
  color: #999;
}
.celltoolbar select::-ms-expand {
  border: 0;
  background-color: transparent;
}
.celltoolbar select[disabled],
.celltoolbar select[readonly],
fieldset[disabled] .celltoolbar select {
  background-color: #eeeeee;
  opacity: 1;
}
.celltoolbar select[disabled],
fieldset[disabled] .celltoolbar select {
  cursor: not-allowed;
}
textarea.celltoolbar select {
  height: auto;
}
select.celltoolbar select {
  height: 30px;
  line-height: 30px;
}
textarea.celltoolbar select,
select[multiple].celltoolbar select {
  height: auto;
}
.celltoolbar label {
  margin-left: 5px;
  margin-right: 5px;
}
.completions {
  position: absolute;
  z-index: 110;
  overflow: hidden;
  border: 1px solid #ababab;
  border-radius: 2px;
  -webkit-box-shadow: 0px 6px 10px -1px #adadad;
  box-shadow: 0px 6px 10px -1px #adadad;
  line-height: 1;
}
.completions select {
  background: white;
  outline: none;
  border: none;
  padding: 0px;
  margin: 0px;
  overflow: auto;
  font-family: monospace;
  font-size: 110%;
  color: #000;
  width: auto;
}
.completions select option.context {
  color: #286090;
}
#kernel_logo_widget {
  float: right !important;
  float: right;
}
#kernel_logo_widget .current_kernel_logo {
  display: none;
  margin-top: -1px;
  margin-bottom: -1px;
  width: 32px;
  height: 32px;
}
#menubar {
  box-sizing: border-box;
  -moz-box-sizing: border-box;
  -webkit-box-sizing: border-box;
  margin-top: 1px;
}
#menubar .navbar {
  border-top: 1px;
  border-radius: 0px 0px 2px 2px;
  margin-bottom: 0px;
}
#menubar .navbar-toggle {
  float: left;
  padding-top: 7px;
  padding-bottom: 7px;
  border: none;
}
#menubar .navbar-collapse {
  clear: left;
}
.nav-wrapper {
  border-bottom: 1px solid #e7e7e7;
}
i.menu-icon {
  padding-top: 4px;
}
ul#help_menu li a {
  overflow: hidden;
  padding-right: 2.2em;
}
ul#help_menu li a i {
  margin-right: -1.2em;
}
.dropdown-submenu {
  position: relative;
}
.dropdown-submenu > .dropdown-menu {
  top: 0;
  left: 100%;
  margin-top: -6px;
  margin-left: -1px;
}
.dropdown-submenu:hover > .dropdown-menu {
  display: block;
}
.dropdown-submenu > a:after {
  display: inline-block;
  font: normal normal normal 14px/1 FontAwesome;
  font-size: inherit;
  text-rendering: auto;
  -webkit-font-smoothing: antialiased;
  -moz-osx-font-smoothing: grayscale;
  display: block;
  content: "\f0da";
  float: right;
  color: #333333;
  margin-top: 2px;
  margin-right: -10px;
}
.dropdown-submenu > a:after.pull-left {
  margin-right: .3em;
}
.dropdown-submenu > a:after.pull-right {
  margin-left: .3em;
}
.dropdown-submenu:hover > a:after {
  color: #262626;
}
.dropdown-submenu.pull-left {
  float: none;
}
.dropdown-submenu.pull-left > .dropdown-menu {
  left: -100%;
  margin-left: 10px;
}
#notification_area {
  float: right !important;
  float: right;
  z-index: 10;
}
.indicator_area {
  float: right !important;
  float: right;
  color: #777;
  margin-left: 5px;
  margin-right: 5px;
  width: 11px;
  z-index: 10;
  text-align: center;
  width: auto;
}
#kernel_indicator {
  float: right !important;
  float: right;
  color: #777;
  margin-left: 5px;
  margin-right: 5px;
  width: 11px;
  z-index: 10;
  text-align: center;
  width: auto;
  border-left: 1px solid;
}
#kernel_indicator .kernel_indicator_name {
  padding-left: 5px;
  padding-right: 5px;
}
#modal_indicator {
  float: right !important;
  float: right;
  color: #777;
  margin-left: 5px;
  margin-right: 5px;
  width: 11px;
  z-index: 10;
  text-align: center;
  width: auto;
}
#readonly-indicator {
  float: right !important;
  float: right;
  color: #777;
  margin-left: 5px;
  margin-right: 5px;
  width: 11px;
  z-index: 10;
  text-align: center;
  width: auto;
  margin-top: 2px;
  margin-bottom: 0px;
  margin-left: 0px;
  margin-right: 0px;
  display: none;
}
.modal_indicator:before {
  width: 1.28571429em;
  text-align: center;
}
.edit_mode .modal_indicator:before {
  display: inline-block;
  font: normal normal normal 14px/1 FontAwesome;
  font-size: inherit;
  text-rendering: auto;
  -webkit-font-smoothing: antialiased;
  -moz-osx-font-smoothing: grayscale;
  content: "\f040";
}
.edit_mode .modal_indicator:before.pull-left {
  margin-right: .3em;
}
.edit_mode .modal_indicator:before.pull-right {
  margin-left: .3em;
}
.command_mode .modal_indicator:before {
  display: inline-block;
  font: normal normal normal 14px/1 FontAwesome;
  font-size: inherit;
  text-rendering: auto;
  -webkit-font-smoothing: antialiased;
  -moz-osx-font-smoothing: grayscale;
  content: ' ';
}
.command_mode .modal_indicator:before.pull-left {
  margin-right: .3em;
}
.command_mode .modal_indicator:before.pull-right {
  margin-left: .3em;
}
.kernel_idle_icon:before {
  display: inline-block;
  font: normal normal normal 14px/1 FontAwesome;
  font-size: inherit;
  text-rendering: auto;
  -webkit-font-smoothing: antialiased;
  -moz-osx-font-smoothing: grayscale;
  content: "\f10c";
}
.kernel_idle_icon:before.pull-left {
  margin-right: .3em;
}
.kernel_idle_icon:before.pull-right {
  margin-left: .3em;
}
.kernel_busy_icon:before {
  display: inline-block;
  font: normal normal normal 14px/1 FontAwesome;
  font-size: inherit;
  text-rendering: auto;
  -webkit-font-smoothing: antialiased;
  -moz-osx-font-smoothing: grayscale;
  content: "\f111";
}
.kernel_busy_icon:before.pull-left {
  margin-right: .3em;
}
.kernel_busy_icon:before.pull-right {
  margin-left: .3em;
}
.kernel_dead_icon:before {
  display: inline-block;
  font: normal normal normal 14px/1 FontAwesome;
  font-size: inherit;
  text-rendering: auto;
  -webkit-font-smoothing: antialiased;
  -moz-osx-font-smoothing: grayscale;
  content: "\f1e2";
}
.kernel_dead_icon:before.pull-left {
  margin-right: .3em;
}
.kernel_dead_icon:before.pull-right {
  margin-left: .3em;
}
.kernel_disconnected_icon:before {
  display: inline-block;
  font: normal normal normal 14px/1 FontAwesome;
  font-size: inherit;
  text-rendering: auto;
  -webkit-font-smoothing: antialiased;
  -moz-osx-font-smoothing: grayscale;
  content: "\f127";
}
.kernel_disconnected_icon:before.pull-left {
  margin-right: .3em;
}
.kernel_disconnected_icon:before.pull-right {
  margin-left: .3em;
}
.notification_widget {
  color: #777;
  z-index: 10;
  background: rgba(240, 240, 240, 0.5);
  margin-right: 4px;
  color: #333;
  background-color: #fff;
  border-color: #ccc;
}
.notification_widget:focus,
.notification_widget.focus {
  color: #333;
  background-color: #e6e6e6;
  border-color: #8c8c8c;
}
.notification_widget:hover {
  color: #333;
  background-color: #e6e6e6;
  border-color: #adadad;
}
.notification_widget:active,
.notification_widget.active,
.open > .dropdown-toggle.notification_widget {
  color: #333;
  background-color: #e6e6e6;
  border-color: #adadad;
}
.notification_widget:active:hover,
.notification_widget.active:hover,
.open > .dropdown-toggle.notification_widget:hover,
.notification_widget:active:focus,
.notification_widget.active:focus,
.open > .dropdown-toggle.notification_widget:focus,
.notification_widget:active.focus,
.notification_widget.active.focus,
.open > .dropdown-toggle.notification_widget.focus {
  color: #333;
  background-color: #d4d4d4;
  border-color: #8c8c8c;
}
.notification_widget:active,
.notification_widget.active,
.open > .dropdown-toggle.notification_widget {
  background-image: none;
}
.notification_widget.disabled:hover,
.notification_widget[disabled]:hover,
fieldset[disabled] .notification_widget:hover,
.notification_widget.disabled:focus,
.notification_widget[disabled]:focus,
fieldset[disabled] .notification_widget:focus,
.notification_widget.disabled.focus,
.notification_widget[disabled].focus,
fieldset[disabled] .notification_widget.focus {
  background-color: #fff;
  border-color: #ccc;
}
.notification_widget .badge {
  color: #fff;
  background-color: #333;
}
.notification_widget.warning {
  color: #fff;
  background-color: #f0ad4e;
  border-color: #eea236;
}
.notification_widget.warning:focus,
.notification_widget.warning.focus {
  color: #fff;
  background-color: #ec971f;
  border-color: #985f0d;
}
.notification_widget.warning:hover {
  color: #fff;
  background-color: #ec971f;
  border-color: #d58512;
}
.notification_widget.warning:active,
.notification_widget.warning.active,
.open > .dropdown-toggle.notification_widget.warning {
  color: #fff;
  background-color: #ec971f;
  border-color: #d58512;
}
.notification_widget.warning:active:hover,
.notification_widget.warning.active:hover,
.open > .dropdown-toggle.notification_widget.warning:hover,
.notification_widget.warning:active:focus,
.notification_widget.warning.active:focus,
.open > .dropdown-toggle.notification_widget.warning:focus,
.notification_widget.warning:active.focus,
.notification_widget.warning.active.focus,
.open > .dropdown-toggle.notification_widget.warning.focus {
  color: #fff;
  background-color: #d58512;
  border-color: #985f0d;
}
.notification_widget.warning:active,
.notification_widget.warning.active,
.open > .dropdown-toggle.notification_widget.warning {
  background-image: none;
}
.notification_widget.warning.disabled:hover,
.notification_widget.warning[disabled]:hover,
fieldset[disabled] .notification_widget.warning:hover,
.notification_widget.warning.disabled:focus,
.notification_widget.warning[disabled]:focus,
fieldset[disabled] .notification_widget.warning:focus,
.notification_widget.warning.disabled.focus,
.notification_widget.warning[disabled].focus,
fieldset[disabled] .notification_widget.warning.focus {
  background-color: #f0ad4e;
  border-color: #eea236;
}
.notification_widget.warning .badge {
  color: #f0ad4e;
  background-color: #fff;
}
.notification_widget.success {
  color: #fff;
  background-color: #5cb85c;
  border-color: #4cae4c;
}
.notification_widget.success:focus,
.notification_widget.success.focus {
  color: #fff;
  background-color: #449d44;
  border-color: #255625;
}
.notification_widget.success:hover {
  color: #fff;
  background-color: #449d44;
  border-color: #398439;
}
.notification_widget.success:active,
.notification_widget.success.active,
.open > .dropdown-toggle.notification_widget.success {
  color: #fff;
  background-color: #449d44;
  border-color: #398439;
}
.notification_widget.success:active:hover,
.notification_widget.success.active:hover,
.open > .dropdown-toggle.notification_widget.success:hover,
.notification_widget.success:active:focus,
.notification_widget.success.active:focus,
.open > .dropdown-toggle.notification_widget.success:focus,
.notification_widget.success:active.focus,
.notification_widget.success.active.focus,
.open > .dropdown-toggle.notification_widget.success.focus {
  color: #fff;
  background-color: #398439;
  border-color: #255625;
}
.notification_widget.success:active,
.notification_widget.success.active,
.open > .dropdown-toggle.notification_widget.success {
  background-image: none;
}
.notification_widget.success.disabled:hover,
.notification_widget.success[disabled]:hover,
fieldset[disabled] .notification_widget.success:hover,
.notification_widget.success.disabled:focus,
.notification_widget.success[disabled]:focus,
fieldset[disabled] .notification_widget.success:focus,
.notification_widget.success.disabled.focus,
.notification_widget.success[disabled].focus,
fieldset[disabled] .notification_widget.success.focus {
  background-color: #5cb85c;
  border-color: #4cae4c;
}
.notification_widget.success .badge {
  color: #5cb85c;
  background-color: #fff;
}
.notification_widget.info {
  color: #fff;
  background-color: #5bc0de;
  border-color: #46b8da;
}
.notification_widget.info:focus,
.notification_widget.info.focus {
  color: #fff;
  background-color: #31b0d5;
  border-color: #1b6d85;
}
.notification_widget.info:hover {
  color: #fff;
  background-color: #31b0d5;
  border-color: #269abc;
}
.notification_widget.info:active,
.notification_widget.info.active,
.open > .dropdown-toggle.notification_widget.info {
  color: #fff;
  background-color: #31b0d5;
  border-color: #269abc;
}
.notification_widget.info:active:hover,
.notification_widget.info.active:hover,
.open > .dropdown-toggle.notification_widget.info:hover,
.notification_widget.info:active:focus,
.notification_widget.info.active:focus,
.open > .dropdown-toggle.notification_widget.info:focus,
.notification_widget.info:active.focus,
.notification_widget.info.active.focus,
.open > .dropdown-toggle.notification_widget.info.focus {
  color: #fff;
  background-color: #269abc;
  border-color: #1b6d85;
}
.notification_widget.info:active,
.notification_widget.info.active,
.open > .dropdown-toggle.notification_widget.info {
  background-image: none;
}
.notification_widget.info.disabled:hover,
.notification_widget.info[disabled]:hover,
fieldset[disabled] .notification_widget.info:hover,
.notification_widget.info.disabled:focus,
.notification_widget.info[disabled]:focus,
fieldset[disabled] .notification_widget.info:focus,
.notification_widget.info.disabled.focus,
.notification_widget.info[disabled].focus,
fieldset[disabled] .notification_widget.info.focus {
  background-color: #5bc0de;
  border-color: #46b8da;
}
.notification_widget.info .badge {
  color: #5bc0de;
  background-color: #fff;
}
.notification_widget.danger {
  color: #fff;
  background-color: #d9534f;
  border-color: #d43f3a;
}
.notification_widget.danger:focus,
.notification_widget.danger.focus {
  color: #fff;
  background-color: #c9302c;
  border-color: #761c19;
}
.notification_widget.danger:hover {
  color: #fff;
  background-color: #c9302c;
  border-color: #ac2925;
}
.notification_widget.danger:active,
.notification_widget.danger.active,
.open > .dropdown-toggle.notification_widget.danger {
  color: #fff;
  background-color: #c9302c;
  border-color: #ac2925;
}
.notification_widget.danger:active:hover,
.notification_widget.danger.active:hover,
.open > .dropdown-toggle.notification_widget.danger:hover,
.notification_widget.danger:active:focus,
.notification_widget.danger.active:focus,
.open > .dropdown-toggle.notification_widget.danger:focus,
.notification_widget.danger:active.focus,
.notification_widget.danger.active.focus,
.open > .dropdown-toggle.notification_widget.danger.focus {
  color: #fff;
  background-color: #ac2925;
  border-color: #761c19;
}
.notification_widget.danger:active,
.notification_widget.danger.active,
.open > .dropdown-toggle.notification_widget.danger {
  background-image: none;
}
.notification_widget.danger.disabled:hover,
.notification_widget.danger[disabled]:hover,
fieldset[disabled] .notification_widget.danger:hover,
.notification_widget.danger.disabled:focus,
.notification_widget.danger[disabled]:focus,
fieldset[disabled] .notification_widget.danger:focus,
.notification_widget.danger.disabled.focus,
.notification_widget.danger[disabled].focus,
fieldset[disabled] .notification_widget.danger.focus {
  background-color: #d9534f;
  border-color: #d43f3a;
}
.notification_widget.danger .badge {
  color: #d9534f;
  background-color: #fff;
}
div#pager {
  background-color: #fff;
  font-size: 14px;
  line-height: 20px;
  overflow: hidden;
  display: none;
  position: fixed;
  bottom: 0px;
  width: 100%;
  max-height: 50%;
  padding-top: 8px;
  -webkit-box-shadow: 0px 0px 12px 1px rgba(87, 87, 87, 0.2);
  box-shadow: 0px 0px 12px 1px rgba(87, 87, 87, 0.2);
  /* Display over codemirror */
  z-index: 100;
  /* Hack which prevents jquery ui resizable from changing top. */
  top: auto !important;
}
div#pager pre {
  line-height: 1.21429em;
  color: #000;
  background-color: #f7f7f7;
  padding: 0.4em;
}
div#pager #pager-button-area {
  position: absolute;
  top: 8px;
  right: 20px;
}
div#pager #pager-contents {
  position: relative;
  overflow: auto;
  width: 100%;
  height: 100%;
}
div#pager #pager-contents #pager-container {
  position: relative;
  padding: 15px 0px;
  box-sizing: border-box;
  -moz-box-sizing: border-box;
  -webkit-box-sizing: border-box;
}
div#pager .ui-resizable-handle {
  top: 0px;
  height: 8px;
  background: #f7f7f7;
  border-top: 1px solid #cfcfcf;
  border-bottom: 1px solid #cfcfcf;
  /* This injects handle bars (a short, wide = symbol) for 
        the resize handle. */
}
div#pager .ui-resizable-handle::after {
  content: '';
  top: 2px;
  left: 50%;
  height: 3px;
  width: 30px;
  margin-left: -15px;
  position: absolute;
  border-top: 1px solid #cfcfcf;
}
.quickhelp {
  /* Old browsers */
  display: -webkit-box;
  -webkit-box-orient: horizontal;
  -webkit-box-align: stretch;
  display: -moz-box;
  -moz-box-orient: horizontal;
  -moz-box-align: stretch;
  display: box;
  box-orient: horizontal;
  box-align: stretch;
  /* Modern browsers */
  display: flex;
  flex-direction: row;
  align-items: stretch;
  line-height: 1.8em;
}
.shortcut_key {
  display: inline-block;
  width: 20ex;
  text-align: right;
  font-family: monospace;
}
.shortcut_descr {
  display: inline-block;
  /* Old browsers */
  -webkit-box-flex: 1;
  -moz-box-flex: 1;
  box-flex: 1;
  /* Modern browsers */
  flex: 1;
}
span.save_widget {
  margin-top: 6px;
}
span.save_widget span.filename {
  height: 1em;
  line-height: 1em;
  padding: 3px;
  margin-left: 16px;
  border: none;
  font-size: 146.5%;
  border-radius: 2px;
}
span.save_widget span.filename:hover {
  background-color: #e6e6e6;
}
span.checkpoint_status,
span.autosave_status {
  font-size: small;
}
@media (max-width: 767px) {
  span.save_widget {
    font-size: small;
  }
  span.checkpoint_status,
  span.autosave_status {
    display: none;
  }
}
@media (min-width: 768px) and (max-width: 991px) {
  span.checkpoint_status {
    display: none;
  }
  span.autosave_status {
    font-size: x-small;
  }
}
.toolbar {
  padding: 0px;
  margin-left: -5px;
  margin-top: 2px;
  margin-bottom: 5px;
  box-sizing: border-box;
  -moz-box-sizing: border-box;
  -webkit-box-sizing: border-box;
}
.toolbar select,
.toolbar label {
  width: auto;
  vertical-align: middle;
  margin-right: 2px;
  margin-bottom: 0px;
  display: inline;
  font-size: 92%;
  margin-left: 0.3em;
  margin-right: 0.3em;
  padding: 0px;
  padding-top: 3px;
}
.toolbar .btn {
  padding: 2px 8px;
}
.toolbar .btn-group {
  margin-top: 0px;
  margin-left: 5px;
}
#maintoolbar {
  margin-bottom: -3px;
  margin-top: -8px;
  border: 0px;
  min-height: 27px;
  margin-left: 0px;
  padding-top: 11px;
  padding-bottom: 3px;
}
#maintoolbar .navbar-text {
  float: none;
  vertical-align: middle;
  text-align: right;
  margin-left: 5px;
  margin-right: 0px;
  margin-top: 0px;
}
.select-xs {
  height: 24px;
}
.pulse,
.dropdown-menu > li > a.pulse,
li.pulse > a.dropdown-toggle,
li.pulse.open > a.dropdown-toggle {
  background-color: #F37626;
  color: white;
}
/**
 * Primary styles
 *
 * Author: Jupyter Development Team
 */
/** WARNING IF YOU ARE EDITTING THIS FILE, if this is a .css file, It has a lot
 * of chance of beeing generated from the ../less/[samename].less file, you can
 * try to get back the less file by reverting somme commit in history
 **/
/*
 * We'll try to get something pretty, so we
 * have some strange css to have the scroll bar on
 * the left with fix button on the top right of the tooltip
 */
@-moz-keyframes fadeOut {
  from {
    opacity: 1;
  }
  to {
    opacity: 0;
  }
}
@-webkit-keyframes fadeOut {
  from {
    opacity: 1;
  }
  to {
    opacity: 0;
  }
}
@-moz-keyframes fadeIn {
  from {
    opacity: 0;
  }
  to {
    opacity: 1;
  }
}
@-webkit-keyframes fadeIn {
  from {
    opacity: 0;
  }
  to {
    opacity: 1;
  }
}
/*properties of tooltip after "expand"*/
.bigtooltip {
  overflow: auto;
  height: 200px;
  -webkit-transition-property: height;
  -webkit-transition-duration: 500ms;
  -moz-transition-property: height;
  -moz-transition-duration: 500ms;
  transition-property: height;
  transition-duration: 500ms;
}
/*properties of tooltip before "expand"*/
.smalltooltip {
  -webkit-transition-property: height;
  -webkit-transition-duration: 500ms;
  -moz-transition-property: height;
  -moz-transition-duration: 500ms;
  transition-property: height;
  transition-duration: 500ms;
  text-overflow: ellipsis;
  overflow: hidden;
  height: 80px;
}
.tooltipbuttons {
  position: absolute;
  padding-right: 15px;
  top: 0px;
  right: 0px;
}
.tooltiptext {
  /*avoid the button to overlap on some docstring*/
  padding-right: 30px;
}
.ipython_tooltip {
  max-width: 700px;
  /*fade-in animation when inserted*/
  -webkit-animation: fadeOut 400ms;
  -moz-animation: fadeOut 400ms;
  animation: fadeOut 400ms;
  -webkit-animation: fadeIn 400ms;
  -moz-animation: fadeIn 400ms;
  animation: fadeIn 400ms;
  vertical-align: middle;
  background-color: #f7f7f7;
  overflow: visible;
  border: #ababab 1px solid;
  outline: none;
  padding: 3px;
  margin: 0px;
  padding-left: 7px;
  font-family: monospace;
  min-height: 50px;
  -moz-box-shadow: 0px 6px 10px -1px #adadad;
  -webkit-box-shadow: 0px 6px 10px -1px #adadad;
  box-shadow: 0px 6px 10px -1px #adadad;
  border-radius: 2px;
  position: absolute;
  z-index: 1000;
}
.ipython_tooltip a {
  float: right;
}
.ipython_tooltip .tooltiptext pre {
  border: 0;
  border-radius: 0;
  font-size: 100%;
  background-color: #f7f7f7;
}
.pretooltiparrow {
  left: 0px;
  margin: 0px;
  top: -16px;
  width: 40px;
  height: 16px;
  overflow: hidden;
  position: absolute;
}
.pretooltiparrow:before {
  background-color: #f7f7f7;
  border: 1px #ababab solid;
  z-index: 11;
  content: "";
  position: absolute;
  left: 15px;
  top: 10px;
  width: 25px;
  height: 25px;
  -webkit-transform: rotate(45deg);
  -moz-transform: rotate(45deg);
  -ms-transform: rotate(45deg);
  -o-transform: rotate(45deg);
}
ul.typeahead-list i {
  margin-left: -10px;
  width: 18px;
}
ul.typeahead-list {
  max-height: 80vh;
  overflow: auto;
}
ul.typeahead-list > li > a {
  /** Firefox bug **/
  /* see https://github.com/jupyter/notebook/issues/559 */
  white-space: normal;
}
.cmd-palette .modal-body {
  padding: 7px;
}
.cmd-palette form {
  background: white;
}
.cmd-palette input {
  outline: none;
}
.no-shortcut {
  display: none;
}
.command-shortcut:before {
  content: "(command)";
  padding-right: 3px;
  color: #777777;
}
.edit-shortcut:before {
  content: "(edit)";
  padding-right: 3px;
  color: #777777;
}
#find-and-replace #replace-preview .match,
#find-and-replace #replace-preview .insert {
  background-color: #BBDEFB;
  border-color: #90CAF9;
  border-style: solid;
  border-width: 1px;
  border-radius: 0px;
}
#find-and-replace #replace-preview .replace .match {
  background-color: #FFCDD2;
  border-color: #EF9A9A;
  border-radius: 0px;
}
#find-and-replace #replace-preview .replace .insert {
  background-color: #C8E6C9;
  border-color: #A5D6A7;
  border-radius: 0px;
}
#find-and-replace #replace-preview {
  max-height: 60vh;
  overflow: auto;
}
#find-and-replace #replace-preview pre {
  padding: 5px 10px;
}
.terminal-app {
  background: #EEE;
}
.terminal-app #header {
  background: #fff;
  -webkit-box-shadow: 0px 0px 12px 1px rgba(87, 87, 87, 0.2);
  box-shadow: 0px 0px 12px 1px rgba(87, 87, 87, 0.2);
}
.terminal-app .terminal {
  float: left;
  font-family: monospace;
  color: white;
  background: black;
  padding: 0.4em;
  border-radius: 2px;
  -webkit-box-shadow: 0px 0px 12px 1px rgba(87, 87, 87, 0.4);
  box-shadow: 0px 0px 12px 1px rgba(87, 87, 87, 0.4);
}
.terminal-app .terminal,
.terminal-app .terminal dummy-screen {
  line-height: 1em;
  font-size: 14px;
}
.terminal-app .terminal-cursor {
  color: black;
  background: white;
}
.terminal-app #terminado-container {
  margin-top: 20px;
}
/*# sourceMappingURL=style.min.css.map */
    </style>
<style type="text/css">
    .highlight .hll { background-color: #ffffcc }
.highlight  { background: #f8f8f8; }
.highlight .c { color: #408080; font-style: italic } /* Comment */
.highlight .err { border: 1px solid #FF0000 } /* Error */
.highlight .k { color: #008000; font-weight: bold } /* Keyword */
.highlight .o { color: #666666 } /* Operator */
.highlight .ch { color: #408080; font-style: italic } /* Comment.Hashbang */
.highlight .cm { color: #408080; font-style: italic } /* Comment.Multiline */
.highlight .cp { color: #BC7A00 } /* Comment.Preproc */
.highlight .cpf { color: #408080; font-style: italic } /* Comment.PreprocFile */
.highlight .c1 { color: #408080; font-style: italic } /* Comment.Single */
.highlight .cs { color: #408080; font-style: italic } /* Comment.Special */
.highlight .gd { color: #A00000 } /* Generic.Deleted */
.highlight .ge { font-style: italic } /* Generic.Emph */
.highlight .gr { color: #FF0000 } /* Generic.Error */
.highlight .gh { color: #000080; font-weight: bold } /* Generic.Heading */
.highlight .gi { color: #00A000 } /* Generic.Inserted */
.highlight .go { color: #888888 } /* Generic.Output */
.highlight .gp { color: #000080; font-weight: bold } /* Generic.Prompt */
.highlight .gs { font-weight: bold } /* Generic.Strong */
.highlight .gu { color: #800080; font-weight: bold } /* Generic.Subheading */
.highlight .gt { color: #0044DD } /* Generic.Traceback */
.highlight .kc { color: #008000; font-weight: bold } /* Keyword.Constant */
.highlight .kd { color: #008000; font-weight: bold } /* Keyword.Declaration */
.highlight .kn { color: #008000; font-weight: bold } /* Keyword.Namespace */
.highlight .kp { color: #008000 } /* Keyword.Pseudo */
.highlight .kr { color: #008000; font-weight: bold } /* Keyword.Reserved */
.highlight .kt { color: #B00040 } /* Keyword.Type */
.highlight .m { color: #666666 } /* Literal.Number */
.highlight .s { color: #BA2121 } /* Literal.String */
.highlight .na { color: #7D9029 } /* Name.Attribute */
.highlight .nb { color: #008000 } /* Name.Builtin */
.highlight .nc { color: #0000FF; font-weight: bold } /* Name.Class */
.highlight .no { color: #880000 } /* Name.Constant */
.highlight .nd { color: #AA22FF } /* Name.Decorator */
.highlight .ni { color: #999999; font-weight: bold } /* Name.Entity */
.highlight .ne { color: #D2413A; font-weight: bold } /* Name.Exception */
.highlight .nf { color: #0000FF } /* Name.Function */
.highlight .nl { color: #A0A000 } /* Name.Label */
.highlight .nn { color: #0000FF; font-weight: bold } /* Name.Namespace */
.highlight .nt { color: #008000; font-weight: bold } /* Name.Tag */
.highlight .nv { color: #19177C } /* Name.Variable */
.highlight .ow { color: #AA22FF; font-weight: bold } /* Operator.Word */
.highlight .w { color: #bbbbbb } /* Text.Whitespace */
.highlight .mb { color: #666666 } /* Literal.Number.Bin */
.highlight .mf { color: #666666 } /* Literal.Number.Float */
.highlight .mh { color: #666666 } /* Literal.Number.Hex */
.highlight .mi { color: #666666 } /* Literal.Number.Integer */
.highlight .mo { color: #666666 } /* Literal.Number.Oct */
.highlight .sb { color: #BA2121 } /* Literal.String.Backtick */
.highlight .sc { color: #BA2121 } /* Literal.String.Char */
.highlight .sd { color: #BA2121; font-style: italic } /* Literal.String.Doc */
.highlight .s2 { color: #BA2121 } /* Literal.String.Double */
.highlight .se { color: #BB6622; font-weight: bold } /* Literal.String.Escape */
.highlight .sh { color: #BA2121 } /* Literal.String.Heredoc */
.highlight .si { color: #BB6688; font-weight: bold } /* Literal.String.Interpol */
.highlight .sx { color: #008000 } /* Literal.String.Other */
.highlight .sr { color: #BB6688 } /* Literal.String.Regex */
.highlight .s1 { color: #BA2121 } /* Literal.String.Single */
.highlight .ss { color: #19177C } /* Literal.String.Symbol */
.highlight .bp { color: #008000 } /* Name.Builtin.Pseudo */
.highlight .vc { color: #19177C } /* Name.Variable.Class */
.highlight .vg { color: #19177C } /* Name.Variable.Global */
.highlight .vi { color: #19177C } /* Name.Variable.Instance */
.highlight .il { color: #666666 } /* Literal.Number.Integer.Long */
    </style>
<style type="text/css">
    
/* Temporary definitions which will become obsolete with Notebook release 5.0 */
.ansi-black-fg { color: #3E424D; }
.ansi-black-bg { background-color: #3E424D; }
.ansi-black-intense-fg { color: #282C36; }
.ansi-black-intense-bg { background-color: #282C36; }
.ansi-red-fg { color: #E75C58; }
.ansi-red-bg { background-color: #E75C58; }
.ansi-red-intense-fg { color: #B22B31; }
.ansi-red-intense-bg { background-color: #B22B31; }
.ansi-green-fg { color: #00A250; }
.ansi-green-bg { background-color: #00A250; }
.ansi-green-intense-fg { color: #007427; }
.ansi-green-intense-bg { background-color: #007427; }
.ansi-yellow-fg { color: #DDB62B; }
.ansi-yellow-bg { background-color: #DDB62B; }
.ansi-yellow-intense-fg { color: #B27D12; }
.ansi-yellow-intense-bg { background-color: #B27D12; }
.ansi-blue-fg { color: #208FFB; }
.ansi-blue-bg { background-color: #208FFB; }
.ansi-blue-intense-fg { color: #0065CA; }
.ansi-blue-intense-bg { background-color: #0065CA; }
.ansi-magenta-fg { color: #D160C4; }
.ansi-magenta-bg { background-color: #D160C4; }
.ansi-magenta-intense-fg { color: #A03196; }
.ansi-magenta-intense-bg { background-color: #A03196; }
.ansi-cyan-fg { color: #60C6C8; }
.ansi-cyan-bg { background-color: #60C6C8; }
.ansi-cyan-intense-fg { color: #258F8F; }
.ansi-cyan-intense-bg { background-color: #258F8F; }
.ansi-white-fg { color: #C5C1B4; }
.ansi-white-bg { background-color: #C5C1B4; }
.ansi-white-intense-fg { color: #A1A6B2; }
.ansi-white-intense-bg { background-color: #A1A6B2; }

.ansi-bold { font-weight: bold; }

    </style>
<style type="text/css">
    .highlight .hll {
  background-color: #ffffcc;
}
.highlight .c {
  color: #999988;
  font-style: italic;
}
/* Comment */
.highlight .err {
  color: #a61717;
  background-color: #e3d2d2;
}
/* Error */
.highlight .k {
  color: #000000;
  font-weight: bold;
}
/* Keyword */
.highlight .o {
  color: #000000;
  font-weight: bold;
}
/* Operator */
.highlight .cm {
  color: #999988;
  font-style: italic;
}
/* Comment.Multiline */
.highlight .cp {
  color: #999999;
  font-weight: bold;
  font-style: italic;
}
/* Comment.Preproc */
.highlight .c1 {
  color: #999988;
  font-style: italic;
}
/* Comment.Single */
.highlight .cs {
  color: #999999;
  font-weight: bold;
  font-style: italic;
}
/* Comment.Special */
.highlight .gd {
  color: #000000;
  background-color: #ffdddd;
}
/* Generic.Deleted */
.highlight .ge {
  color: #000000;
  font-style: italic;
}
/* Generic.Emph */
.highlight .gr {
  color: #aa0000;
}
/* Generic.Error */
.highlight .gh {
  color: #999999;
}
/* Generic.Heading */
.highlight .gi {
  color: #000000;
  background-color: #ddffdd;
}
/* Generic.Inserted */
.highlight .go {
  color: #888888;
}
/* Generic.Output */
.highlight .gp {
  color: #555555;
}
/* Generic.Prompt */
.highlight .gs {
  font-weight: bold;
}
/* Generic.Strong */
.highlight .gu {
  color: #aaaaaa;
}
/* Generic.Subheading */
.highlight .gt {
  color: #aa0000;
}
/* Generic.Traceback */
.highlight .kc {
  color: #000000;
  font-weight: bold;
}
/* Keyword.Constant */
.highlight .kd {
  color: #000000;
  font-weight: bold;
}
/* Keyword.Declaration */
.highlight .kn {
  color: #000000;
  font-weight: bold;
}
/* Keyword.Namespace */
.highlight .kp {
  color: #000000;
  font-weight: bold;
}
/* Keyword.Pseudo */
.highlight .kr {
  color: #000000;
  font-weight: bold;
}
/* Keyword.Reserved */
.highlight .kt {
  color: #445588;
  font-weight: bold;
}
/* Keyword.Type */
.highlight .m {
  color: #009999;
}
/* Literal.Number */
.highlight .s {
  color: #d01040;
}
/* Literal.String */
.highlight .na {
  color: #008080;
}
/* Name.Attribute */
.highlight .nb {
  color: #0086b3;
}
/* Name.Builtin */
.highlight .nc {
  color: #445588;
  font-weight: bold;
}
/* Name.Class */
.highlight .no {
  color: #008080;
}
/* Name.Constant */
.highlight .nd {
  color: #3c5d5d;
  font-weight: bold;
}
/* Name.Decorator */
.highlight .ni {
  color: #800080;
}
/* Name.Entity */
.highlight .ne {
  color: #990000;
  font-weight: bold;
}
/* Name.Exception */
.highlight .nf {
  color: #990000;
  font-weight: bold;
}
/* Name.Function */
.highlight .nl {
  color: #990000;
  font-weight: bold;
}
/* Name.Label */
.highlight .nn {
  color: black;
  font-weight: normal;
}
/* Name.Namespace */
.highlight .nt {
  color: #000080;
}
/* Name.Tag */
.highlight .nv {
  color: #008080;
}
/* Name.Variable */
.highlight .ow {
  color: #000000;
  font-weight: bold;
}
/* Operator.Word */
.highlight .w {
  color: #bbbbbb;
}
/* Text.Whitespace */
.highlight .mf {
  color: #009999;
}
/* Literal.Number.Float */
.highlight .mh {
  color: #009999;
}
/* Literal.Number.Hex */
.highlight .mi {
  color: #009999;
}
/* Literal.Number.Integer */
.highlight .mo {
  color: #009999;
}
/* Literal.Number.Oct */
.highlight .sb {
  color: #d01040;
}
/* Literal.String.Backtick */
.highlight .sc {
  color: #d01040;
}
/* Literal.String.Char */
.highlight .sd {
  color: #d01040;
}
/* Literal.String.Doc */
.highlight .s2 {
  color: #d01040;
}
/* Literal.String.Double */
.highlight .se {
  color: #d01040;
}
/* Literal.String.Escape */
.highlight .sh {
  color: #d01040;
}
/* Literal.String.Heredoc */
.highlight .si {
  color: #d01040;
}
/* Literal.String.Interpol */
.highlight .sx {
  color: #d01040;
}
/* Literal.String.Other */
.highlight .sr {
  color: #009926;
}
/* Literal.String.Regex */
.highlight .s1 {
  color: #d01040;
}
/* Literal.String.Single */
.highlight .ss {
  color: #990073;
}
/* Literal.String.Symbol */
.highlight .bp {
  color: #999999;
}
/* Name.Builtin.Pseudo */
.highlight .vc {
  color: #008080;
}
/* Name.Variable.Class */
.highlight .vg {
  color: #008080;
}
/* Name.Variable.Global */
.highlight .vi {
  color: #008080;
}
/* Name.Variable.Instance */
.highlight .il {
  color: #009999;
}
/* Literal.Number.Integer.Long */
div#maintoolbar {
  display: none !important;
}
body {
  font-family: "Open Sans", "Helvetica Neue", Helvetica, Arial, sans-serif;
  font-size: 16px;
  line-height: 1.42857143;
  color: #2c2c2c;
}
.rendered_html table,
.rendered_html th,
.rendered_html tr,
.rendered_html td {
  margin: 6px 0 13.5px;
  font-size: 15px;
  border-color: #ccc;
  max-width: 100%;
  text-align: left;
}
span.ansiblack {
  color: #2b303b;
}
span.ansiblue {
  color: #154ba1;
}
span.ansigray {
  color: #b4b7b4;
}
span.ansigreen {
  color: #2d6836;
}
span.ansipurple {
  color: #483d8b;
}
span.ansicyan {
  color: #1592a2;
}
span.ansiyellow {
  color: #92a215;
}
span.ansired {
  color: #b82a18;
}
div.output_html {
  color: #4c4c4c;
}
div.output_stderr {
  background-color: #DB797C;
}
div.output_stderr pre {
  color: #000000;
}
.cm-s-ipython.CodeMirror {
  background: #f6f6f6;
  color: #303030;
}
.cm-s-ipython div.CodeMirror-selected {
  background: #777777 !important;
}
.cm-s-ipython .CodeMirror-gutters {
  background: #cccccc;
  border: 0px;
  border-radius: 0px;
}
.cm-s-ipython .CodeMirror-linenumber {
  color: #666666 !important;
  font-size: 11pt;
}
.cm-s-ipython .CodeMirror-cursor {
  border-left: 2px solid #0095ff !important;
}
.cm-s-ipython span.cm-comment {
  color: #707070;
  font-style: italic !important;
}
.cm-s-ipython span.cm-atom {
  color: #F37F14;
}
.cm-s-ipython span.cm-number {
  color: #eb6a1a;
}
.cm-s-ipython span.cm-property {
  color: #de143d;
}
.cm-s-ipython span.cm-attribute {
  color: #de143d;
}
.cm-s-ipython span.cm-keyword {
  color: #F37F14;
  font-weight: normal;
}
.cm-s-ipython span.cm-string {
  color: #007f00;
  font-weight: normal;
}
.cm-s-ipython span.cm-operator {
  color: #055be0;
  font-weight: normal;
}
.cm-s-ipython span.cm-builtin {
  color: #de143d;
  font-weight: normal;
}
.cm-s-ipython span.cm-variable {
  color: #000000;
}
.cm-s-ipython span.cm-variable-2 {
  color: #de143d;
}
.cm-s-ipython span.cm-def {
  color: #055be0;
  font-weight: normal;
}
.cm-s-ipython span.cm-error {
  background: rgba(191, 97, 106, 0.3) !important;
}
.cm-s-ipython span.cm-tag {
  color: #F37F14;
}
.cm-s-ipython span.cm-link {
  color: #eb6a1a;
}
.cm-s-ipython span.cm-storage {
  color: #055be0;
}
.cm-s-ipython span.cm-entity {
  color: #de143d;
}
.cm-s-ipython span.cm-class {
  color: #e22978;
}
.cm-s-ipython span.cm-support {
  color: #de143d;
}
.cm-s-ipython span.cm-qualifier {
  color: #de143d;
}
/* Set CodeCell font-size*/
/*div.CodeMirror pre {font-size: 11pt !important;}*/
div.CodeMirror pre {
  line-height: 1.5 !important;
}
div.CodeMirror pre {
  font-family: 'Hack', monospace;
  font-size: 11pt;
}
div.CodeMirror span.CodeMirror-matchingbracket {
  color: #000000;
  background: rgba(53, 114, 198, 0.3) !important;
}
div.CodeMirror span.CodeMirror-nonmatchingbracket {
  color: #000000;
  background: rgba(191, 97, 106, 0.3) !important;
}
.cm-s-ipython .CodeMirror-matchingbracket {
  color: #000000;
  background: rgba(53, 114, 198, 0.3) !important;
}
.cm-s-ipython .CodeMirror-nonmatchingbracket {
  color: #000000;
  background: rgba(191, 97, 106, 0.3) !important;
}
/*Input and output cells formatting*/
div.prompt.input_prompt {
  font-family: 'Hack', monospace;
  border-right: 2px solid #428bca;
  font-weight: bold;
  font-size: 11pt;
  color: transparent;
  background-color: #ececed;
  width: 1em;
  padding-bottom: 0px;
  margin-bottom: 0px;
}
div.prompt.output_prompt {
  font-family: 'Hack', monospace;
  font-weight: bold;
  background-color: #ffffff;
  color: #ffffff;
  font-size: 9.5pt;
  width: 1em;
  margin-bottom: 8px;
  padding-top: 1em;
  padding-bottom: 1em;
}
div.out_prompt_overlay.prompt {
  font-family: 'Hack', monospace;
  font-weight: bold;
  font-size: 9.5pt;
  width: 1em;
  margin-bottom: 8px;
  background-color: #ffffff;
  border-radius: 4px;
  -webkit-border-radius: 4px;
  -moz-border-radius: 4px;
}
div.out_prompt_overlay.prompt:hover {
  font-family: 'Hack', monospace;
  font-weight: bold;
  font-size: 9.5pt;
  width: 1em;
  border-radius: 4px;
  margin-bottom: 8px;
  background-color: #ffffff;
  box-shadow: #e2e2e2 2px 2px 6px 4px inset;
  -webkit-border-radius: 4px;
  -moz-border-radius: 4px;
}
.prompt {
  min-width: 0px;
}
div.output_wrapper {
  background-color: #ffffff;
  margin-bottom: 0em;
  margin-top: 0em;
  border: 0px;
}
div.output_subarea.output_text.output_stream.output_stdout,
div.output_subarea.output_text {
  padding-top: 1em;
  margin-bottom: 8px;
  margin-top: 8px;
  margin-left: 8px;
  margin-right: 8px;
  background-color: #ffffff;
  color: #000000;
}
div.output_area pre {
  color: #000000;
  font-size: 10pt;
}
div.output_subarea {
  overflow-x: auto;
  padding: 1.0em;
  -webkit-box-flex: 1;
  -moz-box-flex: 1;
  box-flex: 1;
  flex: 1;
  max-width: calc(86%);
}
body {
  background-color: #f9f9f9;
}
a {
  color: #303030;
  font-family: 'Helvetica', sans-serif;
}
div#notebook,
div.CodeMirror,
div.output_area pre,
div.output_wrapper,
div.prompt,
div.CodeMirror pre {
  font-family: 'Hack', monospace;
  font-size: 11pt;
}
#notebook-container {
  padding: 0px;
  background-color: #f9f9f9;
  min-height: 0px;
  box-shadow: none;
}
.cell {
  padding: 0px;
}
.rendered_html pre,
.rendered_html code {
  color: #e54813;
  background-color: #f6f6f6;
  padding: 2px;
}

    </style>


<style type="text/css">
/* Overrides of notebook CSS for static HTML export */
body {
  overflow: visible;
  padding: 8px;
}

div#notebook {
  overflow: visible;
  border-top: none;
}

@media print {
  div.cell {
    display: block;
    page-break-inside: avoid;
  } 
  div.output_wrapper { 
    display: block;
    page-break-inside: avoid; 
  }
  div.output { 
    display: block;
    page-break-inside: avoid; 
  }
}
</style>

<!-- Custom stylesheet, it must be in the same directory as the html file -->
<link rel="stylesheet" href="custom.css">

<!-- Loading mathjax macro -->
<!-- Load mathjax -->
    <script src="https://cdn.mathjax.org/mathjax/latest/MathJax.js?config=TeX-AMS_HTML"></script>
    <!-- MathJax configuration -->
    <script type="text/x-mathjax-config">
    MathJax.Hub.Config({
        tex2jax: {
            inlineMath: [ ['$','$'], ["\\(","\\)"] ],
            displayMath: [ ['$$','$$'], ["\\[","\\]"] ],
            processEscapes: true,
            processEnvironments: true
        },
        // Center justify equations in code and markdown cells. Elsewhere
        // we use CSS to left justify single line equations in code cells.
        displayAlign: 'center',
        "HTML-CSS": {
            styles: {'.MathJax_Display': {"margin": 0}},
            linebreaks: { automatic: true }
        }
    });
    </script>
    <!-- End of mathjax configuration --></head>
<body>
  <div tabindex="-1" id="notebook" class="border-box-sizing">
    <div class="container" id="notebook-container">

<div class="cell border-box-sizing code_cell rendered">
<div class="input">
<div class="prompt input_prompt">In&nbsp;[1]:</div>
<div class="inner_cell">
    <div class="input_area">
<div class=" highlight hl-ipython2"><pre><span></span><span class="kn">from</span> <span class="nn">ggplot</span> <span class="kn">import</span> <span class="o">*</span>
<span class="o">%</span><span class="k">matplotlib</span> inline
</pre></div>

</div>
</div>
</div>

</div>
<div class="cell border-box-sizing code_cell rendered">
<div class="input">
<div class="prompt input_prompt">In&nbsp;[2]:</div>
<div class="inner_cell">
    <div class="input_area">
<div class=" highlight hl-ipython2"><pre><span></span><span class="n">ggplot</span><span class="p">(</span><span class="n">mtcars</span><span class="p">,</span> <span class="n">aes</span><span class="p">(</span><span class="n">x</span><span class="o">=</span><span class="s1">&#39;wt&#39;</span><span class="p">,</span> <span class="n">y</span><span class="o">=</span><span class="s1">&#39;mpg&#39;</span><span class="p">))</span> <span class="o">+</span> <span class="n">geom_point</span><span class="p">()</span>
</pre></div>

</div>
</div>
</div>

<div class="output_wrapper">
<div class="output">


<div class="output_area"><div class="prompt output_prompt">Out[2]:</div>


<div class="output_text output_subarea output_execute_result">
<pre>&lt;ggplot: (270692597)&gt;</pre>
</div>

</div>

<div class="output_area"><div class="prompt"></div>


<div class="output_png output_subarea ">
<img src="data:image/png;base64,iVBORw0KGgoAAAANSUhEUgAAAtsAAAIACAYAAABTiaBEAAAABHNCSVQICAgIfAhkiAAAAAlwSFlz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"
>
</div>

</div>

</div>
</div>

</div>
<div class="cell border-box-sizing code_cell rendered">
<div class="input">
<div class="prompt input_prompt">In&nbsp;[3]:</div>
<div class="inner_cell">
    <div class="input_area">
<div class=" highlight hl-ipython2"><pre><span></span><span class="n">ggplot</span><span class="p">(</span><span class="n">mtcars</span><span class="p">,</span> <span class="n">aes</span><span class="p">(</span><span class="n">x</span><span class="o">=</span><span class="s1">&#39;wt&#39;</span><span class="p">,</span> <span class="n">y</span><span class="o">=</span><span class="s1">&#39;mpg&#39;</span><span class="p">,</span> <span class="n">color</span><span class="o">=</span><span class="s1">&#39;cyl&#39;</span><span class="p">))</span> <span class="o">+</span> <span class="n">geom_point</span><span class="p">()</span>
</pre></div>

</div>
</div>
</div>

<div class="output_wrapper">
<div class="output">


<div class="output_area"><div class="prompt output_prompt">Out[3]:</div>


<div class="output_text output_subarea output_execute_result">
<pre>&lt;ggplot: (270692389)&gt;</pre>
</div>

</div>

<div class="output_area"><div class="prompt"></div>


<div class="output_png output_subarea ">
<img src="data:image/png;base64,iVBORw0KGgoAAAANSUhEUgAAAsYAAAIACAYAAACB2aocAAAABHNCSVQICAgIfAhkiAAAAAlwSFlz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==
"
>
</div>

</div>

</div>
</div>

</div>
<div class="cell border-box-sizing code_cell rendered">
<div class="input">
<div class="prompt input_prompt">In&nbsp;[4]:</div>
<div class="inner_cell">
    <div class="input_area">
<div class=" highlight hl-ipython2"><pre><span></span><span class="n">ggplot</span><span class="p">(</span><span class="n">mtcars</span><span class="p">,</span> <span class="n">aes</span><span class="p">(</span><span class="n">x</span><span class="o">=</span><span class="s1">&#39;wt&#39;</span><span class="p">,</span> <span class="n">y</span><span class="o">=</span><span class="s1">&#39;mpg&#39;</span><span class="p">,</span> <span class="n">shape</span><span class="o">=</span><span class="s1">&#39;factor(cyl)&#39;</span><span class="p">))</span> <span class="o">+</span> <span class="n">geom_point</span><span class="p">()</span>
</pre></div>

</div>
</div>
</div>

<div class="output_wrapper">
<div class="output">


<div class="output_area"><div class="prompt output_prompt">Out[4]:</div>


<div class="output_text output_subarea output_execute_result">
<pre>&lt;ggplot: (288552509)&gt;</pre>
</div>

</div>

<div class="output_area"><div class="prompt"></div>


<div class="output_png output_subarea ">
<img src="data:image/png;base64,iVBORw0KGgoAAAANSUhEUgAAAuQAAAIACAYAAADKcXnxAAAABHNCSVQICAgIfAhkiAAAAAlwSFlz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"
>
</div>

</div>

</div>
</div>

</div>
<div class="cell border-box-sizing code_cell rendered">
<div class="input">
<div class="prompt input_prompt">In&nbsp;[5]:</div>
<div class="inner_cell">
    <div class="input_area">
<div class=" highlight hl-ipython2"><pre><span></span><span class="n">ggplot</span><span class="p">(</span><span class="n">diamonds</span><span class="p">,</span> <span class="n">aes</span><span class="p">(</span><span class="n">x</span><span class="o">=</span><span class="s1">&#39;carat&#39;</span><span class="p">,</span> <span class="n">y</span><span class="o">=</span><span class="s1">&#39;price&#39;</span><span class="p">))</span> <span class="o">+</span> <span class="n">geom_point</span><span class="p">()</span>
</pre></div>

</div>
</div>
</div>

<div class="output_wrapper">
<div class="output">


<div class="output_area"><div class="prompt output_prompt">Out[5]:</div>


<div class="output_text output_subarea output_execute_result">
<pre>&lt;ggplot: (288322773)&gt;</pre>
</div>

</div>

<div class="output_area"><div class="prompt"></div>


<div class="output_png output_subarea ">
<img src="data:image/png;base64,iVBORw0KGgoAAAANSUhEUgAAAtsAAAIACAYAAABTiaBEAAAABHNCSVQICAgIfAhkiAAAAAlwSFlz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"
>
</div>

</div>

</div>
</div>

</div>
<div class="cell border-box-sizing code_cell rendered">
<div class="input">
<div class="prompt input_prompt">In&nbsp;[6]:</div>
<div class="inner_cell">
    <div class="input_area">
<div class=" highlight hl-ipython2"><pre><span></span><span class="n">ggplot</span><span class="p">(</span><span class="n">diamonds</span><span class="p">,</span> <span class="n">aes</span><span class="p">(</span><span class="n">x</span><span class="o">=</span><span class="s1">&#39;carat&#39;</span><span class="p">,</span> <span class="n">y</span><span class="o">=</span><span class="s1">&#39;price&#39;</span><span class="p">))</span> <span class="o">+</span> <span class="n">geom_point</span><span class="p">(</span><span class="n">color</span><span class="o">=</span><span class="s1">&#39;steelblue&#39;</span><span class="p">)</span>
</pre></div>

</div>
</div>
</div>

<div class="output_wrapper">
<div class="output">


<div class="output_area"><div class="prompt output_prompt">Out[6]:</div>


<div class="output_text output_subarea output_execute_result">
<pre>&lt;ggplot: (288424913)&gt;</pre>
</div>

</div>

<div class="output_area"><div class="prompt"></div>


<div class="output_png output_subarea ">
<img src="data:image/png;base64,iVBORw0KGgoAAAANSUhEUgAAAtsAAAIACAYAAABTiaBEAAAABHNCSVQICAgIfAhkiAAAAAlwSFlz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"
>
</div>

</div>

</div>
</div>

</div>
<div class="cell border-box-sizing code_cell rendered">
<div class="input">
<div class="prompt input_prompt">In&nbsp;[7]:</div>
<div class="inner_cell">
    <div class="input_area">
<div class=" highlight hl-ipython2"><pre><span></span><span class="n">ggplot</span><span class="p">(</span><span class="n">diamonds</span><span class="p">,</span> <span class="n">aes</span><span class="p">(</span><span class="n">x</span><span class="o">=</span><span class="s1">&#39;carat&#39;</span><span class="p">,</span> <span class="n">y</span><span class="o">=</span><span class="s1">&#39;price&#39;</span><span class="p">))</span> <span class="o">+</span> <span class="n">geom_point</span><span class="p">(</span><span class="n">alpha</span><span class="o">=</span><span class="mi">1</span><span class="o">/</span><span class="mf">100.</span><span class="p">)</span>
</pre></div>

</div>
</div>
</div>

<div class="output_wrapper">
<div class="output">


<div class="output_area"><div class="prompt output_prompt">Out[7]:</div>


<div class="output_text output_subarea output_execute_result">
<pre>&lt;ggplot: (289115305)&gt;</pre>
</div>

</div>

<div class="output_area"><div class="prompt"></div>


<div class="output_png output_subarea ">
<img src="data:image/png;base64,iVBORw0KGgoAAAANSUhEUgAAAtsAAAIACAYAAABTiaBEAAAABHNCSVQICAgIfAhkiAAAAAlwSFlz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"
>
</div>

</div>

</div>
</div>

</div>
<div class="cell border-box-sizing code_cell rendered">
<div class="input">
<div class="prompt input_prompt">In&nbsp;[8]:</div>
<div class="inner_cell">
    <div class="input_area">
<div class=" highlight hl-ipython2"><pre><span></span><span class="n">ggplot</span><span class="p">(</span><span class="n">diamonds</span><span class="p">,</span> <span class="n">aes</span><span class="p">(</span><span class="n">x</span><span class="o">=</span><span class="s1">&#39;carat&#39;</span><span class="p">,</span> <span class="n">y</span><span class="o">=</span><span class="s1">&#39;price&#39;</span><span class="p">))</span> <span class="o">+</span> <span class="n">geom_point</span><span class="p">(</span><span class="n">alpha</span><span class="o">=</span><span class="mi">1</span><span class="o">/</span><span class="mf">100.</span><span class="p">)</span> <span class="o">+</span> <span class="n">stat_smooth</span><span class="p">()</span>
</pre></div>

</div>
</div>
</div>

<div class="output_wrapper">
<div class="output">


<div class="output_area"><div class="prompt output_prompt">Out[8]:</div>


<div class="output_text output_subarea output_execute_result">
<pre>&lt;ggplot: (288827973)&gt;</pre>
</div>

</div>

<div class="output_area"><div class="prompt"></div>


<div class="output_png output_subarea ">
<img src="data:image/png;base64,iVBORw0KGgoAAAANSUhEUgAAAtsAAAIACAYAAABTiaBEAAAABHNCSVQICAgIfAhkiAAAAAlwSFlz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==
"
>
</div>

</div>

</div>
</div>

</div>
<div class="cell border-box-sizing code_cell rendered">
<div class="input">
<div class="prompt input_prompt">In&nbsp;[10]:</div>
<div class="inner_cell">
    <div class="input_area">
<div class=" highlight hl-ipython2"><pre><span></span><span class="n">ggplot</span><span class="p">(</span><span class="n">mpg</span><span class="p">,</span> <span class="n">aes</span><span class="p">(</span><span class="n">x</span><span class="o">=</span><span class="s1">&#39;year&#39;</span><span class="p">,</span> <span class="n">y</span><span class="o">=</span><span class="s1">&#39;hwy&#39;</span><span class="p">,</span> <span class="n">color</span><span class="o">=</span><span class="s1">&#39;class&#39;</span><span class="p">))</span> <span class="o">+</span> <span class="n">geom_point</span><span class="p">()</span>
</pre></div>

</div>
</div>
</div>

<div class="output_wrapper">
<div class="output">


<div class="output_area"><div class="prompt output_prompt">Out[10]:</div>


<div class="output_text output_subarea output_execute_result">
<pre>&lt;ggplot: (296611705)&gt;</pre>
</div>

</div>

<div class="output_area"><div class="prompt"></div>


<div class="output_png output_subarea ">
<img src="data:image/png;base64,iVBORw0KGgoAAAANSUhEUgAAAuwAAAIACAYAAADZpjkFAAAABHNCSVQICAgIfAhkiAAAAAlwSFlz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"
>
</div>

</div>

</div>
</div>

</div>
<div class="cell border-box-sizing code_cell rendered">
<div class="input">
<div class="prompt input_prompt">In&nbsp;[12]:</div>
<div class="inner_cell">
    <div class="input_area">
<div class=" highlight hl-ipython2"><pre><span></span><span class="n">ggplot</span><span class="p">(</span><span class="n">mpg</span><span class="p">,</span> <span class="n">aes</span><span class="p">(</span><span class="n">x</span><span class="o">=</span><span class="s1">&#39;cty&#39;</span><span class="p">,</span> <span class="n">y</span><span class="o">=</span><span class="s1">&#39;hwy&#39;</span><span class="p">,</span> <span class="n">color</span><span class="o">=</span><span class="s1">&#39;class&#39;</span><span class="p">))</span> <span class="o">+</span> <span class="n">geom_point</span><span class="p">()</span>
</pre></div>

</div>
</div>
</div>

<div class="output_wrapper">
<div class="output">


<div class="output_area"><div class="prompt output_prompt">Out[12]:</div>


<div class="output_text output_subarea output_execute_result">
<pre>&lt;ggplot: (288707325)&gt;</pre>
</div>

</div>

<div class="output_area"><div class="prompt"></div>


<div class="output_png output_subarea ">
<img src="data:image/png;base64,iVBORw0KGgoAAAANSUhEUgAAAuwAAAIACAYAAADZpjkFAAAABHNCSVQICAgIfAhkiAAAAAlwSFlz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==
"
>
</div>

</div>

</div>
</div>

</div>
<div class="cell border-box-sizing code_cell rendered">
<div class="input">
<div class="prompt input_prompt">In&nbsp;[&nbsp;]:</div>
<div class="inner_cell">
    <div class="input_area">
<div class=" highlight hl-ipython2"><pre><span></span><span class="n">ggplot</span><span class="p">(</span><span class="n">mpg</span><span class="p">,</span> <span class="n">aes</span><span class="p">(</span><span class="n">x</span><span class="o">=</span><span class="s1">&#39;cty&#39;</span><span class="p">,</span> <span class="n">y</span><span class="o">=</span><span class="s1">&#39;hwy&#39;</span><span class="p">,</span> <span class="n">color</span><span class="o">=</span><span class="s1">&#39;class&#39;</span><span class="p">))</span> <span class="o">+</span> <span class="n">geom_point</span><span class="p">()</span>
</pre></div>

</div>
</div>
</div>

</div>
    </div>
  </div>
</body>
</html>
